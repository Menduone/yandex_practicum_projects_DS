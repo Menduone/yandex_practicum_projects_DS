{
 "cells": [
  {
   "cell_type": "markdown",
   "metadata": {
    "toc": true
   },
   "source": [
    "<h1>Содержание<span class=\"tocSkip\"></span></h1>\n",
    "<div class=\"toc\"><ul class=\"toc-item\"><li><span><a href=\"#Подготовка\" data-toc-modified-id=\"Подготовка-1\"><span class=\"toc-item-num\">1&nbsp;&nbsp;</span>Подготовка</a></span><ul class=\"toc-item\"><li><span><a href=\"#Примечание\" data-toc-modified-id=\"Примечание-1.1\"><span class=\"toc-item-num\">1.1&nbsp;&nbsp;</span><strong>Примечание</strong></a></span></li><li><span><a href=\"#Вывод\" data-toc-modified-id=\"Вывод-1.2\"><span class=\"toc-item-num\">1.2&nbsp;&nbsp;</span>Вывод</a></span></li></ul></li><li><span><a href=\"#Обучение\" data-toc-modified-id=\"Обучение-2\"><span class=\"toc-item-num\">2&nbsp;&nbsp;</span>Обучение</a></span><ul class=\"toc-item\"><li><span><a href=\"#Сначала-проверим,-какое-значение-f1-выдают-данные-БЕЗ-учета-баланса\" data-toc-modified-id=\"Сначала-проверим,-какое-значение-f1-выдают-данные-БЕЗ-учета-баланса-2.1\"><span class=\"toc-item-num\">2.1&nbsp;&nbsp;</span>Сначала проверим, какое значение f1 выдают данные БЕЗ учета баланса</a></span></li><li><span><a href=\"#С-учетом-баланса\" data-toc-modified-id=\"С-учетом-баланса-2.2\"><span class=\"toc-item-num\">2.2&nbsp;&nbsp;</span>С учетом баланса</a></span></li><li><span><a href=\"#Вывод\" data-toc-modified-id=\"Вывод-2.3\"><span class=\"toc-item-num\">2.3&nbsp;&nbsp;</span>Вывод</a></span></li></ul></li><li><span><a href=\"#Финальное-тестирование\" data-toc-modified-id=\"Финальное-тестирование-3\"><span class=\"toc-item-num\">3&nbsp;&nbsp;</span>Финальное тестирование</a></span></li><li><span><a href=\"#Вывод\" data-toc-modified-id=\"Вывод-4\"><span class=\"toc-item-num\">4&nbsp;&nbsp;</span>Вывод</a></span></li><li><span><a href=\"#Чек-лист-проверки\" data-toc-modified-id=\"Чек-лист-проверки-5\"><span class=\"toc-item-num\">5&nbsp;&nbsp;</span>Чек-лист проверки</a></span></li></ul></div>"
   ]
  },
  {
   "cell_type": "markdown",
   "metadata": {},
   "source": [
    "# Описание проекта\n",
    "\n",
    "**Проект для «Викишоп»**"
   ]
  },
  {
   "cell_type": "markdown",
   "metadata": {},
   "source": [
    "Интернет-магазин «Викишоп» запускает новый сервис. Теперь пользователи могут редактировать и дополнять описания товаров, как в вики-сообществах. То есть клиенты предлагают свои правки и комментируют изменения других. Магазину нужен инструмент, который будет искать токсичные комментарии и отправлять их на модерацию. \n",
    "\n",
    "Обучим модель классифицировать комментарии на позитивные и негативные. В нашем распоряжении набор данных с разметкой о токсичности правок.\n",
    "\n",
    "Построим модель со значением метрики качества `F1` не меньше **0.75**. \n",
    "\n",
    "**Инструкция по выполнению проекта**\n",
    "\n",
    "* Загрузим и подготовим данные;\n",
    "* Обучим разные модели;\n",
    "* Сделаем выводы\n",
    "\n",
    "Для выполнения проекта применять *BERT* **необязательно**"
   ]
  },
  {
   "cell_type": "markdown",
   "metadata": {},
   "source": [
    "## Подготовка"
   ]
  },
  {
   "cell_type": "code",
   "execution_count": 1,
   "metadata": {},
   "outputs": [
    {
     "name": "stdout",
     "output_type": "stream",
     "text": [
      "Requirement already satisfied: spacy in /opt/conda/lib/python3.9/site-packages (3.2.0)\n",
      "Requirement already satisfied: blis<0.8.0,>=0.4.0 in /opt/conda/lib/python3.9/site-packages (from spacy) (0.7.8)\n",
      "Requirement already satisfied: pathy>=0.3.5 in /opt/conda/lib/python3.9/site-packages (from spacy) (0.6.2)\n",
      "Requirement already satisfied: numpy>=1.15.0 in /opt/conda/lib/python3.9/site-packages (from spacy) (1.21.1)\n",
      "Requirement already satisfied: spacy-legacy<3.1.0,>=3.0.8 in /opt/conda/lib/python3.9/site-packages (from spacy) (3.0.10)\n",
      "Requirement already satisfied: wasabi<1.1.0,>=0.8.1 in /opt/conda/lib/python3.9/site-packages (from spacy) (0.10.1)\n",
      "Requirement already satisfied: langcodes<4.0.0,>=3.2.0 in /opt/conda/lib/python3.9/site-packages (from spacy) (3.3.0)\n",
      "Requirement already satisfied: preshed<3.1.0,>=3.0.2 in /opt/conda/lib/python3.9/site-packages (from spacy) (3.0.7)\n",
      "Requirement already satisfied: catalogue<2.1.0,>=2.0.6 in /opt/conda/lib/python3.9/site-packages (from spacy) (2.0.8)\n",
      "Requirement already satisfied: spacy-loggers<2.0.0,>=1.0.0 in /opt/conda/lib/python3.9/site-packages (from spacy) (1.0.3)\n",
      "Requirement already satisfied: murmurhash<1.1.0,>=0.28.0 in /opt/conda/lib/python3.9/site-packages (from spacy) (1.0.8)\n",
      "Requirement already satisfied: tqdm<5.0.0,>=4.38.0 in /opt/conda/lib/python3.9/site-packages (from spacy) (4.61.2)\n",
      "Requirement already satisfied: packaging>=20.0 in /opt/conda/lib/python3.9/site-packages (from spacy) (21.3)\n",
      "Requirement already satisfied: srsly<3.0.0,>=2.4.1 in /opt/conda/lib/python3.9/site-packages (from spacy) (2.4.4)\n",
      "Requirement already satisfied: thinc<8.1.0,>=8.0.12 in /opt/conda/lib/python3.9/site-packages (from spacy) (8.0.17)\n",
      "Requirement already satisfied: typer<0.5.0,>=0.3.0 in /opt/conda/lib/python3.9/site-packages (from spacy) (0.4.2)\n",
      "Requirement already satisfied: setuptools in /opt/conda/lib/python3.9/site-packages (from spacy) (49.6.0.post20210108)\n",
      "Requirement already satisfied: pydantic!=1.8,!=1.8.1,<1.9.0,>=1.7.4 in /opt/conda/lib/python3.9/site-packages (from spacy) (1.8.2)\n",
      "Requirement already satisfied: cymem<2.1.0,>=2.0.2 in /opt/conda/lib/python3.9/site-packages (from spacy) (2.0.6)\n",
      "Requirement already satisfied: requests<3.0.0,>=2.13.0 in /opt/conda/lib/python3.9/site-packages (from spacy) (2.25.1)\n",
      "Requirement already satisfied: jinja2 in /opt/conda/lib/python3.9/site-packages (from spacy) (3.0.1)\n",
      "Requirement already satisfied: pyparsing!=3.0.5,>=2.0.2 in /opt/conda/lib/python3.9/site-packages (from packaging>=20.0->spacy) (2.4.7)\n",
      "Requirement already satisfied: smart-open<6.0.0,>=5.2.1 in /opt/conda/lib/python3.9/site-packages (from pathy>=0.3.5->spacy) (5.2.1)\n",
      "Requirement already satisfied: typing-extensions>=3.7.4.3 in /opt/conda/lib/python3.9/site-packages (from pydantic!=1.8,!=1.8.1,<1.9.0,>=1.7.4->spacy) (4.3.0)\n",
      "Requirement already satisfied: chardet<5,>=3.0.2 in /opt/conda/lib/python3.9/site-packages (from requests<3.0.0,>=2.13.0->spacy) (4.0.0)\n",
      "Requirement already satisfied: certifi>=2017.4.17 in /opt/conda/lib/python3.9/site-packages (from requests<3.0.0,>=2.13.0->spacy) (2022.6.15)\n",
      "Requirement already satisfied: urllib3<1.27,>=1.21.1 in /opt/conda/lib/python3.9/site-packages (from requests<3.0.0,>=2.13.0->spacy) (1.26.6)\n",
      "Requirement already satisfied: idna<3,>=2.5 in /opt/conda/lib/python3.9/site-packages (from requests<3.0.0,>=2.13.0->spacy) (2.10)\n",
      "Requirement already satisfied: click<9.0.0,>=7.1.1 in /opt/conda/lib/python3.9/site-packages (from typer<0.5.0,>=0.3.0->spacy) (8.1.3)\n",
      "Requirement already satisfied: MarkupSafe>=2.0 in /opt/conda/lib/python3.9/site-packages (from jinja2->spacy) (2.1.1)\n",
      "Collecting en-core-web-sm==3.2.0\n",
      "  Downloading https://github.com/explosion/spacy-models/releases/download/en_core_web_sm-3.2.0/en_core_web_sm-3.2.0-py3-none-any.whl (13.9 MB)\n",
      "\u001b[K     |████████████████████████████████| 13.9 MB 1.7 MB/s eta 0:00:01\n",
      "\u001b[?25hRequirement already satisfied: spacy<3.3.0,>=3.2.0 in /opt/conda/lib/python3.9/site-packages (from en-core-web-sm==3.2.0) (3.2.0)\n",
      "Requirement already satisfied: catalogue<2.1.0,>=2.0.6 in /opt/conda/lib/python3.9/site-packages (from spacy<3.3.0,>=3.2.0->en-core-web-sm==3.2.0) (2.0.8)\n",
      "Requirement already satisfied: preshed<3.1.0,>=3.0.2 in /opt/conda/lib/python3.9/site-packages (from spacy<3.3.0,>=3.2.0->en-core-web-sm==3.2.0) (3.0.7)\n",
      "Requirement already satisfied: numpy>=1.15.0 in /opt/conda/lib/python3.9/site-packages (from spacy<3.3.0,>=3.2.0->en-core-web-sm==3.2.0) (1.21.1)\n",
      "Requirement already satisfied: spacy-legacy<3.1.0,>=3.0.8 in /opt/conda/lib/python3.9/site-packages (from spacy<3.3.0,>=3.2.0->en-core-web-sm==3.2.0) (3.0.10)\n",
      "Requirement already satisfied: blis<0.8.0,>=0.4.0 in /opt/conda/lib/python3.9/site-packages (from spacy<3.3.0,>=3.2.0->en-core-web-sm==3.2.0) (0.7.8)\n",
      "Requirement already satisfied: setuptools in /opt/conda/lib/python3.9/site-packages (from spacy<3.3.0,>=3.2.0->en-core-web-sm==3.2.0) (49.6.0.post20210108)\n",
      "Requirement already satisfied: thinc<8.1.0,>=8.0.12 in /opt/conda/lib/python3.9/site-packages (from spacy<3.3.0,>=3.2.0->en-core-web-sm==3.2.0) (8.0.17)\n",
      "Requirement already satisfied: packaging>=20.0 in /opt/conda/lib/python3.9/site-packages (from spacy<3.3.0,>=3.2.0->en-core-web-sm==3.2.0) (21.3)\n",
      "Requirement already satisfied: tqdm<5.0.0,>=4.38.0 in /opt/conda/lib/python3.9/site-packages (from spacy<3.3.0,>=3.2.0->en-core-web-sm==3.2.0) (4.61.2)\n",
      "Requirement already satisfied: wasabi<1.1.0,>=0.8.1 in /opt/conda/lib/python3.9/site-packages (from spacy<3.3.0,>=3.2.0->en-core-web-sm==3.2.0) (0.10.1)\n",
      "Requirement already satisfied: langcodes<4.0.0,>=3.2.0 in /opt/conda/lib/python3.9/site-packages (from spacy<3.3.0,>=3.2.0->en-core-web-sm==3.2.0) (3.3.0)\n",
      "Requirement already satisfied: pathy>=0.3.5 in /opt/conda/lib/python3.9/site-packages (from spacy<3.3.0,>=3.2.0->en-core-web-sm==3.2.0) (0.6.2)\n",
      "Requirement already satisfied: typer<0.5.0,>=0.3.0 in /opt/conda/lib/python3.9/site-packages (from spacy<3.3.0,>=3.2.0->en-core-web-sm==3.2.0) (0.4.2)\n",
      "Requirement already satisfied: spacy-loggers<2.0.0,>=1.0.0 in /opt/conda/lib/python3.9/site-packages (from spacy<3.3.0,>=3.2.0->en-core-web-sm==3.2.0) (1.0.3)\n",
      "Requirement already satisfied: jinja2 in /opt/conda/lib/python3.9/site-packages (from spacy<3.3.0,>=3.2.0->en-core-web-sm==3.2.0) (3.0.1)\n",
      "Requirement already satisfied: cymem<2.1.0,>=2.0.2 in /opt/conda/lib/python3.9/site-packages (from spacy<3.3.0,>=3.2.0->en-core-web-sm==3.2.0) (2.0.6)\n",
      "Requirement already satisfied: pydantic!=1.8,!=1.8.1,<1.9.0,>=1.7.4 in /opt/conda/lib/python3.9/site-packages (from spacy<3.3.0,>=3.2.0->en-core-web-sm==3.2.0) (1.8.2)\n",
      "Requirement already satisfied: murmurhash<1.1.0,>=0.28.0 in /opt/conda/lib/python3.9/site-packages (from spacy<3.3.0,>=3.2.0->en-core-web-sm==3.2.0) (1.0.8)\n",
      "Requirement already satisfied: requests<3.0.0,>=2.13.0 in /opt/conda/lib/python3.9/site-packages (from spacy<3.3.0,>=3.2.0->en-core-web-sm==3.2.0) (2.25.1)\n",
      "Requirement already satisfied: srsly<3.0.0,>=2.4.1 in /opt/conda/lib/python3.9/site-packages (from spacy<3.3.0,>=3.2.0->en-core-web-sm==3.2.0) (2.4.4)\n",
      "Requirement already satisfied: pyparsing!=3.0.5,>=2.0.2 in /opt/conda/lib/python3.9/site-packages (from packaging>=20.0->spacy<3.3.0,>=3.2.0->en-core-web-sm==3.2.0) (2.4.7)\n",
      "Requirement already satisfied: smart-open<6.0.0,>=5.2.1 in /opt/conda/lib/python3.9/site-packages (from pathy>=0.3.5->spacy<3.3.0,>=3.2.0->en-core-web-sm==3.2.0) (5.2.1)\n",
      "Requirement already satisfied: typing-extensions>=3.7.4.3 in /opt/conda/lib/python3.9/site-packages (from pydantic!=1.8,!=1.8.1,<1.9.0,>=1.7.4->spacy<3.3.0,>=3.2.0->en-core-web-sm==3.2.0) (4.3.0)\n",
      "Requirement already satisfied: chardet<5,>=3.0.2 in /opt/conda/lib/python3.9/site-packages (from requests<3.0.0,>=2.13.0->spacy<3.3.0,>=3.2.0->en-core-web-sm==3.2.0) (4.0.0)\n",
      "Requirement already satisfied: urllib3<1.27,>=1.21.1 in /opt/conda/lib/python3.9/site-packages (from requests<3.0.0,>=2.13.0->spacy<3.3.0,>=3.2.0->en-core-web-sm==3.2.0) (1.26.6)\n",
      "Requirement already satisfied: certifi>=2017.4.17 in /opt/conda/lib/python3.9/site-packages (from requests<3.0.0,>=2.13.0->spacy<3.3.0,>=3.2.0->en-core-web-sm==3.2.0) (2022.6.15)\n",
      "Requirement already satisfied: idna<3,>=2.5 in /opt/conda/lib/python3.9/site-packages (from requests<3.0.0,>=2.13.0->spacy<3.3.0,>=3.2.0->en-core-web-sm==3.2.0) (2.10)\n",
      "Requirement already satisfied: click<9.0.0,>=7.1.1 in /opt/conda/lib/python3.9/site-packages (from typer<0.5.0,>=0.3.0->spacy<3.3.0,>=3.2.0->en-core-web-sm==3.2.0) (8.1.3)\n",
      "Requirement already satisfied: MarkupSafe>=2.0 in /opt/conda/lib/python3.9/site-packages (from jinja2->spacy<3.3.0,>=3.2.0->en-core-web-sm==3.2.0) (2.1.1)\n",
      "\u001b[38;5;2m✔ Download and installation successful\u001b[0m\n",
      "You can now load the package via spacy.load('en_core_web_sm')\n"
     ]
    }
   ],
   "source": [
    "import pandas as pd\n",
    "import matplotlib.pyplot as plt\n",
    "import sys\n",
    "import spacy\n",
    "import re\n",
    "from sklearn.model_selection import train_test_split\n",
    "from sklearn.feature_extraction.text import TfidfVectorizer\n",
    "from sklearn.linear_model import LogisticRegression\n",
    "from sklearn.metrics import f1_score\n",
    "from sklearn.metrics import accuracy_score\n",
    "from sklearn.model_selection import GridSearchCV\n",
    "from sklearn.metrics import confusion_matrix\n",
    "from sklearn.ensemble import RandomForestClassifier\n",
    "from catboost import CatBoostClassifier\n",
    "from lightgbm import LGBMClassifier\n",
    "from sklearn.utils import shuffle\n",
    "!{sys.executable} -m pip install spacy\n",
    "!{sys.executable} -m spacy download en_core_web_sm"
   ]
  },
  {
   "cell_type": "code",
   "execution_count": 2,
   "metadata": {},
   "outputs": [
    {
     "data": {
      "text/html": [
       "<div>\n",
       "<style scoped>\n",
       "    .dataframe tbody tr th:only-of-type {\n",
       "        vertical-align: middle;\n",
       "    }\n",
       "\n",
       "    .dataframe tbody tr th {\n",
       "        vertical-align: top;\n",
       "    }\n",
       "\n",
       "    .dataframe thead th {\n",
       "        text-align: right;\n",
       "    }\n",
       "</style>\n",
       "<table border=\"1\" class=\"dataframe\">\n",
       "  <thead>\n",
       "    <tr style=\"text-align: right;\">\n",
       "      <th></th>\n",
       "      <th>Unnamed: 0</th>\n",
       "      <th>text</th>\n",
       "      <th>toxic</th>\n",
       "    </tr>\n",
       "  </thead>\n",
       "  <tbody>\n",
       "    <tr>\n",
       "      <th>0</th>\n",
       "      <td>0</td>\n",
       "      <td>Explanation\\nWhy the edits made under my usern...</td>\n",
       "      <td>0</td>\n",
       "    </tr>\n",
       "    <tr>\n",
       "      <th>1</th>\n",
       "      <td>1</td>\n",
       "      <td>D'aww! He matches this background colour I'm s...</td>\n",
       "      <td>0</td>\n",
       "    </tr>\n",
       "    <tr>\n",
       "      <th>2</th>\n",
       "      <td>2</td>\n",
       "      <td>Hey man, I'm really not trying to edit war. It...</td>\n",
       "      <td>0</td>\n",
       "    </tr>\n",
       "    <tr>\n",
       "      <th>3</th>\n",
       "      <td>3</td>\n",
       "      <td>\"\\nMore\\nI can't make any real suggestions on ...</td>\n",
       "      <td>0</td>\n",
       "    </tr>\n",
       "    <tr>\n",
       "      <th>4</th>\n",
       "      <td>4</td>\n",
       "      <td>You, sir, are my hero. Any chance you remember...</td>\n",
       "      <td>0</td>\n",
       "    </tr>\n",
       "  </tbody>\n",
       "</table>\n",
       "</div>"
      ],
      "text/plain": [
       "   Unnamed: 0                                               text  toxic\n",
       "0           0  Explanation\\nWhy the edits made under my usern...      0\n",
       "1           1  D'aww! He matches this background colour I'm s...      0\n",
       "2           2  Hey man, I'm really not trying to edit war. It...      0\n",
       "3           3  \"\\nMore\\nI can't make any real suggestions on ...      0\n",
       "4           4  You, sir, are my hero. Any chance you remember...      0"
      ]
     },
     "execution_count": 2,
     "metadata": {},
     "output_type": "execute_result"
    }
   ],
   "source": [
    "data = pd.read_csv('/datasets/toxic_comments.csv')\n",
    "data.head()"
   ]
  },
  {
   "cell_type": "markdown",
   "metadata": {},
   "source": [
    "**Описание данных**\n",
    "\n",
    "* Столбец `text` в нём содержит текст комментария; \n",
    "* `toxic` — целевой признак\n",
    "\n",
    "**Выведем общую информацию по датасету**"
   ]
  },
  {
   "cell_type": "code",
   "execution_count": 3,
   "metadata": {
    "scrolled": false
   },
   "outputs": [
    {
     "name": "stdout",
     "output_type": "stream",
     "text": [
      "data\n"
     ]
    },
    {
     "data": {
      "text/html": [
       "<div>\n",
       "<style scoped>\n",
       "    .dataframe tbody tr th:only-of-type {\n",
       "        vertical-align: middle;\n",
       "    }\n",
       "\n",
       "    .dataframe tbody tr th {\n",
       "        vertical-align: top;\n",
       "    }\n",
       "\n",
       "    .dataframe thead th {\n",
       "        text-align: right;\n",
       "    }\n",
       "</style>\n",
       "<table border=\"1\" class=\"dataframe\">\n",
       "  <thead>\n",
       "    <tr style=\"text-align: right;\">\n",
       "      <th></th>\n",
       "      <th>Unnamed: 0</th>\n",
       "      <th>text</th>\n",
       "      <th>toxic</th>\n",
       "    </tr>\n",
       "  </thead>\n",
       "  <tbody>\n",
       "    <tr>\n",
       "      <th>0</th>\n",
       "      <td>0</td>\n",
       "      <td>Explanation\\nWhy the edits made under my usern...</td>\n",
       "      <td>0</td>\n",
       "    </tr>\n",
       "    <tr>\n",
       "      <th>1</th>\n",
       "      <td>1</td>\n",
       "      <td>D'aww! He matches this background colour I'm s...</td>\n",
       "      <td>0</td>\n",
       "    </tr>\n",
       "    <tr>\n",
       "      <th>2</th>\n",
       "      <td>2</td>\n",
       "      <td>Hey man, I'm really not trying to edit war. It...</td>\n",
       "      <td>0</td>\n",
       "    </tr>\n",
       "    <tr>\n",
       "      <th>3</th>\n",
       "      <td>3</td>\n",
       "      <td>\"\\nMore\\nI can't make any real suggestions on ...</td>\n",
       "      <td>0</td>\n",
       "    </tr>\n",
       "    <tr>\n",
       "      <th>4</th>\n",
       "      <td>4</td>\n",
       "      <td>You, sir, are my hero. Any chance you remember...</td>\n",
       "      <td>0</td>\n",
       "    </tr>\n",
       "  </tbody>\n",
       "</table>\n",
       "</div>"
      ],
      "text/plain": [
       "   Unnamed: 0                                               text  toxic\n",
       "0           0  Explanation\\nWhy the edits made under my usern...      0\n",
       "1           1  D'aww! He matches this background colour I'm s...      0\n",
       "2           2  Hey man, I'm really not trying to edit war. It...      0\n",
       "3           3  \"\\nMore\\nI can't make any real suggestions on ...      0\n",
       "4           4  You, sir, are my hero. Any chance you remember...      0"
      ]
     },
     "metadata": {},
     "output_type": "display_data"
    },
    {
     "name": "stdout",
     "output_type": "stream",
     "text": [
      "Размер data: (159292, 3)\n",
      "\n",
      "Информация о data:\n",
      "\n",
      "<class 'pandas.core.frame.DataFrame'>\n",
      "RangeIndex: 159292 entries, 0 to 159291\n",
      "Data columns (total 3 columns):\n",
      " #   Column      Non-Null Count   Dtype \n",
      "---  ------      --------------   ----- \n",
      " 0   Unnamed: 0  159292 non-null  int64 \n",
      " 1   text        159292 non-null  object\n",
      " 2   toxic       159292 non-null  int64 \n",
      "dtypes: int64(2), object(1)\n",
      "memory usage: 3.6+ MB\n"
     ]
    },
    {
     "data": {
      "text/plain": [
       "None"
      ]
     },
     "metadata": {},
     "output_type": "display_data"
    },
    {
     "data": {
      "text/html": [
       "<div>\n",
       "<style scoped>\n",
       "    .dataframe tbody tr th:only-of-type {\n",
       "        vertical-align: middle;\n",
       "    }\n",
       "\n",
       "    .dataframe tbody tr th {\n",
       "        vertical-align: top;\n",
       "    }\n",
       "\n",
       "    .dataframe thead th {\n",
       "        text-align: right;\n",
       "    }\n",
       "</style>\n",
       "<table border=\"1\" class=\"dataframe\">\n",
       "  <thead>\n",
       "    <tr style=\"text-align: right;\">\n",
       "      <th></th>\n",
       "      <th>Unnamed: 0</th>\n",
       "      <th>toxic</th>\n",
       "    </tr>\n",
       "  </thead>\n",
       "  <tbody>\n",
       "    <tr>\n",
       "      <th>count</th>\n",
       "      <td>159292.000000</td>\n",
       "      <td>159292.000000</td>\n",
       "    </tr>\n",
       "    <tr>\n",
       "      <th>mean</th>\n",
       "      <td>79725.697242</td>\n",
       "      <td>0.101612</td>\n",
       "    </tr>\n",
       "    <tr>\n",
       "      <th>std</th>\n",
       "      <td>46028.837471</td>\n",
       "      <td>0.302139</td>\n",
       "    </tr>\n",
       "    <tr>\n",
       "      <th>min</th>\n",
       "      <td>0.000000</td>\n",
       "      <td>0.000000</td>\n",
       "    </tr>\n",
       "    <tr>\n",
       "      <th>25%</th>\n",
       "      <td>39872.750000</td>\n",
       "      <td>0.000000</td>\n",
       "    </tr>\n",
       "    <tr>\n",
       "      <th>50%</th>\n",
       "      <td>79721.500000</td>\n",
       "      <td>0.000000</td>\n",
       "    </tr>\n",
       "    <tr>\n",
       "      <th>75%</th>\n",
       "      <td>119573.250000</td>\n",
       "      <td>0.000000</td>\n",
       "    </tr>\n",
       "    <tr>\n",
       "      <th>max</th>\n",
       "      <td>159450.000000</td>\n",
       "      <td>1.000000</td>\n",
       "    </tr>\n",
       "  </tbody>\n",
       "</table>\n",
       "</div>"
      ],
      "text/plain": [
       "          Unnamed: 0          toxic\n",
       "count  159292.000000  159292.000000\n",
       "mean    79725.697242       0.101612\n",
       "std     46028.837471       0.302139\n",
       "min         0.000000       0.000000\n",
       "25%     39872.750000       0.000000\n",
       "50%     79721.500000       0.000000\n",
       "75%    119573.250000       0.000000\n",
       "max    159450.000000       1.000000"
      ]
     },
     "metadata": {},
     "output_type": "display_data"
    },
    {
     "name": "stdout",
     "output_type": "stream",
     "text": [
      "Кол-во пропущенных значений в data:\n"
     ]
    },
    {
     "data": {
      "text/plain": [
       "Unnamed: 0    0\n",
       "text          0\n",
       "toxic         0\n",
       "dtype: int64"
      ]
     },
     "metadata": {},
     "output_type": "display_data"
    },
    {
     "name": "stdout",
     "output_type": "stream",
     "text": [
      "\n",
      "Кол-во дубликатов в data: 0\n"
     ]
    }
   ],
   "source": [
    "def my_info(x, y):  # аргумент x примет значение сохраненного датасета в переменной;\n",
    "                    # аргумент y примет описательный характер датасета, по которому будет описываться информация\n",
    "    print(y)\n",
    "    display(x.head())\n",
    "    print(f'Размер {y}: {x.shape}')\n",
    "    print()\n",
    "    print(f'Информация о {y}:')\n",
    "    print()\n",
    "    display(x.info())\n",
    "    display(x.describe())\n",
    "    print(f'Кол-во пропущенных значений в {y}:') \n",
    "    display(x.isna().sum())\n",
    "    print()\n",
    "    print(f'Кол-во дубликатов в {y}: {x.duplicated().sum()}')\n",
    "    \n",
    "my_info(data, 'data')"
   ]
  },
  {
   "cell_type": "markdown",
   "metadata": {},
   "source": [
    "**С данными все в порядке**, если не учесть то, что нужно избавиться от лишних символов в колонке `'text'`. Правда столбец `'Unnamed: 0'` не особо нужен, в дальнейшем очистим\n",
    "\n",
    "Мы импортировали библиотеку **sys**, чтобы через нее загрузить **spacy** и модель **en_code_web_sm**. \n",
    "\n",
    "**spacy** по умолчанию определяет часть речи и назначает соответствующую лемму, а также гораздо быстрее выполняет без всяких дополнений `'part-of-speech'(POS)`"
   ]
  },
  {
   "cell_type": "code",
   "execution_count": 4,
   "metadata": {},
   "outputs": [],
   "source": [
    "#!{sys.executable} -m pip install spacy\n",
    "#!{sys.executable} -m spacy download en_core_web_sm"
   ]
  },
  {
   "cell_type": "markdown",
   "metadata": {},
   "source": [
    "Создаем функцию для очистки лишних символов с помощью регулярного выражения. С помощью **re.sub()** передаем паттерн, в котором исключены все буквы в англ. алфавите, с использованием знака **`^`**, заменяя все символы на пробелы, которые не входят в этот алфавит"
   ]
  },
  {
   "cell_type": "code",
   "execution_count": 5,
   "metadata": {},
   "outputs": [],
   "source": [
    "def clear_text(text):\n",
    "    clear = re.sub(r'[^a-zA-Z]', ' ', text)\n",
    "\n",
    "    return ' '.join(clear.split())"
   ]
  },
  {
   "cell_type": "markdown",
   "metadata": {},
   "source": [
    "Теперь инициализируем **spacy** модель `'en_core_web_sm'`, передав в переменную **nlp**, при этом сохранив только теги, которые нужны для лемматизации. \n",
    "\n",
    "* Создаем новый признак с названием `'lemm_text'`, внедряя в колонку с текстом `'text'` анонимную функцию с извлеченной леммой для каждого токена;\n",
    "* При этом применяем регулярные выражения, то есть функцию `clear_text(text)`;\n",
    "* Также внедряем условие добавление токенов обратно в строку, только если оно не является стоп словом методом `is_stop`"
   ]
  },
  {
   "cell_type": "code",
   "execution_count": 6,
   "metadata": {},
   "outputs": [
    {
     "name": "stdout",
     "output_type": "stream",
     "text": [
      "CPU times: user 435 ms, sys: 49.8 ms, total: 485 ms\n",
      "Wall time: 597 ms\n"
     ]
    }
   ],
   "source": [
    "%%time\n",
    "\n",
    "nlp = spacy.load('en_core_web_sm', disable=['parser', 'ner'])\n",
    "\n",
    "#data['lemm_text'] = data['text'].apply(lambda x: ' '.join([token.lemma_ for token in nlp(clear_text(x)) if not token.is_stop]))"
   ]
  },
  {
   "cell_type": "code",
   "execution_count": 7,
   "metadata": {},
   "outputs": [],
   "source": [
    "#data.to_csv('lemmatized_toxic_comments2.csv', index=False)"
   ]
  },
  {
   "cell_type": "markdown",
   "metadata": {},
   "source": [
    "### **Примечание**\n",
    "\n",
    "Сохранили новую колонку в датасете. Теперь, чтобы не запускать снова трудоемкий процесс очистки и лемматизации (**при рестарте**), сохраняем новый датасет в формат **csv** с названием `lemmatized_toxic_comments2.csv`. \n",
    "\n",
    "Вводим константу **LOAD_LEMM_TEXT_CSV**, которая при значении **`False`** выведет процесс очистки и лемматизации, который и привел к новому файлу `'lemmatized_toxic_comments2.csv'`\n",
    "\n",
    "`(при сдаче проекта укажем значение False)`"
   ]
  },
  {
   "cell_type": "code",
   "execution_count": 7,
   "metadata": {
    "scrolled": true
   },
   "outputs": [
    {
     "data": {
      "text/html": [
       "<div>\n",
       "<style scoped>\n",
       "    .dataframe tbody tr th:only-of-type {\n",
       "        vertical-align: middle;\n",
       "    }\n",
       "\n",
       "    .dataframe tbody tr th {\n",
       "        vertical-align: top;\n",
       "    }\n",
       "\n",
       "    .dataframe thead th {\n",
       "        text-align: right;\n",
       "    }\n",
       "</style>\n",
       "<table border=\"1\" class=\"dataframe\">\n",
       "  <thead>\n",
       "    <tr style=\"text-align: right;\">\n",
       "      <th></th>\n",
       "      <th>Unnamed: 0</th>\n",
       "      <th>text</th>\n",
       "      <th>toxic</th>\n",
       "      <th>lemm_text</th>\n",
       "    </tr>\n",
       "  </thead>\n",
       "  <tbody>\n",
       "    <tr>\n",
       "      <th>0</th>\n",
       "      <td>0</td>\n",
       "      <td>Explanation\\nWhy the edits made under my usern...</td>\n",
       "      <td>0</td>\n",
       "      <td>explanation edit username Hardcore Metallica F...</td>\n",
       "    </tr>\n",
       "    <tr>\n",
       "      <th>1</th>\n",
       "      <td>1</td>\n",
       "      <td>D'aww! He matches this background colour I'm s...</td>\n",
       "      <td>0</td>\n",
       "      <td>d aww match background colour m seemingly stuc...</td>\n",
       "    </tr>\n",
       "    <tr>\n",
       "      <th>2</th>\n",
       "      <td>2</td>\n",
       "      <td>Hey man, I'm really not trying to edit war. It...</td>\n",
       "      <td>0</td>\n",
       "      <td>hey man m try edit war s guy constantly remove...</td>\n",
       "    </tr>\n",
       "    <tr>\n",
       "      <th>3</th>\n",
       "      <td>3</td>\n",
       "      <td>\"\\nMore\\nI can't make any real suggestions on ...</td>\n",
       "      <td>0</td>\n",
       "      <td>t real suggestion improvement wonder section s...</td>\n",
       "    </tr>\n",
       "    <tr>\n",
       "      <th>4</th>\n",
       "      <td>4</td>\n",
       "      <td>You, sir, are my hero. Any chance you remember...</td>\n",
       "      <td>0</td>\n",
       "      <td>sir hero chance remember page s</td>\n",
       "    </tr>\n",
       "  </tbody>\n",
       "</table>\n",
       "</div>"
      ],
      "text/plain": [
       "   Unnamed: 0                                               text  toxic  \\\n",
       "0           0  Explanation\\nWhy the edits made under my usern...      0   \n",
       "1           1  D'aww! He matches this background colour I'm s...      0   \n",
       "2           2  Hey man, I'm really not trying to edit war. It...      0   \n",
       "3           3  \"\\nMore\\nI can't make any real suggestions on ...      0   \n",
       "4           4  You, sir, are my hero. Any chance you remember...      0   \n",
       "\n",
       "                                           lemm_text  \n",
       "0  explanation edit username Hardcore Metallica F...  \n",
       "1  d aww match background colour m seemingly stuc...  \n",
       "2  hey man m try edit war s guy constantly remove...  \n",
       "3  t real suggestion improvement wonder section s...  \n",
       "4                    sir hero chance remember page s  "
      ]
     },
     "metadata": {},
     "output_type": "display_data"
    },
    {
     "name": "stdout",
     "output_type": "stream",
     "text": [
      "CPU times: user 16min 38s, sys: 2.15 s, total: 16min 40s\n",
      "Wall time: 19min 1s\n"
     ]
    }
   ],
   "source": [
    "%%time\n",
    "\n",
    "LOAD_LEMM_TEXT_CSV = False\n",
    "\n",
    "if LOAD_LEMM_TEXT_CSV:\n",
    "    data = pd.read_csv('lemmatized_toxic_comments2.csv')\n",
    "else:\n",
    "    data['lemm_text'] = data['text'].apply(lambda x: ' '.join([token.lemma_ for token in nlp(clear_text(x)) if not token.is_stop]))\n",
    "    \n",
    "display(data.head())"
   ]
  },
  {
   "cell_type": "markdown",
   "metadata": {},
   "source": [
    "Удалим не совсем нужные для дальнейшего анализа колонки"
   ]
  },
  {
   "cell_type": "code",
   "execution_count": 8,
   "metadata": {},
   "outputs": [
    {
     "data": {
      "text/html": [
       "<div>\n",
       "<style scoped>\n",
       "    .dataframe tbody tr th:only-of-type {\n",
       "        vertical-align: middle;\n",
       "    }\n",
       "\n",
       "    .dataframe tbody tr th {\n",
       "        vertical-align: top;\n",
       "    }\n",
       "\n",
       "    .dataframe thead th {\n",
       "        text-align: right;\n",
       "    }\n",
       "</style>\n",
       "<table border=\"1\" class=\"dataframe\">\n",
       "  <thead>\n",
       "    <tr style=\"text-align: right;\">\n",
       "      <th></th>\n",
       "      <th>toxic</th>\n",
       "      <th>lemm_text</th>\n",
       "    </tr>\n",
       "  </thead>\n",
       "  <tbody>\n",
       "    <tr>\n",
       "      <th>0</th>\n",
       "      <td>0</td>\n",
       "      <td>explanation edit username Hardcore Metallica F...</td>\n",
       "    </tr>\n",
       "    <tr>\n",
       "      <th>1</th>\n",
       "      <td>0</td>\n",
       "      <td>d aww match background colour m seemingly stuc...</td>\n",
       "    </tr>\n",
       "    <tr>\n",
       "      <th>2</th>\n",
       "      <td>0</td>\n",
       "      <td>hey man m try edit war s guy constantly remove...</td>\n",
       "    </tr>\n",
       "    <tr>\n",
       "      <th>3</th>\n",
       "      <td>0</td>\n",
       "      <td>t real suggestion improvement wonder section s...</td>\n",
       "    </tr>\n",
       "    <tr>\n",
       "      <th>4</th>\n",
       "      <td>0</td>\n",
       "      <td>sir hero chance remember page s</td>\n",
       "    </tr>\n",
       "  </tbody>\n",
       "</table>\n",
       "</div>"
      ],
      "text/plain": [
       "   toxic                                          lemm_text\n",
       "0      0  explanation edit username Hardcore Metallica F...\n",
       "1      0  d aww match background colour m seemingly stuc...\n",
       "2      0  hey man m try edit war s guy constantly remove...\n",
       "3      0  t real suggestion improvement wonder section s...\n",
       "4      0                    sir hero chance remember page s"
      ]
     },
     "execution_count": 8,
     "metadata": {},
     "output_type": "execute_result"
    }
   ],
   "source": [
    "data_lemm = data.drop(['Unnamed: 0', 'text'], axis=1).reset_index(drop=True)\n",
    "data_lemm.head()"
   ]
  },
  {
   "cell_type": "markdown",
   "metadata": {},
   "source": [
    "* **Так как модели бустинга далее не смогут принять такое кол-во данных (по крайней мере очень долго обучаться), урежем данные примерно в 3 раза с фиксированным `random_state`, чтобы образцы брались равномерно со всего датасета.**\n",
    "* Копируем датафрейм, чтобы сравнить размеры сокращенных и исходных данных"
   ]
  },
  {
   "cell_type": "code",
   "execution_count": 9,
   "metadata": {},
   "outputs": [
    {
     "data": {
      "text/html": [
       "<div>\n",
       "<style scoped>\n",
       "    .dataframe tbody tr th:only-of-type {\n",
       "        vertical-align: middle;\n",
       "    }\n",
       "\n",
       "    .dataframe tbody tr th {\n",
       "        vertical-align: top;\n",
       "    }\n",
       "\n",
       "    .dataframe thead th {\n",
       "        text-align: right;\n",
       "    }\n",
       "</style>\n",
       "<table border=\"1\" class=\"dataframe\">\n",
       "  <thead>\n",
       "    <tr style=\"text-align: right;\">\n",
       "      <th></th>\n",
       "      <th>toxic</th>\n",
       "      <th>lemm_text</th>\n",
       "    </tr>\n",
       "  </thead>\n",
       "  <tbody>\n",
       "    <tr>\n",
       "      <th>0</th>\n",
       "      <td>0</td>\n",
       "      <td>Expert categorizer mention fact Nazis particul...</td>\n",
       "    </tr>\n",
       "    <tr>\n",
       "      <th>1</th>\n",
       "      <td>1</td>\n",
       "      <td>noise fart talk</td>\n",
       "    </tr>\n",
       "    <tr>\n",
       "      <th>2</th>\n",
       "      <td>0</td>\n",
       "      <td>indefinite block appropriate minor infraction ...</td>\n",
       "    </tr>\n",
       "    <tr>\n",
       "      <th>3</th>\n",
       "      <td>0</td>\n",
       "      <td>don t understand screenshot AP s GUI UB remedy</td>\n",
       "    </tr>\n",
       "    <tr>\n",
       "      <th>4</th>\n",
       "      <td>0</td>\n",
       "      <td>hello people place thing write article Nikolas...</td>\n",
       "    </tr>\n",
       "  </tbody>\n",
       "</table>\n",
       "</div>"
      ],
      "text/plain": [
       "   toxic                                          lemm_text\n",
       "0      0  Expert categorizer mention fact Nazis particul...\n",
       "1      1                                    noise fart talk\n",
       "2      0  indefinite block appropriate minor infraction ...\n",
       "3      0     don t understand screenshot AP s GUI UB remedy\n",
       "4      0  hello people place thing write article Nikolas..."
      ]
     },
     "metadata": {},
     "output_type": "display_data"
    },
    {
     "data": {
      "text/plain": [
       "(47788, 2)"
      ]
     },
     "metadata": {},
     "output_type": "display_data"
    },
    {
     "data": {
      "text/plain": [
       "(159292, 2)"
      ]
     },
     "execution_count": 9,
     "metadata": {},
     "output_type": "execute_result"
    }
   ],
   "source": [
    "data_lemm_copy = data_lemm.copy()\n",
    "\n",
    "data_lemm = data_lemm.sample(frac=0.3, random_state=12345).reset_index(drop=True)\n",
    "display(data_lemm.head())\n",
    "display(data_lemm.shape)\n",
    "data_lemm_copy.shape"
   ]
  },
  {
   "cell_type": "code",
   "execution_count": 10,
   "metadata": {},
   "outputs": [],
   "source": [
    "features = data_lemm.drop('toxic', axis=1)\n",
    "target = data_lemm['toxic']"
   ]
  },
  {
   "cell_type": "markdown",
   "metadata": {},
   "source": [
    "* Разделим признаки на обучающую и тестовую;"
   ]
  },
  {
   "cell_type": "code",
   "execution_count": 11,
   "metadata": {},
   "outputs": [
    {
     "name": "stdout",
     "output_type": "stream",
     "text": [
      "Train: (35841, 1), (35841,)\n",
      "Test: (11947, 1), (11947,)\n"
     ]
    }
   ],
   "source": [
    "features_train, features_test, target_train, target_test = train_test_split(features, target, test_size=0.25, \n",
    "                                                                            random_state=12345)\n",
    "\n",
    "print(f'Train: {features_train.shape}, {target_train.shape}')\n",
    "print(f'Test: {features_test.shape}, {target_test.shape}')"
   ]
  },
  {
   "cell_type": "markdown",
   "metadata": {},
   "source": [
    "Проверим, какое соотношение между классами **0** и **1**. Смотреть будем на обучающей и тестовой выборках, используя метод вывода относительных частот `.value_counts(normalize=True)`"
   ]
  },
  {
   "cell_type": "code",
   "execution_count": 12,
   "metadata": {},
   "outputs": [
    {
     "data": {
      "text/html": [
       "<div>\n",
       "<style scoped>\n",
       "    .dataframe tbody tr th:only-of-type {\n",
       "        vertical-align: middle;\n",
       "    }\n",
       "\n",
       "    .dataframe tbody tr th {\n",
       "        vertical-align: top;\n",
       "    }\n",
       "\n",
       "    .dataframe thead th {\n",
       "        text-align: right;\n",
       "    }\n",
       "</style>\n",
       "<table border=\"1\" class=\"dataframe\">\n",
       "  <thead>\n",
       "    <tr style=\"text-align: right;\">\n",
       "      <th></th>\n",
       "      <th>toxic</th>\n",
       "    </tr>\n",
       "  </thead>\n",
       "  <tbody>\n",
       "    <tr>\n",
       "      <th>0</th>\n",
       "      <td>0.897241</td>\n",
       "    </tr>\n",
       "    <tr>\n",
       "      <th>1</th>\n",
       "      <td>0.102759</td>\n",
       "    </tr>\n",
       "  </tbody>\n",
       "</table>\n",
       "</div>"
      ],
      "text/plain": [
       "      toxic\n",
       "0  0.897241\n",
       "1  0.102759"
      ]
     },
     "metadata": {},
     "output_type": "display_data"
    },
    {
     "data": {
      "image/png": "[encoded data removed]",
      "text/plain": [
       "<Figure size 288x288 with 1 Axes>"
      ]
     },
     "metadata": {
      "needs_background": "light"
     },
     "output_type": "display_data"
    }
   ],
   "source": [
    "ttvc = target_train.value_counts(normalize=True).to_frame()\n",
    "display(ttvc)\n",
    "ttvc.plot(kind='bar', figsize=(4, 4))\n",
    "plt.title('Таблица баланса классов на обучающей выборке', fontweight='bold');"
   ]
  },
  {
   "cell_type": "code",
   "execution_count": 13,
   "metadata": {},
   "outputs": [
    {
     "data": {
      "text/html": [
       "<div>\n",
       "<style scoped>\n",
       "    .dataframe tbody tr th:only-of-type {\n",
       "        vertical-align: middle;\n",
       "    }\n",
       "\n",
       "    .dataframe tbody tr th {\n",
       "        vertical-align: top;\n",
       "    }\n",
       "\n",
       "    .dataframe thead th {\n",
       "        text-align: right;\n",
       "    }\n",
       "</style>\n",
       "<table border=\"1\" class=\"dataframe\">\n",
       "  <thead>\n",
       "    <tr style=\"text-align: right;\">\n",
       "      <th></th>\n",
       "      <th>toxic</th>\n",
       "    </tr>\n",
       "  </thead>\n",
       "  <tbody>\n",
       "    <tr>\n",
       "      <th>0</th>\n",
       "      <td>0.899138</td>\n",
       "    </tr>\n",
       "    <tr>\n",
       "      <th>1</th>\n",
       "      <td>0.100862</td>\n",
       "    </tr>\n",
       "  </tbody>\n",
       "</table>\n",
       "</div>"
      ],
      "text/plain": [
       "      toxic\n",
       "0  0.899138\n",
       "1  0.100862"
      ]
     },
     "metadata": {},
     "output_type": "display_data"
    },
    {
     "data": {
      "image/png": "[encoded data removed]",
      "text/plain": [
       "<Figure size 288x288 with 1 Axes>"
      ]
     },
     "metadata": {
      "needs_background": "light"
     },
     "output_type": "display_data"
    }
   ],
   "source": [
    "ttevc = target_test.value_counts(normalize=True).to_frame()\n",
    "display(ttevc)\n",
    "ttevc.plot(kind='bar', figsize=(4, 4))\n",
    "plt.title('Таблица баланса классов на тестовой выборке', fontweight='bold');"
   ]
  },
  {
   "cell_type": "markdown",
   "metadata": {},
   "source": [
    "**Наблюдается явный дисбаланс классов** на двух выборках. Если мы будем прогнозировать, что все комментарии негативные, то в почти **90%** будем правы. Чтобы этого избежать, применим технику **upsampling** и **downsampling** - увеличения и уменьшения меньшего и большего класса соответственно\n",
    "\n",
    "\n",
    "**Техника `upsampling`:**\n",
    "\n",
    "* Разделим обучающую выборку на отрицательные и положительные объекты;\n",
    "* Скопируем несколько раз положительные объекты;\n",
    "* С учётом полученных данных создадим новую обучающую выборку;\n",
    "* Перемешаем данные"
   ]
  },
  {
   "cell_type": "code",
   "execution_count": 14,
   "metadata": {},
   "outputs": [
    {
     "data": {
      "text/plain": [
       "1    0.507572\n",
       "0    0.492428\n",
       "Name: toxic, dtype: float64"
      ]
     },
     "metadata": {},
     "output_type": "display_data"
    }
   ],
   "source": [
    "def upsample(features, target, repeat):\n",
    "    \n",
    "    features_zero = features[target==0]\n",
    "    features_one = features[target==1]\n",
    "    target_zero = target[target==0]\n",
    "    target_one = target[target==1]\n",
    "    \n",
    "    features_upsampled = pd.concat([features_zero] + [features_one] * repeat)\n",
    "    target_upsampled = pd.concat([target_zero] + [target_one] * repeat)\n",
    "    \n",
    "    features_upsampled, target_upsampled = shuffle(features_upsampled, target_upsampled, random_state=12345)\n",
    "    \n",
    "    return features_upsampled, target_upsampled\n",
    "    \n",
    "features_upsampled, target_upsampled = upsample(features_train, target_train, 9)\n",
    "display(target_upsampled.value_counts(normalize=True))"
   ]
  },
  {
   "cell_type": "markdown",
   "metadata": {},
   "source": [
    "* Увеличили класс \"1\" в **9 раз**\n",
    "\n",
    "**Методика уменьшения отрицательного класса**\n",
    "\n",
    "* Разделяем обучающую выборку на отрицательные и положительные объекты;\n",
    "* Случайным образом отбросываем часть из отрицательных объектов;\n",
    "* С учётом полученных данных создаем новую обучающую выборку;\n",
    "* Перемешиваем данные"
   ]
  },
  {
   "cell_type": "code",
   "execution_count": 15,
   "metadata": {},
   "outputs": [
    {
     "data": {
      "text/plain": [
       "1    0.510111\n",
       "0    0.489889\n",
       "Name: toxic, dtype: float64"
      ]
     },
     "metadata": {},
     "output_type": "display_data"
    }
   ],
   "source": [
    "def downsample(features, target, fraction):\n",
    "    features_zeros = features[target == 0]\n",
    "    features_ones = features[target == 1]\n",
    "    target_zeros = target[target == 0]\n",
    "    target_ones = target[target == 1]\n",
    "\n",
    "    features_downsampled = pd.concat([features_zeros.sample(frac=fraction, random_state=12345)] + [features_ones])\n",
    "    target_downsampled = pd.concat([target_zeros.sample(frac=fraction, random_state=12345)] + [target_ones])\n",
    "    \n",
    "    features_downsampled, target_downsampled = shuffle(features_downsampled, target_downsampled, random_state=12345)\n",
    "    \n",
    "    return features_downsampled, target_downsampled\n",
    "    \n",
    "features_downsampled, target_downsampled = downsample(features_train, target_train, 0.11)\n",
    "display(target_downsampled.value_counts(normalize=True))"
   ]
  },
  {
   "cell_type": "markdown",
   "metadata": {},
   "source": [
    "* Теперь создадим корпусы текстов, передав массив из значений признака `'lemm_text'` на разных выборках, сделав при этом **unicode** тип данных;\n",
    "* Применим технику **TF-IDF** для векторизации, чтобы передать в дальнейшем моделяем на обучение"
   ]
  },
  {
   "cell_type": "code",
   "execution_count": 17,
   "metadata": {},
   "outputs": [],
   "source": [
    "corpus_train = features_train['lemm_text'].values.astype('U')\n",
    "corpus_test = features_test['lemm_text'].values.astype('U')\n",
    "corpus_up = features_upsampled['lemm_text'].values.astype('U')\n",
    "corpus_down = features_downsampled['lemm_text'].values.astype('U')"
   ]
  },
  {
   "cell_type": "code",
   "execution_count": 18,
   "metadata": {},
   "outputs": [
    {
     "data": {
      "text/plain": [
       "(35841, 64121)"
      ]
     },
     "metadata": {},
     "output_type": "display_data"
    },
    {
     "data": {
      "text/plain": [
       "(35841,)"
      ]
     },
     "metadata": {},
     "output_type": "display_data"
    },
    {
     "data": {
      "text/plain": [
       "(11947, 64121)"
      ]
     },
     "metadata": {},
     "output_type": "display_data"
    },
    {
     "data": {
      "text/plain": [
       "(11947,)"
      ]
     },
     "execution_count": 18,
     "metadata": {},
     "output_type": "execute_result"
    }
   ],
   "source": [
    "#corpus_train = features_train['lemm_text'].values.astype('U')\n",
    "\n",
    "count_tfidf = TfidfVectorizer()\n",
    "\n",
    "features_train_tfidf = count_tfidf.fit_transform(corpus_train)\n",
    "features_test_tfidf = count_tfidf.transform(corpus_test)\n",
    "\n",
    "\n",
    "display(features_train_tfidf.shape)\n",
    "display(target_train.shape)\n",
    "display(features_test_tfidf.shape)\n",
    "target_test.shape"
   ]
  },
  {
   "cell_type": "code",
   "execution_count": 19,
   "metadata": {},
   "outputs": [
    {
     "name": "stdout",
     "output_type": "stream",
     "text": [
      "DOWN: (7220, 22038), (7220,)\n",
      "test down: (11947, 22038), (11947,)\n"
     ]
    }
   ],
   "source": [
    "features_down_tfidf = count_tfidf.fit_transform(corpus_down)\n",
    "features_test_down_tfidf = count_tfidf.transform(corpus_test)\n",
    "\n",
    "print(f'DOWN: {features_down_tfidf.shape}, {target_downsampled.shape}')\n",
    "print(f'test down: {features_test_down_tfidf.shape}, {target_test.shape}')"
   ]
  },
  {
   "cell_type": "code",
   "execution_count": 20,
   "metadata": {
    "scrolled": true
   },
   "outputs": [
    {
     "name": "stdout",
     "output_type": "stream",
     "text": [
      "UP: (65305, 64121), (65305,)\n",
      "test up: (11947, 64121), (11947,)\n"
     ]
    }
   ],
   "source": [
    "features_up_tfidf = count_tfidf.fit_transform(corpus_up)\n",
    "features_test_up_tfidf = count_tfidf.transform(corpus_test)\n",
    "\n",
    "print(f'UP: {features_up_tfidf.shape}, {target_upsampled.shape}')\n",
    "print(f'test up: {features_test_up_tfidf.shape}, {target_test.shape}')"
   ]
  },
  {
   "cell_type": "markdown",
   "metadata": {},
   "source": [
    "### Вывод\n",
    "\n",
    "* Были успешно загружены данные;\n",
    "* Рассмотрели данные при помощи функции `my_info()`;\n",
    "* Далее загрузили библиотеку **spacy**, а также модель **en_core_web_sm**;\n",
    "* Создали функции для очистки от лишних символов **clear_text(text)**, которую внедрили в анонимную функцию **lambda x**;\n",
    "* Внутри этой функции мы лемматизировали и очистили текст, и **добавили** обратно в строку только те **токены**, которые **не являются стоп словами** с помощью метода `is_stop`;\n",
    "* Сохранили файл с готовыми данными для обучения моделей в новой **csv** файле `lemmatized_toxic_comments2.csv`;\n",
    "* Удалили не подходящие для дальнейшего анализа признаки;\n",
    "* **Были урезаны данные**, чтобы модели смогли обучиться быстрее, но чтобы данных было достаточно, чтобы обучить качественную модель;\n",
    "* **Разделили выборки** на обучающую и тестовую в размере **3:1**;\n",
    "* Создали функции **upsample** и **downsample** для использования техники увеличения и уменьшения, чтобы сбалансировать классы;\n",
    "* Создали корпусы текстов на выборках выборок, чтобы передать его на векторизацию;\n",
    "* Произвели векторизацию при помощи класса **TfidfVectorizer()**"
   ]
  },
  {
   "cell_type": "markdown",
   "metadata": {},
   "source": [
    "## Обучение\n",
    "\n",
    "Теперь приступаем к обучению моделей\n",
    "\n",
    "Параметры будем подбирать с помощью **GridSearchCV**\n",
    "\n",
    "В задаче сказано, что для `обучения моделей классифицировать комментарии на позитивные и негативные применятся метрика` **f1**. Значение метрики **f1** должно быть `не меньше` **0.75**"
   ]
  },
  {
   "cell_type": "markdown",
   "metadata": {},
   "source": [
    "* Создаем функцию для рассчитывания параметров и лучшего значения для **f1**. Считать будем при помощи **`GridSearchCV()`**. Эта техника обучает модель с заданными нами в перечни параметрами, из которых выберет лучшие для встроенной расчетной метрики **f1**, используя кросс валидацию, так как большая выборка (после проведем финальную проверку на тестовой). \n",
    "\n",
    "\n",
    "* Лучшее значение **f1** выводим с помощью атрибута `.best_score_`, а лучшие параметры с помощью `.best_params_`\n",
    "\n",
    "На вход функция принимает **6 аргументов**: `сама модель`, `перечень параметров`, `признаки`, `целевой признак`, `название модели` и `примечание про использование баланса/дисбаланса`. С ее помощью мы найдем лучшие гиперпараметры для значения **f1**"
   ]
  },
  {
   "cell_type": "code",
   "execution_count": 21,
   "metadata": {},
   "outputs": [],
   "source": [
    "def best_model(model, params, features, target, model_name, describe):\n",
    "    \n",
    "    cvs = GridSearchCV(model, params, scoring='f1', cv=5)\n",
    "    \n",
    "    cvs.fit(features, target)\n",
    "    \n",
    "    print(f'Лучшие параметры модели {model_name} {describe}: {cvs.best_params_}')\n",
    "    print()\n",
    "    print(f'Лучший f1 модели {model_name} {describe}: {round(abs(cvs.best_score_), 4)}')\n",
    "    print()\n",
    "    \n",
    "    f1 = cvs.best_score_\n",
    "    \n",
    "    return f1"
   ]
  },
  {
   "cell_type": "markdown",
   "metadata": {},
   "source": [
    "* Для проверки баланса предсказания, вводим функцию частоты `class_frequency` для подсчета относительных частот. Переводим таблицу в тип `Series`, чтобы смогла `value_counts(normalize=True)` выявить классы;\n",
    "\n",
    "\n",
    "* Выводим **матрицу ошибок** `confusion_matrix` для проверки баланса"
   ]
  },
  {
   "cell_type": "code",
   "execution_count": 22,
   "metadata": {},
   "outputs": [],
   "source": [
    "def class_frequency(model, features, target, model_name):\n",
    "    \n",
    "    model.fit(features, target)\n",
    "    pred = model.predict(features)\n",
    "    \n",
    "    print(f'Относительные частоты модели {model_name} для проверки баланса:')\n",
    "    print(pd.Series(pred).value_counts(normalize=True))\n",
    "    print()\n",
    "    print('Матрица ошибок для выявления баланса')\n",
    "    print(confusion_matrix(target, pred))"
   ]
  },
  {
   "cell_type": "markdown",
   "metadata": {},
   "source": [
    "### Сначала проверим, какое значение f1 выдают данные БЕЗ учета баланса\n",
    "\n",
    "**Проверим `Логистическую Регрессию`**"
   ]
  },
  {
   "cell_type": "code",
   "execution_count": 23,
   "metadata": {},
   "outputs": [
    {
     "name": "stdout",
     "output_type": "stream",
     "text": [
      "Лучшие параметры модели Логистической Регрессии : {'max_iter': 1000, 'solver': 'liblinear'}\n",
      "\n",
      "Лучший f1 модели Логистической Регрессии : 0.6214\n",
      "\n",
      "0.6214096326583632\n",
      "CPU times: user 40.3 s, sys: 57.1 s, total: 1min 37s\n",
      "Wall time: 1min 37s\n"
     ]
    }
   ],
   "source": [
    "%%time\n",
    "\n",
    "model_lr = LogisticRegression(random_state=12345)\n",
    "\n",
    "params_lr = {'solver': ['lbfgs', 'liblinear'], 'max_iter': range(1000, 1001)}\n",
    "\n",
    "f1_lr_train = best_model(model_lr, params_lr, features_train_tfidf, target_train, 'Логистической Регрессии', '')\n",
    "print(f1_lr_train)"
   ]
  },
  {
   "cell_type": "code",
   "execution_count": 24,
   "metadata": {},
   "outputs": [
    {
     "name": "stdout",
     "output_type": "stream",
     "text": [
      "Относительные частоты модели Логистической Регрессии (без учета баланса) для проверки баланса:\n",
      "0    0.942775\n",
      "1    0.057225\n",
      "dtype: float64\n",
      "\n",
      "Матрица ошибок для выявления баланса\n",
      "[[32112    46]\n",
      " [ 1678  2005]]\n"
     ]
    }
   ],
   "source": [
    "class_frequency(model_lr, features_train_tfidf, target_train, 'Логистической Регрессии (без учета баланса)')"
   ]
  },
  {
   "cell_type": "markdown",
   "metadata": {},
   "source": [
    "* Наблюдаем, что при таком большом дисбалансе классов метрика **f1** показывает **малое значение**\n",
    "\n",
    "Посмотрим, как поведет себя в случае установки баланса весов класса `class_weight='balanced'`"
   ]
  },
  {
   "cell_type": "code",
   "execution_count": 25,
   "metadata": {},
   "outputs": [
    {
     "name": "stdout",
     "output_type": "stream",
     "text": [
      "Лучшие параметры модели Логистической Регрессии : {'max_iter': 1000, 'solver': 'lbfgs'}\n",
      "\n",
      "Лучший f1 модели Логистической Регрессии : 0.7474\n",
      "\n",
      "0.7474330756190717\n",
      "CPU times: user 45.7 s, sys: 1min 3s, total: 1min 49s\n",
      "Wall time: 1min 50s\n"
     ]
    }
   ],
   "source": [
    "%%time\n",
    "\n",
    "model_lr = LogisticRegression(class_weight='balanced', random_state=12345)\n",
    "\n",
    "params_lr = {'solver': ['lbfgs', 'liblinear'], 'max_iter': range(1000, 1001)}\n",
    "\n",
    "f1_lr_balanced = best_model(model_lr, params_lr, features_train_tfidf, target_train, 'Логистической Регрессии', '')\n",
    "print(f1_lr_balanced)"
   ]
  },
  {
   "cell_type": "code",
   "execution_count": 26,
   "metadata": {
    "scrolled": true
   },
   "outputs": [
    {
     "name": "stdout",
     "output_type": "stream",
     "text": [
      "Относительные частоты модели Логистической Регрессии (при class_weight=balanced) для проверки баланса:\n",
      "0    0.872158\n",
      "1    0.127842\n",
      "dtype: float64\n",
      "\n",
      "Матрица ошибок для выявления баланса\n",
      "[[31172   986]\n",
      " [   87  3596]]\n"
     ]
    }
   ],
   "source": [
    "class_frequency(model_lr, features_train_tfidf, target_train, 'Логистической Регрессии (при class_weight=balanced)')"
   ]
  },
  {
   "cell_type": "markdown",
   "metadata": {},
   "source": [
    "* Подмечаем, что значение **f1** сравнительно увеличилось. Правда, все еще **не подходит под критерии задачи**, и наблюдается все также дисбаланс\n",
    "\n",
    "### С учетом баланса\n",
    "\n",
    "**Рассмотрим модели Градиентного бустинга**.\n",
    "\n",
    "Так как данные без учета баланса показывают маленькие значения, да и сам баланс предсказания слишком большой, то на них будем использовать только выборки, которые были увеличены **upsampled** и уменьшены **downsampled**. Проверим на выборках, выполненные этими техниками\n",
    "\n",
    "Начнем с **LightGBMClassifier**"
   ]
  },
  {
   "cell_type": "code",
   "execution_count": 27,
   "metadata": {},
   "outputs": [],
   "source": [
    "%%time\n",
    "\n",
    "model_lgbm = LGBMClassifier(learning_rate=0.1, random_state=12345)\n",
    "\n",
    "params_lgbm = {'n_estimators': range(1000, 1001)}\n",
    "\n",
    "f1_lgbm_up = best_model(model_lgbm, params_lgbm, features_up_tfidf, target_upsampled, 'LGBMClassifier', \n",
    "                        'при увеличении объектов класса \"1\" техникой upsampling')\n",
    "print(f1_lgbm_up)"
   ]
  },
  {
   "cell_type": "code",
   "execution_count": 29,
   "metadata": {},
   "outputs": [],
   "source": [
    "class_frequency(model_lgbm, features_up_tfidf, target_upsampled, 'LGBMClassifier')"
   ]
  },
  {
   "cell_type": "markdown",
   "metadata": {},
   "source": [
    "Видим, что соблюден баланс предсказывания, и матрица ошибок существенно поменялась в сторону баланса. И не можем заметить **большое** значение метрики **f1** (`проверял на уменьшенных данных датасета в 2 раза, там такой же результат, только обучается в 2-3 раза дольше`)\n",
    "\n",
    "* Теперь на выборках, выполненных с **downsample**"
   ]
  },
  {
   "cell_type": "code",
   "execution_count": 30,
   "metadata": {
    "scrolled": true
   },
   "outputs": [
    {
     "name": "stdout",
     "output_type": "stream",
     "text": [
      "Лучшие параметры модели LGBMClassifier при уменьшении отрицательного класса: {'n_estimators': 900}\n",
      "\n",
      "Лучший f1 модели LGBMClassifier при уменьшении отрицательного класса: 0.8405\n",
      "\n",
      "0.8404552618368479\n",
      "CPU times: user 4min 57s, sys: 0 ns, total: 4min 57s\n",
      "Wall time: 5min 1s\n"
     ]
    }
   ],
   "source": [
    "%%time\n",
    "\n",
    "model_lgbm = LGBMClassifier(learning_rate=0.1, random_state=12345)\n",
    "\n",
    "params_lgbm = {'n_estimators': [900, 1000]}\n",
    "\n",
    "f1_lgbm_down = best_model(model_lgbm, params_lgbm, features_down_tfidf, target_downsampled, 'LGBMClassifier', \n",
    "                          'при уменьшении отрицательного класса')\n",
    "print(f1_lgbm_down)"
   ]
  },
  {
   "cell_type": "code",
   "execution_count": 31,
   "metadata": {},
   "outputs": [
    {
     "name": "stdout",
     "output_type": "stream",
     "text": [
      "Относительные частоты модели LGBMClassifier для проверки баланса:\n",
      "0    0.53338\n",
      "1    0.46662\n",
      "dtype: float64\n",
      "\n",
      "Матрица ошибок для выявления баланса\n",
      "[[3443   94]\n",
      " [ 408 3275]]\n"
     ]
    }
   ],
   "source": [
    "class_frequency(model_lgbm, features_down_tfidf, target_downsampled, 'LGBMClassifier')"
   ]
  },
  {
   "cell_type": "markdown",
   "metadata": {},
   "source": [
    "Также видим соблюдение баланса классов и **большое** значение **f1**. И обучается в 3 раза быстрее\n",
    "\n",
    "* Рассмотрим модель **CatBoostClassifier**"
   ]
  },
  {
   "cell_type": "code",
   "execution_count": 32,
   "metadata": {},
   "outputs": [
    {
     "name": "stdout",
     "output_type": "stream",
     "text": [
      "Лучшие параметры модели CatBoostRegressor при уменьшении отрицательного класса техникой downsampling: {'iterations': 150, 'max_depth': 6}\n",
      "\n",
      "Лучший f1 модели CatBoostRegressor при уменьшении отрицательного класса техникой downsampling: 0.8535\n",
      "\n",
      "CPU times: user 2min 25s, sys: 0 ns, total: 2min 25s\n",
      "Wall time: 2min 29s\n"
     ]
    }
   ],
   "source": [
    "%%time\n",
    "\n",
    "model_cbc = CatBoostClassifier(learning_rate=0.1, verbose=False, random_state=12345)\n",
    "\n",
    "params_cbc = {'iterations': [150], 'max_depth': range(6, 7)}\n",
    "\n",
    "f1_cbc_down = best_model(model_cbc, params_cbc, features_down_tfidf, target_downsampled, 'CatBoostRegressor', \n",
    "                         'при уменьшении отрицательного класса техникой downsampling')"
   ]
  },
  {
   "cell_type": "code",
   "execution_count": 33,
   "metadata": {},
   "outputs": [
    {
     "name": "stdout",
     "output_type": "stream",
     "text": [
      "Относительные частоты модели CatBoostClassifier для проверки баланса:\n",
      "1    0.509695\n",
      "0    0.490305\n",
      "dtype: float64\n",
      "\n",
      "Матрица ошибок для выявления баланса\n",
      "[[3537    0]\n",
      " [   3 3680]]\n"
     ]
    }
   ],
   "source": [
    "class_frequency(model_cbc, features_down_tfidf, target_downsampled, 'CatBoostClassifier')"
   ]
  },
  {
   "cell_type": "code",
   "execution_count": 34,
   "metadata": {},
   "outputs": [
    {
     "name": "stdout",
     "output_type": "stream",
     "text": [
      "Лучшие параметры модели CatBoostRegressor при увеличении объектов класса \"1\" техникой upsampling: {'iterations': 150, 'max_depth': 6}\n",
      "\n",
      "Лучший f1 модели CatBoostRegressor при увеличении объектов класса \"1\" техникой upsampling: 0.8918\n",
      "\n",
      "0.8918199164554259\n",
      "CPU times: user 11min 40s, sys: 7.17 s, total: 11min 47s\n",
      "Wall time: 12min 9s\n"
     ]
    }
   ],
   "source": [
    "%%time\n",
    "\n",
    "model_cbc = CatBoostClassifier(learning_rate=0.1, verbose=False, random_state=12345)\n",
    "\n",
    "params_cbc = {'iterations': [150], 'max_depth': [6]}\n",
    "\n",
    "f1_cbc_up = best_model(model_cbc, params_cbc, features_up_tfidf, target_upsampled, 'CatBoostRegressor', \n",
    "                       'при увеличении объектов класса \"1\" техникой upsampling')\n",
    "print(f1_cbc_up)"
   ]
  },
  {
   "cell_type": "code",
   "execution_count": 35,
   "metadata": {},
   "outputs": [
    {
     "name": "stdout",
     "output_type": "stream",
     "text": [
      "Относительные частоты модели CatBoostClassifier для проверки баланса:\n",
      "1    0.514938\n",
      "0    0.485062\n",
      "dtype: float64\n",
      "\n",
      "Матрица ошибок для выявления баланса\n",
      "[[31668   490]\n",
      " [    9 33138]]\n"
     ]
    }
   ],
   "source": [
    "class_frequency(model_cbc, features_up_tfidf, target_upsampled, 'CatBoostClassifier')"
   ]
  },
  {
   "cell_type": "markdown",
   "metadata": {},
   "source": [
    "С выборками, выполненные методикой `downsample`, обучение проиходит гораздо быстрее, нежели на увеличенных. Но и значения метрики **f1** меньше, но тут не так значительно. Но не можем выделить скорость при этом, `процесс` проходит `намного быстрее`\n",
    "\n",
    "* Модели **LogisticRegression** были обучены без учета баланса. Сейчас посмотрим, как ведут себя они с учетом баланса на разных выборках `unsampled` и `downsampled`"
   ]
  },
  {
   "cell_type": "code",
   "execution_count": 36,
   "metadata": {},
   "outputs": [
    {
     "name": "stdout",
     "output_type": "stream",
     "text": [
      "Лучшие параметры модели Логистической Регрессии при увеличении объектов класса \"1\" техникой upsampling: {'max_iter': 500, 'solver': 'lbfgs'}\n",
      "\n",
      "Лучший f1 модели Логистической Регрессии при увеличении объектов класса \"1\" техникой upsampling: 0.9706\n",
      "\n",
      "0.9705684917595405\n",
      "CPU times: user 2min 42s, sys: 3min 32s, total: 6min 15s\n",
      "Wall time: 6min 18s\n"
     ]
    }
   ],
   "source": [
    "%%time\n",
    "\n",
    "model_lr = LogisticRegression(random_state=12345)\n",
    "\n",
    "params_lr = {'solver': ['lbfgs', 'liblinear'], 'max_iter': [500, 1000]}\n",
    "\n",
    "f1_lr_up = best_model(model_lr, params_lr, features_up_tfidf, target_upsampled, 'Логистической Регрессии', \n",
    "                      'при увеличении объектов класса \"1\" техникой upsampling')\n",
    "print(f1_lr_up)"
   ]
  },
  {
   "cell_type": "code",
   "execution_count": 37,
   "metadata": {},
   "outputs": [
    {
     "name": "stdout",
     "output_type": "stream",
     "text": [
      "Относительные частоты модели Логистической Регрессии (upsampled) для проверки баланса:\n",
      "1    0.5163\n",
      "0    0.4837\n",
      "dtype: float64\n",
      "\n",
      "Матрица ошибок для выявления баланса\n",
      "[[31300   858]\n",
      " [  288 32859]]\n"
     ]
    },
    {
     "name": "stderr",
     "output_type": "stream",
     "text": [
      "/opt/conda/lib/python3.9/site-packages/sklearn/linear_model/_logistic.py:763: ConvergenceWarning: lbfgs failed to converge (status=1):\n",
      "STOP: TOTAL NO. of ITERATIONS REACHED LIMIT.\n",
      "\n",
      "Increase the number of iterations (max_iter) or scale the data as shown in:\n",
      "    https://scikit-learn.org/stable/modules/preprocessing.html\n",
      "Please also refer to the documentation for alternative solver options:\n",
      "    https://scikit-learn.org/stable/modules/linear_model.html#logistic-regression\n",
      "  n_iter_i = _check_optimize_result(\n"
     ]
    }
   ],
   "source": [
    "class_frequency(model_lr, features_up_tfidf, target_upsampled, 'Логистической Регрессии (upsampled)')"
   ]
  },
  {
   "cell_type": "markdown",
   "metadata": {},
   "source": [
    "**Очень большое** значение **f1** (также проверял на данных, которые уменьшены не в 3 раза, а в 2, и получается примерно такое же значение. Только снова обучение в 2-3 раза дольше)"
   ]
  },
  {
   "cell_type": "code",
   "execution_count": 38,
   "metadata": {
    "scrolled": true
   },
   "outputs": [
    {
     "name": "stdout",
     "output_type": "stream",
     "text": [
      "Лучшие параметры модели Логистической Регрессии при уменьшении отрицательного класса техникой downsampling: {'max_iter': 500, 'solver': 'lbfgs'}\n",
      "\n",
      "Лучший f1 модели Логистической Регрессии при уменьшении отрицательного класса техникой downsampling: 0.8668\n",
      "\n",
      "0.8667969120099187\n",
      "CPU times: user 24 s, sys: 33 s, total: 57 s\n",
      "Wall time: 57.1 s\n"
     ]
    }
   ],
   "source": [
    "%%time\n",
    "\n",
    "model_lr = LogisticRegression(random_state=12345)\n",
    "\n",
    "params_lr = {'solver': ['lbfgs', 'liblinear'], 'max_iter': [500, 1000]}\n",
    "\n",
    "f1_lr_down = best_model(model_lr, params_lr, features_down_tfidf, target_downsampled, 'Логистической Регрессии', \n",
    "                        'при уменьшении отрицательного класса техникой downsampling')\n",
    "print(f1_lr_down)"
   ]
  },
  {
   "cell_type": "code",
   "execution_count": 39,
   "metadata": {},
   "outputs": [
    {
     "name": "stdout",
     "output_type": "stream",
     "text": [
      "Относительные частоты модели Логистической Регрессии (downsampled) для проверки баланса:\n",
      "0    0.50554\n",
      "1    0.49446\n",
      "dtype: float64\n",
      "\n",
      "Матрица ошибок для выявления баланса\n",
      "[[3410  127]\n",
      " [ 240 3443]]\n"
     ]
    }
   ],
   "source": [
    "class_frequency(model_lr, features_down_tfidf, target_downsampled, 'Логистической Регрессии (downsampled)')"
   ]
  },
  {
   "cell_type": "markdown",
   "metadata": {},
   "source": [
    "Снова наблюдаем тенденцию скорости и чуть-чуть ухудшение метрики\n",
    "\n",
    "### Вывод\n",
    "\n",
    "* Были обучены модели **LogisticRegression**, **LightLGBM** и **CatBoostRegression**;\n",
    "* Модель **LogisticRegression** была проверена на обучающей выборке без учета баланса. Результат показал малое значение метрики **f1**;\n",
    "* Моделям Градиентного бустинга были подобраны гиперпарпараметры и обучены с учетом баланса (либо увеличением положительного класса **upsample**, либо уменешением отрицательного класса **downsample**;\n",
    "* Значение качества **f1** лучше у моделей, которые выборки обучены техникой **upsample**;\n",
    "* Скорость обучения при этом намного ниже, нежели у моделей на **downsample**\n",
    "* Лучше всех себя показала модель **LightGBMClassifier** на **upsample** выборках. Значение **f1** `0.98`;\n",
    "* Для визуальной демонстрации обучения моделей, выведем результат в общий датафрейм"
   ]
  },
  {
   "cell_type": "code",
   "execution_count": 40,
   "metadata": {},
   "outputs": [
    {
     "data": {
      "text/html": [
       "<div>\n",
       "<style scoped>\n",
       "    .dataframe tbody tr th:only-of-type {\n",
       "        vertical-align: middle;\n",
       "    }\n",
       "\n",
       "    .dataframe tbody tr th {\n",
       "        vertical-align: top;\n",
       "    }\n",
       "\n",
       "    .dataframe thead th {\n",
       "        text-align: right;\n",
       "    }\n",
       "</style>\n",
       "<table border=\"1\" class=\"dataframe\">\n",
       "  <thead>\n",
       "    <tr style=\"text-align: right;\">\n",
       "      <th></th>\n",
       "      <th>модель</th>\n",
       "      <th>~ время обучения и предсказания (мин.)</th>\n",
       "      <th>f1</th>\n",
       "    </tr>\n",
       "  </thead>\n",
       "  <tbody>\n",
       "    <tr>\n",
       "      <th>0</th>\n",
       "      <td>LogisticRegression</td>\n",
       "      <td>1.10</td>\n",
       "      <td>0.6214</td>\n",
       "    </tr>\n",
       "    <tr>\n",
       "      <th>1</th>\n",
       "      <td>LogisticRegression (class_weight=balanced)</td>\n",
       "      <td>1.08</td>\n",
       "      <td>0.7474</td>\n",
       "    </tr>\n",
       "    <tr>\n",
       "      <th>2</th>\n",
       "      <td>LogisticRegression (upsampled)</td>\n",
       "      <td>4.59</td>\n",
       "      <td>0.9706</td>\n",
       "    </tr>\n",
       "    <tr>\n",
       "      <th>3</th>\n",
       "      <td>LogisticRegression (downsampled)</td>\n",
       "      <td>0.36</td>\n",
       "      <td>0.8668</td>\n",
       "    </tr>\n",
       "    <tr>\n",
       "      <th>4</th>\n",
       "      <td>CatBoostClassifier (upsampled)</td>\n",
       "      <td>2.18</td>\n",
       "      <td>0.8918</td>\n",
       "    </tr>\n",
       "    <tr>\n",
       "      <th>5</th>\n",
       "      <td>CatBoostClassifier (downsampled)</td>\n",
       "      <td>12.05</td>\n",
       "      <td>0.8535</td>\n",
       "    </tr>\n",
       "    <tr>\n",
       "      <th>6</th>\n",
       "      <td>LGBMClassifier (upsampled)</td>\n",
       "      <td>41.39</td>\n",
       "      <td>0.9860</td>\n",
       "    </tr>\n",
       "    <tr>\n",
       "      <th>7</th>\n",
       "      <td>LGBMCLassifier (downsampled)</td>\n",
       "      <td>4.33</td>\n",
       "      <td>0.8405</td>\n",
       "    </tr>\n",
       "  </tbody>\n",
       "</table>\n",
       "</div>"
      ],
      "text/plain": [
       "                                       модель  \\\n",
       "0                          LogisticRegression   \n",
       "1  LogisticRegression (class_weight=balanced)   \n",
       "2              LogisticRegression (upsampled)   \n",
       "3            LogisticRegression (downsampled)   \n",
       "4              CatBoostClassifier (upsampled)   \n",
       "5            CatBoostClassifier (downsampled)   \n",
       "6                  LGBMClassifier (upsampled)   \n",
       "7                LGBMCLassifier (downsampled)   \n",
       "\n",
       "   ~ время обучения и предсказания (мин.)      f1  \n",
       "0                                    1.10  0.6214  \n",
       "1                                    1.08  0.7474  \n",
       "2                                    4.59  0.9706  \n",
       "3                                    0.36  0.8668  \n",
       "4                                    2.18  0.8918  \n",
       "5                                   12.05  0.8535  \n",
       "6                                   41.39  0.9860  \n",
       "7                                    4.33  0.8405  "
      ]
     },
     "execution_count": 40,
     "metadata": {},
     "output_type": "execute_result"
    }
   ],
   "source": [
    "table = pd.DataFrame({'модель':['LogisticRegression', 'LogisticRegression (class_weight=balanced)', \n",
    "                                'LogisticRegression (upsampled)', 'LogisticRegression (downsampled)', \n",
    "                                'CatBoostClassifier (upsampled)', 'CatBoostClassifier (downsampled)', \n",
    "                                'LGBMClassifier (upsampled)', 'LGBMCLassifier (downsampled)'], \n",
    "                      '~ время обучения и предсказания (мин.)': [1.1, 1.08, 4.59, 0.36, 2.18, 12.05, 41.39, 4.33], \n",
    "                      'f1': [round(f1_lr_train, 4), round(f1_lr_balanced, 4), round(f1_lr_up, 4), \n",
    "                             round(f1_lr_down, 4), round(f1_cbc_up, 4), round(f1_cbc_down, 4), \n",
    "                             0.9860, round(f1_lgbm_down, 4)]})\n",
    "\n",
    "table"
   ]
  },
  {
   "cell_type": "markdown",
   "metadata": {},
   "source": [
    "## Финальное тестирование\n",
    "\n",
    "Теперь проведем финальное тестирование на лучших моделях с помощью тестовых выборках\n",
    "\n",
    "* Модель **LogisticRegression** на **upsampled** выборках"
   ]
  },
  {
   "cell_type": "code",
   "execution_count": 41,
   "metadata": {},
   "outputs": [
    {
     "name": "stdout",
     "output_type": "stream",
     "text": [
      "CPU times: user 13.7 s, sys: 18.3 s, total: 31.9 s\n",
      "Wall time: 32 s\n"
     ]
    },
    {
     "data": {
      "text/plain": [
       "LogisticRegression(max_iter=500, random_state=12345)"
      ]
     },
     "execution_count": 41,
     "metadata": {},
     "output_type": "execute_result"
    }
   ],
   "source": [
    "%%time\n",
    "\n",
    "model_lr = LogisticRegression(solver='lbfgs', max_iter=500, random_state=12345)\n",
    "model_lr.fit(features_up_tfidf, target_upsampled)"
   ]
  },
  {
   "cell_type": "code",
   "execution_count": 42,
   "metadata": {},
   "outputs": [
    {
     "name": "stdout",
     "output_type": "stream",
     "text": [
      "0.7163608562691132\n",
      "CPU times: user 8.95 ms, sys: 4.89 ms, total: 13.8 ms\n",
      "Wall time: 6.16 ms\n"
     ]
    }
   ],
   "source": [
    "%%time\n",
    "\n",
    "predict_lr_final = model_lr.predict(features_test_up_tfidf)\n",
    "f1_lr_final = f1_score(target_test, predict_lr_final)\n",
    "print(f1_lr_final)"
   ]
  },
  {
   "cell_type": "markdown",
   "metadata": {},
   "source": [
    "* Модель **LGBMClassifier** на `upsampled` выборках"
   ]
  },
  {
   "cell_type": "code",
   "execution_count": 43,
   "metadata": {},
   "outputs": [
    {
     "name": "stdout",
     "output_type": "stream",
     "text": [
      "CPU times: user 5min 14s, sys: 762 µs, total: 5min 14s\n",
      "Wall time: 5min 16s\n"
     ]
    },
    {
     "data": {
      "text/plain": [
       "LGBMClassifier(n_estimators=1000, random_state=12345)"
      ]
     },
     "execution_count": 43,
     "metadata": {},
     "output_type": "execute_result"
    }
   ],
   "source": [
    "%%time\n",
    "\n",
    "model_lgbm = LGBMClassifier(learning_rate=0.1, n_estimators=1000, random_state=12345)\n",
    "\n",
    "model_lgbm.fit(features_up_tfidf, target_upsampled)"
   ]
  },
  {
   "cell_type": "code",
   "execution_count": 44,
   "metadata": {},
   "outputs": [
    {
     "name": "stdout",
     "output_type": "stream",
     "text": [
      "0.7611749680715197\n",
      "CPU times: user 2.52 s, sys: 3.84 ms, total: 2.53 s\n",
      "Wall time: 2.54 s\n"
     ]
    }
   ],
   "source": [
    "%%time\n",
    "\n",
    "predict_lgbm_test = model_lgbm.predict(features_test_up_tfidf)\n",
    "f1_lgbm_final = f1_score(target_test, predict_lgbm_test)\n",
    "print(f1_lgbm_final)"
   ]
  },
  {
   "cell_type": "markdown",
   "metadata": {},
   "source": [
    "* Модель **CatBoostClassifier** на `upsampled` выборках"
   ]
  },
  {
   "cell_type": "code",
   "execution_count": 45,
   "metadata": {
    "scrolled": true
   },
   "outputs": [
    {
     "name": "stdout",
     "output_type": "stream",
     "text": [
      "0.7125097125097124\n",
      "CPU times: user 2min 17s, sys: 1.47 s, total: 2min 18s\n",
      "Wall time: 2min 19s\n"
     ]
    }
   ],
   "source": [
    "%%time\n",
    "\n",
    "model_cbc = CatBoostClassifier(learning_rate=0.1, iterations=150, max_depth=6, verbose=False, random_state=12345)\n",
    "model_cbc.fit(features_up_tfidf, target_upsampled)\n",
    "predict_cbc_test = model_cbc.predict(features_test_up_tfidf)\n",
    "f1_cbc_final = f1_score(target_test, predict_cbc_test)\n",
    "print(f1_cbc_final)"
   ]
  },
  {
   "cell_type": "markdown",
   "metadata": {},
   "source": [
    "По аналогии с общими результатами, внесем финальные значения в общий датафрейм"
   ]
  },
  {
   "cell_type": "code",
   "execution_count": 46,
   "metadata": {},
   "outputs": [
    {
     "data": {
      "text/html": [
       "<div>\n",
       "<style scoped>\n",
       "    .dataframe tbody tr th:only-of-type {\n",
       "        vertical-align: middle;\n",
       "    }\n",
       "\n",
       "    .dataframe tbody tr th {\n",
       "        vertical-align: top;\n",
       "    }\n",
       "\n",
       "    .dataframe thead th {\n",
       "        text-align: right;\n",
       "    }\n",
       "</style>\n",
       "<table border=\"1\" class=\"dataframe\">\n",
       "  <thead>\n",
       "    <tr style=\"text-align: right;\">\n",
       "      <th></th>\n",
       "      <th>модель</th>\n",
       "      <th>~ время обучения и предсказания (мин.)</th>\n",
       "      <th>финальное f1</th>\n",
       "    </tr>\n",
       "  </thead>\n",
       "  <tbody>\n",
       "    <tr>\n",
       "      <th>0</th>\n",
       "      <td>LogisticRegression (upsampled)</td>\n",
       "      <td>0.43</td>\n",
       "      <td>0.7164</td>\n",
       "    </tr>\n",
       "    <tr>\n",
       "      <th>1</th>\n",
       "      <td>CatBoostClassifier (upsampled)</td>\n",
       "      <td>2.21</td>\n",
       "      <td>0.7125</td>\n",
       "    </tr>\n",
       "    <tr>\n",
       "      <th>2</th>\n",
       "      <td>LGBMClassifier (upsampled)</td>\n",
       "      <td>5.29</td>\n",
       "      <td>0.7612</td>\n",
       "    </tr>\n",
       "  </tbody>\n",
       "</table>\n",
       "</div>"
      ],
      "text/plain": [
       "                           модель  ~ время обучения и предсказания (мин.)  \\\n",
       "0  LogisticRegression (upsampled)                                    0.43   \n",
       "1  CatBoostClassifier (upsampled)                                    2.21   \n",
       "2      LGBMClassifier (upsampled)                                    5.29   \n",
       "\n",
       "   финальное f1  \n",
       "0        0.7164  \n",
       "1        0.7125  \n",
       "2        0.7612  "
      ]
     },
     "execution_count": 46,
     "metadata": {},
     "output_type": "execute_result"
    }
   ],
   "source": [
    "final_table = pd.DataFrame({'модель': ['LogisticRegression (upsampled)', 'CatBoostClassifier (upsampled)', \n",
    "                                       'LGBMClassifier (upsampled)'], \n",
    "                            '~ время обучения и предсказания (мин.)': [0.43, 2.21, 5.29], \n",
    "                            'финальное f1': [round(f1_lr_final, 4), round(f1_cbc_final, 4), round(f1_lgbm_final, 4)]})\n",
    "\n",
    "final_table"
   ]
  },
  {
   "cell_type": "markdown",
   "metadata": {},
   "source": [
    "**По критерияем задачи подходит модель `LGBMClassifier (upsampled)`**\n",
    "\n",
    "Для окончательного вывода стоит проверить на адекватность выявленную финальную модель `LGBMClassifier (upsampled)`, которая **подходит по критериям поставленной задачи, то есть значением `f1`** \n",
    "\n",
    "\n",
    "Считаем значение метрики `accuracy_score` на модели **LGBMClassifier (upsampled)** и вводим `констатную accuracy` для проверки на адекватность, а также `константное` значение `f1`:"
   ]
  },
  {
   "cell_type": "code",
   "execution_count": 49,
   "metadata": {},
   "outputs": [
    {
     "name": "stdout",
     "output_type": "stream",
     "text": [
      "0.9981471556542378\n"
     ]
    }
   ],
   "source": [
    "predict_lgbm_acc = model_lgbm.predict(features_up_tfidf)\n",
    "final_acc = accuracy_score(target_upsampled, predict_lgbm_acc)\n",
    "print(final_acc)"
   ]
  },
  {
   "cell_type": "code",
   "execution_count": 50,
   "metadata": {},
   "outputs": [
    {
     "name": "stdout",
     "output_type": "stream",
     "text": [
      "Константа: 0.8977149075081611\n",
      "\n",
      "Выявленная модель прошла тест на адекватность и подходит по критериям задачи\n"
     ]
    }
   ],
   "source": [
    "F1_CONST = 0.75\n",
    "constant = pd.Series(0, index=target.index)\n",
    "accuracy_constant = accuracy_score(target, constant)\n",
    "print(f'Константа: {accuracy_constant}')\n",
    "print()\n",
    "\n",
    "if accuracy_constant < final_acc >= F1_CONST:\n",
    "    print('Выявленная модель прошла тест на адекватность и подходит по критериям задачи')\n",
    "else:\n",
    "    print('Что-то пошло не так')"
   ]
  },
  {
   "cell_type": "code",
   "execution_count": 54,
   "metadata": {},
   "outputs": [
    {
     "data": {
      "text/html": [
       "<div>\n",
       "<style scoped>\n",
       "    .dataframe tbody tr th:only-of-type {\n",
       "        vertical-align: middle;\n",
       "    }\n",
       "\n",
       "    .dataframe tbody tr th {\n",
       "        vertical-align: top;\n",
       "    }\n",
       "\n",
       "    .dataframe thead th {\n",
       "        text-align: right;\n",
       "    }\n",
       "</style>\n",
       "<table border=\"1\" class=\"dataframe\">\n",
       "  <thead>\n",
       "    <tr style=\"text-align: right;\">\n",
       "      <th></th>\n",
       "      <th>модель</th>\n",
       "      <th>~ время обучения и предсказания (мин.)</th>\n",
       "      <th>финальное f1</th>\n",
       "    </tr>\n",
       "  </thead>\n",
       "  <tbody>\n",
       "    <tr>\n",
       "      <th>2</th>\n",
       "      <td>LGBMClassifier (upsampled)</td>\n",
       "      <td>5.29</td>\n",
       "      <td>0.7612</td>\n",
       "    </tr>\n",
       "  </tbody>\n",
       "</table>\n",
       "</div>"
      ],
      "text/plain": [
       "                       модель  ~ время обучения и предсказания (мин.)  \\\n",
       "2  LGBMClassifier (upsampled)                                    5.29   \n",
       "\n",
       "   финальное f1  \n",
       "2        0.7612  "
      ]
     },
     "execution_count": 54,
     "metadata": {},
     "output_type": "execute_result"
    }
   ],
   "source": [
    "final_table.loc[final_table['модель'] == 'LGBMClassifier (upsampled)', :]"
   ]
  },
  {
   "cell_type": "markdown",
   "metadata": {},
   "source": [
    "## Вывод\n",
    "\n",
    "* Были загружены и разобраны данные;\n",
    "* Была произведена лемматизация с помощью библиотеки **spacy** модели **en_core_web_sm**;\n",
    "* Также была произведена очистка от лишних символов;\n",
    "* Избавились от стоп слов. **Были добавили** обратно в строку только те **токены**, которые **не являются стоп словами** с помощью метода `is_stop`;\n",
    "* **Были урезаны данные**, чтобы модели смогли обучиться быстрее, но чтобы данных было достаточно, чтобы обучить качественную модель;\n",
    "* Создали функции **upsample** и **downsample** для использования техники увеличения и уменьшения, чтобы сбалансировать классы;\n",
    "* Была произведена векторизация при помощи **TfidfVectorizer()**;\n",
    "* С помощью техники **GridSearchCV** обучали разные модели на разных выборках и подбирали гиперпараметры: `LogisticRegression`, `LightGBMClassifier` и `CatBoostClassifier`;\n",
    "* В ходе анализа, были подобраны лучшие гиперпараметры моделям с разными выборками для метрики **f1**;\n",
    "* Были обнаружены лучшие значения метрики **f1** на `upsampled` выборках: `LogisticRegression (upsampled)`, `LightGBMClassifier (upsampled)` и `CatBoostClassifier (upsampled)`;\n",
    "* Лучшие модели с **f1** значением были проверены на тестовой выборке;\n",
    "* Из трех выявленных моделей нужное значение **f1** показала только модель `LightGBMClassifier (upsampled)`. Она была проверена на адекватность\n",
    "\n",
    "\n",
    "Выведем общий датасет для визуализации результатов **(до финальной проверки)**"
   ]
  },
  {
   "cell_type": "code",
   "execution_count": 55,
   "metadata": {},
   "outputs": [
    {
     "data": {
      "text/html": [
       "<div>\n",
       "<style scoped>\n",
       "    .dataframe tbody tr th:only-of-type {\n",
       "        vertical-align: middle;\n",
       "    }\n",
       "\n",
       "    .dataframe tbody tr th {\n",
       "        vertical-align: top;\n",
       "    }\n",
       "\n",
       "    .dataframe thead th {\n",
       "        text-align: right;\n",
       "    }\n",
       "</style>\n",
       "<table border=\"1\" class=\"dataframe\">\n",
       "  <thead>\n",
       "    <tr style=\"text-align: right;\">\n",
       "      <th></th>\n",
       "      <th>модель</th>\n",
       "      <th>~ время обучения и предсказания (мин.)</th>\n",
       "      <th>f1</th>\n",
       "    </tr>\n",
       "  </thead>\n",
       "  <tbody>\n",
       "    <tr>\n",
       "      <th>0</th>\n",
       "      <td>LogisticRegression</td>\n",
       "      <td>1.10</td>\n",
       "      <td>0.6214</td>\n",
       "    </tr>\n",
       "    <tr>\n",
       "      <th>1</th>\n",
       "      <td>LogisticRegression (class_weight=balanced)</td>\n",
       "      <td>1.08</td>\n",
       "      <td>0.7474</td>\n",
       "    </tr>\n",
       "    <tr>\n",
       "      <th>2</th>\n",
       "      <td>LogisticRegression (upsampled)</td>\n",
       "      <td>4.59</td>\n",
       "      <td>0.9706</td>\n",
       "    </tr>\n",
       "    <tr>\n",
       "      <th>3</th>\n",
       "      <td>LogisticRegression (downsampled)</td>\n",
       "      <td>0.36</td>\n",
       "      <td>0.8668</td>\n",
       "    </tr>\n",
       "    <tr>\n",
       "      <th>4</th>\n",
       "      <td>CatBoostClassifier (upsampled)</td>\n",
       "      <td>2.18</td>\n",
       "      <td>0.8918</td>\n",
       "    </tr>\n",
       "    <tr>\n",
       "      <th>5</th>\n",
       "      <td>CatBoostClassifier (downsampled)</td>\n",
       "      <td>12.05</td>\n",
       "      <td>0.8535</td>\n",
       "    </tr>\n",
       "    <tr>\n",
       "      <th>6</th>\n",
       "      <td>LGBMClassifier (upsampled)</td>\n",
       "      <td>41.39</td>\n",
       "      <td>0.9860</td>\n",
       "    </tr>\n",
       "    <tr>\n",
       "      <th>7</th>\n",
       "      <td>LGBMCLassifier (downsampled)</td>\n",
       "      <td>4.33</td>\n",
       "      <td>0.8405</td>\n",
       "    </tr>\n",
       "  </tbody>\n",
       "</table>\n",
       "</div>"
      ],
      "text/plain": [
       "                                       модель  \\\n",
       "0                          LogisticRegression   \n",
       "1  LogisticRegression (class_weight=balanced)   \n",
       "2              LogisticRegression (upsampled)   \n",
       "3            LogisticRegression (downsampled)   \n",
       "4              CatBoostClassifier (upsampled)   \n",
       "5            CatBoostClassifier (downsampled)   \n",
       "6                  LGBMClassifier (upsampled)   \n",
       "7                LGBMCLassifier (downsampled)   \n",
       "\n",
       "   ~ время обучения и предсказания (мин.)      f1  \n",
       "0                                    1.10  0.6214  \n",
       "1                                    1.08  0.7474  \n",
       "2                                    4.59  0.9706  \n",
       "3                                    0.36  0.8668  \n",
       "4                                    2.18  0.8918  \n",
       "5                                   12.05  0.8535  \n",
       "6                                   41.39  0.9860  \n",
       "7                                    4.33  0.8405  "
      ]
     },
     "execution_count": 55,
     "metadata": {},
     "output_type": "execute_result"
    }
   ],
   "source": [
    "table"
   ]
  },
  {
   "cell_type": "markdown",
   "metadata": {},
   "source": [
    "**После финальной проверки**"
   ]
  },
  {
   "cell_type": "code",
   "execution_count": 56,
   "metadata": {},
   "outputs": [
    {
     "data": {
      "text/html": [
       "<div>\n",
       "<style scoped>\n",
       "    .dataframe tbody tr th:only-of-type {\n",
       "        vertical-align: middle;\n",
       "    }\n",
       "\n",
       "    .dataframe tbody tr th {\n",
       "        vertical-align: top;\n",
       "    }\n",
       "\n",
       "    .dataframe thead th {\n",
       "        text-align: right;\n",
       "    }\n",
       "</style>\n",
       "<table border=\"1\" class=\"dataframe\">\n",
       "  <thead>\n",
       "    <tr style=\"text-align: right;\">\n",
       "      <th></th>\n",
       "      <th>модель</th>\n",
       "      <th>~ время обучения и предсказания (мин.)</th>\n",
       "      <th>финальное f1</th>\n",
       "    </tr>\n",
       "  </thead>\n",
       "  <tbody>\n",
       "    <tr>\n",
       "      <th>0</th>\n",
       "      <td>LogisticRegression (upsampled)</td>\n",
       "      <td>0.43</td>\n",
       "      <td>0.7164</td>\n",
       "    </tr>\n",
       "    <tr>\n",
       "      <th>1</th>\n",
       "      <td>CatBoostClassifier (upsampled)</td>\n",
       "      <td>2.21</td>\n",
       "      <td>0.7125</td>\n",
       "    </tr>\n",
       "    <tr>\n",
       "      <th>2</th>\n",
       "      <td>LGBMClassifier (upsampled)</td>\n",
       "      <td>5.29</td>\n",
       "      <td>0.7612</td>\n",
       "    </tr>\n",
       "  </tbody>\n",
       "</table>\n",
       "</div>"
      ],
      "text/plain": [
       "                           модель  ~ время обучения и предсказания (мин.)  \\\n",
       "0  LogisticRegression (upsampled)                                    0.43   \n",
       "1  CatBoostClassifier (upsampled)                                    2.21   \n",
       "2      LGBMClassifier (upsampled)                                    5.29   \n",
       "\n",
       "   финальное f1  \n",
       "0        0.7164  \n",
       "1        0.7125  \n",
       "2        0.7612  "
      ]
     },
     "execution_count": 56,
     "metadata": {},
     "output_type": "execute_result"
    }
   ],
   "source": [
    "final_table"
   ]
  },
  {
   "cell_type": "markdown",
   "metadata": {},
   "source": [
    "**Лучшая модель**"
   ]
  },
  {
   "cell_type": "code",
   "execution_count": 64,
   "metadata": {},
   "outputs": [
    {
     "data": {
      "text/html": [
       "<div>\n",
       "<style scoped>\n",
       "    .dataframe tbody tr th:only-of-type {\n",
       "        vertical-align: middle;\n",
       "    }\n",
       "\n",
       "    .dataframe tbody tr th {\n",
       "        vertical-align: top;\n",
       "    }\n",
       "\n",
       "    .dataframe thead th {\n",
       "        text-align: right;\n",
       "    }\n",
       "</style>\n",
       "<table border=\"1\" class=\"dataframe\">\n",
       "  <thead>\n",
       "    <tr style=\"text-align: right;\">\n",
       "      <th></th>\n",
       "      <th>модель</th>\n",
       "      <th>~ время обучения и предсказания (мин.)</th>\n",
       "      <th>финальное f1</th>\n",
       "    </tr>\n",
       "  </thead>\n",
       "  <tbody>\n",
       "    <tr>\n",
       "      <th>2</th>\n",
       "      <td>LGBMClassifier (upsampled)</td>\n",
       "      <td>5.29</td>\n",
       "      <td>0.7612</td>\n",
       "    </tr>\n",
       "  </tbody>\n",
       "</table>\n",
       "</div>"
      ],
      "text/plain": [
       "                       модель  ~ время обучения и предсказания (мин.)  \\\n",
       "2  LGBMClassifier (upsampled)                                    5.29   \n",
       "\n",
       "   финальное f1  \n",
       "2        0.7612  "
      ]
     },
     "execution_count": 64,
     "metadata": {},
     "output_type": "execute_result"
    }
   ],
   "source": [
    "final_table.loc[final_table['модель'] == 'LGBMClassifier (upsampled)', :]"
   ]
  },
  {
   "cell_type": "markdown",
   "metadata": {},
   "source": [
    "**Интернет-магазин `«Викишоп»` может использовать эту модель для поиска токсичных комментариев и отправлять их на модерацию**"
   ]
  }
 ],
 "metadata": {
  "ExecuteTimeLog": [
   {
    "duration": 402,
    "start_time": "2022-10-20T11:06:48.921Z"
   },
   {
    "duration": 2245,
    "start_time": "2022-10-20T11:07:07.261Z"
   },
   {
    "duration": 890,
    "start_time": "2022-10-20T11:07:13.724Z"
   },
   {
    "duration": 6,
    "start_time": "2022-10-20T11:08:49.012Z"
   },
   {
    "duration": 340,
    "start_time": "2022-10-20T11:09:01.481Z"
   },
   {
    "duration": 304,
    "start_time": "2022-10-20T11:09:54.136Z"
   },
   {
    "duration": 13,
    "start_time": "2022-10-20T11:21:54.137Z"
   },
   {
    "duration": 76,
    "start_time": "2022-10-20T11:21:56.304Z"
   },
   {
    "duration": 10,
    "start_time": "2022-10-20T11:22:04.417Z"
   },
   {
    "duration": 12,
    "start_time": "2022-10-20T11:22:10.405Z"
   },
   {
    "duration": 14,
    "start_time": "2022-10-20T11:22:18.364Z"
   },
   {
    "duration": 12,
    "start_time": "2022-10-20T11:22:31.146Z"
   },
   {
    "duration": 4,
    "start_time": "2022-10-20T11:22:40.271Z"
   },
   {
    "duration": 426,
    "start_time": "2022-10-20T11:22:48.489Z"
   },
   {
    "duration": 940,
    "start_time": "2022-10-20T11:22:48.917Z"
   },
   {
    "duration": 343,
    "start_time": "2022-10-20T11:22:49.859Z"
   },
   {
    "duration": 6,
    "start_time": "2022-10-20T11:22:50.204Z"
   },
   {
    "duration": 17,
    "start_time": "2022-10-20T11:22:50.211Z"
   },
   {
    "duration": 77,
    "start_time": "2022-10-20T11:23:04.283Z"
   },
   {
    "duration": 367,
    "start_time": "2022-10-20T11:23:09.349Z"
   },
   {
    "duration": 900,
    "start_time": "2022-10-20T11:23:09.718Z"
   },
   {
    "duration": 335,
    "start_time": "2022-10-20T11:23:10.620Z"
   },
   {
    "duration": 4,
    "start_time": "2022-10-20T11:23:10.957Z"
   },
   {
    "duration": 22,
    "start_time": "2022-10-20T11:23:10.962Z"
   },
   {
    "duration": 394,
    "start_time": "2022-10-20T12:49:43.126Z"
   },
   {
    "duration": 925,
    "start_time": "2022-10-20T12:49:43.522Z"
   },
   {
    "duration": 331,
    "start_time": "2022-10-20T12:49:44.448Z"
   },
   {
    "duration": 1789,
    "start_time": "2022-10-20T14:46:48.008Z"
   },
   {
    "duration": 384,
    "start_time": "2022-10-20T14:47:06.436Z"
   },
   {
    "duration": 2283,
    "start_time": "2022-10-20T14:47:06.821Z"
   },
   {
    "duration": 343,
    "start_time": "2022-10-20T14:47:09.106Z"
   },
   {
    "duration": 1796,
    "start_time": "2022-10-20T14:47:09.451Z"
   },
   {
    "duration": 1014,
    "start_time": "2022-10-20T15:02:53.365Z"
   },
   {
    "duration": 21790,
    "start_time": "2022-10-20T16:02:01.437Z"
   },
   {
    "duration": 17191,
    "start_time": "2022-10-20T16:02:26.419Z"
   },
   {
    "duration": 44,
    "start_time": "2022-10-21T09:39:37.382Z"
   },
   {
    "duration": 14041,
    "start_time": "2022-10-21T09:39:42.624Z"
   },
   {
    "duration": 3387,
    "start_time": "2022-10-21T09:39:56.667Z"
   },
   {
    "duration": 305,
    "start_time": "2022-10-21T09:40:00.055Z"
   },
   {
    "duration": 1745,
    "start_time": "2022-10-21T09:40:00.362Z"
   },
   {
    "duration": 21137,
    "start_time": "2022-10-21T09:40:23.820Z"
   },
   {
    "duration": 3704,
    "start_time": "2022-10-21T09:40:44.959Z"
   },
   {
    "duration": 294,
    "start_time": "2022-10-21T09:40:48.664Z"
   },
   {
    "duration": 1752,
    "start_time": "2022-10-21T09:40:48.961Z"
   },
   {
    "duration": 16603,
    "start_time": "2022-10-21T09:41:57.526Z"
   },
   {
    "duration": 3454,
    "start_time": "2022-10-21T09:42:14.131Z"
   },
   {
    "duration": 294,
    "start_time": "2022-10-21T09:42:17.586Z"
   },
   {
    "duration": 1714,
    "start_time": "2022-10-21T09:42:17.882Z"
   },
   {
    "duration": 368,
    "start_time": "2022-10-21T09:42:19.597Z"
   },
   {
    "duration": 70,
    "start_time": "2022-10-21T09:42:32.076Z"
   },
   {
    "duration": 12909,
    "start_time": "2022-10-21T09:43:12.711Z"
   },
   {
    "duration": 3428,
    "start_time": "2022-10-21T09:43:25.623Z"
   },
   {
    "duration": 282,
    "start_time": "2022-10-21T09:43:29.052Z"
   },
   {
    "duration": 1772,
    "start_time": "2022-10-21T09:43:29.336Z"
   },
   {
    "duration": 3766,
    "start_time": "2022-10-21T09:45:06.154Z"
   },
   {
    "duration": 3366,
    "start_time": "2022-10-21T09:45:09.922Z"
   },
   {
    "duration": 289,
    "start_time": "2022-10-21T09:45:13.289Z"
   },
   {
    "duration": 9325,
    "start_time": "2022-10-21T09:45:13.580Z"
   },
   {
    "duration": 2291,
    "start_time": "2022-10-21T09:45:22.908Z"
   },
   {
    "duration": 53,
    "start_time": "2022-10-21T09:47:12.309Z"
   },
   {
    "duration": 3832,
    "start_time": "2022-10-21T09:47:17.340Z"
   },
   {
    "duration": 3535,
    "start_time": "2022-10-21T09:47:21.175Z"
   },
   {
    "duration": 298,
    "start_time": "2022-10-21T09:47:24.711Z"
   },
   {
    "duration": 9815,
    "start_time": "2022-10-21T09:47:25.010Z"
   },
   {
    "duration": 2260,
    "start_time": "2022-10-21T09:47:34.828Z"
   },
   {
    "duration": 3471,
    "start_time": "2022-10-21T10:02:03.964Z"
   },
   {
    "duration": 868,
    "start_time": "2022-10-21T10:02:07.437Z"
   },
   {
    "duration": 283,
    "start_time": "2022-10-21T10:02:08.306Z"
   },
   {
    "duration": 9297,
    "start_time": "2022-10-21T10:02:08.591Z"
   },
   {
    "duration": 384,
    "start_time": "2022-10-21T10:02:17.890Z"
   },
   {
    "duration": 8253,
    "start_time": "2022-10-21T10:03:07.670Z"
   },
   {
    "duration": 503,
    "start_time": "2022-10-21T10:03:32.003Z"
   },
   {
    "duration": 406,
    "start_time": "2022-10-21T10:03:48.725Z"
   },
   {
    "duration": 426,
    "start_time": "2022-10-21T10:04:00.945Z"
   },
   {
    "duration": 5,
    "start_time": "2022-10-21T10:08:40.724Z"
   },
   {
    "duration": 4,
    "start_time": "2022-10-21T10:08:48.732Z"
   },
   {
    "duration": 1781,
    "start_time": "2022-10-21T10:09:12.483Z"
   },
   {
    "duration": 3486,
    "start_time": "2022-10-21T10:09:51.444Z"
   },
   {
    "duration": 836,
    "start_time": "2022-10-21T10:09:54.932Z"
   },
   {
    "duration": 316,
    "start_time": "2022-10-21T10:09:55.769Z"
   },
   {
    "duration": 9242,
    "start_time": "2022-10-21T10:09:56.087Z"
   },
   {
    "duration": 752,
    "start_time": "2022-10-21T10:10:05.332Z"
   },
   {
    "duration": 0,
    "start_time": "2022-10-21T10:10:06.086Z"
   },
   {
    "duration": 3390,
    "start_time": "2022-10-21T10:28:17.672Z"
   },
   {
    "duration": 871,
    "start_time": "2022-10-21T10:28:21.064Z"
   },
   {
    "duration": 318,
    "start_time": "2022-10-21T10:28:21.937Z"
   },
   {
    "duration": 9476,
    "start_time": "2022-10-21T10:28:22.257Z"
   },
   {
    "duration": 913,
    "start_time": "2022-10-21T10:28:31.735Z"
   },
   {
    "duration": 0,
    "start_time": "2022-10-21T10:28:32.649Z"
   },
   {
    "duration": 3737,
    "start_time": "2022-10-21T10:46:43.069Z"
   },
   {
    "duration": 912,
    "start_time": "2022-10-21T10:46:46.808Z"
   },
   {
    "duration": 328,
    "start_time": "2022-10-21T10:46:47.722Z"
   },
   {
    "duration": 9773,
    "start_time": "2022-10-21T10:46:48.053Z"
   },
   {
    "duration": 1093038,
    "start_time": "2022-10-21T10:46:57.829Z"
   },
   {
    "duration": 195,
    "start_time": "2022-10-21T11:05:10.869Z"
   },
   {
    "duration": 14,
    "start_time": "2022-10-21T11:07:12.398Z"
   },
   {
    "duration": 4149,
    "start_time": "2022-10-21T11:15:18.161Z"
   },
   {
    "duration": 977,
    "start_time": "2022-10-21T11:15:22.313Z"
   },
   {
    "duration": 372,
    "start_time": "2022-10-21T11:15:23.292Z"
   },
   {
    "duration": 10060,
    "start_time": "2022-10-21T11:15:23.666Z"
   },
   {
    "duration": 6,
    "start_time": "2022-10-21T11:15:33.732Z"
   },
   {
    "duration": 81,
    "start_time": "2022-10-21T11:15:33.741Z"
   },
   {
    "duration": 0,
    "start_time": "2022-10-21T11:15:33.824Z"
   },
   {
    "duration": 58,
    "start_time": "2022-10-21T11:16:26.834Z"
   },
   {
    "duration": 1446,
    "start_time": "2022-10-21T11:17:11.042Z"
   },
   {
    "duration": 27,
    "start_time": "2022-10-21T11:18:07.666Z"
   },
   {
    "duration": 3705,
    "start_time": "2022-10-21T11:19:47.687Z"
   },
   {
    "duration": 878,
    "start_time": "2022-10-21T11:19:51.394Z"
   },
   {
    "duration": 326,
    "start_time": "2022-10-21T11:19:52.274Z"
   },
   {
    "duration": 10271,
    "start_time": "2022-10-21T11:19:52.602Z"
   },
   {
    "duration": 327,
    "start_time": "2022-10-21T11:20:02.876Z"
   },
   {
    "duration": 0,
    "start_time": "2022-10-21T11:20:03.204Z"
   },
   {
    "duration": 0,
    "start_time": "2022-10-21T11:20:03.206Z"
   },
   {
    "duration": 27,
    "start_time": "2022-10-21T11:20:37.388Z"
   },
   {
    "duration": 27,
    "start_time": "2022-10-21T11:25:02.638Z"
   },
   {
    "duration": 3,
    "start_time": "2022-10-21T11:25:29.006Z"
   },
   {
    "duration": 4,
    "start_time": "2022-10-21T11:26:42.721Z"
   },
   {
    "duration": 33,
    "start_time": "2022-10-21T11:26:51.901Z"
   },
   {
    "duration": 72,
    "start_time": "2022-10-21T11:27:07.244Z"
   },
   {
    "duration": 55,
    "start_time": "2022-10-21T11:27:20.591Z"
   },
   {
    "duration": 65,
    "start_time": "2022-10-21T11:27:25.641Z"
   },
   {
    "duration": 32,
    "start_time": "2022-10-21T11:27:41.963Z"
   },
   {
    "duration": 60,
    "start_time": "2022-10-21T11:27:56.685Z"
   },
   {
    "duration": 33,
    "start_time": "2022-10-21T11:28:03.040Z"
   },
   {
    "duration": 35,
    "start_time": "2022-10-21T11:33:29.138Z"
   },
   {
    "duration": 934867,
    "start_time": "2022-10-21T11:33:30.038Z"
   },
   {
    "duration": 16,
    "start_time": "2022-10-21T12:23:31.491Z"
   },
   {
    "duration": 6244,
    "start_time": "2022-10-21T12:56:48.519Z"
   },
   {
    "duration": 2189,
    "start_time": "2022-10-21T13:01:55.845Z"
   },
   {
    "duration": 36,
    "start_time": "2022-10-21T13:54:48.193Z"
   },
   {
    "duration": 26,
    "start_time": "2022-10-21T13:54:58.314Z"
   },
   {
    "duration": 5972,
    "start_time": "2022-10-21T13:55:11.734Z"
   },
   {
    "duration": 6183,
    "start_time": "2022-10-21T13:55:39.084Z"
   },
   {
    "duration": 3750,
    "start_time": "2022-10-21T14:14:08.011Z"
   },
   {
    "duration": 880,
    "start_time": "2022-10-21T14:14:11.763Z"
   },
   {
    "duration": 326,
    "start_time": "2022-10-21T14:14:12.645Z"
   },
   {
    "duration": 9528,
    "start_time": "2022-10-21T14:14:12.973Z"
   },
   {
    "duration": 3,
    "start_time": "2022-10-21T14:14:22.505Z"
   },
   {
    "duration": 581,
    "start_time": "2022-10-21T14:14:22.510Z"
   },
   {
    "duration": 3,
    "start_time": "2022-10-21T14:14:23.093Z"
   },
   {
    "duration": 2683,
    "start_time": "2022-10-21T14:14:23.097Z"
   },
   {
    "duration": 3621,
    "start_time": "2022-10-21T14:24:47.248Z"
   },
   {
    "duration": 935,
    "start_time": "2022-10-21T14:24:50.871Z"
   },
   {
    "duration": 334,
    "start_time": "2022-10-21T14:24:51.808Z"
   },
   {
    "duration": 9797,
    "start_time": "2022-10-21T14:24:52.143Z"
   },
   {
    "duration": 3,
    "start_time": "2022-10-21T14:25:01.941Z"
   },
   {
    "duration": 509,
    "start_time": "2022-10-21T14:25:01.947Z"
   },
   {
    "duration": 3,
    "start_time": "2022-10-21T14:25:02.458Z"
   },
   {
    "duration": 2141,
    "start_time": "2022-10-21T14:25:02.463Z"
   },
   {
    "duration": 12,
    "start_time": "2022-10-21T14:27:31.307Z"
   },
   {
    "duration": 16,
    "start_time": "2022-10-21T14:27:38.697Z"
   },
   {
    "duration": 3,
    "start_time": "2022-10-21T14:41:49.565Z"
   },
   {
    "duration": 1712,
    "start_time": "2022-10-21T14:46:29.235Z"
   },
   {
    "duration": 17,
    "start_time": "2022-10-21T14:46:37.854Z"
   },
   {
    "duration": 43,
    "start_time": "2022-10-21T14:48:09.898Z"
   },
   {
    "duration": 4203,
    "start_time": "2022-10-21T14:49:11.133Z"
   },
   {
    "duration": 3712,
    "start_time": "2022-10-21T14:49:15.337Z"
   },
   {
    "duration": 324,
    "start_time": "2022-10-21T14:49:19.050Z"
   },
   {
    "duration": 10387,
    "start_time": "2022-10-21T14:49:19.378Z"
   },
   {
    "duration": 4,
    "start_time": "2022-10-21T14:49:29.767Z"
   },
   {
    "duration": 508,
    "start_time": "2022-10-21T14:49:29.772Z"
   },
   {
    "duration": 2,
    "start_time": "2022-10-21T14:49:30.282Z"
   },
   {
    "duration": 2527,
    "start_time": "2022-10-21T14:49:30.286Z"
   },
   {
    "duration": 26,
    "start_time": "2022-10-21T14:49:32.814Z"
   },
   {
    "duration": 16,
    "start_time": "2022-10-21T14:49:32.843Z"
   },
   {
    "duration": 4207,
    "start_time": "2022-10-21T14:49:53.532Z"
   },
   {
    "duration": 3687,
    "start_time": "2022-10-21T14:49:57.741Z"
   },
   {
    "duration": 317,
    "start_time": "2022-10-21T14:50:01.429Z"
   },
   {
    "duration": 9669,
    "start_time": "2022-10-21T14:50:01.749Z"
   },
   {
    "duration": 5,
    "start_time": "2022-10-21T14:50:11.420Z"
   },
   {
    "duration": 558,
    "start_time": "2022-10-21T14:50:11.426Z"
   },
   {
    "duration": 2,
    "start_time": "2022-10-21T14:50:11.986Z"
   },
   {
    "duration": 2386,
    "start_time": "2022-10-21T14:50:11.989Z"
   },
   {
    "duration": 15,
    "start_time": "2022-10-21T14:50:14.376Z"
   },
   {
    "duration": 13,
    "start_time": "2022-10-21T14:50:14.393Z"
   },
   {
    "duration": 87,
    "start_time": "2022-10-21T14:50:14.408Z"
   },
   {
    "duration": 421,
    "start_time": "2022-10-21T14:52:53.439Z"
   },
   {
    "duration": 92,
    "start_time": "2022-10-21T14:52:58.447Z"
   },
   {
    "duration": 45,
    "start_time": "2022-10-21T14:55:18.255Z"
   },
   {
    "duration": 3875,
    "start_time": "2022-10-21T15:10:30.814Z"
   },
   {
    "duration": 3500,
    "start_time": "2022-10-21T15:10:34.691Z"
   },
   {
    "duration": 301,
    "start_time": "2022-10-21T15:10:38.192Z"
   },
   {
    "duration": 10061,
    "start_time": "2022-10-21T15:10:38.495Z"
   },
   {
    "duration": 2,
    "start_time": "2022-10-21T15:10:48.558Z"
   },
   {
    "duration": 511,
    "start_time": "2022-10-21T15:10:48.562Z"
   },
   {
    "duration": 2,
    "start_time": "2022-10-21T15:10:49.075Z"
   },
   {
    "duration": 2300,
    "start_time": "2022-10-21T15:10:49.079Z"
   },
   {
    "duration": 17,
    "start_time": "2022-10-21T15:10:51.381Z"
   },
   {
    "duration": 24,
    "start_time": "2022-10-21T15:10:51.400Z"
   },
   {
    "duration": 70,
    "start_time": "2022-10-21T15:10:51.425Z"
   },
   {
    "duration": 3633,
    "start_time": "2022-10-22T09:29:10.286Z"
   },
   {
    "duration": 2531,
    "start_time": "2022-10-22T09:29:13.920Z"
   },
   {
    "duration": 324,
    "start_time": "2022-10-22T09:29:16.453Z"
   },
   {
    "duration": 9846,
    "start_time": "2022-10-22T09:29:16.780Z"
   },
   {
    "duration": 4,
    "start_time": "2022-10-22T09:29:26.628Z"
   },
   {
    "duration": 482,
    "start_time": "2022-10-22T09:29:26.633Z"
   },
   {
    "duration": 3,
    "start_time": "2022-10-22T09:29:27.116Z"
   },
   {
    "duration": 2366,
    "start_time": "2022-10-22T09:29:27.120Z"
   },
   {
    "duration": 13,
    "start_time": "2022-10-22T09:29:29.488Z"
   },
   {
    "duration": 8,
    "start_time": "2022-10-22T09:29:29.508Z"
   },
   {
    "duration": 47,
    "start_time": "2022-10-22T09:29:29.518Z"
   },
   {
    "duration": 3,
    "start_time": "2022-10-22T09:33:25.547Z"
   },
   {
    "duration": 3,
    "start_time": "2022-10-22T09:34:33.433Z"
   },
   {
    "duration": 346,
    "start_time": "2022-10-22T09:34:52.342Z"
   },
   {
    "duration": 2,
    "start_time": "2022-10-22T09:44:44.081Z"
   },
   {
    "duration": 3549,
    "start_time": "2022-10-22T09:56:57.653Z"
   },
   {
    "duration": 927,
    "start_time": "2022-10-22T09:57:01.204Z"
   },
   {
    "duration": 318,
    "start_time": "2022-10-22T09:57:02.132Z"
   },
   {
    "duration": 10825,
    "start_time": "2022-10-22T09:57:02.452Z"
   },
   {
    "duration": 3,
    "start_time": "2022-10-22T09:57:13.279Z"
   },
   {
    "duration": 490,
    "start_time": "2022-10-22T09:57:13.283Z"
   },
   {
    "duration": 3,
    "start_time": "2022-10-22T09:57:13.774Z"
   },
   {
    "duration": 2356,
    "start_time": "2022-10-22T09:57:13.778Z"
   },
   {
    "duration": 13,
    "start_time": "2022-10-22T09:57:16.136Z"
   },
   {
    "duration": 10,
    "start_time": "2022-10-22T09:57:16.151Z"
   },
   {
    "duration": 70,
    "start_time": "2022-10-22T09:57:16.163Z"
   },
   {
    "duration": 2742,
    "start_time": "2022-10-22T10:43:09.432Z"
   },
   {
    "duration": 10,
    "start_time": "2022-10-22T10:43:41.503Z"
   },
   {
    "duration": 5,
    "start_time": "2022-10-22T10:44:00.981Z"
   },
   {
    "duration": 8,
    "start_time": "2022-10-22T10:44:12.134Z"
   },
   {
    "duration": 5,
    "start_time": "2022-10-22T10:44:19.780Z"
   },
   {
    "duration": 871094,
    "start_time": "2022-10-22T10:45:00.034Z"
   },
   {
    "duration": 14,
    "start_time": "2022-10-22T10:59:54.782Z"
   },
   {
    "duration": 4,
    "start_time": "2022-10-22T10:59:59.733Z"
   },
   {
    "duration": 170,
    "start_time": "2022-10-22T11:00:11.961Z"
   },
   {
    "duration": 135,
    "start_time": "2022-10-22T11:00:20.849Z"
   },
   {
    "duration": 161,
    "start_time": "2022-10-22T11:00:43.765Z"
   },
   {
    "duration": 32,
    "start_time": "2022-10-22T11:02:00.092Z"
   },
   {
    "duration": 25,
    "start_time": "2022-10-22T11:02:13.922Z"
   },
   {
    "duration": 7,
    "start_time": "2022-10-22T11:02:42.346Z"
   },
   {
    "duration": 24,
    "start_time": "2022-10-22T11:02:57.253Z"
   },
   {
    "duration": 36,
    "start_time": "2022-10-22T11:03:00.888Z"
   },
   {
    "duration": 13,
    "start_time": "2022-10-22T11:03:25.295Z"
   },
   {
    "duration": 34,
    "start_time": "2022-10-22T11:03:37.398Z"
   },
   {
    "duration": 22,
    "start_time": "2022-10-22T11:03:38.849Z"
   },
   {
    "duration": 26,
    "start_time": "2022-10-22T11:03:58.829Z"
   },
   {
    "duration": 33,
    "start_time": "2022-10-22T11:04:02.197Z"
   },
   {
    "duration": 22,
    "start_time": "2022-10-22T11:04:04.946Z"
   },
   {
    "duration": 23,
    "start_time": "2022-10-22T11:04:07.822Z"
   },
   {
    "duration": 31,
    "start_time": "2022-10-22T11:04:14.729Z"
   },
   {
    "duration": 29,
    "start_time": "2022-10-22T11:04:29.773Z"
   },
   {
    "duration": 25,
    "start_time": "2022-10-22T11:04:34.306Z"
   },
   {
    "duration": 100,
    "start_time": "2022-10-22T11:04:40.502Z"
   },
   {
    "duration": 30,
    "start_time": "2022-10-22T11:04:43.844Z"
   },
   {
    "duration": 33,
    "start_time": "2022-10-22T11:04:47.941Z"
   },
   {
    "duration": 30,
    "start_time": "2022-10-22T11:04:51.201Z"
   },
   {
    "duration": 28,
    "start_time": "2022-10-22T11:04:56.499Z"
   },
   {
    "duration": 22,
    "start_time": "2022-10-22T11:05:01.422Z"
   },
   {
    "duration": 22,
    "start_time": "2022-10-22T11:05:06.643Z"
   },
   {
    "duration": 21,
    "start_time": "2022-10-22T11:05:12.784Z"
   },
   {
    "duration": 29,
    "start_time": "2022-10-22T11:05:16.292Z"
   },
   {
    "duration": 24,
    "start_time": "2022-10-22T11:05:21.821Z"
   },
   {
    "duration": 27,
    "start_time": "2022-10-22T11:05:26.603Z"
   },
   {
    "duration": 9,
    "start_time": "2022-10-22T11:05:44.743Z"
   },
   {
    "duration": 5,
    "start_time": "2022-10-22T11:06:01.649Z"
   },
   {
    "duration": 42,
    "start_time": "2022-10-22T11:06:09.054Z"
   },
   {
    "duration": 150,
    "start_time": "2022-10-22T11:06:20.471Z"
   },
   {
    "duration": 22,
    "start_time": "2022-10-22T11:06:45.558Z"
   },
   {
    "duration": 25,
    "start_time": "2022-10-22T11:06:48.759Z"
   },
   {
    "duration": 123,
    "start_time": "2022-10-22T11:08:33.432Z"
   },
   {
    "duration": 3671,
    "start_time": "2022-10-22T11:13:04.977Z"
   },
   {
    "duration": 952,
    "start_time": "2022-10-22T11:13:08.650Z"
   },
   {
    "duration": 324,
    "start_time": "2022-10-22T11:13:09.604Z"
   },
   {
    "duration": 10447,
    "start_time": "2022-10-22T11:13:09.929Z"
   },
   {
    "duration": 2,
    "start_time": "2022-10-22T11:13:20.379Z"
   },
   {
    "duration": 862084,
    "start_time": "2022-10-22T11:13:20.383Z"
   },
   {
    "duration": 6236,
    "start_time": "2022-10-22T11:27:42.469Z"
   },
   {
    "duration": 3325,
    "start_time": "2022-10-22T11:27:48.706Z"
   },
   {
    "duration": 15,
    "start_time": "2022-10-22T11:27:52.032Z"
   },
   {
    "duration": 17,
    "start_time": "2022-10-22T11:27:52.050Z"
   },
   {
    "duration": 67,
    "start_time": "2022-10-22T11:27:52.068Z"
   },
   {
    "duration": 137,
    "start_time": "2022-10-22T11:27:52.138Z"
   },
   {
    "duration": 116,
    "start_time": "2022-10-22T11:27:52.277Z"
   },
   {
    "duration": 58,
    "start_time": "2022-10-22T11:32:57.827Z"
   },
   {
    "duration": 12,
    "start_time": "2022-10-22T11:33:45.461Z"
   },
   {
    "duration": 9,
    "start_time": "2022-10-22T11:33:49.673Z"
   },
   {
    "duration": 5,
    "start_time": "2022-10-22T11:36:56.022Z"
   },
   {
    "duration": 3517,
    "start_time": "2022-10-22T11:37:06.105Z"
   },
   {
    "duration": 839,
    "start_time": "2022-10-22T11:37:09.625Z"
   },
   {
    "duration": 357,
    "start_time": "2022-10-22T11:37:10.466Z"
   },
   {
    "duration": 9895,
    "start_time": "2022-10-22T11:37:10.825Z"
   },
   {
    "duration": 4,
    "start_time": "2022-10-22T11:37:20.722Z"
   },
   {
    "duration": 505,
    "start_time": "2022-10-22T11:37:20.728Z"
   },
   {
    "duration": 3,
    "start_time": "2022-10-22T11:37:21.235Z"
   },
   {
    "duration": 1910,
    "start_time": "2022-10-22T11:37:21.239Z"
   },
   {
    "duration": 14,
    "start_time": "2022-10-22T11:37:23.150Z"
   },
   {
    "duration": 15,
    "start_time": "2022-10-22T11:37:23.167Z"
   },
   {
    "duration": 79,
    "start_time": "2022-10-22T11:37:23.184Z"
   },
   {
    "duration": 14,
    "start_time": "2022-10-22T11:37:23.265Z"
   },
   {
    "duration": 34,
    "start_time": "2022-10-22T11:37:23.281Z"
   },
   {
    "duration": 6,
    "start_time": "2022-10-22T11:42:01.744Z"
   },
   {
    "duration": 6,
    "start_time": "2022-10-22T11:42:08.225Z"
   },
   {
    "duration": 412,
    "start_time": "2022-10-22T11:44:14.684Z"
   },
   {
    "duration": 60,
    "start_time": "2022-10-22T11:44:44.188Z"
   },
   {
    "duration": 65,
    "start_time": "2022-10-22T11:44:58.960Z"
   },
   {
    "duration": 92,
    "start_time": "2022-10-22T11:45:11.923Z"
   },
   {
    "duration": 10,
    "start_time": "2022-10-22T11:45:51.428Z"
   },
   {
    "duration": 11,
    "start_time": "2022-10-22T11:46:10.365Z"
   },
   {
    "duration": 45,
    "start_time": "2022-10-22T11:46:13.194Z"
   },
   {
    "duration": 23,
    "start_time": "2022-10-22T11:46:21.601Z"
   },
   {
    "duration": 1398,
    "start_time": "2022-10-22T11:46:50.389Z"
   },
   {
    "duration": 24,
    "start_time": "2022-10-22T11:47:27.963Z"
   },
   {
    "duration": 32,
    "start_time": "2022-10-22T11:47:36.029Z"
   },
   {
    "duration": 22,
    "start_time": "2022-10-22T11:47:41.163Z"
   },
   {
    "duration": 50,
    "start_time": "2022-10-22T11:53:21.003Z"
   },
   {
    "duration": 21,
    "start_time": "2022-10-22T11:53:38.757Z"
   },
   {
    "duration": 23,
    "start_time": "2022-10-22T11:54:32.529Z"
   },
   {
    "duration": 30,
    "start_time": "2022-10-22T11:56:16.277Z"
   },
   {
    "duration": 23,
    "start_time": "2022-10-22T11:56:31.934Z"
   },
   {
    "duration": 25,
    "start_time": "2022-10-22T11:56:41.639Z"
   },
   {
    "duration": 8,
    "start_time": "2022-10-22T11:59:35.130Z"
   },
   {
    "duration": 20,
    "start_time": "2022-10-22T11:59:45.575Z"
   },
   {
    "duration": 17,
    "start_time": "2022-10-22T11:59:53.704Z"
   },
   {
    "duration": 4,
    "start_time": "2022-10-22T12:00:07.061Z"
   },
   {
    "duration": 160,
    "start_time": "2022-10-22T12:00:17.696Z"
   },
   {
    "duration": 4,
    "start_time": "2022-10-22T12:00:24.162Z"
   },
   {
    "duration": 119,
    "start_time": "2022-10-22T12:00:32.680Z"
   },
   {
    "duration": 7,
    "start_time": "2022-10-22T12:01:19.227Z"
   },
   {
    "duration": 4,
    "start_time": "2022-10-22T12:01:26.888Z"
   },
   {
    "duration": 55,
    "start_time": "2022-10-22T12:01:45.430Z"
   },
   {
    "duration": 5,
    "start_time": "2022-10-22T12:05:48.546Z"
   },
   {
    "duration": 6,
    "start_time": "2022-10-22T12:06:01.857Z"
   },
   {
    "duration": 44,
    "start_time": "2022-10-22T12:06:12.621Z"
   },
   {
    "duration": 26,
    "start_time": "2022-10-22T12:06:49.480Z"
   },
   {
    "duration": 81,
    "start_time": "2022-10-22T12:07:18.581Z"
   },
   {
    "duration": 71,
    "start_time": "2022-10-22T12:07:47.186Z"
   },
   {
    "duration": 11,
    "start_time": "2022-10-22T12:08:40.774Z"
   },
   {
    "duration": 17,
    "start_time": "2022-10-22T12:08:59.858Z"
   },
   {
    "duration": 3520,
    "start_time": "2022-10-22T12:10:29.877Z"
   },
   {
    "duration": 2535,
    "start_time": "2022-10-22T12:10:33.399Z"
   },
   {
    "duration": 337,
    "start_time": "2022-10-22T12:10:35.935Z"
   },
   {
    "duration": 9980,
    "start_time": "2022-10-22T12:10:36.275Z"
   },
   {
    "duration": 4,
    "start_time": "2022-10-22T12:10:46.257Z"
   },
   {
    "duration": 509,
    "start_time": "2022-10-22T12:10:46.263Z"
   },
   {
    "duration": 2,
    "start_time": "2022-10-22T12:10:46.774Z"
   },
   {
    "duration": 1976,
    "start_time": "2022-10-22T12:10:46.778Z"
   },
   {
    "duration": 13,
    "start_time": "2022-10-22T12:10:48.755Z"
   },
   {
    "duration": 5,
    "start_time": "2022-10-22T12:10:48.771Z"
   },
   {
    "duration": 2188,
    "start_time": "2022-10-22T12:10:48.778Z"
   },
   {
    "duration": 0,
    "start_time": "2022-10-22T12:10:50.968Z"
   },
   {
    "duration": 0,
    "start_time": "2022-10-22T12:10:50.968Z"
   },
   {
    "duration": 0,
    "start_time": "2022-10-22T12:10:50.969Z"
   },
   {
    "duration": 0,
    "start_time": "2022-10-22T12:10:50.970Z"
   },
   {
    "duration": 3613,
    "start_time": "2022-10-22T12:11:16.050Z"
   },
   {
    "duration": 2517,
    "start_time": "2022-10-22T12:11:19.665Z"
   },
   {
    "duration": 337,
    "start_time": "2022-10-22T12:11:22.184Z"
   },
   {
    "duration": 10014,
    "start_time": "2022-10-22T12:11:22.523Z"
   },
   {
    "duration": 3,
    "start_time": "2022-10-22T12:11:32.539Z"
   },
   {
    "duration": 513,
    "start_time": "2022-10-22T12:11:32.543Z"
   },
   {
    "duration": 3,
    "start_time": "2022-10-22T12:11:33.058Z"
   },
   {
    "duration": 2095,
    "start_time": "2022-10-22T12:11:33.062Z"
   },
   {
    "duration": 12,
    "start_time": "2022-10-22T12:11:35.159Z"
   },
   {
    "duration": 12,
    "start_time": "2022-10-22T12:11:35.173Z"
   },
   {
    "duration": 7613,
    "start_time": "2022-10-22T12:11:35.186Z"
   },
   {
    "duration": 26852,
    "start_time": "2022-10-22T12:11:42.800Z"
   },
   {
    "duration": 50,
    "start_time": "2022-10-22T12:12:09.654Z"
   },
   {
    "duration": 47,
    "start_time": "2022-10-22T12:12:09.706Z"
   },
   {
    "duration": 135,
    "start_time": "2022-10-22T12:12:09.754Z"
   },
   {
    "duration": 4,
    "start_time": "2022-10-22T12:25:00.675Z"
   },
   {
    "duration": 4,
    "start_time": "2022-10-22T12:25:13.836Z"
   },
   {
    "duration": 6,
    "start_time": "2022-10-22T12:25:26.129Z"
   },
   {
    "duration": 3459,
    "start_time": "2022-10-22T12:28:16.680Z"
   },
   {
    "duration": 841,
    "start_time": "2022-10-22T12:28:20.141Z"
   },
   {
    "duration": 354,
    "start_time": "2022-10-22T12:28:20.983Z"
   },
   {
    "duration": 11480,
    "start_time": "2022-10-22T12:28:21.339Z"
   },
   {
    "duration": 4,
    "start_time": "2022-10-22T12:28:32.822Z"
   },
   {
    "duration": 523,
    "start_time": "2022-10-22T12:28:32.828Z"
   },
   {
    "duration": 3,
    "start_time": "2022-10-22T12:28:33.352Z"
   },
   {
    "duration": 1967,
    "start_time": "2022-10-22T12:28:33.356Z"
   },
   {
    "duration": 14,
    "start_time": "2022-10-22T12:28:35.327Z"
   },
   {
    "duration": 6,
    "start_time": "2022-10-22T12:28:35.343Z"
   },
   {
    "duration": 7874,
    "start_time": "2022-10-22T12:28:35.350Z"
   },
   {
    "duration": 25529,
    "start_time": "2022-10-22T12:28:43.226Z"
   },
   {
    "duration": 4,
    "start_time": "2022-10-22T12:30:42.745Z"
   },
   {
    "duration": 3550,
    "start_time": "2022-10-22T12:54:36.483Z"
   },
   {
    "duration": 2210,
    "start_time": "2022-10-22T12:54:40.035Z"
   },
   {
    "duration": 321,
    "start_time": "2022-10-22T12:54:42.246Z"
   },
   {
    "duration": 9524,
    "start_time": "2022-10-22T12:54:42.569Z"
   },
   {
    "duration": 3,
    "start_time": "2022-10-22T12:54:52.096Z"
   },
   {
    "duration": 477,
    "start_time": "2022-10-22T12:54:52.100Z"
   },
   {
    "duration": 3,
    "start_time": "2022-10-22T12:54:52.578Z"
   },
   {
    "duration": 2172,
    "start_time": "2022-10-22T12:54:52.582Z"
   },
   {
    "duration": 16,
    "start_time": "2022-10-22T12:54:54.756Z"
   },
   {
    "duration": 8,
    "start_time": "2022-10-22T12:54:54.775Z"
   },
   {
    "duration": 7553,
    "start_time": "2022-10-22T12:54:54.784Z"
   },
   {
    "duration": 24383,
    "start_time": "2022-10-22T12:55:02.338Z"
   },
   {
    "duration": 19,
    "start_time": "2022-10-22T13:21:56.558Z"
   },
   {
    "duration": 7,
    "start_time": "2022-10-22T13:22:06.277Z"
   },
   {
    "duration": 941,
    "start_time": "2022-10-22T13:23:02.584Z"
   },
   {
    "duration": 16,
    "start_time": "2022-10-22T13:23:32.911Z"
   },
   {
    "duration": 4,
    "start_time": "2022-10-22T13:24:37.516Z"
   },
   {
    "duration": 140,
    "start_time": "2022-10-22T13:24:41.769Z"
   },
   {
    "duration": 104,
    "start_time": "2022-10-22T13:24:59.676Z"
   },
   {
    "duration": 4,
    "start_time": "2022-10-22T13:25:45.688Z"
   },
   {
    "duration": 3,
    "start_time": "2022-10-22T14:00:19.302Z"
   },
   {
    "duration": 29,
    "start_time": "2022-10-22T14:01:41.853Z"
   },
   {
    "duration": 41,
    "start_time": "2022-10-22T14:02:40.204Z"
   },
   {
    "duration": 4,
    "start_time": "2022-10-22T14:28:57.062Z"
   },
   {
    "duration": 22809,
    "start_time": "2022-10-22T14:32:06.827Z"
   },
   {
    "duration": 3,
    "start_time": "2022-10-22T14:43:07.093Z"
   },
   {
    "duration": 86209,
    "start_time": "2022-10-22T15:07:28.627Z"
   },
   {
    "duration": 86420,
    "start_time": "2022-10-22T15:09:44.424Z"
   },
   {
    "duration": 5,
    "start_time": "2022-10-22T15:13:27.263Z"
   },
   {
    "duration": 4,
    "start_time": "2022-10-22T15:13:28.580Z"
   },
   {
    "duration": 42488,
    "start_time": "2022-10-22T15:13:31.754Z"
   },
   {
    "duration": 4,
    "start_time": "2022-10-22T15:16:06.105Z"
   },
   {
    "duration": 3,
    "start_time": "2022-10-22T15:16:06.779Z"
   },
   {
    "duration": 42334,
    "start_time": "2022-10-22T15:16:08.862Z"
   },
   {
    "duration": 4,
    "start_time": "2022-10-22T15:19:34.733Z"
   },
   {
    "duration": 85958,
    "start_time": "2022-10-22T15:19:37.948Z"
   },
   {
    "duration": 4,
    "start_time": "2022-10-22T15:21:25.456Z"
   },
   {
    "duration": 19,
    "start_time": "2022-10-22T15:23:36.524Z"
   },
   {
    "duration": 18,
    "start_time": "2022-10-22T15:24:13.630Z"
   },
   {
    "duration": 4,
    "start_time": "2022-10-22T15:24:40.497Z"
   },
   {
    "duration": 29,
    "start_time": "2022-10-22T15:25:00.087Z"
   },
   {
    "duration": 52,
    "start_time": "2022-10-22T15:25:16.163Z"
   },
   {
    "duration": 512215,
    "start_time": "2022-10-22T15:25:31.694Z"
   },
   {
    "duration": 3781,
    "start_time": "2022-10-22T15:44:36.749Z"
   },
   {
    "duration": 1446,
    "start_time": "2022-10-22T15:44:40.532Z"
   },
   {
    "duration": 324,
    "start_time": "2022-10-22T15:44:41.979Z"
   },
   {
    "duration": 9757,
    "start_time": "2022-10-22T15:44:42.305Z"
   },
   {
    "duration": 4,
    "start_time": "2022-10-22T15:44:52.063Z"
   },
   {
    "duration": 486,
    "start_time": "2022-10-22T15:44:52.068Z"
   },
   {
    "duration": 3,
    "start_time": "2022-10-22T15:44:52.555Z"
   },
   {
    "duration": 2027,
    "start_time": "2022-10-22T15:44:52.559Z"
   },
   {
    "duration": 26,
    "start_time": "2022-10-22T15:44:54.588Z"
   },
   {
    "duration": 10,
    "start_time": "2022-10-22T15:44:54.617Z"
   },
   {
    "duration": 7695,
    "start_time": "2022-10-22T15:44:54.628Z"
   },
   {
    "duration": 23821,
    "start_time": "2022-10-22T15:45:02.324Z"
   },
   {
    "duration": 4,
    "start_time": "2022-10-22T15:45:26.146Z"
   },
   {
    "duration": 11,
    "start_time": "2022-10-22T15:45:26.151Z"
   },
   {
    "duration": 86905,
    "start_time": "2022-10-22T15:45:26.163Z"
   },
   {
    "duration": 206,
    "start_time": "2022-10-22T15:51:46.212Z"
   },
   {
    "duration": 275197,
    "start_time": "2022-10-22T16:09:26.713Z"
   },
   {
    "duration": 4,
    "start_time": "2022-10-22T16:16:11.237Z"
   },
   {
    "duration": 4131,
    "start_time": "2022-10-22T16:18:31.592Z"
   },
   {
    "duration": 2290,
    "start_time": "2022-10-22T16:18:35.725Z"
   },
   {
    "duration": 334,
    "start_time": "2022-10-22T16:18:38.017Z"
   },
   {
    "duration": 11353,
    "start_time": "2022-10-22T16:18:38.352Z"
   },
   {
    "duration": 3,
    "start_time": "2022-10-22T16:18:49.708Z"
   },
   {
    "duration": 483,
    "start_time": "2022-10-22T16:18:49.713Z"
   },
   {
    "duration": 3,
    "start_time": "2022-10-22T16:18:50.198Z"
   },
   {
    "duration": 1948,
    "start_time": "2022-10-22T16:18:50.209Z"
   },
   {
    "duration": 14,
    "start_time": "2022-10-22T16:18:52.158Z"
   },
   {
    "duration": 8,
    "start_time": "2022-10-22T16:18:52.173Z"
   },
   {
    "duration": 7541,
    "start_time": "2022-10-22T16:18:52.182Z"
   },
   {
    "duration": 23346,
    "start_time": "2022-10-22T16:18:59.724Z"
   },
   {
    "duration": 4,
    "start_time": "2022-10-22T16:19:23.111Z"
   },
   {
    "duration": 4,
    "start_time": "2022-10-22T16:19:23.118Z"
   },
   {
    "duration": 91062,
    "start_time": "2022-10-22T16:19:23.124Z"
   },
   {
    "duration": 215223,
    "start_time": "2022-10-22T16:20:54.188Z"
   },
   {
    "duration": 9,
    "start_time": "2022-10-22T16:24:29.420Z"
   },
   {
    "duration": 144,
    "start_time": "2022-10-22T16:24:29.508Z"
   },
   {
    "duration": 3971,
    "start_time": "2022-10-22T16:26:37.543Z"
   },
   {
    "duration": 2220,
    "start_time": "2022-10-22T16:26:41.516Z"
   },
   {
    "duration": 319,
    "start_time": "2022-10-22T16:26:43.738Z"
   },
   {
    "duration": 9702,
    "start_time": "2022-10-22T16:26:44.060Z"
   },
   {
    "duration": 4,
    "start_time": "2022-10-22T16:26:53.764Z"
   },
   {
    "duration": 474,
    "start_time": "2022-10-22T16:26:53.770Z"
   },
   {
    "duration": 3,
    "start_time": "2022-10-22T16:26:54.246Z"
   },
   {
    "duration": 1904,
    "start_time": "2022-10-22T16:26:54.250Z"
   },
   {
    "duration": 15,
    "start_time": "2022-10-22T16:26:56.156Z"
   },
   {
    "duration": 9,
    "start_time": "2022-10-22T16:26:56.174Z"
   },
   {
    "duration": 7384,
    "start_time": "2022-10-22T16:26:56.185Z"
   },
   {
    "duration": 22959,
    "start_time": "2022-10-22T16:27:03.571Z"
   },
   {
    "duration": 4,
    "start_time": "2022-10-22T16:27:26.531Z"
   },
   {
    "duration": 15,
    "start_time": "2022-10-22T16:27:26.537Z"
   },
   {
    "duration": 87640,
    "start_time": "2022-10-22T16:27:26.554Z"
   },
   {
    "duration": 3,
    "start_time": "2022-10-22T16:28:54.195Z"
   },
   {
    "duration": 86,
    "start_time": "2022-10-22T16:31:13.082Z"
   },
   {
    "duration": 3936,
    "start_time": "2022-10-22T16:31:29.822Z"
   },
   {
    "duration": 2208,
    "start_time": "2022-10-22T16:31:33.759Z"
   },
   {
    "duration": 318,
    "start_time": "2022-10-22T16:31:35.968Z"
   },
   {
    "duration": 12329,
    "start_time": "2022-10-22T16:31:36.287Z"
   },
   {
    "duration": 4,
    "start_time": "2022-10-22T16:31:48.618Z"
   },
   {
    "duration": 484,
    "start_time": "2022-10-22T16:31:48.623Z"
   },
   {
    "duration": 3,
    "start_time": "2022-10-22T16:31:49.109Z"
   },
   {
    "duration": 1979,
    "start_time": "2022-10-22T16:31:49.113Z"
   },
   {
    "duration": 17,
    "start_time": "2022-10-22T16:31:51.094Z"
   },
   {
    "duration": 7,
    "start_time": "2022-10-22T16:31:51.112Z"
   },
   {
    "duration": 7443,
    "start_time": "2022-10-22T16:31:51.120Z"
   },
   {
    "duration": 23579,
    "start_time": "2022-10-22T16:31:58.564Z"
   },
   {
    "duration": 4,
    "start_time": "2022-10-22T16:32:22.144Z"
   },
   {
    "duration": 4,
    "start_time": "2022-10-22T16:32:22.151Z"
   },
   {
    "duration": 7,
    "start_time": "2022-10-22T16:32:22.156Z"
   },
   {
    "duration": 8,
    "start_time": "2022-10-22T16:32:22.165Z"
   },
   {
    "duration": 48,
    "start_time": "2022-10-22T16:33:00.517Z"
   },
   {
    "duration": 3894,
    "start_time": "2022-10-22T16:37:56.529Z"
   },
   {
    "duration": 2249,
    "start_time": "2022-10-22T16:38:00.425Z"
   },
   {
    "duration": 315,
    "start_time": "2022-10-22T16:38:02.676Z"
   },
   {
    "duration": 9673,
    "start_time": "2022-10-22T16:38:02.993Z"
   },
   {
    "duration": 4,
    "start_time": "2022-10-22T16:38:12.668Z"
   },
   {
    "duration": 488,
    "start_time": "2022-10-22T16:38:12.673Z"
   },
   {
    "duration": 3,
    "start_time": "2022-10-22T16:38:13.162Z"
   },
   {
    "duration": 1836,
    "start_time": "2022-10-22T16:38:13.167Z"
   },
   {
    "duration": 14,
    "start_time": "2022-10-22T16:38:15.004Z"
   },
   {
    "duration": 8,
    "start_time": "2022-10-22T16:38:15.021Z"
   },
   {
    "duration": 7333,
    "start_time": "2022-10-22T16:38:15.031Z"
   },
   {
    "duration": 23378,
    "start_time": "2022-10-22T16:38:22.366Z"
   },
   {
    "duration": 3,
    "start_time": "2022-10-22T16:38:45.746Z"
   },
   {
    "duration": 5,
    "start_time": "2022-10-22T16:38:45.751Z"
   },
   {
    "duration": 31,
    "start_time": "2022-10-22T16:38:45.757Z"
   },
   {
    "duration": 20,
    "start_time": "2022-10-22T16:38:45.789Z"
   },
   {
    "duration": 5,
    "start_time": "2022-10-22T16:38:45.811Z"
   },
   {
    "duration": 4100,
    "start_time": "2022-10-22T16:42:21.151Z"
   },
   {
    "duration": 2282,
    "start_time": "2022-10-22T16:42:25.253Z"
   },
   {
    "duration": 319,
    "start_time": "2022-10-22T16:42:27.536Z"
   },
   {
    "duration": 10478,
    "start_time": "2022-10-22T16:42:27.857Z"
   },
   {
    "duration": 3,
    "start_time": "2022-10-22T16:42:38.337Z"
   },
   {
    "duration": 490,
    "start_time": "2022-10-22T16:42:38.342Z"
   },
   {
    "duration": 2,
    "start_time": "2022-10-22T16:42:38.834Z"
   },
   {
    "duration": 1892,
    "start_time": "2022-10-22T16:42:38.837Z"
   },
   {
    "duration": 14,
    "start_time": "2022-10-22T16:42:40.731Z"
   },
   {
    "duration": 6,
    "start_time": "2022-10-22T16:42:40.747Z"
   },
   {
    "duration": 7460,
    "start_time": "2022-10-22T16:42:40.755Z"
   },
   {
    "duration": 25920,
    "start_time": "2022-10-22T16:42:48.217Z"
   },
   {
    "duration": 4,
    "start_time": "2022-10-22T16:43:14.139Z"
   },
   {
    "duration": 7,
    "start_time": "2022-10-22T16:43:14.145Z"
   },
   {
    "duration": 5,
    "start_time": "2022-10-22T16:43:14.153Z"
   },
   {
    "duration": 6,
    "start_time": "2022-10-22T16:43:14.160Z"
   },
   {
    "duration": 6,
    "start_time": "2022-10-22T16:43:14.167Z"
   },
   {
    "duration": 4394,
    "start_time": "2022-10-22T16:54:05.774Z"
   },
   {
    "duration": 2480,
    "start_time": "2022-10-22T16:54:10.170Z"
   },
   {
    "duration": 336,
    "start_time": "2022-10-22T16:54:12.651Z"
   },
   {
    "duration": 10785,
    "start_time": "2022-10-22T16:54:12.989Z"
   },
   {
    "duration": 4,
    "start_time": "2022-10-22T16:54:23.776Z"
   },
   {
    "duration": 570,
    "start_time": "2022-10-22T16:54:23.782Z"
   },
   {
    "duration": 3,
    "start_time": "2022-10-22T16:54:24.353Z"
   },
   {
    "duration": 2160,
    "start_time": "2022-10-22T16:54:24.358Z"
   },
   {
    "duration": 23,
    "start_time": "2022-10-22T16:54:26.521Z"
   },
   {
    "duration": 30,
    "start_time": "2022-10-22T16:54:26.546Z"
   },
   {
    "duration": 8309,
    "start_time": "2022-10-22T16:54:26.578Z"
   },
   {
    "duration": 23760,
    "start_time": "2022-10-22T16:54:34.888Z"
   },
   {
    "duration": 4,
    "start_time": "2022-10-22T16:54:58.650Z"
   },
   {
    "duration": 6,
    "start_time": "2022-10-22T16:54:58.655Z"
   },
   {
    "duration": 4,
    "start_time": "2022-10-22T16:54:58.662Z"
   },
   {
    "duration": 6,
    "start_time": "2022-10-22T16:54:58.668Z"
   },
   {
    "duration": 6,
    "start_time": "2022-10-22T16:54:58.675Z"
   },
   {
    "duration": 4042,
    "start_time": "2022-10-22T17:06:55.450Z"
   },
   {
    "duration": 2242,
    "start_time": "2022-10-22T17:06:59.494Z"
   },
   {
    "duration": 340,
    "start_time": "2022-10-22T17:07:01.737Z"
   },
   {
    "duration": 11782,
    "start_time": "2022-10-22T17:07:02.078Z"
   },
   {
    "duration": 3,
    "start_time": "2022-10-22T17:07:13.862Z"
   },
   {
    "duration": 485,
    "start_time": "2022-10-22T17:07:13.867Z"
   },
   {
    "duration": 2,
    "start_time": "2022-10-22T17:07:14.354Z"
   },
   {
    "duration": 1994,
    "start_time": "2022-10-22T17:07:14.358Z"
   },
   {
    "duration": 14,
    "start_time": "2022-10-22T17:07:16.353Z"
   },
   {
    "duration": 8,
    "start_time": "2022-10-22T17:07:16.370Z"
   },
   {
    "duration": 7454,
    "start_time": "2022-10-22T17:07:16.380Z"
   },
   {
    "duration": 23819,
    "start_time": "2022-10-22T17:07:23.836Z"
   },
   {
    "duration": 4,
    "start_time": "2022-10-22T17:07:47.657Z"
   },
   {
    "duration": 6,
    "start_time": "2022-10-22T17:07:47.663Z"
   },
   {
    "duration": 8,
    "start_time": "2022-10-22T17:07:47.710Z"
   },
   {
    "duration": 7,
    "start_time": "2022-10-22T17:07:47.719Z"
   },
   {
    "duration": 6,
    "start_time": "2022-10-22T17:07:47.727Z"
   },
   {
    "duration": 26,
    "start_time": "2022-10-22T17:07:47.735Z"
   },
   {
    "duration": 0,
    "start_time": "2022-10-22T17:07:47.762Z"
   },
   {
    "duration": 4028,
    "start_time": "2022-10-22T17:10:18.270Z"
   },
   {
    "duration": 2234,
    "start_time": "2022-10-22T17:10:22.300Z"
   },
   {
    "duration": 341,
    "start_time": "2022-10-22T17:10:24.536Z"
   },
   {
    "duration": 10165,
    "start_time": "2022-10-22T17:10:24.878Z"
   },
   {
    "duration": 3,
    "start_time": "2022-10-22T17:10:35.045Z"
   },
   {
    "duration": 496,
    "start_time": "2022-10-22T17:10:35.050Z"
   },
   {
    "duration": 3,
    "start_time": "2022-10-22T17:10:35.547Z"
   },
   {
    "duration": 1745,
    "start_time": "2022-10-22T17:10:35.551Z"
   },
   {
    "duration": 24,
    "start_time": "2022-10-22T17:10:37.298Z"
   },
   {
    "duration": 16,
    "start_time": "2022-10-22T17:10:37.324Z"
   },
   {
    "duration": 7328,
    "start_time": "2022-10-22T17:10:37.341Z"
   },
   {
    "duration": 24774,
    "start_time": "2022-10-22T17:10:44.671Z"
   },
   {
    "duration": 4,
    "start_time": "2022-10-22T17:11:09.447Z"
   },
   {
    "duration": 6,
    "start_time": "2022-10-22T17:11:09.452Z"
   },
   {
    "duration": 7,
    "start_time": "2022-10-22T17:11:09.460Z"
   },
   {
    "duration": 3,
    "start_time": "2022-10-22T17:11:09.510Z"
   },
   {
    "duration": 8,
    "start_time": "2022-10-22T17:11:09.515Z"
   },
   {
    "duration": 3,
    "start_time": "2022-10-22T17:11:09.525Z"
   },
   {
    "duration": 141,
    "start_time": "2022-10-22T17:11:09.529Z"
   },
   {
    "duration": 12303,
    "start_time": "2022-10-23T11:15:59.451Z"
   },
   {
    "duration": 2333,
    "start_time": "2022-10-23T11:16:11.757Z"
   },
   {
    "duration": 326,
    "start_time": "2022-10-23T11:16:14.092Z"
   },
   {
    "duration": 10886,
    "start_time": "2022-10-23T11:16:14.420Z"
   },
   {
    "duration": 3,
    "start_time": "2022-10-23T11:16:25.309Z"
   },
   {
    "duration": 691,
    "start_time": "2022-10-23T11:16:25.314Z"
   },
   {
    "duration": 3,
    "start_time": "2022-10-23T11:16:26.007Z"
   },
   {
    "duration": 1955,
    "start_time": "2022-10-23T11:16:26.011Z"
   },
   {
    "duration": 19,
    "start_time": "2022-10-23T11:16:27.968Z"
   },
   {
    "duration": 17,
    "start_time": "2022-10-23T11:16:27.988Z"
   },
   {
    "duration": 8528,
    "start_time": "2022-10-23T11:16:28.008Z"
   },
   {
    "duration": 25662,
    "start_time": "2022-10-23T11:16:36.537Z"
   },
   {
    "duration": 5,
    "start_time": "2022-10-23T11:17:02.201Z"
   },
   {
    "duration": 49,
    "start_time": "2022-10-23T11:17:02.208Z"
   },
   {
    "duration": 11,
    "start_time": "2022-10-23T11:17:02.260Z"
   },
   {
    "duration": 22,
    "start_time": "2022-10-23T11:17:02.273Z"
   },
   {
    "duration": 16,
    "start_time": "2022-10-23T11:17:02.297Z"
   },
   {
    "duration": 13,
    "start_time": "2022-10-23T11:17:02.314Z"
   },
   {
    "duration": 160,
    "start_time": "2022-10-23T11:17:02.328Z"
   },
   {
    "duration": 4,
    "start_time": "2022-10-23T11:17:16.646Z"
   },
   {
    "duration": 12345,
    "start_time": "2022-10-23T12:18:50.038Z"
   },
   {
    "duration": 2295,
    "start_time": "2022-10-23T12:19:02.385Z"
   },
   {
    "duration": 332,
    "start_time": "2022-10-23T12:19:04.682Z"
   },
   {
    "duration": 10844,
    "start_time": "2022-10-23T12:19:05.017Z"
   },
   {
    "duration": 3,
    "start_time": "2022-10-23T12:19:15.863Z"
   },
   {
    "duration": 710,
    "start_time": "2022-10-23T12:19:15.868Z"
   },
   {
    "duration": 2,
    "start_time": "2022-10-23T12:19:16.580Z"
   },
   {
    "duration": 2143,
    "start_time": "2022-10-23T12:19:16.584Z"
   },
   {
    "duration": 26,
    "start_time": "2022-10-23T12:19:18.730Z"
   },
   {
    "duration": 10,
    "start_time": "2022-10-23T12:19:18.758Z"
   },
   {
    "duration": 8391,
    "start_time": "2022-10-23T12:19:18.770Z"
   },
   {
    "duration": 24742,
    "start_time": "2022-10-23T12:19:27.162Z"
   },
   {
    "duration": 4,
    "start_time": "2022-10-23T12:19:51.906Z"
   },
   {
    "duration": 26,
    "start_time": "2022-10-23T12:19:51.912Z"
   },
   {
    "duration": 21,
    "start_time": "2022-10-23T12:19:51.940Z"
   },
   {
    "duration": 18,
    "start_time": "2022-10-23T12:19:51.964Z"
   },
   {
    "duration": 13,
    "start_time": "2022-10-23T12:19:51.984Z"
   },
   {
    "duration": 9,
    "start_time": "2022-10-23T12:19:51.998Z"
   },
   {
    "duration": 146,
    "start_time": "2022-10-23T12:19:52.008Z"
   },
   {
    "duration": 12,
    "start_time": "2022-10-23T12:36:21.229Z"
   },
   {
    "duration": 5,
    "start_time": "2022-10-23T12:40:24.758Z"
   },
   {
    "duration": 31,
    "start_time": "2022-10-23T12:40:40.381Z"
   },
   {
    "duration": 20,
    "start_time": "2022-10-23T12:41:04.303Z"
   },
   {
    "duration": 21,
    "start_time": "2022-10-23T12:41:12.841Z"
   },
   {
    "duration": 25,
    "start_time": "2022-10-23T12:41:17.615Z"
   },
   {
    "duration": 29,
    "start_time": "2022-10-23T12:41:46.701Z"
   },
   {
    "duration": 25,
    "start_time": "2022-10-23T12:41:57.005Z"
   },
   {
    "duration": 27,
    "start_time": "2022-10-23T12:41:59.945Z"
   },
   {
    "duration": 21,
    "start_time": "2022-10-23T12:42:10.265Z"
   },
   {
    "duration": 18,
    "start_time": "2022-10-23T12:42:15.088Z"
   },
   {
    "duration": 14,
    "start_time": "2022-10-23T12:42:38.252Z"
   },
   {
    "duration": 5315,
    "start_time": "2022-10-23T12:43:00.743Z"
   },
   {
    "duration": 2269,
    "start_time": "2022-10-23T12:43:06.060Z"
   },
   {
    "duration": 368,
    "start_time": "2022-10-23T12:43:08.331Z"
   },
   {
    "duration": 10432,
    "start_time": "2022-10-23T12:43:08.701Z"
   },
   {
    "duration": 3,
    "start_time": "2022-10-23T12:43:19.135Z"
   },
   {
    "duration": 642,
    "start_time": "2022-10-23T12:43:19.140Z"
   },
   {
    "duration": 3,
    "start_time": "2022-10-23T12:43:19.784Z"
   },
   {
    "duration": 1970,
    "start_time": "2022-10-23T12:43:19.789Z"
   },
   {
    "duration": 20,
    "start_time": "2022-10-23T12:43:21.761Z"
   },
   {
    "duration": 16,
    "start_time": "2022-10-23T12:43:21.783Z"
   },
   {
    "duration": 8314,
    "start_time": "2022-10-23T12:43:21.801Z"
   },
   {
    "duration": 25674,
    "start_time": "2022-10-23T12:43:30.116Z"
   },
   {
    "duration": 4,
    "start_time": "2022-10-23T12:43:55.792Z"
   },
   {
    "duration": 5,
    "start_time": "2022-10-23T12:43:55.798Z"
   },
   {
    "duration": 8,
    "start_time": "2022-10-23T12:43:55.804Z"
   },
   {
    "duration": 16,
    "start_time": "2022-10-23T12:43:55.814Z"
   },
   {
    "duration": 7,
    "start_time": "2022-10-23T12:43:55.832Z"
   },
   {
    "duration": 15,
    "start_time": "2022-10-23T12:43:55.841Z"
   },
   {
    "duration": 150,
    "start_time": "2022-10-23T12:43:55.858Z"
   },
   {
    "duration": 4,
    "start_time": "2022-10-23T12:43:56.010Z"
   },
   {
    "duration": 39,
    "start_time": "2022-10-23T12:43:56.016Z"
   },
   {
    "duration": 5,
    "start_time": "2022-10-23T13:39:07.587Z"
   },
   {
    "duration": 4,
    "start_time": "2022-10-23T13:39:17.397Z"
   },
   {
    "duration": 16,
    "start_time": "2022-10-23T13:39:21.690Z"
   },
   {
    "duration": 9574,
    "start_time": "2022-10-23T13:42:29.535Z"
   },
   {
    "duration": 2321,
    "start_time": "2022-10-23T13:42:39.111Z"
   },
   {
    "duration": 398,
    "start_time": "2022-10-23T13:42:41.435Z"
   },
   {
    "duration": 10049,
    "start_time": "2022-10-23T13:42:41.835Z"
   },
   {
    "duration": 4,
    "start_time": "2022-10-23T13:42:51.887Z"
   },
   {
    "duration": 680,
    "start_time": "2022-10-23T13:42:51.893Z"
   },
   {
    "duration": 3,
    "start_time": "2022-10-23T13:42:52.576Z"
   },
   {
    "duration": 1931,
    "start_time": "2022-10-23T13:42:52.580Z"
   },
   {
    "duration": 20,
    "start_time": "2022-10-23T13:42:54.513Z"
   },
   {
    "duration": 36,
    "start_time": "2022-10-23T13:42:54.534Z"
   },
   {
    "duration": 6,
    "start_time": "2022-10-23T13:42:54.572Z"
   },
   {
    "duration": 4277,
    "start_time": "2022-10-23T13:42:54.580Z"
   },
   {
    "duration": 18004,
    "start_time": "2022-10-23T13:42:58.858Z"
   },
   {
    "duration": 3,
    "start_time": "2022-10-23T13:43:16.865Z"
   },
   {
    "duration": 10,
    "start_time": "2022-10-23T13:43:16.870Z"
   },
   {
    "duration": 5,
    "start_time": "2022-10-23T13:43:16.881Z"
   },
   {
    "duration": 6,
    "start_time": "2022-10-23T13:43:16.887Z"
   },
   {
    "duration": 6,
    "start_time": "2022-10-23T13:43:16.895Z"
   },
   {
    "duration": 43868,
    "start_time": "2022-10-23T13:43:16.902Z"
   },
   {
    "duration": 177,
    "start_time": "2022-10-23T13:44:00.772Z"
   },
   {
    "duration": 4,
    "start_time": "2022-10-23T13:44:00.951Z"
   },
   {
    "duration": 41,
    "start_time": "2022-10-23T13:44:00.956Z"
   },
   {
    "duration": 12,
    "start_time": "2022-10-23T13:44:00.999Z"
   },
   {
    "duration": 43604,
    "start_time": "2022-10-23T13:45:48.965Z"
   },
   {
    "duration": 4412,
    "start_time": "2022-10-23T14:11:32.517Z"
   },
   {
    "duration": 781,
    "start_time": "2022-10-23T14:11:36.932Z"
   },
   {
    "duration": 357,
    "start_time": "2022-10-23T14:11:37.717Z"
   },
   {
    "duration": 14006,
    "start_time": "2022-10-23T14:11:38.076Z"
   },
   {
    "duration": 5,
    "start_time": "2022-10-23T14:11:52.085Z"
   },
   {
    "duration": 517,
    "start_time": "2022-10-23T14:11:52.092Z"
   },
   {
    "duration": 3,
    "start_time": "2022-10-23T14:11:52.611Z"
   },
   {
    "duration": 1941,
    "start_time": "2022-10-23T14:11:52.616Z"
   },
   {
    "duration": 17,
    "start_time": "2022-10-23T14:11:54.559Z"
   },
   {
    "duration": 33,
    "start_time": "2022-10-23T14:11:54.578Z"
   },
   {
    "duration": 9,
    "start_time": "2022-10-23T14:11:54.612Z"
   },
   {
    "duration": 4316,
    "start_time": "2022-10-23T14:11:54.623Z"
   },
   {
    "duration": 19427,
    "start_time": "2022-10-23T14:11:58.940Z"
   },
   {
    "duration": 4,
    "start_time": "2022-10-23T14:12:18.369Z"
   },
   {
    "duration": 19,
    "start_time": "2022-10-23T14:12:18.375Z"
   },
   {
    "duration": 37117,
    "start_time": "2022-10-23T14:12:18.396Z"
   },
   {
    "duration": 147289,
    "start_time": "2022-10-23T14:12:55.515Z"
   },
   {
    "duration": 130748,
    "start_time": "2022-10-23T14:15:22.806Z"
   },
   {
    "duration": 4,
    "start_time": "2022-10-23T14:17:33.556Z"
   },
   {
    "duration": 530017,
    "start_time": "2022-10-23T14:17:33.562Z"
   },
   {
    "duration": 173,
    "start_time": "2022-10-23T14:26:23.581Z"
   },
   {
    "duration": 330,
    "start_time": "2022-10-23T14:28:58.163Z"
   },
   {
    "duration": 19461,
    "start_time": "2022-10-23T14:29:16.837Z"
   },
   {
    "duration": 146104,
    "start_time": "2022-10-23T14:31:16.325Z"
   },
   {
    "duration": 91,
    "start_time": "2022-10-23T14:41:32.445Z"
   },
   {
    "duration": 9406,
    "start_time": "2022-10-23T14:42:37.364Z"
   },
   {
    "duration": 2306,
    "start_time": "2022-10-23T14:42:46.772Z"
   },
   {
    "duration": 357,
    "start_time": "2022-10-23T14:42:49.080Z"
   },
   {
    "duration": 11023,
    "start_time": "2022-10-23T14:42:49.440Z"
   },
   {
    "duration": 4,
    "start_time": "2022-10-23T14:43:00.465Z"
   },
   {
    "duration": 867,
    "start_time": "2022-10-23T14:43:00.470Z"
   },
   {
    "duration": 3,
    "start_time": "2022-10-23T14:43:01.339Z"
   },
   {
    "duration": 2411,
    "start_time": "2022-10-23T14:43:01.344Z"
   },
   {
    "duration": 19,
    "start_time": "2022-10-23T14:43:03.757Z"
   },
   {
    "duration": 29,
    "start_time": "2022-10-23T14:43:03.780Z"
   },
   {
    "duration": 9,
    "start_time": "2022-10-23T14:43:03.811Z"
   },
   {
    "duration": 4532,
    "start_time": "2022-10-23T14:43:03.822Z"
   },
   {
    "duration": 20116,
    "start_time": "2022-10-23T14:43:08.356Z"
   },
   {
    "duration": 5,
    "start_time": "2022-10-23T14:43:28.474Z"
   },
   {
    "duration": 15,
    "start_time": "2022-10-23T14:43:28.481Z"
   },
   {
    "duration": 142659,
    "start_time": "2022-10-23T14:43:28.498Z"
   },
   {
    "duration": 18927,
    "start_time": "2022-10-23T14:45:51.159Z"
   },
   {
    "duration": 3,
    "start_time": "2022-10-23T14:46:10.089Z"
   },
   {
    "duration": 19,
    "start_time": "2022-10-23T14:46:10.094Z"
   },
   {
    "duration": 88,
    "start_time": "2022-10-23T14:46:51.301Z"
   },
   {
    "duration": 9237,
    "start_time": "2022-10-23T14:50:36.671Z"
   },
   {
    "duration": 2459,
    "start_time": "2022-10-23T14:50:45.910Z"
   },
   {
    "duration": 386,
    "start_time": "2022-10-23T14:50:48.370Z"
   },
   {
    "duration": 10625,
    "start_time": "2022-10-23T14:50:48.759Z"
   },
   {
    "duration": 4,
    "start_time": "2022-10-23T14:50:59.387Z"
   },
   {
    "duration": 703,
    "start_time": "2022-10-23T14:50:59.393Z"
   },
   {
    "duration": 2,
    "start_time": "2022-10-23T14:51:00.098Z"
   },
   {
    "duration": 1817,
    "start_time": "2022-10-23T14:51:00.102Z"
   },
   {
    "duration": 18,
    "start_time": "2022-10-23T14:51:01.921Z"
   },
   {
    "duration": 42,
    "start_time": "2022-10-23T14:51:01.941Z"
   },
   {
    "duration": 11,
    "start_time": "2022-10-23T14:51:01.985Z"
   },
   {
    "duration": 4363,
    "start_time": "2022-10-23T14:51:01.998Z"
   },
   {
    "duration": 19105,
    "start_time": "2022-10-23T14:51:06.363Z"
   },
   {
    "duration": 4,
    "start_time": "2022-10-23T14:51:25.470Z"
   },
   {
    "duration": 24,
    "start_time": "2022-10-23T14:51:25.475Z"
   },
   {
    "duration": 8,
    "start_time": "2022-10-23T14:51:25.501Z"
   },
   {
    "duration": 375,
    "start_time": "2022-10-23T14:51:25.511Z"
   },
   {
    "duration": 19,
    "start_time": "2022-10-23T14:51:25.888Z"
   },
   {
    "duration": 0,
    "start_time": "2022-10-23T14:51:25.909Z"
   },
   {
    "duration": 0,
    "start_time": "2022-10-23T14:51:25.910Z"
   },
   {
    "duration": 0,
    "start_time": "2022-10-23T14:51:25.911Z"
   },
   {
    "duration": 0,
    "start_time": "2022-10-23T14:51:25.913Z"
   },
   {
    "duration": 0,
    "start_time": "2022-10-23T14:51:25.914Z"
   },
   {
    "duration": 5142,
    "start_time": "2022-10-23T14:51:37.627Z"
   },
   {
    "duration": 6401,
    "start_time": "2022-10-23T14:54:49.063Z"
   },
   {
    "duration": 4711,
    "start_time": "2022-10-23T14:56:23.954Z"
   },
   {
    "duration": 3,
    "start_time": "2022-10-23T14:57:46.843Z"
   },
   {
    "duration": 4526,
    "start_time": "2022-10-23T14:58:11.136Z"
   },
   {
    "duration": 4929,
    "start_time": "2022-10-23T14:58:24.558Z"
   },
   {
    "duration": 113996,
    "start_time": "2022-10-23T15:03:49.164Z"
   },
   {
    "duration": 4705,
    "start_time": "2022-10-23T15:05:43.162Z"
   },
   {
    "duration": 17207,
    "start_time": "2022-10-23T15:05:47.869Z"
   },
   {
    "duration": 93,
    "start_time": "2022-10-23T15:07:22.582Z"
   },
   {
    "duration": 507677,
    "start_time": "2022-10-23T15:07:38.872Z"
   },
   {
    "duration": 4435,
    "start_time": "2022-10-23T15:35:20.460Z"
   },
   {
    "duration": 807,
    "start_time": "2022-10-23T15:35:24.897Z"
   },
   {
    "duration": 349,
    "start_time": "2022-10-23T15:35:25.705Z"
   },
   {
    "duration": 11431,
    "start_time": "2022-10-23T15:35:26.055Z"
   },
   {
    "duration": 3,
    "start_time": "2022-10-23T15:35:37.489Z"
   },
   {
    "duration": 543,
    "start_time": "2022-10-23T15:35:37.494Z"
   },
   {
    "duration": 4,
    "start_time": "2022-10-23T15:35:38.039Z"
   },
   {
    "duration": 1956,
    "start_time": "2022-10-23T15:35:38.044Z"
   },
   {
    "duration": 20,
    "start_time": "2022-10-23T15:35:40.002Z"
   },
   {
    "duration": 44,
    "start_time": "2022-10-23T15:35:40.025Z"
   },
   {
    "duration": 9,
    "start_time": "2022-10-23T15:35:40.070Z"
   },
   {
    "duration": 4367,
    "start_time": "2022-10-23T15:35:40.080Z"
   },
   {
    "duration": 19125,
    "start_time": "2022-10-23T15:35:44.454Z"
   },
   {
    "duration": 4,
    "start_time": "2022-10-23T15:36:03.581Z"
   },
   {
    "duration": 19,
    "start_time": "2022-10-23T15:36:03.654Z"
   },
   {
    "duration": 6,
    "start_time": "2022-10-23T15:36:03.674Z"
   },
   {
    "duration": 106779,
    "start_time": "2022-10-23T15:36:03.681Z"
   },
   {
    "duration": 7208,
    "start_time": "2022-10-23T15:37:50.462Z"
   },
   {
    "duration": 17610,
    "start_time": "2022-10-23T15:37:57.672Z"
   },
   {
    "duration": 2,
    "start_time": "2022-10-23T15:38:15.284Z"
   },
   {
    "duration": 16,
    "start_time": "2022-10-23T15:38:15.287Z"
   },
   {
    "duration": 4384,
    "start_time": "2022-10-23T15:53:35.164Z"
   },
   {
    "duration": 819,
    "start_time": "2022-10-23T15:53:39.550Z"
   },
   {
    "duration": 378,
    "start_time": "2022-10-23T15:53:40.370Z"
   },
   {
    "duration": 10334,
    "start_time": "2022-10-23T15:53:40.753Z"
   },
   {
    "duration": 3,
    "start_time": "2022-10-23T15:53:51.090Z"
   },
   {
    "duration": 583,
    "start_time": "2022-10-23T15:53:51.095Z"
   },
   {
    "duration": 3,
    "start_time": "2022-10-23T15:53:51.680Z"
   },
   {
    "duration": 1930,
    "start_time": "2022-10-23T15:53:51.685Z"
   },
   {
    "duration": 21,
    "start_time": "2022-10-23T15:53:53.616Z"
   },
   {
    "duration": 38,
    "start_time": "2022-10-23T15:53:53.640Z"
   },
   {
    "duration": 8,
    "start_time": "2022-10-23T15:53:53.680Z"
   },
   {
    "duration": 4368,
    "start_time": "2022-10-23T15:53:53.690Z"
   },
   {
    "duration": 18701,
    "start_time": "2022-10-23T15:53:58.060Z"
   },
   {
    "duration": 5,
    "start_time": "2022-10-23T15:54:16.763Z"
   },
   {
    "duration": 17,
    "start_time": "2022-10-23T15:54:16.769Z"
   },
   {
    "duration": 36,
    "start_time": "2022-10-23T15:54:16.788Z"
   },
   {
    "duration": 115830,
    "start_time": "2022-10-23T15:54:16.826Z"
   },
   {
    "duration": 373,
    "start_time": "2022-10-23T15:56:12.660Z"
   },
   {
    "duration": 0,
    "start_time": "2022-10-23T15:56:13.035Z"
   },
   {
    "duration": 0,
    "start_time": "2022-10-23T15:56:13.036Z"
   },
   {
    "duration": 0,
    "start_time": "2022-10-23T15:56:13.037Z"
   },
   {
    "duration": 0,
    "start_time": "2022-10-23T15:56:13.038Z"
   },
   {
    "duration": 0,
    "start_time": "2022-10-23T15:56:13.039Z"
   },
   {
    "duration": 0,
    "start_time": "2022-10-23T15:56:13.040Z"
   },
   {
    "duration": 0,
    "start_time": "2022-10-23T15:56:13.041Z"
   },
   {
    "duration": 121327,
    "start_time": "2022-10-23T15:57:14.428Z"
   },
   {
    "duration": 31,
    "start_time": "2022-10-23T15:59:15.757Z"
   },
   {
    "duration": 0,
    "start_time": "2022-10-23T15:59:15.790Z"
   },
   {
    "duration": 0,
    "start_time": "2022-10-23T15:59:15.792Z"
   },
   {
    "duration": 9499,
    "start_time": "2022-10-23T16:02:47.875Z"
   },
   {
    "duration": 1007359,
    "start_time": "2022-10-23T16:07:57.702Z"
   },
   {
    "duration": 3,
    "start_time": "2022-10-23T16:24:45.064Z"
   },
   {
    "duration": 85137,
    "start_time": "2022-10-23T16:29:43.821Z"
   },
   {
    "duration": 4,
    "start_time": "2022-10-23T16:32:56.675Z"
   },
   {
    "duration": 5,
    "start_time": "2022-10-23T16:34:00.792Z"
   },
   {
    "duration": 38,
    "start_time": "2022-10-23T16:35:21.857Z"
   },
   {
    "duration": 28,
    "start_time": "2022-10-23T16:37:50.244Z"
   },
   {
    "duration": 54,
    "start_time": "2022-10-23T16:38:06.463Z"
   },
   {
    "duration": 49,
    "start_time": "2022-10-23T16:39:17.371Z"
   },
   {
    "duration": 28,
    "start_time": "2022-10-23T16:39:57.189Z"
   },
   {
    "duration": 33,
    "start_time": "2022-10-23T16:40:01.408Z"
   },
   {
    "duration": 37,
    "start_time": "2022-10-23T16:40:04.135Z"
   },
   {
    "duration": 68,
    "start_time": "2022-10-23T16:40:13.449Z"
   },
   {
    "duration": 48,
    "start_time": "2022-10-23T16:40:22.990Z"
   },
   {
    "duration": 4,
    "start_time": "2022-10-23T16:40:56.962Z"
   },
   {
    "duration": 47,
    "start_time": "2022-10-23T16:43:23.448Z"
   },
   {
    "duration": 41,
    "start_time": "2022-10-23T16:43:31.804Z"
   },
   {
    "duration": 38,
    "start_time": "2022-10-23T16:43:36.031Z"
   },
   {
    "duration": 31,
    "start_time": "2022-10-23T16:43:39.426Z"
   },
   {
    "duration": 27,
    "start_time": "2022-10-23T16:43:42.379Z"
   },
   {
    "duration": 36,
    "start_time": "2022-10-23T16:43:45.897Z"
   },
   {
    "duration": 45,
    "start_time": "2022-10-23T16:43:50.977Z"
   },
   {
    "duration": 35,
    "start_time": "2022-10-23T16:43:54.738Z"
   },
   {
    "duration": 37,
    "start_time": "2022-10-23T16:44:00.097Z"
   },
   {
    "duration": 37,
    "start_time": "2022-10-23T16:44:04.329Z"
   },
   {
    "duration": 39,
    "start_time": "2022-10-23T16:44:07.916Z"
   },
   {
    "duration": 23,
    "start_time": "2022-10-23T16:44:24.178Z"
   },
   {
    "duration": 26,
    "start_time": "2022-10-23T16:44:29.571Z"
   },
   {
    "duration": 24,
    "start_time": "2022-10-23T16:44:32.243Z"
   },
   {
    "duration": 25,
    "start_time": "2022-10-23T16:44:34.872Z"
   },
   {
    "duration": 23,
    "start_time": "2022-10-23T16:44:37.410Z"
   },
   {
    "duration": 24,
    "start_time": "2022-10-23T16:44:40.482Z"
   },
   {
    "duration": 29,
    "start_time": "2022-10-23T16:44:42.640Z"
   },
   {
    "duration": 26,
    "start_time": "2022-10-23T16:44:44.951Z"
   },
   {
    "duration": 33,
    "start_time": "2022-10-23T16:44:47.664Z"
   },
   {
    "duration": 33,
    "start_time": "2022-10-23T16:44:50.182Z"
   },
   {
    "duration": 24,
    "start_time": "2022-10-23T16:44:52.687Z"
   },
   {
    "duration": 66,
    "start_time": "2022-10-23T16:45:04.144Z"
   },
   {
    "duration": 30,
    "start_time": "2022-10-23T16:45:11.757Z"
   },
   {
    "duration": 9,
    "start_time": "2022-10-23T16:45:47.692Z"
   },
   {
    "duration": 10,
    "start_time": "2022-10-23T16:45:59.179Z"
   },
   {
    "duration": 20,
    "start_time": "2022-10-23T16:46:05.715Z"
   },
   {
    "duration": 10,
    "start_time": "2022-10-23T16:46:07.753Z"
   },
   {
    "duration": 7,
    "start_time": "2022-10-23T16:46:13.467Z"
   },
   {
    "duration": 8884,
    "start_time": "2022-10-23T16:54:20.932Z"
   },
   {
    "duration": 2464,
    "start_time": "2022-10-23T16:54:29.818Z"
   },
   {
    "duration": 352,
    "start_time": "2022-10-23T16:54:32.284Z"
   },
   {
    "duration": 11241,
    "start_time": "2022-10-23T16:54:32.639Z"
   },
   {
    "duration": 4,
    "start_time": "2022-10-23T16:54:43.883Z"
   },
   {
    "duration": 790,
    "start_time": "2022-10-23T16:54:43.889Z"
   },
   {
    "duration": 3,
    "start_time": "2022-10-23T16:54:44.681Z"
   },
   {
    "duration": 2168,
    "start_time": "2022-10-23T16:54:44.686Z"
   },
   {
    "duration": 21,
    "start_time": "2022-10-23T16:54:46.857Z"
   },
   {
    "duration": 34,
    "start_time": "2022-10-23T16:54:46.883Z"
   },
   {
    "duration": 37,
    "start_time": "2022-10-23T16:54:46.919Z"
   },
   {
    "duration": 4302,
    "start_time": "2022-10-23T16:54:46.958Z"
   },
   {
    "duration": 19921,
    "start_time": "2022-10-23T16:54:51.262Z"
   },
   {
    "duration": 5,
    "start_time": "2022-10-23T16:55:11.185Z"
   },
   {
    "duration": 6,
    "start_time": "2022-10-23T16:55:11.192Z"
   },
   {
    "duration": 6,
    "start_time": "2022-10-23T16:55:11.199Z"
   },
   {
    "duration": 48,
    "start_time": "2022-10-23T16:55:11.207Z"
   },
   {
    "duration": 25,
    "start_time": "2022-10-23T16:55:11.257Z"
   },
   {
    "duration": 10,
    "start_time": "2022-10-23T16:55:11.284Z"
   },
   {
    "duration": 6,
    "start_time": "2022-10-23T16:55:11.295Z"
   },
   {
    "duration": 6,
    "start_time": "2022-10-23T16:55:11.303Z"
   },
   {
    "duration": 39,
    "start_time": "2022-10-23T16:55:11.310Z"
   },
   {
    "duration": 8642,
    "start_time": "2022-10-23T16:56:39.696Z"
   },
   {
    "duration": 2337,
    "start_time": "2022-10-23T16:56:48.340Z"
   },
   {
    "duration": 350,
    "start_time": "2022-10-23T16:56:50.679Z"
   },
   {
    "duration": 10496,
    "start_time": "2022-10-23T16:56:51.033Z"
   },
   {
    "duration": 4,
    "start_time": "2022-10-23T16:57:01.532Z"
   },
   {
    "duration": 736,
    "start_time": "2022-10-23T16:57:01.539Z"
   },
   {
    "duration": 3,
    "start_time": "2022-10-23T16:57:02.277Z"
   },
   {
    "duration": 1787,
    "start_time": "2022-10-23T16:57:02.281Z"
   },
   {
    "duration": 19,
    "start_time": "2022-10-23T16:57:04.069Z"
   },
   {
    "duration": 35,
    "start_time": "2022-10-23T16:57:04.091Z"
   },
   {
    "duration": 7,
    "start_time": "2022-10-23T16:57:04.128Z"
   },
   {
    "duration": 15,
    "start_time": "2022-10-23T16:57:04.154Z"
   },
   {
    "duration": 6,
    "start_time": "2022-10-23T16:57:04.170Z"
   },
   {
    "duration": 21,
    "start_time": "2022-10-23T16:57:04.178Z"
   },
   {
    "duration": 11,
    "start_time": "2022-10-23T16:57:04.201Z"
   },
   {
    "duration": 8,
    "start_time": "2022-10-23T16:57:04.214Z"
   },
   {
    "duration": 8,
    "start_time": "2022-10-23T16:57:04.224Z"
   },
   {
    "duration": 7,
    "start_time": "2022-10-23T16:57:04.233Z"
   },
   {
    "duration": 6,
    "start_time": "2022-10-23T16:57:04.241Z"
   },
   {
    "duration": 5,
    "start_time": "2022-10-23T16:57:04.249Z"
   },
   {
    "duration": 47,
    "start_time": "2022-10-23T16:57:04.255Z"
   },
   {
    "duration": 1647,
    "start_time": "2022-10-23T16:57:04.303Z"
   },
   {
    "duration": 0,
    "start_time": "2022-10-23T16:57:05.954Z"
   },
   {
    "duration": 0,
    "start_time": "2022-10-23T16:57:05.955Z"
   },
   {
    "duration": 0,
    "start_time": "2022-10-23T16:57:05.956Z"
   },
   {
    "duration": 0,
    "start_time": "2022-10-23T16:57:05.958Z"
   },
   {
    "duration": 18,
    "start_time": "2022-10-23T16:57:19.008Z"
   },
   {
    "duration": 41,
    "start_time": "2022-10-23T16:57:24.784Z"
   },
   {
    "duration": 8282,
    "start_time": "2022-10-23T16:57:37.181Z"
   },
   {
    "duration": 2344,
    "start_time": "2022-10-23T16:57:45.465Z"
   },
   {
    "duration": 360,
    "start_time": "2022-10-23T16:57:47.811Z"
   },
   {
    "duration": 10303,
    "start_time": "2022-10-23T16:57:48.174Z"
   },
   {
    "duration": 4,
    "start_time": "2022-10-23T16:57:58.479Z"
   },
   {
    "duration": 786,
    "start_time": "2022-10-23T16:57:58.484Z"
   },
   {
    "duration": 3,
    "start_time": "2022-10-23T16:57:59.272Z"
   },
   {
    "duration": 2408,
    "start_time": "2022-10-23T16:57:59.278Z"
   },
   {
    "duration": 25,
    "start_time": "2022-10-23T16:58:01.688Z"
   },
   {
    "duration": 59,
    "start_time": "2022-10-23T16:58:01.717Z"
   },
   {
    "duration": 12,
    "start_time": "2022-10-23T16:58:01.778Z"
   },
   {
    "duration": 35,
    "start_time": "2022-10-23T16:58:01.797Z"
   },
   {
    "duration": 14,
    "start_time": "2022-10-23T16:58:01.835Z"
   },
   {
    "duration": 56,
    "start_time": "2022-10-23T16:58:01.851Z"
   },
   {
    "duration": 26,
    "start_time": "2022-10-23T16:58:01.910Z"
   },
   {
    "duration": 25,
    "start_time": "2022-10-23T16:58:01.938Z"
   },
   {
    "duration": 31,
    "start_time": "2022-10-23T16:58:01.965Z"
   },
   {
    "duration": 22,
    "start_time": "2022-10-23T16:58:01.998Z"
   },
   {
    "duration": 15,
    "start_time": "2022-10-23T16:58:02.022Z"
   },
   {
    "duration": 34,
    "start_time": "2022-10-23T16:58:02.039Z"
   },
   {
    "duration": 76,
    "start_time": "2022-10-23T16:58:02.075Z"
   },
   {
    "duration": 5461,
    "start_time": "2022-10-23T16:58:02.153Z"
   },
   {
    "duration": 26,
    "start_time": "2022-10-23T16:58:07.616Z"
   },
   {
    "duration": 486,
    "start_time": "2022-10-23T16:58:07.654Z"
   },
   {
    "duration": 0,
    "start_time": "2022-10-23T16:58:08.142Z"
   },
   {
    "duration": 0,
    "start_time": "2022-10-23T16:58:08.153Z"
   },
   {
    "duration": 88,
    "start_time": "2022-10-23T17:03:31.040Z"
   },
   {
    "duration": 276359,
    "start_time": "2022-10-23T17:03:51.403Z"
   },
   {
    "duration": 5,
    "start_time": "2022-10-23T17:11:34.267Z"
   },
   {
    "duration": 9,
    "start_time": "2022-10-23T17:11:49.141Z"
   },
   {
    "duration": 4,
    "start_time": "2022-10-23T17:11:58.461Z"
   },
   {
    "duration": 9,
    "start_time": "2022-10-23T17:12:08.246Z"
   },
   {
    "duration": 6,
    "start_time": "2022-10-23T17:12:13.178Z"
   },
   {
    "duration": 26,
    "start_time": "2022-10-23T17:13:31.522Z"
   },
   {
    "duration": 4235,
    "start_time": "2022-10-23T17:13:53.943Z"
   },
   {
    "duration": 782,
    "start_time": "2022-10-23T17:13:58.180Z"
   },
   {
    "duration": 374,
    "start_time": "2022-10-23T17:13:58.964Z"
   },
   {
    "duration": 10441,
    "start_time": "2022-10-23T17:13:59.340Z"
   },
   {
    "duration": 4,
    "start_time": "2022-10-23T17:14:09.784Z"
   },
   {
    "duration": 528,
    "start_time": "2022-10-23T17:14:09.789Z"
   },
   {
    "duration": 3,
    "start_time": "2022-10-23T17:14:10.319Z"
   },
   {
    "duration": 1860,
    "start_time": "2022-10-23T17:14:10.323Z"
   },
   {
    "duration": 24,
    "start_time": "2022-10-23T17:14:12.185Z"
   },
   {
    "duration": 50,
    "start_time": "2022-10-23T17:14:12.212Z"
   },
   {
    "duration": 11,
    "start_time": "2022-10-23T17:14:12.264Z"
   },
   {
    "duration": 4255,
    "start_time": "2022-10-23T17:14:12.278Z"
   },
   {
    "duration": 5,
    "start_time": "2022-10-23T17:14:16.535Z"
   },
   {
    "duration": 4,
    "start_time": "2022-10-23T17:14:16.557Z"
   },
   {
    "duration": 23,
    "start_time": "2022-10-23T17:14:16.562Z"
   },
   {
    "duration": 7,
    "start_time": "2022-10-23T17:14:16.587Z"
   },
   {
    "duration": 17,
    "start_time": "2022-10-23T17:14:16.596Z"
   },
   {
    "duration": 14,
    "start_time": "2022-10-23T17:14:16.615Z"
   },
   {
    "duration": 37,
    "start_time": "2022-10-23T17:14:16.631Z"
   },
   {
    "duration": 7,
    "start_time": "2022-10-23T17:14:16.670Z"
   },
   {
    "duration": 1157,
    "start_time": "2022-10-23T17:14:16.679Z"
   },
   {
    "duration": 0,
    "start_time": "2022-10-23T17:14:17.838Z"
   },
   {
    "duration": 0,
    "start_time": "2022-10-23T17:14:17.839Z"
   },
   {
    "duration": 0,
    "start_time": "2022-10-23T17:14:17.840Z"
   },
   {
    "duration": 0,
    "start_time": "2022-10-23T17:14:17.841Z"
   },
   {
    "duration": 0,
    "start_time": "2022-10-23T17:14:17.842Z"
   },
   {
    "duration": 0,
    "start_time": "2022-10-23T17:14:17.843Z"
   },
   {
    "duration": 0,
    "start_time": "2022-10-23T17:14:17.854Z"
   },
   {
    "duration": 36,
    "start_time": "2022-10-23T17:14:32.897Z"
   },
   {
    "duration": 8643,
    "start_time": "2022-10-23T17:21:29.630Z"
   },
   {
    "duration": 2287,
    "start_time": "2022-10-23T17:21:38.275Z"
   },
   {
    "duration": 359,
    "start_time": "2022-10-23T17:21:40.564Z"
   },
   {
    "duration": 10125,
    "start_time": "2022-10-23T17:21:40.924Z"
   },
   {
    "duration": 3,
    "start_time": "2022-10-23T17:21:51.052Z"
   },
   {
    "duration": 754,
    "start_time": "2022-10-23T17:21:51.057Z"
   },
   {
    "duration": 3,
    "start_time": "2022-10-23T17:21:51.813Z"
   },
   {
    "duration": 1848,
    "start_time": "2022-10-23T17:21:51.817Z"
   },
   {
    "duration": 24,
    "start_time": "2022-10-23T17:21:53.666Z"
   },
   {
    "duration": 43,
    "start_time": "2022-10-23T17:21:53.692Z"
   },
   {
    "duration": 17,
    "start_time": "2022-10-23T17:21:53.737Z"
   },
   {
    "duration": 20,
    "start_time": "2022-10-23T17:21:53.755Z"
   },
   {
    "duration": 42,
    "start_time": "2022-10-23T17:21:53.776Z"
   },
   {
    "duration": 37,
    "start_time": "2022-10-23T17:21:53.820Z"
   },
   {
    "duration": 9090,
    "start_time": "2022-10-23T17:22:36.383Z"
   },
   {
    "duration": 2384,
    "start_time": "2022-10-23T17:22:45.475Z"
   },
   {
    "duration": 360,
    "start_time": "2022-10-23T17:22:47.862Z"
   },
   {
    "duration": 10891,
    "start_time": "2022-10-23T17:22:48.225Z"
   },
   {
    "duration": 4,
    "start_time": "2022-10-23T17:22:59.118Z"
   },
   {
    "duration": 691,
    "start_time": "2022-10-23T17:22:59.124Z"
   },
   {
    "duration": 3,
    "start_time": "2022-10-23T17:22:59.817Z"
   },
   {
    "duration": 1904,
    "start_time": "2022-10-23T17:22:59.821Z"
   },
   {
    "duration": 32,
    "start_time": "2022-10-23T17:23:01.727Z"
   },
   {
    "duration": 43,
    "start_time": "2022-10-23T17:23:01.762Z"
   },
   {
    "duration": 13,
    "start_time": "2022-10-23T17:23:01.807Z"
   },
   {
    "duration": 42,
    "start_time": "2022-10-23T17:23:01.823Z"
   },
   {
    "duration": 51,
    "start_time": "2022-10-23T17:23:01.868Z"
   },
   {
    "duration": 23,
    "start_time": "2022-10-23T17:23:01.920Z"
   },
   {
    "duration": 9406,
    "start_time": "2022-10-23T17:23:19.700Z"
   },
   {
    "duration": 2525,
    "start_time": "2022-10-23T17:23:29.109Z"
   },
   {
    "duration": 413,
    "start_time": "2022-10-23T17:23:31.637Z"
   },
   {
    "duration": 10504,
    "start_time": "2022-10-23T17:23:32.055Z"
   },
   {
    "duration": 4,
    "start_time": "2022-10-23T17:23:42.561Z"
   },
   {
    "duration": 685,
    "start_time": "2022-10-23T17:23:42.567Z"
   },
   {
    "duration": 3,
    "start_time": "2022-10-23T17:23:43.254Z"
   },
   {
    "duration": 1957,
    "start_time": "2022-10-23T17:23:43.259Z"
   },
   {
    "duration": 18,
    "start_time": "2022-10-23T17:23:45.218Z"
   },
   {
    "duration": 41,
    "start_time": "2022-10-23T17:23:45.239Z"
   },
   {
    "duration": 7,
    "start_time": "2022-10-23T17:23:45.282Z"
   },
   {
    "duration": 18,
    "start_time": "2022-10-23T17:23:45.291Z"
   },
   {
    "duration": 58,
    "start_time": "2022-10-23T17:23:45.311Z"
   },
   {
    "duration": 23,
    "start_time": "2022-10-23T17:23:45.371Z"
   },
   {
    "duration": 1024,
    "start_time": "2022-10-23T17:23:45.396Z"
   },
   {
    "duration": 9139,
    "start_time": "2022-10-23T17:24:00.926Z"
   },
   {
    "duration": 2421,
    "start_time": "2022-10-23T17:24:10.067Z"
   },
   {
    "duration": 372,
    "start_time": "2022-10-23T17:24:12.490Z"
   },
   {
    "duration": 10214,
    "start_time": "2022-10-23T17:24:12.864Z"
   },
   {
    "duration": 4,
    "start_time": "2022-10-23T17:24:23.081Z"
   },
   {
    "duration": 671,
    "start_time": "2022-10-23T17:24:23.086Z"
   },
   {
    "duration": 3,
    "start_time": "2022-10-23T17:24:23.760Z"
   },
   {
    "duration": 1851,
    "start_time": "2022-10-23T17:24:23.765Z"
   },
   {
    "duration": 21,
    "start_time": "2022-10-23T17:24:25.617Z"
   },
   {
    "duration": 38,
    "start_time": "2022-10-23T17:24:25.640Z"
   },
   {
    "duration": 8,
    "start_time": "2022-10-23T17:24:25.680Z"
   },
   {
    "duration": 22,
    "start_time": "2022-10-23T17:24:25.690Z"
   },
   {
    "duration": 65,
    "start_time": "2022-10-23T17:24:25.713Z"
   },
   {
    "duration": 24,
    "start_time": "2022-10-23T17:24:25.780Z"
   },
   {
    "duration": 2,
    "start_time": "2022-10-23T17:24:25.806Z"
   },
   {
    "duration": 1909,
    "start_time": "2022-10-23T17:24:25.810Z"
   },
   {
    "duration": 0,
    "start_time": "2022-10-23T17:24:27.721Z"
   },
   {
    "duration": 0,
    "start_time": "2022-10-23T17:24:27.723Z"
   },
   {
    "duration": 0,
    "start_time": "2022-10-23T17:24:27.724Z"
   },
   {
    "duration": 0,
    "start_time": "2022-10-23T17:24:27.725Z"
   },
   {
    "duration": 0,
    "start_time": "2022-10-23T17:24:27.727Z"
   },
   {
    "duration": 0,
    "start_time": "2022-10-23T17:24:27.728Z"
   },
   {
    "duration": 0,
    "start_time": "2022-10-23T17:24:27.730Z"
   },
   {
    "duration": 0,
    "start_time": "2022-10-23T17:24:27.732Z"
   },
   {
    "duration": 0,
    "start_time": "2022-10-23T17:24:27.754Z"
   },
   {
    "duration": 0,
    "start_time": "2022-10-23T17:24:27.757Z"
   },
   {
    "duration": 4451,
    "start_time": "2022-10-23T17:24:48.581Z"
   },
   {
    "duration": 817,
    "start_time": "2022-10-23T17:24:53.034Z"
   },
   {
    "duration": 395,
    "start_time": "2022-10-23T17:24:53.853Z"
   },
   {
    "duration": 10248,
    "start_time": "2022-10-23T17:24:54.253Z"
   },
   {
    "duration": 4,
    "start_time": "2022-10-23T17:25:04.503Z"
   },
   {
    "duration": 525,
    "start_time": "2022-10-23T17:25:04.508Z"
   },
   {
    "duration": 3,
    "start_time": "2022-10-23T17:25:05.035Z"
   },
   {
    "duration": 1798,
    "start_time": "2022-10-23T17:25:05.040Z"
   },
   {
    "duration": 26,
    "start_time": "2022-10-23T17:25:06.840Z"
   },
   {
    "duration": 34,
    "start_time": "2022-10-23T17:25:06.869Z"
   },
   {
    "duration": 7,
    "start_time": "2022-10-23T17:25:06.904Z"
   },
   {
    "duration": 41,
    "start_time": "2022-10-23T17:25:06.913Z"
   },
   {
    "duration": 41,
    "start_time": "2022-10-23T17:25:06.957Z"
   },
   {
    "duration": 23,
    "start_time": "2022-10-23T17:25:07.000Z"
   },
   {
    "duration": 2,
    "start_time": "2022-10-23T17:25:07.025Z"
   },
   {
    "duration": 6655,
    "start_time": "2022-10-23T17:25:07.028Z"
   },
   {
    "duration": 0,
    "start_time": "2022-10-23T17:25:13.685Z"
   },
   {
    "duration": 0,
    "start_time": "2022-10-23T17:25:13.687Z"
   },
   {
    "duration": 0,
    "start_time": "2022-10-23T17:25:13.689Z"
   },
   {
    "duration": 0,
    "start_time": "2022-10-23T17:25:13.691Z"
   },
   {
    "duration": 0,
    "start_time": "2022-10-23T17:25:13.692Z"
   },
   {
    "duration": 0,
    "start_time": "2022-10-23T17:25:13.694Z"
   },
   {
    "duration": 0,
    "start_time": "2022-10-23T17:25:13.695Z"
   },
   {
    "duration": 0,
    "start_time": "2022-10-23T17:25:13.697Z"
   },
   {
    "duration": 0,
    "start_time": "2022-10-23T17:25:13.698Z"
   },
   {
    "duration": 0,
    "start_time": "2022-10-23T17:25:13.699Z"
   },
   {
    "duration": 8887,
    "start_time": "2022-10-23T17:25:40.803Z"
   },
   {
    "duration": 2365,
    "start_time": "2022-10-23T17:25:49.692Z"
   },
   {
    "duration": 362,
    "start_time": "2022-10-23T17:25:52.059Z"
   },
   {
    "duration": 10847,
    "start_time": "2022-10-23T17:25:52.423Z"
   },
   {
    "duration": 6,
    "start_time": "2022-10-23T17:26:03.274Z"
   },
   {
    "duration": 738,
    "start_time": "2022-10-23T17:26:03.282Z"
   },
   {
    "duration": 3,
    "start_time": "2022-10-23T17:26:04.022Z"
   },
   {
    "duration": 1828,
    "start_time": "2022-10-23T17:26:04.026Z"
   },
   {
    "duration": 18,
    "start_time": "2022-10-23T17:26:05.856Z"
   },
   {
    "duration": 29,
    "start_time": "2022-10-23T17:26:05.876Z"
   },
   {
    "duration": 9,
    "start_time": "2022-10-23T17:26:05.906Z"
   },
   {
    "duration": 47,
    "start_time": "2022-10-23T17:26:05.916Z"
   },
   {
    "duration": 44,
    "start_time": "2022-10-23T17:26:05.965Z"
   },
   {
    "duration": 42,
    "start_time": "2022-10-23T17:26:06.012Z"
   },
   {
    "duration": 3,
    "start_time": "2022-10-23T17:26:06.056Z"
   },
   {
    "duration": 6283,
    "start_time": "2022-10-23T17:26:06.061Z"
   },
   {
    "duration": 9,
    "start_time": "2022-10-23T17:26:12.346Z"
   },
   {
    "duration": 10,
    "start_time": "2022-10-23T17:26:12.357Z"
   },
   {
    "duration": 16,
    "start_time": "2022-10-23T17:26:12.369Z"
   },
   {
    "duration": 6,
    "start_time": "2022-10-23T17:26:12.387Z"
   },
   {
    "duration": 14,
    "start_time": "2022-10-23T17:26:12.394Z"
   },
   {
    "duration": 8,
    "start_time": "2022-10-23T17:26:12.410Z"
   },
   {
    "duration": 6,
    "start_time": "2022-10-23T17:26:12.419Z"
   },
   {
    "duration": 6,
    "start_time": "2022-10-23T17:26:12.427Z"
   },
   {
    "duration": 270127,
    "start_time": "2022-10-23T17:26:12.435Z"
   },
   {
    "duration": 165,
    "start_time": "2022-10-23T17:30:42.564Z"
   },
   {
    "duration": 27132,
    "start_time": "2022-10-23T17:30:42.731Z"
   },
   {
    "duration": 88798,
    "start_time": "2022-10-23T17:33:20.189Z"
   },
   {
    "duration": 350,
    "start_time": "2022-10-23T17:35:52.574Z"
   },
   {
    "duration": 8414,
    "start_time": "2022-10-23T17:36:06.556Z"
   },
   {
    "duration": 242606,
    "start_time": "2022-10-23T17:36:53.428Z"
   },
   {
    "duration": 1089401,
    "start_time": "2022-10-23T17:42:13.765Z"
   },
   {
    "duration": 258874,
    "start_time": "2022-10-23T18:14:56.657Z"
   },
   {
    "duration": 92166,
    "start_time": "2022-10-23T18:19:15.534Z"
   },
   {
    "duration": 163973,
    "start_time": "2022-10-23T18:20:47.702Z"
   },
   {
    "duration": 126627,
    "start_time": "2022-10-23T18:24:09.827Z"
   },
   {
    "duration": 152427,
    "start_time": "2022-10-23T18:26:54.154Z"
   },
   {
    "duration": 183548,
    "start_time": "2022-10-23T18:29:48.551Z"
   },
   {
    "duration": 9069,
    "start_time": "2022-10-23T19:01:30.632Z"
   },
   {
    "duration": 2378,
    "start_time": "2022-10-23T19:01:39.705Z"
   },
   {
    "duration": 341,
    "start_time": "2022-10-23T19:01:42.085Z"
   },
   {
    "duration": 13050,
    "start_time": "2022-10-23T19:01:42.428Z"
   },
   {
    "duration": 3,
    "start_time": "2022-10-23T19:01:55.481Z"
   },
   {
    "duration": 729,
    "start_time": "2022-10-23T19:01:55.485Z"
   },
   {
    "duration": 3,
    "start_time": "2022-10-23T19:01:56.216Z"
   },
   {
    "duration": 1928,
    "start_time": "2022-10-23T19:01:56.221Z"
   },
   {
    "duration": 20,
    "start_time": "2022-10-23T19:01:58.150Z"
   },
   {
    "duration": 28,
    "start_time": "2022-10-23T19:01:58.173Z"
   },
   {
    "duration": 8,
    "start_time": "2022-10-23T19:01:58.203Z"
   },
   {
    "duration": 66,
    "start_time": "2022-10-23T19:01:58.214Z"
   },
   {
    "duration": 47,
    "start_time": "2022-10-23T19:01:58.286Z"
   },
   {
    "duration": 24,
    "start_time": "2022-10-23T19:01:58.335Z"
   },
   {
    "duration": 3,
    "start_time": "2022-10-23T19:01:58.360Z"
   },
   {
    "duration": 51,
    "start_time": "2022-10-23T19:02:15.461Z"
   },
   {
    "duration": 9616,
    "start_time": "2022-10-23T19:02:28.686Z"
   },
   {
    "duration": 2516,
    "start_time": "2022-10-23T19:02:38.306Z"
   },
   {
    "duration": 385,
    "start_time": "2022-10-23T19:02:40.823Z"
   },
   {
    "duration": 11088,
    "start_time": "2022-10-23T19:02:41.211Z"
   },
   {
    "duration": 4,
    "start_time": "2022-10-23T19:02:52.301Z"
   },
   {
    "duration": 704,
    "start_time": "2022-10-23T19:02:52.306Z"
   },
   {
    "duration": 2,
    "start_time": "2022-10-23T19:02:53.013Z"
   },
   {
    "duration": 2039,
    "start_time": "2022-10-23T19:02:53.017Z"
   },
   {
    "duration": 23,
    "start_time": "2022-10-23T19:02:55.058Z"
   },
   {
    "duration": 36,
    "start_time": "2022-10-23T19:02:55.084Z"
   },
   {
    "duration": 9,
    "start_time": "2022-10-23T19:02:55.122Z"
   },
   {
    "duration": 20,
    "start_time": "2022-10-23T19:02:55.154Z"
   },
   {
    "duration": 47,
    "start_time": "2022-10-23T19:02:55.175Z"
   },
   {
    "duration": 47,
    "start_time": "2022-10-23T19:02:55.224Z"
   },
   {
    "duration": 3,
    "start_time": "2022-10-23T19:02:55.272Z"
   },
   {
    "duration": 6641,
    "start_time": "2022-10-23T19:02:55.276Z"
   },
   {
    "duration": 5,
    "start_time": "2022-10-23T19:03:01.919Z"
   },
   {
    "duration": 16,
    "start_time": "2022-10-23T19:03:01.925Z"
   },
   {
    "duration": 23,
    "start_time": "2022-10-23T19:03:01.943Z"
   },
   {
    "duration": 16,
    "start_time": "2022-10-23T19:03:01.968Z"
   },
   {
    "duration": 657602,
    "start_time": "2022-10-23T19:03:01.986Z"
   },
   {
    "duration": 191471,
    "start_time": "2022-10-23T19:13:59.589Z"
   },
   {
    "duration": 10134,
    "start_time": "2022-10-23T19:17:11.062Z"
   },
   {
    "duration": 530259,
    "start_time": "2022-10-23T19:17:21.198Z"
   },
   {
    "duration": 3,
    "start_time": "2022-10-23T19:26:11.459Z"
   },
   {
    "duration": 274108,
    "start_time": "2022-10-23T19:26:11.464Z"
   },
   {
    "duration": 23186,
    "start_time": "2022-10-23T19:30:45.574Z"
   },
   {
    "duration": 315,
    "start_time": "2022-10-23T19:31:08.765Z"
   },
   {
    "duration": 9540,
    "start_time": "2022-10-23T19:33:16.313Z"
   },
   {
    "duration": 2432,
    "start_time": "2022-10-23T19:33:25.856Z"
   },
   {
    "duration": 368,
    "start_time": "2022-10-23T19:33:28.290Z"
   },
   {
    "duration": 13331,
    "start_time": "2022-10-23T19:33:28.659Z"
   },
   {
    "duration": 3,
    "start_time": "2022-10-23T19:33:41.994Z"
   },
   {
    "duration": 704,
    "start_time": "2022-10-23T19:33:41.999Z"
   },
   {
    "duration": 2,
    "start_time": "2022-10-23T19:33:42.705Z"
   },
   {
    "duration": 2430,
    "start_time": "2022-10-23T19:33:42.709Z"
   },
   {
    "duration": 24,
    "start_time": "2022-10-23T19:33:45.141Z"
   },
   {
    "duration": 28,
    "start_time": "2022-10-23T19:33:45.167Z"
   },
   {
    "duration": 9,
    "start_time": "2022-10-23T19:33:45.197Z"
   },
   {
    "duration": 47,
    "start_time": "2022-10-23T19:33:45.208Z"
   },
   {
    "duration": 48,
    "start_time": "2022-10-23T19:33:45.257Z"
   },
   {
    "duration": 22,
    "start_time": "2022-10-23T19:33:45.308Z"
   },
   {
    "duration": 812,
    "start_time": "2022-10-23T19:33:45.331Z"
   },
   {
    "duration": 9430,
    "start_time": "2022-10-23T19:34:00.148Z"
   },
   {
    "duration": 2435,
    "start_time": "2022-10-23T19:34:09.580Z"
   },
   {
    "duration": 360,
    "start_time": "2022-10-23T19:34:12.017Z"
   },
   {
    "duration": 10428,
    "start_time": "2022-10-23T19:34:12.378Z"
   },
   {
    "duration": 4,
    "start_time": "2022-10-23T19:34:22.810Z"
   },
   {
    "duration": 669,
    "start_time": "2022-10-23T19:34:22.816Z"
   },
   {
    "duration": 3,
    "start_time": "2022-10-23T19:34:23.486Z"
   },
   {
    "duration": 1854,
    "start_time": "2022-10-23T19:34:23.490Z"
   },
   {
    "duration": 21,
    "start_time": "2022-10-23T19:34:25.346Z"
   },
   {
    "duration": 30,
    "start_time": "2022-10-23T19:34:25.368Z"
   },
   {
    "duration": 8,
    "start_time": "2022-10-23T19:34:25.400Z"
   },
   {
    "duration": 47,
    "start_time": "2022-10-23T19:34:25.410Z"
   },
   {
    "duration": 46,
    "start_time": "2022-10-23T19:34:25.459Z"
   },
   {
    "duration": 47,
    "start_time": "2022-10-23T19:34:25.509Z"
   },
   {
    "duration": 3,
    "start_time": "2022-10-23T19:34:25.557Z"
   },
   {
    "duration": 10358,
    "start_time": "2022-10-23T19:35:13.894Z"
   },
   {
    "duration": 2653,
    "start_time": "2022-10-23T19:35:24.254Z"
   },
   {
    "duration": 400,
    "start_time": "2022-10-23T19:35:26.908Z"
   },
   {
    "duration": 10612,
    "start_time": "2022-10-23T19:35:27.310Z"
   },
   {
    "duration": 4,
    "start_time": "2022-10-23T19:35:37.924Z"
   },
   {
    "duration": 784,
    "start_time": "2022-10-23T19:35:37.929Z"
   },
   {
    "duration": 3,
    "start_time": "2022-10-23T19:35:38.715Z"
   },
   {
    "duration": 1794,
    "start_time": "2022-10-23T19:35:38.720Z"
   },
   {
    "duration": 18,
    "start_time": "2022-10-23T19:35:40.516Z"
   },
   {
    "duration": 39,
    "start_time": "2022-10-23T19:35:40.536Z"
   },
   {
    "duration": 8,
    "start_time": "2022-10-23T19:35:40.576Z"
   },
   {
    "duration": 40,
    "start_time": "2022-10-23T19:35:40.585Z"
   },
   {
    "duration": 46,
    "start_time": "2022-10-23T19:35:40.626Z"
   },
   {
    "duration": 23,
    "start_time": "2022-10-23T19:35:40.674Z"
   },
   {
    "duration": 280,
    "start_time": "2022-10-23T19:35:40.699Z"
   },
   {
    "duration": 1926,
    "start_time": "2022-10-23T19:35:40.980Z"
   },
   {
    "duration": 0,
    "start_time": "2022-10-23T19:35:42.908Z"
   },
   {
    "duration": 0,
    "start_time": "2022-10-23T19:35:42.909Z"
   },
   {
    "duration": 0,
    "start_time": "2022-10-23T19:35:42.910Z"
   },
   {
    "duration": 0,
    "start_time": "2022-10-23T19:35:42.912Z"
   },
   {
    "duration": 0,
    "start_time": "2022-10-23T19:35:42.913Z"
   },
   {
    "duration": 0,
    "start_time": "2022-10-23T19:35:42.914Z"
   },
   {
    "duration": 0,
    "start_time": "2022-10-23T19:35:42.916Z"
   },
   {
    "duration": 0,
    "start_time": "2022-10-23T19:35:42.917Z"
   },
   {
    "duration": 0,
    "start_time": "2022-10-23T19:35:42.918Z"
   },
   {
    "duration": 0,
    "start_time": "2022-10-23T19:35:42.920Z"
   },
   {
    "duration": 0,
    "start_time": "2022-10-23T19:35:42.921Z"
   },
   {
    "duration": 0,
    "start_time": "2022-10-23T19:35:42.922Z"
   },
   {
    "duration": 4388,
    "start_time": "2022-10-23T19:36:22.585Z"
   },
   {
    "duration": 865,
    "start_time": "2022-10-23T19:36:26.975Z"
   },
   {
    "duration": 382,
    "start_time": "2022-10-23T19:36:27.842Z"
   },
   {
    "duration": 11480,
    "start_time": "2022-10-23T19:36:28.226Z"
   },
   {
    "duration": 3,
    "start_time": "2022-10-23T19:36:39.708Z"
   },
   {
    "duration": 543,
    "start_time": "2022-10-23T19:36:39.713Z"
   },
   {
    "duration": 3,
    "start_time": "2022-10-23T19:36:40.258Z"
   },
   {
    "duration": 1929,
    "start_time": "2022-10-23T19:36:40.262Z"
   },
   {
    "duration": 21,
    "start_time": "2022-10-23T19:36:42.193Z"
   },
   {
    "duration": 47,
    "start_time": "2022-10-23T19:36:42.217Z"
   },
   {
    "duration": 9,
    "start_time": "2022-10-23T19:36:42.266Z"
   },
   {
    "duration": 19,
    "start_time": "2022-10-23T19:36:42.277Z"
   },
   {
    "duration": 58,
    "start_time": "2022-10-23T19:36:42.297Z"
   },
   {
    "duration": 25,
    "start_time": "2022-10-23T19:36:42.357Z"
   },
   {
    "duration": 2,
    "start_time": "2022-10-23T19:36:42.384Z"
   },
   {
    "duration": 2154,
    "start_time": "2022-10-23T19:36:42.388Z"
   },
   {
    "duration": 0,
    "start_time": "2022-10-23T19:36:44.544Z"
   },
   {
    "duration": 0,
    "start_time": "2022-10-23T19:36:44.545Z"
   },
   {
    "duration": 0,
    "start_time": "2022-10-23T19:36:44.546Z"
   },
   {
    "duration": 0,
    "start_time": "2022-10-23T19:36:44.554Z"
   },
   {
    "duration": 0,
    "start_time": "2022-10-23T19:36:44.555Z"
   },
   {
    "duration": 0,
    "start_time": "2022-10-23T19:36:44.557Z"
   },
   {
    "duration": 0,
    "start_time": "2022-10-23T19:36:44.558Z"
   },
   {
    "duration": 0,
    "start_time": "2022-10-23T19:36:44.560Z"
   },
   {
    "duration": 0,
    "start_time": "2022-10-23T19:36:44.561Z"
   },
   {
    "duration": 1,
    "start_time": "2022-10-23T19:36:44.562Z"
   },
   {
    "duration": 0,
    "start_time": "2022-10-23T19:36:44.564Z"
   },
   {
    "duration": 0,
    "start_time": "2022-10-23T19:36:44.565Z"
   },
   {
    "duration": 4410,
    "start_time": "2022-10-23T19:37:43.655Z"
   },
   {
    "duration": 877,
    "start_time": "2022-10-23T19:37:48.067Z"
   },
   {
    "duration": 373,
    "start_time": "2022-10-23T19:37:48.946Z"
   },
   {
    "duration": 10013,
    "start_time": "2022-10-23T19:37:49.321Z"
   },
   {
    "duration": 4,
    "start_time": "2022-10-23T19:37:59.336Z"
   },
   {
    "duration": 542,
    "start_time": "2022-10-23T19:37:59.341Z"
   },
   {
    "duration": 3,
    "start_time": "2022-10-23T19:37:59.885Z"
   },
   {
    "duration": 2013,
    "start_time": "2022-10-23T19:37:59.889Z"
   },
   {
    "duration": 19,
    "start_time": "2022-10-23T19:38:01.904Z"
   },
   {
    "duration": 45,
    "start_time": "2022-10-23T19:38:01.926Z"
   },
   {
    "duration": 8,
    "start_time": "2022-10-23T19:38:01.973Z"
   },
   {
    "duration": 32,
    "start_time": "2022-10-23T19:38:01.983Z"
   },
   {
    "duration": 49,
    "start_time": "2022-10-23T19:38:02.017Z"
   },
   {
    "duration": 27,
    "start_time": "2022-10-23T19:38:02.068Z"
   },
   {
    "duration": 1844,
    "start_time": "2022-10-23T19:38:02.097Z"
   },
   {
    "duration": 336,
    "start_time": "2022-10-23T19:38:03.943Z"
   },
   {
    "duration": 0,
    "start_time": "2022-10-23T19:38:04.280Z"
   },
   {
    "duration": 0,
    "start_time": "2022-10-23T19:38:04.282Z"
   },
   {
    "duration": 0,
    "start_time": "2022-10-23T19:38:04.283Z"
   },
   {
    "duration": 0,
    "start_time": "2022-10-23T19:38:04.284Z"
   },
   {
    "duration": 0,
    "start_time": "2022-10-23T19:38:04.285Z"
   },
   {
    "duration": 0,
    "start_time": "2022-10-23T19:38:04.286Z"
   },
   {
    "duration": 0,
    "start_time": "2022-10-23T19:38:04.287Z"
   },
   {
    "duration": 0,
    "start_time": "2022-10-23T19:38:04.288Z"
   },
   {
    "duration": 0,
    "start_time": "2022-10-23T19:38:04.290Z"
   },
   {
    "duration": 0,
    "start_time": "2022-10-23T19:38:04.291Z"
   },
   {
    "duration": 0,
    "start_time": "2022-10-23T19:38:04.292Z"
   },
   {
    "duration": 0,
    "start_time": "2022-10-23T19:38:04.292Z"
   },
   {
    "duration": 5579,
    "start_time": "2022-10-23T19:38:25.483Z"
   },
   {
    "duration": 5562,
    "start_time": "2022-10-23T19:39:21.054Z"
   },
   {
    "duration": 858,
    "start_time": "2022-10-23T19:39:26.619Z"
   },
   {
    "duration": 374,
    "start_time": "2022-10-23T19:39:27.480Z"
   },
   {
    "duration": 10655,
    "start_time": "2022-10-23T19:39:27.856Z"
   },
   {
    "duration": 4,
    "start_time": "2022-10-23T19:39:38.514Z"
   },
   {
    "duration": 555,
    "start_time": "2022-10-23T19:39:38.519Z"
   },
   {
    "duration": 2,
    "start_time": "2022-10-23T19:39:39.076Z"
   },
   {
    "duration": 1932,
    "start_time": "2022-10-23T19:39:39.080Z"
   },
   {
    "duration": 20,
    "start_time": "2022-10-23T19:39:41.015Z"
   },
   {
    "duration": 35,
    "start_time": "2022-10-23T19:39:41.053Z"
   },
   {
    "duration": 9,
    "start_time": "2022-10-23T19:39:41.090Z"
   },
   {
    "duration": 21,
    "start_time": "2022-10-23T19:39:41.101Z"
   },
   {
    "duration": 69,
    "start_time": "2022-10-23T19:39:41.124Z"
   },
   {
    "duration": 29,
    "start_time": "2022-10-23T19:39:41.195Z"
   },
   {
    "duration": 9611,
    "start_time": "2022-10-23T19:39:54.336Z"
   },
   {
    "duration": 2405,
    "start_time": "2022-10-23T19:40:03.949Z"
   },
   {
    "duration": 386,
    "start_time": "2022-10-23T19:40:06.358Z"
   },
   {
    "duration": 11081,
    "start_time": "2022-10-23T19:40:06.747Z"
   },
   {
    "duration": 3,
    "start_time": "2022-10-23T19:40:17.831Z"
   },
   {
    "duration": 677,
    "start_time": "2022-10-23T19:40:17.836Z"
   },
   {
    "duration": 3,
    "start_time": "2022-10-23T19:40:18.515Z"
   },
   {
    "duration": 1928,
    "start_time": "2022-10-23T19:40:18.519Z"
   },
   {
    "duration": 19,
    "start_time": "2022-10-23T19:40:20.450Z"
   },
   {
    "duration": 46,
    "start_time": "2022-10-23T19:40:20.471Z"
   },
   {
    "duration": 8,
    "start_time": "2022-10-23T19:40:20.518Z"
   },
   {
    "duration": 34,
    "start_time": "2022-10-23T19:40:20.528Z"
   },
   {
    "duration": 41,
    "start_time": "2022-10-23T19:40:20.564Z"
   },
   {
    "duration": 24,
    "start_time": "2022-10-23T19:40:20.607Z"
   },
   {
    "duration": 1288,
    "start_time": "2022-10-23T19:40:20.633Z"
   },
   {
    "duration": 2969,
    "start_time": "2022-10-23T19:40:21.923Z"
   },
   {
    "duration": 0,
    "start_time": "2022-10-23T19:40:24.894Z"
   },
   {
    "duration": 0,
    "start_time": "2022-10-23T19:40:24.896Z"
   },
   {
    "duration": 1,
    "start_time": "2022-10-23T19:40:24.897Z"
   },
   {
    "duration": 0,
    "start_time": "2022-10-23T19:40:24.899Z"
   },
   {
    "duration": 0,
    "start_time": "2022-10-23T19:40:24.901Z"
   },
   {
    "duration": 0,
    "start_time": "2022-10-23T19:40:24.902Z"
   },
   {
    "duration": 0,
    "start_time": "2022-10-23T19:40:24.905Z"
   },
   {
    "duration": 0,
    "start_time": "2022-10-23T19:40:24.906Z"
   },
   {
    "duration": 0,
    "start_time": "2022-10-23T19:40:24.908Z"
   },
   {
    "duration": 0,
    "start_time": "2022-10-23T19:40:24.909Z"
   },
   {
    "duration": 0,
    "start_time": "2022-10-23T19:40:24.911Z"
   },
   {
    "duration": 0,
    "start_time": "2022-10-23T19:40:24.912Z"
   },
   {
    "duration": 5337,
    "start_time": "2022-10-23T19:40:51.893Z"
   },
   {
    "duration": 836,
    "start_time": "2022-10-23T19:40:57.233Z"
   },
   {
    "duration": 373,
    "start_time": "2022-10-23T19:40:58.071Z"
   },
   {
    "duration": 10265,
    "start_time": "2022-10-23T19:40:58.447Z"
   },
   {
    "duration": 4,
    "start_time": "2022-10-23T19:41:08.715Z"
   },
   {
    "duration": 561,
    "start_time": "2022-10-23T19:41:08.721Z"
   },
   {
    "duration": 3,
    "start_time": "2022-10-23T19:41:09.284Z"
   },
   {
    "duration": 2412,
    "start_time": "2022-10-23T19:41:09.289Z"
   },
   {
    "duration": 23,
    "start_time": "2022-10-23T19:41:11.703Z"
   },
   {
    "duration": 47,
    "start_time": "2022-10-23T19:41:11.729Z"
   },
   {
    "duration": 16,
    "start_time": "2022-10-23T19:41:11.778Z"
   },
   {
    "duration": 41,
    "start_time": "2022-10-23T19:41:11.797Z"
   },
   {
    "duration": 58,
    "start_time": "2022-10-23T19:41:11.840Z"
   },
   {
    "duration": 22,
    "start_time": "2022-10-23T19:41:11.899Z"
   },
   {
    "duration": 55,
    "start_time": "2022-10-23T19:43:15.007Z"
   },
   {
    "duration": 9538,
    "start_time": "2022-10-23T19:43:30.499Z"
   },
   {
    "duration": 2488,
    "start_time": "2022-10-23T19:43:40.040Z"
   },
   {
    "duration": 377,
    "start_time": "2022-10-23T19:43:42.530Z"
   },
   {
    "duration": 10775,
    "start_time": "2022-10-23T19:43:42.909Z"
   },
   {
    "duration": 5,
    "start_time": "2022-10-23T19:43:53.686Z"
   },
   {
    "duration": 681,
    "start_time": "2022-10-23T19:43:53.693Z"
   },
   {
    "duration": 2,
    "start_time": "2022-10-23T19:43:54.376Z"
   },
   {
    "duration": 1974,
    "start_time": "2022-10-23T19:43:54.380Z"
   },
   {
    "duration": 24,
    "start_time": "2022-10-23T19:43:56.356Z"
   },
   {
    "duration": 31,
    "start_time": "2022-10-23T19:43:56.383Z"
   },
   {
    "duration": 9,
    "start_time": "2022-10-23T19:43:56.416Z"
   },
   {
    "duration": 36,
    "start_time": "2022-10-23T19:43:56.427Z"
   },
   {
    "duration": 29,
    "start_time": "2022-10-23T19:43:56.465Z"
   },
   {
    "duration": 19,
    "start_time": "2022-10-23T19:43:56.496Z"
   },
   {
    "duration": 1595,
    "start_time": "2022-10-23T19:43:56.517Z"
   },
   {
    "duration": 4943,
    "start_time": "2022-10-23T19:43:58.114Z"
   },
   {
    "duration": 4,
    "start_time": "2022-10-23T19:44:03.059Z"
   },
   {
    "duration": 12,
    "start_time": "2022-10-23T19:44:03.065Z"
   },
   {
    "duration": 12,
    "start_time": "2022-10-23T19:44:03.079Z"
   },
   {
    "duration": 14,
    "start_time": "2022-10-23T19:44:03.093Z"
   },
   {
    "duration": 4,
    "start_time": "2022-10-23T19:44:03.109Z"
   },
   {
    "duration": 69,
    "start_time": "2022-10-23T19:44:03.115Z"
   },
   {
    "duration": 0,
    "start_time": "2022-10-23T19:44:03.186Z"
   },
   {
    "duration": 0,
    "start_time": "2022-10-23T19:44:03.188Z"
   },
   {
    "duration": 0,
    "start_time": "2022-10-23T19:44:03.190Z"
   },
   {
    "duration": 0,
    "start_time": "2022-10-23T19:44:03.191Z"
   },
   {
    "duration": 0,
    "start_time": "2022-10-23T19:44:03.193Z"
   },
   {
    "duration": 0,
    "start_time": "2022-10-23T19:44:03.194Z"
   },
   {
    "duration": 399908,
    "start_time": "2022-10-23T19:44:43.248Z"
   },
   {
    "duration": 42096,
    "start_time": "2022-10-23T19:51:23.158Z"
   },
   {
    "duration": 160419,
    "start_time": "2022-10-23T19:57:44.391Z"
   },
   {
    "duration": 86987,
    "start_time": "2022-10-23T20:02:47.587Z"
   },
   {
    "duration": 5196,
    "start_time": "2022-10-23T20:04:24.172Z"
   },
   {
    "duration": 92615,
    "start_time": "2022-10-23T20:04:58.140Z"
   },
   {
    "duration": 14947,
    "start_time": "2022-10-23T20:07:36.525Z"
   },
   {
    "duration": 466130,
    "start_time": "2022-10-23T20:08:03.192Z"
   },
   {
    "duration": 476578,
    "start_time": "2022-10-23T20:16:18.714Z"
   },
   {
    "duration": 792965,
    "start_time": "2022-10-23T20:24:15.294Z"
   },
   {
    "duration": 48935,
    "start_time": "2022-10-23T20:51:47.325Z"
   },
   {
    "duration": 56664,
    "start_time": "2022-10-23T20:53:05.997Z"
   },
   {
    "duration": 51083,
    "start_time": "2022-10-23T20:54:18.283Z"
   },
   {
    "duration": 57510,
    "start_time": "2022-10-23T20:55:23.645Z"
   },
   {
    "duration": 51226,
    "start_time": "2022-10-23T20:56:30.632Z"
   },
   {
    "duration": 46110,
    "start_time": "2022-10-23T20:57:30.148Z"
   },
   {
    "duration": 51973,
    "start_time": "2022-10-23T20:59:32.694Z"
   },
   {
    "duration": 98300,
    "start_time": "2022-10-23T21:06:24.558Z"
   },
   {
    "duration": 18012,
    "start_time": "2022-10-23T21:08:02.863Z"
   },
   {
    "duration": 136,
    "start_time": "2022-10-23T21:19:01.108Z"
   },
   {
    "duration": 114,
    "start_time": "2022-10-23T21:19:48.101Z"
   },
   {
    "duration": 15902,
    "start_time": "2022-10-23T21:59:59.066Z"
   },
   {
    "duration": 96902,
    "start_time": "2022-10-23T22:02:47.952Z"
   },
   {
    "duration": 17815,
    "start_time": "2022-10-23T22:04:24.856Z"
   },
   {
    "duration": 106382,
    "start_time": "2022-10-23T22:04:42.673Z"
   },
   {
    "duration": 13112,
    "start_time": "2022-10-23T22:06:29.057Z"
   },
   {
    "duration": 209376,
    "start_time": "2022-10-23T22:37:51.675Z"
   },
   {
    "duration": 3301,
    "start_time": "2022-10-23T22:42:00.453Z"
   },
   {
    "duration": 18372,
    "start_time": "2022-10-23T22:42:20.626Z"
   },
   {
    "duration": 4826,
    "start_time": "2022-10-24T06:10:55.903Z"
   },
   {
    "duration": 2412,
    "start_time": "2022-10-24T06:11:00.731Z"
   },
   {
    "duration": 342,
    "start_time": "2022-10-24T06:11:03.148Z"
   },
   {
    "duration": 11326,
    "start_time": "2022-10-24T06:11:03.492Z"
   },
   {
    "duration": 3,
    "start_time": "2022-10-24T06:11:14.820Z"
   },
   {
    "duration": 501,
    "start_time": "2022-10-24T06:11:14.825Z"
   },
   {
    "duration": 2,
    "start_time": "2022-10-24T06:11:15.328Z"
   },
   {
    "duration": 2074,
    "start_time": "2022-10-24T06:11:15.332Z"
   },
   {
    "duration": 15,
    "start_time": "2022-10-24T06:11:17.409Z"
   },
   {
    "duration": 23,
    "start_time": "2022-10-24T06:11:17.426Z"
   },
   {
    "duration": 6,
    "start_time": "2022-10-24T06:11:17.450Z"
   },
   {
    "duration": 52,
    "start_time": "2022-10-24T06:11:17.457Z"
   },
   {
    "duration": 143,
    "start_time": "2022-10-24T06:11:17.512Z"
   },
   {
    "duration": 133,
    "start_time": "2022-10-24T06:11:17.657Z"
   },
   {
    "duration": 32,
    "start_time": "2022-10-24T06:11:17.792Z"
   },
   {
    "duration": 18,
    "start_time": "2022-10-24T06:11:17.826Z"
   },
   {
    "duration": 1363,
    "start_time": "2022-10-24T06:11:17.846Z"
   },
   {
    "duration": 4365,
    "start_time": "2022-10-24T06:11:19.211Z"
   },
   {
    "duration": 4,
    "start_time": "2022-10-24T06:11:23.578Z"
   },
   {
    "duration": 8,
    "start_time": "2022-10-24T06:11:23.583Z"
   },
   {
    "duration": 70404,
    "start_time": "2022-10-24T06:11:23.609Z"
   },
   {
    "duration": 16022,
    "start_time": "2022-10-24T06:12:34.015Z"
   },
   {
    "duration": 78276,
    "start_time": "2022-10-24T06:12:50.039Z"
   },
   {
    "duration": 10701,
    "start_time": "2022-10-24T06:14:08.317Z"
   },
   {
    "duration": 493231,
    "start_time": "2022-10-24T06:14:19.020Z"
   },
   {
    "duration": 64209,
    "start_time": "2022-10-24T06:22:32.253Z"
   },
   {
    "duration": 209265,
    "start_time": "2022-10-24T06:23:36.466Z"
   },
   {
    "duration": 7382,
    "start_time": "2022-10-24T06:27:05.733Z"
   },
   {
    "duration": 149451,
    "start_time": "2022-10-24T06:27:13.116Z"
   },
   {
    "duration": 190604,
    "start_time": "2022-10-24T06:29:42.568Z"
   },
   {
    "duration": 725675,
    "start_time": "2022-10-24T06:32:53.174Z"
   },
   {
    "duration": 819290,
    "start_time": "2022-10-24T06:44:58.851Z"
   },
   {
    "duration": 299668,
    "start_time": "2022-10-24T06:58:38.142Z"
   },
   {
    "duration": 26735,
    "start_time": "2022-10-24T07:03:37.812Z"
   },
   {
    "duration": 35870,
    "start_time": "2022-10-24T07:04:04.549Z"
   },
   {
    "duration": 4308,
    "start_time": "2022-10-24T07:04:40.510Z"
   },
   {
    "duration": 138349,
    "start_time": "2022-10-24T07:20:05.692Z"
   },
   {
    "duration": 179338,
    "start_time": "2022-10-24T07:22:24.043Z"
   },
   {
    "duration": 10,
    "start_time": "2022-10-24T08:05:09.838Z"
   },
   {
    "duration": 0,
    "start_time": "2022-10-24T08:11:03.471Z"
   },
   {
    "duration": 7,
    "start_time": "2022-10-24T08:11:18.027Z"
   },
   {
    "duration": 7,
    "start_time": "2022-10-24T08:11:23.521Z"
   },
   {
    "duration": 26078,
    "start_time": "2022-10-24T08:11:33.137Z"
   },
   {
    "duration": 26304,
    "start_time": "2022-10-24T08:12:37.106Z"
   },
   {
    "duration": 25106,
    "start_time": "2022-10-24T08:19:17.315Z"
   },
   {
    "duration": 63,
    "start_time": "2022-10-24T08:19:45.443Z"
   },
   {
    "duration": 69,
    "start_time": "2022-10-24T08:20:04.940Z"
   },
   {
    "duration": 4,
    "start_time": "2022-10-24T08:32:52.317Z"
   },
   {
    "duration": 4,
    "start_time": "2022-10-24T08:32:57.818Z"
   },
   {
    "duration": 4,
    "start_time": "2022-10-24T08:33:01.406Z"
   },
   {
    "duration": 5,
    "start_time": "2022-10-24T08:33:28.888Z"
   },
   {
    "duration": 75,
    "start_time": "2022-10-24T08:34:03.271Z"
   },
   {
    "duration": 27716,
    "start_time": "2022-10-24T08:34:10.205Z"
   },
   {
    "duration": 4,
    "start_time": "2022-10-24T08:34:39.420Z"
   },
   {
    "duration": 4,
    "start_time": "2022-10-24T08:35:07.016Z"
   },
   {
    "duration": 4,
    "start_time": "2022-10-24T08:40:07.235Z"
   },
   {
    "duration": 17,
    "start_time": "2022-10-24T08:41:20.884Z"
   },
   {
    "duration": 4,
    "start_time": "2022-10-24T08:41:26.867Z"
   },
   {
    "duration": 10,
    "start_time": "2022-10-24T08:42:58.067Z"
   },
   {
    "duration": 1798,
    "start_time": "2022-10-24T08:45:59.990Z"
   },
   {
    "duration": 2596,
    "start_time": "2022-10-24T08:46:09.737Z"
   },
   {
    "duration": 28274,
    "start_time": "2022-10-24T08:46:40.838Z"
   },
   {
    "duration": 5,
    "start_time": "2022-10-24T08:47:11.714Z"
   },
   {
    "duration": 5,
    "start_time": "2022-10-24T08:47:28.662Z"
   },
   {
    "duration": 9,
    "start_time": "2022-10-24T08:47:33.951Z"
   },
   {
    "duration": 30242,
    "start_time": "2022-10-24T08:47:42.175Z"
   },
   {
    "duration": 9,
    "start_time": "2022-10-24T08:49:07.919Z"
   },
   {
    "duration": 48314,
    "start_time": "2022-10-24T08:51:16.424Z"
   },
   {
    "duration": 195,
    "start_time": "2022-10-24T08:53:08.915Z"
   },
   {
    "duration": 5599,
    "start_time": "2022-10-24T08:56:09.670Z"
   },
   {
    "duration": 2389,
    "start_time": "2022-10-24T09:00:01.272Z"
   },
   {
    "duration": 294,
    "start_time": "2022-10-24T09:00:07.732Z"
   },
   {
    "duration": 280,
    "start_time": "2022-10-24T09:00:25.133Z"
   },
   {
    "duration": 2308,
    "start_time": "2022-10-24T09:00:25.417Z"
   },
   {
    "duration": 2272,
    "start_time": "2022-10-24T09:05:05.138Z"
   },
   {
    "duration": 2067,
    "start_time": "2022-10-24T09:05:26.848Z"
   },
   {
    "duration": 1828,
    "start_time": "2022-10-24T09:06:36.736Z"
   },
   {
    "duration": 697,
    "start_time": "2022-10-24T09:07:37.791Z"
   },
   {
    "duration": 721,
    "start_time": "2022-10-24T09:07:52.125Z"
   },
   {
    "duration": 6045,
    "start_time": "2022-10-24T09:08:44.492Z"
   },
   {
    "duration": 76,
    "start_time": "2022-10-24T09:11:26.505Z"
   },
   {
    "duration": 176840,
    "start_time": "2022-10-24T09:11:30.589Z"
   },
   {
    "duration": 135962,
    "start_time": "2022-10-24T09:15:25.674Z"
   },
   {
    "duration": 17489,
    "start_time": "2022-10-24T09:17:41.638Z"
   },
   {
    "duration": 148519,
    "start_time": "2022-10-24T09:17:59.129Z"
   },
   {
    "duration": 1076,
    "start_time": "2022-10-24T09:20:27.650Z"
   },
   {
    "duration": 62083,
    "start_time": "2022-10-24T09:20:28.728Z"
   },
   {
    "duration": 96,
    "start_time": "2022-10-24T09:21:30.813Z"
   },
   {
    "duration": 65221,
    "start_time": "2022-10-24T09:25:45.799Z"
   },
   {
    "duration": 92,
    "start_time": "2022-10-24T09:26:51.022Z"
   },
   {
    "duration": 183233,
    "start_time": "2022-10-24T09:26:51.116Z"
   },
   {
    "duration": 1461,
    "start_time": "2022-10-24T09:29:54.351Z"
   },
   {
    "duration": 34708,
    "start_time": "2022-10-24T09:31:45.708Z"
   },
   {
    "duration": 12,
    "start_time": "2022-10-24T09:32:20.418Z"
   },
   {
    "duration": 29060,
    "start_time": "2022-10-24T09:34:40.057Z"
   },
   {
    "duration": 98,
    "start_time": "2022-10-24T09:35:09.119Z"
   },
   {
    "duration": 238311,
    "start_time": "2022-10-24T09:35:09.218Z"
   },
   {
    "duration": 2102,
    "start_time": "2022-10-24T09:39:07.531Z"
   },
   {
    "duration": 282929,
    "start_time": "2022-10-24T09:39:40.710Z"
   },
   {
    "duration": 2679,
    "start_time": "2022-10-24T09:44:23.641Z"
   },
   {
    "duration": 2489989,
    "start_time": "2022-10-24T09:45:11.054Z"
   },
   {
    "duration": 41883,
    "start_time": "2022-10-24T10:26:41.046Z"
   },
   {
    "duration": 637,
    "start_time": "2022-10-24T10:28:42.039Z"
   },
   {
    "duration": 2655,
    "start_time": "2022-10-24T10:28:42.678Z"
   },
   {
    "duration": 168,
    "start_time": "2022-10-24T10:31:29.747Z"
   },
   {
    "duration": 57,
    "start_time": "2022-10-24T10:31:39.175Z"
   },
   {
    "duration": 260165,
    "start_time": "2022-10-24T10:32:05.762Z"
   },
   {
    "duration": 2602,
    "start_time": "2022-10-24T10:36:25.929Z"
   },
   {
    "duration": 40275,
    "start_time": "2022-10-24T10:53:02.547Z"
   },
   {
    "duration": 5,
    "start_time": "2022-10-24T10:58:39.159Z"
   },
   {
    "duration": 3,
    "start_time": "2022-10-24T10:59:00.377Z"
   },
   {
    "duration": 23,
    "start_time": "2022-10-24T10:59:17.023Z"
   },
   {
    "duration": 6,
    "start_time": "2022-10-24T10:59:28.326Z"
   },
   {
    "duration": 9,
    "start_time": "2022-10-24T10:59:53.258Z"
   },
   {
    "duration": 83,
    "start_time": "2022-10-24T11:11:03.253Z"
   },
   {
    "duration": 326764,
    "start_time": "2022-10-24T11:11:42.674Z"
   },
   {
    "duration": 2775,
    "start_time": "2022-10-24T11:17:09.439Z"
   },
   {
    "duration": 42814,
    "start_time": "2022-10-24T11:17:12.217Z"
   },
   {
    "duration": 10,
    "start_time": "2022-10-24T11:17:55.111Z"
   },
   {
    "duration": 13,
    "start_time": "2022-10-24T11:18:43.803Z"
   },
   {
    "duration": 2772,
    "start_time": "2022-10-24T11:18:54.251Z"
   },
   {
    "duration": 141734,
    "start_time": "2022-10-24T11:19:05.584Z"
   },
   {
    "duration": 273515,
    "start_time": "2022-10-24T11:33:35.822Z"
   },
   {
    "duration": 5179,
    "start_time": "2022-10-24T11:38:09.338Z"
   },
   {
    "duration": 12,
    "start_time": "2022-10-24T11:44:37.211Z"
   },
   {
    "duration": 11,
    "start_time": "2022-10-24T11:47:06.013Z"
   },
   {
    "duration": 9,
    "start_time": "2022-10-24T11:56:24.161Z"
   },
   {
    "duration": 5003,
    "start_time": "2022-10-24T12:33:24.449Z"
   },
   {
    "duration": 3626,
    "start_time": "2022-10-24T12:33:29.454Z"
   },
   {
    "duration": 319,
    "start_time": "2022-10-24T12:33:33.083Z"
   },
   {
    "duration": 14424,
    "start_time": "2022-10-24T12:33:33.404Z"
   },
   {
    "duration": 3,
    "start_time": "2022-10-24T12:33:47.830Z"
   },
   {
    "duration": 650,
    "start_time": "2022-10-24T12:33:47.835Z"
   },
   {
    "duration": 2,
    "start_time": "2022-10-24T12:33:48.487Z"
   },
   {
    "duration": 2070,
    "start_time": "2022-10-24T12:33:48.492Z"
   },
   {
    "duration": 20,
    "start_time": "2022-10-24T12:33:50.564Z"
   },
   {
    "duration": 44,
    "start_time": "2022-10-24T12:33:50.590Z"
   },
   {
    "duration": 7,
    "start_time": "2022-10-24T12:33:50.636Z"
   },
   {
    "duration": 16,
    "start_time": "2022-10-24T12:33:50.645Z"
   },
   {
    "duration": 181,
    "start_time": "2022-10-24T12:33:50.663Z"
   },
   {
    "duration": 132,
    "start_time": "2022-10-24T12:33:50.845Z"
   },
   {
    "duration": 26,
    "start_time": "2022-10-24T12:33:50.979Z"
   },
   {
    "duration": 33,
    "start_time": "2022-10-24T12:33:51.007Z"
   },
   {
    "duration": 1605,
    "start_time": "2022-10-24T12:33:51.041Z"
   },
   {
    "duration": 2124,
    "start_time": "2022-10-24T12:33:52.647Z"
   },
   {
    "duration": 809,
    "start_time": "2022-10-24T12:33:54.772Z"
   },
   {
    "duration": 3129,
    "start_time": "2022-10-24T12:33:55.583Z"
   },
   {
    "duration": 10,
    "start_time": "2022-10-24T12:33:58.714Z"
   },
   {
    "duration": 23,
    "start_time": "2022-10-24T12:33:58.725Z"
   },
   {
    "duration": 97575,
    "start_time": "2022-10-24T12:33:58.750Z"
   },
   {
    "duration": 17712,
    "start_time": "2022-10-24T12:35:36.327Z"
   },
   {
    "duration": 110484,
    "start_time": "2022-10-24T12:35:54.041Z"
   },
   {
    "duration": 15220,
    "start_time": "2022-10-24T12:37:44.527Z"
   },
   {
    "duration": 3,
    "start_time": "2022-10-24T12:37:59.749Z"
   },
   {
    "duration": 345,
    "start_time": "2022-10-24T12:37:59.756Z"
   },
   {
    "duration": 0,
    "start_time": "2022-10-24T12:38:00.102Z"
   },
   {
    "duration": 0,
    "start_time": "2022-10-24T12:38:00.104Z"
   },
   {
    "duration": 0,
    "start_time": "2022-10-24T12:38:00.105Z"
   },
   {
    "duration": 0,
    "start_time": "2022-10-24T12:38:00.106Z"
   },
   {
    "duration": 0,
    "start_time": "2022-10-24T12:38:00.107Z"
   },
   {
    "duration": 0,
    "start_time": "2022-10-24T12:38:00.123Z"
   },
   {
    "duration": 0,
    "start_time": "2022-10-24T12:38:00.125Z"
   },
   {
    "duration": 1,
    "start_time": "2022-10-24T12:38:00.126Z"
   },
   {
    "duration": 0,
    "start_time": "2022-10-24T12:38:00.128Z"
   },
   {
    "duration": 0,
    "start_time": "2022-10-24T12:38:00.129Z"
   },
   {
    "duration": 0,
    "start_time": "2022-10-24T12:38:00.130Z"
   },
   {
    "duration": 0,
    "start_time": "2022-10-24T12:38:00.131Z"
   },
   {
    "duration": 0,
    "start_time": "2022-10-24T12:38:00.132Z"
   },
   {
    "duration": 0,
    "start_time": "2022-10-24T12:38:00.134Z"
   },
   {
    "duration": 0,
    "start_time": "2022-10-24T12:38:00.135Z"
   },
   {
    "duration": 0,
    "start_time": "2022-10-24T12:38:00.136Z"
   },
   {
    "duration": 0,
    "start_time": "2022-10-24T12:38:00.137Z"
   },
   {
    "duration": 0,
    "start_time": "2022-10-24T12:38:00.138Z"
   },
   {
    "duration": 0,
    "start_time": "2022-10-24T12:38:00.139Z"
   },
   {
    "duration": 0,
    "start_time": "2022-10-24T12:38:00.140Z"
   },
   {
    "duration": 3,
    "start_time": "2022-10-24T12:38:12.851Z"
   },
   {
    "duration": 301671,
    "start_time": "2022-10-24T12:38:13.182Z"
   },
   {
    "duration": 5085,
    "start_time": "2022-10-24T12:43:14.855Z"
   },
   {
    "duration": 149243,
    "start_time": "2022-10-24T12:43:19.941Z"
   },
   {
    "duration": 188405,
    "start_time": "2022-10-24T12:45:49.186Z"
   },
   {
    "duration": 729245,
    "start_time": "2022-10-24T12:48:57.593Z"
   },
   {
    "duration": 847687,
    "start_time": "2022-10-24T13:01:06.840Z"
   },
   {
    "duration": 378596,
    "start_time": "2022-10-24T13:15:14.529Z"
   },
   {
    "duration": 30635,
    "start_time": "2022-10-24T13:21:33.128Z"
   },
   {
    "duration": 57159,
    "start_time": "2022-10-24T13:22:03.765Z"
   },
   {
    "duration": 7390,
    "start_time": "2022-10-24T13:23:00.935Z"
   },
   {
    "duration": 14,
    "start_time": "2022-10-24T13:23:08.327Z"
   },
   {
    "duration": 31993,
    "start_time": "2022-10-24T13:23:08.342Z"
   },
   {
    "duration": 10,
    "start_time": "2022-10-24T13:23:40.337Z"
   },
   {
    "duration": 316495,
    "start_time": "2022-10-24T13:23:40.348Z"
   },
   {
    "duration": 2546,
    "start_time": "2022-10-24T13:28:56.845Z"
   },
   {
    "duration": 139667,
    "start_time": "2022-10-24T13:28:59.393Z"
   },
   {
    "duration": 12,
    "start_time": "2022-10-24T13:31:19.062Z"
   },
   {
    "duration": 12137,
    "start_time": "2022-10-24T13:31:19.076Z"
   },
   {
    "duration": 0,
    "start_time": "2022-10-24T13:31:31.215Z"
   },
   {
    "duration": 0,
    "start_time": "2022-10-24T13:31:31.216Z"
   },
   {
    "duration": 4,
    "start_time": "2022-10-24T13:31:38.997Z"
   },
   {
    "duration": 11760,
    "start_time": "2022-10-24T13:31:47.829Z"
   },
   {
    "duration": 7,
    "start_time": "2022-10-24T13:32:11.291Z"
   },
   {
    "duration": 5,
    "start_time": "2022-10-24T13:32:32.359Z"
   },
   {
    "duration": 8,
    "start_time": "2022-10-24T13:32:39.582Z"
   },
   {
    "duration": 22,
    "start_time": "2022-10-24T13:33:19.120Z"
   },
   {
    "duration": 9,
    "start_time": "2022-10-24T13:33:22.423Z"
   },
   {
    "duration": 9,
    "start_time": "2022-10-24T13:34:32.325Z"
   },
   {
    "duration": 8,
    "start_time": "2022-10-24T13:35:17.339Z"
   },
   {
    "duration": 1471,
    "start_time": "2022-10-24T13:35:56.842Z"
   },
   {
    "duration": 5,
    "start_time": "2022-10-24T13:36:02.927Z"
   },
   {
    "duration": 8,
    "start_time": "2022-10-24T13:36:50.710Z"
   },
   {
    "duration": 7,
    "start_time": "2022-10-24T13:37:07.639Z"
   },
   {
    "duration": 9,
    "start_time": "2022-10-24T13:37:20.777Z"
   },
   {
    "duration": 7,
    "start_time": "2022-10-24T13:37:29.840Z"
   },
   {
    "duration": 8,
    "start_time": "2022-10-24T13:37:34.972Z"
   },
   {
    "duration": 9,
    "start_time": "2022-10-24T13:37:47.196Z"
   },
   {
    "duration": 25284,
    "start_time": "2022-10-26T13:51:05.143Z"
   },
   {
    "duration": 3658,
    "start_time": "2022-10-26T13:51:30.430Z"
   },
   {
    "duration": 306,
    "start_time": "2022-10-26T13:51:34.089Z"
   },
   {
    "duration": 3,
    "start_time": "2022-10-26T13:51:34.397Z"
   },
   {
    "duration": 21,
    "start_time": "2022-10-26T13:51:34.401Z"
   },
   {
    "duration": 620,
    "start_time": "2022-10-26T13:51:34.423Z"
   },
   {
    "duration": 1141085,
    "start_time": "2022-10-26T13:51:37.867Z"
   },
   {
    "duration": 37,
    "start_time": "2022-10-26T14:10:38.954Z"
   },
   {
    "duration": 41,
    "start_time": "2022-10-26T14:10:38.993Z"
   },
   {
    "duration": 7,
    "start_time": "2022-10-26T14:10:39.036Z"
   },
   {
    "duration": 21,
    "start_time": "2022-10-26T14:10:39.044Z"
   },
   {
    "duration": 158,
    "start_time": "2022-10-26T14:10:39.067Z"
   },
   {
    "duration": 125,
    "start_time": "2022-10-26T14:10:39.227Z"
   },
   {
    "duration": 27,
    "start_time": "2022-10-26T14:10:39.353Z"
   },
   {
    "duration": 21,
    "start_time": "2022-10-26T14:10:39.382Z"
   },
   {
    "duration": 1304,
    "start_time": "2022-10-26T14:14:57.620Z"
   },
   {
    "duration": 2600,
    "start_time": "2022-10-26T14:16:22.892Z"
   },
   {
    "duration": 5,
    "start_time": "2022-10-26T14:16:52.149Z"
   },
   {
    "duration": 3,
    "start_time": "2022-10-26T14:19:06.341Z"
   },
   {
    "duration": 4,
    "start_time": "2022-10-26T14:50:05.184Z"
   }
  ],
  "kernelspec": {
   "display_name": "Python 3 (ipykernel)",
   "language": "python",
   "name": "python3"
  },
  "language_info": {
   "codemirror_mode": {
    "name": "ipython",
    "version": 3
   },
   "file_extension": ".py",
   "mimetype": "text/x-python",
   "name": "python",
   "nbconvert_exporter": "python",
   "pygments_lexer": "ipython3",
   "version": "3.9.5"
  },
  "toc": {
   "base_numbering": 1,
   "nav_menu": {},
   "number_sections": true,
   "sideBar": true,
   "skip_h1_title": true,
   "title_cell": "Содержание",
   "title_sidebar": "Contents",
   "toc_cell": true,
   "toc_position": {
    "height": "calc(100% - 180px)",
    "left": "10px",
    "top": "150px",
    "width": "165px"
   },
   "toc_section_display": true,
   "toc_window_display": true
  }
 },
 "nbformat": 4,
 "nbformat_minor": 2
}
