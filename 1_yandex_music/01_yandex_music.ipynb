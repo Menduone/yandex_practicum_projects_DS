{
 "cells": [
  {
   "cell_type": "markdown",
   "metadata": {
    "id": "E0vqbgi9ay0H"
   },
   "source": [
    "# Яндекс.Музыка"
   ]
  },
  {
   "cell_type": "markdown",
   "metadata": {
    "id": "VUC88oWjTJw2"
   },
   "source": [
    "Сравнение Москвы и Петербурга окружено мифами. Например:\n",
    " * Москва — мегаполис, подчинённый жёсткому ритму рабочей недели;\n",
    " * Петербург — культурная столица, со своими вкусами.\n",
    "\n",
    "На данных Яндекс.Музыки вы сравните поведение пользователей двух столиц.\n",
    "\n",
    "**Цель исследования** — проверьте три гипотезы:\n",
    "1. Активность пользователей зависит от дня недели. Причём в Москве и Петербурге это проявляется по-разному.\n",
    "2. В понедельник утром в Москве преобладают одни жанры, а в Петербурге — другие. Так же и вечером пятницы преобладают разные жанры — в зависимости от города. \n",
    "3. Москва и Петербург предпочитают разные жанры музыки. В Москве чаще слушают поп-музыку, в Петербурге — русский рэп.\n",
    "\n",
    "**Ход исследования**\n",
    "\n",
    "Данные о поведении пользователей вы получите из файла `yandex_music_project.csv`. О качестве данных ничего не известно. Поэтому перед проверкой гипотез понадобится обзор данных. \n",
    "\n",
    "Вы проверите данные на ошибки и оцените их влияние на исследование. Затем, на этапе предобработки вы поищете возможность исправить самые критичные ошибки данных.\n",
    " \n",
    "Таким образом, исследование пройдёт в три этапа:\n",
    " 1. Обзор данных.\n",
    " 2. Предобработка данных.\n",
    " 3. Проверка гипотез.\n",
    "\n"
   ]
  },
  {
   "cell_type": "markdown",
   "metadata": {
    "id": "Ml1hmfXC_Zcs"
   },
   "source": [
    "## Обзор данных\n",
    "\n",
    "Составьте первое представление о данных Яндекс.Музыки.\n",
    "\n",
    "\n"
   ]
  },
  {
   "cell_type": "markdown",
   "metadata": {
    "id": "57eAOGIz_Zcs"
   },
   "source": [
    "Основной инструмент аналитика — `pandas`. Импортируйте эту библиотеку."
   ]
  },
  {
   "cell_type": "code",
   "execution_count": 1,
   "metadata": {
    "id": "AXN7PHPN_Zcs"
   },
   "outputs": [],
   "source": [
    "import pandas as pd # импорт библиотеки pandas"
   ]
  },
  {
   "cell_type": "markdown",
   "metadata": {
    "id": "SG23P8tt_Zcs"
   },
   "source": [
    "Прочитайте файл `yandex_music_project.csv` из папки `/datasets` и сохраните его в переменной `df`:"
   ]
  },
  {
   "cell_type": "code",
   "execution_count": 2,
   "metadata": {
    "id": "fFVu7vqh_Zct"
   },
   "outputs": [],
   "source": [
    "df = pd.read_csv('/datasets/yandex_music_project.csv') # чтение файла с данными и сохранение в df"
   ]
  },
  {
   "cell_type": "markdown",
   "metadata": {
    "id": "rDoOMd3uTqnZ"
   },
   "source": [
    "Выведите на экран первые десять строк таблицы:"
   ]
  },
  {
   "cell_type": "code",
   "execution_count": 3,
   "metadata": {
    "id": "oWTVX3gW_Zct",
    "scrolled": true
   },
   "outputs": [
    {
     "data": {
      "text/html": [
       "<div>\n",
       "<style scoped>\n",
       "    .dataframe tbody tr th:only-of-type {\n",
       "        vertical-align: middle;\n",
       "    }\n",
       "\n",
       "    .dataframe tbody tr th {\n",
       "        vertical-align: top;\n",
       "    }\n",
       "\n",
       "    .dataframe thead th {\n",
       "        text-align: right;\n",
       "    }\n",
       "</style>\n",
       "<table border=\"1\" class=\"dataframe\">\n",
       "  <thead>\n",
       "    <tr style=\"text-align: right;\">\n",
       "      <th></th>\n",
       "      <th>userID</th>\n",
       "      <th>Track</th>\n",
       "      <th>artist</th>\n",
       "      <th>genre</th>\n",
       "      <th>City</th>\n",
       "      <th>time</th>\n",
       "      <th>Day</th>\n",
       "    </tr>\n",
       "  </thead>\n",
       "  <tbody>\n",
       "    <tr>\n",
       "      <th>0</th>\n",
       "      <td>FFB692EC</td>\n",
       "      <td>Kamigata To Boots</td>\n",
       "      <td>The Mass Missile</td>\n",
       "      <td>rock</td>\n",
       "      <td>Saint-Petersburg</td>\n",
       "      <td>20:28:33</td>\n",
       "      <td>Wednesday</td>\n",
       "    </tr>\n",
       "    <tr>\n",
       "      <th>1</th>\n",
       "      <td>55204538</td>\n",
       "      <td>Delayed Because of Accident</td>\n",
       "      <td>Andreas Rönnberg</td>\n",
       "      <td>rock</td>\n",
       "      <td>Moscow</td>\n",
       "      <td>14:07:09</td>\n",
       "      <td>Friday</td>\n",
       "    </tr>\n",
       "    <tr>\n",
       "      <th>2</th>\n",
       "      <td>20EC38</td>\n",
       "      <td>Funiculì funiculà</td>\n",
       "      <td>Mario Lanza</td>\n",
       "      <td>pop</td>\n",
       "      <td>Saint-Petersburg</td>\n",
       "      <td>20:58:07</td>\n",
       "      <td>Wednesday</td>\n",
       "    </tr>\n",
       "    <tr>\n",
       "      <th>3</th>\n",
       "      <td>A3DD03C9</td>\n",
       "      <td>Dragons in the Sunset</td>\n",
       "      <td>Fire + Ice</td>\n",
       "      <td>folk</td>\n",
       "      <td>Saint-Petersburg</td>\n",
       "      <td>08:37:09</td>\n",
       "      <td>Monday</td>\n",
       "    </tr>\n",
       "    <tr>\n",
       "      <th>4</th>\n",
       "      <td>E2DC1FAE</td>\n",
       "      <td>Soul People</td>\n",
       "      <td>Space Echo</td>\n",
       "      <td>dance</td>\n",
       "      <td>Moscow</td>\n",
       "      <td>08:34:34</td>\n",
       "      <td>Monday</td>\n",
       "    </tr>\n",
       "    <tr>\n",
       "      <th>5</th>\n",
       "      <td>842029A1</td>\n",
       "      <td>Преданная</td>\n",
       "      <td>IMPERVTOR</td>\n",
       "      <td>rusrap</td>\n",
       "      <td>Saint-Petersburg</td>\n",
       "      <td>13:09:41</td>\n",
       "      <td>Friday</td>\n",
       "    </tr>\n",
       "    <tr>\n",
       "      <th>6</th>\n",
       "      <td>4CB90AA5</td>\n",
       "      <td>True</td>\n",
       "      <td>Roman Messer</td>\n",
       "      <td>dance</td>\n",
       "      <td>Moscow</td>\n",
       "      <td>13:00:07</td>\n",
       "      <td>Wednesday</td>\n",
       "    </tr>\n",
       "    <tr>\n",
       "      <th>7</th>\n",
       "      <td>F03E1C1F</td>\n",
       "      <td>Feeling This Way</td>\n",
       "      <td>Polina Griffith</td>\n",
       "      <td>dance</td>\n",
       "      <td>Moscow</td>\n",
       "      <td>20:47:49</td>\n",
       "      <td>Wednesday</td>\n",
       "    </tr>\n",
       "    <tr>\n",
       "      <th>8</th>\n",
       "      <td>8FA1D3BE</td>\n",
       "      <td>И вновь продолжается бой</td>\n",
       "      <td>NaN</td>\n",
       "      <td>ruspop</td>\n",
       "      <td>Moscow</td>\n",
       "      <td>09:17:40</td>\n",
       "      <td>Friday</td>\n",
       "    </tr>\n",
       "    <tr>\n",
       "      <th>9</th>\n",
       "      <td>E772D5C0</td>\n",
       "      <td>Pessimist</td>\n",
       "      <td>NaN</td>\n",
       "      <td>dance</td>\n",
       "      <td>Saint-Petersburg</td>\n",
       "      <td>21:20:49</td>\n",
       "      <td>Wednesday</td>\n",
       "    </tr>\n",
       "  </tbody>\n",
       "</table>\n",
       "</div>"
      ],
      "text/plain": [
       "     userID                        Track            artist   genre  \\\n",
       "0  FFB692EC            Kamigata To Boots  The Mass Missile    rock   \n",
       "1  55204538  Delayed Because of Accident  Andreas Rönnberg    rock   \n",
       "2    20EC38            Funiculì funiculà       Mario Lanza     pop   \n",
       "3  A3DD03C9        Dragons in the Sunset        Fire + Ice    folk   \n",
       "4  E2DC1FAE                  Soul People        Space Echo   dance   \n",
       "5  842029A1                    Преданная         IMPERVTOR  rusrap   \n",
       "6  4CB90AA5                         True      Roman Messer   dance   \n",
       "7  F03E1C1F             Feeling This Way   Polina Griffith   dance   \n",
       "8  8FA1D3BE     И вновь продолжается бой               NaN  ruspop   \n",
       "9  E772D5C0                    Pessimist               NaN   dance   \n",
       "\n",
       "             City        time        Day  \n",
       "0  Saint-Petersburg  20:28:33  Wednesday  \n",
       "1            Moscow  14:07:09     Friday  \n",
       "2  Saint-Petersburg  20:58:07  Wednesday  \n",
       "3  Saint-Petersburg  08:37:09     Monday  \n",
       "4            Moscow  08:34:34     Monday  \n",
       "5  Saint-Petersburg  13:09:41     Friday  \n",
       "6            Moscow  13:00:07  Wednesday  \n",
       "7            Moscow  20:47:49  Wednesday  \n",
       "8            Moscow  09:17:40     Friday  \n",
       "9  Saint-Petersburg  21:20:49  Wednesday  "
      ]
     },
     "execution_count": 3,
     "metadata": {},
     "output_type": "execute_result"
    }
   ],
   "source": [
    "df.head(10) # получение первых 10 строк таблицы df"
   ]
  },
  {
   "cell_type": "markdown",
   "metadata": {
    "id": "EO73Kwic_Zct"
   },
   "source": [
    "Одной командой получить общую информацию о таблице:"
   ]
  },
  {
   "cell_type": "code",
   "execution_count": 4,
   "metadata": {
    "id": "DSf2kIb-_Zct"
   },
   "outputs": [
    {
     "name": "stdout",
     "output_type": "stream",
     "text": [
      "<class 'pandas.core.frame.DataFrame'>\n",
      "RangeIndex: 65079 entries, 0 to 65078\n",
      "Data columns (total 7 columns):\n",
      " #   Column    Non-Null Count  Dtype \n",
      "---  ------    --------------  ----- \n",
      " 0     userID  65079 non-null  object\n",
      " 1   Track     63848 non-null  object\n",
      " 2   artist    57876 non-null  object\n",
      " 3   genre     63881 non-null  object\n",
      " 4     City    65079 non-null  object\n",
      " 5   time      65079 non-null  object\n",
      " 6   Day       65079 non-null  object\n",
      "dtypes: object(7)\n",
      "memory usage: 3.5+ MB\n"
     ]
    }
   ],
   "source": [
    "df.info() # получение общей информации о данных в таблице df"
   ]
  },
  {
   "cell_type": "markdown",
   "metadata": {
    "id": "TaQ2Iwbr_Zct"
   },
   "source": [
    "Итак, в таблице семь столбцов. Тип данных во всех столбцах — `object`.\n",
    "\n",
    "Согласно документации к данным:\n",
    "* `userID` — идентификатор пользователя;\n",
    "* `Track` — название трека;  \n",
    "* `artist` — имя исполнителя;\n",
    "* `genre` — название жанра;\n",
    "* `City` — город пользователя;\n",
    "* `time` — время начала прослушивания;\n",
    "* `Day` — день недели.\n",
    "\n",
    "В названиях колонок видны три нарушения стиля:\n",
    "1. Строчные буквы сочетаются с прописными.\n",
    "2. Встречаются пробелы.\n",
    "3. Найдите ещё одну проблему в названии колонок и опишите её в этом пункте. Стоит записать название первой колонки    \"змеиным_регистром\" ('user_id'). Тут еще и строчные буквы сочетаются с прописными.\n",
    "\n",
    "\n",
    "\n",
    "Количество значений в столбцах различается. Значит, в данных есть пропущенные значения.\n"
   ]
  },
  {
   "cell_type": "markdown",
   "metadata": {
    "id": "MCB6-dXG_Zct"
   },
   "source": [
    "**Выводы**\n",
    "\n",
    "В каждой строке таблицы — данные о прослушанном треке. Часть колонок описывает саму композицию: название, исполнителя и жанр. Остальные данные рассказывают о пользователе: из какого он города, когда он слушал музыку. \n",
    "\n",
    "Предварительно можно утверждать, что, данных достаточно для проверки гипотез. Но встречаются пропуски в данных, а в названиях колонок — расхождения с хорошим стилем.\n",
    "\n",
    "Чтобы двигаться дальше, нужно устранить проблемы в данных."
   ]
  },
  {
   "cell_type": "markdown",
   "metadata": {
    "id": "SjYF6Ub9_Zct"
   },
   "source": [
    "## Предобработка данных\n",
    "Исправьте стиль в заголовках столбцов, исключите пропуски. Затем проверьте данные на дубликаты."
   ]
  },
  {
   "cell_type": "markdown",
   "metadata": {
    "id": "dIaKXr29_Zct"
   },
   "source": [
    "### Стиль заголовков\n",
    "Выведите на экран названия столбцов:"
   ]
  },
  {
   "cell_type": "code",
   "execution_count": 5,
   "metadata": {
    "id": "oKOTdF_Q_Zct"
   },
   "outputs": [
    {
     "data": {
      "text/plain": [
       "Index(['  userID', 'Track', 'artist', 'genre', '  City  ', 'time', 'Day'], dtype='object')"
      ]
     },
     "execution_count": 5,
     "metadata": {},
     "output_type": "execute_result"
    }
   ],
   "source": [
    "df.columns # перечень названий столбцов таблицы df"
   ]
  },
  {
   "cell_type": "markdown",
   "metadata": {
    "id": "FPZA3ki8xe7T"
   },
   "source": []
  },
  {
   "cell_type": "markdown",
   "metadata": {
    "id": "zj5534cv_Zct"
   },
   "source": [
    "Приведите названия в соответствие с хорошим стилем:\n",
    "* несколько слов в названии запишите в «змеином_регистре»,\n",
    "* все символы сделайте строчными,\n",
    "* устраните пробелы.\n",
    "\n",
    "Для этого переименуйте колонки так:\n",
    "* `'  userID'` → `'user_id'`;\n",
    "* `'Track'` → `'track'`;\n",
    "* `'  City  '` → `'city'`;\n",
    "* `'Day'` → `'day'`."
   ]
  },
  {
   "cell_type": "code",
   "execution_count": 6,
   "metadata": {
    "id": "ISlFqs5y_Zct"
   },
   "outputs": [],
   "source": [
    "df = df.rename(columns={'  userID': 'user_id', 'Track': 'track', '  City  ': 'city', 'Day': 'day'})\n",
    " # переименование столбцов"
   ]
  },
  {
   "cell_type": "markdown",
   "metadata": {
    "id": "1dqbh00J_Zct"
   },
   "source": [
    "Проверьте результат. Для этого ещё раз выведите на экран названия столбцов:"
   ]
  },
  {
   "cell_type": "code",
   "execution_count": 7,
   "metadata": {
    "id": "d4NOAmTW_Zct"
   },
   "outputs": [
    {
     "data": {
      "text/plain": [
       "Index(['user_id', 'track', 'artist', 'genre', 'city', 'time', 'day'], dtype='object')"
      ]
     },
     "metadata": {},
     "output_type": "display_data"
    }
   ],
   "source": [
    "display(df.columns)"
   ]
  },
  {
   "cell_type": "markdown",
   "metadata": {
    "id": "5ISfbcfY_Zct"
   },
   "source": [
    "### Пропуски значений\n",
    "Сначала посчитайте, сколько в таблице пропущенных значений. Для этого достаточно двух методов `pandas`:"
   ]
  },
  {
   "cell_type": "code",
   "execution_count": 8,
   "metadata": {
    "id": "RskX29qr_Zct"
   },
   "outputs": [
    {
     "data": {
      "text/plain": [
       "user_id       0\n",
       "track      1231\n",
       "artist     7203\n",
       "genre      1198\n",
       "city          0\n",
       "time          0\n",
       "day           0\n",
       "dtype: int64"
      ]
     },
     "execution_count": 8,
     "metadata": {},
     "output_type": "execute_result"
    }
   ],
   "source": [
    "df.isna().sum() # подсчёт пропусков"
   ]
  },
  {
   "cell_type": "markdown",
   "metadata": {
    "id": "qubhgnlO_Zct"
   },
   "source": [
    "Не все пропущенные значения влияют на исследование. Так в `track` и `artist` пропуски не важны для вашей работы. Достаточно заменить их явными обозначениями.\n",
    "\n",
    "Но пропуски в `genre` могут помешать сравнению музыкальных вкусов в Москве и Санкт-Петербурге. На практике было бы правильно установить причину пропусков и восстановить данные. Такой возможности нет в учебном проекте. Придётся:\n",
    "* заполнить и эти пропуски явными обозначениями,\n",
    "* оценить, насколько они повредят расчётам. "
   ]
  },
  {
   "cell_type": "markdown",
   "metadata": {
    "id": "fSv2laPA_Zct"
   },
   "source": [
    "Замените пропущенные значения в столбцах `track`, `artist` и `genre` на строку `'unknown'`. Для этого создайте список `columns_to_replace`, переберите его элементы циклом `for` и для каждого столбца выполните замену пропущенных значений:"
   ]
  },
  {
   "cell_type": "code",
   "execution_count": 9,
   "metadata": {
    "id": "KplB5qWs_Zct"
   },
   "outputs": [],
   "source": [
    "columns_to_replace = ['track', 'artist', 'genre'] # перебор названий столбцов в цикле и замена пропущенных значений на 'unknown'\n",
    "for i in range(len(columns_to_replace)):\n",
    "    df[columns_to_replace[i]] = df[columns_to_replace[i]].fillna('unknown')\n",
    "\n",
    "    "
   ]
  },
  {
   "cell_type": "markdown",
   "metadata": {
    "id": "Ilsm-MZo_Zct"
   },
   "source": [
    "Убедитесь, что в таблице не осталось пропусков. Для этого ещё раз посчитайте пропущенные значения."
   ]
  },
  {
   "cell_type": "code",
   "execution_count": 10,
   "metadata": {
    "id": "Tq4nYRX4_Zct"
   },
   "outputs": [
    {
     "data": {
      "text/plain": [
       "user_id    0\n",
       "track      0\n",
       "artist     0\n",
       "genre      0\n",
       "city       0\n",
       "time       0\n",
       "day        0\n",
       "dtype: int64"
      ]
     },
     "execution_count": 10,
     "metadata": {},
     "output_type": "execute_result"
    }
   ],
   "source": [
    "df.isna().sum() # подсчёт пропусков"
   ]
  },
  {
   "cell_type": "markdown",
   "metadata": {
    "id": "BWKRtBJ3_Zct"
   },
   "source": [
    "### Дубликаты\n",
    "Посчитайте явные дубликаты в таблице одной командой:"
   ]
  },
  {
   "cell_type": "code",
   "execution_count": 11,
   "metadata": {
    "id": "36eES_S0_Zct"
   },
   "outputs": [
    {
     "data": {
      "text/plain": [
       "3826"
      ]
     },
     "execution_count": 11,
     "metadata": {},
     "output_type": "execute_result"
    }
   ],
   "source": [
    "df.duplicated().sum() # подсчёт явных дубликатов"
   ]
  },
  {
   "cell_type": "markdown",
   "metadata": {
    "id": "Ot25h6XR_Zct"
   },
   "source": [
    "Вызовите специальный метод `pandas`, чтобы удалить явные дубликаты:"
   ]
  },
  {
   "cell_type": "code",
   "execution_count": 12,
   "metadata": {
    "id": "exFHq6tt_Zct"
   },
   "outputs": [],
   "source": [
    "df = df.drop_duplicates().reset_index(drop=True) \n",
    "# удаление явных дубликатов (с удалением старых индексов и формированием новых)"
   ]
  },
  {
   "cell_type": "markdown",
   "metadata": {
    "id": "Im2YwBEG_Zct"
   },
   "source": [
    "Ещё раз посчитайте явные дубликаты в таблице — убедитесь, что полностью от них избавились:"
   ]
  },
  {
   "cell_type": "code",
   "execution_count": 13,
   "metadata": {
    "id": "-8PuNWQ0_Zct"
   },
   "outputs": [
    {
     "data": {
      "text/plain": [
       "0"
      ]
     },
     "execution_count": 13,
     "metadata": {},
     "output_type": "execute_result"
    }
   ],
   "source": [
    "df.duplicated().sum() # проверка на отсутствие дубликатов"
   ]
  },
  {
   "cell_type": "markdown",
   "metadata": {
    "id": "QlFBsxAr_Zct"
   },
   "source": [
    "Теперь избавьтесь от неявных дубликатов в колонке `genre`. Например, название одного и того же жанра может быть записано немного по-разному. Такие ошибки тоже повлияют на результат исследования."
   ]
  },
  {
   "cell_type": "markdown",
   "metadata": {
    "id": "eSjWwsOh_Zct"
   },
   "source": [
    "Выведите на экран список уникальных названий жанров, отсортированный в алфавитном порядке. Для этого:\n",
    "* извлеките нужный столбец датафрейма, \n",
    "* примените к нему метод сортировки,\n",
    "* для отсортированного столбца вызовите метод, который вернёт уникальные значения из столбца."
   ]
  },
  {
   "cell_type": "code",
   "execution_count": 14,
   "metadata": {
    "id": "JIUcqzZN_Zct"
   },
   "outputs": [
    {
     "data": {
      "text/plain": [
       "array(['acid', 'acoustic', 'action', 'adult', 'africa', 'afrikaans',\n",
       "       'alternative', 'alternativepunk', 'ambient', 'americana',\n",
       "       'animated', 'anime', 'arabesk', 'arabic', 'arena',\n",
       "       'argentinetango', 'art', 'audiobook', 'author', 'avantgarde',\n",
       "       'axé', 'baile', 'balkan', 'beats', 'bigroom', 'black', 'bluegrass',\n",
       "       'blues', 'bollywood', 'bossa', 'brazilian', 'breakbeat', 'breaks',\n",
       "       'broadway', 'cantautori', 'cantopop', 'canzone', 'caribbean',\n",
       "       'caucasian', 'celtic', 'chamber', 'chanson', 'children', 'chill',\n",
       "       'chinese', 'choral', 'christian', 'christmas', 'classical',\n",
       "       'classicmetal', 'club', 'colombian', 'comedy', 'conjazz',\n",
       "       'contemporary', 'country', 'cuban', 'dance', 'dancehall',\n",
       "       'dancepop', 'dark', 'death', 'deep', 'deutschrock', 'deutschspr',\n",
       "       'dirty', 'disco', 'dnb', 'documentary', 'downbeat', 'downtempo',\n",
       "       'drum', 'dub', 'dubstep', 'eastern', 'easy', 'electronic',\n",
       "       'electropop', 'emo', 'entehno', 'epicmetal', 'estrada', 'ethnic',\n",
       "       'eurofolk', 'european', 'experimental', 'extrememetal', 'fado',\n",
       "       'fairytail', 'film', 'fitness', 'flamenco', 'folk', 'folklore',\n",
       "       'folkmetal', 'folkrock', 'folktronica', 'forró', 'frankreich',\n",
       "       'französisch', 'french', 'funk', 'future', 'gangsta', 'garage',\n",
       "       'german', 'ghazal', 'gitarre', 'glitch', 'gospel', 'gothic',\n",
       "       'grime', 'grunge', 'gypsy', 'handsup', \"hard'n'heavy\", 'hardcore',\n",
       "       'hardstyle', 'hardtechno', 'hip', 'hip-hop', 'hiphop',\n",
       "       'historisch', 'holiday', 'hop', 'horror', 'house', 'hymn', 'idm',\n",
       "       'independent', 'indian', 'indie', 'indipop', 'industrial',\n",
       "       'inspirational', 'instrumental', 'international', 'irish', 'jam',\n",
       "       'japanese', 'jazz', 'jewish', 'jpop', 'jungle', 'k-pop',\n",
       "       'karadeniz', 'karaoke', 'kayokyoku', 'korean', 'laiko', 'latin',\n",
       "       'latino', 'leftfield', 'local', 'lounge', 'loungeelectronic',\n",
       "       'lovers', 'malaysian', 'mandopop', 'marschmusik', 'meditative',\n",
       "       'mediterranean', 'melodic', 'metal', 'metalcore', 'mexican',\n",
       "       'middle', 'minimal', 'miscellaneous', 'modern', 'mood', 'mpb',\n",
       "       'muslim', 'native', 'neoklassik', 'neue', 'new', 'newage',\n",
       "       'newwave', 'nu', 'nujazz', 'numetal', 'oceania', 'old', 'opera',\n",
       "       'orchestral', 'other', 'piano', 'podcasts', 'pop', 'popdance',\n",
       "       'popelectronic', 'popeurodance', 'poprussian', 'post',\n",
       "       'posthardcore', 'postrock', 'power', 'progmetal', 'progressive',\n",
       "       'psychedelic', 'punjabi', 'punk', 'quebecois', 'ragga', 'ram',\n",
       "       'rancheras', 'rap', 'rave', 'reggae', 'reggaeton', 'regional',\n",
       "       'relax', 'religious', 'retro', 'rhythm', 'rnb', 'rnr', 'rock',\n",
       "       'rockabilly', 'rockalternative', 'rockindie', 'rockother',\n",
       "       'romance', 'roots', 'ruspop', 'rusrap', 'rusrock', 'russian',\n",
       "       'salsa', 'samba', 'scenic', 'schlager', 'self', 'sertanejo',\n",
       "       'shanson', 'shoegazing', 'showtunes', 'singer', 'ska', 'skarock',\n",
       "       'slow', 'smooth', 'soft', 'soul', 'soulful', 'sound', 'soundtrack',\n",
       "       'southern', 'specialty', 'speech', 'spiritual', 'sport',\n",
       "       'stonerrock', 'surf', 'swing', 'synthpop', 'synthrock',\n",
       "       'sängerportrait', 'tango', 'tanzorchester', 'taraftar', 'tatar',\n",
       "       'tech', 'techno', 'teen', 'thrash', 'top', 'traditional',\n",
       "       'tradjazz', 'trance', 'tribal', 'trip', 'triphop', 'tropical',\n",
       "       'türk', 'türkçe', 'ukrrock', 'unknown', 'urban', 'uzbek',\n",
       "       'variété', 'vi', 'videogame', 'vocal', 'western', 'world',\n",
       "       'worldbeat', 'ïîï', 'электроника'], dtype=object)"
      ]
     },
     "execution_count": 14,
     "metadata": {},
     "output_type": "execute_result"
    }
   ],
   "source": [
    "df['genre'].unique() # Просмотр уникальных названий жанров\n",
    "sorted_genre = df.sort_values(by='genre')\n",
    "sorted_genre['genre'].unique()"
   ]
  },
  {
   "cell_type": "markdown",
   "metadata": {
    "id": "qej-Qmuo_Zct"
   },
   "source": [
    "Просмотрите список и найдите неявные дубликаты названия `hiphop`. Это могут быть названия с ошибками или альтернативные названия того же жанра.\n",
    "\n",
    "Вы увидите следующие неявные дубликаты:\n",
    "* *hip*,\n",
    "* *hop*,\n",
    "* *hip-hop*.\n",
    "\n",
    "Чтобы очистить от них таблицу, напишите функцию `replace_wrong_genres()` с двумя параметрами: \n",
    "* `wrong_genres` — список дубликатов,\n",
    "* `correct_genre` — строка с правильным значением.\n",
    "\n",
    "Функция должна исправить колонку `genre` в таблице `df`: заменить каждое значение из списка `wrong_genres` на значение из `correct_genre`."
   ]
  },
  {
   "cell_type": "code",
   "execution_count": 15,
   "metadata": {
    "id": "ErNDkmns_Zct"
   },
   "outputs": [],
   "source": [
    "def replace_wrong_genres(wrong_genres, correct_genre): # Функция для замены неявных дубликатов\n",
    "    df['genre'] = df['genre'].replace(wrong_genres, correct_genre)"
   ]
  },
  {
   "cell_type": "markdown",
   "metadata": {
    "id": "aDoBJxbA_Zct"
   },
   "source": [
    "Вызовите `replace_wrong_genres()` и передайте ей такие аргументы, чтобы она устранила неявные дубликаты: вместо `hip`, `hop` и `hip-hop` в таблице должно быть значение `hiphop`:"
   ]
  },
  {
   "cell_type": "code",
   "execution_count": 16,
   "metadata": {
    "id": "YN5i2hpmSo09"
   },
   "outputs": [],
   "source": [
    "wrong_names_genres = ['hip', 'hop', 'hip-hop'] # Устранение неявных дубликатов\n",
    "true_name_genre = 'hiphop'\n",
    "replace_wrong_genres(wrong_names_genres, true_name_genre)"
   ]
  },
  {
   "cell_type": "markdown",
   "metadata": {
    "id": "zQKF16_RG15m"
   },
   "source": [
    "Проверьте, что заменили неправильные названия:\n",
    "\n",
    "*   hip\n",
    "*   hop\n",
    "*   hip-hop\n",
    "\n",
    "Выведите отсортированный список уникальных значений столбца `genre`:"
   ]
  },
  {
   "cell_type": "code",
   "execution_count": 17,
   "metadata": {
    "id": "wvixALnFG15m"
   },
   "outputs": [
    {
     "data": {
      "text/plain": [
       "array(['acid', 'acoustic', 'action', 'adult', 'africa', 'afrikaans',\n",
       "       'alternative', 'alternativepunk', 'ambient', 'americana',\n",
       "       'animated', 'anime', 'arabesk', 'arabic', 'arena',\n",
       "       'argentinetango', 'art', 'audiobook', 'author', 'avantgarde',\n",
       "       'axé', 'baile', 'balkan', 'beats', 'bigroom', 'black', 'bluegrass',\n",
       "       'blues', 'bollywood', 'bossa', 'brazilian', 'breakbeat', 'breaks',\n",
       "       'broadway', 'cantautori', 'cantopop', 'canzone', 'caribbean',\n",
       "       'caucasian', 'celtic', 'chamber', 'chanson', 'children', 'chill',\n",
       "       'chinese', 'choral', 'christian', 'christmas', 'classical',\n",
       "       'classicmetal', 'club', 'colombian', 'comedy', 'conjazz',\n",
       "       'contemporary', 'country', 'cuban', 'dance', 'dancehall',\n",
       "       'dancepop', 'dark', 'death', 'deep', 'deutschrock', 'deutschspr',\n",
       "       'dirty', 'disco', 'dnb', 'documentary', 'downbeat', 'downtempo',\n",
       "       'drum', 'dub', 'dubstep', 'eastern', 'easy', 'electronic',\n",
       "       'electropop', 'emo', 'entehno', 'epicmetal', 'estrada', 'ethnic',\n",
       "       'eurofolk', 'european', 'experimental', 'extrememetal', 'fado',\n",
       "       'fairytail', 'film', 'fitness', 'flamenco', 'folk', 'folklore',\n",
       "       'folkmetal', 'folkrock', 'folktronica', 'forró', 'frankreich',\n",
       "       'französisch', 'french', 'funk', 'future', 'gangsta', 'garage',\n",
       "       'german', 'ghazal', 'gitarre', 'glitch', 'gospel', 'gothic',\n",
       "       'grime', 'grunge', 'gypsy', 'handsup', \"hard'n'heavy\", 'hardcore',\n",
       "       'hardstyle', 'hardtechno', 'hiphop', 'historisch', 'holiday',\n",
       "       'horror', 'house', 'hymn', 'idm', 'independent', 'indian', 'indie',\n",
       "       'indipop', 'industrial', 'inspirational', 'instrumental',\n",
       "       'international', 'irish', 'jam', 'japanese', 'jazz', 'jewish',\n",
       "       'jpop', 'jungle', 'k-pop', 'karadeniz', 'karaoke', 'kayokyoku',\n",
       "       'korean', 'laiko', 'latin', 'latino', 'leftfield', 'local',\n",
       "       'lounge', 'loungeelectronic', 'lovers', 'malaysian', 'mandopop',\n",
       "       'marschmusik', 'meditative', 'mediterranean', 'melodic', 'metal',\n",
       "       'metalcore', 'mexican', 'middle', 'minimal', 'miscellaneous',\n",
       "       'modern', 'mood', 'mpb', 'muslim', 'native', 'neoklassik', 'neue',\n",
       "       'new', 'newage', 'newwave', 'nu', 'nujazz', 'numetal', 'oceania',\n",
       "       'old', 'opera', 'orchestral', 'other', 'piano', 'podcasts', 'pop',\n",
       "       'popdance', 'popelectronic', 'popeurodance', 'poprussian', 'post',\n",
       "       'posthardcore', 'postrock', 'power', 'progmetal', 'progressive',\n",
       "       'psychedelic', 'punjabi', 'punk', 'quebecois', 'ragga', 'ram',\n",
       "       'rancheras', 'rap', 'rave', 'reggae', 'reggaeton', 'regional',\n",
       "       'relax', 'religious', 'retro', 'rhythm', 'rnb', 'rnr', 'rock',\n",
       "       'rockabilly', 'rockalternative', 'rockindie', 'rockother',\n",
       "       'romance', 'roots', 'ruspop', 'rusrap', 'rusrock', 'russian',\n",
       "       'salsa', 'samba', 'scenic', 'schlager', 'self', 'sertanejo',\n",
       "       'shanson', 'shoegazing', 'showtunes', 'singer', 'ska', 'skarock',\n",
       "       'slow', 'smooth', 'soft', 'soul', 'soulful', 'sound', 'soundtrack',\n",
       "       'southern', 'specialty', 'speech', 'spiritual', 'sport',\n",
       "       'stonerrock', 'surf', 'swing', 'synthpop', 'synthrock',\n",
       "       'sängerportrait', 'tango', 'tanzorchester', 'taraftar', 'tatar',\n",
       "       'tech', 'techno', 'teen', 'thrash', 'top', 'traditional',\n",
       "       'tradjazz', 'trance', 'tribal', 'trip', 'triphop', 'tropical',\n",
       "       'türk', 'türkçe', 'ukrrock', 'unknown', 'urban', 'uzbek',\n",
       "       'variété', 'vi', 'videogame', 'vocal', 'western', 'world',\n",
       "       'worldbeat', 'ïîï', 'электроника'], dtype=object)"
      ]
     },
     "execution_count": 17,
     "metadata": {},
     "output_type": "execute_result"
    }
   ],
   "source": [
    "new_sorted = df.sort_values(by='genre')\n",
    "new_sorted['genre'].unique() # Проверка на неявные дубликаты"
   ]
  },
  {
   "cell_type": "markdown",
   "metadata": {
    "id": "jz6a9-7HQUDd"
   },
   "source": [
    "**Выводы**\n",
    "\n",
    "Предобработка обнаружила три проблемы в данных:\n",
    "\n",
    "- нарушения в стиле заголовков,\n",
    "- пропущенные значения,\n",
    "- дубликаты — явные и неявные.\n",
    "\n",
    "Вы исправили заголовки, чтобы упростить работу с таблицей. Без дубликатов исследование станет более точным.\n",
    "\n",
    "Пропущенные значения вы заменили на `'unknown'`. Ещё предстоит увидеть, не повредят ли исследованию пропуски в колонке `genre`.\n",
    "\n",
    "Теперь можно перейти к проверке гипотез. "
   ]
  },
  {
   "cell_type": "markdown",
   "metadata": {
    "id": "WttZHXH0SqKk"
   },
   "source": [
    "## Проверка гипотез"
   ]
  },
  {
   "cell_type": "markdown",
   "metadata": {
    "id": "Im936VVi_Zcu"
   },
   "source": [
    "### Сравнение поведения пользователей двух столиц"
   ]
  },
  {
   "cell_type": "markdown",
   "metadata": {
    "id": "nwt_MuaL_Zcu"
   },
   "source": [
    "Первая гипотеза утверждает, что пользователи по-разному слушают музыку в Москве и Санкт-Петербурге. Проверьте это предположение по данным о трёх днях недели — понедельнике, среде и пятнице. Для этого:\n",
    "\n",
    "* Разделите пользователей Москвы и Санкт-Петербурга\n",
    "* Сравните, сколько треков послушала каждая группа пользователей в понедельник, среду и пятницу.\n"
   ]
  },
  {
   "cell_type": "markdown",
   "metadata": {
    "id": "8Dw_YMmT_Zcu"
   },
   "source": [
    "Для тренировки сначала выполните каждый из расчётов по отдельности. \n",
    "\n",
    "Оцените активность пользователей в каждом городе. Сгруппируйте данные по городу и посчитайте прослушивания в каждой группе.\n",
    "\n"
   ]
  },
  {
   "cell_type": "code",
   "execution_count": 18,
   "metadata": {
    "id": "0_Qs96oh_Zcu"
   },
   "outputs": [
    {
     "data": {
      "text/html": [
       "<div>\n",
       "<style scoped>\n",
       "    .dataframe tbody tr th:only-of-type {\n",
       "        vertical-align: middle;\n",
       "    }\n",
       "\n",
       "    .dataframe tbody tr th {\n",
       "        vertical-align: top;\n",
       "    }\n",
       "\n",
       "    .dataframe thead th {\n",
       "        text-align: right;\n",
       "    }\n",
       "</style>\n",
       "<table border=\"1\" class=\"dataframe\">\n",
       "  <thead>\n",
       "    <tr style=\"text-align: right;\">\n",
       "      <th></th>\n",
       "      <th>time</th>\n",
       "    </tr>\n",
       "    <tr>\n",
       "      <th>city</th>\n",
       "      <th></th>\n",
       "    </tr>\n",
       "  </thead>\n",
       "  <tbody>\n",
       "    <tr>\n",
       "      <th>Moscow</th>\n",
       "      <td>42741</td>\n",
       "    </tr>\n",
       "    <tr>\n",
       "      <th>Saint-Petersburg</th>\n",
       "      <td>18512</td>\n",
       "    </tr>\n",
       "  </tbody>\n",
       "</table>\n",
       "</div>"
      ],
      "text/plain": [
       "                   time\n",
       "city                   \n",
       "Moscow            42741\n",
       "Saint-Petersburg  18512"
      ]
     },
     "execution_count": 18,
     "metadata": {},
     "output_type": "execute_result"
    }
   ],
   "source": [
    "df.head(10) # Подсчёт прослушиваний в каждом городе\n",
    "df.groupby('city')['time'].count().to_frame()\n"
   ]
  },
  {
   "cell_type": "markdown",
   "metadata": {
    "id": "dzli3w8o_Zcu"
   },
   "source": [
    "В Москве прослушиваний больше, чем в Петербурге. Из этого не следует, что московские пользователи чаще слушают музыку. Просто самих пользователей в Москве больше.\n",
    "\n",
    "Теперь сгруппируйте данные по дню недели и подсчитайте прослушивания в понедельник, среду и пятницу. Учтите, что в данных есть информация о прослушиваниях только за эти дни.\n"
   ]
  },
  {
   "cell_type": "code",
   "execution_count": 19,
   "metadata": {
    "id": "uZMKjiJz_Zcu"
   },
   "outputs": [
    {
     "data": {
      "text/plain": [
       "day\n",
       "Friday       21840\n",
       "Monday       21354\n",
       "Wednesday    18059\n",
       "Name: time, dtype: int64"
      ]
     },
     "execution_count": 19,
     "metadata": {},
     "output_type": "execute_result"
    }
   ],
   "source": [
    "df.head(10) # Подсчёт прослушиваний в каждый из трёх дней\n",
    "df.groupby('day')['time'].count()"
   ]
  },
  {
   "cell_type": "markdown",
   "metadata": {
    "id": "cC2tNrlL_Zcu"
   },
   "source": [
    "В среднем пользователи из двух городов менее активны по средам. Но картина может измениться, если рассмотреть каждый город в отдельности."
   ]
  },
  {
   "cell_type": "markdown",
   "metadata": {
    "id": "POzs8bGa_Zcu"
   },
   "source": [
    "Вы видели, как работает группировка по городу и по дням недели. Теперь напишите функцию, которая объединит два эти расчёта.\n",
    "\n",
    "Создайте функцию `number_tracks()`, которая посчитает прослушивания для заданного дня и города. Ей понадобятся два параметра:\n",
    "* день недели,\n",
    "* название города.\n",
    "\n",
    "В функции сохраните в переменную строки исходной таблицы, у которых значение:\n",
    "  * в колонке `day` равно параметру `day`,\n",
    "  * в колонке `city` равно параметру `city`.\n",
    "\n",
    "Для этого примените последовательную фильтрацию с логической индексацией.\n",
    "\n",
    "Затем посчитайте значения в столбце `user_id` получившейся таблицы. Результат сохраните в новую переменную. Верните эту переменную из функции."
   ]
  },
  {
   "cell_type": "code",
   "execution_count": 20,
   "metadata": {
    "id": "Nz3GdQB1_Zcu"
   },
   "outputs": [],
   "source": [
    "def number_tracks(day, city): # <создание функции number_tracks()>\n",
    "    track_list = df[(df['day']==day)&(df['city']==city)]\n",
    "    track_list_count = track_list['user_id'].count()\n",
    "    return track_list_count\n",
    "\n",
    "\n",
    "# Объявляется функция с двумя параметрами: day, city.\n",
    "# В переменной track_list сохраняются те строки таблицы df, для которых \n",
    "# значение в столбце 'day' равно параметру day и одновременно значение\n",
    "# в столбце 'city' равно параметру city (используйте последовательную фильтрацию\n",
    "# с помощью логической индексации).\n",
    "# В переменной track_list_count сохраняется число значений столбца 'user_id',\n",
    "# рассчитанное методом count() для таблицы track_list.\n",
    "# Функция возвращает число - значение track_list_count.\n",
    "\n",
    "# Функция для подсчёта прослушиваний для конкретного города и дня.\n",
    "# С помощью последовательной фильтрации с логической индексацией она \n",
    "# сначала получит из исходной таблицы строки с нужным днём,\n",
    "# затем из результата отфильтрует строки с нужным городом,\n",
    "# методом count() посчитает количество значений в колонке user_id. \n",
    "# Это количество функция вернёт в качестве результата"
   ]
  },
  {
   "cell_type": "markdown",
   "metadata": {
    "id": "ytf7xFrFJQ2r"
   },
   "source": [
    "Вызовите `number_tracks()` шесть раз, меняя значение параметров — так, чтобы получить данные для каждого города в каждый из трёх дней."
   ]
  },
  {
   "cell_type": "code",
   "execution_count": 21,
   "metadata": {},
   "outputs": [
    {
     "data": {
      "text/html": [
       "<div>\n",
       "<style scoped>\n",
       "    .dataframe tbody tr th:only-of-type {\n",
       "        vertical-align: middle;\n",
       "    }\n",
       "\n",
       "    .dataframe tbody tr th {\n",
       "        vertical-align: top;\n",
       "    }\n",
       "\n",
       "    .dataframe thead th {\n",
       "        text-align: right;\n",
       "    }\n",
       "</style>\n",
       "<table border=\"1\" class=\"dataframe\">\n",
       "  <thead>\n",
       "    <tr style=\"text-align: right;\">\n",
       "      <th></th>\n",
       "      <th>user_id</th>\n",
       "      <th>track</th>\n",
       "      <th>artist</th>\n",
       "      <th>genre</th>\n",
       "      <th>city</th>\n",
       "      <th>time</th>\n",
       "      <th>day</th>\n",
       "    </tr>\n",
       "  </thead>\n",
       "  <tbody>\n",
       "    <tr>\n",
       "      <th>0</th>\n",
       "      <td>FFB692EC</td>\n",
       "      <td>Kamigata To Boots</td>\n",
       "      <td>The Mass Missile</td>\n",
       "      <td>rock</td>\n",
       "      <td>Saint-Petersburg</td>\n",
       "      <td>20:28:33</td>\n",
       "      <td>Wednesday</td>\n",
       "    </tr>\n",
       "    <tr>\n",
       "      <th>1</th>\n",
       "      <td>55204538</td>\n",
       "      <td>Delayed Because of Accident</td>\n",
       "      <td>Andreas Rönnberg</td>\n",
       "      <td>rock</td>\n",
       "      <td>Moscow</td>\n",
       "      <td>14:07:09</td>\n",
       "      <td>Friday</td>\n",
       "    </tr>\n",
       "    <tr>\n",
       "      <th>2</th>\n",
       "      <td>20EC38</td>\n",
       "      <td>Funiculì funiculà</td>\n",
       "      <td>Mario Lanza</td>\n",
       "      <td>pop</td>\n",
       "      <td>Saint-Petersburg</td>\n",
       "      <td>20:58:07</td>\n",
       "      <td>Wednesday</td>\n",
       "    </tr>\n",
       "    <tr>\n",
       "      <th>3</th>\n",
       "      <td>A3DD03C9</td>\n",
       "      <td>Dragons in the Sunset</td>\n",
       "      <td>Fire + Ice</td>\n",
       "      <td>folk</td>\n",
       "      <td>Saint-Petersburg</td>\n",
       "      <td>08:37:09</td>\n",
       "      <td>Monday</td>\n",
       "    </tr>\n",
       "    <tr>\n",
       "      <th>4</th>\n",
       "      <td>E2DC1FAE</td>\n",
       "      <td>Soul People</td>\n",
       "      <td>Space Echo</td>\n",
       "      <td>dance</td>\n",
       "      <td>Moscow</td>\n",
       "      <td>08:34:34</td>\n",
       "      <td>Monday</td>\n",
       "    </tr>\n",
       "    <tr>\n",
       "      <th>5</th>\n",
       "      <td>842029A1</td>\n",
       "      <td>Преданная</td>\n",
       "      <td>IMPERVTOR</td>\n",
       "      <td>rusrap</td>\n",
       "      <td>Saint-Petersburg</td>\n",
       "      <td>13:09:41</td>\n",
       "      <td>Friday</td>\n",
       "    </tr>\n",
       "    <tr>\n",
       "      <th>6</th>\n",
       "      <td>4CB90AA5</td>\n",
       "      <td>True</td>\n",
       "      <td>Roman Messer</td>\n",
       "      <td>dance</td>\n",
       "      <td>Moscow</td>\n",
       "      <td>13:00:07</td>\n",
       "      <td>Wednesday</td>\n",
       "    </tr>\n",
       "    <tr>\n",
       "      <th>7</th>\n",
       "      <td>F03E1C1F</td>\n",
       "      <td>Feeling This Way</td>\n",
       "      <td>Polina Griffith</td>\n",
       "      <td>dance</td>\n",
       "      <td>Moscow</td>\n",
       "      <td>20:47:49</td>\n",
       "      <td>Wednesday</td>\n",
       "    </tr>\n",
       "    <tr>\n",
       "      <th>8</th>\n",
       "      <td>8FA1D3BE</td>\n",
       "      <td>И вновь продолжается бой</td>\n",
       "      <td>unknown</td>\n",
       "      <td>ruspop</td>\n",
       "      <td>Moscow</td>\n",
       "      <td>09:17:40</td>\n",
       "      <td>Friday</td>\n",
       "    </tr>\n",
       "    <tr>\n",
       "      <th>9</th>\n",
       "      <td>E772D5C0</td>\n",
       "      <td>Pessimist</td>\n",
       "      <td>unknown</td>\n",
       "      <td>dance</td>\n",
       "      <td>Saint-Petersburg</td>\n",
       "      <td>21:20:49</td>\n",
       "      <td>Wednesday</td>\n",
       "    </tr>\n",
       "  </tbody>\n",
       "</table>\n",
       "</div>"
      ],
      "text/plain": [
       "    user_id                        track            artist   genre  \\\n",
       "0  FFB692EC            Kamigata To Boots  The Mass Missile    rock   \n",
       "1  55204538  Delayed Because of Accident  Andreas Rönnberg    rock   \n",
       "2    20EC38            Funiculì funiculà       Mario Lanza     pop   \n",
       "3  A3DD03C9        Dragons in the Sunset        Fire + Ice    folk   \n",
       "4  E2DC1FAE                  Soul People        Space Echo   dance   \n",
       "5  842029A1                    Преданная         IMPERVTOR  rusrap   \n",
       "6  4CB90AA5                         True      Roman Messer   dance   \n",
       "7  F03E1C1F             Feeling This Way   Polina Griffith   dance   \n",
       "8  8FA1D3BE     И вновь продолжается бой           unknown  ruspop   \n",
       "9  E772D5C0                    Pessimist           unknown   dance   \n",
       "\n",
       "               city      time        day  \n",
       "0  Saint-Petersburg  20:28:33  Wednesday  \n",
       "1            Moscow  14:07:09     Friday  \n",
       "2  Saint-Petersburg  20:58:07  Wednesday  \n",
       "3  Saint-Petersburg  08:37:09     Monday  \n",
       "4            Moscow  08:34:34     Monday  \n",
       "5  Saint-Petersburg  13:09:41     Friday  \n",
       "6            Moscow  13:00:07  Wednesday  \n",
       "7            Moscow  20:47:49  Wednesday  \n",
       "8            Moscow  09:17:40     Friday  \n",
       "9  Saint-Petersburg  21:20:49  Wednesday  "
      ]
     },
     "execution_count": 21,
     "metadata": {},
     "output_type": "execute_result"
    }
   ],
   "source": [
    "df.head(10)"
   ]
  },
  {
   "cell_type": "code",
   "execution_count": 22,
   "metadata": {
    "id": "rJcRATNQ_Zcu"
   },
   "outputs": [
    {
     "data": {
      "text/plain": [
       "15740"
      ]
     },
     "execution_count": 22,
     "metadata": {},
     "output_type": "execute_result"
    }
   ],
   "source": [
    "number_tracks('Monday', 'Moscow') # количество прослушиваний в Москве по понедельникам"
   ]
  },
  {
   "cell_type": "code",
   "execution_count": 23,
   "metadata": {
    "id": "hq_ncZ5T_Zcu"
   },
   "outputs": [
    {
     "data": {
      "text/plain": [
       "5614"
      ]
     },
     "execution_count": 23,
     "metadata": {},
     "output_type": "execute_result"
    }
   ],
   "source": [
    "number_tracks('Monday', 'Saint-Petersburg') # количество прослушиваний в Санкт-Петербурге по понедельникам"
   ]
  },
  {
   "cell_type": "code",
   "execution_count": 24,
   "metadata": {
    "id": "_NTy2VPU_Zcu"
   },
   "outputs": [
    {
     "data": {
      "text/plain": [
       "11056"
      ]
     },
     "execution_count": 24,
     "metadata": {},
     "output_type": "execute_result"
    }
   ],
   "source": [
    "number_tracks('Wednesday', 'Moscow') # количество прослушиваний в Москве по средам"
   ]
  },
  {
   "cell_type": "code",
   "execution_count": 25,
   "metadata": {
    "id": "j2y3TAwo_Zcu"
   },
   "outputs": [
    {
     "data": {
      "text/plain": [
       "7003"
      ]
     },
     "execution_count": 25,
     "metadata": {},
     "output_type": "execute_result"
    }
   ],
   "source": [
    "number_tracks('Wednesday', 'Saint-Petersburg') # количество прослушиваний в Санкт-Петербурге по средам"
   ]
  },
  {
   "cell_type": "code",
   "execution_count": 26,
   "metadata": {
    "id": "vYDw5u_K_Zcu"
   },
   "outputs": [
    {
     "data": {
      "text/plain": [
       "15945"
      ]
     },
     "execution_count": 26,
     "metadata": {},
     "output_type": "execute_result"
    }
   ],
   "source": [
    "number_tracks('Friday', 'Moscow') # количество прослушиваний в Москве по пятницам"
   ]
  },
  {
   "cell_type": "code",
   "execution_count": 27,
   "metadata": {
    "id": "8_yzFtW3_Zcu"
   },
   "outputs": [
    {
     "data": {
      "text/plain": [
       "5895"
      ]
     },
     "execution_count": 27,
     "metadata": {},
     "output_type": "execute_result"
    }
   ],
   "source": [
    "number_tracks('Friday', 'Saint-Petersburg') # количество прослушиваний в Санкт-Петербурге по пятницам"
   ]
  },
  {
   "cell_type": "markdown",
   "metadata": {
    "id": "7QXffbO-_Zcu"
   },
   "source": [
    "Создайте c помощью конструктора `pd.DataFrame` таблицу, где\n",
    "* названия колонок — `['city', 'monday', 'wednesday', 'friday']`;\n",
    "* данные — результаты, которые вы получили с помощью `number_tracks`."
   ]
  },
  {
   "cell_type": "code",
   "execution_count": 28,
   "metadata": {
    "id": "APAcLpOr_Zcu"
   },
   "outputs": [
    {
     "data": {
      "text/html": [
       "<div>\n",
       "<style scoped>\n",
       "    .dataframe tbody tr th:only-of-type {\n",
       "        vertical-align: middle;\n",
       "    }\n",
       "\n",
       "    .dataframe tbody tr th {\n",
       "        vertical-align: top;\n",
       "    }\n",
       "\n",
       "    .dataframe thead th {\n",
       "        text-align: right;\n",
       "    }\n",
       "</style>\n",
       "<table border=\"1\" class=\"dataframe\">\n",
       "  <thead>\n",
       "    <tr style=\"text-align: right;\">\n",
       "      <th></th>\n",
       "      <th>city</th>\n",
       "      <th>monday</th>\n",
       "      <th>wednesday</th>\n",
       "      <th>friday</th>\n",
       "    </tr>\n",
       "  </thead>\n",
       "  <tbody>\n",
       "    <tr>\n",
       "      <th>0</th>\n",
       "      <td>Moscow</td>\n",
       "      <td>15740</td>\n",
       "      <td>11056</td>\n",
       "      <td>15945</td>\n",
       "    </tr>\n",
       "    <tr>\n",
       "      <th>1</th>\n",
       "      <td>Saint-Petersburg</td>\n",
       "      <td>5614</td>\n",
       "      <td>7003</td>\n",
       "      <td>5895</td>\n",
       "    </tr>\n",
       "  </tbody>\n",
       "</table>\n",
       "</div>"
      ],
      "text/plain": [
       "               city  monday  wednesday  friday\n",
       "0            Moscow   15740      11056   15945\n",
       "1  Saint-Petersburg    5614       7003    5895"
      ]
     },
     "metadata": {},
     "output_type": "display_data"
    }
   ],
   "source": [
    "columns = ['city', 'monday', 'wednesday', 'friday'] # Таблица с результатами\n",
    "data = [['Moscow', 15740, 11056, 15945],['Saint-Petersburg', 5614, 7003, 5895]]\n",
    "new_table = pd.DataFrame(data=data, columns=columns)\n",
    "display(new_table)\n",
    "        "
   ]
  },
  {
   "cell_type": "markdown",
   "metadata": {
    "id": "-EgPIHYu_Zcu"
   },
   "source": [
    "**Выводы**\n",
    "\n",
    "Данные показывают разницу поведения пользователей:\n",
    "\n",
    "- В Москве пик прослушиваний приходится на понедельник и пятницу, а в среду заметен спад.\n",
    "- В Петербурге, наоборот, больше слушают музыку по средам. Активность в понедельник и пятницу здесь почти в равной мере уступает среде.\n",
    "\n",
    "Значит, данные говорят в пользу первой гипотезы."
   ]
  },
  {
   "cell_type": "markdown",
   "metadata": {
    "id": "atZAxtq4_Zcu"
   },
   "source": [
    "### Музыка в начале и в конце недели"
   ]
  },
  {
   "cell_type": "markdown",
   "metadata": {
    "id": "eXrQqXFH_Zcu"
   },
   "source": [
    "Согласно второй гипотезе, утром в понедельник в Москве преобладают одни жанры, а в Петербурге — другие. Так же и вечером пятницы преобладают разные жанры — в зависимости от города."
   ]
  },
  {
   "cell_type": "markdown",
   "metadata": {
    "id": "S8UcW6Hw_Zcu"
   },
   "source": [
    "Сохраните таблицы с данными в две переменные:\n",
    "* по Москве — в `moscow_general`;\n",
    "* по Санкт-Петербургу — в `spb_general`."
   ]
  },
  {
   "cell_type": "code",
   "execution_count": 29,
   "metadata": {
    "id": "qeaFfM_P_Zcu"
   },
   "outputs": [],
   "source": [
    "moscow_general = df[df['city']=='Moscow'] # получение таблицы moscow_general из тех строк таблицы df, \n",
    "# для которых значение в столбце 'city' равно 'Moscow'\n"
   ]
  },
  {
   "cell_type": "code",
   "execution_count": 30,
   "metadata": {
    "id": "ORaVRKto_Zcu"
   },
   "outputs": [],
   "source": [
    "spb_general = df[df['city']=='Saint-Petersburg']  # получение таблицы spb_general из тех строк таблицы df,\n",
    "# для которых значение в столбце 'city' равно 'Saint-Petersburg'\n"
   ]
  },
  {
   "cell_type": "markdown",
   "metadata": {
    "id": "MEJV-CX2_Zcu"
   },
   "source": [
    "Создайте функцию `genre_weekday()` с четырьмя параметрами:\n",
    "* таблица (датафрейм) с данными,\n",
    "* день недели,\n",
    "* начальная временная метка в формате 'hh:mm', \n",
    "* последняя временная метка в формате 'hh:mm'.\n",
    "\n",
    "Функция должна вернуть информацию о топ-10 жанров тех треков, которые прослушивали в указанный день, в промежутке между двумя отметками времени."
   ]
  },
  {
   "cell_type": "code",
   "execution_count": 31,
   "metadata": {},
   "outputs": [
    {
     "data": {
      "text/html": [
       "<div>\n",
       "<style scoped>\n",
       "    .dataframe tbody tr th:only-of-type {\n",
       "        vertical-align: middle;\n",
       "    }\n",
       "\n",
       "    .dataframe tbody tr th {\n",
       "        vertical-align: top;\n",
       "    }\n",
       "\n",
       "    .dataframe thead th {\n",
       "        text-align: right;\n",
       "    }\n",
       "</style>\n",
       "<table border=\"1\" class=\"dataframe\">\n",
       "  <thead>\n",
       "    <tr style=\"text-align: right;\">\n",
       "      <th></th>\n",
       "      <th>user_id</th>\n",
       "      <th>track</th>\n",
       "      <th>artist</th>\n",
       "      <th>genre</th>\n",
       "      <th>city</th>\n",
       "      <th>time</th>\n",
       "      <th>day</th>\n",
       "    </tr>\n",
       "  </thead>\n",
       "  <tbody>\n",
       "    <tr>\n",
       "      <th>0</th>\n",
       "      <td>FFB692EC</td>\n",
       "      <td>Kamigata To Boots</td>\n",
       "      <td>The Mass Missile</td>\n",
       "      <td>rock</td>\n",
       "      <td>Saint-Petersburg</td>\n",
       "      <td>20:28:33</td>\n",
       "      <td>Wednesday</td>\n",
       "    </tr>\n",
       "    <tr>\n",
       "      <th>1</th>\n",
       "      <td>55204538</td>\n",
       "      <td>Delayed Because of Accident</td>\n",
       "      <td>Andreas Rönnberg</td>\n",
       "      <td>rock</td>\n",
       "      <td>Moscow</td>\n",
       "      <td>14:07:09</td>\n",
       "      <td>Friday</td>\n",
       "    </tr>\n",
       "    <tr>\n",
       "      <th>2</th>\n",
       "      <td>20EC38</td>\n",
       "      <td>Funiculì funiculà</td>\n",
       "      <td>Mario Lanza</td>\n",
       "      <td>pop</td>\n",
       "      <td>Saint-Petersburg</td>\n",
       "      <td>20:58:07</td>\n",
       "      <td>Wednesday</td>\n",
       "    </tr>\n",
       "    <tr>\n",
       "      <th>3</th>\n",
       "      <td>A3DD03C9</td>\n",
       "      <td>Dragons in the Sunset</td>\n",
       "      <td>Fire + Ice</td>\n",
       "      <td>folk</td>\n",
       "      <td>Saint-Petersburg</td>\n",
       "      <td>08:37:09</td>\n",
       "      <td>Monday</td>\n",
       "    </tr>\n",
       "    <tr>\n",
       "      <th>4</th>\n",
       "      <td>E2DC1FAE</td>\n",
       "      <td>Soul People</td>\n",
       "      <td>Space Echo</td>\n",
       "      <td>dance</td>\n",
       "      <td>Moscow</td>\n",
       "      <td>08:34:34</td>\n",
       "      <td>Monday</td>\n",
       "    </tr>\n",
       "    <tr>\n",
       "      <th>5</th>\n",
       "      <td>842029A1</td>\n",
       "      <td>Преданная</td>\n",
       "      <td>IMPERVTOR</td>\n",
       "      <td>rusrap</td>\n",
       "      <td>Saint-Petersburg</td>\n",
       "      <td>13:09:41</td>\n",
       "      <td>Friday</td>\n",
       "    </tr>\n",
       "    <tr>\n",
       "      <th>6</th>\n",
       "      <td>4CB90AA5</td>\n",
       "      <td>True</td>\n",
       "      <td>Roman Messer</td>\n",
       "      <td>dance</td>\n",
       "      <td>Moscow</td>\n",
       "      <td>13:00:07</td>\n",
       "      <td>Wednesday</td>\n",
       "    </tr>\n",
       "    <tr>\n",
       "      <th>7</th>\n",
       "      <td>F03E1C1F</td>\n",
       "      <td>Feeling This Way</td>\n",
       "      <td>Polina Griffith</td>\n",
       "      <td>dance</td>\n",
       "      <td>Moscow</td>\n",
       "      <td>20:47:49</td>\n",
       "      <td>Wednesday</td>\n",
       "    </tr>\n",
       "    <tr>\n",
       "      <th>8</th>\n",
       "      <td>8FA1D3BE</td>\n",
       "      <td>И вновь продолжается бой</td>\n",
       "      <td>unknown</td>\n",
       "      <td>ruspop</td>\n",
       "      <td>Moscow</td>\n",
       "      <td>09:17:40</td>\n",
       "      <td>Friday</td>\n",
       "    </tr>\n",
       "    <tr>\n",
       "      <th>9</th>\n",
       "      <td>E772D5C0</td>\n",
       "      <td>Pessimist</td>\n",
       "      <td>unknown</td>\n",
       "      <td>dance</td>\n",
       "      <td>Saint-Petersburg</td>\n",
       "      <td>21:20:49</td>\n",
       "      <td>Wednesday</td>\n",
       "    </tr>\n",
       "  </tbody>\n",
       "</table>\n",
       "</div>"
      ],
      "text/plain": [
       "    user_id                        track            artist   genre  \\\n",
       "0  FFB692EC            Kamigata To Boots  The Mass Missile    rock   \n",
       "1  55204538  Delayed Because of Accident  Andreas Rönnberg    rock   \n",
       "2    20EC38            Funiculì funiculà       Mario Lanza     pop   \n",
       "3  A3DD03C9        Dragons in the Sunset        Fire + Ice    folk   \n",
       "4  E2DC1FAE                  Soul People        Space Echo   dance   \n",
       "5  842029A1                    Преданная         IMPERVTOR  rusrap   \n",
       "6  4CB90AA5                         True      Roman Messer   dance   \n",
       "7  F03E1C1F             Feeling This Way   Polina Griffith   dance   \n",
       "8  8FA1D3BE     И вновь продолжается бой           unknown  ruspop   \n",
       "9  E772D5C0                    Pessimist           unknown   dance   \n",
       "\n",
       "               city      time        day  \n",
       "0  Saint-Petersburg  20:28:33  Wednesday  \n",
       "1            Moscow  14:07:09     Friday  \n",
       "2  Saint-Petersburg  20:58:07  Wednesday  \n",
       "3  Saint-Petersburg  08:37:09     Monday  \n",
       "4            Moscow  08:34:34     Monday  \n",
       "5  Saint-Petersburg  13:09:41     Friday  \n",
       "6            Moscow  13:00:07  Wednesday  \n",
       "7            Moscow  20:47:49  Wednesday  \n",
       "8            Moscow  09:17:40     Friday  \n",
       "9  Saint-Petersburg  21:20:49  Wednesday  "
      ]
     },
     "execution_count": 31,
     "metadata": {},
     "output_type": "execute_result"
    }
   ],
   "source": [
    "df.head(10)"
   ]
  },
  {
   "cell_type": "code",
   "execution_count": 32,
   "metadata": {
    "id": "laJT9BYl_Zcu"
   },
   "outputs": [],
   "source": [
    "def genre_weekday(table, day, time1, time2):           \n",
    "    genre_df = table[(table['day']==day) & (table['time']>time1) & (table['time']<time2)]\n",
    "    genre_df_count = genre_df.groupby('genre')['genre'].count()\n",
    "    genre_df_sorted = genre_df_count.sort_values(ascending=False)\n",
    "    return genre_df_sorted.head(10)\n",
    "\n",
    "# Объявление функции genre_weekday() с параметрами table, day, time1, time2,\n",
    "        \n",
    "# которая возвращает информацию о самых популярных жанрах в указанный день в\n",
    "# заданное время:\n",
    "# 1) в переменную genre_df сохраняются те строки переданного датафрейма table, для\n",
    "#    которых одновременно:\n",
    "#    - значение в столбце day равно значению аргумента day\n",
    "#    - значение в столбце time больше значения аргумента time1\n",
    "#    - значение в столбце time меньше значения аргумента time2\n",
    "#    Используйте последовательную фильтрацию с помощью логической индексации.\n",
    "# 2) сгруппировать датафрейм genre_df по столбцу genre, взять один из его\n",
    "#    столбцов и посчитать методом count() количество записей для каждого из\n",
    "#    присутствующих жанров, получившийся Series записать в переменную\n",
    "#    genre_df_count\n",
    "# 3) отсортировать genre_df_count по убыванию встречаемости и сохранить\n",
    "#    в переменную genre_df_sorted\n",
    "# 4) вернуть Series из 10 первых значений genre_df_sorted, это будут топ-10\n",
    "#    популярных жанров (в указанный день, в заданное время)"
   ]
  },
  {
   "cell_type": "markdown",
   "metadata": {
    "id": "la2s2_PF_Zcu"
   },
   "source": [
    "Cравните результаты функции `genre_weekday()` для Москвы и Санкт-Петербурга в понедельник утром (с 7:00 до 11:00) и в пятницу вечером (с 17:00 до 23:00):"
   ]
  },
  {
   "cell_type": "code",
   "execution_count": 33,
   "metadata": {
    "id": "yz7itPUQ_Zcu"
   },
   "outputs": [
    {
     "data": {
      "text/plain": [
       "genre\n",
       "pop            781\n",
       "dance          549\n",
       "electronic     480\n",
       "rock           474\n",
       "hiphop         286\n",
       "ruspop         186\n",
       "world          181\n",
       "rusrap         175\n",
       "alternative    164\n",
       "unknown        161\n",
       "Name: genre, dtype: int64"
      ]
     },
     "execution_count": 33,
     "metadata": {},
     "output_type": "execute_result"
    }
   ],
   "source": [
    "genre_weekday(moscow_general, 'Monday', '07:00', '11:00')\n",
    "# вызов функции для утра понедельника в Москве (вместо df — таблица moscow_general)\n",
    "# объекты, хранящие время, являются строками и сравниваются как строки\n",
    "# пример вызова: genre_weekday(moscow_general, 'Monday', '07:00', '11:00')"
   ]
  },
  {
   "cell_type": "code",
   "execution_count": 34,
   "metadata": {
    "id": "kwUcHPdy_Zcu"
   },
   "outputs": [
    {
     "data": {
      "text/plain": [
       "genre\n",
       "pop            218\n",
       "dance          182\n",
       "rock           162\n",
       "electronic     147\n",
       "hiphop          80\n",
       "ruspop          64\n",
       "alternative     58\n",
       "rusrap          55\n",
       "jazz            44\n",
       "classical       40\n",
       "Name: genre, dtype: int64"
      ]
     },
     "execution_count": 34,
     "metadata": {},
     "output_type": "execute_result"
    }
   ],
   "source": [
    "genre_weekday(spb_general, 'Monday', '07:00', '11:00')\n",
    "              # вызов функции для утра понедельника в Петербурге (вместо df — таблица spb_general)"
   ]
  },
  {
   "cell_type": "code",
   "execution_count": 35,
   "metadata": {
    "id": "EzXVRE1o_Zcu"
   },
   "outputs": [
    {
     "data": {
      "text/plain": [
       "genre\n",
       "pop            1377\n",
       "dance          1017\n",
       "rock            988\n",
       "electronic      924\n",
       "hiphop          537\n",
       "classical       402\n",
       "world           363\n",
       "alternative     352\n",
       "ruspop          331\n",
       "rusrap          293\n",
       "Name: genre, dtype: int64"
      ]
     },
     "execution_count": 35,
     "metadata": {},
     "output_type": "execute_result"
    }
   ],
   "source": [
    "genre_weekday(moscow_general, 'Friday', '11:00', '23:00') \n",
    "# вызов функции для вечера пятницы в Москве"
   ]
  },
  {
   "cell_type": "code",
   "execution_count": 36,
   "metadata": {
    "id": "JZaEKu5v_Zcu"
   },
   "outputs": [
    {
     "data": {
      "text/plain": [
       "genre\n",
       "pop            256\n",
       "electronic     216\n",
       "rock           216\n",
       "dance          210\n",
       "hiphop          97\n",
       "alternative     63\n",
       "jazz            61\n",
       "classical       60\n",
       "rusrap          59\n",
       "world           54\n",
       "Name: genre, dtype: int64"
      ]
     },
     "execution_count": 36,
     "metadata": {},
     "output_type": "execute_result"
    }
   ],
   "source": [
    "genre_weekday(spb_general, 'Friday', '17:00', '23:00')\n",
    "# вызов функции для вечера пятницы в Петербурге"
   ]
  },
  {
   "cell_type": "markdown",
   "metadata": {
    "id": "wrCe4MNX_Zcu"
   },
   "source": [
    "**Выводы**\n",
    "\n",
    "Если сравнить топ-10 жанров в понедельник утром, можно сделать такие выводы:\n",
    "\n",
    "1. В Москве и Петербурге слушают похожую музыку. Единственное отличие — в московский рейтинг вошёл жанр “world”, а в петербургский — джаз и классика.\n",
    "\n",
    "2. В Москве пропущенных значений оказалось так много, что значение `'unknown'` заняло десятое место среди самых популярных жанров. Значит, пропущенные значения занимают существенную долю в данных и угрожают достоверности исследования.\n",
    "\n",
    "Вечер пятницы не меняет эту картину. Некоторые жанры поднимаются немного выше, другие спускаются, но в целом топ-10 остаётся тем же самым.\n",
    "\n",
    "Таким образом, вторая гипотеза подтвердилась лишь частично:\n",
    "* Пользователи слушают похожую музыку в начале недели и в конце.\n",
    "* Разница между Москвой и Петербургом не слишком выражена. В Москве чаще слушают русскую популярную музыку, в Петербурге — джаз.\n",
    "\n",
    "Однако пропуски в данных ставят под сомнение этот результат. В Москве их так много, что рейтинг топ-10 мог бы выглядеть иначе, если бы не утерянные  данные о жанрах."
   ]
  },
  {
   "cell_type": "markdown",
   "metadata": {
    "id": "JolODAqr_Zcu"
   },
   "source": [
    "### Жанровые предпочтения в Москве и Петербурге\n",
    "\n",
    "Гипотеза: Петербург — столица рэпа, музыку этого жанра там слушают чаще, чем в Москве.  А Москва — город контрастов, в котором, тем не менее, преобладает поп-музыка."
   ]
  },
  {
   "cell_type": "markdown",
   "metadata": {
    "id": "DlegSvaT_Zcu"
   },
   "source": [
    "Сгруппируйте таблицу `moscow_general` по жанру и посчитайте прослушивания треков каждого жанра методом `count()`. Затем отсортируйте результат в порядке убывания и сохраните его в таблице `moscow_genres`."
   ]
  },
  {
   "cell_type": "code",
   "execution_count": 37,
   "metadata": {
    "id": "r19lIPke_Zcu"
   },
   "outputs": [],
   "source": [
    "moscow_genres = moscow_general.groupby('genre')['genre'].count().sort_values(ascending=False) \n",
    "\n",
    "\n",
    "# одной строкой: группировка таблицы moscow_general по столбцу 'genre', \n",
    "# подсчёт числа значений 'genre' в этой группировке методом count(), \n",
    "# сортировка получившегося Series в порядке убывания и сохранение в moscow_genres"
   ]
  },
  {
   "cell_type": "markdown",
   "metadata": {
    "id": "6kMuomxTiIr8"
   },
   "source": [
    "Выведите на экран первые десять строк `moscow_genres`:"
   ]
  },
  {
   "cell_type": "code",
   "execution_count": 38,
   "metadata": {
    "id": "WhCSooF8_Zcv"
   },
   "outputs": [
    {
     "data": {
      "text/plain": [
       "genre\n",
       "pop            5892\n",
       "dance          4435\n",
       "rock           3965\n",
       "electronic     3786\n",
       "hiphop         2096\n",
       "classical      1616\n",
       "world          1432\n",
       "alternative    1379\n",
       "ruspop         1372\n",
       "rusrap         1161\n",
       "Name: genre, dtype: int64"
      ]
     },
     "execution_count": 38,
     "metadata": {},
     "output_type": "execute_result"
    }
   ],
   "source": [
    "moscow_genres.head(10)\n",
    "# просмотр первых 10 строк moscow_genres"
   ]
  },
  {
   "cell_type": "markdown",
   "metadata": {
    "id": "cnPG2vnN_Zcv"
   },
   "source": [
    "Теперь повторите то же и для Петербурга.\n",
    "\n",
    "Сгруппируйте таблицу `spb_general` по жанру. Посчитайте прослушивания треков каждого жанра. Результат отсортируйте в порядке убывания и сохраните в таблице `spb_genres`:\n"
   ]
  },
  {
   "cell_type": "code",
   "execution_count": 39,
   "metadata": {
    "id": "gluLIpE7_Zcv"
   },
   "outputs": [],
   "source": [
    "spb_genres = spb_general.groupby('genre')['genre'].count().sort_values(ascending=False)\n",
    "\n",
    "\n",
    "# одной строкой: группировка таблицы spb_general по столбцу 'genre', \n",
    "# подсчёт числа значений 'genre' в этой группировке методом count(), \n",
    "# сортировка получившегося Series в порядке убывания и сохранение в spb_genres"
   ]
  },
  {
   "cell_type": "markdown",
   "metadata": {
    "id": "5Doha_ODgyQ8"
   },
   "source": [
    "Выведите на экран первые десять строк `spb_genres`:"
   ]
  },
  {
   "cell_type": "code",
   "execution_count": 40,
   "metadata": {
    "id": "uaGJHjVU_Zcv"
   },
   "outputs": [
    {
     "data": {
      "text/plain": [
       "genre\n",
       "pop            2431\n",
       "dance          1932\n",
       "rock           1879\n",
       "electronic     1736\n",
       "hiphop          960\n",
       "alternative     649\n",
       "classical       646\n",
       "rusrap          564\n",
       "ruspop          538\n",
       "world           515\n",
       "Name: genre, dtype: int64"
      ]
     },
     "execution_count": 40,
     "metadata": {},
     "output_type": "execute_result"
    }
   ],
   "source": [
    "spb_genres.head(10) # просмотр первых 10 строк spb_genres"
   ]
  },
  {
   "cell_type": "markdown",
   "metadata": {
    "id": "RY51YJYu_Zcv"
   },
   "source": [
    "**Выводы**"
   ]
  },
  {
   "cell_type": "markdown",
   "metadata": {
    "id": "nVhnJEm__Zcv"
   },
   "source": [
    "Гипотеза частично подтвердилась:\n",
    "* Поп-музыка — самый популярный жанр в Москве, как и предполагала гипотеза. Более того, в топ-10 жанров встречается близкий жанр — русская популярная музыка.\n",
    "* Вопреки ожиданиям, рэп одинаково популярен в Москве и Петербурге. \n"
   ]
  },
  {
   "cell_type": "markdown",
   "metadata": {
    "id": "ykKQ0N65_Zcv"
   },
   "source": [
    "## Итоги исследования"
   ]
  },
  {
   "cell_type": "markdown",
   "metadata": {
    "id": "tjUwbHb3_Zcv"
   },
   "source": [
    "Вы проверили три гипотезы и установили:\n",
    "\n",
    "1. День недели по-разному влияет на активность пользователей в Москве и Петербурге. \n",
    "\n",
    "Первая гипотеза полностью подтвердилась.\n",
    "\n",
    "2. Музыкальные предпочтения не сильно меняются в течение недели — будь то Москва или Петербург. Небольшие различия заметны в начале недели, по понедельникам:\n",
    "* в Москве слушают музыку жанра “world”,\n",
    "* в Петербурге — джаз и классику.\n",
    "\n",
    "Таким образом, вторая гипотеза подтвердилась лишь отчасти. Этот результат мог оказаться иным, если бы не пропуски в данных.\n",
    "\n",
    "3. Во вкусах пользователей Москвы и Петербурга больше общего чем различий. Вопреки ожиданиям, предпочтения жанров в Петербурге напоминают московские.\n",
    "\n",
    "Третья гипотеза не подтвердилась. Если различия в предпочтениях и существуют, на основной массе пользователей они незаметны.\n",
    "\n",
    "**На практике исследования содержат проверки статистических гипотез.**\n",
    "Из данных одного сервиса не всегда можно сделать вывод о всех жителях города.\n",
    "Проверки статистических гипотез покажут, насколько они достоверны, исходя из имеющихся данных. \n",
    "С методами проверок гипотез вы ещё познакомитесь в следующих темах."
   ]
  },
  {
   "cell_type": "code",
   "execution_count": 41,
   "metadata": {},
   "outputs": [
    {
     "data": {
      "text/html": [
       "<div>\n",
       "<style scoped>\n",
       "    .dataframe tbody tr th:only-of-type {\n",
       "        vertical-align: middle;\n",
       "    }\n",
       "\n",
       "    .dataframe tbody tr th {\n",
       "        vertical-align: top;\n",
       "    }\n",
       "\n",
       "    .dataframe thead th {\n",
       "        text-align: right;\n",
       "    }\n",
       "</style>\n",
       "<table border=\"1\" class=\"dataframe\">\n",
       "  <thead>\n",
       "    <tr style=\"text-align: right;\">\n",
       "      <th></th>\n",
       "      <th>city</th>\n",
       "      <th>monday</th>\n",
       "      <th>wednesday</th>\n",
       "      <th>friday</th>\n",
       "    </tr>\n",
       "  </thead>\n",
       "  <tbody>\n",
       "    <tr>\n",
       "      <th>0</th>\n",
       "      <td>Moscow</td>\n",
       "      <td>15740</td>\n",
       "      <td>11056</td>\n",
       "      <td>15945</td>\n",
       "    </tr>\n",
       "    <tr>\n",
       "      <th>1</th>\n",
       "      <td>Saint-Petersburg</td>\n",
       "      <td>5614</td>\n",
       "      <td>7003</td>\n",
       "      <td>5895</td>\n",
       "    </tr>\n",
       "  </tbody>\n",
       "</table>\n",
       "</div>"
      ],
      "text/plain": [
       "               city  monday  wednesday  friday\n",
       "0            Moscow   15740      11056   15945\n",
       "1  Saint-Petersburg    5614       7003    5895"
      ]
     },
     "execution_count": 41,
     "metadata": {},
     "output_type": "execute_result"
    }
   ],
   "source": [
    "# вариант создания таблицы через группировку\n",
    "\n",
    "(\n",
    "    (df\n",
    "         .groupby(['city', 'day']) # разные методы группировки\n",
    "         .agg({'genre':'count'}) # подсчет значений\n",
    "         .reset_index() #  убираем индексы, чтобы можно было собрать другую группировку данных\n",
    "    )\n",
    "             .pivot_table(index= 'city', columns = 'day', values = 'genre', aggfunc = 'sum') # разные методы группировки\n",
    "             .reset_index()\n",
    "             .rename_axis('', axis='columns') # убираем лишние названия\n",
    "             .reindex(columns=['city','Monday','Wednesday','Friday']) # перестановка столбцов\n",
    "             .rename(columns={'Friday': 'friday', 'Monday':'monday', 'Wednesday':'wednesday' })\n",
    "             .sort_values(by='city', ascending = True)   \n",
    ")"
   ]
  }
 ],
 "metadata": {
  "ExecuteTimeLog": [
   {
    "duration": 409,
    "start_time": "2022-05-09T11:36:13.027Z"
   },
   {
    "duration": 3,
    "start_time": "2022-05-09T11:43:13.301Z"
   },
   {
    "duration": 193,
    "start_time": "2022-05-09T11:43:16.261Z"
   },
   {
    "duration": 9,
    "start_time": "2022-05-09T11:43:26.128Z"
   },
   {
    "duration": 483,
    "start_time": "2022-05-09T11:43:50.886Z"
   },
   {
    "duration": 187,
    "start_time": "2022-05-09T11:43:51.372Z"
   },
   {
    "duration": 0,
    "start_time": "2022-05-09T11:43:51.562Z"
   },
   {
    "duration": 0,
    "start_time": "2022-05-09T11:43:51.564Z"
   },
   {
    "duration": 0,
    "start_time": "2022-05-09T11:43:51.565Z"
   },
   {
    "duration": 0,
    "start_time": "2022-05-09T11:43:51.567Z"
   },
   {
    "duration": 0,
    "start_time": "2022-05-09T11:43:51.568Z"
   },
   {
    "duration": 0,
    "start_time": "2022-05-09T11:43:51.569Z"
   },
   {
    "duration": 0,
    "start_time": "2022-05-09T11:43:51.571Z"
   },
   {
    "duration": 0,
    "start_time": "2022-05-09T11:43:51.571Z"
   },
   {
    "duration": 0,
    "start_time": "2022-05-09T11:43:51.572Z"
   },
   {
    "duration": 0,
    "start_time": "2022-05-09T11:43:51.573Z"
   },
   {
    "duration": 0,
    "start_time": "2022-05-09T11:43:51.574Z"
   },
   {
    "duration": 0,
    "start_time": "2022-05-09T11:43:51.575Z"
   },
   {
    "duration": 0,
    "start_time": "2022-05-09T11:43:51.576Z"
   },
   {
    "duration": 0,
    "start_time": "2022-05-09T11:43:51.577Z"
   },
   {
    "duration": 0,
    "start_time": "2022-05-09T11:43:51.578Z"
   },
   {
    "duration": 0,
    "start_time": "2022-05-09T11:43:51.600Z"
   },
   {
    "duration": 0,
    "start_time": "2022-05-09T11:43:51.601Z"
   },
   {
    "duration": 0,
    "start_time": "2022-05-09T11:43:51.602Z"
   },
   {
    "duration": 0,
    "start_time": "2022-05-09T11:43:51.603Z"
   },
   {
    "duration": 0,
    "start_time": "2022-05-09T11:43:51.604Z"
   },
   {
    "duration": 0,
    "start_time": "2022-05-09T11:43:51.604Z"
   },
   {
    "duration": 0,
    "start_time": "2022-05-09T11:43:51.605Z"
   },
   {
    "duration": 0,
    "start_time": "2022-05-09T11:43:51.606Z"
   },
   {
    "duration": 0,
    "start_time": "2022-05-09T11:43:51.607Z"
   },
   {
    "duration": 0,
    "start_time": "2022-05-09T11:43:51.608Z"
   },
   {
    "duration": 0,
    "start_time": "2022-05-09T11:43:51.609Z"
   },
   {
    "duration": 0,
    "start_time": "2022-05-09T11:43:51.610Z"
   },
   {
    "duration": 0,
    "start_time": "2022-05-09T11:43:51.611Z"
   },
   {
    "duration": 0,
    "start_time": "2022-05-09T11:43:51.612Z"
   },
   {
    "duration": 0,
    "start_time": "2022-05-09T11:43:51.613Z"
   },
   {
    "duration": 0,
    "start_time": "2022-05-09T11:43:51.614Z"
   },
   {
    "duration": 0,
    "start_time": "2022-05-09T11:43:51.615Z"
   },
   {
    "duration": 0,
    "start_time": "2022-05-09T11:43:51.616Z"
   },
   {
    "duration": 0,
    "start_time": "2022-05-09T11:43:51.616Z"
   },
   {
    "duration": 0,
    "start_time": "2022-05-09T11:43:51.617Z"
   },
   {
    "duration": 0,
    "start_time": "2022-05-09T11:43:51.618Z"
   },
   {
    "duration": 223,
    "start_time": "2022-05-09T11:45:38.084Z"
   },
   {
    "duration": 20,
    "start_time": "2022-05-09T11:45:41.724Z"
   },
   {
    "duration": 30,
    "start_time": "2022-05-09T11:46:35.182Z"
   },
   {
    "duration": 5,
    "start_time": "2022-05-09T11:56:48.431Z"
   },
   {
    "duration": 28,
    "start_time": "2022-05-09T11:59:15.499Z"
   },
   {
    "duration": 29,
    "start_time": "2022-05-09T12:01:10.616Z"
   },
   {
    "duration": 18,
    "start_time": "2022-05-09T12:03:34.339Z"
   },
   {
    "duration": 6,
    "start_time": "2022-05-09T12:03:40.358Z"
   },
   {
    "duration": 437,
    "start_time": "2022-05-09T12:03:57.960Z"
   },
   {
    "duration": 191,
    "start_time": "2022-05-09T12:03:58.400Z"
   },
   {
    "duration": 24,
    "start_time": "2022-05-09T12:03:58.593Z"
   },
   {
    "duration": 47,
    "start_time": "2022-05-09T12:03:58.622Z"
   },
   {
    "duration": 4,
    "start_time": "2022-05-09T12:03:58.672Z"
   },
   {
    "duration": 21,
    "start_time": "2022-05-09T12:03:58.678Z"
   },
   {
    "duration": 11,
    "start_time": "2022-05-09T12:03:58.702Z"
   },
   {
    "duration": 19,
    "start_time": "2022-05-09T12:03:58.715Z"
   },
   {
    "duration": 4,
    "start_time": "2022-05-09T12:03:58.736Z"
   },
   {
    "duration": 7,
    "start_time": "2022-05-09T12:03:58.742Z"
   },
   {
    "duration": 3,
    "start_time": "2022-05-09T12:03:58.752Z"
   },
   {
    "duration": 4,
    "start_time": "2022-05-09T12:03:58.757Z"
   },
   {
    "duration": 5,
    "start_time": "2022-05-09T12:03:58.763Z"
   },
   {
    "duration": 4,
    "start_time": "2022-05-09T12:03:58.771Z"
   },
   {
    "duration": 5,
    "start_time": "2022-05-09T12:03:58.777Z"
   },
   {
    "duration": 23,
    "start_time": "2022-05-09T12:03:58.783Z"
   },
   {
    "duration": 18,
    "start_time": "2022-05-09T12:03:58.809Z"
   },
   {
    "duration": 5,
    "start_time": "2022-05-09T12:03:58.828Z"
   },
   {
    "duration": 7,
    "start_time": "2022-05-09T12:03:58.835Z"
   },
   {
    "duration": 4,
    "start_time": "2022-05-09T12:03:58.844Z"
   },
   {
    "duration": 11,
    "start_time": "2022-05-09T12:03:58.849Z"
   },
   {
    "duration": 10,
    "start_time": "2022-05-09T12:03:58.861Z"
   },
   {
    "duration": 4,
    "start_time": "2022-05-09T12:03:58.873Z"
   },
   {
    "duration": 6,
    "start_time": "2022-05-09T12:03:58.879Z"
   },
   {
    "duration": 4,
    "start_time": "2022-05-09T12:03:58.887Z"
   },
   {
    "duration": 9,
    "start_time": "2022-05-09T12:03:58.893Z"
   },
   {
    "duration": 29,
    "start_time": "2022-05-09T12:03:58.904Z"
   },
   {
    "duration": 5,
    "start_time": "2022-05-09T12:03:58.935Z"
   },
   {
    "duration": 6,
    "start_time": "2022-05-09T12:03:58.942Z"
   },
   {
    "duration": 7,
    "start_time": "2022-05-09T12:03:58.949Z"
   },
   {
    "duration": 7,
    "start_time": "2022-05-09T12:03:58.957Z"
   },
   {
    "duration": 4,
    "start_time": "2022-05-09T12:03:58.966Z"
   },
   {
    "duration": 7,
    "start_time": "2022-05-09T12:03:58.972Z"
   },
   {
    "duration": 4,
    "start_time": "2022-05-09T12:03:58.981Z"
   },
   {
    "duration": 6,
    "start_time": "2022-05-09T12:03:58.987Z"
   },
   {
    "duration": 14,
    "start_time": "2022-05-09T12:03:58.995Z"
   },
   {
    "duration": 17,
    "start_time": "2022-05-09T12:03:59.012Z"
   },
   {
    "duration": 8,
    "start_time": "2022-05-09T12:03:59.031Z"
   },
   {
    "duration": 29,
    "start_time": "2022-05-09T12:06:38.646Z"
   },
   {
    "duration": 12,
    "start_time": "2022-05-09T12:06:59.670Z"
   },
   {
    "duration": 427,
    "start_time": "2022-05-09T12:08:13.041Z"
   },
   {
    "duration": 191,
    "start_time": "2022-05-09T12:08:13.472Z"
   },
   {
    "duration": 17,
    "start_time": "2022-05-09T12:08:13.665Z"
   },
   {
    "duration": 64,
    "start_time": "2022-05-09T12:08:13.684Z"
   },
   {
    "duration": 4,
    "start_time": "2022-05-09T12:08:13.752Z"
   },
   {
    "duration": 29,
    "start_time": "2022-05-09T12:08:13.758Z"
   },
   {
    "duration": 16,
    "start_time": "2022-05-09T12:08:13.800Z"
   },
   {
    "duration": 17,
    "start_time": "2022-05-09T12:08:13.818Z"
   },
   {
    "duration": 5,
    "start_time": "2022-05-09T12:08:13.837Z"
   },
   {
    "duration": 8,
    "start_time": "2022-05-09T12:08:13.844Z"
   },
   {
    "duration": 17,
    "start_time": "2022-05-09T12:08:13.854Z"
   },
   {
    "duration": 6,
    "start_time": "2022-05-09T12:08:13.873Z"
   },
   {
    "duration": 4,
    "start_time": "2022-05-09T12:08:13.881Z"
   },
   {
    "duration": 9,
    "start_time": "2022-05-09T12:08:13.889Z"
   },
   {
    "duration": 43,
    "start_time": "2022-05-09T12:08:13.904Z"
   },
   {
    "duration": 7,
    "start_time": "2022-05-09T12:08:13.949Z"
   },
   {
    "duration": 5,
    "start_time": "2022-05-09T12:08:13.958Z"
   },
   {
    "duration": 10,
    "start_time": "2022-05-09T12:08:13.965Z"
   },
   {
    "duration": 7,
    "start_time": "2022-05-09T12:08:13.977Z"
   },
   {
    "duration": 9,
    "start_time": "2022-05-09T12:08:13.986Z"
   },
   {
    "duration": 49,
    "start_time": "2022-05-09T12:08:13.997Z"
   },
   {
    "duration": 5,
    "start_time": "2022-05-09T12:08:14.048Z"
   },
   {
    "duration": 7,
    "start_time": "2022-05-09T12:08:14.054Z"
   },
   {
    "duration": 5,
    "start_time": "2022-05-09T12:08:14.062Z"
   },
   {
    "duration": 10,
    "start_time": "2022-05-09T12:08:14.068Z"
   },
   {
    "duration": 5,
    "start_time": "2022-05-09T12:08:14.079Z"
   },
   {
    "duration": 9,
    "start_time": "2022-05-09T12:08:14.085Z"
   },
   {
    "duration": 13,
    "start_time": "2022-05-09T12:08:14.095Z"
   },
   {
    "duration": 32,
    "start_time": "2022-05-09T12:08:14.110Z"
   },
   {
    "duration": 25,
    "start_time": "2022-05-09T12:08:14.144Z"
   },
   {
    "duration": 6,
    "start_time": "2022-05-09T12:08:14.171Z"
   },
   {
    "duration": 7,
    "start_time": "2022-05-09T12:08:14.178Z"
   },
   {
    "duration": 4,
    "start_time": "2022-05-09T12:08:14.186Z"
   },
   {
    "duration": 4,
    "start_time": "2022-05-09T12:08:14.192Z"
   },
   {
    "duration": 46,
    "start_time": "2022-05-09T12:08:14.198Z"
   },
   {
    "duration": 6,
    "start_time": "2022-05-09T12:08:14.248Z"
   },
   {
    "duration": 4,
    "start_time": "2022-05-09T12:08:14.256Z"
   },
   {
    "duration": 5,
    "start_time": "2022-05-09T12:08:36.360Z"
   },
   {
    "duration": 405,
    "start_time": "2022-05-09T12:09:05.764Z"
   },
   {
    "duration": 176,
    "start_time": "2022-05-09T12:09:06.171Z"
   },
   {
    "duration": 16,
    "start_time": "2022-05-09T12:09:06.349Z"
   },
   {
    "duration": 70,
    "start_time": "2022-05-09T12:09:06.367Z"
   },
   {
    "duration": 17,
    "start_time": "2022-05-09T12:09:06.440Z"
   },
   {
    "duration": 29,
    "start_time": "2022-05-09T12:09:06.459Z"
   },
   {
    "duration": 21,
    "start_time": "2022-05-09T12:09:06.490Z"
   },
   {
    "duration": 25,
    "start_time": "2022-05-09T12:09:06.513Z"
   },
   {
    "duration": 9,
    "start_time": "2022-05-09T12:09:06.541Z"
   },
   {
    "duration": 4,
    "start_time": "2022-05-09T12:09:06.553Z"
   },
   {
    "duration": 10,
    "start_time": "2022-05-09T12:09:06.559Z"
   },
   {
    "duration": 8,
    "start_time": "2022-05-09T12:09:06.571Z"
   },
   {
    "duration": 8,
    "start_time": "2022-05-09T12:09:06.581Z"
   },
   {
    "duration": 8,
    "start_time": "2022-05-09T12:09:06.591Z"
   },
   {
    "duration": 12,
    "start_time": "2022-05-09T12:09:06.605Z"
   },
   {
    "duration": 26,
    "start_time": "2022-05-09T12:09:06.620Z"
   },
   {
    "duration": 8,
    "start_time": "2022-05-09T12:09:06.648Z"
   },
   {
    "duration": 9,
    "start_time": "2022-05-09T12:09:06.657Z"
   },
   {
    "duration": 7,
    "start_time": "2022-05-09T12:09:06.668Z"
   },
   {
    "duration": 6,
    "start_time": "2022-05-09T12:09:06.677Z"
   },
   {
    "duration": 8,
    "start_time": "2022-05-09T12:09:06.685Z"
   },
   {
    "duration": 10,
    "start_time": "2022-05-09T12:09:06.695Z"
   },
   {
    "duration": 21,
    "start_time": "2022-05-09T12:09:06.706Z"
   },
   {
    "duration": 23,
    "start_time": "2022-05-09T12:09:06.730Z"
   },
   {
    "duration": 10,
    "start_time": "2022-05-09T12:09:06.755Z"
   },
   {
    "duration": 10,
    "start_time": "2022-05-09T12:09:06.767Z"
   },
   {
    "duration": 8,
    "start_time": "2022-05-09T12:09:06.779Z"
   },
   {
    "duration": 7,
    "start_time": "2022-05-09T12:09:06.791Z"
   },
   {
    "duration": 32,
    "start_time": "2022-05-09T12:09:06.800Z"
   },
   {
    "duration": 9,
    "start_time": "2022-05-09T12:09:06.834Z"
   },
   {
    "duration": 14,
    "start_time": "2022-05-09T12:09:06.845Z"
   },
   {
    "duration": 7,
    "start_time": "2022-05-09T12:09:06.861Z"
   },
   {
    "duration": 10,
    "start_time": "2022-05-09T12:09:06.870Z"
   },
   {
    "duration": 10,
    "start_time": "2022-05-09T12:09:06.882Z"
   },
   {
    "duration": 35,
    "start_time": "2022-05-09T12:09:06.894Z"
   },
   {
    "duration": 5,
    "start_time": "2022-05-09T12:09:06.931Z"
   },
   {
    "duration": 6,
    "start_time": "2022-05-09T12:09:06.938Z"
   },
   {
    "duration": 7,
    "start_time": "2022-05-09T12:09:06.946Z"
   },
   {
    "duration": 4,
    "start_time": "2022-05-09T12:09:10.728Z"
   },
   {
    "duration": 226,
    "start_time": "2022-05-09T12:09:12.273Z"
   },
   {
    "duration": 14,
    "start_time": "2022-05-09T12:09:14.353Z"
   },
   {
    "duration": 55,
    "start_time": "2022-05-09T12:09:17.857Z"
   },
   {
    "duration": 7,
    "start_time": "2022-05-09T12:09:24.622Z"
   },
   {
    "duration": 19,
    "start_time": "2022-05-09T12:09:27.534Z"
   },
   {
    "duration": 5,
    "start_time": "2022-05-09T12:09:29.625Z"
   },
   {
    "duration": 40,
    "start_time": "2022-05-09T12:10:41.926Z"
   },
   {
    "duration": 3447,
    "start_time": "2022-05-09T12:18:29.220Z"
   },
   {
    "duration": 430,
    "start_time": "2022-05-09T12:20:58.802Z"
   },
   {
    "duration": 165,
    "start_time": "2022-05-09T12:20:59.234Z"
   },
   {
    "duration": 27,
    "start_time": "2022-05-09T12:20:59.402Z"
   },
   {
    "duration": 30,
    "start_time": "2022-05-09T12:20:59.431Z"
   },
   {
    "duration": 4,
    "start_time": "2022-05-09T12:20:59.463Z"
   },
   {
    "duration": 61,
    "start_time": "2022-05-09T12:20:59.469Z"
   },
   {
    "duration": 3,
    "start_time": "2022-05-09T12:20:59.532Z"
   },
   {
    "duration": 32,
    "start_time": "2022-05-09T12:20:59.537Z"
   },
   {
    "duration": 3501,
    "start_time": "2022-05-09T12:20:59.570Z"
   },
   {
    "duration": 0,
    "start_time": "2022-05-09T12:21:03.075Z"
   },
   {
    "duration": 0,
    "start_time": "2022-05-09T12:21:03.076Z"
   },
   {
    "duration": 0,
    "start_time": "2022-05-09T12:21:03.077Z"
   },
   {
    "duration": 0,
    "start_time": "2022-05-09T12:21:03.078Z"
   },
   {
    "duration": 0,
    "start_time": "2022-05-09T12:21:03.079Z"
   },
   {
    "duration": 0,
    "start_time": "2022-05-09T12:21:03.080Z"
   },
   {
    "duration": 0,
    "start_time": "2022-05-09T12:21:03.082Z"
   },
   {
    "duration": 0,
    "start_time": "2022-05-09T12:21:03.083Z"
   },
   {
    "duration": 0,
    "start_time": "2022-05-09T12:21:03.084Z"
   },
   {
    "duration": 0,
    "start_time": "2022-05-09T12:21:03.085Z"
   },
   {
    "duration": 0,
    "start_time": "2022-05-09T12:21:03.086Z"
   },
   {
    "duration": 0,
    "start_time": "2022-05-09T12:21:03.087Z"
   },
   {
    "duration": 0,
    "start_time": "2022-05-09T12:21:03.088Z"
   },
   {
    "duration": 0,
    "start_time": "2022-05-09T12:21:03.089Z"
   },
   {
    "duration": 0,
    "start_time": "2022-05-09T12:21:03.090Z"
   },
   {
    "duration": 0,
    "start_time": "2022-05-09T12:21:03.092Z"
   },
   {
    "duration": 0,
    "start_time": "2022-05-09T12:21:03.093Z"
   },
   {
    "duration": 0,
    "start_time": "2022-05-09T12:21:03.094Z"
   },
   {
    "duration": 0,
    "start_time": "2022-05-09T12:21:03.095Z"
   },
   {
    "duration": 0,
    "start_time": "2022-05-09T12:21:03.098Z"
   },
   {
    "duration": 0,
    "start_time": "2022-05-09T12:21:03.099Z"
   },
   {
    "duration": 0,
    "start_time": "2022-05-09T12:21:03.100Z"
   },
   {
    "duration": 0,
    "start_time": "2022-05-09T12:21:03.100Z"
   },
   {
    "duration": 0,
    "start_time": "2022-05-09T12:21:03.101Z"
   },
   {
    "duration": 0,
    "start_time": "2022-05-09T12:21:03.102Z"
   },
   {
    "duration": 0,
    "start_time": "2022-05-09T12:21:03.102Z"
   },
   {
    "duration": 0,
    "start_time": "2022-05-09T12:21:03.106Z"
   },
   {
    "duration": 0,
    "start_time": "2022-05-09T12:21:03.109Z"
   },
   {
    "duration": 0,
    "start_time": "2022-05-09T12:21:03.114Z"
   },
   {
    "duration": 19,
    "start_time": "2022-05-09T12:38:02.751Z"
   },
   {
    "duration": 4,
    "start_time": "2022-05-09T12:38:06.835Z"
   },
   {
    "duration": 14,
    "start_time": "2022-05-09T13:29:11.383Z"
   },
   {
    "duration": 11,
    "start_time": "2022-05-09T13:30:13.740Z"
   },
   {
    "duration": 22,
    "start_time": "2022-05-09T13:30:19.195Z"
   },
   {
    "duration": 3,
    "start_time": "2022-05-09T13:30:26.059Z"
   },
   {
    "duration": 7,
    "start_time": "2022-05-09T13:30:38.221Z"
   },
   {
    "duration": 6,
    "start_time": "2022-05-09T13:30:48.689Z"
   },
   {
    "duration": 5,
    "start_time": "2022-05-09T13:30:58.655Z"
   },
   {
    "duration": 16,
    "start_time": "2022-05-09T13:49:04.797Z"
   },
   {
    "duration": 5,
    "start_time": "2022-05-09T13:49:06.693Z"
   },
   {
    "duration": 40,
    "start_time": "2022-05-09T13:51:29.520Z"
   },
   {
    "duration": 407,
    "start_time": "2022-05-09T13:51:35.695Z"
   },
   {
    "duration": 152,
    "start_time": "2022-05-09T13:51:36.105Z"
   },
   {
    "duration": 17,
    "start_time": "2022-05-09T13:51:36.259Z"
   },
   {
    "duration": 43,
    "start_time": "2022-05-09T13:51:36.279Z"
   },
   {
    "duration": 6,
    "start_time": "2022-05-09T13:51:36.324Z"
   },
   {
    "duration": 12,
    "start_time": "2022-05-09T13:51:36.331Z"
   },
   {
    "duration": 6,
    "start_time": "2022-05-09T13:51:36.345Z"
   },
   {
    "duration": 51,
    "start_time": "2022-05-09T13:51:36.353Z"
   },
   {
    "duration": 21,
    "start_time": "2022-05-09T13:51:36.407Z"
   },
   {
    "duration": 2,
    "start_time": "2022-05-09T13:51:36.431Z"
   },
   {
    "duration": 6,
    "start_time": "2022-05-09T13:51:36.435Z"
   },
   {
    "duration": 5,
    "start_time": "2022-05-09T13:51:36.443Z"
   },
   {
    "duration": 8,
    "start_time": "2022-05-09T13:51:36.450Z"
   },
   {
    "duration": 6,
    "start_time": "2022-05-09T13:51:36.459Z"
   },
   {
    "duration": 6,
    "start_time": "2022-05-09T13:51:36.466Z"
   },
   {
    "duration": 4,
    "start_time": "2022-05-09T13:51:36.474Z"
   },
   {
    "duration": 6,
    "start_time": "2022-05-09T13:51:36.479Z"
   },
   {
    "duration": 23,
    "start_time": "2022-05-09T13:51:36.487Z"
   },
   {
    "duration": 12,
    "start_time": "2022-05-09T13:51:36.513Z"
   },
   {
    "duration": 8,
    "start_time": "2022-05-09T13:51:36.527Z"
   },
   {
    "duration": 6,
    "start_time": "2022-05-09T13:51:36.536Z"
   },
   {
    "duration": 5,
    "start_time": "2022-05-09T13:51:36.543Z"
   },
   {
    "duration": 7,
    "start_time": "2022-05-09T13:51:36.549Z"
   },
   {
    "duration": 8,
    "start_time": "2022-05-09T13:51:36.558Z"
   },
   {
    "duration": 12,
    "start_time": "2022-05-09T13:51:36.567Z"
   },
   {
    "duration": 5,
    "start_time": "2022-05-09T13:51:36.581Z"
   },
   {
    "duration": 6,
    "start_time": "2022-05-09T13:51:36.587Z"
   },
   {
    "duration": 21,
    "start_time": "2022-05-09T13:51:36.596Z"
   },
   {
    "duration": 5,
    "start_time": "2022-05-09T13:51:36.619Z"
   },
   {
    "duration": 6,
    "start_time": "2022-05-09T13:51:36.625Z"
   },
   {
    "duration": 10,
    "start_time": "2022-05-09T13:51:36.633Z"
   },
   {
    "duration": 7,
    "start_time": "2022-05-09T13:51:36.644Z"
   },
   {
    "duration": 11,
    "start_time": "2022-05-09T13:51:36.652Z"
   },
   {
    "duration": 9,
    "start_time": "2022-05-09T13:51:36.665Z"
   },
   {
    "duration": 7,
    "start_time": "2022-05-09T13:51:36.676Z"
   },
   {
    "duration": 14,
    "start_time": "2022-05-09T13:51:36.685Z"
   },
   {
    "duration": 7,
    "start_time": "2022-05-09T13:51:36.709Z"
   },
   {
    "duration": 6,
    "start_time": "2022-05-09T13:51:36.719Z"
   },
   {
    "duration": 16,
    "start_time": "2022-05-09T13:51:56.642Z"
   },
   {
    "duration": 19,
    "start_time": "2022-05-09T13:52:20.761Z"
   },
   {
    "duration": 17,
    "start_time": "2022-05-09T13:53:52.814Z"
   },
   {
    "duration": 25,
    "start_time": "2022-05-09T13:54:13.536Z"
   },
   {
    "duration": 4,
    "start_time": "2022-05-09T13:59:01.041Z"
   },
   {
    "duration": 36,
    "start_time": "2022-05-09T13:59:02.586Z"
   },
   {
    "duration": 17,
    "start_time": "2022-05-09T13:59:06.156Z"
   },
   {
    "duration": 25,
    "start_time": "2022-05-09T13:59:10.237Z"
   },
   {
    "duration": 73,
    "start_time": "2022-05-09T13:59:20.165Z"
   },
   {
    "duration": 102,
    "start_time": "2022-05-09T14:00:28.618Z"
   },
   {
    "duration": 75,
    "start_time": "2022-05-09T14:02:30.218Z"
   },
   {
    "duration": 72,
    "start_time": "2022-05-09T14:02:57.565Z"
   },
   {
    "duration": 73,
    "start_time": "2022-05-09T14:05:29.421Z"
   },
   {
    "duration": 67,
    "start_time": "2022-05-09T14:05:31.053Z"
   },
   {
    "duration": 17,
    "start_time": "2022-05-09T14:10:21.793Z"
   },
   {
    "duration": 2476,
    "start_time": "2022-05-09T14:19:44.550Z"
   },
   {
    "duration": 2431,
    "start_time": "2022-05-09T14:20:57.014Z"
   },
   {
    "duration": 64,
    "start_time": "2022-05-09T14:21:07.709Z"
   },
   {
    "duration": 17,
    "start_time": "2022-05-09T14:26:30.898Z"
   },
   {
    "duration": 80,
    "start_time": "2022-05-09T14:28:39.568Z"
   },
   {
    "duration": 62,
    "start_time": "2022-05-09T14:29:48.067Z"
   },
   {
    "duration": 49,
    "start_time": "2022-05-09T14:34:00.040Z"
   },
   {
    "duration": 3,
    "start_time": "2022-05-09T15:04:45.762Z"
   },
   {
    "duration": 11,
    "start_time": "2022-05-09T15:08:28.126Z"
   },
   {
    "duration": 5,
    "start_time": "2022-05-09T15:10:58.043Z"
   },
   {
    "duration": 7,
    "start_time": "2022-05-09T15:11:06.992Z"
   },
   {
    "duration": 40,
    "start_time": "2022-05-09T15:11:56.063Z"
   },
   {
    "duration": 43,
    "start_time": "2022-05-09T15:12:11.781Z"
   },
   {
    "duration": 8,
    "start_time": "2022-05-09T15:12:47.484Z"
   },
   {
    "duration": 9,
    "start_time": "2022-05-09T15:12:59.398Z"
   },
   {
    "duration": 46,
    "start_time": "2022-05-09T15:14:21.726Z"
   },
   {
    "duration": 242,
    "start_time": "2022-05-09T15:14:48.409Z"
   },
   {
    "duration": 49,
    "start_time": "2022-05-09T15:14:52.630Z"
   },
   {
    "duration": 48,
    "start_time": "2022-05-09T15:15:22.822Z"
   },
   {
    "duration": 30,
    "start_time": "2022-05-09T15:33:44.963Z"
   },
   {
    "duration": 39,
    "start_time": "2022-05-09T15:34:17.529Z"
   },
   {
    "duration": 9,
    "start_time": "2022-05-09T15:35:13.148Z"
   },
   {
    "duration": 10,
    "start_time": "2022-05-09T15:35:18.973Z"
   },
   {
    "duration": 15,
    "start_time": "2022-05-09T15:36:10.388Z"
   },
   {
    "duration": 10,
    "start_time": "2022-05-09T15:37:41.040Z"
   },
   {
    "duration": 12,
    "start_time": "2022-05-09T15:38:47.125Z"
   },
   {
    "duration": 10,
    "start_time": "2022-05-09T15:39:03.289Z"
   },
   {
    "duration": 12,
    "start_time": "2022-05-09T15:39:18.464Z"
   },
   {
    "duration": 6,
    "start_time": "2022-05-09T15:52:32.070Z"
   },
   {
    "duration": 4,
    "start_time": "2022-05-09T15:52:37.173Z"
   },
   {
    "duration": 11,
    "start_time": "2022-05-09T15:52:39.866Z"
   },
   {
    "duration": 8,
    "start_time": "2022-05-09T15:52:45.615Z"
   },
   {
    "duration": 4,
    "start_time": "2022-05-09T15:52:52.623Z"
   },
   {
    "duration": 17,
    "start_time": "2022-05-09T15:52:54.022Z"
   },
   {
    "duration": 10,
    "start_time": "2022-05-09T15:54:02.606Z"
   },
   {
    "duration": 11,
    "start_time": "2022-05-09T15:54:03.764Z"
   },
   {
    "duration": 4,
    "start_time": "2022-05-09T15:54:07.839Z"
   },
   {
    "duration": 10,
    "start_time": "2022-05-09T15:54:13.948Z"
   },
   {
    "duration": 20,
    "start_time": "2022-05-09T15:54:18.299Z"
   },
   {
    "duration": 4,
    "start_time": "2022-05-09T15:54:20.860Z"
   },
   {
    "duration": 17,
    "start_time": "2022-05-09T15:54:22.115Z"
   },
   {
    "duration": 3,
    "start_time": "2022-05-09T15:56:33.360Z"
   },
   {
    "duration": 17,
    "start_time": "2022-05-09T15:56:34.671Z"
   },
   {
    "duration": 14,
    "start_time": "2022-05-09T15:56:47.950Z"
   },
   {
    "duration": 4,
    "start_time": "2022-05-09T15:57:05.641Z"
   },
   {
    "duration": 16,
    "start_time": "2022-05-09T15:57:06.533Z"
   },
   {
    "duration": 5,
    "start_time": "2022-05-09T15:57:13.192Z"
   },
   {
    "duration": 21,
    "start_time": "2022-05-09T15:57:14.175Z"
   },
   {
    "duration": 19,
    "start_time": "2022-05-09T15:57:51.573Z"
   },
   {
    "duration": 11,
    "start_time": "2022-05-09T15:58:32.086Z"
   },
   {
    "duration": 15,
    "start_time": "2022-05-09T15:59:00.559Z"
   },
   {
    "duration": 17,
    "start_time": "2022-05-09T16:00:04.962Z"
   },
   {
    "duration": 16,
    "start_time": "2022-05-09T16:00:20.719Z"
   },
   {
    "duration": 9,
    "start_time": "2022-05-09T16:01:22.481Z"
   },
   {
    "duration": 10,
    "start_time": "2022-05-09T16:02:13.422Z"
   },
   {
    "duration": 27,
    "start_time": "2022-05-09T16:04:47.906Z"
   },
   {
    "duration": 14,
    "start_time": "2022-05-09T16:05:12.098Z"
   },
   {
    "duration": 260,
    "start_time": "2022-05-09T16:06:05.566Z"
   },
   {
    "duration": 197,
    "start_time": "2022-05-09T16:06:10.089Z"
   },
   {
    "duration": 204,
    "start_time": "2022-05-09T16:06:16.720Z"
   },
   {
    "duration": 8,
    "start_time": "2022-05-09T16:06:20.751Z"
   },
   {
    "duration": 12,
    "start_time": "2022-05-09T16:19:06.489Z"
   },
   {
    "duration": 9,
    "start_time": "2022-05-09T16:19:42.936Z"
   },
   {
    "duration": 3,
    "start_time": "2022-05-09T16:20:42.230Z"
   },
   {
    "duration": 11,
    "start_time": "2022-05-09T16:20:44.631Z"
   },
   {
    "duration": 16,
    "start_time": "2022-05-09T16:20:45.078Z"
   },
   {
    "duration": 20,
    "start_time": "2022-05-09T16:20:45.520Z"
   },
   {
    "duration": 21,
    "start_time": "2022-05-09T16:20:45.920Z"
   },
   {
    "duration": 22,
    "start_time": "2022-05-09T16:20:46.920Z"
   },
   {
    "duration": 26,
    "start_time": "2022-05-09T16:20:47.182Z"
   },
   {
    "duration": 20,
    "start_time": "2022-05-09T16:20:49.041Z"
   },
   {
    "duration": 10,
    "start_time": "2022-05-09T16:20:49.853Z"
   },
   {
    "duration": 20,
    "start_time": "2022-05-09T16:20:53.238Z"
   },
   {
    "duration": 12,
    "start_time": "2022-05-09T16:20:54.302Z"
   },
   {
    "duration": 10,
    "start_time": "2022-05-09T16:21:33.574Z"
   },
   {
    "duration": 4,
    "start_time": "2022-05-09T16:30:28.673Z"
   },
   {
    "duration": 3,
    "start_time": "2022-05-09T16:34:54.421Z"
   },
   {
    "duration": 20,
    "start_time": "2022-05-09T16:35:07.773Z"
   },
   {
    "duration": 28,
    "start_time": "2022-05-09T16:35:31.788Z"
   },
   {
    "duration": 26,
    "start_time": "2022-05-09T16:35:43.784Z"
   },
   {
    "duration": 19,
    "start_time": "2022-05-09T16:35:50.939Z"
   },
   {
    "duration": 23,
    "start_time": "2022-05-09T16:35:56.380Z"
   },
   {
    "duration": 32,
    "start_time": "2022-05-09T16:37:27.941Z"
   },
   {
    "duration": 21,
    "start_time": "2022-05-09T16:38:05.240Z"
   },
   {
    "duration": 23,
    "start_time": "2022-05-09T16:38:24.321Z"
   },
   {
    "duration": 23,
    "start_time": "2022-05-09T16:38:49.419Z"
   },
   {
    "duration": 19,
    "start_time": "2022-05-09T16:38:50.036Z"
   },
   {
    "duration": 27,
    "start_time": "2022-05-09T16:39:55.621Z"
   },
   {
    "duration": 19,
    "start_time": "2022-05-09T16:39:58.066Z"
   },
   {
    "duration": 7,
    "start_time": "2022-05-09T16:40:05.425Z"
   },
   {
    "duration": 19,
    "start_time": "2022-05-09T16:40:08.430Z"
   },
   {
    "duration": 20,
    "start_time": "2022-05-09T16:40:12.335Z"
   },
   {
    "duration": 22,
    "start_time": "2022-05-09T16:40:16.972Z"
   },
   {
    "duration": 20,
    "start_time": "2022-05-09T16:40:18.265Z"
   },
   {
    "duration": 19,
    "start_time": "2022-05-09T16:43:07.338Z"
   },
   {
    "duration": 14,
    "start_time": "2022-05-09T16:57:00.091Z"
   },
   {
    "duration": 9,
    "start_time": "2022-05-09T16:57:31.075Z"
   },
   {
    "duration": 7,
    "start_time": "2022-05-09T16:59:24.865Z"
   },
   {
    "duration": 9,
    "start_time": "2022-05-09T16:59:27.410Z"
   },
   {
    "duration": 5,
    "start_time": "2022-05-09T16:59:28.253Z"
   },
   {
    "duration": 8,
    "start_time": "2022-05-09T16:59:34.866Z"
   },
   {
    "duration": 8,
    "start_time": "2022-05-09T16:59:39.022Z"
   },
   {
    "duration": 4,
    "start_time": "2022-05-09T16:59:45.279Z"
   },
   {
    "duration": 397,
    "start_time": "2022-05-09T17:01:21.234Z"
   },
   {
    "duration": 158,
    "start_time": "2022-05-09T17:01:21.633Z"
   },
   {
    "duration": 17,
    "start_time": "2022-05-09T17:01:21.793Z"
   },
   {
    "duration": 49,
    "start_time": "2022-05-09T17:01:21.815Z"
   },
   {
    "duration": 4,
    "start_time": "2022-05-09T17:01:21.867Z"
   },
   {
    "duration": 11,
    "start_time": "2022-05-09T17:01:21.873Z"
   },
   {
    "duration": 22,
    "start_time": "2022-05-09T17:01:21.886Z"
   },
   {
    "duration": 41,
    "start_time": "2022-05-09T17:01:21.912Z"
   },
   {
    "duration": 18,
    "start_time": "2022-05-09T17:01:21.954Z"
   },
   {
    "duration": 39,
    "start_time": "2022-05-09T17:01:21.974Z"
   },
   {
    "duration": 83,
    "start_time": "2022-05-09T17:01:22.016Z"
   },
   {
    "duration": 85,
    "start_time": "2022-05-09T17:01:22.104Z"
   },
   {
    "duration": 78,
    "start_time": "2022-05-09T17:01:22.191Z"
   },
   {
    "duration": 81,
    "start_time": "2022-05-09T17:01:22.273Z"
   },
   {
    "duration": 3,
    "start_time": "2022-05-09T17:01:22.355Z"
   },
   {
    "duration": 13,
    "start_time": "2022-05-09T17:01:22.360Z"
   },
   {
    "duration": 76,
    "start_time": "2022-05-09T17:01:22.374Z"
   },
   {
    "duration": 11,
    "start_time": "2022-05-09T17:01:22.452Z"
   },
   {
    "duration": 11,
    "start_time": "2022-05-09T17:01:22.465Z"
   },
   {
    "duration": 30,
    "start_time": "2022-05-09T17:01:22.478Z"
   },
   {
    "duration": 15,
    "start_time": "2022-05-09T17:01:22.510Z"
   },
   {
    "duration": 22,
    "start_time": "2022-05-09T17:01:22.526Z"
   },
   {
    "duration": 15,
    "start_time": "2022-05-09T17:01:22.549Z"
   },
   {
    "duration": 14,
    "start_time": "2022-05-09T17:01:22.566Z"
   },
   {
    "duration": 37,
    "start_time": "2022-05-09T17:01:22.582Z"
   },
   {
    "duration": 27,
    "start_time": "2022-05-09T17:01:22.623Z"
   },
   {
    "duration": 14,
    "start_time": "2022-05-09T17:01:22.651Z"
   },
   {
    "duration": 8,
    "start_time": "2022-05-09T17:01:22.667Z"
   },
   {
    "duration": 15,
    "start_time": "2022-05-09T17:01:22.677Z"
   },
   {
    "duration": 28,
    "start_time": "2022-05-09T17:01:22.693Z"
   },
   {
    "duration": 16,
    "start_time": "2022-05-09T17:01:22.723Z"
   },
   {
    "duration": 5,
    "start_time": "2022-05-09T17:01:22.741Z"
   },
   {
    "duration": 22,
    "start_time": "2022-05-09T17:01:22.748Z"
   },
   {
    "duration": 47,
    "start_time": "2022-05-09T17:01:22.772Z"
   },
   {
    "duration": 46,
    "start_time": "2022-05-09T17:01:22.823Z"
   },
   {
    "duration": 19,
    "start_time": "2022-05-09T17:01:22.871Z"
   },
   {
    "duration": 13,
    "start_time": "2022-05-09T17:01:22.892Z"
   },
   {
    "duration": 32,
    "start_time": "2022-05-09T17:01:22.908Z"
   },
   {
    "duration": 7,
    "start_time": "2022-05-09T17:01:22.942Z"
   },
   {
    "duration": 5,
    "start_time": "2022-05-09T17:01:22.950Z"
   },
   {
    "duration": 51,
    "start_time": "2022-05-10T08:36:49.123Z"
   },
   {
    "duration": 419,
    "start_time": "2022-05-10T08:38:13.572Z"
   },
   {
    "duration": 171,
    "start_time": "2022-05-10T08:38:13.993Z"
   },
   {
    "duration": 20,
    "start_time": "2022-05-10T08:38:14.167Z"
   },
   {
    "duration": 46,
    "start_time": "2022-05-10T08:38:14.188Z"
   },
   {
    "duration": 4,
    "start_time": "2022-05-10T08:38:14.237Z"
   },
   {
    "duration": 22,
    "start_time": "2022-05-10T08:38:14.243Z"
   },
   {
    "duration": 21,
    "start_time": "2022-05-10T08:38:14.266Z"
   },
   {
    "duration": 54,
    "start_time": "2022-05-10T08:38:14.288Z"
   },
   {
    "duration": 39,
    "start_time": "2022-05-10T08:38:14.344Z"
   },
   {
    "duration": 26,
    "start_time": "2022-05-10T08:38:14.385Z"
   },
   {
    "duration": 90,
    "start_time": "2022-05-10T08:38:14.413Z"
   },
   {
    "duration": 113,
    "start_time": "2022-05-10T08:38:14.505Z"
   },
   {
    "duration": 68,
    "start_time": "2022-05-10T08:38:14.619Z"
   },
   {
    "duration": 66,
    "start_time": "2022-05-10T08:38:14.691Z"
   },
   {
    "duration": 2,
    "start_time": "2022-05-10T08:38:14.760Z"
   },
   {
    "duration": 50,
    "start_time": "2022-05-10T08:38:14.764Z"
   },
   {
    "duration": 62,
    "start_time": "2022-05-10T08:38:14.816Z"
   },
   {
    "duration": 15,
    "start_time": "2022-05-10T08:38:14.880Z"
   },
   {
    "duration": 28,
    "start_time": "2022-05-10T08:38:14.897Z"
   },
   {
    "duration": 17,
    "start_time": "2022-05-10T08:38:14.926Z"
   },
   {
    "duration": 32,
    "start_time": "2022-05-10T08:38:14.945Z"
   },
   {
    "duration": 36,
    "start_time": "2022-05-10T08:38:14.979Z"
   },
   {
    "duration": 42,
    "start_time": "2022-05-10T08:38:15.017Z"
   },
   {
    "duration": 44,
    "start_time": "2022-05-10T08:38:15.060Z"
   },
   {
    "duration": 32,
    "start_time": "2022-05-10T08:38:15.106Z"
   },
   {
    "duration": 34,
    "start_time": "2022-05-10T08:38:15.140Z"
   },
   {
    "duration": 27,
    "start_time": "2022-05-10T08:38:15.177Z"
   },
   {
    "duration": 16,
    "start_time": "2022-05-10T08:38:15.207Z"
   },
   {
    "duration": 38,
    "start_time": "2022-05-10T08:38:15.225Z"
   },
   {
    "duration": 12,
    "start_time": "2022-05-10T08:38:15.264Z"
   },
   {
    "duration": 21,
    "start_time": "2022-05-10T08:38:15.278Z"
   },
   {
    "duration": 10,
    "start_time": "2022-05-10T08:38:15.300Z"
   },
   {
    "duration": 47,
    "start_time": "2022-05-10T08:38:15.311Z"
   },
   {
    "duration": 26,
    "start_time": "2022-05-10T08:38:15.360Z"
   },
   {
    "duration": 34,
    "start_time": "2022-05-10T08:38:15.388Z"
   },
   {
    "duration": 31,
    "start_time": "2022-05-10T08:38:15.424Z"
   },
   {
    "duration": 17,
    "start_time": "2022-05-10T08:38:15.456Z"
   },
   {
    "duration": 18,
    "start_time": "2022-05-10T08:38:15.475Z"
   },
   {
    "duration": 22,
    "start_time": "2022-05-10T08:38:15.495Z"
   },
   {
    "duration": 20,
    "start_time": "2022-05-10T08:38:15.519Z"
   },
   {
    "duration": 28,
    "start_time": "2022-05-10T08:38:54.774Z"
   },
   {
    "duration": 169,
    "start_time": "2022-05-10T08:41:39.370Z"
   },
   {
    "duration": 7,
    "start_time": "2022-05-10T08:42:13.750Z"
   },
   {
    "duration": 18,
    "start_time": "2022-05-10T08:42:16.870Z"
   },
   {
    "duration": 4,
    "start_time": "2022-05-10T08:42:21.495Z"
   },
   {
    "duration": 22,
    "start_time": "2022-05-10T08:42:46.871Z"
   },
   {
    "duration": 433,
    "start_time": "2022-05-10T08:44:58.824Z"
   },
   {
    "duration": 167,
    "start_time": "2022-05-10T08:44:59.259Z"
   },
   {
    "duration": 19,
    "start_time": "2022-05-10T08:44:59.428Z"
   },
   {
    "duration": 32,
    "start_time": "2022-05-10T08:44:59.448Z"
   },
   {
    "duration": 5,
    "start_time": "2022-05-10T08:44:59.482Z"
   },
   {
    "duration": 14,
    "start_time": "2022-05-10T08:44:59.488Z"
   },
   {
    "duration": 8,
    "start_time": "2022-05-10T08:44:59.504Z"
   },
   {
    "duration": 30,
    "start_time": "2022-05-10T08:44:59.534Z"
   },
   {
    "duration": 24,
    "start_time": "2022-05-10T08:44:59.566Z"
   },
   {
    "duration": 44,
    "start_time": "2022-05-10T08:44:59.591Z"
   },
   {
    "duration": 72,
    "start_time": "2022-05-10T08:44:59.637Z"
   },
   {
    "duration": 98,
    "start_time": "2022-05-10T08:44:59.710Z"
   },
   {
    "duration": 73,
    "start_time": "2022-05-10T08:44:59.810Z"
   },
   {
    "duration": 67,
    "start_time": "2022-05-10T08:44:59.887Z"
   },
   {
    "duration": 3,
    "start_time": "2022-05-10T08:44:59.956Z"
   },
   {
    "duration": 18,
    "start_time": "2022-05-10T08:44:59.961Z"
   },
   {
    "duration": 70,
    "start_time": "2022-05-10T08:44:59.981Z"
   },
   {
    "duration": 16,
    "start_time": "2022-05-10T08:45:00.053Z"
   },
   {
    "duration": 15,
    "start_time": "2022-05-10T08:45:00.071Z"
   },
   {
    "duration": 4,
    "start_time": "2022-05-10T08:45:00.088Z"
   },
   {
    "duration": 42,
    "start_time": "2022-05-10T08:45:00.093Z"
   },
   {
    "duration": 23,
    "start_time": "2022-05-10T08:45:00.137Z"
   },
   {
    "duration": 23,
    "start_time": "2022-05-10T08:45:00.162Z"
   },
   {
    "duration": 22,
    "start_time": "2022-05-10T08:45:00.186Z"
   },
   {
    "duration": 25,
    "start_time": "2022-05-10T08:45:00.210Z"
   },
   {
    "duration": 25,
    "start_time": "2022-05-10T08:45:00.237Z"
   },
   {
    "duration": 16,
    "start_time": "2022-05-10T08:45:00.264Z"
   },
   {
    "duration": 10,
    "start_time": "2022-05-10T08:45:00.281Z"
   },
   {
    "duration": 41,
    "start_time": "2022-05-10T08:45:00.292Z"
   },
   {
    "duration": 10,
    "start_time": "2022-05-10T08:45:00.335Z"
   },
   {
    "duration": 16,
    "start_time": "2022-05-10T08:45:00.347Z"
   },
   {
    "duration": 12,
    "start_time": "2022-05-10T08:45:00.364Z"
   },
   {
    "duration": 45,
    "start_time": "2022-05-10T08:45:00.378Z"
   },
   {
    "duration": 25,
    "start_time": "2022-05-10T08:45:00.425Z"
   },
   {
    "duration": 25,
    "start_time": "2022-05-10T08:45:00.452Z"
   },
   {
    "duration": 25,
    "start_time": "2022-05-10T08:45:00.478Z"
   },
   {
    "duration": 30,
    "start_time": "2022-05-10T08:45:00.505Z"
   },
   {
    "duration": 5,
    "start_time": "2022-05-10T08:45:00.536Z"
   },
   {
    "duration": 13,
    "start_time": "2022-05-10T08:45:00.543Z"
   },
   {
    "duration": 8,
    "start_time": "2022-05-10T08:45:00.559Z"
   },
   {
    "duration": 43,
    "start_time": "2022-05-10T08:45:00.571Z"
   },
   {
    "duration": 9,
    "start_time": "2022-05-10T10:03:56.746Z"
   },
   {
    "duration": 46,
    "start_time": "2022-05-10T10:04:00.654Z"
   },
   {
    "duration": 6,
    "start_time": "2022-05-10T10:04:10.210Z"
   },
   {
    "duration": 429,
    "start_time": "2022-05-10T10:04:17.610Z"
   },
   {
    "duration": 166,
    "start_time": "2022-05-10T10:04:18.041Z"
   },
   {
    "duration": 20,
    "start_time": "2022-05-10T10:04:18.209Z"
   },
   {
    "duration": 32,
    "start_time": "2022-05-10T10:04:18.232Z"
   },
   {
    "duration": 5,
    "start_time": "2022-05-10T10:04:18.265Z"
   },
   {
    "duration": 41,
    "start_time": "2022-05-10T10:04:18.272Z"
   },
   {
    "duration": 6,
    "start_time": "2022-05-10T10:04:18.315Z"
   },
   {
    "duration": 27,
    "start_time": "2022-05-10T10:04:18.322Z"
   },
   {
    "duration": 20,
    "start_time": "2022-05-10T10:04:18.351Z"
   },
   {
    "duration": 51,
    "start_time": "2022-05-10T10:04:18.374Z"
   },
   {
    "duration": 86,
    "start_time": "2022-05-10T10:04:18.426Z"
   },
   {
    "duration": 81,
    "start_time": "2022-05-10T10:04:18.513Z"
   },
   {
    "duration": 72,
    "start_time": "2022-05-10T10:04:18.596Z"
   },
   {
    "duration": 68,
    "start_time": "2022-05-10T10:04:18.669Z"
   },
   {
    "duration": 3,
    "start_time": "2022-05-10T10:04:18.739Z"
   },
   {
    "duration": 14,
    "start_time": "2022-05-10T10:04:18.743Z"
   },
   {
    "duration": 68,
    "start_time": "2022-05-10T10:04:18.759Z"
   },
   {
    "duration": 14,
    "start_time": "2022-05-10T10:04:18.829Z"
   },
   {
    "duration": 12,
    "start_time": "2022-05-10T10:04:18.845Z"
   },
   {
    "duration": 4,
    "start_time": "2022-05-10T10:04:18.858Z"
   },
   {
    "duration": 14,
    "start_time": "2022-05-10T10:04:18.863Z"
   },
   {
    "duration": 43,
    "start_time": "2022-05-10T10:04:18.879Z"
   },
   {
    "duration": 15,
    "start_time": "2022-05-10T10:04:18.923Z"
   },
   {
    "duration": 16,
    "start_time": "2022-05-10T10:04:18.939Z"
   },
   {
    "duration": 14,
    "start_time": "2022-05-10T10:04:18.957Z"
   },
   {
    "duration": 47,
    "start_time": "2022-05-10T10:04:18.972Z"
   },
   {
    "duration": 14,
    "start_time": "2022-05-10T10:04:19.020Z"
   },
   {
    "duration": 8,
    "start_time": "2022-05-10T10:04:19.038Z"
   },
   {
    "duration": 18,
    "start_time": "2022-05-10T10:04:19.047Z"
   },
   {
    "duration": 11,
    "start_time": "2022-05-10T10:04:19.067Z"
   },
   {
    "duration": 36,
    "start_time": "2022-05-10T10:04:19.080Z"
   },
   {
    "duration": 6,
    "start_time": "2022-05-10T10:04:19.118Z"
   },
   {
    "duration": 26,
    "start_time": "2022-05-10T10:04:19.126Z"
   },
   {
    "duration": 21,
    "start_time": "2022-05-10T10:04:19.153Z"
   },
   {
    "duration": 54,
    "start_time": "2022-05-10T10:04:19.175Z"
   },
   {
    "duration": 21,
    "start_time": "2022-05-10T10:04:19.230Z"
   },
   {
    "duration": 10,
    "start_time": "2022-05-10T10:04:19.253Z"
   },
   {
    "duration": 5,
    "start_time": "2022-05-10T10:04:19.264Z"
   },
   {
    "duration": 40,
    "start_time": "2022-05-10T10:04:19.271Z"
   },
   {
    "duration": 4,
    "start_time": "2022-05-10T10:04:19.313Z"
   },
   {
    "duration": 38,
    "start_time": "2022-05-10T10:04:19.319Z"
   },
   {
    "duration": 392,
    "start_time": "2022-05-10T10:05:25.924Z"
   },
   {
    "duration": 148,
    "start_time": "2022-05-10T10:05:26.318Z"
   },
   {
    "duration": 17,
    "start_time": "2022-05-10T10:05:26.468Z"
   },
   {
    "duration": 39,
    "start_time": "2022-05-10T10:05:26.487Z"
   },
   {
    "duration": 4,
    "start_time": "2022-05-10T10:05:26.528Z"
   },
   {
    "duration": 13,
    "start_time": "2022-05-10T10:05:26.533Z"
   },
   {
    "duration": 6,
    "start_time": "2022-05-10T10:05:26.547Z"
   },
   {
    "duration": 53,
    "start_time": "2022-05-10T10:05:26.555Z"
   },
   {
    "duration": 21,
    "start_time": "2022-05-10T10:05:26.610Z"
   },
   {
    "duration": 25,
    "start_time": "2022-05-10T10:05:26.634Z"
   },
   {
    "duration": 91,
    "start_time": "2022-05-10T10:05:26.661Z"
   },
   {
    "duration": 91,
    "start_time": "2022-05-10T10:05:26.754Z"
   },
   {
    "duration": 75,
    "start_time": "2022-05-10T10:05:26.847Z"
   },
   {
    "duration": 55,
    "start_time": "2022-05-10T10:05:26.924Z"
   },
   {
    "duration": 3,
    "start_time": "2022-05-10T10:05:26.980Z"
   },
   {
    "duration": 32,
    "start_time": "2022-05-10T10:05:26.984Z"
   },
   {
    "duration": 50,
    "start_time": "2022-05-10T10:05:27.018Z"
   },
   {
    "duration": 15,
    "start_time": "2022-05-10T10:05:27.070Z"
   },
   {
    "duration": 30,
    "start_time": "2022-05-10T10:05:27.087Z"
   },
   {
    "duration": 4,
    "start_time": "2022-05-10T10:05:27.119Z"
   },
   {
    "duration": 34,
    "start_time": "2022-05-10T10:05:27.124Z"
   },
   {
    "duration": 37,
    "start_time": "2022-05-10T10:05:27.159Z"
   },
   {
    "duration": 17,
    "start_time": "2022-05-10T10:05:27.198Z"
   },
   {
    "duration": 21,
    "start_time": "2022-05-10T10:05:27.217Z"
   },
   {
    "duration": 14,
    "start_time": "2022-05-10T10:05:27.240Z"
   },
   {
    "duration": 16,
    "start_time": "2022-05-10T10:05:27.256Z"
   },
   {
    "duration": 34,
    "start_time": "2022-05-10T10:05:27.274Z"
   },
   {
    "duration": 9,
    "start_time": "2022-05-10T10:05:27.312Z"
   },
   {
    "duration": 13,
    "start_time": "2022-05-10T10:05:27.322Z"
   },
   {
    "duration": 9,
    "start_time": "2022-05-10T10:05:27.336Z"
   },
   {
    "duration": 10,
    "start_time": "2022-05-10T10:05:27.347Z"
   },
   {
    "duration": 4,
    "start_time": "2022-05-10T10:05:27.359Z"
   },
   {
    "duration": 50,
    "start_time": "2022-05-10T10:05:27.365Z"
   },
   {
    "duration": 13,
    "start_time": "2022-05-10T10:05:27.417Z"
   },
   {
    "duration": 18,
    "start_time": "2022-05-10T10:05:27.431Z"
   },
   {
    "duration": 12,
    "start_time": "2022-05-10T10:05:27.450Z"
   },
   {
    "duration": 9,
    "start_time": "2022-05-10T10:05:27.464Z"
   },
   {
    "duration": 5,
    "start_time": "2022-05-10T10:05:27.508Z"
   },
   {
    "duration": 8,
    "start_time": "2022-05-10T10:05:27.514Z"
   },
   {
    "duration": 6,
    "start_time": "2022-05-10T10:05:27.523Z"
   },
   {
    "duration": 37,
    "start_time": "2022-05-10T10:05:27.530Z"
   },
   {
    "duration": 374,
    "start_time": "2022-05-10T10:06:39.955Z"
   },
   {
    "duration": 157,
    "start_time": "2022-05-10T10:06:40.331Z"
   },
   {
    "duration": 27,
    "start_time": "2022-05-10T10:06:40.489Z"
   },
   {
    "duration": 30,
    "start_time": "2022-05-10T10:06:40.518Z"
   },
   {
    "duration": 15,
    "start_time": "2022-05-10T10:06:40.550Z"
   },
   {
    "duration": 32,
    "start_time": "2022-05-10T10:06:40.567Z"
   },
   {
    "duration": 16,
    "start_time": "2022-05-10T10:06:40.601Z"
   },
   {
    "duration": 47,
    "start_time": "2022-05-10T10:06:40.618Z"
   },
   {
    "duration": 31,
    "start_time": "2022-05-10T10:06:40.667Z"
   },
   {
    "duration": 41,
    "start_time": "2022-05-10T10:06:40.701Z"
   },
   {
    "duration": 68,
    "start_time": "2022-05-10T10:06:40.744Z"
   },
   {
    "duration": 74,
    "start_time": "2022-05-10T10:06:40.814Z"
   },
   {
    "duration": 66,
    "start_time": "2022-05-10T10:06:40.889Z"
   },
   {
    "duration": 65,
    "start_time": "2022-05-10T10:06:40.956Z"
   },
   {
    "duration": 3,
    "start_time": "2022-05-10T10:06:41.023Z"
   },
   {
    "duration": 13,
    "start_time": "2022-05-10T10:06:41.027Z"
   },
   {
    "duration": 66,
    "start_time": "2022-05-10T10:06:41.042Z"
   },
   {
    "duration": 15,
    "start_time": "2022-05-10T10:06:41.110Z"
   },
   {
    "duration": 12,
    "start_time": "2022-05-10T10:06:41.126Z"
   },
   {
    "duration": 4,
    "start_time": "2022-05-10T10:06:41.140Z"
   },
   {
    "duration": 15,
    "start_time": "2022-05-10T10:06:41.145Z"
   },
   {
    "duration": 18,
    "start_time": "2022-05-10T10:06:41.161Z"
   },
   {
    "duration": 14,
    "start_time": "2022-05-10T10:06:41.208Z"
   },
   {
    "duration": 15,
    "start_time": "2022-05-10T10:06:41.223Z"
   },
   {
    "duration": 13,
    "start_time": "2022-05-10T10:06:41.239Z"
   },
   {
    "duration": 16,
    "start_time": "2022-05-10T10:06:41.254Z"
   },
   {
    "duration": 43,
    "start_time": "2022-05-10T10:06:41.271Z"
   },
   {
    "duration": 8,
    "start_time": "2022-05-10T10:06:41.317Z"
   },
   {
    "duration": 17,
    "start_time": "2022-05-10T10:06:41.326Z"
   },
   {
    "duration": 13,
    "start_time": "2022-05-10T10:06:41.345Z"
   },
   {
    "duration": 17,
    "start_time": "2022-05-10T10:06:41.359Z"
   },
   {
    "duration": 5,
    "start_time": "2022-05-10T10:06:41.377Z"
   },
   {
    "duration": 88,
    "start_time": "2022-05-10T10:06:41.383Z"
   },
   {
    "duration": 0,
    "start_time": "2022-05-10T10:06:41.473Z"
   },
   {
    "duration": 0,
    "start_time": "2022-05-10T10:06:41.474Z"
   },
   {
    "duration": 0,
    "start_time": "2022-05-10T10:06:41.475Z"
   },
   {
    "duration": 0,
    "start_time": "2022-05-10T10:06:41.476Z"
   },
   {
    "duration": 0,
    "start_time": "2022-05-10T10:06:41.477Z"
   },
   {
    "duration": 0,
    "start_time": "2022-05-10T10:06:41.478Z"
   },
   {
    "duration": 0,
    "start_time": "2022-05-10T10:06:41.480Z"
   },
   {
    "duration": 0,
    "start_time": "2022-05-10T10:06:41.481Z"
   },
   {
    "duration": 496,
    "start_time": "2022-05-10T10:09:10.490Z"
   },
   {
    "duration": 173,
    "start_time": "2022-05-10T10:09:10.988Z"
   },
   {
    "duration": 27,
    "start_time": "2022-05-10T10:09:11.163Z"
   },
   {
    "duration": 55,
    "start_time": "2022-05-10T10:09:11.207Z"
   },
   {
    "duration": 5,
    "start_time": "2022-05-10T10:09:11.263Z"
   },
   {
    "duration": 12,
    "start_time": "2022-05-10T10:09:11.269Z"
   },
   {
    "duration": 25,
    "start_time": "2022-05-10T10:09:11.284Z"
   },
   {
    "duration": 46,
    "start_time": "2022-05-10T10:09:11.311Z"
   },
   {
    "duration": 21,
    "start_time": "2022-05-10T10:09:11.359Z"
   },
   {
    "duration": 48,
    "start_time": "2022-05-10T10:09:11.383Z"
   },
   {
    "duration": 75,
    "start_time": "2022-05-10T10:09:11.433Z"
   },
   {
    "duration": 77,
    "start_time": "2022-05-10T10:09:11.510Z"
   },
   {
    "duration": 77,
    "start_time": "2022-05-10T10:09:11.589Z"
   },
   {
    "duration": 69,
    "start_time": "2022-05-10T10:09:11.668Z"
   },
   {
    "duration": 3,
    "start_time": "2022-05-10T10:09:11.738Z"
   },
   {
    "duration": 13,
    "start_time": "2022-05-10T10:09:11.743Z"
   },
   {
    "duration": 71,
    "start_time": "2022-05-10T10:09:11.758Z"
   },
   {
    "duration": 16,
    "start_time": "2022-05-10T10:09:11.830Z"
   },
   {
    "duration": 14,
    "start_time": "2022-05-10T10:09:11.847Z"
   },
   {
    "duration": 3,
    "start_time": "2022-05-10T10:09:11.863Z"
   },
   {
    "duration": 45,
    "start_time": "2022-05-10T10:09:11.868Z"
   },
   {
    "duration": 18,
    "start_time": "2022-05-10T10:09:11.915Z"
   },
   {
    "duration": 15,
    "start_time": "2022-05-10T10:09:11.934Z"
   },
   {
    "duration": 15,
    "start_time": "2022-05-10T10:09:11.951Z"
   },
   {
    "duration": 47,
    "start_time": "2022-05-10T10:09:11.969Z"
   },
   {
    "duration": 17,
    "start_time": "2022-05-10T10:09:12.018Z"
   },
   {
    "duration": 15,
    "start_time": "2022-05-10T10:09:12.036Z"
   },
   {
    "duration": 9,
    "start_time": "2022-05-10T10:09:12.055Z"
   },
   {
    "duration": 46,
    "start_time": "2022-05-10T10:09:12.065Z"
   },
   {
    "duration": 9,
    "start_time": "2022-05-10T10:09:12.113Z"
   },
   {
    "duration": 13,
    "start_time": "2022-05-10T10:09:12.124Z"
   },
   {
    "duration": 5,
    "start_time": "2022-05-10T10:09:12.138Z"
   },
   {
    "duration": 24,
    "start_time": "2022-05-10T10:09:12.145Z"
   },
   {
    "duration": 42,
    "start_time": "2022-05-10T10:09:12.171Z"
   },
   {
    "duration": 17,
    "start_time": "2022-05-10T10:09:12.215Z"
   },
   {
    "duration": 11,
    "start_time": "2022-05-10T10:09:12.234Z"
   },
   {
    "duration": 9,
    "start_time": "2022-05-10T10:09:12.247Z"
   },
   {
    "duration": 4,
    "start_time": "2022-05-10T10:09:12.258Z"
   },
   {
    "duration": 48,
    "start_time": "2022-05-10T10:09:12.264Z"
   },
   {
    "duration": 5,
    "start_time": "2022-05-10T10:09:12.314Z"
   },
   {
    "duration": 36,
    "start_time": "2022-05-10T10:09:12.320Z"
   },
   {
    "duration": 395,
    "start_time": "2022-05-10T10:29:04.159Z"
   },
   {
    "duration": 174,
    "start_time": "2022-05-10T10:29:04.556Z"
   },
   {
    "duration": 18,
    "start_time": "2022-05-10T10:29:04.732Z"
   },
   {
    "duration": 33,
    "start_time": "2022-05-10T10:29:04.752Z"
   },
   {
    "duration": 21,
    "start_time": "2022-05-10T10:29:04.787Z"
   },
   {
    "duration": 12,
    "start_time": "2022-05-10T10:29:04.810Z"
   },
   {
    "duration": 6,
    "start_time": "2022-05-10T10:29:04.823Z"
   },
   {
    "duration": 28,
    "start_time": "2022-05-10T10:29:04.831Z"
   },
   {
    "duration": 48,
    "start_time": "2022-05-10T10:29:04.861Z"
   },
   {
    "duration": 27,
    "start_time": "2022-05-10T10:29:04.912Z"
   },
   {
    "duration": 90,
    "start_time": "2022-05-10T10:29:04.940Z"
   },
   {
    "duration": 98,
    "start_time": "2022-05-10T10:29:05.032Z"
   },
   {
    "duration": 66,
    "start_time": "2022-05-10T10:29:05.132Z"
   },
   {
    "duration": 61,
    "start_time": "2022-05-10T10:29:05.199Z"
   },
   {
    "duration": 3,
    "start_time": "2022-05-10T10:29:05.262Z"
   },
   {
    "duration": 17,
    "start_time": "2022-05-10T10:29:05.266Z"
   },
   {
    "duration": 70,
    "start_time": "2022-05-10T10:29:05.285Z"
   },
   {
    "duration": 15,
    "start_time": "2022-05-10T10:29:05.357Z"
   },
   {
    "duration": 34,
    "start_time": "2022-05-10T10:29:05.374Z"
   },
   {
    "duration": 5,
    "start_time": "2022-05-10T10:29:05.410Z"
   },
   {
    "duration": 17,
    "start_time": "2022-05-10T10:29:05.416Z"
   },
   {
    "duration": 19,
    "start_time": "2022-05-10T10:29:05.434Z"
   },
   {
    "duration": 14,
    "start_time": "2022-05-10T10:29:05.455Z"
   },
   {
    "duration": 43,
    "start_time": "2022-05-10T10:29:05.471Z"
   },
   {
    "duration": 14,
    "start_time": "2022-05-10T10:29:05.515Z"
   },
   {
    "duration": 16,
    "start_time": "2022-05-10T10:29:05.531Z"
   },
   {
    "duration": 15,
    "start_time": "2022-05-10T10:29:05.548Z"
   },
   {
    "duration": 16,
    "start_time": "2022-05-10T10:29:05.566Z"
   },
   {
    "duration": 37,
    "start_time": "2022-05-10T10:29:05.584Z"
   },
   {
    "duration": 15,
    "start_time": "2022-05-10T10:29:05.622Z"
   },
   {
    "duration": 12,
    "start_time": "2022-05-10T10:29:05.639Z"
   },
   {
    "duration": 11,
    "start_time": "2022-05-10T10:29:05.652Z"
   },
   {
    "duration": 42,
    "start_time": "2022-05-10T10:29:05.665Z"
   },
   {
    "duration": 21,
    "start_time": "2022-05-10T10:29:05.709Z"
   },
   {
    "duration": 24,
    "start_time": "2022-05-10T10:29:05.732Z"
   },
   {
    "duration": 22,
    "start_time": "2022-05-10T10:29:05.757Z"
   },
   {
    "duration": 10,
    "start_time": "2022-05-10T10:29:05.807Z"
   },
   {
    "duration": 5,
    "start_time": "2022-05-10T10:29:05.818Z"
   },
   {
    "duration": 9,
    "start_time": "2022-05-10T10:29:05.825Z"
   },
   {
    "duration": 5,
    "start_time": "2022-05-10T10:29:05.835Z"
   },
   {
    "duration": 37,
    "start_time": "2022-05-10T10:29:05.842Z"
   },
   {
    "duration": 400,
    "start_time": "2022-05-10T10:38:49.052Z"
   },
   {
    "duration": 168,
    "start_time": "2022-05-10T10:38:49.453Z"
   },
   {
    "duration": 18,
    "start_time": "2022-05-10T10:38:49.623Z"
   },
   {
    "duration": 31,
    "start_time": "2022-05-10T10:38:49.643Z"
   },
   {
    "duration": 4,
    "start_time": "2022-05-10T10:38:49.676Z"
   },
   {
    "duration": 43,
    "start_time": "2022-05-10T10:38:49.682Z"
   },
   {
    "duration": 6,
    "start_time": "2022-05-10T10:38:49.727Z"
   },
   {
    "duration": 27,
    "start_time": "2022-05-10T10:38:49.734Z"
   },
   {
    "duration": 21,
    "start_time": "2022-05-10T10:38:49.762Z"
   },
   {
    "duration": 49,
    "start_time": "2022-05-10T10:38:49.786Z"
   },
   {
    "duration": 83,
    "start_time": "2022-05-10T10:38:49.837Z"
   },
   {
    "duration": 80,
    "start_time": "2022-05-10T10:38:49.921Z"
   },
   {
    "duration": 68,
    "start_time": "2022-05-10T10:38:50.003Z"
   },
   {
    "duration": 72,
    "start_time": "2022-05-10T10:38:50.073Z"
   },
   {
    "duration": 3,
    "start_time": "2022-05-10T10:38:50.147Z"
   },
   {
    "duration": 17,
    "start_time": "2022-05-10T10:38:50.151Z"
   },
   {
    "duration": 58,
    "start_time": "2022-05-10T10:38:50.169Z"
   },
   {
    "duration": 14,
    "start_time": "2022-05-10T10:38:50.229Z"
   },
   {
    "duration": 11,
    "start_time": "2022-05-10T10:38:50.244Z"
   },
   {
    "duration": 54,
    "start_time": "2022-05-10T10:38:50.257Z"
   },
   {
    "duration": 16,
    "start_time": "2022-05-10T10:38:50.313Z"
   },
   {
    "duration": 18,
    "start_time": "2022-05-10T10:38:50.331Z"
   },
   {
    "duration": 14,
    "start_time": "2022-05-10T10:38:50.351Z"
   },
   {
    "duration": 51,
    "start_time": "2022-05-10T10:38:50.367Z"
   },
   {
    "duration": 15,
    "start_time": "2022-05-10T10:38:50.420Z"
   },
   {
    "duration": 17,
    "start_time": "2022-05-10T10:38:50.437Z"
   },
   {
    "duration": 73,
    "start_time": "2022-05-10T10:38:50.455Z"
   },
   {
    "duration": 9,
    "start_time": "2022-05-10T10:38:50.531Z"
   },
   {
    "duration": 13,
    "start_time": "2022-05-10T10:38:50.541Z"
   },
   {
    "duration": 10,
    "start_time": "2022-05-10T10:38:50.555Z"
   },
   {
    "duration": 55,
    "start_time": "2022-05-10T10:38:50.567Z"
   },
   {
    "duration": 5,
    "start_time": "2022-05-10T10:38:50.624Z"
   },
   {
    "duration": 20,
    "start_time": "2022-05-10T10:38:50.631Z"
   },
   {
    "duration": 11,
    "start_time": "2022-05-10T10:38:50.653Z"
   },
   {
    "duration": 22,
    "start_time": "2022-05-10T10:38:50.666Z"
   },
   {
    "duration": 17,
    "start_time": "2022-05-10T10:38:50.708Z"
   },
   {
    "duration": 10,
    "start_time": "2022-05-10T10:38:50.726Z"
   },
   {
    "duration": 4,
    "start_time": "2022-05-10T10:38:50.737Z"
   },
   {
    "duration": 8,
    "start_time": "2022-05-10T10:38:50.742Z"
   },
   {
    "duration": 6,
    "start_time": "2022-05-10T10:38:50.751Z"
   },
   {
    "duration": 67,
    "start_time": "2022-05-10T10:38:50.758Z"
   },
   {
    "duration": 398,
    "start_time": "2022-05-10T10:41:55.131Z"
   },
   {
    "duration": 173,
    "start_time": "2022-05-10T10:41:55.531Z"
   },
   {
    "duration": 23,
    "start_time": "2022-05-10T10:41:55.706Z"
   },
   {
    "duration": 33,
    "start_time": "2022-05-10T10:41:55.732Z"
   },
   {
    "duration": 4,
    "start_time": "2022-05-10T10:41:55.767Z"
   },
   {
    "duration": 52,
    "start_time": "2022-05-10T10:41:55.773Z"
   },
   {
    "duration": 4,
    "start_time": "2022-05-10T10:41:55.828Z"
   },
   {
    "duration": 28,
    "start_time": "2022-05-10T10:41:55.834Z"
   },
   {
    "duration": 22,
    "start_time": "2022-05-10T10:41:55.864Z"
   },
   {
    "duration": 54,
    "start_time": "2022-05-10T10:41:55.888Z"
   },
   {
    "duration": 83,
    "start_time": "2022-05-10T10:41:55.944Z"
   },
   {
    "duration": 101,
    "start_time": "2022-05-10T10:41:56.029Z"
   },
   {
    "duration": 87,
    "start_time": "2022-05-10T10:41:56.132Z"
   },
   {
    "duration": 57,
    "start_time": "2022-05-10T10:41:56.221Z"
   },
   {
    "duration": 4,
    "start_time": "2022-05-10T10:41:56.280Z"
   },
   {
    "duration": 32,
    "start_time": "2022-05-10T10:41:56.286Z"
   },
   {
    "duration": 64,
    "start_time": "2022-05-10T10:41:56.319Z"
   },
   {
    "duration": 25,
    "start_time": "2022-05-10T10:41:56.385Z"
   },
   {
    "duration": 17,
    "start_time": "2022-05-10T10:41:56.412Z"
   },
   {
    "duration": 4,
    "start_time": "2022-05-10T10:41:56.430Z"
   },
   {
    "duration": 15,
    "start_time": "2022-05-10T10:41:56.435Z"
   },
   {
    "duration": 19,
    "start_time": "2022-05-10T10:41:56.451Z"
   },
   {
    "duration": 50,
    "start_time": "2022-05-10T10:41:56.471Z"
   },
   {
    "duration": 16,
    "start_time": "2022-05-10T10:41:56.523Z"
   },
   {
    "duration": 14,
    "start_time": "2022-05-10T10:41:56.541Z"
   },
   {
    "duration": 17,
    "start_time": "2022-05-10T10:41:56.557Z"
   },
   {
    "duration": 48,
    "start_time": "2022-05-10T10:41:56.575Z"
   },
   {
    "duration": 8,
    "start_time": "2022-05-10T10:41:56.627Z"
   },
   {
    "duration": 13,
    "start_time": "2022-05-10T10:41:56.637Z"
   },
   {
    "duration": 9,
    "start_time": "2022-05-10T10:41:56.652Z"
   },
   {
    "duration": 11,
    "start_time": "2022-05-10T10:41:56.663Z"
   },
   {
    "duration": 6,
    "start_time": "2022-05-10T10:41:56.710Z"
   },
   {
    "duration": 37,
    "start_time": "2022-05-10T10:41:56.719Z"
   },
   {
    "duration": 23,
    "start_time": "2022-05-10T10:41:56.758Z"
   },
   {
    "duration": 46,
    "start_time": "2022-05-10T10:41:56.783Z"
   },
   {
    "duration": 21,
    "start_time": "2022-05-10T10:41:56.831Z"
   },
   {
    "duration": 9,
    "start_time": "2022-05-10T10:41:56.854Z"
   },
   {
    "duration": 4,
    "start_time": "2022-05-10T10:41:56.865Z"
   },
   {
    "duration": 48,
    "start_time": "2022-05-10T10:41:56.871Z"
   },
   {
    "duration": 6,
    "start_time": "2022-05-10T10:41:56.921Z"
   },
   {
    "duration": 38,
    "start_time": "2022-05-10T10:41:56.929Z"
   },
   {
    "duration": 413,
    "start_time": "2022-05-10T10:42:46.215Z"
   },
   {
    "duration": 178,
    "start_time": "2022-05-10T10:42:46.630Z"
   },
   {
    "duration": 29,
    "start_time": "2022-05-10T10:42:46.811Z"
   },
   {
    "duration": 37,
    "start_time": "2022-05-10T10:42:46.843Z"
   },
   {
    "duration": 3,
    "start_time": "2022-05-10T10:42:46.882Z"
   },
   {
    "duration": 20,
    "start_time": "2022-05-10T10:42:46.908Z"
   },
   {
    "duration": 6,
    "start_time": "2022-05-10T10:42:46.931Z"
   },
   {
    "duration": 40,
    "start_time": "2022-05-10T10:42:46.938Z"
   },
   {
    "duration": 50,
    "start_time": "2022-05-10T10:42:46.980Z"
   },
   {
    "duration": 27,
    "start_time": "2022-05-10T10:42:47.033Z"
   },
   {
    "duration": 101,
    "start_time": "2022-05-10T10:42:47.062Z"
   },
   {
    "duration": 99,
    "start_time": "2022-05-10T10:42:47.165Z"
   },
   {
    "duration": 69,
    "start_time": "2022-05-10T10:42:47.266Z"
   },
   {
    "duration": 56,
    "start_time": "2022-05-10T10:42:47.337Z"
   },
   {
    "duration": 3,
    "start_time": "2022-05-10T10:42:47.407Z"
   },
   {
    "duration": 15,
    "start_time": "2022-05-10T10:42:47.414Z"
   },
   {
    "duration": 51,
    "start_time": "2022-05-10T10:42:47.431Z"
   },
   {
    "duration": 40,
    "start_time": "2022-05-10T10:42:47.484Z"
   },
   {
    "duration": 12,
    "start_time": "2022-05-10T10:42:47.526Z"
   },
   {
    "duration": 4,
    "start_time": "2022-05-10T10:42:47.540Z"
   },
   {
    "duration": 16,
    "start_time": "2022-05-10T10:42:47.546Z"
   },
   {
    "duration": 55,
    "start_time": "2022-05-10T10:42:47.563Z"
   },
   {
    "duration": 15,
    "start_time": "2022-05-10T10:42:47.620Z"
   },
   {
    "duration": 16,
    "start_time": "2022-05-10T10:42:47.637Z"
   },
   {
    "duration": 15,
    "start_time": "2022-05-10T10:42:47.654Z"
   },
   {
    "duration": 45,
    "start_time": "2022-05-10T10:42:47.670Z"
   },
   {
    "duration": 22,
    "start_time": "2022-05-10T10:42:47.720Z"
   },
   {
    "duration": 10,
    "start_time": "2022-05-10T10:42:47.747Z"
   },
   {
    "duration": 12,
    "start_time": "2022-05-10T10:42:47.759Z"
   },
   {
    "duration": 38,
    "start_time": "2022-05-10T10:42:47.773Z"
   },
   {
    "duration": 14,
    "start_time": "2022-05-10T10:42:47.813Z"
   },
   {
    "duration": 5,
    "start_time": "2022-05-10T10:42:47.829Z"
   },
   {
    "duration": 19,
    "start_time": "2022-05-10T10:42:47.836Z"
   },
   {
    "duration": 11,
    "start_time": "2022-05-10T10:42:47.857Z"
   },
   {
    "duration": 54,
    "start_time": "2022-05-10T10:42:47.869Z"
   },
   {
    "duration": 12,
    "start_time": "2022-05-10T10:42:47.924Z"
   },
   {
    "duration": 10,
    "start_time": "2022-05-10T10:42:47.938Z"
   },
   {
    "duration": 6,
    "start_time": "2022-05-10T10:42:47.950Z"
   },
   {
    "duration": 8,
    "start_time": "2022-05-10T10:42:47.958Z"
   },
   {
    "duration": 5,
    "start_time": "2022-05-10T10:42:47.968Z"
   },
   {
    "duration": 84,
    "start_time": "2022-05-10T10:42:47.975Z"
   },
   {
    "duration": 443,
    "start_time": "2022-05-10T12:08:08.621Z"
   },
   {
    "duration": 805,
    "start_time": "2022-05-10T12:08:09.066Z"
   },
   {
    "duration": 19,
    "start_time": "2022-05-10T12:08:09.872Z"
   },
   {
    "duration": 39,
    "start_time": "2022-05-10T12:08:09.894Z"
   },
   {
    "duration": 5,
    "start_time": "2022-05-10T12:08:09.935Z"
   },
   {
    "duration": 15,
    "start_time": "2022-05-10T12:08:09.941Z"
   },
   {
    "duration": 7,
    "start_time": "2022-05-10T12:08:09.959Z"
   },
   {
    "duration": 34,
    "start_time": "2022-05-10T12:08:09.968Z"
   },
   {
    "duration": 50,
    "start_time": "2022-05-10T12:08:10.003Z"
   },
   {
    "duration": 29,
    "start_time": "2022-05-10T12:08:10.056Z"
   },
   {
    "duration": 96,
    "start_time": "2022-05-10T12:08:10.087Z"
   },
   {
    "duration": 98,
    "start_time": "2022-05-10T12:08:10.185Z"
   },
   {
    "duration": 76,
    "start_time": "2022-05-10T12:08:10.284Z"
   },
   {
    "duration": 56,
    "start_time": "2022-05-10T12:08:10.361Z"
   },
   {
    "duration": 3,
    "start_time": "2022-05-10T12:08:10.433Z"
   },
   {
    "duration": 16,
    "start_time": "2022-05-10T12:08:10.438Z"
   },
   {
    "duration": 55,
    "start_time": "2022-05-10T12:08:10.456Z"
   },
   {
    "duration": 33,
    "start_time": "2022-05-10T12:08:10.513Z"
   },
   {
    "duration": 15,
    "start_time": "2022-05-10T12:08:10.549Z"
   },
   {
    "duration": 4,
    "start_time": "2022-05-10T12:08:10.567Z"
   },
   {
    "duration": 21,
    "start_time": "2022-05-10T12:08:10.574Z"
   },
   {
    "duration": 46,
    "start_time": "2022-05-10T12:08:10.598Z"
   },
   {
    "duration": 16,
    "start_time": "2022-05-10T12:08:10.646Z"
   },
   {
    "duration": 18,
    "start_time": "2022-05-10T12:08:10.664Z"
   },
   {
    "duration": 16,
    "start_time": "2022-05-10T12:08:10.684Z"
   },
   {
    "duration": 20,
    "start_time": "2022-05-10T12:08:10.734Z"
   },
   {
    "duration": 17,
    "start_time": "2022-05-10T12:08:10.756Z"
   },
   {
    "duration": 8,
    "start_time": "2022-05-10T12:08:10.778Z"
   },
   {
    "duration": 51,
    "start_time": "2022-05-10T12:08:10.788Z"
   },
   {
    "duration": 11,
    "start_time": "2022-05-10T12:08:10.841Z"
   },
   {
    "duration": 12,
    "start_time": "2022-05-10T12:08:10.854Z"
   },
   {
    "duration": 6,
    "start_time": "2022-05-10T12:08:10.868Z"
   },
   {
    "duration": 22,
    "start_time": "2022-05-10T12:08:10.876Z"
   },
   {
    "duration": 42,
    "start_time": "2022-05-10T12:08:10.901Z"
   },
   {
    "duration": 19,
    "start_time": "2022-05-10T12:08:10.945Z"
   },
   {
    "duration": 15,
    "start_time": "2022-05-10T12:08:10.966Z"
   },
   {
    "duration": 19,
    "start_time": "2022-05-10T12:08:10.982Z"
   },
   {
    "duration": 34,
    "start_time": "2022-05-10T12:08:11.003Z"
   },
   {
    "duration": 14,
    "start_time": "2022-05-10T12:08:11.039Z"
   },
   {
    "duration": 8,
    "start_time": "2022-05-10T12:08:11.055Z"
   },
   {
    "duration": 45,
    "start_time": "2022-05-10T12:08:11.065Z"
   }
  ],
  "colab": {
   "collapsed_sections": [
    "E0vqbgi9ay0H",
    "VUC88oWjTJw2"
   ],
   "name": "yandex_music_project.ipynb",
   "provenance": []
  },
  "kernelspec": {
   "display_name": "Python 3 (ipykernel)",
   "language": "python",
   "name": "python3"
  },
  "language_info": {
   "codemirror_mode": {
    "name": "ipython",
    "version": 3
   },
   "file_extension": ".py",
   "mimetype": "text/x-python",
   "name": "python",
   "nbconvert_exporter": "python",
   "pygments_lexer": "ipython3",
   "version": "3.9.5"
  },
  "toc": {
   "base_numbering": 1,
   "nav_menu": {},
   "number_sections": true,
   "sideBar": true,
   "skip_h1_title": true,
   "title_cell": "Table of Contents",
   "title_sidebar": "Contents",
   "toc_cell": false,
   "toc_position": {},
   "toc_section_display": true,
   "toc_window_display": true
  }
 },
 "nbformat": 4,
 "nbformat_minor": 1
}
