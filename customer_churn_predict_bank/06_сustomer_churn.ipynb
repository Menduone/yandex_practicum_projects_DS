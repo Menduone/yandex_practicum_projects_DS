{
 "cells": [
  {
   "cell_type": "markdown",
   "metadata": {
    "toc": true
   },
   "source": [
    "<h1>Содержание<span class=\"tocSkip\"></span></h1>\n",
    "<div class=\"toc\"><ul class=\"toc-item\"><li><span><a href=\"#Подготовка-данных\" data-toc-modified-id=\"Подготовка-данных-1\"><span class=\"toc-item-num\">1&nbsp;&nbsp;</span>Подготовка данных</a></span><ul class=\"toc-item\"><li><span><a href=\"#Вывод\" data-toc-modified-id=\"Вывод-1.1\"><span class=\"toc-item-num\">1.1&nbsp;&nbsp;</span>Вывод</a></span></li></ul></li><li><span><a href=\"#Исследование-задачи\" data-toc-modified-id=\"Исследование-задачи-2\"><span class=\"toc-item-num\">2&nbsp;&nbsp;</span>Исследование задачи</a></span><ul class=\"toc-item\"><li><span><a href=\"#Исследуем-баланс-классов,-обучим-модель-без-учёта-дисбаланса\" data-toc-modified-id=\"Исследуем-баланс-классов,-обучим-модель-без-учёта-дисбаланса-2.1\"><span class=\"toc-item-num\">2.1&nbsp;&nbsp;</span>Исследуем баланс классов, обучим модель без учёта дисбаланса</a></span><ul class=\"toc-item\"><li><span><a href=\"#Вывод-по-моделям\" data-toc-modified-id=\"Вывод-по-моделям-2.1.1\"><span class=\"toc-item-num\">2.1.1&nbsp;&nbsp;</span>Вывод по моделям</a></span></li></ul></li><li><span><a href=\"#Вывод-о-балансе\" data-toc-modified-id=\"Вывод-о-балансе-2.2\"><span class=\"toc-item-num\">2.2&nbsp;&nbsp;</span>Вывод о балансе</a></span></li></ul></li><li><span><a href=\"#Борьба-с-дисбалансом-и-нахождение-лучшей-модели\" data-toc-modified-id=\"Борьба-с-дисбалансом-и-нахождение-лучшей-модели-3\"><span class=\"toc-item-num\">3&nbsp;&nbsp;</span>Борьба с дисбалансом и нахождение лучшей модели</a></span><ul class=\"toc-item\"><li><span><a href=\"#Вывод\" data-toc-modified-id=\"Вывод-3.1\"><span class=\"toc-item-num\">3.1&nbsp;&nbsp;</span>Вывод</a></span></li></ul></li><li><span><a href=\"#Тестирование-модели\" data-toc-modified-id=\"Тестирование-модели-4\"><span class=\"toc-item-num\">4&nbsp;&nbsp;</span>Тестирование модели</a></span><ul class=\"toc-item\"><li><span><a href=\"#Вывод\" data-toc-modified-id=\"Вывод-4.1\"><span class=\"toc-item-num\">4.1&nbsp;&nbsp;</span>Вывод</a></span></li></ul></li></ul></div>"
   ]
  },
  {
   "cell_type": "markdown",
   "metadata": {},
   "source": [
    "# Описание проекта \"Отток клиентов\""
   ]
  },
  {
   "cell_type": "markdown",
   "metadata": {},
   "source": [
    "Из «Бета-Банка» стали уходить клиенты. Каждый месяц. Немного, но заметно. Банковские маркетологи посчитали: сохранять текущих клиентов дешевле, чем привлекать новых.\n",
    "\n",
    "Нужно спрогнозировать, уйдёт клиент из банка в ближайшее время или нет. Нам предоставлены исторические данные о поведении клиентов и расторжении договоров с банком. \n",
    "\n",
    "Стоит задача построить модель с предельно большим значением *F1*-меры. Был установлен минимум значения метрики - до 0.59.\n",
    "\n",
    "Дополнительно будем *AUC-ROC*, сравнивая её значение с *F1*-мерой.\n",
    "\n",
    "Источник данных: [https://www.kaggle.com/barelydedicated/bank-customer-churn-modeling](https://www.kaggle.com/barelydedicated/bank-customer-churn-modeling)"
   ]
  },
  {
   "cell_type": "markdown",
   "metadata": {},
   "source": [
    "## Подготовка данных"
   ]
  },
  {
   "cell_type": "code",
   "execution_count": 1,
   "metadata": {},
   "outputs": [],
   "source": [
    "import pandas as pd\n",
    "import matplotlib.pyplot as plt \n",
    "from sklearn.model_selection import train_test_split # загруажаем модели и ее метрику\n",
    "from sklearn.tree import DecisionTreeClassifier \n",
    "from sklearn.ensemble import RandomForestClassifier\n",
    "from sklearn.linear_model import LogisticRegression\n",
    "from sklearn.metrics import accuracy_score, recall_score, precision_score, roc_curve, roc_auc_score, f1_score\n",
    "from sklearn.metrics import confusion_matrix\n",
    "from sklearn.utils import shuffle \n",
    "from sklearn.preprocessing import StandardScaler"
   ]
  },
  {
   "cell_type": "code",
   "execution_count": 2,
   "metadata": {},
   "outputs": [
    {
     "data": {
      "text/html": [
       "<div>\n",
       "<style scoped>\n",
       "    .dataframe tbody tr th:only-of-type {\n",
       "        vertical-align: middle;\n",
       "    }\n",
       "\n",
       "    .dataframe tbody tr th {\n",
       "        vertical-align: top;\n",
       "    }\n",
       "\n",
       "    .dataframe thead th {\n",
       "        text-align: right;\n",
       "    }\n",
       "</style>\n",
       "<table border=\"1\" class=\"dataframe\">\n",
       "  <thead>\n",
       "    <tr style=\"text-align: right;\">\n",
       "      <th></th>\n",
       "      <th>RowNumber</th>\n",
       "      <th>CustomerId</th>\n",
       "      <th>Surname</th>\n",
       "      <th>CreditScore</th>\n",
       "      <th>Geography</th>\n",
       "      <th>Gender</th>\n",
       "      <th>Age</th>\n",
       "      <th>Tenure</th>\n",
       "      <th>Balance</th>\n",
       "      <th>NumOfProducts</th>\n",
       "      <th>HasCrCard</th>\n",
       "      <th>IsActiveMember</th>\n",
       "      <th>EstimatedSalary</th>\n",
       "      <th>Exited</th>\n",
       "    </tr>\n",
       "  </thead>\n",
       "  <tbody>\n",
       "    <tr>\n",
       "      <th>0</th>\n",
       "      <td>1</td>\n",
       "      <td>15634602</td>\n",
       "      <td>Hargrave</td>\n",
       "      <td>619</td>\n",
       "      <td>France</td>\n",
       "      <td>Female</td>\n",
       "      <td>42</td>\n",
       "      <td>2.0</td>\n",
       "      <td>0.00</td>\n",
       "      <td>1</td>\n",
       "      <td>1</td>\n",
       "      <td>1</td>\n",
       "      <td>101348.88</td>\n",
       "      <td>1</td>\n",
       "    </tr>\n",
       "    <tr>\n",
       "      <th>1</th>\n",
       "      <td>2</td>\n",
       "      <td>15647311</td>\n",
       "      <td>Hill</td>\n",
       "      <td>608</td>\n",
       "      <td>Spain</td>\n",
       "      <td>Female</td>\n",
       "      <td>41</td>\n",
       "      <td>1.0</td>\n",
       "      <td>83807.86</td>\n",
       "      <td>1</td>\n",
       "      <td>0</td>\n",
       "      <td>1</td>\n",
       "      <td>112542.58</td>\n",
       "      <td>0</td>\n",
       "    </tr>\n",
       "    <tr>\n",
       "      <th>2</th>\n",
       "      <td>3</td>\n",
       "      <td>15619304</td>\n",
       "      <td>Onio</td>\n",
       "      <td>502</td>\n",
       "      <td>France</td>\n",
       "      <td>Female</td>\n",
       "      <td>42</td>\n",
       "      <td>8.0</td>\n",
       "      <td>159660.80</td>\n",
       "      <td>3</td>\n",
       "      <td>1</td>\n",
       "      <td>0</td>\n",
       "      <td>113931.57</td>\n",
       "      <td>1</td>\n",
       "    </tr>\n",
       "    <tr>\n",
       "      <th>3</th>\n",
       "      <td>4</td>\n",
       "      <td>15701354</td>\n",
       "      <td>Boni</td>\n",
       "      <td>699</td>\n",
       "      <td>France</td>\n",
       "      <td>Female</td>\n",
       "      <td>39</td>\n",
       "      <td>1.0</td>\n",
       "      <td>0.00</td>\n",
       "      <td>2</td>\n",
       "      <td>0</td>\n",
       "      <td>0</td>\n",
       "      <td>93826.63</td>\n",
       "      <td>0</td>\n",
       "    </tr>\n",
       "    <tr>\n",
       "      <th>4</th>\n",
       "      <td>5</td>\n",
       "      <td>15737888</td>\n",
       "      <td>Mitchell</td>\n",
       "      <td>850</td>\n",
       "      <td>Spain</td>\n",
       "      <td>Female</td>\n",
       "      <td>43</td>\n",
       "      <td>2.0</td>\n",
       "      <td>125510.82</td>\n",
       "      <td>1</td>\n",
       "      <td>1</td>\n",
       "      <td>1</td>\n",
       "      <td>79084.10</td>\n",
       "      <td>0</td>\n",
       "    </tr>\n",
       "    <tr>\n",
       "      <th>5</th>\n",
       "      <td>6</td>\n",
       "      <td>15574012</td>\n",
       "      <td>Chu</td>\n",
       "      <td>645</td>\n",
       "      <td>Spain</td>\n",
       "      <td>Male</td>\n",
       "      <td>44</td>\n",
       "      <td>8.0</td>\n",
       "      <td>113755.78</td>\n",
       "      <td>2</td>\n",
       "      <td>1</td>\n",
       "      <td>0</td>\n",
       "      <td>149756.71</td>\n",
       "      <td>1</td>\n",
       "    </tr>\n",
       "    <tr>\n",
       "      <th>6</th>\n",
       "      <td>7</td>\n",
       "      <td>15592531</td>\n",
       "      <td>Bartlett</td>\n",
       "      <td>822</td>\n",
       "      <td>France</td>\n",
       "      <td>Male</td>\n",
       "      <td>50</td>\n",
       "      <td>7.0</td>\n",
       "      <td>0.00</td>\n",
       "      <td>2</td>\n",
       "      <td>1</td>\n",
       "      <td>1</td>\n",
       "      <td>10062.80</td>\n",
       "      <td>0</td>\n",
       "    </tr>\n",
       "    <tr>\n",
       "      <th>7</th>\n",
       "      <td>8</td>\n",
       "      <td>15656148</td>\n",
       "      <td>Obinna</td>\n",
       "      <td>376</td>\n",
       "      <td>Germany</td>\n",
       "      <td>Female</td>\n",
       "      <td>29</td>\n",
       "      <td>4.0</td>\n",
       "      <td>115046.74</td>\n",
       "      <td>4</td>\n",
       "      <td>1</td>\n",
       "      <td>0</td>\n",
       "      <td>119346.88</td>\n",
       "      <td>1</td>\n",
       "    </tr>\n",
       "    <tr>\n",
       "      <th>8</th>\n",
       "      <td>9</td>\n",
       "      <td>15792365</td>\n",
       "      <td>He</td>\n",
       "      <td>501</td>\n",
       "      <td>France</td>\n",
       "      <td>Male</td>\n",
       "      <td>44</td>\n",
       "      <td>4.0</td>\n",
       "      <td>142051.07</td>\n",
       "      <td>2</td>\n",
       "      <td>0</td>\n",
       "      <td>1</td>\n",
       "      <td>74940.50</td>\n",
       "      <td>0</td>\n",
       "    </tr>\n",
       "    <tr>\n",
       "      <th>9</th>\n",
       "      <td>10</td>\n",
       "      <td>15592389</td>\n",
       "      <td>H?</td>\n",
       "      <td>684</td>\n",
       "      <td>France</td>\n",
       "      <td>Male</td>\n",
       "      <td>27</td>\n",
       "      <td>2.0</td>\n",
       "      <td>134603.88</td>\n",
       "      <td>1</td>\n",
       "      <td>1</td>\n",
       "      <td>1</td>\n",
       "      <td>71725.73</td>\n",
       "      <td>0</td>\n",
       "    </tr>\n",
       "    <tr>\n",
       "      <th>10</th>\n",
       "      <td>11</td>\n",
       "      <td>15767821</td>\n",
       "      <td>Bearce</td>\n",
       "      <td>528</td>\n",
       "      <td>France</td>\n",
       "      <td>Male</td>\n",
       "      <td>31</td>\n",
       "      <td>6.0</td>\n",
       "      <td>102016.72</td>\n",
       "      <td>2</td>\n",
       "      <td>0</td>\n",
       "      <td>0</td>\n",
       "      <td>80181.12</td>\n",
       "      <td>0</td>\n",
       "    </tr>\n",
       "    <tr>\n",
       "      <th>11</th>\n",
       "      <td>12</td>\n",
       "      <td>15737173</td>\n",
       "      <td>Andrews</td>\n",
       "      <td>497</td>\n",
       "      <td>Spain</td>\n",
       "      <td>Male</td>\n",
       "      <td>24</td>\n",
       "      <td>3.0</td>\n",
       "      <td>0.00</td>\n",
       "      <td>2</td>\n",
       "      <td>1</td>\n",
       "      <td>0</td>\n",
       "      <td>76390.01</td>\n",
       "      <td>0</td>\n",
       "    </tr>\n",
       "    <tr>\n",
       "      <th>12</th>\n",
       "      <td>13</td>\n",
       "      <td>15632264</td>\n",
       "      <td>Kay</td>\n",
       "      <td>476</td>\n",
       "      <td>France</td>\n",
       "      <td>Female</td>\n",
       "      <td>34</td>\n",
       "      <td>10.0</td>\n",
       "      <td>0.00</td>\n",
       "      <td>2</td>\n",
       "      <td>1</td>\n",
       "      <td>0</td>\n",
       "      <td>26260.98</td>\n",
       "      <td>0</td>\n",
       "    </tr>\n",
       "    <tr>\n",
       "      <th>13</th>\n",
       "      <td>14</td>\n",
       "      <td>15691483</td>\n",
       "      <td>Chin</td>\n",
       "      <td>549</td>\n",
       "      <td>France</td>\n",
       "      <td>Female</td>\n",
       "      <td>25</td>\n",
       "      <td>5.0</td>\n",
       "      <td>0.00</td>\n",
       "      <td>2</td>\n",
       "      <td>0</td>\n",
       "      <td>0</td>\n",
       "      <td>190857.79</td>\n",
       "      <td>0</td>\n",
       "    </tr>\n",
       "    <tr>\n",
       "      <th>14</th>\n",
       "      <td>15</td>\n",
       "      <td>15600882</td>\n",
       "      <td>Scott</td>\n",
       "      <td>635</td>\n",
       "      <td>Spain</td>\n",
       "      <td>Female</td>\n",
       "      <td>35</td>\n",
       "      <td>7.0</td>\n",
       "      <td>0.00</td>\n",
       "      <td>2</td>\n",
       "      <td>1</td>\n",
       "      <td>1</td>\n",
       "      <td>65951.65</td>\n",
       "      <td>0</td>\n",
       "    </tr>\n",
       "  </tbody>\n",
       "</table>\n",
       "</div>"
      ],
      "text/plain": [
       "    RowNumber  CustomerId   Surname  CreditScore Geography  Gender  Age  \\\n",
       "0           1    15634602  Hargrave          619    France  Female   42   \n",
       "1           2    15647311      Hill          608     Spain  Female   41   \n",
       "2           3    15619304      Onio          502    France  Female   42   \n",
       "3           4    15701354      Boni          699    France  Female   39   \n",
       "4           5    15737888  Mitchell          850     Spain  Female   43   \n",
       "5           6    15574012       Chu          645     Spain    Male   44   \n",
       "6           7    15592531  Bartlett          822    France    Male   50   \n",
       "7           8    15656148    Obinna          376   Germany  Female   29   \n",
       "8           9    15792365        He          501    France    Male   44   \n",
       "9          10    15592389        H?          684    France    Male   27   \n",
       "10         11    15767821    Bearce          528    France    Male   31   \n",
       "11         12    15737173   Andrews          497     Spain    Male   24   \n",
       "12         13    15632264       Kay          476    France  Female   34   \n",
       "13         14    15691483      Chin          549    France  Female   25   \n",
       "14         15    15600882     Scott          635     Spain  Female   35   \n",
       "\n",
       "    Tenure    Balance  NumOfProducts  HasCrCard  IsActiveMember  \\\n",
       "0      2.0       0.00              1          1               1   \n",
       "1      1.0   83807.86              1          0               1   \n",
       "2      8.0  159660.80              3          1               0   \n",
       "3      1.0       0.00              2          0               0   \n",
       "4      2.0  125510.82              1          1               1   \n",
       "5      8.0  113755.78              2          1               0   \n",
       "6      7.0       0.00              2          1               1   \n",
       "7      4.0  115046.74              4          1               0   \n",
       "8      4.0  142051.07              2          0               1   \n",
       "9      2.0  134603.88              1          1               1   \n",
       "10     6.0  102016.72              2          0               0   \n",
       "11     3.0       0.00              2          1               0   \n",
       "12    10.0       0.00              2          1               0   \n",
       "13     5.0       0.00              2          0               0   \n",
       "14     7.0       0.00              2          1               1   \n",
       "\n",
       "    EstimatedSalary  Exited  \n",
       "0         101348.88       1  \n",
       "1         112542.58       0  \n",
       "2         113931.57       1  \n",
       "3          93826.63       0  \n",
       "4          79084.10       0  \n",
       "5         149756.71       1  \n",
       "6          10062.80       0  \n",
       "7         119346.88       1  \n",
       "8          74940.50       0  \n",
       "9          71725.73       0  \n",
       "10         80181.12       0  \n",
       "11         76390.01       0  \n",
       "12         26260.98       0  \n",
       "13        190857.79       0  \n",
       "14         65951.65       0  "
      ]
     },
     "execution_count": 2,
     "metadata": {},
     "output_type": "execute_result"
    }
   ],
   "source": [
    "data = pd.read_csv('/datasets/Churn.csv')\n",
    "data.head(15)"
   ]
  },
  {
   "cell_type": "markdown",
   "metadata": {},
   "source": [
    "**Описание данных**\n",
    "\n",
    "* `RowNumber` — индекс строки в данных;\n",
    "* `CustomerId` — уникальный идентификатор клиента;\n",
    "* `Surname` — фамилия;\n",
    "* `CreditScore` — кредитный рейтинг;\n",
    "* `Geography` — страна проживания;\n",
    "* `Gender` — пол;\n",
    "* `Age` — возраст;\n",
    "* `Tenure` — сколько лет человек является клиентом банка;\n",
    "* `Balance` — баланс на счёте;\n",
    "* `NumOfProducts` — количество продуктов банка, используемых клиентом;\n",
    "* `HasCrCard` — наличие кредитной карты;\n",
    "* `IsActiveMember` — активность клиента;\n",
    "* `EstimatedSalary` — предполагаемая зарплата\n",
    "\n",
    "**Целевой признак**\n",
    "* **`Exited`** — факт ухода клиента\n",
    "\n",
    "\n",
    "Мы видим здесь задачу **классификации** - `Целевой признак` **Exited** является **категориальным**\n",
    "\n",
    "* Рассмотрим таблицу детально:"
   ]
  },
  {
   "cell_type": "code",
   "execution_count": 3,
   "metadata": {},
   "outputs": [
    {
     "name": "stdout",
     "output_type": "stream",
     "text": [
      "<class 'pandas.core.frame.DataFrame'>\n",
      "RangeIndex: 10000 entries, 0 to 9999\n",
      "Data columns (total 14 columns):\n",
      " #   Column           Non-Null Count  Dtype  \n",
      "---  ------           --------------  -----  \n",
      " 0   RowNumber        10000 non-null  int64  \n",
      " 1   CustomerId       10000 non-null  int64  \n",
      " 2   Surname          10000 non-null  object \n",
      " 3   CreditScore      10000 non-null  int64  \n",
      " 4   Geography        10000 non-null  object \n",
      " 5   Gender           10000 non-null  object \n",
      " 6   Age              10000 non-null  int64  \n",
      " 7   Tenure           9091 non-null   float64\n",
      " 8   Balance          10000 non-null  float64\n",
      " 9   NumOfProducts    10000 non-null  int64  \n",
      " 10  HasCrCard        10000 non-null  int64  \n",
      " 11  IsActiveMember   10000 non-null  int64  \n",
      " 12  EstimatedSalary  10000 non-null  float64\n",
      " 13  Exited           10000 non-null  int64  \n",
      "dtypes: float64(3), int64(8), object(3)\n",
      "memory usage: 1.1+ MB\n"
     ]
    }
   ],
   "source": [
    "data.info()"
   ]
  },
  {
   "cell_type": "code",
   "execution_count": 4,
   "metadata": {},
   "outputs": [
    {
     "data": {
      "text/html": [
       "<div>\n",
       "<style scoped>\n",
       "    .dataframe tbody tr th:only-of-type {\n",
       "        vertical-align: middle;\n",
       "    }\n",
       "\n",
       "    .dataframe tbody tr th {\n",
       "        vertical-align: top;\n",
       "    }\n",
       "\n",
       "    .dataframe thead th {\n",
       "        text-align: right;\n",
       "    }\n",
       "</style>\n",
       "<table border=\"1\" class=\"dataframe\">\n",
       "  <thead>\n",
       "    <tr style=\"text-align: right;\">\n",
       "      <th></th>\n",
       "      <th>RowNumber</th>\n",
       "      <th>CustomerId</th>\n",
       "      <th>CreditScore</th>\n",
       "      <th>Age</th>\n",
       "      <th>Tenure</th>\n",
       "      <th>Balance</th>\n",
       "      <th>NumOfProducts</th>\n",
       "      <th>HasCrCard</th>\n",
       "      <th>IsActiveMember</th>\n",
       "      <th>EstimatedSalary</th>\n",
       "      <th>Exited</th>\n",
       "    </tr>\n",
       "  </thead>\n",
       "  <tbody>\n",
       "    <tr>\n",
       "      <th>count</th>\n",
       "      <td>10000.00000</td>\n",
       "      <td>1.000000e+04</td>\n",
       "      <td>10000.000000</td>\n",
       "      <td>10000.000000</td>\n",
       "      <td>9091.000000</td>\n",
       "      <td>10000.000000</td>\n",
       "      <td>10000.000000</td>\n",
       "      <td>10000.00000</td>\n",
       "      <td>10000.000000</td>\n",
       "      <td>10000.000000</td>\n",
       "      <td>10000.000000</td>\n",
       "    </tr>\n",
       "    <tr>\n",
       "      <th>mean</th>\n",
       "      <td>5000.50000</td>\n",
       "      <td>1.569094e+07</td>\n",
       "      <td>650.528800</td>\n",
       "      <td>38.921800</td>\n",
       "      <td>4.997690</td>\n",
       "      <td>76485.889288</td>\n",
       "      <td>1.530200</td>\n",
       "      <td>0.70550</td>\n",
       "      <td>0.515100</td>\n",
       "      <td>100090.239881</td>\n",
       "      <td>0.203700</td>\n",
       "    </tr>\n",
       "    <tr>\n",
       "      <th>std</th>\n",
       "      <td>2886.89568</td>\n",
       "      <td>7.193619e+04</td>\n",
       "      <td>96.653299</td>\n",
       "      <td>10.487806</td>\n",
       "      <td>2.894723</td>\n",
       "      <td>62397.405202</td>\n",
       "      <td>0.581654</td>\n",
       "      <td>0.45584</td>\n",
       "      <td>0.499797</td>\n",
       "      <td>57510.492818</td>\n",
       "      <td>0.402769</td>\n",
       "    </tr>\n",
       "    <tr>\n",
       "      <th>min</th>\n",
       "      <td>1.00000</td>\n",
       "      <td>1.556570e+07</td>\n",
       "      <td>350.000000</td>\n",
       "      <td>18.000000</td>\n",
       "      <td>0.000000</td>\n",
       "      <td>0.000000</td>\n",
       "      <td>1.000000</td>\n",
       "      <td>0.00000</td>\n",
       "      <td>0.000000</td>\n",
       "      <td>11.580000</td>\n",
       "      <td>0.000000</td>\n",
       "    </tr>\n",
       "    <tr>\n",
       "      <th>25%</th>\n",
       "      <td>2500.75000</td>\n",
       "      <td>1.562853e+07</td>\n",
       "      <td>584.000000</td>\n",
       "      <td>32.000000</td>\n",
       "      <td>2.000000</td>\n",
       "      <td>0.000000</td>\n",
       "      <td>1.000000</td>\n",
       "      <td>0.00000</td>\n",
       "      <td>0.000000</td>\n",
       "      <td>51002.110000</td>\n",
       "      <td>0.000000</td>\n",
       "    </tr>\n",
       "    <tr>\n",
       "      <th>50%</th>\n",
       "      <td>5000.50000</td>\n",
       "      <td>1.569074e+07</td>\n",
       "      <td>652.000000</td>\n",
       "      <td>37.000000</td>\n",
       "      <td>5.000000</td>\n",
       "      <td>97198.540000</td>\n",
       "      <td>1.000000</td>\n",
       "      <td>1.00000</td>\n",
       "      <td>1.000000</td>\n",
       "      <td>100193.915000</td>\n",
       "      <td>0.000000</td>\n",
       "    </tr>\n",
       "    <tr>\n",
       "      <th>75%</th>\n",
       "      <td>7500.25000</td>\n",
       "      <td>1.575323e+07</td>\n",
       "      <td>718.000000</td>\n",
       "      <td>44.000000</td>\n",
       "      <td>7.000000</td>\n",
       "      <td>127644.240000</td>\n",
       "      <td>2.000000</td>\n",
       "      <td>1.00000</td>\n",
       "      <td>1.000000</td>\n",
       "      <td>149388.247500</td>\n",
       "      <td>0.000000</td>\n",
       "    </tr>\n",
       "    <tr>\n",
       "      <th>max</th>\n",
       "      <td>10000.00000</td>\n",
       "      <td>1.581569e+07</td>\n",
       "      <td>850.000000</td>\n",
       "      <td>92.000000</td>\n",
       "      <td>10.000000</td>\n",
       "      <td>250898.090000</td>\n",
       "      <td>4.000000</td>\n",
       "      <td>1.00000</td>\n",
       "      <td>1.000000</td>\n",
       "      <td>199992.480000</td>\n",
       "      <td>1.000000</td>\n",
       "    </tr>\n",
       "  </tbody>\n",
       "</table>\n",
       "</div>"
      ],
      "text/plain": [
       "         RowNumber    CustomerId   CreditScore           Age       Tenure  \\\n",
       "count  10000.00000  1.000000e+04  10000.000000  10000.000000  9091.000000   \n",
       "mean    5000.50000  1.569094e+07    650.528800     38.921800     4.997690   \n",
       "std     2886.89568  7.193619e+04     96.653299     10.487806     2.894723   \n",
       "min        1.00000  1.556570e+07    350.000000     18.000000     0.000000   \n",
       "25%     2500.75000  1.562853e+07    584.000000     32.000000     2.000000   \n",
       "50%     5000.50000  1.569074e+07    652.000000     37.000000     5.000000   \n",
       "75%     7500.25000  1.575323e+07    718.000000     44.000000     7.000000   \n",
       "max    10000.00000  1.581569e+07    850.000000     92.000000    10.000000   \n",
       "\n",
       "             Balance  NumOfProducts    HasCrCard  IsActiveMember  \\\n",
       "count   10000.000000   10000.000000  10000.00000    10000.000000   \n",
       "mean    76485.889288       1.530200      0.70550        0.515100   \n",
       "std     62397.405202       0.581654      0.45584        0.499797   \n",
       "min         0.000000       1.000000      0.00000        0.000000   \n",
       "25%         0.000000       1.000000      0.00000        0.000000   \n",
       "50%     97198.540000       1.000000      1.00000        1.000000   \n",
       "75%    127644.240000       2.000000      1.00000        1.000000   \n",
       "max    250898.090000       4.000000      1.00000        1.000000   \n",
       "\n",
       "       EstimatedSalary        Exited  \n",
       "count     10000.000000  10000.000000  \n",
       "mean     100090.239881      0.203700  \n",
       "std       57510.492818      0.402769  \n",
       "min          11.580000      0.000000  \n",
       "25%       51002.110000      0.000000  \n",
       "50%      100193.915000      0.000000  \n",
       "75%      149388.247500      0.000000  \n",
       "max      199992.480000      1.000000  "
      ]
     },
     "execution_count": 4,
     "metadata": {},
     "output_type": "execute_result"
    }
   ],
   "source": [
    "data.describe()"
   ]
  },
  {
   "cell_type": "code",
   "execution_count": 5,
   "metadata": {},
   "outputs": [
    {
     "data": {
      "text/plain": [
       "RowNumber            0\n",
       "CustomerId           0\n",
       "Surname              0\n",
       "CreditScore          0\n",
       "Geography            0\n",
       "Gender               0\n",
       "Age                  0\n",
       "Tenure             909\n",
       "Balance              0\n",
       "NumOfProducts        0\n",
       "HasCrCard            0\n",
       "IsActiveMember       0\n",
       "EstimatedSalary      0\n",
       "Exited               0\n",
       "dtype: int64"
      ]
     },
     "execution_count": 5,
     "metadata": {},
     "output_type": "execute_result"
    }
   ],
   "source": [
    "data.isna().sum()"
   ]
  },
  {
   "cell_type": "code",
   "execution_count": 6,
   "metadata": {},
   "outputs": [
    {
     "name": "stdout",
     "output_type": "stream",
     "text": [
      "Доля пропусков в колонке 'Tenure': 9%\n"
     ]
    }
   ],
   "source": [
    "ten_isna = data['Tenure'].isna().mean()\n",
    "print(f'Доля пропусков в колонке \\'Tenure\\': {ten_isna:.0%}')"
   ]
  },
  {
   "cell_type": "code",
   "execution_count": 7,
   "metadata": {},
   "outputs": [
    {
     "data": {
      "text/html": [
       "<div>\n",
       "<style scoped>\n",
       "    .dataframe tbody tr th:only-of-type {\n",
       "        vertical-align: middle;\n",
       "    }\n",
       "\n",
       "    .dataframe tbody tr th {\n",
       "        vertical-align: top;\n",
       "    }\n",
       "\n",
       "    .dataframe thead th {\n",
       "        text-align: right;\n",
       "    }\n",
       "</style>\n",
       "<table border=\"1\" class=\"dataframe\">\n",
       "  <thead>\n",
       "    <tr style=\"text-align: right;\">\n",
       "      <th></th>\n",
       "      <th>Tenure</th>\n",
       "    </tr>\n",
       "  </thead>\n",
       "  <tbody>\n",
       "    <tr>\n",
       "      <th>1.0</th>\n",
       "      <td>952</td>\n",
       "    </tr>\n",
       "    <tr>\n",
       "      <th>2.0</th>\n",
       "      <td>950</td>\n",
       "    </tr>\n",
       "    <tr>\n",
       "      <th>8.0</th>\n",
       "      <td>933</td>\n",
       "    </tr>\n",
       "    <tr>\n",
       "      <th>3.0</th>\n",
       "      <td>928</td>\n",
       "    </tr>\n",
       "    <tr>\n",
       "      <th>5.0</th>\n",
       "      <td>927</td>\n",
       "    </tr>\n",
       "    <tr>\n",
       "      <th>7.0</th>\n",
       "      <td>925</td>\n",
       "    </tr>\n",
       "    <tr>\n",
       "      <th>4.0</th>\n",
       "      <td>885</td>\n",
       "    </tr>\n",
       "    <tr>\n",
       "      <th>9.0</th>\n",
       "      <td>882</td>\n",
       "    </tr>\n",
       "    <tr>\n",
       "      <th>6.0</th>\n",
       "      <td>881</td>\n",
       "    </tr>\n",
       "    <tr>\n",
       "      <th>10.0</th>\n",
       "      <td>446</td>\n",
       "    </tr>\n",
       "    <tr>\n",
       "      <th>0.0</th>\n",
       "      <td>382</td>\n",
       "    </tr>\n",
       "  </tbody>\n",
       "</table>\n",
       "</div>"
      ],
      "text/plain": [
       "      Tenure\n",
       "1.0      952\n",
       "2.0      950\n",
       "8.0      933\n",
       "3.0      928\n",
       "5.0      927\n",
       "7.0      925\n",
       "4.0      885\n",
       "9.0      882\n",
       "6.0      881\n",
       "10.0     446\n",
       "0.0      382"
      ]
     },
     "execution_count": 7,
     "metadata": {},
     "output_type": "execute_result"
    }
   ],
   "source": [
    "data['Tenure'].value_counts().to_frame()"
   ]
  },
  {
   "cell_type": "markdown",
   "metadata": {},
   "source": [
    "Наблюдаем в столбце **`Tenure`** пропуски в размере **9%**. Возможно, это связано с неполным заполнением данных, либо ошибкой при выгрузке данных. Также видим неудобный/неподходящий тип данных заполнения этой колонки.\n",
    "\n",
    "Чтобы `поменять тип данных` с вещественного на целочисленный, `заменим пропуски` **`-1`** (можно было медианой, но считаю не совсем целесообразным)"
   ]
  },
  {
   "cell_type": "code",
   "execution_count": 8,
   "metadata": {},
   "outputs": [
    {
     "name": "stdout",
     "output_type": "stream",
     "text": [
      "909\n"
     ]
    }
   ],
   "source": [
    "data['Tenure'] = data['Tenure'].fillna(value=-1)\n",
    "print(data.loc[data['Tenure'] == -1, 'Tenure'].count()) # проверяем\n",
    "data['Tenure'] = data['Tenure'].astype('int')"
   ]
  },
  {
   "cell_type": "code",
   "execution_count": 9,
   "metadata": {},
   "outputs": [
    {
     "data": {
      "text/html": [
       "<div>\n",
       "<style scoped>\n",
       "    .dataframe tbody tr th:only-of-type {\n",
       "        vertical-align: middle;\n",
       "    }\n",
       "\n",
       "    .dataframe tbody tr th {\n",
       "        vertical-align: top;\n",
       "    }\n",
       "\n",
       "    .dataframe thead th {\n",
       "        text-align: right;\n",
       "    }\n",
       "</style>\n",
       "<table border=\"1\" class=\"dataframe\">\n",
       "  <thead>\n",
       "    <tr style=\"text-align: right;\">\n",
       "      <th></th>\n",
       "      <th>RowNumber</th>\n",
       "      <th>CustomerId</th>\n",
       "      <th>Surname</th>\n",
       "      <th>CreditScore</th>\n",
       "      <th>Geography</th>\n",
       "      <th>Gender</th>\n",
       "      <th>Age</th>\n",
       "      <th>Tenure</th>\n",
       "      <th>Balance</th>\n",
       "      <th>NumOfProducts</th>\n",
       "      <th>HasCrCard</th>\n",
       "      <th>IsActiveMember</th>\n",
       "      <th>EstimatedSalary</th>\n",
       "      <th>Exited</th>\n",
       "    </tr>\n",
       "  </thead>\n",
       "  <tbody>\n",
       "    <tr>\n",
       "      <th>0</th>\n",
       "      <td>1</td>\n",
       "      <td>15634602</td>\n",
       "      <td>Hargrave</td>\n",
       "      <td>619</td>\n",
       "      <td>France</td>\n",
       "      <td>Female</td>\n",
       "      <td>42</td>\n",
       "      <td>2</td>\n",
       "      <td>0.00</td>\n",
       "      <td>1</td>\n",
       "      <td>1</td>\n",
       "      <td>1</td>\n",
       "      <td>101348.88</td>\n",
       "      <td>1</td>\n",
       "    </tr>\n",
       "    <tr>\n",
       "      <th>1</th>\n",
       "      <td>2</td>\n",
       "      <td>15647311</td>\n",
       "      <td>Hill</td>\n",
       "      <td>608</td>\n",
       "      <td>Spain</td>\n",
       "      <td>Female</td>\n",
       "      <td>41</td>\n",
       "      <td>1</td>\n",
       "      <td>83807.86</td>\n",
       "      <td>1</td>\n",
       "      <td>0</td>\n",
       "      <td>1</td>\n",
       "      <td>112542.58</td>\n",
       "      <td>0</td>\n",
       "    </tr>\n",
       "    <tr>\n",
       "      <th>2</th>\n",
       "      <td>3</td>\n",
       "      <td>15619304</td>\n",
       "      <td>Onio</td>\n",
       "      <td>502</td>\n",
       "      <td>France</td>\n",
       "      <td>Female</td>\n",
       "      <td>42</td>\n",
       "      <td>8</td>\n",
       "      <td>159660.80</td>\n",
       "      <td>3</td>\n",
       "      <td>1</td>\n",
       "      <td>0</td>\n",
       "      <td>113931.57</td>\n",
       "      <td>1</td>\n",
       "    </tr>\n",
       "    <tr>\n",
       "      <th>3</th>\n",
       "      <td>4</td>\n",
       "      <td>15701354</td>\n",
       "      <td>Boni</td>\n",
       "      <td>699</td>\n",
       "      <td>France</td>\n",
       "      <td>Female</td>\n",
       "      <td>39</td>\n",
       "      <td>1</td>\n",
       "      <td>0.00</td>\n",
       "      <td>2</td>\n",
       "      <td>0</td>\n",
       "      <td>0</td>\n",
       "      <td>93826.63</td>\n",
       "      <td>0</td>\n",
       "    </tr>\n",
       "    <tr>\n",
       "      <th>4</th>\n",
       "      <td>5</td>\n",
       "      <td>15737888</td>\n",
       "      <td>Mitchell</td>\n",
       "      <td>850</td>\n",
       "      <td>Spain</td>\n",
       "      <td>Female</td>\n",
       "      <td>43</td>\n",
       "      <td>2</td>\n",
       "      <td>125510.82</td>\n",
       "      <td>1</td>\n",
       "      <td>1</td>\n",
       "      <td>1</td>\n",
       "      <td>79084.10</td>\n",
       "      <td>0</td>\n",
       "    </tr>\n",
       "  </tbody>\n",
       "</table>\n",
       "</div>"
      ],
      "text/plain": [
       "   RowNumber  CustomerId   Surname  CreditScore Geography  Gender  Age  \\\n",
       "0          1    15634602  Hargrave          619    France  Female   42   \n",
       "1          2    15647311      Hill          608     Spain  Female   41   \n",
       "2          3    15619304      Onio          502    France  Female   42   \n",
       "3          4    15701354      Boni          699    France  Female   39   \n",
       "4          5    15737888  Mitchell          850     Spain  Female   43   \n",
       "\n",
       "   Tenure    Balance  NumOfProducts  HasCrCard  IsActiveMember  \\\n",
       "0       2       0.00              1          1               1   \n",
       "1       1   83807.86              1          0               1   \n",
       "2       8  159660.80              3          1               0   \n",
       "3       1       0.00              2          0               0   \n",
       "4       2  125510.82              1          1               1   \n",
       "\n",
       "   EstimatedSalary  Exited  \n",
       "0        101348.88       1  \n",
       "1        112542.58       0  \n",
       "2        113931.57       1  \n",
       "3         93826.63       0  \n",
       "4         79084.10       0  "
      ]
     },
     "execution_count": 9,
     "metadata": {},
     "output_type": "execute_result"
    }
   ],
   "source": [
    "data.head()"
   ]
  },
  {
   "cell_type": "markdown",
   "metadata": {},
   "source": [
    "Подмечаем, что столбцы `'RowNumber', 'CustomerId', 'Surname'` никак не влияют на целевой признак и являются лишними. Удалим их:"
   ]
  },
  {
   "cell_type": "code",
   "execution_count": 10,
   "metadata": {},
   "outputs": [
    {
     "data": {
      "text/html": [
       "<div>\n",
       "<style scoped>\n",
       "    .dataframe tbody tr th:only-of-type {\n",
       "        vertical-align: middle;\n",
       "    }\n",
       "\n",
       "    .dataframe tbody tr th {\n",
       "        vertical-align: top;\n",
       "    }\n",
       "\n",
       "    .dataframe thead th {\n",
       "        text-align: right;\n",
       "    }\n",
       "</style>\n",
       "<table border=\"1\" class=\"dataframe\">\n",
       "  <thead>\n",
       "    <tr style=\"text-align: right;\">\n",
       "      <th></th>\n",
       "      <th>CreditScore</th>\n",
       "      <th>Geography</th>\n",
       "      <th>Gender</th>\n",
       "      <th>Age</th>\n",
       "      <th>Tenure</th>\n",
       "      <th>Balance</th>\n",
       "      <th>NumOfProducts</th>\n",
       "      <th>HasCrCard</th>\n",
       "      <th>IsActiveMember</th>\n",
       "      <th>EstimatedSalary</th>\n",
       "      <th>Exited</th>\n",
       "    </tr>\n",
       "  </thead>\n",
       "  <tbody>\n",
       "    <tr>\n",
       "      <th>0</th>\n",
       "      <td>619</td>\n",
       "      <td>France</td>\n",
       "      <td>Female</td>\n",
       "      <td>42</td>\n",
       "      <td>2</td>\n",
       "      <td>0.00</td>\n",
       "      <td>1</td>\n",
       "      <td>1</td>\n",
       "      <td>1</td>\n",
       "      <td>101348.88</td>\n",
       "      <td>1</td>\n",
       "    </tr>\n",
       "    <tr>\n",
       "      <th>1</th>\n",
       "      <td>608</td>\n",
       "      <td>Spain</td>\n",
       "      <td>Female</td>\n",
       "      <td>41</td>\n",
       "      <td>1</td>\n",
       "      <td>83807.86</td>\n",
       "      <td>1</td>\n",
       "      <td>0</td>\n",
       "      <td>1</td>\n",
       "      <td>112542.58</td>\n",
       "      <td>0</td>\n",
       "    </tr>\n",
       "    <tr>\n",
       "      <th>2</th>\n",
       "      <td>502</td>\n",
       "      <td>France</td>\n",
       "      <td>Female</td>\n",
       "      <td>42</td>\n",
       "      <td>8</td>\n",
       "      <td>159660.80</td>\n",
       "      <td>3</td>\n",
       "      <td>1</td>\n",
       "      <td>0</td>\n",
       "      <td>113931.57</td>\n",
       "      <td>1</td>\n",
       "    </tr>\n",
       "    <tr>\n",
       "      <th>3</th>\n",
       "      <td>699</td>\n",
       "      <td>France</td>\n",
       "      <td>Female</td>\n",
       "      <td>39</td>\n",
       "      <td>1</td>\n",
       "      <td>0.00</td>\n",
       "      <td>2</td>\n",
       "      <td>0</td>\n",
       "      <td>0</td>\n",
       "      <td>93826.63</td>\n",
       "      <td>0</td>\n",
       "    </tr>\n",
       "    <tr>\n",
       "      <th>4</th>\n",
       "      <td>850</td>\n",
       "      <td>Spain</td>\n",
       "      <td>Female</td>\n",
       "      <td>43</td>\n",
       "      <td>2</td>\n",
       "      <td>125510.82</td>\n",
       "      <td>1</td>\n",
       "      <td>1</td>\n",
       "      <td>1</td>\n",
       "      <td>79084.10</td>\n",
       "      <td>0</td>\n",
       "    </tr>\n",
       "  </tbody>\n",
       "</table>\n",
       "</div>"
      ],
      "text/plain": [
       "   CreditScore Geography  Gender  Age  Tenure    Balance  NumOfProducts  \\\n",
       "0          619    France  Female   42       2       0.00              1   \n",
       "1          608     Spain  Female   41       1   83807.86              1   \n",
       "2          502    France  Female   42       8  159660.80              3   \n",
       "3          699    France  Female   39       1       0.00              2   \n",
       "4          850     Spain  Female   43       2  125510.82              1   \n",
       "\n",
       "   HasCrCard  IsActiveMember  EstimatedSalary  Exited  \n",
       "0          1               1        101348.88       1  \n",
       "1          0               1        112542.58       0  \n",
       "2          1               0        113931.57       1  \n",
       "3          0               0         93826.63       0  \n",
       "4          1               1         79084.10       0  "
      ]
     },
     "execution_count": 10,
     "metadata": {},
     "output_type": "execute_result"
    }
   ],
   "source": [
    "data = data.drop(['RowNumber', 'CustomerId', 'Surname'], axis=1).reset_index(drop=True)\n",
    "data.head()"
   ]
  },
  {
   "cell_type": "code",
   "execution_count": 11,
   "metadata": {},
   "outputs": [
    {
     "data": {
      "text/html": [
       "<div>\n",
       "<style scoped>\n",
       "    .dataframe tbody tr th:only-of-type {\n",
       "        vertical-align: middle;\n",
       "    }\n",
       "\n",
       "    .dataframe tbody tr th {\n",
       "        vertical-align: top;\n",
       "    }\n",
       "\n",
       "    .dataframe thead th {\n",
       "        text-align: right;\n",
       "    }\n",
       "</style>\n",
       "<table border=\"1\" class=\"dataframe\">\n",
       "  <thead>\n",
       "    <tr style=\"text-align: right;\">\n",
       "      <th></th>\n",
       "      <th>Geography</th>\n",
       "    </tr>\n",
       "  </thead>\n",
       "  <tbody>\n",
       "    <tr>\n",
       "      <th>France</th>\n",
       "      <td>5014</td>\n",
       "    </tr>\n",
       "    <tr>\n",
       "      <th>Germany</th>\n",
       "      <td>2509</td>\n",
       "    </tr>\n",
       "    <tr>\n",
       "      <th>Spain</th>\n",
       "      <td>2477</td>\n",
       "    </tr>\n",
       "  </tbody>\n",
       "</table>\n",
       "</div>"
      ],
      "text/plain": [
       "         Geography\n",
       "France        5014\n",
       "Germany       2509\n",
       "Spain         2477"
      ]
     },
     "execution_count": 11,
     "metadata": {},
     "output_type": "execute_result"
    }
   ],
   "source": [
    "data['Geography'].value_counts().to_frame()"
   ]
  },
  {
   "cell_type": "code",
   "execution_count": 12,
   "metadata": {},
   "outputs": [
    {
     "data": {
      "text/html": [
       "<div>\n",
       "<style scoped>\n",
       "    .dataframe tbody tr th:only-of-type {\n",
       "        vertical-align: middle;\n",
       "    }\n",
       "\n",
       "    .dataframe tbody tr th {\n",
       "        vertical-align: top;\n",
       "    }\n",
       "\n",
       "    .dataframe thead th {\n",
       "        text-align: right;\n",
       "    }\n",
       "</style>\n",
       "<table border=\"1\" class=\"dataframe\">\n",
       "  <thead>\n",
       "    <tr style=\"text-align: right;\">\n",
       "      <th></th>\n",
       "      <th>Gender</th>\n",
       "    </tr>\n",
       "  </thead>\n",
       "  <tbody>\n",
       "    <tr>\n",
       "      <th>Male</th>\n",
       "      <td>5457</td>\n",
       "    </tr>\n",
       "    <tr>\n",
       "      <th>Female</th>\n",
       "      <td>4543</td>\n",
       "    </tr>\n",
       "  </tbody>\n",
       "</table>\n",
       "</div>"
      ],
      "text/plain": [
       "        Gender\n",
       "Male      5457\n",
       "Female    4543"
      ]
     },
     "execution_count": 12,
     "metadata": {},
     "output_type": "execute_result"
    }
   ],
   "source": [
    "data['Gender'].value_counts().to_frame()"
   ]
  },
  {
   "cell_type": "markdown",
   "metadata": {},
   "source": [
    "Видим, что в колонке `'Geography'` всего три столбца. В столбце `'Gender'` два. Все это нам следует преобразовать техникой прямого кодирования **One-hot Encoding (OHE)**, что далее поможет нам применить модели\n",
    "\n",
    "Применим ко всему датафрейму:"
   ]
  },
  {
   "cell_type": "code",
   "execution_count": 14,
   "metadata": {},
   "outputs": [
    {
     "data": {
      "text/html": [
       "<div>\n",
       "<style scoped>\n",
       "    .dataframe tbody tr th:only-of-type {\n",
       "        vertical-align: middle;\n",
       "    }\n",
       "\n",
       "    .dataframe tbody tr th {\n",
       "        vertical-align: top;\n",
       "    }\n",
       "\n",
       "    .dataframe thead th {\n",
       "        text-align: right;\n",
       "    }\n",
       "</style>\n",
       "<table border=\"1\" class=\"dataframe\">\n",
       "  <thead>\n",
       "    <tr style=\"text-align: right;\">\n",
       "      <th></th>\n",
       "      <th>CreditScore</th>\n",
       "      <th>Age</th>\n",
       "      <th>Tenure</th>\n",
       "      <th>Balance</th>\n",
       "      <th>NumOfProducts</th>\n",
       "      <th>HasCrCard</th>\n",
       "      <th>IsActiveMember</th>\n",
       "      <th>EstimatedSalary</th>\n",
       "      <th>Exited</th>\n",
       "      <th>Geography_Germany</th>\n",
       "      <th>Geography_Spain</th>\n",
       "      <th>Gender_Male</th>\n",
       "    </tr>\n",
       "  </thead>\n",
       "  <tbody>\n",
       "    <tr>\n",
       "      <th>0</th>\n",
       "      <td>619</td>\n",
       "      <td>42</td>\n",
       "      <td>2</td>\n",
       "      <td>0.00</td>\n",
       "      <td>1</td>\n",
       "      <td>1</td>\n",
       "      <td>1</td>\n",
       "      <td>101348.88</td>\n",
       "      <td>1</td>\n",
       "      <td>0</td>\n",
       "      <td>0</td>\n",
       "      <td>0</td>\n",
       "    </tr>\n",
       "    <tr>\n",
       "      <th>1</th>\n",
       "      <td>608</td>\n",
       "      <td>41</td>\n",
       "      <td>1</td>\n",
       "      <td>83807.86</td>\n",
       "      <td>1</td>\n",
       "      <td>0</td>\n",
       "      <td>1</td>\n",
       "      <td>112542.58</td>\n",
       "      <td>0</td>\n",
       "      <td>0</td>\n",
       "      <td>1</td>\n",
       "      <td>0</td>\n",
       "    </tr>\n",
       "    <tr>\n",
       "      <th>2</th>\n",
       "      <td>502</td>\n",
       "      <td>42</td>\n",
       "      <td>8</td>\n",
       "      <td>159660.80</td>\n",
       "      <td>3</td>\n",
       "      <td>1</td>\n",
       "      <td>0</td>\n",
       "      <td>113931.57</td>\n",
       "      <td>1</td>\n",
       "      <td>0</td>\n",
       "      <td>0</td>\n",
       "      <td>0</td>\n",
       "    </tr>\n",
       "    <tr>\n",
       "      <th>3</th>\n",
       "      <td>699</td>\n",
       "      <td>39</td>\n",
       "      <td>1</td>\n",
       "      <td>0.00</td>\n",
       "      <td>2</td>\n",
       "      <td>0</td>\n",
       "      <td>0</td>\n",
       "      <td>93826.63</td>\n",
       "      <td>0</td>\n",
       "      <td>0</td>\n",
       "      <td>0</td>\n",
       "      <td>0</td>\n",
       "    </tr>\n",
       "    <tr>\n",
       "      <th>4</th>\n",
       "      <td>850</td>\n",
       "      <td>43</td>\n",
       "      <td>2</td>\n",
       "      <td>125510.82</td>\n",
       "      <td>1</td>\n",
       "      <td>1</td>\n",
       "      <td>1</td>\n",
       "      <td>79084.10</td>\n",
       "      <td>0</td>\n",
       "      <td>0</td>\n",
       "      <td>1</td>\n",
       "      <td>0</td>\n",
       "    </tr>\n",
       "  </tbody>\n",
       "</table>\n",
       "</div>"
      ],
      "text/plain": [
       "   CreditScore  Age  Tenure    Balance  NumOfProducts  HasCrCard  \\\n",
       "0          619   42       2       0.00              1          1   \n",
       "1          608   41       1   83807.86              1          0   \n",
       "2          502   42       8  159660.80              3          1   \n",
       "3          699   39       1       0.00              2          0   \n",
       "4          850   43       2  125510.82              1          1   \n",
       "\n",
       "   IsActiveMember  EstimatedSalary  Exited  Geography_Germany  \\\n",
       "0               1        101348.88       1                  0   \n",
       "1               1        112542.58       0                  0   \n",
       "2               0        113931.57       1                  0   \n",
       "3               0         93826.63       0                  0   \n",
       "4               1         79084.10       0                  0   \n",
       "\n",
       "   Geography_Spain  Gender_Male  \n",
       "0                0            0  \n",
       "1                1            0  \n",
       "2                0            0  \n",
       "3                0            0  \n",
       "4                1            0  "
      ]
     },
     "execution_count": 14,
     "metadata": {},
     "output_type": "execute_result"
    }
   ],
   "source": [
    "data_ohe = pd.get_dummies(data, drop_first=True) # избегаем дамми-ловушки, сбрасывая первую колонку\n",
    "data_ohe.head()"
   ]
  },
  {
   "cell_type": "code",
   "execution_count": 15,
   "metadata": {},
   "outputs": [
    {
     "data": {
      "text/plain": [
       "0"
      ]
     },
     "execution_count": 15,
     "metadata": {},
     "output_type": "execute_result"
    }
   ],
   "source": [
    "data.duplicated().sum()"
   ]
  },
  {
   "cell_type": "markdown",
   "metadata": {},
   "source": [
    "### Вывод\n",
    "\n",
    "* Данные были загружены и разобраны;\n",
    "* Пропуски были обработаны и приведен подходящий тип данных в колонке `'Tenure'`;\n",
    "* Удалены ненужные колонки (`'RowNumber', 'CustomerId', 'Surname'`) для поставленной задачи целевого признака;\n",
    "* Применили технику прямого кодирования для использования моделей решений. Колонка `'Geography'` была разделена на две категории (`'Geography_Germany, Geography_Spain'`), третью можно восстановить по этим двум. Так мы не попадаем на **дамми-ловушку**\n",
    "* Проверили на наличие дубликатов"
   ]
  },
  {
   "cell_type": "markdown",
   "metadata": {},
   "source": [
    "## Исследование задачи\n",
    "\n",
    "Разделяем данные на признаки и целевой признак, затем разделяем выборки на обучающую, валидационную и тестовую"
   ]
  },
  {
   "cell_type": "code",
   "execution_count": 16,
   "metadata": {},
   "outputs": [
    {
     "data": {
      "text/html": [
       "<div>\n",
       "<style scoped>\n",
       "    .dataframe tbody tr th:only-of-type {\n",
       "        vertical-align: middle;\n",
       "    }\n",
       "\n",
       "    .dataframe tbody tr th {\n",
       "        vertical-align: top;\n",
       "    }\n",
       "\n",
       "    .dataframe thead th {\n",
       "        text-align: right;\n",
       "    }\n",
       "</style>\n",
       "<table border=\"1\" class=\"dataframe\">\n",
       "  <thead>\n",
       "    <tr style=\"text-align: right;\">\n",
       "      <th></th>\n",
       "      <th>CreditScore</th>\n",
       "      <th>Age</th>\n",
       "      <th>Tenure</th>\n",
       "      <th>Balance</th>\n",
       "      <th>NumOfProducts</th>\n",
       "      <th>HasCrCard</th>\n",
       "      <th>IsActiveMember</th>\n",
       "      <th>EstimatedSalary</th>\n",
       "      <th>Exited</th>\n",
       "      <th>Geography_Germany</th>\n",
       "      <th>Geography_Spain</th>\n",
       "      <th>Gender_Male</th>\n",
       "    </tr>\n",
       "  </thead>\n",
       "  <tbody>\n",
       "    <tr>\n",
       "      <th>0</th>\n",
       "      <td>619</td>\n",
       "      <td>42</td>\n",
       "      <td>2</td>\n",
       "      <td>0.00</td>\n",
       "      <td>1</td>\n",
       "      <td>1</td>\n",
       "      <td>1</td>\n",
       "      <td>101348.88</td>\n",
       "      <td>1</td>\n",
       "      <td>0</td>\n",
       "      <td>0</td>\n",
       "      <td>0</td>\n",
       "    </tr>\n",
       "    <tr>\n",
       "      <th>1</th>\n",
       "      <td>608</td>\n",
       "      <td>41</td>\n",
       "      <td>1</td>\n",
       "      <td>83807.86</td>\n",
       "      <td>1</td>\n",
       "      <td>0</td>\n",
       "      <td>1</td>\n",
       "      <td>112542.58</td>\n",
       "      <td>0</td>\n",
       "      <td>0</td>\n",
       "      <td>1</td>\n",
       "      <td>0</td>\n",
       "    </tr>\n",
       "    <tr>\n",
       "      <th>2</th>\n",
       "      <td>502</td>\n",
       "      <td>42</td>\n",
       "      <td>8</td>\n",
       "      <td>159660.80</td>\n",
       "      <td>3</td>\n",
       "      <td>1</td>\n",
       "      <td>0</td>\n",
       "      <td>113931.57</td>\n",
       "      <td>1</td>\n",
       "      <td>0</td>\n",
       "      <td>0</td>\n",
       "      <td>0</td>\n",
       "    </tr>\n",
       "    <tr>\n",
       "      <th>3</th>\n",
       "      <td>699</td>\n",
       "      <td>39</td>\n",
       "      <td>1</td>\n",
       "      <td>0.00</td>\n",
       "      <td>2</td>\n",
       "      <td>0</td>\n",
       "      <td>0</td>\n",
       "      <td>93826.63</td>\n",
       "      <td>0</td>\n",
       "      <td>0</td>\n",
       "      <td>0</td>\n",
       "      <td>0</td>\n",
       "    </tr>\n",
       "    <tr>\n",
       "      <th>4</th>\n",
       "      <td>850</td>\n",
       "      <td>43</td>\n",
       "      <td>2</td>\n",
       "      <td>125510.82</td>\n",
       "      <td>1</td>\n",
       "      <td>1</td>\n",
       "      <td>1</td>\n",
       "      <td>79084.10</td>\n",
       "      <td>0</td>\n",
       "      <td>0</td>\n",
       "      <td>1</td>\n",
       "      <td>0</td>\n",
       "    </tr>\n",
       "  </tbody>\n",
       "</table>\n",
       "</div>"
      ],
      "text/plain": [
       "   CreditScore  Age  Tenure    Balance  NumOfProducts  HasCrCard  \\\n",
       "0          619   42       2       0.00              1          1   \n",
       "1          608   41       1   83807.86              1          0   \n",
       "2          502   42       8  159660.80              3          1   \n",
       "3          699   39       1       0.00              2          0   \n",
       "4          850   43       2  125510.82              1          1   \n",
       "\n",
       "   IsActiveMember  EstimatedSalary  Exited  Geography_Germany  \\\n",
       "0               1        101348.88       1                  0   \n",
       "1               1        112542.58       0                  0   \n",
       "2               0        113931.57       1                  0   \n",
       "3               0         93826.63       0                  0   \n",
       "4               1         79084.10       0                  0   \n",
       "\n",
       "   Geography_Spain  Gender_Male  \n",
       "0                0            0  \n",
       "1                1            0  \n",
       "2                0            0  \n",
       "3                0            0  \n",
       "4                1            0  "
      ]
     },
     "execution_count": 16,
     "metadata": {},
     "output_type": "execute_result"
    }
   ],
   "source": [
    "data_ohe.head()"
   ]
  },
  {
   "cell_type": "code",
   "execution_count": 17,
   "metadata": {},
   "outputs": [],
   "source": [
    "features = data_ohe.drop(['Exited'], axis=1) # признаки\n",
    "target = data_ohe['Exited']"
   ]
  },
  {
   "cell_type": "code",
   "execution_count": 18,
   "metadata": {},
   "outputs": [
    {
     "name": "stdout",
     "output_type": "stream",
     "text": [
      "Train: (6000, 11), (6000,)\n",
      "Valid: (2000, 11), (2000,)\n",
      "Test: (2000, 11), (2000,)\n"
     ]
    }
   ],
   "source": [
    "data_train, sample_for_valid_test = train_test_split(data_ohe, test_size=0.4, random_state=12345)\n",
    "data_valid, data_test = train_test_split(sample_for_valid_test, test_size=0.5, random_state=12345)\n",
    "\n",
    "features_train = data_train.drop(['Exited'], axis=1) # сохраняем признаки для обучающей выборки \n",
    "target_train = data_train['Exited'] # сохраняем целевой признак для обучающей выборки \n",
    "\n",
    "features_valid = data_valid.drop(['Exited'], axis=1) # для валидационной \n",
    "target_valid = data_valid['Exited']\n",
    "\n",
    "features_test = data_test.drop(['Exited'], axis=1) # для тестовой\n",
    "target_test = data_test['Exited']\n",
    "\n",
    "print(f'Train: {features_train.shape}, {target_train.shape}')\n",
    "print(f'Valid: {features_valid.shape}, {target_valid.shape}')\n",
    "print(f'Test: {features_test.shape}, {target_test.shape}')"
   ]
  },
  {
   "cell_type": "code",
   "execution_count": 19,
   "metadata": {},
   "outputs": [
    {
     "data": {
      "text/html": [
       "<div>\n",
       "<style scoped>\n",
       "    .dataframe tbody tr th:only-of-type {\n",
       "        vertical-align: middle;\n",
       "    }\n",
       "\n",
       "    .dataframe tbody tr th {\n",
       "        vertical-align: top;\n",
       "    }\n",
       "\n",
       "    .dataframe thead th {\n",
       "        text-align: right;\n",
       "    }\n",
       "</style>\n",
       "<table border=\"1\" class=\"dataframe\">\n",
       "  <thead>\n",
       "    <tr style=\"text-align: right;\">\n",
       "      <th></th>\n",
       "      <th>CreditScore</th>\n",
       "      <th>Age</th>\n",
       "      <th>Tenure</th>\n",
       "      <th>Balance</th>\n",
       "      <th>NumOfProducts</th>\n",
       "      <th>HasCrCard</th>\n",
       "      <th>IsActiveMember</th>\n",
       "      <th>EstimatedSalary</th>\n",
       "      <th>Geography_Germany</th>\n",
       "      <th>Geography_Spain</th>\n",
       "      <th>Gender_Male</th>\n",
       "    </tr>\n",
       "  </thead>\n",
       "  <tbody>\n",
       "    <tr>\n",
       "      <th>7041</th>\n",
       "      <td>438</td>\n",
       "      <td>38</td>\n",
       "      <td>2</td>\n",
       "      <td>0.00</td>\n",
       "      <td>2</td>\n",
       "      <td>1</td>\n",
       "      <td>0</td>\n",
       "      <td>136859.55</td>\n",
       "      <td>0</td>\n",
       "      <td>0</td>\n",
       "      <td>1</td>\n",
       "    </tr>\n",
       "    <tr>\n",
       "      <th>5709</th>\n",
       "      <td>644</td>\n",
       "      <td>39</td>\n",
       "      <td>9</td>\n",
       "      <td>0.00</td>\n",
       "      <td>1</td>\n",
       "      <td>1</td>\n",
       "      <td>0</td>\n",
       "      <td>3740.93</td>\n",
       "      <td>0</td>\n",
       "      <td>0</td>\n",
       "      <td>0</td>\n",
       "    </tr>\n",
       "    <tr>\n",
       "      <th>7117</th>\n",
       "      <td>564</td>\n",
       "      <td>31</td>\n",
       "      <td>5</td>\n",
       "      <td>121461.87</td>\n",
       "      <td>1</td>\n",
       "      <td>1</td>\n",
       "      <td>1</td>\n",
       "      <td>20432.09</td>\n",
       "      <td>0</td>\n",
       "      <td>1</td>\n",
       "      <td>1</td>\n",
       "    </tr>\n",
       "    <tr>\n",
       "      <th>7775</th>\n",
       "      <td>628</td>\n",
       "      <td>40</td>\n",
       "      <td>10</td>\n",
       "      <td>0.00</td>\n",
       "      <td>2</td>\n",
       "      <td>1</td>\n",
       "      <td>0</td>\n",
       "      <td>103832.58</td>\n",
       "      <td>0</td>\n",
       "      <td>1</td>\n",
       "      <td>1</td>\n",
       "    </tr>\n",
       "    <tr>\n",
       "      <th>8735</th>\n",
       "      <td>728</td>\n",
       "      <td>30</td>\n",
       "      <td>10</td>\n",
       "      <td>114835.43</td>\n",
       "      <td>1</td>\n",
       "      <td>0</td>\n",
       "      <td>1</td>\n",
       "      <td>37662.49</td>\n",
       "      <td>0</td>\n",
       "      <td>0</td>\n",
       "      <td>1</td>\n",
       "    </tr>\n",
       "  </tbody>\n",
       "</table>\n",
       "</div>"
      ],
      "text/plain": [
       "      CreditScore  Age  Tenure    Balance  NumOfProducts  HasCrCard  \\\n",
       "7041          438   38       2       0.00              2          1   \n",
       "5709          644   39       9       0.00              1          1   \n",
       "7117          564   31       5  121461.87              1          1   \n",
       "7775          628   40      10       0.00              2          1   \n",
       "8735          728   30      10  114835.43              1          0   \n",
       "\n",
       "      IsActiveMember  EstimatedSalary  Geography_Germany  Geography_Spain  \\\n",
       "7041               0        136859.55                  0                0   \n",
       "5709               0          3740.93                  0                0   \n",
       "7117               1         20432.09                  0                1   \n",
       "7775               0        103832.58                  0                1   \n",
       "8735               1         37662.49                  0                0   \n",
       "\n",
       "      Gender_Male  \n",
       "7041            1  \n",
       "5709            0  \n",
       "7117            1  \n",
       "7775            1  \n",
       "8735            1  "
      ]
     },
     "execution_count": 19,
     "metadata": {},
     "output_type": "execute_result"
    }
   ],
   "source": [
    "features_test.head()"
   ]
  },
  {
   "cell_type": "markdown",
   "metadata": {},
   "source": [
    "* Теперь, чтобы алгоритм не решил, что что-то важнее из-за разброса чисел, масштабируем данные путем стандартизации данных **StandardScaler():**"
   ]
  },
  {
   "cell_type": "code",
   "execution_count": 20,
   "metadata": {},
   "outputs": [
    {
     "data": {
      "text/html": [
       "<div>\n",
       "<style scoped>\n",
       "    .dataframe tbody tr th:only-of-type {\n",
       "        vertical-align: middle;\n",
       "    }\n",
       "\n",
       "    .dataframe tbody tr th {\n",
       "        vertical-align: top;\n",
       "    }\n",
       "\n",
       "    .dataframe thead th {\n",
       "        text-align: right;\n",
       "    }\n",
       "</style>\n",
       "<table border=\"1\" class=\"dataframe\">\n",
       "  <thead>\n",
       "    <tr style=\"text-align: right;\">\n",
       "      <th></th>\n",
       "      <th>CreditScore</th>\n",
       "      <th>Age</th>\n",
       "      <th>Tenure</th>\n",
       "      <th>Balance</th>\n",
       "      <th>NumOfProducts</th>\n",
       "      <th>HasCrCard</th>\n",
       "      <th>IsActiveMember</th>\n",
       "      <th>EstimatedSalary</th>\n",
       "      <th>Geography_Germany</th>\n",
       "      <th>Geography_Spain</th>\n",
       "      <th>Gender_Male</th>\n",
       "    </tr>\n",
       "  </thead>\n",
       "  <tbody>\n",
       "    <tr>\n",
       "      <th>7041</th>\n",
       "      <td>-2.226392</td>\n",
       "      <td>-0.088482</td>\n",
       "      <td>-0.760164</td>\n",
       "      <td>-1.233163</td>\n",
       "      <td>0.830152</td>\n",
       "      <td>1</td>\n",
       "      <td>0</td>\n",
       "      <td>0.647083</td>\n",
       "      <td>0</td>\n",
       "      <td>0</td>\n",
       "      <td>1</td>\n",
       "    </tr>\n",
       "    <tr>\n",
       "      <th>5709</th>\n",
       "      <td>-0.087120</td>\n",
       "      <td>0.006422</td>\n",
       "      <td>1.390954</td>\n",
       "      <td>-1.233163</td>\n",
       "      <td>-0.891560</td>\n",
       "      <td>1</td>\n",
       "      <td>0</td>\n",
       "      <td>-1.658410</td>\n",
       "      <td>0</td>\n",
       "      <td>0</td>\n",
       "      <td>0</td>\n",
       "    </tr>\n",
       "    <tr>\n",
       "      <th>7117</th>\n",
       "      <td>-0.917905</td>\n",
       "      <td>-0.752805</td>\n",
       "      <td>0.161744</td>\n",
       "      <td>0.722307</td>\n",
       "      <td>-0.891560</td>\n",
       "      <td>1</td>\n",
       "      <td>1</td>\n",
       "      <td>-1.369334</td>\n",
       "      <td>0</td>\n",
       "      <td>1</td>\n",
       "      <td>1</td>\n",
       "    </tr>\n",
       "    <tr>\n",
       "      <th>7775</th>\n",
       "      <td>-0.253277</td>\n",
       "      <td>0.101325</td>\n",
       "      <td>1.698257</td>\n",
       "      <td>-1.233163</td>\n",
       "      <td>0.830152</td>\n",
       "      <td>1</td>\n",
       "      <td>0</td>\n",
       "      <td>0.075086</td>\n",
       "      <td>0</td>\n",
       "      <td>1</td>\n",
       "      <td>1</td>\n",
       "    </tr>\n",
       "    <tr>\n",
       "      <th>8735</th>\n",
       "      <td>0.785204</td>\n",
       "      <td>-0.847708</td>\n",
       "      <td>1.698257</td>\n",
       "      <td>0.615625</td>\n",
       "      <td>-0.891560</td>\n",
       "      <td>0</td>\n",
       "      <td>1</td>\n",
       "      <td>-1.070919</td>\n",
       "      <td>0</td>\n",
       "      <td>0</td>\n",
       "      <td>1</td>\n",
       "    </tr>\n",
       "  </tbody>\n",
       "</table>\n",
       "</div>"
      ],
      "text/plain": [
       "      CreditScore       Age    Tenure   Balance  NumOfProducts  HasCrCard  \\\n",
       "7041    -2.226392 -0.088482 -0.760164 -1.233163       0.830152          1   \n",
       "5709    -0.087120  0.006422  1.390954 -1.233163      -0.891560          1   \n",
       "7117    -0.917905 -0.752805  0.161744  0.722307      -0.891560          1   \n",
       "7775    -0.253277  0.101325  1.698257 -1.233163       0.830152          1   \n",
       "8735     0.785204 -0.847708  1.698257  0.615625      -0.891560          0   \n",
       "\n",
       "      IsActiveMember  EstimatedSalary  Geography_Germany  Geography_Spain  \\\n",
       "7041               0         0.647083                  0                0   \n",
       "5709               0        -1.658410                  0                0   \n",
       "7117               1        -1.369334                  0                1   \n",
       "7775               0         0.075086                  0                1   \n",
       "8735               1        -1.070919                  0                0   \n",
       "\n",
       "      Gender_Male  \n",
       "7041            1  \n",
       "5709            0  \n",
       "7117            1  \n",
       "7775            1  \n",
       "8735            1  "
      ]
     },
     "execution_count": 20,
     "metadata": {},
     "output_type": "execute_result"
    }
   ],
   "source": [
    "numeric = ['CreditScore', 'Age', 'Tenure', 'Balance', 'EstimatedSalary', 'NumOfProducts'] # выделяем количественные \n",
    "                                                                    # колонки для масштабирования\n",
    "scaler = StandardScaler()\n",
    "\n",
    "scaler.fit(features_train[numeric])\n",
    "\n",
    "features_train[numeric] = scaler.transform(features_train[numeric])\n",
    "features_valid[numeric] = scaler.transform(features_valid[numeric])\n",
    "features_test[numeric] = scaler.transform(features_test[numeric])\n",
    "\n",
    "#features_train.head()\n",
    "#features_valid.head()\n",
    "features_test.head()"
   ]
  },
  {
   "cell_type": "markdown",
   "metadata": {},
   "source": [
    "### Исследуем баланс классов, обучим модель без учёта дисбаланса\n",
    "\n",
    "Для этого создадим функции для трех моделей\n",
    "\n",
    "* Модель Рещающее Дерево **DecisionTreeClassifier()**"
   ]
  },
  {
   "cell_type": "code",
   "execution_count": 21,
   "metadata": {},
   "outputs": [
    {
     "name": "stdout",
     "output_type": "stream",
     "text": [
      "Лучшая точность (accuracy) модели Решающего дерева: 0.8605\n",
      "Лучшие параметры метрики accuracy_score: max_depth = 6, min_samples_split = 5, min_samples_leaf = 2, criterion = gini\n",
      "\n",
      "Лучшее значение метрики f1 модели Решающего дерева: 0.577\n",
      "Лучшие параметры метрики f1: max_depth = 6, min_samples_split = 6, min_samples_leaf = 2, criterion = gini\n",
      "\n",
      "Лучшее значение AUC-ROC модели Решающего дерева: 0.713\n",
      "Лучшие параметры метрики AUC-ROC: max_depth = 9, min_samples_split = 7, min_samples_leaf = 2, criterion = gini\n",
      "\n",
      "Относительные частоты модели Решающего Дерева для проверки баланса:\n",
      "0    0.8595\n",
      "1    0.1405\n",
      "dtype: float64\n",
      "\n",
      "Матрица ошибок для выявления баланса в модели Решающего Дерева:\n"
     ]
    },
    {
     "data": {
      "text/plain": [
       "array([[1495,   87],\n",
       "       [ 224,  194]])"
      ]
     },
     "metadata": {},
     "output_type": "display_data"
    }
   ],
   "source": [
    "def func_dtc(features_train, features_valid, target_train, target_valid): # берем за аргументы выборки \n",
    "    best_parameters_acc = [] # включаем список гиперпараметров данной модели\n",
    "    best_acc = 0 # берем как сравнение для выявления лучшей метрики accuracy\n",
    "    best_parameters_f1 = [] \n",
    "    best_f1 = 0\n",
    "    best_parameters_auc_roc = []\n",
    "    best_auc = 0.5 # случайной модели\n",
    "    \n",
    "    for max_depth in range(2, 10): # создаем цикл, который перебирает максимальную глубокость дерева в данном рэндже для модели\n",
    "        for min_samples_split in range(2, 8): \n",
    "            for min_samples_leaf in range(1, 10): \n",
    "                for criterion in ['gini', 'entropy']: # перебирает критерии \n",
    "                    model = DecisionTreeClassifier(random_state=12345, max_depth=max_depth, # задаем гиперпараметры\n",
    "                                                   min_samples_split=min_samples_split,\n",
    "                                                   min_samples_leaf=min_samples_leaf, criterion=criterion)\n",
    "                    model.fit(features_train, target_train) # обучаем модель \n",
    "                    predicted = model.predict(features_valid)\n",
    "                    \n",
    "                    class_frequency = pd.Series(model.predict(features_valid)).value_counts(normalize=True) # заводим переменную чистоты для подсчета относительных частот \n",
    "                                                                                                            # Переводим таблицу в тип Series, чтобы смогла value_counts() выявить классы\n",
    "                    cm = confusion_matrix(target_valid, predicted) # выводим матрицу ошибок для проверки баланса\n",
    "                    \n",
    "                    acc = accuracy_score(target_valid, predicted) # считаем метрику\n",
    "                    if acc > best_acc:\n",
    "                        best_acc = acc\n",
    "                        best_parameters_acc = [max_depth, min_samples_split, min_samples_leaf, criterion]\n",
    "                        \n",
    "                    f1 = f1_score(target_valid, predicted)\n",
    "                    if f1 > best_f1:\n",
    "                        best_f1 = f1\n",
    "                        best_parameters_f1 = [max_depth, min_samples_split, min_samples_leaf, criterion]\n",
    "                \n",
    "                    auc = roc_auc_score(target_valid, predicted)\n",
    "                    if auc > best_auc:\n",
    "                        best_auc = auc\n",
    "                        best_parameters_auc_roc = [max_depth, min_samples_split, min_samples_leaf, criterion]\n",
    "    print(f'Лучшая точность (accuracy) модели Решающего дерева: {best_acc}')\n",
    "    print(f'Лучшие параметры метрики accuracy_score: max_depth = {best_parameters_acc[0]}, min_samples_split = {best_parameters_acc[1]}, min_samples_leaf = {best_parameters_acc[2]}, criterion = {best_parameters_acc[3]}')\n",
    "    print()\n",
    "    print(f'Лучшее значение метрики f1 модели Решающего дерева: {round(best_f1, 3)}')\n",
    "    print(f'Лучшие параметры метрики f1: max_depth = {best_parameters_f1[0]}, min_samples_split = {best_parameters_f1[1]}, min_samples_leaf = {best_parameters_f1[2]}, criterion = {best_parameters_f1[3]}')\n",
    "    print()\n",
    "    print(f'Лучшее значение AUC-ROC модели Решающего дерева: {round(best_auc, 3)}')\n",
    "    print(f'Лучшие параметры метрики AUC-ROC: max_depth = {best_parameters_auc_roc[0]}, min_samples_split = {best_parameters_auc_roc[1]}, min_samples_leaf = {best_parameters_auc_roc[2]}, criterion = {best_parameters_auc_roc[3]}')\n",
    "    print()\n",
    "    print('Относительные частоты модели Решающего Дерева для проверки баланса:')\n",
    "    print(class_frequency)\n",
    "    print()\n",
    "    print('Матрица ошибок для выявления баланса в модели Решающего Дерева:')\n",
    "    display(cm)\n",
    "    \n",
    "func_dtc(features_train, features_valid, target_train, target_valid)"
   ]
  },
  {
   "cell_type": "markdown",
   "metadata": {},
   "source": [
    "* Модель Случайный Лес **RandomForestClassifier()**"
   ]
  },
  {
   "cell_type": "code",
   "execution_count": 22,
   "metadata": {},
   "outputs": [
    {
     "name": "stdout",
     "output_type": "stream",
     "text": [
      "Лучшая точность (accuracy) модели Случайного Леса: 0.8655\n",
      "Лучшие параметры метрики accuracy_score: n_estimators = 33, max_depth = 8, min_samples_split = 2, min_samples_leaf = 1, criterion = gini\n",
      "\n",
      "Лучшее значение метрики f1 модели Случайного Леса: 0.593\n",
      "Лучшие параметры метрики f1: n_estimators = 35, max_depth = 14, min_samples_split = 2, min_samples_leaf = 1, criterion = gini\n",
      "\n",
      "Лучшее значение AUC-ROC модели Случайного Леса: 0.722\n",
      "Лучшие параметры метрики AUC-ROC: n_estimators = 35, max_depth = 14, min_samples_split = 2, min_samples_leaf = 1, criterion = gini\n",
      "\n",
      "Относительные частоты модели Случайного Леса для проверки баланса:\n",
      "0    0.882\n",
      "1    0.118\n",
      "dtype: float64\n",
      "\n",
      "Матрица ошибок для выявления баланса в модели Случайного Леса:\n"
     ]
    },
    {
     "data": {
      "text/plain": [
       "array([[1538,   44],\n",
       "       [ 226,  192]])"
      ]
     },
     "metadata": {},
     "output_type": "display_data"
    }
   ],
   "source": [
    "def func_rfc(features_train, features_valid, target_train, target_valid):\n",
    "    \n",
    "    best_parameters_acc = [] \n",
    "    best_acc = 0 \n",
    "    best_parameters_f1 = [] \n",
    "    best_f1 = 0\n",
    "    best_parameters_auc_roc = []\n",
    "    best_auc = 0.5 \n",
    "    \n",
    "    for n_estimators in range(30, 40): # перебирает кол-во деревьев\n",
    "        for max_depth in range(8, 16, 2): # создаем цикл, который перебирает максимальную глубокость дерева в данном рэндже для модели (делаем шаг в 2, т.к ну загружал вообще)\n",
    "            for min_samples_split in range(2, 4): \n",
    "                for min_samples_leaf in range(1, 4): \n",
    "                    for criterion in ['gini', 'entropy']: \n",
    "                        model = RandomForestClassifier(random_state=12345, n_estimators=n_estimators,\n",
    "                                                       max_depth=max_depth, \n",
    "                                                       min_samples_split=min_samples_split,\n",
    "                                                       min_samples_leaf=min_samples_leaf, criterion=criterion)\n",
    "                        model.fit(features_train, target_train) \n",
    "                        predicted = model.predict(features_valid)\n",
    "                        \n",
    "                        class_frequency = pd.Series(model.predict(features_valid)).value_counts(normalize=True)\n",
    "                        \n",
    "                        cm = confusion_matrix(target_valid, predicted)\n",
    "                        \n",
    "                        acc = accuracy_score(target_valid, predicted) \n",
    "                        if acc > best_acc:\n",
    "                            best_acc = acc\n",
    "                            best_parameters_acc = [n_estimators, max_depth, min_samples_split, \n",
    "                                                   min_samples_leaf, criterion]\n",
    "                    \n",
    "                        f1 = f1_score(target_valid, predicted)\n",
    "                        if f1 > best_f1:\n",
    "                            best_f1 = f1\n",
    "                            best_parameters_f1 = [n_estimators, max_depth, min_samples_split, \n",
    "                                                  min_samples_leaf, criterion]\n",
    "                \n",
    "                        auc = roc_auc_score(target_valid, predicted)\n",
    "                        if auc > best_auc:\n",
    "                            best_auc = auc\n",
    "                            best_parameters_auc_roc = [n_estimators, max_depth, min_samples_split, \n",
    "                                                       min_samples_leaf, criterion]\n",
    "    print(f'Лучшая точность (accuracy) модели Случайного Леса: {best_acc}')\n",
    "    print(f'Лучшие параметры метрики accuracy_score: n_estimators = {best_parameters_acc[0]}, max_depth = {best_parameters_acc[1]}, min_samples_split = {best_parameters_acc[2]}, min_samples_leaf = {best_parameters_acc[3]}, criterion = {best_parameters_acc[4]}')\n",
    "    print()\n",
    "    print(f'Лучшее значение метрики f1 модели Случайного Леса: {round(best_f1, 3)}')\n",
    "    print(f'Лучшие параметры метрики f1: n_estimators = {best_parameters_f1[0]}, max_depth = {best_parameters_f1[1]}, min_samples_split = {best_parameters_f1[2]}, min_samples_leaf = {best_parameters_f1[3]}, criterion = {best_parameters_f1[4]}')\n",
    "    print()\n",
    "    print(f'Лучшее значение AUC-ROC модели Случайного Леса: {round(best_auc, 3)}')\n",
    "    print(f'Лучшие параметры метрики AUC-ROC: n_estimators = {best_parameters_auc_roc[0]}, max_depth = {best_parameters_auc_roc[1]}, min_samples_split = {best_parameters_auc_roc[2]}, min_samples_leaf = {best_parameters_auc_roc[3]}, criterion = {best_parameters_auc_roc[4]}')\n",
    "    print()\n",
    "    print('Относительные частоты модели Случайного Леса для проверки баланса:')\n",
    "    print(class_frequency)\n",
    "    print()\n",
    "    print('Матрица ошибок для выявления баланса в модели Случайного Леса:')\n",
    "    display(cm)\n",
    "    \n",
    "func_rfc(features_train, features_valid, target_train, target_valid)    "
   ]
  },
  {
   "cell_type": "markdown",
   "metadata": {},
   "source": [
    "* Модель Логистическая Регрессия **LogisticRegression()** \n",
    "\n",
    "(здесь не задаем функцию, а перебираем цикл с максимальными итерациями, и задаем гипермараметр псевдослучайности и алгоритм решения - линейный)"
   ]
  },
  {
   "cell_type": "code",
   "execution_count": 23,
   "metadata": {},
   "outputs": [
    {
     "name": "stderr",
     "output_type": "stream",
     "text": [
      "/opt/conda/lib/python3.9/site-packages/sklearn/svm/_base.py:985: ConvergenceWarning: Liblinear failed to converge, increase the number of iterations.\n",
      "  warnings.warn(\"Liblinear failed to converge, increase \"\n"
     ]
    },
    {
     "name": "stdout",
     "output_type": "stream",
     "text": [
      "Лучшая точность (accuracy) модели Логистической Регрессии: 0.8025\n",
      "Лучшее кол-во итераций обучения (max_iter) модели: 11\n",
      "\n",
      "Лучшее значение метрики f1 модели Логистической Регрессии: 0.334\n",
      "Лучшее кол-во итераций обучения (max_iter) метрики f1: 11\n",
      "\n",
      "Лучшее значение AUC-ROC модели Логистической Регрессии: 0.759\n",
      "Лучшее кол-во итераций метрики AUC-ROC: 11\n",
      "\n",
      "Относительные частоты модели Логистической Регрессии для проверки баланса:\n",
      "0    0.9125\n",
      "1    0.0875\n",
      "dtype: float64\n",
      "\n",
      "Матрица ошибок для выявления баланса в модели Логистической Регрессии:\n"
     ]
    },
    {
     "data": {
      "text/plain": [
       "array([[1506,   76],\n",
       "       [ 319,   99]])"
      ]
     },
     "metadata": {},
     "output_type": "display_data"
    },
    {
     "name": "stdout",
     "output_type": "stream",
     "text": [
      "\n",
      "0    0.923167\n",
      "1    0.076833\n",
      "dtype: float64\n"
     ]
    }
   ],
   "source": [
    "best_max_iter = 0\n",
    "best_accuracy = 0 \n",
    "best_f1 = 0\n",
    "best_auc = 0.5\n",
    "\n",
    "for max_iter in range(1, 1001, 10):\n",
    "    model_lr = LogisticRegression(random_state=12345, solver='liblinear', max_iter=max_iter)\n",
    "    model_lr.fit(features_train, target_train)\n",
    "    predicted_lr = model_lr.predict(features_valid)\n",
    "    \n",
    "    class_frequency_lr = pd.Series(model_lr.predict(features_valid)).value_counts(normalize=True)\n",
    "    class_frequency_lr_train = pd.Series(model_lr.predict(features_train)).value_counts(normalize=True)\n",
    "    \n",
    "    cm_lr = confusion_matrix(target_valid, predicted_lr)\n",
    "    \n",
    "    acc = accuracy_score(target_valid, predicted_lr)\n",
    "    if acc > best_accuracy:\n",
    "        best_accuracy = acc\n",
    "        best_max_iter = max_iter\n",
    "        \n",
    "    f1 = f1_score(target_valid, predicted_lr)\n",
    "    if f1 > best_f1:\n",
    "        best_f1 = f1\n",
    "        best_max_iter = max_iter\n",
    "        \n",
    "    probabilities_valid = model_lr.predict_proba(features_valid) # так как метрика auc_roc принимает не предсказания, \n",
    "                                            # а вероятности класса \"1\" в Логистической Регрессии, \n",
    "                                            # то тут считается вероятности класса методом predict_proba()\n",
    "    probabilities_one_valid = probabilities_valid[:, 1]\n",
    "    auc = roc_auc_score(target_valid, probabilities_one_valid)\n",
    "    if auc > best_auc:\n",
    "        best_auc = auc\n",
    "        best_max_iter = max_iter\n",
    "    \n",
    "print(f'Лучшая точность (accuracy) модели Логистической Регрессии: {best_accuracy}')\n",
    "print('Лучшее кол-во итераций обучения (max_iter) модели', best_max_iter, sep=': ')\n",
    "print()\n",
    "print(f'Лучшее значение метрики f1 модели Логистической Регрессии: {round(best_f1, 3)}')\n",
    "print('Лучшее кол-во итераций обучения (max_iter) метрики f1', best_max_iter, sep=': ')\n",
    "print()\n",
    "print(f'Лучшее значение AUC-ROC модели Логистической Регрессии: {round(best_auc, 3)}')\n",
    "print(f'Лучшее кол-во итераций метрики AUC-ROC', best_max_iter, sep=': ')\n",
    "print()\n",
    "print('Относительные частоты модели Логистической Регрессии для проверки баланса:')\n",
    "print(class_frequency_lr)\n",
    "print()\n",
    "print('Матрица ошибок для выявления баланса в модели Логистической Регрессии:')\n",
    "display(cm_lr)\n",
    "print()\n",
    "print(class_frequency_lr_train)"
   ]
  },
  {
   "cell_type": "markdown",
   "metadata": {},
   "source": [
    "* Построим **ROC-кривую** для Логистической Регрессии (она поможет выявить подходящее соотношение TPR и FPR для поставленной задачи)"
   ]
  },
  {
   "cell_type": "code",
   "execution_count": 24,
   "metadata": {},
   "outputs": [
    {
     "data": {
      "image/png": "[encoded data removed]",
      "text/plain": [
       "<Figure size 432x288 with 1 Axes>"
      ]
     },
     "metadata": {
      "needs_background": "light"
     },
     "output_type": "display_data"
    }
   ],
   "source": [
    "model_lr_curve = LogisticRegression(random_state=12345, solver='liblinear')\n",
    "model_lr_curve.fit(features_train, target_train)\n",
    "probabilities_valid = model_lr_curve.predict_proba(features_valid)\n",
    "probabilities_one_valid_curve = probabilities_valid[:, 1]\n",
    "\n",
    "fpr, tpr, thresholds = roc_curve(target_valid, probabilities_one_valid_curve) # в переменнхы значения True Positive Rate,\n",
    "                                                                        # False Positive Rate и рассмотренные пороги\n",
    "    \n",
    "plt.figure()\n",
    "plt.plot(fpr, tpr)\n",
    "plt.plot([0, 1], [0, 1], linestyle='--') # ROC-кривая случайной модели\n",
    "plt.xlim([0.0, 1.0])\n",
    "plt.ylim([0.0, 1.0])\n",
    "plt.xlabel('False Positive Rate', fontweight='bold')\n",
    "plt.ylabel('True Positive Rate', fontweight='bold')\n",
    "plt.title('ROC-кривая', fontweight='bold')\n",
    "plt.show();"
   ]
  },
  {
   "cell_type": "markdown",
   "metadata": {},
   "source": [
    "#### Вывод по моделям\n",
    "\n",
    "* `Метрика f1` модели `Решающего Дерева` - **0.577**, что **`недостаточно`** по условиям поставленной задачи (0.59), `Метрика AUC-ROC` при этом равна **0.713**. При помощи выявления относительных частот выявили, что присутствует дисбаланс классов (**`класс \"0\"` встречается примерно `86%`, `класс \"1\" - 14%` соответственно**). **Матрица ошибок** показала то же самое (`много` значений `TN` (истинно отрицательные предсказания) **`!но меньше, чем у остальных моделей!`**, но при этом выдал и `немало` ложноотрицательных значений (`FN`) и `большее среди всех моделей` истинно положительных ответов (`TP`);\n",
    "\n",
    "\n",
    "* `Метрика f1` модели `Случайного леса` - **0.593**, что уже **`достаточно`** по условиям поставленной задачи (0.59), `Метрика AUC-ROC` при этом равна **0.722**. Также присутствует дисбаланс классов (**`класс \"0\"` встречается очень часто. Примерно `91,5%`, а `класс \"1\" - 8,5%` соответственно**). **Матрица ошибок** показала то же самое (`много` значений `TN` (истинно отрицательные предсказания), но при этом выдал и `немало` ложноотрицательных значений (`FN`)\n",
    "\n",
    "\n",
    "* `Метрика f1` модели `Логистической Регрессии` меньше всех - **0.334**, что также **`недостаточно`** по условиям поставленной задачи (0.59), `Метрика AUC-ROC` при этом равна **0.759**. Как и всех моделей наблюдается дисбаланс классов (**`класс \"0\"` встречается чаще всех остальных моделей. Примерно `91,3%`, а `класс \"1\" - 8,7%` соответственно**). **Матрица ошибок** показала то же самое (`много` значений `TN` (истинно отрицательные предсказания), но при этом модель `видит отрицательные ответы там, где их нет (FN)`\n",
    "\n",
    "**Теперь рассмотрим баланс классов на выборках целевого признака (Series):**"
   ]
  },
  {
   "cell_type": "code",
   "execution_count": 25,
   "metadata": {},
   "outputs": [
    {
     "data": {
      "text/html": [
       "<div>\n",
       "<style scoped>\n",
       "    .dataframe tbody tr th:only-of-type {\n",
       "        vertical-align: middle;\n",
       "    }\n",
       "\n",
       "    .dataframe tbody tr th {\n",
       "        vertical-align: top;\n",
       "    }\n",
       "\n",
       "    .dataframe thead th {\n",
       "        text-align: right;\n",
       "    }\n",
       "</style>\n",
       "<table border=\"1\" class=\"dataframe\">\n",
       "  <thead>\n",
       "    <tr style=\"text-align: right;\">\n",
       "      <th></th>\n",
       "      <th>Exited</th>\n",
       "    </tr>\n",
       "  </thead>\n",
       "  <tbody>\n",
       "    <tr>\n",
       "      <th>0</th>\n",
       "      <td>0.800667</td>\n",
       "    </tr>\n",
       "    <tr>\n",
       "      <th>1</th>\n",
       "      <td>0.199333</td>\n",
       "    </tr>\n",
       "  </tbody>\n",
       "</table>\n",
       "</div>"
      ],
      "text/plain": [
       "     Exited\n",
       "0  0.800667\n",
       "1  0.199333"
      ]
     },
     "metadata": {},
     "output_type": "display_data"
    },
    {
     "data": {
      "image/png": "[encoded data removed]",
      "text/plain": [
       "<Figure size 288x288 with 1 Axes>"
      ]
     },
     "metadata": {
      "needs_background": "light"
     },
     "output_type": "display_data"
    }
   ],
   "source": [
    "ttvc = target_train.value_counts(normalize=True).to_frame() # параметр normalize - частоты относительные \n",
    "display(ttvc)\n",
    "ttvc.plot(kind='bar', figsize=(4, 4))\n",
    "plt.title('Таблица баланса классов на обучающей выборке', fontweight='bold');"
   ]
  },
  {
   "cell_type": "code",
   "execution_count": 26,
   "metadata": {},
   "outputs": [
    {
     "data": {
      "text/html": [
       "<div>\n",
       "<style scoped>\n",
       "    .dataframe tbody tr th:only-of-type {\n",
       "        vertical-align: middle;\n",
       "    }\n",
       "\n",
       "    .dataframe tbody tr th {\n",
       "        vertical-align: top;\n",
       "    }\n",
       "\n",
       "    .dataframe thead th {\n",
       "        text-align: right;\n",
       "    }\n",
       "</style>\n",
       "<table border=\"1\" class=\"dataframe\">\n",
       "  <thead>\n",
       "    <tr style=\"text-align: right;\">\n",
       "      <th></th>\n",
       "      <th>Exited</th>\n",
       "    </tr>\n",
       "  </thead>\n",
       "  <tbody>\n",
       "    <tr>\n",
       "      <th>0</th>\n",
       "      <td>0.791</td>\n",
       "    </tr>\n",
       "    <tr>\n",
       "      <th>1</th>\n",
       "      <td>0.209</td>\n",
       "    </tr>\n",
       "  </tbody>\n",
       "</table>\n",
       "</div>"
      ],
      "text/plain": [
       "   Exited\n",
       "0   0.791\n",
       "1   0.209"
      ]
     },
     "metadata": {},
     "output_type": "display_data"
    },
    {
     "data": {
      "image/png": "[encoded data removed]",
      "text/plain": [
       "<Figure size 288x288 with 1 Axes>"
      ]
     },
     "metadata": {
      "needs_background": "light"
     },
     "output_type": "display_data"
    }
   ],
   "source": [
    "tvvc = target_valid.value_counts(normalize=True).to_frame()\n",
    "display(tvvc)\n",
    "tvvc.plot(kind='bar', figsize=(4, 4))\n",
    "plt.title('Таблица баланса классов на валидационной выборке', fontweight='bold');"
   ]
  },
  {
   "cell_type": "markdown",
   "metadata": {},
   "source": [
    "### Вывод о балансе\n",
    "\n",
    "Наблюдается характерный **`дисбаланс`** классов в примерном **соотношениие `4:1`**"
   ]
  },
  {
   "cell_type": "markdown",
   "metadata": {},
   "source": [
    "## Борьба с дисбалансом и нахождение лучшей модели\n",
    "\n",
    "* Попробуем сначала `указать равнозначность классов` (**class_weight='balanced'**) в модели Логистической Регрессии"
   ]
  },
  {
   "cell_type": "code",
   "execution_count": 27,
   "metadata": {},
   "outputs": [
    {
     "name": "stdout",
     "output_type": "stream",
     "text": [
      "Метрика f1 Логистической Регрессии после сбалансирования классов: 0.489\n",
      "\n",
      "Метрика AUC-ROC Логистической Регрессии после сбалансирования классов: 0.763\n"
     ]
    }
   ],
   "source": [
    "model_lr_balanced = LogisticRegression(random_state=12345, solver='liblinear', class_weight='balanced')\n",
    "model_lr_balanced.fit(features_train, target_train)\n",
    "predict_lr_balanced = model_lr_balanced.predict(features_valid)\n",
    "f1_balanced = f1_score(target_valid, predict_lr_balanced)\n",
    "probabilities_lr_balanced = model_lr_balanced.predict_proba(features_valid)[:, 1]\n",
    "roc_auc_lr_balanced = roc_auc_score(target_valid, probabilities_lr_balanced)\n",
    "print(f'Метрика f1 Логистической Регрессии после сбалансирования классов: {round(f1_balanced, 3)}')\n",
    "print()\n",
    "print(f'Метрика AUC-ROC Логистической Регрессии после сбалансирования классов: {round(roc_auc_lr_balanced, 3)}')"
   ]
  },
  {
   "cell_type": "markdown",
   "metadata": {},
   "source": [
    "* После сбалансирования классов в Логистической Регрессии **метрика f1 `стала лучше`**, но все так же **незначительно:** \n",
    "    * (**`было 0.334; \n",
    "    стало 0.489`**);\n",
    "* **Метрика AUC-ROC** также стала лучше, но совсем не значительно: \n",
    "     * (**`было 0.759;\n",
    "стало 0.763`**)\n",
    "\n",
    "**Теперь попробуем увеличить объекты класса \"1\" техникой `upsampling`:**\n",
    "\n",
    "\n",
    "* Разделим обучающую выборку на отрицательные и положительные объекты;\n",
    "* Скопируем несколько раз положительные объекты;\n",
    "* С учётом полученных данных создадим новую обучающую выборку;\n",
    "* Перемешаем данные"
   ]
  },
  {
   "cell_type": "code",
   "execution_count": 28,
   "metadata": {},
   "outputs": [
    {
     "data": {
      "text/plain": [
       "0    0.501043\n",
       "1    0.498957\n",
       "Name: Exited, dtype: float64"
      ]
     },
     "metadata": {},
     "output_type": "display_data"
    }
   ],
   "source": [
    "def upsample(features, target, repeat):\n",
    "    \n",
    "    features_zero = features[target==0]\n",
    "    features_one = features[target==1]\n",
    "    target_zero = target[target==0]\n",
    "    target_one = target[target==1]\n",
    "    \n",
    "    features_upsampled = pd.concat([features_zero] + [features_one] * repeat)\n",
    "    target_upsampled = pd.concat([target_zero] + [target_one] * repeat)\n",
    "    \n",
    "    features_upsampled, target_upsampled = shuffle(features_upsampled, target_upsampled, random_state=12345)\n",
    "    \n",
    "    return features_upsampled, target_upsampled\n",
    "    \n",
    "features_upsampled, target_upsampled = upsample(features_train, target_train, 4)\n",
    "display(target_upsampled.value_counts(normalize=True))"
   ]
  },
  {
   "cell_type": "markdown",
   "metadata": {},
   "source": [
    "Повторили 4 раза и теперь рассмотрим модели\n",
    "\n",
    "* **Логистическая Регрессия**"
   ]
  },
  {
   "cell_type": "code",
   "execution_count": 29,
   "metadata": {},
   "outputs": [
    {
     "name": "stdout",
     "output_type": "stream",
     "text": [
      " :::::: После применения техники upsampling (увеличение выборки) ::::::::\n",
      "\n",
      "F1 upsampled в Логистической Регрессии: 0.489\n",
      "AUC-ROC upsampled в Логистической Регрессии: 0.763\n",
      "\n"
     ]
    },
    {
     "data": {
      "image/png": "[encoded data removed]",
      "text/plain": [
       "<Figure size 432x288 with 1 Axes>"
      ]
     },
     "metadata": {
      "needs_background": "light"
     },
     "output_type": "display_data"
    }
   ],
   "source": [
    "model_up1 = LogisticRegression(random_state=12345, solver='liblinear', max_iter=11, class_weight='balanced')\n",
    "model_up1.fit(features_upsampled, target_upsampled)\n",
    "predicted_valid = model_up1.predict(features_valid)\n",
    "f1 = f1_score(target_valid, predicted_valid)\n",
    "probabilities_upsampled = model_up1.predict_proba(features_valid)[:, 1]\n",
    "roc_auc_upsampled = roc_auc_score(target_valid, probabilities_upsampled)\n",
    "#cm_lr_up = confusion_matrix(target_valid, predicted_valid)\n",
    "print(' :::::: После применения техники upsampling (увеличение выборки) ::::::::')\n",
    "print()\n",
    "print(f'F1 upsampled в Логистической Регрессии: {round(f1, 3)}')\n",
    "print(f'AUC-ROC upsampled в Логистической Регрессии: {round(roc_auc_upsampled, 3)}')\n",
    "print()\n",
    "#print(cm_lr_up)\n",
    "\n",
    "fpr, tpr, threshold = roc_curve(target_valid, probabilities_upsampled)\n",
    "plt.figure()\n",
    "plt.plot(fpr, tpr)\n",
    "plt.plot([0, 1], [0, 1], linestyle='--')\n",
    "plt.xlim([0.0, 1.0])\n",
    "plt.ylim([0.0, 1.0])\n",
    "plt.xlabel('False Positive Rate', fontweight='bold')\n",
    "plt.ylabel('True Positive Rate', fontweight='bold')\n",
    "plt.title('ROC-кривая', fontweight='bold')\n",
    "plt.show();"
   ]
  },
  {
   "cell_type": "markdown",
   "metadata": {},
   "source": [
    "* **Для Случайного Леса применим функцию, которая была уже проделана, только на новых увеличенных выборках**"
   ]
  },
  {
   "cell_type": "code",
   "execution_count": 30,
   "metadata": {},
   "outputs": [
    {
     "name": "stdout",
     "output_type": "stream",
     "text": [
      " :::::: После применения техники upsampling (увеличение выборки) ::::::::\n",
      "\n",
      "Лучшая точность (accuracy) модели Случайного Леса: 0.8455\n",
      "Лучшие параметры метрики accuracy_score: n_estimators = 39, max_depth = 14, min_samples_split = 2, min_samples_leaf = 1, criterion = gini\n",
      "\n",
      "Лучшее значение метрики f1 модели Случайного Леса: 0.631\n",
      "Лучшие параметры метрики f1: n_estimators = 37, max_depth = 10, min_samples_split = 2, min_samples_leaf = 3, criterion = entropy\n",
      "\n",
      "Лучшее значение AUC-ROC модели Случайного Леса: 0.786\n",
      "Лучшие параметры метрики AUC-ROC: n_estimators = 30, max_depth = 8, min_samples_split = 2, min_samples_leaf = 2, criterion = entropy\n",
      "\n",
      "Относительные частоты модели Случайного Леса для проверки баланса:\n",
      "0    0.7705\n",
      "1    0.2295\n",
      "dtype: float64\n",
      "\n",
      "Матрица ошибок для выявления баланса в модели Случайного Леса:\n"
     ]
    },
    {
     "data": {
      "text/plain": [
       "array([[1393,  189],\n",
       "       [ 148,  270]])"
      ]
     },
     "metadata": {},
     "output_type": "display_data"
    }
   ],
   "source": [
    "print(' :::::: После применения техники upsampling (увеличение выборки) ::::::::')\n",
    "print()\n",
    "func_rfc(features_upsampled, features_valid, target_upsampled, target_valid)"
   ]
  },
  {
   "cell_type": "markdown",
   "metadata": {},
   "source": [
    "* **Также и для Решающего Дерева**"
   ]
  },
  {
   "cell_type": "code",
   "execution_count": 31,
   "metadata": {},
   "outputs": [
    {
     "name": "stdout",
     "output_type": "stream",
     "text": [
      " :::::: После применения техники upsampling (увеличение выборки) ::::::::\n",
      "\n",
      "Лучшая точность (accuracy) модели Решающего дерева: 0.814\n",
      "Лучшие параметры метрики accuracy_score: max_depth = 5, min_samples_split = 2, min_samples_leaf = 4, criterion = entropy\n",
      "\n",
      "Лучшее значение метрики f1 модели Решающего дерева: 0.601\n",
      "Лучшие параметры метрики f1: max_depth = 5, min_samples_split = 2, min_samples_leaf = 4, criterion = entropy\n",
      "\n",
      "Лучшее значение AUC-ROC модели Решающего дерева: 0.761\n",
      "Лучшие параметры метрики AUC-ROC: max_depth = 5, min_samples_split = 2, min_samples_leaf = 4, criterion = entropy\n",
      "\n",
      "Относительные частоты модели Решающего Дерева для проверки баланса:\n",
      "0    0.698\n",
      "1    0.302\n",
      "dtype: float64\n",
      "\n",
      "Матрица ошибок для выявления баланса в модели Решающего Дерева:\n"
     ]
    },
    {
     "data": {
      "text/plain": [
       "array([[1260,  322],\n",
       "       [ 136,  282]])"
      ]
     },
     "metadata": {},
     "output_type": "display_data"
    }
   ],
   "source": [
    "print(' :::::: После применения техники upsampling (увеличение выборки) ::::::::')\n",
    "print()\n",
    "func_dtc(features_upsampled, features_valid, target_upsampled, target_valid)"
   ]
  },
  {
   "cell_type": "markdown",
   "metadata": {},
   "source": [
    "**Попробуем методику уменьшения отрицательного класса**\n",
    "\n",
    "* Разделяем обучающую выборку на отрицательные и положительные объекты;\n",
    "* Случайным образом отбросываем часть из отрицательных объектов;\n",
    "* С учётом полученных данных создаем новую обучающую выборку;\n",
    "* Перемешиваем данные. Положительные не должны идти следом за отрицательными: алгоритмам будет сложнее обучаться"
   ]
  },
  {
   "cell_type": "code",
   "execution_count": 32,
   "metadata": {},
   "outputs": [
    {
     "data": {
      "text/plain": [
       "0    0.501043\n",
       "1    0.498957\n",
       "Name: Exited, dtype: float64"
      ]
     },
     "metadata": {},
     "output_type": "display_data"
    }
   ],
   "source": [
    "def downsample(features, target, fraction):\n",
    "    features_zeros = features[target == 0]\n",
    "    features_ones = features[target == 1]\n",
    "    target_zeros = target[target == 0]\n",
    "    target_ones = target[target == 1]\n",
    "\n",
    "    features_downsampled = pd.concat([features_zeros.sample(frac=fraction, random_state=12345)] + [features_ones])\n",
    "    target_downsampled = pd.concat([target_zeros.sample(frac=fraction, random_state=12345)] + [target_ones])\n",
    "    \n",
    "    features_downsampled, target_downsampled = shuffle(features_downsampled, target_downsampled, random_state=12345)\n",
    "    \n",
    "    return features_downsampled, target_downsampled\n",
    "    \n",
    "features_downsampled, target_downsampled = downsample(features_train, target_train, 0.25)\n",
    "display(target_downsampled.value_counts(normalize=True))\n",
    "#display(features_downsampled.value_counts(normalize=True))"
   ]
  },
  {
   "cell_type": "code",
   "execution_count": 33,
   "metadata": {},
   "outputs": [
    {
     "name": "stdout",
     "output_type": "stream",
     "text": [
      " :::::: После применения техники downsampling (уменьшения выборки) ::::::::\n",
      "\n",
      "F1 downsampled в Логистической Регрессии: 0.489\n",
      "AUC-ROC downsampled в Логистической Регрессии: 0.763\n",
      "\n"
     ]
    },
    {
     "data": {
      "image/png": "[encoded data removed]",
      "text/plain": [
       "<Figure size 432x288 with 1 Axes>"
      ]
     },
     "metadata": {
      "needs_background": "light"
     },
     "output_type": "display_data"
    }
   ],
   "source": [
    "model_down1 = LogisticRegression(random_state=12345, solver='liblinear', max_iter=11, class_weight='balanced')\n",
    "model_down1.fit(features_downsampled, target_downsampled)\n",
    "predicted_valid = model_down1.predict(features_valid)\n",
    "f1_down = f1_score(target_valid, predicted_valid)\n",
    "probabilities_downsampled = model_down1.predict_proba(features_valid)[:, 1]\n",
    "roc_auc_downsampled = roc_auc_score(target_valid, probabilities_downsampled)\n",
    "print(' :::::: После применения техники downsampling (уменьшения выборки) ::::::::')\n",
    "print()\n",
    "print(f'F1 downsampled в Логистической Регрессии: {round(f1_down, 3)}')\n",
    "print(f'AUC-ROC downsampled в Логистической Регрессии: {round(roc_auc_downsampled, 3)}')\n",
    "print()\n",
    "#print(cm_lr_up)\n",
    "\n",
    "fpr, tpr, threshold = roc_curve(target_valid, probabilities_downsampled)\n",
    "plt.figure()\n",
    "plt.plot(fpr, tpr)\n",
    "plt.plot([0, 1], [0, 1], linestyle='--')\n",
    "plt.xlim([0.0, 1.0])\n",
    "plt.ylim([0.0, 1.0])\n",
    "plt.xlabel('False Positive Rate', fontweight='bold')\n",
    "plt.ylabel('True Positive Rate', fontweight='bold')\n",
    "plt.title('ROC-кривая', fontweight='bold')\n",
    "plt.show();"
   ]
  },
  {
   "cell_type": "code",
   "execution_count": 34,
   "metadata": {},
   "outputs": [
    {
     "name": "stdout",
     "output_type": "stream",
     "text": [
      " :::::: После применения техники downsampling (уменьшения выборки) на модели Решающего Дерева ::::::::\n",
      "\n",
      "Лучшая точность (accuracy) модели Решающего дерева: 0.8335\n",
      "Лучшие параметры метрики accuracy_score: max_depth = 3, min_samples_split = 2, min_samples_leaf = 1, criterion = entropy\n",
      "\n",
      "Лучшее значение метрики f1 модели Решающего дерева: 0.6\n",
      "Лучшие параметры метрики f1: max_depth = 5, min_samples_split = 2, min_samples_leaf = 9, criterion = gini\n",
      "\n",
      "Лучшее значение AUC-ROC модели Решающего дерева: 0.767\n",
      "Лучшие параметры метрики AUC-ROC: max_depth = 5, min_samples_split = 2, min_samples_leaf = 9, criterion = gini\n",
      "\n",
      "Относительные частоты модели Решающего Дерева для проверки баланса:\n",
      "0    0.6505\n",
      "1    0.3495\n",
      "dtype: float64\n",
      "\n",
      "Матрица ошибок для выявления баланса в модели Решающего Дерева:\n"
     ]
    },
    {
     "data": {
      "text/plain": [
       "array([[1186,  396],\n",
       "       [ 115,  303]])"
      ]
     },
     "metadata": {},
     "output_type": "display_data"
    }
   ],
   "source": [
    "print(' :::::: После применения техники downsampling (уменьшения выборки) на модели Решающего Дерева ::::::::')\n",
    "print()\n",
    "func_dtc(features_downsampled, features_valid, target_downsampled, target_valid)"
   ]
  },
  {
   "cell_type": "code",
   "execution_count": 35,
   "metadata": {},
   "outputs": [
    {
     "name": "stdout",
     "output_type": "stream",
     "text": [
      " :::::: После применения техники downsampling (уменьшения выборки) на модели Случайного Леса ::::::::\n",
      "\n",
      "Лучшая точность (accuracy) модели Случайного Леса: 0.8025\n",
      "Лучшие параметры метрики accuracy_score: n_estimators = 33, max_depth = 8, min_samples_split = 2, min_samples_leaf = 3, criterion = entropy\n",
      "\n",
      "Лучшее значение метрики f1 модели Случайного Леса: 0.611\n",
      "Лучшие параметры метрики f1: n_estimators = 35, max_depth = 8, min_samples_split = 2, min_samples_leaf = 3, criterion = entropy\n",
      "\n",
      "Лучшее значение AUC-ROC модели Случайного Леса: 0.781\n",
      "Лучшие параметры метрики AUC-ROC: n_estimators = 31, max_depth = 8, min_samples_split = 2, min_samples_leaf = 3, criterion = entropy\n",
      "\n",
      "Относительные частоты модели Случайного Леса для проверки баланса:\n",
      "0    0.6785\n",
      "1    0.3215\n",
      "dtype: float64\n",
      "\n",
      "Матрица ошибок для выявления баланса в модели Случайного Леса:\n"
     ]
    },
    {
     "data": {
      "text/plain": [
       "array([[1255,  327],\n",
       "       [ 102,  316]])"
      ]
     },
     "metadata": {},
     "output_type": "display_data"
    }
   ],
   "source": [
    "print(' :::::: После применения техники downsampling (уменьшения выборки) на модели Случайного Леса ::::::::')\n",
    "print()\n",
    "func_rfc(features_downsampled, features_valid, target_downsampled, target_valid)"
   ]
  },
  {
   "cell_type": "markdown",
   "metadata": {},
   "source": [
    "### Вывод\n",
    "\n",
    "* **`Лучшей моделью оказалась модель Случайного Леса техникой увеличения выборки (upsampling) в 4 раза`**. \n",
    "    * **Лучшее значение метрики f1 модели Случайного Леса** `0.631`\n",
    "    * **Лучшие параметры метрики f1**: **n_estimators** = `37`, **max_depth** = `10`, **min_samples_split** = `2`, **min_samples_leaf** = `3`, **criterion** = `entropy`\n",
    "    * **Лучшее значение AUC-ROC модели Случайного Леса**: `0.786` (правда с другими гиперпараметрами)\n",
    "\n",
    "Для окончательного вывода стоит проверить на адекватность выявленную модель. Для этого вводим констатную модель:"
   ]
  },
  {
   "cell_type": "code",
   "execution_count": 38,
   "metadata": {},
   "outputs": [
    {
     "name": "stdout",
     "output_type": "stream",
     "text": [
      "Константа: 0.7963\n",
      "Лучшая точность (accuracy_score) выявленной модели: 0.829\n",
      "f1_best: 0.631\n",
      "AUC-ROC best: 0.781\n",
      "\n",
      "Выявленная модель прошла тест на адекватность\n"
     ]
    }
   ],
   "source": [
    "constant = pd.Series(0, index=target.index)\n",
    "accuracy_constant = accuracy_score(target, constant)\n",
    "print(f'Константа: {accuracy_constant}')\n",
    "\n",
    "mi = RandomForestClassifier(random_state=12345, n_estimators = 37, max_depth = 10, \n",
    "                            min_samples_split = 2, min_samples_leaf = 3, criterion = 'entropy') # проверяем с теми же\n",
    "                                                                                             # параметрами\n",
    "mi.fit(features_upsampled, target_upsampled)\n",
    "score = mi.predict(features_valid)\n",
    "score1 = accuracy_score(target_valid, score)\n",
    "f1_best = f1_score(target_valid, score)\n",
    "auc_best = roc_auc_score(target_valid, score)\n",
    "print(f'Лучшая точность (accuracy_score) выявленной модели: {score1}')\n",
    "print(f'f1_best: {round(f1_best, 3)}')\n",
    "print(f'AUC-ROC best: {round(auc_best, 3)}')\n",
    "print()\n",
    "if score1 > accuracy_constant:\n",
    "    print('Выявленная модель прошла тест на адекватность')\n",
    "else:\n",
    "    print('Что-то пошло не так')"
   ]
  },
  {
   "cell_type": "markdown",
   "metadata": {},
   "source": [
    "## Тестирование модели\n",
    "\n",
    "Тестовая выборка нужна, чтобы правильно оценить готовую модель: "
   ]
  },
  {
   "cell_type": "code",
   "execution_count": 39,
   "metadata": {},
   "outputs": [
    {
     "name": "stdout",
     "output_type": "stream",
     "text": [
      "Тестовая точность:0.814\n",
      "Тестовая метрика f1: 0.609\n",
      "Тестовая метрика AUC-ROC: 0.768\n",
      "\n",
      "f1_best: 0.631\n",
      "AUC-ROC best: 0.781\n",
      "\n",
      "Проверка на тестовой выборке пройдена\n"
     ]
    }
   ],
   "source": [
    "model_final = RandomForestClassifier(random_state=12345, n_estimators = 37, max_depth = 10, \n",
    "                                     min_samples_split = 2, min_samples_leaf = 3, \n",
    "                                     criterion = 'entropy')\n",
    "model_final.fit(features_upsampled, target_upsampled)\n",
    "model_final_predict = model_final.predict(features_test)\n",
    "test_acc = accuracy_score(target_test, model_final_predict)\n",
    "test_f1 = f1_score(target_test, model_final_predict)\n",
    "test_auc = roc_auc_score(target_test, model_final_predict)\n",
    "print(f'Тестовая точность:{round(test_acc, 3)}')\n",
    "print(f'Тестовая метрика f1: {round(test_f1, 3)}')\n",
    "print(f'Тестовая метрика AUC-ROC: {round(test_auc, 3)}')\n",
    "print()\n",
    "print(f'f1_best: {round(f1_best, 3)}')\n",
    "print(f'AUC-ROC best: {round(auc_best, 3)}')\n",
    "print()\n",
    "if test_f1 > 0.59 and score1 > test_acc:\n",
    "    print('Проверка на тестовой выборке пройдена')"
   ]
  },
  {
   "cell_type": "markdown",
   "metadata": {},
   "source": [
    "### Вывод\n",
    "\n",
    "**`Лучшая модель прошла проверку на тестовой выборке` и получилось удолетворить условие задачи в достижении f1 метрики (`выше 0.59`)**\n",
    "   * `Тестовая точность`:0.814\n",
    "   * `Тестовая метрика f1`: 0.609\n",
    "   * `Тестовая метрика AUC-ROC`: 0.768\n",
    "\n",
    "  \n",
    "   * `accuracy_score_best выявленной модели`: 0.829\n",
    "   * `f1_best`: 0.631\n",
    "   * `AUC-ROC best`: 0.781"
   ]
  }
 ],
 "metadata": {
  "ExecuteTimeLog": [
   {
    "duration": 1195,
    "start_time": "2022-08-02T10:44:50.398Z"
   },
   {
    "duration": 81,
    "start_time": "2022-08-02T10:45:15.300Z"
   },
   {
    "duration": 60,
    "start_time": "2022-08-02T10:45:20.671Z"
   },
   {
    "duration": 54,
    "start_time": "2022-08-02T10:45:31.846Z"
   },
   {
    "duration": 4,
    "start_time": "2022-08-02T11:04:02.981Z"
   },
   {
    "duration": 53,
    "start_time": "2022-08-02T11:04:04.808Z"
   },
   {
    "duration": 14,
    "start_time": "2022-08-02T11:09:16.433Z"
   },
   {
    "duration": 20,
    "start_time": "2022-08-02T11:09:29.930Z"
   },
   {
    "duration": 9,
    "start_time": "2022-08-02T11:09:37.436Z"
   },
   {
    "duration": 51,
    "start_time": "2022-08-02T11:09:55.538Z"
   },
   {
    "duration": 8,
    "start_time": "2022-08-02T11:11:22.655Z"
   },
   {
    "duration": 13,
    "start_time": "2022-08-02T11:11:33.989Z"
   },
   {
    "duration": 14,
    "start_time": "2022-08-02T11:11:44.144Z"
   },
   {
    "duration": 5,
    "start_time": "2022-08-02T11:33:58.037Z"
   },
   {
    "duration": 53,
    "start_time": "2022-08-02T11:35:26.197Z"
   },
   {
    "duration": 50,
    "start_time": "2022-08-02T11:35:52.037Z"
   },
   {
    "duration": 4,
    "start_time": "2022-08-02T11:35:55.838Z"
   },
   {
    "duration": 4,
    "start_time": "2022-08-02T11:36:11.810Z"
   },
   {
    "duration": 56,
    "start_time": "2022-08-02T11:36:28.979Z"
   },
   {
    "duration": 46,
    "start_time": "2022-08-02T11:36:34.662Z"
   },
   {
    "duration": 49,
    "start_time": "2022-08-02T11:36:39.902Z"
   },
   {
    "duration": 46,
    "start_time": "2022-08-02T11:37:01.809Z"
   },
   {
    "duration": 49,
    "start_time": "2022-08-02T11:37:09.907Z"
   },
   {
    "duration": 90,
    "start_time": "2022-08-02T11:37:13.903Z"
   },
   {
    "duration": 5,
    "start_time": "2022-08-02T11:37:16.138Z"
   },
   {
    "duration": 4,
    "start_time": "2022-08-02T11:37:25.551Z"
   },
   {
    "duration": 4,
    "start_time": "2022-08-02T11:37:50.639Z"
   },
   {
    "duration": 5,
    "start_time": "2022-08-02T11:38:00.037Z"
   },
   {
    "duration": 3,
    "start_time": "2022-08-02T11:40:36.634Z"
   },
   {
    "duration": 11,
    "start_time": "2022-08-02T11:41:09.442Z"
   },
   {
    "duration": 8,
    "start_time": "2022-08-02T11:41:22.041Z"
   },
   {
    "duration": 6,
    "start_time": "2022-08-02T11:42:16.192Z"
   },
   {
    "duration": 6,
    "start_time": "2022-08-02T11:42:24.778Z"
   },
   {
    "duration": 18,
    "start_time": "2022-08-02T11:42:30.439Z"
   },
   {
    "duration": 107,
    "start_time": "2022-08-02T11:42:37.587Z"
   },
   {
    "duration": 65,
    "start_time": "2022-08-02T11:42:47.088Z"
   },
   {
    "duration": 11,
    "start_time": "2022-08-02T11:42:50.160Z"
   },
   {
    "duration": 5,
    "start_time": "2022-08-02T11:43:36.313Z"
   },
   {
    "duration": 5,
    "start_time": "2022-08-02T11:46:26.977Z"
   },
   {
    "duration": 14,
    "start_time": "2022-08-02T11:46:33.269Z"
   },
   {
    "duration": 15,
    "start_time": "2022-08-02T11:46:45.110Z"
   },
   {
    "duration": 12,
    "start_time": "2022-08-02T11:47:36.539Z"
   },
   {
    "duration": 21,
    "start_time": "2022-08-02T11:52:00.783Z"
   },
   {
    "duration": 14,
    "start_time": "2022-08-02T11:52:13.495Z"
   },
   {
    "duration": 8,
    "start_time": "2022-08-02T11:54:52.095Z"
   },
   {
    "duration": 10,
    "start_time": "2022-08-02T11:55:49.901Z"
   },
   {
    "duration": 1163,
    "start_time": "2022-08-02T11:56:04.095Z"
   },
   {
    "duration": 71,
    "start_time": "2022-08-02T11:56:05.261Z"
   },
   {
    "duration": 17,
    "start_time": "2022-08-02T11:56:05.335Z"
   },
   {
    "duration": 72,
    "start_time": "2022-08-02T11:56:05.355Z"
   },
   {
    "duration": 9,
    "start_time": "2022-08-02T11:56:05.429Z"
   },
   {
    "duration": 11,
    "start_time": "2022-08-02T11:56:05.440Z"
   },
   {
    "duration": 17,
    "start_time": "2022-08-02T11:56:05.453Z"
   },
   {
    "duration": 33,
    "start_time": "2022-08-02T11:56:05.473Z"
   },
   {
    "duration": 15,
    "start_time": "2022-08-02T11:56:05.509Z"
   },
   {
    "duration": 19,
    "start_time": "2022-08-02T11:56:05.527Z"
   },
   {
    "duration": 7,
    "start_time": "2022-08-02T11:58:09.865Z"
   },
   {
    "duration": 5,
    "start_time": "2022-08-02T11:58:18.284Z"
   },
   {
    "duration": 1167,
    "start_time": "2022-08-02T11:58:28.678Z"
   },
   {
    "duration": 64,
    "start_time": "2022-08-02T11:58:29.847Z"
   },
   {
    "duration": 14,
    "start_time": "2022-08-02T11:58:29.913Z"
   },
   {
    "duration": 43,
    "start_time": "2022-08-02T11:58:29.929Z"
   },
   {
    "duration": 30,
    "start_time": "2022-08-02T11:58:29.974Z"
   },
   {
    "duration": 5,
    "start_time": "2022-08-02T11:58:30.005Z"
   },
   {
    "duration": 40,
    "start_time": "2022-08-02T11:58:30.011Z"
   },
   {
    "duration": 327,
    "start_time": "2022-08-02T11:58:30.053Z"
   },
   {
    "duration": 0,
    "start_time": "2022-08-02T11:58:30.382Z"
   },
   {
    "duration": 0,
    "start_time": "2022-08-02T11:58:30.384Z"
   },
   {
    "duration": 216,
    "start_time": "2022-08-02T11:58:46.095Z"
   },
   {
    "duration": 1132,
    "start_time": "2022-08-02T11:58:55.200Z"
   },
   {
    "duration": 76,
    "start_time": "2022-08-02T11:58:56.334Z"
   },
   {
    "duration": 14,
    "start_time": "2022-08-02T11:58:56.412Z"
   },
   {
    "duration": 44,
    "start_time": "2022-08-02T11:58:56.429Z"
   },
   {
    "duration": 30,
    "start_time": "2022-08-02T11:58:56.475Z"
   },
   {
    "duration": 4,
    "start_time": "2022-08-02T11:58:56.508Z"
   },
   {
    "duration": 13,
    "start_time": "2022-08-02T11:58:56.514Z"
   },
   {
    "duration": 7,
    "start_time": "2022-08-02T11:58:56.529Z"
   },
   {
    "duration": 13,
    "start_time": "2022-08-02T11:58:56.537Z"
   },
   {
    "duration": 17,
    "start_time": "2022-08-02T11:58:56.552Z"
   },
   {
    "duration": 8,
    "start_time": "2022-08-02T12:05:05.788Z"
   },
   {
    "duration": 122,
    "start_time": "2022-08-02T12:10:28.701Z"
   },
   {
    "duration": 7,
    "start_time": "2022-08-02T12:10:37.566Z"
   },
   {
    "duration": 13,
    "start_time": "2022-08-02T12:26:26.409Z"
   },
   {
    "duration": 12,
    "start_time": "2022-08-02T12:26:42.010Z"
   },
   {
    "duration": 4,
    "start_time": "2022-08-02T12:30:02.178Z"
   },
   {
    "duration": 17,
    "start_time": "2022-08-02T12:30:12.654Z"
   },
   {
    "duration": 1100,
    "start_time": "2022-08-02T12:30:24.745Z"
   },
   {
    "duration": 65,
    "start_time": "2022-08-02T12:30:25.846Z"
   },
   {
    "duration": 13,
    "start_time": "2022-08-02T12:30:25.913Z"
   },
   {
    "duration": 43,
    "start_time": "2022-08-02T12:30:25.930Z"
   },
   {
    "duration": 33,
    "start_time": "2022-08-02T12:30:25.974Z"
   },
   {
    "duration": 4,
    "start_time": "2022-08-02T12:30:26.009Z"
   },
   {
    "duration": 10,
    "start_time": "2022-08-02T12:30:26.014Z"
   },
   {
    "duration": 8,
    "start_time": "2022-08-02T12:30:26.026Z"
   },
   {
    "duration": 23,
    "start_time": "2022-08-02T12:30:26.036Z"
   },
   {
    "duration": 19,
    "start_time": "2022-08-02T12:30:26.061Z"
   },
   {
    "duration": 12,
    "start_time": "2022-08-02T12:30:26.102Z"
   },
   {
    "duration": 7,
    "start_time": "2022-08-02T12:30:26.116Z"
   },
   {
    "duration": 12,
    "start_time": "2022-08-02T12:30:26.124Z"
   },
   {
    "duration": 9,
    "start_time": "2022-08-02T12:30:26.138Z"
   },
   {
    "duration": 20,
    "start_time": "2022-08-02T12:30:26.149Z"
   },
   {
    "duration": 112,
    "start_time": "2022-08-02T12:31:04.251Z"
   },
   {
    "duration": 1232,
    "start_time": "2022-08-02T12:31:10.766Z"
   },
   {
    "duration": 68,
    "start_time": "2022-08-02T12:31:12.000Z"
   },
   {
    "duration": 16,
    "start_time": "2022-08-02T12:31:12.070Z"
   },
   {
    "duration": 48,
    "start_time": "2022-08-02T12:31:12.089Z"
   },
   {
    "duration": 9,
    "start_time": "2022-08-02T12:31:12.139Z"
   },
   {
    "duration": 16,
    "start_time": "2022-08-02T12:31:12.150Z"
   },
   {
    "duration": 18,
    "start_time": "2022-08-02T12:31:12.168Z"
   },
   {
    "duration": 29,
    "start_time": "2022-08-02T12:31:12.188Z"
   },
   {
    "duration": 16,
    "start_time": "2022-08-02T12:31:12.219Z"
   },
   {
    "duration": 11,
    "start_time": "2022-08-02T12:31:12.238Z"
   },
   {
    "duration": 12,
    "start_time": "2022-08-02T12:31:12.252Z"
   },
   {
    "duration": 38,
    "start_time": "2022-08-02T12:31:12.266Z"
   },
   {
    "duration": 17,
    "start_time": "2022-08-02T12:31:12.306Z"
   },
   {
    "duration": 8,
    "start_time": "2022-08-02T12:31:12.325Z"
   },
   {
    "duration": 20,
    "start_time": "2022-08-02T12:31:12.335Z"
   },
   {
    "duration": 8,
    "start_time": "2022-08-02T12:37:08.471Z"
   },
   {
    "duration": 11,
    "start_time": "2022-08-02T12:39:15.495Z"
   },
   {
    "duration": 12,
    "start_time": "2022-08-02T12:39:21.364Z"
   },
   {
    "duration": 1159,
    "start_time": "2022-08-02T12:45:50.039Z"
   },
   {
    "duration": 79,
    "start_time": "2022-08-02T12:45:51.200Z"
   },
   {
    "duration": 16,
    "start_time": "2022-08-02T12:45:51.281Z"
   },
   {
    "duration": 58,
    "start_time": "2022-08-02T12:45:51.302Z"
   },
   {
    "duration": 11,
    "start_time": "2022-08-02T12:45:51.363Z"
   },
   {
    "duration": 27,
    "start_time": "2022-08-02T12:45:51.377Z"
   },
   {
    "duration": 18,
    "start_time": "2022-08-02T12:45:51.406Z"
   },
   {
    "duration": 13,
    "start_time": "2022-08-02T12:45:51.426Z"
   },
   {
    "duration": 20,
    "start_time": "2022-08-02T12:45:51.441Z"
   },
   {
    "duration": 41,
    "start_time": "2022-08-02T12:45:51.464Z"
   },
   {
    "duration": 29,
    "start_time": "2022-08-02T12:45:51.507Z"
   },
   {
    "duration": 22,
    "start_time": "2022-08-02T12:45:51.539Z"
   },
   {
    "duration": 15,
    "start_time": "2022-08-02T12:45:51.563Z"
   },
   {
    "duration": 138,
    "start_time": "2022-08-02T12:45:51.581Z"
   },
   {
    "duration": 0,
    "start_time": "2022-08-02T12:45:51.721Z"
   },
   {
    "duration": 0,
    "start_time": "2022-08-02T12:45:51.722Z"
   },
   {
    "duration": 0,
    "start_time": "2022-08-02T12:45:51.723Z"
   },
   {
    "duration": 11,
    "start_time": "2022-08-02T12:46:01.066Z"
   },
   {
    "duration": 31,
    "start_time": "2022-08-02T12:46:44.070Z"
   },
   {
    "duration": 50,
    "start_time": "2022-08-02T12:46:58.333Z"
   },
   {
    "duration": 42,
    "start_time": "2022-08-02T12:47:31.078Z"
   },
   {
    "duration": 29,
    "start_time": "2022-08-02T12:47:51.133Z"
   },
   {
    "duration": 36,
    "start_time": "2022-08-02T12:47:56.937Z"
   },
   {
    "duration": 52,
    "start_time": "2022-08-02T12:48:57.634Z"
   },
   {
    "duration": 1212,
    "start_time": "2022-08-02T12:51:29.265Z"
   },
   {
    "duration": 65,
    "start_time": "2022-08-02T12:51:30.479Z"
   },
   {
    "duration": 20,
    "start_time": "2022-08-02T12:51:30.547Z"
   },
   {
    "duration": 73,
    "start_time": "2022-08-02T12:51:30.570Z"
   },
   {
    "duration": 9,
    "start_time": "2022-08-02T12:51:30.645Z"
   },
   {
    "duration": 26,
    "start_time": "2022-08-02T12:51:30.656Z"
   },
   {
    "duration": 27,
    "start_time": "2022-08-02T12:51:30.685Z"
   },
   {
    "duration": 44,
    "start_time": "2022-08-02T12:51:30.714Z"
   },
   {
    "duration": 44,
    "start_time": "2022-08-02T12:51:30.760Z"
   },
   {
    "duration": 25,
    "start_time": "2022-08-02T12:51:30.807Z"
   },
   {
    "duration": 42,
    "start_time": "2022-08-02T12:51:30.834Z"
   },
   {
    "duration": 37,
    "start_time": "2022-08-02T12:51:30.879Z"
   },
   {
    "duration": 34,
    "start_time": "2022-08-02T12:51:30.917Z"
   },
   {
    "duration": 15,
    "start_time": "2022-08-02T12:51:30.953Z"
   },
   {
    "duration": 25,
    "start_time": "2022-08-02T12:51:30.970Z"
   },
   {
    "duration": 35,
    "start_time": "2022-08-02T12:51:30.997Z"
   },
   {
    "duration": 36,
    "start_time": "2022-08-02T12:51:31.034Z"
   },
   {
    "duration": 19,
    "start_time": "2022-08-02T12:51:55.551Z"
   },
   {
    "duration": 5,
    "start_time": "2022-08-02T12:52:34.436Z"
   },
   {
    "duration": 1143,
    "start_time": "2022-08-02T13:24:54.441Z"
   },
   {
    "duration": 65,
    "start_time": "2022-08-02T13:24:55.586Z"
   },
   {
    "duration": 15,
    "start_time": "2022-08-02T13:24:55.653Z"
   },
   {
    "duration": 57,
    "start_time": "2022-08-02T13:24:55.672Z"
   },
   {
    "duration": 9,
    "start_time": "2022-08-02T13:24:55.732Z"
   },
   {
    "duration": 31,
    "start_time": "2022-08-02T13:24:55.743Z"
   },
   {
    "duration": 11,
    "start_time": "2022-08-02T13:24:55.776Z"
   },
   {
    "duration": 19,
    "start_time": "2022-08-02T13:24:55.789Z"
   },
   {
    "duration": 13,
    "start_time": "2022-08-02T13:24:55.809Z"
   },
   {
    "duration": 16,
    "start_time": "2022-08-02T13:24:55.825Z"
   },
   {
    "duration": 7,
    "start_time": "2022-08-02T13:24:55.844Z"
   },
   {
    "duration": 51,
    "start_time": "2022-08-02T13:24:55.853Z"
   },
   {
    "duration": 3,
    "start_time": "2022-08-02T13:24:55.905Z"
   },
   {
    "duration": 22,
    "start_time": "2022-08-02T13:24:55.910Z"
   },
   {
    "duration": 10,
    "start_time": "2022-08-02T13:24:55.933Z"
   },
   {
    "duration": 14,
    "start_time": "2022-08-02T13:45:38.413Z"
   },
   {
    "duration": 6,
    "start_time": "2022-08-02T13:46:39.793Z"
   },
   {
    "duration": 27,
    "start_time": "2022-08-02T13:46:51.111Z"
   },
   {
    "duration": 6,
    "start_time": "2022-08-02T13:46:58.347Z"
   },
   {
    "duration": 17,
    "start_time": "2022-08-02T14:28:36.644Z"
   },
   {
    "duration": 57,
    "start_time": "2022-08-02T14:31:05.039Z"
   },
   {
    "duration": 15,
    "start_time": "2022-08-02T14:31:10.347Z"
   },
   {
    "duration": 87,
    "start_time": "2022-08-02T14:31:29.439Z"
   },
   {
    "duration": 12,
    "start_time": "2022-08-02T14:32:58.341Z"
   },
   {
    "duration": 15,
    "start_time": "2022-08-02T14:33:33.371Z"
   },
   {
    "duration": 4,
    "start_time": "2022-08-02T14:56:52.131Z"
   },
   {
    "duration": 123,
    "start_time": "2022-08-02T14:58:47.266Z"
   },
   {
    "duration": 48,
    "start_time": "2022-08-02T14:58:55.458Z"
   },
   {
    "duration": 12,
    "start_time": "2022-08-02T15:15:42.671Z"
   },
   {
    "duration": 12,
    "start_time": "2022-08-02T15:15:53.682Z"
   },
   {
    "duration": 1163,
    "start_time": "2022-08-02T15:16:23.882Z"
   },
   {
    "duration": 68,
    "start_time": "2022-08-02T15:16:25.048Z"
   },
   {
    "duration": 15,
    "start_time": "2022-08-02T15:16:25.118Z"
   },
   {
    "duration": 50,
    "start_time": "2022-08-02T15:16:25.135Z"
   },
   {
    "duration": 19,
    "start_time": "2022-08-02T15:16:25.188Z"
   },
   {
    "duration": 4,
    "start_time": "2022-08-02T15:16:25.209Z"
   },
   {
    "duration": 25,
    "start_time": "2022-08-02T15:16:25.215Z"
   },
   {
    "duration": 24,
    "start_time": "2022-08-02T15:16:25.242Z"
   },
   {
    "duration": 26,
    "start_time": "2022-08-02T15:16:25.269Z"
   },
   {
    "duration": 30,
    "start_time": "2022-08-02T15:16:25.296Z"
   },
   {
    "duration": 12,
    "start_time": "2022-08-02T15:16:25.328Z"
   },
   {
    "duration": 25,
    "start_time": "2022-08-02T15:16:25.342Z"
   },
   {
    "duration": 11,
    "start_time": "2022-08-02T15:16:25.369Z"
   },
   {
    "duration": 39,
    "start_time": "2022-08-02T15:16:25.383Z"
   },
   {
    "duration": 15,
    "start_time": "2022-08-02T15:16:25.424Z"
   },
   {
    "duration": 17,
    "start_time": "2022-08-02T15:16:25.441Z"
   },
   {
    "duration": 17,
    "start_time": "2022-08-02T15:16:25.460Z"
   },
   {
    "duration": 26,
    "start_time": "2022-08-02T15:16:25.479Z"
   },
   {
    "duration": 4,
    "start_time": "2022-08-02T15:16:25.507Z"
   },
   {
    "duration": 62,
    "start_time": "2022-08-02T15:21:36.539Z"
   },
   {
    "duration": 1037,
    "start_time": "2022-08-04T17:06:05.915Z"
   },
   {
    "duration": 61,
    "start_time": "2022-08-04T17:06:06.954Z"
   },
   {
    "duration": 12,
    "start_time": "2022-08-04T17:06:07.017Z"
   },
   {
    "duration": 39,
    "start_time": "2022-08-04T17:06:07.030Z"
   },
   {
    "duration": 6,
    "start_time": "2022-08-04T17:06:07.071Z"
   },
   {
    "duration": 17,
    "start_time": "2022-08-04T17:06:07.079Z"
   },
   {
    "duration": 11,
    "start_time": "2022-08-04T17:06:07.098Z"
   },
   {
    "duration": 8,
    "start_time": "2022-08-04T17:06:07.110Z"
   },
   {
    "duration": 19,
    "start_time": "2022-08-04T17:06:07.120Z"
   },
   {
    "duration": 19,
    "start_time": "2022-08-04T17:06:07.140Z"
   },
   {
    "duration": 8,
    "start_time": "2022-08-04T17:06:07.160Z"
   },
   {
    "duration": 18,
    "start_time": "2022-08-04T17:06:07.169Z"
   },
   {
    "duration": 4,
    "start_time": "2022-08-04T17:06:07.189Z"
   },
   {
    "duration": 18,
    "start_time": "2022-08-04T17:06:07.196Z"
   },
   {
    "duration": 31,
    "start_time": "2022-08-04T17:06:07.215Z"
   },
   {
    "duration": 10,
    "start_time": "2022-08-04T17:06:07.248Z"
   },
   {
    "duration": 7,
    "start_time": "2022-08-04T17:06:07.259Z"
   },
   {
    "duration": 13,
    "start_time": "2022-08-04T17:06:07.268Z"
   },
   {
    "duration": 48,
    "start_time": "2022-08-04T17:06:07.282Z"
   },
   {
    "duration": 1279,
    "start_time": "2022-08-04T17:36:37.430Z"
   },
   {
    "duration": 54,
    "start_time": "2022-08-04T17:36:38.711Z"
   },
   {
    "duration": 12,
    "start_time": "2022-08-04T17:36:38.767Z"
   },
   {
    "duration": 38,
    "start_time": "2022-08-04T17:36:38.781Z"
   },
   {
    "duration": 21,
    "start_time": "2022-08-04T17:36:38.821Z"
   },
   {
    "duration": 7,
    "start_time": "2022-08-04T17:36:38.843Z"
   },
   {
    "duration": 35,
    "start_time": "2022-08-04T17:36:38.852Z"
   },
   {
    "duration": 12,
    "start_time": "2022-08-04T17:36:38.890Z"
   },
   {
    "duration": 16,
    "start_time": "2022-08-04T17:36:38.904Z"
   },
   {
    "duration": 24,
    "start_time": "2022-08-04T17:36:38.923Z"
   },
   {
    "duration": 9,
    "start_time": "2022-08-04T17:36:38.949Z"
   },
   {
    "duration": 17,
    "start_time": "2022-08-04T17:36:38.960Z"
   },
   {
    "duration": 6,
    "start_time": "2022-08-04T17:36:38.979Z"
   },
   {
    "duration": 31,
    "start_time": "2022-08-04T17:36:38.988Z"
   },
   {
    "duration": 21,
    "start_time": "2022-08-04T17:36:39.021Z"
   },
   {
    "duration": 13,
    "start_time": "2022-08-04T17:36:39.043Z"
   },
   {
    "duration": 10,
    "start_time": "2022-08-04T17:36:39.058Z"
   },
   {
    "duration": 17,
    "start_time": "2022-08-04T17:36:39.070Z"
   },
   {
    "duration": 24,
    "start_time": "2022-08-04T17:36:39.089Z"
   },
   {
    "duration": 47,
    "start_time": "2022-08-04T17:36:39.115Z"
   },
   {
    "duration": 19449,
    "start_time": "2022-08-04T17:36:39.164Z"
   },
   {
    "duration": 113552,
    "start_time": "2022-08-04T17:36:58.615Z"
   },
   {
    "duration": 24378,
    "start_time": "2022-08-04T17:38:52.169Z"
   },
   {
    "duration": 398,
    "start_time": "2022-08-04T17:39:16.549Z"
   },
   {
    "duration": 198,
    "start_time": "2022-08-04T17:39:16.949Z"
   },
   {
    "duration": 124,
    "start_time": "2022-08-04T17:39:17.149Z"
   },
   {
    "duration": 67,
    "start_time": "2022-08-04T17:39:17.276Z"
   },
   {
    "duration": 97,
    "start_time": "2022-08-04T17:39:17.345Z"
   },
   {
    "duration": 369,
    "start_time": "2022-08-04T17:39:17.443Z"
   },
   {
    "duration": 144551,
    "start_time": "2022-08-04T17:39:17.814Z"
   },
   {
    "duration": 22375,
    "start_time": "2022-08-04T17:41:42.367Z"
   },
   {
    "duration": 13,
    "start_time": "2022-08-04T17:42:04.743Z"
   },
   {
    "duration": 284,
    "start_time": "2022-08-04T17:42:04.758Z"
   },
   {
    "duration": 11772,
    "start_time": "2022-08-04T17:42:05.044Z"
   },
   {
    "duration": 64625,
    "start_time": "2022-08-04T17:42:16.817Z"
   },
   {
    "duration": 3,
    "start_time": "2022-08-04T17:43:21.444Z"
   },
   {
    "duration": 14,
    "start_time": "2022-08-04T17:43:21.448Z"
   },
   {
    "duration": 315,
    "start_time": "2022-08-04T17:43:21.464Z"
   },
   {
    "duration": 313,
    "start_time": "2022-08-04T17:43:21.781Z"
   }
  ],
  "kernelspec": {
   "display_name": "Python 3 (ipykernel)",
   "language": "python",
   "name": "python3"
  },
  "language_info": {
   "codemirror_mode": {
    "name": "ipython",
    "version": 3
   },
   "file_extension": ".py",
   "mimetype": "text/x-python",
   "name": "python",
   "nbconvert_exporter": "python",
   "pygments_lexer": "ipython3",
   "version": "3.9.5"
  },
  "toc": {
   "base_numbering": 1,
   "nav_menu": {},
   "number_sections": true,
   "sideBar": true,
   "skip_h1_title": true,
   "title_cell": "Содержание",
   "title_sidebar": "Contents",
   "toc_cell": true,
   "toc_position": {
    "height": "calc(100% - 180px)",
    "left": "10px",
    "top": "150px",
    "width": "165px"
   },
   "toc_section_display": true,
   "toc_window_display": true
  }
 },
 "nbformat": 4,
 "nbformat_minor": 2
}
