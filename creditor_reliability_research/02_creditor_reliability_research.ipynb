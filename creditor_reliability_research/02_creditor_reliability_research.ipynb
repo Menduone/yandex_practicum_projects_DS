{
 "cells": [
  {
   "cell_type": "markdown",
   "id": "41800bad",
   "metadata": {},
   "source": [
    "# Исследование надежности заемщиков."
   ]
  },
  {
   "cell_type": "markdown",
   "id": "35a40e62",
   "metadata": {},
   "source": [
    "# Описание проекта\n",
    "Заказчик — кредитный отдел банка. Нужно разобраться, влияет ли семейное положение и количество детей клиента на факт погашения кредита в срок. Входные данные от банка — статистика о платёжеспособности клиентов.\n",
    "Результаты исследования будут учтены при построении модели кредитного скоринга — специальной системы, которая оценивает способность потенциального заёмщика вернуть кредит банку.\n"
   ]
  },
  {
   "cell_type": "markdown",
   "id": "c096ec82",
   "metadata": {},
   "source": [
    "### Шаг 1. Обзор данных"
   ]
  },
  {
   "cell_type": "code",
   "execution_count": 1,
   "id": "fcacc560",
   "metadata": {},
   "outputs": [
    {
     "data": {
      "text/html": [
       "<div>\n",
       "<style scoped>\n",
       "    .dataframe tbody tr th:only-of-type {\n",
       "        vertical-align: middle;\n",
       "    }\n",
       "\n",
       "    .dataframe tbody tr th {\n",
       "        vertical-align: top;\n",
       "    }\n",
       "\n",
       "    .dataframe thead th {\n",
       "        text-align: right;\n",
       "    }\n",
       "</style>\n",
       "<table border=\"1\" class=\"dataframe\">\n",
       "  <thead>\n",
       "    <tr style=\"text-align: right;\">\n",
       "      <th></th>\n",
       "      <th>children</th>\n",
       "      <th>days_employed</th>\n",
       "      <th>dob_years</th>\n",
       "      <th>education</th>\n",
       "      <th>education_id</th>\n",
       "      <th>family_status</th>\n",
       "      <th>family_status_id</th>\n",
       "      <th>gender</th>\n",
       "      <th>income_type</th>\n",
       "      <th>debt</th>\n",
       "      <th>total_income</th>\n",
       "      <th>purpose</th>\n",
       "    </tr>\n",
       "  </thead>\n",
       "  <tbody>\n",
       "    <tr>\n",
       "      <th>0</th>\n",
       "      <td>1</td>\n",
       "      <td>-8437.673028</td>\n",
       "      <td>42</td>\n",
       "      <td>высшее</td>\n",
       "      <td>0</td>\n",
       "      <td>женат / замужем</td>\n",
       "      <td>0</td>\n",
       "      <td>F</td>\n",
       "      <td>сотрудник</td>\n",
       "      <td>0</td>\n",
       "      <td>253875.639453</td>\n",
       "      <td>покупка жилья</td>\n",
       "    </tr>\n",
       "    <tr>\n",
       "      <th>1</th>\n",
       "      <td>1</td>\n",
       "      <td>-4024.803754</td>\n",
       "      <td>36</td>\n",
       "      <td>среднее</td>\n",
       "      <td>1</td>\n",
       "      <td>женат / замужем</td>\n",
       "      <td>0</td>\n",
       "      <td>F</td>\n",
       "      <td>сотрудник</td>\n",
       "      <td>0</td>\n",
       "      <td>112080.014102</td>\n",
       "      <td>приобретение автомобиля</td>\n",
       "    </tr>\n",
       "    <tr>\n",
       "      <th>2</th>\n",
       "      <td>0</td>\n",
       "      <td>-5623.422610</td>\n",
       "      <td>33</td>\n",
       "      <td>Среднее</td>\n",
       "      <td>1</td>\n",
       "      <td>женат / замужем</td>\n",
       "      <td>0</td>\n",
       "      <td>M</td>\n",
       "      <td>сотрудник</td>\n",
       "      <td>0</td>\n",
       "      <td>145885.952297</td>\n",
       "      <td>покупка жилья</td>\n",
       "    </tr>\n",
       "    <tr>\n",
       "      <th>3</th>\n",
       "      <td>3</td>\n",
       "      <td>-4124.747207</td>\n",
       "      <td>32</td>\n",
       "      <td>среднее</td>\n",
       "      <td>1</td>\n",
       "      <td>женат / замужем</td>\n",
       "      <td>0</td>\n",
       "      <td>M</td>\n",
       "      <td>сотрудник</td>\n",
       "      <td>0</td>\n",
       "      <td>267628.550329</td>\n",
       "      <td>дополнительное образование</td>\n",
       "    </tr>\n",
       "    <tr>\n",
       "      <th>4</th>\n",
       "      <td>0</td>\n",
       "      <td>340266.072047</td>\n",
       "      <td>53</td>\n",
       "      <td>среднее</td>\n",
       "      <td>1</td>\n",
       "      <td>гражданский брак</td>\n",
       "      <td>1</td>\n",
       "      <td>F</td>\n",
       "      <td>пенсионер</td>\n",
       "      <td>0</td>\n",
       "      <td>158616.077870</td>\n",
       "      <td>сыграть свадьбу</td>\n",
       "    </tr>\n",
       "    <tr>\n",
       "      <th>5</th>\n",
       "      <td>0</td>\n",
       "      <td>-926.185831</td>\n",
       "      <td>27</td>\n",
       "      <td>высшее</td>\n",
       "      <td>0</td>\n",
       "      <td>гражданский брак</td>\n",
       "      <td>1</td>\n",
       "      <td>M</td>\n",
       "      <td>компаньон</td>\n",
       "      <td>0</td>\n",
       "      <td>255763.565419</td>\n",
       "      <td>покупка жилья</td>\n",
       "    </tr>\n",
       "    <tr>\n",
       "      <th>6</th>\n",
       "      <td>0</td>\n",
       "      <td>-2879.202052</td>\n",
       "      <td>43</td>\n",
       "      <td>высшее</td>\n",
       "      <td>0</td>\n",
       "      <td>женат / замужем</td>\n",
       "      <td>0</td>\n",
       "      <td>F</td>\n",
       "      <td>компаньон</td>\n",
       "      <td>0</td>\n",
       "      <td>240525.971920</td>\n",
       "      <td>операции с жильем</td>\n",
       "    </tr>\n",
       "    <tr>\n",
       "      <th>7</th>\n",
       "      <td>0</td>\n",
       "      <td>-152.779569</td>\n",
       "      <td>50</td>\n",
       "      <td>СРЕДНЕЕ</td>\n",
       "      <td>1</td>\n",
       "      <td>женат / замужем</td>\n",
       "      <td>0</td>\n",
       "      <td>M</td>\n",
       "      <td>сотрудник</td>\n",
       "      <td>0</td>\n",
       "      <td>135823.934197</td>\n",
       "      <td>образование</td>\n",
       "    </tr>\n",
       "    <tr>\n",
       "      <th>8</th>\n",
       "      <td>2</td>\n",
       "      <td>-6929.865299</td>\n",
       "      <td>35</td>\n",
       "      <td>ВЫСШЕЕ</td>\n",
       "      <td>0</td>\n",
       "      <td>гражданский брак</td>\n",
       "      <td>1</td>\n",
       "      <td>F</td>\n",
       "      <td>сотрудник</td>\n",
       "      <td>0</td>\n",
       "      <td>95856.832424</td>\n",
       "      <td>на проведение свадьбы</td>\n",
       "    </tr>\n",
       "    <tr>\n",
       "      <th>9</th>\n",
       "      <td>0</td>\n",
       "      <td>-2188.756445</td>\n",
       "      <td>41</td>\n",
       "      <td>среднее</td>\n",
       "      <td>1</td>\n",
       "      <td>женат / замужем</td>\n",
       "      <td>0</td>\n",
       "      <td>M</td>\n",
       "      <td>сотрудник</td>\n",
       "      <td>0</td>\n",
       "      <td>144425.938277</td>\n",
       "      <td>покупка жилья для семьи</td>\n",
       "    </tr>\n",
       "    <tr>\n",
       "      <th>10</th>\n",
       "      <td>2</td>\n",
       "      <td>-4171.483647</td>\n",
       "      <td>36</td>\n",
       "      <td>высшее</td>\n",
       "      <td>0</td>\n",
       "      <td>женат / замужем</td>\n",
       "      <td>0</td>\n",
       "      <td>M</td>\n",
       "      <td>компаньон</td>\n",
       "      <td>0</td>\n",
       "      <td>113943.491460</td>\n",
       "      <td>покупка недвижимости</td>\n",
       "    </tr>\n",
       "    <tr>\n",
       "      <th>11</th>\n",
       "      <td>0</td>\n",
       "      <td>-792.701887</td>\n",
       "      <td>40</td>\n",
       "      <td>среднее</td>\n",
       "      <td>1</td>\n",
       "      <td>женат / замужем</td>\n",
       "      <td>0</td>\n",
       "      <td>F</td>\n",
       "      <td>сотрудник</td>\n",
       "      <td>0</td>\n",
       "      <td>77069.234271</td>\n",
       "      <td>покупка коммерческой недвижимости</td>\n",
       "    </tr>\n",
       "    <tr>\n",
       "      <th>12</th>\n",
       "      <td>0</td>\n",
       "      <td>NaN</td>\n",
       "      <td>65</td>\n",
       "      <td>среднее</td>\n",
       "      <td>1</td>\n",
       "      <td>гражданский брак</td>\n",
       "      <td>1</td>\n",
       "      <td>M</td>\n",
       "      <td>пенсионер</td>\n",
       "      <td>0</td>\n",
       "      <td>NaN</td>\n",
       "      <td>сыграть свадьбу</td>\n",
       "    </tr>\n",
       "    <tr>\n",
       "      <th>13</th>\n",
       "      <td>0</td>\n",
       "      <td>-1846.641941</td>\n",
       "      <td>54</td>\n",
       "      <td>неоконченное высшее</td>\n",
       "      <td>2</td>\n",
       "      <td>женат / замужем</td>\n",
       "      <td>0</td>\n",
       "      <td>F</td>\n",
       "      <td>сотрудник</td>\n",
       "      <td>0</td>\n",
       "      <td>130458.228857</td>\n",
       "      <td>приобретение автомобиля</td>\n",
       "    </tr>\n",
       "    <tr>\n",
       "      <th>14</th>\n",
       "      <td>0</td>\n",
       "      <td>-1844.956182</td>\n",
       "      <td>56</td>\n",
       "      <td>высшее</td>\n",
       "      <td>0</td>\n",
       "      <td>гражданский брак</td>\n",
       "      <td>1</td>\n",
       "      <td>F</td>\n",
       "      <td>компаньон</td>\n",
       "      <td>1</td>\n",
       "      <td>165127.911772</td>\n",
       "      <td>покупка жилой недвижимости</td>\n",
       "    </tr>\n",
       "  </tbody>\n",
       "</table>\n",
       "</div>"
      ],
      "text/plain": [
       "    children  days_employed  dob_years            education  education_id  \\\n",
       "0          1   -8437.673028         42               высшее             0   \n",
       "1          1   -4024.803754         36              среднее             1   \n",
       "2          0   -5623.422610         33              Среднее             1   \n",
       "3          3   -4124.747207         32              среднее             1   \n",
       "4          0  340266.072047         53              среднее             1   \n",
       "5          0    -926.185831         27               высшее             0   \n",
       "6          0   -2879.202052         43               высшее             0   \n",
       "7          0    -152.779569         50              СРЕДНЕЕ             1   \n",
       "8          2   -6929.865299         35               ВЫСШЕЕ             0   \n",
       "9          0   -2188.756445         41              среднее             1   \n",
       "10         2   -4171.483647         36               высшее             0   \n",
       "11         0    -792.701887         40              среднее             1   \n",
       "12         0            NaN         65              среднее             1   \n",
       "13         0   -1846.641941         54  неоконченное высшее             2   \n",
       "14         0   -1844.956182         56               высшее             0   \n",
       "\n",
       "       family_status  family_status_id gender income_type  debt  \\\n",
       "0    женат / замужем                 0      F   сотрудник     0   \n",
       "1    женат / замужем                 0      F   сотрудник     0   \n",
       "2    женат / замужем                 0      M   сотрудник     0   \n",
       "3    женат / замужем                 0      M   сотрудник     0   \n",
       "4   гражданский брак                 1      F   пенсионер     0   \n",
       "5   гражданский брак                 1      M   компаньон     0   \n",
       "6    женат / замужем                 0      F   компаньон     0   \n",
       "7    женат / замужем                 0      M   сотрудник     0   \n",
       "8   гражданский брак                 1      F   сотрудник     0   \n",
       "9    женат / замужем                 0      M   сотрудник     0   \n",
       "10   женат / замужем                 0      M   компаньон     0   \n",
       "11   женат / замужем                 0      F   сотрудник     0   \n",
       "12  гражданский брак                 1      M   пенсионер     0   \n",
       "13   женат / замужем                 0      F   сотрудник     0   \n",
       "14  гражданский брак                 1      F   компаньон     1   \n",
       "\n",
       "     total_income                            purpose  \n",
       "0   253875.639453                      покупка жилья  \n",
       "1   112080.014102            приобретение автомобиля  \n",
       "2   145885.952297                      покупка жилья  \n",
       "3   267628.550329         дополнительное образование  \n",
       "4   158616.077870                    сыграть свадьбу  \n",
       "5   255763.565419                      покупка жилья  \n",
       "6   240525.971920                  операции с жильем  \n",
       "7   135823.934197                        образование  \n",
       "8    95856.832424              на проведение свадьбы  \n",
       "9   144425.938277            покупка жилья для семьи  \n",
       "10  113943.491460               покупка недвижимости  \n",
       "11   77069.234271  покупка коммерческой недвижимости  \n",
       "12            NaN                    сыграть свадьбу  \n",
       "13  130458.228857            приобретение автомобиля  \n",
       "14  165127.911772         покупка жилой недвижимости  "
      ]
     },
     "execution_count": 1,
     "metadata": {},
     "output_type": "execute_result"
    }
   ],
   "source": [
    "import pandas as pd\n",
    "data = pd.read_csv('/datasets/data.csv')\n",
    "data.head(15)\n",
    "# data.tail(15)"
   ]
  },
  {
   "cell_type": "code",
   "execution_count": 2,
   "id": "6fb2f64d",
   "metadata": {},
   "outputs": [
    {
     "name": "stdout",
     "output_type": "stream",
     "text": [
      "<class 'pandas.core.frame.DataFrame'>\n",
      "RangeIndex: 21525 entries, 0 to 21524\n",
      "Data columns (total 12 columns):\n",
      " #   Column            Non-Null Count  Dtype  \n",
      "---  ------            --------------  -----  \n",
      " 0   children          21525 non-null  int64  \n",
      " 1   days_employed     19351 non-null  float64\n",
      " 2   dob_years         21525 non-null  int64  \n",
      " 3   education         21525 non-null  object \n",
      " 4   education_id      21525 non-null  int64  \n",
      " 5   family_status     21525 non-null  object \n",
      " 6   family_status_id  21525 non-null  int64  \n",
      " 7   gender            21525 non-null  object \n",
      " 8   income_type       21525 non-null  object \n",
      " 9   debt              21525 non-null  int64  \n",
      " 10  total_income      19351 non-null  float64\n",
      " 11  purpose           21525 non-null  object \n",
      "dtypes: float64(2), int64(5), object(5)\n",
      "memory usage: 2.0+ MB\n"
     ]
    }
   ],
   "source": [
    "data.info()"
   ]
  },
  {
   "cell_type": "markdown",
   "id": "2ba32eab",
   "metadata": {},
   "source": [
    "**Описание данных**\n",
    "\n",
    "* `children` - количество детей в семье\n",
    "* `days_employed` — общий трудовой стаж в днях\n",
    "* `dob_years` — возраст клиента в годах\n",
    "* `education` — уровень образования клиента\n",
    "* `education_id` — идентификатор уровня образования\n",
    "* `family_status` — семейное положение\n",
    "* `family_status_id` — идентификатор семейного положения\n",
    "* `gender` — пол клиента\n",
    "* `income_type` — тип занятости\n",
    "* `debt` — имел ли задолженность по возврату кредитов\n",
    "* `total_income` — ежемесячный доход\n",
    "* `purpose` — цель получения кредита"
   ]
  },
  {
   "cell_type": "code",
   "execution_count": 3,
   "id": "746c8a4c",
   "metadata": {},
   "outputs": [
    {
     "data": {
      "text/html": [
       "<div>\n",
       "<style scoped>\n",
       "    .dataframe tbody tr th:only-of-type {\n",
       "        vertical-align: middle;\n",
       "    }\n",
       "\n",
       "    .dataframe tbody tr th {\n",
       "        vertical-align: top;\n",
       "    }\n",
       "\n",
       "    .dataframe thead th {\n",
       "        text-align: right;\n",
       "    }\n",
       "</style>\n",
       "<table border=\"1\" class=\"dataframe\">\n",
       "  <thead>\n",
       "    <tr style=\"text-align: right;\">\n",
       "      <th></th>\n",
       "      <th>children</th>\n",
       "      <th>days_employed</th>\n",
       "      <th>dob_years</th>\n",
       "      <th>education_id</th>\n",
       "      <th>family_status_id</th>\n",
       "      <th>debt</th>\n",
       "      <th>total_income</th>\n",
       "    </tr>\n",
       "  </thead>\n",
       "  <tbody>\n",
       "    <tr>\n",
       "      <th>count</th>\n",
       "      <td>21525.000000</td>\n",
       "      <td>19351.000000</td>\n",
       "      <td>21525.000000</td>\n",
       "      <td>21525.000000</td>\n",
       "      <td>21525.000000</td>\n",
       "      <td>21525.000000</td>\n",
       "      <td>1.935100e+04</td>\n",
       "    </tr>\n",
       "    <tr>\n",
       "      <th>mean</th>\n",
       "      <td>0.538908</td>\n",
       "      <td>63046.497661</td>\n",
       "      <td>43.293380</td>\n",
       "      <td>0.817236</td>\n",
       "      <td>0.972544</td>\n",
       "      <td>0.080883</td>\n",
       "      <td>1.674223e+05</td>\n",
       "    </tr>\n",
       "    <tr>\n",
       "      <th>std</th>\n",
       "      <td>1.381587</td>\n",
       "      <td>140827.311974</td>\n",
       "      <td>12.574584</td>\n",
       "      <td>0.548138</td>\n",
       "      <td>1.420324</td>\n",
       "      <td>0.272661</td>\n",
       "      <td>1.029716e+05</td>\n",
       "    </tr>\n",
       "    <tr>\n",
       "      <th>min</th>\n",
       "      <td>-1.000000</td>\n",
       "      <td>-18388.949901</td>\n",
       "      <td>0.000000</td>\n",
       "      <td>0.000000</td>\n",
       "      <td>0.000000</td>\n",
       "      <td>0.000000</td>\n",
       "      <td>2.066726e+04</td>\n",
       "    </tr>\n",
       "    <tr>\n",
       "      <th>25%</th>\n",
       "      <td>0.000000</td>\n",
       "      <td>-2747.423625</td>\n",
       "      <td>33.000000</td>\n",
       "      <td>1.000000</td>\n",
       "      <td>0.000000</td>\n",
       "      <td>0.000000</td>\n",
       "      <td>1.030532e+05</td>\n",
       "    </tr>\n",
       "    <tr>\n",
       "      <th>50%</th>\n",
       "      <td>0.000000</td>\n",
       "      <td>-1203.369529</td>\n",
       "      <td>42.000000</td>\n",
       "      <td>1.000000</td>\n",
       "      <td>0.000000</td>\n",
       "      <td>0.000000</td>\n",
       "      <td>1.450179e+05</td>\n",
       "    </tr>\n",
       "    <tr>\n",
       "      <th>75%</th>\n",
       "      <td>1.000000</td>\n",
       "      <td>-291.095954</td>\n",
       "      <td>53.000000</td>\n",
       "      <td>1.000000</td>\n",
       "      <td>1.000000</td>\n",
       "      <td>0.000000</td>\n",
       "      <td>2.034351e+05</td>\n",
       "    </tr>\n",
       "    <tr>\n",
       "      <th>max</th>\n",
       "      <td>20.000000</td>\n",
       "      <td>401755.400475</td>\n",
       "      <td>75.000000</td>\n",
       "      <td>4.000000</td>\n",
       "      <td>4.000000</td>\n",
       "      <td>1.000000</td>\n",
       "      <td>2.265604e+06</td>\n",
       "    </tr>\n",
       "  </tbody>\n",
       "</table>\n",
       "</div>"
      ],
      "text/plain": [
       "           children  days_employed     dob_years  education_id  \\\n",
       "count  21525.000000   19351.000000  21525.000000  21525.000000   \n",
       "mean       0.538908   63046.497661     43.293380      0.817236   \n",
       "std        1.381587  140827.311974     12.574584      0.548138   \n",
       "min       -1.000000  -18388.949901      0.000000      0.000000   \n",
       "25%        0.000000   -2747.423625     33.000000      1.000000   \n",
       "50%        0.000000   -1203.369529     42.000000      1.000000   \n",
       "75%        1.000000    -291.095954     53.000000      1.000000   \n",
       "max       20.000000  401755.400475     75.000000      4.000000   \n",
       "\n",
       "       family_status_id          debt  total_income  \n",
       "count      21525.000000  21525.000000  1.935100e+04  \n",
       "mean           0.972544      0.080883  1.674223e+05  \n",
       "std            1.420324      0.272661  1.029716e+05  \n",
       "min            0.000000      0.000000  2.066726e+04  \n",
       "25%            0.000000      0.000000  1.030532e+05  \n",
       "50%            0.000000      0.000000  1.450179e+05  \n",
       "75%            1.000000      0.000000  2.034351e+05  \n",
       "max            4.000000      1.000000  2.265604e+06  "
      ]
     },
     "execution_count": 3,
     "metadata": {},
     "output_type": "execute_result"
    }
   ],
   "source": [
    "data.describe()"
   ]
  },
  {
   "cell_type": "code",
   "execution_count": 4,
   "id": "2b3f722e",
   "metadata": {},
   "outputs": [
    {
     "data": {
      "text/plain": [
       "20"
      ]
     },
     "execution_count": 4,
     "metadata": {},
     "output_type": "execute_result"
    }
   ],
   "source": [
    "data['children'].max() "
   ]
  },
  {
   "cell_type": "markdown",
   "id": "c5da7637",
   "metadata": {},
   "source": [
    "* Возможно ли такое кол-во детей или нет, мы не знаем. Может быть это человеческий фактор при заполнении сказался. Так как у нас стоит вопрос: `\"Есть ли зависимость между количеством детей и возвратом кредита в срок?\"` это может повлить. "
   ]
  },
  {
   "cell_type": "code",
   "execution_count": 5,
   "id": "a29bd062",
   "metadata": {},
   "outputs": [
    {
     "data": {
      "text/plain": [
       "172.73013057937914"
      ]
     },
     "execution_count": 5,
     "metadata": {},
     "output_type": "execute_result"
    }
   ],
   "source": [
    "data['days_employed'].mean() / 365 # среднее поделил на кол-во дней в году и получил среднюю продолжительность стажа"
   ]
  },
  {
   "cell_type": "markdown",
   "id": "a6648cfd",
   "metadata": {},
   "source": [
    "* Такое невозможно, ну только если ты не вампир. Видимо, ошибка при заполнении данных (но это не точно). "
   ]
  },
  {
   "cell_type": "code",
   "execution_count": 6,
   "id": "cb129d84",
   "metadata": {},
   "outputs": [
    {
     "data": {
      "text/plain": [
       "0"
      ]
     },
     "execution_count": 6,
     "metadata": {},
     "output_type": "execute_result"
    }
   ],
   "source": [
    "data['dob_years'].min()"
   ]
  },
  {
   "cell_type": "markdown",
   "id": "0e747944",
   "metadata": {},
   "source": [
    "* `dob_years` — возраст клиента в годах. Такого рода ошибка не понятна. Почему произошла тоже неизвестно. Может быть не указали, но как тогда кредит выдали. Может быть человечский фактор."
   ]
  },
  {
   "cell_type": "markdown",
   "id": "7ac00730",
   "metadata": {},
   "source": [
    "**Обнаруженные ошибки**\n",
    "\n",
    "* Видны пропущенные значения в столбцах: `days_employed, total_income`. В столбце `days_employed` присутствуют отрицательные значения. Также в этой колонке есть слишком большие стажи (такое мало вероятно в наших реалиях). Неизвестно по какой причине и нужны ли нам эти значения вообще;\n",
    "* В колонке `education`  есть прописные буквы;\n",
    "* Человеческий фактор при заполнении данных или что-то пошло не так (в таких как `children` , `dob_years`)"
   ]
  },
  {
   "cell_type": "markdown",
   "id": "c36b7461",
   "metadata": {},
   "source": [
    "### Шаг 2.1 Заполнение пропусков"
   ]
  },
  {
   "cell_type": "code",
   "execution_count": 7,
   "id": "710f96c3",
   "metadata": {},
   "outputs": [
    {
     "data": {
      "text/plain": [
       "children               0\n",
       "days_employed       2174\n",
       "dob_years              0\n",
       "education              0\n",
       "education_id           0\n",
       "family_status          0\n",
       "family_status_id       0\n",
       "gender                 0\n",
       "income_type            0\n",
       "debt                   0\n",
       "total_income        2174\n",
       "purpose                0\n",
       "dtype: int64"
      ]
     },
     "execution_count": 7,
     "metadata": {},
     "output_type": "execute_result"
    }
   ],
   "source": [
    "data.isna().sum()"
   ]
  },
  {
   "cell_type": "markdown",
   "id": "b096ccdd",
   "metadata": {},
   "source": [
    "**Обзор**\n",
    "\n",
    "Тут мы видим количество пропущенных значений в двух столбцах: `data[['days_employed', 'total_income']]`. Мы их видели еще ранее, при помощи метода `info()`, но тут мы видим их количество"
   ]
  },
  {
   "cell_type": "code",
   "execution_count": 8,
   "id": "36aeb460",
   "metadata": {},
   "outputs": [
    {
     "data": {
      "text/html": [
       "<div>\n",
       "<style scoped>\n",
       "    .dataframe tbody tr th:only-of-type {\n",
       "        vertical-align: middle;\n",
       "    }\n",
       "\n",
       "    .dataframe tbody tr th {\n",
       "        vertical-align: top;\n",
       "    }\n",
       "\n",
       "    .dataframe thead th {\n",
       "        text-align: right;\n",
       "    }\n",
       "</style>\n",
       "<table border=\"1\" class=\"dataframe\">\n",
       "  <thead>\n",
       "    <tr style=\"text-align: right;\">\n",
       "      <th></th>\n",
       "      <th>children</th>\n",
       "      <th>days_employed</th>\n",
       "      <th>dob_years</th>\n",
       "      <th>education</th>\n",
       "      <th>education_id</th>\n",
       "      <th>family_status</th>\n",
       "      <th>family_status_id</th>\n",
       "      <th>gender</th>\n",
       "      <th>income_type</th>\n",
       "      <th>debt</th>\n",
       "      <th>total_income</th>\n",
       "      <th>purpose</th>\n",
       "    </tr>\n",
       "  </thead>\n",
       "  <tbody>\n",
       "    <tr>\n",
       "      <th>12</th>\n",
       "      <td>0</td>\n",
       "      <td>NaN</td>\n",
       "      <td>65</td>\n",
       "      <td>среднее</td>\n",
       "      <td>1</td>\n",
       "      <td>гражданский брак</td>\n",
       "      <td>1</td>\n",
       "      <td>M</td>\n",
       "      <td>пенсионер</td>\n",
       "      <td>0</td>\n",
       "      <td>NaN</td>\n",
       "      <td>сыграть свадьбу</td>\n",
       "    </tr>\n",
       "    <tr>\n",
       "      <th>26</th>\n",
       "      <td>0</td>\n",
       "      <td>NaN</td>\n",
       "      <td>41</td>\n",
       "      <td>среднее</td>\n",
       "      <td>1</td>\n",
       "      <td>женат / замужем</td>\n",
       "      <td>0</td>\n",
       "      <td>M</td>\n",
       "      <td>госслужащий</td>\n",
       "      <td>0</td>\n",
       "      <td>NaN</td>\n",
       "      <td>образование</td>\n",
       "    </tr>\n",
       "    <tr>\n",
       "      <th>29</th>\n",
       "      <td>0</td>\n",
       "      <td>NaN</td>\n",
       "      <td>63</td>\n",
       "      <td>среднее</td>\n",
       "      <td>1</td>\n",
       "      <td>Не женат / не замужем</td>\n",
       "      <td>4</td>\n",
       "      <td>F</td>\n",
       "      <td>пенсионер</td>\n",
       "      <td>0</td>\n",
       "      <td>NaN</td>\n",
       "      <td>строительство жилой недвижимости</td>\n",
       "    </tr>\n",
       "    <tr>\n",
       "      <th>41</th>\n",
       "      <td>0</td>\n",
       "      <td>NaN</td>\n",
       "      <td>50</td>\n",
       "      <td>среднее</td>\n",
       "      <td>1</td>\n",
       "      <td>женат / замужем</td>\n",
       "      <td>0</td>\n",
       "      <td>F</td>\n",
       "      <td>госслужащий</td>\n",
       "      <td>0</td>\n",
       "      <td>NaN</td>\n",
       "      <td>сделка с подержанным автомобилем</td>\n",
       "    </tr>\n",
       "    <tr>\n",
       "      <th>55</th>\n",
       "      <td>0</td>\n",
       "      <td>NaN</td>\n",
       "      <td>54</td>\n",
       "      <td>среднее</td>\n",
       "      <td>1</td>\n",
       "      <td>гражданский брак</td>\n",
       "      <td>1</td>\n",
       "      <td>F</td>\n",
       "      <td>пенсионер</td>\n",
       "      <td>1</td>\n",
       "      <td>NaN</td>\n",
       "      <td>сыграть свадьбу</td>\n",
       "    </tr>\n",
       "    <tr>\n",
       "      <th>...</th>\n",
       "      <td>...</td>\n",
       "      <td>...</td>\n",
       "      <td>...</td>\n",
       "      <td>...</td>\n",
       "      <td>...</td>\n",
       "      <td>...</td>\n",
       "      <td>...</td>\n",
       "      <td>...</td>\n",
       "      <td>...</td>\n",
       "      <td>...</td>\n",
       "      <td>...</td>\n",
       "      <td>...</td>\n",
       "    </tr>\n",
       "    <tr>\n",
       "      <th>21489</th>\n",
       "      <td>2</td>\n",
       "      <td>NaN</td>\n",
       "      <td>47</td>\n",
       "      <td>Среднее</td>\n",
       "      <td>1</td>\n",
       "      <td>женат / замужем</td>\n",
       "      <td>0</td>\n",
       "      <td>M</td>\n",
       "      <td>компаньон</td>\n",
       "      <td>0</td>\n",
       "      <td>NaN</td>\n",
       "      <td>сделка с автомобилем</td>\n",
       "    </tr>\n",
       "    <tr>\n",
       "      <th>21495</th>\n",
       "      <td>1</td>\n",
       "      <td>NaN</td>\n",
       "      <td>50</td>\n",
       "      <td>среднее</td>\n",
       "      <td>1</td>\n",
       "      <td>гражданский брак</td>\n",
       "      <td>1</td>\n",
       "      <td>F</td>\n",
       "      <td>сотрудник</td>\n",
       "      <td>0</td>\n",
       "      <td>NaN</td>\n",
       "      <td>свадьба</td>\n",
       "    </tr>\n",
       "    <tr>\n",
       "      <th>21497</th>\n",
       "      <td>0</td>\n",
       "      <td>NaN</td>\n",
       "      <td>48</td>\n",
       "      <td>ВЫСШЕЕ</td>\n",
       "      <td>0</td>\n",
       "      <td>женат / замужем</td>\n",
       "      <td>0</td>\n",
       "      <td>F</td>\n",
       "      <td>компаньон</td>\n",
       "      <td>0</td>\n",
       "      <td>NaN</td>\n",
       "      <td>строительство недвижимости</td>\n",
       "    </tr>\n",
       "    <tr>\n",
       "      <th>21502</th>\n",
       "      <td>1</td>\n",
       "      <td>NaN</td>\n",
       "      <td>42</td>\n",
       "      <td>среднее</td>\n",
       "      <td>1</td>\n",
       "      <td>женат / замужем</td>\n",
       "      <td>0</td>\n",
       "      <td>F</td>\n",
       "      <td>сотрудник</td>\n",
       "      <td>0</td>\n",
       "      <td>NaN</td>\n",
       "      <td>строительство жилой недвижимости</td>\n",
       "    </tr>\n",
       "    <tr>\n",
       "      <th>21510</th>\n",
       "      <td>2</td>\n",
       "      <td>NaN</td>\n",
       "      <td>28</td>\n",
       "      <td>среднее</td>\n",
       "      <td>1</td>\n",
       "      <td>женат / замужем</td>\n",
       "      <td>0</td>\n",
       "      <td>F</td>\n",
       "      <td>сотрудник</td>\n",
       "      <td>0</td>\n",
       "      <td>NaN</td>\n",
       "      <td>приобретение автомобиля</td>\n",
       "    </tr>\n",
       "  </tbody>\n",
       "</table>\n",
       "<p>2174 rows × 12 columns</p>\n",
       "</div>"
      ],
      "text/plain": [
       "       children  days_employed  dob_years education  education_id  \\\n",
       "12            0            NaN         65   среднее             1   \n",
       "26            0            NaN         41   среднее             1   \n",
       "29            0            NaN         63   среднее             1   \n",
       "41            0            NaN         50   среднее             1   \n",
       "55            0            NaN         54   среднее             1   \n",
       "...         ...            ...        ...       ...           ...   \n",
       "21489         2            NaN         47   Среднее             1   \n",
       "21495         1            NaN         50   среднее             1   \n",
       "21497         0            NaN         48    ВЫСШЕЕ             0   \n",
       "21502         1            NaN         42   среднее             1   \n",
       "21510         2            NaN         28   среднее             1   \n",
       "\n",
       "               family_status  family_status_id gender  income_type  debt  \\\n",
       "12          гражданский брак                 1      M    пенсионер     0   \n",
       "26           женат / замужем                 0      M  госслужащий     0   \n",
       "29     Не женат / не замужем                 4      F    пенсионер     0   \n",
       "41           женат / замужем                 0      F  госслужащий     0   \n",
       "55          гражданский брак                 1      F    пенсионер     1   \n",
       "...                      ...               ...    ...          ...   ...   \n",
       "21489        женат / замужем                 0      M    компаньон     0   \n",
       "21495       гражданский брак                 1      F    сотрудник     0   \n",
       "21497        женат / замужем                 0      F    компаньон     0   \n",
       "21502        женат / замужем                 0      F    сотрудник     0   \n",
       "21510        женат / замужем                 0      F    сотрудник     0   \n",
       "\n",
       "       total_income                           purpose  \n",
       "12              NaN                   сыграть свадьбу  \n",
       "26              NaN                       образование  \n",
       "29              NaN  строительство жилой недвижимости  \n",
       "41              NaN  сделка с подержанным автомобилем  \n",
       "55              NaN                   сыграть свадьбу  \n",
       "...             ...                               ...  \n",
       "21489           NaN              сделка с автомобилем  \n",
       "21495           NaN                           свадьба  \n",
       "21497           NaN        строительство недвижимости  \n",
       "21502           NaN  строительство жилой недвижимости  \n",
       "21510           NaN           приобретение автомобиля  \n",
       "\n",
       "[2174 rows x 12 columns]"
      ]
     },
     "execution_count": 8,
     "metadata": {},
     "output_type": "execute_result"
    }
   ],
   "source": [
    "data.loc[(data['days_employed'].isna())&(data['total_income'].isna())]"
   ]
  },
  {
   "cell_type": "markdown",
   "id": "bc3e59b5",
   "metadata": {},
   "source": [
    "* Тут мы видим одинаковые пропущенные значения для одних и те же строк для колонок: `days_employed и total_income`; \n",
    "* Также они имеют значение `NaN`\n",
    "* Возможная причина появления: Дублирование из-за введение данных либо в доходы, либо в стаже"
   ]
  },
  {
   "cell_type": "code",
   "execution_count": 9,
   "id": "5d767968",
   "metadata": {},
   "outputs": [
    {
     "name": "stdout",
     "output_type": "stream",
     "text": [
      "Доля пропущенных значений в столбце 'days_employed' составляет: 10%\n"
     ]
    }
   ],
   "source": [
    "proportion_of_missing_values1 = data['days_employed'].isna().sum() / len(data) \n",
    "print(f'Доля пропущенных значений в столбце \\'days_employed\\' составляет: {proportion_of_missing_values1:.0%}')"
   ]
  },
  {
   "cell_type": "code",
   "execution_count": 10,
   "id": "83ea826a",
   "metadata": {},
   "outputs": [
    {
     "name": "stdout",
     "output_type": "stream",
     "text": [
      "Доля пропущенных значений в столбце 'total_income' составляет: 10%\n"
     ]
    }
   ],
   "source": [
    "proportion_of_missing_values2 = data['total_income'].isna().sum() / len(data)\n",
    "print(f'Доля пропущенных значений в столбце \\'total_income\\' составляет: {proportion_of_missing_values2:.0%}')"
   ]
  },
  {
   "cell_type": "markdown",
   "id": "f3253706",
   "metadata": {},
   "source": [
    "* Исходя из ранее сказанного, тут логично заявить, что доля пропущенных значений для двух столбцов составляет `10%`"
   ]
  },
  {
   "cell_type": "code",
   "execution_count": 11,
   "id": "6f1819a7",
   "metadata": {},
   "outputs": [
    {
     "data": {
      "text/plain": [
       "145017.93753253992"
      ]
     },
     "execution_count": 11,
     "metadata": {},
     "output_type": "execute_result"
    }
   ],
   "source": [
    "data['total_income'].median()"
   ]
  },
  {
   "cell_type": "code",
   "execution_count": 12,
   "id": "50a9be08",
   "metadata": {},
   "outputs": [
    {
     "name": "stdout",
     "output_type": "stream",
     "text": [
      "0        253875.639453\n",
      "1        112080.014102\n",
      "2        145885.952297\n",
      "3        267628.550329\n",
      "4        158616.077870\n",
      "             ...      \n",
      "21520    224791.862382\n",
      "21521    155999.806512\n",
      "21522     89672.561153\n",
      "21523    244093.050500\n",
      "21524     82047.418899\n",
      "Name: total_income, Length: 21525, dtype: float64\n"
     ]
    }
   ],
   "source": [
    "data['total_income'] = data['total_income'].fillna(value=data['total_income'].median())\n",
    "print(data['total_income'])"
   ]
  },
  {
   "cell_type": "code",
   "execution_count": 13,
   "id": "6fb8180b",
   "metadata": {},
   "outputs": [
    {
     "data": {
      "text/plain": [
       "145017.93753253992"
      ]
     },
     "execution_count": 13,
     "metadata": {},
     "output_type": "execute_result"
    }
   ],
   "source": [
    "data.loc[55, 'total_income'] "
   ]
  },
  {
   "cell_type": "markdown",
   "id": "204fd14a",
   "metadata": {},
   "source": [
    "* Заменили пропущенные данные медианным значением по столбцу\n",
    "* Проверили одну ячейку, точно ли заменились значение NaN на медиану \n",
    "* `Заполнить пропуски медианным значением — лучшее решение для количественных переменных, так как большой разброс в доходах(лучше, чем, например, считать среднее арифметическое)` Наглядный пример: \"У Коли 10 яблок, у Андрея 0, в среднем у каждого по 5\""
   ]
  },
  {
   "cell_type": "code",
   "execution_count": 14,
   "id": "4cb7abdf",
   "metadata": {},
   "outputs": [
    {
     "data": {
      "text/plain": [
       "children               0\n",
       "days_employed       2174\n",
       "dob_years              0\n",
       "education              0\n",
       "education_id           0\n",
       "family_status          0\n",
       "family_status_id       0\n",
       "gender                 0\n",
       "income_type            0\n",
       "debt                   0\n",
       "total_income           0\n",
       "purpose                0\n",
       "dtype: int64"
      ]
     },
     "execution_count": 14,
     "metadata": {},
     "output_type": "execute_result"
    }
   ],
   "source": [
    "# data.head(15)\n",
    "data.isna().sum()"
   ]
  },
  {
   "cell_type": "markdown",
   "id": "dd629880",
   "metadata": {},
   "source": [
    "Проверили еще раз на пропуски, так мы убедимся, что точно идет 'как по маслу'. Видим, что в слобце `'total_income'` пропущенные значения заменились \n",
    "                  "
   ]
  },
  {
   "cell_type": "markdown",
   "id": "75272dd7",
   "metadata": {},
   "source": [
    "### Шаг 2.2 Проверка данных на аномалии и исправления."
   ]
  },
  {
   "cell_type": "code",
   "execution_count": 15,
   "id": "22478902",
   "metadata": {},
   "outputs": [
    {
     "data": {
      "text/html": [
       "<div>\n",
       "<style scoped>\n",
       "    .dataframe tbody tr th:only-of-type {\n",
       "        vertical-align: middle;\n",
       "    }\n",
       "\n",
       "    .dataframe tbody tr th {\n",
       "        vertical-align: top;\n",
       "    }\n",
       "\n",
       "    .dataframe thead th {\n",
       "        text-align: right;\n",
       "    }\n",
       "</style>\n",
       "<table border=\"1\" class=\"dataframe\">\n",
       "  <thead>\n",
       "    <tr style=\"text-align: right;\">\n",
       "      <th></th>\n",
       "      <th>children</th>\n",
       "      <th>days_employed</th>\n",
       "      <th>dob_years</th>\n",
       "      <th>education_id</th>\n",
       "      <th>family_status_id</th>\n",
       "      <th>debt</th>\n",
       "      <th>total_income</th>\n",
       "    </tr>\n",
       "  </thead>\n",
       "  <tbody>\n",
       "    <tr>\n",
       "      <th>count</th>\n",
       "      <td>21525.000000</td>\n",
       "      <td>19351.000000</td>\n",
       "      <td>21525.000000</td>\n",
       "      <td>21525.000000</td>\n",
       "      <td>21525.000000</td>\n",
       "      <td>21525.000000</td>\n",
       "      <td>2.152500e+04</td>\n",
       "    </tr>\n",
       "    <tr>\n",
       "      <th>mean</th>\n",
       "      <td>0.538908</td>\n",
       "      <td>63046.497661</td>\n",
       "      <td>43.293380</td>\n",
       "      <td>0.817236</td>\n",
       "      <td>0.972544</td>\n",
       "      <td>0.080883</td>\n",
       "      <td>1.651595e+05</td>\n",
       "    </tr>\n",
       "    <tr>\n",
       "      <th>std</th>\n",
       "      <td>1.381587</td>\n",
       "      <td>140827.311974</td>\n",
       "      <td>12.574584</td>\n",
       "      <td>0.548138</td>\n",
       "      <td>1.420324</td>\n",
       "      <td>0.272661</td>\n",
       "      <td>9.786607e+04</td>\n",
       "    </tr>\n",
       "    <tr>\n",
       "      <th>min</th>\n",
       "      <td>-1.000000</td>\n",
       "      <td>-18388.949901</td>\n",
       "      <td>0.000000</td>\n",
       "      <td>0.000000</td>\n",
       "      <td>0.000000</td>\n",
       "      <td>0.000000</td>\n",
       "      <td>2.066726e+04</td>\n",
       "    </tr>\n",
       "    <tr>\n",
       "      <th>25%</th>\n",
       "      <td>0.000000</td>\n",
       "      <td>-2747.423625</td>\n",
       "      <td>33.000000</td>\n",
       "      <td>1.000000</td>\n",
       "      <td>0.000000</td>\n",
       "      <td>0.000000</td>\n",
       "      <td>1.077982e+05</td>\n",
       "    </tr>\n",
       "    <tr>\n",
       "      <th>50%</th>\n",
       "      <td>0.000000</td>\n",
       "      <td>-1203.369529</td>\n",
       "      <td>42.000000</td>\n",
       "      <td>1.000000</td>\n",
       "      <td>0.000000</td>\n",
       "      <td>0.000000</td>\n",
       "      <td>1.450179e+05</td>\n",
       "    </tr>\n",
       "    <tr>\n",
       "      <th>75%</th>\n",
       "      <td>1.000000</td>\n",
       "      <td>-291.095954</td>\n",
       "      <td>53.000000</td>\n",
       "      <td>1.000000</td>\n",
       "      <td>1.000000</td>\n",
       "      <td>0.000000</td>\n",
       "      <td>1.955436e+05</td>\n",
       "    </tr>\n",
       "    <tr>\n",
       "      <th>max</th>\n",
       "      <td>20.000000</td>\n",
       "      <td>401755.400475</td>\n",
       "      <td>75.000000</td>\n",
       "      <td>4.000000</td>\n",
       "      <td>4.000000</td>\n",
       "      <td>1.000000</td>\n",
       "      <td>2.265604e+06</td>\n",
       "    </tr>\n",
       "  </tbody>\n",
       "</table>\n",
       "</div>"
      ],
      "text/plain": [
       "           children  days_employed     dob_years  education_id  \\\n",
       "count  21525.000000   19351.000000  21525.000000  21525.000000   \n",
       "mean       0.538908   63046.497661     43.293380      0.817236   \n",
       "std        1.381587  140827.311974     12.574584      0.548138   \n",
       "min       -1.000000  -18388.949901      0.000000      0.000000   \n",
       "25%        0.000000   -2747.423625     33.000000      1.000000   \n",
       "50%        0.000000   -1203.369529     42.000000      1.000000   \n",
       "75%        1.000000    -291.095954     53.000000      1.000000   \n",
       "max       20.000000  401755.400475     75.000000      4.000000   \n",
       "\n",
       "       family_status_id          debt  total_income  \n",
       "count      21525.000000  21525.000000  2.152500e+04  \n",
       "mean           0.972544      0.080883  1.651595e+05  \n",
       "std            1.420324      0.272661  9.786607e+04  \n",
       "min            0.000000      0.000000  2.066726e+04  \n",
       "25%            0.000000      0.000000  1.077982e+05  \n",
       "50%            0.000000      0.000000  1.450179e+05  \n",
       "75%            1.000000      0.000000  1.955436e+05  \n",
       "max            4.000000      1.000000  2.265604e+06  "
      ]
     },
     "execution_count": 15,
     "metadata": {},
     "output_type": "execute_result"
    }
   ],
   "source": [
    "data.describe()"
   ]
  },
  {
   "cell_type": "markdown",
   "id": "6565caf5",
   "metadata": {},
   "source": [
    "Видим аномалию в виде отрицательных чисел. На что это может влиять? Проверим какое кол-во с отрицательным показателем"
   ]
  },
  {
   "cell_type": "code",
   "execution_count": 16,
   "id": "94f69765",
   "metadata": {},
   "outputs": [
    {
     "name": "stdout",
     "output_type": "stream",
     "text": [
      "Количество отрицательных строк в общем трудовом стаже 'days_employed': 15906\n",
      "Количество положительных строк в общем трудовом стаже 'days_employed': 3445\n"
     ]
    }
   ],
   "source": [
    "# dk = data.loc[data['days_employed'] < 0].shape\n",
    "\n",
    "print('Количество отрицательных строк в общем трудовом стаже \\'days_employed\\':', data.loc[data['days_employed'] < 0]\\\n",
    "      .count()[0])\n",
    "print('Количество положительных строк в общем трудовом стаже \\'days_employed\\':', data.loc[data['days_employed'] > 0]\\\n",
    "      .count()[0])"
   ]
  },
  {
   "cell_type": "code",
   "execution_count": 17,
   "id": "057baba8",
   "metadata": {},
   "outputs": [
    {
     "name": "stdout",
     "output_type": "stream",
     "text": [
      "Медиана со всеими значениями (отрицательными и положительными) колонки 'days_employed': -1203.369528770489\n",
      "Среднее со всеими значениями колонки 'days_employed': 63046.49766147338\n"
     ]
    }
   ],
   "source": [
    "median_s_minusom = data['days_employed'].median()\n",
    "print(f'Медиана со всеими значениями (отрицательными и положительными) колонки \\'days_employed\\': {median_s_minusom}')\n",
    "mean = data['days_employed'].mean()\n",
    "print(f'Среднее со всеими значениями колонки \\'days_employed\\': {mean}')"
   ]
  },
  {
   "cell_type": "code",
   "execution_count": 18,
   "id": "ec510705",
   "metadata": {},
   "outputs": [
    {
     "name": "stdout",
     "output_type": "stream",
     "text": [
      "Медиана с превращенными отрицательными значениями в модульные: 2194.220566878695\n"
     ]
    }
   ],
   "source": [
    "data['days_employed'] = abs(data['days_employed'])\n",
    "new_median_s_abs = data['days_employed'].median()\n",
    "print(f'Медиана с превращенными отрицательными значениями в модульные: {new_median_s_abs}')"
   ]
  },
  {
   "cell_type": "markdown",
   "id": "0b893ceb",
   "metadata": {},
   "source": [
    "**ВЫВОД**\n",
    "\n",
    "* Предположу, что это просто некорректный внос данных, хотя очень большое кол-во с ошибками. Но исходя из данных и информации, что у нас есть, мы не можем знать причину возникновения данной аномалии, поэтому данные выбросы можно оставить как есть. "
   ]
  },
  {
   "cell_type": "code",
   "execution_count": 19,
   "id": "a4700777",
   "metadata": {},
   "outputs": [
    {
     "data": {
      "text/plain": [
       "20"
      ]
     },
     "execution_count": 19,
     "metadata": {},
     "output_type": "execute_result"
    }
   ],
   "source": [
    "data['children'].max() "
   ]
  },
  {
   "cell_type": "code",
   "execution_count": 20,
   "id": "18eca694",
   "metadata": {},
   "outputs": [
    {
     "data": {
      "text/html": [
       "<div>\n",
       "<style scoped>\n",
       "    .dataframe tbody tr th:only-of-type {\n",
       "        vertical-align: middle;\n",
       "    }\n",
       "\n",
       "    .dataframe tbody tr th {\n",
       "        vertical-align: top;\n",
       "    }\n",
       "\n",
       "    .dataframe thead th {\n",
       "        text-align: right;\n",
       "    }\n",
       "</style>\n",
       "<table border=\"1\" class=\"dataframe\">\n",
       "  <thead>\n",
       "    <tr style=\"text-align: right;\">\n",
       "      <th></th>\n",
       "      <th>children</th>\n",
       "    </tr>\n",
       "  </thead>\n",
       "  <tbody>\n",
       "    <tr>\n",
       "      <th>0</th>\n",
       "      <td>14149</td>\n",
       "    </tr>\n",
       "    <tr>\n",
       "      <th>1</th>\n",
       "      <td>4818</td>\n",
       "    </tr>\n",
       "    <tr>\n",
       "      <th>2</th>\n",
       "      <td>2055</td>\n",
       "    </tr>\n",
       "    <tr>\n",
       "      <th>3</th>\n",
       "      <td>330</td>\n",
       "    </tr>\n",
       "    <tr>\n",
       "      <th>20</th>\n",
       "      <td>76</td>\n",
       "    </tr>\n",
       "    <tr>\n",
       "      <th>-1</th>\n",
       "      <td>47</td>\n",
       "    </tr>\n",
       "    <tr>\n",
       "      <th>4</th>\n",
       "      <td>41</td>\n",
       "    </tr>\n",
       "    <tr>\n",
       "      <th>5</th>\n",
       "      <td>9</td>\n",
       "    </tr>\n",
       "  </tbody>\n",
       "</table>\n",
       "</div>"
      ],
      "text/plain": [
       "     children\n",
       " 0      14149\n",
       " 1       4818\n",
       " 2       2055\n",
       " 3        330\n",
       " 20        76\n",
       "-1         47\n",
       " 4         41\n",
       " 5          9"
      ]
     },
     "execution_count": 20,
     "metadata": {},
     "output_type": "execute_result"
    }
   ],
   "source": [
    "data['children'].value_counts().to_frame() # спасибо за этот метод из прошлого проетка"
   ]
  },
  {
   "cell_type": "markdown",
   "id": "65be5e29",
   "metadata": {},
   "source": [
    "Это кажется странным, хотя вполне возможно (это про 20 детей)."
   ]
  },
  {
   "cell_type": "code",
   "execution_count": 21,
   "id": "8bfe4e71",
   "metadata": {},
   "outputs": [
    {
     "name": "stdout",
     "output_type": "stream",
     "text": [
      "Количество детей в семье с 20 детьми: 76\n"
     ]
    }
   ],
   "source": [
    "children_amount = data[data['children'] == 20].count()[0]\n",
    "print(f'Количество детей в семье с 20 детьми: {children_amount}')"
   ]
  },
  {
   "cell_type": "markdown",
   "id": "fc19ec75",
   "metadata": {},
   "source": [
    "Слишком много. Возможно, совершена опечатка."
   ]
  },
  {
   "cell_type": "markdown",
   "id": "4d0d8136",
   "metadata": {},
   "source": [
    "* Предположим, что это опечатка при заполнении, когда хотели написать 0 ввели перед уже написанным нулем 2, или при наличии 2 детей случайно приписали 0. Поэтому возьмем также медианное значение.\n",
    "* `Это все очень важно учитывать, так как у нас зависит от этого исследование`"
   ]
  },
  {
   "cell_type": "code",
   "execution_count": 22,
   "id": "e623668f",
   "metadata": {},
   "outputs": [],
   "source": [
    "median_children = data.loc[data['children'] != 20, 'children'].median()\n",
    "# print(median_children)"
   ]
  },
  {
   "cell_type": "code",
   "execution_count": 23,
   "id": "6b0a3bb1",
   "metadata": {},
   "outputs": [
    {
     "data": {
      "text/html": [
       "<div>\n",
       "<style scoped>\n",
       "    .dataframe tbody tr th:only-of-type {\n",
       "        vertical-align: middle;\n",
       "    }\n",
       "\n",
       "    .dataframe tbody tr th {\n",
       "        vertical-align: top;\n",
       "    }\n",
       "\n",
       "    .dataframe thead th {\n",
       "        text-align: right;\n",
       "    }\n",
       "</style>\n",
       "<table border=\"1\" class=\"dataframe\">\n",
       "  <thead>\n",
       "    <tr style=\"text-align: right;\">\n",
       "      <th></th>\n",
       "      <th>children</th>\n",
       "    </tr>\n",
       "  </thead>\n",
       "  <tbody>\n",
       "    <tr>\n",
       "      <th>0.0</th>\n",
       "      <td>14225</td>\n",
       "    </tr>\n",
       "    <tr>\n",
       "      <th>1.0</th>\n",
       "      <td>4818</td>\n",
       "    </tr>\n",
       "    <tr>\n",
       "      <th>2.0</th>\n",
       "      <td>2055</td>\n",
       "    </tr>\n",
       "    <tr>\n",
       "      <th>3.0</th>\n",
       "      <td>330</td>\n",
       "    </tr>\n",
       "    <tr>\n",
       "      <th>-1.0</th>\n",
       "      <td>47</td>\n",
       "    </tr>\n",
       "    <tr>\n",
       "      <th>4.0</th>\n",
       "      <td>41</td>\n",
       "    </tr>\n",
       "    <tr>\n",
       "      <th>5.0</th>\n",
       "      <td>9</td>\n",
       "    </tr>\n",
       "  </tbody>\n",
       "</table>\n",
       "</div>"
      ],
      "text/plain": [
       "      children\n",
       " 0.0     14225\n",
       " 1.0      4818\n",
       " 2.0      2055\n",
       " 3.0       330\n",
       "-1.0        47\n",
       " 4.0        41\n",
       " 5.0         9"
      ]
     },
     "execution_count": 23,
     "metadata": {},
     "output_type": "execute_result"
    }
   ],
   "source": [
    "data['children'] = data['children'].replace(20, median_children)\n",
    "data['children'].value_counts().to_frame()"
   ]
  },
  {
   "cell_type": "code",
   "execution_count": 24,
   "id": "32230091",
   "metadata": {},
   "outputs": [
    {
     "data": {
      "text/plain": [
       "-1.0"
      ]
     },
     "execution_count": 24,
     "metadata": {},
     "output_type": "execute_result"
    }
   ],
   "source": [
    "data['children'].min()"
   ]
  },
  {
   "cell_type": "markdown",
   "id": "94a340c7",
   "metadata": {},
   "source": [
    "Странно. Возможно также опечатка (не думаю, что они имеют в виду, что когда-то был)"
   ]
  },
  {
   "cell_type": "code",
   "execution_count": 25,
   "id": "968e0ea4",
   "metadata": {},
   "outputs": [
    {
     "name": "stdout",
     "output_type": "stream",
     "text": [
      "Количество семей с отрицательным показателем детей: 47\n"
     ]
    }
   ],
   "source": [
    "print('Количество семей с отрицательным показателем детей:', data[data['children'] == -1].count()[0])"
   ]
  },
  {
   "cell_type": "markdown",
   "id": "1e72639a",
   "metadata": {},
   "source": [
    "Тут явная опечатка, по моему соображению. Наверно, имелось в виду просто `1`. Исправляем на `1`"
   ]
  },
  {
   "cell_type": "code",
   "execution_count": 26,
   "id": "ec3f2943",
   "metadata": {},
   "outputs": [
    {
     "data": {
      "text/html": [
       "<div>\n",
       "<style scoped>\n",
       "    .dataframe tbody tr th:only-of-type {\n",
       "        vertical-align: middle;\n",
       "    }\n",
       "\n",
       "    .dataframe tbody tr th {\n",
       "        vertical-align: top;\n",
       "    }\n",
       "\n",
       "    .dataframe thead th {\n",
       "        text-align: right;\n",
       "    }\n",
       "</style>\n",
       "<table border=\"1\" class=\"dataframe\">\n",
       "  <thead>\n",
       "    <tr style=\"text-align: right;\">\n",
       "      <th></th>\n",
       "      <th>children</th>\n",
       "    </tr>\n",
       "  </thead>\n",
       "  <tbody>\n",
       "    <tr>\n",
       "      <th>0.0</th>\n",
       "      <td>14225</td>\n",
       "    </tr>\n",
       "    <tr>\n",
       "      <th>1.0</th>\n",
       "      <td>4865</td>\n",
       "    </tr>\n",
       "    <tr>\n",
       "      <th>2.0</th>\n",
       "      <td>2055</td>\n",
       "    </tr>\n",
       "    <tr>\n",
       "      <th>3.0</th>\n",
       "      <td>330</td>\n",
       "    </tr>\n",
       "    <tr>\n",
       "      <th>4.0</th>\n",
       "      <td>41</td>\n",
       "    </tr>\n",
       "    <tr>\n",
       "      <th>5.0</th>\n",
       "      <td>9</td>\n",
       "    </tr>\n",
       "  </tbody>\n",
       "</table>\n",
       "</div>"
      ],
      "text/plain": [
       "     children\n",
       "0.0     14225\n",
       "1.0      4865\n",
       "2.0      2055\n",
       "3.0       330\n",
       "4.0        41\n",
       "5.0         9"
      ]
     },
     "execution_count": 26,
     "metadata": {},
     "output_type": "execute_result"
    }
   ],
   "source": [
    "data['children'] = data['children'].replace(-1,1)\n",
    "# data['children'].min()\n",
    "data['children'].value_counts().to_frame()"
   ]
  },
  {
   "cell_type": "markdown",
   "id": "3f6e914b",
   "metadata": {},
   "source": [
    "Видим, что после замен значения преобразовались в вещественные числа, что не очень удобно при чтении таблицы\n",
    "* пользуемся методом преобразования `astype('type')`"
   ]
  },
  {
   "cell_type": "code",
   "execution_count": 27,
   "id": "38ed8f1f",
   "metadata": {},
   "outputs": [
    {
     "data": {
      "text/html": [
       "<div>\n",
       "<style scoped>\n",
       "    .dataframe tbody tr th:only-of-type {\n",
       "        vertical-align: middle;\n",
       "    }\n",
       "\n",
       "    .dataframe tbody tr th {\n",
       "        vertical-align: top;\n",
       "    }\n",
       "\n",
       "    .dataframe thead th {\n",
       "        text-align: right;\n",
       "    }\n",
       "</style>\n",
       "<table border=\"1\" class=\"dataframe\">\n",
       "  <thead>\n",
       "    <tr style=\"text-align: right;\">\n",
       "      <th></th>\n",
       "      <th>children</th>\n",
       "    </tr>\n",
       "  </thead>\n",
       "  <tbody>\n",
       "    <tr>\n",
       "      <th>0</th>\n",
       "      <td>14225</td>\n",
       "    </tr>\n",
       "    <tr>\n",
       "      <th>1</th>\n",
       "      <td>4865</td>\n",
       "    </tr>\n",
       "    <tr>\n",
       "      <th>2</th>\n",
       "      <td>2055</td>\n",
       "    </tr>\n",
       "    <tr>\n",
       "      <th>3</th>\n",
       "      <td>330</td>\n",
       "    </tr>\n",
       "    <tr>\n",
       "      <th>4</th>\n",
       "      <td>41</td>\n",
       "    </tr>\n",
       "    <tr>\n",
       "      <th>5</th>\n",
       "      <td>9</td>\n",
       "    </tr>\n",
       "  </tbody>\n",
       "</table>\n",
       "</div>"
      ],
      "text/plain": [
       "   children\n",
       "0     14225\n",
       "1      4865\n",
       "2      2055\n",
       "3       330\n",
       "4        41\n",
       "5         9"
      ]
     },
     "execution_count": 27,
     "metadata": {},
     "output_type": "execute_result"
    }
   ],
   "source": [
    "data['children'] = data['children'].astype('int')\n",
    "data['children'].value_counts().to_frame()"
   ]
  },
  {
   "cell_type": "markdown",
   "id": "e6ac8c65",
   "metadata": {},
   "source": [
    "Так мы исправили  аномалию в колонке `children`"
   ]
  },
  {
   "cell_type": "code",
   "execution_count": 28,
   "id": "07051b8f",
   "metadata": {},
   "outputs": [
    {
     "data": {
      "text/html": [
       "<div>\n",
       "<style scoped>\n",
       "    .dataframe tbody tr th:only-of-type {\n",
       "        vertical-align: middle;\n",
       "    }\n",
       "\n",
       "    .dataframe tbody tr th {\n",
       "        vertical-align: top;\n",
       "    }\n",
       "\n",
       "    .dataframe thead th {\n",
       "        text-align: right;\n",
       "    }\n",
       "</style>\n",
       "<table border=\"1\" class=\"dataframe\">\n",
       "  <thead>\n",
       "    <tr style=\"text-align: right;\">\n",
       "      <th></th>\n",
       "      <th>children</th>\n",
       "      <th>days_employed</th>\n",
       "      <th>dob_years</th>\n",
       "      <th>education_id</th>\n",
       "      <th>family_status_id</th>\n",
       "      <th>debt</th>\n",
       "      <th>total_income</th>\n",
       "    </tr>\n",
       "  </thead>\n",
       "  <tbody>\n",
       "    <tr>\n",
       "      <th>count</th>\n",
       "      <td>21525.000000</td>\n",
       "      <td>19351.000000</td>\n",
       "      <td>21525.000000</td>\n",
       "      <td>21525.000000</td>\n",
       "      <td>21525.000000</td>\n",
       "      <td>21525.000000</td>\n",
       "      <td>2.152500e+04</td>\n",
       "    </tr>\n",
       "    <tr>\n",
       "      <th>mean</th>\n",
       "      <td>0.472660</td>\n",
       "      <td>66914.728907</td>\n",
       "      <td>43.293380</td>\n",
       "      <td>0.817236</td>\n",
       "      <td>0.972544</td>\n",
       "      <td>0.080883</td>\n",
       "      <td>1.651595e+05</td>\n",
       "    </tr>\n",
       "    <tr>\n",
       "      <th>std</th>\n",
       "      <td>0.750616</td>\n",
       "      <td>139030.880527</td>\n",
       "      <td>12.574584</td>\n",
       "      <td>0.548138</td>\n",
       "      <td>1.420324</td>\n",
       "      <td>0.272661</td>\n",
       "      <td>9.786607e+04</td>\n",
       "    </tr>\n",
       "    <tr>\n",
       "      <th>min</th>\n",
       "      <td>0.000000</td>\n",
       "      <td>24.141633</td>\n",
       "      <td>0.000000</td>\n",
       "      <td>0.000000</td>\n",
       "      <td>0.000000</td>\n",
       "      <td>0.000000</td>\n",
       "      <td>2.066726e+04</td>\n",
       "    </tr>\n",
       "    <tr>\n",
       "      <th>25%</th>\n",
       "      <td>0.000000</td>\n",
       "      <td>927.009265</td>\n",
       "      <td>33.000000</td>\n",
       "      <td>1.000000</td>\n",
       "      <td>0.000000</td>\n",
       "      <td>0.000000</td>\n",
       "      <td>1.077982e+05</td>\n",
       "    </tr>\n",
       "    <tr>\n",
       "      <th>50%</th>\n",
       "      <td>0.000000</td>\n",
       "      <td>2194.220567</td>\n",
       "      <td>42.000000</td>\n",
       "      <td>1.000000</td>\n",
       "      <td>0.000000</td>\n",
       "      <td>0.000000</td>\n",
       "      <td>1.450179e+05</td>\n",
       "    </tr>\n",
       "    <tr>\n",
       "      <th>75%</th>\n",
       "      <td>1.000000</td>\n",
       "      <td>5537.882441</td>\n",
       "      <td>53.000000</td>\n",
       "      <td>1.000000</td>\n",
       "      <td>1.000000</td>\n",
       "      <td>0.000000</td>\n",
       "      <td>1.955436e+05</td>\n",
       "    </tr>\n",
       "    <tr>\n",
       "      <th>max</th>\n",
       "      <td>5.000000</td>\n",
       "      <td>401755.400475</td>\n",
       "      <td>75.000000</td>\n",
       "      <td>4.000000</td>\n",
       "      <td>4.000000</td>\n",
       "      <td>1.000000</td>\n",
       "      <td>2.265604e+06</td>\n",
       "    </tr>\n",
       "  </tbody>\n",
       "</table>\n",
       "</div>"
      ],
      "text/plain": [
       "           children  days_employed     dob_years  education_id  \\\n",
       "count  21525.000000   19351.000000  21525.000000  21525.000000   \n",
       "mean       0.472660   66914.728907     43.293380      0.817236   \n",
       "std        0.750616  139030.880527     12.574584      0.548138   \n",
       "min        0.000000      24.141633      0.000000      0.000000   \n",
       "25%        0.000000     927.009265     33.000000      1.000000   \n",
       "50%        0.000000    2194.220567     42.000000      1.000000   \n",
       "75%        1.000000    5537.882441     53.000000      1.000000   \n",
       "max        5.000000  401755.400475     75.000000      4.000000   \n",
       "\n",
       "       family_status_id          debt  total_income  \n",
       "count      21525.000000  21525.000000  2.152500e+04  \n",
       "mean           0.972544      0.080883  1.651595e+05  \n",
       "std            1.420324      0.272661  9.786607e+04  \n",
       "min            0.000000      0.000000  2.066726e+04  \n",
       "25%            0.000000      0.000000  1.077982e+05  \n",
       "50%            0.000000      0.000000  1.450179e+05  \n",
       "75%            1.000000      0.000000  1.955436e+05  \n",
       "max            4.000000      1.000000  2.265604e+06  "
      ]
     },
     "execution_count": 28,
     "metadata": {},
     "output_type": "execute_result"
    }
   ],
   "source": [
    "data.describe()"
   ]
  },
  {
   "cell_type": "code",
   "execution_count": 29,
   "id": "e5f4d826",
   "metadata": {},
   "outputs": [
    {
     "data": {
      "text/plain": [
       "0"
      ]
     },
     "execution_count": 29,
     "metadata": {},
     "output_type": "execute_result"
    }
   ],
   "source": [
    "data['dob_years'].min()"
   ]
  },
  {
   "cell_type": "markdown",
   "id": "315c0761",
   "metadata": {},
   "source": [
    "Как было ранее сказано: `dob_years` — возраст клиента в годах. Такого рода ошибка не понятна. Почему произошла тоже неизвестно. Может быть не указали, но как тогда кредит выдали. Может быть человечский фактор. Не совсем понимаю, что делать с данными."
   ]
  },
  {
   "cell_type": "code",
   "execution_count": 30,
   "id": "e207254c",
   "metadata": {},
   "outputs": [
    {
     "data": {
      "text/plain": [
       "2194.220566878695"
      ]
     },
     "execution_count": 30,
     "metadata": {},
     "output_type": "execute_result"
    }
   ],
   "source": [
    "data['days_employed'].median()"
   ]
  },
  {
   "cell_type": "code",
   "execution_count": 31,
   "id": "88480296",
   "metadata": {},
   "outputs": [],
   "source": [
    "data['days_employed'] = data['days_employed'].fillna(value=data['days_employed'].median())"
   ]
  },
  {
   "cell_type": "markdown",
   "id": "24c0afc5",
   "metadata": {},
   "source": [
    "* Заполнили пропуски в колонке `days_employed` медианным значением c модульными значениями"
   ]
  },
  {
   "cell_type": "code",
   "execution_count": 32,
   "id": "01f57f0d",
   "metadata": {},
   "outputs": [
    {
     "data": {
      "text/plain": [
       "0"
      ]
     },
     "execution_count": 32,
     "metadata": {},
     "output_type": "execute_result"
    }
   ],
   "source": [
    "data['days_employed'].isna().sum()"
   ]
  },
  {
   "cell_type": "markdown",
   "id": "5c9ee24e",
   "metadata": {},
   "source": [
    "* Сделали проверку проделанного"
   ]
  },
  {
   "cell_type": "markdown",
   "id": "e6324aca",
   "metadata": {},
   "source": [
    "### Шаг 2.3. Изменение типов данных."
   ]
  },
  {
   "cell_type": "code",
   "execution_count": 33,
   "id": "21ee88cb",
   "metadata": {},
   "outputs": [
    {
     "name": "stdout",
     "output_type": "stream",
     "text": [
      "<class 'pandas.core.frame.DataFrame'>\n",
      "RangeIndex: 21525 entries, 0 to 21524\n",
      "Data columns (total 12 columns):\n",
      " #   Column            Non-Null Count  Dtype  \n",
      "---  ------            --------------  -----  \n",
      " 0   children          21525 non-null  int64  \n",
      " 1   days_employed     21525 non-null  float64\n",
      " 2   dob_years         21525 non-null  int64  \n",
      " 3   education         21525 non-null  object \n",
      " 4   education_id      21525 non-null  int64  \n",
      " 5   family_status     21525 non-null  object \n",
      " 6   family_status_id  21525 non-null  int64  \n",
      " 7   gender            21525 non-null  object \n",
      " 8   income_type       21525 non-null  object \n",
      " 9   debt              21525 non-null  int64  \n",
      " 10  total_income      21525 non-null  int64  \n",
      " 11  purpose           21525 non-null  object \n",
      "dtypes: float64(1), int64(6), object(5)\n",
      "memory usage: 2.0+ MB\n"
     ]
    }
   ],
   "source": [
    "data['total_income'] = data['total_income'].astype('int')\n",
    "# data.head(15)\n",
    "data.info()"
   ]
  },
  {
   "cell_type": "markdown",
   "id": "dc28caea",
   "metadata": {},
   "source": [
    "* Заменили вещественные значения в колонке `total_income` на целочисленные\n",
    "* Также для удобства прочтения таблицы / для хорошего визуального вида  делаем столбец `'days_employed'` тоже целым"
   ]
  },
  {
   "cell_type": "code",
   "execution_count": 34,
   "id": "524b7001",
   "metadata": {},
   "outputs": [
    {
     "name": "stdout",
     "output_type": "stream",
     "text": [
      "<class 'pandas.core.frame.DataFrame'>\n",
      "RangeIndex: 21525 entries, 0 to 21524\n",
      "Data columns (total 12 columns):\n",
      " #   Column            Non-Null Count  Dtype \n",
      "---  ------            --------------  ----- \n",
      " 0   children          21525 non-null  int64 \n",
      " 1   days_employed     21525 non-null  int64 \n",
      " 2   dob_years         21525 non-null  int64 \n",
      " 3   education         21525 non-null  object\n",
      " 4   education_id      21525 non-null  int64 \n",
      " 5   family_status     21525 non-null  object\n",
      " 6   family_status_id  21525 non-null  int64 \n",
      " 7   gender            21525 non-null  object\n",
      " 8   income_type       21525 non-null  object\n",
      " 9   debt              21525 non-null  int64 \n",
      " 10  total_income      21525 non-null  int64 \n",
      " 11  purpose           21525 non-null  object\n",
      "dtypes: int64(7), object(5)\n",
      "memory usage: 2.0+ MB\n"
     ]
    }
   ],
   "source": [
    "data['days_employed'] = data['days_employed'].astype('int')\n",
    "data.info()"
   ]
  },
  {
   "cell_type": "markdown",
   "id": "911ddc2a",
   "metadata": {},
   "source": [
    "### Шаг 2.4. Удаление дубликатов."
   ]
  },
  {
   "cell_type": "code",
   "execution_count": 35,
   "id": "0fc1ea39",
   "metadata": {},
   "outputs": [
    {
     "data": {
      "text/plain": [
       "54"
      ]
     },
     "execution_count": 35,
     "metadata": {},
     "output_type": "execute_result"
    }
   ],
   "source": [
    "data.duplicated().sum() # При новом запуске кода обнаруживается 71, как по таблице. Тут почему-то 54"
   ]
  },
  {
   "cell_type": "code",
   "execution_count": 36,
   "id": "0df066c2",
   "metadata": {},
   "outputs": [
    {
     "data": {
      "text/html": [
       "<div>\n",
       "<style scoped>\n",
       "    .dataframe tbody tr th:only-of-type {\n",
       "        vertical-align: middle;\n",
       "    }\n",
       "\n",
       "    .dataframe tbody tr th {\n",
       "        vertical-align: top;\n",
       "    }\n",
       "\n",
       "    .dataframe thead th {\n",
       "        text-align: right;\n",
       "    }\n",
       "</style>\n",
       "<table border=\"1\" class=\"dataframe\">\n",
       "  <thead>\n",
       "    <tr style=\"text-align: right;\">\n",
       "      <th></th>\n",
       "      <th>children</th>\n",
       "      <th>days_employed</th>\n",
       "      <th>dob_years</th>\n",
       "      <th>education</th>\n",
       "      <th>education_id</th>\n",
       "      <th>family_status</th>\n",
       "      <th>family_status_id</th>\n",
       "      <th>gender</th>\n",
       "      <th>income_type</th>\n",
       "      <th>debt</th>\n",
       "      <th>total_income</th>\n",
       "      <th>purpose</th>\n",
       "    </tr>\n",
       "  </thead>\n",
       "  <tbody>\n",
       "    <tr>\n",
       "      <th>0</th>\n",
       "      <td>1</td>\n",
       "      <td>8437</td>\n",
       "      <td>42</td>\n",
       "      <td>высшее</td>\n",
       "      <td>0</td>\n",
       "      <td>женат / замужем</td>\n",
       "      <td>0</td>\n",
       "      <td>F</td>\n",
       "      <td>сотрудник</td>\n",
       "      <td>0</td>\n",
       "      <td>253875</td>\n",
       "      <td>покупка жилья</td>\n",
       "    </tr>\n",
       "    <tr>\n",
       "      <th>1</th>\n",
       "      <td>1</td>\n",
       "      <td>4024</td>\n",
       "      <td>36</td>\n",
       "      <td>среднее</td>\n",
       "      <td>1</td>\n",
       "      <td>женат / замужем</td>\n",
       "      <td>0</td>\n",
       "      <td>F</td>\n",
       "      <td>сотрудник</td>\n",
       "      <td>0</td>\n",
       "      <td>112080</td>\n",
       "      <td>приобретение автомобиля</td>\n",
       "    </tr>\n",
       "    <tr>\n",
       "      <th>2</th>\n",
       "      <td>0</td>\n",
       "      <td>5623</td>\n",
       "      <td>33</td>\n",
       "      <td>среднее</td>\n",
       "      <td>1</td>\n",
       "      <td>женат / замужем</td>\n",
       "      <td>0</td>\n",
       "      <td>M</td>\n",
       "      <td>сотрудник</td>\n",
       "      <td>0</td>\n",
       "      <td>145885</td>\n",
       "      <td>покупка жилья</td>\n",
       "    </tr>\n",
       "    <tr>\n",
       "      <th>3</th>\n",
       "      <td>3</td>\n",
       "      <td>4124</td>\n",
       "      <td>32</td>\n",
       "      <td>среднее</td>\n",
       "      <td>1</td>\n",
       "      <td>женат / замужем</td>\n",
       "      <td>0</td>\n",
       "      <td>M</td>\n",
       "      <td>сотрудник</td>\n",
       "      <td>0</td>\n",
       "      <td>267628</td>\n",
       "      <td>дополнительное образование</td>\n",
       "    </tr>\n",
       "    <tr>\n",
       "      <th>4</th>\n",
       "      <td>0</td>\n",
       "      <td>340266</td>\n",
       "      <td>53</td>\n",
       "      <td>среднее</td>\n",
       "      <td>1</td>\n",
       "      <td>гражданский брак</td>\n",
       "      <td>1</td>\n",
       "      <td>F</td>\n",
       "      <td>пенсионер</td>\n",
       "      <td>0</td>\n",
       "      <td>158616</td>\n",
       "      <td>сыграть свадьбу</td>\n",
       "    </tr>\n",
       "  </tbody>\n",
       "</table>\n",
       "</div>"
      ],
      "text/plain": [
       "   children  days_employed  dob_years education  education_id  \\\n",
       "0         1           8437         42    высшее             0   \n",
       "1         1           4024         36   среднее             1   \n",
       "2         0           5623         33   среднее             1   \n",
       "3         3           4124         32   среднее             1   \n",
       "4         0         340266         53   среднее             1   \n",
       "\n",
       "      family_status  family_status_id gender income_type  debt  total_income  \\\n",
       "0   женат / замужем                 0      F   сотрудник     0        253875   \n",
       "1   женат / замужем                 0      F   сотрудник     0        112080   \n",
       "2   женат / замужем                 0      M   сотрудник     0        145885   \n",
       "3   женат / замужем                 0      M   сотрудник     0        267628   \n",
       "4  гражданский брак                 1      F   пенсионер     0        158616   \n",
       "\n",
       "                      purpose  \n",
       "0               покупка жилья  \n",
       "1     приобретение автомобиля  \n",
       "2               покупка жилья  \n",
       "3  дополнительное образование  \n",
       "4             сыграть свадьбу  "
      ]
     },
     "execution_count": 36,
     "metadata": {},
     "output_type": "execute_result"
    }
   ],
   "source": [
    "data['education'] = data['education'].str.lower()\n",
    "data.head()"
   ]
  },
  {
   "cell_type": "markdown",
   "id": "b9d3a9b2",
   "metadata": {},
   "source": [
    "* В колонке `education` были прописные буквы. Привели их к одному регистру. "
   ]
  },
  {
   "cell_type": "markdown",
   "id": "112f60d5",
   "metadata": {},
   "source": [
    "Попытаемся проследить, где еще могут быть дубликаты ручным способом"
   ]
  },
  {
   "cell_type": "code",
   "execution_count": 37,
   "id": "27811cce",
   "metadata": {},
   "outputs": [
    {
     "data": {
      "text/html": [
       "<div>\n",
       "<style scoped>\n",
       "    .dataframe tbody tr th:only-of-type {\n",
       "        vertical-align: middle;\n",
       "    }\n",
       "\n",
       "    .dataframe tbody tr th {\n",
       "        vertical-align: top;\n",
       "    }\n",
       "\n",
       "    .dataframe thead th {\n",
       "        text-align: right;\n",
       "    }\n",
       "</style>\n",
       "<table border=\"1\" class=\"dataframe\">\n",
       "  <thead>\n",
       "    <tr style=\"text-align: right;\">\n",
       "      <th></th>\n",
       "      <th>children</th>\n",
       "      <th>days_employed</th>\n",
       "      <th>dob_years</th>\n",
       "      <th>education</th>\n",
       "      <th>education_id</th>\n",
       "      <th>family_status</th>\n",
       "      <th>family_status_id</th>\n",
       "      <th>gender</th>\n",
       "      <th>income_type</th>\n",
       "      <th>debt</th>\n",
       "      <th>total_income</th>\n",
       "      <th>purpose</th>\n",
       "    </tr>\n",
       "  </thead>\n",
       "  <tbody>\n",
       "    <tr>\n",
       "      <th>11791</th>\n",
       "      <td>0</td>\n",
       "      <td>2194</td>\n",
       "      <td>47</td>\n",
       "      <td>среднее</td>\n",
       "      <td>1</td>\n",
       "      <td>женат / замужем</td>\n",
       "      <td>0</td>\n",
       "      <td>F</td>\n",
       "      <td>сотрудник</td>\n",
       "      <td>0</td>\n",
       "      <td>145017</td>\n",
       "      <td>строительство недвижимости</td>\n",
       "    </tr>\n",
       "    <tr>\n",
       "      <th>6312</th>\n",
       "      <td>0</td>\n",
       "      <td>2194</td>\n",
       "      <td>30</td>\n",
       "      <td>среднее</td>\n",
       "      <td>1</td>\n",
       "      <td>женат / замужем</td>\n",
       "      <td>0</td>\n",
       "      <td>M</td>\n",
       "      <td>сотрудник</td>\n",
       "      <td>0</td>\n",
       "      <td>145017</td>\n",
       "      <td>строительство жилой недвижимости</td>\n",
       "    </tr>\n",
       "    <tr>\n",
       "      <th>13025</th>\n",
       "      <td>1</td>\n",
       "      <td>2194</td>\n",
       "      <td>44</td>\n",
       "      <td>среднее</td>\n",
       "      <td>1</td>\n",
       "      <td>женат / замужем</td>\n",
       "      <td>0</td>\n",
       "      <td>F</td>\n",
       "      <td>сотрудник</td>\n",
       "      <td>0</td>\n",
       "      <td>145017</td>\n",
       "      <td>сделка с подержанным автомобилем</td>\n",
       "    </tr>\n",
       "    <tr>\n",
       "      <th>19946</th>\n",
       "      <td>0</td>\n",
       "      <td>2194</td>\n",
       "      <td>57</td>\n",
       "      <td>среднее</td>\n",
       "      <td>1</td>\n",
       "      <td>женат / замужем</td>\n",
       "      <td>0</td>\n",
       "      <td>F</td>\n",
       "      <td>сотрудник</td>\n",
       "      <td>0</td>\n",
       "      <td>145017</td>\n",
       "      <td>сделка с подержанным автомобилем</td>\n",
       "    </tr>\n",
       "    <tr>\n",
       "      <th>19184</th>\n",
       "      <td>0</td>\n",
       "      <td>2194</td>\n",
       "      <td>46</td>\n",
       "      <td>среднее</td>\n",
       "      <td>1</td>\n",
       "      <td>женат / замужем</td>\n",
       "      <td>0</td>\n",
       "      <td>F</td>\n",
       "      <td>сотрудник</td>\n",
       "      <td>0</td>\n",
       "      <td>145017</td>\n",
       "      <td>свой автомобиль</td>\n",
       "    </tr>\n",
       "    <tr>\n",
       "      <th>...</th>\n",
       "      <td>...</td>\n",
       "      <td>...</td>\n",
       "      <td>...</td>\n",
       "      <td>...</td>\n",
       "      <td>...</td>\n",
       "      <td>...</td>\n",
       "      <td>...</td>\n",
       "      <td>...</td>\n",
       "      <td>...</td>\n",
       "      <td>...</td>\n",
       "      <td>...</td>\n",
       "      <td>...</td>\n",
       "    </tr>\n",
       "    <tr>\n",
       "      <th>20662</th>\n",
       "      <td>0</td>\n",
       "      <td>2194</td>\n",
       "      <td>58</td>\n",
       "      <td>среднее</td>\n",
       "      <td>1</td>\n",
       "      <td>гражданский брак</td>\n",
       "      <td>1</td>\n",
       "      <td>M</td>\n",
       "      <td>сотрудник</td>\n",
       "      <td>0</td>\n",
       "      <td>145017</td>\n",
       "      <td>на проведение свадьбы</td>\n",
       "    </tr>\n",
       "    <tr>\n",
       "      <th>9528</th>\n",
       "      <td>0</td>\n",
       "      <td>2194</td>\n",
       "      <td>66</td>\n",
       "      <td>среднее</td>\n",
       "      <td>1</td>\n",
       "      <td>вдовец / вдова</td>\n",
       "      <td>2</td>\n",
       "      <td>F</td>\n",
       "      <td>пенсионер</td>\n",
       "      <td>0</td>\n",
       "      <td>145017</td>\n",
       "      <td>операции со своей недвижимостью</td>\n",
       "    </tr>\n",
       "    <tr>\n",
       "      <th>19321</th>\n",
       "      <td>0</td>\n",
       "      <td>2194</td>\n",
       "      <td>23</td>\n",
       "      <td>среднее</td>\n",
       "      <td>1</td>\n",
       "      <td>Не женат / не замужем</td>\n",
       "      <td>4</td>\n",
       "      <td>F</td>\n",
       "      <td>сотрудник</td>\n",
       "      <td>0</td>\n",
       "      <td>145017</td>\n",
       "      <td>сделка с подержанным автомобилем</td>\n",
       "    </tr>\n",
       "    <tr>\n",
       "      <th>14832</th>\n",
       "      <td>0</td>\n",
       "      <td>2194</td>\n",
       "      <td>50</td>\n",
       "      <td>среднее</td>\n",
       "      <td>1</td>\n",
       "      <td>Не женат / не замужем</td>\n",
       "      <td>4</td>\n",
       "      <td>F</td>\n",
       "      <td>сотрудник</td>\n",
       "      <td>0</td>\n",
       "      <td>145017</td>\n",
       "      <td>недвижимость</td>\n",
       "    </tr>\n",
       "    <tr>\n",
       "      <th>8583</th>\n",
       "      <td>0</td>\n",
       "      <td>2194</td>\n",
       "      <td>58</td>\n",
       "      <td>высшее</td>\n",
       "      <td>0</td>\n",
       "      <td>Не женат / не замужем</td>\n",
       "      <td>4</td>\n",
       "      <td>F</td>\n",
       "      <td>пенсионер</td>\n",
       "      <td>0</td>\n",
       "      <td>145017</td>\n",
       "      <td>дополнительное образование</td>\n",
       "    </tr>\n",
       "  </tbody>\n",
       "</table>\n",
       "<p>71 rows × 12 columns</p>\n",
       "</div>"
      ],
      "text/plain": [
       "       children  days_employed  dob_years education  education_id  \\\n",
       "11791         0           2194         47   среднее             1   \n",
       "6312          0           2194         30   среднее             1   \n",
       "13025         1           2194         44   среднее             1   \n",
       "19946         0           2194         57   среднее             1   \n",
       "19184         0           2194         46   среднее             1   \n",
       "...         ...            ...        ...       ...           ...   \n",
       "20662         0           2194         58   среднее             1   \n",
       "9528          0           2194         66   среднее             1   \n",
       "19321         0           2194         23   среднее             1   \n",
       "14832         0           2194         50   среднее             1   \n",
       "8583          0           2194         58    высшее             0   \n",
       "\n",
       "               family_status  family_status_id gender income_type  debt  \\\n",
       "11791        женат / замужем                 0      F   сотрудник     0   \n",
       "6312         женат / замужем                 0      M   сотрудник     0   \n",
       "13025        женат / замужем                 0      F   сотрудник     0   \n",
       "19946        женат / замужем                 0      F   сотрудник     0   \n",
       "19184        женат / замужем                 0      F   сотрудник     0   \n",
       "...                      ...               ...    ...         ...   ...   \n",
       "20662       гражданский брак                 1      M   сотрудник     0   \n",
       "9528          вдовец / вдова                 2      F   пенсионер     0   \n",
       "19321  Не женат / не замужем                 4      F   сотрудник     0   \n",
       "14832  Не женат / не замужем                 4      F   сотрудник     0   \n",
       "8583   Не женат / не замужем                 4      F   пенсионер     0   \n",
       "\n",
       "       total_income                           purpose  \n",
       "11791        145017        строительство недвижимости  \n",
       "6312         145017  строительство жилой недвижимости  \n",
       "13025        145017  сделка с подержанным автомобилем  \n",
       "19946        145017  сделка с подержанным автомобилем  \n",
       "19184        145017                   свой автомобиль  \n",
       "...             ...                               ...  \n",
       "20662        145017             на проведение свадьбы  \n",
       "9528         145017   операции со своей недвижимостью  \n",
       "19321        145017  сделка с подержанным автомобилем  \n",
       "14832        145017                      недвижимость  \n",
       "8583         145017        дополнительное образование  \n",
       "\n",
       "[71 rows x 12 columns]"
      ]
     },
     "execution_count": 37,
     "metadata": {},
     "output_type": "execute_result"
    }
   ],
   "source": [
    "data[data.duplicated()].sort_values(['family_status','days_employed', 'total_income', 'purpose'], ascending=False)"
   ]
  },
  {
   "cell_type": "markdown",
   "id": "c8d60e41",
   "metadata": {},
   "source": [
    "* Сортируем по логической индексации дубликаты в предполагаемых столбцах;\n",
    "* Обнаружили, что в колонке `family_status` прописные буквы сочетаются со строчными;\n",
    "* Есть дубликаты в колонке `days_employed` и `total_income`"
   ]
  },
  {
   "cell_type": "code",
   "execution_count": 38,
   "id": "8bf73290",
   "metadata": {},
   "outputs": [],
   "source": [
    "data['family_status'] = data['family_status'].str.lower()"
   ]
  },
  {
   "cell_type": "markdown",
   "id": "34a4d96e",
   "metadata": {},
   "source": [
    "Исправляем первую проблему"
   ]
  },
  {
   "cell_type": "code",
   "execution_count": 39,
   "id": "2d8e8c3c",
   "metadata": {},
   "outputs": [
    {
     "data": {
      "text/html": [
       "<div>\n",
       "<style scoped>\n",
       "    .dataframe tbody tr th:only-of-type {\n",
       "        vertical-align: middle;\n",
       "    }\n",
       "\n",
       "    .dataframe tbody tr th {\n",
       "        vertical-align: top;\n",
       "    }\n",
       "\n",
       "    .dataframe thead th {\n",
       "        text-align: right;\n",
       "    }\n",
       "</style>\n",
       "<table border=\"1\" class=\"dataframe\">\n",
       "  <thead>\n",
       "    <tr style=\"text-align: right;\">\n",
       "      <th></th>\n",
       "      <th>children</th>\n",
       "      <th>days_employed</th>\n",
       "      <th>dob_years</th>\n",
       "      <th>education</th>\n",
       "      <th>education_id</th>\n",
       "      <th>family_status</th>\n",
       "      <th>family_status_id</th>\n",
       "      <th>gender</th>\n",
       "      <th>income_type</th>\n",
       "      <th>debt</th>\n",
       "      <th>total_income</th>\n",
       "      <th>purpose</th>\n",
       "    </tr>\n",
       "  </thead>\n",
       "  <tbody>\n",
       "    <tr>\n",
       "      <th>9528</th>\n",
       "      <td>0</td>\n",
       "      <td>2194</td>\n",
       "      <td>66</td>\n",
       "      <td>среднее</td>\n",
       "      <td>1</td>\n",
       "      <td>вдовец / вдова</td>\n",
       "      <td>2</td>\n",
       "      <td>F</td>\n",
       "      <td>пенсионер</td>\n",
       "      <td>0</td>\n",
       "      <td>145017</td>\n",
       "      <td>операции со своей недвижимостью</td>\n",
       "    </tr>\n",
       "    <tr>\n",
       "      <th>7808</th>\n",
       "      <td>0</td>\n",
       "      <td>2194</td>\n",
       "      <td>57</td>\n",
       "      <td>среднее</td>\n",
       "      <td>1</td>\n",
       "      <td>гражданский брак</td>\n",
       "      <td>1</td>\n",
       "      <td>F</td>\n",
       "      <td>пенсионер</td>\n",
       "      <td>0</td>\n",
       "      <td>145017</td>\n",
       "      <td>на проведение свадьбы</td>\n",
       "    </tr>\n",
       "    <tr>\n",
       "      <th>7921</th>\n",
       "      <td>0</td>\n",
       "      <td>2194</td>\n",
       "      <td>64</td>\n",
       "      <td>высшее</td>\n",
       "      <td>0</td>\n",
       "      <td>гражданский брак</td>\n",
       "      <td>1</td>\n",
       "      <td>F</td>\n",
       "      <td>пенсионер</td>\n",
       "      <td>0</td>\n",
       "      <td>145017</td>\n",
       "      <td>на проведение свадьбы</td>\n",
       "    </tr>\n",
       "    <tr>\n",
       "      <th>7938</th>\n",
       "      <td>0</td>\n",
       "      <td>2194</td>\n",
       "      <td>71</td>\n",
       "      <td>среднее</td>\n",
       "      <td>1</td>\n",
       "      <td>гражданский брак</td>\n",
       "      <td>1</td>\n",
       "      <td>F</td>\n",
       "      <td>пенсионер</td>\n",
       "      <td>0</td>\n",
       "      <td>145017</td>\n",
       "      <td>на проведение свадьбы</td>\n",
       "    </tr>\n",
       "    <tr>\n",
       "      <th>9604</th>\n",
       "      <td>0</td>\n",
       "      <td>2194</td>\n",
       "      <td>71</td>\n",
       "      <td>среднее</td>\n",
       "      <td>1</td>\n",
       "      <td>гражданский брак</td>\n",
       "      <td>1</td>\n",
       "      <td>F</td>\n",
       "      <td>пенсионер</td>\n",
       "      <td>0</td>\n",
       "      <td>145017</td>\n",
       "      <td>на проведение свадьбы</td>\n",
       "    </tr>\n",
       "    <tr>\n",
       "      <th>...</th>\n",
       "      <td>...</td>\n",
       "      <td>...</td>\n",
       "      <td>...</td>\n",
       "      <td>...</td>\n",
       "      <td>...</td>\n",
       "      <td>...</td>\n",
       "      <td>...</td>\n",
       "      <td>...</td>\n",
       "      <td>...</td>\n",
       "      <td>...</td>\n",
       "      <td>...</td>\n",
       "      <td>...</td>\n",
       "    </tr>\n",
       "    <tr>\n",
       "      <th>6312</th>\n",
       "      <td>0</td>\n",
       "      <td>2194</td>\n",
       "      <td>30</td>\n",
       "      <td>среднее</td>\n",
       "      <td>1</td>\n",
       "      <td>женат / замужем</td>\n",
       "      <td>0</td>\n",
       "      <td>M</td>\n",
       "      <td>сотрудник</td>\n",
       "      <td>0</td>\n",
       "      <td>145017</td>\n",
       "      <td>строительство жилой недвижимости</td>\n",
       "    </tr>\n",
       "    <tr>\n",
       "      <th>11791</th>\n",
       "      <td>0</td>\n",
       "      <td>2194</td>\n",
       "      <td>47</td>\n",
       "      <td>среднее</td>\n",
       "      <td>1</td>\n",
       "      <td>женат / замужем</td>\n",
       "      <td>0</td>\n",
       "      <td>F</td>\n",
       "      <td>сотрудник</td>\n",
       "      <td>0</td>\n",
       "      <td>145017</td>\n",
       "      <td>строительство недвижимости</td>\n",
       "    </tr>\n",
       "    <tr>\n",
       "      <th>8583</th>\n",
       "      <td>0</td>\n",
       "      <td>2194</td>\n",
       "      <td>58</td>\n",
       "      <td>высшее</td>\n",
       "      <td>0</td>\n",
       "      <td>не женат / не замужем</td>\n",
       "      <td>4</td>\n",
       "      <td>F</td>\n",
       "      <td>пенсионер</td>\n",
       "      <td>0</td>\n",
       "      <td>145017</td>\n",
       "      <td>дополнительное образование</td>\n",
       "    </tr>\n",
       "    <tr>\n",
       "      <th>14832</th>\n",
       "      <td>0</td>\n",
       "      <td>2194</td>\n",
       "      <td>50</td>\n",
       "      <td>среднее</td>\n",
       "      <td>1</td>\n",
       "      <td>не женат / не замужем</td>\n",
       "      <td>4</td>\n",
       "      <td>F</td>\n",
       "      <td>сотрудник</td>\n",
       "      <td>0</td>\n",
       "      <td>145017</td>\n",
       "      <td>недвижимость</td>\n",
       "    </tr>\n",
       "    <tr>\n",
       "      <th>19321</th>\n",
       "      <td>0</td>\n",
       "      <td>2194</td>\n",
       "      <td>23</td>\n",
       "      <td>среднее</td>\n",
       "      <td>1</td>\n",
       "      <td>не женат / не замужем</td>\n",
       "      <td>4</td>\n",
       "      <td>F</td>\n",
       "      <td>сотрудник</td>\n",
       "      <td>0</td>\n",
       "      <td>145017</td>\n",
       "      <td>сделка с подержанным автомобилем</td>\n",
       "    </tr>\n",
       "  </tbody>\n",
       "</table>\n",
       "<p>71 rows × 12 columns</p>\n",
       "</div>"
      ],
      "text/plain": [
       "       children  days_employed  dob_years education  education_id  \\\n",
       "9528          0           2194         66   среднее             1   \n",
       "7808          0           2194         57   среднее             1   \n",
       "7921          0           2194         64    высшее             0   \n",
       "7938          0           2194         71   среднее             1   \n",
       "9604          0           2194         71   среднее             1   \n",
       "...         ...            ...        ...       ...           ...   \n",
       "6312          0           2194         30   среднее             1   \n",
       "11791         0           2194         47   среднее             1   \n",
       "8583          0           2194         58    высшее             0   \n",
       "14832         0           2194         50   среднее             1   \n",
       "19321         0           2194         23   среднее             1   \n",
       "\n",
       "               family_status  family_status_id gender income_type  debt  \\\n",
       "9528          вдовец / вдова                 2      F   пенсионер     0   \n",
       "7808        гражданский брак                 1      F   пенсионер     0   \n",
       "7921        гражданский брак                 1      F   пенсионер     0   \n",
       "7938        гражданский брак                 1      F   пенсионер     0   \n",
       "9604        гражданский брак                 1      F   пенсионер     0   \n",
       "...                      ...               ...    ...         ...   ...   \n",
       "6312         женат / замужем                 0      M   сотрудник     0   \n",
       "11791        женат / замужем                 0      F   сотрудник     0   \n",
       "8583   не женат / не замужем                 4      F   пенсионер     0   \n",
       "14832  не женат / не замужем                 4      F   сотрудник     0   \n",
       "19321  не женат / не замужем                 4      F   сотрудник     0   \n",
       "\n",
       "       total_income                           purpose  \n",
       "9528         145017   операции со своей недвижимостью  \n",
       "7808         145017             на проведение свадьбы  \n",
       "7921         145017             на проведение свадьбы  \n",
       "7938         145017             на проведение свадьбы  \n",
       "9604         145017             на проведение свадьбы  \n",
       "...             ...                               ...  \n",
       "6312         145017  строительство жилой недвижимости  \n",
       "11791        145017        строительство недвижимости  \n",
       "8583         145017        дополнительное образование  \n",
       "14832        145017                      недвижимость  \n",
       "19321        145017  сделка с подержанным автомобилем  \n",
       "\n",
       "[71 rows x 12 columns]"
      ]
     },
     "execution_count": 39,
     "metadata": {},
     "output_type": "execute_result"
    }
   ],
   "source": [
    "data[data.duplicated()].sort_values(['family_status','days_employed', 'total_income', 'purpose'])"
   ]
  },
  {
   "cell_type": "markdown",
   "id": "7c36e607",
   "metadata": {},
   "source": [
    "* Видим дубликаты. Предполагаемая причина, что просто произошло задвоение данных/ошибочное создание дубликатов.\n"
   ]
  },
  {
   "cell_type": "code",
   "execution_count": 40,
   "id": "1df24193",
   "metadata": {},
   "outputs": [
    {
     "data": {
      "text/plain": [
       "array(['покупка жилья', 'приобретение автомобиля',\n",
       "       'дополнительное образование', 'сыграть свадьбу',\n",
       "       'операции с жильем', 'образование', 'на проведение свадьбы',\n",
       "       'покупка жилья для семьи', 'покупка недвижимости',\n",
       "       'покупка коммерческой недвижимости', 'покупка жилой недвижимости',\n",
       "       'строительство собственной недвижимости', 'недвижимость',\n",
       "       'строительство недвижимости', 'на покупку подержанного автомобиля',\n",
       "       'на покупку своего автомобиля',\n",
       "       'операции с коммерческой недвижимостью',\n",
       "       'строительство жилой недвижимости', 'жилье',\n",
       "       'операции со своей недвижимостью', 'автомобили',\n",
       "       'заняться образованием', 'сделка с подержанным автомобилем',\n",
       "       'получение образования', 'автомобиль', 'свадьба',\n",
       "       'получение дополнительного образования', 'покупка своего жилья',\n",
       "       'операции с недвижимостью', 'получение высшего образования',\n",
       "       'свой автомобиль', 'сделка с автомобилем',\n",
       "       'профильное образование', 'высшее образование',\n",
       "       'покупка жилья для сдачи', 'на покупку автомобиля', 'ремонт жилью',\n",
       "       'заняться высшим образованием'], dtype=object)"
      ]
     },
     "execution_count": 40,
     "metadata": {},
     "output_type": "execute_result"
    }
   ],
   "source": [
    "data['purpose'].unique()"
   ]
  },
  {
   "cell_type": "markdown",
   "id": "b6382dee",
   "metadata": {},
   "source": [
    "* Тут мы видим, что некоторые параметры схожи по значению. Такие как: `'сыграть свадьбу'`, `'на проведение свадьбы'`, `'покупка жилой недвижимости'`,`'недвижимость'`, `'строительство жилой недвижимости'` и т.д."
   ]
  },
  {
   "cell_type": "code",
   "execution_count": 41,
   "id": "d09d426a",
   "metadata": {},
   "outputs": [
    {
     "data": {
      "text/html": [
       "<div>\n",
       "<style scoped>\n",
       "    .dataframe tbody tr th:only-of-type {\n",
       "        vertical-align: middle;\n",
       "    }\n",
       "\n",
       "    .dataframe tbody tr th {\n",
       "        vertical-align: top;\n",
       "    }\n",
       "\n",
       "    .dataframe thead th {\n",
       "        text-align: right;\n",
       "    }\n",
       "</style>\n",
       "<table border=\"1\" class=\"dataframe\">\n",
       "  <thead>\n",
       "    <tr style=\"text-align: right;\">\n",
       "      <th></th>\n",
       "      <th>purpose</th>\n",
       "    </tr>\n",
       "  </thead>\n",
       "  <tbody>\n",
       "    <tr>\n",
       "      <th>свадьба</th>\n",
       "      <td>797</td>\n",
       "    </tr>\n",
       "    <tr>\n",
       "      <th>на проведение свадьбы</th>\n",
       "      <td>777</td>\n",
       "    </tr>\n",
       "    <tr>\n",
       "      <th>сыграть свадьбу</th>\n",
       "      <td>774</td>\n",
       "    </tr>\n",
       "    <tr>\n",
       "      <th>операции с недвижимостью</th>\n",
       "      <td>676</td>\n",
       "    </tr>\n",
       "    <tr>\n",
       "      <th>покупка коммерческой недвижимости</th>\n",
       "      <td>664</td>\n",
       "    </tr>\n",
       "    <tr>\n",
       "      <th>операции с жильем</th>\n",
       "      <td>653</td>\n",
       "    </tr>\n",
       "    <tr>\n",
       "      <th>покупка жилья для сдачи</th>\n",
       "      <td>653</td>\n",
       "    </tr>\n",
       "    <tr>\n",
       "      <th>операции с коммерческой недвижимостью</th>\n",
       "      <td>651</td>\n",
       "    </tr>\n",
       "    <tr>\n",
       "      <th>жилье</th>\n",
       "      <td>647</td>\n",
       "    </tr>\n",
       "    <tr>\n",
       "      <th>покупка жилья</th>\n",
       "      <td>647</td>\n",
       "    </tr>\n",
       "    <tr>\n",
       "      <th>покупка жилья для семьи</th>\n",
       "      <td>641</td>\n",
       "    </tr>\n",
       "    <tr>\n",
       "      <th>строительство собственной недвижимости</th>\n",
       "      <td>635</td>\n",
       "    </tr>\n",
       "    <tr>\n",
       "      <th>недвижимость</th>\n",
       "      <td>634</td>\n",
       "    </tr>\n",
       "    <tr>\n",
       "      <th>операции со своей недвижимостью</th>\n",
       "      <td>630</td>\n",
       "    </tr>\n",
       "    <tr>\n",
       "      <th>строительство жилой недвижимости</th>\n",
       "      <td>626</td>\n",
       "    </tr>\n",
       "    <tr>\n",
       "      <th>покупка недвижимости</th>\n",
       "      <td>624</td>\n",
       "    </tr>\n",
       "    <tr>\n",
       "      <th>строительство недвижимости</th>\n",
       "      <td>620</td>\n",
       "    </tr>\n",
       "    <tr>\n",
       "      <th>покупка своего жилья</th>\n",
       "      <td>620</td>\n",
       "    </tr>\n",
       "    <tr>\n",
       "      <th>ремонт жилью</th>\n",
       "      <td>612</td>\n",
       "    </tr>\n",
       "    <tr>\n",
       "      <th>покупка жилой недвижимости</th>\n",
       "      <td>607</td>\n",
       "    </tr>\n",
       "    <tr>\n",
       "      <th>на покупку своего автомобиля</th>\n",
       "      <td>505</td>\n",
       "    </tr>\n",
       "    <tr>\n",
       "      <th>заняться высшим образованием</th>\n",
       "      <td>496</td>\n",
       "    </tr>\n",
       "    <tr>\n",
       "      <th>автомобиль</th>\n",
       "      <td>495</td>\n",
       "    </tr>\n",
       "    <tr>\n",
       "      <th>сделка с подержанным автомобилем</th>\n",
       "      <td>489</td>\n",
       "    </tr>\n",
       "    <tr>\n",
       "      <th>свой автомобиль</th>\n",
       "      <td>480</td>\n",
       "    </tr>\n",
       "    <tr>\n",
       "      <th>на покупку подержанного автомобиля</th>\n",
       "      <td>479</td>\n",
       "    </tr>\n",
       "    <tr>\n",
       "      <th>автомобили</th>\n",
       "      <td>478</td>\n",
       "    </tr>\n",
       "    <tr>\n",
       "      <th>на покупку автомобиля</th>\n",
       "      <td>472</td>\n",
       "    </tr>\n",
       "    <tr>\n",
       "      <th>дополнительное образование</th>\n",
       "      <td>462</td>\n",
       "    </tr>\n",
       "    <tr>\n",
       "      <th>приобретение автомобиля</th>\n",
       "      <td>462</td>\n",
       "    </tr>\n",
       "    <tr>\n",
       "      <th>сделка с автомобилем</th>\n",
       "      <td>455</td>\n",
       "    </tr>\n",
       "    <tr>\n",
       "      <th>высшее образование</th>\n",
       "      <td>453</td>\n",
       "    </tr>\n",
       "    <tr>\n",
       "      <th>образование</th>\n",
       "      <td>447</td>\n",
       "    </tr>\n",
       "    <tr>\n",
       "      <th>получение дополнительного образования</th>\n",
       "      <td>447</td>\n",
       "    </tr>\n",
       "    <tr>\n",
       "      <th>получение образования</th>\n",
       "      <td>443</td>\n",
       "    </tr>\n",
       "    <tr>\n",
       "      <th>профильное образование</th>\n",
       "      <td>436</td>\n",
       "    </tr>\n",
       "    <tr>\n",
       "      <th>получение высшего образования</th>\n",
       "      <td>426</td>\n",
       "    </tr>\n",
       "    <tr>\n",
       "      <th>заняться образованием</th>\n",
       "      <td>412</td>\n",
       "    </tr>\n",
       "  </tbody>\n",
       "</table>\n",
       "</div>"
      ],
      "text/plain": [
       "                                        purpose\n",
       "свадьба                                     797\n",
       "на проведение свадьбы                       777\n",
       "сыграть свадьбу                             774\n",
       "операции с недвижимостью                    676\n",
       "покупка коммерческой недвижимости           664\n",
       "операции с жильем                           653\n",
       "покупка жилья для сдачи                     653\n",
       "операции с коммерческой недвижимостью       651\n",
       "жилье                                       647\n",
       "покупка жилья                               647\n",
       "покупка жилья для семьи                     641\n",
       "строительство собственной недвижимости      635\n",
       "недвижимость                                634\n",
       "операции со своей недвижимостью             630\n",
       "строительство жилой недвижимости            626\n",
       "покупка недвижимости                        624\n",
       "строительство недвижимости                  620\n",
       "покупка своего жилья                        620\n",
       "ремонт жилью                                612\n",
       "покупка жилой недвижимости                  607\n",
       "на покупку своего автомобиля                505\n",
       "заняться высшим образованием                496\n",
       "автомобиль                                  495\n",
       "сделка с подержанным автомобилем            489\n",
       "свой автомобиль                             480\n",
       "на покупку подержанного автомобиля          479\n",
       "автомобили                                  478\n",
       "на покупку автомобиля                       472\n",
       "дополнительное образование                  462\n",
       "приобретение автомобиля                     462\n",
       "сделка с автомобилем                        455\n",
       "высшее образование                          453\n",
       "образование                                 447\n",
       "получение дополнительного образования       447\n",
       "получение образования                       443\n",
       "профильное образование                      436\n",
       "получение высшего образования               426\n",
       "заняться образованием                       412"
      ]
     },
     "execution_count": 41,
     "metadata": {},
     "output_type": "execute_result"
    }
   ],
   "source": [
    "data['purpose'].value_counts().to_frame()"
   ]
  },
  {
   "cell_type": "markdown",
   "id": "3025d84b",
   "metadata": {},
   "source": [
    "* Тут более наглядно видно, что многие строки совпадают по ключевым значениям"
   ]
  },
  {
   "cell_type": "code",
   "execution_count": 42,
   "id": "0d97e164",
   "metadata": {},
   "outputs": [],
   "source": [
    "data = data.drop_duplicates().reset_index(drop=True)"
   ]
  },
  {
   "cell_type": "markdown",
   "id": "9fee66a1",
   "metadata": {},
   "source": [
    "* Удаляем дубликаты"
   ]
  },
  {
   "cell_type": "code",
   "execution_count": 43,
   "id": "ff2a896f",
   "metadata": {},
   "outputs": [
    {
     "data": {
      "text/plain": [
       "0"
      ]
     },
     "execution_count": 43,
     "metadata": {},
     "output_type": "execute_result"
    }
   ],
   "source": [
    "data.duplicated().sum()"
   ]
  },
  {
   "cell_type": "markdown",
   "id": "4a9ca490",
   "metadata": {},
   "source": [
    "Проверяем еще раз проделанную работу и видим, что строки-дубликаты удалены"
   ]
  },
  {
   "cell_type": "code",
   "execution_count": 44,
   "id": "688ee526",
   "metadata": {},
   "outputs": [
    {
     "data": {
      "text/html": [
       "<div>\n",
       "<style scoped>\n",
       "    .dataframe tbody tr th:only-of-type {\n",
       "        vertical-align: middle;\n",
       "    }\n",
       "\n",
       "    .dataframe tbody tr th {\n",
       "        vertical-align: top;\n",
       "    }\n",
       "\n",
       "    .dataframe thead th {\n",
       "        text-align: right;\n",
       "    }\n",
       "</style>\n",
       "<table border=\"1\" class=\"dataframe\">\n",
       "  <thead>\n",
       "    <tr style=\"text-align: right;\">\n",
       "      <th></th>\n",
       "      <th>children</th>\n",
       "      <th>days_employed</th>\n",
       "      <th>dob_years</th>\n",
       "      <th>education</th>\n",
       "      <th>education_id</th>\n",
       "      <th>family_status</th>\n",
       "      <th>family_status_id</th>\n",
       "      <th>gender</th>\n",
       "      <th>income_type</th>\n",
       "      <th>debt</th>\n",
       "      <th>total_income</th>\n",
       "      <th>purpose</th>\n",
       "    </tr>\n",
       "  </thead>\n",
       "  <tbody>\n",
       "    <tr>\n",
       "      <th>0</th>\n",
       "      <td>1</td>\n",
       "      <td>8437</td>\n",
       "      <td>42</td>\n",
       "      <td>высшее</td>\n",
       "      <td>0</td>\n",
       "      <td>женат / замужем</td>\n",
       "      <td>0</td>\n",
       "      <td>F</td>\n",
       "      <td>сотрудник</td>\n",
       "      <td>0</td>\n",
       "      <td>253875</td>\n",
       "      <td>покупка жилья</td>\n",
       "    </tr>\n",
       "    <tr>\n",
       "      <th>1</th>\n",
       "      <td>1</td>\n",
       "      <td>4024</td>\n",
       "      <td>36</td>\n",
       "      <td>среднее</td>\n",
       "      <td>1</td>\n",
       "      <td>женат / замужем</td>\n",
       "      <td>0</td>\n",
       "      <td>F</td>\n",
       "      <td>сотрудник</td>\n",
       "      <td>0</td>\n",
       "      <td>112080</td>\n",
       "      <td>приобретение автомобиля</td>\n",
       "    </tr>\n",
       "    <tr>\n",
       "      <th>2</th>\n",
       "      <td>0</td>\n",
       "      <td>5623</td>\n",
       "      <td>33</td>\n",
       "      <td>среднее</td>\n",
       "      <td>1</td>\n",
       "      <td>женат / замужем</td>\n",
       "      <td>0</td>\n",
       "      <td>M</td>\n",
       "      <td>сотрудник</td>\n",
       "      <td>0</td>\n",
       "      <td>145885</td>\n",
       "      <td>покупка жилья</td>\n",
       "    </tr>\n",
       "    <tr>\n",
       "      <th>3</th>\n",
       "      <td>3</td>\n",
       "      <td>4124</td>\n",
       "      <td>32</td>\n",
       "      <td>среднее</td>\n",
       "      <td>1</td>\n",
       "      <td>женат / замужем</td>\n",
       "      <td>0</td>\n",
       "      <td>M</td>\n",
       "      <td>сотрудник</td>\n",
       "      <td>0</td>\n",
       "      <td>267628</td>\n",
       "      <td>дополнительное образование</td>\n",
       "    </tr>\n",
       "    <tr>\n",
       "      <th>4</th>\n",
       "      <td>0</td>\n",
       "      <td>340266</td>\n",
       "      <td>53</td>\n",
       "      <td>среднее</td>\n",
       "      <td>1</td>\n",
       "      <td>гражданский брак</td>\n",
       "      <td>1</td>\n",
       "      <td>F</td>\n",
       "      <td>пенсионер</td>\n",
       "      <td>0</td>\n",
       "      <td>158616</td>\n",
       "      <td>сыграть свадьбу</td>\n",
       "    </tr>\n",
       "  </tbody>\n",
       "</table>\n",
       "</div>"
      ],
      "text/plain": [
       "   children  days_employed  dob_years education  education_id  \\\n",
       "0         1           8437         42    высшее             0   \n",
       "1         1           4024         36   среднее             1   \n",
       "2         0           5623         33   среднее             1   \n",
       "3         3           4124         32   среднее             1   \n",
       "4         0         340266         53   среднее             1   \n",
       "\n",
       "      family_status  family_status_id gender income_type  debt  total_income  \\\n",
       "0   женат / замужем                 0      F   сотрудник     0        253875   \n",
       "1   женат / замужем                 0      F   сотрудник     0        112080   \n",
       "2   женат / замужем                 0      M   сотрудник     0        145885   \n",
       "3   женат / замужем                 0      M   сотрудник     0        267628   \n",
       "4  гражданский брак                 1      F   пенсионер     0        158616   \n",
       "\n",
       "                      purpose  \n",
       "0               покупка жилья  \n",
       "1     приобретение автомобиля  \n",
       "2               покупка жилья  \n",
       "3  дополнительное образование  \n",
       "4             сыграть свадьбу  "
      ]
     },
     "execution_count": 44,
     "metadata": {},
     "output_type": "execute_result"
    }
   ],
   "source": [
    "data.head()"
   ]
  },
  {
   "cell_type": "code",
   "execution_count": 45,
   "id": "f3a7194a",
   "metadata": {},
   "outputs": [
    {
     "data": {
      "text/html": [
       "<div>\n",
       "<style scoped>\n",
       "    .dataframe tbody tr th:only-of-type {\n",
       "        vertical-align: middle;\n",
       "    }\n",
       "\n",
       "    .dataframe tbody tr th {\n",
       "        vertical-align: top;\n",
       "    }\n",
       "\n",
       "    .dataframe thead th {\n",
       "        text-align: right;\n",
       "    }\n",
       "</style>\n",
       "<table border=\"1\" class=\"dataframe\">\n",
       "  <thead>\n",
       "    <tr style=\"text-align: right;\">\n",
       "      <th></th>\n",
       "      <th>gender</th>\n",
       "    </tr>\n",
       "  </thead>\n",
       "  <tbody>\n",
       "    <tr>\n",
       "      <th>F</th>\n",
       "      <td>14174</td>\n",
       "    </tr>\n",
       "    <tr>\n",
       "      <th>M</th>\n",
       "      <td>7279</td>\n",
       "    </tr>\n",
       "    <tr>\n",
       "      <th>XNA</th>\n",
       "      <td>1</td>\n",
       "    </tr>\n",
       "  </tbody>\n",
       "</table>\n",
       "</div>"
      ],
      "text/plain": [
       "     gender\n",
       "F     14174\n",
       "M      7279\n",
       "XNA       1"
      ]
     },
     "execution_count": 45,
     "metadata": {},
     "output_type": "execute_result"
    }
   ],
   "source": [
    "data['gender'].value_counts().to_frame()"
   ]
  },
  {
   "cell_type": "code",
   "execution_count": 46,
   "id": "4dac437e",
   "metadata": {},
   "outputs": [
    {
     "data": {
      "text/html": [
       "<div>\n",
       "<style scoped>\n",
       "    .dataframe tbody tr th:only-of-type {\n",
       "        vertical-align: middle;\n",
       "    }\n",
       "\n",
       "    .dataframe tbody tr th {\n",
       "        vertical-align: top;\n",
       "    }\n",
       "\n",
       "    .dataframe thead th {\n",
       "        text-align: right;\n",
       "    }\n",
       "</style>\n",
       "<table border=\"1\" class=\"dataframe\">\n",
       "  <thead>\n",
       "    <tr style=\"text-align: right;\">\n",
       "      <th></th>\n",
       "      <th>children</th>\n",
       "      <th>days_employed</th>\n",
       "      <th>dob_years</th>\n",
       "      <th>education</th>\n",
       "      <th>education_id</th>\n",
       "      <th>family_status</th>\n",
       "      <th>family_status_id</th>\n",
       "      <th>gender</th>\n",
       "      <th>income_type</th>\n",
       "      <th>debt</th>\n",
       "      <th>total_income</th>\n",
       "      <th>purpose</th>\n",
       "    </tr>\n",
       "  </thead>\n",
       "  <tbody>\n",
       "    <tr>\n",
       "      <th>10684</th>\n",
       "      <td>0</td>\n",
       "      <td>2358</td>\n",
       "      <td>24</td>\n",
       "      <td>неоконченное высшее</td>\n",
       "      <td>2</td>\n",
       "      <td>гражданский брак</td>\n",
       "      <td>1</td>\n",
       "      <td>XNA</td>\n",
       "      <td>компаньон</td>\n",
       "      <td>0</td>\n",
       "      <td>203905</td>\n",
       "      <td>покупка недвижимости</td>\n",
       "    </tr>\n",
       "  </tbody>\n",
       "</table>\n",
       "</div>"
      ],
      "text/plain": [
       "       children  days_employed  dob_years            education  education_id  \\\n",
       "10684         0           2358         24  неоконченное высшее             2   \n",
       "\n",
       "          family_status  family_status_id gender income_type  debt  \\\n",
       "10684  гражданский брак                 1    XNA   компаньон     0   \n",
       "\n",
       "       total_income               purpose  \n",
       "10684        203905  покупка недвижимости  "
      ]
     },
     "execution_count": 46,
     "metadata": {},
     "output_type": "execute_result"
    }
   ],
   "source": [
    "data.loc[data['gender'] == 'XNA']"
   ]
  },
  {
   "cell_type": "markdown",
   "id": "0b687498",
   "metadata": {},
   "source": [
    "* Страная записаь `'XNA'`. Возможно случайная запись. Нам онa не понадобится, поэтому просто оставим"
   ]
  },
  {
   "cell_type": "code",
   "execution_count": 47,
   "id": "2a127f20",
   "metadata": {},
   "outputs": [],
   "source": [
    "# data['income_type'].value_counts()"
   ]
  },
  {
   "cell_type": "code",
   "execution_count": 48,
   "id": "1a1bbc1c",
   "metadata": {},
   "outputs": [],
   "source": [
    "# data['education'].value_counts()"
   ]
  },
  {
   "cell_type": "code",
   "execution_count": 49,
   "id": "31895064",
   "metadata": {},
   "outputs": [],
   "source": [
    "# data['education_id'].value_counts()"
   ]
  },
  {
   "cell_type": "code",
   "execution_count": 50,
   "id": "b496d797",
   "metadata": {},
   "outputs": [],
   "source": [
    "# data['family_status'].value_counts()"
   ]
  },
  {
   "cell_type": "code",
   "execution_count": 51,
   "id": "e732f139",
   "metadata": {},
   "outputs": [],
   "source": [
    "# data['debt'].value_counts()"
   ]
  },
  {
   "cell_type": "markdown",
   "id": "6c491e84",
   "metadata": {},
   "source": [
    "### Шаг 2.5. Формирование дополнительных датафреймов словарей, декомпозиция исходного датафрейма."
   ]
  },
  {
   "cell_type": "code",
   "execution_count": 52,
   "id": "bf8b28c9",
   "metadata": {},
   "outputs": [
    {
     "data": {
      "text/html": [
       "<div>\n",
       "<style scoped>\n",
       "    .dataframe tbody tr th:only-of-type {\n",
       "        vertical-align: middle;\n",
       "    }\n",
       "\n",
       "    .dataframe tbody tr th {\n",
       "        vertical-align: top;\n",
       "    }\n",
       "\n",
       "    .dataframe thead th {\n",
       "        text-align: right;\n",
       "    }\n",
       "</style>\n",
       "<table border=\"1\" class=\"dataframe\">\n",
       "  <thead>\n",
       "    <tr style=\"text-align: right;\">\n",
       "      <th></th>\n",
       "      <th>children</th>\n",
       "      <th>days_employed</th>\n",
       "      <th>dob_years</th>\n",
       "      <th>education</th>\n",
       "      <th>education_id</th>\n",
       "      <th>family_status</th>\n",
       "      <th>family_status_id</th>\n",
       "      <th>gender</th>\n",
       "      <th>income_type</th>\n",
       "      <th>debt</th>\n",
       "      <th>total_income</th>\n",
       "      <th>purpose</th>\n",
       "    </tr>\n",
       "  </thead>\n",
       "  <tbody>\n",
       "    <tr>\n",
       "      <th>0</th>\n",
       "      <td>1</td>\n",
       "      <td>8437</td>\n",
       "      <td>42</td>\n",
       "      <td>высшее</td>\n",
       "      <td>0</td>\n",
       "      <td>женат / замужем</td>\n",
       "      <td>0</td>\n",
       "      <td>F</td>\n",
       "      <td>сотрудник</td>\n",
       "      <td>0</td>\n",
       "      <td>253875</td>\n",
       "      <td>покупка жилья</td>\n",
       "    </tr>\n",
       "    <tr>\n",
       "      <th>1</th>\n",
       "      <td>1</td>\n",
       "      <td>4024</td>\n",
       "      <td>36</td>\n",
       "      <td>среднее</td>\n",
       "      <td>1</td>\n",
       "      <td>женат / замужем</td>\n",
       "      <td>0</td>\n",
       "      <td>F</td>\n",
       "      <td>сотрудник</td>\n",
       "      <td>0</td>\n",
       "      <td>112080</td>\n",
       "      <td>приобретение автомобиля</td>\n",
       "    </tr>\n",
       "    <tr>\n",
       "      <th>2</th>\n",
       "      <td>0</td>\n",
       "      <td>5623</td>\n",
       "      <td>33</td>\n",
       "      <td>среднее</td>\n",
       "      <td>1</td>\n",
       "      <td>женат / замужем</td>\n",
       "      <td>0</td>\n",
       "      <td>M</td>\n",
       "      <td>сотрудник</td>\n",
       "      <td>0</td>\n",
       "      <td>145885</td>\n",
       "      <td>покупка жилья</td>\n",
       "    </tr>\n",
       "    <tr>\n",
       "      <th>3</th>\n",
       "      <td>3</td>\n",
       "      <td>4124</td>\n",
       "      <td>32</td>\n",
       "      <td>среднее</td>\n",
       "      <td>1</td>\n",
       "      <td>женат / замужем</td>\n",
       "      <td>0</td>\n",
       "      <td>M</td>\n",
       "      <td>сотрудник</td>\n",
       "      <td>0</td>\n",
       "      <td>267628</td>\n",
       "      <td>дополнительное образование</td>\n",
       "    </tr>\n",
       "    <tr>\n",
       "      <th>4</th>\n",
       "      <td>0</td>\n",
       "      <td>340266</td>\n",
       "      <td>53</td>\n",
       "      <td>среднее</td>\n",
       "      <td>1</td>\n",
       "      <td>гражданский брак</td>\n",
       "      <td>1</td>\n",
       "      <td>F</td>\n",
       "      <td>пенсионер</td>\n",
       "      <td>0</td>\n",
       "      <td>158616</td>\n",
       "      <td>сыграть свадьбу</td>\n",
       "    </tr>\n",
       "    <tr>\n",
       "      <th>5</th>\n",
       "      <td>0</td>\n",
       "      <td>926</td>\n",
       "      <td>27</td>\n",
       "      <td>высшее</td>\n",
       "      <td>0</td>\n",
       "      <td>гражданский брак</td>\n",
       "      <td>1</td>\n",
       "      <td>M</td>\n",
       "      <td>компаньон</td>\n",
       "      <td>0</td>\n",
       "      <td>255763</td>\n",
       "      <td>покупка жилья</td>\n",
       "    </tr>\n",
       "    <tr>\n",
       "      <th>6</th>\n",
       "      <td>0</td>\n",
       "      <td>2879</td>\n",
       "      <td>43</td>\n",
       "      <td>высшее</td>\n",
       "      <td>0</td>\n",
       "      <td>женат / замужем</td>\n",
       "      <td>0</td>\n",
       "      <td>F</td>\n",
       "      <td>компаньон</td>\n",
       "      <td>0</td>\n",
       "      <td>240525</td>\n",
       "      <td>операции с жильем</td>\n",
       "    </tr>\n",
       "    <tr>\n",
       "      <th>7</th>\n",
       "      <td>0</td>\n",
       "      <td>152</td>\n",
       "      <td>50</td>\n",
       "      <td>среднее</td>\n",
       "      <td>1</td>\n",
       "      <td>женат / замужем</td>\n",
       "      <td>0</td>\n",
       "      <td>M</td>\n",
       "      <td>сотрудник</td>\n",
       "      <td>0</td>\n",
       "      <td>135823</td>\n",
       "      <td>образование</td>\n",
       "    </tr>\n",
       "    <tr>\n",
       "      <th>8</th>\n",
       "      <td>2</td>\n",
       "      <td>6929</td>\n",
       "      <td>35</td>\n",
       "      <td>высшее</td>\n",
       "      <td>0</td>\n",
       "      <td>гражданский брак</td>\n",
       "      <td>1</td>\n",
       "      <td>F</td>\n",
       "      <td>сотрудник</td>\n",
       "      <td>0</td>\n",
       "      <td>95856</td>\n",
       "      <td>на проведение свадьбы</td>\n",
       "    </tr>\n",
       "    <tr>\n",
       "      <th>9</th>\n",
       "      <td>0</td>\n",
       "      <td>2188</td>\n",
       "      <td>41</td>\n",
       "      <td>среднее</td>\n",
       "      <td>1</td>\n",
       "      <td>женат / замужем</td>\n",
       "      <td>0</td>\n",
       "      <td>M</td>\n",
       "      <td>сотрудник</td>\n",
       "      <td>0</td>\n",
       "      <td>144425</td>\n",
       "      <td>покупка жилья для семьи</td>\n",
       "    </tr>\n",
       "    <tr>\n",
       "      <th>10</th>\n",
       "      <td>2</td>\n",
       "      <td>4171</td>\n",
       "      <td>36</td>\n",
       "      <td>высшее</td>\n",
       "      <td>0</td>\n",
       "      <td>женат / замужем</td>\n",
       "      <td>0</td>\n",
       "      <td>M</td>\n",
       "      <td>компаньон</td>\n",
       "      <td>0</td>\n",
       "      <td>113943</td>\n",
       "      <td>покупка недвижимости</td>\n",
       "    </tr>\n",
       "    <tr>\n",
       "      <th>11</th>\n",
       "      <td>0</td>\n",
       "      <td>792</td>\n",
       "      <td>40</td>\n",
       "      <td>среднее</td>\n",
       "      <td>1</td>\n",
       "      <td>женат / замужем</td>\n",
       "      <td>0</td>\n",
       "      <td>F</td>\n",
       "      <td>сотрудник</td>\n",
       "      <td>0</td>\n",
       "      <td>77069</td>\n",
       "      <td>покупка коммерческой недвижимости</td>\n",
       "    </tr>\n",
       "    <tr>\n",
       "      <th>12</th>\n",
       "      <td>0</td>\n",
       "      <td>2194</td>\n",
       "      <td>65</td>\n",
       "      <td>среднее</td>\n",
       "      <td>1</td>\n",
       "      <td>гражданский брак</td>\n",
       "      <td>1</td>\n",
       "      <td>M</td>\n",
       "      <td>пенсионер</td>\n",
       "      <td>0</td>\n",
       "      <td>145017</td>\n",
       "      <td>сыграть свадьбу</td>\n",
       "    </tr>\n",
       "    <tr>\n",
       "      <th>13</th>\n",
       "      <td>0</td>\n",
       "      <td>1846</td>\n",
       "      <td>54</td>\n",
       "      <td>неоконченное высшее</td>\n",
       "      <td>2</td>\n",
       "      <td>женат / замужем</td>\n",
       "      <td>0</td>\n",
       "      <td>F</td>\n",
       "      <td>сотрудник</td>\n",
       "      <td>0</td>\n",
       "      <td>130458</td>\n",
       "      <td>приобретение автомобиля</td>\n",
       "    </tr>\n",
       "    <tr>\n",
       "      <th>14</th>\n",
       "      <td>0</td>\n",
       "      <td>1844</td>\n",
       "      <td>56</td>\n",
       "      <td>высшее</td>\n",
       "      <td>0</td>\n",
       "      <td>гражданский брак</td>\n",
       "      <td>1</td>\n",
       "      <td>F</td>\n",
       "      <td>компаньон</td>\n",
       "      <td>1</td>\n",
       "      <td>165127</td>\n",
       "      <td>покупка жилой недвижимости</td>\n",
       "    </tr>\n",
       "  </tbody>\n",
       "</table>\n",
       "</div>"
      ],
      "text/plain": [
       "    children  days_employed  dob_years            education  education_id  \\\n",
       "0          1           8437         42               высшее             0   \n",
       "1          1           4024         36              среднее             1   \n",
       "2          0           5623         33              среднее             1   \n",
       "3          3           4124         32              среднее             1   \n",
       "4          0         340266         53              среднее             1   \n",
       "5          0            926         27               высшее             0   \n",
       "6          0           2879         43               высшее             0   \n",
       "7          0            152         50              среднее             1   \n",
       "8          2           6929         35               высшее             0   \n",
       "9          0           2188         41              среднее             1   \n",
       "10         2           4171         36               высшее             0   \n",
       "11         0            792         40              среднее             1   \n",
       "12         0           2194         65              среднее             1   \n",
       "13         0           1846         54  неоконченное высшее             2   \n",
       "14         0           1844         56               высшее             0   \n",
       "\n",
       "       family_status  family_status_id gender income_type  debt  total_income  \\\n",
       "0    женат / замужем                 0      F   сотрудник     0        253875   \n",
       "1    женат / замужем                 0      F   сотрудник     0        112080   \n",
       "2    женат / замужем                 0      M   сотрудник     0        145885   \n",
       "3    женат / замужем                 0      M   сотрудник     0        267628   \n",
       "4   гражданский брак                 1      F   пенсионер     0        158616   \n",
       "5   гражданский брак                 1      M   компаньон     0        255763   \n",
       "6    женат / замужем                 0      F   компаньон     0        240525   \n",
       "7    женат / замужем                 0      M   сотрудник     0        135823   \n",
       "8   гражданский брак                 1      F   сотрудник     0         95856   \n",
       "9    женат / замужем                 0      M   сотрудник     0        144425   \n",
       "10   женат / замужем                 0      M   компаньон     0        113943   \n",
       "11   женат / замужем                 0      F   сотрудник     0         77069   \n",
       "12  гражданский брак                 1      M   пенсионер     0        145017   \n",
       "13   женат / замужем                 0      F   сотрудник     0        130458   \n",
       "14  гражданский брак                 1      F   компаньон     1        165127   \n",
       "\n",
       "                              purpose  \n",
       "0                       покупка жилья  \n",
       "1             приобретение автомобиля  \n",
       "2                       покупка жилья  \n",
       "3          дополнительное образование  \n",
       "4                     сыграть свадьбу  \n",
       "5                       покупка жилья  \n",
       "6                   операции с жильем  \n",
       "7                         образование  \n",
       "8               на проведение свадьбы  \n",
       "9             покупка жилья для семьи  \n",
       "10               покупка недвижимости  \n",
       "11  покупка коммерческой недвижимости  \n",
       "12                    сыграть свадьбу  \n",
       "13            приобретение автомобиля  \n",
       "14         покупка жилой недвижимости  "
      ]
     },
     "execution_count": 52,
     "metadata": {},
     "output_type": "execute_result"
    }
   ],
   "source": [
    "data.head(15)"
   ]
  },
  {
   "cell_type": "markdown",
   "id": "cfbf665d",
   "metadata": {},
   "source": [
    "Создаем два новых датафрейма, в которых:\n",
    "* каждому уникальному значению из `education` соответствует уникальное значение `education_id`\n",
    "* каждому уникальному значению из `family_status` соответствует уникальное значение `family_status_id`"
   ]
  },
  {
   "cell_type": "code",
   "execution_count": 53,
   "id": "ab41e733",
   "metadata": {},
   "outputs": [
    {
     "data": {
      "text/plain": [
       "array([0, 1, 2, 3, 4])"
      ]
     },
     "execution_count": 53,
     "metadata": {},
     "output_type": "execute_result"
    }
   ],
   "source": [
    "data['education_id'].unique()"
   ]
  },
  {
   "cell_type": "code",
   "execution_count": 54,
   "id": "6d8da0e8",
   "metadata": {},
   "outputs": [
    {
     "data": {
      "text/html": [
       "<div>\n",
       "<style scoped>\n",
       "    .dataframe tbody tr th:only-of-type {\n",
       "        vertical-align: middle;\n",
       "    }\n",
       "\n",
       "    .dataframe tbody tr th {\n",
       "        vertical-align: top;\n",
       "    }\n",
       "\n",
       "    .dataframe thead th {\n",
       "        text-align: right;\n",
       "    }\n",
       "</style>\n",
       "<table border=\"1\" class=\"dataframe\">\n",
       "  <thead>\n",
       "    <tr style=\"text-align: right;\">\n",
       "      <th></th>\n",
       "      <th>education_id</th>\n",
       "      <th>education</th>\n",
       "    </tr>\n",
       "  </thead>\n",
       "  <tbody>\n",
       "    <tr>\n",
       "      <th>0</th>\n",
       "      <td>0</td>\n",
       "      <td>высшее</td>\n",
       "    </tr>\n",
       "    <tr>\n",
       "      <th>1</th>\n",
       "      <td>1</td>\n",
       "      <td>среднее</td>\n",
       "    </tr>\n",
       "    <tr>\n",
       "      <th>2</th>\n",
       "      <td>2</td>\n",
       "      <td>неоконченное высшее</td>\n",
       "    </tr>\n",
       "    <tr>\n",
       "      <th>3</th>\n",
       "      <td>3</td>\n",
       "      <td>начальное</td>\n",
       "    </tr>\n",
       "    <tr>\n",
       "      <th>4</th>\n",
       "      <td>4</td>\n",
       "      <td>ученая степень</td>\n",
       "    </tr>\n",
       "  </tbody>\n",
       "</table>\n",
       "</div>"
      ],
      "text/plain": [
       "   education_id            education\n",
       "0             0               высшее\n",
       "1             1              среднее\n",
       "2             2  неоконченное высшее\n",
       "3             3            начальное\n",
       "4             4       ученая степень"
      ]
     },
     "metadata": {},
     "output_type": "display_data"
    }
   ],
   "source": [
    "data_dict_education = data[['education_id', 'education']]\n",
    "dde = data_dict_education.drop_duplicates().reset_index(drop=True).sort_values(by='education_id')\n",
    "# data_dict_education.count().to_frame()\n",
    "# data_dict_education.sort_values(by='education_id')\n",
    "display(dde)"
   ]
  },
  {
   "cell_type": "code",
   "execution_count": 55,
   "id": "4b63efae",
   "metadata": {},
   "outputs": [
    {
     "data": {
      "text/html": [
       "<div>\n",
       "<style scoped>\n",
       "    .dataframe tbody tr th:only-of-type {\n",
       "        vertical-align: middle;\n",
       "    }\n",
       "\n",
       "    .dataframe tbody tr th {\n",
       "        vertical-align: top;\n",
       "    }\n",
       "\n",
       "    .dataframe thead th {\n",
       "        text-align: right;\n",
       "    }\n",
       "</style>\n",
       "<table border=\"1\" class=\"dataframe\">\n",
       "  <thead>\n",
       "    <tr style=\"text-align: right;\">\n",
       "      <th></th>\n",
       "      <th>education_id</th>\n",
       "      <th>education</th>\n",
       "    </tr>\n",
       "  </thead>\n",
       "  <tbody>\n",
       "    <tr>\n",
       "      <th>0</th>\n",
       "      <td>0</td>\n",
       "      <td>высшее</td>\n",
       "    </tr>\n",
       "    <tr>\n",
       "      <th>1</th>\n",
       "      <td>1</td>\n",
       "      <td>среднее</td>\n",
       "    </tr>\n",
       "    <tr>\n",
       "      <th>2</th>\n",
       "      <td>2</td>\n",
       "      <td>неоконченное высшее</td>\n",
       "    </tr>\n",
       "    <tr>\n",
       "      <th>3</th>\n",
       "      <td>3</td>\n",
       "      <td>начальное</td>\n",
       "    </tr>\n",
       "    <tr>\n",
       "      <th>4</th>\n",
       "      <td>4</td>\n",
       "      <td>ученая степень</td>\n",
       "    </tr>\n",
       "  </tbody>\n",
       "</table>\n",
       "</div>"
      ],
      "text/plain": [
       "   education_id            education\n",
       "0             0               высшее\n",
       "1             1              среднее\n",
       "2             2  неоконченное высшее\n",
       "3             3            начальное\n",
       "4             4       ученая степень"
      ]
     },
     "execution_count": 55,
     "metadata": {},
     "output_type": "execute_result"
    }
   ],
   "source": [
    "data_education = pd.DataFrame(data=data, columns=['education_id', 'education'])\n",
    "data_education.drop_duplicates().reset_index(drop=True).sort_values(by='education_id')\n",
    "#data_education.groupby('education_id')['education']"
   ]
  },
  {
   "cell_type": "markdown",
   "id": "1d3a8d0f",
   "metadata": {},
   "source": [
    "* Также создаем датафрейм для `family_status` и `family_status_id` (2 способами):"
   ]
  },
  {
   "cell_type": "code",
   "execution_count": 56,
   "id": "a93d4582",
   "metadata": {},
   "outputs": [
    {
     "data": {
      "text/html": [
       "<div>\n",
       "<style scoped>\n",
       "    .dataframe tbody tr th:only-of-type {\n",
       "        vertical-align: middle;\n",
       "    }\n",
       "\n",
       "    .dataframe tbody tr th {\n",
       "        vertical-align: top;\n",
       "    }\n",
       "\n",
       "    .dataframe thead th {\n",
       "        text-align: right;\n",
       "    }\n",
       "</style>\n",
       "<table border=\"1\" class=\"dataframe\">\n",
       "  <thead>\n",
       "    <tr style=\"text-align: right;\">\n",
       "      <th></th>\n",
       "      <th>family_status_id</th>\n",
       "      <th>family_status</th>\n",
       "    </tr>\n",
       "  </thead>\n",
       "  <tbody>\n",
       "    <tr>\n",
       "      <th>0</th>\n",
       "      <td>0</td>\n",
       "      <td>женат / замужем</td>\n",
       "    </tr>\n",
       "    <tr>\n",
       "      <th>1</th>\n",
       "      <td>1</td>\n",
       "      <td>гражданский брак</td>\n",
       "    </tr>\n",
       "    <tr>\n",
       "      <th>2</th>\n",
       "      <td>2</td>\n",
       "      <td>вдовец / вдова</td>\n",
       "    </tr>\n",
       "    <tr>\n",
       "      <th>3</th>\n",
       "      <td>3</td>\n",
       "      <td>в разводе</td>\n",
       "    </tr>\n",
       "    <tr>\n",
       "      <th>4</th>\n",
       "      <td>4</td>\n",
       "      <td>не женат / не замужем</td>\n",
       "    </tr>\n",
       "  </tbody>\n",
       "</table>\n",
       "</div>"
      ],
      "text/plain": [
       "   family_status_id          family_status\n",
       "0                 0        женат / замужем\n",
       "1                 1       гражданский брак\n",
       "2                 2         вдовец / вдова\n",
       "3                 3              в разводе\n",
       "4                 4  не женат / не замужем"
      ]
     },
     "execution_count": 56,
     "metadata": {},
     "output_type": "execute_result"
    }
   ],
   "source": [
    "data_family = pd.DataFrame(data=data, columns=['family_status_id', 'family_status'])\n",
    "data_family.drop_duplicates().reset_index(drop=True).sort_values(by='family_status_id')"
   ]
  },
  {
   "cell_type": "code",
   "execution_count": 57,
   "id": "b1ee4025",
   "metadata": {},
   "outputs": [
    {
     "data": {
      "text/html": [
       "<div>\n",
       "<style scoped>\n",
       "    .dataframe tbody tr th:only-of-type {\n",
       "        vertical-align: middle;\n",
       "    }\n",
       "\n",
       "    .dataframe tbody tr th {\n",
       "        vertical-align: top;\n",
       "    }\n",
       "\n",
       "    .dataframe thead th {\n",
       "        text-align: right;\n",
       "    }\n",
       "</style>\n",
       "<table border=\"1\" class=\"dataframe\">\n",
       "  <thead>\n",
       "    <tr style=\"text-align: right;\">\n",
       "      <th></th>\n",
       "      <th>family_status_id</th>\n",
       "      <th>family_status</th>\n",
       "    </tr>\n",
       "  </thead>\n",
       "  <tbody>\n",
       "    <tr>\n",
       "      <th>0</th>\n",
       "      <td>0</td>\n",
       "      <td>женат / замужем</td>\n",
       "    </tr>\n",
       "    <tr>\n",
       "      <th>1</th>\n",
       "      <td>1</td>\n",
       "      <td>гражданский брак</td>\n",
       "    </tr>\n",
       "    <tr>\n",
       "      <th>2</th>\n",
       "      <td>2</td>\n",
       "      <td>вдовец / вдова</td>\n",
       "    </tr>\n",
       "    <tr>\n",
       "      <th>3</th>\n",
       "      <td>3</td>\n",
       "      <td>в разводе</td>\n",
       "    </tr>\n",
       "    <tr>\n",
       "      <th>4</th>\n",
       "      <td>4</td>\n",
       "      <td>не женат / не замужем</td>\n",
       "    </tr>\n",
       "  </tbody>\n",
       "</table>\n",
       "</div>"
      ],
      "text/plain": [
       "   family_status_id          family_status\n",
       "0                 0        женат / замужем\n",
       "1                 1       гражданский брак\n",
       "2                 2         вдовец / вдова\n",
       "3                 3              в разводе\n",
       "4                 4  не женат / не замужем"
      ]
     },
     "metadata": {},
     "output_type": "display_data"
    }
   ],
   "source": [
    "data_dict_family = data[['family_status_id', 'family_status']]\n",
    "#data['family_status_id'].unique()\n",
    "ddf = data_dict_family.drop_duplicates().reset_index(drop=True).sort_values(by='family_status_id')\n",
    "display(ddf)"
   ]
  },
  {
   "cell_type": "markdown",
   "id": "c75393be",
   "metadata": {},
   "source": [
    "Удаляем из исходного датафрейма столбцы `education` и `family_status`, оставив только их идентификаторы: `education_id` и `family_status_id`\n",
    "* пользуемся для этого методом `drop(column=''`)"
   ]
  },
  {
   "cell_type": "code",
   "execution_count": 58,
   "id": "3c3a43bc",
   "metadata": {
    "scrolled": false
   },
   "outputs": [
    {
     "data": {
      "text/html": [
       "<div>\n",
       "<style scoped>\n",
       "    .dataframe tbody tr th:only-of-type {\n",
       "        vertical-align: middle;\n",
       "    }\n",
       "\n",
       "    .dataframe tbody tr th {\n",
       "        vertical-align: top;\n",
       "    }\n",
       "\n",
       "    .dataframe thead th {\n",
       "        text-align: right;\n",
       "    }\n",
       "</style>\n",
       "<table border=\"1\" class=\"dataframe\">\n",
       "  <thead>\n",
       "    <tr style=\"text-align: right;\">\n",
       "      <th></th>\n",
       "      <th>children</th>\n",
       "      <th>days_employed</th>\n",
       "      <th>dob_years</th>\n",
       "      <th>education_id</th>\n",
       "      <th>family_status_id</th>\n",
       "      <th>gender</th>\n",
       "      <th>income_type</th>\n",
       "      <th>debt</th>\n",
       "      <th>total_income</th>\n",
       "      <th>purpose</th>\n",
       "    </tr>\n",
       "  </thead>\n",
       "  <tbody>\n",
       "    <tr>\n",
       "      <th>0</th>\n",
       "      <td>1</td>\n",
       "      <td>8437</td>\n",
       "      <td>42</td>\n",
       "      <td>0</td>\n",
       "      <td>0</td>\n",
       "      <td>F</td>\n",
       "      <td>сотрудник</td>\n",
       "      <td>0</td>\n",
       "      <td>253875</td>\n",
       "      <td>покупка жилья</td>\n",
       "    </tr>\n",
       "    <tr>\n",
       "      <th>1</th>\n",
       "      <td>1</td>\n",
       "      <td>4024</td>\n",
       "      <td>36</td>\n",
       "      <td>1</td>\n",
       "      <td>0</td>\n",
       "      <td>F</td>\n",
       "      <td>сотрудник</td>\n",
       "      <td>0</td>\n",
       "      <td>112080</td>\n",
       "      <td>приобретение автомобиля</td>\n",
       "    </tr>\n",
       "    <tr>\n",
       "      <th>2</th>\n",
       "      <td>0</td>\n",
       "      <td>5623</td>\n",
       "      <td>33</td>\n",
       "      <td>1</td>\n",
       "      <td>0</td>\n",
       "      <td>M</td>\n",
       "      <td>сотрудник</td>\n",
       "      <td>0</td>\n",
       "      <td>145885</td>\n",
       "      <td>покупка жилья</td>\n",
       "    </tr>\n",
       "    <tr>\n",
       "      <th>3</th>\n",
       "      <td>3</td>\n",
       "      <td>4124</td>\n",
       "      <td>32</td>\n",
       "      <td>1</td>\n",
       "      <td>0</td>\n",
       "      <td>M</td>\n",
       "      <td>сотрудник</td>\n",
       "      <td>0</td>\n",
       "      <td>267628</td>\n",
       "      <td>дополнительное образование</td>\n",
       "    </tr>\n",
       "    <tr>\n",
       "      <th>4</th>\n",
       "      <td>0</td>\n",
       "      <td>340266</td>\n",
       "      <td>53</td>\n",
       "      <td>1</td>\n",
       "      <td>1</td>\n",
       "      <td>F</td>\n",
       "      <td>пенсионер</td>\n",
       "      <td>0</td>\n",
       "      <td>158616</td>\n",
       "      <td>сыграть свадьбу</td>\n",
       "    </tr>\n",
       "    <tr>\n",
       "      <th>5</th>\n",
       "      <td>0</td>\n",
       "      <td>926</td>\n",
       "      <td>27</td>\n",
       "      <td>0</td>\n",
       "      <td>1</td>\n",
       "      <td>M</td>\n",
       "      <td>компаньон</td>\n",
       "      <td>0</td>\n",
       "      <td>255763</td>\n",
       "      <td>покупка жилья</td>\n",
       "    </tr>\n",
       "    <tr>\n",
       "      <th>6</th>\n",
       "      <td>0</td>\n",
       "      <td>2879</td>\n",
       "      <td>43</td>\n",
       "      <td>0</td>\n",
       "      <td>0</td>\n",
       "      <td>F</td>\n",
       "      <td>компаньон</td>\n",
       "      <td>0</td>\n",
       "      <td>240525</td>\n",
       "      <td>операции с жильем</td>\n",
       "    </tr>\n",
       "    <tr>\n",
       "      <th>7</th>\n",
       "      <td>0</td>\n",
       "      <td>152</td>\n",
       "      <td>50</td>\n",
       "      <td>1</td>\n",
       "      <td>0</td>\n",
       "      <td>M</td>\n",
       "      <td>сотрудник</td>\n",
       "      <td>0</td>\n",
       "      <td>135823</td>\n",
       "      <td>образование</td>\n",
       "    </tr>\n",
       "    <tr>\n",
       "      <th>8</th>\n",
       "      <td>2</td>\n",
       "      <td>6929</td>\n",
       "      <td>35</td>\n",
       "      <td>0</td>\n",
       "      <td>1</td>\n",
       "      <td>F</td>\n",
       "      <td>сотрудник</td>\n",
       "      <td>0</td>\n",
       "      <td>95856</td>\n",
       "      <td>на проведение свадьбы</td>\n",
       "    </tr>\n",
       "    <tr>\n",
       "      <th>9</th>\n",
       "      <td>0</td>\n",
       "      <td>2188</td>\n",
       "      <td>41</td>\n",
       "      <td>1</td>\n",
       "      <td>0</td>\n",
       "      <td>M</td>\n",
       "      <td>сотрудник</td>\n",
       "      <td>0</td>\n",
       "      <td>144425</td>\n",
       "      <td>покупка жилья для семьи</td>\n",
       "    </tr>\n",
       "    <tr>\n",
       "      <th>10</th>\n",
       "      <td>2</td>\n",
       "      <td>4171</td>\n",
       "      <td>36</td>\n",
       "      <td>0</td>\n",
       "      <td>0</td>\n",
       "      <td>M</td>\n",
       "      <td>компаньон</td>\n",
       "      <td>0</td>\n",
       "      <td>113943</td>\n",
       "      <td>покупка недвижимости</td>\n",
       "    </tr>\n",
       "    <tr>\n",
       "      <th>11</th>\n",
       "      <td>0</td>\n",
       "      <td>792</td>\n",
       "      <td>40</td>\n",
       "      <td>1</td>\n",
       "      <td>0</td>\n",
       "      <td>F</td>\n",
       "      <td>сотрудник</td>\n",
       "      <td>0</td>\n",
       "      <td>77069</td>\n",
       "      <td>покупка коммерческой недвижимости</td>\n",
       "    </tr>\n",
       "    <tr>\n",
       "      <th>12</th>\n",
       "      <td>0</td>\n",
       "      <td>2194</td>\n",
       "      <td>65</td>\n",
       "      <td>1</td>\n",
       "      <td>1</td>\n",
       "      <td>M</td>\n",
       "      <td>пенсионер</td>\n",
       "      <td>0</td>\n",
       "      <td>145017</td>\n",
       "      <td>сыграть свадьбу</td>\n",
       "    </tr>\n",
       "    <tr>\n",
       "      <th>13</th>\n",
       "      <td>0</td>\n",
       "      <td>1846</td>\n",
       "      <td>54</td>\n",
       "      <td>2</td>\n",
       "      <td>0</td>\n",
       "      <td>F</td>\n",
       "      <td>сотрудник</td>\n",
       "      <td>0</td>\n",
       "      <td>130458</td>\n",
       "      <td>приобретение автомобиля</td>\n",
       "    </tr>\n",
       "    <tr>\n",
       "      <th>14</th>\n",
       "      <td>0</td>\n",
       "      <td>1844</td>\n",
       "      <td>56</td>\n",
       "      <td>0</td>\n",
       "      <td>1</td>\n",
       "      <td>F</td>\n",
       "      <td>компаньон</td>\n",
       "      <td>1</td>\n",
       "      <td>165127</td>\n",
       "      <td>покупка жилой недвижимости</td>\n",
       "    </tr>\n",
       "  </tbody>\n",
       "</table>\n",
       "</div>"
      ],
      "text/plain": [
       "    children  days_employed  dob_years  education_id  family_status_id gender  \\\n",
       "0          1           8437         42             0                 0      F   \n",
       "1          1           4024         36             1                 0      F   \n",
       "2          0           5623         33             1                 0      M   \n",
       "3          3           4124         32             1                 0      M   \n",
       "4          0         340266         53             1                 1      F   \n",
       "5          0            926         27             0                 1      M   \n",
       "6          0           2879         43             0                 0      F   \n",
       "7          0            152         50             1                 0      M   \n",
       "8          2           6929         35             0                 1      F   \n",
       "9          0           2188         41             1                 0      M   \n",
       "10         2           4171         36             0                 0      M   \n",
       "11         0            792         40             1                 0      F   \n",
       "12         0           2194         65             1                 1      M   \n",
       "13         0           1846         54             2                 0      F   \n",
       "14         0           1844         56             0                 1      F   \n",
       "\n",
       "   income_type  debt  total_income                            purpose  \n",
       "0    сотрудник     0        253875                      покупка жилья  \n",
       "1    сотрудник     0        112080            приобретение автомобиля  \n",
       "2    сотрудник     0        145885                      покупка жилья  \n",
       "3    сотрудник     0        267628         дополнительное образование  \n",
       "4    пенсионер     0        158616                    сыграть свадьбу  \n",
       "5    компаньон     0        255763                      покупка жилья  \n",
       "6    компаньон     0        240525                  операции с жильем  \n",
       "7    сотрудник     0        135823                        образование  \n",
       "8    сотрудник     0         95856              на проведение свадьбы  \n",
       "9    сотрудник     0        144425            покупка жилья для семьи  \n",
       "10   компаньон     0        113943               покупка недвижимости  \n",
       "11   сотрудник     0         77069  покупка коммерческой недвижимости  \n",
       "12   пенсионер     0        145017                    сыграть свадьбу  \n",
       "13   сотрудник     0        130458            приобретение автомобиля  \n",
       "14   компаньон     1        165127         покупка жилой недвижимости  "
      ]
     },
     "execution_count": 58,
     "metadata": {},
     "output_type": "execute_result"
    }
   ],
   "source": [
    "data['education'] = data_dict_education\n",
    "# data.head(15)\n",
    "data=data.drop(columns='education')\n",
    "data['family_status'] = data_dict_family\n",
    "data=data.drop(columns='family_status')\n",
    "data.head(15)"
   ]
  },
  {
   "cell_type": "markdown",
   "id": "29bb3b05",
   "metadata": {},
   "source": [
    "### Шаг 2.6. Категоризация дохода."
   ]
  },
  {
   "cell_type": "markdown",
   "id": "a21e61be",
   "metadata": {},
   "source": [
    "На основании диапазонов, указанных ниже, создаем столбец `total_income_category` с категориями:"
   ]
  },
  {
   "cell_type": "code",
   "execution_count": 59,
   "id": "ee0530e7",
   "metadata": {},
   "outputs": [
    {
     "data": {
      "text/html": [
       "<div>\n",
       "<style scoped>\n",
       "    .dataframe tbody tr th:only-of-type {\n",
       "        vertical-align: middle;\n",
       "    }\n",
       "\n",
       "    .dataframe tbody tr th {\n",
       "        vertical-align: top;\n",
       "    }\n",
       "\n",
       "    .dataframe thead th {\n",
       "        text-align: right;\n",
       "    }\n",
       "</style>\n",
       "<table border=\"1\" class=\"dataframe\">\n",
       "  <thead>\n",
       "    <tr style=\"text-align: right;\">\n",
       "      <th></th>\n",
       "      <th>children</th>\n",
       "      <th>days_employed</th>\n",
       "      <th>dob_years</th>\n",
       "      <th>education_id</th>\n",
       "      <th>family_status_id</th>\n",
       "      <th>gender</th>\n",
       "      <th>income_type</th>\n",
       "      <th>debt</th>\n",
       "      <th>total_income</th>\n",
       "      <th>purpose</th>\n",
       "      <th>total_income_category</th>\n",
       "    </tr>\n",
       "  </thead>\n",
       "  <tbody>\n",
       "    <tr>\n",
       "      <th>0</th>\n",
       "      <td>1</td>\n",
       "      <td>8437</td>\n",
       "      <td>42</td>\n",
       "      <td>0</td>\n",
       "      <td>0</td>\n",
       "      <td>F</td>\n",
       "      <td>сотрудник</td>\n",
       "      <td>0</td>\n",
       "      <td>253875</td>\n",
       "      <td>покупка жилья</td>\n",
       "      <td>B</td>\n",
       "    </tr>\n",
       "    <tr>\n",
       "      <th>1</th>\n",
       "      <td>1</td>\n",
       "      <td>4024</td>\n",
       "      <td>36</td>\n",
       "      <td>1</td>\n",
       "      <td>0</td>\n",
       "      <td>F</td>\n",
       "      <td>сотрудник</td>\n",
       "      <td>0</td>\n",
       "      <td>112080</td>\n",
       "      <td>приобретение автомобиля</td>\n",
       "      <td>C</td>\n",
       "    </tr>\n",
       "    <tr>\n",
       "      <th>2</th>\n",
       "      <td>0</td>\n",
       "      <td>5623</td>\n",
       "      <td>33</td>\n",
       "      <td>1</td>\n",
       "      <td>0</td>\n",
       "      <td>M</td>\n",
       "      <td>сотрудник</td>\n",
       "      <td>0</td>\n",
       "      <td>145885</td>\n",
       "      <td>покупка жилья</td>\n",
       "      <td>C</td>\n",
       "    </tr>\n",
       "    <tr>\n",
       "      <th>3</th>\n",
       "      <td>3</td>\n",
       "      <td>4124</td>\n",
       "      <td>32</td>\n",
       "      <td>1</td>\n",
       "      <td>0</td>\n",
       "      <td>M</td>\n",
       "      <td>сотрудник</td>\n",
       "      <td>0</td>\n",
       "      <td>267628</td>\n",
       "      <td>дополнительное образование</td>\n",
       "      <td>B</td>\n",
       "    </tr>\n",
       "    <tr>\n",
       "      <th>4</th>\n",
       "      <td>0</td>\n",
       "      <td>340266</td>\n",
       "      <td>53</td>\n",
       "      <td>1</td>\n",
       "      <td>1</td>\n",
       "      <td>F</td>\n",
       "      <td>пенсионер</td>\n",
       "      <td>0</td>\n",
       "      <td>158616</td>\n",
       "      <td>сыграть свадьбу</td>\n",
       "      <td>C</td>\n",
       "    </tr>\n",
       "    <tr>\n",
       "      <th>5</th>\n",
       "      <td>0</td>\n",
       "      <td>926</td>\n",
       "      <td>27</td>\n",
       "      <td>0</td>\n",
       "      <td>1</td>\n",
       "      <td>M</td>\n",
       "      <td>компаньон</td>\n",
       "      <td>0</td>\n",
       "      <td>255763</td>\n",
       "      <td>покупка жилья</td>\n",
       "      <td>B</td>\n",
       "    </tr>\n",
       "    <tr>\n",
       "      <th>6</th>\n",
       "      <td>0</td>\n",
       "      <td>2879</td>\n",
       "      <td>43</td>\n",
       "      <td>0</td>\n",
       "      <td>0</td>\n",
       "      <td>F</td>\n",
       "      <td>компаньон</td>\n",
       "      <td>0</td>\n",
       "      <td>240525</td>\n",
       "      <td>операции с жильем</td>\n",
       "      <td>B</td>\n",
       "    </tr>\n",
       "    <tr>\n",
       "      <th>7</th>\n",
       "      <td>0</td>\n",
       "      <td>152</td>\n",
       "      <td>50</td>\n",
       "      <td>1</td>\n",
       "      <td>0</td>\n",
       "      <td>M</td>\n",
       "      <td>сотрудник</td>\n",
       "      <td>0</td>\n",
       "      <td>135823</td>\n",
       "      <td>образование</td>\n",
       "      <td>C</td>\n",
       "    </tr>\n",
       "    <tr>\n",
       "      <th>8</th>\n",
       "      <td>2</td>\n",
       "      <td>6929</td>\n",
       "      <td>35</td>\n",
       "      <td>0</td>\n",
       "      <td>1</td>\n",
       "      <td>F</td>\n",
       "      <td>сотрудник</td>\n",
       "      <td>0</td>\n",
       "      <td>95856</td>\n",
       "      <td>на проведение свадьбы</td>\n",
       "      <td>C</td>\n",
       "    </tr>\n",
       "    <tr>\n",
       "      <th>9</th>\n",
       "      <td>0</td>\n",
       "      <td>2188</td>\n",
       "      <td>41</td>\n",
       "      <td>1</td>\n",
       "      <td>0</td>\n",
       "      <td>M</td>\n",
       "      <td>сотрудник</td>\n",
       "      <td>0</td>\n",
       "      <td>144425</td>\n",
       "      <td>покупка жилья для семьи</td>\n",
       "      <td>C</td>\n",
       "    </tr>\n",
       "    <tr>\n",
       "      <th>10</th>\n",
       "      <td>2</td>\n",
       "      <td>4171</td>\n",
       "      <td>36</td>\n",
       "      <td>0</td>\n",
       "      <td>0</td>\n",
       "      <td>M</td>\n",
       "      <td>компаньон</td>\n",
       "      <td>0</td>\n",
       "      <td>113943</td>\n",
       "      <td>покупка недвижимости</td>\n",
       "      <td>C</td>\n",
       "    </tr>\n",
       "    <tr>\n",
       "      <th>11</th>\n",
       "      <td>0</td>\n",
       "      <td>792</td>\n",
       "      <td>40</td>\n",
       "      <td>1</td>\n",
       "      <td>0</td>\n",
       "      <td>F</td>\n",
       "      <td>сотрудник</td>\n",
       "      <td>0</td>\n",
       "      <td>77069</td>\n",
       "      <td>покупка коммерческой недвижимости</td>\n",
       "      <td>C</td>\n",
       "    </tr>\n",
       "    <tr>\n",
       "      <th>12</th>\n",
       "      <td>0</td>\n",
       "      <td>2194</td>\n",
       "      <td>65</td>\n",
       "      <td>1</td>\n",
       "      <td>1</td>\n",
       "      <td>M</td>\n",
       "      <td>пенсионер</td>\n",
       "      <td>0</td>\n",
       "      <td>145017</td>\n",
       "      <td>сыграть свадьбу</td>\n",
       "      <td>C</td>\n",
       "    </tr>\n",
       "    <tr>\n",
       "      <th>13</th>\n",
       "      <td>0</td>\n",
       "      <td>1846</td>\n",
       "      <td>54</td>\n",
       "      <td>2</td>\n",
       "      <td>0</td>\n",
       "      <td>F</td>\n",
       "      <td>сотрудник</td>\n",
       "      <td>0</td>\n",
       "      <td>130458</td>\n",
       "      <td>приобретение автомобиля</td>\n",
       "      <td>C</td>\n",
       "    </tr>\n",
       "    <tr>\n",
       "      <th>14</th>\n",
       "      <td>0</td>\n",
       "      <td>1844</td>\n",
       "      <td>56</td>\n",
       "      <td>0</td>\n",
       "      <td>1</td>\n",
       "      <td>F</td>\n",
       "      <td>компаньон</td>\n",
       "      <td>1</td>\n",
       "      <td>165127</td>\n",
       "      <td>покупка жилой недвижимости</td>\n",
       "      <td>C</td>\n",
       "    </tr>\n",
       "  </tbody>\n",
       "</table>\n",
       "</div>"
      ],
      "text/plain": [
       "    children  days_employed  dob_years  education_id  family_status_id gender  \\\n",
       "0          1           8437         42             0                 0      F   \n",
       "1          1           4024         36             1                 0      F   \n",
       "2          0           5623         33             1                 0      M   \n",
       "3          3           4124         32             1                 0      M   \n",
       "4          0         340266         53             1                 1      F   \n",
       "5          0            926         27             0                 1      M   \n",
       "6          0           2879         43             0                 0      F   \n",
       "7          0            152         50             1                 0      M   \n",
       "8          2           6929         35             0                 1      F   \n",
       "9          0           2188         41             1                 0      M   \n",
       "10         2           4171         36             0                 0      M   \n",
       "11         0            792         40             1                 0      F   \n",
       "12         0           2194         65             1                 1      M   \n",
       "13         0           1846         54             2                 0      F   \n",
       "14         0           1844         56             0                 1      F   \n",
       "\n",
       "   income_type  debt  total_income                            purpose  \\\n",
       "0    сотрудник     0        253875                      покупка жилья   \n",
       "1    сотрудник     0        112080            приобретение автомобиля   \n",
       "2    сотрудник     0        145885                      покупка жилья   \n",
       "3    сотрудник     0        267628         дополнительное образование   \n",
       "4    пенсионер     0        158616                    сыграть свадьбу   \n",
       "5    компаньон     0        255763                      покупка жилья   \n",
       "6    компаньон     0        240525                  операции с жильем   \n",
       "7    сотрудник     0        135823                        образование   \n",
       "8    сотрудник     0         95856              на проведение свадьбы   \n",
       "9    сотрудник     0        144425            покупка жилья для семьи   \n",
       "10   компаньон     0        113943               покупка недвижимости   \n",
       "11   сотрудник     0         77069  покупка коммерческой недвижимости   \n",
       "12   пенсионер     0        145017                    сыграть свадьбу   \n",
       "13   сотрудник     0        130458            приобретение автомобиля   \n",
       "14   компаньон     1        165127         покупка жилой недвижимости   \n",
       "\n",
       "   total_income_category  \n",
       "0                      B  \n",
       "1                      C  \n",
       "2                      C  \n",
       "3                      B  \n",
       "4                      C  \n",
       "5                      B  \n",
       "6                      B  \n",
       "7                      C  \n",
       "8                      C  \n",
       "9                      C  \n",
       "10                     C  \n",
       "11                     C  \n",
       "12                     C  \n",
       "13                     C  \n",
       "14                     C  "
      ]
     },
     "execution_count": 59,
     "metadata": {},
     "output_type": "execute_result"
    }
   ],
   "source": [
    "def total_income_category(income):\n",
    "    \n",
    "    \n",
    "    if income <= 30000:\n",
    "        return 'E'\n",
    "    elif 30001 <= income <= 50000:\n",
    "        return 'D'\n",
    "    elif 50001 <= income <= 200000:\n",
    "        return 'C'\n",
    "    elif 200001 <= income <= 1000000:\n",
    "        return 'B'\n",
    "    else:\n",
    "        return 'A'\n",
    "    \n",
    "        \n",
    "# print(total_income_category(235000))\n",
    "data['total_income_category'] = data['total_income'].apply(total_income_category)\n",
    "data.head(15)"
   ]
  },
  {
   "cell_type": "markdown",
   "id": "3393ac34",
   "metadata": {},
   "source": [
    "Для этого мы применили функцию и указали соотвествующие диапозоны для категорий, прибегая к методу `apply()`"
   ]
  },
  {
   "cell_type": "markdown",
   "id": "64a555b4",
   "metadata": {},
   "source": [
    "### Шаг 2.7. Категоризация целей кредита."
   ]
  },
  {
   "cell_type": "markdown",
   "id": "77d548f9",
   "metadata": {},
   "source": [
    "Создаем функцию, которая на основании данных из столбца `purpose` сформирует новый столбец `purpose_category`, в котором будут категории:\n",
    "* `'операции с автомобилем'`,\n",
    "* `'операции с недвижимостью'`,\n",
    "* `'проведение свадьбы'`,\n",
    "* `'получение образования'`."
   ]
  },
  {
   "cell_type": "markdown",
   "id": "2e93a161",
   "metadata": {},
   "source": [
    "Тут мы воспользуемся ключевыми буквами значений в колонке `'purpose'`, а также используем метод `apply()`"
   ]
  },
  {
   "cell_type": "code",
   "execution_count": 60,
   "id": "d0f925ae",
   "metadata": {},
   "outputs": [
    {
     "data": {
      "text/html": [
       "<div>\n",
       "<style scoped>\n",
       "    .dataframe tbody tr th:only-of-type {\n",
       "        vertical-align: middle;\n",
       "    }\n",
       "\n",
       "    .dataframe tbody tr th {\n",
       "        vertical-align: top;\n",
       "    }\n",
       "\n",
       "    .dataframe thead th {\n",
       "        text-align: right;\n",
       "    }\n",
       "</style>\n",
       "<table border=\"1\" class=\"dataframe\">\n",
       "  <thead>\n",
       "    <tr style=\"text-align: right;\">\n",
       "      <th></th>\n",
       "      <th>children</th>\n",
       "      <th>days_employed</th>\n",
       "      <th>dob_years</th>\n",
       "      <th>education_id</th>\n",
       "      <th>family_status_id</th>\n",
       "      <th>gender</th>\n",
       "      <th>income_type</th>\n",
       "      <th>debt</th>\n",
       "      <th>total_income</th>\n",
       "      <th>purpose</th>\n",
       "      <th>total_income_category</th>\n",
       "      <th>purpose_category</th>\n",
       "    </tr>\n",
       "  </thead>\n",
       "  <tbody>\n",
       "    <tr>\n",
       "      <th>0</th>\n",
       "      <td>1</td>\n",
       "      <td>8437</td>\n",
       "      <td>42</td>\n",
       "      <td>0</td>\n",
       "      <td>0</td>\n",
       "      <td>F</td>\n",
       "      <td>сотрудник</td>\n",
       "      <td>0</td>\n",
       "      <td>253875</td>\n",
       "      <td>покупка жилья</td>\n",
       "      <td>B</td>\n",
       "      <td>операции с недвижимостью</td>\n",
       "    </tr>\n",
       "    <tr>\n",
       "      <th>1</th>\n",
       "      <td>1</td>\n",
       "      <td>4024</td>\n",
       "      <td>36</td>\n",
       "      <td>1</td>\n",
       "      <td>0</td>\n",
       "      <td>F</td>\n",
       "      <td>сотрудник</td>\n",
       "      <td>0</td>\n",
       "      <td>112080</td>\n",
       "      <td>приобретение автомобиля</td>\n",
       "      <td>C</td>\n",
       "      <td>операции с автомобилем</td>\n",
       "    </tr>\n",
       "    <tr>\n",
       "      <th>2</th>\n",
       "      <td>0</td>\n",
       "      <td>5623</td>\n",
       "      <td>33</td>\n",
       "      <td>1</td>\n",
       "      <td>0</td>\n",
       "      <td>M</td>\n",
       "      <td>сотрудник</td>\n",
       "      <td>0</td>\n",
       "      <td>145885</td>\n",
       "      <td>покупка жилья</td>\n",
       "      <td>C</td>\n",
       "      <td>операции с недвижимостью</td>\n",
       "    </tr>\n",
       "    <tr>\n",
       "      <th>3</th>\n",
       "      <td>3</td>\n",
       "      <td>4124</td>\n",
       "      <td>32</td>\n",
       "      <td>1</td>\n",
       "      <td>0</td>\n",
       "      <td>M</td>\n",
       "      <td>сотрудник</td>\n",
       "      <td>0</td>\n",
       "      <td>267628</td>\n",
       "      <td>дополнительное образование</td>\n",
       "      <td>B</td>\n",
       "      <td>получение образования</td>\n",
       "    </tr>\n",
       "    <tr>\n",
       "      <th>4</th>\n",
       "      <td>0</td>\n",
       "      <td>340266</td>\n",
       "      <td>53</td>\n",
       "      <td>1</td>\n",
       "      <td>1</td>\n",
       "      <td>F</td>\n",
       "      <td>пенсионер</td>\n",
       "      <td>0</td>\n",
       "      <td>158616</td>\n",
       "      <td>сыграть свадьбу</td>\n",
       "      <td>C</td>\n",
       "      <td>проведение свадьбы</td>\n",
       "    </tr>\n",
       "    <tr>\n",
       "      <th>5</th>\n",
       "      <td>0</td>\n",
       "      <td>926</td>\n",
       "      <td>27</td>\n",
       "      <td>0</td>\n",
       "      <td>1</td>\n",
       "      <td>M</td>\n",
       "      <td>компаньон</td>\n",
       "      <td>0</td>\n",
       "      <td>255763</td>\n",
       "      <td>покупка жилья</td>\n",
       "      <td>B</td>\n",
       "      <td>операции с недвижимостью</td>\n",
       "    </tr>\n",
       "    <tr>\n",
       "      <th>6</th>\n",
       "      <td>0</td>\n",
       "      <td>2879</td>\n",
       "      <td>43</td>\n",
       "      <td>0</td>\n",
       "      <td>0</td>\n",
       "      <td>F</td>\n",
       "      <td>компаньон</td>\n",
       "      <td>0</td>\n",
       "      <td>240525</td>\n",
       "      <td>операции с жильем</td>\n",
       "      <td>B</td>\n",
       "      <td>операции с недвижимостью</td>\n",
       "    </tr>\n",
       "    <tr>\n",
       "      <th>7</th>\n",
       "      <td>0</td>\n",
       "      <td>152</td>\n",
       "      <td>50</td>\n",
       "      <td>1</td>\n",
       "      <td>0</td>\n",
       "      <td>M</td>\n",
       "      <td>сотрудник</td>\n",
       "      <td>0</td>\n",
       "      <td>135823</td>\n",
       "      <td>образование</td>\n",
       "      <td>C</td>\n",
       "      <td>получение образования</td>\n",
       "    </tr>\n",
       "    <tr>\n",
       "      <th>8</th>\n",
       "      <td>2</td>\n",
       "      <td>6929</td>\n",
       "      <td>35</td>\n",
       "      <td>0</td>\n",
       "      <td>1</td>\n",
       "      <td>F</td>\n",
       "      <td>сотрудник</td>\n",
       "      <td>0</td>\n",
       "      <td>95856</td>\n",
       "      <td>на проведение свадьбы</td>\n",
       "      <td>C</td>\n",
       "      <td>проведение свадьбы</td>\n",
       "    </tr>\n",
       "    <tr>\n",
       "      <th>9</th>\n",
       "      <td>0</td>\n",
       "      <td>2188</td>\n",
       "      <td>41</td>\n",
       "      <td>1</td>\n",
       "      <td>0</td>\n",
       "      <td>M</td>\n",
       "      <td>сотрудник</td>\n",
       "      <td>0</td>\n",
       "      <td>144425</td>\n",
       "      <td>покупка жилья для семьи</td>\n",
       "      <td>C</td>\n",
       "      <td>операции с недвижимостью</td>\n",
       "    </tr>\n",
       "    <tr>\n",
       "      <th>10</th>\n",
       "      <td>2</td>\n",
       "      <td>4171</td>\n",
       "      <td>36</td>\n",
       "      <td>0</td>\n",
       "      <td>0</td>\n",
       "      <td>M</td>\n",
       "      <td>компаньон</td>\n",
       "      <td>0</td>\n",
       "      <td>113943</td>\n",
       "      <td>покупка недвижимости</td>\n",
       "      <td>C</td>\n",
       "      <td>операции с недвижимостью</td>\n",
       "    </tr>\n",
       "    <tr>\n",
       "      <th>11</th>\n",
       "      <td>0</td>\n",
       "      <td>792</td>\n",
       "      <td>40</td>\n",
       "      <td>1</td>\n",
       "      <td>0</td>\n",
       "      <td>F</td>\n",
       "      <td>сотрудник</td>\n",
       "      <td>0</td>\n",
       "      <td>77069</td>\n",
       "      <td>покупка коммерческой недвижимости</td>\n",
       "      <td>C</td>\n",
       "      <td>операции с недвижимостью</td>\n",
       "    </tr>\n",
       "    <tr>\n",
       "      <th>12</th>\n",
       "      <td>0</td>\n",
       "      <td>2194</td>\n",
       "      <td>65</td>\n",
       "      <td>1</td>\n",
       "      <td>1</td>\n",
       "      <td>M</td>\n",
       "      <td>пенсионер</td>\n",
       "      <td>0</td>\n",
       "      <td>145017</td>\n",
       "      <td>сыграть свадьбу</td>\n",
       "      <td>C</td>\n",
       "      <td>проведение свадьбы</td>\n",
       "    </tr>\n",
       "    <tr>\n",
       "      <th>13</th>\n",
       "      <td>0</td>\n",
       "      <td>1846</td>\n",
       "      <td>54</td>\n",
       "      <td>2</td>\n",
       "      <td>0</td>\n",
       "      <td>F</td>\n",
       "      <td>сотрудник</td>\n",
       "      <td>0</td>\n",
       "      <td>130458</td>\n",
       "      <td>приобретение автомобиля</td>\n",
       "      <td>C</td>\n",
       "      <td>операции с автомобилем</td>\n",
       "    </tr>\n",
       "    <tr>\n",
       "      <th>14</th>\n",
       "      <td>0</td>\n",
       "      <td>1844</td>\n",
       "      <td>56</td>\n",
       "      <td>0</td>\n",
       "      <td>1</td>\n",
       "      <td>F</td>\n",
       "      <td>компаньон</td>\n",
       "      <td>1</td>\n",
       "      <td>165127</td>\n",
       "      <td>покупка жилой недвижимости</td>\n",
       "      <td>C</td>\n",
       "      <td>операции с недвижимостью</td>\n",
       "    </tr>\n",
       "  </tbody>\n",
       "</table>\n",
       "</div>"
      ],
      "text/plain": [
       "    children  days_employed  dob_years  education_id  family_status_id gender  \\\n",
       "0          1           8437         42             0                 0      F   \n",
       "1          1           4024         36             1                 0      F   \n",
       "2          0           5623         33             1                 0      M   \n",
       "3          3           4124         32             1                 0      M   \n",
       "4          0         340266         53             1                 1      F   \n",
       "5          0            926         27             0                 1      M   \n",
       "6          0           2879         43             0                 0      F   \n",
       "7          0            152         50             1                 0      M   \n",
       "8          2           6929         35             0                 1      F   \n",
       "9          0           2188         41             1                 0      M   \n",
       "10         2           4171         36             0                 0      M   \n",
       "11         0            792         40             1                 0      F   \n",
       "12         0           2194         65             1                 1      M   \n",
       "13         0           1846         54             2                 0      F   \n",
       "14         0           1844         56             0                 1      F   \n",
       "\n",
       "   income_type  debt  total_income                            purpose  \\\n",
       "0    сотрудник     0        253875                      покупка жилья   \n",
       "1    сотрудник     0        112080            приобретение автомобиля   \n",
       "2    сотрудник     0        145885                      покупка жилья   \n",
       "3    сотрудник     0        267628         дополнительное образование   \n",
       "4    пенсионер     0        158616                    сыграть свадьбу   \n",
       "5    компаньон     0        255763                      покупка жилья   \n",
       "6    компаньон     0        240525                  операции с жильем   \n",
       "7    сотрудник     0        135823                        образование   \n",
       "8    сотрудник     0         95856              на проведение свадьбы   \n",
       "9    сотрудник     0        144425            покупка жилья для семьи   \n",
       "10   компаньон     0        113943               покупка недвижимости   \n",
       "11   сотрудник     0         77069  покупка коммерческой недвижимости   \n",
       "12   пенсионер     0        145017                    сыграть свадьбу   \n",
       "13   сотрудник     0        130458            приобретение автомобиля   \n",
       "14   компаньон     1        165127         покупка жилой недвижимости   \n",
       "\n",
       "   total_income_category          purpose_category  \n",
       "0                      B  операции с недвижимостью  \n",
       "1                      C    операции с автомобилем  \n",
       "2                      C  операции с недвижимостью  \n",
       "3                      B     получение образования  \n",
       "4                      C        проведение свадьбы  \n",
       "5                      B  операции с недвижимостью  \n",
       "6                      B  операции с недвижимостью  \n",
       "7                      C     получение образования  \n",
       "8                      C        проведение свадьбы  \n",
       "9                      C  операции с недвижимостью  \n",
       "10                     C  операции с недвижимостью  \n",
       "11                     C  операции с недвижимостью  \n",
       "12                     C        проведение свадьбы  \n",
       "13                     C    операции с автомобилем  \n",
       "14                     C  операции с недвижимостью  "
      ]
     },
     "execution_count": 60,
     "metadata": {},
     "output_type": "execute_result"
    }
   ],
   "source": [
    "def purpose_category(purpose):\n",
    "    \n",
    "    if 'авто' in purpose:\n",
    "        return 'операции с автомобилем'\n",
    "    elif 'недвиж' in purpose:\n",
    "        return 'операции с недвижимостью'\n",
    "    \n",
    "    elif 'свадь' in purpose:\n",
    "        return 'проведение свадьбы'\n",
    "    elif 'образо' in purpose:\n",
    "        return 'получение образования'\n",
    "    return 'операции с недвижимостью' # так как проверили на уникальные значения, там оказались все операции с жильем\n",
    "    \n",
    "    \n",
    "        \n",
    "    \n",
    "data['purpose_category'] = data['purpose'].apply(purpose_category)\n",
    "#data['purpose_category'].value_counts()\n",
    "# data['purpose'].unique() \n",
    "data.head(15)"
   ]
  },
  {
   "cell_type": "markdown",
   "id": "ac16eabc",
   "metadata": {},
   "source": [
    "**Вывод**\n",
    "\n",
    "Так мы категоризировали данные для удобства при просмотре и чтении данных, создав две новых колонки. Объединили избранные данные в произвольные группы по заданному критерию, прибегая к функциям и методу `apply()`"
   ]
  },
  {
   "cell_type": "markdown",
   "id": "8ebc6beb",
   "metadata": {},
   "source": [
    "### Ответы на вопросы."
   ]
  },
  {
   "cell_type": "markdown",
   "id": "53997394",
   "metadata": {},
   "source": [
    "##### Вопрос 1:"
   ]
  },
  {
   "cell_type": "markdown",
   "id": "dd123986",
   "metadata": {},
   "source": [
    "* Есть ли зависимость между количеством детей и возвратом кредита в срок?\n",
    "\n",
    "Отвечая на этот вопрос, применим сводную таблицу, прибегая к методу `pivot_table()`. Для этого сгруппируем колонку `'children'` и добавим функцию подсчета зодолженности в зависимости от кол-во детей. Таблицу сгруппируем по детям и значением задолженности с функцией средней арифметической\n",
    "\n",
    "Для удобства переименовываем колонки и добавляем функцию с процентами с подсчетом задолженности для визуального восприятия и быстрой обработки информации:"
   ]
  },
  {
   "cell_type": "code",
   "execution_count": 61,
   "id": "5c47313d",
   "metadata": {},
   "outputs": [
    {
     "data": {
      "text/html": [
       "<div>\n",
       "<style scoped>\n",
       "    .dataframe tbody tr th:only-of-type {\n",
       "        vertical-align: middle;\n",
       "    }\n",
       "\n",
       "    .dataframe tbody tr th {\n",
       "        vertical-align: top;\n",
       "    }\n",
       "\n",
       "    .dataframe thead th {\n",
       "        text-align: right;\n",
       "    }\n",
       "</style>\n",
       "<table border=\"1\" class=\"dataframe\">\n",
       "  <thead>\n",
       "    <tr style=\"text-align: right;\">\n",
       "      <th></th>\n",
       "      <th>Задолженность(средняя)</th>\n",
       "      <th>Задержка в %</th>\n",
       "      <th>Количество  задолженностей</th>\n",
       "      <th>Количество всех c таким кол-во детьми</th>\n",
       "    </tr>\n",
       "    <tr>\n",
       "      <th>children</th>\n",
       "      <th></th>\n",
       "      <th></th>\n",
       "      <th></th>\n",
       "      <th></th>\n",
       "    </tr>\n",
       "  </thead>\n",
       "  <tbody>\n",
       "    <tr>\n",
       "      <th>0</th>\n",
       "      <td>0.075598</td>\n",
       "      <td>8%</td>\n",
       "      <td>1071</td>\n",
       "      <td>14167</td>\n",
       "    </tr>\n",
       "    <tr>\n",
       "      <th>1</th>\n",
       "      <td>0.091658</td>\n",
       "      <td>9%</td>\n",
       "      <td>445</td>\n",
       "      <td>4855</td>\n",
       "    </tr>\n",
       "    <tr>\n",
       "      <th>2</th>\n",
       "      <td>0.094542</td>\n",
       "      <td>9%</td>\n",
       "      <td>194</td>\n",
       "      <td>2052</td>\n",
       "    </tr>\n",
       "    <tr>\n",
       "      <th>3</th>\n",
       "      <td>0.081818</td>\n",
       "      <td>8%</td>\n",
       "      <td>27</td>\n",
       "      <td>330</td>\n",
       "    </tr>\n",
       "    <tr>\n",
       "      <th>4</th>\n",
       "      <td>0.097561</td>\n",
       "      <td>10%</td>\n",
       "      <td>4</td>\n",
       "      <td>41</td>\n",
       "    </tr>\n",
       "    <tr>\n",
       "      <th>5</th>\n",
       "      <td>0.000000</td>\n",
       "      <td>0%</td>\n",
       "      <td>0</td>\n",
       "      <td>9</td>\n",
       "    </tr>\n",
       "  </tbody>\n",
       "</table>\n",
       "</div>"
      ],
      "text/plain": [
       "          Задолженность(средняя) Задержка в %  Количество  задолженностей  \\\n",
       "children                                                                    \n",
       "0                       0.075598           8%                        1071   \n",
       "1                       0.091658           9%                         445   \n",
       "2                       0.094542           9%                         194   \n",
       "3                       0.081818           8%                          27   \n",
       "4                       0.097561          10%                           4   \n",
       "5                       0.000000           0%                           0   \n",
       "\n",
       "          Количество всех c таким кол-во детьми  \n",
       "children                                         \n",
       "0                                         14167  \n",
       "1                                          4855  \n",
       "2                                          2052  \n",
       "3                                           330  \n",
       "4                                            41  \n",
       "5                                             9  "
      ]
     },
     "metadata": {},
     "output_type": "display_data"
    }
   ],
   "source": [
    "#data.head()\n",
    "#data['children'].value_counts()\n",
    "#data['debt'].unique()\n",
    "#data['debt'].value_counts()\n",
    "#data['debt'].sum()\n",
    "#data.groupby('children').agg({'debt': ['count', 'mean']})\n",
    "#children_debt = data.groupby('children').agg({'debt':'mean'})\n",
    "#children_debt = data.groupby('children')['debt'].mean()\n",
    "#print(f'Задолженность {children_debt:.0%}')\n",
    "\n",
    "children_debt = data.pivot_table(index=['children'], values='debt', aggfunc=('mean'))\n",
    "\n",
    "\n",
    "def my_func(i):\n",
    "    return f'{i:.0%}'\n",
    "\n",
    "children_debt['mean'] = children_debt['debt'].apply(my_func)\n",
    "children_debt['count'] = data.groupby('children').agg({'debt': 'sum'}) # вспомним метод agg(), хоть здесь и одна операция\n",
    "children_debt['Количество всех c таким кол-во детьми'] = data.groupby('children')['debt'].count()\n",
    "children_debt = children_debt.rename(columns={'mean': 'Задержка в %', 'debt': 'Задолженность(средняя)', 'count': 'Количество  задолженностей'})\n",
    "display(children_debt)\n"
   ]
  },
  {
   "cell_type": "markdown",
   "id": "46fc8de4",
   "metadata": {},
   "source": [
    "**Вывод по вопросу №1**\n",
    "\n",
    "Задолженности коррелируют с кол-во детьми. Зависимость между количеством детей и возвратом кредита в срок есть! Мы наблюдаем, что клиенты банка без детей ответственнее подходят к делу и отдают чаще других кредиты в срок. Но мы видим интересный факт, что при наличии у семьи `3 детей` процент задержки задолженности в среднем почти такой же, как  `без детей`."
   ]
  },
  {
   "cell_type": "markdown",
   "id": "fbd3ad6a",
   "metadata": {},
   "source": [
    "##### Вопрос 2"
   ]
  },
  {
   "cell_type": "markdown",
   "id": "44abeeee",
   "metadata": {},
   "source": [
    "* Есть ли зависимость между семейным положением и возвратом кредита в срок?\n",
    "\n",
    "Вспомним, что мы удалили колонки `family_status` оставив их идентификаторы. Для наглядности снова применим:"
   ]
  },
  {
   "cell_type": "code",
   "execution_count": 62,
   "id": "b7988246",
   "metadata": {},
   "outputs": [
    {
     "data": {
      "text/html": [
       "<div>\n",
       "<style scoped>\n",
       "    .dataframe tbody tr th:only-of-type {\n",
       "        vertical-align: middle;\n",
       "    }\n",
       "\n",
       "    .dataframe tbody tr th {\n",
       "        vertical-align: top;\n",
       "    }\n",
       "\n",
       "    .dataframe thead th {\n",
       "        text-align: right;\n",
       "    }\n",
       "</style>\n",
       "<table border=\"1\" class=\"dataframe\">\n",
       "  <thead>\n",
       "    <tr style=\"text-align: right;\">\n",
       "      <th></th>\n",
       "      <th>family_status_id</th>\n",
       "      <th>family_status</th>\n",
       "    </tr>\n",
       "  </thead>\n",
       "  <tbody>\n",
       "    <tr>\n",
       "      <th>0</th>\n",
       "      <td>0</td>\n",
       "      <td>женат / замужем</td>\n",
       "    </tr>\n",
       "    <tr>\n",
       "      <th>1</th>\n",
       "      <td>1</td>\n",
       "      <td>гражданский брак</td>\n",
       "    </tr>\n",
       "    <tr>\n",
       "      <th>2</th>\n",
       "      <td>2</td>\n",
       "      <td>вдовец / вдова</td>\n",
       "    </tr>\n",
       "    <tr>\n",
       "      <th>3</th>\n",
       "      <td>3</td>\n",
       "      <td>в разводе</td>\n",
       "    </tr>\n",
       "    <tr>\n",
       "      <th>4</th>\n",
       "      <td>4</td>\n",
       "      <td>не женат / не замужем</td>\n",
       "    </tr>\n",
       "  </tbody>\n",
       "</table>\n",
       "</div>"
      ],
      "text/plain": [
       "   family_status_id          family_status\n",
       "0                 0        женат / замужем\n",
       "1                 1       гражданский брак\n",
       "2                 2         вдовец / вдова\n",
       "3                 3              в разводе\n",
       "4                 4  не женат / не замужем"
      ]
     },
     "metadata": {},
     "output_type": "display_data"
    }
   ],
   "source": [
    "display(ddf)"
   ]
  },
  {
   "cell_type": "markdown",
   "id": "cfd270b1",
   "metadata": {},
   "source": [
    "Видим, какие идентификаторы соотвествуют семейному статусу.\n",
    "\n",
    "Создаем сводную таблицу по этим данным (аналогия решения такая же):"
   ]
  },
  {
   "cell_type": "code",
   "execution_count": 63,
   "id": "462237ab",
   "metadata": {},
   "outputs": [
    {
     "data": {
      "text/html": [
       "<div>\n",
       "<style scoped>\n",
       "    .dataframe tbody tr th:only-of-type {\n",
       "        vertical-align: middle;\n",
       "    }\n",
       "\n",
       "    .dataframe tbody tr th {\n",
       "        vertical-align: top;\n",
       "    }\n",
       "\n",
       "    .dataframe thead th {\n",
       "        text-align: right;\n",
       "    }\n",
       "</style>\n",
       "<table border=\"1\" class=\"dataframe\">\n",
       "  <thead>\n",
       "    <tr style=\"text-align: right;\">\n",
       "      <th></th>\n",
       "      <th>debt</th>\n",
       "      <th>Задолженность %</th>\n",
       "      <th>Количество задолженностей</th>\n",
       "      <th>Количество всех с таким статусом</th>\n",
       "    </tr>\n",
       "    <tr>\n",
       "      <th>family_status_id</th>\n",
       "      <th></th>\n",
       "      <th></th>\n",
       "      <th></th>\n",
       "      <th></th>\n",
       "    </tr>\n",
       "  </thead>\n",
       "  <tbody>\n",
       "    <tr>\n",
       "      <th>0</th>\n",
       "      <td>0.075452</td>\n",
       "      <td>8%</td>\n",
       "      <td>931</td>\n",
       "      <td>12339</td>\n",
       "    </tr>\n",
       "    <tr>\n",
       "      <th>1</th>\n",
       "      <td>0.093471</td>\n",
       "      <td>9%</td>\n",
       "      <td>388</td>\n",
       "      <td>4151</td>\n",
       "    </tr>\n",
       "    <tr>\n",
       "      <th>2</th>\n",
       "      <td>0.065693</td>\n",
       "      <td>7%</td>\n",
       "      <td>63</td>\n",
       "      <td>959</td>\n",
       "    </tr>\n",
       "    <tr>\n",
       "      <th>3</th>\n",
       "      <td>0.071130</td>\n",
       "      <td>7%</td>\n",
       "      <td>85</td>\n",
       "      <td>1195</td>\n",
       "    </tr>\n",
       "    <tr>\n",
       "      <th>4</th>\n",
       "      <td>0.097509</td>\n",
       "      <td>10%</td>\n",
       "      <td>274</td>\n",
       "      <td>2810</td>\n",
       "    </tr>\n",
       "  </tbody>\n",
       "</table>\n",
       "</div>"
      ],
      "text/plain": [
       "                      debt Задолженность %  Количество задолженностей  \\\n",
       "family_status_id                                                        \n",
       "0                 0.075452              8%                        931   \n",
       "1                 0.093471              9%                        388   \n",
       "2                 0.065693              7%                         63   \n",
       "3                 0.071130              7%                         85   \n",
       "4                 0.097509             10%                        274   \n",
       "\n",
       "                  Количество всех с таким статусом  \n",
       "family_status_id                                    \n",
       "0                                            12339  \n",
       "1                                             4151  \n",
       "2                                              959  \n",
       "3                                             1195  \n",
       "4                                             2810  "
      ]
     },
     "metadata": {},
     "output_type": "display_data"
    },
    {
     "data": {
      "text/html": [
       "<div>\n",
       "<style scoped>\n",
       "    .dataframe tbody tr th:only-of-type {\n",
       "        vertical-align: middle;\n",
       "    }\n",
       "\n",
       "    .dataframe tbody tr th {\n",
       "        vertical-align: top;\n",
       "    }\n",
       "\n",
       "    .dataframe thead th {\n",
       "        text-align: right;\n",
       "    }\n",
       "</style>\n",
       "<table border=\"1\" class=\"dataframe\">\n",
       "  <thead>\n",
       "    <tr style=\"text-align: right;\">\n",
       "      <th></th>\n",
       "      <th>family_status_id</th>\n",
       "      <th>family_status</th>\n",
       "    </tr>\n",
       "  </thead>\n",
       "  <tbody>\n",
       "    <tr>\n",
       "      <th>0</th>\n",
       "      <td>0</td>\n",
       "      <td>женат / замужем</td>\n",
       "    </tr>\n",
       "    <tr>\n",
       "      <th>1</th>\n",
       "      <td>1</td>\n",
       "      <td>гражданский брак</td>\n",
       "    </tr>\n",
       "    <tr>\n",
       "      <th>2</th>\n",
       "      <td>2</td>\n",
       "      <td>вдовец / вдова</td>\n",
       "    </tr>\n",
       "    <tr>\n",
       "      <th>3</th>\n",
       "      <td>3</td>\n",
       "      <td>в разводе</td>\n",
       "    </tr>\n",
       "    <tr>\n",
       "      <th>4</th>\n",
       "      <td>4</td>\n",
       "      <td>не женат / не замужем</td>\n",
       "    </tr>\n",
       "  </tbody>\n",
       "</table>\n",
       "</div>"
      ],
      "text/plain": [
       "   family_status_id          family_status\n",
       "0                 0        женат / замужем\n",
       "1                 1       гражданский брак\n",
       "2                 2         вдовец / вдова\n",
       "3                 3              в разводе\n",
       "4                 4  не женат / не замужем"
      ]
     },
     "execution_count": 63,
     "metadata": {},
     "output_type": "execute_result"
    }
   ],
   "source": [
    "#data['family_status_id'].count()\n",
    "#fs_debt\n",
    "#data.groupby('family_status_id')['debt'].mean()\n",
    "\n",
    "fs_debt = data.pivot_table(index=['family_status_id'], values='debt', aggfunc=('mean'))\n",
    "\n",
    "def my_func1(i):\n",
    "    return f'{i:.0%}'\n",
    "\n",
    "fs_debt['Задолженность %'] = fs_debt['debt'].apply(my_func1)\n",
    "fs_debt['Количество задолженностей'] = data.groupby('family_status_id')['debt'].sum()\n",
    "fs_debt['Количество всех с таким статусом'] = data.groupby('family_status_id').agg({'debt': 'count'})\n",
    "display(fs_debt)\n",
    "ddf"
   ]
  },
  {
   "cell_type": "markdown",
   "id": "72698e85",
   "metadata": {},
   "source": [
    "**Вывод по вопросу №2**\n",
    "\n",
    "Мы видим, что меньше всего задолженностей у идентификатора под номером 2 (вдова/вдовец). После идет `id` 3 (в разводе). Большой процент у `id` 1 (гражданский брак) и `id` 4 (не женат / не замужем). Тут наблюдается прямая зависимость семейного положения. Хоть и кол-во людей в разделе вдова/вдовец небольшое. Исходя из данных, можно допустить, что наличие брака может быть положительно оценен при выдаче кредита."
   ]
  },
  {
   "cell_type": "markdown",
   "id": "f9aa0a6e",
   "metadata": {},
   "source": [
    "##### Вопрос 3:"
   ]
  },
  {
   "cell_type": "markdown",
   "id": "07951824",
   "metadata": {},
   "source": [
    "* Есть ли зависимость между уровнем дохода и возвратом кредита в срок?\n",
    "\n",
    "Применяем такую же аналогию решения:"
   ]
  },
  {
   "cell_type": "code",
   "execution_count": 64,
   "id": "1664e154",
   "metadata": {},
   "outputs": [
    {
     "data": {
      "text/html": [
       "<div>\n",
       "<style scoped>\n",
       "    .dataframe tbody tr th:only-of-type {\n",
       "        vertical-align: middle;\n",
       "    }\n",
       "\n",
       "    .dataframe tbody tr th {\n",
       "        vertical-align: top;\n",
       "    }\n",
       "\n",
       "    .dataframe thead th {\n",
       "        text-align: right;\n",
       "    }\n",
       "</style>\n",
       "<table border=\"1\" class=\"dataframe\">\n",
       "  <thead>\n",
       "    <tr style=\"text-align: right;\">\n",
       "      <th></th>\n",
       "      <th>debt</th>\n",
       "      <th>Задолженность %</th>\n",
       "      <th>Количество задолженностей</th>\n",
       "      <th>Количество всех с таким доходом</th>\n",
       "    </tr>\n",
       "    <tr>\n",
       "      <th>total_income_category</th>\n",
       "      <th></th>\n",
       "      <th></th>\n",
       "      <th></th>\n",
       "      <th></th>\n",
       "    </tr>\n",
       "  </thead>\n",
       "  <tbody>\n",
       "    <tr>\n",
       "      <th>A</th>\n",
       "      <td>0.080000</td>\n",
       "      <td>8%</td>\n",
       "      <td>2</td>\n",
       "      <td>25</td>\n",
       "    </tr>\n",
       "    <tr>\n",
       "      <th>B</th>\n",
       "      <td>0.070621</td>\n",
       "      <td>7%</td>\n",
       "      <td>356</td>\n",
       "      <td>5041</td>\n",
       "    </tr>\n",
       "    <tr>\n",
       "      <th>C</th>\n",
       "      <td>0.084915</td>\n",
       "      <td>8%</td>\n",
       "      <td>1360</td>\n",
       "      <td>16016</td>\n",
       "    </tr>\n",
       "    <tr>\n",
       "      <th>D</th>\n",
       "      <td>0.060000</td>\n",
       "      <td>6%</td>\n",
       "      <td>21</td>\n",
       "      <td>350</td>\n",
       "    </tr>\n",
       "    <tr>\n",
       "      <th>E</th>\n",
       "      <td>0.090909</td>\n",
       "      <td>9%</td>\n",
       "      <td>2</td>\n",
       "      <td>22</td>\n",
       "    </tr>\n",
       "  </tbody>\n",
       "</table>\n",
       "</div>"
      ],
      "text/plain": [
       "                           debt Задолженность %  Количество задолженностей  \\\n",
       "total_income_category                                                        \n",
       "A                      0.080000              8%                          2   \n",
       "B                      0.070621              7%                        356   \n",
       "C                      0.084915              8%                       1360   \n",
       "D                      0.060000              6%                         21   \n",
       "E                      0.090909              9%                          2   \n",
       "\n",
       "                       Количество всех с таким доходом  \n",
       "total_income_category                                   \n",
       "A                                                   25  \n",
       "B                                                 5041  \n",
       "C                                                16016  \n",
       "D                                                  350  \n",
       "E                                                   22  "
      ]
     },
     "execution_count": 64,
     "metadata": {},
     "output_type": "execute_result"
    }
   ],
   "source": [
    "#data['debt'].value_counts()\n",
    "income_debt = data.pivot_table(index=['total_income_category'], values='debt', aggfunc=('mean'))\n",
    "\n",
    "def my_func2(i):\n",
    "    return f'{i:.0%}'\n",
    "\n",
    "income_debt['Задолженность %'] = income_debt['debt'].apply(my_func1)\n",
    "income_debt['Количество задолженностей'] = data.groupby('total_income_category')['debt'].sum()\n",
    "income_debt['Количество всех с таким доходом'] = data.groupby('total_income_category').agg({'debt': 'count'})\n",
    "income_debt"
   ]
  },
  {
   "cell_type": "markdown",
   "id": "46b937de",
   "metadata": {},
   "source": [
    "Напомню, что мы категоризировали данные по доходами и разместили их под такими значениями:\n",
    "\n",
    "* 0–30000 — `'E'`;\n",
    "* 30001–50000 — `'D'`;\n",
    "* 50001–200000 — `'C'`;\n",
    "* 200001–1000000 — `'B'`;\n",
    "* 1000001 и выше — `'A'`"
   ]
  },
  {
   "cell_type": "markdown",
   "id": "1dbfc21e",
   "metadata": {},
   "source": [
    "**Вывод по вопросу №3**\n",
    "\n",
    "Самый большой процент у людей с категорией `E` - малым доходом. Но задолженностей всего несколько, поэтому на этом выводы сложно делать. По кол-во задолженностей и проценту видно, что категория `C` большее среднее по задержкам. У категории `B` тоже есть задолженности по соотношению всех людей, которыю получают такой доход, но он по соотношению не велик. Исходя из таблицы, можно сказать, что зависимость между уровнем дохода и возвратом кредита в срок есть."
   ]
  },
  {
   "cell_type": "markdown",
   "id": "92cd6f36",
   "metadata": {},
   "source": [
    "##### Вопрос 4:"
   ]
  },
  {
   "cell_type": "markdown",
   "id": "591fc419",
   "metadata": {},
   "source": [
    "* Как разные цели кредита влияют на его возврат в срок?\n",
    "\n",
    "Снова воспользуемся сводными таблицами / методом `pivot_table()`:"
   ]
  },
  {
   "cell_type": "code",
   "execution_count": 65,
   "id": "6d8df4a1",
   "metadata": {},
   "outputs": [
    {
     "data": {
      "text/html": [
       "<div>\n",
       "<style scoped>\n",
       "    .dataframe tbody tr th:only-of-type {\n",
       "        vertical-align: middle;\n",
       "    }\n",
       "\n",
       "    .dataframe tbody tr th {\n",
       "        vertical-align: top;\n",
       "    }\n",
       "\n",
       "    .dataframe thead th {\n",
       "        text-align: right;\n",
       "    }\n",
       "</style>\n",
       "<table border=\"1\" class=\"dataframe\">\n",
       "  <thead>\n",
       "    <tr style=\"text-align: right;\">\n",
       "      <th></th>\n",
       "      <th>debt</th>\n",
       "      <th>Задолженность %</th>\n",
       "      <th>Количество задолженностей</th>\n",
       "      <th>Количество всех с такой операцией</th>\n",
       "    </tr>\n",
       "    <tr>\n",
       "      <th>purpose_category</th>\n",
       "      <th></th>\n",
       "      <th></th>\n",
       "      <th></th>\n",
       "      <th></th>\n",
       "    </tr>\n",
       "  </thead>\n",
       "  <tbody>\n",
       "    <tr>\n",
       "      <th>операции с автомобилем</th>\n",
       "      <td>0.093590</td>\n",
       "      <td>9%</td>\n",
       "      <td>403</td>\n",
       "      <td>4306</td>\n",
       "    </tr>\n",
       "    <tr>\n",
       "      <th>операции с недвижимостью</th>\n",
       "      <td>0.072334</td>\n",
       "      <td>7%</td>\n",
       "      <td>782</td>\n",
       "      <td>10811</td>\n",
       "    </tr>\n",
       "    <tr>\n",
       "      <th>получение образования</th>\n",
       "      <td>0.092200</td>\n",
       "      <td>9%</td>\n",
       "      <td>370</td>\n",
       "      <td>4013</td>\n",
       "    </tr>\n",
       "    <tr>\n",
       "      <th>проведение свадьбы</th>\n",
       "      <td>0.080034</td>\n",
       "      <td>8%</td>\n",
       "      <td>186</td>\n",
       "      <td>2324</td>\n",
       "    </tr>\n",
       "  </tbody>\n",
       "</table>\n",
       "</div>"
      ],
      "text/plain": [
       "                              debt Задолженность %  Количество задолженностей  \\\n",
       "purpose_category                                                                \n",
       "операции с автомобилем    0.093590              9%                        403   \n",
       "операции с недвижимостью  0.072334              7%                        782   \n",
       "получение образования     0.092200              9%                        370   \n",
       "проведение свадьбы        0.080034              8%                        186   \n",
       "\n",
       "                          Количество всех с такой операцией  \n",
       "purpose_category                                             \n",
       "операции с автомобилем                                 4306  \n",
       "операции с недвижимостью                              10811  \n",
       "получение образования                                  4013  \n",
       "проведение свадьбы                                     2324  "
      ]
     },
     "execution_count": 65,
     "metadata": {},
     "output_type": "execute_result"
    }
   ],
   "source": [
    "purpose_debt = data.pivot_table(index=['purpose_category'], values='debt', aggfunc='mean')\n",
    "\n",
    "def my_func8(i):\n",
    "    return f'{i:.0%}'\n",
    "\n",
    "purpose_debt['Задолженность %'] = purpose_debt['debt'].apply(my_func8)\n",
    "purpose_debt['Количество задолженностей'] = data.groupby('purpose_category')['debt'].sum()\n",
    "purpose_debt['Количество всех с такой операцией'] = data.groupby('purpose_category').agg({'debt': 'count'})\n",
    "purpose_debt"
   ]
  },
  {
   "cell_type": "markdown",
   "id": "17c6ac56",
   "metadata": {},
   "source": [
    "**Вывод по вопросу №4**\n",
    "\n",
    "Наблюдаем, что меньше всего задолженностей у людей с операциями с недвижимостью. Предположим, что люди более ответственнее подходят к крупной покупки, либо уходом за ней. Что касается операций с автомобилем, думаю, что тут связано с крупными тратами с их эксплуатацией."
   ]
  },
  {
   "cell_type": "code",
   "execution_count": 66,
   "id": "e774e438",
   "metadata": {},
   "outputs": [],
   "source": [
    "#data.tail(15)"
   ]
  },
  {
   "cell_type": "markdown",
   "id": "dff50edc",
   "metadata": {},
   "source": [
    "## Общий вывод:"
   ]
  },
  {
   "cell_type": "markdown",
   "id": "0ea43a06",
   "metadata": {},
   "source": [
    "Для полноценного вывода хотелось бы посмотреть, как зависит источник дохода и цель займа от сдачи кредита в срок. Для этого снова применим метод `pivot_table()`:"
   ]
  },
  {
   "cell_type": "code",
   "execution_count": 67,
   "id": "864a5f16",
   "metadata": {},
   "outputs": [
    {
     "data": {
      "text/html": [
       "<div>\n",
       "<style scoped>\n",
       "    .dataframe tbody tr th:only-of-type {\n",
       "        vertical-align: middle;\n",
       "    }\n",
       "\n",
       "    .dataframe tbody tr th {\n",
       "        vertical-align: top;\n",
       "    }\n",
       "\n",
       "    .dataframe thead th {\n",
       "        text-align: right;\n",
       "    }\n",
       "</style>\n",
       "<table border=\"1\" class=\"dataframe\">\n",
       "  <thead>\n",
       "    <tr style=\"text-align: right;\">\n",
       "      <th></th>\n",
       "      <th></th>\n",
       "      <th>debt</th>\n",
       "      <th>Сопоставленная задолженность в %</th>\n",
       "    </tr>\n",
       "    <tr>\n",
       "      <th>income_type</th>\n",
       "      <th>purpose_category</th>\n",
       "      <th></th>\n",
       "      <th></th>\n",
       "    </tr>\n",
       "  </thead>\n",
       "  <tbody>\n",
       "    <tr>\n",
       "      <th>безработный</th>\n",
       "      <th>операции с недвижимостью</th>\n",
       "      <td>0.500000</td>\n",
       "      <td>50%</td>\n",
       "    </tr>\n",
       "    <tr>\n",
       "      <th>в декрете</th>\n",
       "      <th>операции с автомобилем</th>\n",
       "      <td>1.000000</td>\n",
       "      <td>100%</td>\n",
       "    </tr>\n",
       "    <tr>\n",
       "      <th rowspan=\"4\" valign=\"top\">госслужащий</th>\n",
       "      <th>операции с автомобилем</th>\n",
       "      <td>0.076923</td>\n",
       "      <td>8%</td>\n",
       "    </tr>\n",
       "    <tr>\n",
       "      <th>операции с недвижимостью</th>\n",
       "      <td>0.047745</td>\n",
       "      <td>5%</td>\n",
       "    </tr>\n",
       "    <tr>\n",
       "      <th>получение образования</th>\n",
       "      <td>0.081395</td>\n",
       "      <td>8%</td>\n",
       "    </tr>\n",
       "    <tr>\n",
       "      <th>проведение свадьбы</th>\n",
       "      <td>0.044025</td>\n",
       "      <td>4%</td>\n",
       "    </tr>\n",
       "    <tr>\n",
       "      <th rowspan=\"4\" valign=\"top\">компаньон</th>\n",
       "      <th>операции с автомобилем</th>\n",
       "      <td>0.080798</td>\n",
       "      <td>8%</td>\n",
       "    </tr>\n",
       "    <tr>\n",
       "      <th>операции с недвижимостью</th>\n",
       "      <td>0.065567</td>\n",
       "      <td>7%</td>\n",
       "    </tr>\n",
       "    <tr>\n",
       "      <th>получение образования</th>\n",
       "      <td>0.075472</td>\n",
       "      <td>8%</td>\n",
       "    </tr>\n",
       "    <tr>\n",
       "      <th>проведение свадьбы</th>\n",
       "      <td>0.099048</td>\n",
       "      <td>10%</td>\n",
       "    </tr>\n",
       "    <tr>\n",
       "      <th rowspan=\"4\" valign=\"top\">пенсионер</th>\n",
       "      <th>операции с автомобилем</th>\n",
       "      <td>0.064151</td>\n",
       "      <td>6%</td>\n",
       "    </tr>\n",
       "    <tr>\n",
       "      <th>операции с недвижимостью</th>\n",
       "      <td>0.048652</td>\n",
       "      <td>5%</td>\n",
       "    </tr>\n",
       "    <tr>\n",
       "      <th>получение образования</th>\n",
       "      <td>0.066574</td>\n",
       "      <td>7%</td>\n",
       "    </tr>\n",
       "    <tr>\n",
       "      <th>проведение свадьбы</th>\n",
       "      <td>0.059242</td>\n",
       "      <td>6%</td>\n",
       "    </tr>\n",
       "    <tr>\n",
       "      <th rowspan=\"2\" valign=\"top\">предприниматель</th>\n",
       "      <th>операции с недвижимостью</th>\n",
       "      <td>0.000000</td>\n",
       "      <td>0%</td>\n",
       "    </tr>\n",
       "    <tr>\n",
       "      <th>проведение свадьбы</th>\n",
       "      <td>0.000000</td>\n",
       "      <td>0%</td>\n",
       "    </tr>\n",
       "    <tr>\n",
       "      <th rowspan=\"4\" valign=\"top\">сотрудник</th>\n",
       "      <th>операции с автомобилем</th>\n",
       "      <td>0.112339</td>\n",
       "      <td>11%</td>\n",
       "    </tr>\n",
       "    <tr>\n",
       "      <th>операции с недвижимостью</th>\n",
       "      <td>0.086554</td>\n",
       "      <td>9%</td>\n",
       "    </tr>\n",
       "    <tr>\n",
       "      <th>получение образования</th>\n",
       "      <td>0.110096</td>\n",
       "      <td>11%</td>\n",
       "    </tr>\n",
       "    <tr>\n",
       "      <th>проведение свадьбы</th>\n",
       "      <td>0.083813</td>\n",
       "      <td>8%</td>\n",
       "    </tr>\n",
       "    <tr>\n",
       "      <th>студент</th>\n",
       "      <th>операции с недвижимостью</th>\n",
       "      <td>0.000000</td>\n",
       "      <td>0%</td>\n",
       "    </tr>\n",
       "  </tbody>\n",
       "</table>\n",
       "</div>"
      ],
      "text/plain": [
       "                                              debt  \\\n",
       "income_type     purpose_category                     \n",
       "безработный     операции с недвижимостью  0.500000   \n",
       "в декрете       операции с автомобилем    1.000000   \n",
       "госслужащий     операции с автомобилем    0.076923   \n",
       "                операции с недвижимостью  0.047745   \n",
       "                получение образования     0.081395   \n",
       "                проведение свадьбы        0.044025   \n",
       "компаньон       операции с автомобилем    0.080798   \n",
       "                операции с недвижимостью  0.065567   \n",
       "                получение образования     0.075472   \n",
       "                проведение свадьбы        0.099048   \n",
       "пенсионер       операции с автомобилем    0.064151   \n",
       "                операции с недвижимостью  0.048652   \n",
       "                получение образования     0.066574   \n",
       "                проведение свадьбы        0.059242   \n",
       "предприниматель операции с недвижимостью  0.000000   \n",
       "                проведение свадьбы        0.000000   \n",
       "сотрудник       операции с автомобилем    0.112339   \n",
       "                операции с недвижимостью  0.086554   \n",
       "                получение образования     0.110096   \n",
       "                проведение свадьбы        0.083813   \n",
       "студент         операции с недвижимостью  0.000000   \n",
       "\n",
       "                                         Сопоставленная задолженность в %  \n",
       "income_type     purpose_category                                           \n",
       "безработный     операции с недвижимостью                              50%  \n",
       "в декрете       операции с автомобилем                               100%  \n",
       "госслужащий     операции с автомобилем                                 8%  \n",
       "                операции с недвижимостью                               5%  \n",
       "                получение образования                                  8%  \n",
       "                проведение свадьбы                                     4%  \n",
       "компаньон       операции с автомобилем                                 8%  \n",
       "                операции с недвижимостью                               7%  \n",
       "                получение образования                                  8%  \n",
       "                проведение свадьбы                                    10%  \n",
       "пенсионер       операции с автомобилем                                 6%  \n",
       "                операции с недвижимостью                               5%  \n",
       "                получение образования                                  7%  \n",
       "                проведение свадьбы                                     6%  \n",
       "предприниматель операции с недвижимостью                               0%  \n",
       "                проведение свадьбы                                     0%  \n",
       "сотрудник       операции с автомобилем                                11%  \n",
       "                операции с недвижимостью                               9%  \n",
       "                получение образования                                 11%  \n",
       "                проведение свадьбы                                     8%  \n",
       "студент         операции с недвижимостью                               0%  "
      ]
     },
     "metadata": {},
     "output_type": "display_data"
    }
   ],
   "source": [
    "final_debt = data.pivot_table(index=['income_type', 'purpose_category'], values='debt', aggfunc='mean')\n",
    "\n",
    "def my_func4(i):\n",
    "    return f'{i:.0%}'\n",
    "    \n",
    "final_debt['Сопоставленная задолженность в %'] = final_debt['debt'].apply(my_func4)\n",
    "display(final_debt)\n",
    "#data.loc[(data['income_type'] == 'безработный')].value_counts().to_frame()"
   ]
  },
  {
   "cell_type": "markdown",
   "id": "07668c54",
   "metadata": {},
   "source": [
    "Заметили, что чаще всего не возвращают кредит в срок те люди, которые имеют профессию `'сотрудник'`. Впредь, был бы с ними более осторожным при выдаче займа."
   ]
  },
  {
   "cell_type": "markdown",
   "id": "90c289f7",
   "metadata": {},
   "source": [
    "**ИТОГ:**\n",
    "\n",
    "* Люди с доходом выше среднего более безопасные клиенты;\n",
    "* Люди в браке более отвественные плательщики;\n",
    "* Кол-во детей напрямую отражает выплату в срок кредита;\n",
    "* Выдача кредита с целью `'операции с недвижимостью'` является более безосапсной в плане задержки срока сдачи;\n",
    "* Цель кредита `'операции с автомобилем'` является более рискованной;\n",
    "* Стоит рассматривать источник дохода заемщика, особенно обращая внимание на категорию `'сотрудник'`\n"
   ]
  }
 ],
 "metadata": {
  "ExecuteTimeLog": [
   {
    "duration": 740,
    "start_time": "2022-05-19T10:51:00.331Z"
   },
   {
    "duration": 108,
    "start_time": "2022-05-19T18:03:42.702Z"
   },
   {
    "duration": 481,
    "start_time": "2022-05-21T14:50:53.966Z"
   },
   {
    "duration": 14,
    "start_time": "2022-05-21T14:50:54.450Z"
   },
   {
    "duration": 28,
    "start_time": "2022-05-21T14:50:54.465Z"
   },
   {
    "duration": 74,
    "start_time": "2022-05-21T14:50:54.495Z"
   },
   {
    "duration": 0,
    "start_time": "2022-05-21T14:50:54.571Z"
   },
   {
    "duration": 486,
    "start_time": "2022-05-21T14:53:16.559Z"
   },
   {
    "duration": 15,
    "start_time": "2022-05-21T14:53:17.046Z"
   },
   {
    "duration": 29,
    "start_time": "2022-05-21T14:53:17.062Z"
   },
   {
    "duration": 4,
    "start_time": "2022-05-21T14:53:17.093Z"
   },
   {
    "duration": 5,
    "start_time": "2022-05-21T14:53:17.098Z"
   },
   {
    "duration": 6,
    "start_time": "2022-05-21T14:53:17.104Z"
   },
   {
    "duration": 5,
    "start_time": "2022-05-21T14:53:17.111Z"
   },
   {
    "duration": 90,
    "start_time": "2022-05-21T14:53:17.117Z"
   },
   {
    "duration": 0,
    "start_time": "2022-05-21T14:53:17.208Z"
   },
   {
    "duration": 444,
    "start_time": "2022-05-21T14:54:22.507Z"
   },
   {
    "duration": 15,
    "start_time": "2022-05-21T14:54:22.952Z"
   },
   {
    "duration": 28,
    "start_time": "2022-05-21T14:54:22.969Z"
   },
   {
    "duration": 4,
    "start_time": "2022-05-21T14:54:22.999Z"
   },
   {
    "duration": 5,
    "start_time": "2022-05-21T14:54:23.004Z"
   },
   {
    "duration": 5,
    "start_time": "2022-05-21T14:54:23.010Z"
   },
   {
    "duration": 4,
    "start_time": "2022-05-21T14:54:23.017Z"
   },
   {
    "duration": 42,
    "start_time": "2022-05-21T14:54:23.022Z"
   },
   {
    "duration": 64,
    "start_time": "2022-05-21T14:54:23.066Z"
   },
   {
    "duration": 439,
    "start_time": "2022-05-21T14:55:39.007Z"
   },
   {
    "duration": 14,
    "start_time": "2022-05-21T14:55:39.448Z"
   },
   {
    "duration": 28,
    "start_time": "2022-05-21T14:55:39.463Z"
   },
   {
    "duration": 4,
    "start_time": "2022-05-21T14:55:39.493Z"
   },
   {
    "duration": 7,
    "start_time": "2022-05-21T14:55:39.499Z"
   },
   {
    "duration": 9,
    "start_time": "2022-05-21T14:55:39.507Z"
   },
   {
    "duration": 25,
    "start_time": "2022-05-21T14:55:39.517Z"
   },
   {
    "duration": 16,
    "start_time": "2022-05-21T14:55:39.543Z"
   },
   {
    "duration": 22,
    "start_time": "2022-05-21T14:55:39.560Z"
   },
   {
    "duration": 3,
    "start_time": "2022-05-21T14:55:39.584Z"
   },
   {
    "duration": 9,
    "start_time": "2022-05-21T14:55:39.589Z"
   },
   {
    "duration": 84,
    "start_time": "2022-05-21T14:55:39.600Z"
   },
   {
    "duration": 488,
    "start_time": "2022-05-21T14:57:08.816Z"
   },
   {
    "duration": 15,
    "start_time": "2022-05-21T14:57:09.306Z"
   },
   {
    "duration": 45,
    "start_time": "2022-05-21T14:57:09.323Z"
   },
   {
    "duration": 3,
    "start_time": "2022-05-21T14:57:09.370Z"
   },
   {
    "duration": 8,
    "start_time": "2022-05-21T14:57:09.375Z"
   },
   {
    "duration": 6,
    "start_time": "2022-05-21T14:57:09.384Z"
   },
   {
    "duration": 5,
    "start_time": "2022-05-21T14:57:09.391Z"
   },
   {
    "duration": 13,
    "start_time": "2022-05-21T14:57:09.397Z"
   },
   {
    "duration": 18,
    "start_time": "2022-05-21T14:57:09.412Z"
   },
   {
    "duration": 4,
    "start_time": "2022-05-21T14:57:09.432Z"
   },
   {
    "duration": 4,
    "start_time": "2022-05-21T14:57:09.459Z"
   },
   {
    "duration": 6,
    "start_time": "2022-05-21T14:57:09.464Z"
   },
   {
    "duration": 2,
    "start_time": "2022-05-21T14:57:09.472Z"
   },
   {
    "duration": 7,
    "start_time": "2022-05-21T14:57:09.476Z"
   },
   {
    "duration": 5,
    "start_time": "2022-05-21T14:57:09.484Z"
   },
   {
    "duration": 9,
    "start_time": "2022-05-21T14:57:09.490Z"
   },
   {
    "duration": 102,
    "start_time": "2022-05-21T14:57:09.500Z"
   },
   {
    "duration": 475,
    "start_time": "2022-05-21T15:02:48.884Z"
   },
   {
    "duration": 15,
    "start_time": "2022-05-21T15:02:49.361Z"
   },
   {
    "duration": 43,
    "start_time": "2022-05-21T15:02:49.377Z"
   },
   {
    "duration": 3,
    "start_time": "2022-05-21T15:02:49.422Z"
   },
   {
    "duration": 29,
    "start_time": "2022-05-21T15:02:49.426Z"
   },
   {
    "duration": 26,
    "start_time": "2022-05-21T15:02:49.457Z"
   },
   {
    "duration": 14,
    "start_time": "2022-05-21T15:02:49.484Z"
   },
   {
    "duration": 30,
    "start_time": "2022-05-21T15:02:49.500Z"
   },
   {
    "duration": 28,
    "start_time": "2022-05-21T15:02:49.531Z"
   },
   {
    "duration": 12,
    "start_time": "2022-05-21T15:02:49.562Z"
   },
   {
    "duration": 52,
    "start_time": "2022-05-21T15:02:49.576Z"
   },
   {
    "duration": 31,
    "start_time": "2022-05-21T15:02:49.629Z"
   },
   {
    "duration": 10,
    "start_time": "2022-05-21T15:02:49.662Z"
   },
   {
    "duration": 44,
    "start_time": "2022-05-21T15:02:49.673Z"
   },
   {
    "duration": 18,
    "start_time": "2022-05-21T15:02:49.719Z"
   },
   {
    "duration": 33,
    "start_time": "2022-05-21T15:02:49.739Z"
   },
   {
    "duration": 46,
    "start_time": "2022-05-21T15:02:49.774Z"
   },
   {
    "duration": 14,
    "start_time": "2022-05-21T15:02:49.822Z"
   },
   {
    "duration": 12,
    "start_time": "2022-05-21T15:02:49.837Z"
   },
   {
    "duration": 16,
    "start_time": "2022-05-21T15:02:49.850Z"
   },
   {
    "duration": 42,
    "start_time": "2022-05-21T15:02:49.867Z"
   },
   {
    "duration": 26,
    "start_time": "2022-05-21T15:02:49.910Z"
   },
   {
    "duration": 19,
    "start_time": "2022-05-21T15:02:49.938Z"
   },
   {
    "duration": 22,
    "start_time": "2022-05-21T15:02:49.958Z"
   },
   {
    "duration": 27,
    "start_time": "2022-05-21T15:02:49.982Z"
   },
   {
    "duration": 3,
    "start_time": "2022-05-21T15:02:50.011Z"
   },
   {
    "duration": 23,
    "start_time": "2022-05-21T15:02:50.015Z"
   },
   {
    "duration": 12,
    "start_time": "2022-05-21T15:02:50.040Z"
   },
   {
    "duration": 19,
    "start_time": "2022-05-21T15:02:50.053Z"
   },
   {
    "duration": 44,
    "start_time": "2022-05-21T15:02:50.073Z"
   },
   {
    "duration": 3,
    "start_time": "2022-05-21T15:02:50.118Z"
   },
   {
    "duration": 21,
    "start_time": "2022-05-21T15:02:50.122Z"
   },
   {
    "duration": 6,
    "start_time": "2022-05-21T15:02:50.144Z"
   },
   {
    "duration": 8,
    "start_time": "2022-05-21T15:02:50.151Z"
   },
   {
    "duration": 478,
    "start_time": "2022-05-21T15:04:34.972Z"
   },
   {
    "duration": 15,
    "start_time": "2022-05-21T15:04:35.451Z"
   },
   {
    "duration": 27,
    "start_time": "2022-05-21T15:04:35.467Z"
   },
   {
    "duration": 4,
    "start_time": "2022-05-21T15:04:35.495Z"
   },
   {
    "duration": 5,
    "start_time": "2022-05-21T15:04:35.500Z"
   },
   {
    "duration": 7,
    "start_time": "2022-05-21T15:04:35.506Z"
   },
   {
    "duration": 10,
    "start_time": "2022-05-21T15:04:35.514Z"
   },
   {
    "duration": 22,
    "start_time": "2022-05-21T15:04:35.525Z"
   },
   {
    "duration": 18,
    "start_time": "2022-05-21T15:04:35.560Z"
   },
   {
    "duration": 4,
    "start_time": "2022-05-21T15:04:35.579Z"
   },
   {
    "duration": 7,
    "start_time": "2022-05-21T15:04:35.584Z"
   },
   {
    "duration": 8,
    "start_time": "2022-05-21T15:04:35.592Z"
   },
   {
    "duration": 4,
    "start_time": "2022-05-21T15:04:35.601Z"
   },
   {
    "duration": 8,
    "start_time": "2022-05-21T15:04:35.608Z"
   },
   {
    "duration": 4,
    "start_time": "2022-05-21T15:04:35.617Z"
   },
   {
    "duration": 38,
    "start_time": "2022-05-21T15:04:35.622Z"
   },
   {
    "duration": 30,
    "start_time": "2022-05-21T15:04:35.661Z"
   },
   {
    "duration": 14,
    "start_time": "2022-05-21T15:04:35.692Z"
   },
   {
    "duration": 4,
    "start_time": "2022-05-21T15:04:35.707Z"
   },
   {
    "duration": 7,
    "start_time": "2022-05-21T15:04:35.712Z"
   },
   {
    "duration": 9,
    "start_time": "2022-05-21T15:04:35.720Z"
   },
   {
    "duration": 29,
    "start_time": "2022-05-21T15:04:35.731Z"
   },
   {
    "duration": 6,
    "start_time": "2022-05-21T15:04:35.761Z"
   },
   {
    "duration": 7,
    "start_time": "2022-05-21T15:04:35.768Z"
   },
   {
    "duration": 14,
    "start_time": "2022-05-21T15:04:35.776Z"
   },
   {
    "duration": 4,
    "start_time": "2022-05-21T15:04:35.791Z"
   },
   {
    "duration": 7,
    "start_time": "2022-05-21T15:04:35.796Z"
   },
   {
    "duration": 8,
    "start_time": "2022-05-21T15:04:35.804Z"
   },
   {
    "duration": 6,
    "start_time": "2022-05-21T15:04:35.813Z"
   },
   {
    "duration": 65,
    "start_time": "2022-05-21T15:04:35.821Z"
   },
   {
    "duration": 4,
    "start_time": "2022-05-21T15:04:35.888Z"
   },
   {
    "duration": 6,
    "start_time": "2022-05-21T15:04:35.894Z"
   },
   {
    "duration": 5,
    "start_time": "2022-05-21T15:04:35.902Z"
   },
   {
    "duration": 8,
    "start_time": "2022-05-21T15:04:35.908Z"
   },
   {
    "duration": 16,
    "start_time": "2022-05-21T15:04:35.918Z"
   },
   {
    "duration": 35,
    "start_time": "2022-05-21T15:04:35.936Z"
   },
   {
    "duration": 467,
    "start_time": "2022-05-21T15:09:42.604Z"
   },
   {
    "duration": 14,
    "start_time": "2022-05-21T15:09:43.073Z"
   },
   {
    "duration": 32,
    "start_time": "2022-05-21T15:09:43.089Z"
   },
   {
    "duration": 3,
    "start_time": "2022-05-21T15:09:43.123Z"
   },
   {
    "duration": 7,
    "start_time": "2022-05-21T15:09:43.129Z"
   },
   {
    "duration": 24,
    "start_time": "2022-05-21T15:09:43.137Z"
   },
   {
    "duration": 4,
    "start_time": "2022-05-21T15:09:43.163Z"
   },
   {
    "duration": 12,
    "start_time": "2022-05-21T15:09:43.168Z"
   },
   {
    "duration": 19,
    "start_time": "2022-05-21T15:09:43.181Z"
   },
   {
    "duration": 3,
    "start_time": "2022-05-21T15:09:43.202Z"
   },
   {
    "duration": 6,
    "start_time": "2022-05-21T15:09:43.206Z"
   },
   {
    "duration": 6,
    "start_time": "2022-05-21T15:09:43.213Z"
   },
   {
    "duration": 4,
    "start_time": "2022-05-21T15:09:43.220Z"
   },
   {
    "duration": 40,
    "start_time": "2022-05-21T15:09:43.227Z"
   },
   {
    "duration": 7,
    "start_time": "2022-05-21T15:09:43.268Z"
   },
   {
    "duration": 10,
    "start_time": "2022-05-21T15:09:43.277Z"
   },
   {
    "duration": 31,
    "start_time": "2022-05-21T15:09:43.288Z"
   },
   {
    "duration": 14,
    "start_time": "2022-05-21T15:09:43.320Z"
   },
   {
    "duration": 26,
    "start_time": "2022-05-21T15:09:43.336Z"
   },
   {
    "duration": 7,
    "start_time": "2022-05-21T15:09:43.364Z"
   },
   {
    "duration": 7,
    "start_time": "2022-05-21T15:09:43.372Z"
   },
   {
    "duration": 11,
    "start_time": "2022-05-21T15:09:43.381Z"
   },
   {
    "duration": 10,
    "start_time": "2022-05-21T15:09:43.393Z"
   },
   {
    "duration": 4,
    "start_time": "2022-05-21T15:09:43.404Z"
   },
   {
    "duration": 18,
    "start_time": "2022-05-21T15:09:43.409Z"
   },
   {
    "duration": 4,
    "start_time": "2022-05-21T15:09:43.429Z"
   },
   {
    "duration": 30,
    "start_time": "2022-05-21T15:09:43.434Z"
   },
   {
    "duration": 10,
    "start_time": "2022-05-21T15:09:43.466Z"
   },
   {
    "duration": 6,
    "start_time": "2022-05-21T15:09:43.478Z"
   },
   {
    "duration": 28,
    "start_time": "2022-05-21T15:09:43.486Z"
   },
   {
    "duration": 3,
    "start_time": "2022-05-21T15:09:43.516Z"
   },
   {
    "duration": 12,
    "start_time": "2022-05-21T15:09:43.520Z"
   },
   {
    "duration": 25,
    "start_time": "2022-05-21T15:09:43.534Z"
   },
   {
    "duration": 4,
    "start_time": "2022-05-21T15:09:43.561Z"
   },
   {
    "duration": 17,
    "start_time": "2022-05-21T15:09:43.566Z"
   },
   {
    "duration": 14,
    "start_time": "2022-05-21T15:09:43.584Z"
   },
   {
    "duration": 16,
    "start_time": "2022-05-21T15:09:43.600Z"
   },
   {
    "duration": 47,
    "start_time": "2022-05-21T15:09:43.618Z"
   },
   {
    "duration": 41,
    "start_time": "2022-05-21T15:09:43.667Z"
   },
   {
    "duration": 13,
    "start_time": "2022-05-21T15:09:43.710Z"
   },
   {
    "duration": 45,
    "start_time": "2022-05-21T15:09:43.727Z"
   },
   {
    "duration": 6,
    "start_time": "2022-05-21T15:09:43.774Z"
   },
   {
    "duration": 9,
    "start_time": "2022-05-21T15:09:43.782Z"
   },
   {
    "duration": 19,
    "start_time": "2022-05-21T15:09:43.793Z"
   },
   {
    "duration": 47,
    "start_time": "2022-05-21T15:09:43.813Z"
   },
   {
    "duration": 12,
    "start_time": "2022-05-21T15:09:43.862Z"
   },
   {
    "duration": 19,
    "start_time": "2022-05-21T15:09:43.876Z"
   },
   {
    "duration": 21,
    "start_time": "2022-05-21T15:09:43.897Z"
   },
   {
    "duration": 10,
    "start_time": "2022-05-21T15:09:43.920Z"
   },
   {
    "duration": 9,
    "start_time": "2022-05-21T15:09:43.932Z"
   },
   {
    "duration": 6,
    "start_time": "2022-05-21T15:09:43.943Z"
   },
   {
    "duration": 22,
    "start_time": "2022-05-21T15:09:43.951Z"
   },
   {
    "duration": 9,
    "start_time": "2022-05-21T15:09:43.974Z"
   },
   {
    "duration": 482,
    "start_time": "2022-05-21T15:11:59.011Z"
   },
   {
    "duration": 17,
    "start_time": "2022-05-21T15:11:59.495Z"
   },
   {
    "duration": 41,
    "start_time": "2022-05-21T15:11:59.513Z"
   },
   {
    "duration": 5,
    "start_time": "2022-05-21T15:11:59.556Z"
   },
   {
    "duration": 7,
    "start_time": "2022-05-21T15:11:59.564Z"
   },
   {
    "duration": 6,
    "start_time": "2022-05-21T15:11:59.572Z"
   },
   {
    "duration": 7,
    "start_time": "2022-05-21T15:11:59.579Z"
   },
   {
    "duration": 11,
    "start_time": "2022-05-21T15:11:59.587Z"
   },
   {
    "duration": 24,
    "start_time": "2022-05-21T15:11:59.600Z"
   },
   {
    "duration": 35,
    "start_time": "2022-05-21T15:11:59.625Z"
   },
   {
    "duration": 6,
    "start_time": "2022-05-21T15:11:59.662Z"
   },
   {
    "duration": 8,
    "start_time": "2022-05-21T15:11:59.669Z"
   },
   {
    "duration": 3,
    "start_time": "2022-05-21T15:11:59.678Z"
   },
   {
    "duration": 10,
    "start_time": "2022-05-21T15:11:59.684Z"
   },
   {
    "duration": 4,
    "start_time": "2022-05-21T15:11:59.695Z"
   },
   {
    "duration": 11,
    "start_time": "2022-05-21T15:11:59.701Z"
   },
   {
    "duration": 60,
    "start_time": "2022-05-21T15:11:59.713Z"
   },
   {
    "duration": 15,
    "start_time": "2022-05-21T15:11:59.775Z"
   },
   {
    "duration": 5,
    "start_time": "2022-05-21T15:11:59.792Z"
   },
   {
    "duration": 5,
    "start_time": "2022-05-21T15:11:59.799Z"
   },
   {
    "duration": 7,
    "start_time": "2022-05-21T15:11:59.805Z"
   },
   {
    "duration": 8,
    "start_time": "2022-05-21T15:11:59.813Z"
   },
   {
    "duration": 37,
    "start_time": "2022-05-21T15:11:59.823Z"
   },
   {
    "duration": 4,
    "start_time": "2022-05-21T15:11:59.862Z"
   },
   {
    "duration": 15,
    "start_time": "2022-05-21T15:11:59.867Z"
   },
   {
    "duration": 3,
    "start_time": "2022-05-21T15:11:59.884Z"
   },
   {
    "duration": 7,
    "start_time": "2022-05-21T15:11:59.889Z"
   },
   {
    "duration": 8,
    "start_time": "2022-05-21T15:11:59.897Z"
   },
   {
    "duration": 6,
    "start_time": "2022-05-21T15:11:59.906Z"
   },
   {
    "duration": 62,
    "start_time": "2022-05-21T15:11:59.914Z"
   },
   {
    "duration": 3,
    "start_time": "2022-05-21T15:11:59.978Z"
   },
   {
    "duration": 11,
    "start_time": "2022-05-21T15:11:59.982Z"
   },
   {
    "duration": 12,
    "start_time": "2022-05-21T15:11:59.995Z"
   },
   {
    "duration": 6,
    "start_time": "2022-05-21T15:12:00.008Z"
   },
   {
    "duration": 19,
    "start_time": "2022-05-21T15:12:00.016Z"
   },
   {
    "duration": 14,
    "start_time": "2022-05-21T15:12:00.036Z"
   },
   {
    "duration": 15,
    "start_time": "2022-05-21T15:12:00.059Z"
   },
   {
    "duration": 16,
    "start_time": "2022-05-21T15:12:00.076Z"
   },
   {
    "duration": 33,
    "start_time": "2022-05-21T15:12:00.093Z"
   },
   {
    "duration": 32,
    "start_time": "2022-05-21T15:12:00.127Z"
   },
   {
    "duration": 42,
    "start_time": "2022-05-21T15:12:00.163Z"
   },
   {
    "duration": 5,
    "start_time": "2022-05-21T15:12:00.206Z"
   },
   {
    "duration": 23,
    "start_time": "2022-05-21T15:12:00.212Z"
   },
   {
    "duration": 22,
    "start_time": "2022-05-21T15:12:00.237Z"
   },
   {
    "duration": 16,
    "start_time": "2022-05-21T15:12:00.261Z"
   },
   {
    "duration": 21,
    "start_time": "2022-05-21T15:12:00.279Z"
   },
   {
    "duration": 10,
    "start_time": "2022-05-21T15:12:00.302Z"
   },
   {
    "duration": 22,
    "start_time": "2022-05-21T15:12:00.313Z"
   },
   {
    "duration": 6,
    "start_time": "2022-05-21T15:12:00.337Z"
   },
   {
    "duration": 6,
    "start_time": "2022-05-21T15:12:00.344Z"
   },
   {
    "duration": 10,
    "start_time": "2022-05-21T15:12:00.352Z"
   },
   {
    "duration": 10,
    "start_time": "2022-05-21T15:12:00.363Z"
   },
   {
    "duration": 4,
    "start_time": "2022-05-21T15:12:00.383Z"
   },
   {
    "duration": 19,
    "start_time": "2022-05-21T15:12:00.389Z"
   },
   {
    "duration": 22,
    "start_time": "2022-05-21T15:12:00.410Z"
   },
   {
    "duration": 18,
    "start_time": "2022-05-21T15:12:00.434Z"
   },
   {
    "duration": 15,
    "start_time": "2022-05-21T15:12:00.453Z"
   },
   {
    "duration": 16,
    "start_time": "2022-05-21T15:12:00.470Z"
   },
   {
    "duration": 11,
    "start_time": "2022-05-21T15:12:00.488Z"
   },
   {
    "duration": 23,
    "start_time": "2022-05-21T15:12:00.500Z"
   },
   {
    "duration": 462,
    "start_time": "2022-05-21T15:13:14.902Z"
   },
   {
    "duration": 14,
    "start_time": "2022-05-21T15:13:15.366Z"
   },
   {
    "duration": 30,
    "start_time": "2022-05-21T15:13:15.381Z"
   },
   {
    "duration": 3,
    "start_time": "2022-05-21T15:13:15.413Z"
   },
   {
    "duration": 6,
    "start_time": "2022-05-21T15:13:15.418Z"
   },
   {
    "duration": 8,
    "start_time": "2022-05-21T15:13:15.425Z"
   },
   {
    "duration": 27,
    "start_time": "2022-05-21T15:13:15.434Z"
   },
   {
    "duration": 10,
    "start_time": "2022-05-21T15:13:15.463Z"
   },
   {
    "duration": 19,
    "start_time": "2022-05-21T15:13:15.475Z"
   },
   {
    "duration": 3,
    "start_time": "2022-05-21T15:13:15.496Z"
   },
   {
    "duration": 7,
    "start_time": "2022-05-21T15:13:15.500Z"
   },
   {
    "duration": 12,
    "start_time": "2022-05-21T15:13:15.508Z"
   },
   {
    "duration": 4,
    "start_time": "2022-05-21T15:13:15.521Z"
   },
   {
    "duration": 33,
    "start_time": "2022-05-21T15:13:15.526Z"
   },
   {
    "duration": 3,
    "start_time": "2022-05-21T15:13:15.561Z"
   },
   {
    "duration": 18,
    "start_time": "2022-05-21T15:13:15.565Z"
   },
   {
    "duration": 43,
    "start_time": "2022-05-21T15:13:15.584Z"
   },
   {
    "duration": 13,
    "start_time": "2022-05-21T15:13:15.628Z"
   },
   {
    "duration": 4,
    "start_time": "2022-05-21T15:13:15.643Z"
   },
   {
    "duration": 4,
    "start_time": "2022-05-21T15:13:15.659Z"
   },
   {
    "duration": 8,
    "start_time": "2022-05-21T15:13:15.664Z"
   },
   {
    "duration": 17,
    "start_time": "2022-05-21T15:13:15.673Z"
   },
   {
    "duration": 7,
    "start_time": "2022-05-21T15:13:15.691Z"
   },
   {
    "duration": 5,
    "start_time": "2022-05-21T15:13:15.699Z"
   },
   {
    "duration": 14,
    "start_time": "2022-05-21T15:13:15.705Z"
   },
   {
    "duration": 4,
    "start_time": "2022-05-21T15:13:15.720Z"
   },
   {
    "duration": 8,
    "start_time": "2022-05-21T15:13:15.725Z"
   },
   {
    "duration": 29,
    "start_time": "2022-05-21T15:13:15.737Z"
   },
   {
    "duration": 11,
    "start_time": "2022-05-21T15:13:15.767Z"
   },
   {
    "duration": 31,
    "start_time": "2022-05-21T15:13:15.779Z"
   },
   {
    "duration": 4,
    "start_time": "2022-05-21T15:13:15.812Z"
   },
   {
    "duration": 7,
    "start_time": "2022-05-21T15:13:15.818Z"
   },
   {
    "duration": 5,
    "start_time": "2022-05-21T15:13:15.827Z"
   },
   {
    "duration": 28,
    "start_time": "2022-05-21T15:13:15.833Z"
   },
   {
    "duration": 17,
    "start_time": "2022-05-21T15:13:15.863Z"
   },
   {
    "duration": 13,
    "start_time": "2022-05-21T15:13:15.881Z"
   },
   {
    "duration": 15,
    "start_time": "2022-05-21T15:13:15.896Z"
   },
   {
    "duration": 47,
    "start_time": "2022-05-21T15:13:15.913Z"
   },
   {
    "duration": 32,
    "start_time": "2022-05-21T15:13:15.962Z"
   },
   {
    "duration": 12,
    "start_time": "2022-05-21T15:13:15.996Z"
   },
   {
    "duration": 53,
    "start_time": "2022-05-21T15:13:16.010Z"
   },
   {
    "duration": 7,
    "start_time": "2022-05-21T15:13:16.064Z"
   },
   {
    "duration": 10,
    "start_time": "2022-05-21T15:13:16.072Z"
   },
   {
    "duration": 18,
    "start_time": "2022-05-21T15:13:16.084Z"
   },
   {
    "duration": 17,
    "start_time": "2022-05-21T15:13:16.103Z"
   },
   {
    "duration": 39,
    "start_time": "2022-05-21T15:13:16.122Z"
   },
   {
    "duration": 11,
    "start_time": "2022-05-21T15:13:16.162Z"
   },
   {
    "duration": 13,
    "start_time": "2022-05-21T15:13:16.174Z"
   },
   {
    "duration": 5,
    "start_time": "2022-05-21T15:13:16.189Z"
   },
   {
    "duration": 7,
    "start_time": "2022-05-21T15:13:16.195Z"
   },
   {
    "duration": 13,
    "start_time": "2022-05-21T15:13:16.203Z"
   },
   {
    "duration": 5,
    "start_time": "2022-05-21T15:13:16.218Z"
   },
   {
    "duration": 5,
    "start_time": "2022-05-21T15:13:16.224Z"
   },
   {
    "duration": 16,
    "start_time": "2022-05-21T15:13:16.230Z"
   },
   {
    "duration": 6,
    "start_time": "2022-05-21T15:13:16.247Z"
   },
   {
    "duration": 14,
    "start_time": "2022-05-21T15:13:16.254Z"
   },
   {
    "duration": 10,
    "start_time": "2022-05-21T15:13:16.270Z"
   },
   {
    "duration": 11,
    "start_time": "2022-05-21T15:13:16.281Z"
   },
   {
    "duration": 11,
    "start_time": "2022-05-21T15:13:16.293Z"
   },
   {
    "duration": 16,
    "start_time": "2022-05-21T15:13:16.305Z"
   },
   {
    "duration": 52,
    "start_time": "2022-05-21T15:13:16.323Z"
   },
   {
    "duration": 459,
    "start_time": "2022-05-21T15:14:50.811Z"
   },
   {
    "duration": 14,
    "start_time": "2022-05-21T15:14:51.272Z"
   },
   {
    "duration": 29,
    "start_time": "2022-05-21T15:14:51.288Z"
   },
   {
    "duration": 4,
    "start_time": "2022-05-21T15:14:51.318Z"
   },
   {
    "duration": 5,
    "start_time": "2022-05-21T15:14:51.323Z"
   },
   {
    "duration": 11,
    "start_time": "2022-05-21T15:14:51.329Z"
   },
   {
    "duration": 4,
    "start_time": "2022-05-21T15:14:51.359Z"
   },
   {
    "duration": 12,
    "start_time": "2022-05-21T15:14:51.364Z"
   },
   {
    "duration": 21,
    "start_time": "2022-05-21T15:14:51.377Z"
   },
   {
    "duration": 4,
    "start_time": "2022-05-21T15:14:51.399Z"
   },
   {
    "duration": 7,
    "start_time": "2022-05-21T15:14:51.404Z"
   },
   {
    "duration": 12,
    "start_time": "2022-05-21T15:14:51.412Z"
   },
   {
    "duration": 4,
    "start_time": "2022-05-21T15:14:51.425Z"
   },
   {
    "duration": 6,
    "start_time": "2022-05-21T15:14:51.432Z"
   },
   {
    "duration": 3,
    "start_time": "2022-05-21T15:14:51.460Z"
   },
   {
    "duration": 18,
    "start_time": "2022-05-21T15:14:51.464Z"
   },
   {
    "duration": 31,
    "start_time": "2022-05-21T15:14:51.483Z"
   },
   {
    "duration": 13,
    "start_time": "2022-05-21T15:14:51.516Z"
   },
   {
    "duration": 5,
    "start_time": "2022-05-21T15:14:51.530Z"
   },
   {
    "duration": 25,
    "start_time": "2022-05-21T15:14:51.536Z"
   },
   {
    "duration": 4,
    "start_time": "2022-05-21T15:14:51.563Z"
   },
   {
    "duration": 12,
    "start_time": "2022-05-21T15:14:51.568Z"
   },
   {
    "duration": 14,
    "start_time": "2022-05-21T15:14:51.582Z"
   },
   {
    "duration": 15,
    "start_time": "2022-05-21T15:14:51.597Z"
   },
   {
    "duration": 15,
    "start_time": "2022-05-21T15:14:51.614Z"
   },
   {
    "duration": 4,
    "start_time": "2022-05-21T15:14:51.631Z"
   },
   {
    "duration": 26,
    "start_time": "2022-05-21T15:14:51.636Z"
   },
   {
    "duration": 12,
    "start_time": "2022-05-21T15:14:51.664Z"
   },
   {
    "duration": 10,
    "start_time": "2022-05-21T15:14:51.679Z"
   },
   {
    "duration": 34,
    "start_time": "2022-05-21T15:14:51.691Z"
   },
   {
    "duration": 3,
    "start_time": "2022-05-21T15:14:51.727Z"
   },
   {
    "duration": 5,
    "start_time": "2022-05-21T15:14:51.759Z"
   },
   {
    "duration": 6,
    "start_time": "2022-05-21T15:14:51.765Z"
   },
   {
    "duration": 11,
    "start_time": "2022-05-21T15:14:51.772Z"
   },
   {
    "duration": 19,
    "start_time": "2022-05-21T15:14:51.784Z"
   },
   {
    "duration": 13,
    "start_time": "2022-05-21T15:14:51.804Z"
   },
   {
    "duration": 15,
    "start_time": "2022-05-21T15:14:51.819Z"
   },
   {
    "duration": 19,
    "start_time": "2022-05-21T15:14:51.863Z"
   },
   {
    "duration": 33,
    "start_time": "2022-05-21T15:14:51.883Z"
   },
   {
    "duration": 11,
    "start_time": "2022-05-21T15:14:51.918Z"
   },
   {
    "duration": 55,
    "start_time": "2022-05-21T15:14:51.933Z"
   },
   {
    "duration": 5,
    "start_time": "2022-05-21T15:14:51.990Z"
   },
   {
    "duration": 14,
    "start_time": "2022-05-21T15:14:51.996Z"
   },
   {
    "duration": 18,
    "start_time": "2022-05-21T15:14:52.012Z"
   },
   {
    "duration": 30,
    "start_time": "2022-05-21T15:14:52.032Z"
   },
   {
    "duration": 10,
    "start_time": "2022-05-21T15:14:52.063Z"
   },
   {
    "duration": 10,
    "start_time": "2022-05-21T15:14:52.074Z"
   },
   {
    "duration": 13,
    "start_time": "2022-05-21T15:14:52.086Z"
   },
   {
    "duration": 5,
    "start_time": "2022-05-21T15:14:52.101Z"
   },
   {
    "duration": 9,
    "start_time": "2022-05-21T15:14:52.107Z"
   },
   {
    "duration": 12,
    "start_time": "2022-05-21T15:14:52.117Z"
   },
   {
    "duration": 6,
    "start_time": "2022-05-21T15:14:52.131Z"
   },
   {
    "duration": 7,
    "start_time": "2022-05-21T15:14:52.139Z"
   },
   {
    "duration": 18,
    "start_time": "2022-05-21T15:14:52.148Z"
   },
   {
    "duration": 6,
    "start_time": "2022-05-21T15:14:52.168Z"
   },
   {
    "duration": 16,
    "start_time": "2022-05-21T15:14:52.175Z"
   },
   {
    "duration": 9,
    "start_time": "2022-05-21T15:14:52.193Z"
   },
   {
    "duration": 10,
    "start_time": "2022-05-21T15:14:52.204Z"
   },
   {
    "duration": 15,
    "start_time": "2022-05-21T15:14:52.216Z"
   },
   {
    "duration": 36,
    "start_time": "2022-05-21T15:14:52.233Z"
   },
   {
    "duration": 19,
    "start_time": "2022-05-21T15:14:52.271Z"
   },
   {
    "duration": 23,
    "start_time": "2022-05-21T15:14:52.291Z"
   },
   {
    "duration": 477,
    "start_time": "2022-05-21T15:20:02.297Z"
   },
   {
    "duration": 17,
    "start_time": "2022-05-21T15:20:02.776Z"
   },
   {
    "duration": 33,
    "start_time": "2022-05-21T15:20:02.794Z"
   },
   {
    "duration": 4,
    "start_time": "2022-05-21T15:20:02.828Z"
   },
   {
    "duration": 34,
    "start_time": "2022-05-21T15:20:02.834Z"
   },
   {
    "duration": 21,
    "start_time": "2022-05-21T15:20:02.869Z"
   },
   {
    "duration": 23,
    "start_time": "2022-05-21T15:20:02.891Z"
   },
   {
    "duration": 19,
    "start_time": "2022-05-21T15:20:02.916Z"
   },
   {
    "duration": 32,
    "start_time": "2022-05-21T15:20:02.937Z"
   },
   {
    "duration": 4,
    "start_time": "2022-05-21T15:20:02.971Z"
   },
   {
    "duration": 17,
    "start_time": "2022-05-21T15:20:02.977Z"
   },
   {
    "duration": 20,
    "start_time": "2022-05-21T15:20:02.995Z"
   },
   {
    "duration": 20,
    "start_time": "2022-05-21T15:20:03.017Z"
   },
   {
    "duration": 28,
    "start_time": "2022-05-21T15:20:03.038Z"
   },
   {
    "duration": 24,
    "start_time": "2022-05-21T15:20:03.067Z"
   },
   {
    "duration": 26,
    "start_time": "2022-05-21T15:20:03.092Z"
   },
   {
    "duration": 41,
    "start_time": "2022-05-21T15:20:03.119Z"
   },
   {
    "duration": 14,
    "start_time": "2022-05-21T15:20:03.161Z"
   },
   {
    "duration": 5,
    "start_time": "2022-05-21T15:20:03.177Z"
   },
   {
    "duration": 33,
    "start_time": "2022-05-21T15:20:03.183Z"
   },
   {
    "duration": 12,
    "start_time": "2022-05-21T15:20:03.218Z"
   },
   {
    "duration": 13,
    "start_time": "2022-05-21T15:20:03.232Z"
   },
   {
    "duration": 18,
    "start_time": "2022-05-21T15:20:03.246Z"
   },
   {
    "duration": 23,
    "start_time": "2022-05-21T15:20:03.265Z"
   },
   {
    "duration": 36,
    "start_time": "2022-05-21T15:20:03.289Z"
   },
   {
    "duration": 16,
    "start_time": "2022-05-21T15:20:03.326Z"
   },
   {
    "duration": 22,
    "start_time": "2022-05-21T15:20:03.343Z"
   },
   {
    "duration": 14,
    "start_time": "2022-05-21T15:20:03.368Z"
   },
   {
    "duration": 26,
    "start_time": "2022-05-21T15:20:03.383Z"
   },
   {
    "duration": 45,
    "start_time": "2022-05-21T15:20:03.411Z"
   },
   {
    "duration": 4,
    "start_time": "2022-05-21T15:20:03.458Z"
   },
   {
    "duration": 19,
    "start_time": "2022-05-21T15:20:03.463Z"
   },
   {
    "duration": 15,
    "start_time": "2022-05-21T15:20:03.483Z"
   },
   {
    "duration": 25,
    "start_time": "2022-05-21T15:20:03.499Z"
   },
   {
    "duration": 27,
    "start_time": "2022-05-21T15:20:03.526Z"
   },
   {
    "duration": 20,
    "start_time": "2022-05-21T15:20:03.555Z"
   },
   {
    "duration": 21,
    "start_time": "2022-05-21T15:20:03.577Z"
   },
   {
    "duration": 22,
    "start_time": "2022-05-21T15:20:03.599Z"
   },
   {
    "duration": 39,
    "start_time": "2022-05-21T15:20:03.623Z"
   },
   {
    "duration": 12,
    "start_time": "2022-05-21T15:20:03.664Z"
   },
   {
    "duration": 51,
    "start_time": "2022-05-21T15:20:03.678Z"
   },
   {
    "duration": 7,
    "start_time": "2022-05-21T15:20:03.730Z"
   },
   {
    "duration": 23,
    "start_time": "2022-05-21T15:20:03.739Z"
   },
   {
    "duration": 39,
    "start_time": "2022-05-21T15:20:03.763Z"
   },
   {
    "duration": 18,
    "start_time": "2022-05-21T15:20:03.803Z"
   },
   {
    "duration": 33,
    "start_time": "2022-05-21T15:20:03.822Z"
   },
   {
    "duration": 27,
    "start_time": "2022-05-21T15:20:03.857Z"
   },
   {
    "duration": 21,
    "start_time": "2022-05-21T15:20:03.885Z"
   },
   {
    "duration": 25,
    "start_time": "2022-05-21T15:20:03.907Z"
   },
   {
    "duration": 18,
    "start_time": "2022-05-21T15:20:03.933Z"
   },
   {
    "duration": 30,
    "start_time": "2022-05-21T15:20:03.953Z"
   },
   {
    "duration": 14,
    "start_time": "2022-05-21T15:20:03.985Z"
   },
   {
    "duration": 29,
    "start_time": "2022-05-21T15:20:04.000Z"
   },
   {
    "duration": 36,
    "start_time": "2022-05-21T15:20:04.030Z"
   },
   {
    "duration": 18,
    "start_time": "2022-05-21T15:20:04.068Z"
   },
   {
    "duration": 24,
    "start_time": "2022-05-21T15:20:04.088Z"
   },
   {
    "duration": 30,
    "start_time": "2022-05-21T15:20:04.114Z"
   },
   {
    "duration": 21,
    "start_time": "2022-05-21T15:20:04.146Z"
   },
   {
    "duration": 21,
    "start_time": "2022-05-21T15:20:04.168Z"
   },
   {
    "duration": 24,
    "start_time": "2022-05-21T15:20:04.191Z"
   },
   {
    "duration": 20,
    "start_time": "2022-05-21T15:20:04.217Z"
   },
   {
    "duration": 25,
    "start_time": "2022-05-21T15:20:04.239Z"
   },
   {
    "duration": 47,
    "start_time": "2022-05-21T15:20:04.266Z"
   },
   {
    "duration": 10,
    "start_time": "2022-05-21T15:20:04.314Z"
   },
   {
    "duration": 33,
    "start_time": "2022-05-21T15:20:04.325Z"
   },
   {
    "duration": 24,
    "start_time": "2022-05-21T15:20:04.360Z"
   },
   {
    "duration": 24,
    "start_time": "2022-05-21T15:20:04.389Z"
   },
   {
    "duration": 2,
    "start_time": "2022-05-21T15:20:04.415Z"
   },
   {
    "duration": 34,
    "start_time": "2022-05-21T15:20:04.418Z"
   },
   {
    "duration": 466,
    "start_time": "2022-05-21T15:23:43.010Z"
   },
   {
    "duration": 16,
    "start_time": "2022-05-21T15:23:43.477Z"
   },
   {
    "duration": 40,
    "start_time": "2022-05-21T15:23:43.494Z"
   },
   {
    "duration": 4,
    "start_time": "2022-05-21T15:23:43.535Z"
   },
   {
    "duration": 14,
    "start_time": "2022-05-21T15:23:43.541Z"
   },
   {
    "duration": 19,
    "start_time": "2022-05-21T15:23:43.559Z"
   },
   {
    "duration": 24,
    "start_time": "2022-05-21T15:23:43.580Z"
   },
   {
    "duration": 27,
    "start_time": "2022-05-21T15:23:43.605Z"
   },
   {
    "duration": 4,
    "start_time": "2022-05-21T15:23:43.633Z"
   },
   {
    "duration": 11,
    "start_time": "2022-05-21T15:23:43.639Z"
   },
   {
    "duration": 37,
    "start_time": "2022-05-21T15:23:43.652Z"
   },
   {
    "duration": 20,
    "start_time": "2022-05-21T15:23:43.691Z"
   },
   {
    "duration": 16,
    "start_time": "2022-05-21T15:23:43.713Z"
   },
   {
    "duration": 23,
    "start_time": "2022-05-21T15:23:43.732Z"
   },
   {
    "duration": 34,
    "start_time": "2022-05-21T15:23:43.756Z"
   },
   {
    "duration": 48,
    "start_time": "2022-05-21T15:23:43.792Z"
   },
   {
    "duration": 14,
    "start_time": "2022-05-21T15:23:43.842Z"
   },
   {
    "duration": 14,
    "start_time": "2022-05-21T15:23:43.857Z"
   },
   {
    "duration": 17,
    "start_time": "2022-05-21T15:23:43.872Z"
   },
   {
    "duration": 24,
    "start_time": "2022-05-21T15:23:43.890Z"
   },
   {
    "duration": 28,
    "start_time": "2022-05-21T15:23:43.916Z"
   },
   {
    "duration": 36,
    "start_time": "2022-05-21T15:23:43.945Z"
   },
   {
    "duration": 18,
    "start_time": "2022-05-21T15:23:43.982Z"
   },
   {
    "duration": 38,
    "start_time": "2022-05-21T15:23:44.002Z"
   },
   {
    "duration": 18,
    "start_time": "2022-05-21T15:23:44.042Z"
   },
   {
    "duration": 22,
    "start_time": "2022-05-21T15:23:44.061Z"
   },
   {
    "duration": 34,
    "start_time": "2022-05-21T15:23:44.084Z"
   },
   {
    "duration": 12,
    "start_time": "2022-05-21T15:23:44.119Z"
   },
   {
    "duration": 51,
    "start_time": "2022-05-21T15:23:44.133Z"
   },
   {
    "duration": 4,
    "start_time": "2022-05-21T15:23:44.186Z"
   },
   {
    "duration": 20,
    "start_time": "2022-05-21T15:23:44.192Z"
   },
   {
    "duration": 21,
    "start_time": "2022-05-21T15:23:44.214Z"
   },
   {
    "duration": 17,
    "start_time": "2022-05-21T15:23:44.237Z"
   },
   {
    "duration": 41,
    "start_time": "2022-05-21T15:23:44.256Z"
   },
   {
    "duration": 16,
    "start_time": "2022-05-21T15:23:44.299Z"
   },
   {
    "duration": 29,
    "start_time": "2022-05-21T15:23:44.317Z"
   },
   {
    "duration": 21,
    "start_time": "2022-05-21T15:23:44.348Z"
   },
   {
    "duration": 30,
    "start_time": "2022-05-21T15:23:44.371Z"
   },
   {
    "duration": 12,
    "start_time": "2022-05-21T15:23:44.402Z"
   },
   {
    "duration": 54,
    "start_time": "2022-05-21T15:23:44.415Z"
   },
   {
    "duration": 5,
    "start_time": "2022-05-21T15:23:44.472Z"
   },
   {
    "duration": 21,
    "start_time": "2022-05-21T15:23:44.478Z"
   },
   {
    "duration": 40,
    "start_time": "2022-05-21T15:23:44.501Z"
   },
   {
    "duration": 32,
    "start_time": "2022-05-21T15:23:44.543Z"
   },
   {
    "duration": 28,
    "start_time": "2022-05-21T15:23:44.576Z"
   },
   {
    "duration": 35,
    "start_time": "2022-05-21T15:23:44.606Z"
   },
   {
    "duration": 33,
    "start_time": "2022-05-21T15:23:44.643Z"
   },
   {
    "duration": 27,
    "start_time": "2022-05-21T15:23:44.677Z"
   },
   {
    "duration": 35,
    "start_time": "2022-05-21T15:23:44.706Z"
   },
   {
    "duration": 18,
    "start_time": "2022-05-21T15:23:44.742Z"
   },
   {
    "duration": 32,
    "start_time": "2022-05-21T15:23:44.761Z"
   },
   {
    "duration": 23,
    "start_time": "2022-05-21T15:23:44.795Z"
   },
   {
    "duration": 42,
    "start_time": "2022-05-21T15:23:44.819Z"
   },
   {
    "duration": 21,
    "start_time": "2022-05-21T15:23:44.863Z"
   },
   {
    "duration": 37,
    "start_time": "2022-05-21T15:23:44.886Z"
   },
   {
    "duration": 25,
    "start_time": "2022-05-21T15:23:44.924Z"
   },
   {
    "duration": 32,
    "start_time": "2022-05-21T15:23:44.951Z"
   },
   {
    "duration": 24,
    "start_time": "2022-05-21T15:23:44.985Z"
   },
   {
    "duration": 32,
    "start_time": "2022-05-21T15:23:45.011Z"
   },
   {
    "duration": 36,
    "start_time": "2022-05-21T15:23:45.045Z"
   },
   {
    "duration": 38,
    "start_time": "2022-05-21T15:23:45.083Z"
   },
   {
    "duration": 47,
    "start_time": "2022-05-21T15:23:45.123Z"
   },
   {
    "duration": 23,
    "start_time": "2022-05-21T15:23:45.171Z"
   },
   {
    "duration": 38,
    "start_time": "2022-05-21T15:23:45.196Z"
   },
   {
    "duration": 35,
    "start_time": "2022-05-21T15:23:45.235Z"
   },
   {
    "duration": 31,
    "start_time": "2022-05-21T15:23:45.272Z"
   },
   {
    "duration": 15,
    "start_time": "2022-05-21T15:23:45.304Z"
   },
   {
    "duration": 39,
    "start_time": "2022-05-21T15:23:45.320Z"
   },
   {
    "duration": 543,
    "start_time": "2022-05-21T19:03:54.397Z"
   },
   {
    "duration": 16,
    "start_time": "2022-05-21T19:03:54.942Z"
   },
   {
    "duration": 54,
    "start_time": "2022-05-21T19:03:54.959Z"
   },
   {
    "duration": 5,
    "start_time": "2022-05-21T19:03:55.015Z"
   },
   {
    "duration": 11,
    "start_time": "2022-05-21T19:03:55.022Z"
   },
   {
    "duration": 5,
    "start_time": "2022-05-21T19:03:55.035Z"
   },
   {
    "duration": 19,
    "start_time": "2022-05-21T19:03:55.041Z"
   },
   {
    "duration": 50,
    "start_time": "2022-05-21T19:03:55.061Z"
   },
   {
    "duration": 4,
    "start_time": "2022-05-21T19:03:55.113Z"
   },
   {
    "duration": 9,
    "start_time": "2022-05-21T19:03:55.118Z"
   },
   {
    "duration": 8,
    "start_time": "2022-05-21T19:03:55.128Z"
   },
   {
    "duration": 4,
    "start_time": "2022-05-21T19:03:55.138Z"
   },
   {
    "duration": 9,
    "start_time": "2022-05-21T19:03:55.144Z"
   },
   {
    "duration": 39,
    "start_time": "2022-05-21T19:03:55.157Z"
   },
   {
    "duration": 10,
    "start_time": "2022-05-21T19:03:55.197Z"
   },
   {
    "duration": 33,
    "start_time": "2022-05-21T19:03:55.209Z"
   },
   {
    "duration": 15,
    "start_time": "2022-05-21T19:03:55.244Z"
   },
   {
    "duration": 37,
    "start_time": "2022-05-21T19:03:55.261Z"
   },
   {
    "duration": 5,
    "start_time": "2022-05-21T19:03:55.300Z"
   },
   {
    "duration": 4,
    "start_time": "2022-05-21T19:03:55.307Z"
   },
   {
    "duration": 12,
    "start_time": "2022-05-21T19:03:55.313Z"
   },
   {
    "duration": 10,
    "start_time": "2022-05-21T19:03:55.326Z"
   },
   {
    "duration": 5,
    "start_time": "2022-05-21T19:03:55.338Z"
   },
   {
    "duration": 58,
    "start_time": "2022-05-21T19:03:55.345Z"
   },
   {
    "duration": 5,
    "start_time": "2022-05-21T19:03:55.405Z"
   },
   {
    "duration": 11,
    "start_time": "2022-05-21T19:03:55.411Z"
   },
   {
    "duration": 15,
    "start_time": "2022-05-21T19:03:55.424Z"
   },
   {
    "duration": 11,
    "start_time": "2022-05-21T19:03:55.441Z"
   },
   {
    "duration": 73,
    "start_time": "2022-05-21T19:03:55.454Z"
   },
   {
    "duration": 5,
    "start_time": "2022-05-21T19:03:55.528Z"
   },
   {
    "duration": 8,
    "start_time": "2022-05-21T19:03:55.534Z"
   },
   {
    "duration": 5,
    "start_time": "2022-05-21T19:03:55.544Z"
   },
   {
    "duration": 6,
    "start_time": "2022-05-21T19:03:55.550Z"
   },
   {
    "duration": 24,
    "start_time": "2022-05-21T19:03:55.594Z"
   },
   {
    "duration": 15,
    "start_time": "2022-05-21T19:03:55.619Z"
   },
   {
    "duration": 16,
    "start_time": "2022-05-21T19:03:55.635Z"
   },
   {
    "duration": 44,
    "start_time": "2022-05-21T19:03:55.652Z"
   },
   {
    "duration": 35,
    "start_time": "2022-05-21T19:03:55.698Z"
   },
   {
    "duration": 13,
    "start_time": "2022-05-21T19:03:55.734Z"
   },
   {
    "duration": 55,
    "start_time": "2022-05-21T19:03:55.748Z"
   },
   {
    "duration": 5,
    "start_time": "2022-05-21T19:03:55.807Z"
   },
   {
    "duration": 17,
    "start_time": "2022-05-21T19:03:55.813Z"
   },
   {
    "duration": 24,
    "start_time": "2022-05-21T19:03:55.832Z"
   },
   {
    "duration": 42,
    "start_time": "2022-05-21T19:03:55.858Z"
   },
   {
    "duration": 11,
    "start_time": "2022-05-21T19:03:55.902Z"
   },
   {
    "duration": 17,
    "start_time": "2022-05-21T19:03:55.914Z"
   },
   {
    "duration": 18,
    "start_time": "2022-05-21T19:03:55.933Z"
   },
   {
    "duration": 8,
    "start_time": "2022-05-21T19:03:55.952Z"
   },
   {
    "duration": 7,
    "start_time": "2022-05-21T19:03:55.962Z"
   },
   {
    "duration": 4,
    "start_time": "2022-05-21T19:03:55.971Z"
   },
   {
    "duration": 21,
    "start_time": "2022-05-21T19:03:55.977Z"
   },
   {
    "duration": 5,
    "start_time": "2022-05-21T19:03:56.000Z"
   },
   {
    "duration": 19,
    "start_time": "2022-05-21T19:03:56.006Z"
   },
   {
    "duration": 17,
    "start_time": "2022-05-21T19:03:56.026Z"
   },
   {
    "duration": 29,
    "start_time": "2022-05-21T19:03:56.045Z"
   },
   {
    "duration": 17,
    "start_time": "2022-05-21T19:03:56.075Z"
   },
   {
    "duration": 12,
    "start_time": "2022-05-21T19:03:56.094Z"
   },
   {
    "duration": 11,
    "start_time": "2022-05-21T19:03:56.108Z"
   },
   {
    "duration": 18,
    "start_time": "2022-05-21T19:03:56.121Z"
   },
   {
    "duration": 18,
    "start_time": "2022-05-21T19:03:56.141Z"
   },
   {
    "duration": 52,
    "start_time": "2022-05-21T19:03:56.160Z"
   },
   {
    "duration": 38,
    "start_time": "2022-05-21T19:03:56.214Z"
   },
   {
    "duration": 11,
    "start_time": "2022-05-21T19:03:56.254Z"
   },
   {
    "duration": 51,
    "start_time": "2022-05-21T19:03:56.266Z"
   },
   {
    "duration": 22,
    "start_time": "2022-05-21T19:03:56.319Z"
   },
   {
    "duration": 51,
    "start_time": "2022-05-21T19:03:56.343Z"
   },
   {
    "duration": 2,
    "start_time": "2022-05-21T19:03:56.396Z"
   },
   {
    "duration": 28,
    "start_time": "2022-05-21T19:03:56.400Z"
   },
   {
    "duration": 11,
    "start_time": "2022-05-21T19:21:12.126Z"
   },
   {
    "duration": 70,
    "start_time": "2022-05-21T19:22:12.387Z"
   },
   {
    "duration": 5,
    "start_time": "2022-05-21T19:22:35.605Z"
   },
   {
    "duration": 4,
    "start_time": "2022-05-21T19:22:41.308Z"
   },
   {
    "duration": 15,
    "start_time": "2022-05-21T19:29:15.051Z"
   },
   {
    "duration": 16,
    "start_time": "2022-05-21T19:29:21.298Z"
   },
   {
    "duration": 14,
    "start_time": "2022-05-21T19:29:29.728Z"
   },
   {
    "duration": 6,
    "start_time": "2022-05-21T19:29:34.609Z"
   },
   {
    "duration": 9,
    "start_time": "2022-05-21T19:52:42.026Z"
   },
   {
    "duration": 11,
    "start_time": "2022-05-21T19:53:00.006Z"
   },
   {
    "duration": 19,
    "start_time": "2022-05-21T19:55:51.056Z"
   },
   {
    "duration": 11,
    "start_time": "2022-05-21T20:00:54.574Z"
   },
   {
    "duration": 565,
    "start_time": "2022-05-21T20:00:57.389Z"
   },
   {
    "duration": 638,
    "start_time": "2022-05-21T20:01:05.132Z"
   },
   {
    "duration": 8,
    "start_time": "2022-05-21T20:01:09.142Z"
   },
   {
    "duration": 30,
    "start_time": "2022-05-21T20:01:18.197Z"
   },
   {
    "duration": 8,
    "start_time": "2022-05-21T20:04:51.943Z"
   },
   {
    "duration": 6,
    "start_time": "2022-05-21T20:04:59.128Z"
   },
   {
    "duration": 21,
    "start_time": "2022-05-21T20:07:30.038Z"
   },
   {
    "duration": 53,
    "start_time": "2022-05-22T08:22:16.636Z"
   },
   {
    "duration": 84,
    "start_time": "2022-05-22T08:26:40.338Z"
   },
   {
    "duration": 14,
    "start_time": "2022-05-22T08:26:40.423Z"
   },
   {
    "duration": 32,
    "start_time": "2022-05-22T08:26:40.439Z"
   },
   {
    "duration": 5,
    "start_time": "2022-05-22T08:26:40.473Z"
   },
   {
    "duration": 8,
    "start_time": "2022-05-22T08:26:40.480Z"
   },
   {
    "duration": 5,
    "start_time": "2022-05-22T08:26:40.501Z"
   },
   {
    "duration": 12,
    "start_time": "2022-05-22T08:26:40.508Z"
   },
   {
    "duration": 22,
    "start_time": "2022-05-22T08:26:40.521Z"
   },
   {
    "duration": 4,
    "start_time": "2022-05-22T08:26:40.544Z"
   },
   {
    "duration": 7,
    "start_time": "2022-05-22T08:26:40.549Z"
   },
   {
    "duration": 6,
    "start_time": "2022-05-22T08:26:40.558Z"
   },
   {
    "duration": 2,
    "start_time": "2022-05-22T08:26:40.566Z"
   },
   {
    "duration": 7,
    "start_time": "2022-05-22T08:26:40.570Z"
   },
   {
    "duration": 26,
    "start_time": "2022-05-22T08:26:40.578Z"
   },
   {
    "duration": 15,
    "start_time": "2022-05-22T08:26:40.606Z"
   },
   {
    "duration": 41,
    "start_time": "2022-05-22T08:26:40.623Z"
   },
   {
    "duration": 20,
    "start_time": "2022-05-22T08:26:40.666Z"
   },
   {
    "duration": 7,
    "start_time": "2022-05-22T08:26:40.702Z"
   },
   {
    "duration": 18,
    "start_time": "2022-05-22T08:26:40.711Z"
   },
   {
    "duration": 5,
    "start_time": "2022-05-22T08:26:40.731Z"
   },
   {
    "duration": 8,
    "start_time": "2022-05-22T08:26:40.738Z"
   },
   {
    "duration": 7,
    "start_time": "2022-05-22T08:26:40.747Z"
   },
   {
    "duration": 7,
    "start_time": "2022-05-22T08:26:40.756Z"
   },
   {
    "duration": 18,
    "start_time": "2022-05-22T08:26:40.764Z"
   },
   {
    "duration": 19,
    "start_time": "2022-05-22T08:26:40.783Z"
   },
   {
    "duration": 7,
    "start_time": "2022-05-22T08:26:40.803Z"
   },
   {
    "duration": 9,
    "start_time": "2022-05-22T08:26:40.811Z"
   },
   {
    "duration": 10,
    "start_time": "2022-05-22T08:26:40.821Z"
   },
   {
    "duration": 30,
    "start_time": "2022-05-22T08:26:40.832Z"
   },
   {
    "duration": 4,
    "start_time": "2022-05-22T08:26:40.863Z"
   },
   {
    "duration": 7,
    "start_time": "2022-05-22T08:26:40.869Z"
   },
   {
    "duration": 24,
    "start_time": "2022-05-22T08:26:40.878Z"
   },
   {
    "duration": 4,
    "start_time": "2022-05-22T08:26:40.904Z"
   },
   {
    "duration": 17,
    "start_time": "2022-05-22T08:26:40.910Z"
   },
   {
    "duration": 16,
    "start_time": "2022-05-22T08:26:40.929Z"
   },
   {
    "duration": 17,
    "start_time": "2022-05-22T08:26:40.946Z"
   },
   {
    "duration": 18,
    "start_time": "2022-05-22T08:26:40.964Z"
   },
   {
    "duration": 32,
    "start_time": "2022-05-22T08:26:41.003Z"
   },
   {
    "duration": 12,
    "start_time": "2022-05-22T08:26:41.036Z"
   },
   {
    "duration": 33,
    "start_time": "2022-05-22T08:26:41.050Z"
   },
   {
    "duration": 25,
    "start_time": "2022-05-22T08:26:41.085Z"
   },
   {
    "duration": 12,
    "start_time": "2022-05-22T08:26:41.113Z"
   },
   {
    "duration": 25,
    "start_time": "2022-05-22T08:26:41.126Z"
   },
   {
    "duration": 24,
    "start_time": "2022-05-22T08:26:41.154Z"
   },
   {
    "duration": 34,
    "start_time": "2022-05-22T08:26:41.181Z"
   },
   {
    "duration": 19,
    "start_time": "2022-05-22T08:26:41.217Z"
   },
   {
    "duration": 34,
    "start_time": "2022-05-22T08:26:41.238Z"
   },
   {
    "duration": 19,
    "start_time": "2022-05-22T08:26:41.274Z"
   },
   {
    "duration": 6,
    "start_time": "2022-05-22T08:26:41.296Z"
   },
   {
    "duration": 12,
    "start_time": "2022-05-22T08:26:41.305Z"
   },
   {
    "duration": 10,
    "start_time": "2022-05-22T08:26:41.319Z"
   },
   {
    "duration": 18,
    "start_time": "2022-05-22T08:26:41.331Z"
   },
   {
    "duration": 25,
    "start_time": "2022-05-22T08:26:41.352Z"
   },
   {
    "duration": 28,
    "start_time": "2022-05-22T08:26:41.379Z"
   },
   {
    "duration": 33,
    "start_time": "2022-05-22T08:26:41.409Z"
   },
   {
    "duration": 13,
    "start_time": "2022-05-22T08:26:41.444Z"
   },
   {
    "duration": 13,
    "start_time": "2022-05-22T08:26:41.458Z"
   },
   {
    "duration": 13,
    "start_time": "2022-05-22T08:26:41.472Z"
   },
   {
    "duration": 26,
    "start_time": "2022-05-22T08:26:41.486Z"
   },
   {
    "duration": 21,
    "start_time": "2022-05-22T08:26:41.513Z"
   },
   {
    "duration": 19,
    "start_time": "2022-05-22T08:26:41.536Z"
   },
   {
    "duration": 21,
    "start_time": "2022-05-22T08:26:41.557Z"
   },
   {
    "duration": 29,
    "start_time": "2022-05-22T08:26:41.580Z"
   },
   {
    "duration": 27,
    "start_time": "2022-05-22T08:26:41.611Z"
   },
   {
    "duration": 23,
    "start_time": "2022-05-22T08:26:41.639Z"
   },
   {
    "duration": 45,
    "start_time": "2022-05-22T08:26:41.664Z"
   },
   {
    "duration": 2,
    "start_time": "2022-05-22T08:26:41.711Z"
   },
   {
    "duration": 30,
    "start_time": "2022-05-22T08:26:41.715Z"
   },
   {
    "duration": 534,
    "start_time": "2022-05-22T08:40:08.661Z"
   },
   {
    "duration": 14,
    "start_time": "2022-05-22T08:40:09.196Z"
   },
   {
    "duration": 30,
    "start_time": "2022-05-22T08:40:09.212Z"
   },
   {
    "duration": 4,
    "start_time": "2022-05-22T08:40:09.244Z"
   },
   {
    "duration": 8,
    "start_time": "2022-05-22T08:40:09.249Z"
   },
   {
    "duration": 9,
    "start_time": "2022-05-22T08:40:09.258Z"
   },
   {
    "duration": 35,
    "start_time": "2022-05-22T08:40:09.268Z"
   },
   {
    "duration": 18,
    "start_time": "2022-05-22T08:40:09.305Z"
   },
   {
    "duration": 4,
    "start_time": "2022-05-22T08:40:09.324Z"
   },
   {
    "duration": 10,
    "start_time": "2022-05-22T08:40:09.331Z"
   },
   {
    "duration": 10,
    "start_time": "2022-05-22T08:40:09.343Z"
   },
   {
    "duration": 5,
    "start_time": "2022-05-22T08:40:09.355Z"
   },
   {
    "duration": 10,
    "start_time": "2022-05-22T08:40:09.362Z"
   },
   {
    "duration": 35,
    "start_time": "2022-05-22T08:40:09.374Z"
   },
   {
    "duration": 12,
    "start_time": "2022-05-22T08:40:09.411Z"
   },
   {
    "duration": 35,
    "start_time": "2022-05-22T08:40:09.424Z"
   },
   {
    "duration": 22,
    "start_time": "2022-05-22T08:40:09.461Z"
   },
   {
    "duration": 6,
    "start_time": "2022-05-22T08:40:09.501Z"
   },
   {
    "duration": 7,
    "start_time": "2022-05-22T08:40:09.509Z"
   },
   {
    "duration": 11,
    "start_time": "2022-05-22T08:40:09.517Z"
   },
   {
    "duration": 9,
    "start_time": "2022-05-22T08:40:09.530Z"
   },
   {
    "duration": 9,
    "start_time": "2022-05-22T08:40:09.542Z"
   },
   {
    "duration": 8,
    "start_time": "2022-05-22T08:40:09.553Z"
   },
   {
    "duration": 47,
    "start_time": "2022-05-22T08:40:09.563Z"
   },
   {
    "duration": 3,
    "start_time": "2022-05-22T08:40:09.612Z"
   },
   {
    "duration": 9,
    "start_time": "2022-05-22T08:40:09.617Z"
   },
   {
    "duration": 11,
    "start_time": "2022-05-22T08:40:09.627Z"
   },
   {
    "duration": 11,
    "start_time": "2022-05-22T08:40:09.643Z"
   },
   {
    "duration": 73,
    "start_time": "2022-05-22T08:40:09.657Z"
   },
   {
    "duration": 5,
    "start_time": "2022-05-22T08:40:09.732Z"
   },
   {
    "duration": 9,
    "start_time": "2022-05-22T08:40:09.738Z"
   },
   {
    "duration": 4,
    "start_time": "2022-05-22T08:40:09.749Z"
   },
   {
    "duration": 8,
    "start_time": "2022-05-22T08:40:09.755Z"
   },
   {
    "duration": 38,
    "start_time": "2022-05-22T08:40:09.764Z"
   },
   {
    "duration": 20,
    "start_time": "2022-05-22T08:40:09.804Z"
   },
   {
    "duration": 16,
    "start_time": "2022-05-22T08:40:09.826Z"
   },
   {
    "duration": 29,
    "start_time": "2022-05-22T08:40:09.844Z"
   },
   {
    "duration": 64,
    "start_time": "2022-05-22T08:40:09.875Z"
   },
   {
    "duration": 16,
    "start_time": "2022-05-22T08:40:09.941Z"
   },
   {
    "duration": 54,
    "start_time": "2022-05-22T08:40:09.959Z"
   },
   {
    "duration": 8,
    "start_time": "2022-05-22T08:40:10.015Z"
   },
   {
    "duration": 14,
    "start_time": "2022-05-22T08:40:10.024Z"
   },
   {
    "duration": 26,
    "start_time": "2022-05-22T08:40:10.040Z"
   },
   {
    "duration": 49,
    "start_time": "2022-05-22T08:40:10.068Z"
   },
   {
    "duration": 11,
    "start_time": "2022-05-22T08:40:10.118Z"
   },
   {
    "duration": 10,
    "start_time": "2022-05-22T08:40:10.130Z"
   },
   {
    "duration": 16,
    "start_time": "2022-05-22T08:40:10.142Z"
   },
   {
    "duration": 2,
    "start_time": "2022-05-22T08:40:10.160Z"
   },
   {
    "duration": 6,
    "start_time": "2022-05-22T08:40:10.164Z"
   },
   {
    "duration": 31,
    "start_time": "2022-05-22T08:40:10.172Z"
   },
   {
    "duration": 7,
    "start_time": "2022-05-22T08:40:10.204Z"
   },
   {
    "duration": 8,
    "start_time": "2022-05-22T08:40:10.213Z"
   },
   {
    "duration": 21,
    "start_time": "2022-05-22T08:40:10.222Z"
   },
   {
    "duration": 5,
    "start_time": "2022-05-22T08:40:10.245Z"
   },
   {
    "duration": 13,
    "start_time": "2022-05-22T08:40:10.251Z"
   },
   {
    "duration": 12,
    "start_time": "2022-05-22T08:40:10.266Z"
   },
   {
    "duration": 33,
    "start_time": "2022-05-22T08:40:10.279Z"
   },
   {
    "duration": 13,
    "start_time": "2022-05-22T08:40:10.313Z"
   },
   {
    "duration": 17,
    "start_time": "2022-05-22T08:40:10.328Z"
   },
   {
    "duration": 19,
    "start_time": "2022-05-22T08:40:10.347Z"
   },
   {
    "duration": 60,
    "start_time": "2022-05-22T08:40:10.368Z"
   },
   {
    "duration": 22,
    "start_time": "2022-05-22T08:40:10.429Z"
   },
   {
    "duration": 10,
    "start_time": "2022-05-22T08:40:10.452Z"
   },
   {
    "duration": 53,
    "start_time": "2022-05-22T08:40:10.463Z"
   },
   {
    "duration": 35,
    "start_time": "2022-05-22T08:40:10.517Z"
   },
   {
    "duration": 25,
    "start_time": "2022-05-22T08:40:10.553Z"
   },
   {
    "duration": 3,
    "start_time": "2022-05-22T08:40:10.602Z"
   },
   {
    "duration": 27,
    "start_time": "2022-05-22T08:40:10.607Z"
   },
   {
    "duration": 571,
    "start_time": "2022-05-22T08:54:08.780Z"
   },
   {
    "duration": 17,
    "start_time": "2022-05-22T08:54:09.353Z"
   },
   {
    "duration": 48,
    "start_time": "2022-05-22T08:54:09.372Z"
   },
   {
    "duration": 4,
    "start_time": "2022-05-22T08:54:09.422Z"
   },
   {
    "duration": 6,
    "start_time": "2022-05-22T08:54:09.428Z"
   },
   {
    "duration": 5,
    "start_time": "2022-05-22T08:54:09.435Z"
   },
   {
    "duration": 12,
    "start_time": "2022-05-22T08:54:09.441Z"
   },
   {
    "duration": 67,
    "start_time": "2022-05-22T08:54:09.454Z"
   },
   {
    "duration": 5,
    "start_time": "2022-05-22T08:54:09.524Z"
   },
   {
    "duration": 8,
    "start_time": "2022-05-22T08:54:09.533Z"
   },
   {
    "duration": 9,
    "start_time": "2022-05-22T08:54:09.543Z"
   },
   {
    "duration": 3,
    "start_time": "2022-05-22T08:54:09.554Z"
   },
   {
    "duration": 12,
    "start_time": "2022-05-22T08:54:09.558Z"
   },
   {
    "duration": 32,
    "start_time": "2022-05-22T08:54:09.572Z"
   },
   {
    "duration": 12,
    "start_time": "2022-05-22T08:54:09.606Z"
   },
   {
    "duration": 34,
    "start_time": "2022-05-22T08:54:09.620Z"
   },
   {
    "duration": 47,
    "start_time": "2022-05-22T08:54:09.656Z"
   },
   {
    "duration": 7,
    "start_time": "2022-05-22T08:54:09.705Z"
   },
   {
    "duration": 7,
    "start_time": "2022-05-22T08:54:09.714Z"
   },
   {
    "duration": 8,
    "start_time": "2022-05-22T08:54:09.723Z"
   },
   {
    "duration": 9,
    "start_time": "2022-05-22T08:54:09.733Z"
   },
   {
    "duration": 10,
    "start_time": "2022-05-22T08:54:09.744Z"
   },
   {
    "duration": 7,
    "start_time": "2022-05-22T08:54:09.756Z"
   },
   {
    "duration": 51,
    "start_time": "2022-05-22T08:54:09.765Z"
   },
   {
    "duration": 6,
    "start_time": "2022-05-22T08:54:09.818Z"
   },
   {
    "duration": 18,
    "start_time": "2022-05-22T08:54:09.826Z"
   },
   {
    "duration": 11,
    "start_time": "2022-05-22T08:54:09.846Z"
   },
   {
    "duration": 11,
    "start_time": "2022-05-22T08:54:09.862Z"
   },
   {
    "duration": 68,
    "start_time": "2022-05-22T08:54:09.875Z"
   },
   {
    "duration": 5,
    "start_time": "2022-05-22T08:54:09.945Z"
   },
   {
    "duration": 8,
    "start_time": "2022-05-22T08:54:09.951Z"
   },
   {
    "duration": 6,
    "start_time": "2022-05-22T08:54:09.961Z"
   },
   {
    "duration": 6,
    "start_time": "2022-05-22T08:54:09.968Z"
   },
   {
    "duration": 17,
    "start_time": "2022-05-22T08:54:10.001Z"
   },
   {
    "duration": 21,
    "start_time": "2022-05-22T08:54:10.020Z"
   },
   {
    "duration": 17,
    "start_time": "2022-05-22T08:54:10.043Z"
   },
   {
    "duration": 54,
    "start_time": "2022-05-22T08:54:10.062Z"
   },
   {
    "duration": 35,
    "start_time": "2022-05-22T08:54:10.118Z"
   },
   {
    "duration": 14,
    "start_time": "2022-05-22T08:54:10.155Z"
   },
   {
    "duration": 61,
    "start_time": "2022-05-22T08:54:10.170Z"
   },
   {
    "duration": 7,
    "start_time": "2022-05-22T08:54:10.233Z"
   },
   {
    "duration": 13,
    "start_time": "2022-05-22T08:54:10.242Z"
   },
   {
    "duration": 45,
    "start_time": "2022-05-22T08:54:10.257Z"
   },
   {
    "duration": 28,
    "start_time": "2022-05-22T08:54:10.304Z"
   },
   {
    "duration": 15,
    "start_time": "2022-05-22T08:54:10.334Z"
   },
   {
    "duration": 10,
    "start_time": "2022-05-22T08:54:10.351Z"
   },
   {
    "duration": 17,
    "start_time": "2022-05-22T08:54:10.363Z"
   },
   {
    "duration": 2,
    "start_time": "2022-05-22T08:54:10.403Z"
   },
   {
    "duration": 7,
    "start_time": "2022-05-22T08:54:10.407Z"
   },
   {
    "duration": 4,
    "start_time": "2022-05-22T08:54:10.417Z"
   },
   {
    "duration": 5,
    "start_time": "2022-05-22T08:54:10.423Z"
   },
   {
    "duration": 5,
    "start_time": "2022-05-22T08:54:10.430Z"
   },
   {
    "duration": 19,
    "start_time": "2022-05-22T08:54:10.437Z"
   },
   {
    "duration": 9,
    "start_time": "2022-05-22T08:54:10.457Z"
   },
   {
    "duration": 39,
    "start_time": "2022-05-22T08:54:10.468Z"
   },
   {
    "duration": 12,
    "start_time": "2022-05-22T08:54:10.509Z"
   },
   {
    "duration": 13,
    "start_time": "2022-05-22T08:54:10.523Z"
   },
   {
    "duration": 9,
    "start_time": "2022-05-22T08:54:10.537Z"
   },
   {
    "duration": 58,
    "start_time": "2022-05-22T08:54:10.548Z"
   },
   {
    "duration": 34,
    "start_time": "2022-05-22T08:54:10.608Z"
   },
   {
    "duration": 21,
    "start_time": "2022-05-22T08:54:10.644Z"
   },
   {
    "duration": 62,
    "start_time": "2022-05-22T08:54:10.667Z"
   },
   {
    "duration": 15,
    "start_time": "2022-05-22T08:54:10.731Z"
   },
   {
    "duration": 63,
    "start_time": "2022-05-22T08:54:10.748Z"
   },
   {
    "duration": 33,
    "start_time": "2022-05-22T08:54:10.813Z"
   },
   {
    "duration": 33,
    "start_time": "2022-05-22T08:54:10.848Z"
   },
   {
    "duration": 3,
    "start_time": "2022-05-22T08:54:10.883Z"
   },
   {
    "duration": 20,
    "start_time": "2022-05-22T08:54:10.902Z"
   },
   {
    "duration": 82,
    "start_time": "2022-05-22T08:54:45.179Z"
   },
   {
    "duration": 12,
    "start_time": "2022-05-22T08:55:06.907Z"
   },
   {
    "duration": 529,
    "start_time": "2022-05-22T08:55:11.890Z"
   },
   {
    "duration": 16,
    "start_time": "2022-05-22T08:55:12.421Z"
   },
   {
    "duration": 43,
    "start_time": "2022-05-22T08:55:12.439Z"
   },
   {
    "duration": 5,
    "start_time": "2022-05-22T08:55:12.503Z"
   },
   {
    "duration": 9,
    "start_time": "2022-05-22T08:55:12.510Z"
   },
   {
    "duration": 9,
    "start_time": "2022-05-22T08:55:12.521Z"
   },
   {
    "duration": 17,
    "start_time": "2022-05-22T08:55:12.532Z"
   },
   {
    "duration": 26,
    "start_time": "2022-05-22T08:55:12.551Z"
   },
   {
    "duration": 25,
    "start_time": "2022-05-22T08:55:12.579Z"
   },
   {
    "duration": 7,
    "start_time": "2022-05-22T08:55:12.607Z"
   },
   {
    "duration": 8,
    "start_time": "2022-05-22T08:55:12.615Z"
   },
   {
    "duration": 5,
    "start_time": "2022-05-22T08:55:12.625Z"
   },
   {
    "duration": 8,
    "start_time": "2022-05-22T08:55:12.632Z"
   },
   {
    "duration": 6,
    "start_time": "2022-05-22T08:55:12.642Z"
   },
   {
    "duration": 13,
    "start_time": "2022-05-22T08:55:12.649Z"
   },
   {
    "duration": 85,
    "start_time": "2022-05-22T08:55:12.664Z"
   },
   {
    "duration": 22,
    "start_time": "2022-05-22T08:55:12.751Z"
   },
   {
    "duration": 32,
    "start_time": "2022-05-22T08:55:12.775Z"
   },
   {
    "duration": 23,
    "start_time": "2022-05-22T08:55:12.809Z"
   },
   {
    "duration": 8,
    "start_time": "2022-05-22T08:55:12.834Z"
   },
   {
    "duration": 10,
    "start_time": "2022-05-22T08:55:12.844Z"
   },
   {
    "duration": 9,
    "start_time": "2022-05-22T08:55:12.856Z"
   },
   {
    "duration": 7,
    "start_time": "2022-05-22T08:55:12.869Z"
   },
   {
    "duration": 41,
    "start_time": "2022-05-22T08:55:12.878Z"
   },
   {
    "duration": 5,
    "start_time": "2022-05-22T08:55:12.921Z"
   },
   {
    "duration": 12,
    "start_time": "2022-05-22T08:55:12.928Z"
   },
   {
    "duration": 13,
    "start_time": "2022-05-22T08:55:12.942Z"
   },
   {
    "duration": 52,
    "start_time": "2022-05-22T08:55:12.957Z"
   },
   {
    "duration": 45,
    "start_time": "2022-05-22T08:55:13.011Z"
   },
   {
    "duration": 5,
    "start_time": "2022-05-22T08:55:13.058Z"
   },
   {
    "duration": 10,
    "start_time": "2022-05-22T08:55:13.064Z"
   },
   {
    "duration": 4,
    "start_time": "2022-05-22T08:55:13.102Z"
   },
   {
    "duration": 7,
    "start_time": "2022-05-22T08:55:13.108Z"
   },
   {
    "duration": 18,
    "start_time": "2022-05-22T08:55:13.116Z"
   },
   {
    "duration": 22,
    "start_time": "2022-05-22T08:55:13.137Z"
   },
   {
    "duration": 50,
    "start_time": "2022-05-22T08:55:13.161Z"
   },
   {
    "duration": 24,
    "start_time": "2022-05-22T08:55:13.214Z"
   },
   {
    "duration": 70,
    "start_time": "2022-05-22T08:55:13.240Z"
   },
   {
    "duration": 20,
    "start_time": "2022-05-22T08:55:13.312Z"
   },
   {
    "duration": 69,
    "start_time": "2022-05-22T08:55:13.334Z"
   },
   {
    "duration": 8,
    "start_time": "2022-05-22T08:55:13.405Z"
   },
   {
    "duration": 11,
    "start_time": "2022-05-22T08:55:13.416Z"
   },
   {
    "duration": 23,
    "start_time": "2022-05-22T08:55:13.429Z"
   },
   {
    "duration": 48,
    "start_time": "2022-05-22T08:55:13.455Z"
   },
   {
    "duration": 15,
    "start_time": "2022-05-22T08:55:13.506Z"
   },
   {
    "duration": 13,
    "start_time": "2022-05-22T08:55:13.524Z"
   },
   {
    "duration": 16,
    "start_time": "2022-05-22T08:55:13.539Z"
   },
   {
    "duration": 5,
    "start_time": "2022-05-22T08:55:13.556Z"
   },
   {
    "duration": 3,
    "start_time": "2022-05-22T08:55:13.564Z"
   },
   {
    "duration": 33,
    "start_time": "2022-05-22T08:55:13.569Z"
   },
   {
    "duration": 12,
    "start_time": "2022-05-22T08:55:13.604Z"
   },
   {
    "duration": 5,
    "start_time": "2022-05-22T08:55:13.617Z"
   },
   {
    "duration": 15,
    "start_time": "2022-05-22T08:55:13.624Z"
   },
   {
    "duration": 6,
    "start_time": "2022-05-22T08:55:13.640Z"
   },
   {
    "duration": 12,
    "start_time": "2022-05-22T08:55:13.648Z"
   },
   {
    "duration": 15,
    "start_time": "2022-05-22T08:55:13.662Z"
   },
   {
    "duration": 21,
    "start_time": "2022-05-22T08:55:13.703Z"
   },
   {
    "duration": 17,
    "start_time": "2022-05-22T08:55:13.727Z"
   },
   {
    "duration": 23,
    "start_time": "2022-05-22T08:55:13.746Z"
   },
   {
    "duration": 54,
    "start_time": "2022-05-22T08:55:13.771Z"
   },
   {
    "duration": 55,
    "start_time": "2022-05-22T08:55:13.827Z"
   },
   {
    "duration": 34,
    "start_time": "2022-05-22T08:55:13.884Z"
   },
   {
    "duration": 11,
    "start_time": "2022-05-22T08:55:13.921Z"
   },
   {
    "duration": 41,
    "start_time": "2022-05-22T08:55:13.934Z"
   },
   {
    "duration": 36,
    "start_time": "2022-05-22T08:55:14.001Z"
   },
   {
    "duration": 39,
    "start_time": "2022-05-22T08:55:14.039Z"
   },
   {
    "duration": 3,
    "start_time": "2022-05-22T08:55:14.101Z"
   },
   {
    "duration": 31,
    "start_time": "2022-05-22T08:55:14.106Z"
   },
   {
    "duration": 32,
    "start_time": "2022-05-22T09:04:59.991Z"
   },
   {
    "duration": 33,
    "start_time": "2022-05-22T09:05:49.957Z"
   },
   {
    "duration": 610,
    "start_time": "2022-05-22T09:07:42.590Z"
   },
   {
    "duration": 17,
    "start_time": "2022-05-22T09:07:43.202Z"
   },
   {
    "duration": 33,
    "start_time": "2022-05-22T09:07:43.221Z"
   },
   {
    "duration": 4,
    "start_time": "2022-05-22T09:07:43.256Z"
   },
   {
    "duration": 40,
    "start_time": "2022-05-22T09:07:43.262Z"
   },
   {
    "duration": 4,
    "start_time": "2022-05-22T09:07:43.304Z"
   },
   {
    "duration": 12,
    "start_time": "2022-05-22T09:07:43.309Z"
   },
   {
    "duration": 23,
    "start_time": "2022-05-22T09:07:43.323Z"
   },
   {
    "duration": 4,
    "start_time": "2022-05-22T09:07:43.347Z"
   },
   {
    "duration": 5,
    "start_time": "2022-05-22T09:07:43.353Z"
   },
   {
    "duration": 46,
    "start_time": "2022-05-22T09:07:43.360Z"
   },
   {
    "duration": 5,
    "start_time": "2022-05-22T09:07:43.408Z"
   },
   {
    "duration": 12,
    "start_time": "2022-05-22T09:07:43.414Z"
   },
   {
    "duration": 6,
    "start_time": "2022-05-22T09:07:43.428Z"
   },
   {
    "duration": 18,
    "start_time": "2022-05-22T09:07:43.436Z"
   },
   {
    "duration": 66,
    "start_time": "2022-05-22T09:07:43.456Z"
   },
   {
    "duration": 15,
    "start_time": "2022-05-22T09:07:43.523Z"
   },
   {
    "duration": 6,
    "start_time": "2022-05-22T09:07:43.539Z"
   },
   {
    "duration": 6,
    "start_time": "2022-05-22T09:07:43.547Z"
   },
   {
    "duration": 7,
    "start_time": "2022-05-22T09:07:43.554Z"
   },
   {
    "duration": 9,
    "start_time": "2022-05-22T09:07:43.562Z"
   },
   {
    "duration": 8,
    "start_time": "2022-05-22T09:07:43.602Z"
   },
   {
    "duration": 7,
    "start_time": "2022-05-22T09:07:43.612Z"
   },
   {
    "duration": 19,
    "start_time": "2022-05-22T09:07:43.620Z"
   },
   {
    "duration": 5,
    "start_time": "2022-05-22T09:07:43.640Z"
   },
   {
    "duration": 10,
    "start_time": "2022-05-22T09:07:43.646Z"
   },
   {
    "duration": 10,
    "start_time": "2022-05-22T09:07:43.658Z"
   },
   {
    "duration": 36,
    "start_time": "2022-05-22T09:07:43.671Z"
   },
   {
    "duration": 30,
    "start_time": "2022-05-22T09:07:43.709Z"
   },
   {
    "duration": 4,
    "start_time": "2022-05-22T09:07:43.741Z"
   },
   {
    "duration": 6,
    "start_time": "2022-05-22T09:07:43.747Z"
   },
   {
    "duration": 4,
    "start_time": "2022-05-22T09:07:43.755Z"
   },
   {
    "duration": 5,
    "start_time": "2022-05-22T09:07:43.760Z"
   },
   {
    "duration": 17,
    "start_time": "2022-05-22T09:07:43.801Z"
   },
   {
    "duration": 15,
    "start_time": "2022-05-22T09:07:43.820Z"
   },
   {
    "duration": 19,
    "start_time": "2022-05-22T09:07:43.837Z"
   },
   {
    "duration": 45,
    "start_time": "2022-05-22T09:07:43.858Z"
   },
   {
    "duration": 33,
    "start_time": "2022-05-22T09:07:43.905Z"
   },
   {
    "duration": 13,
    "start_time": "2022-05-22T09:07:43.939Z"
   },
   {
    "duration": 50,
    "start_time": "2022-05-22T09:07:43.954Z"
   },
   {
    "duration": 6,
    "start_time": "2022-05-22T09:07:44.006Z"
   },
   {
    "duration": 15,
    "start_time": "2022-05-22T09:07:44.014Z"
   },
   {
    "duration": 24,
    "start_time": "2022-05-22T09:07:44.031Z"
   },
   {
    "duration": 47,
    "start_time": "2022-05-22T09:07:44.057Z"
   },
   {
    "duration": 11,
    "start_time": "2022-05-22T09:07:44.106Z"
   },
   {
    "duration": 10,
    "start_time": "2022-05-22T09:07:44.119Z"
   },
   {
    "duration": 14,
    "start_time": "2022-05-22T09:07:44.131Z"
   },
   {
    "duration": 4,
    "start_time": "2022-05-22T09:07:44.147Z"
   },
   {
    "duration": 5,
    "start_time": "2022-05-22T09:07:44.152Z"
   },
   {
    "duration": 4,
    "start_time": "2022-05-22T09:07:44.159Z"
   },
   {
    "duration": 2,
    "start_time": "2022-05-22T09:07:44.202Z"
   },
   {
    "duration": 6,
    "start_time": "2022-05-22T09:07:44.206Z"
   },
   {
    "duration": 14,
    "start_time": "2022-05-22T09:07:44.213Z"
   },
   {
    "duration": 6,
    "start_time": "2022-05-22T09:07:44.229Z"
   },
   {
    "duration": 14,
    "start_time": "2022-05-22T09:07:44.236Z"
   },
   {
    "duration": 10,
    "start_time": "2022-05-22T09:07:44.252Z"
   },
   {
    "duration": 48,
    "start_time": "2022-05-22T09:07:44.264Z"
   },
   {
    "duration": 13,
    "start_time": "2022-05-22T09:07:44.314Z"
   },
   {
    "duration": 19,
    "start_time": "2022-05-22T09:07:44.328Z"
   },
   {
    "duration": 21,
    "start_time": "2022-05-22T09:07:44.349Z"
   },
   {
    "duration": 20,
    "start_time": "2022-05-22T09:07:44.402Z"
   },
   {
    "duration": 24,
    "start_time": "2022-05-22T09:07:44.424Z"
   },
   {
    "duration": 10,
    "start_time": "2022-05-22T09:07:44.450Z"
   },
   {
    "duration": 54,
    "start_time": "2022-05-22T09:07:44.462Z"
   },
   {
    "duration": 23,
    "start_time": "2022-05-22T09:07:44.517Z"
   },
   {
    "duration": 26,
    "start_time": "2022-05-22T09:07:44.541Z"
   },
   {
    "duration": 3,
    "start_time": "2022-05-22T09:07:44.568Z"
   },
   {
    "duration": 48,
    "start_time": "2022-05-22T09:07:44.572Z"
   },
   {
    "duration": 554,
    "start_time": "2022-05-22T09:09:50.863Z"
   },
   {
    "duration": 15,
    "start_time": "2022-05-22T09:09:51.419Z"
   },
   {
    "duration": 31,
    "start_time": "2022-05-22T09:09:51.435Z"
   },
   {
    "duration": 4,
    "start_time": "2022-05-22T09:09:51.468Z"
   },
   {
    "duration": 28,
    "start_time": "2022-05-22T09:09:51.475Z"
   },
   {
    "duration": 5,
    "start_time": "2022-05-22T09:09:51.504Z"
   },
   {
    "duration": 13,
    "start_time": "2022-05-22T09:09:51.510Z"
   },
   {
    "duration": 24,
    "start_time": "2022-05-22T09:09:51.525Z"
   },
   {
    "duration": 5,
    "start_time": "2022-05-22T09:09:51.550Z"
   },
   {
    "duration": 10,
    "start_time": "2022-05-22T09:09:51.556Z"
   },
   {
    "duration": 6,
    "start_time": "2022-05-22T09:09:51.568Z"
   },
   {
    "duration": 4,
    "start_time": "2022-05-22T09:09:51.601Z"
   },
   {
    "duration": 8,
    "start_time": "2022-05-22T09:09:51.607Z"
   },
   {
    "duration": 4,
    "start_time": "2022-05-22T09:09:51.618Z"
   },
   {
    "duration": 12,
    "start_time": "2022-05-22T09:09:51.623Z"
   },
   {
    "duration": 43,
    "start_time": "2022-05-22T09:09:51.636Z"
   },
   {
    "duration": 16,
    "start_time": "2022-05-22T09:09:51.701Z"
   },
   {
    "duration": 6,
    "start_time": "2022-05-22T09:09:51.718Z"
   },
   {
    "duration": 5,
    "start_time": "2022-05-22T09:09:51.726Z"
   },
   {
    "duration": 5,
    "start_time": "2022-05-22T09:09:51.733Z"
   },
   {
    "duration": 9,
    "start_time": "2022-05-22T09:09:51.739Z"
   },
   {
    "duration": 8,
    "start_time": "2022-05-22T09:09:51.750Z"
   },
   {
    "duration": 44,
    "start_time": "2022-05-22T09:09:51.759Z"
   },
   {
    "duration": 19,
    "start_time": "2022-05-22T09:09:51.805Z"
   },
   {
    "duration": 5,
    "start_time": "2022-05-22T09:09:51.826Z"
   },
   {
    "duration": 13,
    "start_time": "2022-05-22T09:09:51.833Z"
   },
   {
    "duration": 11,
    "start_time": "2022-05-22T09:09:51.847Z"
   },
   {
    "duration": 11,
    "start_time": "2022-05-22T09:09:51.860Z"
   },
   {
    "duration": 59,
    "start_time": "2022-05-22T09:09:51.873Z"
   },
   {
    "duration": 5,
    "start_time": "2022-05-22T09:09:51.933Z"
   },
   {
    "duration": 11,
    "start_time": "2022-05-22T09:09:51.940Z"
   },
   {
    "duration": 17,
    "start_time": "2022-05-22T09:09:51.953Z"
   },
   {
    "duration": 27,
    "start_time": "2022-05-22T09:09:51.972Z"
   },
   {
    "duration": 24,
    "start_time": "2022-05-22T09:09:52.000Z"
   },
   {
    "duration": 14,
    "start_time": "2022-05-22T09:09:52.026Z"
   },
   {
    "duration": 16,
    "start_time": "2022-05-22T09:09:52.042Z"
   },
   {
    "duration": 19,
    "start_time": "2022-05-22T09:09:52.060Z"
   },
   {
    "duration": 54,
    "start_time": "2022-05-22T09:09:52.081Z"
   },
   {
    "duration": 12,
    "start_time": "2022-05-22T09:09:52.137Z"
   },
   {
    "duration": 53,
    "start_time": "2022-05-22T09:09:52.150Z"
   },
   {
    "duration": 5,
    "start_time": "2022-05-22T09:09:52.206Z"
   },
   {
    "duration": 16,
    "start_time": "2022-05-22T09:09:52.213Z"
   },
   {
    "duration": 20,
    "start_time": "2022-05-22T09:09:52.231Z"
   },
   {
    "duration": 17,
    "start_time": "2022-05-22T09:09:52.253Z"
   },
   {
    "duration": 34,
    "start_time": "2022-05-22T09:09:52.272Z"
   },
   {
    "duration": 25,
    "start_time": "2022-05-22T09:09:52.308Z"
   },
   {
    "duration": 23,
    "start_time": "2022-05-22T09:09:52.335Z"
   },
   {
    "duration": 11,
    "start_time": "2022-05-22T09:09:52.360Z"
   },
   {
    "duration": 11,
    "start_time": "2022-05-22T09:09:52.372Z"
   },
   {
    "duration": 15,
    "start_time": "2022-05-22T09:09:52.384Z"
   },
   {
    "duration": 13,
    "start_time": "2022-05-22T09:09:52.400Z"
   },
   {
    "duration": 13,
    "start_time": "2022-05-22T09:09:52.414Z"
   },
   {
    "duration": 38,
    "start_time": "2022-05-22T09:09:52.428Z"
   },
   {
    "duration": 18,
    "start_time": "2022-05-22T09:09:52.467Z"
   },
   {
    "duration": 23,
    "start_time": "2022-05-22T09:09:52.487Z"
   },
   {
    "duration": 17,
    "start_time": "2022-05-22T09:09:52.511Z"
   },
   {
    "duration": 14,
    "start_time": "2022-05-22T09:09:52.530Z"
   },
   {
    "duration": 22,
    "start_time": "2022-05-22T09:09:52.546Z"
   },
   {
    "duration": 33,
    "start_time": "2022-05-22T09:09:52.570Z"
   },
   {
    "duration": 33,
    "start_time": "2022-05-22T09:09:52.605Z"
   },
   {
    "duration": 34,
    "start_time": "2022-05-22T09:09:52.640Z"
   },
   {
    "duration": 37,
    "start_time": "2022-05-22T09:09:52.676Z"
   },
   {
    "duration": 12,
    "start_time": "2022-05-22T09:09:52.715Z"
   },
   {
    "duration": 31,
    "start_time": "2022-05-22T09:09:52.729Z"
   },
   {
    "duration": 53,
    "start_time": "2022-05-22T09:09:52.762Z"
   },
   {
    "duration": 27,
    "start_time": "2022-05-22T09:09:52.817Z"
   },
   {
    "duration": 3,
    "start_time": "2022-05-22T09:09:52.845Z"
   },
   {
    "duration": 54,
    "start_time": "2022-05-22T09:09:52.849Z"
   },
   {
    "duration": 8,
    "start_time": "2022-05-22T09:13:24.505Z"
   },
   {
    "duration": 25,
    "start_time": "2022-05-22T09:13:43.694Z"
   },
   {
    "duration": 546,
    "start_time": "2022-05-22T09:14:17.050Z"
   },
   {
    "duration": 20,
    "start_time": "2022-05-22T09:14:17.598Z"
   },
   {
    "duration": 33,
    "start_time": "2022-05-22T09:14:17.620Z"
   },
   {
    "duration": 5,
    "start_time": "2022-05-22T09:14:17.655Z"
   },
   {
    "duration": 7,
    "start_time": "2022-05-22T09:14:17.661Z"
   },
   {
    "duration": 34,
    "start_time": "2022-05-22T09:14:17.670Z"
   },
   {
    "duration": 11,
    "start_time": "2022-05-22T09:14:17.705Z"
   },
   {
    "duration": 22,
    "start_time": "2022-05-22T09:14:17.718Z"
   },
   {
    "duration": 4,
    "start_time": "2022-05-22T09:14:17.742Z"
   },
   {
    "duration": 6,
    "start_time": "2022-05-22T09:14:17.750Z"
   },
   {
    "duration": 11,
    "start_time": "2022-05-22T09:14:17.758Z"
   },
   {
    "duration": 34,
    "start_time": "2022-05-22T09:14:17.771Z"
   },
   {
    "duration": 8,
    "start_time": "2022-05-22T09:14:17.808Z"
   },
   {
    "duration": 10,
    "start_time": "2022-05-22T09:14:17.818Z"
   },
   {
    "duration": 17,
    "start_time": "2022-05-22T09:14:17.830Z"
   },
   {
    "duration": 61,
    "start_time": "2022-05-22T09:14:17.849Z"
   },
   {
    "duration": 17,
    "start_time": "2022-05-22T09:14:17.913Z"
   },
   {
    "duration": 5,
    "start_time": "2022-05-22T09:14:17.933Z"
   },
   {
    "duration": 8,
    "start_time": "2022-05-22T09:14:17.940Z"
   },
   {
    "duration": 6,
    "start_time": "2022-05-22T09:14:17.950Z"
   },
   {
    "duration": 45,
    "start_time": "2022-05-22T09:14:17.958Z"
   },
   {
    "duration": 8,
    "start_time": "2022-05-22T09:14:18.005Z"
   },
   {
    "duration": 6,
    "start_time": "2022-05-22T09:14:18.015Z"
   },
   {
    "duration": 19,
    "start_time": "2022-05-22T09:14:18.023Z"
   },
   {
    "duration": 5,
    "start_time": "2022-05-22T09:14:18.044Z"
   },
   {
    "duration": 10,
    "start_time": "2022-05-22T09:14:18.051Z"
   },
   {
    "duration": 47,
    "start_time": "2022-05-22T09:14:18.062Z"
   },
   {
    "duration": 8,
    "start_time": "2022-05-22T09:14:18.113Z"
   },
   {
    "duration": 38,
    "start_time": "2022-05-22T09:14:18.123Z"
   },
   {
    "duration": 5,
    "start_time": "2022-05-22T09:14:18.164Z"
   },
   {
    "duration": 37,
    "start_time": "2022-05-22T09:14:18.170Z"
   },
   {
    "duration": 6,
    "start_time": "2022-05-22T09:14:18.210Z"
   },
   {
    "duration": 6,
    "start_time": "2022-05-22T09:14:18.218Z"
   },
   {
    "duration": 23,
    "start_time": "2022-05-22T09:14:18.226Z"
   },
   {
    "duration": 52,
    "start_time": "2022-05-22T09:14:18.251Z"
   },
   {
    "duration": 24,
    "start_time": "2022-05-22T09:14:18.305Z"
   },
   {
    "duration": 24,
    "start_time": "2022-05-22T09:14:18.331Z"
   },
   {
    "duration": 62,
    "start_time": "2022-05-22T09:14:18.356Z"
   },
   {
    "duration": 14,
    "start_time": "2022-05-22T09:14:18.421Z"
   },
   {
    "duration": 98,
    "start_time": "2022-05-22T09:14:18.438Z"
   },
   {
    "duration": 9,
    "start_time": "2022-05-22T09:14:18.542Z"
   },
   {
    "duration": 12,
    "start_time": "2022-05-22T09:14:18.554Z"
   },
   {
    "duration": 40,
    "start_time": "2022-05-22T09:14:18.568Z"
   },
   {
    "duration": 25,
    "start_time": "2022-05-22T09:14:18.611Z"
   },
   {
    "duration": 12,
    "start_time": "2022-05-22T09:14:18.637Z"
   },
   {
    "duration": 14,
    "start_time": "2022-05-22T09:14:18.651Z"
   },
   {
    "duration": 43,
    "start_time": "2022-05-22T09:14:18.667Z"
   },
   {
    "duration": 3,
    "start_time": "2022-05-22T09:14:18.712Z"
   },
   {
    "duration": 5,
    "start_time": "2022-05-22T09:14:18.717Z"
   },
   {
    "duration": 5,
    "start_time": "2022-05-22T09:14:18.724Z"
   },
   {
    "duration": 6,
    "start_time": "2022-05-22T09:14:18.730Z"
   },
   {
    "duration": 5,
    "start_time": "2022-05-22T09:14:18.737Z"
   },
   {
    "duration": 16,
    "start_time": "2022-05-22T09:14:18.743Z"
   },
   {
    "duration": 8,
    "start_time": "2022-05-22T09:14:18.760Z"
   },
   {
    "duration": 43,
    "start_time": "2022-05-22T09:14:18.770Z"
   },
   {
    "duration": 13,
    "start_time": "2022-05-22T09:14:18.814Z"
   },
   {
    "duration": 13,
    "start_time": "2022-05-22T09:14:18.829Z"
   },
   {
    "duration": 13,
    "start_time": "2022-05-22T09:14:18.843Z"
   },
   {
    "duration": 58,
    "start_time": "2022-05-22T09:14:18.857Z"
   },
   {
    "duration": 24,
    "start_time": "2022-05-22T09:14:18.916Z"
   },
   {
    "duration": 29,
    "start_time": "2022-05-22T09:14:18.942Z"
   },
   {
    "duration": 49,
    "start_time": "2022-05-22T09:14:18.973Z"
   },
   {
    "duration": 6,
    "start_time": "2022-05-22T09:14:19.024Z"
   },
   {
    "duration": 27,
    "start_time": "2022-05-22T09:14:19.033Z"
   },
   {
    "duration": 61,
    "start_time": "2022-05-22T09:14:19.062Z"
   },
   {
    "duration": 28,
    "start_time": "2022-05-22T09:14:19.125Z"
   },
   {
    "duration": 3,
    "start_time": "2022-05-22T09:14:19.154Z"
   },
   {
    "duration": 52,
    "start_time": "2022-05-22T09:14:19.159Z"
   },
   {
    "duration": 12,
    "start_time": "2022-05-22T09:15:17.315Z"
   },
   {
    "duration": 846,
    "start_time": "2022-05-22T16:15:40.960Z"
   },
   {
    "duration": 22,
    "start_time": "2022-05-22T16:15:41.809Z"
   },
   {
    "duration": 56,
    "start_time": "2022-05-22T16:15:41.839Z"
   },
   {
    "duration": 4,
    "start_time": "2022-05-22T16:15:41.898Z"
   },
   {
    "duration": 10,
    "start_time": "2022-05-22T16:15:41.904Z"
   },
   {
    "duration": 42,
    "start_time": "2022-05-22T16:15:41.915Z"
   },
   {
    "duration": 12,
    "start_time": "2022-05-22T16:15:41.959Z"
   },
   {
    "duration": 18,
    "start_time": "2022-05-22T16:15:41.973Z"
   },
   {
    "duration": 4,
    "start_time": "2022-05-22T16:15:41.993Z"
   },
   {
    "duration": 5,
    "start_time": "2022-05-22T16:15:41.999Z"
   },
   {
    "duration": 16,
    "start_time": "2022-05-22T16:15:42.006Z"
   },
   {
    "duration": 34,
    "start_time": "2022-05-22T16:15:42.023Z"
   },
   {
    "duration": 8,
    "start_time": "2022-05-22T16:15:42.058Z"
   },
   {
    "duration": 4,
    "start_time": "2022-05-22T16:15:42.068Z"
   },
   {
    "duration": 10,
    "start_time": "2022-05-22T16:15:42.073Z"
   },
   {
    "duration": 29,
    "start_time": "2022-05-22T16:15:42.085Z"
   },
   {
    "duration": 18,
    "start_time": "2022-05-22T16:15:42.115Z"
   },
   {
    "duration": 5,
    "start_time": "2022-05-22T16:15:42.134Z"
   },
   {
    "duration": 24,
    "start_time": "2022-05-22T16:15:42.142Z"
   },
   {
    "duration": 5,
    "start_time": "2022-05-22T16:15:42.168Z"
   },
   {
    "duration": 8,
    "start_time": "2022-05-22T16:15:42.174Z"
   },
   {
    "duration": 10,
    "start_time": "2022-05-22T16:15:42.183Z"
   },
   {
    "duration": 10,
    "start_time": "2022-05-22T16:15:42.195Z"
   },
   {
    "duration": 18,
    "start_time": "2022-05-22T16:15:42.216Z"
   },
   {
    "duration": 12,
    "start_time": "2022-05-22T16:15:42.242Z"
   },
   {
    "duration": 13,
    "start_time": "2022-05-22T16:15:42.256Z"
   },
   {
    "duration": 10,
    "start_time": "2022-05-22T16:15:42.270Z"
   },
   {
    "duration": 7,
    "start_time": "2022-05-22T16:15:42.283Z"
   },
   {
    "duration": 42,
    "start_time": "2022-05-22T16:15:42.291Z"
   },
   {
    "duration": 5,
    "start_time": "2022-05-22T16:15:42.334Z"
   },
   {
    "duration": 20,
    "start_time": "2022-05-22T16:15:42.341Z"
   },
   {
    "duration": 5,
    "start_time": "2022-05-22T16:15:42.362Z"
   },
   {
    "duration": 9,
    "start_time": "2022-05-22T16:15:42.368Z"
   },
   {
    "duration": 14,
    "start_time": "2022-05-22T16:15:42.378Z"
   },
   {
    "duration": 13,
    "start_time": "2022-05-22T16:15:42.393Z"
   },
   {
    "duration": 25,
    "start_time": "2022-05-22T16:15:42.407Z"
   },
   {
    "duration": 42,
    "start_time": "2022-05-22T16:15:42.433Z"
   },
   {
    "duration": 32,
    "start_time": "2022-05-22T16:15:42.476Z"
   },
   {
    "duration": 23,
    "start_time": "2022-05-22T16:15:42.510Z"
   },
   {
    "duration": 50,
    "start_time": "2022-05-22T16:15:42.534Z"
   },
   {
    "duration": 7,
    "start_time": "2022-05-22T16:15:42.586Z"
   },
   {
    "duration": 10,
    "start_time": "2022-05-22T16:15:42.594Z"
   },
   {
    "duration": 30,
    "start_time": "2022-05-22T16:15:42.605Z"
   },
   {
    "duration": 23,
    "start_time": "2022-05-22T16:15:42.645Z"
   },
   {
    "duration": 10,
    "start_time": "2022-05-22T16:15:42.669Z"
   },
   {
    "duration": 12,
    "start_time": "2022-05-22T16:15:42.680Z"
   },
   {
    "duration": 15,
    "start_time": "2022-05-22T16:15:42.693Z"
   },
   {
    "duration": 43,
    "start_time": "2022-05-22T16:15:42.710Z"
   },
   {
    "duration": 5,
    "start_time": "2022-05-22T16:15:42.754Z"
   },
   {
    "duration": 4,
    "start_time": "2022-05-22T16:15:42.760Z"
   },
   {
    "duration": 5,
    "start_time": "2022-05-22T16:15:42.765Z"
   },
   {
    "duration": 4,
    "start_time": "2022-05-22T16:15:42.771Z"
   },
   {
    "duration": 13,
    "start_time": "2022-05-22T16:15:42.776Z"
   },
   {
    "duration": 5,
    "start_time": "2022-05-22T16:15:42.791Z"
   },
   {
    "duration": 13,
    "start_time": "2022-05-22T16:15:42.797Z"
   },
   {
    "duration": 20,
    "start_time": "2022-05-22T16:15:42.811Z"
   },
   {
    "duration": 34,
    "start_time": "2022-05-22T16:15:42.833Z"
   },
   {
    "duration": 11,
    "start_time": "2022-05-22T16:15:42.868Z"
   },
   {
    "duration": 15,
    "start_time": "2022-05-22T16:15:42.881Z"
   },
   {
    "duration": 28,
    "start_time": "2022-05-22T16:15:42.898Z"
   },
   {
    "duration": 40,
    "start_time": "2022-05-22T16:15:42.931Z"
   },
   {
    "duration": 23,
    "start_time": "2022-05-22T16:15:42.973Z"
   },
   {
    "duration": 5,
    "start_time": "2022-05-22T16:15:42.998Z"
   },
   {
    "duration": 32,
    "start_time": "2022-05-22T16:15:43.005Z"
   },
   {
    "duration": 39,
    "start_time": "2022-05-22T16:15:43.038Z"
   },
   {
    "duration": 22,
    "start_time": "2022-05-22T16:15:43.079Z"
   },
   {
    "duration": 3,
    "start_time": "2022-05-22T16:15:43.102Z"
   },
   {
    "duration": 30,
    "start_time": "2022-05-22T16:15:43.106Z"
   },
   {
    "duration": 518,
    "start_time": "2023-02-02T14:47:30.737Z"
   },
   {
    "duration": 14,
    "start_time": "2023-02-02T14:47:31.256Z"
   },
   {
    "duration": 64,
    "start_time": "2023-02-02T14:47:31.271Z"
   },
   {
    "duration": 7,
    "start_time": "2023-02-02T14:47:31.337Z"
   },
   {
    "duration": 34,
    "start_time": "2023-02-02T14:47:31.346Z"
   },
   {
    "duration": 37,
    "start_time": "2023-02-02T14:47:31.382Z"
   },
   {
    "duration": 47,
    "start_time": "2023-02-02T14:47:31.420Z"
   },
   {
    "duration": 44,
    "start_time": "2023-02-02T14:47:31.468Z"
   },
   {
    "duration": 9,
    "start_time": "2023-02-02T14:47:31.514Z"
   },
   {
    "duration": 22,
    "start_time": "2023-02-02T14:47:31.525Z"
   },
   {
    "duration": 35,
    "start_time": "2023-02-02T14:47:31.548Z"
   },
   {
    "duration": 31,
    "start_time": "2023-02-02T14:47:31.585Z"
   },
   {
    "duration": 27,
    "start_time": "2023-02-02T14:47:31.618Z"
   },
   {
    "duration": 60,
    "start_time": "2023-02-02T14:47:31.646Z"
   },
   {
    "duration": 52,
    "start_time": "2023-02-02T14:47:31.707Z"
   },
   {
    "duration": 48,
    "start_time": "2023-02-02T14:47:31.761Z"
   },
   {
    "duration": 0,
    "start_time": "2023-02-02T14:47:31.812Z"
   },
   {
    "duration": 0,
    "start_time": "2023-02-02T14:47:31.813Z"
   },
   {
    "duration": 0,
    "start_time": "2023-02-02T14:47:31.813Z"
   },
   {
    "duration": 0,
    "start_time": "2023-02-02T14:47:31.814Z"
   },
   {
    "duration": 0,
    "start_time": "2023-02-02T14:47:31.815Z"
   },
   {
    "duration": 0,
    "start_time": "2023-02-02T14:47:31.816Z"
   },
   {
    "duration": 0,
    "start_time": "2023-02-02T14:47:31.817Z"
   },
   {
    "duration": 0,
    "start_time": "2023-02-02T14:47:31.818Z"
   },
   {
    "duration": 1,
    "start_time": "2023-02-02T14:47:31.818Z"
   },
   {
    "duration": 0,
    "start_time": "2023-02-02T14:47:31.820Z"
   },
   {
    "duration": 0,
    "start_time": "2023-02-02T14:47:31.820Z"
   },
   {
    "duration": 0,
    "start_time": "2023-02-02T14:47:31.821Z"
   },
   {
    "duration": 0,
    "start_time": "2023-02-02T14:47:31.822Z"
   },
   {
    "duration": 0,
    "start_time": "2023-02-02T14:47:31.823Z"
   },
   {
    "duration": 0,
    "start_time": "2023-02-02T14:47:31.824Z"
   },
   {
    "duration": 0,
    "start_time": "2023-02-02T14:47:31.825Z"
   },
   {
    "duration": 0,
    "start_time": "2023-02-02T14:47:31.826Z"
   },
   {
    "duration": 0,
    "start_time": "2023-02-02T14:47:31.827Z"
   },
   {
    "duration": 0,
    "start_time": "2023-02-02T14:47:31.828Z"
   },
   {
    "duration": 0,
    "start_time": "2023-02-02T14:47:31.829Z"
   },
   {
    "duration": 0,
    "start_time": "2023-02-02T14:47:31.830Z"
   },
   {
    "duration": 0,
    "start_time": "2023-02-02T14:47:31.831Z"
   },
   {
    "duration": 0,
    "start_time": "2023-02-02T14:47:31.832Z"
   },
   {
    "duration": 0,
    "start_time": "2023-02-02T14:47:31.832Z"
   },
   {
    "duration": 0,
    "start_time": "2023-02-02T14:47:31.833Z"
   },
   {
    "duration": 0,
    "start_time": "2023-02-02T14:47:31.834Z"
   },
   {
    "duration": 0,
    "start_time": "2023-02-02T14:47:31.835Z"
   },
   {
    "duration": 0,
    "start_time": "2023-02-02T14:47:31.836Z"
   },
   {
    "duration": 0,
    "start_time": "2023-02-02T14:47:31.837Z"
   },
   {
    "duration": 0,
    "start_time": "2023-02-02T14:47:31.838Z"
   },
   {
    "duration": 0,
    "start_time": "2023-02-02T14:47:31.839Z"
   },
   {
    "duration": 0,
    "start_time": "2023-02-02T14:47:31.840Z"
   },
   {
    "duration": 0,
    "start_time": "2023-02-02T14:47:31.841Z"
   },
   {
    "duration": 0,
    "start_time": "2023-02-02T14:47:31.842Z"
   },
   {
    "duration": 0,
    "start_time": "2023-02-02T14:47:31.842Z"
   },
   {
    "duration": 0,
    "start_time": "2023-02-02T14:47:31.843Z"
   },
   {
    "duration": 0,
    "start_time": "2023-02-02T14:47:31.844Z"
   },
   {
    "duration": 0,
    "start_time": "2023-02-02T14:47:31.846Z"
   },
   {
    "duration": 0,
    "start_time": "2023-02-02T14:47:31.846Z"
   },
   {
    "duration": 0,
    "start_time": "2023-02-02T14:47:31.847Z"
   },
   {
    "duration": 0,
    "start_time": "2023-02-02T14:47:31.848Z"
   },
   {
    "duration": 0,
    "start_time": "2023-02-02T14:47:31.849Z"
   },
   {
    "duration": 0,
    "start_time": "2023-02-02T14:47:31.850Z"
   },
   {
    "duration": 0,
    "start_time": "2023-02-02T14:47:31.851Z"
   },
   {
    "duration": 0,
    "start_time": "2023-02-02T14:47:31.911Z"
   },
   {
    "duration": 0,
    "start_time": "2023-02-02T14:47:31.912Z"
   },
   {
    "duration": 0,
    "start_time": "2023-02-02T14:47:31.913Z"
   },
   {
    "duration": 0,
    "start_time": "2023-02-02T14:47:31.914Z"
   },
   {
    "duration": 0,
    "start_time": "2023-02-02T14:47:31.914Z"
   },
   {
    "duration": 0,
    "start_time": "2023-02-02T14:47:31.915Z"
   },
   {
    "duration": 0,
    "start_time": "2023-02-02T14:47:31.916Z"
   },
   {
    "duration": 15,
    "start_time": "2023-02-02T14:49:36.406Z"
   },
   {
    "duration": 524,
    "start_time": "2023-02-02T14:49:43.386Z"
   },
   {
    "duration": 13,
    "start_time": "2023-02-02T14:49:43.912Z"
   },
   {
    "duration": 34,
    "start_time": "2023-02-02T14:49:43.927Z"
   },
   {
    "duration": 4,
    "start_time": "2023-02-02T14:49:43.963Z"
   },
   {
    "duration": 18,
    "start_time": "2023-02-02T14:49:43.968Z"
   },
   {
    "duration": 21,
    "start_time": "2023-02-02T14:49:43.987Z"
   },
   {
    "duration": 24,
    "start_time": "2023-02-02T14:49:44.010Z"
   },
   {
    "duration": 28,
    "start_time": "2023-02-02T14:49:44.035Z"
   },
   {
    "duration": 4,
    "start_time": "2023-02-02T14:49:44.065Z"
   },
   {
    "duration": 10,
    "start_time": "2023-02-02T14:49:44.071Z"
   },
   {
    "duration": 16,
    "start_time": "2023-02-02T14:49:44.083Z"
   },
   {
    "duration": 27,
    "start_time": "2023-02-02T14:49:44.100Z"
   },
   {
    "duration": 17,
    "start_time": "2023-02-02T14:49:44.129Z"
   },
   {
    "duration": 27,
    "start_time": "2023-02-02T14:49:44.148Z"
   },
   {
    "duration": 40,
    "start_time": "2023-02-02T14:49:44.176Z"
   },
   {
    "duration": 13,
    "start_time": "2023-02-02T14:49:44.217Z"
   },
   {
    "duration": 6,
    "start_time": "2023-02-02T14:49:44.232Z"
   },
   {
    "duration": 15,
    "start_time": "2023-02-02T14:49:44.239Z"
   },
   {
    "duration": 15,
    "start_time": "2023-02-02T14:49:44.255Z"
   },
   {
    "duration": 15,
    "start_time": "2023-02-02T14:49:44.271Z"
   },
   {
    "duration": 11,
    "start_time": "2023-02-02T14:49:44.287Z"
   },
   {
    "duration": 17,
    "start_time": "2023-02-02T14:49:44.300Z"
   },
   {
    "duration": 21,
    "start_time": "2023-02-02T14:49:44.319Z"
   },
   {
    "duration": 14,
    "start_time": "2023-02-02T14:49:44.342Z"
   },
   {
    "duration": 22,
    "start_time": "2023-02-02T14:49:44.358Z"
   },
   {
    "duration": 11,
    "start_time": "2023-02-02T14:49:44.382Z"
   },
   {
    "duration": 25,
    "start_time": "2023-02-02T14:49:44.395Z"
   },
   {
    "duration": 34,
    "start_time": "2023-02-02T14:49:44.425Z"
   },
   {
    "duration": 4,
    "start_time": "2023-02-02T14:49:44.461Z"
   },
   {
    "duration": 27,
    "start_time": "2023-02-02T14:49:44.466Z"
   },
   {
    "duration": 16,
    "start_time": "2023-02-02T14:49:44.494Z"
   },
   {
    "duration": 18,
    "start_time": "2023-02-02T14:49:44.511Z"
   },
   {
    "duration": 23,
    "start_time": "2023-02-02T14:49:44.531Z"
   },
   {
    "duration": 12,
    "start_time": "2023-02-02T14:49:44.555Z"
   },
   {
    "duration": 23,
    "start_time": "2023-02-02T14:49:44.569Z"
   },
   {
    "duration": 19,
    "start_time": "2023-02-02T14:49:44.593Z"
   },
   {
    "duration": 40,
    "start_time": "2023-02-02T14:49:44.613Z"
   },
   {
    "duration": 12,
    "start_time": "2023-02-02T14:49:44.654Z"
   },
   {
    "duration": 38,
    "start_time": "2023-02-02T14:49:44.667Z"
   },
   {
    "duration": 5,
    "start_time": "2023-02-02T14:49:44.707Z"
   },
   {
    "duration": 22,
    "start_time": "2023-02-02T14:49:44.713Z"
   },
   {
    "duration": 26,
    "start_time": "2023-02-02T14:49:44.736Z"
   },
   {
    "duration": 17,
    "start_time": "2023-02-02T14:49:44.763Z"
   },
   {
    "duration": 14,
    "start_time": "2023-02-02T14:49:44.781Z"
   },
   {
    "duration": 21,
    "start_time": "2023-02-02T14:49:44.796Z"
   },
   {
    "duration": 31,
    "start_time": "2023-02-02T14:49:44.818Z"
   },
   {
    "duration": 16,
    "start_time": "2023-02-02T14:49:44.850Z"
   },
   {
    "duration": 20,
    "start_time": "2023-02-02T14:49:44.867Z"
   },
   {
    "duration": 15,
    "start_time": "2023-02-02T14:49:44.889Z"
   },
   {
    "duration": 16,
    "start_time": "2023-02-02T14:49:44.906Z"
   },
   {
    "duration": 20,
    "start_time": "2023-02-02T14:49:44.923Z"
   },
   {
    "duration": 24,
    "start_time": "2023-02-02T14:49:44.945Z"
   },
   {
    "duration": 16,
    "start_time": "2023-02-02T14:49:44.971Z"
   },
   {
    "duration": 25,
    "start_time": "2023-02-02T14:49:44.988Z"
   },
   {
    "duration": 22,
    "start_time": "2023-02-02T14:49:45.014Z"
   },
   {
    "duration": 35,
    "start_time": "2023-02-02T14:49:45.037Z"
   },
   {
    "duration": 17,
    "start_time": "2023-02-02T14:49:45.073Z"
   },
   {
    "duration": 21,
    "start_time": "2023-02-02T14:49:45.091Z"
   },
   {
    "duration": 22,
    "start_time": "2023-02-02T14:49:45.114Z"
   },
   {
    "duration": 23,
    "start_time": "2023-02-02T14:49:45.137Z"
   },
   {
    "duration": 45,
    "start_time": "2023-02-02T14:49:45.161Z"
   },
   {
    "duration": 9,
    "start_time": "2023-02-02T14:49:45.208Z"
   },
   {
    "duration": 48,
    "start_time": "2023-02-02T14:49:45.218Z"
   },
   {
    "duration": 30,
    "start_time": "2023-02-02T14:49:45.267Z"
   },
   {
    "duration": 25,
    "start_time": "2023-02-02T14:49:45.299Z"
   },
   {
    "duration": 8,
    "start_time": "2023-02-02T14:49:45.325Z"
   },
   {
    "duration": 28,
    "start_time": "2023-02-02T14:49:45.335Z"
   }
  ],
  "kernelspec": {
   "display_name": "Python 3 (ipykernel)",
   "language": "python",
   "name": "python3"
  },
  "language_info": {
   "codemirror_mode": {
    "name": "ipython",
    "version": 3
   },
   "file_extension": ".py",
   "mimetype": "text/x-python",
   "name": "python",
   "nbconvert_exporter": "python",
   "pygments_lexer": "ipython3",
   "version": "3.9.5"
  },
  "toc": {
   "base_numbering": 1,
   "nav_menu": {},
   "number_sections": true,
   "sideBar": true,
   "skip_h1_title": true,
   "title_cell": "Table of Contents",
   "title_sidebar": "Contents",
   "toc_cell": false,
   "toc_position": {
    "height": "calc(100% - 180px)",
    "left": "10px",
    "top": "150px",
    "width": "184.188px"
   },
   "toc_section_display": true,
   "toc_window_display": true
  }
 },
 "nbformat": 4,
 "nbformat_minor": 5
}
