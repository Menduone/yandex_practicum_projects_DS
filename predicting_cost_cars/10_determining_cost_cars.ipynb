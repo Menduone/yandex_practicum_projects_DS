{
 "cells": [
  {
   "cell_type": "markdown",
   "metadata": {},
   "source": [
    "# Описание проекта\n",
    "**Определение стоимости автомобилей**"
   ]
  },
  {
   "cell_type": "markdown",
   "metadata": {},
   "source": [
    "Сервис по продаже автомобилей с пробегом `«Не бит, не крашен»` разрабатывает приложение для привлечения новых клиентов. В нём можно быстро узнать рыночную стоимость своего автомобиля. \n",
    "\n",
    "\n",
    "В нашем распоряжении исторические данные: технические характеристики, комплектации и цены автомобилей. Нам нужно построить модель для определения стоимости. \n",
    "\n",
    "Также у нас установлены критерии, которые важны заказчику:\n",
    "\n",
    "- `качество предсказания`;\n",
    "- `скорость предсказания`;\n",
    "- `время обучения`"
   ]
  },
  {
   "cell_type": "markdown",
   "metadata": {},
   "source": [
    "## Подготовка данных"
   ]
  },
  {
   "cell_type": "code",
   "execution_count": 1,
   "metadata": {},
   "outputs": [],
   "source": [
    "import pandas as pd\n",
    "import matplotlib.pyplot as plt\n",
    "import numpy as np\n",
    "from sklearn.tree import DecisionTreeRegressor\n",
    "from sklearn.ensemble import RandomForestRegressor\n",
    "from sklearn.linear_model import LinearRegression\n",
    "from sklearn.dummy import DummyRegressor\n",
    "from catboost import CatBoostRegressor\n",
    "from lightgbm import LGBMRegressor\n",
    "from sklearn.model_selection import train_test_split, GridSearchCV\n",
    "from sklearn.preprocessing import OrdinalEncoder, StandardScaler\n",
    "from sklearn.metrics import mean_squared_error, make_scorer"
   ]
  },
  {
   "cell_type": "code",
   "execution_count": 2,
   "metadata": {},
   "outputs": [
    {
     "data": {
      "text/html": [
       "<div>\n",
       "<style scoped>\n",
       "    .dataframe tbody tr th:only-of-type {\n",
       "        vertical-align: middle;\n",
       "    }\n",
       "\n",
       "    .dataframe tbody tr th {\n",
       "        vertical-align: top;\n",
       "    }\n",
       "\n",
       "    .dataframe thead th {\n",
       "        text-align: right;\n",
       "    }\n",
       "</style>\n",
       "<table border=\"1\" class=\"dataframe\">\n",
       "  <thead>\n",
       "    <tr style=\"text-align: right;\">\n",
       "      <th></th>\n",
       "      <th>DateCrawled</th>\n",
       "      <th>Price</th>\n",
       "      <th>VehicleType</th>\n",
       "      <th>RegistrationYear</th>\n",
       "      <th>Gearbox</th>\n",
       "      <th>Power</th>\n",
       "      <th>Model</th>\n",
       "      <th>Kilometer</th>\n",
       "      <th>RegistrationMonth</th>\n",
       "      <th>FuelType</th>\n",
       "      <th>Brand</th>\n",
       "      <th>NotRepaired</th>\n",
       "      <th>DateCreated</th>\n",
       "      <th>NumberOfPictures</th>\n",
       "      <th>PostalCode</th>\n",
       "      <th>LastSeen</th>\n",
       "    </tr>\n",
       "  </thead>\n",
       "  <tbody>\n",
       "    <tr>\n",
       "      <th>0</th>\n",
       "      <td>2016-03-24 11:52:17</td>\n",
       "      <td>480</td>\n",
       "      <td>NaN</td>\n",
       "      <td>1993</td>\n",
       "      <td>manual</td>\n",
       "      <td>0</td>\n",
       "      <td>golf</td>\n",
       "      <td>150000</td>\n",
       "      <td>0</td>\n",
       "      <td>petrol</td>\n",
       "      <td>volkswagen</td>\n",
       "      <td>NaN</td>\n",
       "      <td>2016-03-24 00:00:00</td>\n",
       "      <td>0</td>\n",
       "      <td>70435</td>\n",
       "      <td>2016-04-07 03:16:57</td>\n",
       "    </tr>\n",
       "    <tr>\n",
       "      <th>1</th>\n",
       "      <td>2016-03-24 10:58:45</td>\n",
       "      <td>18300</td>\n",
       "      <td>coupe</td>\n",
       "      <td>2011</td>\n",
       "      <td>manual</td>\n",
       "      <td>190</td>\n",
       "      <td>NaN</td>\n",
       "      <td>125000</td>\n",
       "      <td>5</td>\n",
       "      <td>gasoline</td>\n",
       "      <td>audi</td>\n",
       "      <td>yes</td>\n",
       "      <td>2016-03-24 00:00:00</td>\n",
       "      <td>0</td>\n",
       "      <td>66954</td>\n",
       "      <td>2016-04-07 01:46:50</td>\n",
       "    </tr>\n",
       "    <tr>\n",
       "      <th>2</th>\n",
       "      <td>2016-03-14 12:52:21</td>\n",
       "      <td>9800</td>\n",
       "      <td>suv</td>\n",
       "      <td>2004</td>\n",
       "      <td>auto</td>\n",
       "      <td>163</td>\n",
       "      <td>grand</td>\n",
       "      <td>125000</td>\n",
       "      <td>8</td>\n",
       "      <td>gasoline</td>\n",
       "      <td>jeep</td>\n",
       "      <td>NaN</td>\n",
       "      <td>2016-03-14 00:00:00</td>\n",
       "      <td>0</td>\n",
       "      <td>90480</td>\n",
       "      <td>2016-04-05 12:47:46</td>\n",
       "    </tr>\n",
       "    <tr>\n",
       "      <th>3</th>\n",
       "      <td>2016-03-17 16:54:04</td>\n",
       "      <td>1500</td>\n",
       "      <td>small</td>\n",
       "      <td>2001</td>\n",
       "      <td>manual</td>\n",
       "      <td>75</td>\n",
       "      <td>golf</td>\n",
       "      <td>150000</td>\n",
       "      <td>6</td>\n",
       "      <td>petrol</td>\n",
       "      <td>volkswagen</td>\n",
       "      <td>no</td>\n",
       "      <td>2016-03-17 00:00:00</td>\n",
       "      <td>0</td>\n",
       "      <td>91074</td>\n",
       "      <td>2016-03-17 17:40:17</td>\n",
       "    </tr>\n",
       "    <tr>\n",
       "      <th>4</th>\n",
       "      <td>2016-03-31 17:25:20</td>\n",
       "      <td>3600</td>\n",
       "      <td>small</td>\n",
       "      <td>2008</td>\n",
       "      <td>manual</td>\n",
       "      <td>69</td>\n",
       "      <td>fabia</td>\n",
       "      <td>90000</td>\n",
       "      <td>7</td>\n",
       "      <td>gasoline</td>\n",
       "      <td>skoda</td>\n",
       "      <td>no</td>\n",
       "      <td>2016-03-31 00:00:00</td>\n",
       "      <td>0</td>\n",
       "      <td>60437</td>\n",
       "      <td>2016-04-06 10:17:21</td>\n",
       "    </tr>\n",
       "  </tbody>\n",
       "</table>\n",
       "</div>"
      ],
      "text/plain": [
       "           DateCrawled  Price VehicleType  RegistrationYear Gearbox  Power  \\\n",
       "0  2016-03-24 11:52:17    480         NaN              1993  manual      0   \n",
       "1  2016-03-24 10:58:45  18300       coupe              2011  manual    190   \n",
       "2  2016-03-14 12:52:21   9800         suv              2004    auto    163   \n",
       "3  2016-03-17 16:54:04   1500       small              2001  manual     75   \n",
       "4  2016-03-31 17:25:20   3600       small              2008  manual     69   \n",
       "\n",
       "   Model  Kilometer  RegistrationMonth  FuelType       Brand NotRepaired  \\\n",
       "0   golf     150000                  0    petrol  volkswagen         NaN   \n",
       "1    NaN     125000                  5  gasoline        audi         yes   \n",
       "2  grand     125000                  8  gasoline        jeep         NaN   \n",
       "3   golf     150000                  6    petrol  volkswagen          no   \n",
       "4  fabia      90000                  7  gasoline       skoda          no   \n",
       "\n",
       "           DateCreated  NumberOfPictures  PostalCode             LastSeen  \n",
       "0  2016-03-24 00:00:00                 0       70435  2016-04-07 03:16:57  \n",
       "1  2016-03-24 00:00:00                 0       66954  2016-04-07 01:46:50  \n",
       "2  2016-03-14 00:00:00                 0       90480  2016-04-05 12:47:46  \n",
       "3  2016-03-17 00:00:00                 0       91074  2016-03-17 17:40:17  \n",
       "4  2016-03-31 00:00:00                 0       60437  2016-04-06 10:17:21  "
      ]
     },
     "execution_count": 2,
     "metadata": {},
     "output_type": "execute_result"
    }
   ],
   "source": [
    "data = pd.read_csv('/datasets/autos.csv')\n",
    "data.head()"
   ]
  },
  {
   "cell_type": "markdown",
   "metadata": {},
   "source": [
    "**Описание данных**\n",
    "\n",
    "**`Признаки`**\n",
    "* `DateCrawled` — дата скачивания анкеты из базы;\n",
    "* `VehicleType` — тип автомобильного кузова;\n",
    "* `RegistrationYear` — год регистрации автомобиля;\n",
    "* `Gearbox` — тип коробки передач;\n",
    "* `Power` — мощность (л. с.);\n",
    "* `Model` — модель автомобиля;\n",
    "* `Kilometer` — пробег (км);\n",
    "* `RegistrationMonth` — месяц регистрации автомобиля;\n",
    "* `FuelType` — тип топлива;\n",
    "* `Brand` — марка автомобиля;\n",
    "* `NotRepaired` — была машина в ремонте или нет;\n",
    "* `DateCreated` — дата создания анкеты;\n",
    "* `NumberOfPictures` — количество фотографий автомобиля;\n",
    "* `PostalCode` — почтовый индекс владельца анкеты (пользователя);\n",
    "* `LastSeen` — дата последней активности пользователя;\n",
    "\n",
    "\n",
    "**`Целевой признак`**\n",
    "* `Price` — цена (евро)\n"
   ]
  },
  {
   "cell_type": "code",
   "execution_count": 3,
   "metadata": {},
   "outputs": [
    {
     "name": "stdout",
     "output_type": "stream",
     "text": [
      "data\n"
     ]
    },
    {
     "data": {
      "text/html": [
       "<div>\n",
       "<style scoped>\n",
       "    .dataframe tbody tr th:only-of-type {\n",
       "        vertical-align: middle;\n",
       "    }\n",
       "\n",
       "    .dataframe tbody tr th {\n",
       "        vertical-align: top;\n",
       "    }\n",
       "\n",
       "    .dataframe thead th {\n",
       "        text-align: right;\n",
       "    }\n",
       "</style>\n",
       "<table border=\"1\" class=\"dataframe\">\n",
       "  <thead>\n",
       "    <tr style=\"text-align: right;\">\n",
       "      <th></th>\n",
       "      <th>DateCrawled</th>\n",
       "      <th>Price</th>\n",
       "      <th>VehicleType</th>\n",
       "      <th>RegistrationYear</th>\n",
       "      <th>Gearbox</th>\n",
       "      <th>Power</th>\n",
       "      <th>Model</th>\n",
       "      <th>Kilometer</th>\n",
       "      <th>RegistrationMonth</th>\n",
       "      <th>FuelType</th>\n",
       "      <th>Brand</th>\n",
       "      <th>NotRepaired</th>\n",
       "      <th>DateCreated</th>\n",
       "      <th>NumberOfPictures</th>\n",
       "      <th>PostalCode</th>\n",
       "      <th>LastSeen</th>\n",
       "    </tr>\n",
       "  </thead>\n",
       "  <tbody>\n",
       "    <tr>\n",
       "      <th>0</th>\n",
       "      <td>2016-03-24 11:52:17</td>\n",
       "      <td>480</td>\n",
       "      <td>NaN</td>\n",
       "      <td>1993</td>\n",
       "      <td>manual</td>\n",
       "      <td>0</td>\n",
       "      <td>golf</td>\n",
       "      <td>150000</td>\n",
       "      <td>0</td>\n",
       "      <td>petrol</td>\n",
       "      <td>volkswagen</td>\n",
       "      <td>NaN</td>\n",
       "      <td>2016-03-24 00:00:00</td>\n",
       "      <td>0</td>\n",
       "      <td>70435</td>\n",
       "      <td>2016-04-07 03:16:57</td>\n",
       "    </tr>\n",
       "    <tr>\n",
       "      <th>1</th>\n",
       "      <td>2016-03-24 10:58:45</td>\n",
       "      <td>18300</td>\n",
       "      <td>coupe</td>\n",
       "      <td>2011</td>\n",
       "      <td>manual</td>\n",
       "      <td>190</td>\n",
       "      <td>NaN</td>\n",
       "      <td>125000</td>\n",
       "      <td>5</td>\n",
       "      <td>gasoline</td>\n",
       "      <td>audi</td>\n",
       "      <td>yes</td>\n",
       "      <td>2016-03-24 00:00:00</td>\n",
       "      <td>0</td>\n",
       "      <td>66954</td>\n",
       "      <td>2016-04-07 01:46:50</td>\n",
       "    </tr>\n",
       "    <tr>\n",
       "      <th>2</th>\n",
       "      <td>2016-03-14 12:52:21</td>\n",
       "      <td>9800</td>\n",
       "      <td>suv</td>\n",
       "      <td>2004</td>\n",
       "      <td>auto</td>\n",
       "      <td>163</td>\n",
       "      <td>grand</td>\n",
       "      <td>125000</td>\n",
       "      <td>8</td>\n",
       "      <td>gasoline</td>\n",
       "      <td>jeep</td>\n",
       "      <td>NaN</td>\n",
       "      <td>2016-03-14 00:00:00</td>\n",
       "      <td>0</td>\n",
       "      <td>90480</td>\n",
       "      <td>2016-04-05 12:47:46</td>\n",
       "    </tr>\n",
       "    <tr>\n",
       "      <th>3</th>\n",
       "      <td>2016-03-17 16:54:04</td>\n",
       "      <td>1500</td>\n",
       "      <td>small</td>\n",
       "      <td>2001</td>\n",
       "      <td>manual</td>\n",
       "      <td>75</td>\n",
       "      <td>golf</td>\n",
       "      <td>150000</td>\n",
       "      <td>6</td>\n",
       "      <td>petrol</td>\n",
       "      <td>volkswagen</td>\n",
       "      <td>no</td>\n",
       "      <td>2016-03-17 00:00:00</td>\n",
       "      <td>0</td>\n",
       "      <td>91074</td>\n",
       "      <td>2016-03-17 17:40:17</td>\n",
       "    </tr>\n",
       "    <tr>\n",
       "      <th>4</th>\n",
       "      <td>2016-03-31 17:25:20</td>\n",
       "      <td>3600</td>\n",
       "      <td>small</td>\n",
       "      <td>2008</td>\n",
       "      <td>manual</td>\n",
       "      <td>69</td>\n",
       "      <td>fabia</td>\n",
       "      <td>90000</td>\n",
       "      <td>7</td>\n",
       "      <td>gasoline</td>\n",
       "      <td>skoda</td>\n",
       "      <td>no</td>\n",
       "      <td>2016-03-31 00:00:00</td>\n",
       "      <td>0</td>\n",
       "      <td>60437</td>\n",
       "      <td>2016-04-06 10:17:21</td>\n",
       "    </tr>\n",
       "  </tbody>\n",
       "</table>\n",
       "</div>"
      ],
      "text/plain": [
       "           DateCrawled  Price VehicleType  RegistrationYear Gearbox  Power  \\\n",
       "0  2016-03-24 11:52:17    480         NaN              1993  manual      0   \n",
       "1  2016-03-24 10:58:45  18300       coupe              2011  manual    190   \n",
       "2  2016-03-14 12:52:21   9800         suv              2004    auto    163   \n",
       "3  2016-03-17 16:54:04   1500       small              2001  manual     75   \n",
       "4  2016-03-31 17:25:20   3600       small              2008  manual     69   \n",
       "\n",
       "   Model  Kilometer  RegistrationMonth  FuelType       Brand NotRepaired  \\\n",
       "0   golf     150000                  0    petrol  volkswagen         NaN   \n",
       "1    NaN     125000                  5  gasoline        audi         yes   \n",
       "2  grand     125000                  8  gasoline        jeep         NaN   \n",
       "3   golf     150000                  6    petrol  volkswagen          no   \n",
       "4  fabia      90000                  7  gasoline       skoda          no   \n",
       "\n",
       "           DateCreated  NumberOfPictures  PostalCode             LastSeen  \n",
       "0  2016-03-24 00:00:00                 0       70435  2016-04-07 03:16:57  \n",
       "1  2016-03-24 00:00:00                 0       66954  2016-04-07 01:46:50  \n",
       "2  2016-03-14 00:00:00                 0       90480  2016-04-05 12:47:46  \n",
       "3  2016-03-17 00:00:00                 0       91074  2016-03-17 17:40:17  \n",
       "4  2016-03-31 00:00:00                 0       60437  2016-04-06 10:17:21  "
      ]
     },
     "metadata": {},
     "output_type": "display_data"
    },
    {
     "name": "stdout",
     "output_type": "stream",
     "text": [
      "Размер data: (354369, 16)\n",
      "\n",
      "Информация о data:\n",
      "\n",
      "<class 'pandas.core.frame.DataFrame'>\n",
      "RangeIndex: 354369 entries, 0 to 354368\n",
      "Data columns (total 16 columns):\n",
      " #   Column             Non-Null Count   Dtype \n",
      "---  ------             --------------   ----- \n",
      " 0   DateCrawled        354369 non-null  object\n",
      " 1   Price              354369 non-null  int64 \n",
      " 2   VehicleType        316879 non-null  object\n",
      " 3   RegistrationYear   354369 non-null  int64 \n",
      " 4   Gearbox            334536 non-null  object\n",
      " 5   Power              354369 non-null  int64 \n",
      " 6   Model              334664 non-null  object\n",
      " 7   Kilometer          354369 non-null  int64 \n",
      " 8   RegistrationMonth  354369 non-null  int64 \n",
      " 9   FuelType           321474 non-null  object\n",
      " 10  Brand              354369 non-null  object\n",
      " 11  NotRepaired        283215 non-null  object\n",
      " 12  DateCreated        354369 non-null  object\n",
      " 13  NumberOfPictures   354369 non-null  int64 \n",
      " 14  PostalCode         354369 non-null  int64 \n",
      " 15  LastSeen           354369 non-null  object\n",
      "dtypes: int64(7), object(9)\n",
      "memory usage: 43.3+ MB\n"
     ]
    },
    {
     "data": {
      "text/plain": [
       "None"
      ]
     },
     "metadata": {},
     "output_type": "display_data"
    },
    {
     "data": {
      "text/html": [
       "<div>\n",
       "<style scoped>\n",
       "    .dataframe tbody tr th:only-of-type {\n",
       "        vertical-align: middle;\n",
       "    }\n",
       "\n",
       "    .dataframe tbody tr th {\n",
       "        vertical-align: top;\n",
       "    }\n",
       "\n",
       "    .dataframe thead th {\n",
       "        text-align: right;\n",
       "    }\n",
       "</style>\n",
       "<table border=\"1\" class=\"dataframe\">\n",
       "  <thead>\n",
       "    <tr style=\"text-align: right;\">\n",
       "      <th></th>\n",
       "      <th>Price</th>\n",
       "      <th>RegistrationYear</th>\n",
       "      <th>Power</th>\n",
       "      <th>Kilometer</th>\n",
       "      <th>RegistrationMonth</th>\n",
       "      <th>NumberOfPictures</th>\n",
       "      <th>PostalCode</th>\n",
       "    </tr>\n",
       "  </thead>\n",
       "  <tbody>\n",
       "    <tr>\n",
       "      <th>count</th>\n",
       "      <td>354369.000000</td>\n",
       "      <td>354369.000000</td>\n",
       "      <td>354369.000000</td>\n",
       "      <td>354369.000000</td>\n",
       "      <td>354369.000000</td>\n",
       "      <td>354369.0</td>\n",
       "      <td>354369.000000</td>\n",
       "    </tr>\n",
       "    <tr>\n",
       "      <th>mean</th>\n",
       "      <td>4416.656776</td>\n",
       "      <td>2004.234448</td>\n",
       "      <td>110.094337</td>\n",
       "      <td>128211.172535</td>\n",
       "      <td>5.714645</td>\n",
       "      <td>0.0</td>\n",
       "      <td>50508.689087</td>\n",
       "    </tr>\n",
       "    <tr>\n",
       "      <th>std</th>\n",
       "      <td>4514.158514</td>\n",
       "      <td>90.227958</td>\n",
       "      <td>189.850405</td>\n",
       "      <td>37905.341530</td>\n",
       "      <td>3.726421</td>\n",
       "      <td>0.0</td>\n",
       "      <td>25783.096248</td>\n",
       "    </tr>\n",
       "    <tr>\n",
       "      <th>min</th>\n",
       "      <td>0.000000</td>\n",
       "      <td>1000.000000</td>\n",
       "      <td>0.000000</td>\n",
       "      <td>5000.000000</td>\n",
       "      <td>0.000000</td>\n",
       "      <td>0.0</td>\n",
       "      <td>1067.000000</td>\n",
       "    </tr>\n",
       "    <tr>\n",
       "      <th>25%</th>\n",
       "      <td>1050.000000</td>\n",
       "      <td>1999.000000</td>\n",
       "      <td>69.000000</td>\n",
       "      <td>125000.000000</td>\n",
       "      <td>3.000000</td>\n",
       "      <td>0.0</td>\n",
       "      <td>30165.000000</td>\n",
       "    </tr>\n",
       "    <tr>\n",
       "      <th>50%</th>\n",
       "      <td>2700.000000</td>\n",
       "      <td>2003.000000</td>\n",
       "      <td>105.000000</td>\n",
       "      <td>150000.000000</td>\n",
       "      <td>6.000000</td>\n",
       "      <td>0.0</td>\n",
       "      <td>49413.000000</td>\n",
       "    </tr>\n",
       "    <tr>\n",
       "      <th>75%</th>\n",
       "      <td>6400.000000</td>\n",
       "      <td>2008.000000</td>\n",
       "      <td>143.000000</td>\n",
       "      <td>150000.000000</td>\n",
       "      <td>9.000000</td>\n",
       "      <td>0.0</td>\n",
       "      <td>71083.000000</td>\n",
       "    </tr>\n",
       "    <tr>\n",
       "      <th>max</th>\n",
       "      <td>20000.000000</td>\n",
       "      <td>9999.000000</td>\n",
       "      <td>20000.000000</td>\n",
       "      <td>150000.000000</td>\n",
       "      <td>12.000000</td>\n",
       "      <td>0.0</td>\n",
       "      <td>99998.000000</td>\n",
       "    </tr>\n",
       "  </tbody>\n",
       "</table>\n",
       "</div>"
      ],
      "text/plain": [
       "               Price  RegistrationYear          Power      Kilometer  \\\n",
       "count  354369.000000     354369.000000  354369.000000  354369.000000   \n",
       "mean     4416.656776       2004.234448     110.094337  128211.172535   \n",
       "std      4514.158514         90.227958     189.850405   37905.341530   \n",
       "min         0.000000       1000.000000       0.000000    5000.000000   \n",
       "25%      1050.000000       1999.000000      69.000000  125000.000000   \n",
       "50%      2700.000000       2003.000000     105.000000  150000.000000   \n",
       "75%      6400.000000       2008.000000     143.000000  150000.000000   \n",
       "max     20000.000000       9999.000000   20000.000000  150000.000000   \n",
       "\n",
       "       RegistrationMonth  NumberOfPictures     PostalCode  \n",
       "count      354369.000000          354369.0  354369.000000  \n",
       "mean            5.714645               0.0   50508.689087  \n",
       "std             3.726421               0.0   25783.096248  \n",
       "min             0.000000               0.0    1067.000000  \n",
       "25%             3.000000               0.0   30165.000000  \n",
       "50%             6.000000               0.0   49413.000000  \n",
       "75%             9.000000               0.0   71083.000000  \n",
       "max            12.000000               0.0   99998.000000  "
      ]
     },
     "metadata": {},
     "output_type": "display_data"
    },
    {
     "name": "stdout",
     "output_type": "stream",
     "text": [
      "Кол-во пропущенных значений в data:\n"
     ]
    },
    {
     "data": {
      "text/plain": [
       "DateCrawled              0\n",
       "Price                    0\n",
       "VehicleType          37490\n",
       "RegistrationYear         0\n",
       "Gearbox              19833\n",
       "Power                    0\n",
       "Model                19705\n",
       "Kilometer                0\n",
       "RegistrationMonth        0\n",
       "FuelType             32895\n",
       "Brand                    0\n",
       "NotRepaired          71154\n",
       "DateCreated              0\n",
       "NumberOfPictures         0\n",
       "PostalCode               0\n",
       "LastSeen                 0\n",
       "dtype: int64"
      ]
     },
     "metadata": {},
     "output_type": "display_data"
    },
    {
     "name": "stdout",
     "output_type": "stream",
     "text": [
      "\n",
      "Кол-во дубликатов в data: 4\n"
     ]
    }
   ],
   "source": [
    "def my_info(x, y):  # аргумент x примет значение сохраненного датасета в переменной;\n",
    "                    # аргумент y примет описательный характер датасета, по которому будет описываться информация\n",
    "    print(y)\n",
    "    display(x.head())\n",
    "    print(f'Размер {y}: {x.shape}')\n",
    "    print()\n",
    "    print(f'Информация о {y}:')\n",
    "    print()\n",
    "    display(x.info())\n",
    "    display(x.describe())\n",
    "    print(f'Кол-во пропущенных значений в {y}:') \n",
    "    display(x.isna().sum())\n",
    "    print()\n",
    "    print(f'Кол-во дубликатов в {y}: {x.duplicated().sum()}')\n",
    "    \n",
    "    \n",
    "my_info(data, 'data')"
   ]
  },
  {
   "cell_type": "markdown",
   "metadata": {},
   "source": [
    "* Для дальнейшей предобработки данных приведем колонки в нижний регистр для удобства (еще создадим размер объектов в начале, чтобы сравнить его с результатом в конце)"
   ]
  },
  {
   "cell_type": "code",
   "execution_count": 4,
   "metadata": {},
   "outputs": [
    {
     "data": {
      "text/html": [
       "<div>\n",
       "<style scoped>\n",
       "    .dataframe tbody tr th:only-of-type {\n",
       "        vertical-align: middle;\n",
       "    }\n",
       "\n",
       "    .dataframe tbody tr th {\n",
       "        vertical-align: top;\n",
       "    }\n",
       "\n",
       "    .dataframe thead th {\n",
       "        text-align: right;\n",
       "    }\n",
       "</style>\n",
       "<table border=\"1\" class=\"dataframe\">\n",
       "  <thead>\n",
       "    <tr style=\"text-align: right;\">\n",
       "      <th></th>\n",
       "      <th>datecrawled</th>\n",
       "      <th>price</th>\n",
       "      <th>vehicletype</th>\n",
       "      <th>registrationyear</th>\n",
       "      <th>gearbox</th>\n",
       "      <th>power</th>\n",
       "      <th>model</th>\n",
       "      <th>kilometer</th>\n",
       "      <th>registrationmonth</th>\n",
       "      <th>fueltype</th>\n",
       "      <th>brand</th>\n",
       "      <th>notrepaired</th>\n",
       "      <th>datecreated</th>\n",
       "      <th>numberofpictures</th>\n",
       "      <th>postalcode</th>\n",
       "      <th>lastseen</th>\n",
       "    </tr>\n",
       "  </thead>\n",
       "  <tbody>\n",
       "    <tr>\n",
       "      <th>0</th>\n",
       "      <td>2016-03-24 11:52:17</td>\n",
       "      <td>480</td>\n",
       "      <td>NaN</td>\n",
       "      <td>1993</td>\n",
       "      <td>manual</td>\n",
       "      <td>0</td>\n",
       "      <td>golf</td>\n",
       "      <td>150000</td>\n",
       "      <td>0</td>\n",
       "      <td>petrol</td>\n",
       "      <td>volkswagen</td>\n",
       "      <td>NaN</td>\n",
       "      <td>2016-03-24 00:00:00</td>\n",
       "      <td>0</td>\n",
       "      <td>70435</td>\n",
       "      <td>2016-04-07 03:16:57</td>\n",
       "    </tr>\n",
       "    <tr>\n",
       "      <th>1</th>\n",
       "      <td>2016-03-24 10:58:45</td>\n",
       "      <td>18300</td>\n",
       "      <td>coupe</td>\n",
       "      <td>2011</td>\n",
       "      <td>manual</td>\n",
       "      <td>190</td>\n",
       "      <td>NaN</td>\n",
       "      <td>125000</td>\n",
       "      <td>5</td>\n",
       "      <td>gasoline</td>\n",
       "      <td>audi</td>\n",
       "      <td>yes</td>\n",
       "      <td>2016-03-24 00:00:00</td>\n",
       "      <td>0</td>\n",
       "      <td>66954</td>\n",
       "      <td>2016-04-07 01:46:50</td>\n",
       "    </tr>\n",
       "    <tr>\n",
       "      <th>2</th>\n",
       "      <td>2016-03-14 12:52:21</td>\n",
       "      <td>9800</td>\n",
       "      <td>suv</td>\n",
       "      <td>2004</td>\n",
       "      <td>auto</td>\n",
       "      <td>163</td>\n",
       "      <td>grand</td>\n",
       "      <td>125000</td>\n",
       "      <td>8</td>\n",
       "      <td>gasoline</td>\n",
       "      <td>jeep</td>\n",
       "      <td>NaN</td>\n",
       "      <td>2016-03-14 00:00:00</td>\n",
       "      <td>0</td>\n",
       "      <td>90480</td>\n",
       "      <td>2016-04-05 12:47:46</td>\n",
       "    </tr>\n",
       "    <tr>\n",
       "      <th>3</th>\n",
       "      <td>2016-03-17 16:54:04</td>\n",
       "      <td>1500</td>\n",
       "      <td>small</td>\n",
       "      <td>2001</td>\n",
       "      <td>manual</td>\n",
       "      <td>75</td>\n",
       "      <td>golf</td>\n",
       "      <td>150000</td>\n",
       "      <td>6</td>\n",
       "      <td>petrol</td>\n",
       "      <td>volkswagen</td>\n",
       "      <td>no</td>\n",
       "      <td>2016-03-17 00:00:00</td>\n",
       "      <td>0</td>\n",
       "      <td>91074</td>\n",
       "      <td>2016-03-17 17:40:17</td>\n",
       "    </tr>\n",
       "    <tr>\n",
       "      <th>4</th>\n",
       "      <td>2016-03-31 17:25:20</td>\n",
       "      <td>3600</td>\n",
       "      <td>small</td>\n",
       "      <td>2008</td>\n",
       "      <td>manual</td>\n",
       "      <td>69</td>\n",
       "      <td>fabia</td>\n",
       "      <td>90000</td>\n",
       "      <td>7</td>\n",
       "      <td>gasoline</td>\n",
       "      <td>skoda</td>\n",
       "      <td>no</td>\n",
       "      <td>2016-03-31 00:00:00</td>\n",
       "      <td>0</td>\n",
       "      <td>60437</td>\n",
       "      <td>2016-04-06 10:17:21</td>\n",
       "    </tr>\n",
       "  </tbody>\n",
       "</table>\n",
       "</div>"
      ],
      "text/plain": [
       "           datecrawled  price vehicletype  registrationyear gearbox  power  \\\n",
       "0  2016-03-24 11:52:17    480         NaN              1993  manual      0   \n",
       "1  2016-03-24 10:58:45  18300       coupe              2011  manual    190   \n",
       "2  2016-03-14 12:52:21   9800         suv              2004    auto    163   \n",
       "3  2016-03-17 16:54:04   1500       small              2001  manual     75   \n",
       "4  2016-03-31 17:25:20   3600       small              2008  manual     69   \n",
       "\n",
       "   model  kilometer  registrationmonth  fueltype       brand notrepaired  \\\n",
       "0   golf     150000                  0    petrol  volkswagen         NaN   \n",
       "1    NaN     125000                  5  gasoline        audi         yes   \n",
       "2  grand     125000                  8  gasoline        jeep         NaN   \n",
       "3   golf     150000                  6    petrol  volkswagen          no   \n",
       "4  fabia      90000                  7  gasoline       skoda          no   \n",
       "\n",
       "           datecreated  numberofpictures  postalcode             lastseen  \n",
       "0  2016-03-24 00:00:00                 0       70435  2016-04-07 03:16:57  \n",
       "1  2016-03-24 00:00:00                 0       66954  2016-04-07 01:46:50  \n",
       "2  2016-03-14 00:00:00                 0       90480  2016-04-05 12:47:46  \n",
       "3  2016-03-17 00:00:00                 0       91074  2016-03-17 17:40:17  \n",
       "4  2016-03-31 00:00:00                 0       60437  2016-04-06 10:17:21  "
      ]
     },
     "execution_count": 4,
     "metadata": {},
     "output_type": "execute_result"
    }
   ],
   "source": [
    "data.columns = data.columns.str.lower()\n",
    "begin_shape = data.shape[0]\n",
    "\n",
    "data.head()"
   ]
  },
  {
   "cell_type": "markdown",
   "metadata": {},
   "source": [
    "* `Выведем дубликаты, а также и долю пропусков в колонках при помощи внедренной функции в созданный датафрейм из пропусков`"
   ]
  },
  {
   "cell_type": "code",
   "execution_count": 5,
   "metadata": {},
   "outputs": [
    {
     "name": "stdout",
     "output_type": "stream",
     "text": [
      "4\n"
     ]
    },
    {
     "data": {
      "text/html": [
       "<div>\n",
       "<style scoped>\n",
       "    .dataframe tbody tr th:only-of-type {\n",
       "        vertical-align: middle;\n",
       "    }\n",
       "\n",
       "    .dataframe tbody tr th {\n",
       "        vertical-align: top;\n",
       "    }\n",
       "\n",
       "    .dataframe thead th {\n",
       "        text-align: right;\n",
       "    }\n",
       "</style>\n",
       "<table border=\"1\" class=\"dataframe\">\n",
       "  <thead>\n",
       "    <tr style=\"text-align: right;\">\n",
       "      <th></th>\n",
       "      <th>datecrawled</th>\n",
       "      <th>price</th>\n",
       "      <th>vehicletype</th>\n",
       "      <th>registrationyear</th>\n",
       "      <th>gearbox</th>\n",
       "      <th>power</th>\n",
       "      <th>model</th>\n",
       "      <th>kilometer</th>\n",
       "      <th>registrationmonth</th>\n",
       "      <th>fueltype</th>\n",
       "      <th>brand</th>\n",
       "      <th>notrepaired</th>\n",
       "      <th>datecreated</th>\n",
       "      <th>numberofpictures</th>\n",
       "      <th>postalcode</th>\n",
       "      <th>lastseen</th>\n",
       "    </tr>\n",
       "  </thead>\n",
       "  <tbody>\n",
       "    <tr>\n",
       "      <th>171088</th>\n",
       "      <td>2016-03-08 18:42:48</td>\n",
       "      <td>1799</td>\n",
       "      <td>coupe</td>\n",
       "      <td>1999</td>\n",
       "      <td>auto</td>\n",
       "      <td>193</td>\n",
       "      <td>clk</td>\n",
       "      <td>20000</td>\n",
       "      <td>7</td>\n",
       "      <td>petrol</td>\n",
       "      <td>mercedes_benz</td>\n",
       "      <td>no</td>\n",
       "      <td>2016-03-08 00:00:00</td>\n",
       "      <td>0</td>\n",
       "      <td>89518</td>\n",
       "      <td>2016-03-09 09:46:57</td>\n",
       "    </tr>\n",
       "    <tr>\n",
       "      <th>231258</th>\n",
       "      <td>2016-03-28 00:56:10</td>\n",
       "      <td>1000</td>\n",
       "      <td>small</td>\n",
       "      <td>2002</td>\n",
       "      <td>manual</td>\n",
       "      <td>83</td>\n",
       "      <td>other</td>\n",
       "      <td>150000</td>\n",
       "      <td>1</td>\n",
       "      <td>petrol</td>\n",
       "      <td>suzuki</td>\n",
       "      <td>no</td>\n",
       "      <td>2016-03-28 00:00:00</td>\n",
       "      <td>0</td>\n",
       "      <td>66589</td>\n",
       "      <td>2016-03-28 08:46:21</td>\n",
       "    </tr>\n",
       "    <tr>\n",
       "      <th>258109</th>\n",
       "      <td>2016-04-03 09:01:15</td>\n",
       "      <td>4699</td>\n",
       "      <td>coupe</td>\n",
       "      <td>2003</td>\n",
       "      <td>auto</td>\n",
       "      <td>218</td>\n",
       "      <td>clk</td>\n",
       "      <td>125000</td>\n",
       "      <td>6</td>\n",
       "      <td>petrol</td>\n",
       "      <td>mercedes_benz</td>\n",
       "      <td>yes</td>\n",
       "      <td>2016-04-03 00:00:00</td>\n",
       "      <td>0</td>\n",
       "      <td>75196</td>\n",
       "      <td>2016-04-07 09:44:54</td>\n",
       "    </tr>\n",
       "    <tr>\n",
       "      <th>325651</th>\n",
       "      <td>2016-03-18 18:46:15</td>\n",
       "      <td>1999</td>\n",
       "      <td>wagon</td>\n",
       "      <td>2001</td>\n",
       "      <td>manual</td>\n",
       "      <td>131</td>\n",
       "      <td>passat</td>\n",
       "      <td>150000</td>\n",
       "      <td>7</td>\n",
       "      <td>gasoline</td>\n",
       "      <td>volkswagen</td>\n",
       "      <td>no</td>\n",
       "      <td>2016-03-18 00:00:00</td>\n",
       "      <td>0</td>\n",
       "      <td>36391</td>\n",
       "      <td>2016-03-18 18:46:15</td>\n",
       "    </tr>\n",
       "  </tbody>\n",
       "</table>\n",
       "</div>"
      ],
      "text/plain": [
       "                datecrawled  price vehicletype  registrationyear gearbox  \\\n",
       "171088  2016-03-08 18:42:48   1799       coupe              1999    auto   \n",
       "231258  2016-03-28 00:56:10   1000       small              2002  manual   \n",
       "258109  2016-04-03 09:01:15   4699       coupe              2003    auto   \n",
       "325651  2016-03-18 18:46:15   1999       wagon              2001  manual   \n",
       "\n",
       "        power   model  kilometer  registrationmonth  fueltype          brand  \\\n",
       "171088    193     clk      20000                  7    petrol  mercedes_benz   \n",
       "231258     83   other     150000                  1    petrol         suzuki   \n",
       "258109    218     clk     125000                  6    petrol  mercedes_benz   \n",
       "325651    131  passat     150000                  7  gasoline     volkswagen   \n",
       "\n",
       "       notrepaired          datecreated  numberofpictures  postalcode  \\\n",
       "171088          no  2016-03-08 00:00:00                 0       89518   \n",
       "231258          no  2016-03-28 00:00:00                 0       66589   \n",
       "258109         yes  2016-04-03 00:00:00                 0       75196   \n",
       "325651          no  2016-03-18 00:00:00                 0       36391   \n",
       "\n",
       "                   lastseen  \n",
       "171088  2016-03-09 09:46:57  \n",
       "231258  2016-03-28 08:46:21  \n",
       "258109  2016-04-07 09:44:54  \n",
       "325651  2016-03-18 18:46:15  "
      ]
     },
     "execution_count": 5,
     "metadata": {},
     "output_type": "execute_result"
    }
   ],
   "source": [
    "print(data.duplicated().sum())\n",
    "data[data.duplicated()]"
   ]
  },
  {
   "cell_type": "code",
   "execution_count": 6,
   "metadata": {},
   "outputs": [
    {
     "data": {
      "text/html": [
       "<div>\n",
       "<style scoped>\n",
       "    .dataframe tbody tr th:only-of-type {\n",
       "        vertical-align: middle;\n",
       "    }\n",
       "\n",
       "    .dataframe tbody tr th {\n",
       "        vertical-align: top;\n",
       "    }\n",
       "\n",
       "    .dataframe thead th {\n",
       "        text-align: right;\n",
       "    }\n",
       "</style>\n",
       "<table border=\"1\" class=\"dataframe\">\n",
       "  <thead>\n",
       "    <tr style=\"text-align: right;\">\n",
       "      <th></th>\n",
       "      <th>isna</th>\n",
       "    </tr>\n",
       "  </thead>\n",
       "  <tbody>\n",
       "    <tr>\n",
       "      <th>vehicletype</th>\n",
       "      <td>10.58%</td>\n",
       "    </tr>\n",
       "    <tr>\n",
       "      <th>gearbox</th>\n",
       "      <td>5.60%</td>\n",
       "    </tr>\n",
       "    <tr>\n",
       "      <th>model</th>\n",
       "      <td>5.56%</td>\n",
       "    </tr>\n",
       "    <tr>\n",
       "      <th>fueltype</th>\n",
       "      <td>9.28%</td>\n",
       "    </tr>\n",
       "    <tr>\n",
       "      <th>notrepaired</th>\n",
       "      <td>20.08%</td>\n",
       "    </tr>\n",
       "  </tbody>\n",
       "</table>\n",
       "</div>"
      ],
      "text/plain": [
       "               isna\n",
       "vehicletype  10.58%\n",
       "gearbox       5.60%\n",
       "model         5.56%\n",
       "fueltype      9.28%\n",
       "notrepaired  20.08%"
      ]
     },
     "execution_count": 6,
     "metadata": {},
     "output_type": "execute_result"
    }
   ],
   "source": [
    "columns_isna = pd.DataFrame(data[['vehicletype', 'gearbox', 'model', 'fueltype', 'notrepaired']].isna().mean())\n",
    "columns_isna.columns = ['isna']\n",
    "\n",
    "def my_func(x):\n",
    "    return f'{x:.2%}'\n",
    "\n",
    "columns_isna['isna'] = columns_isna['isna'].apply(my_func)\n",
    "columns_isna"
   ]
  },
  {
   "cell_type": "markdown",
   "metadata": {},
   "source": [
    "* Получились достаточно большие доли пропусков в колонках. Особенно в колонке `'notrepaired'` более **20%**. Это большие доли, чтобы их удалять. А так как мы не можем никак их воспроизвести, то поставим на место пропусков заглушку - **unknown**\n",
    "* Также избавимся от дубликатов"
   ]
  },
  {
   "cell_type": "code",
   "execution_count": 7,
   "metadata": {},
   "outputs": [
    {
     "data": {
      "text/plain": [
       "0"
      ]
     },
     "execution_count": 7,
     "metadata": {},
     "output_type": "execute_result"
    }
   ],
   "source": [
    "data = data.drop_duplicates().reset_index(drop=True)\n",
    "data.duplicated().sum()"
   ]
  },
  {
   "cell_type": "code",
   "execution_count": 8,
   "metadata": {},
   "outputs": [
    {
     "data": {
      "text/plain": [
       "vehicletype    0\n",
       "gearbox        0\n",
       "model          0\n",
       "fueltype       0\n",
       "notrepaired    0\n",
       "dtype: int64"
      ]
     },
     "execution_count": 8,
     "metadata": {},
     "output_type": "execute_result"
    }
   ],
   "source": [
    "data[['vehicletype', 'gearbox', 'model', 'fueltype', 'notrepaired']] = data[['vehicletype', \n",
    "                                                                             'gearbox', 'model', \n",
    "                                                                             'fueltype', \n",
    "                                                                             'notrepaired']].fillna('unknown')\n",
    "\n",
    "data[['vehicletype', 'gearbox', 'model', 'fueltype', 'notrepaired']].isna().sum()"
   ]
  },
  {
   "cell_type": "code",
   "execution_count": 9,
   "metadata": {},
   "outputs": [
    {
     "data": {
      "text/html": [
       "<div>\n",
       "<style scoped>\n",
       "    .dataframe tbody tr th:only-of-type {\n",
       "        vertical-align: middle;\n",
       "    }\n",
       "\n",
       "    .dataframe tbody tr th {\n",
       "        vertical-align: top;\n",
       "    }\n",
       "\n",
       "    .dataframe thead th {\n",
       "        text-align: right;\n",
       "    }\n",
       "</style>\n",
       "<table border=\"1\" class=\"dataframe\">\n",
       "  <thead>\n",
       "    <tr style=\"text-align: right;\">\n",
       "      <th></th>\n",
       "      <th>gearbox</th>\n",
       "    </tr>\n",
       "  </thead>\n",
       "  <tbody>\n",
       "    <tr>\n",
       "      <th>manual</th>\n",
       "      <td>268249</td>\n",
       "    </tr>\n",
       "    <tr>\n",
       "      <th>auto</th>\n",
       "      <td>66283</td>\n",
       "    </tr>\n",
       "    <tr>\n",
       "      <th>unknown</th>\n",
       "      <td>19833</td>\n",
       "    </tr>\n",
       "  </tbody>\n",
       "</table>\n",
       "</div>"
      ],
      "text/plain": [
       "         gearbox\n",
       "manual    268249\n",
       "auto       66283\n",
       "unknown    19833"
      ]
     },
     "execution_count": 9,
     "metadata": {},
     "output_type": "execute_result"
    }
   ],
   "source": [
    "data['gearbox'].value_counts().to_frame()"
   ]
  },
  {
   "cell_type": "markdown",
   "metadata": {},
   "source": [
    "**Теперь проверим датасет на аномальные значения**\n",
    "\n",
    "* Создадим срез из количественных колонок датасета;\n",
    "* Создадим функцию, которая будет выводить диаграмму размаха и описание данной колонки. С ее помощью посмотрим на выбросы и аномальные значения"
   ]
  },
  {
   "cell_type": "code",
   "execution_count": 10,
   "metadata": {
    "scrolled": false
   },
   "outputs": [
    {
     "name": "stdout",
     "output_type": "stream",
     "text": [
      "Признак: price\n",
      "\n",
      "count    354365.000000\n",
      "mean       4416.679830\n",
      "std        4514.176349\n",
      "min           0.000000\n",
      "25%        1050.000000\n",
      "50%        2700.000000\n",
      "75%        6400.000000\n",
      "max       20000.000000\n",
      "Name: price, dtype: float64\n"
     ]
    },
    {
     "data": {
      "image/png": "[encoded data removed]",
      "text/plain": [
       "<Figure size 576x360 with 1 Axes>"
      ]
     },
     "metadata": {
      "needs_background": "light"
     },
     "output_type": "display_data"
    },
    {
     "name": "stdout",
     "output_type": "stream",
     "text": [
      "Признак: registrationyear\n",
      "\n",
      "count    354365.000000\n",
      "mean       2004.234481\n",
      "std          90.228466\n",
      "min        1000.000000\n",
      "25%        1999.000000\n",
      "50%        2003.000000\n",
      "75%        2008.000000\n",
      "max        9999.000000\n",
      "Name: registrationyear, dtype: float64\n"
     ]
    },
    {
     "data": {
      "image/png": "[encoded data removed]",
      "text/plain": [
       "<Figure size 576x360 with 1 Axes>"
      ]
     },
     "metadata": {
      "needs_background": "light"
     },
     "output_type": "display_data"
    },
    {
     "name": "stdout",
     "output_type": "stream",
     "text": [
      "Признак: power\n",
      "\n",
      "count    354365.000000\n",
      "mean        110.093816\n",
      "std         189.851330\n",
      "min           0.000000\n",
      "25%          69.000000\n",
      "50%         105.000000\n",
      "75%         143.000000\n",
      "max       20000.000000\n",
      "Name: power, dtype: float64\n"
     ]
    },
    {
     "data": {
      "image/png": "[encoded data removed]",
      "text/plain": [
       "<Figure size 576x360 with 1 Axes>"
      ]
     },
     "metadata": {
      "needs_background": "light"
     },
     "output_type": "display_data"
    },
    {
     "name": "stdout",
     "output_type": "stream",
     "text": [
      "Признак: kilometer\n",
      "\n",
      "count    354365.000000\n",
      "mean     128211.363989\n",
      "std       37905.083858\n",
      "min        5000.000000\n",
      "25%      125000.000000\n",
      "50%      150000.000000\n",
      "75%      150000.000000\n",
      "max      150000.000000\n",
      "Name: kilometer, dtype: float64\n"
     ]
    },
    {
     "data": {
      "image/png": "[encoded data removed]",
      "text/plain": [
       "<Figure size 576x360 with 1 Axes>"
      ]
     },
     "metadata": {
      "needs_background": "light"
     },
     "output_type": "display_data"
    },
    {
     "name": "stdout",
     "output_type": "stream",
     "text": [
      "Признак: registrationmonth\n",
      "\n",
      "count    354365.000000\n",
      "mean          5.714650\n",
      "std           3.726432\n",
      "min           0.000000\n",
      "25%           3.000000\n",
      "50%           6.000000\n",
      "75%           9.000000\n",
      "max          12.000000\n",
      "Name: registrationmonth, dtype: float64\n"
     ]
    },
    {
     "data": {
      "image/png": "[encoded data removed]",
      "text/plain": [
       "<Figure size 576x360 with 1 Axes>"
      ]
     },
     "metadata": {
      "needs_background": "light"
     },
     "output_type": "display_data"
    },
    {
     "name": "stdout",
     "output_type": "stream",
     "text": [
      "Признак: numberofpictures\n",
      "\n",
      "count    354365.0\n",
      "mean          0.0\n",
      "std           0.0\n",
      "min           0.0\n",
      "25%           0.0\n",
      "50%           0.0\n",
      "75%           0.0\n",
      "max           0.0\n",
      "Name: numberofpictures, dtype: float64\n"
     ]
    },
    {
     "data": {
      "image/png": "[encoded data removed]",
      "text/plain": [
       "<Figure size 576x360 with 1 Axes>"
      ]
     },
     "metadata": {
      "needs_background": "light"
     },
     "output_type": "display_data"
    }
   ],
   "source": [
    "numeric_columns = data[['price', 'registrationyear', 'power', 'kilometer', \n",
    "                        'registrationmonth', 'numberofpictures']]\n",
    "\n",
    "def boxplot(data):\n",
    "    \n",
    "    for i in numeric_columns.columns:\n",
    "        \n",
    "        data.boxplot(i, figsize=(8, 5))\n",
    "        \n",
    "        print(f'Признак: {i}')\n",
    "        print()\n",
    "        print(data[i].describe())\n",
    "        \n",
    "        plt.title(i, fontweight='bold', fontsize=14)\n",
    "        plt.show();\n",
    "        \n",
    "boxplot(data)"
   ]
  },
  {
   "cell_type": "code",
   "execution_count": 11,
   "metadata": {},
   "outputs": [
    {
     "data": {
      "text/plain": [
       "10772"
      ]
     },
     "metadata": {},
     "output_type": "display_data"
    },
    {
     "name": "stdout",
     "output_type": "stream",
     "text": [
      "354365\n",
      "3.04 %\n"
     ]
    }
   ],
   "source": [
    "#data.plot(y='price', kind='hist', histtype='step', bins=50, figsize=(10, 7));\n",
    "display(data.loc[data['price'] == 0, 'price'].count())\n",
    "print(data['price'].count())\n",
    "print(round((10772 / 354365) * 100, 2), '%')"
   ]
  },
  {
   "cell_type": "code",
   "execution_count": 12,
   "metadata": {},
   "outputs": [
    {
     "data": {
      "text/html": [
       "<div>\n",
       "<style scoped>\n",
       "    .dataframe tbody tr th:only-of-type {\n",
       "        vertical-align: middle;\n",
       "    }\n",
       "\n",
       "    .dataframe tbody tr th {\n",
       "        vertical-align: top;\n",
       "    }\n",
       "\n",
       "    .dataframe thead th {\n",
       "        text-align: right;\n",
       "    }\n",
       "</style>\n",
       "<table border=\"1\" class=\"dataframe\">\n",
       "  <thead>\n",
       "    <tr style=\"text-align: right;\">\n",
       "      <th></th>\n",
       "      <th>price</th>\n",
       "    </tr>\n",
       "    <tr>\n",
       "      <th>price</th>\n",
       "      <th></th>\n",
       "    </tr>\n",
       "  </thead>\n",
       "  <tbody>\n",
       "    <tr>\n",
       "      <th>0</th>\n",
       "      <td>10772</td>\n",
       "    </tr>\n",
       "    <tr>\n",
       "      <th>1</th>\n",
       "      <td>1189</td>\n",
       "    </tr>\n",
       "    <tr>\n",
       "      <th>2</th>\n",
       "      <td>12</td>\n",
       "    </tr>\n",
       "    <tr>\n",
       "      <th>3</th>\n",
       "      <td>8</td>\n",
       "    </tr>\n",
       "    <tr>\n",
       "      <th>4</th>\n",
       "      <td>1</td>\n",
       "    </tr>\n",
       "    <tr>\n",
       "      <th>...</th>\n",
       "      <td>...</td>\n",
       "    </tr>\n",
       "    <tr>\n",
       "      <th>19995</th>\n",
       "      <td>10</td>\n",
       "    </tr>\n",
       "    <tr>\n",
       "      <th>19997</th>\n",
       "      <td>1</td>\n",
       "    </tr>\n",
       "    <tr>\n",
       "      <th>19998</th>\n",
       "      <td>6</td>\n",
       "    </tr>\n",
       "    <tr>\n",
       "      <th>19999</th>\n",
       "      <td>278</td>\n",
       "    </tr>\n",
       "    <tr>\n",
       "      <th>20000</th>\n",
       "      <td>268</td>\n",
       "    </tr>\n",
       "  </tbody>\n",
       "</table>\n",
       "<p>3731 rows × 1 columns</p>\n",
       "</div>"
      ],
      "text/plain": [
       "       price\n",
       "price       \n",
       "0      10772\n",
       "1       1189\n",
       "2         12\n",
       "3          8\n",
       "4          1\n",
       "...      ...\n",
       "19995     10\n",
       "19997      1\n",
       "19998      6\n",
       "19999    278\n",
       "20000    268\n",
       "\n",
       "[3731 rows x 1 columns]"
      ]
     },
     "metadata": {},
     "output_type": "display_data"
    },
    {
     "data": {
      "text/plain": [
       "88744"
      ]
     },
     "execution_count": 12,
     "metadata": {},
     "output_type": "execute_result"
    }
   ],
   "source": [
    "display(data.groupby(data['price'].sort_values())['price'].agg('count').to_frame())\n",
    "data.loc[(data['price'] >= 0)&(data['price'] <= 1050), 'price'].count() # смотрим до среднего значения"
   ]
  },
  {
   "cell_type": "markdown",
   "metadata": {},
   "source": [
    "* Обнаружили, что **кол-во продаж за 0 евро** составляет около **3%** от общего числа. Также присутствуют данные о продажах и за 1 евро. Посмотрим на распределение **90%** значений, то есть с 0.05 по 0.95 квантиля"
   ]
  },
  {
   "cell_type": "code",
   "execution_count": 13,
   "metadata": {},
   "outputs": [
    {
     "data": {
      "text/plain": [
       "0.05      200.0\n",
       "0.95    14600.0\n",
       "Name: price, dtype: float64"
      ]
     },
     "execution_count": 13,
     "metadata": {},
     "output_type": "execute_result"
    }
   ],
   "source": [
    "data['price'].quantile([0.05, 0.95])"
   ]
  },
  {
   "cell_type": "code",
   "execution_count": 14,
   "metadata": {},
   "outputs": [
    {
     "data": {
      "text/plain": [
       "319251"
      ]
     },
     "metadata": {},
     "output_type": "display_data"
    },
    {
     "name": "stdout",
     "output_type": "stream",
     "text": [
      "9.91 %\n"
     ]
    }
   ],
   "source": [
    "display(data.loc[(data['price'] >= 200)&(data['price'] <= 14600), 'price'].count())\n",
    "print(round( ((abs(319251 - 354365)) / 354365) * 100, 2), '%')"
   ]
  },
  {
   "cell_type": "code",
   "execution_count": 15,
   "metadata": {},
   "outputs": [
    {
     "data": {
      "text/plain": [
       "19448"
      ]
     },
     "execution_count": 15,
     "metadata": {},
     "output_type": "execute_result"
    }
   ],
   "source": [
    "data.query('price <= 200')['price'].count()"
   ]
  },
  {
   "cell_type": "markdown",
   "metadata": {},
   "source": [
    "* Высчитали процент строк, который не входит в этот **90%** диапазон значений. По диаграмме размаха, мы видим, что аномалии присутствуют около 14600. Но это слишком много данных, чтобы удалять их. Ставим цену минимальную 200 евро по 5-ому квантилю"
   ]
  },
  {
   "cell_type": "code",
   "execution_count": 16,
   "metadata": {},
   "outputs": [
    {
     "data": {
      "text/plain": [
       "count    336903.000000\n",
       "mean       4643.642063\n",
       "std        4515.355328\n",
       "min         200.000000\n",
       "25%        1250.000000\n",
       "50%        2950.000000\n",
       "75%        6650.000000\n",
       "max       20000.000000\n",
       "Name: price, dtype: float64"
      ]
     },
     "execution_count": 16,
     "metadata": {},
     "output_type": "execute_result"
    }
   ],
   "source": [
    "data = data.query('price >= 200').reset_index(drop=True)\n",
    "data['price'].describe()"
   ]
  },
  {
   "cell_type": "markdown",
   "metadata": {},
   "source": [
    "* Следующий признак `'registrationyear'`. **Очень много выбросов**. Наблюдаем годы продаж машин, когда было еще Монголо-татарское иго. Видимо, так оно и захватило большую часть Евразии. Конечно, эти года нужно устранить"
   ]
  },
  {
   "cell_type": "code",
   "execution_count": 17,
   "metadata": {},
   "outputs": [
    {
     "data": {
      "text/plain": [
       "array([1993, 2011, 2004, 2001, 2008, 1995, 2014, 1998, 2005, 1910, 2016,\n",
       "       2007, 2009, 2002, 2018, 1997, 1990, 2017, 1981, 2003, 1994, 1991,\n",
       "       1984, 2006, 1999, 2012, 2010, 2000, 1992, 2013, 1996, 1989, 2015,\n",
       "       1985, 1982, 1976, 1983, 1973, 1969, 1971, 1987, 1988, 1980, 1970,\n",
       "       1986, 1965, 1945, 1925, 1974, 1979, 1955, 1978, 1972, 1968, 1977,\n",
       "       1961, 1966, 1975, 1963, 1964, 1960, 1958, 1967, 1956, 3200, 1941,\n",
       "       9999, 8888, 1500, 2200, 4100, 1962, 1929, 1957, 1940, 2066, 1949,\n",
       "       2019, 1937, 1951, 1800, 1959, 1953, 1954, 1234, 5300, 9000, 2900,\n",
       "       6000, 5900, 1000, 5911, 1400, 5000, 4000, 1948, 1952, 8500, 1932,\n",
       "       1950, 3700, 3800, 4800, 1942, 7000, 1935, 1933, 1936, 3000, 1923,\n",
       "       2290, 1930, 1001, 9450, 1944, 2500, 1943, 1938, 1934, 1928, 5555,\n",
       "       1600, 1111, 1039, 2800, 1931, 4500, 1602, 7800, 1947, 1927, 7100,\n",
       "       1300, 8200, 1946])"
      ]
     },
     "execution_count": 17,
     "metadata": {},
     "output_type": "execute_result"
    }
   ],
   "source": [
    "data['registrationyear'].unique()"
   ]
  },
  {
   "cell_type": "markdown",
   "metadata": {},
   "source": [
    "* Мы можем по признаку `'datacrawled'` выявить дату скачивания анкеты, и таким образом установить максимальную дату поколения машины, то есть год, в который были выгружены эти данные, и соответственно, машина не может быть старше выгруженных в интернет данных. Минимум мы проверить, к сожалению, не можем, так как выгрузить можно было их в любое время. \n",
    "\n",
    "* Создание первой машины `29 января 1886`. Не будем вдаваться в подробности, ограничим этим годом"
   ]
  },
  {
   "cell_type": "code",
   "execution_count": 18,
   "metadata": {},
   "outputs": [
    {
     "data": {
      "text/plain": [
       "'2016-04-07 14:36:58'"
      ]
     },
     "execution_count": 18,
     "metadata": {},
     "output_type": "execute_result"
    }
   ],
   "source": [
    "data['datecrawled'].max()"
   ]
  },
  {
   "cell_type": "code",
   "execution_count": 19,
   "metadata": {},
   "outputs": [
    {
     "data": {
      "text/html": [
       "<div>\n",
       "<style scoped>\n",
       "    .dataframe tbody tr th:only-of-type {\n",
       "        vertical-align: middle;\n",
       "    }\n",
       "\n",
       "    .dataframe tbody tr th {\n",
       "        vertical-align: top;\n",
       "    }\n",
       "\n",
       "    .dataframe thead th {\n",
       "        text-align: right;\n",
       "    }\n",
       "</style>\n",
       "<table border=\"1\" class=\"dataframe\">\n",
       "  <thead>\n",
       "    <tr style=\"text-align: right;\">\n",
       "      <th></th>\n",
       "      <th>price</th>\n",
       "      <th>registrationyear</th>\n",
       "      <th>power</th>\n",
       "      <th>kilometer</th>\n",
       "      <th>registrationmonth</th>\n",
       "      <th>numberofpictures</th>\n",
       "      <th>postalcode</th>\n",
       "    </tr>\n",
       "  </thead>\n",
       "  <tbody>\n",
       "    <tr>\n",
       "      <th>count</th>\n",
       "      <td>323248.000000</td>\n",
       "      <td>323248.000000</td>\n",
       "      <td>323248.000000</td>\n",
       "      <td>323248.000000</td>\n",
       "      <td>323248.000000</td>\n",
       "      <td>323248.0</td>\n",
       "      <td>323248.000000</td>\n",
       "    </tr>\n",
       "    <tr>\n",
       "      <th>mean</th>\n",
       "      <td>4697.856107</td>\n",
       "      <td>2002.676716</td>\n",
       "      <td>113.080341</td>\n",
       "      <td>128329.796317</td>\n",
       "      <td>5.866038</td>\n",
       "      <td>0.0</td>\n",
       "      <td>50831.214102</td>\n",
       "    </tr>\n",
       "    <tr>\n",
       "      <th>std</th>\n",
       "      <td>4546.120155</td>\n",
       "      <td>6.832733</td>\n",
       "      <td>184.844812</td>\n",
       "      <td>37184.272709</td>\n",
       "      <td>3.659752</td>\n",
       "      <td>0.0</td>\n",
       "      <td>25731.668246</td>\n",
       "    </tr>\n",
       "    <tr>\n",
       "      <th>min</th>\n",
       "      <td>200.000000</td>\n",
       "      <td>1910.000000</td>\n",
       "      <td>0.000000</td>\n",
       "      <td>5000.000000</td>\n",
       "      <td>0.000000</td>\n",
       "      <td>0.0</td>\n",
       "      <td>1067.000000</td>\n",
       "    </tr>\n",
       "    <tr>\n",
       "      <th>25%</th>\n",
       "      <td>1265.000000</td>\n",
       "      <td>1999.000000</td>\n",
       "      <td>75.000000</td>\n",
       "      <td>125000.000000</td>\n",
       "      <td>3.000000</td>\n",
       "      <td>0.0</td>\n",
       "      <td>30539.000000</td>\n",
       "    </tr>\n",
       "    <tr>\n",
       "      <th>50%</th>\n",
       "      <td>2999.000000</td>\n",
       "      <td>2003.000000</td>\n",
       "      <td>105.000000</td>\n",
       "      <td>150000.000000</td>\n",
       "      <td>6.000000</td>\n",
       "      <td>0.0</td>\n",
       "      <td>49661.000000</td>\n",
       "    </tr>\n",
       "    <tr>\n",
       "      <th>75%</th>\n",
       "      <td>6800.000000</td>\n",
       "      <td>2007.000000</td>\n",
       "      <td>143.000000</td>\n",
       "      <td>150000.000000</td>\n",
       "      <td>9.000000</td>\n",
       "      <td>0.0</td>\n",
       "      <td>71364.000000</td>\n",
       "    </tr>\n",
       "    <tr>\n",
       "      <th>max</th>\n",
       "      <td>20000.000000</td>\n",
       "      <td>2016.000000</td>\n",
       "      <td>20000.000000</td>\n",
       "      <td>150000.000000</td>\n",
       "      <td>12.000000</td>\n",
       "      <td>0.0</td>\n",
       "      <td>99998.000000</td>\n",
       "    </tr>\n",
       "  </tbody>\n",
       "</table>\n",
       "</div>"
      ],
      "text/plain": [
       "               price  registrationyear          power      kilometer  \\\n",
       "count  323248.000000     323248.000000  323248.000000  323248.000000   \n",
       "mean     4697.856107       2002.676716     113.080341  128329.796317   \n",
       "std      4546.120155          6.832733     184.844812   37184.272709   \n",
       "min       200.000000       1910.000000       0.000000    5000.000000   \n",
       "25%      1265.000000       1999.000000      75.000000  125000.000000   \n",
       "50%      2999.000000       2003.000000     105.000000  150000.000000   \n",
       "75%      6800.000000       2007.000000     143.000000  150000.000000   \n",
       "max     20000.000000       2016.000000   20000.000000  150000.000000   \n",
       "\n",
       "       registrationmonth  numberofpictures     postalcode  \n",
       "count      323248.000000          323248.0  323248.000000  \n",
       "mean            5.866038               0.0   50831.214102  \n",
       "std             3.659752               0.0   25731.668246  \n",
       "min             0.000000               0.0    1067.000000  \n",
       "25%             3.000000               0.0   30539.000000  \n",
       "50%             6.000000               0.0   49661.000000  \n",
       "75%             9.000000               0.0   71364.000000  \n",
       "max            12.000000               0.0   99998.000000  "
      ]
     },
     "execution_count": 19,
     "metadata": {},
     "output_type": "execute_result"
    }
   ],
   "source": [
    "data = data.loc[(data['registrationyear'] >= 1886)&(data['registrationyear'] <= 2016), :].reset_index(drop=True)\n",
    "data.describe()"
   ]
  },
  {
   "cell_type": "code",
   "execution_count": 20,
   "metadata": {},
   "outputs": [
    {
     "data": {
      "text/plain": [
       "0.05    1993.0\n",
       "0.95    2013.0\n",
       "Name: registrationyear, dtype: float64"
      ]
     },
     "execution_count": 20,
     "metadata": {},
     "output_type": "execute_result"
    }
   ],
   "source": [
    "data['registrationyear'].quantile([0.05, 0.95])"
   ]
  },
  {
   "cell_type": "markdown",
   "metadata": {},
   "source": [
    "* Наблюдаем выбросы, но не уверены, как может повлиять на качество модели. Оставим, как есть, так как снова много данных\n",
    "\n",
    "\n",
    "* Следующий признак `power`. Здесь наблюдаются очень большие значения похожие на аномальные. Опираясь на информацию за 2016 год (https://www.lowsound.ru/samaya-bystraya-mashina-v-mire-2016-goda.html), **самым мощным (л.с.) на 2016 является 1250 л. с.**"
   ]
  },
  {
   "cell_type": "code",
   "execution_count": 21,
   "metadata": {},
   "outputs": [
    {
     "data": {
      "text/html": [
       "<div>\n",
       "<style scoped>\n",
       "    .dataframe tbody tr th:only-of-type {\n",
       "        vertical-align: middle;\n",
       "    }\n",
       "\n",
       "    .dataframe tbody tr th {\n",
       "        vertical-align: top;\n",
       "    }\n",
       "\n",
       "    .dataframe thead th {\n",
       "        text-align: right;\n",
       "    }\n",
       "</style>\n",
       "<table border=\"1\" class=\"dataframe\">\n",
       "  <thead>\n",
       "    <tr style=\"text-align: right;\">\n",
       "      <th></th>\n",
       "      <th>power</th>\n",
       "    </tr>\n",
       "    <tr>\n",
       "      <th>power</th>\n",
       "      <th></th>\n",
       "    </tr>\n",
       "  </thead>\n",
       "  <tbody>\n",
       "    <tr>\n",
       "      <th>0</th>\n",
       "      <td>30214</td>\n",
       "    </tr>\n",
       "    <tr>\n",
       "      <th>1</th>\n",
       "      <td>21</td>\n",
       "    </tr>\n",
       "    <tr>\n",
       "      <th>2</th>\n",
       "      <td>9</td>\n",
       "    </tr>\n",
       "    <tr>\n",
       "      <th>3</th>\n",
       "      <td>8</td>\n",
       "    </tr>\n",
       "    <tr>\n",
       "      <th>4</th>\n",
       "      <td>30</td>\n",
       "    </tr>\n",
       "    <tr>\n",
       "      <th>...</th>\n",
       "      <td>...</td>\n",
       "    </tr>\n",
       "    <tr>\n",
       "      <th>17932</th>\n",
       "      <td>1</td>\n",
       "    </tr>\n",
       "    <tr>\n",
       "      <th>19208</th>\n",
       "      <td>1</td>\n",
       "    </tr>\n",
       "    <tr>\n",
       "      <th>19211</th>\n",
       "      <td>1</td>\n",
       "    </tr>\n",
       "    <tr>\n",
       "      <th>19312</th>\n",
       "      <td>1</td>\n",
       "    </tr>\n",
       "    <tr>\n",
       "      <th>20000</th>\n",
       "      <td>1</td>\n",
       "    </tr>\n",
       "  </tbody>\n",
       "</table>\n",
       "<p>679 rows × 1 columns</p>\n",
       "</div>"
      ],
      "text/plain": [
       "       power\n",
       "power       \n",
       "0      30214\n",
       "1         21\n",
       "2          9\n",
       "3          8\n",
       "4         30\n",
       "...      ...\n",
       "17932      1\n",
       "19208      1\n",
       "19211      1\n",
       "19312      1\n",
       "20000      1\n",
       "\n",
       "[679 rows x 1 columns]"
      ]
     },
     "metadata": {},
     "output_type": "display_data"
    },
    {
     "data": {
      "text/plain": [
       "323043"
      ]
     },
     "execution_count": 21,
     "metadata": {},
     "output_type": "execute_result"
    }
   ],
   "source": [
    "display(data.groupby(data['power'].sort_values())['power'].agg('count').to_frame())\n",
    "data.loc[data['power'] <= 1250, 'power'].count()"
   ]
  },
  {
   "cell_type": "markdown",
   "metadata": {},
   "source": [
    "* Очень **много** данных с **0 мощностью**. Но этого явно **не может** быть, машина с **0 л.с**, поэтому устраним эти объекты"
   ]
  },
  {
   "cell_type": "code",
   "execution_count": 22,
   "metadata": {},
   "outputs": [
    {
     "data": {
      "text/plain": [
       "292829"
      ]
     },
     "execution_count": 22,
     "metadata": {},
     "output_type": "execute_result"
    }
   ],
   "source": [
    "data = data.query('0 < power <= 1250').reset_index(drop=True)\n",
    "data.shape[0]"
   ]
  },
  {
   "cell_type": "markdown",
   "metadata": {},
   "source": [
    "* Построим для этих признаков гистограммы, чтобы посмотреть распределение"
   ]
  },
  {
   "cell_type": "code",
   "execution_count": 23,
   "metadata": {},
   "outputs": [
    {
     "data": {
      "image/png": "[encoded data removed]",
      "text/plain": [
       "<Figure size 720x504 with 1 Axes>"
      ]
     },
     "metadata": {
      "needs_background": "light"
     },
     "output_type": "display_data"
    }
   ],
   "source": [
    "def hist(column, name):\n",
    "    \n",
    "    data[column].plot(kind='hist', bins=80, figsize=(10, 7), label=name, legend=True)\n",
    "    plt.title('Распределение признака' +' '+ name, fontweight='bold', fontsize=13)\n",
    "    \n",
    "hist('power', 'power')    "
   ]
  },
  {
   "cell_type": "code",
   "execution_count": 24,
   "metadata": {},
   "outputs": [
    {
     "data": {
      "text/plain": [
       "440"
      ]
     },
     "execution_count": 24,
     "metadata": {},
     "output_type": "execute_result"
    }
   ],
   "source": [
    "data.loc[data['power'] > 400, 'power'].count()"
   ]
  },
  {
   "cell_type": "markdown",
   "metadata": {},
   "source": [
    "Видим явные выбросы после 400 л.с. **Устраним** их и не навредим объему данных"
   ]
  },
  {
   "cell_type": "code",
   "execution_count": 25,
   "metadata": {},
   "outputs": [],
   "source": [
    "data = data.query('power <= 400').reset_index(drop=True)"
   ]
  },
  {
   "cell_type": "code",
   "execution_count": 26,
   "metadata": {},
   "outputs": [
    {
     "data": {
      "image/png": "[encoded data removed]",
      "text/plain": [
       "<Figure size 720x504 with 1 Axes>"
      ]
     },
     "metadata": {
      "needs_background": "light"
     },
     "output_type": "display_data"
    }
   ],
   "source": [
    "hist('price', 'price') # проверяем цену"
   ]
  },
  {
   "cell_type": "code",
   "execution_count": 27,
   "metadata": {},
   "outputs": [
    {
     "data": {
      "image/png": "[encoded data removed]",
      "text/plain": [
       "<Figure size 720x504 with 1 Axes>"
      ]
     },
     "metadata": {
      "needs_background": "light"
     },
     "output_type": "display_data"
    }
   ],
   "source": [
    "hist('registrationyear', 'registrationyear')"
   ]
  },
  {
   "cell_type": "code",
   "execution_count": 28,
   "metadata": {},
   "outputs": [
    {
     "name": "stdout",
     "output_type": "stream",
     "text": [
      "145\n"
     ]
    },
    {
     "data": {
      "text/plain": [
       "292244"
      ]
     },
     "execution_count": 28,
     "metadata": {},
     "output_type": "execute_result"
    }
   ],
   "source": [
    "print(data.query('registrationyear < 1960')['registrationyear'].count())\n",
    "data = data.query('registrationyear >= 1960').reset_index(drop=True)\n",
    "data.shape[0]"
   ]
  },
  {
   "cell_type": "code",
   "execution_count": 29,
   "metadata": {},
   "outputs": [
    {
     "data": {
      "text/html": [
       "<div>\n",
       "<style scoped>\n",
       "    .dataframe tbody tr th:only-of-type {\n",
       "        vertical-align: middle;\n",
       "    }\n",
       "\n",
       "    .dataframe tbody tr th {\n",
       "        vertical-align: top;\n",
       "    }\n",
       "\n",
       "    .dataframe thead th {\n",
       "        text-align: right;\n",
       "    }\n",
       "</style>\n",
       "<table border=\"1\" class=\"dataframe\">\n",
       "  <thead>\n",
       "    <tr style=\"text-align: right;\">\n",
       "      <th></th>\n",
       "      <th>price</th>\n",
       "      <th>registrationyear</th>\n",
       "      <th>power</th>\n",
       "      <th>kilometer</th>\n",
       "      <th>registrationmonth</th>\n",
       "      <th>numberofpictures</th>\n",
       "      <th>postalcode</th>\n",
       "    </tr>\n",
       "  </thead>\n",
       "  <tbody>\n",
       "    <tr>\n",
       "      <th>price</th>\n",
       "      <td>1.000000</td>\n",
       "      <td>0.494090</td>\n",
       "      <td>0.505345</td>\n",
       "      <td>-0.391264</td>\n",
       "      <td>0.064657</td>\n",
       "      <td>NaN</td>\n",
       "      <td>0.063922</td>\n",
       "    </tr>\n",
       "    <tr>\n",
       "      <th>registrationyear</th>\n",
       "      <td>0.494090</td>\n",
       "      <td>1.000000</td>\n",
       "      <td>0.131712</td>\n",
       "      <td>-0.301835</td>\n",
       "      <td>0.043351</td>\n",
       "      <td>NaN</td>\n",
       "      <td>0.028655</td>\n",
       "    </tr>\n",
       "    <tr>\n",
       "      <th>power</th>\n",
       "      <td>0.505345</td>\n",
       "      <td>0.131712</td>\n",
       "      <td>1.000000</td>\n",
       "      <td>0.111926</td>\n",
       "      <td>0.038779</td>\n",
       "      <td>NaN</td>\n",
       "      <td>0.054728</td>\n",
       "    </tr>\n",
       "    <tr>\n",
       "      <th>kilometer</th>\n",
       "      <td>-0.391264</td>\n",
       "      <td>-0.301835</td>\n",
       "      <td>0.111926</td>\n",
       "      <td>1.000000</td>\n",
       "      <td>-0.014996</td>\n",
       "      <td>NaN</td>\n",
       "      <td>-0.010853</td>\n",
       "    </tr>\n",
       "    <tr>\n",
       "      <th>registrationmonth</th>\n",
       "      <td>0.064657</td>\n",
       "      <td>0.043351</td>\n",
       "      <td>0.038779</td>\n",
       "      <td>-0.014996</td>\n",
       "      <td>1.000000</td>\n",
       "      <td>NaN</td>\n",
       "      <td>0.001848</td>\n",
       "    </tr>\n",
       "    <tr>\n",
       "      <th>numberofpictures</th>\n",
       "      <td>NaN</td>\n",
       "      <td>NaN</td>\n",
       "      <td>NaN</td>\n",
       "      <td>NaN</td>\n",
       "      <td>NaN</td>\n",
       "      <td>NaN</td>\n",
       "      <td>NaN</td>\n",
       "    </tr>\n",
       "    <tr>\n",
       "      <th>postalcode</th>\n",
       "      <td>0.063922</td>\n",
       "      <td>0.028655</td>\n",
       "      <td>0.054728</td>\n",
       "      <td>-0.010853</td>\n",
       "      <td>0.001848</td>\n",
       "      <td>NaN</td>\n",
       "      <td>1.000000</td>\n",
       "    </tr>\n",
       "  </tbody>\n",
       "</table>\n",
       "</div>"
      ],
      "text/plain": [
       "                      price  registrationyear     power  kilometer  \\\n",
       "price              1.000000          0.494090  0.505345  -0.391264   \n",
       "registrationyear   0.494090          1.000000  0.131712  -0.301835   \n",
       "power              0.505345          0.131712  1.000000   0.111926   \n",
       "kilometer         -0.391264         -0.301835  0.111926   1.000000   \n",
       "registrationmonth  0.064657          0.043351  0.038779  -0.014996   \n",
       "numberofpictures        NaN               NaN       NaN        NaN   \n",
       "postalcode         0.063922          0.028655  0.054728  -0.010853   \n",
       "\n",
       "                   registrationmonth  numberofpictures  postalcode  \n",
       "price                       0.064657               NaN    0.063922  \n",
       "registrationyear            0.043351               NaN    0.028655  \n",
       "power                       0.038779               NaN    0.054728  \n",
       "kilometer                  -0.014996               NaN   -0.010853  \n",
       "registrationmonth           1.000000               NaN    0.001848  \n",
       "numberofpictures                 NaN               NaN         NaN  \n",
       "postalcode                  0.001848               NaN    1.000000  "
      ]
     },
     "execution_count": 29,
     "metadata": {},
     "output_type": "execute_result"
    }
   ],
   "source": [
    "data.corr()"
   ]
  },
  {
   "cell_type": "markdown",
   "metadata": {},
   "source": [
    "* Также зааметили в признаке с годом регистрации автомобиля `registrationyear` выбросы. Это небольшой объем данных, его удаление логично и никак не навредит;\n",
    "* В признаке с ценой `price` не все так однозначно. Там много данных, которые решили оставить;\n",
    "* Остальные признаки не понадобятся для моделей, так как почти никак не коррелируют с целевым признаком, а некоторые просто не явлются информативными, а только будут нагружать модель. **Удалим их**"
   ]
  },
  {
   "cell_type": "code",
   "execution_count": 30,
   "metadata": {},
   "outputs": [
    {
     "name": "stdout",
     "output_type": "stream",
     "text": [
      "Доля удаленных объектов из датасета: 17.531%\n"
     ]
    }
   ],
   "source": [
    "data = data.drop(['datecrawled', 'registrationmonth', 'datecreated', 'numberofpictures', 'postalcode', 'lastseen'],\n",
    "                 axis=1)\n",
    "\n",
    "end_shape = data.shape[0]\n",
    "shape = (abs(end_shape - begin_shape)) / begin_shape\n",
    "print(f'Доля удаленных объектов из датасета: {shape:.3%}')"
   ]
  },
  {
   "cell_type": "markdown",
   "metadata": {},
   "source": [
    "### Вывод\n",
    "\n",
    "* Загрузили данные;\n",
    "* Привели признаки в нижний регистр;\n",
    "* Удалили дубликаты и выявили процент пропусков по колонкам;\n",
    "* Проанализировав пропуски, поставили на них зуглушку **unknown**;\n",
    "* Разобрали количественные признаки на аномалии и выбросы с помощью диаграммы размаха и гистограмм;\n",
    "* Удалили не нужные признаки для модели `'datecrawled', 'registrationmonth', 'datecreated', 'numberofpictures', 'postalcode', 'lastseen'`\n",
    "* По итогу доля удаленных объектов составила **17.5%**. Это достаточно много, однако все сделано придерживаясь определенной логике (можно было пойти по пути замены большого кол-ва **0-ых значений** в признаке мощности `power` медианным значением по столбцу, но качество нужно проверять)"
   ]
  },
  {
   "cell_type": "markdown",
   "metadata": {},
   "source": [
    "## Обучение моделей\n",
    "\n",
    "**Подготовим признаки для обучения моделей**\n",
    "\n",
    "* Создаем кодированные признаки (категориальные признаки в численные) путем прямого кодирования **OHE** и порядковым кодированием **OrdinalEncoder**\n",
    "\n",
    "Для начала копируем датасет для порядкового кодирования и прямого в говорящие переменные **data_ordinal и data_for_ohe** для дальнейшего использования в моделях деревьев и линейной регрессии"
   ]
  },
  {
   "cell_type": "code",
   "execution_count": 31,
   "metadata": {},
   "outputs": [],
   "source": [
    "data_ordinal = data.copy() # для моделей деревьев\n",
    "data_for_ohe = data.copy()"
   ]
  },
  {
   "cell_type": "code",
   "execution_count": 32,
   "metadata": {},
   "outputs": [
    {
     "data": {
      "text/html": [
       "<div>\n",
       "<style scoped>\n",
       "    .dataframe tbody tr th:only-of-type {\n",
       "        vertical-align: middle;\n",
       "    }\n",
       "\n",
       "    .dataframe tbody tr th {\n",
       "        vertical-align: top;\n",
       "    }\n",
       "\n",
       "    .dataframe thead th {\n",
       "        text-align: right;\n",
       "    }\n",
       "</style>\n",
       "<table border=\"1\" class=\"dataframe\">\n",
       "  <thead>\n",
       "    <tr style=\"text-align: right;\">\n",
       "      <th></th>\n",
       "      <th>price</th>\n",
       "      <th>registrationyear</th>\n",
       "      <th>power</th>\n",
       "      <th>kilometer</th>\n",
       "      <th>vehicletype_convertible</th>\n",
       "      <th>vehicletype_coupe</th>\n",
       "      <th>vehicletype_other</th>\n",
       "      <th>vehicletype_sedan</th>\n",
       "      <th>vehicletype_small</th>\n",
       "      <th>vehicletype_suv</th>\n",
       "      <th>...</th>\n",
       "      <th>brand_smart</th>\n",
       "      <th>brand_sonstige_autos</th>\n",
       "      <th>brand_subaru</th>\n",
       "      <th>brand_suzuki</th>\n",
       "      <th>brand_toyota</th>\n",
       "      <th>brand_trabant</th>\n",
       "      <th>brand_volkswagen</th>\n",
       "      <th>brand_volvo</th>\n",
       "      <th>notrepaired_unknown</th>\n",
       "      <th>notrepaired_yes</th>\n",
       "    </tr>\n",
       "  </thead>\n",
       "  <tbody>\n",
       "    <tr>\n",
       "      <th>0</th>\n",
       "      <td>18300</td>\n",
       "      <td>2011</td>\n",
       "      <td>190</td>\n",
       "      <td>125000</td>\n",
       "      <td>0</td>\n",
       "      <td>1</td>\n",
       "      <td>0</td>\n",
       "      <td>0</td>\n",
       "      <td>0</td>\n",
       "      <td>0</td>\n",
       "      <td>...</td>\n",
       "      <td>0</td>\n",
       "      <td>0</td>\n",
       "      <td>0</td>\n",
       "      <td>0</td>\n",
       "      <td>0</td>\n",
       "      <td>0</td>\n",
       "      <td>0</td>\n",
       "      <td>0</td>\n",
       "      <td>0</td>\n",
       "      <td>1</td>\n",
       "    </tr>\n",
       "    <tr>\n",
       "      <th>1</th>\n",
       "      <td>9800</td>\n",
       "      <td>2004</td>\n",
       "      <td>163</td>\n",
       "      <td>125000</td>\n",
       "      <td>0</td>\n",
       "      <td>0</td>\n",
       "      <td>0</td>\n",
       "      <td>0</td>\n",
       "      <td>0</td>\n",
       "      <td>1</td>\n",
       "      <td>...</td>\n",
       "      <td>0</td>\n",
       "      <td>0</td>\n",
       "      <td>0</td>\n",
       "      <td>0</td>\n",
       "      <td>0</td>\n",
       "      <td>0</td>\n",
       "      <td>0</td>\n",
       "      <td>0</td>\n",
       "      <td>1</td>\n",
       "      <td>0</td>\n",
       "    </tr>\n",
       "    <tr>\n",
       "      <th>2</th>\n",
       "      <td>1500</td>\n",
       "      <td>2001</td>\n",
       "      <td>75</td>\n",
       "      <td>150000</td>\n",
       "      <td>0</td>\n",
       "      <td>0</td>\n",
       "      <td>0</td>\n",
       "      <td>0</td>\n",
       "      <td>1</td>\n",
       "      <td>0</td>\n",
       "      <td>...</td>\n",
       "      <td>0</td>\n",
       "      <td>0</td>\n",
       "      <td>0</td>\n",
       "      <td>0</td>\n",
       "      <td>0</td>\n",
       "      <td>0</td>\n",
       "      <td>1</td>\n",
       "      <td>0</td>\n",
       "      <td>0</td>\n",
       "      <td>0</td>\n",
       "    </tr>\n",
       "    <tr>\n",
       "      <th>3</th>\n",
       "      <td>3600</td>\n",
       "      <td>2008</td>\n",
       "      <td>69</td>\n",
       "      <td>90000</td>\n",
       "      <td>0</td>\n",
       "      <td>0</td>\n",
       "      <td>0</td>\n",
       "      <td>0</td>\n",
       "      <td>1</td>\n",
       "      <td>0</td>\n",
       "      <td>...</td>\n",
       "      <td>0</td>\n",
       "      <td>0</td>\n",
       "      <td>0</td>\n",
       "      <td>0</td>\n",
       "      <td>0</td>\n",
       "      <td>0</td>\n",
       "      <td>0</td>\n",
       "      <td>0</td>\n",
       "      <td>0</td>\n",
       "      <td>0</td>\n",
       "    </tr>\n",
       "    <tr>\n",
       "      <th>4</th>\n",
       "      <td>650</td>\n",
       "      <td>1995</td>\n",
       "      <td>102</td>\n",
       "      <td>150000</td>\n",
       "      <td>0</td>\n",
       "      <td>0</td>\n",
       "      <td>0</td>\n",
       "      <td>1</td>\n",
       "      <td>0</td>\n",
       "      <td>0</td>\n",
       "      <td>...</td>\n",
       "      <td>0</td>\n",
       "      <td>0</td>\n",
       "      <td>0</td>\n",
       "      <td>0</td>\n",
       "      <td>0</td>\n",
       "      <td>0</td>\n",
       "      <td>0</td>\n",
       "      <td>0</td>\n",
       "      <td>0</td>\n",
       "      <td>1</td>\n",
       "    </tr>\n",
       "    <tr>\n",
       "      <th>...</th>\n",
       "      <td>...</td>\n",
       "      <td>...</td>\n",
       "      <td>...</td>\n",
       "      <td>...</td>\n",
       "      <td>...</td>\n",
       "      <td>...</td>\n",
       "      <td>...</td>\n",
       "      <td>...</td>\n",
       "      <td>...</td>\n",
       "      <td>...</td>\n",
       "      <td>...</td>\n",
       "      <td>...</td>\n",
       "      <td>...</td>\n",
       "      <td>...</td>\n",
       "      <td>...</td>\n",
       "      <td>...</td>\n",
       "      <td>...</td>\n",
       "      <td>...</td>\n",
       "      <td>...</td>\n",
       "      <td>...</td>\n",
       "      <td>...</td>\n",
       "    </tr>\n",
       "    <tr>\n",
       "      <th>292239</th>\n",
       "      <td>5250</td>\n",
       "      <td>2016</td>\n",
       "      <td>150</td>\n",
       "      <td>150000</td>\n",
       "      <td>0</td>\n",
       "      <td>0</td>\n",
       "      <td>0</td>\n",
       "      <td>0</td>\n",
       "      <td>0</td>\n",
       "      <td>0</td>\n",
       "      <td>...</td>\n",
       "      <td>0</td>\n",
       "      <td>0</td>\n",
       "      <td>0</td>\n",
       "      <td>0</td>\n",
       "      <td>0</td>\n",
       "      <td>0</td>\n",
       "      <td>0</td>\n",
       "      <td>0</td>\n",
       "      <td>0</td>\n",
       "      <td>0</td>\n",
       "    </tr>\n",
       "    <tr>\n",
       "      <th>292240</th>\n",
       "      <td>3200</td>\n",
       "      <td>2004</td>\n",
       "      <td>225</td>\n",
       "      <td>150000</td>\n",
       "      <td>0</td>\n",
       "      <td>0</td>\n",
       "      <td>0</td>\n",
       "      <td>1</td>\n",
       "      <td>0</td>\n",
       "      <td>0</td>\n",
       "      <td>...</td>\n",
       "      <td>0</td>\n",
       "      <td>0</td>\n",
       "      <td>0</td>\n",
       "      <td>0</td>\n",
       "      <td>0</td>\n",
       "      <td>0</td>\n",
       "      <td>0</td>\n",
       "      <td>0</td>\n",
       "      <td>0</td>\n",
       "      <td>1</td>\n",
       "    </tr>\n",
       "    <tr>\n",
       "      <th>292241</th>\n",
       "      <td>1199</td>\n",
       "      <td>2000</td>\n",
       "      <td>101</td>\n",
       "      <td>125000</td>\n",
       "      <td>1</td>\n",
       "      <td>0</td>\n",
       "      <td>0</td>\n",
       "      <td>0</td>\n",
       "      <td>0</td>\n",
       "      <td>0</td>\n",
       "      <td>...</td>\n",
       "      <td>1</td>\n",
       "      <td>0</td>\n",
       "      <td>0</td>\n",
       "      <td>0</td>\n",
       "      <td>0</td>\n",
       "      <td>0</td>\n",
       "      <td>0</td>\n",
       "      <td>0</td>\n",
       "      <td>0</td>\n",
       "      <td>0</td>\n",
       "    </tr>\n",
       "    <tr>\n",
       "      <th>292242</th>\n",
       "      <td>9200</td>\n",
       "      <td>1996</td>\n",
       "      <td>102</td>\n",
       "      <td>150000</td>\n",
       "      <td>0</td>\n",
       "      <td>0</td>\n",
       "      <td>0</td>\n",
       "      <td>0</td>\n",
       "      <td>0</td>\n",
       "      <td>0</td>\n",
       "      <td>...</td>\n",
       "      <td>0</td>\n",
       "      <td>0</td>\n",
       "      <td>0</td>\n",
       "      <td>0</td>\n",
       "      <td>0</td>\n",
       "      <td>0</td>\n",
       "      <td>1</td>\n",
       "      <td>0</td>\n",
       "      <td>0</td>\n",
       "      <td>0</td>\n",
       "    </tr>\n",
       "    <tr>\n",
       "      <th>292243</th>\n",
       "      <td>3400</td>\n",
       "      <td>2002</td>\n",
       "      <td>100</td>\n",
       "      <td>150000</td>\n",
       "      <td>0</td>\n",
       "      <td>0</td>\n",
       "      <td>0</td>\n",
       "      <td>0</td>\n",
       "      <td>0</td>\n",
       "      <td>0</td>\n",
       "      <td>...</td>\n",
       "      <td>0</td>\n",
       "      <td>0</td>\n",
       "      <td>0</td>\n",
       "      <td>0</td>\n",
       "      <td>0</td>\n",
       "      <td>0</td>\n",
       "      <td>1</td>\n",
       "      <td>0</td>\n",
       "      <td>1</td>\n",
       "      <td>0</td>\n",
       "    </tr>\n",
       "  </tbody>\n",
       "</table>\n",
       "<p>292244 rows × 311 columns</p>\n",
       "</div>"
      ],
      "text/plain": [
       "        price  registrationyear  power  kilometer  vehicletype_convertible  \\\n",
       "0       18300              2011    190     125000                        0   \n",
       "1        9800              2004    163     125000                        0   \n",
       "2        1500              2001     75     150000                        0   \n",
       "3        3600              2008     69      90000                        0   \n",
       "4         650              1995    102     150000                        0   \n",
       "...       ...               ...    ...        ...                      ...   \n",
       "292239   5250              2016    150     150000                        0   \n",
       "292240   3200              2004    225     150000                        0   \n",
       "292241   1199              2000    101     125000                        1   \n",
       "292242   9200              1996    102     150000                        0   \n",
       "292243   3400              2002    100     150000                        0   \n",
       "\n",
       "        vehicletype_coupe  vehicletype_other  vehicletype_sedan  \\\n",
       "0                       1                  0                  0   \n",
       "1                       0                  0                  0   \n",
       "2                       0                  0                  0   \n",
       "3                       0                  0                  0   \n",
       "4                       0                  0                  1   \n",
       "...                   ...                ...                ...   \n",
       "292239                  0                  0                  0   \n",
       "292240                  0                  0                  1   \n",
       "292241                  0                  0                  0   \n",
       "292242                  0                  0                  0   \n",
       "292243                  0                  0                  0   \n",
       "\n",
       "        vehicletype_small  vehicletype_suv  ...  brand_smart  \\\n",
       "0                       0                0  ...            0   \n",
       "1                       0                1  ...            0   \n",
       "2                       1                0  ...            0   \n",
       "3                       1                0  ...            0   \n",
       "4                       0                0  ...            0   \n",
       "...                   ...              ...  ...          ...   \n",
       "292239                  0                0  ...            0   \n",
       "292240                  0                0  ...            0   \n",
       "292241                  0                0  ...            1   \n",
       "292242                  0                0  ...            0   \n",
       "292243                  0                0  ...            0   \n",
       "\n",
       "        brand_sonstige_autos  brand_subaru  brand_suzuki  brand_toyota  \\\n",
       "0                          0             0             0             0   \n",
       "1                          0             0             0             0   \n",
       "2                          0             0             0             0   \n",
       "3                          0             0             0             0   \n",
       "4                          0             0             0             0   \n",
       "...                      ...           ...           ...           ...   \n",
       "292239                     0             0             0             0   \n",
       "292240                     0             0             0             0   \n",
       "292241                     0             0             0             0   \n",
       "292242                     0             0             0             0   \n",
       "292243                     0             0             0             0   \n",
       "\n",
       "        brand_trabant  brand_volkswagen  brand_volvo  notrepaired_unknown  \\\n",
       "0                   0                 0            0                    0   \n",
       "1                   0                 0            0                    1   \n",
       "2                   0                 1            0                    0   \n",
       "3                   0                 0            0                    0   \n",
       "4                   0                 0            0                    0   \n",
       "...               ...               ...          ...                  ...   \n",
       "292239              0                 0            0                    0   \n",
       "292240              0                 0            0                    0   \n",
       "292241              0                 0            0                    0   \n",
       "292242              0                 1            0                    0   \n",
       "292243              0                 1            0                    1   \n",
       "\n",
       "        notrepaired_yes  \n",
       "0                     1  \n",
       "1                     0  \n",
       "2                     0  \n",
       "3                     0  \n",
       "4                     1  \n",
       "...                 ...  \n",
       "292239                0  \n",
       "292240                1  \n",
       "292241                0  \n",
       "292242                0  \n",
       "292243                0  \n",
       "\n",
       "[292244 rows x 311 columns]"
      ]
     },
     "execution_count": 32,
     "metadata": {},
     "output_type": "execute_result"
    }
   ],
   "source": [
    "data_ohe = pd.get_dummies(data_for_ohe, drop_first=True) # drop_first=True во избежание ловушки\n",
    "data_ohe"
   ]
  },
  {
   "cell_type": "markdown",
   "metadata": {},
   "source": [
    "* Очень раздуло таблицу. Попробуем удалить признак с моделью **model** и оставим только марку **brand**, предиктивная сила у модели все равно будет"
   ]
  },
  {
   "cell_type": "code",
   "execution_count": 33,
   "metadata": {},
   "outputs": [
    {
     "data": {
      "text/html": [
       "<div>\n",
       "<style scoped>\n",
       "    .dataframe tbody tr th:only-of-type {\n",
       "        vertical-align: middle;\n",
       "    }\n",
       "\n",
       "    .dataframe tbody tr th {\n",
       "        vertical-align: top;\n",
       "    }\n",
       "\n",
       "    .dataframe thead th {\n",
       "        text-align: right;\n",
       "    }\n",
       "</style>\n",
       "<table border=\"1\" class=\"dataframe\">\n",
       "  <thead>\n",
       "    <tr style=\"text-align: right;\">\n",
       "      <th></th>\n",
       "      <th>price</th>\n",
       "      <th>registrationyear</th>\n",
       "      <th>power</th>\n",
       "      <th>kilometer</th>\n",
       "      <th>vehicletype_convertible</th>\n",
       "      <th>vehicletype_coupe</th>\n",
       "      <th>vehicletype_other</th>\n",
       "      <th>vehicletype_sedan</th>\n",
       "      <th>vehicletype_small</th>\n",
       "      <th>vehicletype_suv</th>\n",
       "      <th>...</th>\n",
       "      <th>brand_smart</th>\n",
       "      <th>brand_sonstige_autos</th>\n",
       "      <th>brand_subaru</th>\n",
       "      <th>brand_suzuki</th>\n",
       "      <th>brand_toyota</th>\n",
       "      <th>brand_trabant</th>\n",
       "      <th>brand_volkswagen</th>\n",
       "      <th>brand_volvo</th>\n",
       "      <th>notrepaired_unknown</th>\n",
       "      <th>notrepaired_yes</th>\n",
       "    </tr>\n",
       "  </thead>\n",
       "  <tbody>\n",
       "    <tr>\n",
       "      <th>0</th>\n",
       "      <td>18300</td>\n",
       "      <td>2011</td>\n",
       "      <td>190</td>\n",
       "      <td>125000</td>\n",
       "      <td>0</td>\n",
       "      <td>1</td>\n",
       "      <td>0</td>\n",
       "      <td>0</td>\n",
       "      <td>0</td>\n",
       "      <td>0</td>\n",
       "      <td>...</td>\n",
       "      <td>0</td>\n",
       "      <td>0</td>\n",
       "      <td>0</td>\n",
       "      <td>0</td>\n",
       "      <td>0</td>\n",
       "      <td>0</td>\n",
       "      <td>0</td>\n",
       "      <td>0</td>\n",
       "      <td>0</td>\n",
       "      <td>1</td>\n",
       "    </tr>\n",
       "    <tr>\n",
       "      <th>1</th>\n",
       "      <td>9800</td>\n",
       "      <td>2004</td>\n",
       "      <td>163</td>\n",
       "      <td>125000</td>\n",
       "      <td>0</td>\n",
       "      <td>0</td>\n",
       "      <td>0</td>\n",
       "      <td>0</td>\n",
       "      <td>0</td>\n",
       "      <td>1</td>\n",
       "      <td>...</td>\n",
       "      <td>0</td>\n",
       "      <td>0</td>\n",
       "      <td>0</td>\n",
       "      <td>0</td>\n",
       "      <td>0</td>\n",
       "      <td>0</td>\n",
       "      <td>0</td>\n",
       "      <td>0</td>\n",
       "      <td>1</td>\n",
       "      <td>0</td>\n",
       "    </tr>\n",
       "    <tr>\n",
       "      <th>2</th>\n",
       "      <td>1500</td>\n",
       "      <td>2001</td>\n",
       "      <td>75</td>\n",
       "      <td>150000</td>\n",
       "      <td>0</td>\n",
       "      <td>0</td>\n",
       "      <td>0</td>\n",
       "      <td>0</td>\n",
       "      <td>1</td>\n",
       "      <td>0</td>\n",
       "      <td>...</td>\n",
       "      <td>0</td>\n",
       "      <td>0</td>\n",
       "      <td>0</td>\n",
       "      <td>0</td>\n",
       "      <td>0</td>\n",
       "      <td>0</td>\n",
       "      <td>1</td>\n",
       "      <td>0</td>\n",
       "      <td>0</td>\n",
       "      <td>0</td>\n",
       "    </tr>\n",
       "    <tr>\n",
       "      <th>3</th>\n",
       "      <td>3600</td>\n",
       "      <td>2008</td>\n",
       "      <td>69</td>\n",
       "      <td>90000</td>\n",
       "      <td>0</td>\n",
       "      <td>0</td>\n",
       "      <td>0</td>\n",
       "      <td>0</td>\n",
       "      <td>1</td>\n",
       "      <td>0</td>\n",
       "      <td>...</td>\n",
       "      <td>0</td>\n",
       "      <td>0</td>\n",
       "      <td>0</td>\n",
       "      <td>0</td>\n",
       "      <td>0</td>\n",
       "      <td>0</td>\n",
       "      <td>0</td>\n",
       "      <td>0</td>\n",
       "      <td>0</td>\n",
       "      <td>0</td>\n",
       "    </tr>\n",
       "    <tr>\n",
       "      <th>4</th>\n",
       "      <td>650</td>\n",
       "      <td>1995</td>\n",
       "      <td>102</td>\n",
       "      <td>150000</td>\n",
       "      <td>0</td>\n",
       "      <td>0</td>\n",
       "      <td>0</td>\n",
       "      <td>1</td>\n",
       "      <td>0</td>\n",
       "      <td>0</td>\n",
       "      <td>...</td>\n",
       "      <td>0</td>\n",
       "      <td>0</td>\n",
       "      <td>0</td>\n",
       "      <td>0</td>\n",
       "      <td>0</td>\n",
       "      <td>0</td>\n",
       "      <td>0</td>\n",
       "      <td>0</td>\n",
       "      <td>0</td>\n",
       "      <td>1</td>\n",
       "    </tr>\n",
       "    <tr>\n",
       "      <th>...</th>\n",
       "      <td>...</td>\n",
       "      <td>...</td>\n",
       "      <td>...</td>\n",
       "      <td>...</td>\n",
       "      <td>...</td>\n",
       "      <td>...</td>\n",
       "      <td>...</td>\n",
       "      <td>...</td>\n",
       "      <td>...</td>\n",
       "      <td>...</td>\n",
       "      <td>...</td>\n",
       "      <td>...</td>\n",
       "      <td>...</td>\n",
       "      <td>...</td>\n",
       "      <td>...</td>\n",
       "      <td>...</td>\n",
       "      <td>...</td>\n",
       "      <td>...</td>\n",
       "      <td>...</td>\n",
       "      <td>...</td>\n",
       "      <td>...</td>\n",
       "    </tr>\n",
       "    <tr>\n",
       "      <th>292239</th>\n",
       "      <td>5250</td>\n",
       "      <td>2016</td>\n",
       "      <td>150</td>\n",
       "      <td>150000</td>\n",
       "      <td>0</td>\n",
       "      <td>0</td>\n",
       "      <td>0</td>\n",
       "      <td>0</td>\n",
       "      <td>0</td>\n",
       "      <td>0</td>\n",
       "      <td>...</td>\n",
       "      <td>0</td>\n",
       "      <td>0</td>\n",
       "      <td>0</td>\n",
       "      <td>0</td>\n",
       "      <td>0</td>\n",
       "      <td>0</td>\n",
       "      <td>0</td>\n",
       "      <td>0</td>\n",
       "      <td>0</td>\n",
       "      <td>0</td>\n",
       "    </tr>\n",
       "    <tr>\n",
       "      <th>292240</th>\n",
       "      <td>3200</td>\n",
       "      <td>2004</td>\n",
       "      <td>225</td>\n",
       "      <td>150000</td>\n",
       "      <td>0</td>\n",
       "      <td>0</td>\n",
       "      <td>0</td>\n",
       "      <td>1</td>\n",
       "      <td>0</td>\n",
       "      <td>0</td>\n",
       "      <td>...</td>\n",
       "      <td>0</td>\n",
       "      <td>0</td>\n",
       "      <td>0</td>\n",
       "      <td>0</td>\n",
       "      <td>0</td>\n",
       "      <td>0</td>\n",
       "      <td>0</td>\n",
       "      <td>0</td>\n",
       "      <td>0</td>\n",
       "      <td>1</td>\n",
       "    </tr>\n",
       "    <tr>\n",
       "      <th>292241</th>\n",
       "      <td>1199</td>\n",
       "      <td>2000</td>\n",
       "      <td>101</td>\n",
       "      <td>125000</td>\n",
       "      <td>1</td>\n",
       "      <td>0</td>\n",
       "      <td>0</td>\n",
       "      <td>0</td>\n",
       "      <td>0</td>\n",
       "      <td>0</td>\n",
       "      <td>...</td>\n",
       "      <td>1</td>\n",
       "      <td>0</td>\n",
       "      <td>0</td>\n",
       "      <td>0</td>\n",
       "      <td>0</td>\n",
       "      <td>0</td>\n",
       "      <td>0</td>\n",
       "      <td>0</td>\n",
       "      <td>0</td>\n",
       "      <td>0</td>\n",
       "    </tr>\n",
       "    <tr>\n",
       "      <th>292242</th>\n",
       "      <td>9200</td>\n",
       "      <td>1996</td>\n",
       "      <td>102</td>\n",
       "      <td>150000</td>\n",
       "      <td>0</td>\n",
       "      <td>0</td>\n",
       "      <td>0</td>\n",
       "      <td>0</td>\n",
       "      <td>0</td>\n",
       "      <td>0</td>\n",
       "      <td>...</td>\n",
       "      <td>0</td>\n",
       "      <td>0</td>\n",
       "      <td>0</td>\n",
       "      <td>0</td>\n",
       "      <td>0</td>\n",
       "      <td>0</td>\n",
       "      <td>1</td>\n",
       "      <td>0</td>\n",
       "      <td>0</td>\n",
       "      <td>0</td>\n",
       "    </tr>\n",
       "    <tr>\n",
       "      <th>292243</th>\n",
       "      <td>3400</td>\n",
       "      <td>2002</td>\n",
       "      <td>100</td>\n",
       "      <td>150000</td>\n",
       "      <td>0</td>\n",
       "      <td>0</td>\n",
       "      <td>0</td>\n",
       "      <td>0</td>\n",
       "      <td>0</td>\n",
       "      <td>0</td>\n",
       "      <td>...</td>\n",
       "      <td>0</td>\n",
       "      <td>0</td>\n",
       "      <td>0</td>\n",
       "      <td>0</td>\n",
       "      <td>0</td>\n",
       "      <td>0</td>\n",
       "      <td>1</td>\n",
       "      <td>0</td>\n",
       "      <td>1</td>\n",
       "      <td>0</td>\n",
       "    </tr>\n",
       "  </tbody>\n",
       "</table>\n",
       "<p>292244 rows × 62 columns</p>\n",
       "</div>"
      ],
      "text/plain": [
       "        price  registrationyear  power  kilometer  vehicletype_convertible  \\\n",
       "0       18300              2011    190     125000                        0   \n",
       "1        9800              2004    163     125000                        0   \n",
       "2        1500              2001     75     150000                        0   \n",
       "3        3600              2008     69      90000                        0   \n",
       "4         650              1995    102     150000                        0   \n",
       "...       ...               ...    ...        ...                      ...   \n",
       "292239   5250              2016    150     150000                        0   \n",
       "292240   3200              2004    225     150000                        0   \n",
       "292241   1199              2000    101     125000                        1   \n",
       "292242   9200              1996    102     150000                        0   \n",
       "292243   3400              2002    100     150000                        0   \n",
       "\n",
       "        vehicletype_coupe  vehicletype_other  vehicletype_sedan  \\\n",
       "0                       1                  0                  0   \n",
       "1                       0                  0                  0   \n",
       "2                       0                  0                  0   \n",
       "3                       0                  0                  0   \n",
       "4                       0                  0                  1   \n",
       "...                   ...                ...                ...   \n",
       "292239                  0                  0                  0   \n",
       "292240                  0                  0                  1   \n",
       "292241                  0                  0                  0   \n",
       "292242                  0                  0                  0   \n",
       "292243                  0                  0                  0   \n",
       "\n",
       "        vehicletype_small  vehicletype_suv  ...  brand_smart  \\\n",
       "0                       0                0  ...            0   \n",
       "1                       0                1  ...            0   \n",
       "2                       1                0  ...            0   \n",
       "3                       1                0  ...            0   \n",
       "4                       0                0  ...            0   \n",
       "...                   ...              ...  ...          ...   \n",
       "292239                  0                0  ...            0   \n",
       "292240                  0                0  ...            0   \n",
       "292241                  0                0  ...            1   \n",
       "292242                  0                0  ...            0   \n",
       "292243                  0                0  ...            0   \n",
       "\n",
       "        brand_sonstige_autos  brand_subaru  brand_suzuki  brand_toyota  \\\n",
       "0                          0             0             0             0   \n",
       "1                          0             0             0             0   \n",
       "2                          0             0             0             0   \n",
       "3                          0             0             0             0   \n",
       "4                          0             0             0             0   \n",
       "...                      ...           ...           ...           ...   \n",
       "292239                     0             0             0             0   \n",
       "292240                     0             0             0             0   \n",
       "292241                     0             0             0             0   \n",
       "292242                     0             0             0             0   \n",
       "292243                     0             0             0             0   \n",
       "\n",
       "        brand_trabant  brand_volkswagen  brand_volvo  notrepaired_unknown  \\\n",
       "0                   0                 0            0                    0   \n",
       "1                   0                 0            0                    1   \n",
       "2                   0                 1            0                    0   \n",
       "3                   0                 0            0                    0   \n",
       "4                   0                 0            0                    0   \n",
       "...               ...               ...          ...                  ...   \n",
       "292239              0                 0            0                    0   \n",
       "292240              0                 0            0                    0   \n",
       "292241              0                 0            0                    0   \n",
       "292242              0                 1            0                    0   \n",
       "292243              0                 1            0                    1   \n",
       "\n",
       "        notrepaired_yes  \n",
       "0                     1  \n",
       "1                     0  \n",
       "2                     0  \n",
       "3                     0  \n",
       "4                     1  \n",
       "...                 ...  \n",
       "292239                0  \n",
       "292240                1  \n",
       "292241                0  \n",
       "292242                0  \n",
       "292243                0  \n",
       "\n",
       "[292244 rows x 62 columns]"
      ]
     },
     "execution_count": 33,
     "metadata": {},
     "output_type": "execute_result"
    }
   ],
   "source": [
    "data_for_ohe = data_for_ohe.drop('model', axis=1)\n",
    "data_ohe = pd.get_dummies(data_for_ohe, drop_first=True)\n",
    "data_ohe"
   ]
  },
  {
   "cell_type": "markdown",
   "metadata": {},
   "source": [
    "* Теперь таблица не такая большая с **62 признаками**, можно делить ее на выборки\n",
    "\n",
    "\n",
    "Теперь создадим категориальные признаки, которые будем преобразовывать в численные. Выделим их в отдельную переменную **cat_features**, передадим скопированному датасету **data_ordinal** и выведем результат, который тоже можно будет делить на выборки"
   ]
  },
  {
   "cell_type": "code",
   "execution_count": 34,
   "metadata": {},
   "outputs": [
    {
     "data": {
      "text/html": [
       "<div>\n",
       "<style scoped>\n",
       "    .dataframe tbody tr th:only-of-type {\n",
       "        vertical-align: middle;\n",
       "    }\n",
       "\n",
       "    .dataframe tbody tr th {\n",
       "        vertical-align: top;\n",
       "    }\n",
       "\n",
       "    .dataframe thead th {\n",
       "        text-align: right;\n",
       "    }\n",
       "</style>\n",
       "<table border=\"1\" class=\"dataframe\">\n",
       "  <thead>\n",
       "    <tr style=\"text-align: right;\">\n",
       "      <th></th>\n",
       "      <th>price</th>\n",
       "      <th>vehicletype</th>\n",
       "      <th>registrationyear</th>\n",
       "      <th>gearbox</th>\n",
       "      <th>power</th>\n",
       "      <th>model</th>\n",
       "      <th>kilometer</th>\n",
       "      <th>fueltype</th>\n",
       "      <th>brand</th>\n",
       "      <th>notrepaired</th>\n",
       "    </tr>\n",
       "  </thead>\n",
       "  <tbody>\n",
       "    <tr>\n",
       "      <th>0</th>\n",
       "      <td>18300</td>\n",
       "      <td>2.0</td>\n",
       "      <td>2011</td>\n",
       "      <td>1.0</td>\n",
       "      <td>190</td>\n",
       "      <td>227.0</td>\n",
       "      <td>125000</td>\n",
       "      <td>2.0</td>\n",
       "      <td>1.0</td>\n",
       "      <td>2.0</td>\n",
       "    </tr>\n",
       "    <tr>\n",
       "      <th>1</th>\n",
       "      <td>9800</td>\n",
       "      <td>6.0</td>\n",
       "      <td>2004</td>\n",
       "      <td>0.0</td>\n",
       "      <td>163</td>\n",
       "      <td>117.0</td>\n",
       "      <td>125000</td>\n",
       "      <td>2.0</td>\n",
       "      <td>14.0</td>\n",
       "      <td>1.0</td>\n",
       "    </tr>\n",
       "    <tr>\n",
       "      <th>2</th>\n",
       "      <td>1500</td>\n",
       "      <td>5.0</td>\n",
       "      <td>2001</td>\n",
       "      <td>1.0</td>\n",
       "      <td>75</td>\n",
       "      <td>116.0</td>\n",
       "      <td>150000</td>\n",
       "      <td>6.0</td>\n",
       "      <td>38.0</td>\n",
       "      <td>0.0</td>\n",
       "    </tr>\n",
       "    <tr>\n",
       "      <th>3</th>\n",
       "      <td>3600</td>\n",
       "      <td>5.0</td>\n",
       "      <td>2008</td>\n",
       "      <td>1.0</td>\n",
       "      <td>69</td>\n",
       "      <td>101.0</td>\n",
       "      <td>90000</td>\n",
       "      <td>2.0</td>\n",
       "      <td>31.0</td>\n",
       "      <td>0.0</td>\n",
       "    </tr>\n",
       "    <tr>\n",
       "      <th>4</th>\n",
       "      <td>650</td>\n",
       "      <td>4.0</td>\n",
       "      <td>1995</td>\n",
       "      <td>1.0</td>\n",
       "      <td>102</td>\n",
       "      <td>11.0</td>\n",
       "      <td>150000</td>\n",
       "      <td>6.0</td>\n",
       "      <td>2.0</td>\n",
       "      <td>2.0</td>\n",
       "    </tr>\n",
       "    <tr>\n",
       "      <th>...</th>\n",
       "      <td>...</td>\n",
       "      <td>...</td>\n",
       "      <td>...</td>\n",
       "      <td>...</td>\n",
       "      <td>...</td>\n",
       "      <td>...</td>\n",
       "      <td>...</td>\n",
       "      <td>...</td>\n",
       "      <td>...</td>\n",
       "      <td>...</td>\n",
       "    </tr>\n",
       "    <tr>\n",
       "      <th>292239</th>\n",
       "      <td>5250</td>\n",
       "      <td>7.0</td>\n",
       "      <td>2016</td>\n",
       "      <td>0.0</td>\n",
       "      <td>150</td>\n",
       "      <td>4.0</td>\n",
       "      <td>150000</td>\n",
       "      <td>7.0</td>\n",
       "      <td>0.0</td>\n",
       "      <td>0.0</td>\n",
       "    </tr>\n",
       "    <tr>\n",
       "      <th>292240</th>\n",
       "      <td>3200</td>\n",
       "      <td>4.0</td>\n",
       "      <td>2004</td>\n",
       "      <td>1.0</td>\n",
       "      <td>225</td>\n",
       "      <td>140.0</td>\n",
       "      <td>150000</td>\n",
       "      <td>6.0</td>\n",
       "      <td>30.0</td>\n",
       "      <td>2.0</td>\n",
       "    </tr>\n",
       "    <tr>\n",
       "      <th>292241</th>\n",
       "      <td>1199</td>\n",
       "      <td>1.0</td>\n",
       "      <td>2000</td>\n",
       "      <td>0.0</td>\n",
       "      <td>101</td>\n",
       "      <td>106.0</td>\n",
       "      <td>125000</td>\n",
       "      <td>6.0</td>\n",
       "      <td>32.0</td>\n",
       "      <td>0.0</td>\n",
       "    </tr>\n",
       "    <tr>\n",
       "      <th>292242</th>\n",
       "      <td>9200</td>\n",
       "      <td>0.0</td>\n",
       "      <td>1996</td>\n",
       "      <td>1.0</td>\n",
       "      <td>102</td>\n",
       "      <td>223.0</td>\n",
       "      <td>150000</td>\n",
       "      <td>2.0</td>\n",
       "      <td>38.0</td>\n",
       "      <td>0.0</td>\n",
       "    </tr>\n",
       "    <tr>\n",
       "      <th>292243</th>\n",
       "      <td>3400</td>\n",
       "      <td>8.0</td>\n",
       "      <td>2002</td>\n",
       "      <td>1.0</td>\n",
       "      <td>100</td>\n",
       "      <td>116.0</td>\n",
       "      <td>150000</td>\n",
       "      <td>2.0</td>\n",
       "      <td>38.0</td>\n",
       "      <td>1.0</td>\n",
       "    </tr>\n",
       "  </tbody>\n",
       "</table>\n",
       "<p>292244 rows × 10 columns</p>\n",
       "</div>"
      ],
      "text/plain": [
       "        price  vehicletype  registrationyear  gearbox  power  model  \\\n",
       "0       18300          2.0              2011      1.0    190  227.0   \n",
       "1        9800          6.0              2004      0.0    163  117.0   \n",
       "2        1500          5.0              2001      1.0     75  116.0   \n",
       "3        3600          5.0              2008      1.0     69  101.0   \n",
       "4         650          4.0              1995      1.0    102   11.0   \n",
       "...       ...          ...               ...      ...    ...    ...   \n",
       "292239   5250          7.0              2016      0.0    150    4.0   \n",
       "292240   3200          4.0              2004      1.0    225  140.0   \n",
       "292241   1199          1.0              2000      0.0    101  106.0   \n",
       "292242   9200          0.0              1996      1.0    102  223.0   \n",
       "292243   3400          8.0              2002      1.0    100  116.0   \n",
       "\n",
       "        kilometer  fueltype  brand  notrepaired  \n",
       "0          125000       2.0    1.0          2.0  \n",
       "1          125000       2.0   14.0          1.0  \n",
       "2          150000       6.0   38.0          0.0  \n",
       "3           90000       2.0   31.0          0.0  \n",
       "4          150000       6.0    2.0          2.0  \n",
       "...           ...       ...    ...          ...  \n",
       "292239     150000       7.0    0.0          0.0  \n",
       "292240     150000       6.0   30.0          2.0  \n",
       "292241     125000       6.0   32.0          0.0  \n",
       "292242     150000       2.0   38.0          0.0  \n",
       "292243     150000       2.0   38.0          1.0  \n",
       "\n",
       "[292244 rows x 10 columns]"
      ]
     },
     "execution_count": 34,
     "metadata": {},
     "output_type": "execute_result"
    }
   ],
   "source": [
    "cat_features = ['vehicletype', 'gearbox', 'model', 'fueltype', 'brand', 'notrepaired']\n",
    "\n",
    "encoder = OrdinalEncoder()\n",
    "data_ordinal[cat_features] = pd.DataFrame(encoder.fit_transform(data_ordinal[cat_features]), \n",
    "                                          columns=data_ordinal[cat_features].columns)\n",
    "data_ordinal"
   ]
  },
  {
   "cell_type": "code",
   "execution_count": 35,
   "metadata": {},
   "outputs": [
    {
     "data": {
      "text/html": [
       "<div>\n",
       "<style scoped>\n",
       "    .dataframe tbody tr th:only-of-type {\n",
       "        vertical-align: middle;\n",
       "    }\n",
       "\n",
       "    .dataframe tbody tr th {\n",
       "        vertical-align: top;\n",
       "    }\n",
       "\n",
       "    .dataframe thead th {\n",
       "        text-align: right;\n",
       "    }\n",
       "</style>\n",
       "<table border=\"1\" class=\"dataframe\">\n",
       "  <thead>\n",
       "    <tr style=\"text-align: right;\">\n",
       "      <th></th>\n",
       "      <th>price</th>\n",
       "      <th>vehicletype</th>\n",
       "      <th>registrationyear</th>\n",
       "      <th>gearbox</th>\n",
       "      <th>power</th>\n",
       "      <th>model</th>\n",
       "      <th>kilometer</th>\n",
       "      <th>fueltype</th>\n",
       "      <th>brand</th>\n",
       "      <th>notrepaired</th>\n",
       "    </tr>\n",
       "  </thead>\n",
       "  <tbody>\n",
       "    <tr>\n",
       "      <th>0</th>\n",
       "      <td>18300</td>\n",
       "      <td>coupe</td>\n",
       "      <td>2011</td>\n",
       "      <td>manual</td>\n",
       "      <td>190</td>\n",
       "      <td>unknown</td>\n",
       "      <td>125000</td>\n",
       "      <td>gasoline</td>\n",
       "      <td>audi</td>\n",
       "      <td>yes</td>\n",
       "    </tr>\n",
       "    <tr>\n",
       "      <th>1</th>\n",
       "      <td>9800</td>\n",
       "      <td>suv</td>\n",
       "      <td>2004</td>\n",
       "      <td>auto</td>\n",
       "      <td>163</td>\n",
       "      <td>grand</td>\n",
       "      <td>125000</td>\n",
       "      <td>gasoline</td>\n",
       "      <td>jeep</td>\n",
       "      <td>unknown</td>\n",
       "    </tr>\n",
       "    <tr>\n",
       "      <th>2</th>\n",
       "      <td>1500</td>\n",
       "      <td>small</td>\n",
       "      <td>2001</td>\n",
       "      <td>manual</td>\n",
       "      <td>75</td>\n",
       "      <td>golf</td>\n",
       "      <td>150000</td>\n",
       "      <td>petrol</td>\n",
       "      <td>volkswagen</td>\n",
       "      <td>no</td>\n",
       "    </tr>\n",
       "    <tr>\n",
       "      <th>3</th>\n",
       "      <td>3600</td>\n",
       "      <td>small</td>\n",
       "      <td>2008</td>\n",
       "      <td>manual</td>\n",
       "      <td>69</td>\n",
       "      <td>fabia</td>\n",
       "      <td>90000</td>\n",
       "      <td>gasoline</td>\n",
       "      <td>skoda</td>\n",
       "      <td>no</td>\n",
       "    </tr>\n",
       "    <tr>\n",
       "      <th>4</th>\n",
       "      <td>650</td>\n",
       "      <td>sedan</td>\n",
       "      <td>1995</td>\n",
       "      <td>manual</td>\n",
       "      <td>102</td>\n",
       "      <td>3er</td>\n",
       "      <td>150000</td>\n",
       "      <td>petrol</td>\n",
       "      <td>bmw</td>\n",
       "      <td>yes</td>\n",
       "    </tr>\n",
       "  </tbody>\n",
       "</table>\n",
       "</div>"
      ],
      "text/plain": [
       "   price vehicletype  registrationyear gearbox  power    model  kilometer  \\\n",
       "0  18300       coupe              2011  manual    190  unknown     125000   \n",
       "1   9800         suv              2004    auto    163    grand     125000   \n",
       "2   1500       small              2001  manual     75     golf     150000   \n",
       "3   3600       small              2008  manual     69    fabia      90000   \n",
       "4    650       sedan              1995  manual    102      3er     150000   \n",
       "\n",
       "   fueltype       brand notrepaired  \n",
       "0  gasoline        audi         yes  \n",
       "1  gasoline        jeep     unknown  \n",
       "2    petrol  volkswagen          no  \n",
       "3  gasoline       skoda          no  \n",
       "4    petrol         bmw         yes  "
      ]
     },
     "execution_count": 35,
     "metadata": {},
     "output_type": "execute_result"
    }
   ],
   "source": [
    "data.head()"
   ]
  },
  {
   "cell_type": "markdown",
   "metadata": {},
   "source": [
    "**Разделим на выборки датасеты с помощью функции** \n",
    "\n",
    "* Чтобы обучение происходило быстрее и качество модели улучшалось, масштабируем признаки для выборок (конечно, это лучше всего для линейных моделей, так как моделям деревьев особой разницы нет, но проведем масштабирование для всех выборок"
   ]
  },
  {
   "cell_type": "code",
   "execution_count": 36,
   "metadata": {},
   "outputs": [],
   "source": [
    "def tts(data, name): # аргумент data принимает датасет кодированный, а аргумент name несет описательный характер\n",
    "    \n",
    "    features = data.drop('price', axis=1)\n",
    "    target = data['price']\n",
    "    \n",
    "    features_train, features_test, target_train, target_test = train_test_split(features, target, test_size=0.25, \n",
    "                                                                                random_state=12345)\n",
    "    \n",
    "    print(f'Train выборка {name}: {features_train.shape}, {target_train.shape}') # проверяем разделение/размер выборок\n",
    "    print(f'Test выборка {name}: {features_test.shape}, {target_test.shape}')\n",
    "    print()\n",
    "    \n",
    "    scaler = StandardScaler()\n",
    "    scaler.fit(features_train) # обучаем всегда на обучающей выборке\n",
    "    features_train = pd.DataFrame(scaler.transform(features_train), columns=features_train.columns)\n",
    "    features_test = pd.DataFrame(scaler.transform(features_test), columns=features_test.columns)\n",
    "    \n",
    "    return features_train, features_test, target_train, target_test"
   ]
  },
  {
   "cell_type": "code",
   "execution_count": 37,
   "metadata": {},
   "outputs": [
    {
     "name": "stdout",
     "output_type": "stream",
     "text": [
      "Train выборка data_ohe: (219183, 61), (219183,)\n",
      "Test выборка data_ohe: (73061, 61), (73061,)\n",
      "\n"
     ]
    }
   ],
   "source": [
    "features_train_ohe, features_test_ohe, target_train_ohe, target_test_ohe = tts(data_ohe, 'data_ohe')"
   ]
  },
  {
   "cell_type": "code",
   "execution_count": 38,
   "metadata": {},
   "outputs": [
    {
     "name": "stdout",
     "output_type": "stream",
     "text": [
      "Train выборка data_ordinal: (219183, 9), (219183,)\n",
      "Test выборка data_ordinal: (73061, 9), (73061,)\n",
      "\n"
     ]
    }
   ],
   "source": [
    "features_train_ord, features_test_ord, target_train_ord, target_test_ord = tts(data_ordinal, 'data_ordinal')"
   ]
  },
  {
   "cell_type": "markdown",
   "metadata": {},
   "source": [
    "* Для моделей градиентного бустинга создаем выборки, где не будут категориальные признаки превращены в численные, которые мы передадим в саму модель"
   ]
  },
  {
   "cell_type": "code",
   "execution_count": 39,
   "metadata": {},
   "outputs": [],
   "source": [
    "features = data.drop('price', axis=1)\n",
    "target = data['price']\n",
    "\n",
    "features_train, features_test, target_train, target_test = train_test_split(features, target, test_size=0.25, \n",
    "                                                                            random_state=12345)"
   ]
  },
  {
   "cell_type": "code",
   "execution_count": 40,
   "metadata": {},
   "outputs": [
    {
     "data": {
      "text/html": [
       "<div>\n",
       "<style scoped>\n",
       "    .dataframe tbody tr th:only-of-type {\n",
       "        vertical-align: middle;\n",
       "    }\n",
       "\n",
       "    .dataframe tbody tr th {\n",
       "        vertical-align: top;\n",
       "    }\n",
       "\n",
       "    .dataframe thead th {\n",
       "        text-align: right;\n",
       "    }\n",
       "</style>\n",
       "<table border=\"1\" class=\"dataframe\">\n",
       "  <thead>\n",
       "    <tr style=\"text-align: right;\">\n",
       "      <th></th>\n",
       "      <th>vehicletype</th>\n",
       "      <th>registrationyear</th>\n",
       "      <th>gearbox</th>\n",
       "      <th>power</th>\n",
       "      <th>model</th>\n",
       "      <th>kilometer</th>\n",
       "      <th>fueltype</th>\n",
       "      <th>brand</th>\n",
       "      <th>notrepaired</th>\n",
       "    </tr>\n",
       "  </thead>\n",
       "  <tbody>\n",
       "    <tr>\n",
       "      <th>0</th>\n",
       "      <td>-1.893312</td>\n",
       "      <td>1.728890</td>\n",
       "      <td>0.424934</td>\n",
       "      <td>-0.126963</td>\n",
       "      <td>0.736093</td>\n",
       "      <td>0.593025</td>\n",
       "      <td>-1.490236</td>\n",
       "      <td>0.471668</td>\n",
       "      <td>-0.515688</td>\n",
       "    </tr>\n",
       "    <tr>\n",
       "      <th>1</th>\n",
       "      <td>-1.893312</td>\n",
       "      <td>0.015938</td>\n",
       "      <td>0.424934</td>\n",
       "      <td>0.196371</td>\n",
       "      <td>1.570759</td>\n",
       "      <td>0.593025</td>\n",
       "      <td>1.162507</td>\n",
       "      <td>1.293583</td>\n",
       "      <td>-0.515688</td>\n",
       "    </tr>\n",
       "    <tr>\n",
       "      <th>2</th>\n",
       "      <td>-1.893312</td>\n",
       "      <td>0.638830</td>\n",
       "      <td>-1.909885</td>\n",
       "      <td>0.367548</td>\n",
       "      <td>0.051940</td>\n",
       "      <td>0.593025</td>\n",
       "      <td>-1.490236</td>\n",
       "      <td>1.293583</td>\n",
       "      <td>-0.515688</td>\n",
       "    </tr>\n",
       "    <tr>\n",
       "      <th>3</th>\n",
       "      <td>-0.233348</td>\n",
       "      <td>1.728890</td>\n",
       "      <td>0.424934</td>\n",
       "      <td>-0.298140</td>\n",
       "      <td>-1.152170</td>\n",
       "      <td>-2.672626</td>\n",
       "      <td>0.631959</td>\n",
       "      <td>-1.471039</td>\n",
       "      <td>-0.515688</td>\n",
       "    </tr>\n",
       "    <tr>\n",
       "      <th>4</th>\n",
       "      <td>1.426615</td>\n",
       "      <td>0.794553</td>\n",
       "      <td>0.424934</td>\n",
       "      <td>-0.640494</td>\n",
       "      <td>0.407699</td>\n",
       "      <td>0.593025</td>\n",
       "      <td>-0.429139</td>\n",
       "      <td>-1.097441</td>\n",
       "      <td>-0.515688</td>\n",
       "    </tr>\n",
       "  </tbody>\n",
       "</table>\n",
       "</div>"
      ],
      "text/plain": [
       "   vehicletype  registrationyear   gearbox     power     model  kilometer  \\\n",
       "0    -1.893312          1.728890  0.424934 -0.126963  0.736093   0.593025   \n",
       "1    -1.893312          0.015938  0.424934  0.196371  1.570759   0.593025   \n",
       "2    -1.893312          0.638830 -1.909885  0.367548  0.051940   0.593025   \n",
       "3    -0.233348          1.728890  0.424934 -0.298140 -1.152170  -2.672626   \n",
       "4     1.426615          0.794553  0.424934 -0.640494  0.407699   0.593025   \n",
       "\n",
       "   fueltype     brand  notrepaired  \n",
       "0 -1.490236  0.471668    -0.515688  \n",
       "1  1.162507  1.293583    -0.515688  \n",
       "2 -1.490236  1.293583    -0.515688  \n",
       "3  0.631959 -1.471039    -0.515688  \n",
       "4 -0.429139 -1.097441    -0.515688  "
      ]
     },
     "execution_count": 40,
     "metadata": {},
     "output_type": "execute_result"
    }
   ],
   "source": [
    "features_train_ord.head()"
   ]
  },
  {
   "cell_type": "code",
   "execution_count": 41,
   "metadata": {},
   "outputs": [
    {
     "data": {
      "text/html": [
       "<div>\n",
       "<style scoped>\n",
       "    .dataframe tbody tr th:only-of-type {\n",
       "        vertical-align: middle;\n",
       "    }\n",
       "\n",
       "    .dataframe tbody tr th {\n",
       "        vertical-align: top;\n",
       "    }\n",
       "\n",
       "    .dataframe thead th {\n",
       "        text-align: right;\n",
       "    }\n",
       "</style>\n",
       "<table border=\"1\" class=\"dataframe\">\n",
       "  <thead>\n",
       "    <tr style=\"text-align: right;\">\n",
       "      <th></th>\n",
       "      <th>vehicletype</th>\n",
       "      <th>registrationyear</th>\n",
       "      <th>gearbox</th>\n",
       "      <th>power</th>\n",
       "      <th>model</th>\n",
       "      <th>kilometer</th>\n",
       "      <th>fueltype</th>\n",
       "      <th>brand</th>\n",
       "      <th>notrepaired</th>\n",
       "    </tr>\n",
       "  </thead>\n",
       "  <tbody>\n",
       "    <tr>\n",
       "      <th>231038</th>\n",
       "      <td>bus</td>\n",
       "      <td>2014</td>\n",
       "      <td>manual</td>\n",
       "      <td>114</td>\n",
       "      <td>other</td>\n",
       "      <td>150000</td>\n",
       "      <td>gasoline</td>\n",
       "      <td>renault</td>\n",
       "      <td>no</td>\n",
       "    </tr>\n",
       "    <tr>\n",
       "      <th>238491</th>\n",
       "      <td>bus</td>\n",
       "      <td>2003</td>\n",
       "      <td>manual</td>\n",
       "      <td>131</td>\n",
       "      <td>unknown</td>\n",
       "      <td>150000</td>\n",
       "      <td>unknown</td>\n",
       "      <td>volkswagen</td>\n",
       "      <td>no</td>\n",
       "    </tr>\n",
       "    <tr>\n",
       "      <th>204566</th>\n",
       "      <td>bus</td>\n",
       "      <td>2007</td>\n",
       "      <td>auto</td>\n",
       "      <td>140</td>\n",
       "      <td>golf</td>\n",
       "      <td>150000</td>\n",
       "      <td>gasoline</td>\n",
       "      <td>volkswagen</td>\n",
       "      <td>no</td>\n",
       "    </tr>\n",
       "    <tr>\n",
       "      <th>242503</th>\n",
       "      <td>sedan</td>\n",
       "      <td>2014</td>\n",
       "      <td>manual</td>\n",
       "      <td>105</td>\n",
       "      <td>a3</td>\n",
       "      <td>30000</td>\n",
       "      <td>petrol</td>\n",
       "      <td>audi</td>\n",
       "      <td>no</td>\n",
       "    </tr>\n",
       "    <tr>\n",
       "      <th>177716</th>\n",
       "      <td>wagon</td>\n",
       "      <td>2008</td>\n",
       "      <td>manual</td>\n",
       "      <td>87</td>\n",
       "      <td>logan</td>\n",
       "      <td>150000</td>\n",
       "      <td>lpg</td>\n",
       "      <td>dacia</td>\n",
       "      <td>no</td>\n",
       "    </tr>\n",
       "  </tbody>\n",
       "</table>\n",
       "</div>"
      ],
      "text/plain": [
       "       vehicletype  registrationyear gearbox  power    model  kilometer  \\\n",
       "231038         bus              2014  manual    114    other     150000   \n",
       "238491         bus              2003  manual    131  unknown     150000   \n",
       "204566         bus              2007    auto    140     golf     150000   \n",
       "242503       sedan              2014  manual    105       a3      30000   \n",
       "177716       wagon              2008  manual     87    logan     150000   \n",
       "\n",
       "        fueltype       brand notrepaired  \n",
       "231038  gasoline     renault          no  \n",
       "238491   unknown  volkswagen          no  \n",
       "204566  gasoline  volkswagen          no  \n",
       "242503    petrol        audi          no  \n",
       "177716       lpg       dacia          no  "
      ]
     },
     "execution_count": 41,
     "metadata": {},
     "output_type": "execute_result"
    }
   ],
   "source": [
    "features_train.head()"
   ]
  },
  {
   "cell_type": "markdown",
   "metadata": {},
   "source": [
    "### Вывод\n",
    "\n",
    "* Применили технику кодирования **OHE и OrdinalEncoder** признаков, по которому категориальные признаки превратились в численные;\n",
    "* Путем анализа сделали сокращение в датасете по прямому кодированию **data_ohe** путем удаления признака **model** `(было 311 признаков стало 62)`;\n",
    "* Вывели категориальные признаки в отдельную переменную **cat_features** с помощью которой и превратили в численные техникой порядкового кодирования;\n",
    "* С помощью функции **tts** разделили датасеты на выборки, которые с помощью **StandardScaler** были приведены к **одному масштабу**, чтобы `алгоритм не посчитал, что какой-то признак важнее`\n",
    "* Создали отдельно выборки для моделей **Градиентного бустинга**\n",
    "\n",
    "## Анализ моделей\n",
    "\n",
    "Теперь приступаем к обучению моделей\n",
    "\n",
    "Параметры будем подбирать с помощью **GridSearchCV**\n",
    "\n",
    "В задаче сказано, что для `оценки качества моделей применятся метрика` **RMSE**. Значение метрики **RMSE** `должно быть меньше` **2500**.\n",
    "\n",
    "* Введем функцию, которая будет расчитывать метрику **RMSE**"
   ]
  },
  {
   "cell_type": "code",
   "execution_count": 42,
   "metadata": {},
   "outputs": [],
   "source": [
    "def rmse(target, predict):\n",
    "    mse = mean_squared_error(target, predict)\n",
    "    rmse = np.sqrt(mse)\n",
    "    \n",
    "    return rmse"
   ]
  },
  {
   "cell_type": "markdown",
   "metadata": {},
   "source": [
    "* Создаем функцию для рассчитывания параметров и лучшего значения для **rmse**. Считать будем при помощи **`GridSearchCV()`**. Эта техника обучает модель с заданными нами в перечни параметрами, из которых выберет лучшие для метрики **rmse**, используя кросс валидацию, так как большая выборка (после проведем финальную проверку на тестовой). \n",
    "\n",
    "* С помощью параметра `make_scorer()` внесем расчетную метрику - нашу **функцию rmse** (хотя внутренняя функция, по которой обучается модель является встроенной функцией потерь (скорее всего MSE)), а также параметр `greater_is_better=False` (принято ставить `greater_is_better=False` для метрик, которые являются лоссами). Так как на выходе получается отрицательное число, приводим его в абсолютное с помощью `abs()`, чтобы не посчитал иначе при использовании этого параметра.\n",
    "\n",
    "* Лучшее значение **rmse** выводим с помощью атрибута `.best_score_`, а лучшие параметры с помощью `.best_params_`\n",
    "\n",
    "На вход функция принимает **6 аргументов**: `сама модель`, `перечень параметров`, `признаки`, `целевой признак`, `название модели` и `тип кодирования`. С ее помощью мы найдем лучшее значение **RMSE** с лучшими гиперпараметрами. Затем мы выберем топ лучших модель по значениям и выявим время обучения и предсказания, также проверим на тестовой выборке"
   ]
  },
  {
   "cell_type": "code",
   "execution_count": 43,
   "metadata": {},
   "outputs": [],
   "source": [
    "def best_model(model, params, features, target, model_name, cod_name):\n",
    "    \n",
    "    cvs = GridSearchCV(model, params, scoring=make_scorer(rmse, greater_is_better=False), cv=5)\n",
    "    \n",
    "    cvs.fit(features, target)\n",
    "    \n",
    "    print(f'Лучшие параметры модели {model_name} при {cod_name} кодировании: {cvs.best_params_}')\n",
    "    print()\n",
    "    print(f'Лучший RMSE модели {model_name} при {cod_name} кодировании: {round(abs(cvs.best_score_), 4)}')\n",
    "    print()"
   ]
  },
  {
   "cell_type": "markdown",
   "metadata": {},
   "source": [
    "* **Находим лучшее значение модели Решающего Дерева с ее гиперпараметрами**"
   ]
  },
  {
   "cell_type": "code",
   "execution_count": 44,
   "metadata": {},
   "outputs": [
    {
     "name": "stdout",
     "output_type": "stream",
     "text": [
      "Лучшие параметры модели Решающего Дерева при порядковом кодировании: {'max_depth': 11, 'min_samples_leaf': 6, 'min_samples_split': 5}\n",
      "\n",
      "Лучший RMSE модели Решающего Дерева при порядковом кодировании: 1897.7593\n",
      "\n",
      "CPU times: user 24.1 s, sys: 37.4 ms, total: 24.1 s\n",
      "Wall time: 24.1 s\n"
     ]
    }
   ],
   "source": [
    "%%time\n",
    "\n",
    "model_dtr = DecisionTreeRegressor(random_state=12345)\n",
    "\n",
    "params_dtr = {'max_depth': range(8, 12), 'min_samples_leaf': range(6, 8), 'min_samples_split': range(5, 7)}\n",
    "\n",
    "best_model(model_dtr, params_dtr, features_train_ord, target_train_ord, 'Решающего Дерева', 'порядковом')"
   ]
  },
  {
   "cell_type": "markdown",
   "metadata": {},
   "source": [
    "* **Теперь смотрим на модель Случайного Леса на выборках, который были закодированы порядковым методом**"
   ]
  },
  {
   "cell_type": "code",
   "execution_count": 45,
   "metadata": {},
   "outputs": [
    {
     "name": "stdout",
     "output_type": "stream",
     "text": [
      "Лучшие параметры модели Случайного Леса при порядковом кодировании: {'max_depth': 10, 'min_samples_leaf': 7, 'min_samples_split': 5, 'n_estimators': 100}\n",
      "\n",
      "Лучший RMSE модели Случайного Леса при порядковом кодировании: 1849.3872\n",
      "\n",
      "CPU times: user 2min 3s, sys: 167 ms, total: 2min 3s\n",
      "Wall time: 2min 4s\n"
     ]
    }
   ],
   "source": [
    "%%time\n",
    "\n",
    "model_rfr = RandomForestRegressor(random_state=12345)\n",
    "\n",
    "params_rfr = {'max_depth': range(10, 11), 'min_samples_leaf': range(7, 8), \n",
    "              'min_samples_split': range(5, 6), 'n_estimators': range(100, 101)}\n",
    "\n",
    "best_model(model_rfr, params_rfr, features_train_ord, target_train_ord, 'Случайного Леса', 'порядковом')"
   ]
  },
  {
   "cell_type": "markdown",
   "metadata": {},
   "source": [
    "* Посмотрим как будет меняться значение **RMSE** модели **DummyRegressor** со стратегией квантиля"
   ]
  },
  {
   "cell_type": "code",
   "execution_count": 46,
   "metadata": {},
   "outputs": [
    {
     "name": "stdout",
     "output_type": "stream",
     "text": [
      "Лучшие параметры модели Дамми Регрессора при прямом кодировании: {'quantile': 0.6000000000000001}\n",
      "\n",
      "Лучший RMSE модели Дамми Регрессора при прямом кодировании: 4618.7973\n",
      "\n",
      "CPU times: user 1.18 s, sys: 1.19 s, total: 2.36 s\n",
      "Wall time: 2.37 s\n"
     ]
    }
   ],
   "source": [
    "%%time\n",
    "\n",
    "model_dr = DummyRegressor(strategy='quantile')\n",
    "\n",
    "params_dr = {'quantile':np.arange(0.0, 1.0, 0.1)}\n",
    "\n",
    "best_model(model_dr, params_dr, features_train_ohe, target_train_ohe, 'Дамми Регрессора', 'прямом')"
   ]
  },
  {
   "cell_type": "markdown",
   "metadata": {},
   "source": [
    "**DummyRegressor** показал себя совсем слабо\n",
    "\n",
    "* Теперь возьмем модель **Линейной Регрессии** на двух выборках (прямое и порядковое кодирование)"
   ]
  },
  {
   "cell_type": "code",
   "execution_count": 47,
   "metadata": {},
   "outputs": [
    {
     "name": "stdout",
     "output_type": "stream",
     "text": [
      "Лучшие параметры модели Линейной Регрессии при прямом кодировании: {'normalize': True}\n",
      "\n",
      "Лучший RMSE модели Линейной Регрессии при прямом кодировании: 2702.9242\n",
      "\n",
      "CPU times: user 15.6 s, sys: 13.4 s, total: 29 s\n",
      "Wall time: 29 s\n"
     ]
    }
   ],
   "source": [
    "%%time\n",
    "\n",
    "model_lr = LinearRegression()\n",
    "\n",
    "params_lr = {'normalize': [True, False]}\n",
    "\n",
    "best_model(model_lr, params_lr, features_train_ohe, target_train_ohe, 'Линейной Регрессии', 'прямом')"
   ]
  },
  {
   "cell_type": "code",
   "execution_count": 48,
   "metadata": {},
   "outputs": [
    {
     "name": "stdout",
     "output_type": "stream",
     "text": [
      "Лучшие параметры модели Линейной Регрессии при порядковом кодировании: {'normalize': True}\n",
      "\n",
      "Лучший RMSE модели Линейной Регрессии при порядковом кодировании: 2879.9605\n",
      "\n",
      "CPU times: user 1.02 s, sys: 1.15 s, total: 2.17 s\n",
      "Wall time: 2.14 s\n"
     ]
    }
   ],
   "source": [
    "%%time\n",
    "\n",
    "model_lr_ord = LinearRegression()\n",
    "\n",
    "params_lr_ord = {'normalize': [True, False]}\n",
    "\n",
    "best_model(model_lr_ord, params_lr_ord, features_train_ord, target_train_ord, 'Линейной Регрессии', 'порядковом')"
   ]
  },
  {
   "cell_type": "markdown",
   "metadata": {},
   "source": [
    "* Среди всех моделей не градиентного бустинга лучше всего себя по значению **RMSE** показала модель **Случайного Леса**\n",
    "* Теперь посмотрим модели градиентного бустинга\n",
    "\n",
    "Начнем с **CatBoostRegressor**"
   ]
  },
  {
   "cell_type": "code",
   "execution_count": 49,
   "metadata": {
    "scrolled": true
   },
   "outputs": [],
   "source": [
    "%%time\n",
    "\n",
    "\n",
    "model_ctr = CatBoostRegressor(loss_function='RMSE', cat_features=cat_features, verbose=False, random_state=12345)\n",
    "#model_ctr.fit(features_train, target_train, cat_features=cat_features, verbose=30)\n",
    "\n",
    "params_ctr = {'iterations': range(80, 151, 35), 'max_depth': range(9, 12, 2)}\n",
    "\n",
    "best_model(model_ctr, params_ctr, features_train, target_train, 'CatBoostRegressor', 'отсутствующем')"
   ]
  },
  {
   "cell_type": "markdown",
   "metadata": {},
   "source": [
    "Подобрали параметры. Теперь узнаем время обучения и предсказания, а также значение метрики **RMSE**"
   ]
  },
  {
   "cell_type": "code",
   "execution_count": 50,
   "metadata": {},
   "outputs": [
    {
     "name": "stdout",
     "output_type": "stream",
     "text": [
      "Learning rate set to 0.448606\n",
      "0:\tlearn: 3236.7273589\ttotal: 250ms\tremaining: 37.2s\n",
      "50:\tlearn: 1470.5144071\ttotal: 7.41s\tremaining: 14.4s\n",
      "100:\tlearn: 1373.4804665\ttotal: 14.1s\tremaining: 6.86s\n",
      "149:\tlearn: 1318.2500057\ttotal: 20.8s\tremaining: 0us\n",
      "CPU times: user 21 s, sys: 188 ms, total: 21.2 s\n",
      "Wall time: 21.9 s\n"
     ]
    },
    {
     "data": {
      "text/plain": [
       "<catboost.core.CatBoostRegressor at 0x7fc8cb03b160>"
      ]
     },
     "execution_count": 50,
     "metadata": {},
     "output_type": "execute_result"
    }
   ],
   "source": [
    "%%time\n",
    "\n",
    "model_ctr = CatBoostRegressor(loss_function='RMSE', iterations=150, max_depth=11, random_state=12345)\n",
    "model_ctr.fit(features_train, target_train, cat_features=cat_features, verbose=50)"
   ]
  },
  {
   "cell_type": "code",
   "execution_count": 51,
   "metadata": {},
   "outputs": [
    {
     "name": "stdout",
     "output_type": "stream",
     "text": [
      "1333.0385503070138\n",
      "CPU times: user 355 ms, sys: 7.86 ms, total: 363 ms\n",
      "Wall time: 367 ms\n"
     ]
    }
   ],
   "source": [
    "%%time \n",
    "\n",
    "predict_ctr = model_ctr.predict(features_train)\n",
    "rmse_ctr = rmse(target_train, predict_ctr)\n",
    "print(rmse_ctr)"
   ]
  },
  {
   "cell_type": "markdown",
   "metadata": {},
   "source": [
    "* Рассмотрим модель **LightGBM**"
   ]
  },
  {
   "cell_type": "code",
   "execution_count": 52,
   "metadata": {},
   "outputs": [],
   "source": [
    "%%time\n",
    "\n",
    "model_lgbm = LGBMRegressor(learning_rate=0.1)\n",
    "\n",
    "params_lgbm = {'max_depth': [11, 15], 'n_estimators': [70, 90]}\n",
    "\n",
    "best_model(model_lgbm, params_lgbm, features_train_ord, target_train_ord, 'LGMB', 'порядковом')"
   ]
  },
  {
   "cell_type": "markdown",
   "metadata": {},
   "source": [
    "* Подобрали гиперпараметры для модели **LGBM**. Теперь так же, как и для модели **CatBoost**, вычисляем время обучения и предсказания"
   ]
  },
  {
   "cell_type": "code",
   "execution_count": 53,
   "metadata": {},
   "outputs": [
    {
     "name": "stdout",
     "output_type": "stream",
     "text": [
      "CPU times: user 1min 7s, sys: 356 ms, total: 1min 8s\n",
      "Wall time: 1min 9s\n"
     ]
    },
    {
     "data": {
      "text/plain": [
       "LGBMRegressor(max_depth=15, n_estimators=90)"
      ]
     },
     "execution_count": 53,
     "metadata": {},
     "output_type": "execute_result"
    }
   ],
   "source": [
    "%%time\n",
    "\n",
    "model_lgbm = LGBMRegressor(max_depth=15, n_estimators=90, learning_rate=0.1)\n",
    "model_lgbm.fit(features_train_ord, target_train_ord)"
   ]
  },
  {
   "cell_type": "code",
   "execution_count": 54,
   "metadata": {},
   "outputs": [
    {
     "name": "stdout",
     "output_type": "stream",
     "text": [
      "1648.8527037741833\n",
      "CPU times: user 1.4 s, sys: 0 ns, total: 1.4 s\n",
      "Wall time: 1.39 s\n"
     ]
    }
   ],
   "source": [
    "%%time\n",
    "\n",
    "predict_lgbm = model_lgbm.predict(features_train_ord)\n",
    "rmse_lgbm = rmse(target_train_ord, predict_lgbm)\n",
    "print(rmse_lgbm)"
   ]
  },
  {
   "cell_type": "markdown",
   "metadata": {},
   "source": [
    "Среди моделей `не бустинга`, лучше всего показали себя модели деревьев - **Решающее Дерево и Случайный Лес**. Проверим их на тествой выборке, и вычислим `время обучения и предсказания`.\n",
    "\n",
    "* Задаем моделям найденные (с помощью **GridSearchCV()**) для них лучшие гиперпараметры"
   ]
  },
  {
   "cell_type": "code",
   "execution_count": 55,
   "metadata": {},
   "outputs": [
    {
     "name": "stdout",
     "output_type": "stream",
     "text": [
      "CPU times: user 376 ms, sys: 0 ns, total: 376 ms\n",
      "Wall time: 413 ms\n"
     ]
    },
    {
     "data": {
      "text/plain": [
       "DecisionTreeRegressor(max_depth=11, min_samples_leaf=6, min_samples_split=5,\n",
       "                      random_state=12345)"
      ]
     },
     "execution_count": 55,
     "metadata": {},
     "output_type": "execute_result"
    }
   ],
   "source": [
    "%%time\n",
    "\n",
    "model_dtr = DecisionTreeRegressor(max_depth=11, min_samples_leaf=6, min_samples_split=5, random_state=12345)\n",
    "model_dtr.fit(features_train_ord, target_train_ord)"
   ]
  },
  {
   "cell_type": "code",
   "execution_count": 56,
   "metadata": {},
   "outputs": [
    {
     "name": "stdout",
     "output_type": "stream",
     "text": [
      "1789.2286757228208\n",
      "CPU times: user 26.4 ms, sys: 0 ns, total: 26.4 ms\n",
      "Wall time: 25.3 ms\n"
     ]
    }
   ],
   "source": [
    "%%time\n",
    "\n",
    "predict_dtr = model_dtr.predict(features_train_ord)\n",
    "rmse_dtr = rmse(target_train_ord, predict_dtr)\n",
    "print(rmse_dtr)"
   ]
  },
  {
   "cell_type": "markdown",
   "metadata": {},
   "source": [
    "**Модель RandomForestRegressor**"
   ]
  },
  {
   "cell_type": "code",
   "execution_count": 57,
   "metadata": {},
   "outputs": [
    {
     "name": "stdout",
     "output_type": "stream",
     "text": [
      "CPU times: user 23.8 s, sys: 35 ms, total: 23.9 s\n",
      "Wall time: 23.9 s\n"
     ]
    },
    {
     "data": {
      "text/plain": [
       "RandomForestRegressor(max_depth=10, min_samples_leaf=7, min_samples_split=5,\n",
       "                      random_state=12345)"
      ]
     },
     "execution_count": 57,
     "metadata": {},
     "output_type": "execute_result"
    }
   ],
   "source": [
    "%%time\n",
    "\n",
    "model_rfr = RandomForestRegressor(max_depth=10, min_samples_leaf=7, min_samples_split=5, n_estimators=100, \n",
    "                                  random_state=12345)\n",
    "model_rfr.fit(features_train_ord, target_train_ord)"
   ]
  },
  {
   "cell_type": "code",
   "execution_count": 58,
   "metadata": {},
   "outputs": [
    {
     "name": "stdout",
     "output_type": "stream",
     "text": [
      "1793.1028998785382\n",
      "CPU times: user 1.68 s, sys: 937 µs, total: 1.69 s\n",
      "Wall time: 1.69 s\n"
     ]
    }
   ],
   "source": [
    "%%time\n",
    "\n",
    "predict_rfr = model_rfr.predict(features_train_ord)\n",
    "rmse_rfr = rmse(target_train_ord, predict_rfr)\n",
    "print(rmse_rfr)"
   ]
  },
  {
   "cell_type": "markdown",
   "metadata": {},
   "source": [
    "### Выявляем лучшую модель \n",
    "\n",
    "Для визуального восприятия выведем все значения метрики **RMSE**, время обучения и предсказания каждой модели в единый датафрейм. По ней и выберем `лучшую модель`, которую `проверим на тестовой выборке`"
   ]
  },
  {
   "cell_type": "code",
   "execution_count": 63,
   "metadata": {},
   "outputs": [
    {
     "data": {
      "text/html": [
       "<div>\n",
       "<style scoped>\n",
       "    .dataframe tbody tr th:only-of-type {\n",
       "        vertical-align: middle;\n",
       "    }\n",
       "\n",
       "    .dataframe tbody tr th {\n",
       "        vertical-align: top;\n",
       "    }\n",
       "\n",
       "    .dataframe thead th {\n",
       "        text-align: right;\n",
       "    }\n",
       "</style>\n",
       "<table border=\"1\" class=\"dataframe\">\n",
       "  <thead>\n",
       "    <tr style=\"text-align: right;\">\n",
       "      <th></th>\n",
       "      <th>модель</th>\n",
       "      <th>RMSE (евро)</th>\n",
       "      <th>~ время обучения (сек.)</th>\n",
       "      <th>~ время предсказания (сек.)</th>\n",
       "    </tr>\n",
       "  </thead>\n",
       "  <tbody>\n",
       "    <tr>\n",
       "      <th>0</th>\n",
       "      <td>DecisionTreeRegressor</td>\n",
       "      <td>1789.229</td>\n",
       "      <td>0.421</td>\n",
       "      <td>0.014</td>\n",
       "    </tr>\n",
       "    <tr>\n",
       "      <th>1</th>\n",
       "      <td>RandomForestRegressor</td>\n",
       "      <td>1793.103</td>\n",
       "      <td>23.900</td>\n",
       "      <td>1.690</td>\n",
       "    </tr>\n",
       "    <tr>\n",
       "      <th>2</th>\n",
       "      <td>CatBoostRegressor</td>\n",
       "      <td>1333.039</td>\n",
       "      <td>21.900</td>\n",
       "      <td>0.367</td>\n",
       "    </tr>\n",
       "    <tr>\n",
       "      <th>3</th>\n",
       "      <td>LGBMRegressor</td>\n",
       "      <td>1648.853</td>\n",
       "      <td>69.000</td>\n",
       "      <td>1.390</td>\n",
       "    </tr>\n",
       "  </tbody>\n",
       "</table>\n",
       "</div>"
      ],
      "text/plain": [
       "                  модель  RMSE (евро)  ~ время обучения (сек.)  \\\n",
       "0  DecisionTreeRegressor     1789.229                    0.421   \n",
       "1  RandomForestRegressor     1793.103                   23.900   \n",
       "2      CatBoostRegressor     1333.039                   21.900   \n",
       "3          LGBMRegressor     1648.853                   69.000   \n",
       "\n",
       "   ~ время предсказания (сек.)  \n",
       "0                        0.014  \n",
       "1                        1.690  \n",
       "2                        0.367  \n",
       "3                        1.390  "
      ]
     },
     "execution_count": 63,
     "metadata": {},
     "output_type": "execute_result"
    }
   ],
   "source": [
    "table=pd.DataFrame({'модель':['DecisionTreeRegressor', 'RandomForestRegressor', 'CatBoostRegressor', 'LGBMRegressor'], \n",
    "                   'RMSE (евро)': [round(rmse_dtr, 3), round(rmse_rfr, 3), round(rmse_ctr, 3), round(rmse_lgbm, 3)], \n",
    "                   '~ время обучения (сек.)': [0.421, 23.9, 21.9, 69],\n",
    "                   '~ время предсказания (сек.)': [0.014, 1.69, 0.367, 1.39]})\n",
    "table"
   ]
  },
  {
   "cell_type": "markdown",
   "metadata": {},
   "source": [
    "Из созданного датафрейма видим, что **лучшее значение RMSE на обучающей выборке у `CatBoostRegressor`**. Также она довольно быстро обучается и предсказывает (почти лучшие показатели в этом сегменте). Однозначно **`CatBoostRegressor`** для данной задачи, **то есть по критериям заказчика**, подходит лучше всех. Но глядя на таблицу, можно выявить, что важнее всего для пользователя (время, либо качество)\n",
    "\n",
    "\n",
    "**Проверим ее на тестовой выборке** (`Снова обучим и предскажем на тестовой выборке`)\n",
    "\n"
   ]
  },
  {
   "cell_type": "code",
   "execution_count": 64,
   "metadata": {},
   "outputs": [
    {
     "name": "stdout",
     "output_type": "stream",
     "text": [
      "Learning rate set to 0.448606\n",
      "0:\tlearn: 3236.7273589\ttotal: 172ms\tremaining: 25.6s\n",
      "50:\tlearn: 1470.5144071\ttotal: 7.6s\tremaining: 14.8s\n",
      "100:\tlearn: 1373.4804665\ttotal: 14.3s\tremaining: 6.94s\n",
      "149:\tlearn: 1318.2500057\ttotal: 21s\tremaining: 0us\n",
      "CPU times: user 20.2 s, sys: 215 ms, total: 20.5 s\n",
      "Wall time: 22 s\n"
     ]
    },
    {
     "data": {
      "text/plain": [
       "<catboost.core.CatBoostRegressor at 0x7fc8cb046430>"
      ]
     },
     "execution_count": 64,
     "metadata": {},
     "output_type": "execute_result"
    }
   ],
   "source": [
    "%%time\n",
    "\n",
    "model_ctr = CatBoostRegressor(loss_function='RMSE', iterations=150, max_depth=11, random_state=12345)\n",
    "model_ctr.fit(features_train, target_train, cat_features=cat_features, verbose=50)"
   ]
  },
  {
   "cell_type": "code",
   "execution_count": 92,
   "metadata": {},
   "outputs": [
    {
     "name": "stdout",
     "output_type": "stream",
     "text": [
      "1545.944448721185\n",
      "CPU times: user 120 ms, sys: 64 µs, total: 120 ms\n",
      "Wall time: 120 ms\n"
     ]
    }
   ],
   "source": [
    "%%time \n",
    "\n",
    "predict_ctr_test = model_ctr.predict(features_test)\n",
    "rmse_ctr_final = rmse(target_test, predict_ctr_test)\n",
    "print(rmse_ctr_final)"
   ]
  },
  {
   "cell_type": "code",
   "execution_count": 93,
   "metadata": {},
   "outputs": [
    {
     "data": {
      "text/html": [
       "<div>\n",
       "<style scoped>\n",
       "    .dataframe tbody tr th:only-of-type {\n",
       "        vertical-align: middle;\n",
       "    }\n",
       "\n",
       "    .dataframe tbody tr th {\n",
       "        vertical-align: top;\n",
       "    }\n",
       "\n",
       "    .dataframe thead th {\n",
       "        text-align: right;\n",
       "    }\n",
       "</style>\n",
       "<table border=\"1\" class=\"dataframe\">\n",
       "  <thead>\n",
       "    <tr style=\"text-align: right;\">\n",
       "      <th></th>\n",
       "      <th>лучшая модель</th>\n",
       "      <th>RMSE</th>\n",
       "      <th>~ время обучения (сек.)</th>\n",
       "      <th>~ время предсказания (сек.)</th>\n",
       "    </tr>\n",
       "  </thead>\n",
       "  <tbody>\n",
       "    <tr>\n",
       "      <th>0</th>\n",
       "      <td>CatBoostRegressor</td>\n",
       "      <td>1545.944</td>\n",
       "      <td>22</td>\n",
       "      <td>0.115</td>\n",
       "    </tr>\n",
       "  </tbody>\n",
       "</table>\n",
       "</div>"
      ],
      "text/plain": [
       "       лучшая модель      RMSE ~ время обучения (сек.)  \\\n",
       "0  CatBoostRegressor  1545.944                      22   \n",
       "\n",
       "  ~ время предсказания (сек.)  \n",
       "0                       0.115  "
      ]
     },
     "execution_count": 93,
     "metadata": {},
     "output_type": "execute_result"
    }
   ],
   "source": [
    "final_result = pd.Series({'лучшая модель': 'CatBoostRegressor', 'RMSE': round(rmse_ctr_final, 3), \n",
    "                          '~ время обучения (сек.)': 22, '~ время предсказания (сек.)': 0.115}).to_frame()\n",
    "final_result = final_result.T\n",
    "final_result"
   ]
  },
  {
   "cell_type": "markdown",
   "metadata": {},
   "source": [
    "Для окончательного вывода стоит проверить на адекватность выявленную модель, а **также подходит ли по критериям начального значения `RMSE`**. \n",
    "\n",
    "Считаем среднее целевого признака на обучающей выборке и рассчитываем кастомной функцией **rmse**, предварительно превратив в тип `Series` среднее значение\n",
    "\n",
    "**Вводим констатную модель и константное значение RMSE**:"
   ]
  },
  {
   "cell_type": "code",
   "execution_count": 94,
   "metadata": {},
   "outputs": [
    {
     "name": "stdout",
     "output_type": "stream",
     "text": [
      "4596.460015069685\n",
      "\n",
      "Выявленная модель прошла тест на адекватность и подходит по критериям заказчика\n"
     ]
    }
   ],
   "source": [
    "rmse_const = 2500\n",
    "predict_const = pd.Series(target_train.mean(), index=target_train.index)\n",
    "const_rmse = rmse(target_train, predict_const)\n",
    "print(const_rmse)\n",
    "print()\n",
    "\n",
    "if const_rmse > rmse_ctr_test and rmse_ctr_final < rmse_const:\n",
    "    print('Выявленная модель прошла тест на адекватность и подходит по критериям заказчика')\n",
    "else:\n",
    "    print('Что-то пошло не так')"
   ]
  },
  {
   "cell_type": "markdown",
   "metadata": {},
   "source": [
    "### Вывод по модели\n",
    "\n",
    "В результате анализа моделей, **лучше всего по критериям, которые важны заказчику**, проявила себя модель **`CatBoostRegressor`** со значениями:"
   ]
  },
  {
   "cell_type": "code",
   "execution_count": 99,
   "metadata": {},
   "outputs": [
    {
     "data": {
      "text/html": [
       "<div>\n",
       "<style scoped>\n",
       "    .dataframe tbody tr th:only-of-type {\n",
       "        vertical-align: middle;\n",
       "    }\n",
       "\n",
       "    .dataframe tbody tr th {\n",
       "        vertical-align: top;\n",
       "    }\n",
       "\n",
       "    .dataframe thead th {\n",
       "        text-align: right;\n",
       "    }\n",
       "</style>\n",
       "<table border=\"1\" class=\"dataframe\">\n",
       "  <thead>\n",
       "    <tr style=\"text-align: right;\">\n",
       "      <th></th>\n",
       "      <th>лучшая модель</th>\n",
       "      <th>RMSE</th>\n",
       "      <th>~ время обучения (сек.)</th>\n",
       "      <th>~ время предсказания (сек.)</th>\n",
       "    </tr>\n",
       "  </thead>\n",
       "  <tbody>\n",
       "    <tr>\n",
       "      <th>0</th>\n",
       "      <td>CatBoostRegressor</td>\n",
       "      <td>1545.944</td>\n",
       "      <td>22</td>\n",
       "      <td>0.115</td>\n",
       "    </tr>\n",
       "  </tbody>\n",
       "</table>\n",
       "</div>"
      ],
      "text/plain": [
       "       лучшая модель      RMSE ~ время обучения (сек.)  \\\n",
       "0  CatBoostRegressor  1545.944                      22   \n",
       "\n",
       "  ~ время предсказания (сек.)  \n",
       "0                       0.115  "
      ]
     },
     "execution_count": 99,
     "metadata": {},
     "output_type": "execute_result"
    }
   ],
   "source": [
    "final_result"
   ]
  },
  {
   "cell_type": "markdown",
   "metadata": {},
   "source": [
    "## Вывод\n",
    "\n",
    "* Были загружены и разобраны данные;\n",
    "* В ходе предобработки данных было обнаружено много пропусков. В результате анализа они были заменены на заглушку **unknown**;\n",
    "* Были построены диаграммы размаха и гистограммы, с помощью который были обнаружены выбросы и аномальные значения, и впоследствии устранены;\n",
    "* Были также удалены не нужные признаки для модели `'datecrawled', 'registrationmonth', 'datecreated', 'numberofpictures', 'postalcode', 'lastseen'`;\n",
    "* Применили технику кодирования **OHE и OrdinalEncoder**;\n",
    "* С помощью функции **tts** разделили датасеты на выборки, которые с помощью **StandardScaler** были приведены к **одному масштабу**;\n",
    "* Была разработана функция расчета метрики качества **rmse**;\n",
    "* Также была введена функция **best_model**, в которую была передана кастомная функция **rmse** как `score`. Также благодаря ей были рассчитаны **rmse** моделей и лушчие гиперпараметры для них при помощи **GridSearchCv**;\n",
    "* В результате анализа моделей были выведены **топ 4 модели**: `DecisionTreeRegressor`, `RandomForestRegressor`, `CatBoostRegressor` и `LGBMRegressor`. Они были проверены на тестовых выборках;\n",
    "* Была выявлена лучшая модель по критериям, которые важны заказчику (это качество предсказания, время обучения модели и время предсказания). Лучшей оказалась модель модель **CatBoostRegressor**, которая к тому же прошла тест на адекватность\n",
    "\n",
    "**Таблица для визуализации результатов (`до финальной проверки`)**"
   ]
  },
  {
   "cell_type": "code",
   "execution_count": 62,
   "metadata": {},
   "outputs": [
    {
     "data": {
      "text/html": [
       "<div>\n",
       "<style scoped>\n",
       "    .dataframe tbody tr th:only-of-type {\n",
       "        vertical-align: middle;\n",
       "    }\n",
       "\n",
       "    .dataframe tbody tr th {\n",
       "        vertical-align: top;\n",
       "    }\n",
       "\n",
       "    .dataframe thead th {\n",
       "        text-align: right;\n",
       "    }\n",
       "</style>\n",
       "<table border=\"1\" class=\"dataframe\">\n",
       "  <thead>\n",
       "    <tr style=\"text-align: right;\">\n",
       "      <th></th>\n",
       "      <th>модель</th>\n",
       "      <th>RMSE (евро)</th>\n",
       "      <th>~ время обучения (сек.)</th>\n",
       "      <th>~ время предсказания (сек.)</th>\n",
       "    </tr>\n",
       "  </thead>\n",
       "  <tbody>\n",
       "    <tr>\n",
       "      <th>0</th>\n",
       "      <td>DecisionTreeRegressor</td>\n",
       "      <td>1789.229</td>\n",
       "      <td>0.421</td>\n",
       "      <td>0.014</td>\n",
       "    </tr>\n",
       "    <tr>\n",
       "      <th>1</th>\n",
       "      <td>RandomForestRegressor</td>\n",
       "      <td>1793.103</td>\n",
       "      <td>27.400</td>\n",
       "      <td>0.666</td>\n",
       "    </tr>\n",
       "    <tr>\n",
       "      <th>2</th>\n",
       "      <td>CatBoostRegressor</td>\n",
       "      <td>1333.039</td>\n",
       "      <td>25.600</td>\n",
       "      <td>0.161</td>\n",
       "    </tr>\n",
       "    <tr>\n",
       "      <th>3</th>\n",
       "      <td>LGBMRegressor</td>\n",
       "      <td>1648.853</td>\n",
       "      <td>45.100</td>\n",
       "      <td>0.470</td>\n",
       "    </tr>\n",
       "  </tbody>\n",
       "</table>\n",
       "</div>"
      ],
      "text/plain": [
       "                  модель  RMSE (евро)  ~ время обучения (сек.)  \\\n",
       "0  DecisionTreeRegressor     1789.229                    0.421   \n",
       "1  RandomForestRegressor     1793.103                   27.400   \n",
       "2      CatBoostRegressor     1333.039                   25.600   \n",
       "3          LGBMRegressor     1648.853                   45.100   \n",
       "\n",
       "   ~ время предсказания (сек.)  \n",
       "0                        0.014  \n",
       "1                        0.666  \n",
       "2                        0.161  \n",
       "3                        0.470  "
      ]
     },
     "execution_count": 62,
     "metadata": {},
     "output_type": "execute_result"
    }
   ],
   "source": [
    "table"
   ]
  },
  {
   "cell_type": "markdown",
   "metadata": {},
   "source": [
    "**После финальной проверки лучшей модели**"
   ]
  },
  {
   "cell_type": "code",
   "execution_count": 100,
   "metadata": {},
   "outputs": [
    {
     "data": {
      "text/html": [
       "<div>\n",
       "<style scoped>\n",
       "    .dataframe tbody tr th:only-of-type {\n",
       "        vertical-align: middle;\n",
       "    }\n",
       "\n",
       "    .dataframe tbody tr th {\n",
       "        vertical-align: top;\n",
       "    }\n",
       "\n",
       "    .dataframe thead th {\n",
       "        text-align: right;\n",
       "    }\n",
       "</style>\n",
       "<table border=\"1\" class=\"dataframe\">\n",
       "  <thead>\n",
       "    <tr style=\"text-align: right;\">\n",
       "      <th></th>\n",
       "      <th>лучшая модель</th>\n",
       "      <th>RMSE</th>\n",
       "      <th>~ время обучения (сек.)</th>\n",
       "      <th>~ время предсказания (сек.)</th>\n",
       "    </tr>\n",
       "  </thead>\n",
       "  <tbody>\n",
       "    <tr>\n",
       "      <th>0</th>\n",
       "      <td>CatBoostRegressor</td>\n",
       "      <td>1545.944</td>\n",
       "      <td>22</td>\n",
       "      <td>0.115</td>\n",
       "    </tr>\n",
       "  </tbody>\n",
       "</table>\n",
       "</div>"
      ],
      "text/plain": [
       "       лучшая модель      RMSE ~ время обучения (сек.)  \\\n",
       "0  CatBoostRegressor  1545.944                      22   \n",
       "\n",
       "  ~ время предсказания (сек.)  \n",
       "0                       0.115  "
      ]
     },
     "execution_count": 100,
     "metadata": {},
     "output_type": "execute_result"
    }
   ],
   "source": [
    "final_result"
   ]
  }
 ],
 "metadata": {
  "ExecuteTimeLog": [
   {
    "duration": 375,
    "start_time": "2022-09-28T15:45:22.264Z"
   },
   {
    "duration": 1006,
    "start_time": "2022-09-28T15:45:43.044Z"
   },
   {
    "duration": 782,
    "start_time": "2022-09-28T15:45:49.946Z"
   },
   {
    "duration": 4,
    "start_time": "2022-09-28T16:28:47.107Z"
   },
   {
    "duration": 716,
    "start_time": "2022-09-28T16:28:57.645Z"
   },
   {
    "duration": 725,
    "start_time": "2022-09-28T16:29:12.122Z"
   },
   {
    "duration": 5,
    "start_time": "2022-09-28T16:30:03.942Z"
   },
   {
    "duration": 670,
    "start_time": "2022-09-28T16:30:13.251Z"
   },
   {
    "duration": 12,
    "start_time": "2022-09-28T18:05:48.460Z"
   },
   {
    "duration": 71,
    "start_time": "2022-09-28T18:06:06.316Z"
   },
   {
    "duration": 5,
    "start_time": "2022-09-28T18:06:09.302Z"
   },
   {
    "duration": 81,
    "start_time": "2022-09-28T18:08:20.339Z"
   },
   {
    "duration": 6,
    "start_time": "2022-09-28T18:30:25.211Z"
   },
   {
    "duration": 8,
    "start_time": "2022-09-28T18:30:31.737Z"
   },
   {
    "duration": 7,
    "start_time": "2022-09-28T18:30:36.959Z"
   },
   {
    "duration": 8,
    "start_time": "2022-09-28T18:30:56.853Z"
   },
   {
    "duration": 5,
    "start_time": "2022-09-28T18:34:18.770Z"
   },
   {
    "duration": 3,
    "start_time": "2022-09-28T18:34:24.800Z"
   },
   {
    "duration": 6,
    "start_time": "2022-09-28T18:34:27.611Z"
   },
   {
    "duration": 6,
    "start_time": "2022-09-28T18:34:33.582Z"
   },
   {
    "duration": 6,
    "start_time": "2022-09-28T18:34:39.304Z"
   },
   {
    "duration": 5,
    "start_time": "2022-09-28T18:34:45.898Z"
   },
   {
    "duration": 8,
    "start_time": "2022-09-28T18:34:50.487Z"
   },
   {
    "duration": 355,
    "start_time": "2022-09-28T18:34:56.169Z"
   },
   {
    "duration": 811,
    "start_time": "2022-09-28T18:34:56.525Z"
   },
   {
    "duration": 748,
    "start_time": "2022-09-28T18:34:57.337Z"
   },
   {
    "duration": 85,
    "start_time": "2022-09-28T18:34:58.087Z"
   },
   {
    "duration": 74,
    "start_time": "2022-09-28T18:34:58.173Z"
   },
   {
    "duration": 0,
    "start_time": "2022-09-28T18:34:58.248Z"
   },
   {
    "duration": 2,
    "start_time": "2022-09-28T18:35:04.525Z"
   },
   {
    "duration": 9,
    "start_time": "2022-09-28T18:35:04.888Z"
   },
   {
    "duration": 8,
    "start_time": "2022-09-28T18:35:11.312Z"
   },
   {
    "duration": 8,
    "start_time": "2022-09-28T18:35:56.052Z"
   },
   {
    "duration": 10,
    "start_time": "2022-09-28T18:36:03.684Z"
   },
   {
    "duration": 367,
    "start_time": "2022-09-28T18:36:08.749Z"
   },
   {
    "duration": 791,
    "start_time": "2022-09-28T18:36:09.118Z"
   },
   {
    "duration": 756,
    "start_time": "2022-09-28T18:36:09.910Z"
   },
   {
    "duration": 86,
    "start_time": "2022-09-28T18:36:10.667Z"
   },
   {
    "duration": 2,
    "start_time": "2022-09-28T18:36:10.755Z"
   },
   {
    "duration": 85,
    "start_time": "2022-09-28T18:36:10.758Z"
   },
   {
    "duration": 7,
    "start_time": "2022-09-28T18:36:29.239Z"
   },
   {
    "duration": 796,
    "start_time": "2022-09-28T18:38:29.037Z"
   },
   {
    "duration": 214,
    "start_time": "2022-09-28T18:39:07.063Z"
   },
   {
    "duration": 43,
    "start_time": "2022-09-29T07:58:22.301Z"
   },
   {
    "duration": 374,
    "start_time": "2022-09-29T07:58:27.585Z"
   },
   {
    "duration": 2766,
    "start_time": "2022-09-29T07:58:27.961Z"
   },
   {
    "duration": 734,
    "start_time": "2022-09-29T07:58:30.729Z"
   },
   {
    "duration": 3,
    "start_time": "2022-09-29T07:58:31.465Z"
   },
   {
    "duration": 21,
    "start_time": "2022-09-29T07:58:40.242Z"
   },
   {
    "duration": 73,
    "start_time": "2022-09-29T08:00:37.815Z"
   },
   {
    "duration": 7,
    "start_time": "2022-09-29T08:00:48.319Z"
   },
   {
    "duration": 7,
    "start_time": "2022-09-29T08:00:52.084Z"
   },
   {
    "duration": 6,
    "start_time": "2022-09-29T08:00:57.861Z"
   },
   {
    "duration": 7,
    "start_time": "2022-09-29T08:01:05.877Z"
   },
   {
    "duration": 6,
    "start_time": "2022-09-29T08:01:12.868Z"
   },
   {
    "duration": 383,
    "start_time": "2022-09-29T08:01:17.696Z"
   },
   {
    "duration": 726,
    "start_time": "2022-09-29T08:01:18.081Z"
   },
   {
    "duration": 705,
    "start_time": "2022-09-29T08:01:18.809Z"
   },
   {
    "duration": 22,
    "start_time": "2022-09-29T08:01:19.516Z"
   },
   {
    "duration": 14,
    "start_time": "2022-09-29T08:01:19.539Z"
   },
   {
    "duration": 20,
    "start_time": "2022-09-29T08:01:44.850Z"
   },
   {
    "duration": 339,
    "start_time": "2022-09-29T08:02:04.763Z"
   },
   {
    "duration": 775,
    "start_time": "2022-09-29T08:02:05.104Z"
   },
   {
    "duration": 850,
    "start_time": "2022-09-29T08:02:05.881Z"
   },
   {
    "duration": 20,
    "start_time": "2022-09-29T08:02:22.613Z"
   },
   {
    "duration": 13,
    "start_time": "2022-09-29T08:02:30.260Z"
   },
   {
    "duration": 422,
    "start_time": "2022-09-29T08:09:13.096Z"
   },
   {
    "duration": 372,
    "start_time": "2022-09-29T08:09:19.273Z"
   },
   {
    "duration": 382,
    "start_time": "2022-09-29T08:09:23.584Z"
   },
   {
    "duration": 1039,
    "start_time": "2022-09-29T08:09:30.826Z"
   },
   {
    "duration": 385,
    "start_time": "2022-09-29T08:09:33.818Z"
   },
   {
    "duration": 438,
    "start_time": "2022-09-29T08:09:41.917Z"
   },
   {
    "duration": 436,
    "start_time": "2022-09-29T08:09:48.932Z"
   },
   {
    "duration": 105,
    "start_time": "2022-09-29T08:10:31.267Z"
   },
   {
    "duration": 152,
    "start_time": "2022-09-29T08:10:37.069Z"
   },
   {
    "duration": 103,
    "start_time": "2022-09-29T08:10:51.047Z"
   },
   {
    "duration": 93,
    "start_time": "2022-09-29T08:11:00.790Z"
   },
   {
    "duration": 90,
    "start_time": "2022-09-29T08:11:05.255Z"
   },
   {
    "duration": 96,
    "start_time": "2022-09-29T08:11:18.065Z"
   },
   {
    "duration": 88,
    "start_time": "2022-09-29T08:11:22.939Z"
   },
   {
    "duration": 94,
    "start_time": "2022-09-29T08:12:07.153Z"
   },
   {
    "duration": 6,
    "start_time": "2022-09-29T08:12:09.969Z"
   },
   {
    "duration": 7,
    "start_time": "2022-09-29T08:12:30.844Z"
   },
   {
    "duration": 385,
    "start_time": "2022-09-29T08:12:56.652Z"
   },
   {
    "duration": 384,
    "start_time": "2022-09-29T08:13:13.721Z"
   },
   {
    "duration": 384,
    "start_time": "2022-09-29T08:15:11.073Z"
   },
   {
    "duration": 425,
    "start_time": "2022-09-29T08:15:16.726Z"
   },
   {
    "duration": 390,
    "start_time": "2022-09-29T08:15:22.324Z"
   },
   {
    "duration": 381,
    "start_time": "2022-09-29T08:15:24.861Z"
   },
   {
    "duration": 384,
    "start_time": "2022-09-29T08:15:33.695Z"
   },
   {
    "duration": 43,
    "start_time": "2022-09-29T08:15:55.038Z"
   },
   {
    "duration": 398,
    "start_time": "2022-09-29T08:16:08.193Z"
   },
   {
    "duration": 782,
    "start_time": "2022-09-29T08:16:28.859Z"
   },
   {
    "duration": 108,
    "start_time": "2022-09-29T08:17:37.726Z"
   },
   {
    "duration": 96,
    "start_time": "2022-09-29T08:17:44.067Z"
   },
   {
    "duration": 14,
    "start_time": "2022-09-29T08:17:56.261Z"
   },
   {
    "duration": 107,
    "start_time": "2022-09-29T08:18:00.979Z"
   },
   {
    "duration": 50,
    "start_time": "2022-09-29T08:19:07.274Z"
   },
   {
    "duration": 9,
    "start_time": "2022-09-29T08:19:16.618Z"
   },
   {
    "duration": 11,
    "start_time": "2022-09-29T08:19:22.108Z"
   },
   {
    "duration": 9,
    "start_time": "2022-09-29T08:19:48.433Z"
   },
   {
    "duration": 24,
    "start_time": "2022-09-29T08:19:55.782Z"
   },
   {
    "duration": 75,
    "start_time": "2022-09-29T08:19:59.906Z"
   },
   {
    "duration": 65,
    "start_time": "2022-09-29T08:20:11.597Z"
   },
   {
    "duration": 60,
    "start_time": "2022-09-29T08:20:17.898Z"
   },
   {
    "duration": 58,
    "start_time": "2022-09-29T08:21:06.344Z"
   },
   {
    "duration": 92,
    "start_time": "2022-09-29T08:21:41.143Z"
   },
   {
    "duration": 4,
    "start_time": "2022-09-29T08:21:44.471Z"
   },
   {
    "duration": 83,
    "start_time": "2022-09-29T08:21:56.062Z"
   },
   {
    "duration": 4,
    "start_time": "2022-09-29T08:22:03.495Z"
   },
   {
    "duration": 76,
    "start_time": "2022-09-29T08:23:41.361Z"
   },
   {
    "duration": 65,
    "start_time": "2022-09-29T08:23:59.970Z"
   },
   {
    "duration": 63,
    "start_time": "2022-09-29T08:24:06.974Z"
   },
   {
    "duration": 71,
    "start_time": "2022-09-29T08:24:59.723Z"
   },
   {
    "duration": 73,
    "start_time": "2022-09-29T08:25:04.730Z"
   },
   {
    "duration": 68,
    "start_time": "2022-09-29T08:25:11.985Z"
   },
   {
    "duration": 106,
    "start_time": "2022-09-29T08:26:37.819Z"
   },
   {
    "duration": 66,
    "start_time": "2022-09-29T08:27:21.476Z"
   },
   {
    "duration": 68,
    "start_time": "2022-09-29T08:28:24.864Z"
   },
   {
    "duration": 67,
    "start_time": "2022-09-29T08:28:52.790Z"
   },
   {
    "duration": 11,
    "start_time": "2022-09-29T08:30:03.333Z"
   },
   {
    "duration": 81,
    "start_time": "2022-09-29T08:33:45.051Z"
   },
   {
    "duration": 76,
    "start_time": "2022-09-29T08:33:52.183Z"
   },
   {
    "duration": 75,
    "start_time": "2022-09-29T08:33:57.899Z"
   },
   {
    "duration": 66,
    "start_time": "2022-09-29T08:35:14.893Z"
   },
   {
    "duration": 66,
    "start_time": "2022-09-29T08:35:50.296Z"
   },
   {
    "duration": 71,
    "start_time": "2022-09-29T08:36:13.168Z"
   },
   {
    "duration": 67,
    "start_time": "2022-09-29T08:36:19.236Z"
   },
   {
    "duration": 64,
    "start_time": "2022-09-29T08:36:31.204Z"
   },
   {
    "duration": 65,
    "start_time": "2022-09-29T08:36:47.614Z"
   },
   {
    "duration": 1971,
    "start_time": "2022-09-29T08:37:19.985Z"
   },
   {
    "duration": 74,
    "start_time": "2022-09-29T08:37:47.800Z"
   },
   {
    "duration": 383,
    "start_time": "2022-09-29T08:37:59.078Z"
   },
   {
    "duration": 740,
    "start_time": "2022-09-29T08:37:59.464Z"
   },
   {
    "duration": 783,
    "start_time": "2022-09-29T08:38:00.205Z"
   },
   {
    "duration": 12,
    "start_time": "2022-09-29T08:38:00.990Z"
   },
   {
    "duration": 814,
    "start_time": "2022-09-29T08:38:01.004Z"
   },
   {
    "duration": 64,
    "start_time": "2022-09-29T08:38:01.819Z"
   },
   {
    "duration": 13,
    "start_time": "2022-09-29T08:52:26.834Z"
   },
   {
    "duration": 132,
    "start_time": "2022-09-29T08:58:27.827Z"
   },
   {
    "duration": 321,
    "start_time": "2022-09-29T08:58:41.212Z"
   },
   {
    "duration": 88,
    "start_time": "2022-09-29T08:58:50.382Z"
   },
   {
    "duration": 67,
    "start_time": "2022-09-29T08:59:04.397Z"
   },
   {
    "duration": 5,
    "start_time": "2022-09-29T08:59:17.705Z"
   },
   {
    "duration": 7,
    "start_time": "2022-09-29T08:59:24.158Z"
   },
   {
    "duration": 6,
    "start_time": "2022-09-29T08:59:38.053Z"
   },
   {
    "duration": 6,
    "start_time": "2022-09-29T09:02:06.282Z"
   },
   {
    "duration": 9,
    "start_time": "2022-09-29T09:08:26.944Z"
   },
   {
    "duration": 8,
    "start_time": "2022-09-29T09:08:37.320Z"
   },
   {
    "duration": 7,
    "start_time": "2022-09-29T09:10:20.845Z"
   },
   {
    "duration": 382,
    "start_time": "2022-09-29T09:10:42.734Z"
   },
   {
    "duration": 784,
    "start_time": "2022-09-29T09:10:43.118Z"
   },
   {
    "duration": 729,
    "start_time": "2022-09-29T09:10:43.903Z"
   },
   {
    "duration": 13,
    "start_time": "2022-09-29T09:10:44.634Z"
   },
   {
    "duration": 789,
    "start_time": "2022-09-29T09:10:44.649Z"
   },
   {
    "duration": 64,
    "start_time": "2022-09-29T09:10:45.440Z"
   },
   {
    "duration": 70,
    "start_time": "2022-09-29T09:10:45.505Z"
   },
   {
    "duration": 0,
    "start_time": "2022-09-29T09:10:45.577Z"
   },
   {
    "duration": 509,
    "start_time": "2022-09-29T09:10:54.141Z"
   },
   {
    "duration": 12,
    "start_time": "2022-09-29T09:11:06.955Z"
   },
   {
    "duration": 864,
    "start_time": "2022-09-29T09:11:21.424Z"
   },
   {
    "duration": 12,
    "start_time": "2022-09-29T09:11:24.585Z"
   },
   {
    "duration": 2305,
    "start_time": "2022-09-29T09:12:39.277Z"
   },
   {
    "duration": 1781,
    "start_time": "2022-09-29T09:12:47.042Z"
   },
   {
    "duration": 91,
    "start_time": "2022-09-29T09:14:44.080Z"
   },
   {
    "duration": 78,
    "start_time": "2022-09-29T09:15:02.256Z"
   },
   {
    "duration": 131,
    "start_time": "2022-09-29T09:15:46.784Z"
   },
   {
    "duration": 25,
    "start_time": "2022-09-29T09:15:59.841Z"
   },
   {
    "duration": 130,
    "start_time": "2022-09-29T09:16:06.256Z"
   },
   {
    "duration": 169,
    "start_time": "2022-09-29T09:16:13.754Z"
   },
   {
    "duration": 3,
    "start_time": "2022-09-29T09:16:41.138Z"
   },
   {
    "duration": 114,
    "start_time": "2022-09-29T09:16:43.541Z"
   },
   {
    "duration": 39,
    "start_time": "2022-09-29T09:16:58.444Z"
   },
   {
    "duration": 137,
    "start_time": "2022-09-29T09:17:31.756Z"
   },
   {
    "duration": 135,
    "start_time": "2022-09-29T09:17:35.695Z"
   },
   {
    "duration": 128,
    "start_time": "2022-09-29T09:21:44.772Z"
   },
   {
    "duration": 337,
    "start_time": "2022-09-29T09:21:53.868Z"
   },
   {
    "duration": 237,
    "start_time": "2022-09-29T09:22:06.037Z"
   },
   {
    "duration": 29,
    "start_time": "2022-09-29T09:25:59.033Z"
   },
   {
    "duration": 64,
    "start_time": "2022-09-29T09:30:24.470Z"
   },
   {
    "duration": 8,
    "start_time": "2022-09-29T09:31:57.596Z"
   },
   {
    "duration": 11,
    "start_time": "2022-09-29T09:36:25.677Z"
   },
   {
    "duration": 18,
    "start_time": "2022-09-29T09:36:29.197Z"
   },
   {
    "duration": 22,
    "start_time": "2022-09-29T09:36:52.988Z"
   },
   {
    "duration": 8,
    "start_time": "2022-09-29T09:45:48.218Z"
   },
   {
    "duration": 11,
    "start_time": "2022-09-29T09:45:54.304Z"
   },
   {
    "duration": 107,
    "start_time": "2022-09-29T09:46:03.983Z"
   },
   {
    "duration": 10,
    "start_time": "2022-09-29T09:46:06.763Z"
   },
   {
    "duration": 5,
    "start_time": "2022-09-29T09:46:10.208Z"
   },
   {
    "duration": 8,
    "start_time": "2022-09-29T09:46:19.399Z"
   },
   {
    "duration": 340,
    "start_time": "2022-09-29T09:46:34.806Z"
   },
   {
    "duration": 447,
    "start_time": "2022-09-29T09:46:55.176Z"
   },
   {
    "duration": 1179,
    "start_time": "2022-09-29T09:49:05.528Z"
   },
   {
    "duration": 1279,
    "start_time": "2022-09-29T09:55:41.422Z"
   },
   {
    "duration": 1154,
    "start_time": "2022-09-29T09:55:50.016Z"
   },
   {
    "duration": 422,
    "start_time": "2022-09-29T10:01:52.301Z"
   },
   {
    "duration": 3,
    "start_time": "2022-09-29T10:02:10.662Z"
   },
   {
    "duration": 435,
    "start_time": "2022-09-29T10:02:20.226Z"
   },
   {
    "duration": 10,
    "start_time": "2022-09-29T10:02:29.024Z"
   },
   {
    "duration": 2,
    "start_time": "2022-09-29T10:02:32.001Z"
   },
   {
    "duration": 3,
    "start_time": "2022-09-29T10:02:38.699Z"
   },
   {
    "duration": 1704,
    "start_time": "2022-09-29T10:02:42.774Z"
   },
   {
    "duration": 256,
    "start_time": "2022-09-29T10:03:20.757Z"
   },
   {
    "duration": 1545,
    "start_time": "2022-09-29T10:03:28.855Z"
   },
   {
    "duration": 1636,
    "start_time": "2022-09-29T10:04:25.273Z"
   },
   {
    "duration": 1376,
    "start_time": "2022-09-29T10:04:33.411Z"
   },
   {
    "duration": 15,
    "start_time": "2022-09-29T10:04:50.042Z"
   },
   {
    "duration": 1444,
    "start_time": "2022-09-29T10:04:59.382Z"
   },
   {
    "duration": 1621,
    "start_time": "2022-09-29T10:05:11.803Z"
   },
   {
    "duration": 1854,
    "start_time": "2022-09-29T10:07:49.699Z"
   },
   {
    "duration": 1318,
    "start_time": "2022-09-29T10:08:18.118Z"
   },
   {
    "duration": 1207,
    "start_time": "2022-09-29T10:08:21.778Z"
   },
   {
    "duration": 1273,
    "start_time": "2022-09-29T10:08:36.848Z"
   },
   {
    "duration": 1196,
    "start_time": "2022-09-29T10:08:57.621Z"
   },
   {
    "duration": 1425,
    "start_time": "2022-09-29T10:09:07.549Z"
   },
   {
    "duration": 1424,
    "start_time": "2022-09-29T10:10:13.603Z"
   },
   {
    "duration": 1702,
    "start_time": "2022-09-29T10:10:23.817Z"
   },
   {
    "duration": 522,
    "start_time": "2022-09-29T10:12:25.582Z"
   },
   {
    "duration": 1747,
    "start_time": "2022-09-29T10:14:16.235Z"
   },
   {
    "duration": 2296,
    "start_time": "2022-09-29T10:16:09.783Z"
   },
   {
    "duration": 2251,
    "start_time": "2022-09-29T10:16:34.451Z"
   },
   {
    "duration": 2306,
    "start_time": "2022-09-29T10:21:55.666Z"
   },
   {
    "duration": 440,
    "start_time": "2022-09-29T10:22:10.723Z"
   },
   {
    "duration": 105,
    "start_time": "2022-09-29T10:25:20.006Z"
   },
   {
    "duration": 136,
    "start_time": "2022-09-29T10:46:47.680Z"
   },
   {
    "duration": 9,
    "start_time": "2022-09-29T10:47:09.154Z"
   },
   {
    "duration": 13,
    "start_time": "2022-09-29T10:47:22.568Z"
   },
   {
    "duration": 14,
    "start_time": "2022-09-29T10:47:31.142Z"
   },
   {
    "duration": 19,
    "start_time": "2022-09-29T10:48:17.941Z"
   },
   {
    "duration": 16,
    "start_time": "2022-09-29T10:48:33.394Z"
   },
   {
    "duration": 13,
    "start_time": "2022-09-29T10:49:01.975Z"
   },
   {
    "duration": 10,
    "start_time": "2022-09-29T10:49:16.616Z"
   },
   {
    "duration": 2252,
    "start_time": "2022-09-29T10:49:21.371Z"
   },
   {
    "duration": 455,
    "start_time": "2022-09-29T10:49:32.780Z"
   },
   {
    "duration": 475,
    "start_time": "2022-09-29T10:49:59.626Z"
   },
   {
    "duration": 2238,
    "start_time": "2022-09-29T10:50:08.926Z"
   },
   {
    "duration": 483,
    "start_time": "2022-09-29T10:50:21.407Z"
   },
   {
    "duration": 2446,
    "start_time": "2022-09-29T10:51:41.439Z"
   },
   {
    "duration": 2254,
    "start_time": "2022-09-29T10:51:58.456Z"
   },
   {
    "duration": 2350,
    "start_time": "2022-09-29T10:52:15.141Z"
   },
   {
    "duration": 2509,
    "start_time": "2022-09-29T10:52:56.053Z"
   },
   {
    "duration": 2355,
    "start_time": "2022-09-29T10:53:11.058Z"
   },
   {
    "duration": 2418,
    "start_time": "2022-09-29T10:53:43.568Z"
   },
   {
    "duration": 2381,
    "start_time": "2022-09-29T10:54:00.319Z"
   },
   {
    "duration": 2366,
    "start_time": "2022-09-29T10:54:22.958Z"
   },
   {
    "duration": 2243,
    "start_time": "2022-09-29T10:54:49.859Z"
   },
   {
    "duration": 2381,
    "start_time": "2022-09-29T10:55:14.211Z"
   },
   {
    "duration": 2302,
    "start_time": "2022-09-29T10:55:30.784Z"
   },
   {
    "duration": 2413,
    "start_time": "2022-09-29T10:55:36.121Z"
   },
   {
    "duration": 2364,
    "start_time": "2022-09-29T10:57:51.220Z"
   },
   {
    "duration": 2288,
    "start_time": "2022-09-29T10:57:58.073Z"
   },
   {
    "duration": 2272,
    "start_time": "2022-09-29T10:58:02.785Z"
   },
   {
    "duration": 644,
    "start_time": "2022-09-29T10:59:18.925Z"
   },
   {
    "duration": 742,
    "start_time": "2022-09-29T10:59:19.571Z"
   },
   {
    "duration": 728,
    "start_time": "2022-09-29T10:59:20.315Z"
   },
   {
    "duration": 14,
    "start_time": "2022-09-29T10:59:21.046Z"
   },
   {
    "duration": 837,
    "start_time": "2022-09-29T10:59:21.061Z"
   },
   {
    "duration": 75,
    "start_time": "2022-09-29T10:59:21.900Z"
   },
   {
    "duration": 880,
    "start_time": "2022-09-29T10:59:21.976Z"
   },
   {
    "duration": 149,
    "start_time": "2022-09-29T10:59:22.858Z"
   },
   {
    "duration": 34,
    "start_time": "2022-09-29T10:59:23.009Z"
   },
   {
    "duration": 2151,
    "start_time": "2022-09-29T10:59:23.046Z"
   },
   {
    "duration": 2062,
    "start_time": "2022-09-29T11:01:47.837Z"
   },
   {
    "duration": 2345,
    "start_time": "2022-09-29T11:02:03.696Z"
   },
   {
    "duration": 1656,
    "start_time": "2022-09-29T11:06:57.635Z"
   },
   {
    "duration": 1654,
    "start_time": "2022-09-29T11:07:23.566Z"
   },
   {
    "duration": 293,
    "start_time": "2022-09-29T11:07:29.533Z"
   },
   {
    "duration": 277,
    "start_time": "2022-09-29T11:07:32.527Z"
   },
   {
    "duration": 289,
    "start_time": "2022-09-29T11:07:46.920Z"
   },
   {
    "duration": 78,
    "start_time": "2022-09-29T11:07:59.473Z"
   },
   {
    "duration": 223,
    "start_time": "2022-09-29T11:08:01.608Z"
   },
   {
    "duration": 205,
    "start_time": "2022-09-29T11:08:29.677Z"
   },
   {
    "duration": 340,
    "start_time": "2022-09-29T11:09:10.859Z"
   },
   {
    "duration": 37,
    "start_time": "2022-09-29T11:09:16.042Z"
   },
   {
    "duration": 22,
    "start_time": "2022-09-29T11:09:41.763Z"
   },
   {
    "duration": 37,
    "start_time": "2022-09-29T11:09:46.310Z"
   },
   {
    "duration": 15,
    "start_time": "2022-09-29T11:10:32.347Z"
   },
   {
    "duration": 27,
    "start_time": "2022-09-29T11:10:40.668Z"
   },
   {
    "duration": 4,
    "start_time": "2022-09-29T11:11:32.717Z"
   },
   {
    "duration": 5,
    "start_time": "2022-09-29T11:11:41.851Z"
   },
   {
    "duration": 9,
    "start_time": "2022-09-29T11:12:04.463Z"
   },
   {
    "duration": 7,
    "start_time": "2022-09-29T11:12:13.126Z"
   },
   {
    "duration": 6,
    "start_time": "2022-09-29T11:12:16.791Z"
   },
   {
    "duration": 8,
    "start_time": "2022-09-29T11:12:20.401Z"
   },
   {
    "duration": 5,
    "start_time": "2022-09-29T11:12:30.321Z"
   },
   {
    "duration": 10,
    "start_time": "2022-09-29T11:12:33.456Z"
   },
   {
    "duration": 7,
    "start_time": "2022-09-29T11:12:42.978Z"
   },
   {
    "duration": 7,
    "start_time": "2022-09-29T11:12:48.752Z"
   },
   {
    "duration": 8,
    "start_time": "2022-09-29T11:16:17.524Z"
   },
   {
    "duration": 9,
    "start_time": "2022-09-29T11:16:26.327Z"
   },
   {
    "duration": 6,
    "start_time": "2022-09-29T11:16:29.180Z"
   },
   {
    "duration": 5,
    "start_time": "2022-09-29T11:16:36.976Z"
   },
   {
    "duration": 5,
    "start_time": "2022-09-29T11:16:41.333Z"
   },
   {
    "duration": 9,
    "start_time": "2022-09-29T11:16:55.567Z"
   },
   {
    "duration": 5,
    "start_time": "2022-09-29T11:17:01.138Z"
   },
   {
    "duration": 6,
    "start_time": "2022-09-29T11:17:49.879Z"
   },
   {
    "duration": 8,
    "start_time": "2022-09-29T11:17:59.919Z"
   },
   {
    "duration": 5,
    "start_time": "2022-09-29T11:18:11.693Z"
   },
   {
    "duration": 3,
    "start_time": "2022-09-29T11:18:34.451Z"
   },
   {
    "duration": 5,
    "start_time": "2022-09-29T11:18:45.840Z"
   },
   {
    "duration": 4,
    "start_time": "2022-09-29T11:18:56.581Z"
   },
   {
    "duration": 76,
    "start_time": "2022-09-29T11:19:03.286Z"
   },
   {
    "duration": 207,
    "start_time": "2022-09-29T11:19:13.140Z"
   },
   {
    "duration": 7,
    "start_time": "2022-09-29T11:19:44.226Z"
   },
   {
    "duration": 6,
    "start_time": "2022-09-29T11:20:23.152Z"
   },
   {
    "duration": 30,
    "start_time": "2022-09-29T11:20:39.939Z"
   },
   {
    "duration": 30,
    "start_time": "2022-09-29T11:21:21.061Z"
   },
   {
    "duration": 27,
    "start_time": "2022-09-29T11:21:47.918Z"
   },
   {
    "duration": 29,
    "start_time": "2022-09-29T11:22:00.904Z"
   },
   {
    "duration": 33,
    "start_time": "2022-09-29T11:22:07.865Z"
   },
   {
    "duration": 32,
    "start_time": "2022-09-29T11:22:17.938Z"
   },
   {
    "duration": 24,
    "start_time": "2022-09-29T11:22:33.521Z"
   },
   {
    "duration": 22,
    "start_time": "2022-09-29T11:22:53.763Z"
   },
   {
    "duration": 44,
    "start_time": "2022-09-29T11:23:32.264Z"
   },
   {
    "duration": 67,
    "start_time": "2022-09-29T11:24:38.131Z"
   },
   {
    "duration": 69,
    "start_time": "2022-09-29T11:24:45.579Z"
   },
   {
    "duration": 57,
    "start_time": "2022-09-29T11:24:55.454Z"
   },
   {
    "duration": 57,
    "start_time": "2022-09-29T11:25:13.827Z"
   },
   {
    "duration": 70,
    "start_time": "2022-09-29T11:25:44.675Z"
   },
   {
    "duration": 62,
    "start_time": "2022-09-29T11:26:04.388Z"
   },
   {
    "duration": 24,
    "start_time": "2022-09-29T11:26:12.414Z"
   },
   {
    "duration": 23,
    "start_time": "2022-09-29T11:26:30.490Z"
   },
   {
    "duration": 30,
    "start_time": "2022-09-29T11:26:55.329Z"
   },
   {
    "duration": 25,
    "start_time": "2022-09-29T11:27:00.766Z"
   },
   {
    "duration": 26,
    "start_time": "2022-09-29T11:27:25.387Z"
   },
   {
    "duration": 64,
    "start_time": "2022-09-29T11:27:34.491Z"
   },
   {
    "duration": 61,
    "start_time": "2022-09-29T11:27:57.306Z"
   },
   {
    "duration": 53,
    "start_time": "2022-09-29T11:28:09.412Z"
   },
   {
    "duration": 35,
    "start_time": "2022-09-29T11:28:57.221Z"
   },
   {
    "duration": 41,
    "start_time": "2022-09-29T11:29:34.169Z"
   },
   {
    "duration": 35,
    "start_time": "2022-09-29T11:29:38.796Z"
   },
   {
    "duration": 36,
    "start_time": "2022-09-29T11:29:44.314Z"
   },
   {
    "duration": 37,
    "start_time": "2022-09-29T11:29:46.662Z"
   },
   {
    "duration": 38,
    "start_time": "2022-09-29T11:29:50.628Z"
   },
   {
    "duration": 37,
    "start_time": "2022-09-29T11:30:16.613Z"
   },
   {
    "duration": 110,
    "start_time": "2022-09-29T11:31:01.801Z"
   },
   {
    "duration": 127,
    "start_time": "2022-09-29T11:31:10.573Z"
   },
   {
    "duration": 80,
    "start_time": "2022-09-29T11:31:41.507Z"
   },
   {
    "duration": 28,
    "start_time": "2022-09-29T11:31:59.135Z"
   },
   {
    "duration": 6,
    "start_time": "2022-09-29T11:32:12.881Z"
   },
   {
    "duration": 5,
    "start_time": "2022-09-29T11:32:28.780Z"
   },
   {
    "duration": 35,
    "start_time": "2022-09-29T11:33:24.938Z"
   },
   {
    "duration": 33,
    "start_time": "2022-09-29T11:33:34.385Z"
   },
   {
    "duration": 35,
    "start_time": "2022-09-29T11:33:48.213Z"
   },
   {
    "duration": 37,
    "start_time": "2022-09-29T11:33:54.597Z"
   },
   {
    "duration": 34,
    "start_time": "2022-09-29T11:33:57.609Z"
   },
   {
    "duration": 37,
    "start_time": "2022-09-29T11:34:18.656Z"
   },
   {
    "duration": 37,
    "start_time": "2022-09-29T11:34:21.733Z"
   },
   {
    "duration": 49,
    "start_time": "2022-09-29T11:34:33.446Z"
   },
   {
    "duration": 44,
    "start_time": "2022-09-29T11:36:07.047Z"
   },
   {
    "duration": 39,
    "start_time": "2022-09-29T11:36:11.417Z"
   },
   {
    "duration": 35,
    "start_time": "2022-09-29T11:36:23.043Z"
   },
   {
    "duration": 32,
    "start_time": "2022-09-29T11:36:26.997Z"
   },
   {
    "duration": 33,
    "start_time": "2022-09-29T11:36:35.127Z"
   },
   {
    "duration": 9,
    "start_time": "2022-09-29T11:36:46.203Z"
   },
   {
    "duration": 33,
    "start_time": "2022-09-29T11:36:57.984Z"
   },
   {
    "duration": 33,
    "start_time": "2022-09-29T11:37:04.844Z"
   },
   {
    "duration": 41,
    "start_time": "2022-09-29T11:37:08.515Z"
   },
   {
    "duration": 40,
    "start_time": "2022-09-29T11:37:11.332Z"
   },
   {
    "duration": 23,
    "start_time": "2022-09-29T11:37:33.290Z"
   },
   {
    "duration": 7,
    "start_time": "2022-09-29T11:37:49.261Z"
   },
   {
    "duration": 39,
    "start_time": "2022-09-29T11:38:58.368Z"
   },
   {
    "duration": 26,
    "start_time": "2022-09-29T11:39:33.915Z"
   },
   {
    "duration": 21,
    "start_time": "2022-09-29T11:39:44.476Z"
   },
   {
    "duration": 27,
    "start_time": "2022-09-29T11:39:49.968Z"
   },
   {
    "duration": 24,
    "start_time": "2022-09-29T11:40:01.802Z"
   },
   {
    "duration": 25,
    "start_time": "2022-09-29T11:41:10.145Z"
   },
   {
    "duration": 64,
    "start_time": "2022-09-29T11:41:16.038Z"
   },
   {
    "duration": 57,
    "start_time": "2022-09-29T11:41:22.735Z"
   },
   {
    "duration": 53,
    "start_time": "2022-09-29T11:41:28.216Z"
   },
   {
    "duration": 52,
    "start_time": "2022-09-29T11:41:31.236Z"
   },
   {
    "duration": 53,
    "start_time": "2022-09-29T11:42:14.087Z"
   },
   {
    "duration": 582,
    "start_time": "2022-09-29T11:43:42.541Z"
   },
   {
    "duration": 603,
    "start_time": "2022-09-29T11:43:47.084Z"
   },
   {
    "duration": 606,
    "start_time": "2022-09-29T11:43:55.934Z"
   },
   {
    "duration": 16,
    "start_time": "2022-09-29T11:44:19.382Z"
   },
   {
    "duration": 20,
    "start_time": "2022-09-29T11:44:32.466Z"
   },
   {
    "duration": 79,
    "start_time": "2022-09-29T11:45:34.627Z"
   },
   {
    "duration": 21,
    "start_time": "2022-09-29T11:45:46.474Z"
   },
   {
    "duration": 36,
    "start_time": "2022-09-29T11:45:56.601Z"
   },
   {
    "duration": 27,
    "start_time": "2022-09-29T11:46:06.825Z"
   },
   {
    "duration": 32,
    "start_time": "2022-09-29T11:46:21.172Z"
   },
   {
    "duration": 26,
    "start_time": "2022-09-29T11:46:24.907Z"
   },
   {
    "duration": 25,
    "start_time": "2022-09-29T11:46:31.897Z"
   },
   {
    "duration": 20,
    "start_time": "2022-09-29T11:46:34.933Z"
   },
   {
    "duration": 658,
    "start_time": "2022-09-29T11:46:42.952Z"
   },
   {
    "duration": 814,
    "start_time": "2022-09-29T11:46:43.613Z"
   },
   {
    "duration": 724,
    "start_time": "2022-09-29T11:46:44.428Z"
   },
   {
    "duration": 12,
    "start_time": "2022-09-29T11:46:45.154Z"
   },
   {
    "duration": 880,
    "start_time": "2022-09-29T11:46:45.168Z"
   },
   {
    "duration": 96,
    "start_time": "2022-09-29T11:46:46.051Z"
   },
   {
    "duration": 1024,
    "start_time": "2022-09-29T11:46:46.149Z"
   },
   {
    "duration": 156,
    "start_time": "2022-09-29T11:46:47.176Z"
   },
   {
    "duration": 37,
    "start_time": "2022-09-29T11:46:47.334Z"
   },
   {
    "duration": 2279,
    "start_time": "2022-09-29T11:46:47.373Z"
   },
   {
    "duration": 11,
    "start_time": "2022-09-29T11:46:49.654Z"
   },
   {
    "duration": 37,
    "start_time": "2022-09-29T11:46:49.666Z"
   },
   {
    "duration": 16,
    "start_time": "2022-09-29T11:46:49.721Z"
   },
   {
    "duration": 20,
    "start_time": "2022-09-29T11:46:49.738Z"
   },
   {
    "duration": 76,
    "start_time": "2022-09-29T11:50:00.022Z"
   },
   {
    "duration": 30,
    "start_time": "2022-09-29T11:50:05.077Z"
   },
   {
    "duration": 36,
    "start_time": "2022-09-29T11:50:51.009Z"
   },
   {
    "duration": 40,
    "start_time": "2022-09-29T11:51:06.135Z"
   },
   {
    "duration": 17,
    "start_time": "2022-09-29T11:51:26.508Z"
   },
   {
    "duration": 18,
    "start_time": "2022-09-29T11:51:28.792Z"
   },
   {
    "duration": 21,
    "start_time": "2022-09-29T11:51:35.959Z"
   },
   {
    "duration": 5,
    "start_time": "2022-09-29T11:55:40.037Z"
   },
   {
    "duration": 6,
    "start_time": "2022-09-29T11:56:04.556Z"
   },
   {
    "duration": 9,
    "start_time": "2022-09-29T11:56:20.974Z"
   },
   {
    "duration": 8,
    "start_time": "2022-09-29T11:56:26.846Z"
   },
   {
    "duration": 104,
    "start_time": "2022-09-29T11:56:43.438Z"
   },
   {
    "duration": 90,
    "start_time": "2022-09-29T11:56:53.004Z"
   },
   {
    "duration": 24,
    "start_time": "2022-09-29T11:56:57.240Z"
   },
   {
    "duration": 46,
    "start_time": "2022-09-29T11:57:00.899Z"
   },
   {
    "duration": 43,
    "start_time": "2022-09-29T11:57:30.784Z"
   },
   {
    "duration": 58,
    "start_time": "2022-09-29T11:57:34.895Z"
   },
   {
    "duration": 22,
    "start_time": "2022-09-29T11:57:50.642Z"
   },
   {
    "duration": 22,
    "start_time": "2022-09-29T11:58:00.548Z"
   },
   {
    "duration": 305,
    "start_time": "2022-09-29T11:58:03.903Z"
   },
   {
    "duration": 21,
    "start_time": "2022-09-29T11:58:14.671Z"
   },
   {
    "duration": 33,
    "start_time": "2022-09-29T11:58:21.495Z"
   },
   {
    "duration": 92,
    "start_time": "2022-09-29T11:58:46.067Z"
   },
   {
    "duration": 164,
    "start_time": "2022-09-29T11:58:56.547Z"
   },
   {
    "duration": 59,
    "start_time": "2022-09-29T11:59:03.829Z"
   },
   {
    "duration": 110,
    "start_time": "2022-09-29T11:59:14.497Z"
   },
   {
    "duration": 103,
    "start_time": "2022-09-29T11:59:25.671Z"
   },
   {
    "duration": 7,
    "start_time": "2022-09-29T11:59:59.462Z"
   },
   {
    "duration": 82,
    "start_time": "2022-09-29T12:00:11.204Z"
   },
   {
    "duration": 25,
    "start_time": "2022-09-29T12:00:26.026Z"
   },
   {
    "duration": 6,
    "start_time": "2022-09-29T12:00:42.293Z"
   },
   {
    "duration": 71,
    "start_time": "2022-09-29T12:00:49.949Z"
   },
   {
    "duration": 68,
    "start_time": "2022-09-29T12:00:52.916Z"
   },
   {
    "duration": 5,
    "start_time": "2022-09-29T12:01:09.700Z"
   },
   {
    "duration": 44,
    "start_time": "2022-09-29T12:01:28.399Z"
   },
   {
    "duration": 44,
    "start_time": "2022-09-29T12:01:35.440Z"
   },
   {
    "duration": 59,
    "start_time": "2022-09-29T12:01:48.415Z"
   },
   {
    "duration": 51,
    "start_time": "2022-09-29T12:02:00.149Z"
   },
   {
    "duration": 49,
    "start_time": "2022-09-29T12:02:12.799Z"
   },
   {
    "duration": 6,
    "start_time": "2022-09-29T12:04:00.329Z"
   },
   {
    "duration": 197,
    "start_time": "2022-09-29T12:04:31.345Z"
   },
   {
    "duration": 186,
    "start_time": "2022-09-29T12:04:40.013Z"
   },
   {
    "duration": 1958,
    "start_time": "2022-09-29T12:04:49.605Z"
   },
   {
    "duration": 8,
    "start_time": "2022-09-29T12:05:12.475Z"
   },
   {
    "duration": 71,
    "start_time": "2022-09-29T12:05:17.969Z"
   },
   {
    "duration": 33,
    "start_time": "2022-09-29T12:05:23.063Z"
   },
   {
    "duration": 39,
    "start_time": "2022-09-29T12:05:36.397Z"
   },
   {
    "duration": 62,
    "start_time": "2022-09-29T12:06:04.963Z"
   },
   {
    "duration": 60,
    "start_time": "2022-09-29T12:06:14.982Z"
   },
   {
    "duration": 61,
    "start_time": "2022-09-29T12:06:23.828Z"
   },
   {
    "duration": 60,
    "start_time": "2022-09-29T12:06:29.626Z"
   },
   {
    "duration": 42,
    "start_time": "2022-09-29T12:06:47.923Z"
   },
   {
    "duration": 70,
    "start_time": "2022-09-29T12:07:00.115Z"
   },
   {
    "duration": 60,
    "start_time": "2022-09-29T12:07:08.347Z"
   },
   {
    "duration": 82,
    "start_time": "2022-09-29T12:07:17.344Z"
   },
   {
    "duration": 61,
    "start_time": "2022-09-29T12:07:31.316Z"
   },
   {
    "duration": 94,
    "start_time": "2022-09-29T12:07:54.921Z"
   },
   {
    "duration": 60,
    "start_time": "2022-09-29T12:07:59.195Z"
   },
   {
    "duration": 73,
    "start_time": "2022-09-29T12:08:15.355Z"
   },
   {
    "duration": 64,
    "start_time": "2022-09-29T12:08:24.557Z"
   },
   {
    "duration": 48,
    "start_time": "2022-09-29T12:09:18.067Z"
   },
   {
    "duration": 9,
    "start_time": "2022-09-29T12:09:21.950Z"
   },
   {
    "duration": 8,
    "start_time": "2022-09-29T12:09:35.700Z"
   },
   {
    "duration": 9,
    "start_time": "2022-09-29T12:09:43.144Z"
   },
   {
    "duration": 11,
    "start_time": "2022-09-29T12:10:04.116Z"
   },
   {
    "duration": 8,
    "start_time": "2022-09-29T12:10:19.970Z"
   },
   {
    "duration": 66,
    "start_time": "2022-09-29T12:10:27.433Z"
   },
   {
    "duration": 64,
    "start_time": "2022-09-29T12:10:32.948Z"
   },
   {
    "duration": 73,
    "start_time": "2022-09-29T12:11:07.758Z"
   },
   {
    "duration": 64,
    "start_time": "2022-09-29T12:11:15.384Z"
   },
   {
    "duration": 62,
    "start_time": "2022-09-29T12:11:44.372Z"
   },
   {
    "duration": 703,
    "start_time": "2022-09-29T12:13:35.033Z"
   },
   {
    "duration": 67,
    "start_time": "2022-09-29T12:13:40.368Z"
   },
   {
    "duration": 8,
    "start_time": "2022-09-29T12:13:53.592Z"
   },
   {
    "duration": 61,
    "start_time": "2022-09-29T12:13:57.003Z"
   },
   {
    "duration": 9,
    "start_time": "2022-09-29T12:21:11.428Z"
   },
   {
    "duration": 96,
    "start_time": "2022-09-29T12:21:19.272Z"
   },
   {
    "duration": 8,
    "start_time": "2022-09-29T12:21:25.164Z"
   },
   {
    "duration": 11,
    "start_time": "2022-09-29T12:21:36.626Z"
   },
   {
    "duration": 13,
    "start_time": "2022-09-29T12:21:40.793Z"
   },
   {
    "duration": 12,
    "start_time": "2022-09-29T12:21:49.665Z"
   },
   {
    "duration": 13,
    "start_time": "2022-09-29T12:21:55.639Z"
   },
   {
    "duration": 6,
    "start_time": "2022-09-29T12:24:26.029Z"
   },
   {
    "duration": 4,
    "start_time": "2022-09-29T12:24:33.643Z"
   },
   {
    "duration": 4,
    "start_time": "2022-09-29T12:24:37.280Z"
   },
   {
    "duration": 4,
    "start_time": "2022-09-29T12:25:00.627Z"
   },
   {
    "duration": 9,
    "start_time": "2022-09-29T12:25:15.524Z"
   },
   {
    "duration": 7,
    "start_time": "2022-09-29T12:25:35.436Z"
   },
   {
    "duration": 12,
    "start_time": "2022-09-29T12:29:56.770Z"
   },
   {
    "duration": 12,
    "start_time": "2022-09-29T12:30:17.411Z"
   },
   {
    "duration": 14,
    "start_time": "2022-09-29T12:30:26.026Z"
   },
   {
    "duration": 41,
    "start_time": "2022-09-29T12:35:30.779Z"
   },
   {
    "duration": 29,
    "start_time": "2022-09-29T12:36:08.617Z"
   },
   {
    "duration": 7,
    "start_time": "2022-09-29T12:36:29.450Z"
   },
   {
    "duration": 8,
    "start_time": "2022-09-29T12:37:01.715Z"
   },
   {
    "duration": 6,
    "start_time": "2022-09-29T12:37:15.538Z"
   },
   {
    "duration": 11,
    "start_time": "2022-09-29T12:37:29.958Z"
   },
   {
    "duration": 7,
    "start_time": "2022-09-29T12:37:47.826Z"
   },
   {
    "duration": 6,
    "start_time": "2022-09-29T12:37:53.907Z"
   },
   {
    "duration": 26,
    "start_time": "2022-09-29T12:42:35.187Z"
   },
   {
    "duration": 43,
    "start_time": "2022-09-29T12:44:55.655Z"
   },
   {
    "duration": 26,
    "start_time": "2022-09-29T12:53:32.518Z"
   },
   {
    "duration": 6,
    "start_time": "2022-09-29T12:53:45.071Z"
   },
   {
    "duration": 4,
    "start_time": "2022-09-29T12:54:29.220Z"
   },
   {
    "duration": 7,
    "start_time": "2022-09-29T12:54:39.807Z"
   },
   {
    "duration": 9,
    "start_time": "2022-09-29T12:55:41.014Z"
   },
   {
    "duration": 3,
    "start_time": "2022-09-29T12:56:02.716Z"
   },
   {
    "duration": 4,
    "start_time": "2022-09-29T12:56:16.904Z"
   },
   {
    "duration": 7,
    "start_time": "2022-09-29T12:57:10.799Z"
   },
   {
    "duration": 7,
    "start_time": "2022-09-29T12:57:14.379Z"
   },
   {
    "duration": 9,
    "start_time": "2022-09-29T12:57:21.463Z"
   },
   {
    "duration": 7,
    "start_time": "2022-09-29T12:58:29.763Z"
   },
   {
    "duration": 356,
    "start_time": "2022-09-29T13:15:43.220Z"
   },
   {
    "duration": 304,
    "start_time": "2022-09-29T13:15:56.747Z"
   },
   {
    "duration": 352,
    "start_time": "2022-09-29T13:16:12.397Z"
   },
   {
    "duration": 342,
    "start_time": "2022-09-29T13:17:05.787Z"
   },
   {
    "duration": 606,
    "start_time": "2022-09-29T13:17:11.719Z"
   },
   {
    "duration": 769,
    "start_time": "2022-09-29T13:17:12.327Z"
   },
   {
    "duration": 752,
    "start_time": "2022-09-29T13:17:13.098Z"
   },
   {
    "duration": 14,
    "start_time": "2022-09-29T13:17:13.852Z"
   },
   {
    "duration": 828,
    "start_time": "2022-09-29T13:17:13.868Z"
   },
   {
    "duration": 74,
    "start_time": "2022-09-29T13:17:14.698Z"
   },
   {
    "duration": 874,
    "start_time": "2022-09-29T13:17:14.773Z"
   },
   {
    "duration": 146,
    "start_time": "2022-09-29T13:17:15.649Z"
   },
   {
    "duration": 33,
    "start_time": "2022-09-29T13:17:15.796Z"
   },
   {
    "duration": 2010,
    "start_time": "2022-09-29T13:17:15.830Z"
   },
   {
    "duration": 8,
    "start_time": "2022-09-29T13:17:17.842Z"
   },
   {
    "duration": 84,
    "start_time": "2022-09-29T13:17:17.852Z"
   },
   {
    "duration": 11,
    "start_time": "2022-09-29T13:17:17.937Z"
   },
   {
    "duration": 8,
    "start_time": "2022-09-29T13:17:17.950Z"
   },
   {
    "duration": 329,
    "start_time": "2022-09-29T13:17:17.959Z"
   },
   {
    "duration": 382,
    "start_time": "2022-09-29T13:17:33.438Z"
   },
   {
    "duration": 590,
    "start_time": "2022-09-29T13:17:39.330Z"
   },
   {
    "duration": 850,
    "start_time": "2022-09-29T13:17:39.922Z"
   },
   {
    "duration": 788,
    "start_time": "2022-09-29T13:17:40.773Z"
   },
   {
    "duration": 16,
    "start_time": "2022-09-29T13:17:41.563Z"
   },
   {
    "duration": 859,
    "start_time": "2022-09-29T13:17:41.581Z"
   },
   {
    "duration": 80,
    "start_time": "2022-09-29T13:17:42.442Z"
   },
   {
    "duration": 947,
    "start_time": "2022-09-29T13:17:42.524Z"
   },
   {
    "duration": 156,
    "start_time": "2022-09-29T13:17:43.473Z"
   },
   {
    "duration": 31,
    "start_time": "2022-09-29T13:17:43.630Z"
   },
   {
    "duration": 2082,
    "start_time": "2022-09-29T13:17:43.663Z"
   },
   {
    "duration": 9,
    "start_time": "2022-09-29T13:17:45.747Z"
   },
   {
    "duration": 85,
    "start_time": "2022-09-29T13:17:45.758Z"
   },
   {
    "duration": 11,
    "start_time": "2022-09-29T13:17:45.844Z"
   },
   {
    "duration": 7,
    "start_time": "2022-09-29T13:17:45.857Z"
   },
   {
    "duration": 84,
    "start_time": "2022-09-29T13:17:45.866Z"
   },
   {
    "duration": 113,
    "start_time": "2022-09-29T13:17:56.213Z"
   },
   {
    "duration": 107,
    "start_time": "2022-09-29T13:18:03.128Z"
   },
   {
    "duration": 94,
    "start_time": "2022-09-29T13:18:33.491Z"
   },
   {
    "duration": 117,
    "start_time": "2022-09-29T13:20:07.204Z"
   },
   {
    "duration": 74,
    "start_time": "2022-09-29T13:20:21.835Z"
   },
   {
    "duration": 159,
    "start_time": "2022-09-29T13:20:29.614Z"
   },
   {
    "duration": 88,
    "start_time": "2022-09-29T13:20:43.688Z"
   },
   {
    "duration": 8,
    "start_time": "2022-09-29T13:25:34.542Z"
   },
   {
    "duration": 15,
    "start_time": "2022-09-29T13:25:44.610Z"
   },
   {
    "duration": 6,
    "start_time": "2022-09-29T13:25:53.797Z"
   },
   {
    "duration": 1492,
    "start_time": "2022-09-29T13:31:59.051Z"
   },
   {
    "duration": 49,
    "start_time": "2022-09-29T13:32:06.389Z"
   },
   {
    "duration": 40,
    "start_time": "2022-09-29T13:32:10.287Z"
   },
   {
    "duration": 43,
    "start_time": "2022-09-29T13:32:13.845Z"
   },
   {
    "duration": 24,
    "start_time": "2022-09-29T13:38:07.401Z"
   },
   {
    "duration": 31,
    "start_time": "2022-09-29T13:40:12.141Z"
   },
   {
    "duration": 46,
    "start_time": "2022-09-29T13:40:17.712Z"
   },
   {
    "duration": 42,
    "start_time": "2022-09-29T13:40:23.268Z"
   },
   {
    "duration": 32,
    "start_time": "2022-09-29T13:41:03.465Z"
   },
   {
    "duration": 23,
    "start_time": "2022-09-29T13:41:12.265Z"
   },
   {
    "duration": 54,
    "start_time": "2022-09-29T13:41:30.436Z"
   },
   {
    "duration": 7,
    "start_time": "2022-09-29T13:42:19.617Z"
   },
   {
    "duration": 324,
    "start_time": "2022-09-29T13:42:26.260Z"
   },
   {
    "duration": 11,
    "start_time": "2022-09-29T13:43:02.920Z"
   },
   {
    "duration": 285,
    "start_time": "2022-09-29T13:43:20.595Z"
   },
   {
    "duration": 286,
    "start_time": "2022-09-29T13:43:44.911Z"
   },
   {
    "duration": 180,
    "start_time": "2022-09-29T13:46:17.020Z"
   },
   {
    "duration": 117,
    "start_time": "2022-09-29T13:46:24.132Z"
   },
   {
    "duration": 8,
    "start_time": "2022-09-29T13:46:42.821Z"
   },
   {
    "duration": 19,
    "start_time": "2022-09-29T13:46:52.597Z"
   },
   {
    "duration": 68,
    "start_time": "2022-09-29T13:49:25.131Z"
   },
   {
    "duration": 290,
    "start_time": "2022-09-29T13:49:28.481Z"
   },
   {
    "duration": 11,
    "start_time": "2022-09-29T13:49:28.774Z"
   },
   {
    "duration": 8,
    "start_time": "2022-09-29T13:49:35.348Z"
   },
   {
    "duration": 3,
    "start_time": "2022-09-29T13:49:35.816Z"
   },
   {
    "duration": 21,
    "start_time": "2022-09-29T13:49:36.253Z"
   },
   {
    "duration": 637,
    "start_time": "2022-09-29T13:49:52.113Z"
   },
   {
    "duration": 747,
    "start_time": "2022-09-29T13:49:52.752Z"
   },
   {
    "duration": 712,
    "start_time": "2022-09-29T13:49:53.500Z"
   },
   {
    "duration": 16,
    "start_time": "2022-09-29T13:49:54.214Z"
   },
   {
    "duration": 834,
    "start_time": "2022-09-29T13:49:54.232Z"
   },
   {
    "duration": 78,
    "start_time": "2022-09-29T13:49:55.068Z"
   },
   {
    "duration": 966,
    "start_time": "2022-09-29T13:49:55.148Z"
   },
   {
    "duration": 183,
    "start_time": "2022-09-29T13:49:56.116Z"
   },
   {
    "duration": 36,
    "start_time": "2022-09-29T13:49:56.301Z"
   },
   {
    "duration": 2012,
    "start_time": "2022-09-29T13:49:56.338Z"
   },
   {
    "duration": 10,
    "start_time": "2022-09-29T13:49:58.352Z"
   },
   {
    "duration": 77,
    "start_time": "2022-09-29T13:49:58.363Z"
   },
   {
    "duration": 11,
    "start_time": "2022-09-29T13:49:58.442Z"
   },
   {
    "duration": 25,
    "start_time": "2022-09-29T13:49:58.456Z"
   },
   {
    "duration": 135,
    "start_time": "2022-09-29T13:49:58.483Z"
   },
   {
    "duration": 5,
    "start_time": "2022-09-29T13:49:58.620Z"
   },
   {
    "duration": 22,
    "start_time": "2022-09-29T13:49:58.626Z"
   },
   {
    "duration": 97,
    "start_time": "2022-09-29T13:49:58.650Z"
   },
   {
    "duration": 83,
    "start_time": "2022-09-29T13:49:58.748Z"
   },
   {
    "duration": 327,
    "start_time": "2022-09-29T13:49:58.832Z"
   },
   {
    "duration": 9,
    "start_time": "2022-09-29T13:49:59.161Z"
   },
   {
    "duration": 10,
    "start_time": "2022-09-29T13:49:59.171Z"
   },
   {
    "duration": 5,
    "start_time": "2022-09-29T13:49:59.182Z"
   },
   {
    "duration": 36,
    "start_time": "2022-09-29T13:49:59.188Z"
   },
   {
    "duration": 129,
    "start_time": "2022-09-29T13:54:52.823Z"
   },
   {
    "duration": 547,
    "start_time": "2022-09-29T13:54:59.769Z"
   },
   {
    "duration": 753,
    "start_time": "2022-09-29T13:55:00.317Z"
   },
   {
    "duration": 703,
    "start_time": "2022-09-29T13:55:01.072Z"
   },
   {
    "duration": 12,
    "start_time": "2022-09-29T13:55:01.777Z"
   },
   {
    "duration": 765,
    "start_time": "2022-09-29T13:55:01.791Z"
   },
   {
    "duration": 69,
    "start_time": "2022-09-29T13:55:02.557Z"
   },
   {
    "duration": 841,
    "start_time": "2022-09-29T13:55:02.627Z"
   },
   {
    "duration": 137,
    "start_time": "2022-09-29T13:55:03.469Z"
   },
   {
    "duration": 29,
    "start_time": "2022-09-29T13:55:03.607Z"
   },
   {
    "duration": 1947,
    "start_time": "2022-09-29T13:55:03.639Z"
   },
   {
    "duration": 8,
    "start_time": "2022-09-29T13:55:05.588Z"
   },
   {
    "duration": 72,
    "start_time": "2022-09-29T13:55:05.597Z"
   },
   {
    "duration": 10,
    "start_time": "2022-09-29T13:55:05.671Z"
   },
   {
    "duration": 7,
    "start_time": "2022-09-29T13:55:05.682Z"
   },
   {
    "duration": 131,
    "start_time": "2022-09-29T13:55:05.691Z"
   },
   {
    "duration": 6,
    "start_time": "2022-09-29T13:55:05.824Z"
   },
   {
    "duration": 33,
    "start_time": "2022-09-29T13:55:05.831Z"
   },
   {
    "duration": 192,
    "start_time": "2022-09-29T13:55:05.866Z"
   },
   {
    "duration": 114,
    "start_time": "2022-09-29T13:55:06.060Z"
   },
   {
    "duration": 354,
    "start_time": "2022-09-29T13:55:06.177Z"
   },
   {
    "duration": 11,
    "start_time": "2022-09-29T13:55:06.532Z"
   },
   {
    "duration": 9,
    "start_time": "2022-09-29T13:55:06.544Z"
   },
   {
    "duration": 3,
    "start_time": "2022-09-29T13:55:06.554Z"
   },
   {
    "duration": 21,
    "start_time": "2022-09-29T13:55:06.559Z"
   },
   {
    "duration": 573,
    "start_time": "2022-09-29T13:57:04.142Z"
   },
   {
    "duration": 738,
    "start_time": "2022-09-29T13:57:04.717Z"
   },
   {
    "duration": 770,
    "start_time": "2022-09-29T13:57:05.457Z"
   },
   {
    "duration": 12,
    "start_time": "2022-09-29T13:57:06.229Z"
   },
   {
    "duration": 768,
    "start_time": "2022-09-29T13:57:06.242Z"
   },
   {
    "duration": 72,
    "start_time": "2022-09-29T13:57:07.012Z"
   },
   {
    "duration": 871,
    "start_time": "2022-09-29T13:57:07.086Z"
   },
   {
    "duration": 160,
    "start_time": "2022-09-29T13:57:07.958Z"
   },
   {
    "duration": 27,
    "start_time": "2022-09-29T13:57:08.121Z"
   },
   {
    "duration": 1974,
    "start_time": "2022-09-29T13:57:08.149Z"
   },
   {
    "duration": 8,
    "start_time": "2022-09-29T13:57:10.124Z"
   },
   {
    "duration": 71,
    "start_time": "2022-09-29T13:57:10.133Z"
   },
   {
    "duration": 21,
    "start_time": "2022-09-29T13:57:10.205Z"
   },
   {
    "duration": 6,
    "start_time": "2022-09-29T13:57:10.228Z"
   },
   {
    "duration": 130,
    "start_time": "2022-09-29T13:57:10.236Z"
   },
   {
    "duration": 5,
    "start_time": "2022-09-29T13:57:10.367Z"
   },
   {
    "duration": 29,
    "start_time": "2022-09-29T13:57:10.374Z"
   },
   {
    "duration": 167,
    "start_time": "2022-09-29T13:57:10.404Z"
   },
   {
    "duration": 11,
    "start_time": "2022-09-29T13:57:10.573Z"
   },
   {
    "duration": 6,
    "start_time": "2022-09-29T14:03:14.883Z"
   },
   {
    "duration": 48,
    "start_time": "2022-09-29T14:03:42.516Z"
   },
   {
    "duration": 27,
    "start_time": "2022-09-29T14:04:02.662Z"
   },
   {
    "duration": 51,
    "start_time": "2022-09-29T14:10:22.301Z"
   },
   {
    "duration": 165,
    "start_time": "2022-09-29T14:10:35.880Z"
   },
   {
    "duration": 47,
    "start_time": "2022-09-29T14:10:57.662Z"
   },
   {
    "duration": 44,
    "start_time": "2022-09-29T14:11:33.190Z"
   },
   {
    "duration": 63,
    "start_time": "2022-09-29T14:11:36.566Z"
   },
   {
    "duration": 91,
    "start_time": "2022-09-29T14:11:45.916Z"
   },
   {
    "duration": 89,
    "start_time": "2022-09-29T14:19:07.953Z"
   },
   {
    "duration": 555,
    "start_time": "2022-09-29T14:19:18.662Z"
   },
   {
    "duration": 723,
    "start_time": "2022-09-29T14:19:19.218Z"
   },
   {
    "duration": 685,
    "start_time": "2022-09-29T14:19:19.942Z"
   },
   {
    "duration": 12,
    "start_time": "2022-09-29T14:19:20.629Z"
   },
   {
    "duration": 790,
    "start_time": "2022-09-29T14:19:20.642Z"
   },
   {
    "duration": 63,
    "start_time": "2022-09-29T14:19:21.434Z"
   },
   {
    "duration": 855,
    "start_time": "2022-09-29T14:19:21.498Z"
   },
   {
    "duration": 139,
    "start_time": "2022-09-29T14:19:22.355Z"
   },
   {
    "duration": 30,
    "start_time": "2022-09-29T14:19:22.496Z"
   },
   {
    "duration": 1905,
    "start_time": "2022-09-29T14:19:22.528Z"
   },
   {
    "duration": 8,
    "start_time": "2022-09-29T14:19:24.434Z"
   },
   {
    "duration": 60,
    "start_time": "2022-09-29T14:19:24.444Z"
   },
   {
    "duration": 25,
    "start_time": "2022-09-29T14:19:24.505Z"
   },
   {
    "duration": 7,
    "start_time": "2022-09-29T14:19:24.532Z"
   },
   {
    "duration": 124,
    "start_time": "2022-09-29T14:19:24.540Z"
   },
   {
    "duration": 5,
    "start_time": "2022-09-29T14:19:24.665Z"
   },
   {
    "duration": 25,
    "start_time": "2022-09-29T14:19:24.671Z"
   },
   {
    "duration": 173,
    "start_time": "2022-09-29T14:19:24.698Z"
   },
   {
    "duration": 10,
    "start_time": "2022-09-29T14:19:24.872Z"
   },
   {
    "duration": 59,
    "start_time": "2022-09-29T14:19:24.883Z"
   },
   {
    "duration": 83,
    "start_time": "2022-09-29T14:19:24.944Z"
   },
   {
    "duration": 75,
    "start_time": "2022-09-29T14:22:51.219Z"
   },
   {
    "duration": 91,
    "start_time": "2022-09-29T14:22:57.158Z"
   },
   {
    "duration": 593,
    "start_time": "2022-09-29T14:23:02.211Z"
   },
   {
    "duration": 722,
    "start_time": "2022-09-29T14:23:02.805Z"
   },
   {
    "duration": 709,
    "start_time": "2022-09-29T14:23:03.529Z"
   },
   {
    "duration": 12,
    "start_time": "2022-09-29T14:23:04.241Z"
   },
   {
    "duration": 776,
    "start_time": "2022-09-29T14:23:04.255Z"
   },
   {
    "duration": 67,
    "start_time": "2022-09-29T14:23:05.033Z"
   },
   {
    "duration": 886,
    "start_time": "2022-09-29T14:23:05.102Z"
   },
   {
    "duration": 198,
    "start_time": "2022-09-29T14:23:05.990Z"
   },
   {
    "duration": 38,
    "start_time": "2022-09-29T14:23:06.190Z"
   },
   {
    "duration": 2001,
    "start_time": "2022-09-29T14:23:06.230Z"
   },
   {
    "duration": 9,
    "start_time": "2022-09-29T14:23:08.232Z"
   },
   {
    "duration": 84,
    "start_time": "2022-09-29T14:23:08.243Z"
   },
   {
    "duration": 13,
    "start_time": "2022-09-29T14:23:08.329Z"
   },
   {
    "duration": 8,
    "start_time": "2022-09-29T14:23:08.343Z"
   },
   {
    "duration": 132,
    "start_time": "2022-09-29T14:23:08.352Z"
   },
   {
    "duration": 6,
    "start_time": "2022-09-29T14:23:08.486Z"
   },
   {
    "duration": 33,
    "start_time": "2022-09-29T14:23:08.494Z"
   },
   {
    "duration": 172,
    "start_time": "2022-09-29T14:23:08.528Z"
   },
   {
    "duration": 21,
    "start_time": "2022-09-29T14:23:08.701Z"
   },
   {
    "duration": 51,
    "start_time": "2022-09-29T14:23:08.724Z"
   },
   {
    "duration": 98,
    "start_time": "2022-09-29T14:23:08.777Z"
   },
   {
    "duration": 74,
    "start_time": "2022-09-29T14:25:45.701Z"
   },
   {
    "duration": 89,
    "start_time": "2022-09-29T14:25:50.108Z"
   },
   {
    "duration": 179,
    "start_time": "2022-09-29T14:25:56.308Z"
   },
   {
    "duration": 90,
    "start_time": "2022-09-29T14:26:06.945Z"
   },
   {
    "duration": 69,
    "start_time": "2022-09-29T14:26:10.801Z"
   },
   {
    "duration": 105,
    "start_time": "2022-09-29T14:26:13.713Z"
   },
   {
    "duration": 15,
    "start_time": "2022-09-29T14:27:01.367Z"
   },
   {
    "duration": 9,
    "start_time": "2022-09-29T14:49:20.449Z"
   },
   {
    "duration": 678,
    "start_time": "2022-09-29T14:49:40.790Z"
   },
   {
    "duration": 831,
    "start_time": "2022-09-29T14:49:41.469Z"
   },
   {
    "duration": 754,
    "start_time": "2022-09-29T14:49:42.302Z"
   },
   {
    "duration": 13,
    "start_time": "2022-09-29T14:49:43.058Z"
   },
   {
    "duration": 893,
    "start_time": "2022-09-29T14:49:43.073Z"
   },
   {
    "duration": 74,
    "start_time": "2022-09-29T14:49:43.968Z"
   },
   {
    "duration": 912,
    "start_time": "2022-09-29T14:49:44.044Z"
   },
   {
    "duration": 146,
    "start_time": "2022-09-29T14:49:44.958Z"
   },
   {
    "duration": 41,
    "start_time": "2022-09-29T14:49:45.105Z"
   },
   {
    "duration": 2077,
    "start_time": "2022-09-29T14:49:45.148Z"
   },
   {
    "duration": 8,
    "start_time": "2022-09-29T14:49:47.227Z"
   },
   {
    "duration": 95,
    "start_time": "2022-09-29T14:49:47.236Z"
   },
   {
    "duration": 17,
    "start_time": "2022-09-29T14:49:47.334Z"
   },
   {
    "duration": 14,
    "start_time": "2022-09-29T14:49:47.354Z"
   },
   {
    "duration": 136,
    "start_time": "2022-09-29T14:49:47.369Z"
   },
   {
    "duration": 6,
    "start_time": "2022-09-29T14:49:47.507Z"
   },
   {
    "duration": 43,
    "start_time": "2022-09-29T14:49:47.514Z"
   },
   {
    "duration": 178,
    "start_time": "2022-09-29T14:49:47.558Z"
   },
   {
    "duration": 10,
    "start_time": "2022-09-29T14:49:47.738Z"
   },
   {
    "duration": 74,
    "start_time": "2022-09-29T14:49:47.749Z"
   },
   {
    "duration": 73,
    "start_time": "2022-09-29T14:49:47.824Z"
   },
   {
    "duration": 12,
    "start_time": "2022-09-29T14:51:28.218Z"
   },
   {
    "duration": 604,
    "start_time": "2022-09-29T14:51:42.754Z"
   },
   {
    "duration": 797,
    "start_time": "2022-09-29T14:51:43.360Z"
   },
   {
    "duration": 704,
    "start_time": "2022-09-29T14:51:44.158Z"
   },
   {
    "duration": 13,
    "start_time": "2022-09-29T14:51:44.863Z"
   },
   {
    "duration": 791,
    "start_time": "2022-09-29T14:51:44.879Z"
   },
   {
    "duration": 70,
    "start_time": "2022-09-29T14:51:45.672Z"
   },
   {
    "duration": 915,
    "start_time": "2022-09-29T14:51:45.744Z"
   },
   {
    "duration": 164,
    "start_time": "2022-09-29T14:51:46.661Z"
   },
   {
    "duration": 32,
    "start_time": "2022-09-29T14:51:46.827Z"
   },
   {
    "duration": 2023,
    "start_time": "2022-09-29T14:51:46.861Z"
   },
   {
    "duration": 8,
    "start_time": "2022-09-29T14:51:48.886Z"
   },
   {
    "duration": 78,
    "start_time": "2022-09-29T14:51:48.895Z"
   },
   {
    "duration": 12,
    "start_time": "2022-09-29T14:51:48.974Z"
   },
   {
    "duration": 11,
    "start_time": "2022-09-29T14:51:48.988Z"
   },
   {
    "duration": 136,
    "start_time": "2022-09-29T14:51:49.000Z"
   },
   {
    "duration": 5,
    "start_time": "2022-09-29T14:51:49.138Z"
   },
   {
    "duration": 22,
    "start_time": "2022-09-29T14:51:49.145Z"
   },
   {
    "duration": 168,
    "start_time": "2022-09-29T14:51:49.168Z"
   },
   {
    "duration": 9,
    "start_time": "2022-09-29T14:51:49.338Z"
   },
   {
    "duration": 53,
    "start_time": "2022-09-29T14:51:49.349Z"
   },
   {
    "duration": 82,
    "start_time": "2022-09-29T14:51:49.403Z"
   },
   {
    "duration": 12,
    "start_time": "2022-09-29T14:52:09.967Z"
   },
   {
    "duration": 75,
    "start_time": "2022-09-29T14:52:29.096Z"
   },
   {
    "duration": 14,
    "start_time": "2022-09-29T14:52:30.868Z"
   },
   {
    "duration": 8,
    "start_time": "2022-09-29T14:52:41.787Z"
   },
   {
    "duration": 566,
    "start_time": "2022-09-29T14:55:37.361Z"
   },
   {
    "duration": 737,
    "start_time": "2022-09-29T14:55:37.929Z"
   },
   {
    "duration": 678,
    "start_time": "2022-09-29T14:55:38.667Z"
   },
   {
    "duration": 15,
    "start_time": "2022-09-29T14:55:39.348Z"
   },
   {
    "duration": 785,
    "start_time": "2022-09-29T14:55:39.364Z"
   },
   {
    "duration": 81,
    "start_time": "2022-09-29T14:55:40.151Z"
   },
   {
    "duration": 969,
    "start_time": "2022-09-29T14:55:40.235Z"
   },
   {
    "duration": 171,
    "start_time": "2022-09-29T14:55:41.206Z"
   },
   {
    "duration": 43,
    "start_time": "2022-09-29T14:55:41.379Z"
   },
   {
    "duration": 2165,
    "start_time": "2022-09-29T14:55:41.425Z"
   },
   {
    "duration": 9,
    "start_time": "2022-09-29T14:55:43.592Z"
   },
   {
    "duration": 75,
    "start_time": "2022-09-29T14:55:43.602Z"
   },
   {
    "duration": 13,
    "start_time": "2022-09-29T14:55:43.679Z"
   },
   {
    "duration": 9,
    "start_time": "2022-09-29T14:55:43.693Z"
   },
   {
    "duration": 125,
    "start_time": "2022-09-29T14:55:43.722Z"
   },
   {
    "duration": 7,
    "start_time": "2022-09-29T14:55:43.849Z"
   },
   {
    "duration": 23,
    "start_time": "2022-09-29T14:55:43.858Z"
   },
   {
    "duration": 189,
    "start_time": "2022-09-29T14:55:43.883Z"
   },
   {
    "duration": 11,
    "start_time": "2022-09-29T14:55:44.073Z"
   },
   {
    "duration": 69,
    "start_time": "2022-09-29T14:55:44.086Z"
   },
   {
    "duration": 72,
    "start_time": "2022-09-29T14:55:44.156Z"
   },
   {
    "duration": 8,
    "start_time": "2022-09-29T14:56:57.997Z"
   },
   {
    "duration": 8,
    "start_time": "2022-09-29T14:57:13.363Z"
   },
   {
    "duration": 576,
    "start_time": "2022-09-29T14:58:10.750Z"
   },
   {
    "duration": 773,
    "start_time": "2022-09-29T14:58:11.329Z"
   },
   {
    "duration": 720,
    "start_time": "2022-09-29T14:58:12.104Z"
   },
   {
    "duration": 13,
    "start_time": "2022-09-29T14:58:12.826Z"
   },
   {
    "duration": 839,
    "start_time": "2022-09-29T14:58:12.840Z"
   },
   {
    "duration": 79,
    "start_time": "2022-09-29T14:58:13.680Z"
   },
   {
    "duration": 894,
    "start_time": "2022-09-29T14:58:13.761Z"
   },
   {
    "duration": 158,
    "start_time": "2022-09-29T14:58:14.657Z"
   },
   {
    "duration": 31,
    "start_time": "2022-09-29T14:58:14.817Z"
   },
   {
    "duration": 2025,
    "start_time": "2022-09-29T14:58:14.850Z"
   },
   {
    "duration": 9,
    "start_time": "2022-09-29T14:58:16.877Z"
   },
   {
    "duration": 84,
    "start_time": "2022-09-29T14:58:16.888Z"
   },
   {
    "duration": 11,
    "start_time": "2022-09-29T14:58:16.973Z"
   },
   {
    "duration": 10,
    "start_time": "2022-09-29T14:58:16.985Z"
   },
   {
    "duration": 160,
    "start_time": "2022-09-29T14:58:16.996Z"
   },
   {
    "duration": 119,
    "start_time": "2022-09-29T14:58:17.158Z"
   },
   {
    "duration": 5,
    "start_time": "2022-09-29T14:58:17.278Z"
   },
   {
    "duration": 28,
    "start_time": "2022-09-29T14:58:17.285Z"
   },
   {
    "duration": 166,
    "start_time": "2022-09-29T14:58:17.321Z"
   },
   {
    "duration": 10,
    "start_time": "2022-09-29T14:58:17.488Z"
   },
   {
    "duration": 64,
    "start_time": "2022-09-29T14:58:17.499Z"
   },
   {
    "duration": 70,
    "start_time": "2022-09-29T14:58:17.565Z"
   },
   {
    "duration": 12,
    "start_time": "2022-09-29T14:58:57.388Z"
   },
   {
    "duration": 8,
    "start_time": "2022-09-29T14:59:33.045Z"
   },
   {
    "duration": 586,
    "start_time": "2022-09-29T14:59:52.438Z"
   },
   {
    "duration": 750,
    "start_time": "2022-09-29T14:59:53.026Z"
   },
   {
    "duration": 737,
    "start_time": "2022-09-29T14:59:53.777Z"
   },
   {
    "duration": 16,
    "start_time": "2022-09-29T14:59:54.515Z"
   },
   {
    "duration": 865,
    "start_time": "2022-09-29T14:59:54.533Z"
   },
   {
    "duration": 75,
    "start_time": "2022-09-29T14:59:55.400Z"
   },
   {
    "duration": 1010,
    "start_time": "2022-09-29T14:59:55.476Z"
   },
   {
    "duration": 168,
    "start_time": "2022-09-29T14:59:56.487Z"
   },
   {
    "duration": 31,
    "start_time": "2022-09-29T14:59:56.656Z"
   },
   {
    "duration": 1968,
    "start_time": "2022-09-29T14:59:56.689Z"
   },
   {
    "duration": 10,
    "start_time": "2022-09-29T14:59:58.659Z"
   },
   {
    "duration": 83,
    "start_time": "2022-09-29T14:59:58.670Z"
   },
   {
    "duration": 11,
    "start_time": "2022-09-29T14:59:58.754Z"
   },
   {
    "duration": 8,
    "start_time": "2022-09-29T14:59:58.767Z"
   },
   {
    "duration": 19,
    "start_time": "2022-09-29T14:59:58.777Z"
   },
   {
    "duration": 129,
    "start_time": "2022-09-29T14:59:58.798Z"
   },
   {
    "duration": 5,
    "start_time": "2022-09-29T14:59:58.929Z"
   },
   {
    "duration": 21,
    "start_time": "2022-09-29T14:59:58.935Z"
   },
   {
    "duration": 171,
    "start_time": "2022-09-29T14:59:58.957Z"
   },
   {
    "duration": 10,
    "start_time": "2022-09-29T14:59:59.130Z"
   },
   {
    "duration": 52,
    "start_time": "2022-09-29T14:59:59.141Z"
   },
   {
    "duration": 84,
    "start_time": "2022-09-29T14:59:59.194Z"
   },
   {
    "duration": 281,
    "start_time": "2022-09-29T15:03:42.168Z"
   },
   {
    "duration": 257,
    "start_time": "2022-09-29T15:04:09.151Z"
   },
   {
    "duration": 272,
    "start_time": "2022-09-29T15:04:42.867Z"
   },
   {
    "duration": 21,
    "start_time": "2022-09-29T15:06:15.793Z"
   },
   {
    "duration": 258,
    "start_time": "2022-09-29T15:06:35.563Z"
   },
   {
    "duration": 64,
    "start_time": "2022-09-29T15:11:12.815Z"
   },
   {
    "duration": 1111,
    "start_time": "2022-09-29T15:11:53.522Z"
   },
   {
    "duration": 1363,
    "start_time": "2022-09-29T15:12:12.157Z"
   },
   {
    "duration": 184,
    "start_time": "2022-09-29T15:12:17.967Z"
   },
   {
    "duration": 8,
    "start_time": "2022-09-29T15:12:35.195Z"
   },
   {
    "duration": 266,
    "start_time": "2022-09-29T15:12:48.876Z"
   },
   {
    "duration": 296,
    "start_time": "2022-09-29T15:13:03.803Z"
   },
   {
    "duration": 216,
    "start_time": "2022-09-29T15:13:08.462Z"
   },
   {
    "duration": 213,
    "start_time": "2022-09-29T15:13:14.193Z"
   },
   {
    "duration": 256,
    "start_time": "2022-09-29T15:13:26.347Z"
   },
   {
    "duration": 323,
    "start_time": "2022-09-29T15:14:27.622Z"
   },
   {
    "duration": 253,
    "start_time": "2022-09-29T15:14:51.952Z"
   },
   {
    "duration": 101,
    "start_time": "2022-09-29T15:15:08.692Z"
   },
   {
    "duration": 238,
    "start_time": "2022-09-29T15:15:11.829Z"
   },
   {
    "duration": 467,
    "start_time": "2022-09-29T15:15:41.018Z"
   },
   {
    "duration": 246,
    "start_time": "2022-09-29T15:15:50.417Z"
   },
   {
    "duration": 364,
    "start_time": "2022-09-29T15:15:56.764Z"
   },
   {
    "duration": 247,
    "start_time": "2022-09-29T15:16:24.469Z"
   },
   {
    "duration": 5,
    "start_time": "2022-09-29T15:29:13.037Z"
   },
   {
    "duration": 21,
    "start_time": "2022-09-29T15:29:59.449Z"
   },
   {
    "duration": 5,
    "start_time": "2022-09-29T15:31:15.792Z"
   },
   {
    "duration": 45,
    "start_time": "2022-09-29T15:31:43.644Z"
   },
   {
    "duration": 68,
    "start_time": "2022-09-29T15:31:49.443Z"
   },
   {
    "duration": 104,
    "start_time": "2022-09-29T15:31:52.959Z"
   },
   {
    "duration": 55,
    "start_time": "2022-09-29T15:32:09.859Z"
   },
   {
    "duration": 73,
    "start_time": "2022-09-29T15:33:06.383Z"
   },
   {
    "duration": 21,
    "start_time": "2022-09-29T15:33:08.262Z"
   },
   {
    "duration": 9,
    "start_time": "2022-09-29T15:33:18.889Z"
   },
   {
    "duration": 7,
    "start_time": "2022-09-29T15:33:24.186Z"
   },
   {
    "duration": 91,
    "start_time": "2022-09-29T15:34:20.092Z"
   },
   {
    "duration": 81,
    "start_time": "2022-09-29T15:34:25.877Z"
   },
   {
    "duration": 66,
    "start_time": "2022-09-29T15:34:46.028Z"
   },
   {
    "duration": 91,
    "start_time": "2022-09-29T15:35:04.406Z"
   },
   {
    "duration": 58,
    "start_time": "2022-09-29T15:38:54.866Z"
   },
   {
    "duration": 54,
    "start_time": "2022-09-29T15:39:30.220Z"
   },
   {
    "duration": 4,
    "start_time": "2022-09-29T15:40:24.883Z"
   },
   {
    "duration": 24,
    "start_time": "2022-09-29T15:44:52.922Z"
   },
   {
    "duration": 14,
    "start_time": "2022-09-29T15:44:55.366Z"
   },
   {
    "duration": 15,
    "start_time": "2022-09-29T15:45:02.938Z"
   },
   {
    "duration": 581,
    "start_time": "2022-09-29T15:45:08.754Z"
   },
   {
    "duration": 753,
    "start_time": "2022-09-29T15:45:09.337Z"
   },
   {
    "duration": 734,
    "start_time": "2022-09-29T15:45:10.091Z"
   },
   {
    "duration": 17,
    "start_time": "2022-09-29T15:45:10.827Z"
   },
   {
    "duration": 844,
    "start_time": "2022-09-29T15:45:10.847Z"
   },
   {
    "duration": 88,
    "start_time": "2022-09-29T15:45:11.692Z"
   },
   {
    "duration": 894,
    "start_time": "2022-09-29T15:45:11.782Z"
   },
   {
    "duration": 166,
    "start_time": "2022-09-29T15:45:12.677Z"
   },
   {
    "duration": 28,
    "start_time": "2022-09-29T15:45:12.845Z"
   },
   {
    "duration": 2221,
    "start_time": "2022-09-29T15:45:12.874Z"
   },
   {
    "duration": 10,
    "start_time": "2022-09-29T15:45:15.097Z"
   },
   {
    "duration": 76,
    "start_time": "2022-09-29T15:45:15.108Z"
   },
   {
    "duration": 10,
    "start_time": "2022-09-29T15:45:15.186Z"
   },
   {
    "duration": 34,
    "start_time": "2022-09-29T15:45:15.199Z"
   },
   {
    "duration": 17,
    "start_time": "2022-09-29T15:45:15.235Z"
   },
   {
    "duration": 117,
    "start_time": "2022-09-29T15:45:15.253Z"
   },
   {
    "duration": 5,
    "start_time": "2022-09-29T15:45:15.372Z"
   },
   {
    "duration": 24,
    "start_time": "2022-09-29T15:45:15.379Z"
   },
   {
    "duration": 172,
    "start_time": "2022-09-29T15:45:15.404Z"
   },
   {
    "duration": 9,
    "start_time": "2022-09-29T15:45:15.578Z"
   },
   {
    "duration": 70,
    "start_time": "2022-09-29T15:45:15.589Z"
   },
   {
    "duration": 72,
    "start_time": "2022-09-29T15:45:15.661Z"
   },
   {
    "duration": 301,
    "start_time": "2022-09-29T15:45:15.736Z"
   },
   {
    "duration": 8,
    "start_time": "2022-09-29T15:45:16.039Z"
   },
   {
    "duration": 81,
    "start_time": "2022-09-29T15:45:16.049Z"
   },
   {
    "duration": 337,
    "start_time": "2022-09-29T15:45:16.134Z"
   },
   {
    "duration": 282,
    "start_time": "2022-09-29T15:45:16.472Z"
   },
   {
    "duration": 100,
    "start_time": "2022-09-29T15:45:16.756Z"
   },
   {
    "duration": 53,
    "start_time": "2022-09-29T15:45:16.857Z"
   },
   {
    "duration": 44,
    "start_time": "2022-09-29T15:45:16.912Z"
   },
   {
    "duration": 10,
    "start_time": "2022-09-29T15:54:22.577Z"
   },
   {
    "duration": 675,
    "start_time": "2022-09-29T15:56:40.246Z"
   },
   {
    "duration": 926,
    "start_time": "2022-09-29T15:56:40.923Z"
   },
   {
    "duration": 826,
    "start_time": "2022-09-29T15:56:41.850Z"
   },
   {
    "duration": 14,
    "start_time": "2022-09-29T15:56:42.677Z"
   },
   {
    "duration": 960,
    "start_time": "2022-09-29T15:56:42.693Z"
   },
   {
    "duration": 83,
    "start_time": "2022-09-29T15:56:43.654Z"
   },
   {
    "duration": 1027,
    "start_time": "2022-09-29T15:56:43.739Z"
   },
   {
    "duration": 155,
    "start_time": "2022-09-29T15:56:44.768Z"
   },
   {
    "duration": 27,
    "start_time": "2022-09-29T15:56:44.925Z"
   },
   {
    "duration": 2170,
    "start_time": "2022-09-29T15:56:44.955Z"
   },
   {
    "duration": 9,
    "start_time": "2022-09-29T15:56:47.127Z"
   },
   {
    "duration": 84,
    "start_time": "2022-09-29T15:56:47.138Z"
   },
   {
    "duration": 12,
    "start_time": "2022-09-29T15:56:47.224Z"
   },
   {
    "duration": 9,
    "start_time": "2022-09-29T15:56:47.238Z"
   },
   {
    "duration": 19,
    "start_time": "2022-09-29T15:56:47.249Z"
   },
   {
    "duration": 152,
    "start_time": "2022-09-29T15:56:47.270Z"
   },
   {
    "duration": 6,
    "start_time": "2022-09-29T15:56:47.423Z"
   },
   {
    "duration": 26,
    "start_time": "2022-09-29T15:56:47.431Z"
   },
   {
    "duration": 175,
    "start_time": "2022-09-29T15:56:47.461Z"
   },
   {
    "duration": 13,
    "start_time": "2022-09-29T15:56:47.638Z"
   },
   {
    "duration": 75,
    "start_time": "2022-09-29T15:56:47.653Z"
   },
   {
    "duration": 76,
    "start_time": "2022-09-29T15:56:47.729Z"
   },
   {
    "duration": 344,
    "start_time": "2022-09-29T15:56:47.807Z"
   },
   {
    "duration": 7,
    "start_time": "2022-09-29T15:56:48.153Z"
   },
   {
    "duration": 77,
    "start_time": "2022-09-29T15:56:48.162Z"
   },
   {
    "duration": 289,
    "start_time": "2022-09-29T15:56:48.241Z"
   },
   {
    "duration": 274,
    "start_time": "2022-09-29T15:56:48.532Z"
   },
   {
    "duration": 87,
    "start_time": "2022-09-29T15:56:48.810Z"
   },
   {
    "duration": 76,
    "start_time": "2022-09-29T15:56:48.899Z"
   },
   {
    "duration": 97,
    "start_time": "2022-09-29T15:56:48.978Z"
   },
   {
    "duration": 19,
    "start_time": "2022-09-29T15:56:54.492Z"
   },
   {
    "duration": 576,
    "start_time": "2022-09-29T15:57:22.033Z"
   },
   {
    "duration": 741,
    "start_time": "2022-09-29T15:57:22.611Z"
   },
   {
    "duration": 736,
    "start_time": "2022-09-29T15:57:23.353Z"
   },
   {
    "duration": 14,
    "start_time": "2022-09-29T15:57:24.091Z"
   },
   {
    "duration": 845,
    "start_time": "2022-09-29T15:57:24.121Z"
   },
   {
    "duration": 76,
    "start_time": "2022-09-29T15:57:24.968Z"
   },
   {
    "duration": 919,
    "start_time": "2022-09-29T15:57:25.046Z"
   },
   {
    "duration": 203,
    "start_time": "2022-09-29T15:57:25.966Z"
   },
   {
    "duration": 51,
    "start_time": "2022-09-29T15:57:26.172Z"
   },
   {
    "duration": 2317,
    "start_time": "2022-09-29T15:57:26.225Z"
   },
   {
    "duration": 9,
    "start_time": "2022-09-29T15:57:28.543Z"
   },
   {
    "duration": 81,
    "start_time": "2022-09-29T15:57:28.554Z"
   },
   {
    "duration": 12,
    "start_time": "2022-09-29T15:57:28.636Z"
   },
   {
    "duration": 12,
    "start_time": "2022-09-29T15:57:28.651Z"
   },
   {
    "duration": 28,
    "start_time": "2022-09-29T15:57:28.664Z"
   },
   {
    "duration": 141,
    "start_time": "2022-09-29T15:57:28.694Z"
   },
   {
    "duration": 6,
    "start_time": "2022-09-29T15:57:28.837Z"
   },
   {
    "duration": 35,
    "start_time": "2022-09-29T15:57:28.845Z"
   },
   {
    "duration": 198,
    "start_time": "2022-09-29T15:57:28.883Z"
   },
   {
    "duration": 11,
    "start_time": "2022-09-29T15:57:29.083Z"
   },
   {
    "duration": 67,
    "start_time": "2022-09-29T15:57:29.096Z"
   },
   {
    "duration": 100,
    "start_time": "2022-09-29T15:57:29.164Z"
   },
   {
    "duration": 301,
    "start_time": "2022-09-29T15:57:29.266Z"
   },
   {
    "duration": 6,
    "start_time": "2022-09-29T15:57:29.569Z"
   },
   {
    "duration": 94,
    "start_time": "2022-09-29T15:57:29.577Z"
   },
   {
    "duration": 302,
    "start_time": "2022-09-29T15:57:29.674Z"
   },
   {
    "duration": 292,
    "start_time": "2022-09-29T15:57:29.978Z"
   },
   {
    "duration": 99,
    "start_time": "2022-09-29T15:57:30.271Z"
   },
   {
    "duration": 66,
    "start_time": "2022-09-29T15:57:30.372Z"
   },
   {
    "duration": 36,
    "start_time": "2022-09-29T15:57:30.440Z"
   },
   {
    "duration": 76,
    "start_time": "2022-09-29T15:57:59.569Z"
   },
   {
    "duration": 650,
    "start_time": "2022-09-29T15:59:31.725Z"
   },
   {
    "duration": 745,
    "start_time": "2022-09-29T15:59:32.376Z"
   },
   {
    "duration": 1804,
    "start_time": "2022-09-29T15:59:33.123Z"
   },
   {
    "duration": 208,
    "start_time": "2022-09-29T15:59:34.930Z"
   },
   {
    "duration": 0,
    "start_time": "2022-09-29T15:59:35.140Z"
   },
   {
    "duration": 0,
    "start_time": "2022-09-29T15:59:35.143Z"
   },
   {
    "duration": 0,
    "start_time": "2022-09-29T15:59:35.145Z"
   },
   {
    "duration": 0,
    "start_time": "2022-09-29T15:59:35.146Z"
   },
   {
    "duration": 0,
    "start_time": "2022-09-29T15:59:35.148Z"
   },
   {
    "duration": 0,
    "start_time": "2022-09-29T15:59:35.149Z"
   },
   {
    "duration": 0,
    "start_time": "2022-09-29T15:59:35.151Z"
   },
   {
    "duration": 0,
    "start_time": "2022-09-29T15:59:35.152Z"
   },
   {
    "duration": 0,
    "start_time": "2022-09-29T15:59:35.154Z"
   },
   {
    "duration": 0,
    "start_time": "2022-09-29T15:59:35.156Z"
   },
   {
    "duration": 0,
    "start_time": "2022-09-29T15:59:35.157Z"
   },
   {
    "duration": 0,
    "start_time": "2022-09-29T15:59:35.159Z"
   },
   {
    "duration": 0,
    "start_time": "2022-09-29T15:59:35.160Z"
   },
   {
    "duration": 0,
    "start_time": "2022-09-29T15:59:35.162Z"
   },
   {
    "duration": 0,
    "start_time": "2022-09-29T15:59:35.163Z"
   },
   {
    "duration": 0,
    "start_time": "2022-09-29T15:59:35.222Z"
   },
   {
    "duration": 0,
    "start_time": "2022-09-29T15:59:35.224Z"
   },
   {
    "duration": 0,
    "start_time": "2022-09-29T15:59:35.225Z"
   },
   {
    "duration": 0,
    "start_time": "2022-09-29T15:59:35.226Z"
   },
   {
    "duration": 0,
    "start_time": "2022-09-29T15:59:35.227Z"
   },
   {
    "duration": 0,
    "start_time": "2022-09-29T15:59:35.229Z"
   },
   {
    "duration": 0,
    "start_time": "2022-09-29T15:59:35.230Z"
   },
   {
    "duration": 0,
    "start_time": "2022-09-29T15:59:35.231Z"
   },
   {
    "duration": 0,
    "start_time": "2022-09-29T15:59:35.232Z"
   },
   {
    "duration": 0,
    "start_time": "2022-09-29T15:59:35.234Z"
   },
   {
    "duration": 0,
    "start_time": "2022-09-29T15:59:35.235Z"
   },
   {
    "duration": 21,
    "start_time": "2022-09-29T15:59:42.926Z"
   },
   {
    "duration": 817,
    "start_time": "2022-09-29T15:59:48.880Z"
   },
   {
    "duration": 74,
    "start_time": "2022-09-29T15:59:49.699Z"
   },
   {
    "duration": 899,
    "start_time": "2022-09-29T15:59:49.774Z"
   },
   {
    "duration": 153,
    "start_time": "2022-09-29T15:59:50.676Z"
   },
   {
    "duration": 29,
    "start_time": "2022-09-29T15:59:50.830Z"
   },
   {
    "duration": 2161,
    "start_time": "2022-09-29T15:59:50.860Z"
   },
   {
    "duration": 10,
    "start_time": "2022-09-29T15:59:53.023Z"
   },
   {
    "duration": 88,
    "start_time": "2022-09-29T15:59:53.035Z"
   },
   {
    "duration": 13,
    "start_time": "2022-09-29T15:59:53.125Z"
   },
   {
    "duration": 10,
    "start_time": "2022-09-29T15:59:53.141Z"
   },
   {
    "duration": 21,
    "start_time": "2022-09-29T15:59:53.153Z"
   },
   {
    "duration": 141,
    "start_time": "2022-09-29T15:59:54.265Z"
   },
   {
    "duration": 8,
    "start_time": "2022-09-29T15:59:54.623Z"
   },
   {
    "duration": 32,
    "start_time": "2022-09-29T15:59:54.990Z"
   },
   {
    "duration": 171,
    "start_time": "2022-09-29T15:59:56.282Z"
   },
   {
    "duration": 13,
    "start_time": "2022-09-29T15:59:56.547Z"
   },
   {
    "duration": 53,
    "start_time": "2022-09-29T15:59:56.960Z"
   },
   {
    "duration": 66,
    "start_time": "2022-09-29T15:59:57.222Z"
   },
   {
    "duration": 260,
    "start_time": "2022-09-29T15:59:57.851Z"
   },
   {
    "duration": 6,
    "start_time": "2022-09-29T15:59:58.712Z"
   },
   {
    "duration": 66,
    "start_time": "2022-09-29T16:00:00.835Z"
   },
   {
    "duration": 306,
    "start_time": "2022-09-29T16:00:01.144Z"
   },
   {
    "duration": 317,
    "start_time": "2022-09-29T16:00:03.801Z"
   },
   {
    "duration": 81,
    "start_time": "2022-09-29T16:00:05.889Z"
   },
   {
    "duration": 54,
    "start_time": "2022-09-29T16:00:10.201Z"
   },
   {
    "duration": 33,
    "start_time": "2022-09-29T16:00:19.507Z"
   },
   {
    "duration": 21,
    "start_time": "2022-09-29T16:00:29.401Z"
   },
   {
    "duration": 16,
    "start_time": "2022-09-29T16:00:37.065Z"
   },
   {
    "duration": 16,
    "start_time": "2022-09-29T16:00:52.214Z"
   },
   {
    "duration": 11,
    "start_time": "2022-09-29T16:01:04.543Z"
   },
   {
    "duration": 686,
    "start_time": "2022-09-29T16:01:39.971Z"
   },
   {
    "duration": 873,
    "start_time": "2022-09-29T16:01:40.659Z"
   },
   {
    "duration": 927,
    "start_time": "2022-09-29T16:01:41.534Z"
   },
   {
    "duration": 17,
    "start_time": "2022-09-29T16:01:42.463Z"
   },
   {
    "duration": 914,
    "start_time": "2022-09-29T16:01:42.481Z"
   },
   {
    "duration": 87,
    "start_time": "2022-09-29T16:01:43.397Z"
   },
   {
    "duration": 1012,
    "start_time": "2022-09-29T16:01:43.486Z"
   },
   {
    "duration": 160,
    "start_time": "2022-09-29T16:01:44.501Z"
   },
   {
    "duration": 41,
    "start_time": "2022-09-29T16:01:44.662Z"
   },
   {
    "duration": 2358,
    "start_time": "2022-09-29T16:01:44.707Z"
   },
   {
    "duration": 11,
    "start_time": "2022-09-29T16:01:47.067Z"
   },
   {
    "duration": 85,
    "start_time": "2022-09-29T16:01:47.080Z"
   },
   {
    "duration": 12,
    "start_time": "2022-09-29T16:01:47.166Z"
   },
   {
    "duration": 11,
    "start_time": "2022-09-29T16:01:47.180Z"
   },
   {
    "duration": 49,
    "start_time": "2022-09-29T16:01:47.192Z"
   },
   {
    "duration": 124,
    "start_time": "2022-09-29T16:01:47.243Z"
   },
   {
    "duration": 7,
    "start_time": "2022-09-29T16:01:47.369Z"
   },
   {
    "duration": 47,
    "start_time": "2022-09-29T16:01:47.382Z"
   },
   {
    "duration": 196,
    "start_time": "2022-09-29T16:01:47.431Z"
   },
   {
    "duration": 11,
    "start_time": "2022-09-29T16:01:47.628Z"
   },
   {
    "duration": 85,
    "start_time": "2022-09-29T16:01:47.641Z"
   },
   {
    "duration": 71,
    "start_time": "2022-09-29T16:01:47.728Z"
   },
   {
    "duration": 298,
    "start_time": "2022-09-29T16:01:47.801Z"
   },
   {
    "duration": 5,
    "start_time": "2022-09-29T16:01:48.100Z"
   },
   {
    "duration": 66,
    "start_time": "2022-09-29T16:01:48.121Z"
   },
   {
    "duration": 310,
    "start_time": "2022-09-29T16:01:48.189Z"
   },
   {
    "duration": 420,
    "start_time": "2022-09-29T16:01:48.502Z"
   },
   {
    "duration": 110,
    "start_time": "2022-09-29T16:01:48.926Z"
   },
   {
    "duration": 68,
    "start_time": "2022-09-29T16:01:49.038Z"
   },
   {
    "duration": 30,
    "start_time": "2022-09-29T16:01:49.122Z"
   },
   {
    "duration": 72,
    "start_time": "2022-09-29T16:02:21.263Z"
   },
   {
    "duration": 652,
    "start_time": "2022-09-29T16:02:25.939Z"
   },
   {
    "duration": 744,
    "start_time": "2022-09-29T16:02:26.593Z"
   },
   {
    "duration": 761,
    "start_time": "2022-09-29T16:02:27.339Z"
   },
   {
    "duration": 23,
    "start_time": "2022-09-29T16:02:28.102Z"
   },
   {
    "duration": 804,
    "start_time": "2022-09-29T16:02:28.127Z"
   },
   {
    "duration": 66,
    "start_time": "2022-09-29T16:02:28.933Z"
   },
   {
    "duration": 906,
    "start_time": "2022-09-29T16:02:29.001Z"
   },
   {
    "duration": 143,
    "start_time": "2022-09-29T16:02:29.909Z"
   },
   {
    "duration": 28,
    "start_time": "2022-09-29T16:02:30.054Z"
   },
   {
    "duration": 2127,
    "start_time": "2022-09-29T16:02:30.084Z"
   },
   {
    "duration": 16,
    "start_time": "2022-09-29T16:02:32.213Z"
   },
   {
    "duration": 89,
    "start_time": "2022-09-29T16:02:32.231Z"
   },
   {
    "duration": 11,
    "start_time": "2022-09-29T16:02:32.322Z"
   },
   {
    "duration": 12,
    "start_time": "2022-09-29T16:02:32.334Z"
   },
   {
    "duration": 35,
    "start_time": "2022-09-29T16:02:32.347Z"
   },
   {
    "duration": 120,
    "start_time": "2022-09-29T16:02:32.384Z"
   },
   {
    "duration": 6,
    "start_time": "2022-09-29T16:02:32.505Z"
   },
   {
    "duration": 34,
    "start_time": "2022-09-29T16:02:32.512Z"
   },
   {
    "duration": 177,
    "start_time": "2022-09-29T16:02:32.548Z"
   },
   {
    "duration": 11,
    "start_time": "2022-09-29T16:02:32.726Z"
   },
   {
    "duration": 54,
    "start_time": "2022-09-29T16:02:32.738Z"
   },
   {
    "duration": 88,
    "start_time": "2022-09-29T16:02:32.794Z"
   },
   {
    "duration": 257,
    "start_time": "2022-09-29T16:02:32.884Z"
   },
   {
    "duration": 4,
    "start_time": "2022-09-29T16:02:33.143Z"
   },
   {
    "duration": 79,
    "start_time": "2022-09-29T16:02:33.149Z"
   },
   {
    "duration": 281,
    "start_time": "2022-09-29T16:02:33.230Z"
   },
   {
    "duration": 281,
    "start_time": "2022-09-29T16:02:33.512Z"
   },
   {
    "duration": 83,
    "start_time": "2022-09-29T16:02:33.796Z"
   },
   {
    "duration": 64,
    "start_time": "2022-09-29T16:02:33.880Z"
   },
   {
    "duration": 23,
    "start_time": "2022-09-29T16:02:33.945Z"
   },
   {
    "duration": 623,
    "start_time": "2022-09-29T16:05:23.722Z"
   },
   {
    "duration": 763,
    "start_time": "2022-09-29T16:05:24.346Z"
   },
   {
    "duration": 725,
    "start_time": "2022-09-29T16:05:25.111Z"
   },
   {
    "duration": 14,
    "start_time": "2022-09-29T16:05:25.838Z"
   },
   {
    "duration": 904,
    "start_time": "2022-09-29T16:05:25.854Z"
   },
   {
    "duration": 82,
    "start_time": "2022-09-29T16:05:26.760Z"
   },
   {
    "duration": 913,
    "start_time": "2022-09-29T16:05:26.844Z"
   },
   {
    "duration": 165,
    "start_time": "2022-09-29T16:05:27.759Z"
   },
   {
    "duration": 28,
    "start_time": "2022-09-29T16:05:27.926Z"
   },
   {
    "duration": 2039,
    "start_time": "2022-09-29T16:05:27.956Z"
   },
   {
    "duration": 8,
    "start_time": "2022-09-29T16:05:29.997Z"
   },
   {
    "duration": 85,
    "start_time": "2022-09-29T16:05:30.006Z"
   },
   {
    "duration": 10,
    "start_time": "2022-09-29T16:05:30.093Z"
   },
   {
    "duration": 26,
    "start_time": "2022-09-29T16:05:30.105Z"
   },
   {
    "duration": 28,
    "start_time": "2022-09-29T16:05:30.133Z"
   },
   {
    "duration": 116,
    "start_time": "2022-09-29T16:05:30.163Z"
   },
   {
    "duration": 5,
    "start_time": "2022-09-29T16:05:30.281Z"
   },
   {
    "duration": 34,
    "start_time": "2022-09-29T16:05:30.287Z"
   },
   {
    "duration": 184,
    "start_time": "2022-09-29T16:05:30.323Z"
   },
   {
    "duration": 13,
    "start_time": "2022-09-29T16:05:30.509Z"
   },
   {
    "duration": 86,
    "start_time": "2022-09-29T16:05:30.524Z"
   },
   {
    "duration": 68,
    "start_time": "2022-09-29T16:05:30.612Z"
   },
   {
    "duration": 285,
    "start_time": "2022-09-29T16:05:30.682Z"
   },
   {
    "duration": 6,
    "start_time": "2022-09-29T16:05:30.969Z"
   },
   {
    "duration": 83,
    "start_time": "2022-09-29T16:05:30.977Z"
   },
   {
    "duration": 293,
    "start_time": "2022-09-29T16:05:31.062Z"
   },
   {
    "duration": 303,
    "start_time": "2022-09-29T16:05:31.357Z"
   },
   {
    "duration": 100,
    "start_time": "2022-09-29T16:05:31.663Z"
   },
   {
    "duration": 64,
    "start_time": "2022-09-29T16:05:31.765Z"
   },
   {
    "duration": 23,
    "start_time": "2022-09-29T16:05:31.830Z"
   },
   {
    "duration": 73,
    "start_time": "2022-09-29T16:06:01.203Z"
   },
   {
    "duration": 637,
    "start_time": "2022-09-29T16:06:05.132Z"
   },
   {
    "duration": 865,
    "start_time": "2022-09-29T16:06:05.771Z"
   },
   {
    "duration": 719,
    "start_time": "2022-09-29T16:06:06.638Z"
   },
   {
    "duration": 17,
    "start_time": "2022-09-29T16:06:07.360Z"
   },
   {
    "duration": 828,
    "start_time": "2022-09-29T16:06:07.378Z"
   },
   {
    "duration": 67,
    "start_time": "2022-09-29T16:06:08.207Z"
   },
   {
    "duration": 907,
    "start_time": "2022-09-29T16:06:08.276Z"
   },
   {
    "duration": 146,
    "start_time": "2022-09-29T16:06:09.184Z"
   },
   {
    "duration": 31,
    "start_time": "2022-09-29T16:06:09.331Z"
   },
   {
    "duration": 2074,
    "start_time": "2022-09-29T16:06:09.364Z"
   },
   {
    "duration": 9,
    "start_time": "2022-09-29T16:06:11.439Z"
   },
   {
    "duration": 86,
    "start_time": "2022-09-29T16:06:11.449Z"
   },
   {
    "duration": 13,
    "start_time": "2022-09-29T16:06:11.536Z"
   },
   {
    "duration": 10,
    "start_time": "2022-09-29T16:06:11.550Z"
   },
   {
    "duration": 20,
    "start_time": "2022-09-29T16:06:11.562Z"
   },
   {
    "duration": 169,
    "start_time": "2022-09-29T16:06:11.583Z"
   },
   {
    "duration": 5,
    "start_time": "2022-09-29T16:06:11.754Z"
   },
   {
    "duration": 36,
    "start_time": "2022-09-29T16:06:11.761Z"
   },
   {
    "duration": 171,
    "start_time": "2022-09-29T16:06:11.798Z"
   },
   {
    "duration": 10,
    "start_time": "2022-09-29T16:06:11.970Z"
   },
   {
    "duration": 67,
    "start_time": "2022-09-29T16:06:11.981Z"
   },
   {
    "duration": 77,
    "start_time": "2022-09-29T16:06:12.049Z"
   },
   {
    "duration": 260,
    "start_time": "2022-09-29T16:06:12.128Z"
   },
   {
    "duration": 6,
    "start_time": "2022-09-29T16:06:12.389Z"
   },
   {
    "duration": 81,
    "start_time": "2022-09-29T16:06:12.396Z"
   },
   {
    "duration": 294,
    "start_time": "2022-09-29T16:06:12.478Z"
   },
   {
    "duration": 287,
    "start_time": "2022-09-29T16:06:12.774Z"
   },
   {
    "duration": 102,
    "start_time": "2022-09-29T16:06:13.065Z"
   },
   {
    "duration": 71,
    "start_time": "2022-09-29T16:06:13.169Z"
   },
   {
    "duration": 24,
    "start_time": "2022-09-29T16:06:13.242Z"
   },
   {
    "duration": 639,
    "start_time": "2022-09-29T16:06:45.633Z"
   },
   {
    "duration": 780,
    "start_time": "2022-09-29T16:06:46.274Z"
   },
   {
    "duration": 806,
    "start_time": "2022-09-29T16:06:47.055Z"
   },
   {
    "duration": 23,
    "start_time": "2022-09-29T16:06:47.864Z"
   },
   {
    "duration": 814,
    "start_time": "2022-09-29T16:06:47.889Z"
   },
   {
    "duration": 71,
    "start_time": "2022-09-29T16:06:48.705Z"
   },
   {
    "duration": 898,
    "start_time": "2022-09-29T16:06:48.778Z"
   },
   {
    "duration": 141,
    "start_time": "2022-09-29T16:06:49.678Z"
   },
   {
    "duration": 28,
    "start_time": "2022-09-29T16:06:49.821Z"
   },
   {
    "duration": 2102,
    "start_time": "2022-09-29T16:06:49.851Z"
   },
   {
    "duration": 8,
    "start_time": "2022-09-29T16:06:51.955Z"
   },
   {
    "duration": 83,
    "start_time": "2022-09-29T16:06:51.965Z"
   },
   {
    "duration": 10,
    "start_time": "2022-09-29T16:06:52.050Z"
   },
   {
    "duration": 8,
    "start_time": "2022-09-29T16:06:52.061Z"
   },
   {
    "duration": 20,
    "start_time": "2022-09-29T16:06:52.070Z"
   },
   {
    "duration": 143,
    "start_time": "2022-09-29T16:06:52.092Z"
   },
   {
    "duration": 7,
    "start_time": "2022-09-29T16:06:52.237Z"
   },
   {
    "duration": 26,
    "start_time": "2022-09-29T16:06:52.246Z"
   },
   {
    "duration": 173,
    "start_time": "2022-09-29T16:06:52.273Z"
   },
   {
    "duration": 10,
    "start_time": "2022-09-29T16:06:52.447Z"
   },
   {
    "duration": 64,
    "start_time": "2022-09-29T16:06:52.459Z"
   },
   {
    "duration": 68,
    "start_time": "2022-09-29T16:06:52.525Z"
   },
   {
    "duration": 270,
    "start_time": "2022-09-29T16:06:52.595Z"
   },
   {
    "duration": 5,
    "start_time": "2022-09-29T16:06:52.867Z"
   },
   {
    "duration": 76,
    "start_time": "2022-09-29T16:06:52.874Z"
   },
   {
    "duration": 285,
    "start_time": "2022-09-29T16:06:52.952Z"
   },
   {
    "duration": 285,
    "start_time": "2022-09-29T16:06:53.239Z"
   },
   {
    "duration": 99,
    "start_time": "2022-09-29T16:06:53.527Z"
   },
   {
    "duration": 55,
    "start_time": "2022-09-29T16:06:53.628Z"
   },
   {
    "duration": 39,
    "start_time": "2022-09-29T16:06:53.684Z"
   },
   {
    "duration": 600,
    "start_time": "2022-09-29T16:07:20.438Z"
   },
   {
    "duration": 779,
    "start_time": "2022-09-29T16:07:21.041Z"
   },
   {
    "duration": 733,
    "start_time": "2022-09-29T16:07:21.822Z"
   },
   {
    "duration": 14,
    "start_time": "2022-09-29T16:07:22.557Z"
   },
   {
    "duration": 882,
    "start_time": "2022-09-29T16:07:22.573Z"
   },
   {
    "duration": 93,
    "start_time": "2022-09-29T16:07:23.457Z"
   },
   {
    "duration": 920,
    "start_time": "2022-09-29T16:07:23.551Z"
   },
   {
    "duration": 151,
    "start_time": "2022-09-29T16:07:24.473Z"
   },
   {
    "duration": 30,
    "start_time": "2022-09-29T16:07:24.626Z"
   },
   {
    "duration": 2203,
    "start_time": "2022-09-29T16:07:24.659Z"
   },
   {
    "duration": 9,
    "start_time": "2022-09-29T16:07:26.863Z"
   },
   {
    "duration": 77,
    "start_time": "2022-09-29T16:07:26.873Z"
   },
   {
    "duration": 10,
    "start_time": "2022-09-29T16:07:26.952Z"
   },
   {
    "duration": 33,
    "start_time": "2022-09-29T16:07:26.964Z"
   },
   {
    "duration": 25,
    "start_time": "2022-09-29T16:07:26.999Z"
   },
   {
    "duration": 116,
    "start_time": "2022-09-29T16:07:27.025Z"
   },
   {
    "duration": 5,
    "start_time": "2022-09-29T16:07:27.143Z"
   },
   {
    "duration": 25,
    "start_time": "2022-09-29T16:07:27.150Z"
   },
   {
    "duration": 176,
    "start_time": "2022-09-29T16:07:27.177Z"
   },
   {
    "duration": 10,
    "start_time": "2022-09-29T16:07:27.354Z"
   },
   {
    "duration": 62,
    "start_time": "2022-09-29T16:07:27.366Z"
   },
   {
    "duration": 69,
    "start_time": "2022-09-29T16:07:27.430Z"
   },
   {
    "duration": 277,
    "start_time": "2022-09-29T16:07:27.501Z"
   },
   {
    "duration": 7,
    "start_time": "2022-09-29T16:07:27.780Z"
   },
   {
    "duration": 78,
    "start_time": "2022-09-29T16:07:27.790Z"
   },
   {
    "duration": 294,
    "start_time": "2022-09-29T16:07:27.872Z"
   },
   {
    "duration": 269,
    "start_time": "2022-09-29T16:07:28.168Z"
   },
   {
    "duration": 82,
    "start_time": "2022-09-29T16:07:28.440Z"
   },
   {
    "duration": 56,
    "start_time": "2022-09-29T16:07:28.524Z"
   },
   {
    "duration": 42,
    "start_time": "2022-09-29T16:07:28.582Z"
   },
   {
    "duration": 590,
    "start_time": "2022-09-29T16:08:00.076Z"
   },
   {
    "duration": 769,
    "start_time": "2022-09-29T16:08:00.668Z"
   },
   {
    "duration": 716,
    "start_time": "2022-09-29T16:08:01.438Z"
   },
   {
    "duration": 14,
    "start_time": "2022-09-29T16:08:02.156Z"
   },
   {
    "duration": 807,
    "start_time": "2022-09-29T16:08:02.172Z"
   },
   {
    "duration": 72,
    "start_time": "2022-09-29T16:08:02.981Z"
   },
   {
    "duration": 935,
    "start_time": "2022-09-29T16:08:03.054Z"
   },
   {
    "duration": 143,
    "start_time": "2022-09-29T16:08:03.991Z"
   },
   {
    "duration": 27,
    "start_time": "2022-09-29T16:08:04.136Z"
   },
   {
    "duration": 2097,
    "start_time": "2022-09-29T16:08:04.167Z"
   },
   {
    "duration": 8,
    "start_time": "2022-09-29T16:08:06.266Z"
   },
   {
    "duration": 79,
    "start_time": "2022-09-29T16:08:06.276Z"
   },
   {
    "duration": 12,
    "start_time": "2022-09-29T16:08:06.356Z"
   },
   {
    "duration": 11,
    "start_time": "2022-09-29T16:08:06.369Z"
   },
   {
    "duration": 53,
    "start_time": "2022-09-29T16:08:06.381Z"
   },
   {
    "duration": 128,
    "start_time": "2022-09-29T16:08:06.435Z"
   },
   {
    "duration": 5,
    "start_time": "2022-09-29T16:08:06.565Z"
   },
   {
    "duration": 52,
    "start_time": "2022-09-29T16:08:06.572Z"
   },
   {
    "duration": 171,
    "start_time": "2022-09-29T16:08:06.626Z"
   },
   {
    "duration": 12,
    "start_time": "2022-09-29T16:08:06.799Z"
   },
   {
    "duration": 54,
    "start_time": "2022-09-29T16:08:06.822Z"
   },
   {
    "duration": 81,
    "start_time": "2022-09-29T16:08:06.878Z"
   },
   {
    "duration": 259,
    "start_time": "2022-09-29T16:08:06.961Z"
   },
   {
    "duration": 5,
    "start_time": "2022-09-29T16:08:07.222Z"
   },
   {
    "duration": 98,
    "start_time": "2022-09-29T16:08:07.229Z"
   },
   {
    "duration": 296,
    "start_time": "2022-09-29T16:08:07.328Z"
   },
   {
    "duration": 288,
    "start_time": "2022-09-29T16:08:07.626Z"
   },
   {
    "duration": 101,
    "start_time": "2022-09-29T16:08:07.921Z"
   },
   {
    "duration": 53,
    "start_time": "2022-09-29T16:08:08.024Z"
   },
   {
    "duration": 23,
    "start_time": "2022-09-29T16:08:08.078Z"
   },
   {
    "duration": 550,
    "start_time": "2022-09-29T16:08:29.970Z"
   },
   {
    "duration": 778,
    "start_time": "2022-09-29T16:08:30.522Z"
   },
   {
    "duration": 694,
    "start_time": "2022-09-29T16:08:31.302Z"
   },
   {
    "duration": 13,
    "start_time": "2022-09-29T16:08:31.998Z"
   },
   {
    "duration": 784,
    "start_time": "2022-09-29T16:08:32.022Z"
   },
   {
    "duration": 70,
    "start_time": "2022-09-29T16:08:32.807Z"
   },
   {
    "duration": 896,
    "start_time": "2022-09-29T16:08:32.878Z"
   },
   {
    "duration": 154,
    "start_time": "2022-09-29T16:08:33.776Z"
   },
   {
    "duration": 27,
    "start_time": "2022-09-29T16:08:33.932Z"
   },
   {
    "duration": 2019,
    "start_time": "2022-09-29T16:08:33.962Z"
   },
   {
    "duration": 9,
    "start_time": "2022-09-29T16:08:35.982Z"
   },
   {
    "duration": 97,
    "start_time": "2022-09-29T16:08:35.992Z"
   },
   {
    "duration": 13,
    "start_time": "2022-09-29T16:08:36.091Z"
   },
   {
    "duration": 24,
    "start_time": "2022-09-29T16:08:36.106Z"
   },
   {
    "duration": 32,
    "start_time": "2022-09-29T16:08:36.132Z"
   },
   {
    "duration": 142,
    "start_time": "2022-09-29T16:08:36.166Z"
   },
   {
    "duration": 12,
    "start_time": "2022-09-29T16:08:36.310Z"
   },
   {
    "duration": 24,
    "start_time": "2022-09-29T16:08:36.324Z"
   },
   {
    "duration": 167,
    "start_time": "2022-09-29T16:08:36.350Z"
   },
   {
    "duration": 10,
    "start_time": "2022-09-29T16:08:36.521Z"
   },
   {
    "duration": 63,
    "start_time": "2022-09-29T16:08:36.532Z"
   },
   {
    "duration": 81,
    "start_time": "2022-09-29T16:08:36.597Z"
   },
   {
    "duration": 265,
    "start_time": "2022-09-29T16:08:36.680Z"
   },
   {
    "duration": 5,
    "start_time": "2022-09-29T16:08:36.946Z"
   },
   {
    "duration": 80,
    "start_time": "2022-09-29T16:08:36.952Z"
   },
   {
    "duration": 279,
    "start_time": "2022-09-29T16:08:37.034Z"
   },
   {
    "duration": 283,
    "start_time": "2022-09-29T16:08:37.314Z"
   },
   {
    "duration": 94,
    "start_time": "2022-09-29T16:08:37.600Z"
   },
   {
    "duration": 62,
    "start_time": "2022-09-29T16:08:37.696Z"
   },
   {
    "duration": 23,
    "start_time": "2022-09-29T16:08:37.760Z"
   },
   {
    "duration": 85,
    "start_time": "2022-09-29T16:09:06.311Z"
   },
   {
    "duration": 634,
    "start_time": "2022-09-29T16:10:12.585Z"
   },
   {
    "duration": 804,
    "start_time": "2022-09-29T16:10:13.222Z"
   },
   {
    "duration": 751,
    "start_time": "2022-09-29T16:10:14.028Z"
   },
   {
    "duration": 14,
    "start_time": "2022-09-29T16:10:14.781Z"
   },
   {
    "duration": 809,
    "start_time": "2022-09-29T16:10:14.796Z"
   },
   {
    "duration": 66,
    "start_time": "2022-09-29T16:10:15.607Z"
   },
   {
    "duration": 937,
    "start_time": "2022-09-29T16:10:15.675Z"
   },
   {
    "duration": 145,
    "start_time": "2022-09-29T16:10:16.614Z"
   },
   {
    "duration": 27,
    "start_time": "2022-09-29T16:10:16.760Z"
   },
   {
    "duration": 2119,
    "start_time": "2022-09-29T16:10:16.789Z"
   },
   {
    "duration": 18,
    "start_time": "2022-09-29T16:10:18.910Z"
   },
   {
    "duration": 69,
    "start_time": "2022-09-29T16:10:18.929Z"
   },
   {
    "duration": 31,
    "start_time": "2022-09-29T16:10:19.000Z"
   },
   {
    "duration": 26,
    "start_time": "2022-09-29T16:10:19.033Z"
   },
   {
    "duration": 23,
    "start_time": "2022-09-29T16:10:19.061Z"
   },
   {
    "duration": 115,
    "start_time": "2022-09-29T16:10:19.086Z"
   },
   {
    "duration": 5,
    "start_time": "2022-09-29T16:10:19.202Z"
   },
   {
    "duration": 30,
    "start_time": "2022-09-29T16:10:19.208Z"
   },
   {
    "duration": 206,
    "start_time": "2022-09-29T16:10:19.239Z"
   },
   {
    "duration": 10,
    "start_time": "2022-09-29T16:10:19.446Z"
   },
   {
    "duration": 74,
    "start_time": "2022-09-29T16:10:19.458Z"
   },
   {
    "duration": 67,
    "start_time": "2022-09-29T16:10:19.533Z"
   },
   {
    "duration": 269,
    "start_time": "2022-09-29T16:10:19.601Z"
   },
   {
    "duration": 4,
    "start_time": "2022-09-29T16:10:19.872Z"
   },
   {
    "duration": 75,
    "start_time": "2022-09-29T16:10:19.878Z"
   },
   {
    "duration": 303,
    "start_time": "2022-09-29T16:10:19.955Z"
   },
   {
    "duration": 281,
    "start_time": "2022-09-29T16:10:20.260Z"
   },
   {
    "duration": 83,
    "start_time": "2022-09-29T16:10:20.543Z"
   },
   {
    "duration": 55,
    "start_time": "2022-09-29T16:10:20.628Z"
   },
   {
    "duration": 37,
    "start_time": "2022-09-29T16:10:20.685Z"
   },
   {
    "duration": 73,
    "start_time": "2022-09-29T16:10:28.835Z"
   },
   {
    "duration": 647,
    "start_time": "2022-09-29T16:10:33.248Z"
   },
   {
    "duration": 799,
    "start_time": "2022-09-29T16:10:33.897Z"
   },
   {
    "duration": 769,
    "start_time": "2022-09-29T16:10:34.697Z"
   },
   {
    "duration": 19,
    "start_time": "2022-09-29T16:10:35.469Z"
   },
   {
    "duration": 923,
    "start_time": "2022-09-29T16:10:35.489Z"
   },
   {
    "duration": 80,
    "start_time": "2022-09-29T16:10:36.414Z"
   },
   {
    "duration": 1056,
    "start_time": "2022-09-29T16:10:36.496Z"
   },
   {
    "duration": 187,
    "start_time": "2022-09-29T16:10:37.554Z"
   },
   {
    "duration": 28,
    "start_time": "2022-09-29T16:10:37.742Z"
   },
   {
    "duration": 2386,
    "start_time": "2022-09-29T16:10:37.772Z"
   },
   {
    "duration": 13,
    "start_time": "2022-09-29T16:10:40.160Z"
   },
   {
    "duration": 126,
    "start_time": "2022-09-29T16:10:40.176Z"
   },
   {
    "duration": 23,
    "start_time": "2022-09-29T16:10:40.305Z"
   },
   {
    "duration": 35,
    "start_time": "2022-09-29T16:10:40.330Z"
   },
   {
    "duration": 58,
    "start_time": "2022-09-29T16:10:40.367Z"
   },
   {
    "duration": 155,
    "start_time": "2022-09-29T16:10:40.427Z"
   },
   {
    "duration": 8,
    "start_time": "2022-09-29T16:10:40.584Z"
   },
   {
    "duration": 60,
    "start_time": "2022-09-29T16:10:40.594Z"
   },
   {
    "duration": 214,
    "start_time": "2022-09-29T16:10:40.656Z"
   },
   {
    "duration": 14,
    "start_time": "2022-09-29T16:10:40.872Z"
   },
   {
    "duration": 93,
    "start_time": "2022-09-29T16:10:40.887Z"
   },
   {
    "duration": 87,
    "start_time": "2022-09-29T16:10:40.982Z"
   },
   {
    "duration": 356,
    "start_time": "2022-09-29T16:10:41.071Z"
   },
   {
    "duration": 7,
    "start_time": "2022-09-29T16:10:41.429Z"
   },
   {
    "duration": 120,
    "start_time": "2022-09-29T16:10:41.438Z"
   },
   {
    "duration": 455,
    "start_time": "2022-09-29T16:10:41.560Z"
   },
   {
    "duration": 338,
    "start_time": "2022-09-29T16:10:42.017Z"
   },
   {
    "duration": 131,
    "start_time": "2022-09-29T16:10:42.359Z"
   },
   {
    "duration": 69,
    "start_time": "2022-09-29T16:10:42.493Z"
   },
   {
    "duration": 25,
    "start_time": "2022-09-29T16:10:42.564Z"
   },
   {
    "duration": 559,
    "start_time": "2022-09-29T16:12:27.853Z"
   },
   {
    "duration": 723,
    "start_time": "2022-09-29T16:12:28.414Z"
   },
   {
    "duration": 730,
    "start_time": "2022-09-29T16:12:29.139Z"
   },
   {
    "duration": 12,
    "start_time": "2022-09-29T16:12:29.871Z"
   },
   {
    "duration": 792,
    "start_time": "2022-09-29T16:12:29.885Z"
   },
   {
    "duration": 71,
    "start_time": "2022-09-29T16:12:30.678Z"
   },
   {
    "duration": 910,
    "start_time": "2022-09-29T16:12:30.750Z"
   },
   {
    "duration": 142,
    "start_time": "2022-09-29T16:12:31.662Z"
   },
   {
    "duration": 31,
    "start_time": "2022-09-29T16:12:31.806Z"
   },
   {
    "duration": 2007,
    "start_time": "2022-09-29T16:12:31.838Z"
   },
   {
    "duration": 8,
    "start_time": "2022-09-29T16:12:33.846Z"
   },
   {
    "duration": 85,
    "start_time": "2022-09-29T16:12:33.856Z"
   },
   {
    "duration": 11,
    "start_time": "2022-09-29T16:12:33.942Z"
   },
   {
    "duration": 8,
    "start_time": "2022-09-29T16:12:33.956Z"
   },
   {
    "duration": 18,
    "start_time": "2022-09-29T16:12:33.966Z"
   },
   {
    "duration": 148,
    "start_time": "2022-09-29T16:12:33.985Z"
   },
   {
    "duration": 5,
    "start_time": "2022-09-29T16:12:34.134Z"
   },
   {
    "duration": 21,
    "start_time": "2022-09-29T16:12:34.141Z"
   },
   {
    "duration": 179,
    "start_time": "2022-09-29T16:12:34.164Z"
   },
   {
    "duration": 11,
    "start_time": "2022-09-29T16:12:34.344Z"
   },
   {
    "duration": 50,
    "start_time": "2022-09-29T16:12:34.356Z"
   },
   {
    "duration": 64,
    "start_time": "2022-09-29T16:12:34.422Z"
   },
   {
    "duration": 271,
    "start_time": "2022-09-29T16:12:34.487Z"
   },
   {
    "duration": 5,
    "start_time": "2022-09-29T16:12:34.760Z"
   },
   {
    "duration": 72,
    "start_time": "2022-09-29T16:12:34.767Z"
   },
   {
    "duration": 292,
    "start_time": "2022-09-29T16:12:34.840Z"
   },
   {
    "duration": 282,
    "start_time": "2022-09-29T16:12:35.133Z"
   },
   {
    "duration": 92,
    "start_time": "2022-09-29T16:12:35.416Z"
   },
   {
    "duration": 62,
    "start_time": "2022-09-29T16:12:35.510Z"
   },
   {
    "duration": 23,
    "start_time": "2022-09-29T16:12:35.574Z"
   },
   {
    "duration": 573,
    "start_time": "2022-09-29T16:14:09.644Z"
   },
   {
    "duration": 741,
    "start_time": "2022-09-29T16:14:10.219Z"
   },
   {
    "duration": 743,
    "start_time": "2022-09-29T16:14:10.962Z"
   },
   {
    "duration": 16,
    "start_time": "2022-09-29T16:14:11.707Z"
   },
   {
    "duration": 766,
    "start_time": "2022-09-29T16:14:11.725Z"
   },
   {
    "duration": 70,
    "start_time": "2022-09-29T16:14:12.492Z"
   },
   {
    "duration": 910,
    "start_time": "2022-09-29T16:14:12.563Z"
   },
   {
    "duration": 149,
    "start_time": "2022-09-29T16:14:13.475Z"
   },
   {
    "duration": 30,
    "start_time": "2022-09-29T16:14:13.626Z"
   },
   {
    "duration": 2026,
    "start_time": "2022-09-29T16:14:13.659Z"
   },
   {
    "duration": 9,
    "start_time": "2022-09-29T16:14:15.686Z"
   },
   {
    "duration": 77,
    "start_time": "2022-09-29T16:14:15.697Z"
   },
   {
    "duration": 11,
    "start_time": "2022-09-29T16:14:15.775Z"
   },
   {
    "duration": 13,
    "start_time": "2022-09-29T16:14:15.788Z"
   },
   {
    "duration": 34,
    "start_time": "2022-09-29T16:14:15.803Z"
   },
   {
    "duration": 124,
    "start_time": "2022-09-29T16:14:15.839Z"
   },
   {
    "duration": 5,
    "start_time": "2022-09-29T16:14:15.964Z"
   },
   {
    "duration": 21,
    "start_time": "2022-09-29T16:14:15.970Z"
   },
   {
    "duration": 200,
    "start_time": "2022-09-29T16:14:15.993Z"
   },
   {
    "duration": 11,
    "start_time": "2022-09-29T16:14:16.195Z"
   },
   {
    "duration": 53,
    "start_time": "2022-09-29T16:14:16.221Z"
   },
   {
    "duration": 80,
    "start_time": "2022-09-29T16:14:16.275Z"
   },
   {
    "duration": 281,
    "start_time": "2022-09-29T16:14:16.357Z"
   },
   {
    "duration": 5,
    "start_time": "2022-09-29T16:14:16.640Z"
   },
   {
    "duration": 93,
    "start_time": "2022-09-29T16:14:16.647Z"
   },
   {
    "duration": 290,
    "start_time": "2022-09-29T16:14:16.741Z"
   },
   {
    "duration": 274,
    "start_time": "2022-09-29T16:14:17.033Z"
   },
   {
    "duration": 103,
    "start_time": "2022-09-29T16:14:17.311Z"
   },
   {
    "duration": 61,
    "start_time": "2022-09-29T16:14:17.421Z"
   },
   {
    "duration": 40,
    "start_time": "2022-09-29T16:14:17.483Z"
   },
   {
    "duration": 605,
    "start_time": "2022-09-29T16:19:08.867Z"
   },
   {
    "duration": 728,
    "start_time": "2022-09-29T16:19:09.474Z"
   },
   {
    "duration": 706,
    "start_time": "2022-09-29T16:19:10.204Z"
   },
   {
    "duration": 20,
    "start_time": "2022-09-29T16:19:10.912Z"
   },
   {
    "duration": 837,
    "start_time": "2022-09-29T16:19:10.934Z"
   },
   {
    "duration": 81,
    "start_time": "2022-09-29T16:19:11.773Z"
   },
   {
    "duration": 879,
    "start_time": "2022-09-29T16:19:11.856Z"
   },
   {
    "duration": 141,
    "start_time": "2022-09-29T16:19:12.736Z"
   },
   {
    "duration": 46,
    "start_time": "2022-09-29T16:19:12.878Z"
   },
   {
    "duration": 2138,
    "start_time": "2022-09-29T16:19:12.926Z"
   },
   {
    "duration": 11,
    "start_time": "2022-09-29T16:19:15.066Z"
   },
   {
    "duration": 82,
    "start_time": "2022-09-29T16:19:15.079Z"
   },
   {
    "duration": 11,
    "start_time": "2022-09-29T16:19:15.162Z"
   },
   {
    "duration": 8,
    "start_time": "2022-09-29T16:19:15.176Z"
   },
   {
    "duration": 39,
    "start_time": "2022-09-29T16:19:15.185Z"
   },
   {
    "duration": 111,
    "start_time": "2022-09-29T16:19:15.225Z"
   },
   {
    "duration": 5,
    "start_time": "2022-09-29T16:19:15.337Z"
   },
   {
    "duration": 27,
    "start_time": "2022-09-29T16:19:15.344Z"
   },
   {
    "duration": 176,
    "start_time": "2022-09-29T16:19:15.373Z"
   },
   {
    "duration": 9,
    "start_time": "2022-09-29T16:19:15.551Z"
   },
   {
    "duration": 66,
    "start_time": "2022-09-29T16:19:15.562Z"
   },
   {
    "duration": 63,
    "start_time": "2022-09-29T16:19:15.630Z"
   },
   {
    "duration": 275,
    "start_time": "2022-09-29T16:19:15.694Z"
   },
   {
    "duration": 5,
    "start_time": "2022-09-29T16:19:15.970Z"
   },
   {
    "duration": 76,
    "start_time": "2022-09-29T16:19:15.977Z"
   },
   {
    "duration": 329,
    "start_time": "2022-09-29T16:19:16.058Z"
   },
   {
    "duration": 272,
    "start_time": "2022-09-29T16:19:16.388Z"
   },
   {
    "duration": 82,
    "start_time": "2022-09-29T16:19:16.662Z"
   },
   {
    "duration": 53,
    "start_time": "2022-09-29T16:19:16.746Z"
   },
   {
    "duration": 43,
    "start_time": "2022-09-29T16:19:16.800Z"
   },
   {
    "duration": 14,
    "start_time": "2022-09-29T16:32:54.977Z"
   },
   {
    "duration": 96,
    "start_time": "2022-09-29T16:37:13.593Z"
   },
   {
    "duration": 16,
    "start_time": "2022-09-29T16:37:45.260Z"
   },
   {
    "duration": 658,
    "start_time": "2022-09-29T16:37:53.745Z"
   },
   {
    "duration": 923,
    "start_time": "2022-09-29T16:37:54.406Z"
   },
   {
    "duration": 1084,
    "start_time": "2022-09-29T16:37:55.332Z"
   },
   {
    "duration": 28,
    "start_time": "2022-09-29T16:37:56.418Z"
   },
   {
    "duration": 943,
    "start_time": "2022-09-29T16:37:56.451Z"
   },
   {
    "duration": 93,
    "start_time": "2022-09-29T16:37:57.396Z"
   },
   {
    "duration": 1040,
    "start_time": "2022-09-29T16:37:57.491Z"
   },
   {
    "duration": 174,
    "start_time": "2022-09-29T16:37:58.533Z"
   },
   {
    "duration": 41,
    "start_time": "2022-09-29T16:37:58.708Z"
   },
   {
    "duration": 2806,
    "start_time": "2022-09-29T16:37:58.750Z"
   },
   {
    "duration": 12,
    "start_time": "2022-09-29T16:38:01.557Z"
   },
   {
    "duration": 83,
    "start_time": "2022-09-29T16:38:01.570Z"
   },
   {
    "duration": 15,
    "start_time": "2022-09-29T16:38:01.655Z"
   },
   {
    "duration": 32,
    "start_time": "2022-09-29T16:38:01.674Z"
   },
   {
    "duration": 65,
    "start_time": "2022-09-29T16:38:01.708Z"
   },
   {
    "duration": 130,
    "start_time": "2022-09-29T16:38:01.775Z"
   },
   {
    "duration": 6,
    "start_time": "2022-09-29T16:38:01.907Z"
   },
   {
    "duration": 33,
    "start_time": "2022-09-29T16:38:01.914Z"
   },
   {
    "duration": 194,
    "start_time": "2022-09-29T16:38:01.949Z"
   },
   {
    "duration": 11,
    "start_time": "2022-09-29T16:38:02.144Z"
   },
   {
    "duration": 59,
    "start_time": "2022-09-29T16:38:02.157Z"
   },
   {
    "duration": 69,
    "start_time": "2022-09-29T16:38:02.218Z"
   },
   {
    "duration": 314,
    "start_time": "2022-09-29T16:38:02.288Z"
   },
   {
    "duration": 5,
    "start_time": "2022-09-29T16:38:02.604Z"
   },
   {
    "duration": 136,
    "start_time": "2022-09-29T16:38:02.611Z"
   },
   {
    "duration": 311,
    "start_time": "2022-09-29T16:38:02.750Z"
   },
   {
    "duration": 295,
    "start_time": "2022-09-29T16:38:03.063Z"
   },
   {
    "duration": 101,
    "start_time": "2022-09-29T16:38:03.360Z"
   },
   {
    "duration": 68,
    "start_time": "2022-09-29T16:38:03.463Z"
   },
   {
    "duration": 22,
    "start_time": "2022-09-29T16:38:03.533Z"
   },
   {
    "duration": 113,
    "start_time": "2022-09-29T16:38:03.557Z"
   },
   {
    "duration": 541,
    "start_time": "2022-09-29T17:00:54.245Z"
   },
   {
    "duration": 541,
    "start_time": "2022-09-29T17:00:58.473Z"
   },
   {
    "duration": 18,
    "start_time": "2022-09-29T17:04:05.755Z"
   },
   {
    "duration": 715,
    "start_time": "2022-09-29T17:14:01.721Z"
   },
   {
    "duration": 2,
    "start_time": "2022-09-29T17:14:05.175Z"
   },
   {
    "duration": 469,
    "start_time": "2022-09-29T17:16:15.285Z"
   },
   {
    "duration": 8,
    "start_time": "2022-09-29T17:30:16.573Z"
   },
   {
    "duration": 11,
    "start_time": "2022-09-29T17:30:26.884Z"
   },
   {
    "duration": 1707,
    "start_time": "2022-09-30T08:08:51.732Z"
   },
   {
    "duration": 1330,
    "start_time": "2022-09-30T08:08:53.444Z"
   },
   {
    "duration": 825,
    "start_time": "2022-09-30T08:08:54.776Z"
   },
   {
    "duration": 35,
    "start_time": "2022-09-30T08:08:55.602Z"
   },
   {
    "duration": 904,
    "start_time": "2022-09-30T08:08:55.639Z"
   },
   {
    "duration": 102,
    "start_time": "2022-09-30T08:08:56.544Z"
   },
   {
    "duration": 988,
    "start_time": "2022-09-30T08:08:56.648Z"
   },
   {
    "duration": 202,
    "start_time": "2022-09-30T08:08:57.639Z"
   },
   {
    "duration": 32,
    "start_time": "2022-09-30T08:08:57.842Z"
   },
   {
    "duration": 2595,
    "start_time": "2022-09-30T08:08:57.876Z"
   },
   {
    "duration": 73,
    "start_time": "2022-09-30T08:09:00.473Z"
   },
   {
    "duration": 202,
    "start_time": "2022-09-30T08:09:00.549Z"
   },
   {
    "duration": 78,
    "start_time": "2022-09-30T08:09:00.753Z"
   },
   {
    "duration": 87,
    "start_time": "2022-09-30T08:09:00.835Z"
   },
   {
    "duration": 177,
    "start_time": "2022-09-30T08:09:00.939Z"
   },
   {
    "duration": 297,
    "start_time": "2022-09-30T08:09:01.122Z"
   },
   {
    "duration": 17,
    "start_time": "2022-09-30T08:09:01.422Z"
   },
   {
    "duration": 121,
    "start_time": "2022-09-30T08:09:01.442Z"
   },
   {
    "duration": 451,
    "start_time": "2022-09-30T08:09:01.564Z"
   },
   {
    "duration": 21,
    "start_time": "2022-09-30T08:09:02.016Z"
   },
   {
    "duration": 177,
    "start_time": "2022-09-30T08:09:02.038Z"
   },
   {
    "duration": 135,
    "start_time": "2022-09-30T08:09:02.221Z"
   },
   {
    "duration": 494,
    "start_time": "2022-09-30T08:09:02.358Z"
   },
   {
    "duration": 8,
    "start_time": "2022-09-30T08:09:02.854Z"
   },
   {
    "duration": 173,
    "start_time": "2022-09-30T08:09:02.863Z"
   },
   {
    "duration": 342,
    "start_time": "2022-09-30T08:09:03.041Z"
   },
   {
    "duration": 302,
    "start_time": "2022-09-30T08:09:03.385Z"
   },
   {
    "duration": 94,
    "start_time": "2022-09-30T08:09:03.689Z"
   },
   {
    "duration": 157,
    "start_time": "2022-09-30T08:09:03.786Z"
   },
   {
    "duration": 27,
    "start_time": "2022-09-30T08:09:03.945Z"
   },
   {
    "duration": 45,
    "start_time": "2022-09-30T08:09:03.974Z"
   },
   {
    "duration": 588,
    "start_time": "2022-09-30T08:09:04.020Z"
   },
   {
    "duration": 127,
    "start_time": "2022-09-30T08:09:04.612Z"
   },
   {
    "duration": 64,
    "start_time": "2022-09-30T08:27:48.442Z"
   },
   {
    "duration": 22,
    "start_time": "2022-09-30T08:32:27.516Z"
   },
   {
    "duration": 0,
    "start_time": "2022-09-30T08:34:04.523Z"
   },
   {
    "duration": 0,
    "start_time": "2022-09-30T08:34:04.525Z"
   },
   {
    "duration": 0,
    "start_time": "2022-09-30T08:34:04.526Z"
   },
   {
    "duration": 0,
    "start_time": "2022-09-30T08:34:04.528Z"
   },
   {
    "duration": 0,
    "start_time": "2022-09-30T08:34:04.529Z"
   },
   {
    "duration": 0,
    "start_time": "2022-09-30T08:34:04.530Z"
   },
   {
    "duration": 0,
    "start_time": "2022-09-30T08:34:04.531Z"
   },
   {
    "duration": 0,
    "start_time": "2022-09-30T08:34:04.532Z"
   },
   {
    "duration": 0,
    "start_time": "2022-09-30T08:34:04.533Z"
   },
   {
    "duration": 0,
    "start_time": "2022-09-30T08:34:04.534Z"
   },
   {
    "duration": 0,
    "start_time": "2022-09-30T08:34:04.535Z"
   },
   {
    "duration": 0,
    "start_time": "2022-09-30T08:34:04.536Z"
   },
   {
    "duration": 0,
    "start_time": "2022-09-30T08:34:04.537Z"
   },
   {
    "duration": 0,
    "start_time": "2022-09-30T08:34:04.538Z"
   },
   {
    "duration": 0,
    "start_time": "2022-09-30T08:34:04.539Z"
   },
   {
    "duration": 0,
    "start_time": "2022-09-30T08:34:04.540Z"
   },
   {
    "duration": 0,
    "start_time": "2022-09-30T08:34:04.541Z"
   },
   {
    "duration": 0,
    "start_time": "2022-09-30T08:34:04.542Z"
   },
   {
    "duration": 0,
    "start_time": "2022-09-30T08:34:04.542Z"
   },
   {
    "duration": 0,
    "start_time": "2022-09-30T08:34:04.543Z"
   },
   {
    "duration": 0,
    "start_time": "2022-09-30T08:34:04.544Z"
   },
   {
    "duration": 0,
    "start_time": "2022-09-30T08:34:04.545Z"
   },
   {
    "duration": 0,
    "start_time": "2022-09-30T08:34:04.545Z"
   },
   {
    "duration": 0,
    "start_time": "2022-09-30T08:34:04.546Z"
   },
   {
    "duration": 0,
    "start_time": "2022-09-30T08:34:04.547Z"
   },
   {
    "duration": 0,
    "start_time": "2022-09-30T08:34:04.548Z"
   },
   {
    "duration": 0,
    "start_time": "2022-09-30T08:34:04.549Z"
   },
   {
    "duration": 0,
    "start_time": "2022-09-30T08:34:04.550Z"
   },
   {
    "duration": 0,
    "start_time": "2022-09-30T08:34:04.550Z"
   },
   {
    "duration": 0,
    "start_time": "2022-09-30T08:34:04.551Z"
   },
   {
    "duration": 0,
    "start_time": "2022-09-30T08:34:04.552Z"
   },
   {
    "duration": 0,
    "start_time": "2022-09-30T08:34:04.553Z"
   },
   {
    "duration": 0,
    "start_time": "2022-09-30T08:34:04.554Z"
   },
   {
    "duration": 1414,
    "start_time": "2022-09-30T08:34:17.328Z"
   },
   {
    "duration": 823,
    "start_time": "2022-09-30T08:34:18.745Z"
   },
   {
    "duration": 814,
    "start_time": "2022-09-30T08:34:19.569Z"
   },
   {
    "duration": 13,
    "start_time": "2022-09-30T08:34:20.385Z"
   },
   {
    "duration": 853,
    "start_time": "2022-09-30T08:34:20.400Z"
   },
   {
    "duration": 97,
    "start_time": "2022-09-30T08:34:21.255Z"
   },
   {
    "duration": 1023,
    "start_time": "2022-09-30T08:34:21.354Z"
   },
   {
    "duration": 314,
    "start_time": "2022-09-30T08:34:22.380Z"
   },
   {
    "duration": 70,
    "start_time": "2022-09-30T08:34:22.696Z"
   },
   {
    "duration": 2926,
    "start_time": "2022-09-30T08:34:22.768Z"
   },
   {
    "duration": 34,
    "start_time": "2022-09-30T08:34:25.696Z"
   },
   {
    "duration": 75,
    "start_time": "2022-09-30T08:34:25.732Z"
   },
   {
    "duration": 17,
    "start_time": "2022-09-30T08:34:25.808Z"
   },
   {
    "duration": 30,
    "start_time": "2022-09-30T08:34:25.828Z"
   },
   {
    "duration": 23,
    "start_time": "2022-09-30T08:34:25.859Z"
   },
   {
    "duration": 139,
    "start_time": "2022-09-30T08:34:25.884Z"
   },
   {
    "duration": 10,
    "start_time": "2022-09-30T08:34:26.024Z"
   },
   {
    "duration": 68,
    "start_time": "2022-09-30T08:34:26.036Z"
   },
   {
    "duration": 238,
    "start_time": "2022-09-30T08:34:26.106Z"
   },
   {
    "duration": 13,
    "start_time": "2022-09-30T08:34:26.346Z"
   },
   {
    "duration": 72,
    "start_time": "2022-09-30T08:34:26.360Z"
   },
   {
    "duration": 64,
    "start_time": "2022-09-30T08:34:26.435Z"
   },
   {
    "duration": 347,
    "start_time": "2022-09-30T08:34:26.500Z"
   },
   {
    "duration": 6,
    "start_time": "2022-09-30T08:34:26.852Z"
   },
   {
    "duration": 136,
    "start_time": "2022-09-30T08:34:26.860Z"
   },
   {
    "duration": 374,
    "start_time": "2022-09-30T08:34:26.998Z"
   },
   {
    "duration": 369,
    "start_time": "2022-09-30T08:34:27.374Z"
   },
   {
    "duration": 112,
    "start_time": "2022-09-30T08:34:27.746Z"
   },
   {
    "duration": 80,
    "start_time": "2022-09-30T08:34:27.860Z"
   },
   {
    "duration": 25,
    "start_time": "2022-09-30T08:34:27.941Z"
   },
   {
    "duration": 62,
    "start_time": "2022-09-30T08:34:27.968Z"
   },
   {
    "duration": 509,
    "start_time": "2022-09-30T08:34:28.031Z"
   },
   {
    "duration": 144,
    "start_time": "2022-09-30T08:34:28.542Z"
   },
   {
    "duration": 10,
    "start_time": "2022-09-30T08:34:58.127Z"
   },
   {
    "duration": 636,
    "start_time": "2022-09-30T08:36:19.661Z"
   },
   {
    "duration": 10,
    "start_time": "2022-09-30T08:36:58.743Z"
   },
   {
    "duration": 11,
    "start_time": "2022-09-30T08:37:16.133Z"
   },
   {
    "duration": 534,
    "start_time": "2022-09-30T08:38:26.997Z"
   },
   {
    "duration": 550,
    "start_time": "2022-09-30T08:39:13.146Z"
   },
   {
    "duration": 517,
    "start_time": "2022-09-30T08:40:15.108Z"
   },
   {
    "duration": 11,
    "start_time": "2022-09-30T08:40:44.853Z"
   },
   {
    "duration": 27,
    "start_time": "2022-09-30T08:41:28.100Z"
   },
   {
    "duration": 498,
    "start_time": "2022-09-30T09:03:44.807Z"
   },
   {
    "duration": 9,
    "start_time": "2022-09-30T09:03:58.860Z"
   },
   {
    "duration": 14,
    "start_time": "2022-09-30T09:04:02.563Z"
   },
   {
    "duration": 1473,
    "start_time": "2022-09-30T09:23:26.601Z"
   },
   {
    "duration": 761,
    "start_time": "2022-09-30T09:23:28.075Z"
   },
   {
    "duration": 725,
    "start_time": "2022-09-30T09:23:28.837Z"
   },
   {
    "duration": 13,
    "start_time": "2022-09-30T09:23:29.563Z"
   },
   {
    "duration": 856,
    "start_time": "2022-09-30T09:23:29.578Z"
   },
   {
    "duration": 88,
    "start_time": "2022-09-30T09:23:30.435Z"
   },
   {
    "duration": 884,
    "start_time": "2022-09-30T09:23:30.524Z"
   },
   {
    "duration": 178,
    "start_time": "2022-09-30T09:23:31.409Z"
   },
   {
    "duration": 35,
    "start_time": "2022-09-30T09:23:31.588Z"
   },
   {
    "duration": 2372,
    "start_time": "2022-09-30T09:23:31.624Z"
   },
   {
    "duration": 15,
    "start_time": "2022-09-30T09:23:33.998Z"
   },
   {
    "duration": 66,
    "start_time": "2022-09-30T09:23:34.015Z"
   },
   {
    "duration": 43,
    "start_time": "2022-09-30T09:23:34.083Z"
   },
   {
    "duration": 10,
    "start_time": "2022-09-30T09:23:34.130Z"
   },
   {
    "duration": 15,
    "start_time": "2022-09-30T09:23:34.142Z"
   },
   {
    "duration": 144,
    "start_time": "2022-09-30T09:23:34.160Z"
   },
   {
    "duration": 9,
    "start_time": "2022-09-30T09:23:34.309Z"
   },
   {
    "duration": 36,
    "start_time": "2022-09-30T09:23:34.320Z"
   },
   {
    "duration": 184,
    "start_time": "2022-09-30T09:23:34.357Z"
   },
   {
    "duration": 11,
    "start_time": "2022-09-30T09:23:34.543Z"
   },
   {
    "duration": 62,
    "start_time": "2022-09-30T09:23:34.556Z"
   },
   {
    "duration": 63,
    "start_time": "2022-09-30T09:23:34.619Z"
   },
   {
    "duration": 298,
    "start_time": "2022-09-30T09:23:34.684Z"
   },
   {
    "duration": 5,
    "start_time": "2022-09-30T09:23:34.985Z"
   },
   {
    "duration": 81,
    "start_time": "2022-09-30T09:23:34.991Z"
   },
   {
    "duration": 301,
    "start_time": "2022-09-30T09:23:35.073Z"
   },
   {
    "duration": 290,
    "start_time": "2022-09-30T09:23:35.376Z"
   },
   {
    "duration": 91,
    "start_time": "2022-09-30T09:23:35.668Z"
   },
   {
    "duration": 72,
    "start_time": "2022-09-30T09:23:35.760Z"
   },
   {
    "duration": 24,
    "start_time": "2022-09-30T09:23:35.833Z"
   },
   {
    "duration": 15,
    "start_time": "2022-09-30T09:23:35.859Z"
   },
   {
    "duration": 33,
    "start_time": "2022-09-30T09:23:35.876Z"
   },
   {
    "duration": 445,
    "start_time": "2022-09-30T09:23:35.910Z"
   },
   {
    "duration": 477,
    "start_time": "2022-09-30T09:23:36.356Z"
   },
   {
    "duration": 132,
    "start_time": "2022-09-30T09:23:36.835Z"
   },
   {
    "duration": 0,
    "start_time": "2022-09-30T09:23:36.969Z"
   },
   {
    "duration": 224,
    "start_time": "2022-09-30T09:23:48.998Z"
   },
   {
    "duration": 11,
    "start_time": "2022-09-30T09:24:00.859Z"
   },
   {
    "duration": 25,
    "start_time": "2022-09-30T09:24:04.600Z"
   },
   {
    "duration": 1474,
    "start_time": "2022-09-30T09:27:21.475Z"
   },
   {
    "duration": 770,
    "start_time": "2022-09-30T09:27:22.951Z"
   },
   {
    "duration": 778,
    "start_time": "2022-09-30T09:27:23.723Z"
   },
   {
    "duration": 14,
    "start_time": "2022-09-30T09:27:24.504Z"
   },
   {
    "duration": 813,
    "start_time": "2022-09-30T09:27:24.520Z"
   },
   {
    "duration": 92,
    "start_time": "2022-09-30T09:27:25.335Z"
   },
   {
    "duration": 884,
    "start_time": "2022-09-30T09:27:25.428Z"
   },
   {
    "duration": 183,
    "start_time": "2022-09-30T09:27:26.314Z"
   },
   {
    "duration": 33,
    "start_time": "2022-09-30T09:27:26.498Z"
   },
   {
    "duration": 2267,
    "start_time": "2022-09-30T09:27:26.533Z"
   },
   {
    "duration": 12,
    "start_time": "2022-09-30T09:27:28.802Z"
   },
   {
    "duration": 84,
    "start_time": "2022-09-30T09:27:28.815Z"
   },
   {
    "duration": 12,
    "start_time": "2022-09-30T09:27:28.901Z"
   },
   {
    "duration": 20,
    "start_time": "2022-09-30T09:27:28.915Z"
   },
   {
    "duration": 30,
    "start_time": "2022-09-30T09:27:28.936Z"
   },
   {
    "duration": 125,
    "start_time": "2022-09-30T09:27:28.968Z"
   },
   {
    "duration": 6,
    "start_time": "2022-09-30T09:27:29.094Z"
   },
   {
    "duration": 39,
    "start_time": "2022-09-30T09:27:29.101Z"
   },
   {
    "duration": 204,
    "start_time": "2022-09-30T09:27:29.141Z"
   },
   {
    "duration": 11,
    "start_time": "2022-09-30T09:27:29.347Z"
   },
   {
    "duration": 63,
    "start_time": "2022-09-30T09:27:29.360Z"
   },
   {
    "duration": 62,
    "start_time": "2022-09-30T09:27:29.425Z"
   },
   {
    "duration": 275,
    "start_time": "2022-09-30T09:27:29.489Z"
   },
   {
    "duration": 5,
    "start_time": "2022-09-30T09:27:29.766Z"
   },
   {
    "duration": 107,
    "start_time": "2022-09-30T09:27:29.772Z"
   },
   {
    "duration": 294,
    "start_time": "2022-09-30T09:27:29.880Z"
   },
   {
    "duration": 279,
    "start_time": "2022-09-30T09:27:30.175Z"
   },
   {
    "duration": 97,
    "start_time": "2022-09-30T09:27:30.457Z"
   },
   {
    "duration": 67,
    "start_time": "2022-09-30T09:27:30.555Z"
   },
   {
    "duration": 24,
    "start_time": "2022-09-30T09:27:30.624Z"
   },
   {
    "duration": 57,
    "start_time": "2022-09-30T09:27:30.650Z"
   },
   {
    "duration": 471,
    "start_time": "2022-09-30T09:27:30.709Z"
   },
   {
    "duration": 122,
    "start_time": "2022-09-30T09:27:31.181Z"
   },
   {
    "duration": 0,
    "start_time": "2022-09-30T09:27:31.308Z"
   },
   {
    "duration": 0,
    "start_time": "2022-09-30T09:27:31.309Z"
   },
   {
    "duration": 22,
    "start_time": "2022-09-30T09:27:48.065Z"
   },
   {
    "duration": 460,
    "start_time": "2022-09-30T09:27:50.406Z"
   },
   {
    "duration": 459,
    "start_time": "2022-09-30T09:27:53.405Z"
   },
   {
    "duration": 30,
    "start_time": "2022-09-30T09:27:58.135Z"
   },
   {
    "duration": 10,
    "start_time": "2022-09-30T09:27:58.358Z"
   },
   {
    "duration": 29,
    "start_time": "2022-09-30T09:30:00.006Z"
   },
   {
    "duration": 12,
    "start_time": "2022-09-30T09:30:08.319Z"
   },
   {
    "duration": 27,
    "start_time": "2022-09-30T09:30:26.652Z"
   },
   {
    "duration": 31,
    "start_time": "2022-09-30T09:30:40.523Z"
   },
   {
    "duration": 12,
    "start_time": "2022-09-30T09:33:13.001Z"
   },
   {
    "duration": 15,
    "start_time": "2022-09-30T09:33:16.611Z"
   },
   {
    "duration": 1374,
    "start_time": "2022-09-30T09:33:51.603Z"
   },
   {
    "duration": 779,
    "start_time": "2022-09-30T09:33:52.979Z"
   },
   {
    "duration": 780,
    "start_time": "2022-09-30T09:33:53.759Z"
   },
   {
    "duration": 13,
    "start_time": "2022-09-30T09:33:54.541Z"
   },
   {
    "duration": 823,
    "start_time": "2022-09-30T09:33:54.557Z"
   },
   {
    "duration": 87,
    "start_time": "2022-09-30T09:33:55.382Z"
   },
   {
    "duration": 862,
    "start_time": "2022-09-30T09:33:55.470Z"
   },
   {
    "duration": 170,
    "start_time": "2022-09-30T09:33:56.334Z"
   },
   {
    "duration": 31,
    "start_time": "2022-09-30T09:33:56.509Z"
   },
   {
    "duration": 2289,
    "start_time": "2022-09-30T09:33:56.541Z"
   },
   {
    "duration": 9,
    "start_time": "2022-09-30T09:33:58.832Z"
   },
   {
    "duration": 85,
    "start_time": "2022-09-30T09:33:58.843Z"
   },
   {
    "duration": 12,
    "start_time": "2022-09-30T09:33:58.929Z"
   },
   {
    "duration": 9,
    "start_time": "2022-09-30T09:33:58.944Z"
   },
   {
    "duration": 14,
    "start_time": "2022-09-30T09:33:58.954Z"
   },
   {
    "duration": 148,
    "start_time": "2022-09-30T09:33:58.970Z"
   },
   {
    "duration": 6,
    "start_time": "2022-09-30T09:33:59.119Z"
   },
   {
    "duration": 23,
    "start_time": "2022-09-30T09:33:59.126Z"
   },
   {
    "duration": 193,
    "start_time": "2022-09-30T09:33:59.151Z"
   },
   {
    "duration": 12,
    "start_time": "2022-09-30T09:33:59.346Z"
   },
   {
    "duration": 62,
    "start_time": "2022-09-30T09:33:59.360Z"
   },
   {
    "duration": 61,
    "start_time": "2022-09-30T09:33:59.423Z"
   },
   {
    "duration": 280,
    "start_time": "2022-09-30T09:33:59.486Z"
   },
   {
    "duration": 5,
    "start_time": "2022-09-30T09:33:59.767Z"
   },
   {
    "duration": 73,
    "start_time": "2022-09-30T09:33:59.773Z"
   },
   {
    "duration": 289,
    "start_time": "2022-09-30T09:33:59.848Z"
   },
   {
    "duration": 282,
    "start_time": "2022-09-30T09:34:00.139Z"
   },
   {
    "duration": 98,
    "start_time": "2022-09-30T09:34:00.423Z"
   },
   {
    "duration": 64,
    "start_time": "2022-09-30T09:34:00.522Z"
   },
   {
    "duration": 36,
    "start_time": "2022-09-30T09:34:00.587Z"
   },
   {
    "duration": 38,
    "start_time": "2022-09-30T09:34:00.625Z"
   },
   {
    "duration": 465,
    "start_time": "2022-09-30T09:34:00.665Z"
   },
   {
    "duration": 18,
    "start_time": "2022-09-30T09:34:01.132Z"
   },
   {
    "duration": 486,
    "start_time": "2022-09-30T09:34:01.152Z"
   },
   {
    "duration": 25,
    "start_time": "2022-09-30T09:34:01.639Z"
   },
   {
    "duration": 28,
    "start_time": "2022-09-30T09:34:01.665Z"
   },
   {
    "duration": 46,
    "start_time": "2022-09-30T09:34:01.694Z"
   },
   {
    "duration": 156,
    "start_time": "2022-09-30T09:35:02.308Z"
   },
   {
    "duration": 1408,
    "start_time": "2022-09-30T09:35:12.407Z"
   },
   {
    "duration": 812,
    "start_time": "2022-09-30T09:35:13.817Z"
   },
   {
    "duration": 783,
    "start_time": "2022-09-30T09:35:14.630Z"
   },
   {
    "duration": 14,
    "start_time": "2022-09-30T09:35:15.415Z"
   },
   {
    "duration": 848,
    "start_time": "2022-09-30T09:35:15.433Z"
   },
   {
    "duration": 90,
    "start_time": "2022-09-30T09:35:16.283Z"
   },
   {
    "duration": 901,
    "start_time": "2022-09-30T09:35:16.375Z"
   },
   {
    "duration": 208,
    "start_time": "2022-09-30T09:35:17.277Z"
   },
   {
    "duration": 38,
    "start_time": "2022-09-30T09:35:17.486Z"
   },
   {
    "duration": 2359,
    "start_time": "2022-09-30T09:35:17.526Z"
   },
   {
    "duration": 10,
    "start_time": "2022-09-30T09:35:19.888Z"
   },
   {
    "duration": 72,
    "start_time": "2022-09-30T09:35:19.909Z"
   },
   {
    "duration": 26,
    "start_time": "2022-09-30T09:35:19.983Z"
   },
   {
    "duration": 17,
    "start_time": "2022-09-30T09:35:20.012Z"
   },
   {
    "duration": 32,
    "start_time": "2022-09-30T09:35:20.031Z"
   },
   {
    "duration": 122,
    "start_time": "2022-09-30T09:35:20.065Z"
   },
   {
    "duration": 6,
    "start_time": "2022-09-30T09:35:20.189Z"
   },
   {
    "duration": 50,
    "start_time": "2022-09-30T09:35:20.196Z"
   },
   {
    "duration": 182,
    "start_time": "2022-09-30T09:35:20.248Z"
   },
   {
    "duration": 12,
    "start_time": "2022-09-30T09:35:20.431Z"
   },
   {
    "duration": 70,
    "start_time": "2022-09-30T09:35:20.444Z"
   },
   {
    "duration": 63,
    "start_time": "2022-09-30T09:35:20.515Z"
   },
   {
    "duration": 287,
    "start_time": "2022-09-30T09:35:20.580Z"
   },
   {
    "duration": 6,
    "start_time": "2022-09-30T09:35:20.869Z"
   },
   {
    "duration": 112,
    "start_time": "2022-09-30T09:35:20.876Z"
   },
   {
    "duration": 300,
    "start_time": "2022-09-30T09:35:20.990Z"
   },
   {
    "duration": 289,
    "start_time": "2022-09-30T09:35:21.291Z"
   },
   {
    "duration": 93,
    "start_time": "2022-09-30T09:35:21.582Z"
   },
   {
    "duration": 72,
    "start_time": "2022-09-30T09:35:21.677Z"
   },
   {
    "duration": 24,
    "start_time": "2022-09-30T09:35:21.750Z"
   },
   {
    "duration": 43,
    "start_time": "2022-09-30T09:35:21.775Z"
   },
   {
    "duration": 475,
    "start_time": "2022-09-30T09:35:21.820Z"
   },
   {
    "duration": 195,
    "start_time": "2022-09-30T09:35:22.297Z"
   },
   {
    "duration": 548,
    "start_time": "2022-09-30T09:35:22.494Z"
   },
   {
    "duration": 27,
    "start_time": "2022-09-30T09:35:23.044Z"
   },
   {
    "duration": 12,
    "start_time": "2022-09-30T09:35:23.073Z"
   },
   {
    "duration": 71,
    "start_time": "2022-09-30T09:35:23.087Z"
   },
   {
    "duration": 1512,
    "start_time": "2022-09-30T10:14:01.506Z"
   },
   {
    "duration": 773,
    "start_time": "2022-09-30T10:14:03.020Z"
   },
   {
    "duration": 789,
    "start_time": "2022-09-30T10:14:03.795Z"
   },
   {
    "duration": 13,
    "start_time": "2022-09-30T10:14:04.586Z"
   },
   {
    "duration": 861,
    "start_time": "2022-09-30T10:14:04.609Z"
   },
   {
    "duration": 84,
    "start_time": "2022-09-30T10:14:05.472Z"
   },
   {
    "duration": 902,
    "start_time": "2022-09-30T10:14:05.558Z"
   },
   {
    "duration": 197,
    "start_time": "2022-09-30T10:14:06.461Z"
   },
   {
    "duration": 34,
    "start_time": "2022-09-30T10:14:06.660Z"
   },
   {
    "duration": 2306,
    "start_time": "2022-09-30T10:14:06.708Z"
   },
   {
    "duration": 8,
    "start_time": "2022-09-30T10:14:09.015Z"
   },
   {
    "duration": 84,
    "start_time": "2022-09-30T10:14:09.025Z"
   },
   {
    "duration": 13,
    "start_time": "2022-09-30T10:14:09.110Z"
   },
   {
    "duration": 9,
    "start_time": "2022-09-30T10:14:09.125Z"
   },
   {
    "duration": 16,
    "start_time": "2022-09-30T10:14:09.136Z"
   },
   {
    "duration": 145,
    "start_time": "2022-09-30T10:14:09.154Z"
   },
   {
    "duration": 10,
    "start_time": "2022-09-30T10:14:09.301Z"
   },
   {
    "duration": 23,
    "start_time": "2022-09-30T10:14:09.312Z"
   },
   {
    "duration": 180,
    "start_time": "2022-09-30T10:14:09.337Z"
   },
   {
    "duration": 11,
    "start_time": "2022-09-30T10:14:09.518Z"
   },
   {
    "duration": 47,
    "start_time": "2022-09-30T10:14:09.531Z"
   },
   {
    "duration": 87,
    "start_time": "2022-09-30T10:14:09.580Z"
   },
   {
    "duration": 297,
    "start_time": "2022-09-30T10:14:09.668Z"
   },
   {
    "duration": 5,
    "start_time": "2022-09-30T10:14:09.966Z"
   },
   {
    "duration": 97,
    "start_time": "2022-09-30T10:14:09.973Z"
   },
   {
    "duration": 291,
    "start_time": "2022-09-30T10:14:10.071Z"
   },
   {
    "duration": 304,
    "start_time": "2022-09-30T10:14:10.363Z"
   },
   {
    "duration": 91,
    "start_time": "2022-09-30T10:14:10.670Z"
   },
   {
    "duration": 66,
    "start_time": "2022-09-30T10:14:10.762Z"
   },
   {
    "duration": 21,
    "start_time": "2022-09-30T10:14:10.830Z"
   },
   {
    "duration": 18,
    "start_time": "2022-09-30T10:14:10.853Z"
   },
   {
    "duration": 469,
    "start_time": "2022-09-30T10:14:10.872Z"
   },
   {
    "duration": 194,
    "start_time": "2022-09-30T10:14:11.343Z"
   },
   {
    "duration": 478,
    "start_time": "2022-09-30T10:14:11.539Z"
   },
   {
    "duration": 9,
    "start_time": "2022-09-30T10:14:12.019Z"
   },
   {
    "duration": 229,
    "start_time": "2022-09-30T10:16:47.653Z"
   },
   {
    "duration": 16,
    "start_time": "2022-09-30T10:16:53.317Z"
   },
   {
    "duration": 10,
    "start_time": "2022-09-30T10:17:05.003Z"
   },
   {
    "duration": 144,
    "start_time": "2022-09-30T10:18:58.758Z"
   },
   {
    "duration": 3,
    "start_time": "2022-09-30T10:19:03.362Z"
   },
   {
    "duration": 4,
    "start_time": "2022-09-30T10:31:01.634Z"
   },
   {
    "duration": 27,
    "start_time": "2022-09-30T10:31:45.288Z"
   },
   {
    "duration": 4,
    "start_time": "2022-09-30T10:32:39.252Z"
   },
   {
    "duration": 22,
    "start_time": "2022-09-30T10:32:40.931Z"
   },
   {
    "duration": 4,
    "start_time": "2022-09-30T10:32:55.732Z"
   },
   {
    "duration": 33,
    "start_time": "2022-09-30T10:32:56.608Z"
   },
   {
    "duration": 4,
    "start_time": "2022-09-30T10:35:40.246Z"
   },
   {
    "duration": 31,
    "start_time": "2022-09-30T10:35:40.997Z"
   },
   {
    "duration": 4,
    "start_time": "2022-09-30T10:35:56.904Z"
   },
   {
    "duration": 27,
    "start_time": "2022-09-30T10:35:57.601Z"
   },
   {
    "duration": 4,
    "start_time": "2022-09-30T10:36:05.308Z"
   },
   {
    "duration": 20,
    "start_time": "2022-09-30T10:36:06.231Z"
   },
   {
    "duration": 1298,
    "start_time": "2022-09-30T10:36:17.525Z"
   },
   {
    "duration": 779,
    "start_time": "2022-09-30T10:36:18.825Z"
   },
   {
    "duration": 742,
    "start_time": "2022-09-30T10:36:19.606Z"
   },
   {
    "duration": 14,
    "start_time": "2022-09-30T10:36:20.350Z"
   },
   {
    "duration": 799,
    "start_time": "2022-09-30T10:36:20.365Z"
   },
   {
    "duration": 87,
    "start_time": "2022-09-30T10:36:21.165Z"
   },
   {
    "duration": 901,
    "start_time": "2022-09-30T10:36:21.253Z"
   },
   {
    "duration": 188,
    "start_time": "2022-09-30T10:36:22.155Z"
   },
   {
    "duration": 32,
    "start_time": "2022-09-30T10:36:22.344Z"
   },
   {
    "duration": 2367,
    "start_time": "2022-09-30T10:36:22.378Z"
   },
   {
    "duration": 9,
    "start_time": "2022-09-30T10:36:24.746Z"
   },
   {
    "duration": 81,
    "start_time": "2022-09-30T10:36:24.756Z"
   },
   {
    "duration": 12,
    "start_time": "2022-09-30T10:36:24.839Z"
   },
   {
    "duration": 8,
    "start_time": "2022-09-30T10:36:24.853Z"
   },
   {
    "duration": 16,
    "start_time": "2022-09-30T10:36:24.862Z"
   },
   {
    "duration": 150,
    "start_time": "2022-09-30T10:36:24.880Z"
   },
   {
    "duration": 6,
    "start_time": "2022-09-30T10:36:25.031Z"
   },
   {
    "duration": 32,
    "start_time": "2022-09-30T10:36:25.038Z"
   },
   {
    "duration": 178,
    "start_time": "2022-09-30T10:36:25.071Z"
   },
   {
    "duration": 11,
    "start_time": "2022-09-30T10:36:25.250Z"
   },
   {
    "duration": 62,
    "start_time": "2022-09-30T10:36:25.263Z"
   },
   {
    "duration": 62,
    "start_time": "2022-09-30T10:36:25.327Z"
   },
   {
    "duration": 285,
    "start_time": "2022-09-30T10:36:25.391Z"
   },
   {
    "duration": 5,
    "start_time": "2022-09-30T10:36:25.677Z"
   },
   {
    "duration": 82,
    "start_time": "2022-09-30T10:36:25.684Z"
   },
   {
    "duration": 291,
    "start_time": "2022-09-30T10:36:25.768Z"
   },
   {
    "duration": 282,
    "start_time": "2022-09-30T10:36:26.061Z"
   },
   {
    "duration": 99,
    "start_time": "2022-09-30T10:36:26.346Z"
   },
   {
    "duration": 73,
    "start_time": "2022-09-30T10:36:26.447Z"
   },
   {
    "duration": 24,
    "start_time": "2022-09-30T10:36:26.521Z"
   },
   {
    "duration": 14,
    "start_time": "2022-09-30T10:36:26.547Z"
   },
   {
    "duration": 495,
    "start_time": "2022-09-30T10:36:26.563Z"
   },
   {
    "duration": 187,
    "start_time": "2022-09-30T10:36:27.060Z"
   },
   {
    "duration": 460,
    "start_time": "2022-09-30T10:36:27.249Z"
   },
   {
    "duration": 9,
    "start_time": "2022-09-30T10:36:27.711Z"
   },
   {
    "duration": 6,
    "start_time": "2022-09-30T10:36:27.721Z"
   },
   {
    "duration": 81,
    "start_time": "2022-09-30T10:36:27.728Z"
   },
   {
    "duration": 43,
    "start_time": "2022-09-30T10:37:12.464Z"
   },
   {
    "duration": 4,
    "start_time": "2022-09-30T10:38:23.071Z"
   },
   {
    "duration": 65,
    "start_time": "2022-09-30T10:38:23.235Z"
   },
   {
    "duration": 30,
    "start_time": "2022-09-30T10:38:23.403Z"
   },
   {
    "duration": 20,
    "start_time": "2022-09-30T10:46:51.662Z"
   },
   {
    "duration": 5,
    "start_time": "2022-09-30T10:54:27.575Z"
   },
   {
    "duration": 173,
    "start_time": "2022-09-30T10:54:29.045Z"
   },
   {
    "duration": 3,
    "start_time": "2022-09-30T10:54:44.718Z"
   },
   {
    "duration": 5,
    "start_time": "2022-09-30T10:54:51.982Z"
   },
   {
    "duration": 494,
    "start_time": "2022-09-30T10:54:52.902Z"
   },
   {
    "duration": 66,
    "start_time": "2022-09-30T10:54:55.027Z"
   },
   {
    "duration": 4,
    "start_time": "2022-09-30T10:54:56.628Z"
   },
   {
    "duration": 9,
    "start_time": "2022-09-30T10:55:18.000Z"
   },
   {
    "duration": 5,
    "start_time": "2022-09-30T10:56:08.855Z"
   },
   {
    "duration": 325,
    "start_time": "2022-09-30T10:56:09.307Z"
   },
   {
    "duration": 85,
    "start_time": "2022-09-30T10:56:09.738Z"
   },
   {
    "duration": 5,
    "start_time": "2022-09-30T10:56:53.500Z"
   },
   {
    "duration": 341,
    "start_time": "2022-09-30T10:56:54.145Z"
   },
   {
    "duration": 7,
    "start_time": "2022-09-30T10:57:04.573Z"
   },
   {
    "duration": 315,
    "start_time": "2022-09-30T10:57:06.617Z"
   },
   {
    "duration": 4,
    "start_time": "2022-09-30T10:57:13.343Z"
   },
   {
    "duration": 327,
    "start_time": "2022-09-30T10:57:13.888Z"
   },
   {
    "duration": 4,
    "start_time": "2022-09-30T10:58:10.474Z"
   },
   {
    "duration": 335,
    "start_time": "2022-09-30T10:58:11.136Z"
   },
   {
    "duration": 8,
    "start_time": "2022-09-30T10:58:32.774Z"
   },
   {
    "duration": 478,
    "start_time": "2022-09-30T10:58:33.313Z"
   },
   {
    "duration": 70,
    "start_time": "2022-09-30T10:58:34.713Z"
   },
   {
    "duration": 11,
    "start_time": "2022-09-30T10:58:36.370Z"
   },
   {
    "duration": 5,
    "start_time": "2022-09-30T10:59:28.512Z"
   },
   {
    "duration": 444,
    "start_time": "2022-09-30T10:59:28.932Z"
   },
   {
    "duration": 95,
    "start_time": "2022-09-30T10:59:29.378Z"
   },
   {
    "duration": 11,
    "start_time": "2022-09-30T10:59:30.003Z"
   },
   {
    "duration": 11,
    "start_time": "2022-09-30T10:59:33.740Z"
   },
   {
    "duration": 20,
    "start_time": "2022-09-30T10:59:37.036Z"
   },
   {
    "duration": 13,
    "start_time": "2022-09-30T10:59:42.976Z"
   },
   {
    "duration": 4,
    "start_time": "2022-09-30T10:59:51.667Z"
   },
   {
    "duration": 62,
    "start_time": "2022-09-30T10:59:52.010Z"
   },
   {
    "duration": 34,
    "start_time": "2022-09-30T10:59:52.438Z"
   },
   {
    "duration": 18,
    "start_time": "2022-09-30T10:59:53.150Z"
   },
   {
    "duration": 27,
    "start_time": "2022-09-30T11:00:01.849Z"
   },
   {
    "duration": 15,
    "start_time": "2022-09-30T11:04:56.664Z"
   },
   {
    "duration": 4,
    "start_time": "2022-09-30T11:31:47.721Z"
   },
   {
    "duration": 452,
    "start_time": "2022-09-30T11:31:48.200Z"
   },
   {
    "duration": 72,
    "start_time": "2022-09-30T11:31:48.654Z"
   },
   {
    "duration": 18,
    "start_time": "2022-09-30T11:31:49.467Z"
   },
   {
    "duration": 9,
    "start_time": "2022-09-30T11:33:57.469Z"
   },
   {
    "duration": 10,
    "start_time": "2022-09-30T11:34:04.213Z"
   },
   {
    "duration": 6,
    "start_time": "2022-09-30T11:39:50.423Z"
   },
   {
    "duration": 3,
    "start_time": "2022-09-30T11:39:56.861Z"
   },
   {
    "duration": 3,
    "start_time": "2022-09-30T11:40:06.691Z"
   },
   {
    "duration": 4,
    "start_time": "2022-09-30T11:42:28.562Z"
   },
   {
    "duration": 136,
    "start_time": "2022-09-30T11:48:09.197Z"
   },
   {
    "duration": 22974,
    "start_time": "2022-09-30T11:48:23.242Z"
   },
   {
    "duration": 26,
    "start_time": "2022-09-30T11:49:41.541Z"
   },
   {
    "duration": 125,
    "start_time": "2022-09-30T11:49:48.137Z"
   },
   {
    "duration": 427,
    "start_time": "2022-09-30T11:50:04.554Z"
   },
   {
    "duration": 19918,
    "start_time": "2022-09-30T11:50:39.698Z"
   },
   {
    "duration": 2518,
    "start_time": "2022-09-30T11:58:09.501Z"
   },
   {
    "duration": 3219,
    "start_time": "2022-09-30T11:58:17.293Z"
   },
   {
    "duration": 27816,
    "start_time": "2022-09-30T12:06:56.344Z"
   },
   {
    "duration": 2050,
    "start_time": "2022-09-30T12:13:16.296Z"
   },
   {
    "duration": 4,
    "start_time": "2022-09-30T12:13:49.555Z"
   },
   {
    "duration": 51,
    "start_time": "2022-09-30T12:13:51.222Z"
   },
   {
    "duration": 31,
    "start_time": "2022-09-30T12:13:51.414Z"
   },
   {
    "duration": 11,
    "start_time": "2022-09-30T12:13:51.569Z"
   },
   {
    "duration": 3,
    "start_time": "2022-09-30T12:13:58.630Z"
   },
   {
    "duration": 3,
    "start_time": "2022-09-30T12:13:59.003Z"
   },
   {
    "duration": 20398,
    "start_time": "2022-09-30T12:14:00.614Z"
   },
   {
    "duration": 2052,
    "start_time": "2022-09-30T12:14:34.574Z"
   },
   {
    "duration": 1909,
    "start_time": "2022-09-30T12:14:42.703Z"
   },
   {
    "duration": 27719,
    "start_time": "2022-09-30T12:15:01.603Z"
   },
   {
    "duration": 60042,
    "start_time": "2022-09-30T12:15:38.842Z"
   },
   {
    "duration": 54,
    "start_time": "2022-09-30T12:17:57.711Z"
   },
   {
    "duration": 3617,
    "start_time": "2022-09-30T12:22:00.005Z"
   },
   {
    "duration": 4,
    "start_time": "2022-09-30T12:40:00.212Z"
   },
   {
    "duration": 19303,
    "start_time": "2022-09-30T12:40:03.212Z"
   },
   {
    "duration": 4,
    "start_time": "2022-09-30T12:42:45.312Z"
   },
   {
    "duration": 113,
    "start_time": "2022-09-30T12:42:49.317Z"
   },
   {
    "duration": 10,
    "start_time": "2022-09-30T12:48:13.228Z"
   },
   {
    "duration": 62,
    "start_time": "2022-09-30T12:53:38.348Z"
   },
   {
    "duration": 62,
    "start_time": "2022-09-30T12:53:38.804Z"
   },
   {
    "duration": 4,
    "start_time": "2022-09-30T12:53:53.240Z"
   },
   {
    "duration": 19586,
    "start_time": "2022-09-30T12:53:55.330Z"
   },
   {
    "duration": 4,
    "start_time": "2022-09-30T12:54:24.808Z"
   },
   {
    "duration": 19776,
    "start_time": "2022-09-30T12:54:26.040Z"
   },
   {
    "duration": 1305,
    "start_time": "2022-09-30T12:54:57.406Z"
   },
   {
    "duration": 786,
    "start_time": "2022-09-30T12:54:58.713Z"
   },
   {
    "duration": 773,
    "start_time": "2022-09-30T12:54:59.501Z"
   },
   {
    "duration": 13,
    "start_time": "2022-09-30T12:55:00.276Z"
   },
   {
    "duration": 830,
    "start_time": "2022-09-30T12:55:00.290Z"
   },
   {
    "duration": 74,
    "start_time": "2022-09-30T12:55:01.121Z"
   },
   {
    "duration": 927,
    "start_time": "2022-09-30T12:55:01.197Z"
   },
   {
    "duration": 170,
    "start_time": "2022-09-30T12:55:02.126Z"
   },
   {
    "duration": 35,
    "start_time": "2022-09-30T12:55:02.298Z"
   },
   {
    "duration": 2514,
    "start_time": "2022-09-30T12:55:02.335Z"
   },
   {
    "duration": 11,
    "start_time": "2022-09-30T12:55:04.851Z"
   },
   {
    "duration": 88,
    "start_time": "2022-09-30T12:55:04.864Z"
   },
   {
    "duration": 13,
    "start_time": "2022-09-30T12:55:04.954Z"
   },
   {
    "duration": 10,
    "start_time": "2022-09-30T12:55:04.969Z"
   },
   {
    "duration": 42,
    "start_time": "2022-09-30T12:55:04.981Z"
   },
   {
    "duration": 146,
    "start_time": "2022-09-30T12:55:05.026Z"
   },
   {
    "duration": 6,
    "start_time": "2022-09-30T12:55:05.174Z"
   },
   {
    "duration": 35,
    "start_time": "2022-09-30T12:55:05.181Z"
   },
   {
    "duration": 178,
    "start_time": "2022-09-30T12:55:05.218Z"
   },
   {
    "duration": 19,
    "start_time": "2022-09-30T12:55:05.398Z"
   },
   {
    "duration": 50,
    "start_time": "2022-09-30T12:55:05.419Z"
   },
   {
    "duration": 78,
    "start_time": "2022-09-30T12:55:05.471Z"
   },
   {
    "duration": 267,
    "start_time": "2022-09-30T12:55:05.550Z"
   },
   {
    "duration": 5,
    "start_time": "2022-09-30T12:55:05.819Z"
   },
   {
    "duration": 71,
    "start_time": "2022-09-30T12:55:05.825Z"
   },
   {
    "duration": 296,
    "start_time": "2022-09-30T12:55:05.898Z"
   },
   {
    "duration": 276,
    "start_time": "2022-09-30T12:55:06.195Z"
   },
   {
    "duration": 97,
    "start_time": "2022-09-30T12:55:06.474Z"
   },
   {
    "duration": 71,
    "start_time": "2022-09-30T12:55:06.573Z"
   },
   {
    "duration": 23,
    "start_time": "2022-09-30T12:55:06.646Z"
   },
   {
    "duration": 14,
    "start_time": "2022-09-30T12:55:06.671Z"
   },
   {
    "duration": 486,
    "start_time": "2022-09-30T12:55:06.687Z"
   },
   {
    "duration": 188,
    "start_time": "2022-09-30T12:55:07.175Z"
   },
   {
    "duration": 466,
    "start_time": "2022-09-30T12:55:07.365Z"
   },
   {
    "duration": 10,
    "start_time": "2022-09-30T12:55:07.832Z"
   },
   {
    "duration": 6,
    "start_time": "2022-09-30T12:55:07.843Z"
   },
   {
    "duration": 76,
    "start_time": "2022-09-30T12:55:07.851Z"
   },
   {
    "duration": 44,
    "start_time": "2022-09-30T12:55:07.929Z"
   },
   {
    "duration": 86,
    "start_time": "2022-09-30T12:55:07.974Z"
   },
   {
    "duration": 11,
    "start_time": "2022-09-30T12:55:08.062Z"
   },
   {
    "duration": 11,
    "start_time": "2022-09-30T12:55:08.075Z"
   },
   {
    "duration": 5,
    "start_time": "2022-09-30T12:55:08.087Z"
   },
   {
    "duration": 16,
    "start_time": "2022-09-30T12:55:08.094Z"
   },
   {
    "duration": 23805,
    "start_time": "2022-09-30T12:55:08.111Z"
   },
   {
    "duration": 2211,
    "start_time": "2022-09-30T12:55:31.918Z"
   },
   {
    "duration": 2098,
    "start_time": "2022-09-30T12:55:34.131Z"
   },
   {
    "duration": 3835,
    "start_time": "2022-09-30T12:55:36.232Z"
   },
   {
    "duration": 28861,
    "start_time": "2022-09-30T13:14:20.916Z"
   },
   {
    "duration": 66,
    "start_time": "2022-09-30T13:20:30.229Z"
   },
   {
    "duration": 153177,
    "start_time": "2022-09-30T13:20:39.524Z"
   },
   {
    "duration": 597,
    "start_time": "2022-09-30T13:23:24.450Z"
   },
   {
    "duration": 63,
    "start_time": "2022-09-30T13:30:36.000Z"
   },
   {
    "duration": 15,
    "start_time": "2022-09-30T13:30:46.050Z"
   },
   {
    "duration": 7580,
    "start_time": "2022-09-30T13:31:16.255Z"
   },
   {
    "duration": 7539,
    "start_time": "2022-09-30T13:33:06.365Z"
   },
   {
    "duration": 1443,
    "start_time": "2022-09-30T13:46:47.526Z"
   },
   {
    "duration": 832,
    "start_time": "2022-09-30T13:46:48.971Z"
   },
   {
    "duration": 834,
    "start_time": "2022-09-30T13:46:49.804Z"
   },
   {
    "duration": 13,
    "start_time": "2022-09-30T13:46:50.641Z"
   },
   {
    "duration": 861,
    "start_time": "2022-09-30T13:46:50.656Z"
   },
   {
    "duration": 75,
    "start_time": "2022-09-30T13:46:51.518Z"
   },
   {
    "duration": 928,
    "start_time": "2022-09-30T13:46:51.595Z"
   },
   {
    "duration": 241,
    "start_time": "2022-09-30T13:46:52.535Z"
   },
   {
    "duration": 52,
    "start_time": "2022-09-30T13:46:52.778Z"
   },
   {
    "duration": 2404,
    "start_time": "2022-09-30T13:46:52.834Z"
   },
   {
    "duration": 9,
    "start_time": "2022-09-30T13:46:55.240Z"
   },
   {
    "duration": 81,
    "start_time": "2022-09-30T13:46:55.250Z"
   },
   {
    "duration": 12,
    "start_time": "2022-09-30T13:46:55.333Z"
   },
   {
    "duration": 8,
    "start_time": "2022-09-30T13:46:55.346Z"
   },
   {
    "duration": 14,
    "start_time": "2022-09-30T13:46:55.356Z"
   },
   {
    "duration": 156,
    "start_time": "2022-09-30T13:46:55.372Z"
   },
   {
    "duration": 5,
    "start_time": "2022-09-30T13:46:55.529Z"
   },
   {
    "duration": 23,
    "start_time": "2022-09-30T13:46:55.536Z"
   },
   {
    "duration": 188,
    "start_time": "2022-09-30T13:46:55.561Z"
   },
   {
    "duration": 12,
    "start_time": "2022-09-30T13:46:55.750Z"
   },
   {
    "duration": 69,
    "start_time": "2022-09-30T13:46:55.763Z"
   },
   {
    "duration": 61,
    "start_time": "2022-09-30T13:46:55.834Z"
   },
   {
    "duration": 278,
    "start_time": "2022-09-30T13:46:55.911Z"
   },
   {
    "duration": 4,
    "start_time": "2022-09-30T13:46:56.191Z"
   },
   {
    "duration": 74,
    "start_time": "2022-09-30T13:46:56.196Z"
   },
   {
    "duration": 286,
    "start_time": "2022-09-30T13:46:56.272Z"
   },
   {
    "duration": 298,
    "start_time": "2022-09-30T13:46:56.560Z"
   },
   {
    "duration": 101,
    "start_time": "2022-09-30T13:46:56.861Z"
   },
   {
    "duration": 71,
    "start_time": "2022-09-30T13:46:56.964Z"
   },
   {
    "duration": 22,
    "start_time": "2022-09-30T13:46:57.037Z"
   },
   {
    "duration": 14,
    "start_time": "2022-09-30T13:46:57.061Z"
   },
   {
    "duration": 480,
    "start_time": "2022-09-30T13:46:57.076Z"
   },
   {
    "duration": 190,
    "start_time": "2022-09-30T13:46:57.557Z"
   },
   {
    "duration": 519,
    "start_time": "2022-09-30T13:46:57.748Z"
   },
   {
    "duration": 9,
    "start_time": "2022-09-30T13:46:58.269Z"
   },
   {
    "duration": 21,
    "start_time": "2022-09-30T13:46:58.279Z"
   },
   {
    "duration": 92,
    "start_time": "2022-09-30T13:46:58.302Z"
   },
   {
    "duration": 42,
    "start_time": "2022-09-30T13:46:58.396Z"
   },
   {
    "duration": 58,
    "start_time": "2022-09-30T13:46:58.440Z"
   },
   {
    "duration": 25,
    "start_time": "2022-09-30T13:46:58.500Z"
   },
   {
    "duration": 21,
    "start_time": "2022-09-30T13:46:58.527Z"
   },
   {
    "duration": 18,
    "start_time": "2022-09-30T13:46:58.550Z"
   },
   {
    "duration": 28,
    "start_time": "2022-09-30T13:46:58.569Z"
   },
   {
    "duration": 32729,
    "start_time": "2022-09-30T13:46:58.598Z"
   },
   {
    "duration": 2196,
    "start_time": "2022-09-30T13:47:31.330Z"
   },
   {
    "duration": 3302,
    "start_time": "2022-09-30T13:47:33.527Z"
   },
   {
    "duration": 323,
    "start_time": "2022-09-30T13:47:36.832Z"
   },
   {
    "duration": 1267,
    "start_time": "2022-09-30T13:52:21.929Z"
   },
   {
    "duration": 2013,
    "start_time": "2022-09-30T13:52:48.722Z"
   },
   {
    "duration": 1420,
    "start_time": "2022-09-30T13:54:47.904Z"
   },
   {
    "duration": 809,
    "start_time": "2022-09-30T13:54:49.326Z"
   },
   {
    "duration": 789,
    "start_time": "2022-09-30T13:54:50.136Z"
   },
   {
    "duration": 13,
    "start_time": "2022-09-30T13:54:50.927Z"
   },
   {
    "duration": 853,
    "start_time": "2022-09-30T13:54:50.942Z"
   },
   {
    "duration": 87,
    "start_time": "2022-09-30T13:54:51.796Z"
   },
   {
    "duration": 997,
    "start_time": "2022-09-30T13:54:51.885Z"
   },
   {
    "duration": 182,
    "start_time": "2022-09-30T13:54:52.884Z"
   },
   {
    "duration": 32,
    "start_time": "2022-09-30T13:54:53.068Z"
   },
   {
    "duration": 2422,
    "start_time": "2022-09-30T13:54:53.109Z"
   },
   {
    "duration": 8,
    "start_time": "2022-09-30T13:54:55.532Z"
   },
   {
    "duration": 85,
    "start_time": "2022-09-30T13:54:55.541Z"
   },
   {
    "duration": 12,
    "start_time": "2022-09-30T13:54:55.627Z"
   },
   {
    "duration": 38,
    "start_time": "2022-09-30T13:54:55.642Z"
   },
   {
    "duration": 41,
    "start_time": "2022-09-30T13:54:55.682Z"
   },
   {
    "duration": 130,
    "start_time": "2022-09-30T13:54:55.725Z"
   },
   {
    "duration": 5,
    "start_time": "2022-09-30T13:54:55.857Z"
   },
   {
    "duration": 70,
    "start_time": "2022-09-30T13:54:55.864Z"
   },
   {
    "duration": 185,
    "start_time": "2022-09-30T13:54:55.936Z"
   },
   {
    "duration": 12,
    "start_time": "2022-09-30T13:54:56.123Z"
   },
   {
    "duration": 63,
    "start_time": "2022-09-30T13:54:56.137Z"
   },
   {
    "duration": 71,
    "start_time": "2022-09-30T13:54:56.202Z"
   },
   {
    "duration": 287,
    "start_time": "2022-09-30T13:54:56.274Z"
   },
   {
    "duration": 5,
    "start_time": "2022-09-30T13:54:56.563Z"
   },
   {
    "duration": 116,
    "start_time": "2022-09-30T13:54:56.569Z"
   },
   {
    "duration": 305,
    "start_time": "2022-09-30T13:54:56.687Z"
   },
   {
    "duration": 281,
    "start_time": "2022-09-30T13:54:56.993Z"
   },
   {
    "duration": 99,
    "start_time": "2022-09-30T13:54:57.275Z"
   },
   {
    "duration": 68,
    "start_time": "2022-09-30T13:54:57.376Z"
   },
   {
    "duration": 24,
    "start_time": "2022-09-30T13:54:57.446Z"
   },
   {
    "duration": 18,
    "start_time": "2022-09-30T13:54:57.471Z"
   },
   {
    "duration": 482,
    "start_time": "2022-09-30T13:54:57.490Z"
   },
   {
    "duration": 199,
    "start_time": "2022-09-30T13:54:57.974Z"
   },
   {
    "duration": 496,
    "start_time": "2022-09-30T13:54:58.175Z"
   },
   {
    "duration": 9,
    "start_time": "2022-09-30T13:54:58.673Z"
   },
   {
    "duration": 9,
    "start_time": "2022-09-30T13:54:58.683Z"
   },
   {
    "duration": 79,
    "start_time": "2022-09-30T13:54:58.693Z"
   },
   {
    "duration": 55,
    "start_time": "2022-09-30T13:54:58.774Z"
   },
   {
    "duration": 61,
    "start_time": "2022-09-30T13:54:58.830Z"
   },
   {
    "duration": 28,
    "start_time": "2022-09-30T13:54:58.893Z"
   },
   {
    "duration": 20,
    "start_time": "2022-09-30T13:54:58.925Z"
   },
   {
    "duration": 5,
    "start_time": "2022-09-30T13:54:58.947Z"
   },
   {
    "duration": 7,
    "start_time": "2022-09-30T13:54:58.954Z"
   },
   {
    "duration": 32268,
    "start_time": "2022-09-30T13:54:58.962Z"
   },
   {
    "duration": 2122,
    "start_time": "2022-09-30T13:55:31.313Z"
   },
   {
    "duration": 2996,
    "start_time": "2022-09-30T13:55:33.437Z"
   },
   {
    "duration": 1329,
    "start_time": "2022-09-30T13:55:36.510Z"
   },
   {
    "duration": 1256,
    "start_time": "2022-09-30T14:00:31.001Z"
   },
   {
    "duration": 39774,
    "start_time": "2022-09-30T14:00:42.636Z"
   },
   {
    "duration": 1416,
    "start_time": "2022-09-30T14:01:43.120Z"
   },
   {
    "duration": 861,
    "start_time": "2022-09-30T14:01:44.538Z"
   },
   {
    "duration": 829,
    "start_time": "2022-09-30T14:01:45.401Z"
   },
   {
    "duration": 14,
    "start_time": "2022-09-30T14:01:46.232Z"
   },
   {
    "duration": 885,
    "start_time": "2022-09-30T14:01:46.248Z"
   },
   {
    "duration": 84,
    "start_time": "2022-09-30T14:01:47.135Z"
   },
   {
    "duration": 946,
    "start_time": "2022-09-30T14:01:47.222Z"
   },
   {
    "duration": 193,
    "start_time": "2022-09-30T14:01:48.169Z"
   },
   {
    "duration": 31,
    "start_time": "2022-09-30T14:01:48.364Z"
   },
   {
    "duration": 2486,
    "start_time": "2022-09-30T14:01:48.408Z"
   },
   {
    "duration": 18,
    "start_time": "2022-09-30T14:01:50.896Z"
   },
   {
    "duration": 64,
    "start_time": "2022-09-30T14:01:50.915Z"
   },
   {
    "duration": 32,
    "start_time": "2022-09-30T14:01:50.980Z"
   },
   {
    "duration": 11,
    "start_time": "2022-09-30T14:01:51.014Z"
   },
   {
    "duration": 19,
    "start_time": "2022-09-30T14:01:51.028Z"
   },
   {
    "duration": 128,
    "start_time": "2022-09-30T14:01:51.049Z"
   },
   {
    "duration": 5,
    "start_time": "2022-09-30T14:01:51.179Z"
   },
   {
    "duration": 30,
    "start_time": "2022-09-30T14:01:51.185Z"
   },
   {
    "duration": 181,
    "start_time": "2022-09-30T14:01:51.217Z"
   },
   {
    "duration": 18,
    "start_time": "2022-09-30T14:01:51.400Z"
   },
   {
    "duration": 52,
    "start_time": "2022-09-30T14:01:51.420Z"
   },
   {
    "duration": 81,
    "start_time": "2022-09-30T14:01:51.474Z"
   },
   {
    "duration": 289,
    "start_time": "2022-09-30T14:01:51.557Z"
   },
   {
    "duration": 5,
    "start_time": "2022-09-30T14:01:51.848Z"
   },
   {
    "duration": 128,
    "start_time": "2022-09-30T14:01:51.854Z"
   },
   {
    "duration": 300,
    "start_time": "2022-09-30T14:01:51.984Z"
   },
   {
    "duration": 292,
    "start_time": "2022-09-30T14:01:52.286Z"
   },
   {
    "duration": 92,
    "start_time": "2022-09-30T14:01:52.582Z"
   },
   {
    "duration": 87,
    "start_time": "2022-09-30T14:01:52.676Z"
   },
   {
    "duration": 26,
    "start_time": "2022-09-30T14:01:52.766Z"
   },
   {
    "duration": 41,
    "start_time": "2022-09-30T14:01:52.793Z"
   },
   {
    "duration": 505,
    "start_time": "2022-09-30T14:01:52.836Z"
   },
   {
    "duration": 200,
    "start_time": "2022-09-30T14:01:53.343Z"
   },
   {
    "duration": 521,
    "start_time": "2022-09-30T14:01:53.544Z"
   },
   {
    "duration": 9,
    "start_time": "2022-09-30T14:01:54.067Z"
   },
   {
    "duration": 13,
    "start_time": "2022-09-30T14:01:54.077Z"
   },
   {
    "duration": 84,
    "start_time": "2022-09-30T14:01:54.092Z"
   },
   {
    "duration": 50,
    "start_time": "2022-09-30T14:01:54.178Z"
   },
   {
    "duration": 59,
    "start_time": "2022-09-30T14:01:54.229Z"
   },
   {
    "duration": 23,
    "start_time": "2022-09-30T14:01:54.290Z"
   },
   {
    "duration": 20,
    "start_time": "2022-09-30T14:01:54.315Z"
   },
   {
    "duration": 30,
    "start_time": "2022-09-30T14:01:54.337Z"
   },
   {
    "duration": 38,
    "start_time": "2022-09-30T14:01:54.369Z"
   },
   {
    "duration": 1312,
    "start_time": "2022-09-30T14:01:54.409Z"
   },
   {
    "duration": 36698,
    "start_time": "2022-09-30T14:01:55.724Z"
   },
   {
    "duration": 2199,
    "start_time": "2022-09-30T14:02:32.425Z"
   },
   {
    "duration": 3606,
    "start_time": "2022-09-30T14:02:34.626Z"
   },
   {
    "duration": 1382,
    "start_time": "2022-09-30T14:03:37.406Z"
   },
   {
    "duration": 852,
    "start_time": "2022-09-30T14:03:38.789Z"
   },
   {
    "duration": 800,
    "start_time": "2022-09-30T14:03:39.643Z"
   },
   {
    "duration": 12,
    "start_time": "2022-09-30T14:03:40.446Z"
   },
   {
    "duration": 897,
    "start_time": "2022-09-30T14:03:40.460Z"
   },
   {
    "duration": 86,
    "start_time": "2022-09-30T14:03:41.358Z"
   },
   {
    "duration": 966,
    "start_time": "2022-09-30T14:03:41.446Z"
   },
   {
    "duration": 199,
    "start_time": "2022-09-30T14:03:42.414Z"
   },
   {
    "duration": 52,
    "start_time": "2022-09-30T14:03:42.617Z"
   },
   {
    "duration": 2624,
    "start_time": "2022-09-30T14:03:42.671Z"
   },
   {
    "duration": 14,
    "start_time": "2022-09-30T14:03:45.297Z"
   },
   {
    "duration": 68,
    "start_time": "2022-09-30T14:03:45.313Z"
   },
   {
    "duration": 30,
    "start_time": "2022-09-30T14:03:45.383Z"
   },
   {
    "duration": 9,
    "start_time": "2022-09-30T14:03:45.415Z"
   },
   {
    "duration": 19,
    "start_time": "2022-09-30T14:03:45.426Z"
   },
   {
    "duration": 149,
    "start_time": "2022-09-30T14:03:45.447Z"
   },
   {
    "duration": 13,
    "start_time": "2022-09-30T14:03:45.597Z"
   },
   {
    "duration": 37,
    "start_time": "2022-09-30T14:03:45.611Z"
   },
   {
    "duration": 189,
    "start_time": "2022-09-30T14:03:45.649Z"
   },
   {
    "duration": 11,
    "start_time": "2022-09-30T14:03:45.840Z"
   },
   {
    "duration": 67,
    "start_time": "2022-09-30T14:03:45.853Z"
   },
   {
    "duration": 65,
    "start_time": "2022-09-30T14:03:45.922Z"
   },
   {
    "duration": 294,
    "start_time": "2022-09-30T14:03:45.989Z"
   },
   {
    "duration": 4,
    "start_time": "2022-09-30T14:03:46.285Z"
   },
   {
    "duration": 78,
    "start_time": "2022-09-30T14:03:46.291Z"
   },
   {
    "duration": 305,
    "start_time": "2022-09-30T14:03:46.371Z"
   },
   {
    "duration": 292,
    "start_time": "2022-09-30T14:03:46.678Z"
   },
   {
    "duration": 107,
    "start_time": "2022-09-30T14:03:46.973Z"
   },
   {
    "duration": 71,
    "start_time": "2022-09-30T14:03:47.082Z"
   },
   {
    "duration": 30,
    "start_time": "2022-09-30T14:03:47.155Z"
   },
   {
    "duration": 30,
    "start_time": "2022-09-30T14:03:47.187Z"
   },
   {
    "duration": 482,
    "start_time": "2022-09-30T14:03:47.220Z"
   },
   {
    "duration": 188,
    "start_time": "2022-09-30T14:03:47.709Z"
   },
   {
    "duration": 528,
    "start_time": "2022-09-30T14:03:47.899Z"
   },
   {
    "duration": 11,
    "start_time": "2022-09-30T14:03:48.429Z"
   },
   {
    "duration": 13,
    "start_time": "2022-09-30T14:03:48.442Z"
   },
   {
    "duration": 79,
    "start_time": "2022-09-30T14:03:48.457Z"
   },
   {
    "duration": 40,
    "start_time": "2022-09-30T14:03:48.538Z"
   },
   {
    "duration": 76,
    "start_time": "2022-09-30T14:03:48.579Z"
   },
   {
    "duration": 12,
    "start_time": "2022-09-30T14:03:48.657Z"
   },
   {
    "duration": 40,
    "start_time": "2022-09-30T14:03:48.671Z"
   },
   {
    "duration": 30,
    "start_time": "2022-09-30T14:03:48.715Z"
   },
   {
    "duration": 13,
    "start_time": "2022-09-30T14:03:48.747Z"
   },
   {
    "duration": 181,
    "start_time": "2022-09-30T14:03:48.762Z"
   },
   {
    "duration": 1246,
    "start_time": "2022-09-30T14:03:48.945Z"
   },
   {
    "duration": 1382,
    "start_time": "2022-09-30T14:04:15.607Z"
   },
   {
    "duration": 858,
    "start_time": "2022-09-30T14:04:16.991Z"
   },
   {
    "duration": 881,
    "start_time": "2022-09-30T14:04:17.851Z"
   },
   {
    "duration": 14,
    "start_time": "2022-09-30T14:04:18.734Z"
   },
   {
    "duration": 923,
    "start_time": "2022-09-30T14:04:18.749Z"
   },
   {
    "duration": 93,
    "start_time": "2022-09-30T14:04:19.674Z"
   },
   {
    "duration": 1001,
    "start_time": "2022-09-30T14:04:19.768Z"
   },
   {
    "duration": 202,
    "start_time": "2022-09-30T14:04:20.771Z"
   },
   {
    "duration": 44,
    "start_time": "2022-09-30T14:04:20.974Z"
   },
   {
    "duration": 2515,
    "start_time": "2022-09-30T14:04:21.022Z"
   },
   {
    "duration": 8,
    "start_time": "2022-09-30T14:04:23.539Z"
   },
   {
    "duration": 88,
    "start_time": "2022-09-30T14:04:23.549Z"
   },
   {
    "duration": 12,
    "start_time": "2022-09-30T14:04:23.638Z"
   },
   {
    "duration": 19,
    "start_time": "2022-09-30T14:04:23.651Z"
   },
   {
    "duration": 32,
    "start_time": "2022-09-30T14:04:23.671Z"
   },
   {
    "duration": 149,
    "start_time": "2022-09-30T14:04:23.704Z"
   },
   {
    "duration": 5,
    "start_time": "2022-09-30T14:04:23.855Z"
   },
   {
    "duration": 66,
    "start_time": "2022-09-30T14:04:23.861Z"
   },
   {
    "duration": 185,
    "start_time": "2022-09-30T14:04:23.928Z"
   },
   {
    "duration": 13,
    "start_time": "2022-09-30T14:04:24.114Z"
   },
   {
    "duration": 77,
    "start_time": "2022-09-30T14:04:24.129Z"
   },
   {
    "duration": 69,
    "start_time": "2022-09-30T14:04:24.207Z"
   },
   {
    "duration": 281,
    "start_time": "2022-09-30T14:04:24.277Z"
   },
   {
    "duration": 6,
    "start_time": "2022-09-30T14:04:24.560Z"
   },
   {
    "duration": 109,
    "start_time": "2022-09-30T14:04:24.567Z"
   },
   {
    "duration": 311,
    "start_time": "2022-09-30T14:04:24.677Z"
   },
   {
    "duration": 294,
    "start_time": "2022-09-30T14:04:24.990Z"
   },
   {
    "duration": 98,
    "start_time": "2022-09-30T14:04:25.288Z"
   },
   {
    "duration": 74,
    "start_time": "2022-09-30T14:04:25.388Z"
   },
   {
    "duration": 23,
    "start_time": "2022-09-30T14:04:25.464Z"
   },
   {
    "duration": 35,
    "start_time": "2022-09-30T14:04:25.489Z"
   },
   {
    "duration": 515,
    "start_time": "2022-09-30T14:04:25.526Z"
   },
   {
    "duration": 208,
    "start_time": "2022-09-30T14:04:26.044Z"
   },
   {
    "duration": 487,
    "start_time": "2022-09-30T14:04:26.254Z"
   },
   {
    "duration": 9,
    "start_time": "2022-09-30T14:04:26.743Z"
   },
   {
    "duration": 32,
    "start_time": "2022-09-30T14:04:26.753Z"
   },
   {
    "duration": 136,
    "start_time": "2022-09-30T14:04:26.787Z"
   },
   {
    "duration": 52,
    "start_time": "2022-09-30T14:04:26.925Z"
   },
   {
    "duration": 79,
    "start_time": "2022-09-30T14:04:26.978Z"
   },
   {
    "duration": 12,
    "start_time": "2022-09-30T14:04:27.059Z"
   },
   {
    "duration": 25,
    "start_time": "2022-09-30T14:04:27.073Z"
   },
   {
    "duration": 38,
    "start_time": "2022-09-30T14:04:27.100Z"
   },
   {
    "duration": 23,
    "start_time": "2022-09-30T14:04:27.140Z"
   },
   {
    "duration": 28956,
    "start_time": "2022-09-30T14:04:27.165Z"
   },
   {
    "duration": 1278,
    "start_time": "2022-09-30T14:04:56.123Z"
   },
   {
    "duration": 37724,
    "start_time": "2022-09-30T14:04:57.403Z"
   },
   {
    "duration": 2192,
    "start_time": "2022-09-30T14:05:35.132Z"
   },
   {
    "duration": 3714,
    "start_time": "2022-09-30T14:05:37.326Z"
   },
   {
    "duration": 1567,
    "start_time": "2022-09-30T14:06:22.600Z"
   },
   {
    "duration": 850,
    "start_time": "2022-09-30T14:06:24.169Z"
   },
   {
    "duration": 778,
    "start_time": "2022-09-30T14:06:25.021Z"
   },
   {
    "duration": 25,
    "start_time": "2022-09-30T14:06:25.800Z"
   },
   {
    "duration": 849,
    "start_time": "2022-09-30T14:06:25.828Z"
   },
   {
    "duration": 92,
    "start_time": "2022-09-30T14:06:26.679Z"
   },
   {
    "duration": 950,
    "start_time": "2022-09-30T14:06:26.773Z"
   },
   {
    "duration": 193,
    "start_time": "2022-09-30T14:06:27.725Z"
   },
   {
    "duration": 38,
    "start_time": "2022-09-30T14:06:27.920Z"
   },
   {
    "duration": 2392,
    "start_time": "2022-09-30T14:06:27.959Z"
   },
   {
    "duration": 8,
    "start_time": "2022-09-30T14:06:30.353Z"
   },
   {
    "duration": 87,
    "start_time": "2022-09-30T14:06:30.362Z"
   },
   {
    "duration": 11,
    "start_time": "2022-09-30T14:06:30.450Z"
   },
   {
    "duration": 33,
    "start_time": "2022-09-30T14:06:30.464Z"
   },
   {
    "duration": 46,
    "start_time": "2022-09-30T14:06:30.499Z"
   },
   {
    "duration": 153,
    "start_time": "2022-09-30T14:06:30.546Z"
   },
   {
    "duration": 15,
    "start_time": "2022-09-30T14:06:30.700Z"
   },
   {
    "duration": 39,
    "start_time": "2022-09-30T14:06:30.717Z"
   },
   {
    "duration": 204,
    "start_time": "2022-09-30T14:06:30.758Z"
   },
   {
    "duration": 13,
    "start_time": "2022-09-30T14:06:30.964Z"
   },
   {
    "duration": 66,
    "start_time": "2022-09-30T14:06:30.978Z"
   },
   {
    "duration": 74,
    "start_time": "2022-09-30T14:06:31.045Z"
   },
   {
    "duration": 298,
    "start_time": "2022-09-30T14:06:31.123Z"
   },
   {
    "duration": 7,
    "start_time": "2022-09-30T14:06:31.423Z"
   },
   {
    "duration": 92,
    "start_time": "2022-09-30T14:06:31.432Z"
   },
   {
    "duration": 308,
    "start_time": "2022-09-30T14:06:31.525Z"
   },
   {
    "duration": 304,
    "start_time": "2022-09-30T14:06:31.835Z"
   },
   {
    "duration": 96,
    "start_time": "2022-09-30T14:06:32.141Z"
   },
   {
    "duration": 73,
    "start_time": "2022-09-30T14:06:32.239Z"
   },
   {
    "duration": 27,
    "start_time": "2022-09-30T14:06:32.314Z"
   },
   {
    "duration": 30,
    "start_time": "2022-09-30T14:06:32.342Z"
   },
   {
    "duration": 543,
    "start_time": "2022-09-30T14:06:32.373Z"
   },
   {
    "duration": 191,
    "start_time": "2022-09-30T14:06:32.918Z"
   },
   {
    "duration": 501,
    "start_time": "2022-09-30T14:06:33.110Z"
   },
   {
    "duration": 12,
    "start_time": "2022-09-30T14:06:33.613Z"
   },
   {
    "duration": 31,
    "start_time": "2022-09-30T14:06:33.626Z"
   },
   {
    "duration": 91,
    "start_time": "2022-09-30T14:06:33.658Z"
   },
   {
    "duration": 40,
    "start_time": "2022-09-30T14:06:33.750Z"
   },
   {
    "duration": 76,
    "start_time": "2022-09-30T14:06:33.792Z"
   },
   {
    "duration": 13,
    "start_time": "2022-09-30T14:06:33.869Z"
   },
   {
    "duration": 25,
    "start_time": "2022-09-30T14:06:33.886Z"
   },
   {
    "duration": 15,
    "start_time": "2022-09-30T14:06:33.913Z"
   },
   {
    "duration": 15,
    "start_time": "2022-09-30T14:06:33.930Z"
   },
   {
    "duration": 28481,
    "start_time": "2022-09-30T14:06:33.947Z"
   },
   {
    "duration": 151152,
    "start_time": "2022-09-30T14:07:02.430Z"
   },
   {
    "duration": 326393,
    "start_time": "2022-09-30T14:09:33.584Z"
   },
   {
    "duration": 1256,
    "start_time": "2022-09-30T14:14:59.979Z"
   },
   {
    "duration": 37673,
    "start_time": "2022-09-30T14:15:01.236Z"
   },
   {
    "duration": 2126,
    "start_time": "2022-09-30T14:15:38.910Z"
   },
   {
    "duration": 3184,
    "start_time": "2022-09-30T14:15:41.038Z"
   },
   {
    "duration": 1391,
    "start_time": "2022-09-30T14:23:46.152Z"
   },
   {
    "duration": 907,
    "start_time": "2022-09-30T14:23:47.545Z"
   },
   {
    "duration": 945,
    "start_time": "2022-09-30T14:23:48.454Z"
   },
   {
    "duration": 20,
    "start_time": "2022-09-30T14:23:49.401Z"
   },
   {
    "duration": 964,
    "start_time": "2022-09-30T14:23:49.422Z"
   },
   {
    "duration": 107,
    "start_time": "2022-09-30T14:23:50.388Z"
   },
   {
    "duration": 979,
    "start_time": "2022-09-30T14:23:50.497Z"
   },
   {
    "duration": 219,
    "start_time": "2022-09-30T14:23:51.478Z"
   },
   {
    "duration": 50,
    "start_time": "2022-09-30T14:23:51.699Z"
   },
   {
    "duration": 2615,
    "start_time": "2022-09-30T14:23:51.752Z"
   },
   {
    "duration": 10,
    "start_time": "2022-09-30T14:23:54.368Z"
   },
   {
    "duration": 93,
    "start_time": "2022-09-30T14:23:54.379Z"
   },
   {
    "duration": 13,
    "start_time": "2022-09-30T14:23:54.473Z"
   },
   {
    "duration": 22,
    "start_time": "2022-09-30T14:23:54.488Z"
   },
   {
    "duration": 40,
    "start_time": "2022-09-30T14:23:54.511Z"
   },
   {
    "duration": 136,
    "start_time": "2022-09-30T14:23:54.553Z"
   },
   {
    "duration": 7,
    "start_time": "2022-09-30T14:23:54.691Z"
   },
   {
    "duration": 52,
    "start_time": "2022-09-30T14:23:54.699Z"
   },
   {
    "duration": 225,
    "start_time": "2022-09-30T14:23:54.752Z"
   },
   {
    "duration": 11,
    "start_time": "2022-09-30T14:23:54.979Z"
   },
   {
    "duration": 89,
    "start_time": "2022-09-30T14:23:54.992Z"
   },
   {
    "duration": 74,
    "start_time": "2022-09-30T14:23:55.082Z"
   },
   {
    "duration": 295,
    "start_time": "2022-09-30T14:23:55.158Z"
   },
   {
    "duration": 5,
    "start_time": "2022-09-30T14:23:55.455Z"
   },
   {
    "duration": 115,
    "start_time": "2022-09-30T14:23:55.461Z"
   },
   {
    "duration": 299,
    "start_time": "2022-09-30T14:23:55.578Z"
   },
   {
    "duration": 284,
    "start_time": "2022-09-30T14:23:55.878Z"
   },
   {
    "duration": 98,
    "start_time": "2022-09-30T14:23:56.165Z"
   },
   {
    "duration": 79,
    "start_time": "2022-09-30T14:23:56.265Z"
   },
   {
    "duration": 23,
    "start_time": "2022-09-30T14:23:56.345Z"
   },
   {
    "duration": 15,
    "start_time": "2022-09-30T14:23:56.369Z"
   },
   {
    "duration": 478,
    "start_time": "2022-09-30T14:23:56.385Z"
   },
   {
    "duration": 199,
    "start_time": "2022-09-30T14:23:56.864Z"
   },
   {
    "duration": 512,
    "start_time": "2022-09-30T14:23:57.064Z"
   },
   {
    "duration": 9,
    "start_time": "2022-09-30T14:23:57.578Z"
   },
   {
    "duration": 20,
    "start_time": "2022-09-30T14:23:57.588Z"
   },
   {
    "duration": 514,
    "start_time": "2022-09-30T14:23:57.609Z"
   },
   {
    "duration": 92,
    "start_time": "2022-09-30T14:23:58.127Z"
   },
   {
    "duration": 245,
    "start_time": "2022-09-30T14:23:58.223Z"
   },
   {
    "duration": 0,
    "start_time": "2022-09-30T14:23:58.470Z"
   },
   {
    "duration": 0,
    "start_time": "2022-09-30T14:23:58.471Z"
   },
   {
    "duration": 0,
    "start_time": "2022-09-30T14:23:58.471Z"
   },
   {
    "duration": 0,
    "start_time": "2022-09-30T14:23:58.473Z"
   },
   {
    "duration": 0,
    "start_time": "2022-09-30T14:23:58.473Z"
   },
   {
    "duration": 0,
    "start_time": "2022-09-30T14:23:58.474Z"
   },
   {
    "duration": 0,
    "start_time": "2022-09-30T14:23:58.475Z"
   },
   {
    "duration": 0,
    "start_time": "2022-09-30T14:23:58.476Z"
   },
   {
    "duration": 0,
    "start_time": "2022-09-30T14:23:58.477Z"
   },
   {
    "duration": 0,
    "start_time": "2022-09-30T14:23:58.478Z"
   },
   {
    "duration": 1368,
    "start_time": "2022-09-30T14:24:15.213Z"
   },
   {
    "duration": 851,
    "start_time": "2022-09-30T14:24:16.583Z"
   },
   {
    "duration": 850,
    "start_time": "2022-09-30T14:24:17.436Z"
   },
   {
    "duration": 13,
    "start_time": "2022-09-30T14:24:18.288Z"
   },
   {
    "duration": 888,
    "start_time": "2022-09-30T14:24:18.303Z"
   },
   {
    "duration": 91,
    "start_time": "2022-09-30T14:24:19.193Z"
   },
   {
    "duration": 973,
    "start_time": "2022-09-30T14:24:19.285Z"
   },
   {
    "duration": 182,
    "start_time": "2022-09-30T14:24:20.260Z"
   },
   {
    "duration": 32,
    "start_time": "2022-09-30T14:24:20.443Z"
   },
   {
    "duration": 2489,
    "start_time": "2022-09-30T14:24:20.477Z"
   },
   {
    "duration": 9,
    "start_time": "2022-09-30T14:24:22.968Z"
   },
   {
    "duration": 88,
    "start_time": "2022-09-30T14:24:22.978Z"
   },
   {
    "duration": 13,
    "start_time": "2022-09-30T14:24:23.067Z"
   },
   {
    "duration": 28,
    "start_time": "2022-09-30T14:24:23.083Z"
   },
   {
    "duration": 20,
    "start_time": "2022-09-30T14:24:23.112Z"
   },
   {
    "duration": 150,
    "start_time": "2022-09-30T14:24:23.134Z"
   },
   {
    "duration": 9,
    "start_time": "2022-09-30T14:24:23.286Z"
   },
   {
    "duration": 35,
    "start_time": "2022-09-30T14:24:23.297Z"
   },
   {
    "duration": 188,
    "start_time": "2022-09-30T14:24:23.334Z"
   },
   {
    "duration": 13,
    "start_time": "2022-09-30T14:24:23.524Z"
   },
   {
    "duration": 52,
    "start_time": "2022-09-30T14:24:23.539Z"
   },
   {
    "duration": 78,
    "start_time": "2022-09-30T14:24:23.593Z"
   },
   {
    "duration": 306,
    "start_time": "2022-09-30T14:24:23.673Z"
   },
   {
    "duration": 5,
    "start_time": "2022-09-30T14:24:23.981Z"
   },
   {
    "duration": 80,
    "start_time": "2022-09-30T14:24:23.988Z"
   },
   {
    "duration": 335,
    "start_time": "2022-09-30T14:24:24.069Z"
   },
   {
    "duration": 299,
    "start_time": "2022-09-30T14:24:24.406Z"
   },
   {
    "duration": 116,
    "start_time": "2022-09-30T14:24:24.709Z"
   },
   {
    "duration": 65,
    "start_time": "2022-09-30T14:24:24.828Z"
   },
   {
    "duration": 42,
    "start_time": "2022-09-30T14:24:24.895Z"
   },
   {
    "duration": 16,
    "start_time": "2022-09-30T14:24:24.939Z"
   },
   {
    "duration": 481,
    "start_time": "2022-09-30T14:24:24.957Z"
   },
   {
    "duration": 199,
    "start_time": "2022-09-30T14:24:25.440Z"
   },
   {
    "duration": 525,
    "start_time": "2022-09-30T14:24:25.640Z"
   },
   {
    "duration": 9,
    "start_time": "2022-09-30T14:24:26.167Z"
   },
   {
    "duration": 6,
    "start_time": "2022-09-30T14:24:26.178Z"
   },
   {
    "duration": 513,
    "start_time": "2022-09-30T14:24:26.185Z"
   },
   {
    "duration": 87,
    "start_time": "2022-09-30T14:24:26.699Z"
   },
   {
    "duration": 2,
    "start_time": "2022-09-30T14:24:26.788Z"
   },
   {
    "duration": 24,
    "start_time": "2022-09-30T14:24:26.791Z"
   },
   {
    "duration": 143,
    "start_time": "2022-09-30T14:24:26.819Z"
   },
   {
    "duration": 0,
    "start_time": "2022-09-30T14:24:26.963Z"
   },
   {
    "duration": 0,
    "start_time": "2022-09-30T14:24:26.964Z"
   },
   {
    "duration": 0,
    "start_time": "2022-09-30T14:24:26.965Z"
   },
   {
    "duration": 0,
    "start_time": "2022-09-30T14:24:26.966Z"
   },
   {
    "duration": 0,
    "start_time": "2022-09-30T14:24:26.967Z"
   },
   {
    "duration": 0,
    "start_time": "2022-09-30T14:24:26.968Z"
   },
   {
    "duration": 0,
    "start_time": "2022-09-30T14:24:26.969Z"
   },
   {
    "duration": 0,
    "start_time": "2022-09-30T14:24:26.970Z"
   },
   {
    "duration": 1336,
    "start_time": "2022-09-30T14:24:53.212Z"
   },
   {
    "duration": 835,
    "start_time": "2022-09-30T14:24:54.550Z"
   },
   {
    "duration": 801,
    "start_time": "2022-09-30T14:24:55.387Z"
   },
   {
    "duration": 12,
    "start_time": "2022-09-30T14:24:56.190Z"
   },
   {
    "duration": 881,
    "start_time": "2022-09-30T14:24:56.210Z"
   },
   {
    "duration": 96,
    "start_time": "2022-09-30T14:24:57.092Z"
   },
   {
    "duration": 966,
    "start_time": "2022-09-30T14:24:57.190Z"
   },
   {
    "duration": 209,
    "start_time": "2022-09-30T14:24:58.158Z"
   },
   {
    "duration": 43,
    "start_time": "2022-09-30T14:24:58.368Z"
   },
   {
    "duration": 2453,
    "start_time": "2022-09-30T14:24:58.414Z"
   },
   {
    "duration": 11,
    "start_time": "2022-09-30T14:25:00.869Z"
   },
   {
    "duration": 85,
    "start_time": "2022-09-30T14:25:00.882Z"
   },
   {
    "duration": 13,
    "start_time": "2022-09-30T14:25:00.969Z"
   },
   {
    "duration": 27,
    "start_time": "2022-09-30T14:25:00.984Z"
   },
   {
    "duration": 43,
    "start_time": "2022-09-30T14:25:01.013Z"
   },
   {
    "duration": 147,
    "start_time": "2022-09-30T14:25:01.057Z"
   },
   {
    "duration": 7,
    "start_time": "2022-09-30T14:25:01.206Z"
   },
   {
    "duration": 58,
    "start_time": "2022-09-30T14:25:01.215Z"
   },
   {
    "duration": 189,
    "start_time": "2022-09-30T14:25:01.275Z"
   },
   {
    "duration": 13,
    "start_time": "2022-09-30T14:25:01.466Z"
   },
   {
    "duration": 76,
    "start_time": "2022-09-30T14:25:01.480Z"
   },
   {
    "duration": 82,
    "start_time": "2022-09-30T14:25:01.558Z"
   },
   {
    "duration": 289,
    "start_time": "2022-09-30T14:25:01.641Z"
   },
   {
    "duration": 4,
    "start_time": "2022-09-30T14:25:01.932Z"
   },
   {
    "duration": 148,
    "start_time": "2022-09-30T14:25:01.938Z"
   },
   {
    "duration": 303,
    "start_time": "2022-09-30T14:25:02.087Z"
   },
   {
    "duration": 322,
    "start_time": "2022-09-30T14:25:02.391Z"
   },
   {
    "duration": 101,
    "start_time": "2022-09-30T14:25:02.718Z"
   },
   {
    "duration": 68,
    "start_time": "2022-09-30T14:25:02.821Z"
   },
   {
    "duration": 38,
    "start_time": "2022-09-30T14:25:02.890Z"
   },
   {
    "duration": 34,
    "start_time": "2022-09-30T14:25:02.930Z"
   },
   {
    "duration": 538,
    "start_time": "2022-09-30T14:25:02.965Z"
   },
   {
    "duration": 281,
    "start_time": "2022-09-30T14:25:03.508Z"
   },
   {
    "duration": 550,
    "start_time": "2022-09-30T14:25:03.790Z"
   },
   {
    "duration": 9,
    "start_time": "2022-09-30T14:25:04.342Z"
   },
   {
    "duration": 6,
    "start_time": "2022-09-30T14:25:04.353Z"
   },
   {
    "duration": 496,
    "start_time": "2022-09-30T14:25:04.360Z"
   },
   {
    "duration": 88,
    "start_time": "2022-09-30T14:25:04.858Z"
   },
   {
    "duration": 2,
    "start_time": "2022-09-30T14:25:04.948Z"
   },
   {
    "duration": 13,
    "start_time": "2022-09-30T14:25:04.952Z"
   },
   {
    "duration": 4,
    "start_time": "2022-09-30T14:25:04.966Z"
   },
   {
    "duration": 6,
    "start_time": "2022-09-30T14:25:04.971Z"
   },
   {
    "duration": 6,
    "start_time": "2022-09-30T14:25:04.979Z"
   },
   {
    "duration": 28217,
    "start_time": "2022-09-30T14:25:04.986Z"
   },
   {
    "duration": 148609,
    "start_time": "2022-09-30T14:25:33.204Z"
   },
   {
    "duration": 3,
    "start_time": "2022-09-30T14:28:01.814Z"
   },
   {
    "duration": 2225,
    "start_time": "2022-09-30T14:28:01.820Z"
   },
   {
    "duration": 36361,
    "start_time": "2022-09-30T14:28:04.047Z"
   },
   {
    "duration": 2121,
    "start_time": "2022-09-30T14:28:40.415Z"
   },
   {
    "duration": 51,
    "start_time": "2022-09-30T14:41:27.842Z"
   },
   {
    "duration": 223,
    "start_time": "2022-09-30T14:44:56.223Z"
   },
   {
    "duration": 137,
    "start_time": "2022-09-30T14:45:12.397Z"
   },
   {
    "duration": 65,
    "start_time": "2022-09-30T14:45:26.374Z"
   },
   {
    "duration": 128,
    "start_time": "2022-09-30T14:45:28.310Z"
   },
   {
    "duration": 27,
    "start_time": "2022-09-30T14:46:46.655Z"
   },
   {
    "duration": 30,
    "start_time": "2022-09-30T14:46:51.222Z"
   },
   {
    "duration": 70,
    "start_time": "2022-09-30T14:47:42.704Z"
   },
   {
    "duration": 11,
    "start_time": "2022-09-30T14:49:30.293Z"
   },
   {
    "duration": 54,
    "start_time": "2022-09-30T15:00:29.342Z"
   },
   {
    "duration": 14075,
    "start_time": "2022-09-30T15:26:48.617Z"
   },
   {
    "duration": 24639,
    "start_time": "2022-09-30T15:27:19.590Z"
   },
   {
    "duration": 14918,
    "start_time": "2022-09-30T15:28:53.417Z"
   },
   {
    "duration": 15261,
    "start_time": "2022-09-30T15:29:28.421Z"
   },
   {
    "duration": 6,
    "start_time": "2022-09-30T15:55:39.976Z"
   },
   {
    "duration": 4,
    "start_time": "2022-09-30T15:55:42.496Z"
   },
   {
    "duration": 4,
    "start_time": "2022-09-30T15:55:52.426Z"
   },
   {
    "duration": 1478,
    "start_time": "2022-09-30T15:55:58.733Z"
   },
   {
    "duration": 847,
    "start_time": "2022-09-30T15:56:00.213Z"
   },
   {
    "duration": 830,
    "start_time": "2022-09-30T15:56:01.061Z"
   },
   {
    "duration": 19,
    "start_time": "2022-09-30T15:56:01.893Z"
   },
   {
    "duration": 863,
    "start_time": "2022-09-30T15:56:01.914Z"
   },
   {
    "duration": 97,
    "start_time": "2022-09-30T15:56:02.779Z"
   },
   {
    "duration": 889,
    "start_time": "2022-09-30T15:56:02.878Z"
   },
   {
    "duration": 194,
    "start_time": "2022-09-30T15:56:03.768Z"
   },
   {
    "duration": 31,
    "start_time": "2022-09-30T15:56:03.964Z"
   },
   {
    "duration": 2345,
    "start_time": "2022-09-30T15:56:04.008Z"
   },
   {
    "duration": 10,
    "start_time": "2022-09-30T15:56:06.355Z"
   },
   {
    "duration": 85,
    "start_time": "2022-09-30T15:56:06.367Z"
   },
   {
    "duration": 13,
    "start_time": "2022-09-30T15:56:06.453Z"
   },
   {
    "duration": 20,
    "start_time": "2022-09-30T15:56:06.468Z"
   },
   {
    "duration": 44,
    "start_time": "2022-09-30T15:56:06.490Z"
   },
   {
    "duration": 141,
    "start_time": "2022-09-30T15:56:06.537Z"
   },
   {
    "duration": 5,
    "start_time": "2022-09-30T15:56:06.680Z"
   },
   {
    "duration": 43,
    "start_time": "2022-09-30T15:56:06.688Z"
   },
   {
    "duration": 209,
    "start_time": "2022-09-30T15:56:06.733Z"
   },
   {
    "duration": 11,
    "start_time": "2022-09-30T15:56:06.945Z"
   },
   {
    "duration": 127,
    "start_time": "2022-09-30T15:56:06.958Z"
   },
   {
    "duration": 78,
    "start_time": "2022-09-30T15:56:07.087Z"
   },
   {
    "duration": 279,
    "start_time": "2022-09-30T15:56:07.167Z"
   },
   {
    "duration": 5,
    "start_time": "2022-09-30T15:56:07.448Z"
   },
   {
    "duration": 75,
    "start_time": "2022-09-30T15:56:07.455Z"
   },
   {
    "duration": 309,
    "start_time": "2022-09-30T15:56:07.531Z"
   },
   {
    "duration": 306,
    "start_time": "2022-09-30T15:56:07.842Z"
   },
   {
    "duration": 82,
    "start_time": "2022-09-30T15:56:08.153Z"
   },
   {
    "duration": 73,
    "start_time": "2022-09-30T15:56:08.237Z"
   },
   {
    "duration": 23,
    "start_time": "2022-09-30T15:56:08.311Z"
   },
   {
    "duration": 24,
    "start_time": "2022-09-30T15:56:08.335Z"
   },
   {
    "duration": 468,
    "start_time": "2022-09-30T15:56:08.360Z"
   },
   {
    "duration": 190,
    "start_time": "2022-09-30T15:56:08.829Z"
   },
   {
    "duration": 488,
    "start_time": "2022-09-30T15:56:09.021Z"
   },
   {
    "duration": 9,
    "start_time": "2022-09-30T15:56:09.511Z"
   },
   {
    "duration": 36,
    "start_time": "2022-09-30T15:56:09.522Z"
   },
   {
    "duration": 515,
    "start_time": "2022-09-30T15:56:09.559Z"
   },
   {
    "duration": 81,
    "start_time": "2022-09-30T15:56:10.076Z"
   },
   {
    "duration": 59,
    "start_time": "2022-09-30T15:56:10.159Z"
   },
   {
    "duration": 14,
    "start_time": "2022-09-30T15:56:10.220Z"
   },
   {
    "duration": 34,
    "start_time": "2022-09-30T15:56:10.236Z"
   },
   {
    "duration": 39,
    "start_time": "2022-09-30T15:56:10.272Z"
   },
   {
    "duration": 55,
    "start_time": "2022-09-30T15:56:10.313Z"
   },
   {
    "duration": 35,
    "start_time": "2022-09-30T15:56:10.370Z"
   },
   {
    "duration": 0,
    "start_time": "2022-09-30T15:56:10.406Z"
   },
   {
    "duration": 0,
    "start_time": "2022-09-30T15:56:10.408Z"
   },
   {
    "duration": 0,
    "start_time": "2022-09-30T15:56:10.409Z"
   },
   {
    "duration": 0,
    "start_time": "2022-09-30T15:56:10.410Z"
   },
   {
    "duration": 0,
    "start_time": "2022-09-30T15:56:10.411Z"
   },
   {
    "duration": 0,
    "start_time": "2022-09-30T15:56:10.412Z"
   },
   {
    "duration": 4,
    "start_time": "2022-09-30T15:56:28.657Z"
   },
   {
    "duration": 27762,
    "start_time": "2022-09-30T15:56:29.378Z"
   },
   {
    "duration": 146501,
    "start_time": "2022-09-30T15:56:57.143Z"
   },
   {
    "duration": 3,
    "start_time": "2022-09-30T15:59:23.646Z"
   },
   {
    "duration": 2173,
    "start_time": "2022-09-30T15:59:23.651Z"
   },
   {
    "duration": 31787,
    "start_time": "2022-09-30T15:59:25.826Z"
   },
   {
    "duration": 2230,
    "start_time": "2022-09-30T15:59:57.615Z"
   },
   {
    "duration": 15940,
    "start_time": "2022-09-30T16:04:03.488Z"
   },
   {
    "duration": 396351,
    "start_time": "2022-09-30T16:20:20.527Z"
   },
   {
    "duration": 6434,
    "start_time": "2022-09-30T16:31:57.991Z"
   },
   {
    "duration": 8512,
    "start_time": "2022-09-30T16:32:20.932Z"
   },
   {
    "duration": 1363,
    "start_time": "2022-09-30T16:33:20.493Z"
   },
   {
    "duration": 836,
    "start_time": "2022-09-30T16:33:21.858Z"
   },
   {
    "duration": 809,
    "start_time": "2022-09-30T16:33:22.696Z"
   },
   {
    "duration": 14,
    "start_time": "2022-09-30T16:33:23.506Z"
   },
   {
    "duration": 848,
    "start_time": "2022-09-30T16:33:23.521Z"
   },
   {
    "duration": 83,
    "start_time": "2022-09-30T16:33:24.371Z"
   },
   {
    "duration": 895,
    "start_time": "2022-09-30T16:33:24.456Z"
   },
   {
    "duration": 173,
    "start_time": "2022-09-30T16:33:25.352Z"
   },
   {
    "duration": 29,
    "start_time": "2022-09-30T16:33:25.527Z"
   },
   {
    "duration": 2289,
    "start_time": "2022-09-30T16:33:25.559Z"
   },
   {
    "duration": 9,
    "start_time": "2022-09-30T16:33:27.849Z"
   },
   {
    "duration": 81,
    "start_time": "2022-09-30T16:33:27.859Z"
   },
   {
    "duration": 11,
    "start_time": "2022-09-30T16:33:27.941Z"
   },
   {
    "duration": 15,
    "start_time": "2022-09-30T16:33:27.954Z"
   },
   {
    "duration": 16,
    "start_time": "2022-09-30T16:33:27.971Z"
   },
   {
    "duration": 142,
    "start_time": "2022-09-30T16:33:27.989Z"
   },
   {
    "duration": 6,
    "start_time": "2022-09-30T16:33:28.132Z"
   },
   {
    "duration": 33,
    "start_time": "2022-09-30T16:33:28.139Z"
   },
   {
    "duration": 185,
    "start_time": "2022-09-30T16:33:28.173Z"
   },
   {
    "duration": 10,
    "start_time": "2022-09-30T16:33:28.360Z"
   },
   {
    "duration": 63,
    "start_time": "2022-09-30T16:33:28.371Z"
   },
   {
    "duration": 65,
    "start_time": "2022-09-30T16:33:28.435Z"
   },
   {
    "duration": 271,
    "start_time": "2022-09-30T16:33:28.509Z"
   },
   {
    "duration": 4,
    "start_time": "2022-09-30T16:33:28.782Z"
   },
   {
    "duration": 104,
    "start_time": "2022-09-30T16:33:28.788Z"
   },
   {
    "duration": 293,
    "start_time": "2022-09-30T16:33:28.894Z"
   },
   {
    "duration": 285,
    "start_time": "2022-09-30T16:33:29.189Z"
   },
   {
    "duration": 96,
    "start_time": "2022-09-30T16:33:29.477Z"
   },
   {
    "duration": 73,
    "start_time": "2022-09-30T16:33:29.575Z"
   },
   {
    "duration": 25,
    "start_time": "2022-09-30T16:33:29.649Z"
   },
   {
    "duration": 20,
    "start_time": "2022-09-30T16:33:29.675Z"
   },
   {
    "duration": 471,
    "start_time": "2022-09-30T16:33:29.697Z"
   },
   {
    "duration": 189,
    "start_time": "2022-09-30T16:33:30.170Z"
   },
   {
    "duration": 479,
    "start_time": "2022-09-30T16:33:30.361Z"
   },
   {
    "duration": 10,
    "start_time": "2022-09-30T16:33:30.842Z"
   },
   {
    "duration": 20,
    "start_time": "2022-09-30T16:33:30.853Z"
   },
   {
    "duration": 538,
    "start_time": "2022-09-30T16:33:30.874Z"
   },
   {
    "duration": 77,
    "start_time": "2022-09-30T16:33:31.414Z"
   },
   {
    "duration": 60,
    "start_time": "2022-09-30T16:33:31.493Z"
   },
   {
    "duration": 10,
    "start_time": "2022-09-30T16:33:31.554Z"
   },
   {
    "duration": 16,
    "start_time": "2022-09-30T16:33:31.566Z"
   },
   {
    "duration": 27,
    "start_time": "2022-09-30T16:33:31.583Z"
   },
   {
    "duration": 21,
    "start_time": "2022-09-30T16:33:31.612Z"
   },
   {
    "duration": 27350,
    "start_time": "2022-09-30T16:33:31.635Z"
   },
   {
    "duration": 142595,
    "start_time": "2022-09-30T16:33:58.986Z"
   },
   {
    "duration": 3,
    "start_time": "2022-09-30T16:36:21.583Z"
   },
   {
    "duration": 2103,
    "start_time": "2022-09-30T16:36:21.588Z"
   },
   {
    "duration": 19019,
    "start_time": "2022-09-30T16:36:23.693Z"
   },
   {
    "duration": 2126,
    "start_time": "2022-09-30T16:36:42.714Z"
   },
   {
    "duration": 364553,
    "start_time": "2022-09-30T16:36:44.842Z"
   },
   {
    "duration": 220078,
    "start_time": "2022-09-30T16:42:49.397Z"
   },
   {
    "duration": 6,
    "start_time": "2022-09-30T19:31:14.595Z"
   },
   {
    "duration": 1585,
    "start_time": "2022-09-30T19:31:29.006Z"
   },
   {
    "duration": 1124,
    "start_time": "2022-09-30T19:31:30.593Z"
   },
   {
    "duration": 786,
    "start_time": "2022-09-30T19:31:31.719Z"
   },
   {
    "duration": 21,
    "start_time": "2022-09-30T19:31:32.507Z"
   },
   {
    "duration": 937,
    "start_time": "2022-09-30T19:31:32.530Z"
   },
   {
    "duration": 91,
    "start_time": "2022-09-30T19:31:33.470Z"
   },
   {
    "duration": 913,
    "start_time": "2022-09-30T19:31:33.563Z"
   },
   {
    "duration": 176,
    "start_time": "2022-09-30T19:31:34.478Z"
   },
   {
    "duration": 32,
    "start_time": "2022-09-30T19:31:34.655Z"
   },
   {
    "duration": 2297,
    "start_time": "2022-09-30T19:31:34.708Z"
   },
   {
    "duration": 12,
    "start_time": "2022-09-30T19:31:37.006Z"
   },
   {
    "duration": 97,
    "start_time": "2022-09-30T19:31:37.020Z"
   },
   {
    "duration": 12,
    "start_time": "2022-09-30T19:31:37.119Z"
   },
   {
    "duration": 8,
    "start_time": "2022-09-30T19:31:37.133Z"
   },
   {
    "duration": 19,
    "start_time": "2022-09-30T19:31:37.142Z"
   },
   {
    "duration": 164,
    "start_time": "2022-09-30T19:31:37.162Z"
   },
   {
    "duration": 6,
    "start_time": "2022-09-30T19:31:37.327Z"
   },
   {
    "duration": 27,
    "start_time": "2022-09-30T19:31:37.334Z"
   },
   {
    "duration": 188,
    "start_time": "2022-09-30T19:31:37.363Z"
   },
   {
    "duration": 12,
    "start_time": "2022-09-30T19:31:37.552Z"
   },
   {
    "duration": 63,
    "start_time": "2022-09-30T19:31:37.565Z"
   },
   {
    "duration": 66,
    "start_time": "2022-09-30T19:31:37.630Z"
   },
   {
    "duration": 299,
    "start_time": "2022-09-30T19:31:37.698Z"
   },
   {
    "duration": 12,
    "start_time": "2022-09-30T19:31:37.999Z"
   },
   {
    "duration": 104,
    "start_time": "2022-09-30T19:31:38.012Z"
   },
   {
    "duration": 303,
    "start_time": "2022-09-30T19:31:38.117Z"
   },
   {
    "duration": 284,
    "start_time": "2022-09-30T19:31:38.422Z"
   },
   {
    "duration": 86,
    "start_time": "2022-09-30T19:31:38.710Z"
   },
   {
    "duration": 70,
    "start_time": "2022-09-30T19:31:38.809Z"
   },
   {
    "duration": 40,
    "start_time": "2022-09-30T19:31:38.880Z"
   },
   {
    "duration": 15,
    "start_time": "2022-09-30T19:31:38.921Z"
   },
   {
    "duration": 474,
    "start_time": "2022-09-30T19:31:38.937Z"
   },
   {
    "duration": 186,
    "start_time": "2022-09-30T19:31:39.412Z"
   },
   {
    "duration": 474,
    "start_time": "2022-09-30T19:31:39.599Z"
   },
   {
    "duration": 10,
    "start_time": "2022-09-30T19:31:40.075Z"
   },
   {
    "duration": 8,
    "start_time": "2022-09-30T19:31:40.086Z"
   },
   {
    "duration": 487,
    "start_time": "2022-09-30T19:31:40.096Z"
   },
   {
    "duration": 76,
    "start_time": "2022-09-30T19:31:40.585Z"
   },
   {
    "duration": 59,
    "start_time": "2022-09-30T19:31:40.662Z"
   },
   {
    "duration": 10,
    "start_time": "2022-09-30T19:31:40.723Z"
   },
   {
    "duration": 11,
    "start_time": "2022-09-30T19:31:40.735Z"
   },
   {
    "duration": 4,
    "start_time": "2022-09-30T19:31:40.748Z"
   },
   {
    "duration": 6,
    "start_time": "2022-09-30T19:31:40.753Z"
   },
   {
    "duration": 27302,
    "start_time": "2022-09-30T19:31:40.760Z"
   },
   {
    "duration": 142758,
    "start_time": "2022-09-30T19:32:08.064Z"
   },
   {
    "duration": 2,
    "start_time": "2022-09-30T19:34:30.824Z"
   },
   {
    "duration": 2134,
    "start_time": "2022-09-30T19:34:30.828Z"
   },
   {
    "duration": 18751,
    "start_time": "2022-09-30T19:34:32.964Z"
   },
   {
    "duration": 2215,
    "start_time": "2022-09-30T19:34:51.716Z"
   },
   {
    "duration": 361462,
    "start_time": "2022-09-30T19:34:53.933Z"
   },
   {
    "duration": 216856,
    "start_time": "2022-09-30T19:40:55.397Z"
   },
   {
    "duration": 16,
    "start_time": "2022-09-30T20:01:08.646Z"
   },
   {
    "duration": 1800,
    "start_time": "2022-10-01T08:54:51.896Z"
   },
   {
    "duration": 2899,
    "start_time": "2022-10-01T08:54:53.699Z"
   },
   {
    "duration": 855,
    "start_time": "2022-10-01T08:54:56.600Z"
   },
   {
    "duration": 14,
    "start_time": "2022-10-01T08:54:57.457Z"
   },
   {
    "duration": 985,
    "start_time": "2022-10-01T08:54:57.473Z"
   },
   {
    "duration": 94,
    "start_time": "2022-10-01T08:54:58.460Z"
   },
   {
    "duration": 1044,
    "start_time": "2022-10-01T08:54:58.556Z"
   },
   {
    "duration": 213,
    "start_time": "2022-10-01T08:54:59.602Z"
   },
   {
    "duration": 38,
    "start_time": "2022-10-01T08:54:59.818Z"
   },
   {
    "duration": 2512,
    "start_time": "2022-10-01T08:54:59.858Z"
   },
   {
    "duration": 24,
    "start_time": "2022-10-01T08:55:02.372Z"
   },
   {
    "duration": 74,
    "start_time": "2022-10-01T08:55:02.398Z"
   },
   {
    "duration": 25,
    "start_time": "2022-10-01T08:55:02.474Z"
   },
   {
    "duration": 9,
    "start_time": "2022-10-01T08:55:02.503Z"
   },
   {
    "duration": 18,
    "start_time": "2022-10-01T08:55:02.514Z"
   },
   {
    "duration": 153,
    "start_time": "2022-10-01T08:55:02.533Z"
   },
   {
    "duration": 10,
    "start_time": "2022-10-01T08:55:02.687Z"
   },
   {
    "duration": 22,
    "start_time": "2022-10-01T08:55:02.698Z"
   },
   {
    "duration": 218,
    "start_time": "2022-10-01T08:55:02.722Z"
   },
   {
    "duration": 14,
    "start_time": "2022-10-01T08:55:02.942Z"
   },
   {
    "duration": 81,
    "start_time": "2022-10-01T08:55:02.957Z"
   },
   {
    "duration": 77,
    "start_time": "2022-10-01T08:55:03.040Z"
   },
   {
    "duration": 321,
    "start_time": "2022-10-01T08:55:03.118Z"
   },
   {
    "duration": 6,
    "start_time": "2022-10-01T08:55:03.441Z"
   },
   {
    "duration": 108,
    "start_time": "2022-10-01T08:55:03.448Z"
   },
   {
    "duration": 351,
    "start_time": "2022-10-01T08:55:03.558Z"
   },
   {
    "duration": 346,
    "start_time": "2022-10-01T08:55:03.911Z"
   },
   {
    "duration": 103,
    "start_time": "2022-10-01T08:55:04.259Z"
   },
   {
    "duration": 73,
    "start_time": "2022-10-01T08:55:04.363Z"
   },
   {
    "duration": 23,
    "start_time": "2022-10-01T08:55:04.438Z"
   },
   {
    "duration": 36,
    "start_time": "2022-10-01T08:55:04.463Z"
   },
   {
    "duration": 727,
    "start_time": "2022-10-01T08:55:04.501Z"
   },
   {
    "duration": 191,
    "start_time": "2022-10-01T08:55:05.230Z"
   },
   {
    "duration": 495,
    "start_time": "2022-10-01T08:55:05.423Z"
   },
   {
    "duration": 12,
    "start_time": "2022-10-01T08:55:05.920Z"
   },
   {
    "duration": 8,
    "start_time": "2022-10-01T08:55:05.933Z"
   },
   {
    "duration": 611,
    "start_time": "2022-10-01T08:55:05.943Z"
   },
   {
    "duration": 123,
    "start_time": "2022-10-01T08:55:06.556Z"
   },
   {
    "duration": 94,
    "start_time": "2022-10-01T08:55:06.682Z"
   },
   {
    "duration": 32,
    "start_time": "2022-10-01T08:55:06.779Z"
   },
   {
    "duration": 23,
    "start_time": "2022-10-01T08:55:06.815Z"
   },
   {
    "duration": 5,
    "start_time": "2022-10-01T08:55:06.841Z"
   },
   {
    "duration": 25,
    "start_time": "2022-10-01T08:55:06.848Z"
   },
   {
    "duration": 28168,
    "start_time": "2022-10-01T08:55:06.875Z"
   },
   {
    "duration": 146686,
    "start_time": "2022-10-01T08:55:35.045Z"
   },
   {
    "duration": 3,
    "start_time": "2022-10-01T08:58:01.732Z"
   },
   {
    "duration": 2512,
    "start_time": "2022-10-01T08:58:01.737Z"
   },
   {
    "duration": 31552,
    "start_time": "2022-10-01T08:58:04.250Z"
   },
   {
    "duration": 2418,
    "start_time": "2022-10-01T08:58:35.805Z"
   },
   {
    "duration": 387548,
    "start_time": "2022-10-01T08:58:38.225Z"
   },
   {
    "duration": 225906,
    "start_time": "2022-10-01T09:05:05.775Z"
   },
   {
    "duration": 1518,
    "start_time": "2022-10-01T09:14:58.730Z"
   },
   {
    "duration": 874,
    "start_time": "2022-10-01T09:15:00.250Z"
   },
   {
    "duration": 862,
    "start_time": "2022-10-01T09:15:01.126Z"
   },
   {
    "duration": 15,
    "start_time": "2022-10-01T09:15:01.995Z"
   },
   {
    "duration": 1039,
    "start_time": "2022-10-01T09:15:02.012Z"
   },
   {
    "duration": 90,
    "start_time": "2022-10-01T09:15:03.052Z"
   },
   {
    "duration": 1026,
    "start_time": "2022-10-01T09:15:03.144Z"
   },
   {
    "duration": 170,
    "start_time": "2022-10-01T09:15:04.172Z"
   },
   {
    "duration": 33,
    "start_time": "2022-10-01T09:15:04.344Z"
   },
   {
    "duration": 2420,
    "start_time": "2022-10-01T09:15:04.380Z"
   },
   {
    "duration": 11,
    "start_time": "2022-10-01T09:15:06.802Z"
   },
   {
    "duration": 97,
    "start_time": "2022-10-01T09:15:06.815Z"
   },
   {
    "duration": 13,
    "start_time": "2022-10-01T09:15:06.914Z"
   },
   {
    "duration": 11,
    "start_time": "2022-10-01T09:15:06.928Z"
   },
   {
    "duration": 19,
    "start_time": "2022-10-01T09:15:06.941Z"
   },
   {
    "duration": 161,
    "start_time": "2022-10-01T09:15:06.962Z"
   },
   {
    "duration": 6,
    "start_time": "2022-10-01T09:15:07.125Z"
   },
   {
    "duration": 26,
    "start_time": "2022-10-01T09:15:07.132Z"
   },
   {
    "duration": 214,
    "start_time": "2022-10-01T09:15:07.160Z"
   },
   {
    "duration": 21,
    "start_time": "2022-10-01T09:15:07.375Z"
   },
   {
    "duration": 58,
    "start_time": "2022-10-01T09:15:07.398Z"
   },
   {
    "duration": 88,
    "start_time": "2022-10-01T09:15:07.458Z"
   },
   {
    "duration": 325,
    "start_time": "2022-10-01T09:15:07.548Z"
   },
   {
    "duration": 21,
    "start_time": "2022-10-01T09:15:07.875Z"
   },
   {
    "duration": 69,
    "start_time": "2022-10-01T09:15:07.897Z"
   },
   {
    "duration": 369,
    "start_time": "2022-10-01T09:15:07.968Z"
   },
   {
    "duration": 317,
    "start_time": "2022-10-01T09:15:08.339Z"
   },
   {
    "duration": 112,
    "start_time": "2022-10-01T09:15:08.661Z"
   },
   {
    "duration": 82,
    "start_time": "2022-10-01T09:15:08.775Z"
   },
   {
    "duration": 38,
    "start_time": "2022-10-01T09:15:08.858Z"
   },
   {
    "duration": 17,
    "start_time": "2022-10-01T09:15:08.898Z"
   },
   {
    "duration": 631,
    "start_time": "2022-10-01T09:15:08.917Z"
   },
   {
    "duration": 192,
    "start_time": "2022-10-01T09:15:09.550Z"
   },
   {
    "duration": 462,
    "start_time": "2022-10-01T09:15:09.744Z"
   },
   {
    "duration": 11,
    "start_time": "2022-10-01T09:15:10.208Z"
   },
   {
    "duration": 11,
    "start_time": "2022-10-01T09:15:10.221Z"
   },
   {
    "duration": 612,
    "start_time": "2022-10-01T09:15:10.234Z"
   },
   {
    "duration": 110,
    "start_time": "2022-10-01T09:15:10.848Z"
   },
   {
    "duration": 76,
    "start_time": "2022-10-01T09:15:10.960Z"
   },
   {
    "duration": 14,
    "start_time": "2022-10-01T09:15:11.038Z"
   },
   {
    "duration": 19,
    "start_time": "2022-10-01T09:15:11.053Z"
   },
   {
    "duration": 5,
    "start_time": "2022-10-01T09:15:11.074Z"
   },
   {
    "duration": 4,
    "start_time": "2022-10-01T09:15:11.095Z"
   },
   {
    "duration": 26217,
    "start_time": "2022-10-01T09:15:11.101Z"
   },
   {
    "duration": 3,
    "start_time": "2022-10-01T09:15:37.320Z"
   },
   {
    "duration": 6,
    "start_time": "2022-10-01T09:15:37.325Z"
   },
   {
    "duration": 2464,
    "start_time": "2022-10-01T09:15:37.332Z"
   },
   {
    "duration": 24302,
    "start_time": "2022-10-01T09:15:39.798Z"
   },
   {
    "duration": 2136,
    "start_time": "2022-10-01T09:16:04.102Z"
   },
   {
    "duration": 3,
    "start_time": "2022-10-01T09:16:06.240Z"
   },
   {
    "duration": 1618,
    "start_time": "2022-10-01T09:55:12.433Z"
   },
   {
    "duration": 981,
    "start_time": "2022-10-01T09:55:14.053Z"
   },
   {
    "duration": 934,
    "start_time": "2022-10-01T09:55:15.036Z"
   },
   {
    "duration": 14,
    "start_time": "2022-10-01T09:55:15.972Z"
   },
   {
    "duration": 1123,
    "start_time": "2022-10-01T09:55:15.995Z"
   },
   {
    "duration": 104,
    "start_time": "2022-10-01T09:55:17.124Z"
   },
   {
    "duration": 1110,
    "start_time": "2022-10-01T09:55:17.231Z"
   },
   {
    "duration": 187,
    "start_time": "2022-10-01T09:55:18.343Z"
   },
   {
    "duration": 37,
    "start_time": "2022-10-01T09:55:18.531Z"
   },
   {
    "duration": 2786,
    "start_time": "2022-10-01T09:55:18.570Z"
   },
   {
    "duration": 10,
    "start_time": "2022-10-01T09:55:21.358Z"
   },
   {
    "duration": 97,
    "start_time": "2022-10-01T09:55:21.370Z"
   },
   {
    "duration": 12,
    "start_time": "2022-10-01T09:55:21.469Z"
   },
   {
    "duration": 25,
    "start_time": "2022-10-01T09:55:21.482Z"
   },
   {
    "duration": 37,
    "start_time": "2022-10-01T09:55:21.508Z"
   },
   {
    "duration": 137,
    "start_time": "2022-10-01T09:55:21.547Z"
   },
   {
    "duration": 6,
    "start_time": "2022-10-01T09:55:21.686Z"
   },
   {
    "duration": 48,
    "start_time": "2022-10-01T09:55:21.702Z"
   },
   {
    "duration": 190,
    "start_time": "2022-10-01T09:55:21.752Z"
   },
   {
    "duration": 13,
    "start_time": "2022-10-01T09:55:21.944Z"
   },
   {
    "duration": 97,
    "start_time": "2022-10-01T09:55:21.959Z"
   },
   {
    "duration": 94,
    "start_time": "2022-10-01T09:55:22.058Z"
   },
   {
    "duration": 350,
    "start_time": "2022-10-01T09:55:22.154Z"
   },
   {
    "duration": 14,
    "start_time": "2022-10-01T09:55:22.506Z"
   },
   {
    "duration": 109,
    "start_time": "2022-10-01T09:55:22.526Z"
   },
   {
    "duration": 407,
    "start_time": "2022-10-01T09:55:22.637Z"
   },
   {
    "duration": 344,
    "start_time": "2022-10-01T09:55:23.046Z"
   },
   {
    "duration": 113,
    "start_time": "2022-10-01T09:55:23.403Z"
   },
   {
    "duration": 63,
    "start_time": "2022-10-01T09:55:23.518Z"
   },
   {
    "duration": 34,
    "start_time": "2022-10-01T09:55:23.594Z"
   },
   {
    "duration": 22,
    "start_time": "2022-10-01T09:55:23.630Z"
   },
   {
    "duration": 901,
    "start_time": "2022-10-01T09:55:23.655Z"
   },
   {
    "duration": 219,
    "start_time": "2022-10-01T09:55:24.559Z"
   },
   {
    "duration": 581,
    "start_time": "2022-10-01T09:55:24.781Z"
   },
   {
    "duration": 11,
    "start_time": "2022-10-01T09:55:25.364Z"
   },
   {
    "duration": 21,
    "start_time": "2022-10-01T09:55:25.377Z"
   },
   {
    "duration": 651,
    "start_time": "2022-10-01T09:55:25.402Z"
   },
   {
    "duration": 122,
    "start_time": "2022-10-01T09:55:26.055Z"
   },
   {
    "duration": 89,
    "start_time": "2022-10-01T09:55:26.178Z"
   },
   {
    "duration": 12,
    "start_time": "2022-10-01T09:55:26.268Z"
   },
   {
    "duration": 26,
    "start_time": "2022-10-01T09:55:26.282Z"
   },
   {
    "duration": 18,
    "start_time": "2022-10-01T09:55:26.320Z"
   },
   {
    "duration": 5,
    "start_time": "2022-10-01T09:55:26.340Z"
   },
   {
    "duration": 31320,
    "start_time": "2022-10-01T09:55:26.347Z"
   },
   {
    "duration": 2,
    "start_time": "2022-10-01T09:55:57.669Z"
   },
   {
    "duration": 51,
    "start_time": "2022-10-01T09:55:57.673Z"
   },
   {
    "duration": 2516,
    "start_time": "2022-10-01T09:55:57.727Z"
   },
   {
    "duration": 37682,
    "start_time": "2022-10-01T09:56:00.244Z"
   },
   {
    "duration": 2217,
    "start_time": "2022-10-01T09:56:37.932Z"
   },
   {
    "duration": 446515,
    "start_time": "2022-10-01T09:56:40.151Z"
   },
   {
    "duration": 5,
    "start_time": "2022-10-01T10:19:57.879Z"
   },
   {
    "duration": 5,
    "start_time": "2022-10-01T10:20:26.679Z"
   },
   {
    "duration": 136,
    "start_time": "2022-10-01T10:20:34.317Z"
   },
   {
    "duration": 4,
    "start_time": "2022-10-01T10:20:39.346Z"
   },
   {
    "duration": 1009618,
    "start_time": "2022-10-01T10:54:59.673Z"
   },
   {
    "duration": 83,
    "start_time": "2022-10-01T12:13:13.627Z"
   },
   {
    "duration": 25063,
    "start_time": "2022-10-01T12:13:18.117Z"
   },
   {
    "duration": 512,
    "start_time": "2022-10-01T12:14:24.821Z"
   },
   {
    "duration": 159,
    "start_time": "2022-10-01T12:14:55.550Z"
   },
   {
    "duration": 159,
    "start_time": "2022-10-01T12:15:27.180Z"
   },
   {
    "duration": 8,
    "start_time": "2022-10-01T12:15:35.027Z"
   },
   {
    "duration": 31865,
    "start_time": "2022-10-01T12:15:58.347Z"
   },
   {
    "duration": 184,
    "start_time": "2022-10-01T12:16:33.341Z"
   },
   {
    "duration": 6,
    "start_time": "2022-10-01T12:16:35.120Z"
   },
   {
    "duration": 5,
    "start_time": "2022-10-01T12:17:30.112Z"
   },
   {
    "duration": 1526,
    "start_time": "2022-10-01T12:22:39.939Z"
   },
   {
    "duration": 946,
    "start_time": "2022-10-01T12:22:41.467Z"
   },
   {
    "duration": 924,
    "start_time": "2022-10-01T12:22:42.416Z"
   },
   {
    "duration": 13,
    "start_time": "2022-10-01T12:22:43.343Z"
   },
   {
    "duration": 1105,
    "start_time": "2022-10-01T12:22:43.359Z"
   },
   {
    "duration": 99,
    "start_time": "2022-10-01T12:22:44.465Z"
   },
   {
    "duration": 1097,
    "start_time": "2022-10-01T12:22:44.566Z"
   },
   {
    "duration": 210,
    "start_time": "2022-10-01T12:22:45.665Z"
   },
   {
    "duration": 46,
    "start_time": "2022-10-01T12:22:45.877Z"
   },
   {
    "duration": 2563,
    "start_time": "2022-10-01T12:22:45.926Z"
   },
   {
    "duration": 25,
    "start_time": "2022-10-01T12:22:48.495Z"
   },
   {
    "duration": 93,
    "start_time": "2022-10-01T12:22:48.522Z"
   },
   {
    "duration": 13,
    "start_time": "2022-10-01T12:22:48.616Z"
   },
   {
    "duration": 15,
    "start_time": "2022-10-01T12:22:48.631Z"
   },
   {
    "duration": 22,
    "start_time": "2022-10-01T12:22:48.648Z"
   },
   {
    "duration": 153,
    "start_time": "2022-10-01T12:22:48.671Z"
   },
   {
    "duration": 7,
    "start_time": "2022-10-01T12:22:48.826Z"
   },
   {
    "duration": 32,
    "start_time": "2022-10-01T12:22:48.835Z"
   },
   {
    "duration": 204,
    "start_time": "2022-10-01T12:22:48.869Z"
   },
   {
    "duration": 21,
    "start_time": "2022-10-01T12:22:49.075Z"
   },
   {
    "duration": 62,
    "start_time": "2022-10-01T12:22:49.099Z"
   },
   {
    "duration": 95,
    "start_time": "2022-10-01T12:22:49.163Z"
   },
   {
    "duration": 361,
    "start_time": "2022-10-01T12:22:49.260Z"
   },
   {
    "duration": 6,
    "start_time": "2022-10-01T12:22:49.622Z"
   },
   {
    "duration": 117,
    "start_time": "2022-10-01T12:22:49.630Z"
   },
   {
    "duration": 390,
    "start_time": "2022-10-01T12:22:49.749Z"
   },
   {
    "duration": 365,
    "start_time": "2022-10-01T12:22:50.142Z"
   },
   {
    "duration": 105,
    "start_time": "2022-10-01T12:22:50.513Z"
   },
   {
    "duration": 61,
    "start_time": "2022-10-01T12:22:50.620Z"
   },
   {
    "duration": 34,
    "start_time": "2022-10-01T12:22:50.682Z"
   },
   {
    "duration": 20,
    "start_time": "2022-10-01T12:22:50.718Z"
   },
   {
    "duration": 682,
    "start_time": "2022-10-01T12:22:50.740Z"
   },
   {
    "duration": 242,
    "start_time": "2022-10-01T12:22:51.425Z"
   },
   {
    "duration": 579,
    "start_time": "2022-10-01T12:22:51.670Z"
   },
   {
    "duration": 12,
    "start_time": "2022-10-01T12:22:52.251Z"
   },
   {
    "duration": 9,
    "start_time": "2022-10-01T12:22:52.265Z"
   },
   {
    "duration": 604,
    "start_time": "2022-10-01T12:22:52.275Z"
   },
   {
    "duration": 147,
    "start_time": "2022-10-01T12:22:52.881Z"
   },
   {
    "duration": 88,
    "start_time": "2022-10-01T12:22:53.030Z"
   },
   {
    "duration": 14,
    "start_time": "2022-10-01T12:22:53.120Z"
   },
   {
    "duration": 14,
    "start_time": "2022-10-01T12:22:53.136Z"
   },
   {
    "duration": 6,
    "start_time": "2022-10-01T12:22:53.152Z"
   },
   {
    "duration": 5,
    "start_time": "2022-10-01T12:22:53.160Z"
   },
   {
    "duration": 28108,
    "start_time": "2022-10-01T12:22:53.196Z"
   },
   {
    "duration": 5,
    "start_time": "2022-10-01T12:23:21.312Z"
   },
   {
    "duration": 2511,
    "start_time": "2022-10-01T12:23:21.319Z"
   },
   {
    "duration": 35778,
    "start_time": "2022-10-01T12:23:23.832Z"
   },
   {
    "duration": 2315,
    "start_time": "2022-10-01T12:23:59.612Z"
   },
   {
    "duration": 3,
    "start_time": "2022-10-01T12:24:01.929Z"
   },
   {
    "duration": 210065,
    "start_time": "2022-10-01T12:24:01.934Z"
   },
   {
    "duration": 663,
    "start_time": "2022-10-01T12:27:32.000Z"
   },
   {
    "duration": 5,
    "start_time": "2022-10-01T12:27:32.665Z"
   },
   {
    "duration": 1810,
    "start_time": "2022-10-01T12:28:30.188Z"
   },
   {
    "duration": 8,
    "start_time": "2022-10-01T12:28:39.233Z"
   },
   {
    "duration": 140,
    "start_time": "2022-10-01T12:35:04.859Z"
   },
   {
    "duration": 691,
    "start_time": "2022-10-01T12:35:06.662Z"
   },
   {
    "duration": 6,
    "start_time": "2022-10-01T12:35:07.554Z"
   },
   {
    "duration": 666,
    "start_time": "2022-10-01T12:35:21.115Z"
   },
   {
    "duration": 676,
    "start_time": "2022-10-01T12:35:33.128Z"
   },
   {
    "duration": 639,
    "start_time": "2022-10-01T12:35:37.690Z"
   },
   {
    "duration": 122,
    "start_time": "2022-10-01T12:36:02.729Z"
   },
   {
    "duration": 7,
    "start_time": "2022-10-01T12:36:11.524Z"
   },
   {
    "duration": 671,
    "start_time": "2022-10-01T12:36:19.889Z"
   },
   {
    "duration": 5,
    "start_time": "2022-10-01T12:41:49.289Z"
   },
   {
    "duration": 29741,
    "start_time": "2022-10-01T12:41:52.732Z"
   },
   {
    "duration": 6,
    "start_time": "2022-10-01T12:42:36.686Z"
   },
   {
    "duration": 28390,
    "start_time": "2022-10-01T12:42:39.021Z"
   },
   {
    "duration": 29717,
    "start_time": "2022-10-01T12:51:21.274Z"
   },
   {
    "duration": 231,
    "start_time": "2022-10-01T12:52:04.151Z"
   },
   {
    "duration": 608,
    "start_time": "2022-10-01T12:52:25.520Z"
   },
   {
    "duration": 217,
    "start_time": "2022-10-01T12:52:35.280Z"
   },
   {
    "duration": 26119,
    "start_time": "2022-10-01T13:18:11.408Z"
   },
   {
    "duration": 137,
    "start_time": "2022-10-01T13:18:40.110Z"
   },
   {
    "duration": 26072,
    "start_time": "2022-10-01T13:27:07.804Z"
   },
   {
    "duration": 137,
    "start_time": "2022-10-01T13:27:39.219Z"
   },
   {
    "duration": 35,
    "start_time": "2022-10-01T13:31:05.381Z"
   },
   {
    "duration": 1464,
    "start_time": "2022-10-01T13:37:20.855Z"
   },
   {
    "duration": 1391,
    "start_time": "2022-10-01T13:38:06.788Z"
   },
   {
    "duration": 1320,
    "start_time": "2022-10-01T13:38:12.929Z"
   },
   {
    "duration": 1582,
    "start_time": "2022-10-01T13:50:14.305Z"
   },
   {
    "duration": 1007,
    "start_time": "2022-10-01T13:50:15.889Z"
   },
   {
    "duration": 982,
    "start_time": "2022-10-01T13:50:16.898Z"
   },
   {
    "duration": 29,
    "start_time": "2022-10-01T13:50:17.882Z"
   },
   {
    "duration": 1058,
    "start_time": "2022-10-01T13:50:17.914Z"
   },
   {
    "duration": 97,
    "start_time": "2022-10-01T13:50:18.973Z"
   },
   {
    "duration": 1188,
    "start_time": "2022-10-01T13:50:19.072Z"
   },
   {
    "duration": 201,
    "start_time": "2022-10-01T13:50:20.262Z"
   },
   {
    "duration": 45,
    "start_time": "2022-10-01T13:50:20.465Z"
   },
   {
    "duration": 2767,
    "start_time": "2022-10-01T13:50:20.511Z"
   },
   {
    "duration": 20,
    "start_time": "2022-10-01T13:50:23.279Z"
   },
   {
    "duration": 83,
    "start_time": "2022-10-01T13:50:23.301Z"
   },
   {
    "duration": 16,
    "start_time": "2022-10-01T13:50:23.395Z"
   },
   {
    "duration": 13,
    "start_time": "2022-10-01T13:50:23.415Z"
   },
   {
    "duration": 21,
    "start_time": "2022-10-01T13:50:23.430Z"
   },
   {
    "duration": 173,
    "start_time": "2022-10-01T13:50:23.453Z"
   },
   {
    "duration": 6,
    "start_time": "2022-10-01T13:50:23.628Z"
   },
   {
    "duration": 28,
    "start_time": "2022-10-01T13:50:23.635Z"
   },
   {
    "duration": 217,
    "start_time": "2022-10-01T13:50:23.665Z"
   },
   {
    "duration": 22,
    "start_time": "2022-10-01T13:50:23.883Z"
   },
   {
    "duration": 70,
    "start_time": "2022-10-01T13:50:23.906Z"
   },
   {
    "duration": 83,
    "start_time": "2022-10-01T13:50:23.978Z"
   },
   {
    "duration": 349,
    "start_time": "2022-10-01T13:50:24.062Z"
   },
   {
    "duration": 6,
    "start_time": "2022-10-01T13:50:24.413Z"
   },
   {
    "duration": 78,
    "start_time": "2022-10-01T13:50:24.420Z"
   },
   {
    "duration": 372,
    "start_time": "2022-10-01T13:50:24.500Z"
   },
   {
    "duration": 340,
    "start_time": "2022-10-01T13:50:24.874Z"
   },
   {
    "duration": 115,
    "start_time": "2022-10-01T13:50:25.216Z"
   },
   {
    "duration": 72,
    "start_time": "2022-10-01T13:50:25.333Z"
   },
   {
    "duration": 26,
    "start_time": "2022-10-01T13:50:25.411Z"
   },
   {
    "duration": 18,
    "start_time": "2022-10-01T13:50:25.438Z"
   },
   {
    "duration": 733,
    "start_time": "2022-10-01T13:50:25.458Z"
   },
   {
    "duration": 214,
    "start_time": "2022-10-01T13:50:26.195Z"
   },
   {
    "duration": 602,
    "start_time": "2022-10-01T13:50:26.411Z"
   },
   {
    "duration": 11,
    "start_time": "2022-10-01T13:50:27.015Z"
   },
   {
    "duration": 5,
    "start_time": "2022-10-01T13:50:27.028Z"
   },
   {
    "duration": 624,
    "start_time": "2022-10-01T13:50:27.035Z"
   },
   {
    "duration": 123,
    "start_time": "2022-10-01T13:50:27.661Z"
   },
   {
    "duration": 85,
    "start_time": "2022-10-01T13:50:27.786Z"
   },
   {
    "duration": 13,
    "start_time": "2022-10-01T13:50:27.872Z"
   },
   {
    "duration": 20,
    "start_time": "2022-10-01T13:50:27.896Z"
   },
   {
    "duration": 5,
    "start_time": "2022-10-01T13:50:27.917Z"
   },
   {
    "duration": 10,
    "start_time": "2022-10-01T13:50:27.924Z"
   },
   {
    "duration": 27364,
    "start_time": "2022-10-01T13:50:27.935Z"
   },
   {
    "duration": 5,
    "start_time": "2022-10-01T13:50:55.307Z"
   },
   {
    "duration": 2550,
    "start_time": "2022-10-01T13:50:55.314Z"
   },
   {
    "duration": 31430,
    "start_time": "2022-10-01T13:50:57.865Z"
   },
   {
    "duration": 2237,
    "start_time": "2022-10-01T13:51:29.297Z"
   },
   {
    "duration": 3,
    "start_time": "2022-10-01T13:51:31.536Z"
   },
   {
    "duration": 25753,
    "start_time": "2022-10-01T13:51:31.542Z"
   },
   {
    "duration": 159,
    "start_time": "2022-10-01T13:51:57.297Z"
   },
   {
    "duration": 1581,
    "start_time": "2022-10-01T14:06:55.760Z"
   },
   {
    "duration": 923,
    "start_time": "2022-10-01T14:06:57.343Z"
   },
   {
    "duration": 894,
    "start_time": "2022-10-01T14:06:58.268Z"
   },
   {
    "duration": 19,
    "start_time": "2022-10-01T14:06:59.165Z"
   },
   {
    "duration": 999,
    "start_time": "2022-10-01T14:06:59.201Z"
   },
   {
    "duration": 81,
    "start_time": "2022-10-01T14:07:00.210Z"
   },
   {
    "duration": 1093,
    "start_time": "2022-10-01T14:07:00.293Z"
   },
   {
    "duration": 179,
    "start_time": "2022-10-01T14:07:01.388Z"
   },
   {
    "duration": 48,
    "start_time": "2022-10-01T14:07:01.568Z"
   },
   {
    "duration": 2669,
    "start_time": "2022-10-01T14:07:01.619Z"
   },
   {
    "duration": 15,
    "start_time": "2022-10-01T14:07:04.297Z"
   },
   {
    "duration": 97,
    "start_time": "2022-10-01T14:07:04.313Z"
   },
   {
    "duration": 13,
    "start_time": "2022-10-01T14:07:04.412Z"
   },
   {
    "duration": 10,
    "start_time": "2022-10-01T14:07:04.426Z"
   },
   {
    "duration": 20,
    "start_time": "2022-10-01T14:07:04.438Z"
   },
   {
    "duration": 156,
    "start_time": "2022-10-01T14:07:04.460Z"
   },
   {
    "duration": 6,
    "start_time": "2022-10-01T14:07:04.618Z"
   },
   {
    "duration": 24,
    "start_time": "2022-10-01T14:07:04.626Z"
   },
   {
    "duration": 227,
    "start_time": "2022-10-01T14:07:04.651Z"
   },
   {
    "duration": 19,
    "start_time": "2022-10-01T14:07:04.879Z"
   },
   {
    "duration": 61,
    "start_time": "2022-10-01T14:07:04.900Z"
   },
   {
    "duration": 87,
    "start_time": "2022-10-01T14:07:04.963Z"
   },
   {
    "duration": 319,
    "start_time": "2022-10-01T14:07:05.052Z"
   },
   {
    "duration": 5,
    "start_time": "2022-10-01T14:07:05.373Z"
   },
   {
    "duration": 82,
    "start_time": "2022-10-01T14:07:05.380Z"
   },
   {
    "duration": 364,
    "start_time": "2022-10-01T14:07:05.465Z"
   },
   {
    "duration": 334,
    "start_time": "2022-10-01T14:07:05.831Z"
   },
   {
    "duration": 113,
    "start_time": "2022-10-01T14:07:06.169Z"
   },
   {
    "duration": 69,
    "start_time": "2022-10-01T14:07:06.284Z"
   },
   {
    "duration": 24,
    "start_time": "2022-10-01T14:07:06.354Z"
   },
   {
    "duration": 33,
    "start_time": "2022-10-01T14:07:06.379Z"
   },
   {
    "duration": 802,
    "start_time": "2022-10-01T14:07:06.415Z"
   },
   {
    "duration": 210,
    "start_time": "2022-10-01T14:07:07.219Z"
   },
   {
    "duration": 526,
    "start_time": "2022-10-01T14:07:07.430Z"
   },
   {
    "duration": 11,
    "start_time": "2022-10-01T14:07:07.958Z"
   },
   {
    "duration": 16,
    "start_time": "2022-10-01T14:07:07.971Z"
   },
   {
    "duration": 594,
    "start_time": "2022-10-01T14:07:07.994Z"
   },
   {
    "duration": 122,
    "start_time": "2022-10-01T14:07:08.589Z"
   },
   {
    "duration": 67,
    "start_time": "2022-10-01T14:07:08.713Z"
   },
   {
    "duration": 22,
    "start_time": "2022-10-01T14:07:08.782Z"
   },
   {
    "duration": 12,
    "start_time": "2022-10-01T14:07:08.812Z"
   },
   {
    "duration": 5,
    "start_time": "2022-10-01T14:07:08.825Z"
   },
   {
    "duration": 7,
    "start_time": "2022-10-01T14:07:08.832Z"
   },
   {
    "duration": 28252,
    "start_time": "2022-10-01T14:07:08.841Z"
   },
   {
    "duration": 150257,
    "start_time": "2022-10-01T14:07:37.096Z"
   },
   {
    "duration": 2658,
    "start_time": "2022-10-01T14:10:07.355Z"
   },
   {
    "duration": 223,
    "start_time": "2022-10-01T14:10:10.015Z"
   },
   {
    "duration": 79,
    "start_time": "2022-10-01T14:10:10.240Z"
   },
   {
    "duration": 3,
    "start_time": "2022-10-01T14:10:10.321Z"
   },
   {
    "duration": 26405,
    "start_time": "2022-10-01T14:10:10.326Z"
   },
   {
    "duration": 198,
    "start_time": "2022-10-01T14:10:36.733Z"
   },
   {
    "duration": 1478,
    "start_time": "2022-10-01T14:18:56.243Z"
   },
   {
    "duration": 879,
    "start_time": "2022-10-01T14:18:57.723Z"
   },
   {
    "duration": 923,
    "start_time": "2022-10-01T14:18:58.604Z"
   },
   {
    "duration": 18,
    "start_time": "2022-10-01T14:18:59.530Z"
   },
   {
    "duration": 1055,
    "start_time": "2022-10-01T14:18:59.550Z"
   },
   {
    "duration": 88,
    "start_time": "2022-10-01T14:19:00.607Z"
   },
   {
    "duration": 1130,
    "start_time": "2022-10-01T14:19:00.697Z"
   },
   {
    "duration": 182,
    "start_time": "2022-10-01T14:19:01.828Z"
   },
   {
    "duration": 37,
    "start_time": "2022-10-01T14:19:02.012Z"
   },
   {
    "duration": 2551,
    "start_time": "2022-10-01T14:19:02.052Z"
   },
   {
    "duration": 11,
    "start_time": "2022-10-01T14:19:04.605Z"
   },
   {
    "duration": 99,
    "start_time": "2022-10-01T14:19:04.618Z"
   },
   {
    "duration": 14,
    "start_time": "2022-10-01T14:19:04.719Z"
   },
   {
    "duration": 25,
    "start_time": "2022-10-01T14:19:04.735Z"
   },
   {
    "duration": 37,
    "start_time": "2022-10-01T14:19:04.763Z"
   },
   {
    "duration": 146,
    "start_time": "2022-10-01T14:19:04.802Z"
   },
   {
    "duration": 7,
    "start_time": "2022-10-01T14:19:04.949Z"
   },
   {
    "duration": 40,
    "start_time": "2022-10-01T14:19:04.957Z"
   },
   {
    "duration": 203,
    "start_time": "2022-10-01T14:19:04.999Z"
   },
   {
    "duration": 13,
    "start_time": "2022-10-01T14:19:05.204Z"
   },
   {
    "duration": 85,
    "start_time": "2022-10-01T14:19:05.219Z"
   },
   {
    "duration": 90,
    "start_time": "2022-10-01T14:19:05.306Z"
   },
   {
    "duration": 304,
    "start_time": "2022-10-01T14:19:05.398Z"
   },
   {
    "duration": 6,
    "start_time": "2022-10-01T14:19:05.704Z"
   },
   {
    "duration": 92,
    "start_time": "2022-10-01T14:19:05.712Z"
   },
   {
    "duration": 316,
    "start_time": "2022-10-01T14:19:05.806Z"
   },
   {
    "duration": 331,
    "start_time": "2022-10-01T14:19:06.124Z"
   },
   {
    "duration": 120,
    "start_time": "2022-10-01T14:19:06.459Z"
   },
   {
    "duration": 78,
    "start_time": "2022-10-01T14:19:06.582Z"
   },
   {
    "duration": 47,
    "start_time": "2022-10-01T14:19:06.662Z"
   },
   {
    "duration": 20,
    "start_time": "2022-10-01T14:19:06.712Z"
   },
   {
    "duration": 816,
    "start_time": "2022-10-01T14:19:06.734Z"
   },
   {
    "duration": 219,
    "start_time": "2022-10-01T14:19:07.552Z"
   },
   {
    "duration": 490,
    "start_time": "2022-10-01T14:19:07.773Z"
   },
   {
    "duration": 12,
    "start_time": "2022-10-01T14:19:08.264Z"
   },
   {
    "duration": 19,
    "start_time": "2022-10-01T14:19:08.278Z"
   },
   {
    "duration": 620,
    "start_time": "2022-10-01T14:19:08.298Z"
   },
   {
    "duration": 133,
    "start_time": "2022-10-01T14:19:08.919Z"
   },
   {
    "duration": 77,
    "start_time": "2022-10-01T14:19:09.054Z"
   },
   {
    "duration": 13,
    "start_time": "2022-10-01T14:19:09.133Z"
   },
   {
    "duration": 15,
    "start_time": "2022-10-01T14:19:09.148Z"
   },
   {
    "duration": 5,
    "start_time": "2022-10-01T14:19:09.165Z"
   },
   {
    "duration": 25,
    "start_time": "2022-10-01T14:19:09.172Z"
   },
   {
    "duration": 28561,
    "start_time": "2022-10-01T14:19:09.199Z"
   },
   {
    "duration": 241804,
    "start_time": "2022-10-01T14:19:37.762Z"
   },
   {
    "duration": 2601,
    "start_time": "2022-10-01T14:23:39.568Z"
   },
   {
    "duration": 37850,
    "start_time": "2022-10-01T14:23:42.171Z"
   },
   {
    "duration": 2213,
    "start_time": "2022-10-01T14:24:20.027Z"
   },
   {
    "duration": 3,
    "start_time": "2022-10-01T14:24:22.241Z"
   },
   {
    "duration": 28027,
    "start_time": "2022-10-01T14:24:22.247Z"
   },
   {
    "duration": 163,
    "start_time": "2022-10-01T14:24:50.276Z"
   },
   {
    "duration": 1248,
    "start_time": "2022-10-01T14:24:50.441Z"
   },
   {
    "duration": 1022,
    "start_time": "2022-10-01T14:25:20.741Z"
   },
   {
    "duration": 1568,
    "start_time": "2022-10-01T14:48:59.824Z"
   },
   {
    "duration": 973,
    "start_time": "2022-10-01T14:49:01.394Z"
   },
   {
    "duration": 999,
    "start_time": "2022-10-01T14:49:02.369Z"
   },
   {
    "duration": 15,
    "start_time": "2022-10-01T14:49:03.370Z"
   },
   {
    "duration": 1056,
    "start_time": "2022-10-01T14:49:03.400Z"
   },
   {
    "duration": 94,
    "start_time": "2022-10-01T14:49:04.458Z"
   },
   {
    "duration": 1177,
    "start_time": "2022-10-01T14:49:04.554Z"
   },
   {
    "duration": 203,
    "start_time": "2022-10-01T14:49:05.734Z"
   },
   {
    "duration": 32,
    "start_time": "2022-10-01T14:49:05.938Z"
   },
   {
    "duration": 2866,
    "start_time": "2022-10-01T14:49:05.973Z"
   },
   {
    "duration": 10,
    "start_time": "2022-10-01T14:49:08.841Z"
   },
   {
    "duration": 104,
    "start_time": "2022-10-01T14:49:08.853Z"
   },
   {
    "duration": 13,
    "start_time": "2022-10-01T14:49:08.959Z"
   },
   {
    "duration": 42,
    "start_time": "2022-10-01T14:49:08.973Z"
   },
   {
    "duration": 20,
    "start_time": "2022-10-01T14:49:09.023Z"
   },
   {
    "duration": 136,
    "start_time": "2022-10-01T14:49:09.045Z"
   },
   {
    "duration": 27,
    "start_time": "2022-10-01T14:49:09.183Z"
   },
   {
    "duration": 26,
    "start_time": "2022-10-01T14:49:09.216Z"
   },
   {
    "duration": 203,
    "start_time": "2022-10-01T14:49:09.243Z"
   },
   {
    "duration": 13,
    "start_time": "2022-10-01T14:49:09.448Z"
   },
   {
    "duration": 84,
    "start_time": "2022-10-01T14:49:09.463Z"
   },
   {
    "duration": 79,
    "start_time": "2022-10-01T14:49:09.548Z"
   },
   {
    "duration": 342,
    "start_time": "2022-10-01T14:49:09.629Z"
   },
   {
    "duration": 6,
    "start_time": "2022-10-01T14:49:09.972Z"
   },
   {
    "duration": 89,
    "start_time": "2022-10-01T14:49:09.980Z"
   },
   {
    "duration": 379,
    "start_time": "2022-10-01T14:49:10.070Z"
   },
   {
    "duration": 368,
    "start_time": "2022-10-01T14:49:10.451Z"
   },
   {
    "duration": 110,
    "start_time": "2022-10-01T14:49:10.823Z"
   },
   {
    "duration": 89,
    "start_time": "2022-10-01T14:49:10.935Z"
   },
   {
    "duration": 26,
    "start_time": "2022-10-01T14:49:11.026Z"
   },
   {
    "duration": 18,
    "start_time": "2022-10-01T14:49:11.054Z"
   },
   {
    "duration": 844,
    "start_time": "2022-10-01T14:49:11.074Z"
   },
   {
    "duration": 208,
    "start_time": "2022-10-01T14:49:11.920Z"
   },
   {
    "duration": 538,
    "start_time": "2022-10-01T14:49:12.129Z"
   },
   {
    "duration": 10,
    "start_time": "2022-10-01T14:49:12.669Z"
   },
   {
    "duration": 20,
    "start_time": "2022-10-01T14:49:12.681Z"
   },
   {
    "duration": 626,
    "start_time": "2022-10-01T14:49:12.707Z"
   },
   {
    "duration": 117,
    "start_time": "2022-10-01T14:49:13.335Z"
   },
   {
    "duration": 93,
    "start_time": "2022-10-01T14:49:13.454Z"
   },
   {
    "duration": 13,
    "start_time": "2022-10-01T14:49:13.549Z"
   },
   {
    "duration": 12,
    "start_time": "2022-10-01T14:49:13.564Z"
   },
   {
    "duration": 12,
    "start_time": "2022-10-01T14:49:13.599Z"
   },
   {
    "duration": 16,
    "start_time": "2022-10-01T14:49:13.613Z"
   },
   {
    "duration": 29480,
    "start_time": "2022-10-01T14:49:13.631Z"
   },
   {
    "duration": 160102,
    "start_time": "2022-10-01T14:49:43.118Z"
   },
   {
    "duration": 2576,
    "start_time": "2022-10-01T14:52:23.222Z"
   },
   {
    "duration": 36925,
    "start_time": "2022-10-01T14:52:25.806Z"
   },
   {
    "duration": 2202,
    "start_time": "2022-10-01T14:53:02.740Z"
   },
   {
    "duration": 3,
    "start_time": "2022-10-01T14:53:04.944Z"
   },
   {
    "duration": 28413,
    "start_time": "2022-10-01T14:53:04.949Z"
   },
   {
    "duration": 161,
    "start_time": "2022-10-01T14:53:33.364Z"
   },
   {
    "duration": 219,
    "start_time": "2022-10-01T14:53:33.528Z"
   },
   {
    "duration": 100,
    "start_time": "2022-10-01T14:56:54.526Z"
   },
   {
    "duration": 152,
    "start_time": "2022-10-01T14:58:07.285Z"
   },
   {
    "duration": 142,
    "start_time": "2022-10-01T14:58:22.495Z"
   },
   {
    "duration": 138,
    "start_time": "2022-10-01T14:58:42.424Z"
   },
   {
    "duration": 146,
    "start_time": "2022-10-01T14:58:52.895Z"
   },
   {
    "duration": 2985,
    "start_time": "2022-10-01T15:07:42.415Z"
   },
   {
    "duration": 2614,
    "start_time": "2022-10-01T15:07:45.403Z"
   },
   {
    "duration": 1261,
    "start_time": "2022-10-01T15:07:48.019Z"
   },
   {
    "duration": 27,
    "start_time": "2022-10-01T15:07:49.282Z"
   },
   {
    "duration": 2515,
    "start_time": "2022-10-01T15:07:49.311Z"
   },
   {
    "duration": 92,
    "start_time": "2022-10-01T15:07:51.828Z"
   },
   {
    "duration": 1297,
    "start_time": "2022-10-01T15:07:51.922Z"
   },
   {
    "duration": 208,
    "start_time": "2022-10-01T15:07:53.221Z"
   },
   {
    "duration": 40,
    "start_time": "2022-10-01T15:07:53.431Z"
   },
   {
    "duration": 3066,
    "start_time": "2022-10-01T15:07:53.473Z"
   },
   {
    "duration": 15,
    "start_time": "2022-10-01T15:07:56.541Z"
   },
   {
    "duration": 130,
    "start_time": "2022-10-01T15:07:56.558Z"
   },
   {
    "duration": 22,
    "start_time": "2022-10-01T15:07:56.690Z"
   },
   {
    "duration": 41,
    "start_time": "2022-10-01T15:07:56.716Z"
   },
   {
    "duration": 32,
    "start_time": "2022-10-01T15:07:56.759Z"
   },
   {
    "duration": 180,
    "start_time": "2022-10-01T15:07:56.794Z"
   },
   {
    "duration": 7,
    "start_time": "2022-10-01T15:07:56.975Z"
   },
   {
    "duration": 52,
    "start_time": "2022-10-01T15:07:56.983Z"
   },
   {
    "duration": 233,
    "start_time": "2022-10-01T15:07:57.036Z"
   },
   {
    "duration": 12,
    "start_time": "2022-10-01T15:07:57.270Z"
   },
   {
    "duration": 92,
    "start_time": "2022-10-01T15:07:57.284Z"
   },
   {
    "duration": 83,
    "start_time": "2022-10-01T15:07:57.377Z"
   },
   {
    "duration": 394,
    "start_time": "2022-10-01T15:07:57.462Z"
   },
   {
    "duration": 6,
    "start_time": "2022-10-01T15:07:57.857Z"
   },
   {
    "duration": 104,
    "start_time": "2022-10-01T15:07:57.865Z"
   },
   {
    "duration": 413,
    "start_time": "2022-10-01T15:07:57.971Z"
   },
   {
    "duration": 392,
    "start_time": "2022-10-01T15:07:58.385Z"
   },
   {
    "duration": 137,
    "start_time": "2022-10-01T15:07:58.779Z"
   },
   {
    "duration": 91,
    "start_time": "2022-10-01T15:07:58.918Z"
   },
   {
    "duration": 40,
    "start_time": "2022-10-01T15:07:59.011Z"
   },
   {
    "duration": 23,
    "start_time": "2022-10-01T15:07:59.053Z"
   },
   {
    "duration": 2071,
    "start_time": "2022-10-01T15:07:59.078Z"
   },
   {
    "duration": 569,
    "start_time": "2022-10-01T15:08:01.150Z"
   },
   {
    "duration": 689,
    "start_time": "2022-10-01T15:08:01.720Z"
   },
   {
    "duration": 24,
    "start_time": "2022-10-01T15:08:02.412Z"
   },
   {
    "duration": 12,
    "start_time": "2022-10-01T15:08:02.438Z"
   },
   {
    "duration": 654,
    "start_time": "2022-10-01T15:08:02.452Z"
   },
   {
    "duration": 127,
    "start_time": "2022-10-01T15:08:03.108Z"
   },
   {
    "duration": 104,
    "start_time": "2022-10-01T15:08:03.240Z"
   },
   {
    "duration": 14,
    "start_time": "2022-10-01T15:08:03.346Z"
   },
   {
    "duration": 12,
    "start_time": "2022-10-01T15:08:03.364Z"
   },
   {
    "duration": 28,
    "start_time": "2022-10-01T15:08:03.378Z"
   },
   {
    "duration": 43,
    "start_time": "2022-10-01T15:08:03.408Z"
   },
   {
    "duration": 33308,
    "start_time": "2022-10-01T15:08:03.453Z"
   },
   {
    "duration": 169493,
    "start_time": "2022-10-01T15:08:36.763Z"
   },
   {
    "duration": 2576,
    "start_time": "2022-10-01T15:11:26.258Z"
   },
   {
    "duration": 37269,
    "start_time": "2022-10-01T15:11:28.836Z"
   },
   {
    "duration": 2134,
    "start_time": "2022-10-01T15:12:06.109Z"
   },
   {
    "duration": 3,
    "start_time": "2022-10-01T15:12:08.245Z"
   },
   {
    "duration": 820,
    "start_time": "2022-10-01T15:12:08.250Z"
   },
   {
    "duration": 0,
    "start_time": "2022-10-01T15:12:09.071Z"
   },
   {
    "duration": 0,
    "start_time": "2022-10-01T15:12:09.073Z"
   },
   {
    "duration": 0,
    "start_time": "2022-10-01T15:12:09.074Z"
   },
   {
    "duration": 1601,
    "start_time": "2022-10-01T15:20:21.323Z"
   },
   {
    "duration": 912,
    "start_time": "2022-10-01T15:20:22.929Z"
   },
   {
    "duration": 923,
    "start_time": "2022-10-01T15:20:23.843Z"
   },
   {
    "duration": 15,
    "start_time": "2022-10-01T15:20:24.767Z"
   },
   {
    "duration": 1069,
    "start_time": "2022-10-01T15:20:24.784Z"
   },
   {
    "duration": 102,
    "start_time": "2022-10-01T15:20:25.855Z"
   },
   {
    "duration": 1094,
    "start_time": "2022-10-01T15:20:25.958Z"
   },
   {
    "duration": 185,
    "start_time": "2022-10-01T15:20:27.053Z"
   },
   {
    "duration": 32,
    "start_time": "2022-10-01T15:20:27.239Z"
   },
   {
    "duration": 2676,
    "start_time": "2022-10-01T15:20:27.272Z"
   },
   {
    "duration": 11,
    "start_time": "2022-10-01T15:20:29.951Z"
   },
   {
    "duration": 124,
    "start_time": "2022-10-01T15:20:29.964Z"
   },
   {
    "duration": 30,
    "start_time": "2022-10-01T15:20:30.089Z"
   },
   {
    "duration": 22,
    "start_time": "2022-10-01T15:20:30.126Z"
   },
   {
    "duration": 30,
    "start_time": "2022-10-01T15:20:30.150Z"
   },
   {
    "duration": 151,
    "start_time": "2022-10-01T15:20:30.183Z"
   },
   {
    "duration": 7,
    "start_time": "2022-10-01T15:20:30.339Z"
   },
   {
    "duration": 28,
    "start_time": "2022-10-01T15:20:30.348Z"
   },
   {
    "duration": 199,
    "start_time": "2022-10-01T15:20:30.377Z"
   },
   {
    "duration": 33,
    "start_time": "2022-10-01T15:20:30.577Z"
   },
   {
    "duration": 62,
    "start_time": "2022-10-01T15:20:30.616Z"
   },
   {
    "duration": 78,
    "start_time": "2022-10-01T15:20:30.679Z"
   },
   {
    "duration": 357,
    "start_time": "2022-10-01T15:20:30.758Z"
   },
   {
    "duration": 7,
    "start_time": "2022-10-01T15:20:31.124Z"
   },
   {
    "duration": 121,
    "start_time": "2022-10-01T15:20:31.132Z"
   },
   {
    "duration": 389,
    "start_time": "2022-10-01T15:20:31.255Z"
   },
   {
    "duration": 357,
    "start_time": "2022-10-01T15:20:31.645Z"
   },
   {
    "duration": 105,
    "start_time": "2022-10-01T15:20:32.004Z"
   },
   {
    "duration": 63,
    "start_time": "2022-10-01T15:20:32.110Z"
   },
   {
    "duration": 39,
    "start_time": "2022-10-01T15:20:32.174Z"
   },
   {
    "duration": 31,
    "start_time": "2022-10-01T15:20:32.216Z"
   },
   {
    "duration": 691,
    "start_time": "2022-10-01T15:20:32.249Z"
   },
   {
    "duration": 217,
    "start_time": "2022-10-01T15:20:32.942Z"
   },
   {
    "duration": 520,
    "start_time": "2022-10-01T15:20:33.161Z"
   },
   {
    "duration": 15,
    "start_time": "2022-10-01T15:20:33.682Z"
   },
   {
    "duration": 21,
    "start_time": "2022-10-01T15:20:33.699Z"
   },
   {
    "duration": 637,
    "start_time": "2022-10-01T15:20:33.722Z"
   },
   {
    "duration": 120,
    "start_time": "2022-10-01T15:20:34.361Z"
   },
   {
    "duration": 76,
    "start_time": "2022-10-01T15:20:34.482Z"
   },
   {
    "duration": 13,
    "start_time": "2022-10-01T15:20:34.560Z"
   },
   {
    "duration": 42,
    "start_time": "2022-10-01T15:20:34.577Z"
   },
   {
    "duration": 7,
    "start_time": "2022-10-01T15:20:34.624Z"
   },
   {
    "duration": 32,
    "start_time": "2022-10-01T15:20:34.633Z"
   },
   {
    "duration": 7,
    "start_time": "2022-10-01T15:20:34.667Z"
   },
   {
    "duration": 5,
    "start_time": "2022-10-01T15:20:34.676Z"
   },
   {
    "duration": 2486,
    "start_time": "2022-10-01T15:20:34.683Z"
   },
   {
    "duration": 40458,
    "start_time": "2022-10-01T15:20:37.171Z"
   },
   {
    "duration": 2131,
    "start_time": "2022-10-01T15:21:17.706Z"
   },
   {
    "duration": 3,
    "start_time": "2022-10-01T15:21:19.839Z"
   },
   {
    "duration": 28894,
    "start_time": "2022-10-01T15:21:19.843Z"
   },
   {
    "duration": 158,
    "start_time": "2022-10-01T15:21:48.738Z"
   },
   {
    "duration": 3,
    "start_time": "2022-10-01T15:21:48.897Z"
   },
   {
    "duration": 4,
    "start_time": "2022-10-01T15:23:04.885Z"
   },
   {
    "duration": 138,
    "start_time": "2022-10-01T15:23:09.813Z"
   },
   {
    "duration": 96,
    "start_time": "2022-10-01T15:24:21.736Z"
   },
   {
    "duration": 4,
    "start_time": "2022-10-01T15:24:30.147Z"
   },
   {
    "duration": 2220,
    "start_time": "2022-10-01T15:24:32.685Z"
   },
   {
    "duration": 1711,
    "start_time": "2022-10-01T15:27:01.328Z"
   },
   {
    "duration": 999,
    "start_time": "2022-10-01T15:27:03.042Z"
   },
   {
    "duration": 949,
    "start_time": "2022-10-01T15:27:04.043Z"
   },
   {
    "duration": 26,
    "start_time": "2022-10-01T15:27:04.995Z"
   },
   {
    "duration": 1111,
    "start_time": "2022-10-01T15:27:05.024Z"
   },
   {
    "duration": 100,
    "start_time": "2022-10-01T15:27:06.137Z"
   },
   {
    "duration": 1171,
    "start_time": "2022-10-01T15:27:06.238Z"
   },
   {
    "duration": 192,
    "start_time": "2022-10-01T15:27:07.411Z"
   },
   {
    "duration": 42,
    "start_time": "2022-10-01T15:27:07.605Z"
   },
   {
    "duration": 2794,
    "start_time": "2022-10-01T15:27:07.649Z"
   },
   {
    "duration": 10,
    "start_time": "2022-10-01T15:27:10.445Z"
   },
   {
    "duration": 102,
    "start_time": "2022-10-01T15:27:10.457Z"
   },
   {
    "duration": 12,
    "start_time": "2022-10-01T15:27:10.561Z"
   },
   {
    "duration": 33,
    "start_time": "2022-10-01T15:27:10.576Z"
   },
   {
    "duration": 25,
    "start_time": "2022-10-01T15:27:10.611Z"
   },
   {
    "duration": 134,
    "start_time": "2022-10-01T15:27:10.638Z"
   },
   {
    "duration": 7,
    "start_time": "2022-10-01T15:27:10.773Z"
   },
   {
    "duration": 55,
    "start_time": "2022-10-01T15:27:10.781Z"
   },
   {
    "duration": 195,
    "start_time": "2022-10-01T15:27:10.839Z"
   },
   {
    "duration": 13,
    "start_time": "2022-10-01T15:27:11.035Z"
   },
   {
    "duration": 83,
    "start_time": "2022-10-01T15:27:11.050Z"
   },
   {
    "duration": 93,
    "start_time": "2022-10-01T15:27:11.135Z"
   },
   {
    "duration": 344,
    "start_time": "2022-10-01T15:27:11.230Z"
   },
   {
    "duration": 6,
    "start_time": "2022-10-01T15:27:11.576Z"
   },
   {
    "duration": 126,
    "start_time": "2022-10-01T15:27:11.597Z"
   },
   {
    "duration": 392,
    "start_time": "2022-10-01T15:27:11.725Z"
   },
   {
    "duration": 361,
    "start_time": "2022-10-01T15:27:12.118Z"
   },
   {
    "duration": 111,
    "start_time": "2022-10-01T15:27:12.481Z"
   },
   {
    "duration": 71,
    "start_time": "2022-10-01T15:27:12.600Z"
   },
   {
    "duration": 37,
    "start_time": "2022-10-01T15:27:12.672Z"
   },
   {
    "duration": 18,
    "start_time": "2022-10-01T15:27:12.713Z"
   },
   {
    "duration": 732,
    "start_time": "2022-10-01T15:27:12.733Z"
   },
   {
    "duration": 211,
    "start_time": "2022-10-01T15:27:13.467Z"
   },
   {
    "duration": 544,
    "start_time": "2022-10-01T15:27:13.680Z"
   },
   {
    "duration": 13,
    "start_time": "2022-10-01T15:27:14.225Z"
   },
   {
    "duration": 7,
    "start_time": "2022-10-01T15:27:14.239Z"
   },
   {
    "duration": 605,
    "start_time": "2022-10-01T15:27:14.247Z"
   },
   {
    "duration": 116,
    "start_time": "2022-10-01T15:27:14.854Z"
   },
   {
    "duration": 87,
    "start_time": "2022-10-01T15:27:14.972Z"
   },
   {
    "duration": 12,
    "start_time": "2022-10-01T15:27:15.060Z"
   },
   {
    "duration": 20,
    "start_time": "2022-10-01T15:27:15.076Z"
   },
   {
    "duration": 33,
    "start_time": "2022-10-01T15:27:15.097Z"
   },
   {
    "duration": 6,
    "start_time": "2022-10-01T15:27:15.132Z"
   },
   {
    "duration": 9,
    "start_time": "2022-10-01T15:27:15.140Z"
   },
   {
    "duration": 6,
    "start_time": "2022-10-01T15:27:15.151Z"
   },
   {
    "duration": 2633,
    "start_time": "2022-10-01T15:27:15.159Z"
   },
   {
    "duration": 5,
    "start_time": "2022-10-01T15:27:17.801Z"
   },
   {
    "duration": 2249,
    "start_time": "2022-10-01T15:27:17.807Z"
   },
   {
    "duration": 2,
    "start_time": "2022-10-01T15:27:20.058Z"
   },
   {
    "duration": 28096,
    "start_time": "2022-10-01T15:27:20.062Z"
   },
   {
    "duration": 169,
    "start_time": "2022-10-01T15:27:48.159Z"
   },
   {
    "duration": 3,
    "start_time": "2022-10-01T15:27:48.330Z"
   },
   {
    "duration": 7,
    "start_time": "2022-10-01T15:27:48.334Z"
   },
   {
    "duration": 5,
    "start_time": "2022-10-01T15:27:48.342Z"
   },
   {
    "duration": 1522,
    "start_time": "2022-10-01T15:28:31.125Z"
   },
   {
    "duration": 949,
    "start_time": "2022-10-01T15:28:32.649Z"
   },
   {
    "duration": 958,
    "start_time": "2022-10-01T15:28:33.599Z"
   },
   {
    "duration": 19,
    "start_time": "2022-10-01T15:28:34.559Z"
   },
   {
    "duration": 1012,
    "start_time": "2022-10-01T15:28:34.599Z"
   },
   {
    "duration": 80,
    "start_time": "2022-10-01T15:28:35.613Z"
   },
   {
    "duration": 1166,
    "start_time": "2022-10-01T15:28:35.699Z"
   },
   {
    "duration": 210,
    "start_time": "2022-10-01T15:28:36.866Z"
   },
   {
    "duration": 54,
    "start_time": "2022-10-01T15:28:37.078Z"
   },
   {
    "duration": 2794,
    "start_time": "2022-10-01T15:28:37.135Z"
   },
   {
    "duration": 11,
    "start_time": "2022-10-01T15:28:39.930Z"
   },
   {
    "duration": 112,
    "start_time": "2022-10-01T15:28:39.942Z"
   },
   {
    "duration": 14,
    "start_time": "2022-10-01T15:28:40.057Z"
   },
   {
    "duration": 42,
    "start_time": "2022-10-01T15:28:40.073Z"
   },
   {
    "duration": 37,
    "start_time": "2022-10-01T15:28:40.116Z"
   },
   {
    "duration": 156,
    "start_time": "2022-10-01T15:28:40.155Z"
   },
   {
    "duration": 9,
    "start_time": "2022-10-01T15:28:40.315Z"
   },
   {
    "duration": 38,
    "start_time": "2022-10-01T15:28:40.325Z"
   },
   {
    "duration": 196,
    "start_time": "2022-10-01T15:28:40.365Z"
   },
   {
    "duration": 13,
    "start_time": "2022-10-01T15:28:40.563Z"
   },
   {
    "duration": 81,
    "start_time": "2022-10-01T15:28:40.578Z"
   },
   {
    "duration": 95,
    "start_time": "2022-10-01T15:28:40.661Z"
   },
   {
    "duration": 360,
    "start_time": "2022-10-01T15:28:40.758Z"
   },
   {
    "duration": 8,
    "start_time": "2022-10-01T15:28:41.124Z"
   },
   {
    "duration": 98,
    "start_time": "2022-10-01T15:28:41.136Z"
   },
   {
    "duration": 368,
    "start_time": "2022-10-01T15:28:41.236Z"
   },
   {
    "duration": 352,
    "start_time": "2022-10-01T15:28:41.608Z"
   },
   {
    "duration": 117,
    "start_time": "2022-10-01T15:28:41.964Z"
   },
   {
    "duration": 78,
    "start_time": "2022-10-01T15:28:42.083Z"
   },
   {
    "duration": 45,
    "start_time": "2022-10-01T15:28:42.162Z"
   },
   {
    "duration": 19,
    "start_time": "2022-10-01T15:28:42.208Z"
   },
   {
    "duration": 630,
    "start_time": "2022-10-01T15:28:42.229Z"
   },
   {
    "duration": 220,
    "start_time": "2022-10-01T15:28:42.861Z"
   },
   {
    "duration": 584,
    "start_time": "2022-10-01T15:28:43.082Z"
   },
   {
    "duration": 26,
    "start_time": "2022-10-01T15:28:43.668Z"
   },
   {
    "duration": 8,
    "start_time": "2022-10-01T15:28:43.696Z"
   },
   {
    "duration": 635,
    "start_time": "2022-10-01T15:28:43.710Z"
   },
   {
    "duration": 127,
    "start_time": "2022-10-01T15:28:44.347Z"
   },
   {
    "duration": 92,
    "start_time": "2022-10-01T15:28:44.476Z"
   },
   {
    "duration": 13,
    "start_time": "2022-10-01T15:28:44.570Z"
   },
   {
    "duration": 27,
    "start_time": "2022-10-01T15:28:44.586Z"
   },
   {
    "duration": 16,
    "start_time": "2022-10-01T15:28:44.614Z"
   },
   {
    "duration": 6,
    "start_time": "2022-10-01T15:28:44.631Z"
   },
   {
    "duration": 7,
    "start_time": "2022-10-01T15:28:44.638Z"
   },
   {
    "duration": 9,
    "start_time": "2022-10-01T15:28:44.647Z"
   },
   {
    "duration": 2509,
    "start_time": "2022-10-01T15:28:44.658Z"
   },
   {
    "duration": 2,
    "start_time": "2022-10-01T15:28:47.170Z"
   },
   {
    "duration": 2069,
    "start_time": "2022-10-01T15:28:47.174Z"
   },
   {
    "duration": 4,
    "start_time": "2022-10-01T15:28:49.245Z"
   },
   {
    "duration": 27604,
    "start_time": "2022-10-01T15:28:49.252Z"
   },
   {
    "duration": 166,
    "start_time": "2022-10-01T15:29:16.858Z"
   },
   {
    "duration": 2,
    "start_time": "2022-10-01T15:29:17.026Z"
   },
   {
    "duration": 7,
    "start_time": "2022-10-01T15:29:17.030Z"
   },
   {
    "duration": 5,
    "start_time": "2022-10-01T15:29:17.039Z"
   },
   {
    "duration": 882,
    "start_time": "2022-10-01T15:29:17.045Z"
   },
   {
    "duration": 0,
    "start_time": "2022-10-01T15:29:17.929Z"
   },
   {
    "duration": 1349,
    "start_time": "2022-10-01T15:29:42.591Z"
   },
   {
    "duration": 4,
    "start_time": "2022-10-01T15:32:09.420Z"
   },
   {
    "duration": 9,
    "start_time": "2022-10-01T15:32:21.721Z"
   },
   {
    "duration": 30,
    "start_time": "2022-10-01T15:32:31.088Z"
   },
   {
    "duration": 6,
    "start_time": "2022-10-01T15:34:10.915Z"
   },
   {
    "duration": 23,
    "start_time": "2022-10-01T15:34:18.540Z"
   },
   {
    "duration": 23,
    "start_time": "2022-10-01T15:34:45.148Z"
   },
   {
    "duration": 52,
    "start_time": "2022-10-01T15:34:56.841Z"
   },
   {
    "duration": 313566,
    "start_time": "2022-10-01T15:35:22.635Z"
   },
   {
    "duration": 110,
    "start_time": "2022-10-01T15:41:10.083Z"
   },
   {
    "duration": 534,
    "start_time": "2022-10-01T15:41:19.089Z"
   },
   {
    "duration": 6,
    "start_time": "2022-10-01T15:41:59.605Z"
   },
   {
    "duration": 2019253,
    "start_time": "2022-10-01T15:45:22.057Z"
   },
   {
    "duration": 45097,
    "start_time": "2022-10-01T16:25:21.808Z"
   },
   {
    "duration": 103,
    "start_time": "2022-10-01T16:26:52.627Z"
   },
   {
    "duration": 434,
    "start_time": "2022-10-01T16:26:59.574Z"
   },
   {
    "duration": 435,
    "start_time": "2022-10-01T16:27:59.371Z"
   },
   {
    "duration": 473,
    "start_time": "2022-10-01T16:29:34.645Z"
   },
   {
    "duration": 900249,
    "start_time": "2022-10-01T16:36:23.593Z"
   },
   {
    "duration": 25580,
    "start_time": "2022-10-01T16:53:13.770Z"
   },
   {
    "duration": 164,
    "start_time": "2022-10-01T16:53:49.381Z"
   },
   {
    "duration": 26688,
    "start_time": "2022-10-01T16:54:23.890Z"
   },
   {
    "duration": 142502,
    "start_time": "2022-10-01T16:54:50.580Z"
   },
   {
    "duration": 522119,
    "start_time": "2022-10-01T16:57:50.161Z"
   },
   {
    "duration": 1568,
    "start_time": "2022-10-01T17:08:45.747Z"
   },
   {
    "duration": 26,
    "start_time": "2022-10-01T17:09:41.328Z"
   },
   {
    "duration": 25,
    "start_time": "2022-10-01T17:10:00.893Z"
   },
   {
    "duration": 34841,
    "start_time": "2022-10-01T17:10:50.261Z"
   },
   {
    "duration": 460,
    "start_time": "2022-10-01T17:33:39.707Z"
   },
   {
    "duration": 21,
    "start_time": "2022-10-01T17:34:39.293Z"
   },
   {
    "duration": 15,
    "start_time": "2022-10-01T17:35:30.655Z"
   },
   {
    "duration": 1236,
    "start_time": "2022-10-01T17:37:51.565Z"
   },
   {
    "duration": 22,
    "start_time": "2022-10-01T17:37:59.691Z"
   },
   {
    "duration": 119,
    "start_time": "2022-10-01T17:38:17.841Z"
   },
   {
    "duration": 404,
    "start_time": "2022-10-01T17:38:42.007Z"
   },
   {
    "duration": 123,
    "start_time": "2022-10-01T17:38:48.787Z"
   },
   {
    "duration": 15,
    "start_time": "2022-10-01T17:38:53.429Z"
   },
   {
    "duration": 427,
    "start_time": "2022-10-01T17:40:51.512Z"
   },
   {
    "duration": 18,
    "start_time": "2022-10-01T17:40:56.593Z"
   },
   {
    "duration": 27598,
    "start_time": "2022-10-01T17:42:51.355Z"
   },
   {
    "duration": 645,
    "start_time": "2022-10-01T17:46:32.212Z"
   },
   {
    "duration": 4,
    "start_time": "2022-10-01T17:49:01.732Z"
   },
   {
    "duration": 4,
    "start_time": "2022-10-01T17:51:00.147Z"
   },
   {
    "duration": 91,
    "start_time": "2022-10-01T17:51:01.287Z"
   },
   {
    "duration": 3,
    "start_time": "2022-10-01T17:51:28.790Z"
   },
   {
    "duration": 4,
    "start_time": "2022-10-01T17:51:42.084Z"
   },
   {
    "duration": 4,
    "start_time": "2022-10-01T17:51:45.781Z"
   },
   {
    "duration": 189,
    "start_time": "2022-10-01T17:51:55.619Z"
   },
   {
    "duration": 4,
    "start_time": "2022-10-01T17:52:34.661Z"
   },
   {
    "duration": 158,
    "start_time": "2022-10-01T17:52:37.292Z"
   },
   {
    "duration": 175,
    "start_time": "2022-10-01T17:54:43.733Z"
   },
   {
    "duration": 181,
    "start_time": "2022-10-01T17:55:12.486Z"
   },
   {
    "duration": 3,
    "start_time": "2022-10-01T17:55:37.454Z"
   },
   {
    "duration": 83,
    "start_time": "2022-10-01T17:55:38.079Z"
   },
   {
    "duration": 3,
    "start_time": "2022-10-01T17:55:56.886Z"
   },
   {
    "duration": 28396,
    "start_time": "2022-10-01T17:55:57.522Z"
   },
   {
    "duration": 3,
    "start_time": "2022-10-01T17:58:00.085Z"
   },
   {
    "duration": 90,
    "start_time": "2022-10-01T17:58:15.693Z"
   },
   {
    "duration": 82,
    "start_time": "2022-10-01T17:58:20.185Z"
   },
   {
    "duration": 3,
    "start_time": "2022-10-01T17:58:27.825Z"
   },
   {
    "duration": 27723,
    "start_time": "2022-10-01T17:58:31.089Z"
   },
   {
    "duration": 3,
    "start_time": "2022-10-01T17:59:13.405Z"
   },
   {
    "duration": 27320,
    "start_time": "2022-10-01T17:59:13.877Z"
   },
   {
    "duration": 28277,
    "start_time": "2022-10-01T17:59:58.201Z"
   },
   {
    "duration": 28204,
    "start_time": "2022-10-01T18:00:33.162Z"
   },
   {
    "duration": 27368,
    "start_time": "2022-10-01T18:01:40.799Z"
   },
   {
    "duration": 730,
    "start_time": "2022-10-01T18:02:08.169Z"
   },
   {
    "duration": 729,
    "start_time": "2022-10-01T18:03:24.075Z"
   },
   {
    "duration": 5,
    "start_time": "2022-10-01T18:09:56.512Z"
   },
   {
    "duration": 4,
    "start_time": "2022-10-01T18:10:09.901Z"
   },
   {
    "duration": 10,
    "start_time": "2022-10-01T18:10:22.340Z"
   },
   {
    "duration": 4,
    "start_time": "2022-10-01T18:11:06.321Z"
   },
   {
    "duration": 5,
    "start_time": "2022-10-01T18:19:07.875Z"
   },
   {
    "duration": 11,
    "start_time": "2022-10-01T18:19:13.292Z"
   },
   {
    "duration": 101,
    "start_time": "2022-10-01T18:20:00.863Z"
   },
   {
    "duration": 227,
    "start_time": "2022-10-01T18:20:06.287Z"
   },
   {
    "duration": 11,
    "start_time": "2022-10-01T18:20:11.302Z"
   },
   {
    "duration": 12,
    "start_time": "2022-10-01T18:24:41.441Z"
   },
   {
    "duration": 837,
    "start_time": "2022-10-01T18:25:45.961Z"
   },
   {
    "duration": 11,
    "start_time": "2022-10-01T18:29:32.994Z"
   },
   {
    "duration": 12,
    "start_time": "2022-10-01T18:29:39.317Z"
   },
   {
    "duration": 11,
    "start_time": "2022-10-01T18:29:44.186Z"
   },
   {
    "duration": 11,
    "start_time": "2022-10-01T18:29:54.712Z"
   },
   {
    "duration": 12,
    "start_time": "2022-10-01T18:29:58.540Z"
   },
   {
    "duration": 1382,
    "start_time": "2022-10-01T18:33:49.418Z"
   },
   {
    "duration": 831,
    "start_time": "2022-10-01T18:33:50.802Z"
   },
   {
    "duration": 837,
    "start_time": "2022-10-01T18:33:51.634Z"
   },
   {
    "duration": 14,
    "start_time": "2022-10-01T18:33:52.473Z"
   },
   {
    "duration": 978,
    "start_time": "2022-10-01T18:33:52.496Z"
   },
   {
    "duration": 88,
    "start_time": "2022-10-01T18:33:53.476Z"
   },
   {
    "duration": 1019,
    "start_time": "2022-10-01T18:33:53.566Z"
   },
   {
    "duration": 186,
    "start_time": "2022-10-01T18:33:54.587Z"
   },
   {
    "duration": 37,
    "start_time": "2022-10-01T18:33:54.775Z"
   },
   {
    "duration": 2387,
    "start_time": "2022-10-01T18:33:54.815Z"
   },
   {
    "duration": 9,
    "start_time": "2022-10-01T18:33:57.203Z"
   },
   {
    "duration": 90,
    "start_time": "2022-10-01T18:33:57.214Z"
   },
   {
    "duration": 13,
    "start_time": "2022-10-01T18:33:57.305Z"
   },
   {
    "duration": 8,
    "start_time": "2022-10-01T18:33:57.320Z"
   },
   {
    "duration": 20,
    "start_time": "2022-10-01T18:33:57.330Z"
   },
   {
    "duration": 160,
    "start_time": "2022-10-01T18:33:57.352Z"
   },
   {
    "duration": 6,
    "start_time": "2022-10-01T18:33:57.514Z"
   },
   {
    "duration": 25,
    "start_time": "2022-10-01T18:33:57.521Z"
   },
   {
    "duration": 203,
    "start_time": "2022-10-01T18:33:57.548Z"
   },
   {
    "duration": 13,
    "start_time": "2022-10-01T18:33:57.753Z"
   },
   {
    "duration": 81,
    "start_time": "2022-10-01T18:33:57.767Z"
   },
   {
    "duration": 83,
    "start_time": "2022-10-01T18:33:57.849Z"
   },
   {
    "duration": 318,
    "start_time": "2022-10-01T18:33:57.933Z"
   },
   {
    "duration": 5,
    "start_time": "2022-10-01T18:33:58.253Z"
   },
   {
    "duration": 113,
    "start_time": "2022-10-01T18:33:58.260Z"
   },
   {
    "duration": 328,
    "start_time": "2022-10-01T18:33:58.374Z"
   },
   {
    "duration": 334,
    "start_time": "2022-10-01T18:33:58.704Z"
   },
   {
    "duration": 112,
    "start_time": "2022-10-01T18:33:59.042Z"
   },
   {
    "duration": 69,
    "start_time": "2022-10-01T18:33:59.155Z"
   },
   {
    "duration": 24,
    "start_time": "2022-10-01T18:33:59.226Z"
   },
   {
    "duration": 18,
    "start_time": "2022-10-01T18:33:59.252Z"
   },
   {
    "duration": 711,
    "start_time": "2022-10-01T18:33:59.271Z"
   },
   {
    "duration": 204,
    "start_time": "2022-10-01T18:33:59.983Z"
   },
   {
    "duration": 498,
    "start_time": "2022-10-01T18:34:00.189Z"
   },
   {
    "duration": 14,
    "start_time": "2022-10-01T18:34:00.688Z"
   },
   {
    "duration": 5,
    "start_time": "2022-10-01T18:34:00.704Z"
   },
   {
    "duration": 612,
    "start_time": "2022-10-01T18:34:00.711Z"
   },
   {
    "duration": 114,
    "start_time": "2022-10-01T18:34:01.325Z"
   },
   {
    "duration": 75,
    "start_time": "2022-10-01T18:34:01.441Z"
   },
   {
    "duration": 13,
    "start_time": "2022-10-01T18:34:01.518Z"
   },
   {
    "duration": 16,
    "start_time": "2022-10-01T18:34:01.533Z"
   },
   {
    "duration": 9,
    "start_time": "2022-10-01T18:34:01.551Z"
   },
   {
    "duration": 9,
    "start_time": "2022-10-01T18:34:01.561Z"
   },
   {
    "duration": 26564,
    "start_time": "2022-10-01T18:34:01.572Z"
   },
   {
    "duration": 139558,
    "start_time": "2022-10-01T18:34:28.138Z"
   },
   {
    "duration": 2524,
    "start_time": "2022-10-01T18:36:47.698Z"
   },
   {
    "duration": 23079,
    "start_time": "2022-10-01T18:36:50.223Z"
   },
   {
    "duration": 2291,
    "start_time": "2022-10-01T18:37:13.304Z"
   },
   {
    "duration": 3,
    "start_time": "2022-10-01T18:37:15.597Z"
   },
   {
    "duration": 24735,
    "start_time": "2022-10-01T18:37:15.601Z"
   },
   {
    "duration": 135,
    "start_time": "2022-10-01T18:37:40.338Z"
   },
   {
    "duration": 3,
    "start_time": "2022-10-01T18:37:40.474Z"
   },
   {
    "duration": 4323,
    "start_time": "2022-10-01T18:37:40.478Z"
   },
   {
    "duration": 603,
    "start_time": "2022-10-01T18:37:44.803Z"
   },
   {
    "duration": 511,
    "start_time": "2022-10-01T18:37:45.408Z"
   },
   {
    "duration": 15,
    "start_time": "2022-10-01T18:37:45.921Z"
   },
   {
    "duration": 27718,
    "start_time": "2022-10-01T18:37:45.938Z"
   },
   {
    "duration": 670,
    "start_time": "2022-10-01T18:38:13.658Z"
   },
   {
    "duration": 11,
    "start_time": "2022-10-01T18:38:14.329Z"
   },
   {
    "duration": 11,
    "start_time": "2022-10-01T18:38:49.593Z"
   },
   {
    "duration": 11,
    "start_time": "2022-10-01T18:38:57.420Z"
   },
   {
    "duration": 11,
    "start_time": "2022-10-01T18:39:02.390Z"
   },
   {
    "duration": 12,
    "start_time": "2022-10-01T18:39:12.434Z"
   },
   {
    "duration": 12,
    "start_time": "2022-10-01T18:41:33.679Z"
   },
   {
    "duration": 12,
    "start_time": "2022-10-01T18:41:40.081Z"
   },
   {
    "duration": 12,
    "start_time": "2022-10-01T18:41:59.059Z"
   },
   {
    "duration": 11,
    "start_time": "2022-10-01T18:42:08.221Z"
   },
   {
    "duration": 11,
    "start_time": "2022-10-01T18:42:23.551Z"
   },
   {
    "duration": 119,
    "start_time": "2022-10-01T18:49:41.405Z"
   },
   {
    "duration": 17,
    "start_time": "2022-10-01T18:50:28.398Z"
   },
   {
    "duration": 19,
    "start_time": "2022-10-01T18:50:41.299Z"
   },
   {
    "duration": 15,
    "start_time": "2022-10-01T18:50:44.397Z"
   },
   {
    "duration": 6,
    "start_time": "2022-10-01T18:53:54.002Z"
   },
   {
    "duration": 7,
    "start_time": "2022-10-01T18:54:06.621Z"
   },
   {
    "duration": 6,
    "start_time": "2022-10-01T18:54:16.289Z"
   },
   {
    "duration": 6,
    "start_time": "2022-10-01T18:54:25.328Z"
   },
   {
    "duration": 5,
    "start_time": "2022-10-01T18:54:38.712Z"
   },
   {
    "duration": 11,
    "start_time": "2022-10-01T18:54:44.683Z"
   },
   {
    "duration": 5,
    "start_time": "2022-10-01T18:54:49.364Z"
   },
   {
    "duration": 6,
    "start_time": "2022-10-01T18:55:33.351Z"
   },
   {
    "duration": 4,
    "start_time": "2022-10-01T18:55:36.514Z"
   },
   {
    "duration": 4,
    "start_time": "2022-10-01T18:55:40.533Z"
   },
   {
    "duration": 6,
    "start_time": "2022-10-01T18:55:54.114Z"
   },
   {
    "duration": 6,
    "start_time": "2022-10-01T18:56:16.976Z"
   },
   {
    "duration": 5,
    "start_time": "2022-10-01T18:56:18.587Z"
   },
   {
    "duration": 5,
    "start_time": "2022-10-01T18:56:19.296Z"
   },
   {
    "duration": 7,
    "start_time": "2022-10-01T19:00:47.102Z"
   },
   {
    "duration": 8,
    "start_time": "2022-10-01T19:00:57.261Z"
   },
   {
    "duration": 75,
    "start_time": "2022-10-01T19:01:06.051Z"
   },
   {
    "duration": 8,
    "start_time": "2022-10-01T19:01:12.846Z"
   },
   {
    "duration": 14,
    "start_time": "2022-10-01T19:01:16.979Z"
   },
   {
    "duration": 7,
    "start_time": "2022-10-01T19:01:20.965Z"
   },
   {
    "duration": 6,
    "start_time": "2022-10-01T19:03:36.062Z"
   },
   {
    "duration": 5,
    "start_time": "2022-10-01T19:10:04.305Z"
   },
   {
    "duration": 7,
    "start_time": "2022-10-01T19:10:09.393Z"
   },
   {
    "duration": 7,
    "start_time": "2022-10-01T19:10:18.656Z"
   },
   {
    "duration": 1479,
    "start_time": "2022-10-01T19:16:51.709Z"
   },
   {
    "duration": 1184,
    "start_time": "2022-10-01T19:17:09.555Z"
   },
   {
    "duration": 5,
    "start_time": "2022-10-01T19:17:17.547Z"
   },
   {
    "duration": 9,
    "start_time": "2022-10-01T19:18:23.229Z"
   },
   {
    "duration": 9,
    "start_time": "2022-10-01T19:18:28.972Z"
   },
   {
    "duration": 20,
    "start_time": "2022-10-01T19:19:09.722Z"
   },
   {
    "duration": 30,
    "start_time": "2022-10-01T19:19:12.720Z"
   },
   {
    "duration": 85,
    "start_time": "2022-10-01T19:19:22.783Z"
   },
   {
    "duration": 24,
    "start_time": "2022-10-01T19:19:25.077Z"
   },
   {
    "duration": 10,
    "start_time": "2022-10-01T19:19:48.276Z"
   },
   {
    "duration": 9,
    "start_time": "2022-10-01T19:19:53.884Z"
   },
   {
    "duration": 24,
    "start_time": "2022-10-01T19:29:03.137Z"
   },
   {
    "duration": 29,
    "start_time": "2022-10-01T19:29:12.621Z"
   },
   {
    "duration": 29,
    "start_time": "2022-10-01T19:29:42.342Z"
   },
   {
    "duration": 9,
    "start_time": "2022-10-01T20:07:04.317Z"
   },
   {
    "duration": 15,
    "start_time": "2022-10-01T20:07:34.336Z"
   },
   {
    "duration": 9,
    "start_time": "2022-10-01T20:07:51.786Z"
   },
   {
    "duration": 110,
    "start_time": "2022-10-02T11:49:28.272Z"
   },
   {
    "duration": 1529,
    "start_time": "2022-10-02T11:53:28.637Z"
   },
   {
    "duration": 2764,
    "start_time": "2022-10-02T11:53:30.168Z"
   },
   {
    "duration": 721,
    "start_time": "2022-10-02T11:53:32.933Z"
   },
   {
    "duration": 13,
    "start_time": "2022-10-02T11:53:33.656Z"
   },
   {
    "duration": 792,
    "start_time": "2022-10-02T11:53:33.671Z"
   },
   {
    "duration": 70,
    "start_time": "2022-10-02T11:53:34.464Z"
   },
   {
    "duration": 893,
    "start_time": "2022-10-02T11:53:34.536Z"
   },
   {
    "duration": 146,
    "start_time": "2022-10-02T11:53:35.431Z"
   },
   {
    "duration": 28,
    "start_time": "2022-10-02T11:53:35.579Z"
   },
   {
    "duration": 2081,
    "start_time": "2022-10-02T11:53:35.623Z"
   },
   {
    "duration": 15,
    "start_time": "2022-10-02T11:53:37.706Z"
   },
   {
    "duration": 68,
    "start_time": "2022-10-02T11:53:37.723Z"
   },
   {
    "duration": 11,
    "start_time": "2022-10-02T11:53:37.793Z"
   },
   {
    "duration": 9,
    "start_time": "2022-10-02T11:53:37.823Z"
   },
   {
    "duration": 19,
    "start_time": "2022-10-02T11:53:37.834Z"
   },
   {
    "duration": 139,
    "start_time": "2022-10-02T11:53:37.854Z"
   },
   {
    "duration": 5,
    "start_time": "2022-10-02T11:53:37.994Z"
   },
   {
    "duration": 47,
    "start_time": "2022-10-02T11:53:38.001Z"
   },
   {
    "duration": 161,
    "start_time": "2022-10-02T11:53:38.049Z"
   },
   {
    "duration": 21,
    "start_time": "2022-10-02T11:53:38.212Z"
   },
   {
    "duration": 54,
    "start_time": "2022-10-02T11:53:38.234Z"
   },
   {
    "duration": 76,
    "start_time": "2022-10-02T11:53:38.290Z"
   },
   {
    "duration": 256,
    "start_time": "2022-10-02T11:53:38.368Z"
   },
   {
    "duration": 5,
    "start_time": "2022-10-02T11:53:38.626Z"
   },
   {
    "duration": 100,
    "start_time": "2022-10-02T11:53:38.633Z"
   },
   {
    "duration": 283,
    "start_time": "2022-10-02T11:53:38.735Z"
   },
   {
    "duration": 265,
    "start_time": "2022-10-02T11:53:39.019Z"
   },
   {
    "duration": 97,
    "start_time": "2022-10-02T11:53:39.288Z"
   },
   {
    "duration": 80,
    "start_time": "2022-10-02T11:53:39.387Z"
   },
   {
    "duration": 24,
    "start_time": "2022-10-02T11:53:39.469Z"
   },
   {
    "duration": 30,
    "start_time": "2022-10-02T11:53:39.495Z"
   },
   {
    "duration": 599,
    "start_time": "2022-10-02T11:53:39.527Z"
   },
   {
    "duration": 165,
    "start_time": "2022-10-02T11:53:40.128Z"
   },
   {
    "duration": 422,
    "start_time": "2022-10-02T11:53:40.296Z"
   },
   {
    "duration": 9,
    "start_time": "2022-10-02T11:53:40.719Z"
   },
   {
    "duration": 7,
    "start_time": "2022-10-02T11:53:40.730Z"
   },
   {
    "duration": 569,
    "start_time": "2022-10-02T11:53:40.739Z"
   },
   {
    "duration": 111,
    "start_time": "2022-10-02T11:53:41.310Z"
   },
   {
    "duration": 62,
    "start_time": "2022-10-02T11:53:41.422Z"
   },
   {
    "duration": 14,
    "start_time": "2022-10-02T11:53:41.486Z"
   },
   {
    "duration": 29,
    "start_time": "2022-10-02T11:53:41.503Z"
   },
   {
    "duration": 9,
    "start_time": "2022-10-02T11:53:41.534Z"
   },
   {
    "duration": 10,
    "start_time": "2022-10-02T11:53:41.545Z"
   },
   {
    "duration": 24155,
    "start_time": "2022-10-02T11:53:41.557Z"
   },
   {
    "duration": 124046,
    "start_time": "2022-10-02T11:54:05.714Z"
   },
   {
    "duration": 2370,
    "start_time": "2022-10-02T11:56:09.762Z"
   },
   {
    "duration": 29001,
    "start_time": "2022-10-02T11:56:12.133Z"
   },
   {
    "duration": 2228,
    "start_time": "2022-10-02T11:56:41.136Z"
   },
   {
    "duration": 3,
    "start_time": "2022-10-02T11:56:43.422Z"
   },
   {
    "duration": 21883,
    "start_time": "2022-10-02T11:56:43.426Z"
   },
   {
    "duration": 370,
    "start_time": "2022-10-02T11:57:05.311Z"
   },
   {
    "duration": 3,
    "start_time": "2022-10-02T11:57:05.683Z"
   },
   {
    "duration": 69139,
    "start_time": "2022-10-02T11:57:05.688Z"
   },
   {
    "duration": 1398,
    "start_time": "2022-10-02T11:58:14.828Z"
   },
   {
    "duration": 418,
    "start_time": "2022-10-02T11:58:16.228Z"
   },
   {
    "duration": 29,
    "start_time": "2022-10-02T11:58:16.647Z"
   },
   {
    "duration": 23881,
    "start_time": "2022-10-02T11:58:16.677Z"
   },
   {
    "duration": 1694,
    "start_time": "2022-10-02T11:58:40.560Z"
   },
   {
    "duration": 10,
    "start_time": "2022-10-02T11:58:42.255Z"
   },
   {
    "duration": 8,
    "start_time": "2022-10-02T11:58:42.266Z"
   },
   {
    "duration": 9,
    "start_time": "2022-10-02T11:58:42.275Z"
   },
   {
    "duration": 10,
    "start_time": "2022-10-02T11:58:42.286Z"
   },
   {
    "duration": 13,
    "start_time": "2022-10-02T12:04:12.201Z"
   },
   {
    "duration": 22023,
    "start_time": "2022-10-02T12:17:05.501Z"
   },
   {
    "duration": 301,
    "start_time": "2022-10-02T12:18:13.254Z"
   },
   {
    "duration": 118,
    "start_time": "2022-10-02T12:18:32.921Z"
   },
   {
    "duration": 8,
    "start_time": "2022-10-02T12:26:03.976Z"
   },
   {
    "duration": 1276,
    "start_time": "2022-10-02T12:27:13.183Z"
   },
   {
    "duration": 271,
    "start_time": "2022-10-02T12:28:32.943Z"
   },
   {
    "duration": 3,
    "start_time": "2022-10-02T12:31:25.012Z"
   },
   {
    "duration": 10,
    "start_time": "2022-10-02T12:34:14.387Z"
   },
   {
    "duration": 21,
    "start_time": "2022-10-02T12:34:29.676Z"
   },
   {
    "duration": 22,
    "start_time": "2022-10-02T12:35:01.306Z"
   },
   {
    "duration": 17,
    "start_time": "2022-10-02T12:35:06.871Z"
   },
   {
    "duration": 4,
    "start_time": "2022-10-02T12:35:10.394Z"
   },
   {
    "duration": 16,
    "start_time": "2022-10-02T12:35:12.833Z"
   },
   {
    "duration": 11,
    "start_time": "2022-10-02T12:35:55.615Z"
   },
   {
    "duration": 1342,
    "start_time": "2022-10-02T12:37:18.669Z"
   },
   {
    "duration": 8,
    "start_time": "2022-10-02T12:37:37.625Z"
   },
   {
    "duration": 9,
    "start_time": "2022-10-02T12:39:43.131Z"
   },
   {
    "duration": 10,
    "start_time": "2022-10-02T12:39:54.539Z"
   },
   {
    "duration": 3,
    "start_time": "2022-10-02T12:41:46.423Z"
   },
   {
    "duration": 4,
    "start_time": "2022-10-02T12:41:59.067Z"
   },
   {
    "duration": 9,
    "start_time": "2022-10-02T12:42:06.063Z"
   },
   {
    "duration": 9,
    "start_time": "2022-10-02T12:42:21.908Z"
   },
   {
    "duration": 5,
    "start_time": "2022-10-02T12:42:36.292Z"
   },
   {
    "duration": 9,
    "start_time": "2022-10-02T12:42:42.169Z"
   },
   {
    "duration": 9,
    "start_time": "2022-10-02T12:43:07.495Z"
   },
   {
    "duration": 6,
    "start_time": "2022-10-02T12:45:34.785Z"
   },
   {
    "duration": 7,
    "start_time": "2022-10-02T12:47:19.372Z"
   },
   {
    "duration": 12,
    "start_time": "2022-10-02T12:48:36.747Z"
   },
   {
    "duration": 123,
    "start_time": "2022-10-02T12:48:42.517Z"
   },
   {
    "duration": 10,
    "start_time": "2022-10-02T12:48:45.830Z"
   },
   {
    "duration": 6,
    "start_time": "2022-10-02T12:48:46.941Z"
   },
   {
    "duration": 14,
    "start_time": "2022-10-02T12:50:06.536Z"
   },
   {
    "duration": 4,
    "start_time": "2022-10-02T12:50:14.551Z"
   },
   {
    "duration": 5,
    "start_time": "2022-10-02T12:50:19.655Z"
   },
   {
    "duration": 4,
    "start_time": "2022-10-02T12:50:22.892Z"
   },
   {
    "duration": 6,
    "start_time": "2022-10-02T12:51:36.863Z"
   },
   {
    "duration": 7,
    "start_time": "2022-10-02T12:51:58.787Z"
   }
  ],
  "kernelspec": {
   "display_name": "Python 3 (ipykernel)",
   "language": "python",
   "name": "python3"
  },
  "language_info": {
   "codemirror_mode": {
    "name": "ipython",
    "version": 3
   },
   "file_extension": ".py",
   "mimetype": "text/x-python",
   "name": "python",
   "nbconvert_exporter": "python",
   "pygments_lexer": "ipython3",
   "version": "3.9.5"
  },
  "toc": {
   "base_numbering": 1,
   "nav_menu": {},
   "number_sections": true,
   "sideBar": true,
   "skip_h1_title": true,
   "title_cell": "Table of Contents",
   "title_sidebar": "Contents",
   "toc_cell": false,
   "toc_position": {
    "height": "calc(100% - 180px)",
    "left": "10px",
    "top": "150px",
    "width": "165px"
   },
   "toc_section_display": true,
   "toc_window_display": true
  }
 },
 "nbformat": 4,
 "nbformat_minor": 2
}
