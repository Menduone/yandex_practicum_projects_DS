{
 "cells": [
  {
   "cell_type": "markdown",
   "metadata": {
    "toc": true
   },
   "source": [
    "<h1>Содержание<span class=\"tocSkip\"></span></h1>\n",
    "<div class=\"toc\"><ul class=\"toc-item\"><li><span><a href=\"#Подготовка\" data-toc-modified-id=\"Подготовка-1\"><span class=\"toc-item-num\">1&nbsp;&nbsp;</span>Подготовка</a></span></li><li><span><a href=\"#Анализ\" data-toc-modified-id=\"Анализ-2\"><span class=\"toc-item-num\">2&nbsp;&nbsp;</span>Анализ</a></span></li><li><span><a href=\"#Обучение\" data-toc-modified-id=\"Обучение-3\"><span class=\"toc-item-num\">3&nbsp;&nbsp;</span>Обучение</a></span></li><li><span><a href=\"#Тестирование\" data-toc-modified-id=\"Тестирование-4\"><span class=\"toc-item-num\">4&nbsp;&nbsp;</span>Тестирование</a></span></li><li><span><a href=\"#Вывод\" data-toc-modified-id=\"Вывод-5\"><span class=\"toc-item-num\">5&nbsp;&nbsp;</span>Вывод</a></span></li><li><span><a href=\"#Чек-лист-проверки\" data-toc-modified-id=\"Чек-лист-проверки-6\"><span class=\"toc-item-num\">6&nbsp;&nbsp;</span>Чек-лист проверки</a></span></li></ul></div>"
   ]
  },
  {
   "cell_type": "markdown",
   "metadata": {},
   "source": [
    "#  Прогнозирование заказов такси"
   ]
  },
  {
   "cell_type": "markdown",
   "metadata": {},
   "source": [
    "Компания «Чётенькое такси» собрала исторические данные о заказах такси в аэропортах. Чтобы привлекать больше водителей в период пиковой нагрузки, нужно спрогнозировать количество заказов такси на следующий час. Построим модель для такого предсказания.\n",
    "\n",
    "Значение метрики *RMSE* на тестовой выборке должно быть не больше 48.\n",
    "\n",
    "Нам нужно:\n",
    "\n",
    "1. Загрузить данные и выполнить их ресемплирование по одному часу;\n",
    "2. Проанализировать данные;\n",
    "3. Обучить разные модели с различными гиперпараметрами. Сделать тестовую выборку размером 10% от исходных данных;\n",
    "4. Проверить данные на тестовой выборке и сделать выводы\n",
    "\n",
    "\n",
    "* `'num_orders'` - количество заказов;"
   ]
  },
  {
   "cell_type": "markdown",
   "metadata": {},
   "source": [
    "## Подготовка"
   ]
  },
  {
   "cell_type": "code",
   "execution_count": 1,
   "metadata": {},
   "outputs": [],
   "source": [
    "import pandas as pd\n",
    "import matplotlib.pyplot as plt\n",
    "import numpy as np\n",
    "from statsmodels.tsa.seasonal import seasonal_decompose\n",
    "from sklearn.model_selection import train_test_split\n",
    "from sklearn.model_selection import GridSearchCV\n",
    "from sklearn.model_selection import TimeSeriesSplit\n",
    "from sklearn.linear_model import LinearRegression\n",
    "from sklearn.metrics import mean_squared_error\n",
    "from sklearn.metrics import make_scorer\n",
    "from catboost import CatBoostRegressor\n",
    "from lightgbm import LGBMRegressor"
   ]
  },
  {
   "cell_type": "code",
   "execution_count": 2,
   "metadata": {},
   "outputs": [
    {
     "data": {
      "text/html": [
       "<div>\n",
       "<style scoped>\n",
       "    .dataframe tbody tr th:only-of-type {\n",
       "        vertical-align: middle;\n",
       "    }\n",
       "\n",
       "    .dataframe tbody tr th {\n",
       "        vertical-align: top;\n",
       "    }\n",
       "\n",
       "    .dataframe thead th {\n",
       "        text-align: right;\n",
       "    }\n",
       "</style>\n",
       "<table border=\"1\" class=\"dataframe\">\n",
       "  <thead>\n",
       "    <tr style=\"text-align: right;\">\n",
       "      <th></th>\n",
       "      <th>num_orders</th>\n",
       "    </tr>\n",
       "    <tr>\n",
       "      <th>datetime</th>\n",
       "      <th></th>\n",
       "    </tr>\n",
       "  </thead>\n",
       "  <tbody>\n",
       "    <tr>\n",
       "      <th>2018-03-01 00:00:00</th>\n",
       "      <td>9</td>\n",
       "    </tr>\n",
       "    <tr>\n",
       "      <th>2018-03-01 00:10:00</th>\n",
       "      <td>14</td>\n",
       "    </tr>\n",
       "    <tr>\n",
       "      <th>2018-03-01 00:20:00</th>\n",
       "      <td>28</td>\n",
       "    </tr>\n",
       "    <tr>\n",
       "      <th>2018-03-01 00:30:00</th>\n",
       "      <td>20</td>\n",
       "    </tr>\n",
       "    <tr>\n",
       "      <th>2018-03-01 00:40:00</th>\n",
       "      <td>32</td>\n",
       "    </tr>\n",
       "  </tbody>\n",
       "</table>\n",
       "</div>"
      ],
      "text/plain": [
       "                     num_orders\n",
       "datetime                       \n",
       "2018-03-01 00:00:00           9\n",
       "2018-03-01 00:10:00          14\n",
       "2018-03-01 00:20:00          28\n",
       "2018-03-01 00:30:00          20\n",
       "2018-03-01 00:40:00          32"
      ]
     },
     "execution_count": 2,
     "metadata": {},
     "output_type": "execute_result"
    }
   ],
   "source": [
    "data = pd.read_csv('/datasets/taxi.csv', parse_dates=[0], index_col=[0])\n",
    "data.head()"
   ]
  },
  {
   "cell_type": "code",
   "execution_count": 3,
   "metadata": {},
   "outputs": [
    {
     "name": "stdout",
     "output_type": "stream",
     "text": [
      "data\n"
     ]
    },
    {
     "data": {
      "text/html": [
       "<div>\n",
       "<style scoped>\n",
       "    .dataframe tbody tr th:only-of-type {\n",
       "        vertical-align: middle;\n",
       "    }\n",
       "\n",
       "    .dataframe tbody tr th {\n",
       "        vertical-align: top;\n",
       "    }\n",
       "\n",
       "    .dataframe thead th {\n",
       "        text-align: right;\n",
       "    }\n",
       "</style>\n",
       "<table border=\"1\" class=\"dataframe\">\n",
       "  <thead>\n",
       "    <tr style=\"text-align: right;\">\n",
       "      <th></th>\n",
       "      <th>num_orders</th>\n",
       "    </tr>\n",
       "    <tr>\n",
       "      <th>datetime</th>\n",
       "      <th></th>\n",
       "    </tr>\n",
       "  </thead>\n",
       "  <tbody>\n",
       "    <tr>\n",
       "      <th>2018-03-01 00:00:00</th>\n",
       "      <td>9</td>\n",
       "    </tr>\n",
       "    <tr>\n",
       "      <th>2018-03-01 00:10:00</th>\n",
       "      <td>14</td>\n",
       "    </tr>\n",
       "    <tr>\n",
       "      <th>2018-03-01 00:20:00</th>\n",
       "      <td>28</td>\n",
       "    </tr>\n",
       "    <tr>\n",
       "      <th>2018-03-01 00:30:00</th>\n",
       "      <td>20</td>\n",
       "    </tr>\n",
       "    <tr>\n",
       "      <th>2018-03-01 00:40:00</th>\n",
       "      <td>32</td>\n",
       "    </tr>\n",
       "  </tbody>\n",
       "</table>\n",
       "</div>"
      ],
      "text/plain": [
       "                     num_orders\n",
       "datetime                       \n",
       "2018-03-01 00:00:00           9\n",
       "2018-03-01 00:10:00          14\n",
       "2018-03-01 00:20:00          28\n",
       "2018-03-01 00:30:00          20\n",
       "2018-03-01 00:40:00          32"
      ]
     },
     "metadata": {},
     "output_type": "display_data"
    },
    {
     "name": "stdout",
     "output_type": "stream",
     "text": [
      "Размер data: (26496, 1)\n",
      "\n",
      "Информация о data:\n",
      "\n",
      "<class 'pandas.core.frame.DataFrame'>\n",
      "DatetimeIndex: 26496 entries, 2018-03-01 00:00:00 to 2018-08-31 23:50:00\n",
      "Data columns (total 1 columns):\n",
      " #   Column      Non-Null Count  Dtype\n",
      "---  ------      --------------  -----\n",
      " 0   num_orders  26496 non-null  int64\n",
      "dtypes: int64(1)\n",
      "memory usage: 414.0 KB\n"
     ]
    },
    {
     "data": {
      "text/plain": [
       "None"
      ]
     },
     "metadata": {},
     "output_type": "display_data"
    },
    {
     "data": {
      "text/html": [
       "<div>\n",
       "<style scoped>\n",
       "    .dataframe tbody tr th:only-of-type {\n",
       "        vertical-align: middle;\n",
       "    }\n",
       "\n",
       "    .dataframe tbody tr th {\n",
       "        vertical-align: top;\n",
       "    }\n",
       "\n",
       "    .dataframe thead th {\n",
       "        text-align: right;\n",
       "    }\n",
       "</style>\n",
       "<table border=\"1\" class=\"dataframe\">\n",
       "  <thead>\n",
       "    <tr style=\"text-align: right;\">\n",
       "      <th></th>\n",
       "      <th>num_orders</th>\n",
       "    </tr>\n",
       "  </thead>\n",
       "  <tbody>\n",
       "    <tr>\n",
       "      <th>count</th>\n",
       "      <td>26496.000000</td>\n",
       "    </tr>\n",
       "    <tr>\n",
       "      <th>mean</th>\n",
       "      <td>14.070463</td>\n",
       "    </tr>\n",
       "    <tr>\n",
       "      <th>std</th>\n",
       "      <td>9.211330</td>\n",
       "    </tr>\n",
       "    <tr>\n",
       "      <th>min</th>\n",
       "      <td>0.000000</td>\n",
       "    </tr>\n",
       "    <tr>\n",
       "      <th>25%</th>\n",
       "      <td>8.000000</td>\n",
       "    </tr>\n",
       "    <tr>\n",
       "      <th>50%</th>\n",
       "      <td>13.000000</td>\n",
       "    </tr>\n",
       "    <tr>\n",
       "      <th>75%</th>\n",
       "      <td>19.000000</td>\n",
       "    </tr>\n",
       "    <tr>\n",
       "      <th>max</th>\n",
       "      <td>119.000000</td>\n",
       "    </tr>\n",
       "  </tbody>\n",
       "</table>\n",
       "</div>"
      ],
      "text/plain": [
       "         num_orders\n",
       "count  26496.000000\n",
       "mean      14.070463\n",
       "std        9.211330\n",
       "min        0.000000\n",
       "25%        8.000000\n",
       "50%       13.000000\n",
       "75%       19.000000\n",
       "max      119.000000"
      ]
     },
     "metadata": {},
     "output_type": "display_data"
    },
    {
     "name": "stdout",
     "output_type": "stream",
     "text": [
      "Кол-во пропущенных значений в data:\n"
     ]
    },
    {
     "data": {
      "text/plain": [
       "num_orders    0\n",
       "dtype: int64"
      ]
     },
     "metadata": {},
     "output_type": "display_data"
    },
    {
     "name": "stdout",
     "output_type": "stream",
     "text": [
      "\n",
      "Кол-во дубликатов в data: 26415\n"
     ]
    }
   ],
   "source": [
    "def my_info(x, y):  # аргумент x примет значение сохраненного датасета в переменной;\n",
    "                    # аргумент y примет описательный характер датасета, по которому будет описываться информация\n",
    "    print(y)\n",
    "    display(x.head())\n",
    "    print(f'Размер {y}: {x.shape}')\n",
    "    print()\n",
    "    print(f'Информация о {y}:')\n",
    "    print()\n",
    "    display(x.info())\n",
    "    display(x.describe())\n",
    "    print(f'Кол-во пропущенных значений в {y}:') \n",
    "    display(x.isna().sum())\n",
    "    print()\n",
    "    print(f'Кол-во дубликатов в {y}: {x.duplicated().sum()}')\n",
    "    \n",
    "    \n",
    "my_info(data, 'data')"
   ]
  },
  {
   "cell_type": "markdown",
   "metadata": {},
   "source": [
    "Для дальнейшей работы с временным рядом, **нужно ипсравить** некорректный **тип данных** в колонке `datetime` с строкового на datetime.\n",
    "\n",
    "Есть несколько вариантов:\n",
    "* **1)** применить `pd.to_datetime()` к нужной колонке;\n",
    "* **2)** вписать при чтении файла аргумент `parse_dates=[index]` столбца\n",
    "\n",
    "Использовали более удобный способ **(2)**. \n",
    "\n",
    "Также применили индексацию к этому столбцу (`datetime`), путем внедрения аргумента `index_col=[index]` (второй способ **set_index() к столбцу**"
   ]
  },
  {
   "cell_type": "code",
   "execution_count": 4,
   "metadata": {},
   "outputs": [
    {
     "name": "stdout",
     "output_type": "stream",
     "text": [
      "<class 'pandas.core.frame.DataFrame'>\n",
      "DatetimeIndex: 26496 entries, 2018-03-01 00:00:00 to 2018-08-31 23:50:00\n",
      "Data columns (total 1 columns):\n",
      " #   Column      Non-Null Count  Dtype\n",
      "---  ------      --------------  -----\n",
      " 0   num_orders  26496 non-null  int64\n",
      "dtypes: int64(1)\n",
      "memory usage: 414.0 KB\n"
     ]
    }
   ],
   "source": [
    "data.info()"
   ]
  },
  {
   "cell_type": "markdown",
   "metadata": {},
   "source": [
    "**Привели к нужному типу.**\n",
    "\n",
    "* Теперь отсортируем индексы во возрастанию (самой даты);\n",
    "* Проверим, является ли индекс **монотонным** , то есть в хронологичксом ли порядке находятся даты/время;\n",
    "* И **произведем ресемплирование по 1 часу**"
   ]
  },
  {
   "cell_type": "code",
   "execution_count": 5,
   "metadata": {},
   "outputs": [
    {
     "data": {
      "text/html": [
       "<div>\n",
       "<style scoped>\n",
       "    .dataframe tbody tr th:only-of-type {\n",
       "        vertical-align: middle;\n",
       "    }\n",
       "\n",
       "    .dataframe tbody tr th {\n",
       "        vertical-align: top;\n",
       "    }\n",
       "\n",
       "    .dataframe thead th {\n",
       "        text-align: right;\n",
       "    }\n",
       "</style>\n",
       "<table border=\"1\" class=\"dataframe\">\n",
       "  <thead>\n",
       "    <tr style=\"text-align: right;\">\n",
       "      <th></th>\n",
       "      <th>num_orders</th>\n",
       "    </tr>\n",
       "    <tr>\n",
       "      <th>datetime</th>\n",
       "      <th></th>\n",
       "    </tr>\n",
       "  </thead>\n",
       "  <tbody>\n",
       "    <tr>\n",
       "      <th>2018-03-01 00:00:00</th>\n",
       "      <td>9</td>\n",
       "    </tr>\n",
       "    <tr>\n",
       "      <th>2018-03-01 00:10:00</th>\n",
       "      <td>14</td>\n",
       "    </tr>\n",
       "    <tr>\n",
       "      <th>2018-03-01 00:20:00</th>\n",
       "      <td>28</td>\n",
       "    </tr>\n",
       "    <tr>\n",
       "      <th>2018-03-01 00:30:00</th>\n",
       "      <td>20</td>\n",
       "    </tr>\n",
       "    <tr>\n",
       "      <th>2018-03-01 00:40:00</th>\n",
       "      <td>32</td>\n",
       "    </tr>\n",
       "  </tbody>\n",
       "</table>\n",
       "</div>"
      ],
      "text/plain": [
       "                     num_orders\n",
       "datetime                       \n",
       "2018-03-01 00:00:00           9\n",
       "2018-03-01 00:10:00          14\n",
       "2018-03-01 00:20:00          28\n",
       "2018-03-01 00:30:00          20\n",
       "2018-03-01 00:40:00          32"
      ]
     },
     "execution_count": 5,
     "metadata": {},
     "output_type": "execute_result"
    }
   ],
   "source": [
    "data.head()"
   ]
  },
  {
   "cell_type": "code",
   "execution_count": 6,
   "metadata": {},
   "outputs": [
    {
     "data": {
      "text/plain": [
       "True"
      ]
     },
     "execution_count": 6,
     "metadata": {},
     "output_type": "execute_result"
    }
   ],
   "source": [
    "data.index.is_monotonic # если True, то является "
   ]
  },
  {
   "cell_type": "code",
   "execution_count": 7,
   "metadata": {},
   "outputs": [
    {
     "data": {
      "text/html": [
       "<div>\n",
       "<style scoped>\n",
       "    .dataframe tbody tr th:only-of-type {\n",
       "        vertical-align: middle;\n",
       "    }\n",
       "\n",
       "    .dataframe tbody tr th {\n",
       "        vertical-align: top;\n",
       "    }\n",
       "\n",
       "    .dataframe thead th {\n",
       "        text-align: right;\n",
       "    }\n",
       "</style>\n",
       "<table border=\"1\" class=\"dataframe\">\n",
       "  <thead>\n",
       "    <tr style=\"text-align: right;\">\n",
       "      <th></th>\n",
       "      <th>num_orders</th>\n",
       "    </tr>\n",
       "    <tr>\n",
       "      <th>datetime</th>\n",
       "      <th></th>\n",
       "    </tr>\n",
       "  </thead>\n",
       "  <tbody>\n",
       "    <tr>\n",
       "      <th>2018-03-01 00:00:00</th>\n",
       "      <td>124</td>\n",
       "    </tr>\n",
       "    <tr>\n",
       "      <th>2018-03-01 01:00:00</th>\n",
       "      <td>85</td>\n",
       "    </tr>\n",
       "    <tr>\n",
       "      <th>2018-03-01 02:00:00</th>\n",
       "      <td>71</td>\n",
       "    </tr>\n",
       "    <tr>\n",
       "      <th>2018-03-01 03:00:00</th>\n",
       "      <td>66</td>\n",
       "    </tr>\n",
       "    <tr>\n",
       "      <th>2018-03-01 04:00:00</th>\n",
       "      <td>43</td>\n",
       "    </tr>\n",
       "    <tr>\n",
       "      <th>2018-03-01 05:00:00</th>\n",
       "      <td>6</td>\n",
       "    </tr>\n",
       "    <tr>\n",
       "      <th>2018-03-01 06:00:00</th>\n",
       "      <td>12</td>\n",
       "    </tr>\n",
       "    <tr>\n",
       "      <th>2018-03-01 07:00:00</th>\n",
       "      <td>15</td>\n",
       "    </tr>\n",
       "    <tr>\n",
       "      <th>2018-03-01 08:00:00</th>\n",
       "      <td>34</td>\n",
       "    </tr>\n",
       "    <tr>\n",
       "      <th>2018-03-01 09:00:00</th>\n",
       "      <td>69</td>\n",
       "    </tr>\n",
       "  </tbody>\n",
       "</table>\n",
       "</div>"
      ],
      "text/plain": [
       "                     num_orders\n",
       "datetime                       \n",
       "2018-03-01 00:00:00         124\n",
       "2018-03-01 01:00:00          85\n",
       "2018-03-01 02:00:00          71\n",
       "2018-03-01 03:00:00          66\n",
       "2018-03-01 04:00:00          43\n",
       "2018-03-01 05:00:00           6\n",
       "2018-03-01 06:00:00          12\n",
       "2018-03-01 07:00:00          15\n",
       "2018-03-01 08:00:00          34\n",
       "2018-03-01 09:00:00          69"
      ]
     },
     "execution_count": 7,
     "metadata": {},
     "output_type": "execute_result"
    }
   ],
   "source": [
    "data.sort_index(inplace=True)\n",
    "data = data.resample('1H').sum() # выбираем длину в 1 час, и агрегируем суммы\n",
    "data.head(10)"
   ]
  },
  {
   "cell_type": "markdown",
   "metadata": {},
   "source": [
    "* Рассмотрели данные;\n",
    "* Чтобы корректно работать с датой и временем, изменили тип данных соответствующего столбца с `object` на `datetime64`;\n",
    "* Произвели **ресемплирование** данных по **1 часу**\n",
    "\n",
    "\n",
    "## Анализ\n",
    "\n",
    "Смотрим на график и вычисляем, за какой период даны данные"
   ]
  },
  {
   "cell_type": "code",
   "execution_count": 8,
   "metadata": {},
   "outputs": [
    {
     "data": {
      "image/png": "[encoded data removed]",
      "text/plain": [
       "<Figure size 720x504 with 1 Axes>"
      ]
     },
     "metadata": {
      "needs_background": "light"
     },
     "output_type": "display_data"
    }
   ],
   "source": [
    "data.plot(figsize=(10, 7), legend=True)\n",
    "plt.legend(fontsize=15);"
   ]
  },
  {
   "cell_type": "code",
   "execution_count": 9,
   "metadata": {},
   "outputs": [
    {
     "name": "stdout",
     "output_type": "stream",
     "text": [
      "Данные даны за период с 2018-03-01 00:00:00 по 2018-08-31 23:00:00\n"
     ]
    }
   ],
   "source": [
    "print(f'Данные даны за период с {data.index.min()} по {data.index.max()}')"
   ]
  },
  {
   "cell_type": "markdown",
   "metadata": {},
   "source": [
    "По графику и индексам данных наблюдаем, что анализ **проводится** с `Марта (03) 2018` года по `Август (08) 201`8, то есть **6 месяцев**. Но по нему ничего не понятно\n",
    "\n",
    "**Разложим временной ряд на `тренд`, `сезонность` и `остаток` при помощи библиотеки `statsmodels` с функцией `seasonal_decompose()`**"
   ]
  },
  {
   "cell_type": "code",
   "execution_count": 10,
   "metadata": {},
   "outputs": [
    {
     "data": {
      "image/png": "[encoded data removed]",
      "text/plain": [
       "<Figure size 720x648 with 3 Axes>"
      ]
     },
     "metadata": {
      "needs_background": "light"
     },
     "output_type": "display_data"
    }
   ],
   "source": [
    "decomposed = seasonal_decompose(data)\n",
    "\n",
    "plt.figure(figsize=(10, 9))\n",
    "plt.subplot(311)\n",
    "decomposed.trend.plot(ax=plt.gca()) # Чтобы график корректно отобразился, указываем его оси ax, равными plt.gca(), то есть \n",
    "                                    # получить текущие оси\n",
    "plt.title('Тренд', fontsize=15, fontweight='bold')\n",
    "\n",
    "plt.subplot(312)\n",
    "decomposed.seasonal.plot(ax=plt.gca())\n",
    "plt.title('Сезонность', fontsize=15, fontweight='bold')\n",
    "\n",
    "plt.subplot(313)\n",
    "decomposed.resid.plot(ax=plt.gca())\n",
    "plt.title('Остаток', fontsize=15, fontweight='bold')\n",
    "plt.tight_layout()"
   ]
  },
  {
   "cell_type": "markdown",
   "metadata": {},
   "source": [
    "**Временной ряд** на графике **Тренда нестационарный**, так как у него **меняется среднее значение**. Тренды и сезонность зависят от масштаба данных. **Нельзя** увидеть **закономерности**, повторяющиеся каждое лето/весна, если есть **данные** только **за полгода**, поэтому сезонность (с периодом меньше месяца), **нужно посмотреть детальнее**.\n",
    "\n",
    "`Для это рассмотрим сезонность ближе (по нескольким дням)`"
   ]
  },
  {
   "cell_type": "code",
   "execution_count": 11,
   "metadata": {},
   "outputs": [
    {
     "data": {
      "image/png": "[encoded data removed]",
      "text/plain": [
       "<Figure size 432x288 with 1 Axes>"
      ]
     },
     "metadata": {
      "needs_background": "light"
     },
     "output_type": "display_data"
    }
   ],
   "source": [
    "decomposed.seasonal['2018-03-01':'2018-03-02'].plot(ax=plt.gca())\n",
    "plt.title('Сезонность', fontsize=15, fontweight='bold');"
   ]
  },
  {
   "cell_type": "markdown",
   "metadata": {},
   "source": [
    "Наблюдаем, что активность заказов **очень низка** рано утром в **6 a.m.**. **Подымается** до примерно **11 a.m.** (диапазон, чтобы добратсья до работы, например), и **самый пик** замечаем **к 00:00** (когда общественный транспорт менее удобен по таймингу)\n",
    "\n",
    "* Рассмотрим теперь ресемплирование по дням, то есть чуть шире"
   ]
  },
  {
   "cell_type": "code",
   "execution_count": 12,
   "metadata": {},
   "outputs": [
    {
     "data": {
      "image/png": "[encoded data removed]",
      "text/plain": [
       "<Figure size 504x288 with 1 Axes>"
      ]
     },
     "metadata": {
      "needs_background": "light"
     },
     "output_type": "display_data"
    }
   ],
   "source": [
    "deacompose_d = seasonal_decompose(data.resample('1D').sum())\n",
    "deacompose_d.seasonal.plot(figsize=(7, 4), ax=plt.gca())\n",
    "plt.title('Сезонность', fontsize=15, fontweight='bold');"
   ]
  },
  {
   "cell_type": "markdown",
   "metadata": {},
   "source": [
    "Наблюдаем тенденцию **понижения активности где-то около выходных**. Возможно, это связано с тем, что большинство людей предпочитают остаться дома, либо поехать на ином транспорте (личном/общественном) куда-нибудь отдохнуть (центр/за город)\n",
    "\n",
    "**Создадим признаки для дальнейшего обучения модели**\n",
    "* Введем функцию `make_features()`, которая создаст такие признаки:\n",
    "  * **календарные**: они выносят временные рамки `(года, месяца, дни, дни недели, часы)` в отдельные колонки;\n",
    "  * **отстающие значения**: предыдущие значения временного ряда подскажут, будет ли `расти или уменьшяаться` функция **x(t)**, где t - время;\n",
    "  * **скользящее среднее**: эти значения как признак зададут `общий тренд временного ряда`\n",
    "  \n",
    "В функции `make_features()` будет 3 аргумента: **data** `(сами данные)`, **max_lag** `(максимальный рзамер отставания)` и **rolling_mean_size** `(задает ширину окна)`"
   ]
  },
  {
   "cell_type": "code",
   "execution_count": 13,
   "metadata": {
    "scrolled": false
   },
   "outputs": [
    {
     "name": "stdout",
     "output_type": "stream",
     "text": [
      "data\n"
     ]
    },
    {
     "data": {
      "text/html": [
       "<div>\n",
       "<style scoped>\n",
       "    .dataframe tbody tr th:only-of-type {\n",
       "        vertical-align: middle;\n",
       "    }\n",
       "\n",
       "    .dataframe tbody tr th {\n",
       "        vertical-align: top;\n",
       "    }\n",
       "\n",
       "    .dataframe thead th {\n",
       "        text-align: right;\n",
       "    }\n",
       "</style>\n",
       "<table border=\"1\" class=\"dataframe\">\n",
       "  <thead>\n",
       "    <tr style=\"text-align: right;\">\n",
       "      <th></th>\n",
       "      <th>num_orders</th>\n",
       "      <th>year</th>\n",
       "      <th>month</th>\n",
       "      <th>day</th>\n",
       "      <th>dayofweek</th>\n",
       "      <th>lag_1</th>\n",
       "      <th>lag_2</th>\n",
       "      <th>lag_3</th>\n",
       "      <th>lag_4</th>\n",
       "      <th>lag_5</th>\n",
       "      <th>...</th>\n",
       "      <th>lag_12</th>\n",
       "      <th>lag_13</th>\n",
       "      <th>lag_14</th>\n",
       "      <th>lag_15</th>\n",
       "      <th>lag_16</th>\n",
       "      <th>lag_17</th>\n",
       "      <th>lag_18</th>\n",
       "      <th>lag_19</th>\n",
       "      <th>lag_20</th>\n",
       "      <th>rolling_mean</th>\n",
       "    </tr>\n",
       "    <tr>\n",
       "      <th>datetime</th>\n",
       "      <th></th>\n",
       "      <th></th>\n",
       "      <th></th>\n",
       "      <th></th>\n",
       "      <th></th>\n",
       "      <th></th>\n",
       "      <th></th>\n",
       "      <th></th>\n",
       "      <th></th>\n",
       "      <th></th>\n",
       "      <th></th>\n",
       "      <th></th>\n",
       "      <th></th>\n",
       "      <th></th>\n",
       "      <th></th>\n",
       "      <th></th>\n",
       "      <th></th>\n",
       "      <th></th>\n",
       "      <th></th>\n",
       "      <th></th>\n",
       "      <th></th>\n",
       "    </tr>\n",
       "  </thead>\n",
       "  <tbody>\n",
       "    <tr>\n",
       "      <th>2018-03-01 00:00:00</th>\n",
       "      <td>124</td>\n",
       "      <td>2018</td>\n",
       "      <td>3</td>\n",
       "      <td>1</td>\n",
       "      <td>3</td>\n",
       "      <td>NaN</td>\n",
       "      <td>NaN</td>\n",
       "      <td>NaN</td>\n",
       "      <td>NaN</td>\n",
       "      <td>NaN</td>\n",
       "      <td>...</td>\n",
       "      <td>NaN</td>\n",
       "      <td>NaN</td>\n",
       "      <td>NaN</td>\n",
       "      <td>NaN</td>\n",
       "      <td>NaN</td>\n",
       "      <td>NaN</td>\n",
       "      <td>NaN</td>\n",
       "      <td>NaN</td>\n",
       "      <td>NaN</td>\n",
       "      <td>NaN</td>\n",
       "    </tr>\n",
       "    <tr>\n",
       "      <th>2018-03-01 01:00:00</th>\n",
       "      <td>85</td>\n",
       "      <td>2018</td>\n",
       "      <td>3</td>\n",
       "      <td>1</td>\n",
       "      <td>3</td>\n",
       "      <td>124.0</td>\n",
       "      <td>NaN</td>\n",
       "      <td>NaN</td>\n",
       "      <td>NaN</td>\n",
       "      <td>NaN</td>\n",
       "      <td>...</td>\n",
       "      <td>NaN</td>\n",
       "      <td>NaN</td>\n",
       "      <td>NaN</td>\n",
       "      <td>NaN</td>\n",
       "      <td>NaN</td>\n",
       "      <td>NaN</td>\n",
       "      <td>NaN</td>\n",
       "      <td>NaN</td>\n",
       "      <td>NaN</td>\n",
       "      <td>NaN</td>\n",
       "    </tr>\n",
       "    <tr>\n",
       "      <th>2018-03-01 02:00:00</th>\n",
       "      <td>71</td>\n",
       "      <td>2018</td>\n",
       "      <td>3</td>\n",
       "      <td>1</td>\n",
       "      <td>3</td>\n",
       "      <td>85.0</td>\n",
       "      <td>124.0</td>\n",
       "      <td>NaN</td>\n",
       "      <td>NaN</td>\n",
       "      <td>NaN</td>\n",
       "      <td>...</td>\n",
       "      <td>NaN</td>\n",
       "      <td>NaN</td>\n",
       "      <td>NaN</td>\n",
       "      <td>NaN</td>\n",
       "      <td>NaN</td>\n",
       "      <td>NaN</td>\n",
       "      <td>NaN</td>\n",
       "      <td>NaN</td>\n",
       "      <td>NaN</td>\n",
       "      <td>NaN</td>\n",
       "    </tr>\n",
       "    <tr>\n",
       "      <th>2018-03-01 03:00:00</th>\n",
       "      <td>66</td>\n",
       "      <td>2018</td>\n",
       "      <td>3</td>\n",
       "      <td>1</td>\n",
       "      <td>3</td>\n",
       "      <td>71.0</td>\n",
       "      <td>85.0</td>\n",
       "      <td>124.0</td>\n",
       "      <td>NaN</td>\n",
       "      <td>NaN</td>\n",
       "      <td>...</td>\n",
       "      <td>NaN</td>\n",
       "      <td>NaN</td>\n",
       "      <td>NaN</td>\n",
       "      <td>NaN</td>\n",
       "      <td>NaN</td>\n",
       "      <td>NaN</td>\n",
       "      <td>NaN</td>\n",
       "      <td>NaN</td>\n",
       "      <td>NaN</td>\n",
       "      <td>NaN</td>\n",
       "    </tr>\n",
       "    <tr>\n",
       "      <th>2018-03-01 04:00:00</th>\n",
       "      <td>43</td>\n",
       "      <td>2018</td>\n",
       "      <td>3</td>\n",
       "      <td>1</td>\n",
       "      <td>3</td>\n",
       "      <td>66.0</td>\n",
       "      <td>71.0</td>\n",
       "      <td>85.0</td>\n",
       "      <td>124.0</td>\n",
       "      <td>NaN</td>\n",
       "      <td>...</td>\n",
       "      <td>NaN</td>\n",
       "      <td>NaN</td>\n",
       "      <td>NaN</td>\n",
       "      <td>NaN</td>\n",
       "      <td>NaN</td>\n",
       "      <td>NaN</td>\n",
       "      <td>NaN</td>\n",
       "      <td>NaN</td>\n",
       "      <td>NaN</td>\n",
       "      <td>NaN</td>\n",
       "    </tr>\n",
       "  </tbody>\n",
       "</table>\n",
       "<p>5 rows × 26 columns</p>\n",
       "</div>"
      ],
      "text/plain": [
       "                     num_orders  year  month  day  dayofweek  lag_1  lag_2  \\\n",
       "datetime                                                                     \n",
       "2018-03-01 00:00:00         124  2018      3    1          3    NaN    NaN   \n",
       "2018-03-01 01:00:00          85  2018      3    1          3  124.0    NaN   \n",
       "2018-03-01 02:00:00          71  2018      3    1          3   85.0  124.0   \n",
       "2018-03-01 03:00:00          66  2018      3    1          3   71.0   85.0   \n",
       "2018-03-01 04:00:00          43  2018      3    1          3   66.0   71.0   \n",
       "\n",
       "                     lag_3  lag_4  lag_5  ...  lag_12  lag_13  lag_14  lag_15  \\\n",
       "datetime                                  ...                                   \n",
       "2018-03-01 00:00:00    NaN    NaN    NaN  ...     NaN     NaN     NaN     NaN   \n",
       "2018-03-01 01:00:00    NaN    NaN    NaN  ...     NaN     NaN     NaN     NaN   \n",
       "2018-03-01 02:00:00    NaN    NaN    NaN  ...     NaN     NaN     NaN     NaN   \n",
       "2018-03-01 03:00:00  124.0    NaN    NaN  ...     NaN     NaN     NaN     NaN   \n",
       "2018-03-01 04:00:00   85.0  124.0    NaN  ...     NaN     NaN     NaN     NaN   \n",
       "\n",
       "                     lag_16  lag_17  lag_18  lag_19  lag_20  rolling_mean  \n",
       "datetime                                                                   \n",
       "2018-03-01 00:00:00     NaN     NaN     NaN     NaN     NaN           NaN  \n",
       "2018-03-01 01:00:00     NaN     NaN     NaN     NaN     NaN           NaN  \n",
       "2018-03-01 02:00:00     NaN     NaN     NaN     NaN     NaN           NaN  \n",
       "2018-03-01 03:00:00     NaN     NaN     NaN     NaN     NaN           NaN  \n",
       "2018-03-01 04:00:00     NaN     NaN     NaN     NaN     NaN           NaN  \n",
       "\n",
       "[5 rows x 26 columns]"
      ]
     },
     "metadata": {},
     "output_type": "display_data"
    },
    {
     "name": "stdout",
     "output_type": "stream",
     "text": [
      "Размер data: (4416, 26)\n",
      "\n",
      "Информация о data:\n",
      "\n",
      "<class 'pandas.core.frame.DataFrame'>\n",
      "DatetimeIndex: 4416 entries, 2018-03-01 00:00:00 to 2018-08-31 23:00:00\n",
      "Freq: H\n",
      "Data columns (total 26 columns):\n",
      " #   Column        Non-Null Count  Dtype  \n",
      "---  ------        --------------  -----  \n",
      " 0   num_orders    4416 non-null   int64  \n",
      " 1   year          4416 non-null   int64  \n",
      " 2   month         4416 non-null   int64  \n",
      " 3   day           4416 non-null   int64  \n",
      " 4   dayofweek     4416 non-null   int64  \n",
      " 5   lag_1         4415 non-null   float64\n",
      " 6   lag_2         4414 non-null   float64\n",
      " 7   lag_3         4413 non-null   float64\n",
      " 8   lag_4         4412 non-null   float64\n",
      " 9   lag_5         4411 non-null   float64\n",
      " 10  lag_6         4410 non-null   float64\n",
      " 11  lag_7         4409 non-null   float64\n",
      " 12  lag_8         4408 non-null   float64\n",
      " 13  lag_9         4407 non-null   float64\n",
      " 14  lag_10        4406 non-null   float64\n",
      " 15  lag_11        4405 non-null   float64\n",
      " 16  lag_12        4404 non-null   float64\n",
      " 17  lag_13        4403 non-null   float64\n",
      " 18  lag_14        4402 non-null   float64\n",
      " 19  lag_15        4401 non-null   float64\n",
      " 20  lag_16        4400 non-null   float64\n",
      " 21  lag_17        4399 non-null   float64\n",
      " 22  lag_18        4398 non-null   float64\n",
      " 23  lag_19        4397 non-null   float64\n",
      " 24  lag_20        4396 non-null   float64\n",
      " 25  rolling_mean  4411 non-null   float64\n",
      "dtypes: float64(21), int64(5)\n",
      "memory usage: 931.5 KB\n"
     ]
    },
    {
     "data": {
      "text/plain": [
       "None"
      ]
     },
     "metadata": {},
     "output_type": "display_data"
    },
    {
     "data": {
      "text/html": [
       "<div>\n",
       "<style scoped>\n",
       "    .dataframe tbody tr th:only-of-type {\n",
       "        vertical-align: middle;\n",
       "    }\n",
       "\n",
       "    .dataframe tbody tr th {\n",
       "        vertical-align: top;\n",
       "    }\n",
       "\n",
       "    .dataframe thead th {\n",
       "        text-align: right;\n",
       "    }\n",
       "</style>\n",
       "<table border=\"1\" class=\"dataframe\">\n",
       "  <thead>\n",
       "    <tr style=\"text-align: right;\">\n",
       "      <th></th>\n",
       "      <th>num_orders</th>\n",
       "      <th>year</th>\n",
       "      <th>month</th>\n",
       "      <th>day</th>\n",
       "      <th>dayofweek</th>\n",
       "      <th>lag_1</th>\n",
       "      <th>lag_2</th>\n",
       "      <th>lag_3</th>\n",
       "      <th>lag_4</th>\n",
       "      <th>lag_5</th>\n",
       "      <th>...</th>\n",
       "      <th>lag_12</th>\n",
       "      <th>lag_13</th>\n",
       "      <th>lag_14</th>\n",
       "      <th>lag_15</th>\n",
       "      <th>lag_16</th>\n",
       "      <th>lag_17</th>\n",
       "      <th>lag_18</th>\n",
       "      <th>lag_19</th>\n",
       "      <th>lag_20</th>\n",
       "      <th>rolling_mean</th>\n",
       "    </tr>\n",
       "  </thead>\n",
       "  <tbody>\n",
       "    <tr>\n",
       "      <th>count</th>\n",
       "      <td>4416.000000</td>\n",
       "      <td>4416.0</td>\n",
       "      <td>4416.000000</td>\n",
       "      <td>4416.000000</td>\n",
       "      <td>4416.000000</td>\n",
       "      <td>4415.000000</td>\n",
       "      <td>4414.000000</td>\n",
       "      <td>4413.000000</td>\n",
       "      <td>4412.000000</td>\n",
       "      <td>4411.000000</td>\n",
       "      <td>...</td>\n",
       "      <td>4404.000000</td>\n",
       "      <td>4403.000000</td>\n",
       "      <td>4402.00000</td>\n",
       "      <td>4401.000000</td>\n",
       "      <td>4400.000000</td>\n",
       "      <td>4399.000000</td>\n",
       "      <td>4398.000000</td>\n",
       "      <td>4397.000000</td>\n",
       "      <td>4396.000000</td>\n",
       "      <td>4411.000000</td>\n",
       "    </tr>\n",
       "    <tr>\n",
       "      <th>mean</th>\n",
       "      <td>84.422781</td>\n",
       "      <td>2018.0</td>\n",
       "      <td>5.505435</td>\n",
       "      <td>15.836957</td>\n",
       "      <td>3.005435</td>\n",
       "      <td>84.395470</td>\n",
       "      <td>84.364069</td>\n",
       "      <td>84.347156</td>\n",
       "      <td>84.331369</td>\n",
       "      <td>84.319655</td>\n",
       "      <td>...</td>\n",
       "      <td>84.187557</td>\n",
       "      <td>84.168749</td>\n",
       "      <td>84.14448</td>\n",
       "      <td>84.117473</td>\n",
       "      <td>84.095227</td>\n",
       "      <td>84.103887</td>\n",
       "      <td>84.115052</td>\n",
       "      <td>84.116443</td>\n",
       "      <td>84.074613</td>\n",
       "      <td>84.346316</td>\n",
       "    </tr>\n",
       "    <tr>\n",
       "      <th>std</th>\n",
       "      <td>45.023853</td>\n",
       "      <td>0.0</td>\n",
       "      <td>1.713306</td>\n",
       "      <td>8.855229</td>\n",
       "      <td>1.990684</td>\n",
       "      <td>44.992356</td>\n",
       "      <td>44.949043</td>\n",
       "      <td>44.940088</td>\n",
       "      <td>44.932942</td>\n",
       "      <td>44.931299</td>\n",
       "      <td>...</td>\n",
       "      <td>44.819924</td>\n",
       "      <td>44.807630</td>\n",
       "      <td>44.78377</td>\n",
       "      <td>44.752994</td>\n",
       "      <td>44.733738</td>\n",
       "      <td>44.735135</td>\n",
       "      <td>44.734091</td>\n",
       "      <td>44.739084</td>\n",
       "      <td>44.658098</td>\n",
       "      <td>34.297233</td>\n",
       "    </tr>\n",
       "    <tr>\n",
       "      <th>min</th>\n",
       "      <td>0.000000</td>\n",
       "      <td>2018.0</td>\n",
       "      <td>3.000000</td>\n",
       "      <td>1.000000</td>\n",
       "      <td>0.000000</td>\n",
       "      <td>0.000000</td>\n",
       "      <td>0.000000</td>\n",
       "      <td>0.000000</td>\n",
       "      <td>0.000000</td>\n",
       "      <td>0.000000</td>\n",
       "      <td>...</td>\n",
       "      <td>0.000000</td>\n",
       "      <td>0.000000</td>\n",
       "      <td>0.00000</td>\n",
       "      <td>0.000000</td>\n",
       "      <td>0.000000</td>\n",
       "      <td>0.000000</td>\n",
       "      <td>0.000000</td>\n",
       "      <td>0.000000</td>\n",
       "      <td>0.000000</td>\n",
       "      <td>16.000000</td>\n",
       "    </tr>\n",
       "    <tr>\n",
       "      <th>25%</th>\n",
       "      <td>54.000000</td>\n",
       "      <td>2018.0</td>\n",
       "      <td>4.000000</td>\n",
       "      <td>8.000000</td>\n",
       "      <td>1.000000</td>\n",
       "      <td>54.000000</td>\n",
       "      <td>54.000000</td>\n",
       "      <td>54.000000</td>\n",
       "      <td>54.000000</td>\n",
       "      <td>54.000000</td>\n",
       "      <td>...</td>\n",
       "      <td>54.000000</td>\n",
       "      <td>54.000000</td>\n",
       "      <td>54.00000</td>\n",
       "      <td>54.000000</td>\n",
       "      <td>54.000000</td>\n",
       "      <td>54.000000</td>\n",
       "      <td>54.000000</td>\n",
       "      <td>54.000000</td>\n",
       "      <td>54.000000</td>\n",
       "      <td>61.600000</td>\n",
       "    </tr>\n",
       "    <tr>\n",
       "      <th>50%</th>\n",
       "      <td>78.000000</td>\n",
       "      <td>2018.0</td>\n",
       "      <td>5.500000</td>\n",
       "      <td>16.000000</td>\n",
       "      <td>3.000000</td>\n",
       "      <td>78.000000</td>\n",
       "      <td>78.000000</td>\n",
       "      <td>78.000000</td>\n",
       "      <td>78.000000</td>\n",
       "      <td>78.000000</td>\n",
       "      <td>...</td>\n",
       "      <td>78.000000</td>\n",
       "      <td>78.000000</td>\n",
       "      <td>78.00000</td>\n",
       "      <td>78.000000</td>\n",
       "      <td>78.000000</td>\n",
       "      <td>78.000000</td>\n",
       "      <td>78.000000</td>\n",
       "      <td>78.000000</td>\n",
       "      <td>78.000000</td>\n",
       "      <td>78.800000</td>\n",
       "    </tr>\n",
       "    <tr>\n",
       "      <th>75%</th>\n",
       "      <td>107.000000</td>\n",
       "      <td>2018.0</td>\n",
       "      <td>7.000000</td>\n",
       "      <td>23.250000</td>\n",
       "      <td>5.000000</td>\n",
       "      <td>107.000000</td>\n",
       "      <td>107.000000</td>\n",
       "      <td>107.000000</td>\n",
       "      <td>107.000000</td>\n",
       "      <td>107.000000</td>\n",
       "      <td>...</td>\n",
       "      <td>107.000000</td>\n",
       "      <td>107.000000</td>\n",
       "      <td>107.00000</td>\n",
       "      <td>107.000000</td>\n",
       "      <td>107.000000</td>\n",
       "      <td>107.000000</td>\n",
       "      <td>107.000000</td>\n",
       "      <td>107.000000</td>\n",
       "      <td>107.000000</td>\n",
       "      <td>102.600000</td>\n",
       "    </tr>\n",
       "    <tr>\n",
       "      <th>max</th>\n",
       "      <td>462.000000</td>\n",
       "      <td>2018.0</td>\n",
       "      <td>8.000000</td>\n",
       "      <td>31.000000</td>\n",
       "      <td>6.000000</td>\n",
       "      <td>462.000000</td>\n",
       "      <td>462.000000</td>\n",
       "      <td>462.000000</td>\n",
       "      <td>462.000000</td>\n",
       "      <td>462.000000</td>\n",
       "      <td>...</td>\n",
       "      <td>462.000000</td>\n",
       "      <td>462.000000</td>\n",
       "      <td>462.00000</td>\n",
       "      <td>462.000000</td>\n",
       "      <td>462.000000</td>\n",
       "      <td>462.000000</td>\n",
       "      <td>462.000000</td>\n",
       "      <td>462.000000</td>\n",
       "      <td>462.000000</td>\n",
       "      <td>286.200000</td>\n",
       "    </tr>\n",
       "  </tbody>\n",
       "</table>\n",
       "<p>8 rows × 26 columns</p>\n",
       "</div>"
      ],
      "text/plain": [
       "        num_orders    year        month          day    dayofweek  \\\n",
       "count  4416.000000  4416.0  4416.000000  4416.000000  4416.000000   \n",
       "mean     84.422781  2018.0     5.505435    15.836957     3.005435   \n",
       "std      45.023853     0.0     1.713306     8.855229     1.990684   \n",
       "min       0.000000  2018.0     3.000000     1.000000     0.000000   \n",
       "25%      54.000000  2018.0     4.000000     8.000000     1.000000   \n",
       "50%      78.000000  2018.0     5.500000    16.000000     3.000000   \n",
       "75%     107.000000  2018.0     7.000000    23.250000     5.000000   \n",
       "max     462.000000  2018.0     8.000000    31.000000     6.000000   \n",
       "\n",
       "             lag_1        lag_2        lag_3        lag_4        lag_5  ...  \\\n",
       "count  4415.000000  4414.000000  4413.000000  4412.000000  4411.000000  ...   \n",
       "mean     84.395470    84.364069    84.347156    84.331369    84.319655  ...   \n",
       "std      44.992356    44.949043    44.940088    44.932942    44.931299  ...   \n",
       "min       0.000000     0.000000     0.000000     0.000000     0.000000  ...   \n",
       "25%      54.000000    54.000000    54.000000    54.000000    54.000000  ...   \n",
       "50%      78.000000    78.000000    78.000000    78.000000    78.000000  ...   \n",
       "75%     107.000000   107.000000   107.000000   107.000000   107.000000  ...   \n",
       "max     462.000000   462.000000   462.000000   462.000000   462.000000  ...   \n",
       "\n",
       "            lag_12       lag_13      lag_14       lag_15       lag_16  \\\n",
       "count  4404.000000  4403.000000  4402.00000  4401.000000  4400.000000   \n",
       "mean     84.187557    84.168749    84.14448    84.117473    84.095227   \n",
       "std      44.819924    44.807630    44.78377    44.752994    44.733738   \n",
       "min       0.000000     0.000000     0.00000     0.000000     0.000000   \n",
       "25%      54.000000    54.000000    54.00000    54.000000    54.000000   \n",
       "50%      78.000000    78.000000    78.00000    78.000000    78.000000   \n",
       "75%     107.000000   107.000000   107.00000   107.000000   107.000000   \n",
       "max     462.000000   462.000000   462.00000   462.000000   462.000000   \n",
       "\n",
       "            lag_17       lag_18       lag_19       lag_20  rolling_mean  \n",
       "count  4399.000000  4398.000000  4397.000000  4396.000000   4411.000000  \n",
       "mean     84.103887    84.115052    84.116443    84.074613     84.346316  \n",
       "std      44.735135    44.734091    44.739084    44.658098     34.297233  \n",
       "min       0.000000     0.000000     0.000000     0.000000     16.000000  \n",
       "25%      54.000000    54.000000    54.000000    54.000000     61.600000  \n",
       "50%      78.000000    78.000000    78.000000    78.000000     78.800000  \n",
       "75%     107.000000   107.000000   107.000000   107.000000    102.600000  \n",
       "max     462.000000   462.000000   462.000000   462.000000    286.200000  \n",
       "\n",
       "[8 rows x 26 columns]"
      ]
     },
     "metadata": {},
     "output_type": "display_data"
    },
    {
     "name": "stdout",
     "output_type": "stream",
     "text": [
      "Кол-во пропущенных значений в data:\n"
     ]
    },
    {
     "data": {
      "text/plain": [
       "num_orders       0\n",
       "year             0\n",
       "month            0\n",
       "day              0\n",
       "dayofweek        0\n",
       "lag_1            1\n",
       "lag_2            2\n",
       "lag_3            3\n",
       "lag_4            4\n",
       "lag_5            5\n",
       "lag_6            6\n",
       "lag_7            7\n",
       "lag_8            8\n",
       "lag_9            9\n",
       "lag_10          10\n",
       "lag_11          11\n",
       "lag_12          12\n",
       "lag_13          13\n",
       "lag_14          14\n",
       "lag_15          15\n",
       "lag_16          16\n",
       "lag_17          17\n",
       "lag_18          18\n",
       "lag_19          19\n",
       "lag_20          20\n",
       "rolling_mean     5\n",
       "dtype: int64"
      ]
     },
     "metadata": {},
     "output_type": "display_data"
    },
    {
     "name": "stdout",
     "output_type": "stream",
     "text": [
      "\n",
      "Кол-во дубликатов в data: 0\n"
     ]
    }
   ],
   "source": [
    "def make_features(data, max_lag, rolling_mean_size):\n",
    "    \n",
    "    data['year'] = data.index.year\n",
    "    data['month'] = data.index.month\n",
    "    data['day'] = data.index.day\n",
    "    data['dayofweek'] = data.index.dayofweek\n",
    "    \n",
    "    for i in range(1, max_lag + 1): # чтобы не вышел за рендж\n",
    "        data['lag_{}'.format(i)] = data['num_orders'].shift(i)\n",
    "        \n",
    "    data['rolling_mean'] = data['num_orders'].shift().rolling(rolling_mean_size).mean()\n",
    "    \n",
    "make_features(data, 20, 5)\n",
    "my_info(data, 'data')"
   ]
  },
  {
   "cell_type": "markdown",
   "metadata": {},
   "source": [
    "**Добавили признаки в датафрейм.** Вывели функцией информацию о новом датасете. Подмечаем логичное появление пропусков, так как произошли сдвиги командой `shift()`. В дальнейшем мы избавимся от них. \n",
    "\n",
    "Теперь для обучения нужно их разделить. `Разделим датасет на выборки (обучающую и тестовую) и определим признаки`\n",
    "\n",
    "* Методом `train_test_split()` поделим данные на выборки, поставим чтобы он их не мешал аргументом `shuffle=False`, так как данные обучающей выборки должны предшествовать данным тестовой. Иначе тестирование модели будет некорректным, то есть чтобы модель не обучалась значениями из будущего ставим этот аргумент\n",
    "\n",
    "\n",
    "* В поставленной задаче сказано, что `нужно сделать тестовую выборку` размером **10%** `от исходных данных`. Ставим деление аргументом `test_size=0.1`\n",
    "\n",
    "\n",
    "* Далее введем функцию **sample(x)**, где **x** - это выборка (`обучающая или тестовая`), которая разделит признаки и целевой по выборкам"
   ]
  },
  {
   "cell_type": "code",
   "execution_count": 14,
   "metadata": {
    "scrolled": false
   },
   "outputs": [
    {
     "name": "stdout",
     "output_type": "stream",
     "text": [
      "Размер выборки: (3954, 25)\n",
      "Размер выборки: (442, 25)\n",
      "\n",
      "Обучающая: с 2018-03-01 20:00:00 по 2018-08-13 13:00:00\n",
      "Тестовая: с 2018-08-13 14:00:00 по 2018-08-31 23:00:00\n"
     ]
    }
   ],
   "source": [
    "train, test = train_test_split(data, shuffle=False, test_size=0.1)\n",
    "train = train.dropna() # избавляемся от пропусков\n",
    "\n",
    "def sample(x):\n",
    "    \n",
    "    features = x.drop('num_orders', axis=1)\n",
    "    target = x['num_orders']\n",
    "    \n",
    "    print(f'Размер выборки: {features.shape}') # проверяем корректное деление\n",
    "\n",
    "    return features, target\n",
    "\n",
    "features_train, target_train = sample(train)\n",
    "features_test, target_test = sample(test)\n",
    "print()\n",
    "print(f'Обучающая: с {train.index.min()} по {train.index.max()}') # убедиться в корректности деления\n",
    "print(f'Тестовая: с {test.index.min()} по {test.index.max()}')\n",
    "#my_info(features_test, 'test')"
   ]
  },
  {
   "cell_type": "markdown",
   "metadata": {},
   "source": [
    "## Обучение\n",
    "\n",
    "Теперь приступаем к обучению моделей\n",
    "\n",
    "Параметры будем подбирать с помощью **GridSearchCV**\n",
    "\n",
    "В задаче сказано, что для `оценки качества моделей применятся метрика` **RMSE**. Значение метрики **RMSE** на тестовой выборке должно быть не больше **48**.\n",
    "\n",
    "* Введем функцию, которая будет расчитывать метрику **RMSE**"
   ]
  },
  {
   "cell_type": "code",
   "execution_count": 15,
   "metadata": {},
   "outputs": [],
   "source": [
    "def rmse(target, predict):\n",
    "    mse = mean_squared_error(target, predict)\n",
    "    rmse = np.sqrt(mse)\n",
    "    \n",
    "    return rmse"
   ]
  },
  {
   "cell_type": "markdown",
   "metadata": {},
   "source": [
    "* Создаем функцию для рассчитывания параметров и лучшего значения для **rmse**. Считать будем при помощи **`GridSearchCV()`**. Эта техника обучает модель с заданными нами в перечни параметрами, из которых выберет лучшие для метрики **rmse**, используя кросс валидацию (после проведем финальную проверку на тестовой). \n",
    "\n",
    "* С помощью параметра `make_scorer()` внесем расчетную метрику - нашу **функцию rmse**, а также параметр `greater_is_better=False` (принято ставить `greater_is_better=False` для метрик, которые являются лоссами). Так как на выходе получается отрицательное число, приводим его в абсолютное с помощью `abs()`, чтобы не посчитал иначе при использовании этого параметра.\n",
    "\n",
    "* Лучшее значение **rmse** выводим с помощью атрибута `.best_score_`, а лучшие параметры с помощью `.best_params_`\n",
    "\n",
    "На вход функция принимает **5 аргументов**: `сама модель`, `перечень параметров`, `признаки`, `целевой признак` и `название модели`. С ее помощью мы найдем лучшее значение **RMSE** с лучшими гиперпараметрами. Затем проверим модели на тестовой выборке и сравним значение **RMSE**\n",
    "\n",
    "**Важно**\n",
    "\n",
    "При работе с временными рядами нельзя использовать стандартную `кросс-валидацию`, так как в определенный момент тренировочная выборка окажется позже валидационной. Для решения этой проблемы стоит использовать **`TimeSeriesSplit`**. Объект этого типа нужно передать в параметр **`cv`** в метод основанный на `кросс-валидации`."
   ]
  },
  {
   "cell_type": "code",
   "execution_count": 16,
   "metadata": {},
   "outputs": [],
   "source": [
    "def best_model(model, params, features, target, model_name):\n",
    "    \n",
    "    tss = TimeSeriesSplit(n_splits=5)\n",
    "    cvs = GridSearchCV(model, params, scoring=make_scorer(rmse, greater_is_better=False), cv=tss)\n",
    "    \n",
    "    cvs.fit(features, target)\n",
    "    \n",
    "    print(f'Лучшие параметры модели {model_name}: {cvs.best_params_}')\n",
    "    print()\n",
    "    print(f'Лучший RMSE модели {model_name}: {round(abs(cvs.best_score_), 4)}')\n",
    "    print()"
   ]
  },
  {
   "cell_type": "markdown",
   "metadata": {},
   "source": [
    "* Первой будет модель **Линейной Регрессии**. Сначала выявим гиперпараметр при лучшем значении **RMSE** посчитанным **GridSearch**"
   ]
  },
  {
   "cell_type": "code",
   "execution_count": 17,
   "metadata": {},
   "outputs": [
    {
     "name": "stdout",
     "output_type": "stream",
     "text": [
      "Лучшие параметры модели Линейной Регрессии: {'normalize': False}\n",
      "\n",
      "Лучший RMSE модели Линейной Регрессии: 31.275\n",
      "\n",
      "CPU times: user 452 ms, sys: 1.27 s, total: 1.72 s\n",
      "Wall time: 1.71 s\n"
     ]
    }
   ],
   "source": [
    "%%time\n",
    "\n",
    "model_lr = LinearRegression()\n",
    "\n",
    "params_lr = {'normalize': [True, False]}\n",
    "\n",
    "best_model(model_lr, params_lr, features_train, target_train, 'Линейной Регрессии')"
   ]
  },
  {
   "cell_type": "markdown",
   "metadata": {},
   "source": [
    "Теперь обучим модель с этмм гиперпараметром и посмотрим значение **RMSE**. При анализе модели, мы будем предсказывать на обучающей выборке и соответственно считать **RMSE** тоже на ней. Финальное тестирование проведем на тестовой выборке."
   ]
  },
  {
   "cell_type": "code",
   "execution_count": 18,
   "metadata": {},
   "outputs": [
    {
     "name": "stdout",
     "output_type": "stream",
     "text": [
      "RMSE модели Линейной Регрессии: 29.2486\n",
      "CPU times: user 48.6 ms, sys: 142 ms, total: 190 ms\n",
      "Wall time: 199 ms\n"
     ]
    }
   ],
   "source": [
    "%%time\n",
    "\n",
    "model_lr = LinearRegression(normalize=True)\n",
    "model_lr.fit(features_train, target_train)\n",
    "predict_lr = model_lr.predict(features_train)\n",
    "rmse_lr = rmse(target_train, predict_lr)\n",
    "print(f'RMSE модели Линейной Регрессии: {round(rmse_lr, 4)}')"
   ]
  },
  {
   "cell_type": "markdown",
   "metadata": {},
   "source": [
    "* Используем модели градиентного бустинга. Начнем с **CatBoostRegressor**"
   ]
  },
  {
   "cell_type": "code",
   "execution_count": 19,
   "metadata": {
    "scrolled": true
   },
   "outputs": [
    {
     "name": "stdout",
     "output_type": "stream",
     "text": [
      "Learning rate set to 0.29878\n",
      "0:\tlearn: 27.5069196\ttotal: 46.6ms\tremaining: 3.68s\n",
      "50:\tlearn: 16.6533710\ttotal: 69.2ms\tremaining: 39.4ms\n",
      "79:\tlearn: 14.9442637\ttotal: 87.8ms\tremaining: 0us\n",
      "Learning rate set to 0.33336\n",
      "0:\tlearn: 27.8797220\ttotal: 791us\tremaining: 62.5ms\n",
      "50:\tlearn: 18.8985450\ttotal: 27.2ms\tremaining: 15.5ms\n",
      "79:\tlearn: 17.4291181\ttotal: 43.8ms\tremaining: 0us\n",
      "Learning rate set to 0.355416\n",
      "0:\tlearn: 29.4800057\ttotal: 952us\tremaining: 75.2ms\n",
      "50:\tlearn: 20.1275522\ttotal: 34.9ms\tremaining: 19.9ms\n",
      "79:\tlearn: 18.7022004\ttotal: 54.3ms\tremaining: 0us\n",
      "Learning rate set to 0.371943\n",
      "0:\tlearn: 30.8913341\ttotal: 1.19ms\tremaining: 93.8ms\n",
      "50:\tlearn: 21.5039055\ttotal: 39.7ms\tremaining: 22.6ms\n",
      "79:\tlearn: 20.0135094\ttotal: 63.4ms\tremaining: 0us\n",
      "Learning rate set to 0.385291\n",
      "0:\tlearn: 32.2203921\ttotal: 1.17ms\tremaining: 92.2ms\n",
      "50:\tlearn: 22.8158985\ttotal: 44.5ms\tremaining: 25.3ms\n",
      "79:\tlearn: 21.6142235\ttotal: 71ms\tremaining: 0us\n",
      "Learning rate set to 0.29878\n",
      "0:\tlearn: 27.3727831\ttotal: 1.73ms\tremaining: 137ms\n",
      "50:\tlearn: 12.1408079\ttotal: 53.2ms\tremaining: 30.2ms\n",
      "79:\tlearn: 9.4655789\ttotal: 82.5ms\tremaining: 0us\n",
      "Learning rate set to 0.33336\n",
      "0:\tlearn: 27.4300191\ttotal: 1.84ms\tremaining: 146ms\n",
      "50:\tlearn: 14.9023829\ttotal: 66.2ms\tremaining: 37.6ms\n",
      "79:\tlearn: 12.4358459\ttotal: 104ms\tremaining: 0us\n",
      "Learning rate set to 0.355416\n",
      "0:\tlearn: 29.0143241\ttotal: 1.96ms\tremaining: 155ms\n",
      "50:\tlearn: 16.3637004\ttotal: 85ms\tremaining: 48.4ms\n",
      "79:\tlearn: 14.4576986\ttotal: 125ms\tremaining: 0us\n",
      "Learning rate set to 0.371943\n",
      "0:\tlearn: 30.2928041\ttotal: 1.89ms\tremaining: 149ms\n",
      "50:\tlearn: 18.0293835\ttotal: 78.6ms\tremaining: 44.7ms\n",
      "79:\tlearn: 15.9750789\ttotal: 124ms\tremaining: 0us\n",
      "Learning rate set to 0.385291\n",
      "0:\tlearn: 31.9623598\ttotal: 2.2ms\tremaining: 174ms\n",
      "50:\tlearn: 19.4885467\ttotal: 91.3ms\tremaining: 51.9ms\n",
      "79:\tlearn: 17.5646223\ttotal: 141ms\tremaining: 0us\n",
      "Learning rate set to 0.29878\n",
      "0:\tlearn: 26.9404440\ttotal: 3.77ms\tremaining: 298ms\n",
      "50:\tlearn: 8.8295462\ttotal: 142ms\tremaining: 80.7ms\n",
      "79:\tlearn: 6.2353295\ttotal: 220ms\tremaining: 0us\n",
      "Learning rate set to 0.33336\n",
      "0:\tlearn: 27.4089629\ttotal: 3.88ms\tremaining: 307ms\n",
      "50:\tlearn: 11.0803815\ttotal: 154ms\tremaining: 87.4ms\n",
      "79:\tlearn: 8.2782847\ttotal: 238ms\tremaining: 0us\n",
      "Learning rate set to 0.355416\n",
      "0:\tlearn: 28.5669200\ttotal: 4.35ms\tremaining: 344ms\n",
      "50:\tlearn: 13.2256849\ttotal: 169ms\tremaining: 96ms\n",
      "79:\tlearn: 10.4425778\ttotal: 264ms\tremaining: 0us\n",
      "Learning rate set to 0.371943\n",
      "0:\tlearn: 29.8479884\ttotal: 4.53ms\tremaining: 358ms\n",
      "50:\tlearn: 14.8556880\ttotal: 182ms\tremaining: 104ms\n",
      "79:\tlearn: 12.1167920\ttotal: 293ms\tremaining: 0us\n",
      "Learning rate set to 0.385291\n",
      "0:\tlearn: 31.7112890\ttotal: 6.26ms\tremaining: 494ms\n",
      "50:\tlearn: 16.4417896\ttotal: 213ms\tremaining: 121ms\n",
      "79:\tlearn: 13.9651511\ttotal: 324ms\tremaining: 0us\n",
      "Learning rate set to 0.222442\n",
      "0:\tlearn: 28.0165428\ttotal: 675us\tremaining: 77ms\n",
      "50:\tlearn: 17.9277196\ttotal: 22.7ms\tremaining: 28.5ms\n",
      "100:\tlearn: 15.1267835\ttotal: 46ms\tremaining: 6.37ms\n",
      "114:\tlearn: 14.5515171\ttotal: 53.6ms\tremaining: 0us\n",
      "Learning rate set to 0.248187\n",
      "0:\tlearn: 28.4350192\ttotal: 749us\tremaining: 85.4ms\n",
      "50:\tlearn: 19.8946592\ttotal: 29.5ms\tremaining: 37ms\n",
      "100:\tlearn: 17.5371825\ttotal: 57.9ms\tremaining: 8.03ms\n",
      "114:\tlearn: 17.0684741\ttotal: 66.3ms\tremaining: 0us\n",
      "Learning rate set to 0.264607\n",
      "0:\tlearn: 30.0314338\ttotal: 924us\tremaining: 105ms\n",
      "50:\tlearn: 21.2224847\ttotal: 35.5ms\tremaining: 44.5ms\n",
      "100:\tlearn: 18.8893889\ttotal: 69ms\tremaining: 9.57ms\n",
      "114:\tlearn: 18.4092481\ttotal: 78.1ms\tremaining: 0us\n",
      "Learning rate set to 0.276912\n",
      "0:\tlearn: 31.4309972\ttotal: 958us\tremaining: 109ms\n",
      "50:\tlearn: 22.2552004\ttotal: 43.2ms\tremaining: 54.1ms\n",
      "100:\tlearn: 20.3079103\ttotal: 82ms\tremaining: 11.4ms\n",
      "114:\tlearn: 19.9070390\ttotal: 93ms\tremaining: 0us\n",
      "Learning rate set to 0.286849\n",
      "0:\tlearn: 32.7773722\ttotal: 1.15ms\tremaining: 131ms\n",
      "50:\tlearn: 23.5660328\ttotal: 49.2ms\tremaining: 61.7ms\n",
      "100:\tlearn: 21.5848702\ttotal: 92.6ms\tremaining: 12.8ms\n",
      "114:\tlearn: 21.2542077\ttotal: 105ms\tremaining: 0us\n",
      "Learning rate set to 0.222442\n",
      "0:\tlearn: 27.9157047\ttotal: 1.19ms\tremaining: 136ms\n",
      "50:\tlearn: 14.1080950\ttotal: 51.8ms\tremaining: 65ms\n",
      "100:\tlearn: 10.4815730\ttotal: 101ms\tremaining: 14.1ms\n",
      "114:\tlearn: 9.6871706\ttotal: 115ms\tremaining: 0us\n",
      "Learning rate set to 0.248187\n",
      "0:\tlearn: 28.0975416\ttotal: 1.88ms\tremaining: 215ms\n",
      "50:\tlearn: 16.5588949\ttotal: 80ms\tremaining: 100ms\n",
      "100:\tlearn: 13.0169068\ttotal: 141ms\tremaining: 19.5ms\n",
      "114:\tlearn: 12.2889939\ttotal: 158ms\tremaining: 0us\n",
      "Learning rate set to 0.264607\n",
      "0:\tlearn: 29.6746764\ttotal: 1.76ms\tremaining: 201ms\n",
      "50:\tlearn: 17.8257822\ttotal: 75.9ms\tremaining: 95.2ms\n",
      "100:\tlearn: 14.7432468\ttotal: 147ms\tremaining: 20.3ms\n",
      "114:\tlearn: 14.1259469\ttotal: 166ms\tremaining: 0us\n",
      "Learning rate set to 0.276912\n",
      "0:\tlearn: 30.9704133\ttotal: 2ms\tremaining: 228ms\n",
      "50:\tlearn: 19.0780578\ttotal: 81.8ms\tremaining: 103ms\n",
      "100:\tlearn: 16.2920848\ttotal: 164ms\tremaining: 22.8ms\n",
      "114:\tlearn: 15.7854783\ttotal: 189ms\tremaining: 0us\n",
      "Learning rate set to 0.286849\n",
      "0:\tlearn: 32.5781840\ttotal: 2.4ms\tremaining: 273ms\n",
      "50:\tlearn: 20.6375200\ttotal: 91.8ms\tremaining: 115ms\n",
      "100:\tlearn: 17.7826725\ttotal: 183ms\tremaining: 25.4ms\n",
      "114:\tlearn: 17.2287112\ttotal: 206ms\tremaining: 0us\n",
      "Learning rate set to 0.222442\n",
      "0:\tlearn: 27.5932944\ttotal: 3.44ms\tremaining: 392ms\n",
      "50:\tlearn: 10.1938890\ttotal: 142ms\tremaining: 178ms\n",
      "100:\tlearn: 6.0367425\ttotal: 271ms\tremaining: 37.5ms\n",
      "114:\tlearn: 5.3268316\ttotal: 308ms\tremaining: 0us\n",
      "Learning rate set to 0.248187\n",
      "0:\tlearn: 28.0831313\ttotal: 3.36ms\tremaining: 383ms\n",
      "50:\tlearn: 13.1390560\ttotal: 149ms\tremaining: 187ms\n",
      "100:\tlearn: 9.0609012\ttotal: 293ms\tremaining: 40.6ms\n",
      "114:\tlearn: 8.1640390\ttotal: 333ms\tremaining: 0us\n",
      "Learning rate set to 0.264607\n",
      "0:\tlearn: 29.3362251\ttotal: 4.38ms\tremaining: 499ms\n",
      "50:\tlearn: 14.4205854\ttotal: 181ms\tremaining: 227ms\n",
      "100:\tlearn: 10.7354197\ttotal: 356ms\tremaining: 49.3ms\n",
      "114:\tlearn: 9.8985225\ttotal: 404ms\tremaining: 0us\n",
      "Learning rate set to 0.276912\n",
      "0:\tlearn: 30.6350591\ttotal: 4.03ms\tremaining: 460ms\n",
      "50:\tlearn: 16.1582353\ttotal: 178ms\tremaining: 223ms\n",
      "100:\tlearn: 12.5059649\ttotal: 357ms\tremaining: 49.5ms\n",
      "114:\tlearn: 11.6243659\ttotal: 406ms\tremaining: 0us\n",
      "Learning rate set to 0.286849\n",
      "0:\tlearn: 32.3865208\ttotal: 4.4ms\tremaining: 502ms\n",
      "50:\tlearn: 17.7248404\ttotal: 197ms\tremaining: 248ms\n",
      "100:\tlearn: 13.8092166\ttotal: 398ms\tremaining: 55.2ms\n",
      "114:\tlearn: 12.9622205\ttotal: 454ms\tremaining: 0us\n",
      "Learning rate set to 0.179226\n",
      "0:\tlearn: 28.3228895\ttotal: 622us\tremaining: 92.8ms\n",
      "50:\tlearn: 18.5039589\ttotal: 24.9ms\tremaining: 48.4ms\n",
      "100:\tlearn: 15.8155586\ttotal: 49.2ms\tremaining: 23.9ms\n",
      "149:\tlearn: 14.3418219\ttotal: 72.3ms\tremaining: 0us\n",
      "Learning rate set to 0.19997\n",
      "0:\tlearn: 28.7728282\ttotal: 783us\tremaining: 117ms\n",
      "50:\tlearn: 20.6194074\ttotal: 28.3ms\tremaining: 54.9ms\n",
      "100:\tlearn: 18.5077586\ttotal: 57ms\tremaining: 27.7ms\n",
      "149:\tlearn: 17.2146468\ttotal: 84.7ms\tremaining: 0us\n",
      "Learning rate set to 0.2132\n",
      "0:\tlearn: 30.3702960\ttotal: 902us\tremaining: 134ms\n",
      "50:\tlearn: 21.7312675\ttotal: 35.3ms\tremaining: 68.5ms\n",
      "100:\tlearn: 19.6172759\ttotal: 69.8ms\tremaining: 33.9ms\n",
      "149:\tlearn: 18.3607653\ttotal: 107ms\tremaining: 0us\n",
      "Learning rate set to 0.223114\n",
      "0:\tlearn: 31.7651358\ttotal: 950us\tremaining: 142ms\n",
      "50:\tlearn: 22.9482420\ttotal: 39.1ms\tremaining: 75.9ms\n",
      "100:\tlearn: 20.8511571\ttotal: 77.9ms\tremaining: 37.8ms\n",
      "149:\tlearn: 19.7441519\ttotal: 114ms\tremaining: 0us\n",
      "Learning rate set to 0.231121\n",
      "0:\tlearn: 33.1242757\ttotal: 1.16ms\tremaining: 173ms\n",
      "50:\tlearn: 24.1272669\ttotal: 45.4ms\tremaining: 88.2ms\n",
      "100:\tlearn: 22.1810076\ttotal: 90.7ms\tremaining: 44ms\n",
      "149:\tlearn: 21.0780998\ttotal: 136ms\tremaining: 0us\n",
      "Learning rate set to 0.179226\n",
      "0:\tlearn: 28.2412632\ttotal: 1.24ms\tremaining: 185ms\n",
      "50:\tlearn: 14.7921345\ttotal: 54.2ms\tremaining: 105ms\n",
      "100:\tlearn: 11.2638755\ttotal: 107ms\tremaining: 51.8ms\n",
      "149:\tlearn: 8.9823106\ttotal: 156ms\tremaining: 0us\n",
      "Learning rate set to 0.19997\n",
      "0:\tlearn: 28.4999651\ttotal: 1.41ms\tremaining: 210ms\n",
      "50:\tlearn: 17.4383556\ttotal: 69.6ms\tremaining: 135ms\n",
      "100:\tlearn: 13.8523164\ttotal: 141ms\tremaining: 68.3ms\n",
      "149:\tlearn: 11.6837996\ttotal: 205ms\tremaining: 0us\n",
      "Learning rate set to 0.2132\n",
      "0:\tlearn: 30.0786794\ttotal: 1.75ms\tremaining: 260ms\n",
      "50:\tlearn: 18.3577395\ttotal: 75.3ms\tremaining: 146ms\n",
      "100:\tlearn: 15.6614931\ttotal: 149ms\tremaining: 72.3ms\n",
      "149:\tlearn: 13.7367218\ttotal: 229ms\tremaining: 0us\n",
      "Learning rate set to 0.223114\n",
      "0:\tlearn: 31.3877813\ttotal: 2.09ms\tremaining: 311ms\n",
      "50:\tlearn: 20.0426549\ttotal: 80.9ms\tremaining: 157ms\n",
      "100:\tlearn: 16.9951407\ttotal: 169ms\tremaining: 82.1ms\n",
      "149:\tlearn: 15.2561413\ttotal: 255ms\tremaining: 0us\n",
      "Learning rate set to 0.231121\n",
      "0:\tlearn: 32.9608066\ttotal: 2.73ms\tremaining: 406ms\n",
      "50:\tlearn: 20.9958759\ttotal: 110ms\tremaining: 213ms\n",
      "100:\tlearn: 18.4627989\ttotal: 203ms\tremaining: 98.4ms\n",
      "149:\tlearn: 16.5636977\ttotal: 290ms\tremaining: 0us\n",
      "Learning rate set to 0.179226\n",
      "0:\tlearn: 27.9814255\ttotal: 3.14ms\tremaining: 468ms\n",
      "50:\tlearn: 11.8786916\ttotal: 130ms\tremaining: 252ms\n",
      "100:\tlearn: 8.0280343\ttotal: 257ms\tremaining: 125ms\n",
      "149:\tlearn: 5.2588492\ttotal: 377ms\tremaining: 0us\n",
      "Learning rate set to 0.19997\n",
      "0:\tlearn: 28.4889200\ttotal: 3.17ms\tremaining: 473ms\n",
      "50:\tlearn: 14.8025612\ttotal: 162ms\tremaining: 315ms\n",
      "100:\tlearn: 10.3318096\ttotal: 312ms\tremaining: 151ms\n",
      "149:\tlearn: 7.9056927\ttotal: 455ms\tremaining: 0us\n",
      "Learning rate set to 0.2132\n",
      "0:\tlearn: 29.8039149\ttotal: 4.52ms\tremaining: 674ms\n",
      "50:\tlearn: 15.6741923\ttotal: 172ms\tremaining: 334ms\n",
      "100:\tlearn: 11.8030947\ttotal: 350ms\tremaining: 170ms\n",
      "149:\tlearn: 9.6125414\ttotal: 516ms\tremaining: 0us\n",
      "Learning rate set to 0.223114\n",
      "0:\tlearn: 31.1160400\ttotal: 4.04ms\tremaining: 603ms\n",
      "50:\tlearn: 17.2185889\ttotal: 188ms\tremaining: 364ms\n",
      "100:\tlearn: 13.1899893\ttotal: 377ms\tremaining: 183ms\n",
      "149:\tlearn: 10.9138677\ttotal: 591ms\tremaining: 0us\n",
      "Learning rate set to 0.231121\n",
      "0:\tlearn: 32.8044489\ttotal: 4.47ms\tremaining: 666ms\n",
      "50:\tlearn: 18.5485976\ttotal: 208ms\tremaining: 404ms\n",
      "100:\tlearn: 14.9689654\ttotal: 418ms\tremaining: 203ms\n",
      "149:\tlearn: 12.7302982\ttotal: 633ms\tremaining: 0us\n",
      "Learning rate set to 0.237875\n",
      "0:\tlearn: 36.1407696\ttotal: 2.33ms\tremaining: 347ms\n",
      "50:\tlearn: 23.2073780\ttotal: 98.2ms\tremaining: 191ms\n",
      "100:\tlearn: 20.3277348\ttotal: 197ms\tremaining: 95.7ms\n",
      "149:\tlearn: 18.5991703\ttotal: 293ms\tremaining: 0us\n",
      "Лучшие параметры модели CatBoostRegressor: {'iterations': 150, 'max_depth': 4}\n",
      "\n",
      "Лучший RMSE модели CatBoostRegressor: 27.8044\n",
      "\n",
      "CPU times: user 10.6 s, sys: 649 ms, total: 11.2 s\n",
      "Wall time: 37.5 s\n"
     ]
    }
   ],
   "source": [
    "%%time\n",
    "\n",
    "\n",
    "model_cbr = CatBoostRegressor(loss_function='RMSE', verbose=50, random_state=12345)\n",
    "\n",
    "params_cbr = {'iterations': range(80, 151, 35), 'max_depth': range(2, 7, 2)}\n",
    "\n",
    "best_model(model_cbr, params_cbr, features_train, target_train, 'CatBoostRegressor')"
   ]
  },
  {
   "cell_type": "markdown",
   "metadata": {},
   "source": [
    "Подобрали гиперпараметры. Теперь обучим и посмотрим на значение **RMSE**"
   ]
  },
  {
   "cell_type": "code",
   "execution_count": 20,
   "metadata": {},
   "outputs": [
    {
     "name": "stdout",
     "output_type": "stream",
     "text": [
      "Learning rate set to 0.237875\n",
      "0:\tlearn: 36.1407696\ttotal: 2.54ms\tremaining: 379ms\n",
      "50:\tlearn: 23.2073780\ttotal: 104ms\tremaining: 202ms\n",
      "100:\tlearn: 20.3277348\ttotal: 207ms\tremaining: 101ms\n",
      "149:\tlearn: 18.5991703\ttotal: 323ms\tremaining: 0us\n",
      "RMSE модели CatBoostRegressor: 18.5992\n",
      "CPU times: user 339 ms, sys: 26.7 ms, total: 365 ms\n",
      "Wall time: 926 ms\n"
     ]
    }
   ],
   "source": [
    "%%time\n",
    "\n",
    "model_cbr = CatBoostRegressor(loss_function='RMSE', iterations=150, max_depth=4, random_state=12345)\n",
    "model_cbr.fit(features_train, target_train, verbose=50)\n",
    "predict_cbr = model_cbr.predict(features_train)\n",
    "rmse_cbr = rmse(target_train, predict_cbr)\n",
    "print(f'RMSE модели CatBoostRegressor: {round(rmse_cbr, 4)}')"
   ]
  },
  {
   "cell_type": "markdown",
   "metadata": {},
   "source": [
    "* Рассмотрим модель **LightGBM**"
   ]
  },
  {
   "cell_type": "code",
   "execution_count": 21,
   "metadata": {},
   "outputs": [
    {
     "name": "stdout",
     "output_type": "stream",
     "text": [
      "Лучшие параметры модели LGMB: {'max_depth': 9, 'n_estimators': 110}\n",
      "\n",
      "Лучший RMSE модели LGMB: 27.897\n",
      "\n",
      "CPU times: user 54.1 s, sys: 146 ms, total: 54.3 s\n",
      "Wall time: 54.7 s\n"
     ]
    }
   ],
   "source": [
    "%%time\n",
    "\n",
    "model_lgbm = LGBMRegressor(learning_rate=0.1) \n",
    "\n",
    "params_lgbm = {'max_depth': range(7, 12, 2), 'n_estimators': [110, 160, 210]}\n",
    "\n",
    "best_model(model_lgbm, params_lgbm, features_train, target_train, 'LGMB')"
   ]
  },
  {
   "cell_type": "markdown",
   "metadata": {},
   "source": [
    "Обучим на этих гиперпараметрах модель **LGBM** и посмотрим на значение метрики качества **RMSE**"
   ]
  },
  {
   "cell_type": "code",
   "execution_count": 22,
   "metadata": {},
   "outputs": [
    {
     "name": "stdout",
     "output_type": "stream",
     "text": [
      "RMSE модели LGBMRegressor: 13.1523\n",
      "CPU times: user 1.22 s, sys: 10.2 ms, total: 1.23 s\n",
      "Wall time: 1.29 s\n"
     ]
    }
   ],
   "source": [
    "%%time\n",
    "\n",
    "model_lgbm = LGBMRegressor(max_depth=9, n_estimators=110, learning_rate=0.1)\n",
    "model_lgbm.fit(features_train, target_train)\n",
    "predict_lgbm = model_lgbm.predict(features_train)\n",
    "rmse_lgbm = rmse(target_train, predict_lgbm)\n",
    "print(f'RMSE модели LGBMRegressor: {round(rmse_lgbm, 4)}')"
   ]
  },
  {
   "cell_type": "markdown",
   "metadata": {},
   "source": [
    "Нашли гиперпараметры и выявили значения метрики качества **RMSE** на обучающей выборке для трех моделей: **LGBM**, **CatBoostRegressor** и **LinearRegression**. Теперь проверим данные на тестовой выборке\n",
    "\n",
    "\n",
    "## Тестирование\n",
    "\n",
    "* `Снова обучим модели и предскажем на тестовой выборке`"
   ]
  },
  {
   "cell_type": "code",
   "execution_count": 23,
   "metadata": {},
   "outputs": [
    {
     "name": "stdout",
     "output_type": "stream",
     "text": [
      "Финальное значение RMSE модели Линейной Регрессии: 55.2399\n",
      "CPU times: user 6.12 ms, sys: 21.5 ms, total: 27.6 ms\n",
      "Wall time: 7.81 ms\n"
     ]
    }
   ],
   "source": [
    "%%time\n",
    "\n",
    "model_lr = LinearRegression(normalize=True)\n",
    "model_lr.fit(features_train, target_train)\n",
    "predict_lr_final = model_lr.predict(features_test)\n",
    "rmse_lr_final = rmse(target_test, predict_lr_final)\n",
    "print(f'Финальное значение RMSE модели Линейной Регрессии: {round(rmse_lr_final, 4)}')"
   ]
  },
  {
   "cell_type": "code",
   "execution_count": 24,
   "metadata": {},
   "outputs": [
    {
     "name": "stdout",
     "output_type": "stream",
     "text": [
      "Learning rate set to 0.237875\n",
      "0:\tlearn: 36.1407696\ttotal: 2.41ms\tremaining: 359ms\n",
      "50:\tlearn: 23.2073780\ttotal: 97.4ms\tremaining: 189ms\n",
      "100:\tlearn: 20.3277348\ttotal: 193ms\tremaining: 93.5ms\n",
      "149:\tlearn: 18.5991703\ttotal: 285ms\tremaining: 0us\n",
      "Финальное значение RMSE модели CatBoostRegressor: 46.8336\n",
      "CPU times: user 315 ms, sys: 8.33 ms, total: 323 ms\n",
      "Wall time: 953 ms\n"
     ]
    }
   ],
   "source": [
    "%%time\n",
    "\n",
    "model_cbr = CatBoostRegressor(loss_function='RMSE', iterations=150, max_depth=4, random_state=12345)\n",
    "model_cbr.fit(features_train, target_train, verbose=50)\n",
    "predict_cbr_final = model_cbr.predict(features_test)\n",
    "rmse_cbr_final = rmse(target_test, predict_cbr_final)\n",
    "print(f'Финальное значение RMSE модели CatBoostRegressor: {round(rmse_cbr_final, 4)}')"
   ]
  },
  {
   "cell_type": "code",
   "execution_count": 25,
   "metadata": {},
   "outputs": [
    {
     "name": "stdout",
     "output_type": "stream",
     "text": [
      "Финальное значение RMSE модели LGBMRegressor: 47.3001\n",
      "CPU times: user 968 ms, sys: 1.26 ms, total: 970 ms\n",
      "Wall time: 851 ms\n"
     ]
    }
   ],
   "source": [
    "%%time\n",
    "\n",
    "model_lgbm = LGBMRegressor(learning_rate=0.1, max_depth=9, n_estimators=110)\n",
    "model_lgbm.fit(features_train, target_train)\n",
    "predict_lgbm_final = model_lgbm.predict(features_test)\n",
    "rmse_lgbm_final = rmse(target_test, predict_lgbm_final)\n",
    "print(f'Финальное значение RMSE модели LGBMRegressor: {round(rmse_lgbm_final, 4)}')"
   ]
  },
  {
   "cell_type": "markdown",
   "metadata": {},
   "source": [
    "**Для визуального восприятия выведем все значения метрики `RMSE` (финальной и на обучающей) и время обучения с предсказанием каждой модели в единый датафрейм**"
   ]
  },
  {
   "cell_type": "code",
   "execution_count": 29,
   "metadata": {},
   "outputs": [
    {
     "data": {
      "text/html": [
       "<div>\n",
       "<style scoped>\n",
       "    .dataframe tbody tr th:only-of-type {\n",
       "        vertical-align: middle;\n",
       "    }\n",
       "\n",
       "    .dataframe tbody tr th {\n",
       "        vertical-align: top;\n",
       "    }\n",
       "\n",
       "    .dataframe thead th {\n",
       "        text-align: right;\n",
       "    }\n",
       "</style>\n",
       "<table border=\"1\" class=\"dataframe\">\n",
       "  <thead>\n",
       "    <tr style=\"text-align: right;\">\n",
       "      <th></th>\n",
       "      <th>~ время обучения и предсказания (сек.)</th>\n",
       "      <th>RMSE на обучающей</th>\n",
       "      <th>RMSE финальный</th>\n",
       "    </tr>\n",
       "    <tr>\n",
       "      <th>модель</th>\n",
       "      <th></th>\n",
       "      <th></th>\n",
       "      <th></th>\n",
       "    </tr>\n",
       "  </thead>\n",
       "  <tbody>\n",
       "    <tr>\n",
       "      <th>LinearRegressor</th>\n",
       "      <td>0.01</td>\n",
       "      <td>29.2486</td>\n",
       "      <td>55.2399</td>\n",
       "    </tr>\n",
       "    <tr>\n",
       "      <th>CatBoostRegressor</th>\n",
       "      <td>0.95</td>\n",
       "      <td>18.5992</td>\n",
       "      <td>46.8336</td>\n",
       "    </tr>\n",
       "    <tr>\n",
       "      <th>LGBMRegressor</th>\n",
       "      <td>0.85</td>\n",
       "      <td>13.1523</td>\n",
       "      <td>47.3001</td>\n",
       "    </tr>\n",
       "  </tbody>\n",
       "</table>\n",
       "</div>"
      ],
      "text/plain": [
       "                   ~ время обучения и предсказания (сек.)  RMSE на обучающей  \\\n",
       "модель                                                                         \n",
       "LinearRegressor                                      0.01            29.2486   \n",
       "CatBoostRegressor                                    0.95            18.5992   \n",
       "LGBMRegressor                                        0.85            13.1523   \n",
       "\n",
       "                   RMSE финальный  \n",
       "модель                             \n",
       "LinearRegressor           55.2399  \n",
       "CatBoostRegressor         46.8336  \n",
       "LGBMRegressor             47.3001  "
      ]
     },
     "execution_count": 29,
     "metadata": {},
     "output_type": "execute_result"
    }
   ],
   "source": [
    "table = pd.DataFrame({'модель': ['LinearRegressor', 'CatBoostRegressor', 'LGBMRegressor'], \n",
    "                      '~ время обучения и предсказания (сек.)': [0.01, 0.95, 0.85], \n",
    "                      'RMSE на обучающей': [round(rmse_lr, 4), round(rmse_cbr, 4), round(rmse_lgbm, 4)], \n",
    "                      'RMSE финальный': [round(rmse_lr_final, 4), round(rmse_cbr_final, 4), \n",
    "                                         round(rmse_lgbm_final, 4)]})\n",
    "\n",
    "table = table.set_index('модель')\n",
    "table"
   ]
  },
  {
   "cell_type": "markdown",
   "metadata": {},
   "source": [
    "Для окончательного вывода стоит проверить на адекватность выявленные модели, а **также подходит ли по критерию начального значения `RMSE`**. \n",
    "\n",
    "* Заполняем единицами размер целевого тестовой выборки и умножаем на среднее значение целевого обучающей выборки, затем кастомной функцией **rmse** рассчитываем константу этой метрики для данного временного ряда\n",
    "\n",
    "**Вводим константу** и **константное** значение **RMSE**:"
   ]
  },
  {
   "cell_type": "code",
   "execution_count": 30,
   "metadata": {},
   "outputs": [
    {
     "name": "stdout",
     "output_type": "stream",
     "text": [
      "84.6528030070785\n",
      "\n",
      "Выявленная модель прошла тест на адекватность и подходит по установленным критериям\n"
     ]
    }
   ],
   "source": [
    "RMSE_CONST = 48\n",
    "predict_const = np.ones(target_test.shape) * target_train.mean()\n",
    "const_rmse = rmse(target_test, predict_const)\n",
    "print(const_rmse)\n",
    "print()\n",
    "\n",
    "if rmse_lgbm_final < const_rmse > rmse_cbr_final and rmse_cbr_final < RMSE_CONST > rmse_lgbm_final:\n",
    "    print('Выявленная модель прошла тест на адекватность и подходит по установленным критериям')\n",
    "else:\n",
    "    print('Что-то пошло не так')"
   ]
  },
  {
   "cell_type": "markdown",
   "metadata": {},
   "source": [
    "В результате анализа подошли по критерию две модели: **CatBoostRegressor** и **LGMBRegressor**\n",
    "\n",
    "## Вывод\n",
    "\n",
    "* Данные были загружены и просмотрены введенной функцией;\n",
    "* Исправили тип данных с **str** строкового на **datetime64** при помощи аргумента `parse_dates=[index]`, чтобы было в дальнейшем удобнее работать с временным рядом;\n",
    "* При помощи аргумента `index_col=[index]` установили индекс таблицы равным столбцу **datetime**;\n",
    "* Произвели **ресемплирование** по **1 часу**;\n",
    "* Разложили временной ряд на `тренд`, `сезонность` и `остаток` при помощи библиотеки `statsmodels` с функцией `seasonal_decompose()`;\n",
    "* Проанализировали активность заказов такси по нему;\n",
    "* Были добавлены новые признаки для обучения моделей;\n",
    "* Данные были разделены в соответствии условий (**10% тестовой выборки** от исходных данных);\n",
    "* Была добавлена функция **rmse**, как расчет метрики **RMSE**;\n",
    "* Также была введена функция **best_model**, в которую была передана кастомная функция **rmse** как `score`. Также благодаря ей были рассчитаны **RMSE** моделей и лучшие гиперпараметры для них при помощи **GridSearchCv**;\n",
    "* Были приведены **три модели** в качестве прогнозирования кол-во заказов такси на следующий час: `LinearRegression`, `CatBoostRegressor` и `LGMBRegressor`;\n",
    "* В результате анализа и финальной проверки на тестовой выборке, выявили модели для компании «Чётенькое такси»: \n",
    "  \n",
    "  * **CatBoostRegressor `(~ 46.8)`** и **LGMBRegressor `(~ 47.3)`**\n",
    "  \n",
    "**Таблица для визуализации результатов**"
   ]
  },
  {
   "cell_type": "code",
   "execution_count": 31,
   "metadata": {},
   "outputs": [
    {
     "data": {
      "text/html": [
       "<div>\n",
       "<style scoped>\n",
       "    .dataframe tbody tr th:only-of-type {\n",
       "        vertical-align: middle;\n",
       "    }\n",
       "\n",
       "    .dataframe tbody tr th {\n",
       "        vertical-align: top;\n",
       "    }\n",
       "\n",
       "    .dataframe thead th {\n",
       "        text-align: right;\n",
       "    }\n",
       "</style>\n",
       "<table border=\"1\" class=\"dataframe\">\n",
       "  <thead>\n",
       "    <tr style=\"text-align: right;\">\n",
       "      <th></th>\n",
       "      <th>~ время обучения и предсказания (сек.)</th>\n",
       "      <th>RMSE на обучающей</th>\n",
       "      <th>RMSE финальный</th>\n",
       "    </tr>\n",
       "    <tr>\n",
       "      <th>модель</th>\n",
       "      <th></th>\n",
       "      <th></th>\n",
       "      <th></th>\n",
       "    </tr>\n",
       "  </thead>\n",
       "  <tbody>\n",
       "    <tr>\n",
       "      <th>LinearRegressor</th>\n",
       "      <td>0.01</td>\n",
       "      <td>29.2486</td>\n",
       "      <td>55.2399</td>\n",
       "    </tr>\n",
       "    <tr>\n",
       "      <th>CatBoostRegressor</th>\n",
       "      <td>0.95</td>\n",
       "      <td>18.5992</td>\n",
       "      <td>46.8336</td>\n",
       "    </tr>\n",
       "    <tr>\n",
       "      <th>LGBMRegressor</th>\n",
       "      <td>0.85</td>\n",
       "      <td>13.1523</td>\n",
       "      <td>47.3001</td>\n",
       "    </tr>\n",
       "  </tbody>\n",
       "</table>\n",
       "</div>"
      ],
      "text/plain": [
       "                   ~ время обучения и предсказания (сек.)  RMSE на обучающей  \\\n",
       "модель                                                                         \n",
       "LinearRegressor                                      0.01            29.2486   \n",
       "CatBoostRegressor                                    0.95            18.5992   \n",
       "LGBMRegressor                                        0.85            13.1523   \n",
       "\n",
       "                   RMSE финальный  \n",
       "модель                             \n",
       "LinearRegressor           55.2399  \n",
       "CatBoostRegressor         46.8336  \n",
       "LGBMRegressor             47.3001  "
      ]
     },
     "execution_count": 31,
     "metadata": {},
     "output_type": "execute_result"
    }
   ],
   "source": [
    "table"
   ]
  }
 ],
 "metadata": {
  "ExecuteTimeLog": [
   {
    "duration": 434,
    "start_time": "2022-10-05T13:51:07.192Z"
   },
   {
    "duration": 115,
    "start_time": "2022-10-05T13:51:16.542Z"
   },
   {
    "duration": 51,
    "start_time": "2022-10-05T13:51:20.210Z"
   },
   {
    "duration": 54,
    "start_time": "2022-10-05T13:57:09.823Z"
   },
   {
    "duration": 59,
    "start_time": "2022-10-05T14:54:17.601Z"
   },
   {
    "duration": 38,
    "start_time": "2022-10-05T14:54:19.916Z"
   },
   {
    "duration": 12,
    "start_time": "2022-10-05T14:54:25.732Z"
   },
   {
    "duration": 11,
    "start_time": "2022-10-05T14:54:34.010Z"
   },
   {
    "duration": 12,
    "start_time": "2022-10-05T14:55:32.379Z"
   },
   {
    "duration": 51,
    "start_time": "2022-10-05T14:57:40.061Z"
   },
   {
    "duration": 36,
    "start_time": "2022-10-05T14:57:40.777Z"
   },
   {
    "duration": 10,
    "start_time": "2022-10-05T14:57:43.025Z"
   },
   {
    "duration": 7,
    "start_time": "2022-10-05T14:57:48.926Z"
   },
   {
    "duration": 50,
    "start_time": "2022-10-05T14:58:03.647Z"
   },
   {
    "duration": 37,
    "start_time": "2022-10-05T14:58:04.449Z"
   },
   {
    "duration": 10,
    "start_time": "2022-10-05T14:58:05.619Z"
   },
   {
    "duration": 11,
    "start_time": "2022-10-05T14:58:06.876Z"
   },
   {
    "duration": 67,
    "start_time": "2022-10-05T14:58:17.450Z"
   },
   {
    "duration": 40,
    "start_time": "2022-10-05T14:58:17.729Z"
   },
   {
    "duration": 10,
    "start_time": "2022-10-05T14:58:18.126Z"
   },
   {
    "duration": 7,
    "start_time": "2022-10-05T14:58:19.268Z"
   },
   {
    "duration": 4,
    "start_time": "2022-10-05T15:00:13.314Z"
   },
   {
    "duration": 3,
    "start_time": "2022-10-05T15:00:35.918Z"
   },
   {
    "duration": 11,
    "start_time": "2022-10-05T15:01:11.577Z"
   },
   {
    "duration": 396,
    "start_time": "2022-10-05T15:01:24.252Z"
   },
   {
    "duration": 60,
    "start_time": "2022-10-05T15:01:24.650Z"
   },
   {
    "duration": 43,
    "start_time": "2022-10-05T15:01:24.712Z"
   },
   {
    "duration": 11,
    "start_time": "2022-10-05T15:01:24.758Z"
   },
   {
    "duration": 41,
    "start_time": "2022-10-05T15:01:24.770Z"
   },
   {
    "duration": 20,
    "start_time": "2022-10-05T15:01:24.813Z"
   },
   {
    "duration": 39,
    "start_time": "2022-10-05T15:01:24.835Z"
   },
   {
    "duration": 37,
    "start_time": "2022-10-05T15:01:24.876Z"
   },
   {
    "duration": 34,
    "start_time": "2022-10-05T15:01:24.916Z"
   },
   {
    "duration": 3,
    "start_time": "2022-10-05T15:06:37.402Z"
   },
   {
    "duration": 5,
    "start_time": "2022-10-05T15:07:08.458Z"
   },
   {
    "duration": 3,
    "start_time": "2022-10-05T15:07:10.141Z"
   },
   {
    "duration": 10,
    "start_time": "2022-10-05T15:07:34.977Z"
   },
   {
    "duration": 11,
    "start_time": "2022-10-05T15:07:40.996Z"
   },
   {
    "duration": 11,
    "start_time": "2022-10-05T15:07:43.638Z"
   },
   {
    "duration": 638,
    "start_time": "2022-10-05T15:09:55.413Z"
   },
   {
    "duration": 212,
    "start_time": "2022-10-05T15:09:59.529Z"
   },
   {
    "duration": 370,
    "start_time": "2022-10-05T15:10:38.671Z"
   },
   {
    "duration": 260,
    "start_time": "2022-10-05T15:10:46.551Z"
   },
   {
    "duration": 261,
    "start_time": "2022-10-05T15:16:18.111Z"
   },
   {
    "duration": 2,
    "start_time": "2022-10-05T15:16:56.051Z"
   },
   {
    "duration": 351,
    "start_time": "2022-10-05T15:17:11.566Z"
   },
   {
    "duration": 264,
    "start_time": "2022-10-05T15:17:23.305Z"
   },
   {
    "duration": 327,
    "start_time": "2022-10-05T15:19:44.012Z"
   },
   {
    "duration": 247,
    "start_time": "2022-10-05T15:19:49.347Z"
   },
   {
    "duration": 7,
    "start_time": "2022-10-05T15:21:49.133Z"
   },
   {
    "duration": 4,
    "start_time": "2022-10-05T15:22:07.864Z"
   },
   {
    "duration": 65,
    "start_time": "2022-10-05T15:41:42.496Z"
   },
   {
    "duration": 425,
    "start_time": "2022-10-05T15:41:48.461Z"
   },
   {
    "duration": 812,
    "start_time": "2022-10-05T15:44:53.655Z"
   },
   {
    "duration": 714,
    "start_time": "2022-10-05T15:45:04.895Z"
   },
   {
    "duration": 692,
    "start_time": "2022-10-05T15:45:15.312Z"
   },
   {
    "duration": 764,
    "start_time": "2022-10-05T15:45:23.062Z"
   },
   {
    "duration": 784,
    "start_time": "2022-10-05T15:45:36.419Z"
   },
   {
    "duration": 746,
    "start_time": "2022-10-05T15:47:46.461Z"
   },
   {
    "duration": 856,
    "start_time": "2022-10-05T15:48:20.490Z"
   },
   {
    "duration": 774,
    "start_time": "2022-10-05T15:48:37.857Z"
   },
   {
    "duration": 825,
    "start_time": "2022-10-05T15:48:56.369Z"
   },
   {
    "duration": 212,
    "start_time": "2022-10-05T17:24:39.015Z"
   },
   {
    "duration": 196,
    "start_time": "2022-10-05T17:24:43.772Z"
   },
   {
    "duration": 160,
    "start_time": "2022-10-05T17:24:53.501Z"
   },
   {
    "duration": 164,
    "start_time": "2022-10-05T17:25:07.553Z"
   },
   {
    "duration": 146,
    "start_time": "2022-10-05T17:25:12.511Z"
   },
   {
    "duration": 135,
    "start_time": "2022-10-05T17:25:16.255Z"
   },
   {
    "duration": 112,
    "start_time": "2022-10-05T17:25:47.775Z"
   },
   {
    "duration": 49,
    "start_time": "2022-10-05T17:25:55.522Z"
   },
   {
    "duration": 18,
    "start_time": "2022-10-05T17:25:58.875Z"
   },
   {
    "duration": 107,
    "start_time": "2022-10-05T17:26:01.000Z"
   },
   {
    "duration": 17,
    "start_time": "2022-10-05T17:26:04.442Z"
   },
   {
    "duration": 15,
    "start_time": "2022-10-05T17:26:11.781Z"
   },
   {
    "duration": 106,
    "start_time": "2022-10-05T17:26:13.746Z"
   },
   {
    "duration": 139,
    "start_time": "2022-10-05T17:26:45.782Z"
   },
   {
    "duration": 146,
    "start_time": "2022-10-05T17:26:49.866Z"
   },
   {
    "duration": 157,
    "start_time": "2022-10-05T17:26:56.863Z"
   },
   {
    "duration": 130,
    "start_time": "2022-10-05T17:28:09.451Z"
   },
   {
    "duration": 155,
    "start_time": "2022-10-05T17:28:18.183Z"
   },
   {
    "duration": 1198,
    "start_time": "2022-10-06T08:38:38.687Z"
   },
   {
    "duration": 126,
    "start_time": "2022-10-06T08:38:39.887Z"
   },
   {
    "duration": 28,
    "start_time": "2022-10-06T08:38:40.015Z"
   },
   {
    "duration": 10,
    "start_time": "2022-10-06T08:38:40.045Z"
   },
   {
    "duration": 15,
    "start_time": "2022-10-06T08:38:40.056Z"
   },
   {
    "duration": 11,
    "start_time": "2022-10-06T08:38:40.072Z"
   },
   {
    "duration": 30,
    "start_time": "2022-10-06T08:38:40.084Z"
   },
   {
    "duration": 242,
    "start_time": "2022-10-06T08:38:40.115Z"
   },
   {
    "duration": 4,
    "start_time": "2022-10-06T08:38:40.358Z"
   },
   {
    "duration": 771,
    "start_time": "2022-10-06T08:38:40.365Z"
   },
   {
    "duration": 131,
    "start_time": "2022-10-06T08:38:41.138Z"
   },
   {
    "duration": 8,
    "start_time": "2022-10-06T09:31:51.833Z"
   },
   {
    "duration": 86,
    "start_time": "2022-10-06T09:32:17.058Z"
   },
   {
    "duration": 49,
    "start_time": "2022-10-06T09:32:48.346Z"
   },
   {
    "duration": 1080,
    "start_time": "2022-10-06T09:32:56.908Z"
   },
   {
    "duration": 55,
    "start_time": "2022-10-06T09:32:57.990Z"
   },
   {
    "duration": 30,
    "start_time": "2022-10-06T09:32:58.046Z"
   },
   {
    "duration": 8,
    "start_time": "2022-10-06T09:32:58.078Z"
   },
   {
    "duration": 6,
    "start_time": "2022-10-06T09:32:58.109Z"
   },
   {
    "duration": 4,
    "start_time": "2022-10-06T09:32:58.117Z"
   },
   {
    "duration": 14,
    "start_time": "2022-10-06T09:32:58.122Z"
   },
   {
    "duration": 257,
    "start_time": "2022-10-06T09:32:58.138Z"
   },
   {
    "duration": 3,
    "start_time": "2022-10-06T09:32:58.396Z"
   },
   {
    "duration": 723,
    "start_time": "2022-10-06T09:32:58.409Z"
   },
   {
    "duration": 128,
    "start_time": "2022-10-06T09:32:59.134Z"
   },
   {
    "duration": 55,
    "start_time": "2022-10-06T09:32:59.264Z"
   },
   {
    "duration": 70,
    "start_time": "2022-10-06T09:33:09.853Z"
   },
   {
    "duration": 72,
    "start_time": "2022-10-06T09:33:39.007Z"
   },
   {
    "duration": 106,
    "start_time": "2022-10-06T09:34:10.655Z"
   },
   {
    "duration": 18,
    "start_time": "2022-10-06T09:34:19.294Z"
   },
   {
    "duration": 200,
    "start_time": "2022-10-06T09:34:24.205Z"
   },
   {
    "duration": 248,
    "start_time": "2022-10-06T09:41:41.968Z"
   },
   {
    "duration": 185,
    "start_time": "2022-10-06T09:41:45.654Z"
   },
   {
    "duration": 249,
    "start_time": "2022-10-06T09:42:01.648Z"
   },
   {
    "duration": 234,
    "start_time": "2022-10-06T09:42:09.536Z"
   },
   {
    "duration": 223,
    "start_time": "2022-10-06T09:42:14.799Z"
   },
   {
    "duration": 197,
    "start_time": "2022-10-06T09:42:17.452Z"
   },
   {
    "duration": 208,
    "start_time": "2022-10-06T09:42:31.220Z"
   },
   {
    "duration": 13,
    "start_time": "2022-10-06T10:01:03.194Z"
   },
   {
    "duration": 11,
    "start_time": "2022-10-06T10:01:16.257Z"
   },
   {
    "duration": 235,
    "start_time": "2022-10-06T10:01:25.021Z"
   },
   {
    "duration": 9,
    "start_time": "2022-10-06T10:01:40.157Z"
   },
   {
    "duration": 1032,
    "start_time": "2022-10-06T10:01:47.155Z"
   },
   {
    "duration": 58,
    "start_time": "2022-10-06T10:01:48.189Z"
   },
   {
    "duration": 32,
    "start_time": "2022-10-06T10:01:48.248Z"
   },
   {
    "duration": 9,
    "start_time": "2022-10-06T10:01:48.282Z"
   },
   {
    "duration": 8,
    "start_time": "2022-10-06T10:01:48.311Z"
   },
   {
    "duration": 5,
    "start_time": "2022-10-06T10:01:48.321Z"
   },
   {
    "duration": 18,
    "start_time": "2022-10-06T10:01:48.328Z"
   },
   {
    "duration": 267,
    "start_time": "2022-10-06T10:01:48.348Z"
   },
   {
    "duration": 4,
    "start_time": "2022-10-06T10:01:48.616Z"
   },
   {
    "duration": 763,
    "start_time": "2022-10-06T10:01:48.621Z"
   },
   {
    "duration": 134,
    "start_time": "2022-10-06T10:01:49.386Z"
   },
   {
    "duration": 242,
    "start_time": "2022-10-06T10:01:49.522Z"
   },
   {
    "duration": 9,
    "start_time": "2022-10-06T10:01:49.765Z"
   },
   {
    "duration": 123,
    "start_time": "2022-10-06T10:47:18.094Z"
   },
   {
    "duration": 14,
    "start_time": "2022-10-06T10:47:51.993Z"
   },
   {
    "duration": 31,
    "start_time": "2022-10-06T10:48:02.289Z"
   },
   {
    "duration": 180,
    "start_time": "2022-10-06T10:48:34.195Z"
   },
   {
    "duration": 80,
    "start_time": "2022-10-06T10:48:37.657Z"
   },
   {
    "duration": 134,
    "start_time": "2022-10-06T10:53:34.561Z"
   },
   {
    "duration": 105,
    "start_time": "2022-10-06T10:54:09.266Z"
   },
   {
    "duration": 105,
    "start_time": "2022-10-06T10:54:18.074Z"
   },
   {
    "duration": 9,
    "start_time": "2022-10-06T11:01:58.264Z"
   },
   {
    "duration": 424,
    "start_time": "2022-10-06T11:05:06.165Z"
   },
   {
    "duration": 30,
    "start_time": "2022-10-06T11:05:21.867Z"
   },
   {
    "duration": 9,
    "start_time": "2022-10-06T11:05:27.631Z"
   },
   {
    "duration": 10,
    "start_time": "2022-10-06T11:06:03.424Z"
   },
   {
    "duration": 11,
    "start_time": "2022-10-06T11:06:30.907Z"
   },
   {
    "duration": 12,
    "start_time": "2022-10-06T11:07:08.719Z"
   },
   {
    "duration": 11,
    "start_time": "2022-10-06T11:07:26.209Z"
   },
   {
    "duration": 4,
    "start_time": "2022-10-06T11:08:47.226Z"
   },
   {
    "duration": 3,
    "start_time": "2022-10-06T11:08:52.678Z"
   },
   {
    "duration": 10,
    "start_time": "2022-10-06T11:09:40.983Z"
   },
   {
    "duration": 4,
    "start_time": "2022-10-06T11:09:41.511Z"
   },
   {
    "duration": 4,
    "start_time": "2022-10-06T11:09:43.617Z"
   },
   {
    "duration": 3,
    "start_time": "2022-10-06T11:11:08.845Z"
   },
   {
    "duration": 106,
    "start_time": "2022-10-06T11:11:17.844Z"
   },
   {
    "duration": 11,
    "start_time": "2022-10-06T11:11:21.359Z"
   },
   {
    "duration": 11,
    "start_time": "2022-10-06T11:12:37.954Z"
   },
   {
    "duration": 11,
    "start_time": "2022-10-06T11:12:48.793Z"
   },
   {
    "duration": 3,
    "start_time": "2022-10-06T11:34:00.817Z"
   },
   {
    "duration": 16,
    "start_time": "2022-10-06T11:35:02.108Z"
   },
   {
    "duration": 40,
    "start_time": "2022-10-06T11:35:10.505Z"
   },
   {
    "duration": 37,
    "start_time": "2022-10-06T11:35:30.773Z"
   },
   {
    "duration": 36,
    "start_time": "2022-10-06T11:35:37.920Z"
   },
   {
    "duration": 1514,
    "start_time": "2022-10-06T11:37:13.398Z"
   },
   {
    "duration": 96,
    "start_time": "2022-10-06T11:37:14.914Z"
   },
   {
    "duration": 27,
    "start_time": "2022-10-06T11:37:15.011Z"
   },
   {
    "duration": 9,
    "start_time": "2022-10-06T11:37:15.040Z"
   },
   {
    "duration": 63,
    "start_time": "2022-10-06T11:37:15.050Z"
   },
   {
    "duration": 3,
    "start_time": "2022-10-06T11:37:15.114Z"
   },
   {
    "duration": 17,
    "start_time": "2022-10-06T11:37:15.118Z"
   },
   {
    "duration": 494,
    "start_time": "2022-10-06T11:37:15.136Z"
   },
   {
    "duration": 3,
    "start_time": "2022-10-06T11:37:15.632Z"
   },
   {
    "duration": 1195,
    "start_time": "2022-10-06T11:37:15.637Z"
   },
   {
    "duration": 131,
    "start_time": "2022-10-06T11:37:16.834Z"
   },
   {
    "duration": 197,
    "start_time": "2022-10-06T11:37:16.967Z"
   },
   {
    "duration": 143,
    "start_time": "2022-10-06T11:37:17.166Z"
   },
   {
    "duration": 38,
    "start_time": "2022-10-06T11:37:17.310Z"
   },
   {
    "duration": 102,
    "start_time": "2022-10-06T11:39:37.125Z"
   },
   {
    "duration": 13,
    "start_time": "2022-10-06T11:40:35.123Z"
   },
   {
    "duration": 2,
    "start_time": "2022-10-06T11:41:29.971Z"
   },
   {
    "duration": 4,
    "start_time": "2022-10-06T11:41:50.091Z"
   },
   {
    "duration": 173,
    "start_time": "2022-10-06T11:43:07.683Z"
   },
   {
    "duration": 53,
    "start_time": "2022-10-06T11:43:15.250Z"
   },
   {
    "duration": 3,
    "start_time": "2022-10-06T11:44:00.508Z"
   },
   {
    "duration": 874,
    "start_time": "2022-10-06T11:44:00.939Z"
   },
   {
    "duration": 3,
    "start_time": "2022-10-06T11:44:17.073Z"
   },
   {
    "duration": 663,
    "start_time": "2022-10-06T11:44:17.469Z"
   },
   {
    "duration": 3,
    "start_time": "2022-10-06T11:44:21.473Z"
   },
   {
    "duration": 1066,
    "start_time": "2022-10-06T11:44:22.644Z"
   },
   {
    "duration": 16,
    "start_time": "2022-10-06T11:46:42.301Z"
   },
   {
    "duration": 182,
    "start_time": "2022-10-06T11:48:37.981Z"
   },
   {
    "duration": 20,
    "start_time": "2022-10-06T11:49:19.898Z"
   },
   {
    "duration": 339562,
    "start_time": "2022-10-06T11:51:55.364Z"
   },
   {
    "duration": 112547,
    "start_time": "2022-10-06T12:03:17.478Z"
   },
   {
    "duration": 4,
    "start_time": "2022-10-06T12:07:41.428Z"
   },
   {
    "duration": 620,
    "start_time": "2022-10-06T12:07:42.290Z"
   },
   {
    "duration": 4,
    "start_time": "2022-10-06T12:08:56.856Z"
   },
   {
    "duration": 364,
    "start_time": "2022-10-06T12:08:57.648Z"
   },
   {
    "duration": 4,
    "start_time": "2022-10-06T12:10:28.884Z"
   },
   {
    "duration": 659,
    "start_time": "2022-10-06T12:10:29.251Z"
   },
   {
    "duration": 196,
    "start_time": "2022-10-06T12:10:29.915Z"
   },
   {
    "duration": 54848,
    "start_time": "2022-10-06T12:10:31.616Z"
   },
   {
    "duration": 3,
    "start_time": "2022-10-06T12:12:46.302Z"
   },
   {
    "duration": 1061,
    "start_time": "2022-10-06T12:12:46.449Z"
   },
   {
    "duration": 102,
    "start_time": "2022-10-06T12:12:47.512Z"
   },
   {
    "duration": 91072,
    "start_time": "2022-10-06T12:12:47.616Z"
   },
   {
    "duration": 34,
    "start_time": "2022-10-06T12:18:30.576Z"
   },
   {
    "duration": 89459,
    "start_time": "2022-10-06T12:25:12.245Z"
   },
   {
    "duration": 1661,
    "start_time": "2022-10-06T12:26:41.706Z"
   },
   {
    "duration": 1858,
    "start_time": "2022-10-06T12:27:01.355Z"
   },
   {
    "duration": 1786,
    "start_time": "2022-10-06T12:28:00.520Z"
   },
   {
    "duration": 1798,
    "start_time": "2022-10-06T12:28:10.609Z"
   },
   {
    "duration": 1927,
    "start_time": "2022-10-06T12:29:04.819Z"
   },
   {
    "duration": 1389,
    "start_time": "2022-10-06T12:29:57.139Z"
   },
   {
    "duration": 52,
    "start_time": "2022-10-06T12:29:58.530Z"
   },
   {
    "duration": 28,
    "start_time": "2022-10-06T12:29:58.584Z"
   },
   {
    "duration": 8,
    "start_time": "2022-10-06T12:29:58.614Z"
   },
   {
    "duration": 8,
    "start_time": "2022-10-06T12:29:58.623Z"
   },
   {
    "duration": 9,
    "start_time": "2022-10-06T12:29:58.632Z"
   },
   {
    "duration": 21,
    "start_time": "2022-10-06T12:29:58.642Z"
   },
   {
    "duration": 265,
    "start_time": "2022-10-06T12:29:58.665Z"
   },
   {
    "duration": 3,
    "start_time": "2022-10-06T12:29:58.932Z"
   },
   {
    "duration": 844,
    "start_time": "2022-10-06T12:29:58.937Z"
   },
   {
    "duration": 128,
    "start_time": "2022-10-06T12:29:59.783Z"
   },
   {
    "duration": 229,
    "start_time": "2022-10-06T12:29:59.912Z"
   },
   {
    "duration": 133,
    "start_time": "2022-10-06T12:30:00.143Z"
   },
   {
    "duration": 11,
    "start_time": "2022-10-06T12:30:00.278Z"
   },
   {
    "duration": 24,
    "start_time": "2022-10-06T12:30:00.291Z"
   },
   {
    "duration": 6,
    "start_time": "2022-10-06T12:30:00.317Z"
   },
   {
    "duration": 1387,
    "start_time": "2022-10-06T12:30:00.325Z"
   },
   {
    "duration": 100,
    "start_time": "2022-10-06T12:30:01.714Z"
   },
   {
    "duration": 102570,
    "start_time": "2022-10-06T12:30:01.816Z"
   },
   {
    "duration": 2061,
    "start_time": "2022-10-06T12:31:44.389Z"
   },
   {
    "duration": 2548,
    "start_time": "2022-10-06T12:32:20.757Z"
   },
   {
    "duration": 2301,
    "start_time": "2022-10-06T12:32:30.943Z"
   },
   {
    "duration": 1792,
    "start_time": "2022-10-06T12:32:34.782Z"
   },
   {
    "duration": 1886,
    "start_time": "2022-10-06T12:32:52.149Z"
   },
   {
    "duration": 53,
    "start_time": "2022-10-06T12:34:33.541Z"
   },
   {
    "duration": 17194,
    "start_time": "2022-10-06T12:34:40.414Z"
   },
   {
    "duration": 63645,
    "start_time": "2022-10-06T12:35:51.072Z"
   },
   {
    "duration": 929,
    "start_time": "2022-10-06T12:40:05.566Z"
   },
   {
    "duration": 1004,
    "start_time": "2022-10-06T12:40:14.410Z"
   },
   {
    "duration": 13,
    "start_time": "2022-10-06T12:44:32.282Z"
   },
   {
    "duration": 13,
    "start_time": "2022-10-06T12:45:02.731Z"
   },
   {
    "duration": 11,
    "start_time": "2022-10-06T12:45:51.140Z"
   },
   {
    "duration": 1900,
    "start_time": "2022-10-06T12:45:56.857Z"
   },
   {
    "duration": 858,
    "start_time": "2022-10-06T12:46:37.164Z"
   },
   {
    "duration": 920,
    "start_time": "2022-10-06T12:46:43.991Z"
   },
   {
    "duration": 1033,
    "start_time": "2022-10-06T12:48:45.917Z"
   },
   {
    "duration": 755,
    "start_time": "2022-10-06T12:48:56.686Z"
   },
   {
    "duration": 1384,
    "start_time": "2022-10-06T12:49:00.561Z"
   },
   {
    "duration": 833,
    "start_time": "2022-10-06T12:49:03.876Z"
   },
   {
    "duration": 696,
    "start_time": "2022-10-06T12:49:48.623Z"
   },
   {
    "duration": 995,
    "start_time": "2022-10-06T12:49:53.415Z"
   },
   {
    "duration": 805,
    "start_time": "2022-10-06T12:49:58.204Z"
   },
   {
    "duration": 903,
    "start_time": "2022-10-06T12:50:03.511Z"
   },
   {
    "duration": 1017,
    "start_time": "2022-10-06T12:50:08.596Z"
   },
   {
    "duration": 1529,
    "start_time": "2022-10-06T12:50:16.389Z"
   },
   {
    "duration": 986,
    "start_time": "2022-10-06T12:50:22.026Z"
   },
   {
    "duration": 1660,
    "start_time": "2022-10-06T12:50:25.357Z"
   },
   {
    "duration": 905,
    "start_time": "2022-10-06T12:50:29.512Z"
   },
   {
    "duration": 4,
    "start_time": "2022-10-06T12:51:15.526Z"
   },
   {
    "duration": 1191,
    "start_time": "2022-10-06T12:51:16.022Z"
   },
   {
    "duration": 100,
    "start_time": "2022-10-06T12:51:17.219Z"
   },
   {
    "duration": 53391,
    "start_time": "2022-10-06T12:51:18.182Z"
   },
   {
    "duration": 1545,
    "start_time": "2022-10-06T12:52:11.575Z"
   },
   {
    "duration": 74195,
    "start_time": "2022-10-06T12:52:13.121Z"
   },
   {
    "duration": 1010,
    "start_time": "2022-10-06T12:53:46.602Z"
   },
   {
    "duration": 1050,
    "start_time": "2022-10-06T12:53:58.890Z"
   },
   {
    "duration": 98,
    "start_time": "2022-10-06T12:54:17.713Z"
   },
   {
    "duration": 1140,
    "start_time": "2022-10-06T12:55:05.070Z"
   },
   {
    "duration": 11,
    "start_time": "2022-10-06T12:55:12.372Z"
   },
   {
    "duration": 956,
    "start_time": "2022-10-06T12:55:21.570Z"
   },
   {
    "duration": 719,
    "start_time": "2022-10-06T12:55:34.896Z"
   },
   {
    "duration": 1316,
    "start_time": "2022-10-06T12:55:37.896Z"
   },
   {
    "duration": 23,
    "start_time": "2022-10-06T12:56:20.087Z"
   },
   {
    "duration": 953,
    "start_time": "2022-10-06T12:56:20.310Z"
   },
   {
    "duration": 758,
    "start_time": "2022-10-06T12:56:21.265Z"
   },
   {
    "duration": 3693,
    "start_time": "2022-10-06T12:57:11.321Z"
   },
   {
    "duration": 903,
    "start_time": "2022-10-06T12:57:20.711Z"
   },
   {
    "duration": 933,
    "start_time": "2022-10-06T12:57:28.187Z"
   },
   {
    "duration": 927,
    "start_time": "2022-10-06T12:57:32.318Z"
   },
   {
    "duration": 5,
    "start_time": "2022-10-06T12:57:54.844Z"
   },
   {
    "duration": 2653,
    "start_time": "2022-10-06T12:57:55.156Z"
   },
   {
    "duration": 99,
    "start_time": "2022-10-06T12:57:57.811Z"
   },
   {
    "duration": 123714,
    "start_time": "2022-10-06T12:57:57.912Z"
   },
   {
    "duration": 1712,
    "start_time": "2022-10-06T13:00:01.628Z"
   },
   {
    "duration": 123768,
    "start_time": "2022-10-06T13:00:03.342Z"
   },
   {
    "duration": 1098,
    "start_time": "2022-10-06T13:02:07.112Z"
   },
   {
    "duration": 104,
    "start_time": "2022-10-06T13:02:08.212Z"
   },
   {
    "duration": 1406,
    "start_time": "2022-10-06T13:02:08.318Z"
   },
   {
    "duration": 1491,
    "start_time": "2022-10-06T13:02:09.726Z"
   },
   {
    "duration": 1086,
    "start_time": "2022-10-06T13:02:11.310Z"
   },
   {
    "duration": 1639,
    "start_time": "2022-10-06T13:05:27.280Z"
   },
   {
    "duration": 21,
    "start_time": "2022-10-06T13:05:45.292Z"
   },
   {
    "duration": 1406,
    "start_time": "2022-10-06T13:05:53.604Z"
   },
   {
    "duration": 1102,
    "start_time": "2022-10-06T13:06:16.013Z"
   },
   {
    "duration": 1099,
    "start_time": "2022-10-06T13:06:48.318Z"
   },
   {
    "duration": 949,
    "start_time": "2022-10-06T13:06:53.061Z"
   },
   {
    "duration": 1041,
    "start_time": "2022-10-06T13:07:18.277Z"
   },
   {
    "duration": 892,
    "start_time": "2022-10-06T13:07:28.018Z"
   },
   {
    "duration": 1467,
    "start_time": "2022-10-06T13:07:32.245Z"
   },
   {
    "duration": 770,
    "start_time": "2022-10-06T13:07:38.248Z"
   },
   {
    "duration": 786,
    "start_time": "2022-10-06T13:07:41.230Z"
   },
   {
    "duration": 254,
    "start_time": "2022-10-06T13:07:44.961Z"
   },
   {
    "duration": 1347,
    "start_time": "2022-10-06T13:07:49.071Z"
   },
   {
    "duration": 196103,
    "start_time": "2022-10-06T13:08:23.407Z"
   },
   {
    "duration": 1033,
    "start_time": "2022-10-06T13:13:09.685Z"
   },
   {
    "duration": 1396,
    "start_time": "2022-10-06T13:26:20.491Z"
   },
   {
    "duration": 54,
    "start_time": "2022-10-06T13:26:21.889Z"
   },
   {
    "duration": 29,
    "start_time": "2022-10-06T13:26:21.945Z"
   },
   {
    "duration": 9,
    "start_time": "2022-10-06T13:26:21.976Z"
   },
   {
    "duration": 32,
    "start_time": "2022-10-06T13:26:21.986Z"
   },
   {
    "duration": 9,
    "start_time": "2022-10-06T13:26:22.020Z"
   },
   {
    "duration": 19,
    "start_time": "2022-10-06T13:26:22.031Z"
   },
   {
    "duration": 284,
    "start_time": "2022-10-06T13:26:22.052Z"
   },
   {
    "duration": 4,
    "start_time": "2022-10-06T13:26:22.338Z"
   },
   {
    "duration": 807,
    "start_time": "2022-10-06T13:26:22.345Z"
   },
   {
    "duration": 133,
    "start_time": "2022-10-06T13:26:23.154Z"
   },
   {
    "duration": 201,
    "start_time": "2022-10-06T13:26:23.289Z"
   },
   {
    "duration": 141,
    "start_time": "2022-10-06T13:26:23.492Z"
   },
   {
    "duration": 11,
    "start_time": "2022-10-06T13:26:23.635Z"
   },
   {
    "duration": 3,
    "start_time": "2022-10-06T13:26:23.648Z"
   },
   {
    "duration": 10,
    "start_time": "2022-10-06T13:26:23.652Z"
   },
   {
    "duration": 759,
    "start_time": "2022-10-06T13:26:23.663Z"
   },
   {
    "duration": 100,
    "start_time": "2022-10-06T13:26:24.509Z"
   },
   {
    "duration": 92598,
    "start_time": "2022-10-06T13:26:24.611Z"
   },
   {
    "duration": 876,
    "start_time": "2022-10-06T13:27:57.210Z"
   },
   {
    "duration": 79327,
    "start_time": "2022-10-06T13:27:58.087Z"
   },
   {
    "duration": 1197,
    "start_time": "2022-10-06T13:29:17.416Z"
   },
   {
    "duration": 195,
    "start_time": "2022-10-06T13:29:18.615Z"
   },
   {
    "duration": 1184,
    "start_time": "2022-10-06T13:29:18.812Z"
   },
   {
    "duration": 1218,
    "start_time": "2022-10-06T13:29:19.998Z"
   },
   {
    "duration": 1598,
    "start_time": "2022-10-06T13:30:05.416Z"
   },
   {
    "duration": 25190,
    "start_time": "2022-10-06T13:30:24.524Z"
   },
   {
    "duration": 700,
    "start_time": "2022-10-06T13:31:02.816Z"
   },
   {
    "duration": 1109,
    "start_time": "2022-10-06T13:40:24.300Z"
   },
   {
    "duration": 1974,
    "start_time": "2022-10-06T13:40:28.436Z"
   },
   {
    "duration": 6173,
    "start_time": "2022-10-06T13:40:31.640Z"
   },
   {
    "duration": 1550,
    "start_time": "2022-10-06T13:40:48.571Z"
   },
   {
    "duration": 3500,
    "start_time": "2022-10-06T13:41:06.609Z"
   },
   {
    "duration": 100,
    "start_time": "2022-10-06T13:41:14.311Z"
   },
   {
    "duration": 1627,
    "start_time": "2022-10-06T13:41:24.803Z"
   },
   {
    "duration": 1365,
    "start_time": "2022-10-06T13:41:37.545Z"
   },
   {
    "duration": 1944,
    "start_time": "2022-10-06T13:41:43.070Z"
   },
   {
    "duration": 1832,
    "start_time": "2022-10-06T13:41:49.886Z"
   },
   {
    "duration": 3746,
    "start_time": "2022-10-06T13:41:56.465Z"
   },
   {
    "duration": 3787,
    "start_time": "2022-10-06T13:42:08.830Z"
   },
   {
    "duration": 1327,
    "start_time": "2022-10-06T13:42:22.483Z"
   },
   {
    "duration": 6595,
    "start_time": "2022-10-06T13:42:31.423Z"
   },
   {
    "duration": 1473,
    "start_time": "2022-10-06T13:42:48.242Z"
   },
   {
    "duration": 1140,
    "start_time": "2022-10-06T13:45:34.172Z"
   },
   {
    "duration": 658,
    "start_time": "2022-10-06T13:45:41.711Z"
   },
   {
    "duration": 1458,
    "start_time": "2022-10-06T13:45:48.939Z"
   },
   {
    "duration": 1692,
    "start_time": "2022-10-06T13:45:53.496Z"
   },
   {
    "duration": 587,
    "start_time": "2022-10-06T13:45:56.503Z"
   },
   {
    "duration": 741,
    "start_time": "2022-10-06T13:45:59.631Z"
   },
   {
    "duration": 952,
    "start_time": "2022-10-06T13:46:03.856Z"
   },
   {
    "duration": 895,
    "start_time": "2022-10-06T13:46:08.105Z"
   },
   {
    "duration": 870,
    "start_time": "2022-10-06T13:46:13.158Z"
   },
   {
    "duration": 57718,
    "start_time": "2022-10-06T13:46:32.585Z"
   },
   {
    "duration": 976,
    "start_time": "2022-10-06T13:49:34.277Z"
   },
   {
    "duration": 994,
    "start_time": "2022-10-06T13:49:56.955Z"
   },
   {
    "duration": 1895,
    "start_time": "2022-10-06T13:50:02.210Z"
   },
   {
    "duration": 872,
    "start_time": "2022-10-06T13:50:06.932Z"
   },
   {
    "duration": 813,
    "start_time": "2022-10-06T13:50:12.262Z"
   },
   {
    "duration": 763,
    "start_time": "2022-10-06T13:50:19.943Z"
   },
   {
    "duration": 644,
    "start_time": "2022-10-06T13:50:23.860Z"
   },
   {
    "duration": 39187,
    "start_time": "2022-10-06T13:50:45.912Z"
   },
   {
    "duration": 45709,
    "start_time": "2022-10-06T13:51:35.030Z"
   },
   {
    "duration": 49,
    "start_time": "2022-10-06T13:58:43.841Z"
   },
   {
    "duration": 1517,
    "start_time": "2022-10-06T13:58:51.102Z"
   },
   {
    "duration": 120,
    "start_time": "2022-10-06T13:58:52.620Z"
   },
   {
    "duration": 34,
    "start_time": "2022-10-06T13:58:52.742Z"
   },
   {
    "duration": 8,
    "start_time": "2022-10-06T13:58:52.778Z"
   },
   {
    "duration": 23,
    "start_time": "2022-10-06T13:58:52.787Z"
   },
   {
    "duration": 4,
    "start_time": "2022-10-06T13:58:52.811Z"
   },
   {
    "duration": 15,
    "start_time": "2022-10-06T13:58:52.816Z"
   },
   {
    "duration": 271,
    "start_time": "2022-10-06T13:58:52.832Z"
   },
   {
    "duration": 4,
    "start_time": "2022-10-06T13:58:53.105Z"
   },
   {
    "duration": 876,
    "start_time": "2022-10-06T13:58:53.112Z"
   },
   {
    "duration": 131,
    "start_time": "2022-10-06T13:58:53.990Z"
   },
   {
    "duration": 204,
    "start_time": "2022-10-06T13:58:54.123Z"
   },
   {
    "duration": 181,
    "start_time": "2022-10-06T13:58:54.329Z"
   },
   {
    "duration": 15,
    "start_time": "2022-10-06T13:58:54.512Z"
   },
   {
    "duration": 4,
    "start_time": "2022-10-06T13:58:54.530Z"
   },
   {
    "duration": 10,
    "start_time": "2022-10-06T13:58:54.536Z"
   },
   {
    "duration": 862,
    "start_time": "2022-10-06T13:58:54.548Z"
   },
   {
    "duration": 100,
    "start_time": "2022-10-06T13:58:55.411Z"
   },
   {
    "duration": 1354,
    "start_time": "2022-10-06T14:03:06.904Z"
   },
   {
    "duration": 65,
    "start_time": "2022-10-06T14:03:08.261Z"
   },
   {
    "duration": 30,
    "start_time": "2022-10-06T14:03:08.329Z"
   },
   {
    "duration": 8,
    "start_time": "2022-10-06T14:03:08.361Z"
   },
   {
    "duration": 39,
    "start_time": "2022-10-06T14:03:08.371Z"
   },
   {
    "duration": 6,
    "start_time": "2022-10-06T14:03:08.412Z"
   },
   {
    "duration": 20,
    "start_time": "2022-10-06T14:03:08.420Z"
   },
   {
    "duration": 315,
    "start_time": "2022-10-06T14:03:08.442Z"
   },
   {
    "duration": 4,
    "start_time": "2022-10-06T14:03:08.759Z"
   },
   {
    "duration": 779,
    "start_time": "2022-10-06T14:03:08.766Z"
   },
   {
    "duration": 142,
    "start_time": "2022-10-06T14:03:09.546Z"
   },
   {
    "duration": 205,
    "start_time": "2022-10-06T14:03:09.689Z"
   },
   {
    "duration": 138,
    "start_time": "2022-10-06T14:03:09.895Z"
   },
   {
    "duration": 12,
    "start_time": "2022-10-06T14:03:10.034Z"
   },
   {
    "duration": 9,
    "start_time": "2022-10-06T14:03:10.047Z"
   },
   {
    "duration": 7,
    "start_time": "2022-10-06T14:03:10.057Z"
   },
   {
    "duration": 543,
    "start_time": "2022-10-06T14:03:10.066Z"
   },
   {
    "duration": 102,
    "start_time": "2022-10-06T14:03:10.612Z"
   },
   {
    "duration": 34681,
    "start_time": "2022-10-06T14:03:10.716Z"
   },
   {
    "duration": 1341,
    "start_time": "2022-10-06T14:03:45.398Z"
   },
   {
    "duration": 41772,
    "start_time": "2022-10-06T14:03:46.741Z"
   },
   {
    "duration": 2201,
    "start_time": "2022-10-06T14:04:28.515Z"
   },
   {
    "duration": 100,
    "start_time": "2022-10-06T14:04:30.719Z"
   },
   {
    "duration": 1212,
    "start_time": "2022-10-06T14:04:30.909Z"
   },
   {
    "duration": 2392,
    "start_time": "2022-10-06T14:04:32.123Z"
   },
   {
    "duration": 965,
    "start_time": "2022-10-06T14:04:57.655Z"
   },
   {
    "duration": 805,
    "start_time": "2022-10-06T14:05:13.188Z"
   },
   {
    "duration": 964,
    "start_time": "2022-10-06T14:05:29.943Z"
   },
   {
    "duration": 948,
    "start_time": "2022-10-06T14:05:51.555Z"
   },
   {
    "duration": 1113,
    "start_time": "2022-10-06T14:05:59.298Z"
   },
   {
    "duration": 27693,
    "start_time": "2022-10-06T14:06:06.265Z"
   },
   {
    "duration": 728,
    "start_time": "2022-10-06T14:06:46.053Z"
   },
   {
    "duration": 1248,
    "start_time": "2022-10-06T14:07:00.287Z"
   },
   {
    "duration": 109,
    "start_time": "2022-10-06T14:07:17.001Z"
   },
   {
    "duration": 1229,
    "start_time": "2022-10-06T14:07:30.480Z"
   },
   {
    "duration": 1364,
    "start_time": "2022-10-06T14:07:36.354Z"
   },
   {
    "duration": 1688,
    "start_time": "2022-10-06T14:07:49.523Z"
   },
   {
    "duration": 3075,
    "start_time": "2022-10-06T14:07:54.440Z"
   },
   {
    "duration": 1832,
    "start_time": "2022-10-06T14:08:45.476Z"
   },
   {
    "duration": 7367,
    "start_time": "2022-10-06T14:08:50.952Z"
   },
   {
    "duration": 1812,
    "start_time": "2022-10-06T14:09:05.406Z"
   },
   {
    "duration": 63832,
    "start_time": "2022-10-06T14:09:33.684Z"
   },
   {
    "duration": 2618,
    "start_time": "2022-10-06T14:11:06.499Z"
   },
   {
    "duration": 1306,
    "start_time": "2022-10-06T14:11:28.612Z"
   },
   {
    "duration": 1353,
    "start_time": "2022-10-06T14:11:31.862Z"
   },
   {
    "duration": 55621,
    "start_time": "2022-10-06T14:11:45.288Z"
   },
   {
    "duration": 1212,
    "start_time": "2022-10-06T14:12:59.697Z"
   },
   {
    "duration": 1351,
    "start_time": "2022-10-06T14:13:04.267Z"
   },
   {
    "duration": 40749,
    "start_time": "2022-10-06T14:13:31.169Z"
   },
   {
    "duration": 59470,
    "start_time": "2022-10-06T14:14:36.448Z"
   },
   {
    "duration": 1252,
    "start_time": "2022-10-06T14:15:57.862Z"
   },
   {
    "duration": 883,
    "start_time": "2022-10-06T14:16:25.185Z"
   },
   {
    "duration": 1370,
    "start_time": "2022-10-06T14:16:42.645Z"
   },
   {
    "duration": 118,
    "start_time": "2022-10-06T14:30:30.838Z"
   },
   {
    "duration": 4,
    "start_time": "2022-10-06T14:30:39.731Z"
   },
   {
    "duration": 10,
    "start_time": "2022-10-06T14:30:46.638Z"
   },
   {
    "duration": 10,
    "start_time": "2022-10-06T14:31:11.343Z"
   },
   {
    "duration": 7,
    "start_time": "2022-10-06T14:31:31.612Z"
   },
   {
    "duration": 11,
    "start_time": "2022-10-06T14:31:48.347Z"
   },
   {
    "duration": 12,
    "start_time": "2022-10-06T14:32:07.663Z"
   },
   {
    "duration": 13,
    "start_time": "2022-10-06T14:32:14.588Z"
   },
   {
    "duration": 10,
    "start_time": "2022-10-06T14:33:22.750Z"
   },
   {
    "duration": 11,
    "start_time": "2022-10-06T14:33:33.702Z"
   },
   {
    "duration": 13,
    "start_time": "2022-10-06T14:33:36.170Z"
   },
   {
    "duration": 5,
    "start_time": "2022-10-06T14:38:59.971Z"
   },
   {
    "duration": 7,
    "start_time": "2022-10-06T14:39:28.729Z"
   },
   {
    "duration": 9,
    "start_time": "2022-10-06T14:48:13.889Z"
   },
   {
    "duration": 6,
    "start_time": "2022-10-06T14:48:26.725Z"
   },
   {
    "duration": 10,
    "start_time": "2022-10-06T14:48:42.055Z"
   },
   {
    "duration": 10760,
    "start_time": "2022-10-06T14:48:51.306Z"
   },
   {
    "duration": 7,
    "start_time": "2022-10-06T14:49:30.488Z"
   },
   {
    "duration": 14,
    "start_time": "2022-10-06T14:51:15.364Z"
   },
   {
    "duration": 7,
    "start_time": "2022-10-06T14:53:34.280Z"
   },
   {
    "duration": 7,
    "start_time": "2022-10-06T14:53:39.850Z"
   },
   {
    "duration": 7,
    "start_time": "2022-10-06T14:54:29.357Z"
   },
   {
    "duration": 16,
    "start_time": "2022-10-06T14:55:14.249Z"
   },
   {
    "duration": 16,
    "start_time": "2022-10-06T14:55:56.441Z"
   },
   {
    "duration": 12,
    "start_time": "2022-10-06T14:56:05.016Z"
   },
   {
    "duration": 5,
    "start_time": "2022-10-06T14:56:27.521Z"
   },
   {
    "duration": 7,
    "start_time": "2022-10-06T14:57:45.052Z"
   },
   {
    "duration": 17,
    "start_time": "2022-10-06T14:57:54.969Z"
   },
   {
    "duration": 6,
    "start_time": "2022-10-06T14:58:07.680Z"
   },
   {
    "duration": 273,
    "start_time": "2022-10-06T14:58:11.517Z"
   },
   {
    "duration": 4,
    "start_time": "2022-10-06T14:58:21.339Z"
   },
   {
    "duration": 20,
    "start_time": "2022-10-06T14:59:11.552Z"
   },
   {
    "duration": 18,
    "start_time": "2022-10-06T15:00:22.731Z"
   },
   {
    "duration": 5,
    "start_time": "2022-10-06T15:01:07.108Z"
   },
   {
    "duration": 10,
    "start_time": "2022-10-06T15:01:28.941Z"
   },
   {
    "duration": 5,
    "start_time": "2022-10-06T15:04:39.309Z"
   },
   {
    "duration": 7,
    "start_time": "2022-10-06T15:06:12.391Z"
   },
   {
    "duration": 5,
    "start_time": "2022-10-06T15:06:37.080Z"
   },
   {
    "duration": 9,
    "start_time": "2022-10-06T15:12:09.499Z"
   },
   {
    "duration": 5,
    "start_time": "2022-10-06T15:27:50.216Z"
   },
   {
    "duration": 7,
    "start_time": "2022-10-06T15:30:58.756Z"
   },
   {
    "duration": 5,
    "start_time": "2022-10-06T15:42:50.843Z"
   },
   {
    "duration": 1484,
    "start_time": "2022-10-07T08:54:01.971Z"
   },
   {
    "duration": 4,
    "start_time": "2022-10-07T08:55:34.926Z"
   },
   {
    "duration": 229,
    "start_time": "2022-10-07T08:55:41.467Z"
   },
   {
    "duration": 1350,
    "start_time": "2022-10-07T08:55:48.225Z"
   },
   {
    "duration": 145,
    "start_time": "2022-10-07T08:55:49.577Z"
   },
   {
    "duration": 28,
    "start_time": "2022-10-07T08:55:49.724Z"
   },
   {
    "duration": 16,
    "start_time": "2022-10-07T08:55:49.754Z"
   },
   {
    "duration": 25,
    "start_time": "2022-10-07T08:55:49.774Z"
   },
   {
    "duration": 6,
    "start_time": "2022-10-07T08:55:49.800Z"
   },
   {
    "duration": 22,
    "start_time": "2022-10-07T08:55:49.808Z"
   },
   {
    "duration": 236,
    "start_time": "2022-10-07T08:55:49.831Z"
   },
   {
    "duration": 3,
    "start_time": "2022-10-07T08:55:50.069Z"
   },
   {
    "duration": 760,
    "start_time": "2022-10-07T08:55:50.074Z"
   },
   {
    "duration": 134,
    "start_time": "2022-10-07T08:55:50.835Z"
   },
   {
    "duration": 229,
    "start_time": "2022-10-07T08:55:50.971Z"
   },
   {
    "duration": 169,
    "start_time": "2022-10-07T08:55:51.202Z"
   },
   {
    "duration": 15,
    "start_time": "2022-10-07T08:55:51.372Z"
   },
   {
    "duration": 3,
    "start_time": "2022-10-07T08:55:51.390Z"
   },
   {
    "duration": 42,
    "start_time": "2022-10-07T08:55:51.395Z"
   },
   {
    "duration": 685,
    "start_time": "2022-10-07T08:55:51.438Z"
   },
   {
    "duration": 197,
    "start_time": "2022-10-07T08:55:52.125Z"
   },
   {
    "duration": 23115,
    "start_time": "2022-10-07T08:55:52.324Z"
   },
   {
    "duration": 1234,
    "start_time": "2022-10-07T08:56:15.441Z"
   },
   {
    "duration": 59853,
    "start_time": "2022-10-07T08:56:16.677Z"
   },
   {
    "duration": 2505,
    "start_time": "2022-10-07T08:57:16.532Z"
   },
   {
    "duration": 101,
    "start_time": "2022-10-07T08:57:19.122Z"
   },
   {
    "duration": 929,
    "start_time": "2022-10-07T08:57:19.224Z"
   },
   {
    "duration": 1568,
    "start_time": "2022-10-07T08:57:20.155Z"
   },
   {
    "duration": 11,
    "start_time": "2022-10-07T08:57:21.724Z"
   },
   {
    "duration": 17,
    "start_time": "2022-10-07T08:57:21.736Z"
   },
   {
    "duration": 16,
    "start_time": "2022-10-07T08:57:21.756Z"
   },
   {
    "duration": 918,
    "start_time": "2022-10-07T08:57:51.702Z"
   },
   {
    "duration": 1847,
    "start_time": "2022-10-07T08:58:13.076Z"
   },
   {
    "duration": 1308,
    "start_time": "2022-10-07T08:58:24.015Z"
   },
   {
    "duration": 1551,
    "start_time": "2022-10-07T08:58:28.574Z"
   },
   {
    "duration": 1603,
    "start_time": "2022-10-07T08:58:33.622Z"
   },
   {
    "duration": 4,
    "start_time": "2022-10-07T08:59:14.181Z"
   },
   {
    "duration": 810,
    "start_time": "2022-10-07T08:59:16.312Z"
   },
   {
    "duration": 46,
    "start_time": "2022-10-07T08:59:20.576Z"
   },
   {
    "duration": 41418,
    "start_time": "2022-10-07T08:59:53.914Z"
   },
   {
    "duration": 61927,
    "start_time": "2022-10-07T09:01:12.308Z"
   },
   {
    "duration": 860,
    "start_time": "2022-10-07T09:02:53.548Z"
   },
   {
    "duration": 66082,
    "start_time": "2022-10-07T09:03:05.982Z"
   },
   {
    "duration": 849,
    "start_time": "2022-10-07T09:04:18.417Z"
   },
   {
    "duration": 76101,
    "start_time": "2022-10-07T09:06:43.129Z"
   },
   {
    "duration": 1098,
    "start_time": "2022-10-07T09:08:20.233Z"
   },
   {
    "duration": 1426,
    "start_time": "2022-10-07T09:10:23.139Z"
   },
   {
    "duration": 73191,
    "start_time": "2022-10-07T09:12:24.995Z"
   },
   {
    "duration": 801,
    "start_time": "2022-10-07T09:13:47.122Z"
   },
   {
    "duration": 826,
    "start_time": "2022-10-07T09:13:53.132Z"
   },
   {
    "duration": 880,
    "start_time": "2022-10-07T09:13:58.415Z"
   },
   {
    "duration": 41602,
    "start_time": "2022-10-07T09:14:58.359Z"
   },
   {
    "duration": 1064,
    "start_time": "2022-10-07T09:15:54.502Z"
   },
   {
    "duration": 1074,
    "start_time": "2022-10-07T09:16:08.053Z"
   },
   {
    "duration": 75972,
    "start_time": "2022-10-07T09:16:17.766Z"
   },
   {
    "duration": 2555,
    "start_time": "2022-10-07T09:18:00.873Z"
   },
   {
    "duration": 69138,
    "start_time": "2022-10-07T09:18:13.189Z"
   },
   {
    "duration": 1087,
    "start_time": "2022-10-07T09:19:47.238Z"
   },
   {
    "duration": 1472,
    "start_time": "2022-10-07T09:20:05.657Z"
   },
   {
    "duration": 1296,
    "start_time": "2022-10-07T09:20:10.626Z"
   },
   {
    "duration": 11,
    "start_time": "2022-10-07T09:20:40.551Z"
   },
   {
    "duration": 5,
    "start_time": "2022-10-07T09:20:49.941Z"
   },
   {
    "duration": 8,
    "start_time": "2022-10-07T09:20:56.877Z"
   },
   {
    "duration": 1340,
    "start_time": "2022-10-07T09:39:06.034Z"
   },
   {
    "duration": 54,
    "start_time": "2022-10-07T09:39:07.377Z"
   },
   {
    "duration": 30,
    "start_time": "2022-10-07T09:39:07.432Z"
   },
   {
    "duration": 9,
    "start_time": "2022-10-07T09:39:07.464Z"
   },
   {
    "duration": 25,
    "start_time": "2022-10-07T09:39:07.474Z"
   },
   {
    "duration": 10,
    "start_time": "2022-10-07T09:39:07.500Z"
   },
   {
    "duration": 35,
    "start_time": "2022-10-07T09:39:07.511Z"
   },
   {
    "duration": 234,
    "start_time": "2022-10-07T09:39:07.547Z"
   },
   {
    "duration": 4,
    "start_time": "2022-10-07T09:39:07.783Z"
   },
   {
    "duration": 834,
    "start_time": "2022-10-07T09:39:07.789Z"
   },
   {
    "duration": 149,
    "start_time": "2022-10-07T09:39:08.624Z"
   },
   {
    "duration": 223,
    "start_time": "2022-10-07T09:39:08.775Z"
   },
   {
    "duration": 156,
    "start_time": "2022-10-07T09:39:09.000Z"
   },
   {
    "duration": 12,
    "start_time": "2022-10-07T09:39:09.157Z"
   },
   {
    "duration": 5,
    "start_time": "2022-10-07T09:39:09.171Z"
   },
   {
    "duration": 28,
    "start_time": "2022-10-07T09:39:09.178Z"
   },
   {
    "duration": 1717,
    "start_time": "2022-10-07T09:39:09.208Z"
   },
   {
    "duration": 203,
    "start_time": "2022-10-07T09:39:10.926Z"
   },
   {
    "duration": 37552,
    "start_time": "2022-10-07T09:39:11.131Z"
   },
   {
    "duration": 930,
    "start_time": "2022-10-07T09:39:48.684Z"
   },
   {
    "duration": 54716,
    "start_time": "2022-10-07T09:39:49.616Z"
   },
   {
    "duration": 1291,
    "start_time": "2022-10-07T09:40:44.334Z"
   },
   {
    "duration": 11,
    "start_time": "2022-10-07T09:40:45.626Z"
   },
   {
    "duration": 1138,
    "start_time": "2022-10-07T09:40:45.639Z"
   },
   {
    "duration": 944,
    "start_time": "2022-10-07T09:40:46.778Z"
   },
   {
    "duration": 11,
    "start_time": "2022-10-07T09:40:47.724Z"
   },
   {
    "duration": 10,
    "start_time": "2022-10-07T09:40:47.737Z"
   },
   {
    "duration": 8,
    "start_time": "2022-10-07T09:40:47.751Z"
   },
   {
    "duration": 14,
    "start_time": "2022-10-07T09:41:46.149Z"
   },
   {
    "duration": 5,
    "start_time": "2022-10-07T09:41:51.594Z"
   },
   {
    "duration": 9,
    "start_time": "2022-10-07T09:41:54.438Z"
   },
   {
    "duration": 501,
    "start_time": "2022-10-08T10:43:35.181Z"
   },
   {
    "duration": 5,
    "start_time": "2022-10-08T10:43:48.799Z"
   }
  ],
  "kernelspec": {
   "display_name": "Python 3 (ipykernel)",
   "language": "python",
   "name": "python3"
  },
  "language_info": {
   "codemirror_mode": {
    "name": "ipython",
    "version": 3
   },
   "file_extension": ".py",
   "mimetype": "text/x-python",
   "name": "python",
   "nbconvert_exporter": "python",
   "pygments_lexer": "ipython3",
   "version": "3.9.5"
  },
  "toc": {
   "base_numbering": 1,
   "nav_menu": {},
   "number_sections": true,
   "sideBar": true,
   "skip_h1_title": true,
   "title_cell": "Содержание",
   "title_sidebar": "Contents",
   "toc_cell": true,
   "toc_position": {
    "height": "calc(100% - 180px)",
    "left": "10px",
    "top": "150px",
    "width": "165px"
   },
   "toc_section_display": true,
   "toc_window_display": true
  }
 },
 "nbformat": 4,
 "nbformat_minor": 2
}
