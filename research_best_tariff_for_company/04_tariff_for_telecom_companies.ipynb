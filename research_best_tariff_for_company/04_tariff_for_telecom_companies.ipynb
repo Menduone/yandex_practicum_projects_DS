{
 "cells": [
  {
   "cell_type": "markdown",
   "metadata": {},
   "source": [
    "# Определение перспективного тарифа для телеком-компании\n",
    "\n",
    "В нашем распоряжении данные компании \"Мегалайн\" - федерального оператора сотовой связи. Клиентам предлагают два тарифных плана: «Смарт» и «Ультра». Чтобы скорректировать рекламный бюджет, коммерческий департамент хочет понять, какой тариф приносит больше денег.\n",
    "Нам предстоит сделать предварительный анализ тарифов на небольшой выборке клиентов. В нашем распоряжении данные 500 пользователей «Мегалайна»: кто они, откуда, каким тарифом пользуются, сколько звонков и сообщений каждый отправил за 2018 год. Нужно проанализировать поведение клиентов и сделать вывод — какой тариф лучше.\n",
    "\n",
    "**Примечание**\n",
    "\n",
    "«Мегалайн» **всегда округляет секунды до минут, а мегабайты — до гигабайт**. Каждый **звонок округляется отдельно**: даже если он длился **всего 1 секунду**, будет засчитан **как 1 минута**.\n",
    "Для веб-трафика отдельные сессии не считаются. Вместо этого **общая сумма за месяц округляется в бо́льшую сторону**. Если **абонент использует 1025 мегабайт** в этом месяце, с него **возьмут плату за 2 гигабайта**. Примите, что неиспользованные за предыдущий месяц звонки, смс, интернет на следующий месяц не переносятся."
   ]
  },
  {
   "cell_type": "markdown",
   "metadata": {},
   "source": [
    "## Изучение данных из файла"
   ]
  },
  {
   "cell_type": "code",
   "execution_count": 1,
   "metadata": {},
   "outputs": [],
   "source": [
    "import pandas as pd \n",
    "import matplotlib.pyplot as plt\n",
    "from scipy import stats as st\n",
    "import numpy as np\n",
    "import math # для округления в большую сторону по информации, данной при работе над проектом"
   ]
  },
  {
   "cell_type": "markdown",
   "metadata": {},
   "source": [
    "Сохраняем файлы в говорящие для них переменные:"
   ]
  },
  {
   "cell_type": "code",
   "execution_count": 2,
   "metadata": {},
   "outputs": [],
   "source": [
    "calls = pd.read_csv('/datasets/calls.csv')\n",
    "internet = pd.read_csv('/datasets/internet.csv')\n",
    "messages = pd.read_csv('/datasets/messages.csv')\n",
    "tariffs = pd.read_csv('/datasets/tariffs.csv')\n",
    "users = pd.read_csv('/datasets/users.csv')"
   ]
  },
  {
   "cell_type": "markdown",
   "metadata": {},
   "source": [
    "**Посмотрим на таблицы по порядку**\n",
    "\n",
    "###  Начнем с таблицы с данными о звонках - calls"
   ]
  },
  {
   "cell_type": "code",
   "execution_count": 3,
   "metadata": {},
   "outputs": [
    {
     "data": {
      "text/html": [
       "<div>\n",
       "<style scoped>\n",
       "    .dataframe tbody tr th:only-of-type {\n",
       "        vertical-align: middle;\n",
       "    }\n",
       "\n",
       "    .dataframe tbody tr th {\n",
       "        vertical-align: top;\n",
       "    }\n",
       "\n",
       "    .dataframe thead th {\n",
       "        text-align: right;\n",
       "    }\n",
       "</style>\n",
       "<table border=\"1\" class=\"dataframe\">\n",
       "  <thead>\n",
       "    <tr style=\"text-align: right;\">\n",
       "      <th></th>\n",
       "      <th>id</th>\n",
       "      <th>call_date</th>\n",
       "      <th>duration</th>\n",
       "      <th>user_id</th>\n",
       "    </tr>\n",
       "  </thead>\n",
       "  <tbody>\n",
       "    <tr>\n",
       "      <th>0</th>\n",
       "      <td>1000_0</td>\n",
       "      <td>2018-07-25</td>\n",
       "      <td>0.00</td>\n",
       "      <td>1000</td>\n",
       "    </tr>\n",
       "    <tr>\n",
       "      <th>1</th>\n",
       "      <td>1000_1</td>\n",
       "      <td>2018-08-17</td>\n",
       "      <td>0.00</td>\n",
       "      <td>1000</td>\n",
       "    </tr>\n",
       "    <tr>\n",
       "      <th>2</th>\n",
       "      <td>1000_2</td>\n",
       "      <td>2018-06-11</td>\n",
       "      <td>2.85</td>\n",
       "      <td>1000</td>\n",
       "    </tr>\n",
       "    <tr>\n",
       "      <th>3</th>\n",
       "      <td>1000_3</td>\n",
       "      <td>2018-09-21</td>\n",
       "      <td>13.80</td>\n",
       "      <td>1000</td>\n",
       "    </tr>\n",
       "    <tr>\n",
       "      <th>4</th>\n",
       "      <td>1000_4</td>\n",
       "      <td>2018-12-15</td>\n",
       "      <td>5.18</td>\n",
       "      <td>1000</td>\n",
       "    </tr>\n",
       "    <tr>\n",
       "      <th>5</th>\n",
       "      <td>1000_5</td>\n",
       "      <td>2018-11-02</td>\n",
       "      <td>0.00</td>\n",
       "      <td>1000</td>\n",
       "    </tr>\n",
       "    <tr>\n",
       "      <th>6</th>\n",
       "      <td>1000_6</td>\n",
       "      <td>2018-10-18</td>\n",
       "      <td>0.00</td>\n",
       "      <td>1000</td>\n",
       "    </tr>\n",
       "    <tr>\n",
       "      <th>7</th>\n",
       "      <td>1000_7</td>\n",
       "      <td>2018-08-22</td>\n",
       "      <td>18.31</td>\n",
       "      <td>1000</td>\n",
       "    </tr>\n",
       "    <tr>\n",
       "      <th>8</th>\n",
       "      <td>1000_8</td>\n",
       "      <td>2018-09-15</td>\n",
       "      <td>18.44</td>\n",
       "      <td>1000</td>\n",
       "    </tr>\n",
       "    <tr>\n",
       "      <th>9</th>\n",
       "      <td>1000_9</td>\n",
       "      <td>2018-08-15</td>\n",
       "      <td>0.00</td>\n",
       "      <td>1000</td>\n",
       "    </tr>\n",
       "    <tr>\n",
       "      <th>10</th>\n",
       "      <td>1000_10</td>\n",
       "      <td>2018-08-22</td>\n",
       "      <td>5.03</td>\n",
       "      <td>1000</td>\n",
       "    </tr>\n",
       "    <tr>\n",
       "      <th>11</th>\n",
       "      <td>1000_11</td>\n",
       "      <td>2018-05-28</td>\n",
       "      <td>18.82</td>\n",
       "      <td>1000</td>\n",
       "    </tr>\n",
       "    <tr>\n",
       "      <th>12</th>\n",
       "      <td>1000_12</td>\n",
       "      <td>2018-07-05</td>\n",
       "      <td>2.02</td>\n",
       "      <td>1000</td>\n",
       "    </tr>\n",
       "    <tr>\n",
       "      <th>13</th>\n",
       "      <td>1000_13</td>\n",
       "      <td>2018-09-29</td>\n",
       "      <td>7.15</td>\n",
       "      <td>1000</td>\n",
       "    </tr>\n",
       "    <tr>\n",
       "      <th>14</th>\n",
       "      <td>1000_14</td>\n",
       "      <td>2018-12-11</td>\n",
       "      <td>9.13</td>\n",
       "      <td>1000</td>\n",
       "    </tr>\n",
       "  </tbody>\n",
       "</table>\n",
       "</div>"
      ],
      "text/plain": [
       "         id   call_date  duration  user_id\n",
       "0    1000_0  2018-07-25      0.00     1000\n",
       "1    1000_1  2018-08-17      0.00     1000\n",
       "2    1000_2  2018-06-11      2.85     1000\n",
       "3    1000_3  2018-09-21     13.80     1000\n",
       "4    1000_4  2018-12-15      5.18     1000\n",
       "5    1000_5  2018-11-02      0.00     1000\n",
       "6    1000_6  2018-10-18      0.00     1000\n",
       "7    1000_7  2018-08-22     18.31     1000\n",
       "8    1000_8  2018-09-15     18.44     1000\n",
       "9    1000_9  2018-08-15      0.00     1000\n",
       "10  1000_10  2018-08-22      5.03     1000\n",
       "11  1000_11  2018-05-28     18.82     1000\n",
       "12  1000_12  2018-07-05      2.02     1000\n",
       "13  1000_13  2018-09-29      7.15     1000\n",
       "14  1000_14  2018-12-11      9.13     1000"
      ]
     },
     "execution_count": 3,
     "metadata": {},
     "output_type": "execute_result"
    }
   ],
   "source": [
    "calls.head(15)"
   ]
  },
  {
   "cell_type": "markdown",
   "metadata": {},
   "source": [
    "Таблица **calls** (информация о звонках):\n",
    "* `id` — уникальный номер звонка\n",
    "* `call_date` — дата звонка\n",
    "* `duration` — длительность звонка в минутах\n",
    "* `user_id` — идентификатор пользователя, сделавшего звонок"
   ]
  },
  {
   "cell_type": "code",
   "execution_count": 4,
   "metadata": {},
   "outputs": [
    {
     "data": {
      "text/html": [
       "<div>\n",
       "<style scoped>\n",
       "    .dataframe tbody tr th:only-of-type {\n",
       "        vertical-align: middle;\n",
       "    }\n",
       "\n",
       "    .dataframe tbody tr th {\n",
       "        vertical-align: top;\n",
       "    }\n",
       "\n",
       "    .dataframe thead th {\n",
       "        text-align: right;\n",
       "    }\n",
       "</style>\n",
       "<table border=\"1\" class=\"dataframe\">\n",
       "  <thead>\n",
       "    <tr style=\"text-align: right;\">\n",
       "      <th></th>\n",
       "      <th>duration</th>\n",
       "      <th>user_id</th>\n",
       "    </tr>\n",
       "  </thead>\n",
       "  <tbody>\n",
       "    <tr>\n",
       "      <th>count</th>\n",
       "      <td>202607.000000</td>\n",
       "      <td>202607.000000</td>\n",
       "    </tr>\n",
       "    <tr>\n",
       "      <th>mean</th>\n",
       "      <td>6.755887</td>\n",
       "      <td>1253.940619</td>\n",
       "    </tr>\n",
       "    <tr>\n",
       "      <th>std</th>\n",
       "      <td>5.843365</td>\n",
       "      <td>144.722751</td>\n",
       "    </tr>\n",
       "    <tr>\n",
       "      <th>min</th>\n",
       "      <td>0.000000</td>\n",
       "      <td>1000.000000</td>\n",
       "    </tr>\n",
       "    <tr>\n",
       "      <th>25%</th>\n",
       "      <td>1.300000</td>\n",
       "      <td>1126.000000</td>\n",
       "    </tr>\n",
       "    <tr>\n",
       "      <th>50%</th>\n",
       "      <td>6.000000</td>\n",
       "      <td>1260.000000</td>\n",
       "    </tr>\n",
       "    <tr>\n",
       "      <th>75%</th>\n",
       "      <td>10.700000</td>\n",
       "      <td>1379.000000</td>\n",
       "    </tr>\n",
       "    <tr>\n",
       "      <th>max</th>\n",
       "      <td>38.000000</td>\n",
       "      <td>1499.000000</td>\n",
       "    </tr>\n",
       "  </tbody>\n",
       "</table>\n",
       "</div>"
      ],
      "text/plain": [
       "            duration        user_id\n",
       "count  202607.000000  202607.000000\n",
       "mean        6.755887    1253.940619\n",
       "std         5.843365     144.722751\n",
       "min         0.000000    1000.000000\n",
       "25%         1.300000    1126.000000\n",
       "50%         6.000000    1260.000000\n",
       "75%        10.700000    1379.000000\n",
       "max        38.000000    1499.000000"
      ]
     },
     "execution_count": 4,
     "metadata": {},
     "output_type": "execute_result"
    }
   ],
   "source": [
    "calls.describe()"
   ]
  },
  {
   "cell_type": "code",
   "execution_count": 5,
   "metadata": {},
   "outputs": [
    {
     "name": "stdout",
     "output_type": "stream",
     "text": [
      "<class 'pandas.core.frame.DataFrame'>\n",
      "RangeIndex: 202607 entries, 0 to 202606\n",
      "Data columns (total 4 columns):\n",
      " #   Column     Non-Null Count   Dtype  \n",
      "---  ------     --------------   -----  \n",
      " 0   id         202607 non-null  object \n",
      " 1   call_date  202607 non-null  object \n",
      " 2   duration   202607 non-null  float64\n",
      " 3   user_id    202607 non-null  int64  \n",
      "dtypes: float64(1), int64(1), object(2)\n",
      "memory usage: 6.2+ MB\n"
     ]
    }
   ],
   "source": [
    "calls.info()"
   ]
  },
  {
   "cell_type": "markdown",
   "metadata": {},
   "source": [
    "#### Исправления\n",
    "\n",
    "* Заметили, что в колонке `id` тип данных строковый (нужно заменить);\n",
    "* Заметили, что данные в столбце `call_date` записан в формате datetime, но тип данных как строковый;\n",
    "* Исходя из информации, данной нам в `примечании`, нужно округлить длительность звонков с какими-либо секундами в большую сторону;\n",
    "* В данных мы нашли звонки с нулевой продолжительностью. Исходя из информации, данной нам в задании, это не ошибка: нулями обозначены пропущенные звонки, поэтому их не нужно удалять\n",
    "\n",
    "### На очереди таблица c интернетом - internet"
   ]
  },
  {
   "cell_type": "code",
   "execution_count": 6,
   "metadata": {},
   "outputs": [
    {
     "data": {
      "text/html": [
       "<div>\n",
       "<style scoped>\n",
       "    .dataframe tbody tr th:only-of-type {\n",
       "        vertical-align: middle;\n",
       "    }\n",
       "\n",
       "    .dataframe tbody tr th {\n",
       "        vertical-align: top;\n",
       "    }\n",
       "\n",
       "    .dataframe thead th {\n",
       "        text-align: right;\n",
       "    }\n",
       "</style>\n",
       "<table border=\"1\" class=\"dataframe\">\n",
       "  <thead>\n",
       "    <tr style=\"text-align: right;\">\n",
       "      <th></th>\n",
       "      <th>Unnamed: 0</th>\n",
       "      <th>id</th>\n",
       "      <th>mb_used</th>\n",
       "      <th>session_date</th>\n",
       "      <th>user_id</th>\n",
       "    </tr>\n",
       "  </thead>\n",
       "  <tbody>\n",
       "    <tr>\n",
       "      <th>0</th>\n",
       "      <td>0</td>\n",
       "      <td>1000_0</td>\n",
       "      <td>112.95</td>\n",
       "      <td>2018-11-25</td>\n",
       "      <td>1000</td>\n",
       "    </tr>\n",
       "    <tr>\n",
       "      <th>1</th>\n",
       "      <td>1</td>\n",
       "      <td>1000_1</td>\n",
       "      <td>1052.81</td>\n",
       "      <td>2018-09-07</td>\n",
       "      <td>1000</td>\n",
       "    </tr>\n",
       "    <tr>\n",
       "      <th>2</th>\n",
       "      <td>2</td>\n",
       "      <td>1000_2</td>\n",
       "      <td>1197.26</td>\n",
       "      <td>2018-06-25</td>\n",
       "      <td>1000</td>\n",
       "    </tr>\n",
       "    <tr>\n",
       "      <th>3</th>\n",
       "      <td>3</td>\n",
       "      <td>1000_3</td>\n",
       "      <td>550.27</td>\n",
       "      <td>2018-08-22</td>\n",
       "      <td>1000</td>\n",
       "    </tr>\n",
       "    <tr>\n",
       "      <th>4</th>\n",
       "      <td>4</td>\n",
       "      <td>1000_4</td>\n",
       "      <td>302.56</td>\n",
       "      <td>2018-09-24</td>\n",
       "      <td>1000</td>\n",
       "    </tr>\n",
       "  </tbody>\n",
       "</table>\n",
       "</div>"
      ],
      "text/plain": [
       "   Unnamed: 0      id  mb_used session_date  user_id\n",
       "0           0  1000_0   112.95   2018-11-25     1000\n",
       "1           1  1000_1  1052.81   2018-09-07     1000\n",
       "2           2  1000_2  1197.26   2018-06-25     1000\n",
       "3           3  1000_3   550.27   2018-08-22     1000\n",
       "4           4  1000_4   302.56   2018-09-24     1000"
      ]
     },
     "execution_count": 6,
     "metadata": {},
     "output_type": "execute_result"
    }
   ],
   "source": [
    "internet.head()"
   ]
  },
  {
   "cell_type": "markdown",
   "metadata": {},
   "source": [
    "Таблица **internet** (информация об интернет-сессиях):\n",
    "* `id` — уникальный номер сессии\n",
    "* `mb_used` — объём потраченного за сессию интернет-трафика (в мегабайтах)\n",
    "* `session_date` — дата интернет-сессии\n",
    "* `user_id` — идентификатор пользователя"
   ]
  },
  {
   "cell_type": "code",
   "execution_count": 7,
   "metadata": {},
   "outputs": [
    {
     "name": "stdout",
     "output_type": "stream",
     "text": [
      "<class 'pandas.core.frame.DataFrame'>\n",
      "RangeIndex: 149396 entries, 0 to 149395\n",
      "Data columns (total 5 columns):\n",
      " #   Column        Non-Null Count   Dtype  \n",
      "---  ------        --------------   -----  \n",
      " 0   Unnamed: 0    149396 non-null  int64  \n",
      " 1   id            149396 non-null  object \n",
      " 2   mb_used       149396 non-null  float64\n",
      " 3   session_date  149396 non-null  object \n",
      " 4   user_id       149396 non-null  int64  \n",
      "dtypes: float64(1), int64(2), object(2)\n",
      "memory usage: 5.7+ MB\n"
     ]
    }
   ],
   "source": [
    "internet.info()"
   ]
  },
  {
   "cell_type": "code",
   "execution_count": 8,
   "metadata": {},
   "outputs": [
    {
     "data": {
      "text/html": [
       "<div>\n",
       "<style scoped>\n",
       "    .dataframe tbody tr th:only-of-type {\n",
       "        vertical-align: middle;\n",
       "    }\n",
       "\n",
       "    .dataframe tbody tr th {\n",
       "        vertical-align: top;\n",
       "    }\n",
       "\n",
       "    .dataframe thead th {\n",
       "        text-align: right;\n",
       "    }\n",
       "</style>\n",
       "<table border=\"1\" class=\"dataframe\">\n",
       "  <thead>\n",
       "    <tr style=\"text-align: right;\">\n",
       "      <th></th>\n",
       "      <th>Unnamed: 0</th>\n",
       "      <th>mb_used</th>\n",
       "      <th>user_id</th>\n",
       "    </tr>\n",
       "  </thead>\n",
       "  <tbody>\n",
       "    <tr>\n",
       "      <th>count</th>\n",
       "      <td>149396.000000</td>\n",
       "      <td>149396.000000</td>\n",
       "      <td>149396.000000</td>\n",
       "    </tr>\n",
       "    <tr>\n",
       "      <th>mean</th>\n",
       "      <td>74697.500000</td>\n",
       "      <td>370.192426</td>\n",
       "      <td>1252.099842</td>\n",
       "    </tr>\n",
       "    <tr>\n",
       "      <th>std</th>\n",
       "      <td>43127.054745</td>\n",
       "      <td>278.300951</td>\n",
       "      <td>144.050823</td>\n",
       "    </tr>\n",
       "    <tr>\n",
       "      <th>min</th>\n",
       "      <td>0.000000</td>\n",
       "      <td>0.000000</td>\n",
       "      <td>1000.000000</td>\n",
       "    </tr>\n",
       "    <tr>\n",
       "      <th>25%</th>\n",
       "      <td>37348.750000</td>\n",
       "      <td>138.187500</td>\n",
       "      <td>1130.000000</td>\n",
       "    </tr>\n",
       "    <tr>\n",
       "      <th>50%</th>\n",
       "      <td>74697.500000</td>\n",
       "      <td>348.015000</td>\n",
       "      <td>1251.000000</td>\n",
       "    </tr>\n",
       "    <tr>\n",
       "      <th>75%</th>\n",
       "      <td>112046.250000</td>\n",
       "      <td>559.552500</td>\n",
       "      <td>1380.000000</td>\n",
       "    </tr>\n",
       "    <tr>\n",
       "      <th>max</th>\n",
       "      <td>149395.000000</td>\n",
       "      <td>1724.830000</td>\n",
       "      <td>1499.000000</td>\n",
       "    </tr>\n",
       "  </tbody>\n",
       "</table>\n",
       "</div>"
      ],
      "text/plain": [
       "          Unnamed: 0        mb_used        user_id\n",
       "count  149396.000000  149396.000000  149396.000000\n",
       "mean    74697.500000     370.192426    1252.099842\n",
       "std     43127.054745     278.300951     144.050823\n",
       "min         0.000000       0.000000    1000.000000\n",
       "25%     37348.750000     138.187500    1130.000000\n",
       "50%     74697.500000     348.015000    1251.000000\n",
       "75%    112046.250000     559.552500    1380.000000\n",
       "max    149395.000000    1724.830000    1499.000000"
      ]
     },
     "execution_count": 8,
     "metadata": {},
     "output_type": "execute_result"
    }
   ],
   "source": [
    "internet.describe()"
   ]
  },
  {
   "cell_type": "markdown",
   "metadata": {},
   "source": [
    "#### Исправления\n",
    "\n",
    "* В колонке `session_date` видим всю ту же проблему. Нужно привести в тип данных соответствующий записи;\n",
    "* В колонке `id` тип данных строковый (нужно заменить);\n",
    "* Для чего столбец `Unnamed: 0`  не совсмем понятно, мне кажется, что стоит удалить(но могу ошибаться);\n",
    "* Снова исходя из `примечания`, стоит окргулить в большую сторону мегaбайты интернета - колонка `mb_used`\n",
    "\n",
    "### Следующая таблица с сообщениями - messages: "
   ]
  },
  {
   "cell_type": "code",
   "execution_count": 9,
   "metadata": {},
   "outputs": [
    {
     "name": "stdout",
     "output_type": "stream",
     "text": [
      "<class 'pandas.core.frame.DataFrame'>\n",
      "RangeIndex: 123036 entries, 0 to 123035\n",
      "Data columns (total 3 columns):\n",
      " #   Column        Non-Null Count   Dtype \n",
      "---  ------        --------------   ----- \n",
      " 0   id            123036 non-null  object\n",
      " 1   message_date  123036 non-null  object\n",
      " 2   user_id       123036 non-null  int64 \n",
      "dtypes: int64(1), object(2)\n",
      "memory usage: 2.8+ MB\n"
     ]
    }
   ],
   "source": [
    "messages.info()"
   ]
  },
  {
   "cell_type": "code",
   "execution_count": 10,
   "metadata": {},
   "outputs": [
    {
     "data": {
      "text/html": [
       "<div>\n",
       "<style scoped>\n",
       "    .dataframe tbody tr th:only-of-type {\n",
       "        vertical-align: middle;\n",
       "    }\n",
       "\n",
       "    .dataframe tbody tr th {\n",
       "        vertical-align: top;\n",
       "    }\n",
       "\n",
       "    .dataframe thead th {\n",
       "        text-align: right;\n",
       "    }\n",
       "</style>\n",
       "<table border=\"1\" class=\"dataframe\">\n",
       "  <thead>\n",
       "    <tr style=\"text-align: right;\">\n",
       "      <th></th>\n",
       "      <th>id</th>\n",
       "      <th>message_date</th>\n",
       "      <th>user_id</th>\n",
       "    </tr>\n",
       "  </thead>\n",
       "  <tbody>\n",
       "    <tr>\n",
       "      <th>0</th>\n",
       "      <td>1000_0</td>\n",
       "      <td>2018-06-27</td>\n",
       "      <td>1000</td>\n",
       "    </tr>\n",
       "    <tr>\n",
       "      <th>1</th>\n",
       "      <td>1000_1</td>\n",
       "      <td>2018-10-08</td>\n",
       "      <td>1000</td>\n",
       "    </tr>\n",
       "    <tr>\n",
       "      <th>2</th>\n",
       "      <td>1000_2</td>\n",
       "      <td>2018-08-04</td>\n",
       "      <td>1000</td>\n",
       "    </tr>\n",
       "    <tr>\n",
       "      <th>3</th>\n",
       "      <td>1000_3</td>\n",
       "      <td>2018-06-16</td>\n",
       "      <td>1000</td>\n",
       "    </tr>\n",
       "    <tr>\n",
       "      <th>4</th>\n",
       "      <td>1000_4</td>\n",
       "      <td>2018-12-05</td>\n",
       "      <td>1000</td>\n",
       "    </tr>\n",
       "  </tbody>\n",
       "</table>\n",
       "</div>"
      ],
      "text/plain": [
       "       id message_date  user_id\n",
       "0  1000_0   2018-06-27     1000\n",
       "1  1000_1   2018-10-08     1000\n",
       "2  1000_2   2018-08-04     1000\n",
       "3  1000_3   2018-06-16     1000\n",
       "4  1000_4   2018-12-05     1000"
      ]
     },
     "execution_count": 10,
     "metadata": {},
     "output_type": "execute_result"
    }
   ],
   "source": [
    "messages.head()"
   ]
  },
  {
   "cell_type": "markdown",
   "metadata": {},
   "source": [
    "#### Исправления\n",
    "\n",
    "* Тут не меняются исправления, так же, как и в других таблиц, изменить тип данный в колонке **`message_date`** и **`id`**"
   ]
  },
  {
   "cell_type": "markdown",
   "metadata": {},
   "source": [
    "Таблица **messages** (информация о сообщениях):\n",
    "* `id` — уникальный номер сообщения\n",
    "* `message_date` — дата сообщения\n",
    "* `user_id` — идентификатор пользователя, отправившего сообщение\n",
    "\n",
    "### Таблицы с тарифами - tariffs\n",
    "\n",
    "**ОПИСАНИЕ ТАРИФОВ**\n",
    "\n",
    "Тариф **`«Смарт»`**\n",
    "\n",
    "* Ежемесячная плата: `550` рублей\n",
    "* Включено `500 минут` разговора, `50 сообщений` и `15 Гб` интернет-трафика\n",
    "* Стоимость услуг сверх тарифного пакета:\n",
    "    \n",
    "    `минута` разговора: `3` рубля\n",
    "    `сообщение`: `3` рубля\n",
    "* `1 Гб` интернет-трафика: `200` рублей\n",
    "\n",
    "Тариф **`«Ультра»`**\n",
    "\n",
    "* `Ежемесячная` плата: `1950` рублей;\n",
    "* Включено `3000 минут разговора`, `1000 сообщений` и `30 Гб` интернет-трафика;\n",
    "* Стоимость услуг сверх тарифного пакета:\n",
    "    \n",
    "    `минута разговора`: `1` рубль\n",
    "    `сообщение`: `1` рубль\n",
    "* `1 Гб` интернет-трафика: `150` рублей\n"
   ]
  },
  {
   "cell_type": "code",
   "execution_count": 11,
   "metadata": {},
   "outputs": [
    {
     "data": {
      "text/html": [
       "<div>\n",
       "<style scoped>\n",
       "    .dataframe tbody tr th:only-of-type {\n",
       "        vertical-align: middle;\n",
       "    }\n",
       "\n",
       "    .dataframe tbody tr th {\n",
       "        vertical-align: top;\n",
       "    }\n",
       "\n",
       "    .dataframe thead th {\n",
       "        text-align: right;\n",
       "    }\n",
       "</style>\n",
       "<table border=\"1\" class=\"dataframe\">\n",
       "  <thead>\n",
       "    <tr style=\"text-align: right;\">\n",
       "      <th></th>\n",
       "      <th>messages_included</th>\n",
       "      <th>mb_per_month_included</th>\n",
       "      <th>minutes_included</th>\n",
       "      <th>rub_monthly_fee</th>\n",
       "      <th>rub_per_gb</th>\n",
       "      <th>rub_per_message</th>\n",
       "      <th>rub_per_minute</th>\n",
       "      <th>tariff_name</th>\n",
       "    </tr>\n",
       "  </thead>\n",
       "  <tbody>\n",
       "    <tr>\n",
       "      <th>0</th>\n",
       "      <td>50</td>\n",
       "      <td>15360</td>\n",
       "      <td>500</td>\n",
       "      <td>550</td>\n",
       "      <td>200</td>\n",
       "      <td>3</td>\n",
       "      <td>3</td>\n",
       "      <td>smart</td>\n",
       "    </tr>\n",
       "    <tr>\n",
       "      <th>1</th>\n",
       "      <td>1000</td>\n",
       "      <td>30720</td>\n",
       "      <td>3000</td>\n",
       "      <td>1950</td>\n",
       "      <td>150</td>\n",
       "      <td>1</td>\n",
       "      <td>1</td>\n",
       "      <td>ultra</td>\n",
       "    </tr>\n",
       "  </tbody>\n",
       "</table>\n",
       "</div>"
      ],
      "text/plain": [
       "   messages_included  mb_per_month_included  minutes_included  \\\n",
       "0                 50                  15360               500   \n",
       "1               1000                  30720              3000   \n",
       "\n",
       "   rub_monthly_fee  rub_per_gb  rub_per_message  rub_per_minute tariff_name  \n",
       "0              550         200                3               3       smart  \n",
       "1             1950         150                1               1       ultra  "
      ]
     },
     "execution_count": 11,
     "metadata": {},
     "output_type": "execute_result"
    }
   ],
   "source": [
    "tariffs.head()"
   ]
  },
  {
   "cell_type": "markdown",
   "metadata": {},
   "source": [
    "Таблица **tariffs** (информация о тарифах):\n",
    "* `tariff_name` — название тарифа\n",
    "* `rub_monthly_fee` — ежемесячная абонентская плата в рублях\n",
    "* `minutes_included` — количество минут разговора в месяц, включённых в абонентскую плату\n",
    "* `messages_included` — количество сообщений в месяц, включённых в абонентскую плату\n",
    "* `mb_per_month_included` — объём интернет-трафика, включённого в абонентскую плату (в мегабайтах)\n",
    "* `rub_per_minute` — стоимость минуты разговора сверх тарифного пакета (например, если в тарифе 100 минут разговора в месяц, то со 101 минуты будет взиматься плата)\n",
    "* `rub_per_message` — стоимость отправки сообщения сверх тарифного пакета\n",
    "* `rub_per_gb` — стоимость дополнительного гигабайта интернет-трафика сверх тарифного пакета (1 гигабайт = 1024 мегабайта)"
   ]
  },
  {
   "cell_type": "code",
   "execution_count": 12,
   "metadata": {},
   "outputs": [
    {
     "name": "stdout",
     "output_type": "stream",
     "text": [
      "<class 'pandas.core.frame.DataFrame'>\n",
      "RangeIndex: 2 entries, 0 to 1\n",
      "Data columns (total 8 columns):\n",
      " #   Column                 Non-Null Count  Dtype \n",
      "---  ------                 --------------  ----- \n",
      " 0   messages_included      2 non-null      int64 \n",
      " 1   mb_per_month_included  2 non-null      int64 \n",
      " 2   minutes_included       2 non-null      int64 \n",
      " 3   rub_monthly_fee        2 non-null      int64 \n",
      " 4   rub_per_gb             2 non-null      int64 \n",
      " 5   rub_per_message        2 non-null      int64 \n",
      " 6   rub_per_minute         2 non-null      int64 \n",
      " 7   tariff_name            2 non-null      object\n",
      "dtypes: int64(7), object(1)\n",
      "memory usage: 256.0+ bytes\n"
     ]
    }
   ],
   "source": [
    "tariffs.info()"
   ]
  },
  {
   "cell_type": "code",
   "execution_count": 13,
   "metadata": {},
   "outputs": [
    {
     "data": {
      "text/html": [
       "<div>\n",
       "<style scoped>\n",
       "    .dataframe tbody tr th:only-of-type {\n",
       "        vertical-align: middle;\n",
       "    }\n",
       "\n",
       "    .dataframe tbody tr th {\n",
       "        vertical-align: top;\n",
       "    }\n",
       "\n",
       "    .dataframe thead th {\n",
       "        text-align: right;\n",
       "    }\n",
       "</style>\n",
       "<table border=\"1\" class=\"dataframe\">\n",
       "  <thead>\n",
       "    <tr style=\"text-align: right;\">\n",
       "      <th></th>\n",
       "      <th>messages_included</th>\n",
       "      <th>mb_per_month_included</th>\n",
       "      <th>minutes_included</th>\n",
       "      <th>rub_monthly_fee</th>\n",
       "      <th>rub_per_gb</th>\n",
       "      <th>rub_per_message</th>\n",
       "      <th>rub_per_minute</th>\n",
       "    </tr>\n",
       "  </thead>\n",
       "  <tbody>\n",
       "    <tr>\n",
       "      <th>count</th>\n",
       "      <td>2.000000</td>\n",
       "      <td>2.000000</td>\n",
       "      <td>2.000000</td>\n",
       "      <td>2.000000</td>\n",
       "      <td>2.000000</td>\n",
       "      <td>2.000000</td>\n",
       "      <td>2.000000</td>\n",
       "    </tr>\n",
       "    <tr>\n",
       "      <th>mean</th>\n",
       "      <td>525.000000</td>\n",
       "      <td>23040.000000</td>\n",
       "      <td>1750.000000</td>\n",
       "      <td>1250.000000</td>\n",
       "      <td>175.000000</td>\n",
       "      <td>2.000000</td>\n",
       "      <td>2.000000</td>\n",
       "    </tr>\n",
       "    <tr>\n",
       "      <th>std</th>\n",
       "      <td>671.751442</td>\n",
       "      <td>10861.160159</td>\n",
       "      <td>1767.766953</td>\n",
       "      <td>989.949494</td>\n",
       "      <td>35.355339</td>\n",
       "      <td>1.414214</td>\n",
       "      <td>1.414214</td>\n",
       "    </tr>\n",
       "    <tr>\n",
       "      <th>min</th>\n",
       "      <td>50.000000</td>\n",
       "      <td>15360.000000</td>\n",
       "      <td>500.000000</td>\n",
       "      <td>550.000000</td>\n",
       "      <td>150.000000</td>\n",
       "      <td>1.000000</td>\n",
       "      <td>1.000000</td>\n",
       "    </tr>\n",
       "    <tr>\n",
       "      <th>25%</th>\n",
       "      <td>287.500000</td>\n",
       "      <td>19200.000000</td>\n",
       "      <td>1125.000000</td>\n",
       "      <td>900.000000</td>\n",
       "      <td>162.500000</td>\n",
       "      <td>1.500000</td>\n",
       "      <td>1.500000</td>\n",
       "    </tr>\n",
       "    <tr>\n",
       "      <th>50%</th>\n",
       "      <td>525.000000</td>\n",
       "      <td>23040.000000</td>\n",
       "      <td>1750.000000</td>\n",
       "      <td>1250.000000</td>\n",
       "      <td>175.000000</td>\n",
       "      <td>2.000000</td>\n",
       "      <td>2.000000</td>\n",
       "    </tr>\n",
       "    <tr>\n",
       "      <th>75%</th>\n",
       "      <td>762.500000</td>\n",
       "      <td>26880.000000</td>\n",
       "      <td>2375.000000</td>\n",
       "      <td>1600.000000</td>\n",
       "      <td>187.500000</td>\n",
       "      <td>2.500000</td>\n",
       "      <td>2.500000</td>\n",
       "    </tr>\n",
       "    <tr>\n",
       "      <th>max</th>\n",
       "      <td>1000.000000</td>\n",
       "      <td>30720.000000</td>\n",
       "      <td>3000.000000</td>\n",
       "      <td>1950.000000</td>\n",
       "      <td>200.000000</td>\n",
       "      <td>3.000000</td>\n",
       "      <td>3.000000</td>\n",
       "    </tr>\n",
       "  </tbody>\n",
       "</table>\n",
       "</div>"
      ],
      "text/plain": [
       "       messages_included  mb_per_month_included  minutes_included  \\\n",
       "count           2.000000               2.000000          2.000000   \n",
       "mean          525.000000           23040.000000       1750.000000   \n",
       "std           671.751442           10861.160159       1767.766953   \n",
       "min            50.000000           15360.000000        500.000000   \n",
       "25%           287.500000           19200.000000       1125.000000   \n",
       "50%           525.000000           23040.000000       1750.000000   \n",
       "75%           762.500000           26880.000000       2375.000000   \n",
       "max          1000.000000           30720.000000       3000.000000   \n",
       "\n",
       "       rub_monthly_fee  rub_per_gb  rub_per_message  rub_per_minute  \n",
       "count         2.000000    2.000000         2.000000        2.000000  \n",
       "mean       1250.000000  175.000000         2.000000        2.000000  \n",
       "std         989.949494   35.355339         1.414214        1.414214  \n",
       "min         550.000000  150.000000         1.000000        1.000000  \n",
       "25%         900.000000  162.500000         1.500000        1.500000  \n",
       "50%        1250.000000  175.000000         2.000000        2.000000  \n",
       "75%        1600.000000  187.500000         2.500000        2.500000  \n",
       "max        1950.000000  200.000000         3.000000        3.000000  "
      ]
     },
     "execution_count": 13,
     "metadata": {},
     "output_type": "execute_result"
    }
   ],
   "source": [
    "tariffs.describe()"
   ]
  },
  {
   "cell_type": "markdown",
   "metadata": {},
   "source": [
    "#### Исправления \n",
    "\n",
    "В колонке с тарифами мы не заметили никаких проблем на данном этапе"
   ]
  },
  {
   "cell_type": "markdown",
   "metadata": {},
   "source": [
    "### Крайняя таблица с пользователями - users"
   ]
  },
  {
   "cell_type": "code",
   "execution_count": 14,
   "metadata": {},
   "outputs": [
    {
     "data": {
      "text/html": [
       "<div>\n",
       "<style scoped>\n",
       "    .dataframe tbody tr th:only-of-type {\n",
       "        vertical-align: middle;\n",
       "    }\n",
       "\n",
       "    .dataframe tbody tr th {\n",
       "        vertical-align: top;\n",
       "    }\n",
       "\n",
       "    .dataframe thead th {\n",
       "        text-align: right;\n",
       "    }\n",
       "</style>\n",
       "<table border=\"1\" class=\"dataframe\">\n",
       "  <thead>\n",
       "    <tr style=\"text-align: right;\">\n",
       "      <th></th>\n",
       "      <th>user_id</th>\n",
       "      <th>age</th>\n",
       "      <th>churn_date</th>\n",
       "      <th>city</th>\n",
       "      <th>first_name</th>\n",
       "      <th>last_name</th>\n",
       "      <th>reg_date</th>\n",
       "      <th>tariff</th>\n",
       "    </tr>\n",
       "  </thead>\n",
       "  <tbody>\n",
       "    <tr>\n",
       "      <th>0</th>\n",
       "      <td>1000</td>\n",
       "      <td>52</td>\n",
       "      <td>NaN</td>\n",
       "      <td>Краснодар</td>\n",
       "      <td>Рафаил</td>\n",
       "      <td>Верещагин</td>\n",
       "      <td>2018-05-25</td>\n",
       "      <td>ultra</td>\n",
       "    </tr>\n",
       "    <tr>\n",
       "      <th>1</th>\n",
       "      <td>1001</td>\n",
       "      <td>41</td>\n",
       "      <td>NaN</td>\n",
       "      <td>Москва</td>\n",
       "      <td>Иван</td>\n",
       "      <td>Ежов</td>\n",
       "      <td>2018-11-01</td>\n",
       "      <td>smart</td>\n",
       "    </tr>\n",
       "    <tr>\n",
       "      <th>2</th>\n",
       "      <td>1002</td>\n",
       "      <td>59</td>\n",
       "      <td>NaN</td>\n",
       "      <td>Стерлитамак</td>\n",
       "      <td>Евгений</td>\n",
       "      <td>Абрамович</td>\n",
       "      <td>2018-06-17</td>\n",
       "      <td>smart</td>\n",
       "    </tr>\n",
       "    <tr>\n",
       "      <th>3</th>\n",
       "      <td>1003</td>\n",
       "      <td>23</td>\n",
       "      <td>NaN</td>\n",
       "      <td>Москва</td>\n",
       "      <td>Белла</td>\n",
       "      <td>Белякова</td>\n",
       "      <td>2018-08-17</td>\n",
       "      <td>ultra</td>\n",
       "    </tr>\n",
       "    <tr>\n",
       "      <th>4</th>\n",
       "      <td>1004</td>\n",
       "      <td>68</td>\n",
       "      <td>NaN</td>\n",
       "      <td>Новокузнецк</td>\n",
       "      <td>Татьяна</td>\n",
       "      <td>Авдеенко</td>\n",
       "      <td>2018-05-14</td>\n",
       "      <td>ultra</td>\n",
       "    </tr>\n",
       "  </tbody>\n",
       "</table>\n",
       "</div>"
      ],
      "text/plain": [
       "   user_id  age churn_date         city first_name  last_name    reg_date  \\\n",
       "0     1000   52        NaN    Краснодар     Рафаил  Верещагин  2018-05-25   \n",
       "1     1001   41        NaN       Москва       Иван       Ежов  2018-11-01   \n",
       "2     1002   59        NaN  Стерлитамак    Евгений  Абрамович  2018-06-17   \n",
       "3     1003   23        NaN       Москва      Белла   Белякова  2018-08-17   \n",
       "4     1004   68        NaN  Новокузнецк    Татьяна   Авдеенко  2018-05-14   \n",
       "\n",
       "  tariff  \n",
       "0  ultra  \n",
       "1  smart  \n",
       "2  smart  \n",
       "3  ultra  \n",
       "4  ultra  "
      ]
     },
     "execution_count": 14,
     "metadata": {},
     "output_type": "execute_result"
    }
   ],
   "source": [
    "users.head()"
   ]
  },
  {
   "cell_type": "markdown",
   "metadata": {},
   "source": [
    "Таблица **users** (информация о пользователях):\n",
    "* `user_id` — уникальный идентификатор пользователя\n",
    "* `first_name` — имя пользователя\n",
    "* `last_name` — фамилия пользователя\n",
    "* `age` — возраст пользователя (годы)\n",
    "* `reg_date` — дата подключения тарифа (день, месяц, год)\n",
    "* `churn_date` — дата прекращения пользования тарифом (если значение пропущено, то тариф ещё действовал на момент выгрузки данных)\n",
    "* `city` — город проживания пользователя\n",
    "* `tariff` — название тарифного плана"
   ]
  },
  {
   "cell_type": "code",
   "execution_count": 15,
   "metadata": {},
   "outputs": [
    {
     "name": "stdout",
     "output_type": "stream",
     "text": [
      "<class 'pandas.core.frame.DataFrame'>\n",
      "RangeIndex: 500 entries, 0 to 499\n",
      "Data columns (total 8 columns):\n",
      " #   Column      Non-Null Count  Dtype \n",
      "---  ------      --------------  ----- \n",
      " 0   user_id     500 non-null    int64 \n",
      " 1   age         500 non-null    int64 \n",
      " 2   churn_date  38 non-null     object\n",
      " 3   city        500 non-null    object\n",
      " 4   first_name  500 non-null    object\n",
      " 5   last_name   500 non-null    object\n",
      " 6   reg_date    500 non-null    object\n",
      " 7   tariff      500 non-null    object\n",
      "dtypes: int64(2), object(6)\n",
      "memory usage: 31.4+ KB\n"
     ]
    }
   ],
   "source": [
    "users.info()"
   ]
  },
  {
   "cell_type": "code",
   "execution_count": 16,
   "metadata": {},
   "outputs": [
    {
     "data": {
      "text/html": [
       "<div>\n",
       "<style scoped>\n",
       "    .dataframe tbody tr th:only-of-type {\n",
       "        vertical-align: middle;\n",
       "    }\n",
       "\n",
       "    .dataframe tbody tr th {\n",
       "        vertical-align: top;\n",
       "    }\n",
       "\n",
       "    .dataframe thead th {\n",
       "        text-align: right;\n",
       "    }\n",
       "</style>\n",
       "<table border=\"1\" class=\"dataframe\">\n",
       "  <thead>\n",
       "    <tr style=\"text-align: right;\">\n",
       "      <th></th>\n",
       "      <th>user_id</th>\n",
       "      <th>age</th>\n",
       "    </tr>\n",
       "  </thead>\n",
       "  <tbody>\n",
       "    <tr>\n",
       "      <th>count</th>\n",
       "      <td>500.000000</td>\n",
       "      <td>500.00000</td>\n",
       "    </tr>\n",
       "    <tr>\n",
       "      <th>mean</th>\n",
       "      <td>1249.500000</td>\n",
       "      <td>46.58800</td>\n",
       "    </tr>\n",
       "    <tr>\n",
       "      <th>std</th>\n",
       "      <td>144.481833</td>\n",
       "      <td>16.66763</td>\n",
       "    </tr>\n",
       "    <tr>\n",
       "      <th>min</th>\n",
       "      <td>1000.000000</td>\n",
       "      <td>18.00000</td>\n",
       "    </tr>\n",
       "    <tr>\n",
       "      <th>25%</th>\n",
       "      <td>1124.750000</td>\n",
       "      <td>32.00000</td>\n",
       "    </tr>\n",
       "    <tr>\n",
       "      <th>50%</th>\n",
       "      <td>1249.500000</td>\n",
       "      <td>46.00000</td>\n",
       "    </tr>\n",
       "    <tr>\n",
       "      <th>75%</th>\n",
       "      <td>1374.250000</td>\n",
       "      <td>62.00000</td>\n",
       "    </tr>\n",
       "    <tr>\n",
       "      <th>max</th>\n",
       "      <td>1499.000000</td>\n",
       "      <td>75.00000</td>\n",
       "    </tr>\n",
       "  </tbody>\n",
       "</table>\n",
       "</div>"
      ],
      "text/plain": [
       "           user_id        age\n",
       "count   500.000000  500.00000\n",
       "mean   1249.500000   46.58800\n",
       "std     144.481833   16.66763\n",
       "min    1000.000000   18.00000\n",
       "25%    1124.750000   32.00000\n",
       "50%    1249.500000   46.00000\n",
       "75%    1374.250000   62.00000\n",
       "max    1499.000000   75.00000"
      ]
     },
     "execution_count": 16,
     "metadata": {},
     "output_type": "execute_result"
    }
   ],
   "source": [
    "users.describe()"
   ]
  },
  {
   "cell_type": "markdown",
   "metadata": {},
   "source": [
    "#### Исправления\n",
    "\n",
    "* Есть пропущенные значения в колонке `churn_date`;\n",
    "* Снова наблюдаем не соответствующий тип данных в колонках `churn_date` и `reg_date`\n",
    "\n",
    "### ВЫВОД \n",
    "\n",
    "* Мы открыли файлы данных и прочитали их; \n",
    "* На данном этапе мы прошлись по всем колонкам наших таблиц и выявили некоторые недочеты, которые последуют к исправлению"
   ]
  },
  {
   "cell_type": "markdown",
   "metadata": {},
   "source": [
    "## Предобработка данных\n",
    "\n",
    "### Calls"
   ]
  },
  {
   "cell_type": "code",
   "execution_count": 17,
   "metadata": {},
   "outputs": [
    {
     "data": {
      "text/html": [
       "<div>\n",
       "<style scoped>\n",
       "    .dataframe tbody tr th:only-of-type {\n",
       "        vertical-align: middle;\n",
       "    }\n",
       "\n",
       "    .dataframe tbody tr th {\n",
       "        vertical-align: top;\n",
       "    }\n",
       "\n",
       "    .dataframe thead th {\n",
       "        text-align: right;\n",
       "    }\n",
       "</style>\n",
       "<table border=\"1\" class=\"dataframe\">\n",
       "  <thead>\n",
       "    <tr style=\"text-align: right;\">\n",
       "      <th></th>\n",
       "      <th>id</th>\n",
       "      <th>call_date</th>\n",
       "      <th>duration</th>\n",
       "      <th>user_id</th>\n",
       "    </tr>\n",
       "  </thead>\n",
       "  <tbody>\n",
       "    <tr>\n",
       "      <th>0</th>\n",
       "      <td>1000_0</td>\n",
       "      <td>2018-07-25</td>\n",
       "      <td>0.00</td>\n",
       "      <td>1000</td>\n",
       "    </tr>\n",
       "    <tr>\n",
       "      <th>1</th>\n",
       "      <td>1000_1</td>\n",
       "      <td>2018-08-17</td>\n",
       "      <td>0.00</td>\n",
       "      <td>1000</td>\n",
       "    </tr>\n",
       "    <tr>\n",
       "      <th>2</th>\n",
       "      <td>1000_2</td>\n",
       "      <td>2018-06-11</td>\n",
       "      <td>2.85</td>\n",
       "      <td>1000</td>\n",
       "    </tr>\n",
       "    <tr>\n",
       "      <th>3</th>\n",
       "      <td>1000_3</td>\n",
       "      <td>2018-09-21</td>\n",
       "      <td>13.80</td>\n",
       "      <td>1000</td>\n",
       "    </tr>\n",
       "    <tr>\n",
       "      <th>4</th>\n",
       "      <td>1000_4</td>\n",
       "      <td>2018-12-15</td>\n",
       "      <td>5.18</td>\n",
       "      <td>1000</td>\n",
       "    </tr>\n",
       "  </tbody>\n",
       "</table>\n",
       "</div>"
      ],
      "text/plain": [
       "       id   call_date  duration  user_id\n",
       "0  1000_0  2018-07-25      0.00     1000\n",
       "1  1000_1  2018-08-17      0.00     1000\n",
       "2  1000_2  2018-06-11      2.85     1000\n",
       "3  1000_3  2018-09-21     13.80     1000\n",
       "4  1000_4  2018-12-15      5.18     1000"
      ]
     },
     "execution_count": 17,
     "metadata": {},
     "output_type": "execute_result"
    }
   ],
   "source": [
    "calls.head()"
   ]
  },
  {
   "cell_type": "markdown",
   "metadata": {},
   "source": [
    "* Исправляем все то, что описали при просмотре таблицы:"
   ]
  },
  {
   "cell_type": "code",
   "execution_count": 18,
   "metadata": {},
   "outputs": [],
   "source": [
    "calls['id'] = calls['id'].astype('int') # изменили тип данных\n",
    "calls['call_date'] = pd.to_datetime(calls['call_date'], format='%Y %m %d') # изменили тип данных на соответсвующий \n",
    "#calls['duration'] = math.ceil(calls['duration'])"
   ]
  },
  {
   "cell_type": "code",
   "execution_count": 19,
   "metadata": {},
   "outputs": [
    {
     "data": {
      "text/html": [
       "<div>\n",
       "<style scoped>\n",
       "    .dataframe tbody tr th:only-of-type {\n",
       "        vertical-align: middle;\n",
       "    }\n",
       "\n",
       "    .dataframe tbody tr th {\n",
       "        vertical-align: top;\n",
       "    }\n",
       "\n",
       "    .dataframe thead th {\n",
       "        text-align: right;\n",
       "    }\n",
       "</style>\n",
       "<table border=\"1\" class=\"dataframe\">\n",
       "  <thead>\n",
       "    <tr style=\"text-align: right;\">\n",
       "      <th></th>\n",
       "      <th>id</th>\n",
       "      <th>call_date</th>\n",
       "      <th>duration</th>\n",
       "      <th>user_id</th>\n",
       "    </tr>\n",
       "  </thead>\n",
       "  <tbody>\n",
       "    <tr>\n",
       "      <th>0</th>\n",
       "      <td>10000</td>\n",
       "      <td>2018-07-25</td>\n",
       "      <td>0</td>\n",
       "      <td>1000</td>\n",
       "    </tr>\n",
       "    <tr>\n",
       "      <th>1</th>\n",
       "      <td>10001</td>\n",
       "      <td>2018-08-17</td>\n",
       "      <td>0</td>\n",
       "      <td>1000</td>\n",
       "    </tr>\n",
       "    <tr>\n",
       "      <th>2</th>\n",
       "      <td>10002</td>\n",
       "      <td>2018-06-11</td>\n",
       "      <td>3</td>\n",
       "      <td>1000</td>\n",
       "    </tr>\n",
       "    <tr>\n",
       "      <th>3</th>\n",
       "      <td>10003</td>\n",
       "      <td>2018-09-21</td>\n",
       "      <td>14</td>\n",
       "      <td>1000</td>\n",
       "    </tr>\n",
       "    <tr>\n",
       "      <th>4</th>\n",
       "      <td>10004</td>\n",
       "      <td>2018-12-15</td>\n",
       "      <td>6</td>\n",
       "      <td>1000</td>\n",
       "    </tr>\n",
       "  </tbody>\n",
       "</table>\n",
       "</div>"
      ],
      "text/plain": [
       "      id  call_date  duration  user_id\n",
       "0  10000 2018-07-25         0     1000\n",
       "1  10001 2018-08-17         0     1000\n",
       "2  10002 2018-06-11         3     1000\n",
       "3  10003 2018-09-21        14     1000\n",
       "4  10004 2018-12-15         6     1000"
      ]
     },
     "execution_count": 19,
     "metadata": {},
     "output_type": "execute_result"
    }
   ],
   "source": [
    "def my_func_ceil(i): # добавляем функцию для округления в сторону большего значения\n",
    "    return math.ceil(i) #  метод math.ceil(float) окргуляет данные в большую сторону\n",
    "\n",
    "calls['duration'] = calls['duration'].apply(my_func_ceil)\n",
    "calls['duration'] = calls['duration'].astype('int') # все так, как опсиано в исправлении\n",
    "calls.head() \n",
    "#calls.info() провели порядок выполнения исправлений "
   ]
  },
  {
   "cell_type": "code",
   "execution_count": 20,
   "metadata": {},
   "outputs": [
    {
     "data": {
      "text/plain": [
       "id           0\n",
       "call_date    0\n",
       "duration     0\n",
       "user_id      0\n",
       "dtype: int64"
      ]
     },
     "execution_count": 20,
     "metadata": {},
     "output_type": "execute_result"
    }
   ],
   "source": [
    "calls.isna().sum()"
   ]
  },
  {
   "cell_type": "code",
   "execution_count": 21,
   "metadata": {},
   "outputs": [
    {
     "data": {
      "text/plain": [
       "0"
      ]
     },
     "execution_count": 21,
     "metadata": {},
     "output_type": "execute_result"
    }
   ],
   "source": [
    "calls.duplicated().sum()"
   ]
  },
  {
   "cell_type": "markdown",
   "metadata": {},
   "source": [
    "### internet"
   ]
  },
  {
   "cell_type": "code",
   "execution_count": 22,
   "metadata": {},
   "outputs": [
    {
     "data": {
      "text/html": [
       "<div>\n",
       "<style scoped>\n",
       "    .dataframe tbody tr th:only-of-type {\n",
       "        vertical-align: middle;\n",
       "    }\n",
       "\n",
       "    .dataframe tbody tr th {\n",
       "        vertical-align: top;\n",
       "    }\n",
       "\n",
       "    .dataframe thead th {\n",
       "        text-align: right;\n",
       "    }\n",
       "</style>\n",
       "<table border=\"1\" class=\"dataframe\">\n",
       "  <thead>\n",
       "    <tr style=\"text-align: right;\">\n",
       "      <th></th>\n",
       "      <th>Unnamed: 0</th>\n",
       "      <th>id</th>\n",
       "      <th>mb_used</th>\n",
       "      <th>session_date</th>\n",
       "      <th>user_id</th>\n",
       "    </tr>\n",
       "  </thead>\n",
       "  <tbody>\n",
       "    <tr>\n",
       "      <th>0</th>\n",
       "      <td>0</td>\n",
       "      <td>1000_0</td>\n",
       "      <td>112.95</td>\n",
       "      <td>2018-11-25</td>\n",
       "      <td>1000</td>\n",
       "    </tr>\n",
       "    <tr>\n",
       "      <th>1</th>\n",
       "      <td>1</td>\n",
       "      <td>1000_1</td>\n",
       "      <td>1052.81</td>\n",
       "      <td>2018-09-07</td>\n",
       "      <td>1000</td>\n",
       "    </tr>\n",
       "    <tr>\n",
       "      <th>2</th>\n",
       "      <td>2</td>\n",
       "      <td>1000_2</td>\n",
       "      <td>1197.26</td>\n",
       "      <td>2018-06-25</td>\n",
       "      <td>1000</td>\n",
       "    </tr>\n",
       "    <tr>\n",
       "      <th>3</th>\n",
       "      <td>3</td>\n",
       "      <td>1000_3</td>\n",
       "      <td>550.27</td>\n",
       "      <td>2018-08-22</td>\n",
       "      <td>1000</td>\n",
       "    </tr>\n",
       "    <tr>\n",
       "      <th>4</th>\n",
       "      <td>4</td>\n",
       "      <td>1000_4</td>\n",
       "      <td>302.56</td>\n",
       "      <td>2018-09-24</td>\n",
       "      <td>1000</td>\n",
       "    </tr>\n",
       "  </tbody>\n",
       "</table>\n",
       "</div>"
      ],
      "text/plain": [
       "   Unnamed: 0      id  mb_used session_date  user_id\n",
       "0           0  1000_0   112.95   2018-11-25     1000\n",
       "1           1  1000_1  1052.81   2018-09-07     1000\n",
       "2           2  1000_2  1197.26   2018-06-25     1000\n",
       "3           3  1000_3   550.27   2018-08-22     1000\n",
       "4           4  1000_4   302.56   2018-09-24     1000"
      ]
     },
     "execution_count": 22,
     "metadata": {},
     "output_type": "execute_result"
    }
   ],
   "source": [
    "internet.head()"
   ]
  },
  {
   "cell_type": "code",
   "execution_count": 23,
   "metadata": {},
   "outputs": [],
   "source": [
    "internet['session_date'] = pd.to_datetime(internet['session_date'], format='%Y %m %d')\n",
    "internet['id'] = internet['id'].astype('int')\n",
    "internet = internet.drop(columns='Unnamed: 0').reset_index(drop=True) # удаляем колонку по нашему предположению и сохраянем порядок"
   ]
  },
  {
   "cell_type": "code",
   "execution_count": 24,
   "metadata": {},
   "outputs": [],
   "source": [
    "internet['mb_used'] = internet['mb_used'].apply(my_func_ceil) # округляем с помощью уже проделанной функции"
   ]
  },
  {
   "cell_type": "code",
   "execution_count": 25,
   "metadata": {},
   "outputs": [
    {
     "data": {
      "text/html": [
       "<div>\n",
       "<style scoped>\n",
       "    .dataframe tbody tr th:only-of-type {\n",
       "        vertical-align: middle;\n",
       "    }\n",
       "\n",
       "    .dataframe tbody tr th {\n",
       "        vertical-align: top;\n",
       "    }\n",
       "\n",
       "    .dataframe thead th {\n",
       "        text-align: right;\n",
       "    }\n",
       "</style>\n",
       "<table border=\"1\" class=\"dataframe\">\n",
       "  <thead>\n",
       "    <tr style=\"text-align: right;\">\n",
       "      <th></th>\n",
       "      <th>id</th>\n",
       "      <th>mb_used</th>\n",
       "      <th>session_date</th>\n",
       "      <th>user_id</th>\n",
       "    </tr>\n",
       "  </thead>\n",
       "  <tbody>\n",
       "    <tr>\n",
       "      <th>0</th>\n",
       "      <td>10000</td>\n",
       "      <td>113</td>\n",
       "      <td>2018-11-25</td>\n",
       "      <td>1000</td>\n",
       "    </tr>\n",
       "    <tr>\n",
       "      <th>1</th>\n",
       "      <td>10001</td>\n",
       "      <td>1053</td>\n",
       "      <td>2018-09-07</td>\n",
       "      <td>1000</td>\n",
       "    </tr>\n",
       "    <tr>\n",
       "      <th>2</th>\n",
       "      <td>10002</td>\n",
       "      <td>1198</td>\n",
       "      <td>2018-06-25</td>\n",
       "      <td>1000</td>\n",
       "    </tr>\n",
       "    <tr>\n",
       "      <th>3</th>\n",
       "      <td>10003</td>\n",
       "      <td>551</td>\n",
       "      <td>2018-08-22</td>\n",
       "      <td>1000</td>\n",
       "    </tr>\n",
       "    <tr>\n",
       "      <th>4</th>\n",
       "      <td>10004</td>\n",
       "      <td>303</td>\n",
       "      <td>2018-09-24</td>\n",
       "      <td>1000</td>\n",
       "    </tr>\n",
       "  </tbody>\n",
       "</table>\n",
       "</div>"
      ],
      "text/plain": [
       "      id  mb_used session_date  user_id\n",
       "0  10000      113   2018-11-25     1000\n",
       "1  10001     1053   2018-09-07     1000\n",
       "2  10002     1198   2018-06-25     1000\n",
       "3  10003      551   2018-08-22     1000\n",
       "4  10004      303   2018-09-24     1000"
      ]
     },
     "execution_count": 25,
     "metadata": {},
     "output_type": "execute_result"
    }
   ],
   "source": [
    "internet.head()\n",
    "#internet.info()"
   ]
  },
  {
   "cell_type": "code",
   "execution_count": 26,
   "metadata": {},
   "outputs": [
    {
     "data": {
      "text/plain": [
       "id              0\n",
       "mb_used         0\n",
       "session_date    0\n",
       "user_id         0\n",
       "dtype: int64"
      ]
     },
     "execution_count": 26,
     "metadata": {},
     "output_type": "execute_result"
    }
   ],
   "source": [
    "internet.isna().sum()"
   ]
  },
  {
   "cell_type": "code",
   "execution_count": 27,
   "metadata": {},
   "outputs": [
    {
     "data": {
      "text/plain": [
       "0"
      ]
     },
     "execution_count": 27,
     "metadata": {},
     "output_type": "execute_result"
    }
   ],
   "source": [
    "internet.duplicated().sum()"
   ]
  },
  {
   "cell_type": "markdown",
   "metadata": {},
   "source": [
    "### messages"
   ]
  },
  {
   "cell_type": "code",
   "execution_count": 28,
   "metadata": {},
   "outputs": [
    {
     "data": {
      "text/html": [
       "<div>\n",
       "<style scoped>\n",
       "    .dataframe tbody tr th:only-of-type {\n",
       "        vertical-align: middle;\n",
       "    }\n",
       "\n",
       "    .dataframe tbody tr th {\n",
       "        vertical-align: top;\n",
       "    }\n",
       "\n",
       "    .dataframe thead th {\n",
       "        text-align: right;\n",
       "    }\n",
       "</style>\n",
       "<table border=\"1\" class=\"dataframe\">\n",
       "  <thead>\n",
       "    <tr style=\"text-align: right;\">\n",
       "      <th></th>\n",
       "      <th>id</th>\n",
       "      <th>message_date</th>\n",
       "      <th>user_id</th>\n",
       "    </tr>\n",
       "  </thead>\n",
       "  <tbody>\n",
       "    <tr>\n",
       "      <th>0</th>\n",
       "      <td>1000_0</td>\n",
       "      <td>2018-06-27</td>\n",
       "      <td>1000</td>\n",
       "    </tr>\n",
       "    <tr>\n",
       "      <th>1</th>\n",
       "      <td>1000_1</td>\n",
       "      <td>2018-10-08</td>\n",
       "      <td>1000</td>\n",
       "    </tr>\n",
       "    <tr>\n",
       "      <th>2</th>\n",
       "      <td>1000_2</td>\n",
       "      <td>2018-08-04</td>\n",
       "      <td>1000</td>\n",
       "    </tr>\n",
       "    <tr>\n",
       "      <th>3</th>\n",
       "      <td>1000_3</td>\n",
       "      <td>2018-06-16</td>\n",
       "      <td>1000</td>\n",
       "    </tr>\n",
       "    <tr>\n",
       "      <th>4</th>\n",
       "      <td>1000_4</td>\n",
       "      <td>2018-12-05</td>\n",
       "      <td>1000</td>\n",
       "    </tr>\n",
       "  </tbody>\n",
       "</table>\n",
       "</div>"
      ],
      "text/plain": [
       "       id message_date  user_id\n",
       "0  1000_0   2018-06-27     1000\n",
       "1  1000_1   2018-10-08     1000\n",
       "2  1000_2   2018-08-04     1000\n",
       "3  1000_3   2018-06-16     1000\n",
       "4  1000_4   2018-12-05     1000"
      ]
     },
     "execution_count": 28,
     "metadata": {},
     "output_type": "execute_result"
    }
   ],
   "source": [
    "messages.head()"
   ]
  },
  {
   "cell_type": "code",
   "execution_count": 29,
   "metadata": {},
   "outputs": [],
   "source": [
    "messages['message_date'] = pd.to_datetime(messages['message_date'], format='%Y %m %d')\n",
    "messages['id'] = messages['id'].astype('int')"
   ]
  },
  {
   "cell_type": "code",
   "execution_count": 30,
   "metadata": {},
   "outputs": [
    {
     "name": "stdout",
     "output_type": "stream",
     "text": [
      "<class 'pandas.core.frame.DataFrame'>\n",
      "RangeIndex: 123036 entries, 0 to 123035\n",
      "Data columns (total 3 columns):\n",
      " #   Column        Non-Null Count   Dtype         \n",
      "---  ------        --------------   -----         \n",
      " 0   id            123036 non-null  int64         \n",
      " 1   message_date  123036 non-null  datetime64[ns]\n",
      " 2   user_id       123036 non-null  int64         \n",
      "dtypes: datetime64[ns](1), int64(2)\n",
      "memory usage: 2.8 MB\n"
     ]
    }
   ],
   "source": [
    "messages.info()"
   ]
  },
  {
   "cell_type": "code",
   "execution_count": 31,
   "metadata": {},
   "outputs": [
    {
     "data": {
      "text/plain": [
       "id              0\n",
       "message_date    0\n",
       "user_id         0\n",
       "dtype: int64"
      ]
     },
     "execution_count": 31,
     "metadata": {},
     "output_type": "execute_result"
    }
   ],
   "source": [
    "messages.isna().sum()"
   ]
  },
  {
   "cell_type": "code",
   "execution_count": 32,
   "metadata": {},
   "outputs": [
    {
     "data": {
      "text/plain": [
       "0"
      ]
     },
     "execution_count": 32,
     "metadata": {},
     "output_type": "execute_result"
    }
   ],
   "source": [
    "messages.duplicated().sum()"
   ]
  },
  {
   "cell_type": "markdown",
   "metadata": {},
   "source": [
    "### users"
   ]
  },
  {
   "cell_type": "code",
   "execution_count": 33,
   "metadata": {},
   "outputs": [
    {
     "data": {
      "text/html": [
       "<div>\n",
       "<style scoped>\n",
       "    .dataframe tbody tr th:only-of-type {\n",
       "        vertical-align: middle;\n",
       "    }\n",
       "\n",
       "    .dataframe tbody tr th {\n",
       "        vertical-align: top;\n",
       "    }\n",
       "\n",
       "    .dataframe thead th {\n",
       "        text-align: right;\n",
       "    }\n",
       "</style>\n",
       "<table border=\"1\" class=\"dataframe\">\n",
       "  <thead>\n",
       "    <tr style=\"text-align: right;\">\n",
       "      <th></th>\n",
       "      <th>user_id</th>\n",
       "      <th>age</th>\n",
       "      <th>churn_date</th>\n",
       "      <th>city</th>\n",
       "      <th>first_name</th>\n",
       "      <th>last_name</th>\n",
       "      <th>reg_date</th>\n",
       "      <th>tariff</th>\n",
       "    </tr>\n",
       "  </thead>\n",
       "  <tbody>\n",
       "    <tr>\n",
       "      <th>0</th>\n",
       "      <td>1000</td>\n",
       "      <td>52</td>\n",
       "      <td>NaN</td>\n",
       "      <td>Краснодар</td>\n",
       "      <td>Рафаил</td>\n",
       "      <td>Верещагин</td>\n",
       "      <td>2018-05-25</td>\n",
       "      <td>ultra</td>\n",
       "    </tr>\n",
       "    <tr>\n",
       "      <th>1</th>\n",
       "      <td>1001</td>\n",
       "      <td>41</td>\n",
       "      <td>NaN</td>\n",
       "      <td>Москва</td>\n",
       "      <td>Иван</td>\n",
       "      <td>Ежов</td>\n",
       "      <td>2018-11-01</td>\n",
       "      <td>smart</td>\n",
       "    </tr>\n",
       "    <tr>\n",
       "      <th>2</th>\n",
       "      <td>1002</td>\n",
       "      <td>59</td>\n",
       "      <td>NaN</td>\n",
       "      <td>Стерлитамак</td>\n",
       "      <td>Евгений</td>\n",
       "      <td>Абрамович</td>\n",
       "      <td>2018-06-17</td>\n",
       "      <td>smart</td>\n",
       "    </tr>\n",
       "    <tr>\n",
       "      <th>3</th>\n",
       "      <td>1003</td>\n",
       "      <td>23</td>\n",
       "      <td>NaN</td>\n",
       "      <td>Москва</td>\n",
       "      <td>Белла</td>\n",
       "      <td>Белякова</td>\n",
       "      <td>2018-08-17</td>\n",
       "      <td>ultra</td>\n",
       "    </tr>\n",
       "    <tr>\n",
       "      <th>4</th>\n",
       "      <td>1004</td>\n",
       "      <td>68</td>\n",
       "      <td>NaN</td>\n",
       "      <td>Новокузнецк</td>\n",
       "      <td>Татьяна</td>\n",
       "      <td>Авдеенко</td>\n",
       "      <td>2018-05-14</td>\n",
       "      <td>ultra</td>\n",
       "    </tr>\n",
       "  </tbody>\n",
       "</table>\n",
       "</div>"
      ],
      "text/plain": [
       "   user_id  age churn_date         city first_name  last_name    reg_date  \\\n",
       "0     1000   52        NaN    Краснодар     Рафаил  Верещагин  2018-05-25   \n",
       "1     1001   41        NaN       Москва       Иван       Ежов  2018-11-01   \n",
       "2     1002   59        NaN  Стерлитамак    Евгений  Абрамович  2018-06-17   \n",
       "3     1003   23        NaN       Москва      Белла   Белякова  2018-08-17   \n",
       "4     1004   68        NaN  Новокузнецк    Татьяна   Авдеенко  2018-05-14   \n",
       "\n",
       "  tariff  \n",
       "0  ultra  \n",
       "1  smart  \n",
       "2  smart  \n",
       "3  ultra  \n",
       "4  ultra  "
      ]
     },
     "execution_count": 33,
     "metadata": {},
     "output_type": "execute_result"
    }
   ],
   "source": [
    "users.head()"
   ]
  },
  {
   "cell_type": "code",
   "execution_count": 34,
   "metadata": {},
   "outputs": [],
   "source": [
    "users['churn_date'] = pd.to_datetime(users['churn_date'], format='%Y %m %d')\n",
    "users['reg_date'] = pd.to_datetime(users['reg_date'], format='%Y %m %d')"
   ]
  },
  {
   "cell_type": "markdown",
   "metadata": {},
   "source": [
    "В таблице **tariffs** колонка с тарифами названа **tariff_name**. Для удобства переименуем здесь на такое же название:"
   ]
  },
  {
   "cell_type": "code",
   "execution_count": 35,
   "metadata": {},
   "outputs": [
    {
     "data": {
      "text/html": [
       "<div>\n",
       "<style scoped>\n",
       "    .dataframe tbody tr th:only-of-type {\n",
       "        vertical-align: middle;\n",
       "    }\n",
       "\n",
       "    .dataframe tbody tr th {\n",
       "        vertical-align: top;\n",
       "    }\n",
       "\n",
       "    .dataframe thead th {\n",
       "        text-align: right;\n",
       "    }\n",
       "</style>\n",
       "<table border=\"1\" class=\"dataframe\">\n",
       "  <thead>\n",
       "    <tr style=\"text-align: right;\">\n",
       "      <th></th>\n",
       "      <th>user_id</th>\n",
       "      <th>age</th>\n",
       "      <th>churn_date</th>\n",
       "      <th>city</th>\n",
       "      <th>first_name</th>\n",
       "      <th>last_name</th>\n",
       "      <th>reg_date</th>\n",
       "      <th>tariff_name</th>\n",
       "    </tr>\n",
       "  </thead>\n",
       "  <tbody>\n",
       "    <tr>\n",
       "      <th>0</th>\n",
       "      <td>1000</td>\n",
       "      <td>52</td>\n",
       "      <td>NaT</td>\n",
       "      <td>Краснодар</td>\n",
       "      <td>Рафаил</td>\n",
       "      <td>Верещагин</td>\n",
       "      <td>2018-05-25</td>\n",
       "      <td>ultra</td>\n",
       "    </tr>\n",
       "    <tr>\n",
       "      <th>1</th>\n",
       "      <td>1001</td>\n",
       "      <td>41</td>\n",
       "      <td>NaT</td>\n",
       "      <td>Москва</td>\n",
       "      <td>Иван</td>\n",
       "      <td>Ежов</td>\n",
       "      <td>2018-11-01</td>\n",
       "      <td>smart</td>\n",
       "    </tr>\n",
       "    <tr>\n",
       "      <th>2</th>\n",
       "      <td>1002</td>\n",
       "      <td>59</td>\n",
       "      <td>NaT</td>\n",
       "      <td>Стерлитамак</td>\n",
       "      <td>Евгений</td>\n",
       "      <td>Абрамович</td>\n",
       "      <td>2018-06-17</td>\n",
       "      <td>smart</td>\n",
       "    </tr>\n",
       "    <tr>\n",
       "      <th>3</th>\n",
       "      <td>1003</td>\n",
       "      <td>23</td>\n",
       "      <td>NaT</td>\n",
       "      <td>Москва</td>\n",
       "      <td>Белла</td>\n",
       "      <td>Белякова</td>\n",
       "      <td>2018-08-17</td>\n",
       "      <td>ultra</td>\n",
       "    </tr>\n",
       "    <tr>\n",
       "      <th>4</th>\n",
       "      <td>1004</td>\n",
       "      <td>68</td>\n",
       "      <td>NaT</td>\n",
       "      <td>Новокузнецк</td>\n",
       "      <td>Татьяна</td>\n",
       "      <td>Авдеенко</td>\n",
       "      <td>2018-05-14</td>\n",
       "      <td>ultra</td>\n",
       "    </tr>\n",
       "  </tbody>\n",
       "</table>\n",
       "</div>"
      ],
      "text/plain": [
       "   user_id  age churn_date         city first_name  last_name   reg_date  \\\n",
       "0     1000   52        NaT    Краснодар     Рафаил  Верещагин 2018-05-25   \n",
       "1     1001   41        NaT       Москва       Иван       Ежов 2018-11-01   \n",
       "2     1002   59        NaT  Стерлитамак    Евгений  Абрамович 2018-06-17   \n",
       "3     1003   23        NaT       Москва      Белла   Белякова 2018-08-17   \n",
       "4     1004   68        NaT  Новокузнецк    Татьяна   Авдеенко 2018-05-14   \n",
       "\n",
       "  tariff_name  \n",
       "0       ultra  \n",
       "1       smart  \n",
       "2       smart  \n",
       "3       ultra  \n",
       "4       ultra  "
      ]
     },
     "execution_count": 35,
     "metadata": {},
     "output_type": "execute_result"
    }
   ],
   "source": [
    "users = users.rename(columns={'tariff': 'tariff_name'})\n",
    "users.head()"
   ]
  },
  {
   "cell_type": "code",
   "execution_count": 36,
   "metadata": {},
   "outputs": [
    {
     "data": {
      "text/plain": [
       "user_id          0\n",
       "age              0\n",
       "churn_date     462\n",
       "city             0\n",
       "first_name       0\n",
       "last_name        0\n",
       "reg_date         0\n",
       "tariff_name      0\n",
       "dtype: int64"
      ]
     },
     "execution_count": 36,
     "metadata": {},
     "output_type": "execute_result"
    }
   ],
   "source": [
    "users.isna().sum()"
   ]
  },
  {
   "cell_type": "code",
   "execution_count": 37,
   "metadata": {},
   "outputs": [
    {
     "name": "stdout",
     "output_type": "stream",
     "text": [
      "Доля действующих тарифов на момент выгрузки данных составляет: 92%\n"
     ]
    }
   ],
   "source": [
    "mean_churn = users['churn_date'].isna().mean()\n",
    "print(f'Доля действующих тарифов на момент выгрузки данных составляет: {mean_churn:.0%}')"
   ]
  },
  {
   "cell_type": "markdown",
   "metadata": {},
   "source": [
    "* Как было указано ранее, если значение пропущено в столбце `churn_date` **NaN**, то тариф ещё действовал на момент выгрузки данных"
   ]
  },
  {
   "cell_type": "code",
   "execution_count": 38,
   "metadata": {},
   "outputs": [
    {
     "name": "stdout",
     "output_type": "stream",
     "text": [
      "<class 'pandas.core.frame.DataFrame'>\n",
      "RangeIndex: 500 entries, 0 to 499\n",
      "Data columns (total 8 columns):\n",
      " #   Column       Non-Null Count  Dtype         \n",
      "---  ------       --------------  -----         \n",
      " 0   user_id      500 non-null    int64         \n",
      " 1   age          500 non-null    int64         \n",
      " 2   churn_date   38 non-null     datetime64[ns]\n",
      " 3   city         500 non-null    object        \n",
      " 4   first_name   500 non-null    object        \n",
      " 5   last_name    500 non-null    object        \n",
      " 6   reg_date     500 non-null    datetime64[ns]\n",
      " 7   tariff_name  500 non-null    object        \n",
      "dtypes: datetime64[ns](2), int64(2), object(4)\n",
      "memory usage: 31.4+ KB\n"
     ]
    }
   ],
   "source": [
    "users.info()"
   ]
  },
  {
   "cell_type": "code",
   "execution_count": 39,
   "metadata": {},
   "outputs": [
    {
     "data": {
      "text/plain": [
       "0"
      ]
     },
     "execution_count": 39,
     "metadata": {},
     "output_type": "execute_result"
    }
   ],
   "source": [
    "users.duplicated().sum()"
   ]
  },
  {
   "cell_type": "markdown",
   "metadata": {},
   "source": [
    "### Для каждого пользователя считаем:\n",
    "\n",
    "* Количество сделанных звонков и израсходованных минут разговора по месяцам;\n",
    "* Количество отправленных сообщений по месяцам;\n",
    "* Объем израсходованного интернет-трафика по месяцам;\n",
    "* Помесячную выручку с каждого пользователя (нужно вычесть бесплатный лимит из суммарного количества звонков, сообщений и интернет-трафика;  остаток умножить на значение из тарифного плана; прибавить абонентскую плату, соответствующую тарифному плану)\n",
    "\n",
    "\n",
    "#### Кол-во сделланых звонков и израсходованных минут разговора по месяцам\n",
    "\n",
    "* Для начала создаем новую колонку с месяцами **month** в таблице звонков **calls**. С пмощью метода `dt.month` создаем из нужной колонки новую с месяцем;"
   ]
  },
  {
   "cell_type": "code",
   "execution_count": 40,
   "metadata": {},
   "outputs": [
    {
     "data": {
      "text/html": [
       "<div>\n",
       "<style scoped>\n",
       "    .dataframe tbody tr th:only-of-type {\n",
       "        vertical-align: middle;\n",
       "    }\n",
       "\n",
       "    .dataframe tbody tr th {\n",
       "        vertical-align: top;\n",
       "    }\n",
       "\n",
       "    .dataframe thead th {\n",
       "        text-align: right;\n",
       "    }\n",
       "</style>\n",
       "<table border=\"1\" class=\"dataframe\">\n",
       "  <thead>\n",
       "    <tr style=\"text-align: right;\">\n",
       "      <th></th>\n",
       "      <th>id</th>\n",
       "      <th>call_date</th>\n",
       "      <th>duration</th>\n",
       "      <th>user_id</th>\n",
       "    </tr>\n",
       "  </thead>\n",
       "  <tbody>\n",
       "    <tr>\n",
       "      <th>0</th>\n",
       "      <td>10000</td>\n",
       "      <td>2018-07-25</td>\n",
       "      <td>0</td>\n",
       "      <td>1000</td>\n",
       "    </tr>\n",
       "    <tr>\n",
       "      <th>1</th>\n",
       "      <td>10001</td>\n",
       "      <td>2018-08-17</td>\n",
       "      <td>0</td>\n",
       "      <td>1000</td>\n",
       "    </tr>\n",
       "    <tr>\n",
       "      <th>2</th>\n",
       "      <td>10002</td>\n",
       "      <td>2018-06-11</td>\n",
       "      <td>3</td>\n",
       "      <td>1000</td>\n",
       "    </tr>\n",
       "    <tr>\n",
       "      <th>3</th>\n",
       "      <td>10003</td>\n",
       "      <td>2018-09-21</td>\n",
       "      <td>14</td>\n",
       "      <td>1000</td>\n",
       "    </tr>\n",
       "    <tr>\n",
       "      <th>4</th>\n",
       "      <td>10004</td>\n",
       "      <td>2018-12-15</td>\n",
       "      <td>6</td>\n",
       "      <td>1000</td>\n",
       "    </tr>\n",
       "  </tbody>\n",
       "</table>\n",
       "</div>"
      ],
      "text/plain": [
       "      id  call_date  duration  user_id\n",
       "0  10000 2018-07-25         0     1000\n",
       "1  10001 2018-08-17         0     1000\n",
       "2  10002 2018-06-11         3     1000\n",
       "3  10003 2018-09-21        14     1000\n",
       "4  10004 2018-12-15         6     1000"
      ]
     },
     "execution_count": 40,
     "metadata": {},
     "output_type": "execute_result"
    }
   ],
   "source": [
    "calls.head()"
   ]
  },
  {
   "cell_type": "code",
   "execution_count": 41,
   "metadata": {},
   "outputs": [
    {
     "data": {
      "text/html": [
       "<div>\n",
       "<style scoped>\n",
       "    .dataframe tbody tr th:only-of-type {\n",
       "        vertical-align: middle;\n",
       "    }\n",
       "\n",
       "    .dataframe tbody tr th {\n",
       "        vertical-align: top;\n",
       "    }\n",
       "\n",
       "    .dataframe thead th {\n",
       "        text-align: right;\n",
       "    }\n",
       "</style>\n",
       "<table border=\"1\" class=\"dataframe\">\n",
       "  <thead>\n",
       "    <tr style=\"text-align: right;\">\n",
       "      <th></th>\n",
       "      <th>id</th>\n",
       "      <th>call_date</th>\n",
       "      <th>duration</th>\n",
       "      <th>user_id</th>\n",
       "      <th>month</th>\n",
       "    </tr>\n",
       "  </thead>\n",
       "  <tbody>\n",
       "    <tr>\n",
       "      <th>0</th>\n",
       "      <td>10000</td>\n",
       "      <td>2018-07-25</td>\n",
       "      <td>0</td>\n",
       "      <td>1000</td>\n",
       "      <td>7</td>\n",
       "    </tr>\n",
       "    <tr>\n",
       "      <th>1</th>\n",
       "      <td>10001</td>\n",
       "      <td>2018-08-17</td>\n",
       "      <td>0</td>\n",
       "      <td>1000</td>\n",
       "      <td>8</td>\n",
       "    </tr>\n",
       "    <tr>\n",
       "      <th>2</th>\n",
       "      <td>10002</td>\n",
       "      <td>2018-06-11</td>\n",
       "      <td>3</td>\n",
       "      <td>1000</td>\n",
       "      <td>6</td>\n",
       "    </tr>\n",
       "    <tr>\n",
       "      <th>3</th>\n",
       "      <td>10003</td>\n",
       "      <td>2018-09-21</td>\n",
       "      <td>14</td>\n",
       "      <td>1000</td>\n",
       "      <td>9</td>\n",
       "    </tr>\n",
       "    <tr>\n",
       "      <th>4</th>\n",
       "      <td>10004</td>\n",
       "      <td>2018-12-15</td>\n",
       "      <td>6</td>\n",
       "      <td>1000</td>\n",
       "      <td>12</td>\n",
       "    </tr>\n",
       "  </tbody>\n",
       "</table>\n",
       "</div>"
      ],
      "text/plain": [
       "      id  call_date  duration  user_id  month\n",
       "0  10000 2018-07-25         0     1000      7\n",
       "1  10001 2018-08-17         0     1000      8\n",
       "2  10002 2018-06-11         3     1000      6\n",
       "3  10003 2018-09-21        14     1000      9\n",
       "4  10004 2018-12-15         6     1000     12"
      ]
     },
     "execution_count": 41,
     "metadata": {},
     "output_type": "execute_result"
    }
   ],
   "source": [
    "calls['month'] = calls['call_date'].dt.month\n",
    "calls.head()"
   ]
  },
  {
   "cell_type": "markdown",
   "metadata": {},
   "source": [
    "* Теперь методом `pivot_table()` объединяем строки колонок **'user_id', 'month'** и выводим значение по длительности `'duration'` с добавлением функции подсчета кол-ва `count` и суммы `sum`: "
   ]
  },
  {
   "cell_type": "code",
   "execution_count": 42,
   "metadata": {},
   "outputs": [
    {
     "data": {
      "text/html": [
       "<div>\n",
       "<style scoped>\n",
       "    .dataframe tbody tr th:only-of-type {\n",
       "        vertical-align: middle;\n",
       "    }\n",
       "\n",
       "    .dataframe tbody tr th {\n",
       "        vertical-align: top;\n",
       "    }\n",
       "\n",
       "    .dataframe thead th {\n",
       "        text-align: right;\n",
       "    }\n",
       "</style>\n",
       "<table border=\"1\" class=\"dataframe\">\n",
       "  <thead>\n",
       "    <tr style=\"text-align: right;\">\n",
       "      <th></th>\n",
       "      <th>user_id</th>\n",
       "      <th>month</th>\n",
       "      <th>кол-во звонков</th>\n",
       "      <th>длительность звонков(мин)</th>\n",
       "    </tr>\n",
       "  </thead>\n",
       "  <tbody>\n",
       "    <tr>\n",
       "      <th>0</th>\n",
       "      <td>1000</td>\n",
       "      <td>5</td>\n",
       "      <td>22</td>\n",
       "      <td>159</td>\n",
       "    </tr>\n",
       "    <tr>\n",
       "      <th>1</th>\n",
       "      <td>1000</td>\n",
       "      <td>6</td>\n",
       "      <td>43</td>\n",
       "      <td>172</td>\n",
       "    </tr>\n",
       "    <tr>\n",
       "      <th>2</th>\n",
       "      <td>1000</td>\n",
       "      <td>7</td>\n",
       "      <td>47</td>\n",
       "      <td>340</td>\n",
       "    </tr>\n",
       "    <tr>\n",
       "      <th>3</th>\n",
       "      <td>1000</td>\n",
       "      <td>8</td>\n",
       "      <td>52</td>\n",
       "      <td>408</td>\n",
       "    </tr>\n",
       "    <tr>\n",
       "      <th>4</th>\n",
       "      <td>1000</td>\n",
       "      <td>9</td>\n",
       "      <td>58</td>\n",
       "      <td>466</td>\n",
       "    </tr>\n",
       "    <tr>\n",
       "      <th>5</th>\n",
       "      <td>1000</td>\n",
       "      <td>10</td>\n",
       "      <td>57</td>\n",
       "      <td>350</td>\n",
       "    </tr>\n",
       "    <tr>\n",
       "      <th>6</th>\n",
       "      <td>1000</td>\n",
       "      <td>11</td>\n",
       "      <td>43</td>\n",
       "      <td>338</td>\n",
       "    </tr>\n",
       "    <tr>\n",
       "      <th>7</th>\n",
       "      <td>1000</td>\n",
       "      <td>12</td>\n",
       "      <td>46</td>\n",
       "      <td>333</td>\n",
       "    </tr>\n",
       "    <tr>\n",
       "      <th>8</th>\n",
       "      <td>1001</td>\n",
       "      <td>11</td>\n",
       "      <td>59</td>\n",
       "      <td>430</td>\n",
       "    </tr>\n",
       "    <tr>\n",
       "      <th>9</th>\n",
       "      <td>1001</td>\n",
       "      <td>12</td>\n",
       "      <td>63</td>\n",
       "      <td>414</td>\n",
       "    </tr>\n",
       "    <tr>\n",
       "      <th>10</th>\n",
       "      <td>1002</td>\n",
       "      <td>6</td>\n",
       "      <td>15</td>\n",
       "      <td>117</td>\n",
       "    </tr>\n",
       "    <tr>\n",
       "      <th>11</th>\n",
       "      <td>1002</td>\n",
       "      <td>7</td>\n",
       "      <td>26</td>\n",
       "      <td>214</td>\n",
       "    </tr>\n",
       "    <tr>\n",
       "      <th>12</th>\n",
       "      <td>1002</td>\n",
       "      <td>8</td>\n",
       "      <td>42</td>\n",
       "      <td>289</td>\n",
       "    </tr>\n",
       "    <tr>\n",
       "      <th>13</th>\n",
       "      <td>1002</td>\n",
       "      <td>9</td>\n",
       "      <td>36</td>\n",
       "      <td>206</td>\n",
       "    </tr>\n",
       "    <tr>\n",
       "      <th>14</th>\n",
       "      <td>1002</td>\n",
       "      <td>10</td>\n",
       "      <td>33</td>\n",
       "      <td>212</td>\n",
       "    </tr>\n",
       "  </tbody>\n",
       "</table>\n",
       "</div>"
      ],
      "text/plain": [
       "    user_id  month  кол-во звонков  длительность звонков(мин)\n",
       "0      1000      5              22                        159\n",
       "1      1000      6              43                        172\n",
       "2      1000      7              47                        340\n",
       "3      1000      8              52                        408\n",
       "4      1000      9              58                        466\n",
       "5      1000     10              57                        350\n",
       "6      1000     11              43                        338\n",
       "7      1000     12              46                        333\n",
       "8      1001     11              59                        430\n",
       "9      1001     12              63                        414\n",
       "10     1002      6              15                        117\n",
       "11     1002      7              26                        214\n",
       "12     1002      8              42                        289\n",
       "13     1002      9              36                        206\n",
       "14     1002     10              33                        212"
      ]
     },
     "execution_count": 42,
     "metadata": {},
     "output_type": "execute_result"
    }
   ],
   "source": [
    "calls_month = calls.pivot_table(index=['user_id', 'month'], values='duration', aggfunc=['count', 'sum'])\n",
    "#calls_month = calls_month.rename(columns={'duration': 'кол-во звонков', 'duration': 'длительность звонков'})\n",
    "calls_month.columns = ['кол-во звонков', 'длительность звонков(мин)']\n",
    "calls_month.reset_index(inplace=True) # сохраняем колонку 'month' в новом датафрейме\n",
    "calls_month.head(15)"
   ]
  },
  {
   "cell_type": "code",
   "execution_count": 43,
   "metadata": {},
   "outputs": [],
   "source": [
    "calls_month.loc[275, 'кол-во звонков'] = np.NaN"
   ]
  },
  {
   "cell_type": "code",
   "execution_count": 44,
   "metadata": {},
   "outputs": [
    {
     "data": {
      "text/plain": [
       "user_id                      43\n",
       "month                        43\n",
       "кол-во звонков               42\n",
       "длительность звонков(мин)    43\n",
       "dtype: int64"
      ]
     },
     "execution_count": 44,
     "metadata": {},
     "output_type": "execute_result"
    }
   ],
   "source": [
    "calls_month.query('month == 1').count()"
   ]
  },
  {
   "cell_type": "markdown",
   "metadata": {},
   "source": [
    "#### Количество отправленных сообщений по месяцам\n",
    "\n",
    "* Алгоритм действия схож со звонками таблицы **calls**. Сначала мы создаем новый столбец с месяцами **'month'**, затем создаем сводную таблицу по уникальному номеру сообщения **'id'**, проходясь по строчкам идентификатора пользователя и месяца **'user_id', 'month'**"
   ]
  },
  {
   "cell_type": "code",
   "execution_count": 45,
   "metadata": {},
   "outputs": [
    {
     "data": {
      "text/html": [
       "<div>\n",
       "<style scoped>\n",
       "    .dataframe tbody tr th:only-of-type {\n",
       "        vertical-align: middle;\n",
       "    }\n",
       "\n",
       "    .dataframe tbody tr th {\n",
       "        vertical-align: top;\n",
       "    }\n",
       "\n",
       "    .dataframe thead th {\n",
       "        text-align: right;\n",
       "    }\n",
       "</style>\n",
       "<table border=\"1\" class=\"dataframe\">\n",
       "  <thead>\n",
       "    <tr style=\"text-align: right;\">\n",
       "      <th></th>\n",
       "      <th>id</th>\n",
       "      <th>message_date</th>\n",
       "      <th>user_id</th>\n",
       "    </tr>\n",
       "  </thead>\n",
       "  <tbody>\n",
       "    <tr>\n",
       "      <th>0</th>\n",
       "      <td>10000</td>\n",
       "      <td>2018-06-27</td>\n",
       "      <td>1000</td>\n",
       "    </tr>\n",
       "    <tr>\n",
       "      <th>1</th>\n",
       "      <td>10001</td>\n",
       "      <td>2018-10-08</td>\n",
       "      <td>1000</td>\n",
       "    </tr>\n",
       "    <tr>\n",
       "      <th>2</th>\n",
       "      <td>10002</td>\n",
       "      <td>2018-08-04</td>\n",
       "      <td>1000</td>\n",
       "    </tr>\n",
       "    <tr>\n",
       "      <th>3</th>\n",
       "      <td>10003</td>\n",
       "      <td>2018-06-16</td>\n",
       "      <td>1000</td>\n",
       "    </tr>\n",
       "    <tr>\n",
       "      <th>4</th>\n",
       "      <td>10004</td>\n",
       "      <td>2018-12-05</td>\n",
       "      <td>1000</td>\n",
       "    </tr>\n",
       "  </tbody>\n",
       "</table>\n",
       "</div>"
      ],
      "text/plain": [
       "      id message_date  user_id\n",
       "0  10000   2018-06-27     1000\n",
       "1  10001   2018-10-08     1000\n",
       "2  10002   2018-08-04     1000\n",
       "3  10003   2018-06-16     1000\n",
       "4  10004   2018-12-05     1000"
      ]
     },
     "execution_count": 45,
     "metadata": {},
     "output_type": "execute_result"
    }
   ],
   "source": [
    "messages.head()"
   ]
  },
  {
   "cell_type": "code",
   "execution_count": 46,
   "metadata": {},
   "outputs": [
    {
     "data": {
      "text/html": [
       "<div>\n",
       "<style scoped>\n",
       "    .dataframe tbody tr th:only-of-type {\n",
       "        vertical-align: middle;\n",
       "    }\n",
       "\n",
       "    .dataframe tbody tr th {\n",
       "        vertical-align: top;\n",
       "    }\n",
       "\n",
       "    .dataframe thead th {\n",
       "        text-align: right;\n",
       "    }\n",
       "</style>\n",
       "<table border=\"1\" class=\"dataframe\">\n",
       "  <thead>\n",
       "    <tr style=\"text-align: right;\">\n",
       "      <th></th>\n",
       "      <th>user_id</th>\n",
       "      <th>month</th>\n",
       "      <th>кол-во смс за месяц</th>\n",
       "    </tr>\n",
       "  </thead>\n",
       "  <tbody>\n",
       "    <tr>\n",
       "      <th>0</th>\n",
       "      <td>1000</td>\n",
       "      <td>5</td>\n",
       "      <td>22</td>\n",
       "    </tr>\n",
       "    <tr>\n",
       "      <th>1</th>\n",
       "      <td>1000</td>\n",
       "      <td>6</td>\n",
       "      <td>60</td>\n",
       "    </tr>\n",
       "    <tr>\n",
       "      <th>2</th>\n",
       "      <td>1000</td>\n",
       "      <td>7</td>\n",
       "      <td>75</td>\n",
       "    </tr>\n",
       "    <tr>\n",
       "      <th>3</th>\n",
       "      <td>1000</td>\n",
       "      <td>8</td>\n",
       "      <td>81</td>\n",
       "    </tr>\n",
       "    <tr>\n",
       "      <th>4</th>\n",
       "      <td>1000</td>\n",
       "      <td>9</td>\n",
       "      <td>57</td>\n",
       "    </tr>\n",
       "    <tr>\n",
       "      <th>5</th>\n",
       "      <td>1000</td>\n",
       "      <td>10</td>\n",
       "      <td>73</td>\n",
       "    </tr>\n",
       "    <tr>\n",
       "      <th>6</th>\n",
       "      <td>1000</td>\n",
       "      <td>11</td>\n",
       "      <td>58</td>\n",
       "    </tr>\n",
       "    <tr>\n",
       "      <th>7</th>\n",
       "      <td>1000</td>\n",
       "      <td>12</td>\n",
       "      <td>70</td>\n",
       "    </tr>\n",
       "    <tr>\n",
       "      <th>8</th>\n",
       "      <td>1002</td>\n",
       "      <td>6</td>\n",
       "      <td>4</td>\n",
       "    </tr>\n",
       "    <tr>\n",
       "      <th>9</th>\n",
       "      <td>1002</td>\n",
       "      <td>7</td>\n",
       "      <td>11</td>\n",
       "    </tr>\n",
       "    <tr>\n",
       "      <th>10</th>\n",
       "      <td>1002</td>\n",
       "      <td>8</td>\n",
       "      <td>13</td>\n",
       "    </tr>\n",
       "    <tr>\n",
       "      <th>11</th>\n",
       "      <td>1002</td>\n",
       "      <td>9</td>\n",
       "      <td>4</td>\n",
       "    </tr>\n",
       "    <tr>\n",
       "      <th>12</th>\n",
       "      <td>1002</td>\n",
       "      <td>10</td>\n",
       "      <td>10</td>\n",
       "    </tr>\n",
       "    <tr>\n",
       "      <th>13</th>\n",
       "      <td>1002</td>\n",
       "      <td>11</td>\n",
       "      <td>16</td>\n",
       "    </tr>\n",
       "    <tr>\n",
       "      <th>14</th>\n",
       "      <td>1002</td>\n",
       "      <td>12</td>\n",
       "      <td>12</td>\n",
       "    </tr>\n",
       "  </tbody>\n",
       "</table>\n",
       "</div>"
      ],
      "text/plain": [
       "    user_id  month  кол-во смс за месяц\n",
       "0      1000      5                   22\n",
       "1      1000      6                   60\n",
       "2      1000      7                   75\n",
       "3      1000      8                   81\n",
       "4      1000      9                   57\n",
       "5      1000     10                   73\n",
       "6      1000     11                   58\n",
       "7      1000     12                   70\n",
       "8      1002      6                    4\n",
       "9      1002      7                   11\n",
       "10     1002      8                   13\n",
       "11     1002      9                    4\n",
       "12     1002     10                   10\n",
       "13     1002     11                   16\n",
       "14     1002     12                   12"
      ]
     },
     "execution_count": 46,
     "metadata": {},
     "output_type": "execute_result"
    }
   ],
   "source": [
    "messages['month'] = messages['message_date'].dt.month\n",
    "messages_month = messages.pivot_table(index=['user_id', 'month'], values='id', aggfunc='count')\n",
    "#messages_month.head()\n",
    "messages_month.columns = ['кол-во смс за месяц']\n",
    "messages_month.reset_index(inplace=True)\n",
    "messages_month.head(15)"
   ]
  },
  {
   "cell_type": "markdown",
   "metadata": {},
   "source": [
    "#### Объем израсходованного интернет-трафика по месяцам\n",
    "\n",
    "* Выполняем все то же самое, исходя из данных об интернете **internet**"
   ]
  },
  {
   "cell_type": "code",
   "execution_count": 47,
   "metadata": {},
   "outputs": [
    {
     "data": {
      "text/html": [
       "<div>\n",
       "<style scoped>\n",
       "    .dataframe tbody tr th:only-of-type {\n",
       "        vertical-align: middle;\n",
       "    }\n",
       "\n",
       "    .dataframe tbody tr th {\n",
       "        vertical-align: top;\n",
       "    }\n",
       "\n",
       "    .dataframe thead th {\n",
       "        text-align: right;\n",
       "    }\n",
       "</style>\n",
       "<table border=\"1\" class=\"dataframe\">\n",
       "  <thead>\n",
       "    <tr style=\"text-align: right;\">\n",
       "      <th></th>\n",
       "      <th>id</th>\n",
       "      <th>mb_used</th>\n",
       "      <th>session_date</th>\n",
       "      <th>user_id</th>\n",
       "    </tr>\n",
       "  </thead>\n",
       "  <tbody>\n",
       "    <tr>\n",
       "      <th>0</th>\n",
       "      <td>10000</td>\n",
       "      <td>113</td>\n",
       "      <td>2018-11-25</td>\n",
       "      <td>1000</td>\n",
       "    </tr>\n",
       "    <tr>\n",
       "      <th>1</th>\n",
       "      <td>10001</td>\n",
       "      <td>1053</td>\n",
       "      <td>2018-09-07</td>\n",
       "      <td>1000</td>\n",
       "    </tr>\n",
       "    <tr>\n",
       "      <th>2</th>\n",
       "      <td>10002</td>\n",
       "      <td>1198</td>\n",
       "      <td>2018-06-25</td>\n",
       "      <td>1000</td>\n",
       "    </tr>\n",
       "    <tr>\n",
       "      <th>3</th>\n",
       "      <td>10003</td>\n",
       "      <td>551</td>\n",
       "      <td>2018-08-22</td>\n",
       "      <td>1000</td>\n",
       "    </tr>\n",
       "    <tr>\n",
       "      <th>4</th>\n",
       "      <td>10004</td>\n",
       "      <td>303</td>\n",
       "      <td>2018-09-24</td>\n",
       "      <td>1000</td>\n",
       "    </tr>\n",
       "  </tbody>\n",
       "</table>\n",
       "</div>"
      ],
      "text/plain": [
       "      id  mb_used session_date  user_id\n",
       "0  10000      113   2018-11-25     1000\n",
       "1  10001     1053   2018-09-07     1000\n",
       "2  10002     1198   2018-06-25     1000\n",
       "3  10003      551   2018-08-22     1000\n",
       "4  10004      303   2018-09-24     1000"
      ]
     },
     "execution_count": 47,
     "metadata": {},
     "output_type": "execute_result"
    }
   ],
   "source": [
    "internet.head()"
   ]
  },
  {
   "cell_type": "code",
   "execution_count": 48,
   "metadata": {},
   "outputs": [
    {
     "data": {
      "text/html": [
       "<div>\n",
       "<style scoped>\n",
       "    .dataframe tbody tr th:only-of-type {\n",
       "        vertical-align: middle;\n",
       "    }\n",
       "\n",
       "    .dataframe tbody tr th {\n",
       "        vertical-align: top;\n",
       "    }\n",
       "\n",
       "    .dataframe thead th {\n",
       "        text-align: right;\n",
       "    }\n",
       "</style>\n",
       "<table border=\"1\" class=\"dataframe\">\n",
       "  <thead>\n",
       "    <tr style=\"text-align: right;\">\n",
       "      <th></th>\n",
       "      <th>user_id</th>\n",
       "      <th>month</th>\n",
       "      <th>израсходованный интернет(мб)</th>\n",
       "    </tr>\n",
       "  </thead>\n",
       "  <tbody>\n",
       "    <tr>\n",
       "      <th>0</th>\n",
       "      <td>1000</td>\n",
       "      <td>5</td>\n",
       "      <td>2256</td>\n",
       "    </tr>\n",
       "    <tr>\n",
       "      <th>1</th>\n",
       "      <td>1000</td>\n",
       "      <td>6</td>\n",
       "      <td>23257</td>\n",
       "    </tr>\n",
       "    <tr>\n",
       "      <th>2</th>\n",
       "      <td>1000</td>\n",
       "      <td>7</td>\n",
       "      <td>14016</td>\n",
       "    </tr>\n",
       "    <tr>\n",
       "      <th>3</th>\n",
       "      <td>1000</td>\n",
       "      <td>8</td>\n",
       "      <td>14070</td>\n",
       "    </tr>\n",
       "    <tr>\n",
       "      <th>4</th>\n",
       "      <td>1000</td>\n",
       "      <td>9</td>\n",
       "      <td>14581</td>\n",
       "    </tr>\n",
       "    <tr>\n",
       "      <th>5</th>\n",
       "      <td>1000</td>\n",
       "      <td>10</td>\n",
       "      <td>14717</td>\n",
       "    </tr>\n",
       "    <tr>\n",
       "      <th>6</th>\n",
       "      <td>1000</td>\n",
       "      <td>11</td>\n",
       "      <td>14768</td>\n",
       "    </tr>\n",
       "    <tr>\n",
       "      <th>7</th>\n",
       "      <td>1000</td>\n",
       "      <td>12</td>\n",
       "      <td>9827</td>\n",
       "    </tr>\n",
       "    <tr>\n",
       "      <th>8</th>\n",
       "      <td>1001</td>\n",
       "      <td>11</td>\n",
       "      <td>18452</td>\n",
       "    </tr>\n",
       "    <tr>\n",
       "      <th>9</th>\n",
       "      <td>1001</td>\n",
       "      <td>12</td>\n",
       "      <td>14053</td>\n",
       "    </tr>\n",
       "    <tr>\n",
       "      <th>10</th>\n",
       "      <td>1002</td>\n",
       "      <td>6</td>\n",
       "      <td>10871</td>\n",
       "    </tr>\n",
       "    <tr>\n",
       "      <th>11</th>\n",
       "      <td>1002</td>\n",
       "      <td>7</td>\n",
       "      <td>17601</td>\n",
       "    </tr>\n",
       "    <tr>\n",
       "      <th>12</th>\n",
       "      <td>1002</td>\n",
       "      <td>8</td>\n",
       "      <td>20347</td>\n",
       "    </tr>\n",
       "    <tr>\n",
       "      <th>13</th>\n",
       "      <td>1002</td>\n",
       "      <td>9</td>\n",
       "      <td>16712</td>\n",
       "    </tr>\n",
       "    <tr>\n",
       "      <th>14</th>\n",
       "      <td>1002</td>\n",
       "      <td>10</td>\n",
       "      <td>13905</td>\n",
       "    </tr>\n",
       "  </tbody>\n",
       "</table>\n",
       "</div>"
      ],
      "text/plain": [
       "    user_id  month  израсходованный интернет(мб)\n",
       "0      1000      5                          2256\n",
       "1      1000      6                         23257\n",
       "2      1000      7                         14016\n",
       "3      1000      8                         14070\n",
       "4      1000      9                         14581\n",
       "5      1000     10                         14717\n",
       "6      1000     11                         14768\n",
       "7      1000     12                          9827\n",
       "8      1001     11                         18452\n",
       "9      1001     12                         14053\n",
       "10     1002      6                         10871\n",
       "11     1002      7                         17601\n",
       "12     1002      8                         20347\n",
       "13     1002      9                         16712\n",
       "14     1002     10                         13905"
      ]
     },
     "execution_count": 48,
     "metadata": {},
     "output_type": "execute_result"
    }
   ],
   "source": [
    "internet['month'] = internet['session_date'].dt.month\n",
    "internet_month = internet.pivot_table(index=['user_id', 'month'], values='mb_used', aggfunc='sum')\n",
    "internet_month.columns = ['израсходованный интернет(мб)'] # указываем трафик интернета в мб - Мегабайтах\n",
    "internet_month.reset_index(inplace=True)\n",
    "internet_month.head(15)"
   ]
  },
  {
   "cell_type": "markdown",
   "metadata": {},
   "source": [
    "#### Помесячная выручка с каждого пользователя\n",
    "\n",
    "* Нужно вычесть бесплатный лимит из суммарного количества звонков, сообщений и интернет-трафика; \n",
    "* Остаток умножить на значение из тарифного плана; \n",
    "* Прибавить абонентскую плату, соответствующую тарифному плану\n",
    "\n",
    "Сначала объединяем столбцы методом `merge()` по очереди (звонки с сообщениями, с интернетом, с пользоватьелями, с тарифом):"
   ]
  },
  {
   "cell_type": "code",
   "execution_count": 49,
   "metadata": {},
   "outputs": [
    {
     "data": {
      "text/html": [
       "<div>\n",
       "<style scoped>\n",
       "    .dataframe tbody tr th:only-of-type {\n",
       "        vertical-align: middle;\n",
       "    }\n",
       "\n",
       "    .dataframe tbody tr th {\n",
       "        vertical-align: top;\n",
       "    }\n",
       "\n",
       "    .dataframe thead th {\n",
       "        text-align: right;\n",
       "    }\n",
       "</style>\n",
       "<table border=\"1\" class=\"dataframe\">\n",
       "  <thead>\n",
       "    <tr style=\"text-align: right;\">\n",
       "      <th></th>\n",
       "      <th>user_id</th>\n",
       "      <th>month</th>\n",
       "      <th>кол-во звонков</th>\n",
       "      <th>длительность звонков(мин)</th>\n",
       "      <th>кол-во смс за месяц</th>\n",
       "    </tr>\n",
       "  </thead>\n",
       "  <tbody>\n",
       "    <tr>\n",
       "      <th>0</th>\n",
       "      <td>1000</td>\n",
       "      <td>5</td>\n",
       "      <td>22.0</td>\n",
       "      <td>159.0</td>\n",
       "      <td>22.0</td>\n",
       "    </tr>\n",
       "    <tr>\n",
       "      <th>1</th>\n",
       "      <td>1000</td>\n",
       "      <td>6</td>\n",
       "      <td>43.0</td>\n",
       "      <td>172.0</td>\n",
       "      <td>60.0</td>\n",
       "    </tr>\n",
       "    <tr>\n",
       "      <th>2</th>\n",
       "      <td>1000</td>\n",
       "      <td>7</td>\n",
       "      <td>47.0</td>\n",
       "      <td>340.0</td>\n",
       "      <td>75.0</td>\n",
       "    </tr>\n",
       "    <tr>\n",
       "      <th>3</th>\n",
       "      <td>1000</td>\n",
       "      <td>8</td>\n",
       "      <td>52.0</td>\n",
       "      <td>408.0</td>\n",
       "      <td>81.0</td>\n",
       "    </tr>\n",
       "    <tr>\n",
       "      <th>4</th>\n",
       "      <td>1000</td>\n",
       "      <td>9</td>\n",
       "      <td>58.0</td>\n",
       "      <td>466.0</td>\n",
       "      <td>57.0</td>\n",
       "    </tr>\n",
       "  </tbody>\n",
       "</table>\n",
       "</div>"
      ],
      "text/plain": [
       "   user_id  month  кол-во звонков  длительность звонков(мин)  \\\n",
       "0     1000      5            22.0                      159.0   \n",
       "1     1000      6            43.0                      172.0   \n",
       "2     1000      7            47.0                      340.0   \n",
       "3     1000      8            52.0                      408.0   \n",
       "4     1000      9            58.0                      466.0   \n",
       "\n",
       "   кол-во смс за месяц  \n",
       "0                 22.0  \n",
       "1                 60.0  \n",
       "2                 75.0  \n",
       "3                 81.0  \n",
       "4                 57.0  "
      ]
     },
     "execution_count": 49,
     "metadata": {},
     "output_type": "execute_result"
    }
   ],
   "source": [
    "#money = calls_month.join(['messages_month', 'internet_month'], on=['user_id', 'month'], how='outer')\n",
    "money = calls_month.merge(messages_month, on=['user_id', 'month'], how='outer') # how='outer' объединяет область, \n",
    "                                                                        # где есть данные хотя бы в одном из стобцов\n",
    "money.head()"
   ]
  },
  {
   "cell_type": "code",
   "execution_count": 50,
   "metadata": {},
   "outputs": [
    {
     "data": {
      "text/html": [
       "<div>\n",
       "<style scoped>\n",
       "    .dataframe tbody tr th:only-of-type {\n",
       "        vertical-align: middle;\n",
       "    }\n",
       "\n",
       "    .dataframe tbody tr th {\n",
       "        vertical-align: top;\n",
       "    }\n",
       "\n",
       "    .dataframe thead th {\n",
       "        text-align: right;\n",
       "    }\n",
       "</style>\n",
       "<table border=\"1\" class=\"dataframe\">\n",
       "  <thead>\n",
       "    <tr style=\"text-align: right;\">\n",
       "      <th></th>\n",
       "      <th>user_id</th>\n",
       "      <th>month</th>\n",
       "      <th>кол-во звонков</th>\n",
       "      <th>длительность звонков(мин)</th>\n",
       "      <th>кол-во смс за месяц</th>\n",
       "      <th>израсходованный интернет(мб)</th>\n",
       "    </tr>\n",
       "  </thead>\n",
       "  <tbody>\n",
       "    <tr>\n",
       "      <th>0</th>\n",
       "      <td>1000</td>\n",
       "      <td>5</td>\n",
       "      <td>22.0</td>\n",
       "      <td>159.0</td>\n",
       "      <td>22.0</td>\n",
       "      <td>2256.0</td>\n",
       "    </tr>\n",
       "    <tr>\n",
       "      <th>1</th>\n",
       "      <td>1000</td>\n",
       "      <td>6</td>\n",
       "      <td>43.0</td>\n",
       "      <td>172.0</td>\n",
       "      <td>60.0</td>\n",
       "      <td>23257.0</td>\n",
       "    </tr>\n",
       "    <tr>\n",
       "      <th>2</th>\n",
       "      <td>1000</td>\n",
       "      <td>7</td>\n",
       "      <td>47.0</td>\n",
       "      <td>340.0</td>\n",
       "      <td>75.0</td>\n",
       "      <td>14016.0</td>\n",
       "    </tr>\n",
       "    <tr>\n",
       "      <th>3</th>\n",
       "      <td>1000</td>\n",
       "      <td>8</td>\n",
       "      <td>52.0</td>\n",
       "      <td>408.0</td>\n",
       "      <td>81.0</td>\n",
       "      <td>14070.0</td>\n",
       "    </tr>\n",
       "    <tr>\n",
       "      <th>4</th>\n",
       "      <td>1000</td>\n",
       "      <td>9</td>\n",
       "      <td>58.0</td>\n",
       "      <td>466.0</td>\n",
       "      <td>57.0</td>\n",
       "      <td>14581.0</td>\n",
       "    </tr>\n",
       "  </tbody>\n",
       "</table>\n",
       "</div>"
      ],
      "text/plain": [
       "   user_id  month  кол-во звонков  длительность звонков(мин)  \\\n",
       "0     1000      5            22.0                      159.0   \n",
       "1     1000      6            43.0                      172.0   \n",
       "2     1000      7            47.0                      340.0   \n",
       "3     1000      8            52.0                      408.0   \n",
       "4     1000      9            58.0                      466.0   \n",
       "\n",
       "   кол-во смс за месяц  израсходованный интернет(мб)  \n",
       "0                 22.0                        2256.0  \n",
       "1                 60.0                       23257.0  \n",
       "2                 75.0                       14016.0  \n",
       "3                 81.0                       14070.0  \n",
       "4                 57.0                       14581.0  "
      ]
     },
     "execution_count": 50,
     "metadata": {},
     "output_type": "execute_result"
    }
   ],
   "source": [
    "money = money.merge(internet_month, on=['user_id','month'], how='outer')\n",
    "money.head()"
   ]
  },
  {
   "cell_type": "code",
   "execution_count": 51,
   "metadata": {},
   "outputs": [
    {
     "data": {
      "text/html": [
       "<div>\n",
       "<style scoped>\n",
       "    .dataframe tbody tr th:only-of-type {\n",
       "        vertical-align: middle;\n",
       "    }\n",
       "\n",
       "    .dataframe tbody tr th {\n",
       "        vertical-align: top;\n",
       "    }\n",
       "\n",
       "    .dataframe thead th {\n",
       "        text-align: right;\n",
       "    }\n",
       "</style>\n",
       "<table border=\"1\" class=\"dataframe\">\n",
       "  <thead>\n",
       "    <tr style=\"text-align: right;\">\n",
       "      <th></th>\n",
       "      <th>user_id</th>\n",
       "      <th>month</th>\n",
       "      <th>кол-во звонков</th>\n",
       "      <th>длительность звонков(мин)</th>\n",
       "      <th>кол-во смс за месяц</th>\n",
       "      <th>израсходованный интернет(мб)</th>\n",
       "      <th>age</th>\n",
       "      <th>churn_date</th>\n",
       "      <th>city</th>\n",
       "      <th>first_name</th>\n",
       "      <th>last_name</th>\n",
       "      <th>reg_date</th>\n",
       "      <th>tariff_name</th>\n",
       "    </tr>\n",
       "  </thead>\n",
       "  <tbody>\n",
       "    <tr>\n",
       "      <th>0</th>\n",
       "      <td>1000</td>\n",
       "      <td>5</td>\n",
       "      <td>22.0</td>\n",
       "      <td>159.0</td>\n",
       "      <td>22.0</td>\n",
       "      <td>2256.0</td>\n",
       "      <td>52</td>\n",
       "      <td>NaT</td>\n",
       "      <td>Краснодар</td>\n",
       "      <td>Рафаил</td>\n",
       "      <td>Верещагин</td>\n",
       "      <td>2018-05-25</td>\n",
       "      <td>ultra</td>\n",
       "    </tr>\n",
       "    <tr>\n",
       "      <th>1</th>\n",
       "      <td>1000</td>\n",
       "      <td>6</td>\n",
       "      <td>43.0</td>\n",
       "      <td>172.0</td>\n",
       "      <td>60.0</td>\n",
       "      <td>23257.0</td>\n",
       "      <td>52</td>\n",
       "      <td>NaT</td>\n",
       "      <td>Краснодар</td>\n",
       "      <td>Рафаил</td>\n",
       "      <td>Верещагин</td>\n",
       "      <td>2018-05-25</td>\n",
       "      <td>ultra</td>\n",
       "    </tr>\n",
       "    <tr>\n",
       "      <th>2</th>\n",
       "      <td>1000</td>\n",
       "      <td>7</td>\n",
       "      <td>47.0</td>\n",
       "      <td>340.0</td>\n",
       "      <td>75.0</td>\n",
       "      <td>14016.0</td>\n",
       "      <td>52</td>\n",
       "      <td>NaT</td>\n",
       "      <td>Краснодар</td>\n",
       "      <td>Рафаил</td>\n",
       "      <td>Верещагин</td>\n",
       "      <td>2018-05-25</td>\n",
       "      <td>ultra</td>\n",
       "    </tr>\n",
       "    <tr>\n",
       "      <th>3</th>\n",
       "      <td>1000</td>\n",
       "      <td>8</td>\n",
       "      <td>52.0</td>\n",
       "      <td>408.0</td>\n",
       "      <td>81.0</td>\n",
       "      <td>14070.0</td>\n",
       "      <td>52</td>\n",
       "      <td>NaT</td>\n",
       "      <td>Краснодар</td>\n",
       "      <td>Рафаил</td>\n",
       "      <td>Верещагин</td>\n",
       "      <td>2018-05-25</td>\n",
       "      <td>ultra</td>\n",
       "    </tr>\n",
       "    <tr>\n",
       "      <th>4</th>\n",
       "      <td>1000</td>\n",
       "      <td>9</td>\n",
       "      <td>58.0</td>\n",
       "      <td>466.0</td>\n",
       "      <td>57.0</td>\n",
       "      <td>14581.0</td>\n",
       "      <td>52</td>\n",
       "      <td>NaT</td>\n",
       "      <td>Краснодар</td>\n",
       "      <td>Рафаил</td>\n",
       "      <td>Верещагин</td>\n",
       "      <td>2018-05-25</td>\n",
       "      <td>ultra</td>\n",
       "    </tr>\n",
       "  </tbody>\n",
       "</table>\n",
       "</div>"
      ],
      "text/plain": [
       "   user_id  month  кол-во звонков  длительность звонков(мин)  \\\n",
       "0     1000      5            22.0                      159.0   \n",
       "1     1000      6            43.0                      172.0   \n",
       "2     1000      7            47.0                      340.0   \n",
       "3     1000      8            52.0                      408.0   \n",
       "4     1000      9            58.0                      466.0   \n",
       "\n",
       "   кол-во смс за месяц  израсходованный интернет(мб)  age churn_date  \\\n",
       "0                 22.0                        2256.0   52        NaT   \n",
       "1                 60.0                       23257.0   52        NaT   \n",
       "2                 75.0                       14016.0   52        NaT   \n",
       "3                 81.0                       14070.0   52        NaT   \n",
       "4                 57.0                       14581.0   52        NaT   \n",
       "\n",
       "        city first_name  last_name   reg_date tariff_name  \n",
       "0  Краснодар     Рафаил  Верещагин 2018-05-25       ultra  \n",
       "1  Краснодар     Рафаил  Верещагин 2018-05-25       ultra  \n",
       "2  Краснодар     Рафаил  Верещагин 2018-05-25       ultra  \n",
       "3  Краснодар     Рафаил  Верещагин 2018-05-25       ultra  \n",
       "4  Краснодар     Рафаил  Верещагин 2018-05-25       ultra  "
      ]
     },
     "execution_count": 51,
     "metadata": {},
     "output_type": "execute_result"
    }
   ],
   "source": [
    "money = money.merge(users, on='user_id', how='left') # делаем параметр how='left', чтобы точно присутствовали значения из\n",
    "                                                    # левого датафрейма\n",
    "money.head()"
   ]
  },
  {
   "cell_type": "code",
   "execution_count": 52,
   "metadata": {},
   "outputs": [
    {
     "data": {
      "text/html": [
       "<div>\n",
       "<style scoped>\n",
       "    .dataframe tbody tr th:only-of-type {\n",
       "        vertical-align: middle;\n",
       "    }\n",
       "\n",
       "    .dataframe tbody tr th {\n",
       "        vertical-align: top;\n",
       "    }\n",
       "\n",
       "    .dataframe thead th {\n",
       "        text-align: right;\n",
       "    }\n",
       "</style>\n",
       "<table border=\"1\" class=\"dataframe\">\n",
       "  <thead>\n",
       "    <tr style=\"text-align: right;\">\n",
       "      <th></th>\n",
       "      <th>user_id</th>\n",
       "      <th>month</th>\n",
       "      <th>кол-во звонков</th>\n",
       "      <th>длительность звонков(мин)</th>\n",
       "      <th>кол-во смс за месяц</th>\n",
       "      <th>израсходованный интернет(мб)</th>\n",
       "      <th>age</th>\n",
       "      <th>churn_date</th>\n",
       "      <th>city</th>\n",
       "      <th>first_name</th>\n",
       "      <th>last_name</th>\n",
       "      <th>reg_date</th>\n",
       "      <th>tariff_name</th>\n",
       "      <th>messages_included</th>\n",
       "      <th>mb_per_month_included</th>\n",
       "      <th>minutes_included</th>\n",
       "      <th>rub_monthly_fee</th>\n",
       "      <th>rub_per_gb</th>\n",
       "      <th>rub_per_message</th>\n",
       "      <th>rub_per_minute</th>\n",
       "    </tr>\n",
       "  </thead>\n",
       "  <tbody>\n",
       "    <tr>\n",
       "      <th>0</th>\n",
       "      <td>1000</td>\n",
       "      <td>5</td>\n",
       "      <td>22.0</td>\n",
       "      <td>159.0</td>\n",
       "      <td>22.0</td>\n",
       "      <td>2256.0</td>\n",
       "      <td>52</td>\n",
       "      <td>NaT</td>\n",
       "      <td>Краснодар</td>\n",
       "      <td>Рафаил</td>\n",
       "      <td>Верещагин</td>\n",
       "      <td>2018-05-25</td>\n",
       "      <td>ultra</td>\n",
       "      <td>1000</td>\n",
       "      <td>30720</td>\n",
       "      <td>3000</td>\n",
       "      <td>1950</td>\n",
       "      <td>150</td>\n",
       "      <td>1</td>\n",
       "      <td>1</td>\n",
       "    </tr>\n",
       "    <tr>\n",
       "      <th>1</th>\n",
       "      <td>1000</td>\n",
       "      <td>6</td>\n",
       "      <td>43.0</td>\n",
       "      <td>172.0</td>\n",
       "      <td>60.0</td>\n",
       "      <td>23257.0</td>\n",
       "      <td>52</td>\n",
       "      <td>NaT</td>\n",
       "      <td>Краснодар</td>\n",
       "      <td>Рафаил</td>\n",
       "      <td>Верещагин</td>\n",
       "      <td>2018-05-25</td>\n",
       "      <td>ultra</td>\n",
       "      <td>1000</td>\n",
       "      <td>30720</td>\n",
       "      <td>3000</td>\n",
       "      <td>1950</td>\n",
       "      <td>150</td>\n",
       "      <td>1</td>\n",
       "      <td>1</td>\n",
       "    </tr>\n",
       "    <tr>\n",
       "      <th>2</th>\n",
       "      <td>1000</td>\n",
       "      <td>7</td>\n",
       "      <td>47.0</td>\n",
       "      <td>340.0</td>\n",
       "      <td>75.0</td>\n",
       "      <td>14016.0</td>\n",
       "      <td>52</td>\n",
       "      <td>NaT</td>\n",
       "      <td>Краснодар</td>\n",
       "      <td>Рафаил</td>\n",
       "      <td>Верещагин</td>\n",
       "      <td>2018-05-25</td>\n",
       "      <td>ultra</td>\n",
       "      <td>1000</td>\n",
       "      <td>30720</td>\n",
       "      <td>3000</td>\n",
       "      <td>1950</td>\n",
       "      <td>150</td>\n",
       "      <td>1</td>\n",
       "      <td>1</td>\n",
       "    </tr>\n",
       "    <tr>\n",
       "      <th>3</th>\n",
       "      <td>1000</td>\n",
       "      <td>8</td>\n",
       "      <td>52.0</td>\n",
       "      <td>408.0</td>\n",
       "      <td>81.0</td>\n",
       "      <td>14070.0</td>\n",
       "      <td>52</td>\n",
       "      <td>NaT</td>\n",
       "      <td>Краснодар</td>\n",
       "      <td>Рафаил</td>\n",
       "      <td>Верещагин</td>\n",
       "      <td>2018-05-25</td>\n",
       "      <td>ultra</td>\n",
       "      <td>1000</td>\n",
       "      <td>30720</td>\n",
       "      <td>3000</td>\n",
       "      <td>1950</td>\n",
       "      <td>150</td>\n",
       "      <td>1</td>\n",
       "      <td>1</td>\n",
       "    </tr>\n",
       "    <tr>\n",
       "      <th>4</th>\n",
       "      <td>1000</td>\n",
       "      <td>9</td>\n",
       "      <td>58.0</td>\n",
       "      <td>466.0</td>\n",
       "      <td>57.0</td>\n",
       "      <td>14581.0</td>\n",
       "      <td>52</td>\n",
       "      <td>NaT</td>\n",
       "      <td>Краснодар</td>\n",
       "      <td>Рафаил</td>\n",
       "      <td>Верещагин</td>\n",
       "      <td>2018-05-25</td>\n",
       "      <td>ultra</td>\n",
       "      <td>1000</td>\n",
       "      <td>30720</td>\n",
       "      <td>3000</td>\n",
       "      <td>1950</td>\n",
       "      <td>150</td>\n",
       "      <td>1</td>\n",
       "      <td>1</td>\n",
       "    </tr>\n",
       "  </tbody>\n",
       "</table>\n",
       "</div>"
      ],
      "text/plain": [
       "   user_id  month  кол-во звонков  длительность звонков(мин)  \\\n",
       "0     1000      5            22.0                      159.0   \n",
       "1     1000      6            43.0                      172.0   \n",
       "2     1000      7            47.0                      340.0   \n",
       "3     1000      8            52.0                      408.0   \n",
       "4     1000      9            58.0                      466.0   \n",
       "\n",
       "   кол-во смс за месяц  израсходованный интернет(мб)  age churn_date  \\\n",
       "0                 22.0                        2256.0   52        NaT   \n",
       "1                 60.0                       23257.0   52        NaT   \n",
       "2                 75.0                       14016.0   52        NaT   \n",
       "3                 81.0                       14070.0   52        NaT   \n",
       "4                 57.0                       14581.0   52        NaT   \n",
       "\n",
       "        city first_name  last_name   reg_date tariff_name  messages_included  \\\n",
       "0  Краснодар     Рафаил  Верещагин 2018-05-25       ultra               1000   \n",
       "1  Краснодар     Рафаил  Верещагин 2018-05-25       ultra               1000   \n",
       "2  Краснодар     Рафаил  Верещагин 2018-05-25       ultra               1000   \n",
       "3  Краснодар     Рафаил  Верещагин 2018-05-25       ultra               1000   \n",
       "4  Краснодар     Рафаил  Верещагин 2018-05-25       ultra               1000   \n",
       "\n",
       "   mb_per_month_included  minutes_included  rub_monthly_fee  rub_per_gb  \\\n",
       "0                  30720              3000             1950         150   \n",
       "1                  30720              3000             1950         150   \n",
       "2                  30720              3000             1950         150   \n",
       "3                  30720              3000             1950         150   \n",
       "4                  30720              3000             1950         150   \n",
       "\n",
       "   rub_per_message  rub_per_minute  \n",
       "0                1               1  \n",
       "1                1               1  \n",
       "2                1               1  \n",
       "3                1               1  \n",
       "4                1               1  "
      ]
     },
     "execution_count": 52,
     "metadata": {},
     "output_type": "execute_result"
    }
   ],
   "source": [
    "money = money.merge(tariffs, on='tariff_name',  how='left')\n",
    "money.head()"
   ]
  },
  {
   "cell_type": "code",
   "execution_count": 53,
   "metadata": {},
   "outputs": [
    {
     "data": {
      "text/plain": [
       "user_id                            0\n",
       "month                              0\n",
       "кол-во звонков                    41\n",
       "длительность звонков(мин)         40\n",
       "кол-во смс за месяц              497\n",
       "израсходованный интернет(мб)      11\n",
       "age                                0\n",
       "churn_date                      3027\n",
       "city                               0\n",
       "first_name                         0\n",
       "last_name                          0\n",
       "reg_date                           0\n",
       "tariff_name                        0\n",
       "messages_included                  0\n",
       "mb_per_month_included              0\n",
       "minutes_included                   0\n",
       "rub_monthly_fee                    0\n",
       "rub_per_gb                         0\n",
       "rub_per_message                    0\n",
       "rub_per_minute                     0\n",
       "dtype: int64"
      ]
     },
     "execution_count": 53,
     "metadata": {},
     "output_type": "execute_result"
    }
   ],
   "source": [
    "money.isna().sum()\n",
    "#money.describe()\n",
    "#money.info()"
   ]
  },
  {
   "cell_type": "markdown",
   "metadata": {},
   "source": [
    "Теперь имеем датафрейм со всеми значениями, которые хранятся в переменной **money**. Пропуски в колонках с кол-во звонками, с их длительностью, с кол-во смс за месяц и с израсходованным интернетом - это не использование данных услуг. \n",
    "\n",
    "`Избавляемся от пропусков в этих столбцах, путем заменой на 0` - **не использовано**:"
   ]
  },
  {
   "cell_type": "code",
   "execution_count": 54,
   "metadata": {},
   "outputs": [
    {
     "data": {
      "text/plain": [
       "user_id                            0\n",
       "month                              0\n",
       "кол-во звонков                     0\n",
       "длительность звонков(мин)          0\n",
       "кол-во смс за месяц                0\n",
       "израсходованный интернет(мб)       0\n",
       "age                                0\n",
       "churn_date                      3027\n",
       "city                               0\n",
       "first_name                         0\n",
       "last_name                          0\n",
       "reg_date                           0\n",
       "tariff_name                        0\n",
       "messages_included                  0\n",
       "mb_per_month_included              0\n",
       "minutes_included                   0\n",
       "rub_monthly_fee                    0\n",
       "rub_per_gb                         0\n",
       "rub_per_message                    0\n",
       "rub_per_minute                     0\n",
       "dtype: int64"
      ]
     },
     "execution_count": 54,
     "metadata": {},
     "output_type": "execute_result"
    }
   ],
   "source": [
    "money.loc[:, 'кол-во звонков': 'израсходованный интернет(мб)'] = money.loc[:, 'кол-во звонков': 'израсходованный интернет(мб)'].fillna(value=0)\n",
    "money.isna().sum() # так как эти столбцы идут подряд, мы взяли срез из них и заполнили пропуски подходящим значением"
   ]
  },
  {
   "cell_type": "markdown",
   "metadata": {},
   "source": [
    "**Убираем нули с значений, то есть меняем тип данных этого среза с вещественных на целочисленные:**"
   ]
  },
  {
   "cell_type": "code",
   "execution_count": 55,
   "metadata": {},
   "outputs": [
    {
     "data": {
      "text/html": [
       "<div>\n",
       "<style scoped>\n",
       "    .dataframe tbody tr th:only-of-type {\n",
       "        vertical-align: middle;\n",
       "    }\n",
       "\n",
       "    .dataframe tbody tr th {\n",
       "        vertical-align: top;\n",
       "    }\n",
       "\n",
       "    .dataframe thead th {\n",
       "        text-align: right;\n",
       "    }\n",
       "</style>\n",
       "<table border=\"1\" class=\"dataframe\">\n",
       "  <thead>\n",
       "    <tr style=\"text-align: right;\">\n",
       "      <th></th>\n",
       "      <th>user_id</th>\n",
       "      <th>month</th>\n",
       "      <th>кол-во звонков</th>\n",
       "      <th>длительность звонков(мин)</th>\n",
       "      <th>кол-во смс за месяц</th>\n",
       "      <th>израсходованный интернет(мб)</th>\n",
       "      <th>age</th>\n",
       "      <th>churn_date</th>\n",
       "      <th>city</th>\n",
       "      <th>first_name</th>\n",
       "      <th>last_name</th>\n",
       "      <th>reg_date</th>\n",
       "      <th>tariff_name</th>\n",
       "      <th>messages_included</th>\n",
       "      <th>mb_per_month_included</th>\n",
       "      <th>minutes_included</th>\n",
       "      <th>rub_monthly_fee</th>\n",
       "      <th>rub_per_gb</th>\n",
       "      <th>rub_per_message</th>\n",
       "      <th>rub_per_minute</th>\n",
       "    </tr>\n",
       "  </thead>\n",
       "  <tbody>\n",
       "    <tr>\n",
       "      <th>0</th>\n",
       "      <td>1000</td>\n",
       "      <td>5</td>\n",
       "      <td>22</td>\n",
       "      <td>159</td>\n",
       "      <td>22</td>\n",
       "      <td>2256</td>\n",
       "      <td>52</td>\n",
       "      <td>NaT</td>\n",
       "      <td>Краснодар</td>\n",
       "      <td>Рафаил</td>\n",
       "      <td>Верещагин</td>\n",
       "      <td>2018-05-25</td>\n",
       "      <td>ultra</td>\n",
       "      <td>1000</td>\n",
       "      <td>30720</td>\n",
       "      <td>3000</td>\n",
       "      <td>1950</td>\n",
       "      <td>150</td>\n",
       "      <td>1</td>\n",
       "      <td>1</td>\n",
       "    </tr>\n",
       "    <tr>\n",
       "      <th>1</th>\n",
       "      <td>1000</td>\n",
       "      <td>6</td>\n",
       "      <td>43</td>\n",
       "      <td>172</td>\n",
       "      <td>60</td>\n",
       "      <td>23257</td>\n",
       "      <td>52</td>\n",
       "      <td>NaT</td>\n",
       "      <td>Краснодар</td>\n",
       "      <td>Рафаил</td>\n",
       "      <td>Верещагин</td>\n",
       "      <td>2018-05-25</td>\n",
       "      <td>ultra</td>\n",
       "      <td>1000</td>\n",
       "      <td>30720</td>\n",
       "      <td>3000</td>\n",
       "      <td>1950</td>\n",
       "      <td>150</td>\n",
       "      <td>1</td>\n",
       "      <td>1</td>\n",
       "    </tr>\n",
       "    <tr>\n",
       "      <th>2</th>\n",
       "      <td>1000</td>\n",
       "      <td>7</td>\n",
       "      <td>47</td>\n",
       "      <td>340</td>\n",
       "      <td>75</td>\n",
       "      <td>14016</td>\n",
       "      <td>52</td>\n",
       "      <td>NaT</td>\n",
       "      <td>Краснодар</td>\n",
       "      <td>Рафаил</td>\n",
       "      <td>Верещагин</td>\n",
       "      <td>2018-05-25</td>\n",
       "      <td>ultra</td>\n",
       "      <td>1000</td>\n",
       "      <td>30720</td>\n",
       "      <td>3000</td>\n",
       "      <td>1950</td>\n",
       "      <td>150</td>\n",
       "      <td>1</td>\n",
       "      <td>1</td>\n",
       "    </tr>\n",
       "    <tr>\n",
       "      <th>3</th>\n",
       "      <td>1000</td>\n",
       "      <td>8</td>\n",
       "      <td>52</td>\n",
       "      <td>408</td>\n",
       "      <td>81</td>\n",
       "      <td>14070</td>\n",
       "      <td>52</td>\n",
       "      <td>NaT</td>\n",
       "      <td>Краснодар</td>\n",
       "      <td>Рафаил</td>\n",
       "      <td>Верещагин</td>\n",
       "      <td>2018-05-25</td>\n",
       "      <td>ultra</td>\n",
       "      <td>1000</td>\n",
       "      <td>30720</td>\n",
       "      <td>3000</td>\n",
       "      <td>1950</td>\n",
       "      <td>150</td>\n",
       "      <td>1</td>\n",
       "      <td>1</td>\n",
       "    </tr>\n",
       "    <tr>\n",
       "      <th>4</th>\n",
       "      <td>1000</td>\n",
       "      <td>9</td>\n",
       "      <td>58</td>\n",
       "      <td>466</td>\n",
       "      <td>57</td>\n",
       "      <td>14581</td>\n",
       "      <td>52</td>\n",
       "      <td>NaT</td>\n",
       "      <td>Краснодар</td>\n",
       "      <td>Рафаил</td>\n",
       "      <td>Верещагин</td>\n",
       "      <td>2018-05-25</td>\n",
       "      <td>ultra</td>\n",
       "      <td>1000</td>\n",
       "      <td>30720</td>\n",
       "      <td>3000</td>\n",
       "      <td>1950</td>\n",
       "      <td>150</td>\n",
       "      <td>1</td>\n",
       "      <td>1</td>\n",
       "    </tr>\n",
       "  </tbody>\n",
       "</table>\n",
       "</div>"
      ],
      "text/plain": [
       "   user_id  month  кол-во звонков  длительность звонков(мин)  \\\n",
       "0     1000      5              22                        159   \n",
       "1     1000      6              43                        172   \n",
       "2     1000      7              47                        340   \n",
       "3     1000      8              52                        408   \n",
       "4     1000      9              58                        466   \n",
       "\n",
       "   кол-во смс за месяц  израсходованный интернет(мб)  age churn_date  \\\n",
       "0                   22                          2256   52        NaT   \n",
       "1                   60                         23257   52        NaT   \n",
       "2                   75                         14016   52        NaT   \n",
       "3                   81                         14070   52        NaT   \n",
       "4                   57                         14581   52        NaT   \n",
       "\n",
       "        city first_name  last_name   reg_date tariff_name  messages_included  \\\n",
       "0  Краснодар     Рафаил  Верещагин 2018-05-25       ultra               1000   \n",
       "1  Краснодар     Рафаил  Верещагин 2018-05-25       ultra               1000   \n",
       "2  Краснодар     Рафаил  Верещагин 2018-05-25       ultra               1000   \n",
       "3  Краснодар     Рафаил  Верещагин 2018-05-25       ultra               1000   \n",
       "4  Краснодар     Рафаил  Верещагин 2018-05-25       ultra               1000   \n",
       "\n",
       "   mb_per_month_included  minutes_included  rub_monthly_fee  rub_per_gb  \\\n",
       "0                  30720              3000             1950         150   \n",
       "1                  30720              3000             1950         150   \n",
       "2                  30720              3000             1950         150   \n",
       "3                  30720              3000             1950         150   \n",
       "4                  30720              3000             1950         150   \n",
       "\n",
       "   rub_per_message  rub_per_minute  \n",
       "0                1               1  \n",
       "1                1               1  \n",
       "2                1               1  \n",
       "3                1               1  \n",
       "4                1               1  "
      ]
     },
     "execution_count": 55,
     "metadata": {},
     "output_type": "execute_result"
    }
   ],
   "source": [
    "money.loc[:, 'кол-во звонков': 'израсходованный интернет(мб)'] = money.loc[:, 'кол-во звонков': 'израсходованный интернет(мб)'].astype('int')\n",
    "money.head()"
   ]
  },
  {
   "cell_type": "markdown",
   "metadata": {},
   "source": [
    "Теперь выстраиваем функцию, которая подсчитыает выручку.\n",
    "\n",
    "* Вычитаем бесплатный лимит из суммарного количества звонков, сообщений и интернет-трафика\n",
    "\n",
    "* Остаток умножить на значение из тарифного плана; \n",
    "* Прибавить абонентскую плату, соответствующую тарифному плану"
   ]
  },
  {
   "cell_type": "code",
   "execution_count": 56,
   "metadata": {},
   "outputs": [
    {
     "data": {
      "text/html": [
       "<div>\n",
       "<style scoped>\n",
       "    .dataframe tbody tr th:only-of-type {\n",
       "        vertical-align: middle;\n",
       "    }\n",
       "\n",
       "    .dataframe tbody tr th {\n",
       "        vertical-align: top;\n",
       "    }\n",
       "\n",
       "    .dataframe thead th {\n",
       "        text-align: right;\n",
       "    }\n",
       "</style>\n",
       "<table border=\"1\" class=\"dataframe\">\n",
       "  <thead>\n",
       "    <tr style=\"text-align: right;\">\n",
       "      <th></th>\n",
       "      <th>user_id</th>\n",
       "      <th>month</th>\n",
       "      <th>кол-во звонков</th>\n",
       "      <th>длительность звонков(мин)</th>\n",
       "      <th>кол-во смс за месяц</th>\n",
       "      <th>израсходованный интернет(мб)</th>\n",
       "      <th>age</th>\n",
       "      <th>churn_date</th>\n",
       "      <th>city</th>\n",
       "      <th>first_name</th>\n",
       "      <th>...</th>\n",
       "      <th>reg_date</th>\n",
       "      <th>tariff_name</th>\n",
       "      <th>messages_included</th>\n",
       "      <th>mb_per_month_included</th>\n",
       "      <th>minutes_included</th>\n",
       "      <th>rub_monthly_fee</th>\n",
       "      <th>rub_per_gb</th>\n",
       "      <th>rub_per_message</th>\n",
       "      <th>rub_per_minute</th>\n",
       "      <th>суммарная стоимость за месяц</th>\n",
       "    </tr>\n",
       "  </thead>\n",
       "  <tbody>\n",
       "    <tr>\n",
       "      <th>0</th>\n",
       "      <td>1000</td>\n",
       "      <td>5</td>\n",
       "      <td>22</td>\n",
       "      <td>159</td>\n",
       "      <td>22</td>\n",
       "      <td>2256</td>\n",
       "      <td>52</td>\n",
       "      <td>NaT</td>\n",
       "      <td>Краснодар</td>\n",
       "      <td>Рафаил</td>\n",
       "      <td>...</td>\n",
       "      <td>2018-05-25</td>\n",
       "      <td>ultra</td>\n",
       "      <td>1000</td>\n",
       "      <td>30720</td>\n",
       "      <td>3000</td>\n",
       "      <td>1950</td>\n",
       "      <td>150</td>\n",
       "      <td>1</td>\n",
       "      <td>1</td>\n",
       "      <td>1950</td>\n",
       "    </tr>\n",
       "    <tr>\n",
       "      <th>1</th>\n",
       "      <td>1000</td>\n",
       "      <td>6</td>\n",
       "      <td>43</td>\n",
       "      <td>172</td>\n",
       "      <td>60</td>\n",
       "      <td>23257</td>\n",
       "      <td>52</td>\n",
       "      <td>NaT</td>\n",
       "      <td>Краснодар</td>\n",
       "      <td>Рафаил</td>\n",
       "      <td>...</td>\n",
       "      <td>2018-05-25</td>\n",
       "      <td>ultra</td>\n",
       "      <td>1000</td>\n",
       "      <td>30720</td>\n",
       "      <td>3000</td>\n",
       "      <td>1950</td>\n",
       "      <td>150</td>\n",
       "      <td>1</td>\n",
       "      <td>1</td>\n",
       "      <td>1950</td>\n",
       "    </tr>\n",
       "    <tr>\n",
       "      <th>2</th>\n",
       "      <td>1000</td>\n",
       "      <td>7</td>\n",
       "      <td>47</td>\n",
       "      <td>340</td>\n",
       "      <td>75</td>\n",
       "      <td>14016</td>\n",
       "      <td>52</td>\n",
       "      <td>NaT</td>\n",
       "      <td>Краснодар</td>\n",
       "      <td>Рафаил</td>\n",
       "      <td>...</td>\n",
       "      <td>2018-05-25</td>\n",
       "      <td>ultra</td>\n",
       "      <td>1000</td>\n",
       "      <td>30720</td>\n",
       "      <td>3000</td>\n",
       "      <td>1950</td>\n",
       "      <td>150</td>\n",
       "      <td>1</td>\n",
       "      <td>1</td>\n",
       "      <td>1950</td>\n",
       "    </tr>\n",
       "    <tr>\n",
       "      <th>3</th>\n",
       "      <td>1000</td>\n",
       "      <td>8</td>\n",
       "      <td>52</td>\n",
       "      <td>408</td>\n",
       "      <td>81</td>\n",
       "      <td>14070</td>\n",
       "      <td>52</td>\n",
       "      <td>NaT</td>\n",
       "      <td>Краснодар</td>\n",
       "      <td>Рафаил</td>\n",
       "      <td>...</td>\n",
       "      <td>2018-05-25</td>\n",
       "      <td>ultra</td>\n",
       "      <td>1000</td>\n",
       "      <td>30720</td>\n",
       "      <td>3000</td>\n",
       "      <td>1950</td>\n",
       "      <td>150</td>\n",
       "      <td>1</td>\n",
       "      <td>1</td>\n",
       "      <td>1950</td>\n",
       "    </tr>\n",
       "    <tr>\n",
       "      <th>4</th>\n",
       "      <td>1000</td>\n",
       "      <td>9</td>\n",
       "      <td>58</td>\n",
       "      <td>466</td>\n",
       "      <td>57</td>\n",
       "      <td>14581</td>\n",
       "      <td>52</td>\n",
       "      <td>NaT</td>\n",
       "      <td>Краснодар</td>\n",
       "      <td>Рафаил</td>\n",
       "      <td>...</td>\n",
       "      <td>2018-05-25</td>\n",
       "      <td>ultra</td>\n",
       "      <td>1000</td>\n",
       "      <td>30720</td>\n",
       "      <td>3000</td>\n",
       "      <td>1950</td>\n",
       "      <td>150</td>\n",
       "      <td>1</td>\n",
       "      <td>1</td>\n",
       "      <td>1950</td>\n",
       "    </tr>\n",
       "    <tr>\n",
       "      <th>5</th>\n",
       "      <td>1000</td>\n",
       "      <td>10</td>\n",
       "      <td>57</td>\n",
       "      <td>350</td>\n",
       "      <td>73</td>\n",
       "      <td>14717</td>\n",
       "      <td>52</td>\n",
       "      <td>NaT</td>\n",
       "      <td>Краснодар</td>\n",
       "      <td>Рафаил</td>\n",
       "      <td>...</td>\n",
       "      <td>2018-05-25</td>\n",
       "      <td>ultra</td>\n",
       "      <td>1000</td>\n",
       "      <td>30720</td>\n",
       "      <td>3000</td>\n",
       "      <td>1950</td>\n",
       "      <td>150</td>\n",
       "      <td>1</td>\n",
       "      <td>1</td>\n",
       "      <td>1950</td>\n",
       "    </tr>\n",
       "    <tr>\n",
       "      <th>6</th>\n",
       "      <td>1000</td>\n",
       "      <td>11</td>\n",
       "      <td>43</td>\n",
       "      <td>338</td>\n",
       "      <td>58</td>\n",
       "      <td>14768</td>\n",
       "      <td>52</td>\n",
       "      <td>NaT</td>\n",
       "      <td>Краснодар</td>\n",
       "      <td>Рафаил</td>\n",
       "      <td>...</td>\n",
       "      <td>2018-05-25</td>\n",
       "      <td>ultra</td>\n",
       "      <td>1000</td>\n",
       "      <td>30720</td>\n",
       "      <td>3000</td>\n",
       "      <td>1950</td>\n",
       "      <td>150</td>\n",
       "      <td>1</td>\n",
       "      <td>1</td>\n",
       "      <td>1950</td>\n",
       "    </tr>\n",
       "    <tr>\n",
       "      <th>7</th>\n",
       "      <td>1000</td>\n",
       "      <td>12</td>\n",
       "      <td>46</td>\n",
       "      <td>333</td>\n",
       "      <td>70</td>\n",
       "      <td>9827</td>\n",
       "      <td>52</td>\n",
       "      <td>NaT</td>\n",
       "      <td>Краснодар</td>\n",
       "      <td>Рафаил</td>\n",
       "      <td>...</td>\n",
       "      <td>2018-05-25</td>\n",
       "      <td>ultra</td>\n",
       "      <td>1000</td>\n",
       "      <td>30720</td>\n",
       "      <td>3000</td>\n",
       "      <td>1950</td>\n",
       "      <td>150</td>\n",
       "      <td>1</td>\n",
       "      <td>1</td>\n",
       "      <td>1950</td>\n",
       "    </tr>\n",
       "    <tr>\n",
       "      <th>8</th>\n",
       "      <td>1001</td>\n",
       "      <td>11</td>\n",
       "      <td>59</td>\n",
       "      <td>430</td>\n",
       "      <td>0</td>\n",
       "      <td>18452</td>\n",
       "      <td>41</td>\n",
       "      <td>NaT</td>\n",
       "      <td>Москва</td>\n",
       "      <td>Иван</td>\n",
       "      <td>...</td>\n",
       "      <td>2018-11-01</td>\n",
       "      <td>smart</td>\n",
       "      <td>50</td>\n",
       "      <td>15360</td>\n",
       "      <td>500</td>\n",
       "      <td>550</td>\n",
       "      <td>200</td>\n",
       "      <td>3</td>\n",
       "      <td>3</td>\n",
       "      <td>1350</td>\n",
       "    </tr>\n",
       "    <tr>\n",
       "      <th>9</th>\n",
       "      <td>1001</td>\n",
       "      <td>12</td>\n",
       "      <td>63</td>\n",
       "      <td>414</td>\n",
       "      <td>0</td>\n",
       "      <td>14053</td>\n",
       "      <td>41</td>\n",
       "      <td>NaT</td>\n",
       "      <td>Москва</td>\n",
       "      <td>Иван</td>\n",
       "      <td>...</td>\n",
       "      <td>2018-11-01</td>\n",
       "      <td>smart</td>\n",
       "      <td>50</td>\n",
       "      <td>15360</td>\n",
       "      <td>500</td>\n",
       "      <td>550</td>\n",
       "      <td>200</td>\n",
       "      <td>3</td>\n",
       "      <td>3</td>\n",
       "      <td>550</td>\n",
       "    </tr>\n",
       "    <tr>\n",
       "      <th>10</th>\n",
       "      <td>1002</td>\n",
       "      <td>6</td>\n",
       "      <td>15</td>\n",
       "      <td>117</td>\n",
       "      <td>4</td>\n",
       "      <td>10871</td>\n",
       "      <td>59</td>\n",
       "      <td>NaT</td>\n",
       "      <td>Стерлитамак</td>\n",
       "      <td>Евгений</td>\n",
       "      <td>...</td>\n",
       "      <td>2018-06-17</td>\n",
       "      <td>smart</td>\n",
       "      <td>50</td>\n",
       "      <td>15360</td>\n",
       "      <td>500</td>\n",
       "      <td>550</td>\n",
       "      <td>200</td>\n",
       "      <td>3</td>\n",
       "      <td>3</td>\n",
       "      <td>550</td>\n",
       "    </tr>\n",
       "    <tr>\n",
       "      <th>11</th>\n",
       "      <td>1002</td>\n",
       "      <td>7</td>\n",
       "      <td>26</td>\n",
       "      <td>214</td>\n",
       "      <td>11</td>\n",
       "      <td>17601</td>\n",
       "      <td>59</td>\n",
       "      <td>NaT</td>\n",
       "      <td>Стерлитамак</td>\n",
       "      <td>Евгений</td>\n",
       "      <td>...</td>\n",
       "      <td>2018-06-17</td>\n",
       "      <td>smart</td>\n",
       "      <td>50</td>\n",
       "      <td>15360</td>\n",
       "      <td>500</td>\n",
       "      <td>550</td>\n",
       "      <td>200</td>\n",
       "      <td>3</td>\n",
       "      <td>3</td>\n",
       "      <td>1150</td>\n",
       "    </tr>\n",
       "    <tr>\n",
       "      <th>12</th>\n",
       "      <td>1002</td>\n",
       "      <td>8</td>\n",
       "      <td>42</td>\n",
       "      <td>289</td>\n",
       "      <td>13</td>\n",
       "      <td>20347</td>\n",
       "      <td>59</td>\n",
       "      <td>NaT</td>\n",
       "      <td>Стерлитамак</td>\n",
       "      <td>Евгений</td>\n",
       "      <td>...</td>\n",
       "      <td>2018-06-17</td>\n",
       "      <td>smart</td>\n",
       "      <td>50</td>\n",
       "      <td>15360</td>\n",
       "      <td>500</td>\n",
       "      <td>550</td>\n",
       "      <td>200</td>\n",
       "      <td>3</td>\n",
       "      <td>3</td>\n",
       "      <td>1550</td>\n",
       "    </tr>\n",
       "    <tr>\n",
       "      <th>13</th>\n",
       "      <td>1002</td>\n",
       "      <td>9</td>\n",
       "      <td>36</td>\n",
       "      <td>206</td>\n",
       "      <td>4</td>\n",
       "      <td>16712</td>\n",
       "      <td>59</td>\n",
       "      <td>NaT</td>\n",
       "      <td>Стерлитамак</td>\n",
       "      <td>Евгений</td>\n",
       "      <td>...</td>\n",
       "      <td>2018-06-17</td>\n",
       "      <td>smart</td>\n",
       "      <td>50</td>\n",
       "      <td>15360</td>\n",
       "      <td>500</td>\n",
       "      <td>550</td>\n",
       "      <td>200</td>\n",
       "      <td>3</td>\n",
       "      <td>3</td>\n",
       "      <td>950</td>\n",
       "    </tr>\n",
       "    <tr>\n",
       "      <th>14</th>\n",
       "      <td>1002</td>\n",
       "      <td>10</td>\n",
       "      <td>33</td>\n",
       "      <td>212</td>\n",
       "      <td>10</td>\n",
       "      <td>13905</td>\n",
       "      <td>59</td>\n",
       "      <td>NaT</td>\n",
       "      <td>Стерлитамак</td>\n",
       "      <td>Евгений</td>\n",
       "      <td>...</td>\n",
       "      <td>2018-06-17</td>\n",
       "      <td>smart</td>\n",
       "      <td>50</td>\n",
       "      <td>15360</td>\n",
       "      <td>500</td>\n",
       "      <td>550</td>\n",
       "      <td>200</td>\n",
       "      <td>3</td>\n",
       "      <td>3</td>\n",
       "      <td>550</td>\n",
       "    </tr>\n",
       "    <tr>\n",
       "      <th>15</th>\n",
       "      <td>1002</td>\n",
       "      <td>11</td>\n",
       "      <td>32</td>\n",
       "      <td>243</td>\n",
       "      <td>16</td>\n",
       "      <td>18610</td>\n",
       "      <td>59</td>\n",
       "      <td>NaT</td>\n",
       "      <td>Стерлитамак</td>\n",
       "      <td>Евгений</td>\n",
       "      <td>...</td>\n",
       "      <td>2018-06-17</td>\n",
       "      <td>smart</td>\n",
       "      <td>50</td>\n",
       "      <td>15360</td>\n",
       "      <td>500</td>\n",
       "      <td>550</td>\n",
       "      <td>200</td>\n",
       "      <td>3</td>\n",
       "      <td>3</td>\n",
       "      <td>1350</td>\n",
       "    </tr>\n",
       "    <tr>\n",
       "      <th>16</th>\n",
       "      <td>1002</td>\n",
       "      <td>12</td>\n",
       "      <td>33</td>\n",
       "      <td>236</td>\n",
       "      <td>12</td>\n",
       "      <td>18137</td>\n",
       "      <td>59</td>\n",
       "      <td>NaT</td>\n",
       "      <td>Стерлитамак</td>\n",
       "      <td>Евгений</td>\n",
       "      <td>...</td>\n",
       "      <td>2018-06-17</td>\n",
       "      <td>smart</td>\n",
       "      <td>50</td>\n",
       "      <td>15360</td>\n",
       "      <td>500</td>\n",
       "      <td>550</td>\n",
       "      <td>200</td>\n",
       "      <td>3</td>\n",
       "      <td>3</td>\n",
       "      <td>1150</td>\n",
       "    </tr>\n",
       "    <tr>\n",
       "      <th>17</th>\n",
       "      <td>1003</td>\n",
       "      <td>8</td>\n",
       "      <td>55</td>\n",
       "      <td>380</td>\n",
       "      <td>37</td>\n",
       "      <td>8571</td>\n",
       "      <td>23</td>\n",
       "      <td>NaT</td>\n",
       "      <td>Москва</td>\n",
       "      <td>Белла</td>\n",
       "      <td>...</td>\n",
       "      <td>2018-08-17</td>\n",
       "      <td>ultra</td>\n",
       "      <td>1000</td>\n",
       "      <td>30720</td>\n",
       "      <td>3000</td>\n",
       "      <td>1950</td>\n",
       "      <td>150</td>\n",
       "      <td>1</td>\n",
       "      <td>1</td>\n",
       "      <td>1950</td>\n",
       "    </tr>\n",
       "    <tr>\n",
       "      <th>18</th>\n",
       "      <td>1003</td>\n",
       "      <td>9</td>\n",
       "      <td>134</td>\n",
       "      <td>961</td>\n",
       "      <td>91</td>\n",
       "      <td>12479</td>\n",
       "      <td>23</td>\n",
       "      <td>NaT</td>\n",
       "      <td>Москва</td>\n",
       "      <td>Белла</td>\n",
       "      <td>...</td>\n",
       "      <td>2018-08-17</td>\n",
       "      <td>ultra</td>\n",
       "      <td>1000</td>\n",
       "      <td>30720</td>\n",
       "      <td>3000</td>\n",
       "      <td>1950</td>\n",
       "      <td>150</td>\n",
       "      <td>1</td>\n",
       "      <td>1</td>\n",
       "      <td>1950</td>\n",
       "    </tr>\n",
       "    <tr>\n",
       "      <th>19</th>\n",
       "      <td>1003</td>\n",
       "      <td>10</td>\n",
       "      <td>108</td>\n",
       "      <td>855</td>\n",
       "      <td>83</td>\n",
       "      <td>14779</td>\n",
       "      <td>23</td>\n",
       "      <td>NaT</td>\n",
       "      <td>Москва</td>\n",
       "      <td>Белла</td>\n",
       "      <td>...</td>\n",
       "      <td>2018-08-17</td>\n",
       "      <td>ultra</td>\n",
       "      <td>1000</td>\n",
       "      <td>30720</td>\n",
       "      <td>3000</td>\n",
       "      <td>1950</td>\n",
       "      <td>150</td>\n",
       "      <td>1</td>\n",
       "      <td>1</td>\n",
       "      <td>1950</td>\n",
       "    </tr>\n",
       "  </tbody>\n",
       "</table>\n",
       "<p>20 rows × 21 columns</p>\n",
       "</div>"
      ],
      "text/plain": [
       "    user_id  month  кол-во звонков  длительность звонков(мин)  \\\n",
       "0      1000      5              22                        159   \n",
       "1      1000      6              43                        172   \n",
       "2      1000      7              47                        340   \n",
       "3      1000      8              52                        408   \n",
       "4      1000      9              58                        466   \n",
       "5      1000     10              57                        350   \n",
       "6      1000     11              43                        338   \n",
       "7      1000     12              46                        333   \n",
       "8      1001     11              59                        430   \n",
       "9      1001     12              63                        414   \n",
       "10     1002      6              15                        117   \n",
       "11     1002      7              26                        214   \n",
       "12     1002      8              42                        289   \n",
       "13     1002      9              36                        206   \n",
       "14     1002     10              33                        212   \n",
       "15     1002     11              32                        243   \n",
       "16     1002     12              33                        236   \n",
       "17     1003      8              55                        380   \n",
       "18     1003      9             134                        961   \n",
       "19     1003     10             108                        855   \n",
       "\n",
       "    кол-во смс за месяц  израсходованный интернет(мб)  age churn_date  \\\n",
       "0                    22                          2256   52        NaT   \n",
       "1                    60                         23257   52        NaT   \n",
       "2                    75                         14016   52        NaT   \n",
       "3                    81                         14070   52        NaT   \n",
       "4                    57                         14581   52        NaT   \n",
       "5                    73                         14717   52        NaT   \n",
       "6                    58                         14768   52        NaT   \n",
       "7                    70                          9827   52        NaT   \n",
       "8                     0                         18452   41        NaT   \n",
       "9                     0                         14053   41        NaT   \n",
       "10                    4                         10871   59        NaT   \n",
       "11                   11                         17601   59        NaT   \n",
       "12                   13                         20347   59        NaT   \n",
       "13                    4                         16712   59        NaT   \n",
       "14                   10                         13905   59        NaT   \n",
       "15                   16                         18610   59        NaT   \n",
       "16                   12                         18137   59        NaT   \n",
       "17                   37                          8571   23        NaT   \n",
       "18                   91                         12479   23        NaT   \n",
       "19                   83                         14779   23        NaT   \n",
       "\n",
       "           city first_name  ...   reg_date tariff_name messages_included  \\\n",
       "0     Краснодар     Рафаил  ... 2018-05-25       ultra              1000   \n",
       "1     Краснодар     Рафаил  ... 2018-05-25       ultra              1000   \n",
       "2     Краснодар     Рафаил  ... 2018-05-25       ultra              1000   \n",
       "3     Краснодар     Рафаил  ... 2018-05-25       ultra              1000   \n",
       "4     Краснодар     Рафаил  ... 2018-05-25       ultra              1000   \n",
       "5     Краснодар     Рафаил  ... 2018-05-25       ultra              1000   \n",
       "6     Краснодар     Рафаил  ... 2018-05-25       ultra              1000   \n",
       "7     Краснодар     Рафаил  ... 2018-05-25       ultra              1000   \n",
       "8        Москва       Иван  ... 2018-11-01       smart                50   \n",
       "9        Москва       Иван  ... 2018-11-01       smart                50   \n",
       "10  Стерлитамак    Евгений  ... 2018-06-17       smart                50   \n",
       "11  Стерлитамак    Евгений  ... 2018-06-17       smart                50   \n",
       "12  Стерлитамак    Евгений  ... 2018-06-17       smart                50   \n",
       "13  Стерлитамак    Евгений  ... 2018-06-17       smart                50   \n",
       "14  Стерлитамак    Евгений  ... 2018-06-17       smart                50   \n",
       "15  Стерлитамак    Евгений  ... 2018-06-17       smart                50   \n",
       "16  Стерлитамак    Евгений  ... 2018-06-17       smart                50   \n",
       "17       Москва      Белла  ... 2018-08-17       ultra              1000   \n",
       "18       Москва      Белла  ... 2018-08-17       ultra              1000   \n",
       "19       Москва      Белла  ... 2018-08-17       ultra              1000   \n",
       "\n",
       "    mb_per_month_included  minutes_included  rub_monthly_fee  rub_per_gb  \\\n",
       "0                   30720              3000             1950         150   \n",
       "1                   30720              3000             1950         150   \n",
       "2                   30720              3000             1950         150   \n",
       "3                   30720              3000             1950         150   \n",
       "4                   30720              3000             1950         150   \n",
       "5                   30720              3000             1950         150   \n",
       "6                   30720              3000             1950         150   \n",
       "7                   30720              3000             1950         150   \n",
       "8                   15360               500              550         200   \n",
       "9                   15360               500              550         200   \n",
       "10                  15360               500              550         200   \n",
       "11                  15360               500              550         200   \n",
       "12                  15360               500              550         200   \n",
       "13                  15360               500              550         200   \n",
       "14                  15360               500              550         200   \n",
       "15                  15360               500              550         200   \n",
       "16                  15360               500              550         200   \n",
       "17                  30720              3000             1950         150   \n",
       "18                  30720              3000             1950         150   \n",
       "19                  30720              3000             1950         150   \n",
       "\n",
       "    rub_per_message  rub_per_minute  суммарная стоимость за месяц  \n",
       "0                 1               1                          1950  \n",
       "1                 1               1                          1950  \n",
       "2                 1               1                          1950  \n",
       "3                 1               1                          1950  \n",
       "4                 1               1                          1950  \n",
       "5                 1               1                          1950  \n",
       "6                 1               1                          1950  \n",
       "7                 1               1                          1950  \n",
       "8                 3               3                          1350  \n",
       "9                 3               3                           550  \n",
       "10                3               3                           550  \n",
       "11                3               3                          1150  \n",
       "12                3               3                          1550  \n",
       "13                3               3                           950  \n",
       "14                3               3                           550  \n",
       "15                3               3                          1350  \n",
       "16                3               3                          1150  \n",
       "17                1               1                          1950  \n",
       "18                1               1                          1950  \n",
       "19                1               1                          1950  \n",
       "\n",
       "[20 rows x 21 columns]"
      ]
     },
     "execution_count": 56,
     "metadata": {},
     "output_type": "execute_result"
    }
   ],
   "source": [
    "def proceeds(n):\n",
    "    proceed = n['rub_monthly_fee'] # в переменную выручку помещаем ежемесячную абонентскую плату, чтобы в дальнейшем\n",
    "                                    # суммировать ее. Далее сравниваем все посчитанные нами сверх лимиты \n",
    "                        # с включенными в тариф, чтобы если больше, то добавить к уже стоимости тарифа (1950, 550) \n",
    "                        # сверх сумму, на которую пользователи потратили сверх лимита\n",
    "                \n",
    "    if n['длительность звонков(мин)'] > n['minutes_included']:\n",
    "        proceed += (n['длительность звонков(мин)'] - n['minutes_included']) * n['rub_per_minute']\n",
    "    \n",
    "    if n['кол-во смс за месяц'] > n['messages_included']:\n",
    "        proceed += (n['кол-во смс за месяц'] - n['messages_included']) * n['rub_per_message']\n",
    "        \n",
    "    if n['израсходованный интернет(мб)'] > n['mb_per_month_included']:\n",
    "        proceed += math.ceil((n['израсходованный интернет(мб)'] - n['mb_per_month_included']) / 1024) * n['rub_per_gb']\n",
    "        # делим на 1024, так как в 1 Гб 1024 Мб, что еще подтвержжает информация в нашем датафрейме(например, колонка\n",
    "        # 'mb_per_month_included' 30720, то есть 30 * 1024)\n",
    "    return proceed\n",
    "\n",
    "\n",
    "    \n",
    "money['суммарная стоимость за месяц'] = money.apply(proceeds, axis=1) #  параметром axis=1 даем пройтись по всем строчкам\n",
    "money.head(20)"
   ]
  },
  {
   "cell_type": "markdown",
   "metadata": {},
   "source": [
    "## Анализ данных\n",
    "\n",
    "Нужно описать поведение клиентов оператора, исходя из выборки. Нужно ответить, сколько минут разговора, сколько сообщений и какой объём интернет-трафика требуется пользователям каждого тарифа в месяц? Посчитаем среднее количество, дисперсию и стандартное отклонение. Построим гистограммы. Опишем распределения.\n",
    "\n",
    "Для начала посмотрим `длительность звонков(мин)`, `кол-во смс за месяц`, `израсходованный интернет(мб`) их `среднее` и `стандартное отклонение` для пользователей всех тарифов:"
   ]
  },
  {
   "cell_type": "code",
   "execution_count": 57,
   "metadata": {},
   "outputs": [
    {
     "data": {
      "text/html": [
       "<div>\n",
       "<style scoped>\n",
       "    .dataframe tbody tr th:only-of-type {\n",
       "        vertical-align: middle;\n",
       "    }\n",
       "\n",
       "    .dataframe tbody tr th {\n",
       "        vertical-align: top;\n",
       "    }\n",
       "\n",
       "    .dataframe thead th {\n",
       "        text-align: right;\n",
       "    }\n",
       "</style>\n",
       "<table border=\"1\" class=\"dataframe\">\n",
       "  <thead>\n",
       "    <tr style=\"text-align: right;\">\n",
       "      <th></th>\n",
       "      <th>user_id</th>\n",
       "      <th>month</th>\n",
       "      <th>кол-во звонков</th>\n",
       "      <th>длительность звонков(мин)</th>\n",
       "      <th>кол-во смс за месяц</th>\n",
       "      <th>израсходованный интернет(мб)</th>\n",
       "      <th>age</th>\n",
       "      <th>churn_date</th>\n",
       "      <th>city</th>\n",
       "      <th>first_name</th>\n",
       "      <th>...</th>\n",
       "      <th>reg_date</th>\n",
       "      <th>tariff_name</th>\n",
       "      <th>messages_included</th>\n",
       "      <th>mb_per_month_included</th>\n",
       "      <th>minutes_included</th>\n",
       "      <th>rub_monthly_fee</th>\n",
       "      <th>rub_per_gb</th>\n",
       "      <th>rub_per_message</th>\n",
       "      <th>rub_per_minute</th>\n",
       "      <th>суммарная стоимость за месяц</th>\n",
       "    </tr>\n",
       "  </thead>\n",
       "  <tbody>\n",
       "    <tr>\n",
       "      <th>3209</th>\n",
       "      <td>1489</td>\n",
       "      <td>9</td>\n",
       "      <td>0</td>\n",
       "      <td>0</td>\n",
       "      <td>32</td>\n",
       "      <td>17232</td>\n",
       "      <td>35</td>\n",
       "      <td>NaT</td>\n",
       "      <td>Санкт-Петербург</td>\n",
       "      <td>Павел</td>\n",
       "      <td>...</td>\n",
       "      <td>2018-08-15</td>\n",
       "      <td>smart</td>\n",
       "      <td>50</td>\n",
       "      <td>15360</td>\n",
       "      <td>500</td>\n",
       "      <td>550</td>\n",
       "      <td>200</td>\n",
       "      <td>3</td>\n",
       "      <td>3</td>\n",
       "      <td>950</td>\n",
       "    </tr>\n",
       "    <tr>\n",
       "      <th>3210</th>\n",
       "      <td>1489</td>\n",
       "      <td>10</td>\n",
       "      <td>0</td>\n",
       "      <td>0</td>\n",
       "      <td>21</td>\n",
       "      <td>19588</td>\n",
       "      <td>35</td>\n",
       "      <td>NaT</td>\n",
       "      <td>Санкт-Петербург</td>\n",
       "      <td>Павел</td>\n",
       "      <td>...</td>\n",
       "      <td>2018-08-15</td>\n",
       "      <td>smart</td>\n",
       "      <td>50</td>\n",
       "      <td>15360</td>\n",
       "      <td>500</td>\n",
       "      <td>550</td>\n",
       "      <td>200</td>\n",
       "      <td>3</td>\n",
       "      <td>3</td>\n",
       "      <td>1550</td>\n",
       "    </tr>\n",
       "    <tr>\n",
       "      <th>3211</th>\n",
       "      <td>1489</td>\n",
       "      <td>11</td>\n",
       "      <td>0</td>\n",
       "      <td>0</td>\n",
       "      <td>20</td>\n",
       "      <td>17516</td>\n",
       "      <td>35</td>\n",
       "      <td>NaT</td>\n",
       "      <td>Санкт-Петербург</td>\n",
       "      <td>Павел</td>\n",
       "      <td>...</td>\n",
       "      <td>2018-08-15</td>\n",
       "      <td>smart</td>\n",
       "      <td>50</td>\n",
       "      <td>15360</td>\n",
       "      <td>500</td>\n",
       "      <td>550</td>\n",
       "      <td>200</td>\n",
       "      <td>3</td>\n",
       "      <td>3</td>\n",
       "      <td>1150</td>\n",
       "    </tr>\n",
       "    <tr>\n",
       "      <th>3212</th>\n",
       "      <td>1489</td>\n",
       "      <td>12</td>\n",
       "      <td>0</td>\n",
       "      <td>0</td>\n",
       "      <td>35</td>\n",
       "      <td>17341</td>\n",
       "      <td>35</td>\n",
       "      <td>NaT</td>\n",
       "      <td>Санкт-Петербург</td>\n",
       "      <td>Павел</td>\n",
       "      <td>...</td>\n",
       "      <td>2018-08-15</td>\n",
       "      <td>smart</td>\n",
       "      <td>50</td>\n",
       "      <td>15360</td>\n",
       "      <td>500</td>\n",
       "      <td>550</td>\n",
       "      <td>200</td>\n",
       "      <td>3</td>\n",
       "      <td>3</td>\n",
       "      <td>950</td>\n",
       "    </tr>\n",
       "    <tr>\n",
       "      <th>3213</th>\n",
       "      <td>1476</td>\n",
       "      <td>4</td>\n",
       "      <td>0</td>\n",
       "      <td>0</td>\n",
       "      <td>0</td>\n",
       "      <td>531</td>\n",
       "      <td>50</td>\n",
       "      <td>NaT</td>\n",
       "      <td>Москва</td>\n",
       "      <td>Валентина</td>\n",
       "      <td>...</td>\n",
       "      <td>2018-04-30</td>\n",
       "      <td>ultra</td>\n",
       "      <td>1000</td>\n",
       "      <td>30720</td>\n",
       "      <td>3000</td>\n",
       "      <td>1950</td>\n",
       "      <td>150</td>\n",
       "      <td>1</td>\n",
       "      <td>1</td>\n",
       "      <td>1950</td>\n",
       "    </tr>\n",
       "  </tbody>\n",
       "</table>\n",
       "<p>5 rows × 21 columns</p>\n",
       "</div>"
      ],
      "text/plain": [
       "      user_id  month  кол-во звонков  длительность звонков(мин)  \\\n",
       "3209     1489      9               0                          0   \n",
       "3210     1489     10               0                          0   \n",
       "3211     1489     11               0                          0   \n",
       "3212     1489     12               0                          0   \n",
       "3213     1476      4               0                          0   \n",
       "\n",
       "      кол-во смс за месяц  израсходованный интернет(мб)  age churn_date  \\\n",
       "3209                   32                         17232   35        NaT   \n",
       "3210                   21                         19588   35        NaT   \n",
       "3211                   20                         17516   35        NaT   \n",
       "3212                   35                         17341   35        NaT   \n",
       "3213                    0                           531   50        NaT   \n",
       "\n",
       "                 city first_name  ...   reg_date tariff_name  \\\n",
       "3209  Санкт-Петербург      Павел  ... 2018-08-15       smart   \n",
       "3210  Санкт-Петербург      Павел  ... 2018-08-15       smart   \n",
       "3211  Санкт-Петербург      Павел  ... 2018-08-15       smart   \n",
       "3212  Санкт-Петербург      Павел  ... 2018-08-15       smart   \n",
       "3213           Москва  Валентина  ... 2018-04-30       ultra   \n",
       "\n",
       "     messages_included  mb_per_month_included  minutes_included  \\\n",
       "3209                50                  15360               500   \n",
       "3210                50                  15360               500   \n",
       "3211                50                  15360               500   \n",
       "3212                50                  15360               500   \n",
       "3213              1000                  30720              3000   \n",
       "\n",
       "      rub_monthly_fee  rub_per_gb  rub_per_message  rub_per_minute  \\\n",
       "3209              550         200                3               3   \n",
       "3210              550         200                3               3   \n",
       "3211              550         200                3               3   \n",
       "3212              550         200                3               3   \n",
       "3213             1950         150                1               1   \n",
       "\n",
       "      суммарная стоимость за месяц  \n",
       "3209                           950  \n",
       "3210                          1550  \n",
       "3211                          1150  \n",
       "3212                           950  \n",
       "3213                          1950  \n",
       "\n",
       "[5 rows x 21 columns]"
      ]
     },
     "execution_count": 57,
     "metadata": {},
     "output_type": "execute_result"
    }
   ],
   "source": [
    "money.tail()"
   ]
  },
  {
   "cell_type": "code",
   "execution_count": 58,
   "metadata": {},
   "outputs": [
    {
     "data": {
      "text/html": [
       "<div>\n",
       "<style scoped>\n",
       "    .dataframe tbody tr th:only-of-type {\n",
       "        vertical-align: middle;\n",
       "    }\n",
       "\n",
       "    .dataframe tbody tr th {\n",
       "        vertical-align: top;\n",
       "    }\n",
       "\n",
       "    .dataframe thead th {\n",
       "        text-align: right;\n",
       "    }\n",
       "</style>\n",
       "<table border=\"1\" class=\"dataframe\">\n",
       "  <thead>\n",
       "    <tr style=\"text-align: right;\">\n",
       "      <th></th>\n",
       "      <th>длительность звонков(мин)</th>\n",
       "      <th>кол-во смс за месяц</th>\n",
       "      <th>израсходованный интернет(мб)</th>\n",
       "    </tr>\n",
       "  </thead>\n",
       "  <tbody>\n",
       "    <tr>\n",
       "      <th>count</th>\n",
       "      <td>3214.000000</td>\n",
       "      <td>3214.000000</td>\n",
       "      <td>3214.000000</td>\n",
       "    </tr>\n",
       "    <tr>\n",
       "      <th>mean</th>\n",
       "      <td>451.244866</td>\n",
       "      <td>38.281269</td>\n",
       "      <td>17227.585252</td>\n",
       "    </tr>\n",
       "    <tr>\n",
       "      <th>std</th>\n",
       "      <td>241.909978</td>\n",
       "      <td>36.148326</td>\n",
       "      <td>7578.261501</td>\n",
       "    </tr>\n",
       "    <tr>\n",
       "      <th>min</th>\n",
       "      <td>0.000000</td>\n",
       "      <td>0.000000</td>\n",
       "      <td>0.000000</td>\n",
       "    </tr>\n",
       "    <tr>\n",
       "      <th>25%</th>\n",
       "      <td>282.000000</td>\n",
       "      <td>9.000000</td>\n",
       "      <td>12505.250000</td>\n",
       "    </tr>\n",
       "    <tr>\n",
       "      <th>50%</th>\n",
       "      <td>443.000000</td>\n",
       "      <td>30.000000</td>\n",
       "      <td>16966.500000</td>\n",
       "    </tr>\n",
       "    <tr>\n",
       "      <th>75%</th>\n",
       "      <td>589.000000</td>\n",
       "      <td>57.000000</td>\n",
       "      <td>21450.000000</td>\n",
       "    </tr>\n",
       "    <tr>\n",
       "      <th>max</th>\n",
       "      <td>1673.000000</td>\n",
       "      <td>224.000000</td>\n",
       "      <td>49789.000000</td>\n",
       "    </tr>\n",
       "  </tbody>\n",
       "</table>\n",
       "</div>"
      ],
      "text/plain": [
       "       длительность звонков(мин)  кол-во смс за месяц  \\\n",
       "count                3214.000000          3214.000000   \n",
       "mean                  451.244866            38.281269   \n",
       "std                   241.909978            36.148326   \n",
       "min                     0.000000             0.000000   \n",
       "25%                   282.000000             9.000000   \n",
       "50%                   443.000000            30.000000   \n",
       "75%                   589.000000            57.000000   \n",
       "max                  1673.000000           224.000000   \n",
       "\n",
       "       израсходованный интернет(мб)  \n",
       "count                   3214.000000  \n",
       "mean                   17227.585252  \n",
       "std                     7578.261501  \n",
       "min                        0.000000  \n",
       "25%                    12505.250000  \n",
       "50%                    16966.500000  \n",
       "75%                    21450.000000  \n",
       "max                    49789.000000  "
      ]
     },
     "execution_count": 58,
     "metadata": {},
     "output_type": "execute_result"
    }
   ],
   "source": [
    "money[['длительность звонков(мин)', 'кол-во смс за месяц', 'израсходованный интернет(мб)']].describe() # всех тарифов"
   ]
  },
  {
   "cell_type": "markdown",
   "metadata": {},
   "source": [
    "* Смотрим, сколько всего пользующих конкретного тарифа:"
   ]
  },
  {
   "cell_type": "code",
   "execution_count": 59,
   "metadata": {},
   "outputs": [
    {
     "data": {
      "text/html": [
       "<div>\n",
       "<style scoped>\n",
       "    .dataframe tbody tr th:only-of-type {\n",
       "        vertical-align: middle;\n",
       "    }\n",
       "\n",
       "    .dataframe tbody tr th {\n",
       "        vertical-align: top;\n",
       "    }\n",
       "\n",
       "    .dataframe thead th {\n",
       "        text-align: right;\n",
       "    }\n",
       "</style>\n",
       "<table border=\"1\" class=\"dataframe\">\n",
       "  <thead>\n",
       "    <tr style=\"text-align: right;\">\n",
       "      <th></th>\n",
       "      <th>tariff_name</th>\n",
       "    </tr>\n",
       "  </thead>\n",
       "  <tbody>\n",
       "    <tr>\n",
       "      <th>smart</th>\n",
       "      <td>2229</td>\n",
       "    </tr>\n",
       "    <tr>\n",
       "      <th>ultra</th>\n",
       "      <td>985</td>\n",
       "    </tr>\n",
       "  </tbody>\n",
       "</table>\n",
       "</div>"
      ],
      "text/plain": [
       "       tariff_name\n",
       "smart         2229\n",
       "ultra          985"
      ]
     },
     "execution_count": 59,
     "metadata": {},
     "output_type": "execute_result"
    }
   ],
   "source": [
    "money['tariff_name'].value_counts().to_frame() # стотрим, сколько всего пользующих конкретного тарифа"
   ]
  },
  {
   "cell_type": "markdown",
   "metadata": {},
   "source": [
    "* Группируем `длительность звонков за месяц по тарифам` методом `groupby()` и считаем их **среднее, медиану, стандартное отклонние** и **дисперсию**:"
   ]
  },
  {
   "cell_type": "code",
   "execution_count": 60,
   "metadata": {},
   "outputs": [
    {
     "data": {
      "text/html": [
       "<div>\n",
       "<style scoped>\n",
       "    .dataframe tbody tr th:only-of-type {\n",
       "        vertical-align: middle;\n",
       "    }\n",
       "\n",
       "    .dataframe tbody tr th {\n",
       "        vertical-align: top;\n",
       "    }\n",
       "\n",
       "    .dataframe thead th {\n",
       "        text-align: right;\n",
       "    }\n",
       "</style>\n",
       "<table border=\"1\" class=\"dataframe\">\n",
       "  <thead>\n",
       "    <tr style=\"text-align: right;\">\n",
       "      <th></th>\n",
       "      <th>mean</th>\n",
       "      <th>median</th>\n",
       "      <th>std</th>\n",
       "      <th>var</th>\n",
       "    </tr>\n",
       "    <tr>\n",
       "      <th>tariff_name</th>\n",
       "      <th></th>\n",
       "      <th></th>\n",
       "      <th></th>\n",
       "      <th></th>\n",
       "    </tr>\n",
       "  </thead>\n",
       "  <tbody>\n",
       "    <tr>\n",
       "      <th>smart</th>\n",
       "      <td>417.934948</td>\n",
       "      <td>422</td>\n",
       "      <td>190.313730</td>\n",
       "      <td>36219.315784</td>\n",
       "    </tr>\n",
       "    <tr>\n",
       "      <th>ultra</th>\n",
       "      <td>526.623350</td>\n",
       "      <td>518</td>\n",
       "      <td>317.606098</td>\n",
       "      <td>100873.633397</td>\n",
       "    </tr>\n",
       "  </tbody>\n",
       "</table>\n",
       "</div>"
      ],
      "text/plain": [
       "                   mean  median         std            var\n",
       "tariff_name                                               \n",
       "smart        417.934948     422  190.313730   36219.315784\n",
       "ultra        526.623350     518  317.606098  100873.633397"
      ]
     },
     "execution_count": 60,
     "metadata": {},
     "output_type": "execute_result"
    }
   ],
   "source": [
    "money_group_calls = money.groupby('tariff_name')['длительность звонков(мин)'].agg(['mean', 'median', 'std', 'var'])\n",
    "money_group_calls"
   ]
  },
  {
   "cell_type": "markdown",
   "metadata": {},
   "source": [
    "* Создаем гистограмму для визуального представления на тариф **smart** `по длительности звонков`. Методом `plot()` с параметром `kind` мы создаем гистограмму (мы их создадим только для этой колонки, так как далее последует более детальная и удобная демонстрация):"
   ]
  },
  {
   "cell_type": "code",
   "execution_count": 61,
   "metadata": {},
   "outputs": [
    {
     "data": {
      "image/png": "[encoded data removed]",
      "text/plain": [
       "<Figure size 576x360 with 1 Axes>"
      ]
     },
     "metadata": {
      "needs_background": "light"
     },
     "output_type": "display_data"
    }
   ],
   "source": [
    "money.loc[money['tariff_name'] == 'smart', 'длительность звонков(мин)'].plot(kind='hist', bins=50, figsize=(8, 5), grid=True, legend=True)\n",
    "plt.title('Тариф smart для длительности звонков(мин)')\n",
    "plt.xlabel('длительность звонков(мин)')\n",
    "plt.ylabel('кол-во');"
   ]
  },
  {
   "cell_type": "markdown",
   "metadata": {},
   "source": [
    "Теперь для тарифа **ultra**"
   ]
  },
  {
   "cell_type": "code",
   "execution_count": 62,
   "metadata": {},
   "outputs": [
    {
     "data": {
      "image/png": "[encoded data removed]",
      "text/plain": [
       "<Figure size 576x360 with 1 Axes>"
      ]
     },
     "metadata": {
      "needs_background": "light"
     },
     "output_type": "display_data"
    }
   ],
   "source": [
    "money.loc[money['tariff_name'] == 'ultra', 'длительность звонков(мин)'].plot(kind='hist', bins=50, figsize=(8, 5), grid=True, legend=True)\n",
    "plt.title('Тариф ultra для длительности звонков(мин)')\n",
    "plt.xlabel('длительность звонков(мин)')\n",
    "plt.ylabel('кол-во');"
   ]
  },
  {
   "cell_type": "markdown",
   "metadata": {},
   "source": [
    "### Сравнительные гистограммы\n",
    "\n",
    "**Для более наглядной визуальной демонстрации создадим срезы по тарифам `smart` и `ultra` и сравним их. Для этого создадим функцию `func_tariffs` с параметрами:**\n",
    "* `column` - колонка для которого будет приниматься и делаться гистограмма;\n",
    "* `bins` - ячейки в гистограмме;\n",
    "* `range1` - границы для столбца column;\n",
    "* `figsize` - размер гистограммы;"
   ]
  },
  {
   "cell_type": "code",
   "execution_count": 63,
   "metadata": {},
   "outputs": [],
   "source": [
    "tariff_smart = money[money['tariff_name'] == 'smart'].reset_index(drop=True) # сохраняем срез и порядок\n",
    "tariff_ultra = money[money['tariff_name'] == 'ultra'].reset_index(drop=True)\n",
    "\n",
    "def func_tariffs(column, bins, figsize, range1):\n",
    "    \n",
    "    ax = tariff_smart.plot(kind='hist', \n",
    "                        y=column, \n",
    "                        histtype='step', \n",
    "                        range=range1, \n",
    "                        bins=bins, \n",
    "                        linewidth=2,\n",
    "                        figsize=figsize,\n",
    "                        alpha=0.5, \n",
    "                        label='по тарифу SMART' + ' ' + column, \n",
    "                        grid=True,\n",
    "                        density = True,\n",
    "                        legend=True)\n",
    "    \n",
    "    tariff_ultra.plot(kind='hist', \n",
    "                                y=column, \n",
    "                                histtype='step', \n",
    "                                range=range1, \n",
    "                                bins=bins, \n",
    "                                linewidth=2,\n",
    "                                figsize=figsize,\n",
    "                                alpha=0.5, \n",
    "                                label= 'по тарифу ULTRA' + ' ' + column,\n",
    "                                ax = ax,        # оси, по которым строится график\n",
    "                                grid=True,\n",
    "                                density = True, # это указывает на результат вычислений функции, \n",
    "                                                # то есть плотность вероятности на одном графике\n",
    "                                legend=True\n",
    "                                )"
   ]
  },
  {
   "cell_type": "code",
   "execution_count": 64,
   "metadata": {},
   "outputs": [
    {
     "data": {
      "image/png": "[encoded data removed]",
      "text/plain": [
       "<Figure size 576x360 with 1 Axes>"
      ]
     },
     "metadata": {
      "needs_background": "light"
     },
     "output_type": "display_data"
    }
   ],
   "source": [
    "func_tariffs('длительность звонков(мин)', bins=30, figsize=(8, 5), range1=(0, 1750))\n",
    "plt.title('Тарифы smart и ultra по длительности звонков(мин)')\n",
    "plt.xlabel('длительность звонков(мин)')\n",
    "plt.ylabel('кол-во');"
   ]
  },
  {
   "cell_type": "markdown",
   "metadata": {},
   "source": [
    "#### Вывод по длительности звонков:\n",
    "\n",
    "Как из группировки, так и по гистограмме видим, что:\n",
    "* **Cреднее** длительности звонков тарифа **smart** `mean` равно около **`418`**, а тарифа **ultra - `527`**;\n",
    "* Из группировки и ее функции видим, что **дисперсия** длительности `var` тарифа **`smart`** равна около **`36219`**, а тарифа **`ultra`** около **`1000873`**;\n",
    "* Также видим, что стандартное отклонение **`std`** тарифа **smart** равно около **190**, а тарифа **ultra** около **317**\n",
    "\n",
    "**ИТОГ**\n",
    "\n",
    "* Людям в тарифе **smart** почти израсходуют свой лимит на включенные минуты, а вот в **ultra** расходуют по своим лимитам весьма скромненько. Весьма спорный момент. Может быть просто доплачивать за минуты в другом тарифе? Будем вести дальше анализ для такого вывода, ведь может, что просто другие тратятся весьма бодро, а пока точно известно, что **в среднем пользователям тарифа смарт требуется в месяц примерно 418 минут, а тем, кто на тарифе ультра 527 минут**. \n",
    "* **Распределение близко к нормальному** для обоих тарифов, то есть чаще всего встречается среднее значение и близкие к нему, а крайние значения встречаются редко\n",
    "* Есть **скошенность вправо** небольшого характера у тарифов (`т.к. их медиана меньше среднего`), также у тарифа **ultra** есть смещение вправо, в область больше мин длительности относительно тарифу **smart**\n",
    "* По правилу **трех стандартных отклонений**, что все значения (`99%`) находятся в промежутке `(mean - 3 * std, mean + 3 * std)` находим: \n",
    "  \n",
    " Тариф **smart** все значения `длительности звонков` находится в промежутке (**0 - 988** мин);\n",
    "  \n",
    " Тариф **ultra** все значения `длительности звонков` находится в промежутке (**0 - 1478** мин)"
   ]
  },
  {
   "cell_type": "markdown",
   "metadata": {},
   "source": [
    "#### Потребляемые смс\n",
    "\n",
    "* Проделаем то же самое и с смс, выстроим функцию вокруг столбца `'кол-во смс за месяц'`:"
   ]
  },
  {
   "cell_type": "code",
   "execution_count": 65,
   "metadata": {},
   "outputs": [
    {
     "data": {
      "text/html": [
       "<div>\n",
       "<style scoped>\n",
       "    .dataframe tbody tr th:only-of-type {\n",
       "        vertical-align: middle;\n",
       "    }\n",
       "\n",
       "    .dataframe tbody tr th {\n",
       "        vertical-align: top;\n",
       "    }\n",
       "\n",
       "    .dataframe thead th {\n",
       "        text-align: right;\n",
       "    }\n",
       "</style>\n",
       "<table border=\"1\" class=\"dataframe\">\n",
       "  <thead>\n",
       "    <tr style=\"text-align: right;\">\n",
       "      <th></th>\n",
       "      <th>mean</th>\n",
       "      <th>median</th>\n",
       "      <th>std</th>\n",
       "      <th>var</th>\n",
       "    </tr>\n",
       "    <tr>\n",
       "      <th>tariff_name</th>\n",
       "      <th></th>\n",
       "      <th></th>\n",
       "      <th></th>\n",
       "      <th></th>\n",
       "    </tr>\n",
       "  </thead>\n",
       "  <tbody>\n",
       "    <tr>\n",
       "      <th>smart</th>\n",
       "      <td>33.384029</td>\n",
       "      <td>28</td>\n",
       "      <td>28.227876</td>\n",
       "      <td>796.812958</td>\n",
       "    </tr>\n",
       "    <tr>\n",
       "      <th>ultra</th>\n",
       "      <td>49.363452</td>\n",
       "      <td>38</td>\n",
       "      <td>47.804457</td>\n",
       "      <td>2285.266143</td>\n",
       "    </tr>\n",
       "  </tbody>\n",
       "</table>\n",
       "</div>"
      ],
      "text/plain": [
       "                  mean  median        std          var\n",
       "tariff_name                                           \n",
       "smart        33.384029      28  28.227876   796.812958\n",
       "ultra        49.363452      38  47.804457  2285.266143"
      ]
     },
     "execution_count": 65,
     "metadata": {},
     "output_type": "execute_result"
    }
   ],
   "source": [
    "money_group_messages = money.groupby('tariff_name')['кол-во смс за месяц'].agg(['mean', 'median', 'std', 'var'])\n",
    "money_group_messages"
   ]
  },
  {
   "cell_type": "code",
   "execution_count": 66,
   "metadata": {},
   "outputs": [
    {
     "data": {
      "text/plain": [
       "count    3214.000000\n",
       "mean       38.281269\n",
       "std        36.148326\n",
       "min         0.000000\n",
       "25%         9.000000\n",
       "50%        30.000000\n",
       "75%        57.000000\n",
       "max       224.000000\n",
       "Name: кол-во смс за месяц, dtype: float64"
      ]
     },
     "execution_count": 66,
     "metadata": {},
     "output_type": "execute_result"
    }
   ],
   "source": [
    "money['кол-во смс за месяц'].describe() # для всех тарифов"
   ]
  },
  {
   "cell_type": "code",
   "execution_count": 67,
   "metadata": {},
   "outputs": [
    {
     "data": {
      "image/png": "[encoded data removed]",
      "text/plain": [
       "<Figure size 720x576 with 1 Axes>"
      ]
     },
     "metadata": {
      "needs_background": "light"
     },
     "output_type": "display_data"
    }
   ],
   "source": [
    "func_tariffs('кол-во смс за месяц', bins=30, figsize=(10, 8), range1=(0, 200))\n",
    "plt.title('Тарифы smart и ultra по кол-во смс')\n",
    "plt.xlabel('кол-во отправленных смс за месяц')\n",
    "plt.ylabel('кол-во');"
   ]
  },
  {
   "cell_type": "code",
   "execution_count": 68,
   "metadata": {},
   "outputs": [
    {
     "data": {
      "text/plain": [
       "307"
      ]
     },
     "execution_count": 68,
     "metadata": {},
     "output_type": "execute_result"
    }
   ],
   "source": [
    "tariff_smart.loc[tariff_smart['кол-во смс за месяц'] == 0, 'кол-во смс за месяц'].count()"
   ]
  },
  {
   "cell_type": "code",
   "execution_count": 69,
   "metadata": {},
   "outputs": [
    {
     "data": {
      "text/plain": [
       "190"
      ]
     },
     "execution_count": 69,
     "metadata": {},
     "output_type": "execute_result"
    }
   ],
   "source": [
    "tariff_ultra.loc[tariff_ultra['кол-во смс за месяц'] == 0, 'кол-во смс за месяц'].count()"
   ]
  },
  {
   "cell_type": "markdown",
   "metadata": {},
   "source": [
    "##### Вывод по кол-во смс\n",
    "\n",
    "* Как мы видим, **среднее** тарифа `смарт` - **34** примерно, а тарифа `ультра` - **49**;\n",
    "* **Дисперсия** тарифа `смарт` равна - **797** примерно, а `ультра` - **2285**;\n",
    "* `Стандартное отклонение` тарифа `смарт` равно около **28**, а `ультры` - **48**\n",
    "\n",
    "**Итог**\n",
    "\n",
    "* Люди не так часто используют смс. Люди практически не отличаются по использованию смс в тарифах. Только вот в ультра чуть более активны в использовании. Очень много людей двух тарифов не используют эту функцию вообще (смс), что мы видим обособление значений вокруг 0\n",
    "* По гистограмме видим, что присутсвтует небольшое смещение вправо для двух тарифов, но для тарифа **ultra** она более скошена по сравнению с тарифом **smart**, так как его область кол-ва сообщений больше. Небольшое **скошенность вправо** обуславливается меньшей медианой по сравнению со средним\n",
    "* Распределение более склонно к **распределению Пуассона** (число событий в единицу времени, если они в среднем происходят с измеренной частотой)\n",
    "* По правилу **трех стандартных отклонений**, что все значения (`99%`) находятся в промежутке `(mean - 3 * std, mean + 3 * std)` находим: \n",
    "    \n",
    "    Тариф **smart** все значения `количества смс` находится в промежутке (**0 - 118** смс);\n",
    "  \n",
    "    Тариф **ultra** все значения `количества смс` находится в промежутке (**0 - 193** смс)"
   ]
  },
  {
   "cell_type": "markdown",
   "metadata": {},
   "source": [
    "#### Объем интернет-трафика потребляемый в месяц\n",
    "\n",
    "Группируем теперь `'израсходованный интернет(мб)'` по тарифам и все также считаем их **среднее, медиану, стандартное отклонние** и **дисперсию**:"
   ]
  },
  {
   "cell_type": "code",
   "execution_count": 70,
   "metadata": {},
   "outputs": [
    {
     "data": {
      "text/html": [
       "<div>\n",
       "<style scoped>\n",
       "    .dataframe tbody tr th:only-of-type {\n",
       "        vertical-align: middle;\n",
       "    }\n",
       "\n",
       "    .dataframe tbody tr th {\n",
       "        vertical-align: top;\n",
       "    }\n",
       "\n",
       "    .dataframe thead th {\n",
       "        text-align: right;\n",
       "    }\n",
       "</style>\n",
       "<table border=\"1\" class=\"dataframe\">\n",
       "  <thead>\n",
       "    <tr style=\"text-align: right;\">\n",
       "      <th></th>\n",
       "      <th>mean</th>\n",
       "      <th>median</th>\n",
       "      <th>var</th>\n",
       "      <th>std</th>\n",
       "    </tr>\n",
       "    <tr>\n",
       "      <th>tariff_name</th>\n",
       "      <th></th>\n",
       "      <th></th>\n",
       "      <th></th>\n",
       "      <th></th>\n",
       "    </tr>\n",
       "  </thead>\n",
       "  <tbody>\n",
       "    <tr>\n",
       "      <th>smart</th>\n",
       "      <td>16229.188425</td>\n",
       "      <td>16531</td>\n",
       "      <td>3.454591e+07</td>\n",
       "      <td>5877.576978</td>\n",
       "    </tr>\n",
       "    <tr>\n",
       "      <th>ultra</th>\n",
       "      <td>19486.901523</td>\n",
       "      <td>19324</td>\n",
       "      <td>1.019356e+08</td>\n",
       "      <td>10096.317202</td>\n",
       "    </tr>\n",
       "  </tbody>\n",
       "</table>\n",
       "</div>"
      ],
      "text/plain": [
       "                     mean  median           var           std\n",
       "tariff_name                                                  \n",
       "smart        16229.188425   16531  3.454591e+07   5877.576978\n",
       "ultra        19486.901523   19324  1.019356e+08  10096.317202"
      ]
     },
     "execution_count": 70,
     "metadata": {},
     "output_type": "execute_result"
    }
   ],
   "source": [
    "money_group_internet = money.groupby('tariff_name')['израсходованный интернет(мб)'].agg(['mean', 'median', 'var', 'std'])\n",
    "money_group_internet"
   ]
  },
  {
   "cell_type": "code",
   "execution_count": 71,
   "metadata": {},
   "outputs": [
    {
     "name": "stdout",
     "output_type": "stream",
     "text": [
      "Число пользователей с превышением лимита своего интернет-трафик тарифа \"Ультра\": 134\n",
      "Число пользоветелей с превышением лимита своего интернет-трафик тарифа \"Смарт\": 1309\n"
     ]
    }
   ],
   "source": [
    "ultra1 = tariff_ultra.loc[tariff_ultra['израсходованный интернет(мб)'] > 30760, 'user_id'].count()\n",
    "smart1 = tariff_smart.loc[tariff_smart['израсходованный интернет(мб)'] > 15360, 'user_id'].count()\n",
    "print(f'Число пользователей с превышением лимита своего интернет-трафик тарифа \"Ультра\": {ultra1}')\n",
    "print(f'Число пользоветелей с превышением лимита своего интернет-трафик тарифа \"Смарт\": {smart1}')"
   ]
  },
  {
   "cell_type": "code",
   "execution_count": 72,
   "metadata": {},
   "outputs": [
    {
     "data": {
      "image/png": "[encoded data removed]",
      "text/plain": [
       "<Figure size 792x504 with 1 Axes>"
      ]
     },
     "metadata": {
      "needs_background": "light"
     },
     "output_type": "display_data"
    }
   ],
   "source": [
    "func_tariffs('израсходованный интернет(мб)', bins=40, figsize=(11, 7), range1=(0, 50000))\n",
    "plt.title('Тарифы smart и ultra по использованию интернет-трафика (мб) в месяц')\n",
    "plt.xlabel('кол-во использованных мб за месяц')\n",
    "plt.ylabel('кол-во');"
   ]
  },
  {
   "cell_type": "markdown",
   "metadata": {},
   "source": [
    "##### Вывод по интернет-трафику\n",
    "\n",
    "* Как мы видим, **среднее** использованных мб в месяц тарифа `смарт` - **16230** примерно, а тарифа `ультра` - около **19487**;\n",
    "* **Дисперсия** тарифа `смарт` равна - **34545910** примерно, а `ультра` - **101935600**;\n",
    "* `Стандартное отклонение` тарифа `смарт` равно около **5877.57**, а `ультры` - **10096.31**\n",
    "\n",
    "**Итог**\n",
    "\n",
    "* Люди тарифа **smart** зачастую превышают свой лимит в `15 Гб`. Люди тарифа **ultra** тоже этим не пренебрегают. Присутстсует смещение вправо тарифа **ultra** относительно тарифа **smart**, так как там больше область трафика.\n",
    "* **Распредление** близко к **нормальному**\n",
    "* По правилу **трех стандартных отклонений**, что все значения (`99%`) находятся в промежутке `(mean - 3 * std, mean + 3 * std)` находим: \n",
    "    \n",
    "    Тариф **smart** все значения `потребляемых мб в месяц` находится в промежутке (**0 - 33863** мб);\n",
    "  \n",
    "    Тариф **ultra** все значения `потребляемых мб в месяц` находится в промежутке (**0 - 49776** мб)"
   ]
  },
  {
   "cell_type": "markdown",
   "metadata": {},
   "source": [
    "## Проверка гипотез\n",
    "\n",
    "**Нужно проверить**:\n",
    "* **№1: Средняя выручка** пользователей тарифов **«Ультра»** и **«Смарт» различаются**;\n",
    "* **№2: Средняя выручка** пользователей из **Москвы** отличается **от** выручки пользователей из **других регионов**\n",
    "\n",
    "Сначала взглянем на среднюю суммарную стоимость за месяц двух тарифов:"
   ]
  },
  {
   "cell_type": "code",
   "execution_count": 73,
   "metadata": {},
   "outputs": [
    {
     "data": {
      "text/html": [
       "<div>\n",
       "<style scoped>\n",
       "    .dataframe tbody tr th:only-of-type {\n",
       "        vertical-align: middle;\n",
       "    }\n",
       "\n",
       "    .dataframe tbody tr th {\n",
       "        vertical-align: top;\n",
       "    }\n",
       "\n",
       "    .dataframe thead th {\n",
       "        text-align: right;\n",
       "    }\n",
       "</style>\n",
       "<table border=\"1\" class=\"dataframe\">\n",
       "  <thead>\n",
       "    <tr style=\"text-align: right;\">\n",
       "      <th></th>\n",
       "      <th>mean</th>\n",
       "    </tr>\n",
       "    <tr>\n",
       "      <th>tariff_name</th>\n",
       "      <th></th>\n",
       "    </tr>\n",
       "  </thead>\n",
       "  <tbody>\n",
       "    <tr>\n",
       "      <th>smart</th>\n",
       "      <td>1294.63930</td>\n",
       "    </tr>\n",
       "    <tr>\n",
       "      <th>ultra</th>\n",
       "      <td>2071.06599</td>\n",
       "    </tr>\n",
       "  </tbody>\n",
       "</table>\n",
       "</div>"
      ],
      "text/plain": [
       "                   mean\n",
       "tariff_name            \n",
       "smart        1294.63930\n",
       "ultra        2071.06599"
      ]
     },
     "execution_count": 73,
     "metadata": {},
     "output_type": "execute_result"
    }
   ],
   "source": [
    "#money.loc[money['tariff_name'] == 'ultra', 'суммарная стоимость за месяц'].mean()\n",
    "#money.loc[money['tariff_name'] == 'smart', 'суммарная стоимость за месяц'].mean()\n",
    "average_proceed = money.groupby('tariff_name')['суммарная стоимость за месяц'].agg(['mean'])\n",
    "average_proceed"
   ]
  },
  {
   "cell_type": "markdown",
   "metadata": {},
   "source": [
    "Зафиксировали их. Теперь перед проверкой гипотез нужно избавиться от выбросов, они могут влиять на гипотезы, а точнее на `t-распределения`. Например, методом **3-х сигм** можем их обнаружить, который мы уже проделывали ранее для нужных нам значений "
   ]
  },
  {
   "cell_type": "code",
   "execution_count": 74,
   "metadata": {},
   "outputs": [
    {
     "data": {
      "text/html": [
       "<div>\n",
       "<style scoped>\n",
       "    .dataframe tbody tr th:only-of-type {\n",
       "        vertical-align: middle;\n",
       "    }\n",
       "\n",
       "    .dataframe tbody tr th {\n",
       "        vertical-align: top;\n",
       "    }\n",
       "\n",
       "    .dataframe thead th {\n",
       "        text-align: right;\n",
       "    }\n",
       "</style>\n",
       "<table border=\"1\" class=\"dataframe\">\n",
       "  <thead>\n",
       "    <tr style=\"text-align: right;\">\n",
       "      <th></th>\n",
       "      <th>mean</th>\n",
       "      <th>median</th>\n",
       "      <th>std</th>\n",
       "      <th>var</th>\n",
       "    </tr>\n",
       "    <tr>\n",
       "      <th>tariff_name</th>\n",
       "      <th></th>\n",
       "      <th></th>\n",
       "      <th></th>\n",
       "      <th></th>\n",
       "    </tr>\n",
       "  </thead>\n",
       "  <tbody>\n",
       "    <tr>\n",
       "      <th>smart</th>\n",
       "      <td>1294.63930</td>\n",
       "      <td>1038</td>\n",
       "      <td>820.933202</td>\n",
       "      <td>673931.321363</td>\n",
       "    </tr>\n",
       "    <tr>\n",
       "      <th>ultra</th>\n",
       "      <td>2071.06599</td>\n",
       "      <td>1950</td>\n",
       "      <td>378.802377</td>\n",
       "      <td>143491.240560</td>\n",
       "    </tr>\n",
       "  </tbody>\n",
       "</table>\n",
       "</div>"
      ],
      "text/plain": [
       "                   mean  median         std            var\n",
       "tariff_name                                               \n",
       "smart        1294.63930    1038  820.933202  673931.321363\n",
       "ultra        2071.06599    1950  378.802377  143491.240560"
      ]
     },
     "execution_count": 74,
     "metadata": {},
     "output_type": "execute_result"
    }
   ],
   "source": [
    "money.groupby('tariff_name')['суммарная стоимость за месяц'].agg(['mean', 'median', 'std', 'var'])"
   ]
  },
  {
   "cell_type": "code",
   "execution_count": 75,
   "metadata": {},
   "outputs": [
    {
     "name": "stdout",
     "output_type": "stream",
     "text": [
      "99% значений тарифа \"smart\" находится до: 3757.42\n",
      "99% значений тарифа \"ultra\" находится до: 3207.46\n"
     ]
    }
   ],
   "source": [
    "print(f'99% значений тарифа \"smart\" находится до: {1294.63 + 3 * 820.93}')\n",
    "print(f'99% значений тарифа \"ultra\" находится до: {2071.06 + 3 * 378.80}')"
   ]
  },
  {
   "cell_type": "markdown",
   "metadata": {},
   "source": [
    "* Тариф **smart** краевые значения `стоимости за месяц` находятся до **3757** руб;\n",
    "* Тариф **ultra** краевые значения `стоимости за месяц` находится до **3207** руб\n",
    "\n",
    "Смотрим на **диаграмму размаха** визуально:"
   ]
  },
  {
   "cell_type": "code",
   "execution_count": 76,
   "metadata": {},
   "outputs": [
    {
     "data": {
      "text/plain": [
       "count    2229.000000\n",
       "mean     1294.639300\n",
       "std       820.933202\n",
       "min       550.000000\n",
       "25%       550.000000\n",
       "50%      1038.000000\n",
       "75%      1750.000000\n",
       "max      6770.000000\n",
       "Name: суммарная стоимость за месяц, dtype: float64"
      ]
     },
     "execution_count": 76,
     "metadata": {},
     "output_type": "execute_result"
    }
   ],
   "source": [
    "tariff_smart['суммарная стоимость за месяц'].describe()"
   ]
  },
  {
   "cell_type": "code",
   "execution_count": 77,
   "metadata": {},
   "outputs": [
    {
     "data": {
      "image/png": "[encoded data removed]",
      "text/plain": [
       "<Figure size 432x288 with 1 Axes>"
      ]
     },
     "metadata": {
      "needs_background": "light"
     },
     "output_type": "display_data"
    }
   ],
   "source": [
    "tariff_smart.boxplot('суммарная стоимость за месяц')\n",
    "plt.title('Суммарная стоимость за месяц тарифа smart');"
   ]
  },
  {
   "cell_type": "markdown",
   "metadata": {},
   "source": [
    "Наблюдаем, что **межквартильный размах** от `550 до 1750` руб. Тут мы видим, что крайняя точка `2 квартиля` равна около **3750**. Далее считаются выбросами. \n",
    "\n",
    "Далее смотрим на \"ящик с усами\" для тарифа **ultra:**"
   ]
  },
  {
   "cell_type": "code",
   "execution_count": 78,
   "metadata": {},
   "outputs": [
    {
     "data": {
      "text/plain": [
       "count     985.000000\n",
       "mean     2071.065990\n",
       "std       378.802377\n",
       "min      1950.000000\n",
       "25%      1950.000000\n",
       "50%      1950.000000\n",
       "75%      1950.000000\n",
       "max      4800.000000\n",
       "Name: суммарная стоимость за месяц, dtype: float64"
      ]
     },
     "execution_count": 78,
     "metadata": {},
     "output_type": "execute_result"
    }
   ],
   "source": [
    "tariff_ultra['суммарная стоимость за месяц'].describe()"
   ]
  },
  {
   "cell_type": "code",
   "execution_count": 79,
   "metadata": {},
   "outputs": [
    {
     "data": {
      "image/png": "[encoded data removed]",
      "text/plain": [
       "<Figure size 432x288 with 1 Axes>"
      ]
     },
     "metadata": {
      "needs_background": "light"
     },
     "output_type": "display_data"
    }
   ],
   "source": [
    "tariff_ultra.boxplot('суммарная стоимость за месяц')\n",
    "plt.title('Суммарная стоимость за месяц тарифа ultra')\n",
    "plt.show();"
   ]
  },
  {
   "cell_type": "markdown",
   "metadata": {},
   "source": [
    "Она более невнятная. Видим, что среднее недалеко ушло от тарифного плана по стоимости за месяц. \n",
    "\n",
    "Построим гистограмму по уже проделанной функции для выручки за месяц тарифов:"
   ]
  },
  {
   "cell_type": "code",
   "execution_count": 80,
   "metadata": {},
   "outputs": [
    {
     "data": {
      "image/png": "[encoded data removed]",
      "text/plain": [
       "<Figure size 792x504 with 1 Axes>"
      ]
     },
     "metadata": {
      "needs_background": "light"
     },
     "output_type": "display_data"
    }
   ],
   "source": [
    "func_tariffs('суммарная стоимость за месяц', bins=40, figsize=(11, 7), range1=(0, 5000))"
   ]
  },
  {
   "cell_type": "markdown",
   "metadata": {},
   "source": [
    "Хм, пользователи **smart** немного превышают свои лимиты и соотвественно переплачивают. Подробнее в общем выводе напишу об этом"
   ]
  },
  {
   "cell_type": "markdown",
   "metadata": {},
   "source": [
    "### Формулировка нулевой и альтернативной гипотезы №1\n",
    "\n",
    "По правилу **3-х сигм** нашли значение для тарифа **ultra**. Теперь создадим срезы без выбросов для двух тарифов и составим нулевую гипотезу и альтернативную, которые гласят:\n",
    "* **Н0**: средняя выручка пользователей тарифов «Ультра» и «Смарт» `не различаются`\n",
    "* **Н1**: средняя выручка пользователей тарифов «Ультра» и «Смарт» `различаются`\n",
    "\n",
    "После сохранения срезов без выбросов, мы группируем по пользователям суммарную стоимость и **считаем среднюю выручку**:"
   ]
  },
  {
   "cell_type": "code",
   "execution_count": 81,
   "metadata": {},
   "outputs": [],
   "source": [
    "no_emissions_smart = money.loc[(money['tariff_name'] == 'smart')&(money['суммарная стоимость за месяц'] <= 3757), 'суммарная стоимость за месяц'].reset_index(drop=True)\n",
    "no_emissions_ultra = money.loc[(money['tariff_name'] == 'ultra')&(money['суммарная стоимость за месяц'] <= 3207), 'суммарная стоимость за месяц'].reset_index(drop=True)\n",
    "#new_no_emissions_smart = no_emissions_smart.groupby('user_id')['суммарная стоимость за месяц'].mean()\n",
    "#new_no_emissions_ultra = no_emissions_ultra.groupby('user_id')['суммарная стоимость за месяц'].mean()"
   ]
  },
  {
   "cell_type": "code",
   "execution_count": 82,
   "metadata": {},
   "outputs": [
    {
     "name": "stdout",
     "output_type": "stream",
     "text": [
      "p-значение: 1.5720686229620526e-181\n",
      "Отвергаем нулевую гипотезу\n"
     ]
    }
   ],
   "source": [
    "alpha = .05 # критический уровень статистической значимости\n",
    "\n",
    "results = st.ttest_ind(      # мы используем для проверки гипотезы о равенстве среднего двух генеральных \n",
    "                            # совокупностей по взятым из них выборкам st.ttest_ind(array1, array2)\n",
    "            #Тут выборочные средние нормально распределены (это работает даже если генеральная не распределена нормально). \n",
    "    no_emissions_smart,\n",
    "    no_emissions_ultra,\n",
    "    )         # указываем дисперсию по умолчанию\n",
    "\n",
    "print('p-значение:', results.pvalue)\n",
    "\n",
    "if results.pvalue < alpha:\n",
    "    print('Отвергаем нулевую гипотезу')\n",
    "else:\n",
    "    print('Не получилось отвергнуть нулевую гипотезу')"
   ]
  },
  {
   "cell_type": "markdown",
   "metadata": {},
   "source": [
    "#### Вывод по №1\n",
    "\n",
    "Все-таки **различаются**. Мы это видим по всем нашим проделанным действиям. Эти различия отличишь `\"невооруженным взглядом\"`.\n",
    "\n",
    "###  Формулировка нулевой и альтернативной гипотезы №2 \n",
    "\n",
    "* **Н0: Средняя выручка** пользователей **из Москвы не отличается** от выручки пользователей из **других регионов**\n",
    "* **Н1: Средняя выручка** пользователей **из Москвы отличается** от выручки пользователей из других регионов\n",
    "\n",
    "Сначала **создадим срез** пользователей **из Москвы**, который поместим в переменную **`moscow`**, а других отметим как **другие регионы `another`**(т.к. для выполнения нам не требуется ничего более):"
   ]
  },
  {
   "cell_type": "code",
   "execution_count": 83,
   "metadata": {},
   "outputs": [
    {
     "data": {
      "text/html": [
       "<div>\n",
       "<style scoped>\n",
       "    .dataframe tbody tr th:only-of-type {\n",
       "        vertical-align: middle;\n",
       "    }\n",
       "\n",
       "    .dataframe tbody tr th {\n",
       "        vertical-align: top;\n",
       "    }\n",
       "\n",
       "    .dataframe thead th {\n",
       "        text-align: right;\n",
       "    }\n",
       "</style>\n",
       "<table border=\"1\" class=\"dataframe\">\n",
       "  <thead>\n",
       "    <tr style=\"text-align: right;\">\n",
       "      <th></th>\n",
       "      <th>city</th>\n",
       "    </tr>\n",
       "  </thead>\n",
       "  <tbody>\n",
       "    <tr>\n",
       "      <th>Москва</th>\n",
       "      <td>611</td>\n",
       "    </tr>\n",
       "    <tr>\n",
       "      <th>Санкт-Петербург</th>\n",
       "      <td>270</td>\n",
       "    </tr>\n",
       "    <tr>\n",
       "      <th>Новосибирск</th>\n",
       "      <td>98</td>\n",
       "    </tr>\n",
       "    <tr>\n",
       "      <th>Уфа</th>\n",
       "      <td>95</td>\n",
       "    </tr>\n",
       "    <tr>\n",
       "      <th>Краснодар</th>\n",
       "      <td>86</td>\n",
       "    </tr>\n",
       "    <tr>\n",
       "      <th>...</th>\n",
       "      <td>...</td>\n",
       "    </tr>\n",
       "    <tr>\n",
       "      <th>Сургут</th>\n",
       "      <td>6</td>\n",
       "    </tr>\n",
       "    <tr>\n",
       "      <th>Нижневартовск</th>\n",
       "      <td>6</td>\n",
       "    </tr>\n",
       "    <tr>\n",
       "      <th>Кемерово</th>\n",
       "      <td>5</td>\n",
       "    </tr>\n",
       "    <tr>\n",
       "      <th>Химки</th>\n",
       "      <td>5</td>\n",
       "    </tr>\n",
       "    <tr>\n",
       "      <th>Иваново</th>\n",
       "      <td>2</td>\n",
       "    </tr>\n",
       "  </tbody>\n",
       "</table>\n",
       "<p>76 rows × 1 columns</p>\n",
       "</div>"
      ],
      "text/plain": [
       "                 city\n",
       "Москва            611\n",
       "Санкт-Петербург   270\n",
       "Новосибирск        98\n",
       "Уфа                95\n",
       "Краснодар          86\n",
       "...               ...\n",
       "Сургут              6\n",
       "Нижневартовск       6\n",
       "Кемерово            5\n",
       "Химки               5\n",
       "Иваново             2\n",
       "\n",
       "[76 rows x 1 columns]"
      ]
     },
     "execution_count": 83,
     "metadata": {},
     "output_type": "execute_result"
    }
   ],
   "source": [
    "money['city'].value_counts().to_frame()"
   ]
  },
  {
   "cell_type": "code",
   "execution_count": 84,
   "metadata": {},
   "outputs": [],
   "source": [
    "moscow = money[money['city'] == 'Москва']\n",
    "another = money[money['city'] != 'Москва']\n",
    "#moscow['city'].value_counts().to_frame()"
   ]
  },
  {
   "cell_type": "code",
   "execution_count": 85,
   "metadata": {},
   "outputs": [
    {
     "data": {
      "image/png": "[encoded data removed]",
      "text/plain": [
       "<Figure size 432x288 with 1 Axes>"
      ]
     },
     "metadata": {
      "needs_background": "light"
     },
     "output_type": "display_data"
    }
   ],
   "source": [
    "#no_emissions_ultra['city'].value_counts().to_frame()\n",
    "moscow.boxplot('суммарная стоимость за месяц')\n",
    "plt.title('Стоимость суммарная за месяц для Москвы');"
   ]
  },
  {
   "cell_type": "code",
   "execution_count": 86,
   "metadata": {},
   "outputs": [
    {
     "name": "stdout",
     "output_type": "stream",
     "text": [
      "для Москвы 99% значений находятся до: 3808.1500000000005\n",
      "для других региново 99% значений находятся до: 3959.54\n"
     ]
    }
   ],
   "source": [
    "print(f'для Москвы 99% значений находятся до: {1550.80 + 3 * 752.45}')\n",
    "print(f'для других региново 99% значений находятся до: {1528.31 + 3 * 810.41}')"
   ]
  },
  {
   "cell_type": "markdown",
   "metadata": {},
   "source": [
    "Так же, как и ранее перед проверкой гипотез нужно избавиться от выбросов, они могут влиять на гипотезы. Наблюдаем, что **межквартильный размах** от `733 до 1950` руб. Тут мы видим, что крайняя точка `2 квартиля` равна около **3800**. По правилу **3-х сигм** считаем и получаем значения: для Москвы `moscow` около **до 3808**, для других регионов `another` примерно **до 3960**. Далее считаются выбросами\n",
    "\n",
    "* Создаем срезы с переменными `no_emissions_moscow` и `no_emissions_another`:"
   ]
  },
  {
   "cell_type": "code",
   "execution_count": 87,
   "metadata": {},
   "outputs": [
    {
     "data": {
      "text/plain": [
       "count     611.000000\n",
       "mean     1550.805237\n",
       "std       752.451347\n",
       "min       550.000000\n",
       "25%       798.000000\n",
       "50%      1750.000000\n",
       "75%      1950.000000\n",
       "max      5321.000000\n",
       "Name: суммарная стоимость за месяц, dtype: float64"
      ]
     },
     "execution_count": 87,
     "metadata": {},
     "output_type": "execute_result"
    }
   ],
   "source": [
    "moscow['суммарная стоимость за месяц'].describe()"
   ]
  },
  {
   "cell_type": "code",
   "execution_count": 88,
   "metadata": {},
   "outputs": [
    {
     "data": {
      "text/plain": [
       "count    2603.000000\n",
       "mean     1528.316942\n",
       "std       810.411374\n",
       "min       550.000000\n",
       "25%       750.000000\n",
       "50%      1587.000000\n",
       "75%      1950.000000\n",
       "max      6770.000000\n",
       "Name: суммарная стоимость за месяц, dtype: float64"
      ]
     },
     "execution_count": 88,
     "metadata": {},
     "output_type": "execute_result"
    }
   ],
   "source": [
    "another['суммарная стоимость за месяц'].describe()"
   ]
  },
  {
   "cell_type": "code",
   "execution_count": 89,
   "metadata": {},
   "outputs": [],
   "source": [
    "no_emissions_moscow = moscow.loc[moscow['суммарная стоимость за месяц'] <= 3808, 'суммарная стоимость за месяц'].reset_index(drop=True)\n",
    "no_emissions_another = another.loc[another['суммарная стоимость за месяц'] <= 3959.5, 'суммарная стоимость за месяц'].reset_index(drop=True)\n",
    "#no_emissions_another['суммарная стоимость за месяц'].describe()\n",
    "#no_emissions_moscow['суммарная стоимость за месяц'].describe()"
   ]
  },
  {
   "cell_type": "markdown",
   "metadata": {},
   "source": [
    "По аналогии с предыдущей гипотезой, создаем срезы **средней выручки** пользователей для **Москвы** `no_emissions_moscow_mean` и соответственно для **других регионов `no_emissions_another_mean`** и проверяем гипотезы:"
   ]
  },
  {
   "cell_type": "code",
   "execution_count": 90,
   "metadata": {},
   "outputs": [
    {
     "name": "stdout",
     "output_type": "stream",
     "text": [
      "p-значение: 0.37205860390959233\n",
      "Не получилось отвергнуть нулевую гипотезу\n"
     ]
    }
   ],
   "source": [
    "alpha = .05\n",
    "results = st.ttest_ind(     \n",
    "    no_emissions_moscow,\n",
    "    no_emissions_another,\n",
    "    )         # указываем дисперсию выборок разными \n",
    "\n",
    "print('p-значение:', results.pvalue)\n",
    "\n",
    "if results.pvalue < alpha:\n",
    "    print('Отвергаем нулевую гипотезу')\n",
    "else:\n",
    "    print('Не получилось отвергнуть нулевую гипотезу')"
   ]
  },
  {
   "cell_type": "markdown",
   "metadata": {},
   "source": [
    "#### Вывод по №2\n",
    "\n",
    "Результат наших действий показал, что **`не получилось отвергнуть нулевую гипотезу`**. **Вероятность случайно получить** такое или большее различие равно почти **`37%`**. Это слишком большая вероятность, чтобы делать вывод о каком-то значимом различии между средней выручки пользователей Москвы и других регионов.\n",
    "\n",
    "## Общий вывод\n",
    "\n",
    "* Мы разобрали данные по выборке пользователей компании 'Мегалайн';\n",
    "* Преобразовали к нужным типам данные, разобрали пустые значения и заполнили их с разъяснениями(помимо которых были в анотации к проекту `churn_date`);\n",
    "* Сделали новые колонки, где рассчитаны для каждого пользователя: **`'кол-во звонков'`, `'длительность звонков(мин)'`, `'кол-во смс за месяц'`, `'израсходованный интернет(мб)'`**, а также подсчитали суммарную стоимость за месяц для каждого отдельного клиента тарифа и назвали соотвествующим образом **`суммарная стоимость за месяц`**;\n",
    "* Привели в порядок данные, путем объединения данных методом `merge()`. Также округлили значения в колонках  `'длительность звонков(мин)'` и `'израсходованный интернет(мб)'` для правильного расчета и более удобной визуальной демонстрации, как идет расчет по тарифу;\n",
    "* Проделали статистический анализ, по которому рассчитали для созданных колонок `дисперсию (var)`, `стандартное отклонение(std)`. Также выявили **среднее и медианы**, благодаря которым были описаны **распределения**;\n",
    "* По **гистограмме** внедренную в нашу функцию для подсчета стоимости **разобрали**, что пользователи тарифа **smart** часто `заходят за лимиты` и `переплачивают` свыше абонентской платы. А вот пользователи тарифа **ultra** **укладываются** в свой лимит. Может быть стоит поднять планку лимитов для тарифа **smart**, чтобы людям было комфортнее и не было перехода на другой;\n",
    "* Если брать кол-во пользователей по двум тарифам и умножить на среднюю выручку, то окажется что тариф **smart** приносит `больше` денег, чем тариф **ultra** в месяц. Все, предполагаю, из-за переплат и большего кол-во пользователей;\n",
    "* Были выдвинуты гипотезы, которые мы разобрали:\n",
    "   \n",
    "   **№1:** **Средняя выручка** пользователей тарифов «Ультра» и «Смарт» **различаются - это оказолось правдой**. Нами были выдвинуты `нулевая` и `альтернативная гипотеза`, вследствии которой мы пришли к данному выводу;\n",
    "   \n",
    "   **№2:** **Средняя выручка** пользователей из **Москвы отличается** от выручки пользователей из **других регионов - это оказалость не так**. Более того, они почти равны"
   ]
  }
 ],
 "metadata": {
  "ExecuteTimeLog": [
   {
    "duration": 1079,
    "start_time": "2022-06-21T18:02:43.554Z"
   },
   {
    "duration": 425,
    "start_time": "2022-06-21T18:02:44.636Z"
   },
   {
    "duration": 14,
    "start_time": "2022-06-21T18:02:45.062Z"
   },
   {
    "duration": 37,
    "start_time": "2022-06-21T18:02:45.078Z"
   },
   {
    "duration": 25,
    "start_time": "2022-06-21T18:02:45.117Z"
   },
   {
    "duration": 8,
    "start_time": "2022-06-21T18:02:45.144Z"
   },
   {
    "duration": 25,
    "start_time": "2022-06-21T18:02:45.153Z"
   },
   {
    "duration": 29,
    "start_time": "2022-06-21T18:02:45.179Z"
   },
   {
    "duration": 19,
    "start_time": "2022-06-21T18:02:45.225Z"
   },
   {
    "duration": 11,
    "start_time": "2022-06-21T18:02:45.246Z"
   },
   {
    "duration": 19,
    "start_time": "2022-06-21T18:02:45.259Z"
   },
   {
    "duration": 16,
    "start_time": "2022-06-21T18:02:45.280Z"
   },
   {
    "duration": 35,
    "start_time": "2022-06-21T18:02:45.297Z"
   },
   {
    "duration": 9,
    "start_time": "2022-06-21T18:02:45.334Z"
   },
   {
    "duration": 27,
    "start_time": "2022-06-21T18:02:45.344Z"
   },
   {
    "duration": 31,
    "start_time": "2022-06-21T18:02:45.373Z"
   },
   {
    "duration": 15,
    "start_time": "2022-06-21T18:02:45.406Z"
   },
   {
    "duration": 53,
    "start_time": "2022-06-21T18:02:45.422Z"
   },
   {
    "duration": 82,
    "start_time": "2022-06-21T18:02:45.477Z"
   },
   {
    "duration": 6,
    "start_time": "2022-06-21T18:02:45.560Z"
   },
   {
    "duration": 65,
    "start_time": "2022-06-21T18:02:45.568Z"
   },
   {
    "duration": 8,
    "start_time": "2022-06-21T18:02:45.635Z"
   },
   {
    "duration": 50,
    "start_time": "2022-06-21T18:02:45.645Z"
   },
   {
    "duration": 75,
    "start_time": "2022-06-21T18:02:45.696Z"
   },
   {
    "duration": 7,
    "start_time": "2022-06-21T18:02:45.772Z"
   },
   {
    "duration": 11,
    "start_time": "2022-06-21T18:02:45.781Z"
   },
   {
    "duration": 33,
    "start_time": "2022-06-21T18:02:45.794Z"
   },
   {
    "duration": 8,
    "start_time": "2022-06-21T18:02:45.831Z"
   },
   {
    "duration": 36,
    "start_time": "2022-06-21T18:02:45.840Z"
   },
   {
    "duration": 12,
    "start_time": "2022-06-21T18:02:45.878Z"
   },
   {
    "duration": 37,
    "start_time": "2022-06-21T18:02:45.892Z"
   },
   {
    "duration": 21,
    "start_time": "2022-06-21T18:02:45.930Z"
   },
   {
    "duration": 9,
    "start_time": "2022-06-21T18:02:45.953Z"
   },
   {
    "duration": 23,
    "start_time": "2022-06-21T18:02:45.964Z"
   },
   {
    "duration": 18,
    "start_time": "2022-06-21T18:02:45.989Z"
   },
   {
    "duration": 7,
    "start_time": "2022-06-21T18:02:46.009Z"
   },
   {
    "duration": 12,
    "start_time": "2022-06-21T18:02:46.017Z"
   },
   {
    "duration": 14,
    "start_time": "2022-06-21T18:02:46.030Z"
   },
   {
    "duration": 13,
    "start_time": "2022-06-21T18:02:46.045Z"
   },
   {
    "duration": 17,
    "start_time": "2022-06-21T18:02:46.059Z"
   },
   {
    "duration": 35,
    "start_time": "2022-06-21T18:02:46.077Z"
   },
   {
    "duration": 63,
    "start_time": "2022-06-21T18:02:46.114Z"
   },
   {
    "duration": 2,
    "start_time": "2022-06-21T18:02:46.179Z"
   },
   {
    "duration": 14,
    "start_time": "2022-06-21T18:02:46.182Z"
   },
   {
    "duration": 48,
    "start_time": "2022-06-21T18:02:46.197Z"
   },
   {
    "duration": 7,
    "start_time": "2022-06-21T18:02:46.247Z"
   },
   {
    "duration": 47,
    "start_time": "2022-06-21T18:02:46.255Z"
   },
   {
    "duration": 32,
    "start_time": "2022-06-21T18:02:46.304Z"
   },
   {
    "duration": 14,
    "start_time": "2022-06-21T18:02:46.337Z"
   },
   {
    "duration": 16,
    "start_time": "2022-06-21T18:02:46.353Z"
   },
   {
    "duration": 18,
    "start_time": "2022-06-21T18:02:46.371Z"
   },
   {
    "duration": 36,
    "start_time": "2022-06-21T18:02:46.391Z"
   },
   {
    "duration": 11,
    "start_time": "2022-06-21T18:02:46.428Z"
   },
   {
    "duration": 37,
    "start_time": "2022-06-21T18:02:46.440Z"
   },
   {
    "duration": 127,
    "start_time": "2022-06-21T18:02:46.479Z"
   },
   {
    "duration": 2,
    "start_time": "2022-06-21T18:02:46.608Z"
   },
   {
    "duration": 1188,
    "start_time": "2022-06-21T18:13:06.900Z"
   },
   {
    "duration": 439,
    "start_time": "2022-06-21T18:13:08.090Z"
   },
   {
    "duration": 14,
    "start_time": "2022-06-21T18:13:08.531Z"
   },
   {
    "duration": 39,
    "start_time": "2022-06-21T18:13:08.546Z"
   },
   {
    "duration": 25,
    "start_time": "2022-06-21T18:13:08.586Z"
   },
   {
    "duration": 8,
    "start_time": "2022-06-21T18:13:08.626Z"
   },
   {
    "duration": 26,
    "start_time": "2022-06-21T18:13:08.636Z"
   },
   {
    "duration": 29,
    "start_time": "2022-06-21T18:13:08.663Z"
   },
   {
    "duration": 40,
    "start_time": "2022-06-21T18:13:08.693Z"
   },
   {
    "duration": 7,
    "start_time": "2022-06-21T18:13:08.736Z"
   },
   {
    "duration": 11,
    "start_time": "2022-06-21T18:13:08.745Z"
   },
   {
    "duration": 17,
    "start_time": "2022-06-21T18:13:08.757Z"
   },
   {
    "duration": 30,
    "start_time": "2022-06-21T18:13:08.775Z"
   },
   {
    "duration": 23,
    "start_time": "2022-06-21T18:13:08.806Z"
   },
   {
    "duration": 14,
    "start_time": "2022-06-21T18:13:08.831Z"
   },
   {
    "duration": 19,
    "start_time": "2022-06-21T18:13:08.846Z"
   },
   {
    "duration": 17,
    "start_time": "2022-06-21T18:13:08.866Z"
   },
   {
    "duration": 59,
    "start_time": "2022-06-21T18:13:08.885Z"
   },
   {
    "duration": 92,
    "start_time": "2022-06-21T18:13:08.945Z"
   },
   {
    "duration": 6,
    "start_time": "2022-06-21T18:13:09.039Z"
   },
   {
    "duration": 62,
    "start_time": "2022-06-21T18:13:09.046Z"
   },
   {
    "duration": 16,
    "start_time": "2022-06-21T18:13:09.110Z"
   },
   {
    "duration": 66,
    "start_time": "2022-06-21T18:13:09.128Z"
   },
   {
    "duration": 64,
    "start_time": "2022-06-21T18:13:09.195Z"
   },
   {
    "duration": 7,
    "start_time": "2022-06-21T18:13:09.261Z"
   },
   {
    "duration": 10,
    "start_time": "2022-06-21T18:13:09.269Z"
   },
   {
    "duration": 46,
    "start_time": "2022-06-21T18:13:09.281Z"
   },
   {
    "duration": 8,
    "start_time": "2022-06-21T18:13:09.331Z"
   },
   {
    "duration": 36,
    "start_time": "2022-06-21T18:13:09.341Z"
   },
   {
    "duration": 12,
    "start_time": "2022-06-21T18:13:09.378Z"
   },
   {
    "duration": 6,
    "start_time": "2022-06-21T18:13:09.391Z"
   },
   {
    "duration": 47,
    "start_time": "2022-06-21T18:13:09.398Z"
   },
   {
    "duration": 10,
    "start_time": "2022-06-21T18:13:09.446Z"
   },
   {
    "duration": 10,
    "start_time": "2022-06-21T18:13:09.458Z"
   },
   {
    "duration": 17,
    "start_time": "2022-06-21T18:13:09.470Z"
   },
   {
    "duration": 8,
    "start_time": "2022-06-21T18:13:09.489Z"
   },
   {
    "duration": 7,
    "start_time": "2022-06-21T18:13:09.498Z"
   },
   {
    "duration": 28,
    "start_time": "2022-06-21T18:13:09.506Z"
   },
   {
    "duration": 22,
    "start_time": "2022-06-21T18:13:09.536Z"
   },
   {
    "duration": 11,
    "start_time": "2022-06-21T18:13:09.559Z"
   },
   {
    "duration": 30,
    "start_time": "2022-06-21T18:13:09.572Z"
   },
   {
    "duration": 69,
    "start_time": "2022-06-21T18:13:09.604Z"
   },
   {
    "duration": 3,
    "start_time": "2022-06-21T18:13:09.674Z"
   },
   {
    "duration": 15,
    "start_time": "2022-06-21T18:13:09.678Z"
   },
   {
    "duration": 44,
    "start_time": "2022-06-21T18:13:09.694Z"
   },
   {
    "duration": 7,
    "start_time": "2022-06-21T18:13:09.740Z"
   },
   {
    "duration": 50,
    "start_time": "2022-06-21T18:13:09.749Z"
   },
   {
    "duration": 31,
    "start_time": "2022-06-21T18:13:09.801Z"
   },
   {
    "duration": 16,
    "start_time": "2022-06-21T18:13:09.834Z"
   },
   {
    "duration": 24,
    "start_time": "2022-06-21T18:13:09.852Z"
   },
   {
    "duration": 21,
    "start_time": "2022-06-21T18:13:09.878Z"
   },
   {
    "duration": 30,
    "start_time": "2022-06-21T18:13:09.900Z"
   },
   {
    "duration": 11,
    "start_time": "2022-06-21T18:13:09.932Z"
   },
   {
    "duration": 20,
    "start_time": "2022-06-21T18:13:09.945Z"
   },
   {
    "duration": 143,
    "start_time": "2022-06-21T18:13:09.966Z"
   },
   {
    "duration": 3,
    "start_time": "2022-06-21T18:13:10.110Z"
   },
   {
    "duration": 28,
    "start_time": "2022-06-21T18:13:10.114Z"
   },
   {
    "duration": 20,
    "start_time": "2022-06-21T18:13:10.143Z"
   },
   {
    "duration": 7,
    "start_time": "2022-06-21T18:13:10.164Z"
   },
   {
    "duration": 16,
    "start_time": "2022-06-21T18:13:10.172Z"
   },
   {
    "duration": 2,
    "start_time": "2022-06-21T18:13:10.190Z"
   },
   {
    "duration": 261,
    "start_time": "2022-06-21T18:13:10.193Z"
   },
   {
    "duration": 240,
    "start_time": "2022-06-21T18:13:10.455Z"
   },
   {
    "duration": 9,
    "start_time": "2022-06-21T18:13:10.697Z"
   },
   {
    "duration": 212,
    "start_time": "2022-06-21T18:13:10.707Z"
   },
   {
    "duration": 15,
    "start_time": "2022-06-21T18:13:10.921Z"
   },
   {
    "duration": 23,
    "start_time": "2022-06-21T18:13:10.937Z"
   },
   {
    "duration": 210,
    "start_time": "2022-06-21T18:13:10.962Z"
   },
   {
    "duration": 6,
    "start_time": "2022-06-21T18:13:11.174Z"
   },
   {
    "duration": 13,
    "start_time": "2022-06-21T18:13:11.181Z"
   },
   {
    "duration": 10,
    "start_time": "2022-06-21T18:13:11.195Z"
   },
   {
    "duration": 23,
    "start_time": "2022-06-21T18:13:11.207Z"
   },
   {
    "duration": 5,
    "start_time": "2022-06-21T18:13:11.233Z"
   },
   {
    "duration": 224,
    "start_time": "2022-06-21T18:13:11.240Z"
   },
   {
    "duration": 12,
    "start_time": "2022-06-21T18:13:11.465Z"
   },
   {
    "duration": 19,
    "start_time": "2022-06-21T18:13:11.479Z"
   },
   {
    "duration": 32,
    "start_time": "2022-06-21T18:13:11.500Z"
   },
   {
    "duration": 130,
    "start_time": "2022-06-21T18:13:11.533Z"
   },
   {
    "duration": 9,
    "start_time": "2022-06-21T18:13:11.665Z"
   },
   {
    "duration": 110,
    "start_time": "2022-06-21T18:13:11.675Z"
   },
   {
    "duration": 250,
    "start_time": "2022-06-21T18:13:11.787Z"
   },
   {
    "duration": 10,
    "start_time": "2022-06-21T18:13:12.042Z"
   },
   {
    "duration": 10,
    "start_time": "2022-06-21T18:13:12.053Z"
   },
   {
    "duration": 8,
    "start_time": "2022-06-21T18:13:12.064Z"
   },
   {
    "duration": 17,
    "start_time": "2022-06-21T18:13:12.073Z"
   },
   {
    "duration": 15,
    "start_time": "2022-06-21T18:13:12.091Z"
   },
   {
    "duration": 106,
    "start_time": "2022-06-21T18:13:12.107Z"
   },
   {
    "duration": 14,
    "start_time": "2022-06-21T18:13:12.214Z"
   },
   {
    "duration": 10,
    "start_time": "2022-06-21T18:13:12.230Z"
   },
   {
    "duration": 17,
    "start_time": "2022-06-21T18:13:12.241Z"
   },
   {
    "duration": 11,
    "start_time": "2022-06-21T18:13:12.259Z"
   },
   {
    "duration": 12,
    "start_time": "2022-06-21T18:13:12.272Z"
   },
   {
    "duration": 1488,
    "start_time": "2022-06-21T19:03:25.654Z"
   },
   {
    "duration": 1335,
    "start_time": "2022-06-21T19:03:27.158Z"
   },
   {
    "duration": 15,
    "start_time": "2022-06-21T19:03:28.494Z"
   },
   {
    "duration": 43,
    "start_time": "2022-06-21T19:03:28.510Z"
   },
   {
    "duration": 24,
    "start_time": "2022-06-21T19:03:28.556Z"
   },
   {
    "duration": 10,
    "start_time": "2022-06-21T19:03:28.581Z"
   },
   {
    "duration": 22,
    "start_time": "2022-06-21T19:03:28.592Z"
   },
   {
    "duration": 51,
    "start_time": "2022-06-21T19:03:28.616Z"
   },
   {
    "duration": 17,
    "start_time": "2022-06-21T19:03:28.668Z"
   },
   {
    "duration": 7,
    "start_time": "2022-06-21T19:03:28.687Z"
   },
   {
    "duration": 47,
    "start_time": "2022-06-21T19:03:28.695Z"
   },
   {
    "duration": 16,
    "start_time": "2022-06-21T19:03:28.744Z"
   },
   {
    "duration": 31,
    "start_time": "2022-06-21T19:03:28.761Z"
   },
   {
    "duration": 9,
    "start_time": "2022-06-21T19:03:28.795Z"
   },
   {
    "duration": 44,
    "start_time": "2022-06-21T19:03:28.806Z"
   },
   {
    "duration": 16,
    "start_time": "2022-06-21T19:03:28.856Z"
   },
   {
    "duration": 12,
    "start_time": "2022-06-21T19:03:28.873Z"
   },
   {
    "duration": 61,
    "start_time": "2022-06-21T19:03:28.887Z"
   },
   {
    "duration": 83,
    "start_time": "2022-06-21T19:03:28.953Z"
   },
   {
    "duration": 20,
    "start_time": "2022-06-21T19:03:29.037Z"
   },
   {
    "duration": 59,
    "start_time": "2022-06-21T19:03:29.059Z"
   },
   {
    "duration": 14,
    "start_time": "2022-06-21T19:03:29.120Z"
   },
   {
    "duration": 63,
    "start_time": "2022-06-21T19:03:29.145Z"
   },
   {
    "duration": 77,
    "start_time": "2022-06-21T19:03:29.210Z"
   },
   {
    "duration": 8,
    "start_time": "2022-06-21T19:03:29.289Z"
   },
   {
    "duration": 8,
    "start_time": "2022-06-21T19:03:29.299Z"
   },
   {
    "duration": 51,
    "start_time": "2022-06-21T19:03:29.309Z"
   },
   {
    "duration": 8,
    "start_time": "2022-06-21T19:03:29.362Z"
   },
   {
    "duration": 34,
    "start_time": "2022-06-21T19:03:29.372Z"
   },
   {
    "duration": 45,
    "start_time": "2022-06-21T19:03:29.408Z"
   },
   {
    "duration": 7,
    "start_time": "2022-06-21T19:03:29.455Z"
   },
   {
    "duration": 28,
    "start_time": "2022-06-21T19:03:29.463Z"
   },
   {
    "duration": 10,
    "start_time": "2022-06-21T19:03:29.493Z"
   },
   {
    "duration": 6,
    "start_time": "2022-06-21T19:03:29.505Z"
   },
   {
    "duration": 35,
    "start_time": "2022-06-21T19:03:29.513Z"
   },
   {
    "duration": 11,
    "start_time": "2022-06-21T19:03:29.552Z"
   },
   {
    "duration": 8,
    "start_time": "2022-06-21T19:03:29.565Z"
   },
   {
    "duration": 13,
    "start_time": "2022-06-21T19:03:29.574Z"
   },
   {
    "duration": 9,
    "start_time": "2022-06-21T19:03:29.588Z"
   },
   {
    "duration": 7,
    "start_time": "2022-06-21T19:03:29.598Z"
   },
   {
    "duration": 44,
    "start_time": "2022-06-21T19:03:29.610Z"
   },
   {
    "duration": 82,
    "start_time": "2022-06-21T19:03:29.656Z"
   },
   {
    "duration": 4,
    "start_time": "2022-06-21T19:03:29.746Z"
   },
   {
    "duration": 18,
    "start_time": "2022-06-21T19:03:29.753Z"
   },
   {
    "duration": 40,
    "start_time": "2022-06-21T19:03:29.773Z"
   },
   {
    "duration": 7,
    "start_time": "2022-06-21T19:03:29.815Z"
   },
   {
    "duration": 53,
    "start_time": "2022-06-21T19:03:29.829Z"
   },
   {
    "duration": 14,
    "start_time": "2022-06-21T19:03:29.884Z"
   },
   {
    "duration": 48,
    "start_time": "2022-06-21T19:03:29.899Z"
   },
   {
    "duration": 24,
    "start_time": "2022-06-21T19:03:29.951Z"
   },
   {
    "duration": 20,
    "start_time": "2022-06-21T19:03:29.976Z"
   },
   {
    "duration": 9,
    "start_time": "2022-06-21T19:03:29.998Z"
   },
   {
    "duration": 26,
    "start_time": "2022-06-21T19:03:30.034Z"
   },
   {
    "duration": 28,
    "start_time": "2022-06-21T19:03:30.062Z"
   },
   {
    "duration": 164,
    "start_time": "2022-06-21T19:03:30.091Z"
   },
   {
    "duration": 3,
    "start_time": "2022-06-21T19:03:30.257Z"
   },
   {
    "duration": 60,
    "start_time": "2022-06-21T19:03:30.261Z"
   },
   {
    "duration": 48,
    "start_time": "2022-06-21T19:03:30.322Z"
   },
   {
    "duration": 13,
    "start_time": "2022-06-21T19:03:30.371Z"
   },
   {
    "duration": 22,
    "start_time": "2022-06-21T19:03:30.386Z"
   },
   {
    "duration": 11,
    "start_time": "2022-06-21T19:03:30.410Z"
   },
   {
    "duration": 329,
    "start_time": "2022-06-21T19:03:30.423Z"
   },
   {
    "duration": 248,
    "start_time": "2022-06-21T19:03:30.755Z"
   },
   {
    "duration": 10,
    "start_time": "2022-06-21T19:03:31.005Z"
   },
   {
    "duration": 256,
    "start_time": "2022-06-21T19:03:31.016Z"
   },
   {
    "duration": 15,
    "start_time": "2022-06-21T19:03:31.274Z"
   },
   {
    "duration": 9,
    "start_time": "2022-06-21T19:03:31.290Z"
   },
   {
    "duration": 270,
    "start_time": "2022-06-21T19:03:31.300Z"
   },
   {
    "duration": 6,
    "start_time": "2022-06-21T19:03:31.571Z"
   },
   {
    "duration": 19,
    "start_time": "2022-06-21T19:03:31.578Z"
   },
   {
    "duration": 13,
    "start_time": "2022-06-21T19:03:31.599Z"
   },
   {
    "duration": 31,
    "start_time": "2022-06-21T19:03:31.614Z"
   },
   {
    "duration": 10,
    "start_time": "2022-06-21T19:03:31.647Z"
   },
   {
    "duration": 231,
    "start_time": "2022-06-21T19:03:31.660Z"
   },
   {
    "duration": 10,
    "start_time": "2022-06-21T19:03:31.893Z"
   },
   {
    "duration": 37,
    "start_time": "2022-06-21T19:03:31.904Z"
   },
   {
    "duration": 15,
    "start_time": "2022-06-21T19:03:31.942Z"
   },
   {
    "duration": 126,
    "start_time": "2022-06-21T19:03:31.959Z"
   },
   {
    "duration": 8,
    "start_time": "2022-06-21T19:03:32.087Z"
   },
   {
    "duration": 147,
    "start_time": "2022-06-21T19:03:32.097Z"
   },
   {
    "duration": 301,
    "start_time": "2022-06-21T19:03:32.246Z"
   },
   {
    "duration": 12,
    "start_time": "2022-06-21T19:03:32.551Z"
   },
   {
    "duration": 6,
    "start_time": "2022-06-21T19:03:32.565Z"
   },
   {
    "duration": 8,
    "start_time": "2022-06-21T19:03:32.572Z"
   },
   {
    "duration": 14,
    "start_time": "2022-06-21T19:03:32.582Z"
   },
   {
    "duration": 10,
    "start_time": "2022-06-21T19:03:32.598Z"
   },
   {
    "duration": 136,
    "start_time": "2022-06-21T19:03:32.610Z"
   },
   {
    "duration": 10,
    "start_time": "2022-06-21T19:03:32.750Z"
   },
   {
    "duration": 13,
    "start_time": "2022-06-21T19:03:32.762Z"
   },
   {
    "duration": 6,
    "start_time": "2022-06-21T19:03:32.777Z"
   },
   {
    "duration": 7,
    "start_time": "2022-06-21T19:03:32.784Z"
   },
   {
    "duration": 5,
    "start_time": "2022-06-21T19:03:32.792Z"
   },
   {
    "duration": 382,
    "start_time": "2022-06-22T01:20:01.300Z"
   },
   {
    "duration": 9,
    "start_time": "2022-06-22T01:20:27.173Z"
   },
   {
    "duration": 8,
    "start_time": "2022-06-22T01:47:54.571Z"
   },
   {
    "duration": 1049,
    "start_time": "2022-06-22T01:48:03.085Z"
   },
   {
    "duration": 373,
    "start_time": "2022-06-22T01:48:04.138Z"
   },
   {
    "duration": 12,
    "start_time": "2022-06-22T01:48:04.514Z"
   },
   {
    "duration": 28,
    "start_time": "2022-06-22T01:48:04.527Z"
   },
   {
    "duration": 20,
    "start_time": "2022-06-22T01:48:04.557Z"
   },
   {
    "duration": 7,
    "start_time": "2022-06-22T01:48:04.579Z"
   },
   {
    "duration": 44,
    "start_time": "2022-06-22T01:48:04.588Z"
   },
   {
    "duration": 27,
    "start_time": "2022-06-22T01:48:04.633Z"
   },
   {
    "duration": 15,
    "start_time": "2022-06-22T01:48:04.662Z"
   },
   {
    "duration": 7,
    "start_time": "2022-06-22T01:48:04.678Z"
   },
   {
    "duration": 13,
    "start_time": "2022-06-22T01:48:04.686Z"
   },
   {
    "duration": 10,
    "start_time": "2022-06-22T01:48:04.730Z"
   },
   {
    "duration": 25,
    "start_time": "2022-06-22T01:48:04.741Z"
   },
   {
    "duration": 9,
    "start_time": "2022-06-22T01:48:04.768Z"
   },
   {
    "duration": 12,
    "start_time": "2022-06-22T01:48:04.778Z"
   },
   {
    "duration": 44,
    "start_time": "2022-06-22T01:48:04.792Z"
   },
   {
    "duration": 9,
    "start_time": "2022-06-22T01:48:04.837Z"
   },
   {
    "duration": 46,
    "start_time": "2022-06-22T01:48:04.848Z"
   },
   {
    "duration": 97,
    "start_time": "2022-06-22T01:48:04.896Z"
   },
   {
    "duration": 6,
    "start_time": "2022-06-22T01:48:04.995Z"
   },
   {
    "duration": 71,
    "start_time": "2022-06-22T01:48:05.002Z"
   },
   {
    "duration": 8,
    "start_time": "2022-06-22T01:48:05.074Z"
   },
   {
    "duration": 57,
    "start_time": "2022-06-22T01:48:05.083Z"
   },
   {
    "duration": 58,
    "start_time": "2022-06-22T01:48:05.141Z"
   },
   {
    "duration": 7,
    "start_time": "2022-06-22T01:48:05.200Z"
   },
   {
    "duration": 22,
    "start_time": "2022-06-22T01:48:05.208Z"
   },
   {
    "duration": 20,
    "start_time": "2022-06-22T01:48:05.234Z"
   },
   {
    "duration": 6,
    "start_time": "2022-06-22T01:48:05.256Z"
   },
   {
    "duration": 30,
    "start_time": "2022-06-22T01:48:05.263Z"
   },
   {
    "duration": 34,
    "start_time": "2022-06-22T01:48:05.295Z"
   },
   {
    "duration": 5,
    "start_time": "2022-06-22T01:48:05.331Z"
   },
   {
    "duration": 20,
    "start_time": "2022-06-22T01:48:05.337Z"
   },
   {
    "duration": 9,
    "start_time": "2022-06-22T01:48:05.358Z"
   },
   {
    "duration": 7,
    "start_time": "2022-06-22T01:48:05.368Z"
   },
   {
    "duration": 12,
    "start_time": "2022-06-22T01:48:05.376Z"
   },
   {
    "duration": 41,
    "start_time": "2022-06-22T01:48:05.390Z"
   },
   {
    "duration": 6,
    "start_time": "2022-06-22T01:48:05.432Z"
   },
   {
    "duration": 11,
    "start_time": "2022-06-22T01:48:05.440Z"
   },
   {
    "duration": 7,
    "start_time": "2022-06-22T01:48:05.452Z"
   },
   {
    "duration": 6,
    "start_time": "2022-06-22T01:48:05.460Z"
   },
   {
    "duration": 26,
    "start_time": "2022-06-22T01:48:05.468Z"
   },
   {
    "duration": 83,
    "start_time": "2022-06-22T01:48:05.496Z"
   },
   {
    "duration": 2,
    "start_time": "2022-06-22T01:48:05.581Z"
   },
   {
    "duration": 12,
    "start_time": "2022-06-22T01:48:05.584Z"
   },
   {
    "duration": 54,
    "start_time": "2022-06-22T01:48:05.597Z"
   },
   {
    "duration": 6,
    "start_time": "2022-06-22T01:48:05.652Z"
   },
   {
    "duration": 42,
    "start_time": "2022-06-22T01:48:05.659Z"
   },
   {
    "duration": 33,
    "start_time": "2022-06-22T01:48:05.702Z"
   },
   {
    "duration": 14,
    "start_time": "2022-06-22T01:48:05.736Z"
   },
   {
    "duration": 17,
    "start_time": "2022-06-22T01:48:05.751Z"
   },
   {
    "duration": 19,
    "start_time": "2022-06-22T01:48:05.769Z"
   },
   {
    "duration": 40,
    "start_time": "2022-06-22T01:48:05.790Z"
   },
   {
    "duration": 10,
    "start_time": "2022-06-22T01:48:05.831Z"
   },
   {
    "duration": 15,
    "start_time": "2022-06-22T01:48:05.842Z"
   },
   {
    "duration": 149,
    "start_time": "2022-06-22T01:48:05.859Z"
   },
   {
    "duration": 3,
    "start_time": "2022-06-22T01:48:06.010Z"
   },
   {
    "duration": 32,
    "start_time": "2022-06-22T01:48:06.015Z"
   },
   {
    "duration": 25,
    "start_time": "2022-06-22T01:48:06.050Z"
   },
   {
    "duration": 18,
    "start_time": "2022-06-22T01:48:06.077Z"
   },
   {
    "duration": 13,
    "start_time": "2022-06-22T01:48:06.096Z"
   },
   {
    "duration": 2,
    "start_time": "2022-06-22T01:48:06.129Z"
   },
   {
    "duration": 231,
    "start_time": "2022-06-22T01:48:06.132Z"
   },
   {
    "duration": 211,
    "start_time": "2022-06-22T01:48:06.364Z"
   },
   {
    "duration": 7,
    "start_time": "2022-06-22T01:48:06.577Z"
   },
   {
    "duration": 197,
    "start_time": "2022-06-22T01:48:06.585Z"
   },
   {
    "duration": 13,
    "start_time": "2022-06-22T01:48:06.784Z"
   },
   {
    "duration": 7,
    "start_time": "2022-06-22T01:48:06.798Z"
   },
   {
    "duration": 226,
    "start_time": "2022-06-22T01:48:06.806Z"
   },
   {
    "duration": 5,
    "start_time": "2022-06-22T01:48:07.033Z"
   },
   {
    "duration": 8,
    "start_time": "2022-06-22T01:48:07.039Z"
   },
   {
    "duration": 14,
    "start_time": "2022-06-22T01:48:07.048Z"
   },
   {
    "duration": 15,
    "start_time": "2022-06-22T01:48:07.064Z"
   },
   {
    "duration": 5,
    "start_time": "2022-06-22T01:48:07.080Z"
   },
   {
    "duration": 205,
    "start_time": "2022-06-22T01:48:07.086Z"
   },
   {
    "duration": 10,
    "start_time": "2022-06-22T01:48:07.293Z"
   },
   {
    "duration": 35,
    "start_time": "2022-06-22T01:48:07.304Z"
   },
   {
    "duration": 9,
    "start_time": "2022-06-22T01:48:07.340Z"
   },
   {
    "duration": 120,
    "start_time": "2022-06-22T01:48:07.351Z"
   },
   {
    "duration": 10,
    "start_time": "2022-06-22T01:48:07.473Z"
   },
   {
    "duration": 118,
    "start_time": "2022-06-22T01:48:07.485Z"
   },
   {
    "duration": 239,
    "start_time": "2022-06-22T01:48:07.609Z"
   },
   {
    "duration": 9,
    "start_time": "2022-06-22T01:48:07.849Z"
   },
   {
    "duration": 4,
    "start_time": "2022-06-22T01:48:07.860Z"
   },
   {
    "duration": 5,
    "start_time": "2022-06-22T01:48:07.866Z"
   },
   {
    "duration": 12,
    "start_time": "2022-06-22T01:48:07.873Z"
   },
   {
    "duration": 6,
    "start_time": "2022-06-22T01:48:07.887Z"
   },
   {
    "duration": 114,
    "start_time": "2022-06-22T01:48:07.894Z"
   },
   {
    "duration": 7,
    "start_time": "2022-06-22T01:48:08.010Z"
   },
   {
    "duration": 8,
    "start_time": "2022-06-22T01:48:08.029Z"
   },
   {
    "duration": 8,
    "start_time": "2022-06-22T01:48:08.038Z"
   },
   {
    "duration": 6,
    "start_time": "2022-06-22T01:48:08.047Z"
   },
   {
    "duration": 6,
    "start_time": "2022-06-22T01:48:08.055Z"
   },
   {
    "duration": 59,
    "start_time": "2022-06-22T01:54:35.613Z"
   },
   {
    "duration": 51,
    "start_time": "2022-06-22T01:54:56.742Z"
   },
   {
    "duration": 54,
    "start_time": "2022-06-22T01:55:05.686Z"
   },
   {
    "duration": 32,
    "start_time": "2022-06-22T03:28:10.996Z"
   },
   {
    "duration": 1251,
    "start_time": "2022-06-22T10:49:27.109Z"
   },
   {
    "duration": 1241,
    "start_time": "2022-06-22T10:49:28.362Z"
   },
   {
    "duration": 14,
    "start_time": "2022-06-22T10:49:29.607Z"
   },
   {
    "duration": 34,
    "start_time": "2022-06-22T10:49:29.622Z"
   },
   {
    "duration": 21,
    "start_time": "2022-06-22T10:49:29.658Z"
   },
   {
    "duration": 8,
    "start_time": "2022-06-22T10:49:29.680Z"
   },
   {
    "duration": 23,
    "start_time": "2022-06-22T10:49:29.689Z"
   },
   {
    "duration": 31,
    "start_time": "2022-06-22T10:49:29.728Z"
   },
   {
    "duration": 15,
    "start_time": "2022-06-22T10:49:29.763Z"
   },
   {
    "duration": 7,
    "start_time": "2022-06-22T10:49:29.780Z"
   },
   {
    "duration": 14,
    "start_time": "2022-06-22T10:49:29.789Z"
   },
   {
    "duration": 20,
    "start_time": "2022-06-22T10:49:29.828Z"
   },
   {
    "duration": 27,
    "start_time": "2022-06-22T10:49:29.850Z"
   },
   {
    "duration": 8,
    "start_time": "2022-06-22T10:49:29.879Z"
   },
   {
    "duration": 11,
    "start_time": "2022-06-22T10:49:29.889Z"
   },
   {
    "duration": 36,
    "start_time": "2022-06-22T10:49:29.902Z"
   },
   {
    "duration": 9,
    "start_time": "2022-06-22T10:49:29.944Z"
   },
   {
    "duration": 53,
    "start_time": "2022-06-22T10:49:29.954Z"
   },
   {
    "duration": 88,
    "start_time": "2022-06-22T10:49:30.009Z"
   },
   {
    "duration": 11,
    "start_time": "2022-06-22T10:49:30.098Z"
   },
   {
    "duration": 68,
    "start_time": "2022-06-22T10:49:30.111Z"
   },
   {
    "duration": 8,
    "start_time": "2022-06-22T10:49:30.181Z"
   },
   {
    "duration": 72,
    "start_time": "2022-06-22T10:49:30.191Z"
   },
   {
    "duration": 52,
    "start_time": "2022-06-22T10:49:30.265Z"
   },
   {
    "duration": 18,
    "start_time": "2022-06-22T10:49:30.318Z"
   },
   {
    "duration": 51,
    "start_time": "2022-06-22T10:49:30.337Z"
   },
   {
    "duration": 50,
    "start_time": "2022-06-22T10:49:30.392Z"
   },
   {
    "duration": 12,
    "start_time": "2022-06-22T10:49:30.444Z"
   },
   {
    "duration": 48,
    "start_time": "2022-06-22T10:49:30.458Z"
   },
   {
    "duration": 13,
    "start_time": "2022-06-22T10:49:30.508Z"
   },
   {
    "duration": 7,
    "start_time": "2022-06-22T10:49:30.523Z"
   },
   {
    "duration": 43,
    "start_time": "2022-06-22T10:49:30.533Z"
   },
   {
    "duration": 13,
    "start_time": "2022-06-22T10:49:30.577Z"
   },
   {
    "duration": 27,
    "start_time": "2022-06-22T10:49:30.591Z"
   },
   {
    "duration": 35,
    "start_time": "2022-06-22T10:49:30.620Z"
   },
   {
    "duration": 23,
    "start_time": "2022-06-22T10:49:30.657Z"
   },
   {
    "duration": 18,
    "start_time": "2022-06-22T10:49:30.681Z"
   },
   {
    "duration": 17,
    "start_time": "2022-06-22T10:49:30.701Z"
   },
   {
    "duration": 32,
    "start_time": "2022-06-22T10:49:30.720Z"
   },
   {
    "duration": 9,
    "start_time": "2022-06-22T10:49:30.754Z"
   },
   {
    "duration": 35,
    "start_time": "2022-06-22T10:49:30.764Z"
   },
   {
    "duration": 62,
    "start_time": "2022-06-22T10:49:30.801Z"
   },
   {
    "duration": 2,
    "start_time": "2022-06-22T10:49:30.865Z"
   },
   {
    "duration": 15,
    "start_time": "2022-06-22T10:49:30.868Z"
   },
   {
    "duration": 55,
    "start_time": "2022-06-22T10:49:30.885Z"
   },
   {
    "duration": 8,
    "start_time": "2022-06-22T10:49:30.943Z"
   },
   {
    "duration": 57,
    "start_time": "2022-06-22T10:49:30.952Z"
   },
   {
    "duration": 15,
    "start_time": "2022-06-22T10:49:31.010Z"
   },
   {
    "duration": 22,
    "start_time": "2022-06-22T10:49:31.028Z"
   },
   {
    "duration": 20,
    "start_time": "2022-06-22T10:49:31.051Z"
   },
   {
    "duration": 19,
    "start_time": "2022-06-22T10:49:31.073Z"
   },
   {
    "duration": 7,
    "start_time": "2022-06-22T10:49:31.094Z"
   },
   {
    "duration": 37,
    "start_time": "2022-06-22T10:49:31.102Z"
   },
   {
    "duration": 19,
    "start_time": "2022-06-22T10:49:31.141Z"
   },
   {
    "duration": 162,
    "start_time": "2022-06-22T10:49:31.162Z"
   },
   {
    "duration": 10,
    "start_time": "2022-06-22T10:49:31.329Z"
   },
   {
    "duration": 21,
    "start_time": "2022-06-22T10:49:31.343Z"
   },
   {
    "duration": 17,
    "start_time": "2022-06-22T10:49:31.365Z"
   },
   {
    "duration": 7,
    "start_time": "2022-06-22T10:49:31.383Z"
   },
   {
    "duration": 14,
    "start_time": "2022-06-22T10:49:31.391Z"
   },
   {
    "duration": 2,
    "start_time": "2022-06-22T10:49:31.407Z"
   },
   {
    "duration": 288,
    "start_time": "2022-06-22T10:49:31.410Z"
   },
   {
    "duration": 259,
    "start_time": "2022-06-22T10:49:31.700Z"
   },
   {
    "duration": 9,
    "start_time": "2022-06-22T10:49:31.961Z"
   },
   {
    "duration": 220,
    "start_time": "2022-06-22T10:49:31.972Z"
   },
   {
    "duration": 12,
    "start_time": "2022-06-22T10:49:32.194Z"
   },
   {
    "duration": 8,
    "start_time": "2022-06-22T10:49:32.207Z"
   },
   {
    "duration": 238,
    "start_time": "2022-06-22T10:49:32.216Z"
   },
   {
    "duration": 5,
    "start_time": "2022-06-22T10:49:32.456Z"
   },
   {
    "duration": 6,
    "start_time": "2022-06-22T10:49:32.463Z"
   },
   {
    "duration": 5,
    "start_time": "2022-06-22T10:49:32.470Z"
   },
   {
    "duration": 19,
    "start_time": "2022-06-22T10:49:32.476Z"
   },
   {
    "duration": 5,
    "start_time": "2022-06-22T10:49:32.496Z"
   },
   {
    "duration": 207,
    "start_time": "2022-06-22T10:49:32.502Z"
   },
   {
    "duration": 8,
    "start_time": "2022-06-22T10:49:32.711Z"
   },
   {
    "duration": 31,
    "start_time": "2022-06-22T10:49:32.720Z"
   },
   {
    "duration": 6,
    "start_time": "2022-06-22T10:49:32.753Z"
   },
   {
    "duration": 99,
    "start_time": "2022-06-22T10:49:32.761Z"
   },
   {
    "duration": 7,
    "start_time": "2022-06-22T10:49:32.862Z"
   },
   {
    "duration": 107,
    "start_time": "2022-06-22T10:49:32.870Z"
   },
   {
    "duration": 261,
    "start_time": "2022-06-22T10:49:32.981Z"
   },
   {
    "duration": 8,
    "start_time": "2022-06-22T10:49:33.244Z"
   },
   {
    "duration": 7,
    "start_time": "2022-06-22T10:49:33.253Z"
   },
   {
    "duration": 5,
    "start_time": "2022-06-22T10:49:33.262Z"
   },
   {
    "duration": 19,
    "start_time": "2022-06-22T10:49:33.268Z"
   },
   {
    "duration": 6,
    "start_time": "2022-06-22T10:49:33.289Z"
   },
   {
    "duration": 88,
    "start_time": "2022-06-22T10:49:33.297Z"
   },
   {
    "duration": 7,
    "start_time": "2022-06-22T10:49:33.387Z"
   },
   {
    "duration": 10,
    "start_time": "2022-06-22T10:49:33.396Z"
   },
   {
    "duration": 25,
    "start_time": "2022-06-22T10:49:33.407Z"
   },
   {
    "duration": 9,
    "start_time": "2022-06-22T10:49:33.435Z"
   },
   {
    "duration": 6,
    "start_time": "2022-06-22T10:49:33.445Z"
   },
   {
    "duration": 1159,
    "start_time": "2022-06-22T11:29:11.819Z"
   },
   {
    "duration": 420,
    "start_time": "2022-06-22T11:29:12.980Z"
   },
   {
    "duration": 13,
    "start_time": "2022-06-22T11:29:13.401Z"
   },
   {
    "duration": 35,
    "start_time": "2022-06-22T11:29:13.416Z"
   },
   {
    "duration": 21,
    "start_time": "2022-06-22T11:29:13.453Z"
   },
   {
    "duration": 9,
    "start_time": "2022-06-22T11:29:13.475Z"
   },
   {
    "duration": 20,
    "start_time": "2022-06-22T11:29:13.485Z"
   },
   {
    "duration": 54,
    "start_time": "2022-06-22T11:29:13.506Z"
   },
   {
    "duration": 15,
    "start_time": "2022-06-22T11:29:13.561Z"
   },
   {
    "duration": 7,
    "start_time": "2022-06-22T11:29:13.579Z"
   },
   {
    "duration": 10,
    "start_time": "2022-06-22T11:29:13.587Z"
   },
   {
    "duration": 44,
    "start_time": "2022-06-22T11:29:13.599Z"
   },
   {
    "duration": 26,
    "start_time": "2022-06-22T11:29:13.647Z"
   },
   {
    "duration": 15,
    "start_time": "2022-06-22T11:29:13.674Z"
   },
   {
    "duration": 10,
    "start_time": "2022-06-22T11:29:13.690Z"
   },
   {
    "duration": 13,
    "start_time": "2022-06-22T11:29:13.702Z"
   },
   {
    "duration": 32,
    "start_time": "2022-06-22T11:29:13.716Z"
   },
   {
    "duration": 51,
    "start_time": "2022-06-22T11:29:13.756Z"
   },
   {
    "duration": 93,
    "start_time": "2022-06-22T11:29:13.808Z"
   },
   {
    "duration": 6,
    "start_time": "2022-06-22T11:29:13.902Z"
   },
   {
    "duration": 64,
    "start_time": "2022-06-22T11:29:13.910Z"
   },
   {
    "duration": 8,
    "start_time": "2022-06-22T11:29:13.975Z"
   },
   {
    "duration": 71,
    "start_time": "2022-06-22T11:29:13.984Z"
   },
   {
    "duration": 49,
    "start_time": "2022-06-22T11:29:14.057Z"
   },
   {
    "duration": 7,
    "start_time": "2022-06-22T11:29:14.107Z"
   },
   {
    "duration": 29,
    "start_time": "2022-06-22T11:29:14.115Z"
   },
   {
    "duration": 21,
    "start_time": "2022-06-22T11:29:14.146Z"
   },
   {
    "duration": 6,
    "start_time": "2022-06-22T11:29:14.171Z"
   },
   {
    "duration": 64,
    "start_time": "2022-06-22T11:29:14.179Z"
   },
   {
    "duration": 14,
    "start_time": "2022-06-22T11:29:14.245Z"
   },
   {
    "duration": 7,
    "start_time": "2022-06-22T11:29:14.261Z"
   },
   {
    "duration": 21,
    "start_time": "2022-06-22T11:29:14.270Z"
   },
   {
    "duration": 9,
    "start_time": "2022-06-22T11:29:14.292Z"
   },
   {
    "duration": 36,
    "start_time": "2022-06-22T11:29:14.303Z"
   },
   {
    "duration": 13,
    "start_time": "2022-06-22T11:29:14.341Z"
   },
   {
    "duration": 9,
    "start_time": "2022-06-22T11:29:14.356Z"
   },
   {
    "duration": 5,
    "start_time": "2022-06-22T11:29:14.366Z"
   },
   {
    "duration": 11,
    "start_time": "2022-06-22T11:29:14.373Z"
   },
   {
    "duration": 7,
    "start_time": "2022-06-22T11:29:14.386Z"
   },
   {
    "duration": 8,
    "start_time": "2022-06-22T11:29:14.394Z"
   },
   {
    "duration": 56,
    "start_time": "2022-06-22T11:29:14.403Z"
   },
   {
    "duration": 53,
    "start_time": "2022-06-22T11:29:14.461Z"
   },
   {
    "duration": 2,
    "start_time": "2022-06-22T11:29:14.515Z"
   },
   {
    "duration": 28,
    "start_time": "2022-06-22T11:29:14.518Z"
   },
   {
    "duration": 33,
    "start_time": "2022-06-22T11:29:14.548Z"
   },
   {
    "duration": 6,
    "start_time": "2022-06-22T11:29:14.582Z"
   },
   {
    "duration": 64,
    "start_time": "2022-06-22T11:29:14.589Z"
   },
   {
    "duration": 13,
    "start_time": "2022-06-22T11:29:14.655Z"
   },
   {
    "duration": 13,
    "start_time": "2022-06-22T11:29:14.669Z"
   },
   {
    "duration": 20,
    "start_time": "2022-06-22T11:29:14.684Z"
   },
   {
    "duration": 43,
    "start_time": "2022-06-22T11:29:14.705Z"
   },
   {
    "duration": 7,
    "start_time": "2022-06-22T11:29:14.749Z"
   },
   {
    "duration": 12,
    "start_time": "2022-06-22T11:29:14.758Z"
   },
   {
    "duration": 15,
    "start_time": "2022-06-22T11:29:14.771Z"
   },
   {
    "duration": 168,
    "start_time": "2022-06-22T11:29:14.787Z"
   },
   {
    "duration": 3,
    "start_time": "2022-06-22T11:29:14.957Z"
   },
   {
    "duration": 20,
    "start_time": "2022-06-22T11:29:14.961Z"
   },
   {
    "duration": 23,
    "start_time": "2022-06-22T11:29:14.982Z"
   },
   {
    "duration": 32,
    "start_time": "2022-06-22T11:29:15.007Z"
   },
   {
    "duration": 20,
    "start_time": "2022-06-22T11:29:15.044Z"
   },
   {
    "duration": 2,
    "start_time": "2022-06-22T11:29:15.066Z"
   },
   {
    "duration": 280,
    "start_time": "2022-06-22T11:29:15.070Z"
   },
   {
    "duration": 246,
    "start_time": "2022-06-22T11:29:15.352Z"
   },
   {
    "duration": 8,
    "start_time": "2022-06-22T11:29:15.599Z"
   },
   {
    "duration": 211,
    "start_time": "2022-06-22T11:29:15.609Z"
   },
   {
    "duration": 21,
    "start_time": "2022-06-22T11:29:15.822Z"
   },
   {
    "duration": 8,
    "start_time": "2022-06-22T11:29:15.845Z"
   },
   {
    "duration": 263,
    "start_time": "2022-06-22T11:29:15.855Z"
   },
   {
    "duration": 22,
    "start_time": "2022-06-22T11:29:16.120Z"
   },
   {
    "duration": 8,
    "start_time": "2022-06-22T11:29:16.148Z"
   },
   {
    "duration": 8,
    "start_time": "2022-06-22T11:29:16.157Z"
   },
   {
    "duration": 20,
    "start_time": "2022-06-22T11:29:16.167Z"
   },
   {
    "duration": 8,
    "start_time": "2022-06-22T11:29:16.189Z"
   },
   {
    "duration": 240,
    "start_time": "2022-06-22T11:29:16.198Z"
   },
   {
    "duration": 11,
    "start_time": "2022-06-22T11:29:16.443Z"
   },
   {
    "duration": 15,
    "start_time": "2022-06-22T11:29:16.456Z"
   },
   {
    "duration": 9,
    "start_time": "2022-06-22T11:29:16.474Z"
   },
   {
    "duration": 132,
    "start_time": "2022-06-22T11:29:16.485Z"
   },
   {
    "duration": 8,
    "start_time": "2022-06-22T11:29:16.619Z"
   },
   {
    "duration": 117,
    "start_time": "2022-06-22T11:29:16.629Z"
   },
   {
    "duration": 301,
    "start_time": "2022-06-22T11:29:16.748Z"
   },
   {
    "duration": 10,
    "start_time": "2022-06-22T11:29:17.054Z"
   },
   {
    "duration": 5,
    "start_time": "2022-06-22T11:29:17.066Z"
   },
   {
    "duration": 4,
    "start_time": "2022-06-22T11:29:17.073Z"
   },
   {
    "duration": 14,
    "start_time": "2022-06-22T11:29:17.078Z"
   },
   {
    "duration": 6,
    "start_time": "2022-06-22T11:29:17.094Z"
   },
   {
    "duration": 141,
    "start_time": "2022-06-22T11:29:17.101Z"
   },
   {
    "duration": 8,
    "start_time": "2022-06-22T11:29:17.245Z"
   },
   {
    "duration": 9,
    "start_time": "2022-06-22T11:29:17.255Z"
   },
   {
    "duration": 5,
    "start_time": "2022-06-22T11:29:17.266Z"
   },
   {
    "duration": 7,
    "start_time": "2022-06-22T11:29:17.273Z"
   },
   {
    "duration": 5,
    "start_time": "2022-06-22T11:29:17.281Z"
   },
   {
    "duration": 1150,
    "start_time": "2022-06-22T22:10:45.083Z"
   },
   {
    "duration": 431,
    "start_time": "2022-06-22T22:10:46.235Z"
   },
   {
    "duration": 20,
    "start_time": "2022-06-22T22:10:46.668Z"
   },
   {
    "duration": 47,
    "start_time": "2022-06-22T22:10:46.692Z"
   },
   {
    "duration": 35,
    "start_time": "2022-06-22T22:10:46.743Z"
   },
   {
    "duration": 37,
    "start_time": "2022-06-22T22:10:46.781Z"
   },
   {
    "duration": 39,
    "start_time": "2022-06-22T22:10:46.820Z"
   },
   {
    "duration": 52,
    "start_time": "2022-06-22T22:10:46.861Z"
   },
   {
    "duration": 31,
    "start_time": "2022-06-22T22:10:46.915Z"
   },
   {
    "duration": 19,
    "start_time": "2022-06-22T22:10:46.950Z"
   },
   {
    "duration": 39,
    "start_time": "2022-06-22T22:10:46.971Z"
   },
   {
    "duration": 25,
    "start_time": "2022-06-22T22:10:47.012Z"
   },
   {
    "duration": 46,
    "start_time": "2022-06-22T22:10:47.039Z"
   },
   {
    "duration": 15,
    "start_time": "2022-06-22T22:10:47.087Z"
   },
   {
    "duration": 14,
    "start_time": "2022-06-22T22:10:47.105Z"
   },
   {
    "duration": 33,
    "start_time": "2022-06-22T22:10:47.121Z"
   },
   {
    "duration": 10,
    "start_time": "2022-06-22T22:10:47.157Z"
   },
   {
    "duration": 52,
    "start_time": "2022-06-22T22:10:47.169Z"
   },
   {
    "duration": 102,
    "start_time": "2022-06-22T22:10:47.241Z"
   },
   {
    "duration": 9,
    "start_time": "2022-06-22T22:10:47.345Z"
   },
   {
    "duration": 88,
    "start_time": "2022-06-22T22:10:47.356Z"
   },
   {
    "duration": 10,
    "start_time": "2022-06-22T22:10:47.446Z"
   },
   {
    "duration": 55,
    "start_time": "2022-06-22T22:10:47.458Z"
   },
   {
    "duration": 114,
    "start_time": "2022-06-22T22:10:47.515Z"
   },
   {
    "duration": 14,
    "start_time": "2022-06-22T22:10:47.631Z"
   },
   {
    "duration": 10,
    "start_time": "2022-06-22T22:10:47.648Z"
   },
   {
    "duration": 35,
    "start_time": "2022-06-22T22:10:47.659Z"
   },
   {
    "duration": 8,
    "start_time": "2022-06-22T22:10:47.699Z"
   },
   {
    "duration": 48,
    "start_time": "2022-06-22T22:10:47.742Z"
   },
   {
    "duration": 14,
    "start_time": "2022-06-22T22:10:47.793Z"
   },
   {
    "duration": 33,
    "start_time": "2022-06-22T22:10:47.809Z"
   },
   {
    "duration": 30,
    "start_time": "2022-06-22T22:10:47.844Z"
   },
   {
    "duration": 14,
    "start_time": "2022-06-22T22:10:47.877Z"
   },
   {
    "duration": 9,
    "start_time": "2022-06-22T22:10:47.893Z"
   },
   {
    "duration": 43,
    "start_time": "2022-06-22T22:10:47.904Z"
   },
   {
    "duration": 11,
    "start_time": "2022-06-22T22:10:47.949Z"
   },
   {
    "duration": 5,
    "start_time": "2022-06-22T22:10:47.963Z"
   },
   {
    "duration": 14,
    "start_time": "2022-06-22T22:10:47.970Z"
   },
   {
    "duration": 10,
    "start_time": "2022-06-22T22:10:47.986Z"
   },
   {
    "duration": 44,
    "start_time": "2022-06-22T22:10:47.998Z"
   },
   {
    "duration": 40,
    "start_time": "2022-06-22T22:10:48.044Z"
   },
   {
    "duration": 80,
    "start_time": "2022-06-22T22:10:48.085Z"
   },
   {
    "duration": 3,
    "start_time": "2022-06-22T22:10:48.167Z"
   },
   {
    "duration": 10,
    "start_time": "2022-06-22T22:10:48.172Z"
   },
   {
    "duration": 59,
    "start_time": "2022-06-22T22:10:48.184Z"
   },
   {
    "duration": 8,
    "start_time": "2022-06-22T22:10:48.246Z"
   },
   {
    "duration": 54,
    "start_time": "2022-06-22T22:10:48.256Z"
   },
   {
    "duration": 32,
    "start_time": "2022-06-22T22:10:48.312Z"
   },
   {
    "duration": 16,
    "start_time": "2022-06-22T22:10:48.345Z"
   },
   {
    "duration": 22,
    "start_time": "2022-06-22T22:10:48.363Z"
   },
   {
    "duration": 25,
    "start_time": "2022-06-22T22:10:48.388Z"
   },
   {
    "duration": 36,
    "start_time": "2022-06-22T22:10:48.414Z"
   },
   {
    "duration": 14,
    "start_time": "2022-06-22T22:10:48.452Z"
   },
   {
    "duration": 26,
    "start_time": "2022-06-22T22:10:48.468Z"
   },
   {
    "duration": 167,
    "start_time": "2022-06-22T22:10:48.496Z"
   },
   {
    "duration": 3,
    "start_time": "2022-06-22T22:10:48.665Z"
   },
   {
    "duration": 36,
    "start_time": "2022-06-22T22:10:48.670Z"
   },
   {
    "duration": 41,
    "start_time": "2022-06-22T22:10:48.708Z"
   },
   {
    "duration": 10,
    "start_time": "2022-06-22T22:10:48.751Z"
   },
   {
    "duration": 18,
    "start_time": "2022-06-22T22:10:48.763Z"
   },
   {
    "duration": 4,
    "start_time": "2022-06-22T22:10:48.783Z"
   },
   {
    "duration": 326,
    "start_time": "2022-06-22T22:10:48.789Z"
   },
   {
    "duration": 251,
    "start_time": "2022-06-22T22:10:49.117Z"
   },
   {
    "duration": 9,
    "start_time": "2022-06-22T22:10:49.370Z"
   },
   {
    "duration": 247,
    "start_time": "2022-06-22T22:10:49.381Z"
   },
   {
    "duration": 25,
    "start_time": "2022-06-22T22:10:49.630Z"
   },
   {
    "duration": 9,
    "start_time": "2022-06-22T22:10:49.657Z"
   },
   {
    "duration": 242,
    "start_time": "2022-06-22T22:10:49.667Z"
   },
   {
    "duration": 8,
    "start_time": "2022-06-22T22:10:49.911Z"
   },
   {
    "duration": 8,
    "start_time": "2022-06-22T22:10:49.922Z"
   },
   {
    "duration": 3,
    "start_time": "2022-06-22T22:10:49.942Z"
   },
   {
    "duration": 18,
    "start_time": "2022-06-22T22:10:49.947Z"
   },
   {
    "duration": 9,
    "start_time": "2022-06-22T22:10:49.967Z"
   },
   {
    "duration": 247,
    "start_time": "2022-06-22T22:10:49.977Z"
   },
   {
    "duration": 20,
    "start_time": "2022-06-22T22:10:50.226Z"
   },
   {
    "duration": 18,
    "start_time": "2022-06-22T22:10:50.248Z"
   },
   {
    "duration": 10,
    "start_time": "2022-06-22T22:10:50.269Z"
   },
   {
    "duration": 183,
    "start_time": "2022-06-22T22:10:50.282Z"
   },
   {
    "duration": 11,
    "start_time": "2022-06-22T22:10:50.467Z"
   },
   {
    "duration": 131,
    "start_time": "2022-06-22T22:10:50.480Z"
   },
   {
    "duration": 303,
    "start_time": "2022-06-22T22:10:50.613Z"
   },
   {
    "duration": 10,
    "start_time": "2022-06-22T22:10:50.922Z"
   },
   {
    "duration": 273,
    "start_time": "2022-06-22T22:10:50.941Z"
   },
   {
    "duration": 0,
    "start_time": "2022-06-22T22:10:51.216Z"
   },
   {
    "duration": 0,
    "start_time": "2022-06-22T22:10:51.218Z"
   },
   {
    "duration": 0,
    "start_time": "2022-06-22T22:10:51.219Z"
   },
   {
    "duration": 1,
    "start_time": "2022-06-22T22:10:51.220Z"
   },
   {
    "duration": 0,
    "start_time": "2022-06-22T22:10:51.221Z"
   },
   {
    "duration": 0,
    "start_time": "2022-06-22T22:10:51.222Z"
   },
   {
    "duration": 0,
    "start_time": "2022-06-22T22:10:51.223Z"
   },
   {
    "duration": 0,
    "start_time": "2022-06-22T22:10:51.225Z"
   },
   {
    "duration": 0,
    "start_time": "2022-06-22T22:10:51.226Z"
   },
   {
    "duration": 1228,
    "start_time": "2022-06-22T22:50:26.372Z"
   },
   {
    "duration": 431,
    "start_time": "2022-06-22T22:50:27.602Z"
   },
   {
    "duration": 16,
    "start_time": "2022-06-22T22:50:28.035Z"
   },
   {
    "duration": 34,
    "start_time": "2022-06-22T22:50:28.054Z"
   },
   {
    "duration": 24,
    "start_time": "2022-06-22T22:50:28.090Z"
   },
   {
    "duration": 30,
    "start_time": "2022-06-22T22:50:28.116Z"
   },
   {
    "duration": 20,
    "start_time": "2022-06-22T22:50:28.148Z"
   },
   {
    "duration": 31,
    "start_time": "2022-06-22T22:50:28.170Z"
   },
   {
    "duration": 43,
    "start_time": "2022-06-22T22:50:28.202Z"
   },
   {
    "duration": 7,
    "start_time": "2022-06-22T22:50:28.248Z"
   },
   {
    "duration": 13,
    "start_time": "2022-06-22T22:50:28.257Z"
   },
   {
    "duration": 33,
    "start_time": "2022-06-22T22:50:28.272Z"
   },
   {
    "duration": 38,
    "start_time": "2022-06-22T22:50:28.307Z"
   },
   {
    "duration": 9,
    "start_time": "2022-06-22T22:50:28.347Z"
   },
   {
    "duration": 13,
    "start_time": "2022-06-22T22:50:28.358Z"
   },
   {
    "duration": 17,
    "start_time": "2022-06-22T22:50:28.372Z"
   },
   {
    "duration": 10,
    "start_time": "2022-06-22T22:50:28.391Z"
   },
   {
    "duration": 82,
    "start_time": "2022-06-22T22:50:28.402Z"
   },
   {
    "duration": 92,
    "start_time": "2022-06-22T22:50:28.486Z"
   },
   {
    "duration": 8,
    "start_time": "2022-06-22T22:50:28.579Z"
   },
   {
    "duration": 75,
    "start_time": "2022-06-22T22:50:28.588Z"
   },
   {
    "duration": 9,
    "start_time": "2022-06-22T22:50:28.665Z"
   },
   {
    "duration": 49,
    "start_time": "2022-06-22T22:50:28.675Z"
   },
   {
    "duration": 70,
    "start_time": "2022-06-22T22:50:28.726Z"
   },
   {
    "duration": 8,
    "start_time": "2022-06-22T22:50:28.797Z"
   },
   {
    "duration": 10,
    "start_time": "2022-06-22T22:50:28.806Z"
   },
   {
    "duration": 48,
    "start_time": "2022-06-22T22:50:28.817Z"
   },
   {
    "duration": 8,
    "start_time": "2022-06-22T22:50:28.869Z"
   },
   {
    "duration": 32,
    "start_time": "2022-06-22T22:50:28.879Z"
   },
   {
    "duration": 38,
    "start_time": "2022-06-22T22:50:28.913Z"
   },
   {
    "duration": 8,
    "start_time": "2022-06-22T22:50:28.952Z"
   },
   {
    "duration": 23,
    "start_time": "2022-06-22T22:50:28.961Z"
   },
   {
    "duration": 10,
    "start_time": "2022-06-22T22:50:28.986Z"
   },
   {
    "duration": 9,
    "start_time": "2022-06-22T22:50:28.998Z"
   },
   {
    "duration": 42,
    "start_time": "2022-06-22T22:50:29.009Z"
   },
   {
    "duration": 8,
    "start_time": "2022-06-22T22:50:29.053Z"
   },
   {
    "duration": 8,
    "start_time": "2022-06-22T22:50:29.063Z"
   },
   {
    "duration": 13,
    "start_time": "2022-06-22T22:50:29.073Z"
   },
   {
    "duration": 13,
    "start_time": "2022-06-22T22:50:29.088Z"
   },
   {
    "duration": 11,
    "start_time": "2022-06-22T22:50:29.103Z"
   },
   {
    "duration": 32,
    "start_time": "2022-06-22T22:50:29.142Z"
   },
   {
    "duration": 79,
    "start_time": "2022-06-22T22:50:29.176Z"
   },
   {
    "duration": 2,
    "start_time": "2022-06-22T22:50:29.257Z"
   },
   {
    "duration": 10,
    "start_time": "2022-06-22T22:50:29.261Z"
   },
   {
    "duration": 40,
    "start_time": "2022-06-22T22:50:29.273Z"
   },
   {
    "duration": 32,
    "start_time": "2022-06-22T22:50:29.315Z"
   },
   {
    "duration": 48,
    "start_time": "2022-06-22T22:50:29.349Z"
   },
   {
    "duration": 15,
    "start_time": "2022-06-22T22:50:29.399Z"
   },
   {
    "duration": 40,
    "start_time": "2022-06-22T22:50:29.416Z"
   },
   {
    "duration": 22,
    "start_time": "2022-06-22T22:50:29.458Z"
   },
   {
    "duration": 23,
    "start_time": "2022-06-22T22:50:29.482Z"
   },
   {
    "duration": 36,
    "start_time": "2022-06-22T22:50:29.507Z"
   },
   {
    "duration": 13,
    "start_time": "2022-06-22T22:50:29.545Z"
   },
   {
    "duration": 19,
    "start_time": "2022-06-22T22:50:29.559Z"
   },
   {
    "duration": 154,
    "start_time": "2022-06-22T22:50:29.580Z"
   },
   {
    "duration": 6,
    "start_time": "2022-06-22T22:50:29.736Z"
   },
   {
    "duration": 24,
    "start_time": "2022-06-22T22:50:29.744Z"
   },
   {
    "duration": 30,
    "start_time": "2022-06-22T22:50:29.770Z"
   },
   {
    "duration": 8,
    "start_time": "2022-06-22T22:50:29.802Z"
   },
   {
    "duration": 18,
    "start_time": "2022-06-22T22:50:29.812Z"
   },
   {
    "duration": 3,
    "start_time": "2022-06-22T22:50:29.842Z"
   },
   {
    "duration": 273,
    "start_time": "2022-06-22T22:50:29.847Z"
   },
   {
    "duration": 248,
    "start_time": "2022-06-22T22:50:30.122Z"
   },
   {
    "duration": 9,
    "start_time": "2022-06-22T22:50:30.372Z"
   },
   {
    "duration": 228,
    "start_time": "2022-06-22T22:50:30.382Z"
   },
   {
    "duration": 15,
    "start_time": "2022-06-22T22:50:30.612Z"
   },
   {
    "duration": 19,
    "start_time": "2022-06-22T22:50:30.629Z"
   },
   {
    "duration": 224,
    "start_time": "2022-06-22T22:50:30.650Z"
   },
   {
    "duration": 6,
    "start_time": "2022-06-22T22:50:30.875Z"
   },
   {
    "duration": 24,
    "start_time": "2022-06-22T22:50:30.882Z"
   },
   {
    "duration": 5,
    "start_time": "2022-06-22T22:50:30.908Z"
   },
   {
    "duration": 16,
    "start_time": "2022-06-22T22:50:30.915Z"
   },
   {
    "duration": 11,
    "start_time": "2022-06-22T22:50:30.933Z"
   },
   {
    "duration": 214,
    "start_time": "2022-06-22T22:50:30.946Z"
   },
   {
    "duration": 10,
    "start_time": "2022-06-22T22:50:31.162Z"
   },
   {
    "duration": 17,
    "start_time": "2022-06-22T22:50:31.174Z"
   },
   {
    "duration": 9,
    "start_time": "2022-06-22T22:50:31.193Z"
   },
   {
    "duration": 139,
    "start_time": "2022-06-22T22:50:31.204Z"
   },
   {
    "duration": 9,
    "start_time": "2022-06-22T22:50:31.345Z"
   },
   {
    "duration": 121,
    "start_time": "2022-06-22T22:50:31.356Z"
   },
   {
    "duration": 298,
    "start_time": "2022-06-22T22:50:31.478Z"
   },
   {
    "duration": 8,
    "start_time": "2022-06-22T22:50:31.781Z"
   },
   {
    "duration": 30,
    "start_time": "2022-06-22T22:50:31.791Z"
   },
   {
    "duration": 7,
    "start_time": "2022-06-22T22:50:31.823Z"
   },
   {
    "duration": 17,
    "start_time": "2022-06-22T22:50:31.832Z"
   },
   {
    "duration": 15,
    "start_time": "2022-06-22T22:50:31.851Z"
   },
   {
    "duration": 109,
    "start_time": "2022-06-22T22:50:31.868Z"
   },
   {
    "duration": 9,
    "start_time": "2022-06-22T22:50:31.979Z"
   },
   {
    "duration": 10,
    "start_time": "2022-06-22T22:50:31.990Z"
   },
   {
    "duration": 5,
    "start_time": "2022-06-22T22:50:32.002Z"
   },
   {
    "duration": 7,
    "start_time": "2022-06-22T22:50:32.009Z"
   },
   {
    "duration": 26,
    "start_time": "2022-06-22T22:50:32.017Z"
   },
   {
    "duration": 1191,
    "start_time": "2022-06-22T22:52:28.219Z"
   },
   {
    "duration": 422,
    "start_time": "2022-06-22T22:52:29.412Z"
   },
   {
    "duration": 18,
    "start_time": "2022-06-22T22:52:29.836Z"
   },
   {
    "duration": 39,
    "start_time": "2022-06-22T22:52:29.858Z"
   },
   {
    "duration": 46,
    "start_time": "2022-06-22T22:52:29.899Z"
   },
   {
    "duration": 10,
    "start_time": "2022-06-22T22:52:29.947Z"
   },
   {
    "duration": 32,
    "start_time": "2022-06-22T22:52:29.960Z"
   },
   {
    "duration": 54,
    "start_time": "2022-06-22T22:52:29.993Z"
   },
   {
    "duration": 27,
    "start_time": "2022-06-22T22:52:30.049Z"
   },
   {
    "duration": 17,
    "start_time": "2022-06-22T22:52:30.080Z"
   },
   {
    "duration": 14,
    "start_time": "2022-06-22T22:52:30.099Z"
   },
   {
    "duration": 31,
    "start_time": "2022-06-22T22:52:30.115Z"
   },
   {
    "duration": 39,
    "start_time": "2022-06-22T22:52:30.148Z"
   },
   {
    "duration": 30,
    "start_time": "2022-06-22T22:52:30.190Z"
   },
   {
    "duration": 16,
    "start_time": "2022-06-22T22:52:30.222Z"
   },
   {
    "duration": 18,
    "start_time": "2022-06-22T22:52:30.246Z"
   },
   {
    "duration": 22,
    "start_time": "2022-06-22T22:52:30.266Z"
   },
   {
    "duration": 82,
    "start_time": "2022-06-22T22:52:30.290Z"
   },
   {
    "duration": 93,
    "start_time": "2022-06-22T22:52:30.375Z"
   },
   {
    "duration": 10,
    "start_time": "2022-06-22T22:52:30.470Z"
   },
   {
    "duration": 85,
    "start_time": "2022-06-22T22:52:30.482Z"
   },
   {
    "duration": 12,
    "start_time": "2022-06-22T22:52:30.571Z"
   },
   {
    "duration": 65,
    "start_time": "2022-06-22T22:52:30.586Z"
   },
   {
    "duration": 71,
    "start_time": "2022-06-22T22:52:30.653Z"
   },
   {
    "duration": 17,
    "start_time": "2022-06-22T22:52:30.726Z"
   },
   {
    "duration": 9,
    "start_time": "2022-06-22T22:52:30.746Z"
   },
   {
    "duration": 42,
    "start_time": "2022-06-22T22:52:30.758Z"
   },
   {
    "duration": 8,
    "start_time": "2022-06-22T22:52:30.804Z"
   },
   {
    "duration": 46,
    "start_time": "2022-06-22T22:52:30.842Z"
   },
   {
    "duration": 11,
    "start_time": "2022-06-22T22:52:30.890Z"
   },
   {
    "duration": 10,
    "start_time": "2022-06-22T22:52:30.903Z"
   },
   {
    "duration": 53,
    "start_time": "2022-06-22T22:52:30.915Z"
   },
   {
    "duration": 15,
    "start_time": "2022-06-22T22:52:30.970Z"
   },
   {
    "duration": 15,
    "start_time": "2022-06-22T22:52:30.987Z"
   },
   {
    "duration": 30,
    "start_time": "2022-06-22T22:52:31.004Z"
   },
   {
    "duration": 12,
    "start_time": "2022-06-22T22:52:31.036Z"
   },
   {
    "duration": 9,
    "start_time": "2022-06-22T22:52:31.050Z"
   },
   {
    "duration": 23,
    "start_time": "2022-06-22T22:52:31.061Z"
   },
   {
    "duration": 15,
    "start_time": "2022-06-22T22:52:31.086Z"
   },
   {
    "duration": 9,
    "start_time": "2022-06-22T22:52:31.103Z"
   },
   {
    "duration": 56,
    "start_time": "2022-06-22T22:52:31.113Z"
   },
   {
    "duration": 87,
    "start_time": "2022-06-22T22:52:31.171Z"
   },
   {
    "duration": 4,
    "start_time": "2022-06-22T22:52:31.261Z"
   },
   {
    "duration": 20,
    "start_time": "2022-06-22T22:52:31.267Z"
   },
   {
    "duration": 52,
    "start_time": "2022-06-22T22:52:31.290Z"
   },
   {
    "duration": 12,
    "start_time": "2022-06-22T22:52:31.344Z"
   },
   {
    "duration": 57,
    "start_time": "2022-06-22T22:52:31.358Z"
   },
   {
    "duration": 34,
    "start_time": "2022-06-22T22:52:31.417Z"
   },
   {
    "duration": 25,
    "start_time": "2022-06-22T22:52:31.453Z"
   },
   {
    "duration": 22,
    "start_time": "2022-06-22T22:52:31.481Z"
   },
   {
    "duration": 47,
    "start_time": "2022-06-22T22:52:31.505Z"
   },
   {
    "duration": 8,
    "start_time": "2022-06-22T22:52:31.554Z"
   },
   {
    "duration": 17,
    "start_time": "2022-06-22T22:52:31.564Z"
   },
   {
    "duration": 27,
    "start_time": "2022-06-22T22:52:31.584Z"
   },
   {
    "duration": 186,
    "start_time": "2022-06-22T22:52:31.613Z"
   },
   {
    "duration": 2,
    "start_time": "2022-06-22T22:52:31.801Z"
   },
   {
    "duration": 37,
    "start_time": "2022-06-22T22:52:31.805Z"
   },
   {
    "duration": 28,
    "start_time": "2022-06-22T22:52:31.844Z"
   },
   {
    "duration": 29,
    "start_time": "2022-06-22T22:52:31.874Z"
   },
   {
    "duration": 16,
    "start_time": "2022-06-22T22:52:31.904Z"
   },
   {
    "duration": 2,
    "start_time": "2022-06-22T22:52:31.922Z"
   },
   {
    "duration": 340,
    "start_time": "2022-06-22T22:52:31.926Z"
   },
   {
    "duration": 313,
    "start_time": "2022-06-22T22:52:32.268Z"
   },
   {
    "duration": 10,
    "start_time": "2022-06-22T22:52:32.583Z"
   },
   {
    "duration": 225,
    "start_time": "2022-06-22T22:52:32.596Z"
   },
   {
    "duration": 24,
    "start_time": "2022-06-22T22:52:32.823Z"
   },
   {
    "duration": 8,
    "start_time": "2022-06-22T22:52:32.849Z"
   },
   {
    "duration": 233,
    "start_time": "2022-06-22T22:52:32.859Z"
   },
   {
    "duration": 5,
    "start_time": "2022-06-22T22:52:33.094Z"
   },
   {
    "duration": 9,
    "start_time": "2022-06-22T22:52:33.101Z"
   },
   {
    "duration": 4,
    "start_time": "2022-06-22T22:52:33.112Z"
   },
   {
    "duration": 30,
    "start_time": "2022-06-22T22:52:33.118Z"
   },
   {
    "duration": 7,
    "start_time": "2022-06-22T22:52:33.149Z"
   },
   {
    "duration": 250,
    "start_time": "2022-06-22T22:52:33.158Z"
   },
   {
    "duration": 10,
    "start_time": "2022-06-22T22:52:33.410Z"
   },
   {
    "duration": 27,
    "start_time": "2022-06-22T22:52:33.422Z"
   },
   {
    "duration": 11,
    "start_time": "2022-06-22T22:52:33.452Z"
   },
   {
    "duration": 154,
    "start_time": "2022-06-22T22:52:33.465Z"
   },
   {
    "duration": 9,
    "start_time": "2022-06-22T22:52:33.621Z"
   },
   {
    "duration": 146,
    "start_time": "2022-06-22T22:52:33.642Z"
   },
   {
    "duration": 280,
    "start_time": "2022-06-22T22:52:33.790Z"
   },
   {
    "duration": 9,
    "start_time": "2022-06-22T22:52:34.078Z"
   },
   {
    "duration": 12,
    "start_time": "2022-06-22T22:52:34.090Z"
   },
   {
    "duration": 4,
    "start_time": "2022-06-22T22:52:34.103Z"
   },
   {
    "duration": 13,
    "start_time": "2022-06-22T22:52:34.109Z"
   },
   {
    "duration": 23,
    "start_time": "2022-06-22T22:52:34.124Z"
   },
   {
    "duration": 122,
    "start_time": "2022-06-22T22:52:34.149Z"
   },
   {
    "duration": 10,
    "start_time": "2022-06-22T22:52:34.273Z"
   },
   {
    "duration": 19,
    "start_time": "2022-06-22T22:52:34.286Z"
   },
   {
    "duration": 6,
    "start_time": "2022-06-22T22:52:34.307Z"
   },
   {
    "duration": 11,
    "start_time": "2022-06-22T22:52:34.314Z"
   },
   {
    "duration": 12,
    "start_time": "2022-06-22T22:52:34.343Z"
   },
   {
    "duration": 1246,
    "start_time": "2022-06-22T23:04:21.743Z"
   },
   {
    "duration": 440,
    "start_time": "2022-06-22T23:04:22.991Z"
   },
   {
    "duration": 14,
    "start_time": "2022-06-22T23:04:23.433Z"
   },
   {
    "duration": 32,
    "start_time": "2022-06-22T23:04:23.449Z"
   },
   {
    "duration": 24,
    "start_time": "2022-06-22T23:04:23.483Z"
   },
   {
    "duration": 10,
    "start_time": "2022-06-22T23:04:23.511Z"
   },
   {
    "duration": 25,
    "start_time": "2022-06-22T23:04:23.542Z"
   },
   {
    "duration": 34,
    "start_time": "2022-06-22T23:04:23.568Z"
   },
   {
    "duration": 46,
    "start_time": "2022-06-22T23:04:23.604Z"
   },
   {
    "duration": 8,
    "start_time": "2022-06-22T23:04:23.652Z"
   },
   {
    "duration": 12,
    "start_time": "2022-06-22T23:04:23.662Z"
   },
   {
    "duration": 13,
    "start_time": "2022-06-22T23:04:23.676Z"
   },
   {
    "duration": 55,
    "start_time": "2022-06-22T23:04:23.690Z"
   },
   {
    "duration": 13,
    "start_time": "2022-06-22T23:04:23.747Z"
   },
   {
    "duration": 11,
    "start_time": "2022-06-22T23:04:23.762Z"
   },
   {
    "duration": 18,
    "start_time": "2022-06-22T23:04:23.775Z"
   },
   {
    "duration": 10,
    "start_time": "2022-06-22T23:04:23.795Z"
   },
   {
    "duration": 81,
    "start_time": "2022-06-22T23:04:23.806Z"
   },
   {
    "duration": 96,
    "start_time": "2022-06-22T23:04:23.888Z"
   },
   {
    "duration": 7,
    "start_time": "2022-06-22T23:04:23.986Z"
   },
   {
    "duration": 90,
    "start_time": "2022-06-22T23:04:23.994Z"
   },
   {
    "duration": 9,
    "start_time": "2022-06-22T23:04:24.086Z"
   },
   {
    "duration": 88,
    "start_time": "2022-06-22T23:04:24.097Z"
   },
   {
    "duration": 65,
    "start_time": "2022-06-22T23:04:24.188Z"
   },
   {
    "duration": 9,
    "start_time": "2022-06-22T23:04:24.255Z"
   },
   {
    "duration": 13,
    "start_time": "2022-06-22T23:04:24.266Z"
   },
   {
    "duration": 25,
    "start_time": "2022-06-22T23:04:24.281Z"
   },
   {
    "duration": 8,
    "start_time": "2022-06-22T23:04:24.310Z"
   },
   {
    "duration": 48,
    "start_time": "2022-06-22T23:04:24.320Z"
   },
   {
    "duration": 15,
    "start_time": "2022-06-22T23:04:24.370Z"
   },
   {
    "duration": 8,
    "start_time": "2022-06-22T23:04:24.387Z"
   },
   {
    "duration": 61,
    "start_time": "2022-06-22T23:04:24.397Z"
   },
   {
    "duration": 12,
    "start_time": "2022-06-22T23:04:24.460Z"
   },
   {
    "duration": 8,
    "start_time": "2022-06-22T23:04:24.473Z"
   },
   {
    "duration": 13,
    "start_time": "2022-06-22T23:04:24.483Z"
   },
   {
    "duration": 10,
    "start_time": "2022-06-22T23:04:24.499Z"
   },
   {
    "duration": 35,
    "start_time": "2022-06-22T23:04:24.512Z"
   },
   {
    "duration": 21,
    "start_time": "2022-06-22T23:04:24.550Z"
   },
   {
    "duration": 10,
    "start_time": "2022-06-22T23:04:24.573Z"
   },
   {
    "duration": 10,
    "start_time": "2022-06-22T23:04:24.585Z"
   },
   {
    "duration": 52,
    "start_time": "2022-06-22T23:04:24.596Z"
   },
   {
    "duration": 66,
    "start_time": "2022-06-22T23:04:24.650Z"
   },
   {
    "duration": 2,
    "start_time": "2022-06-22T23:04:24.718Z"
   },
   {
    "duration": 26,
    "start_time": "2022-06-22T23:04:24.722Z"
   },
   {
    "duration": 41,
    "start_time": "2022-06-22T23:04:24.750Z"
   },
   {
    "duration": 8,
    "start_time": "2022-06-22T23:04:24.792Z"
   },
   {
    "duration": 75,
    "start_time": "2022-06-22T23:04:24.802Z"
   },
   {
    "duration": 15,
    "start_time": "2022-06-22T23:04:24.879Z"
   },
   {
    "duration": 16,
    "start_time": "2022-06-22T23:04:24.896Z"
   },
   {
    "duration": 46,
    "start_time": "2022-06-22T23:04:24.914Z"
   },
   {
    "duration": 24,
    "start_time": "2022-06-22T23:04:24.962Z"
   },
   {
    "duration": 9,
    "start_time": "2022-06-22T23:04:24.988Z"
   },
   {
    "duration": 45,
    "start_time": "2022-06-22T23:04:24.999Z"
   },
   {
    "duration": 20,
    "start_time": "2022-06-22T23:04:25.046Z"
   },
   {
    "duration": 158,
    "start_time": "2022-06-22T23:04:25.068Z"
   },
   {
    "duration": 3,
    "start_time": "2022-06-22T23:04:25.227Z"
   },
   {
    "duration": 30,
    "start_time": "2022-06-22T23:04:25.231Z"
   },
   {
    "duration": 23,
    "start_time": "2022-06-22T23:04:25.263Z"
   },
   {
    "duration": 7,
    "start_time": "2022-06-22T23:04:25.287Z"
   },
   {
    "duration": 17,
    "start_time": "2022-06-22T23:04:25.296Z"
   },
   {
    "duration": 27,
    "start_time": "2022-06-22T23:04:25.315Z"
   },
   {
    "duration": 266,
    "start_time": "2022-06-22T23:04:25.344Z"
   },
   {
    "duration": 247,
    "start_time": "2022-06-22T23:04:25.612Z"
   },
   {
    "duration": 11,
    "start_time": "2022-06-22T23:04:25.861Z"
   },
   {
    "duration": 224,
    "start_time": "2022-06-22T23:04:25.874Z"
   },
   {
    "duration": 15,
    "start_time": "2022-06-22T23:04:26.100Z"
   },
   {
    "duration": 27,
    "start_time": "2022-06-22T23:04:26.116Z"
   },
   {
    "duration": 258,
    "start_time": "2022-06-22T23:04:26.145Z"
   },
   {
    "duration": 6,
    "start_time": "2022-06-22T23:04:26.405Z"
   },
   {
    "duration": 11,
    "start_time": "2022-06-22T23:04:26.412Z"
   },
   {
    "duration": 16,
    "start_time": "2022-06-22T23:04:26.425Z"
   },
   {
    "duration": 17,
    "start_time": "2022-06-22T23:04:26.443Z"
   },
   {
    "duration": 6,
    "start_time": "2022-06-22T23:04:26.462Z"
   },
   {
    "duration": 231,
    "start_time": "2022-06-22T23:04:26.470Z"
   },
   {
    "duration": 14,
    "start_time": "2022-06-22T23:04:26.705Z"
   },
   {
    "duration": 23,
    "start_time": "2022-06-22T23:04:26.720Z"
   },
   {
    "duration": 21,
    "start_time": "2022-06-22T23:04:26.745Z"
   },
   {
    "duration": 159,
    "start_time": "2022-06-22T23:04:26.767Z"
   },
   {
    "duration": 13,
    "start_time": "2022-06-22T23:04:26.928Z"
   },
   {
    "duration": 157,
    "start_time": "2022-06-22T23:04:26.944Z"
   },
   {
    "duration": 300,
    "start_time": "2022-06-22T23:04:27.103Z"
   },
   {
    "duration": 8,
    "start_time": "2022-06-22T23:04:27.409Z"
   },
   {
    "duration": 17,
    "start_time": "2022-06-22T23:04:27.419Z"
   },
   {
    "duration": 3,
    "start_time": "2022-06-22T23:04:27.442Z"
   },
   {
    "duration": 16,
    "start_time": "2022-06-22T23:04:27.446Z"
   },
   {
    "duration": 9,
    "start_time": "2022-06-22T23:04:27.463Z"
   },
   {
    "duration": 124,
    "start_time": "2022-06-22T23:04:27.474Z"
   },
   {
    "duration": 8,
    "start_time": "2022-06-22T23:04:27.600Z"
   },
   {
    "duration": 16,
    "start_time": "2022-06-22T23:04:27.610Z"
   },
   {
    "duration": 16,
    "start_time": "2022-06-22T23:04:27.628Z"
   },
   {
    "duration": 6,
    "start_time": "2022-06-22T23:04:27.645Z"
   },
   {
    "duration": 9,
    "start_time": "2022-06-22T23:04:27.653Z"
   },
   {
    "duration": 1104,
    "start_time": "2022-06-22T23:07:34.771Z"
   },
   {
    "duration": 422,
    "start_time": "2022-06-22T23:07:35.877Z"
   },
   {
    "duration": 18,
    "start_time": "2022-06-22T23:07:36.301Z"
   },
   {
    "duration": 38,
    "start_time": "2022-06-22T23:07:36.321Z"
   },
   {
    "duration": 28,
    "start_time": "2022-06-22T23:07:36.361Z"
   },
   {
    "duration": 9,
    "start_time": "2022-06-22T23:07:36.391Z"
   },
   {
    "duration": 39,
    "start_time": "2022-06-22T23:07:36.403Z"
   },
   {
    "duration": 52,
    "start_time": "2022-06-22T23:07:36.444Z"
   },
   {
    "duration": 19,
    "start_time": "2022-06-22T23:07:36.498Z"
   },
   {
    "duration": 8,
    "start_time": "2022-06-22T23:07:36.520Z"
   },
   {
    "duration": 10,
    "start_time": "2022-06-22T23:07:36.542Z"
   },
   {
    "duration": 13,
    "start_time": "2022-06-22T23:07:36.554Z"
   },
   {
    "duration": 30,
    "start_time": "2022-06-22T23:07:36.568Z"
   },
   {
    "duration": 42,
    "start_time": "2022-06-22T23:07:36.600Z"
   },
   {
    "duration": 12,
    "start_time": "2022-06-22T23:07:36.643Z"
   },
   {
    "duration": 18,
    "start_time": "2022-06-22T23:07:36.657Z"
   },
   {
    "duration": 10,
    "start_time": "2022-06-22T23:07:36.677Z"
   },
   {
    "duration": 74,
    "start_time": "2022-06-22T23:07:36.689Z"
   },
   {
    "duration": 128,
    "start_time": "2022-06-22T23:07:36.766Z"
   },
   {
    "duration": 11,
    "start_time": "2022-06-22T23:07:36.896Z"
   },
   {
    "duration": 78,
    "start_time": "2022-06-22T23:07:36.910Z"
   },
   {
    "duration": 10,
    "start_time": "2022-06-22T23:07:36.990Z"
   },
   {
    "duration": 68,
    "start_time": "2022-06-22T23:07:37.002Z"
   },
   {
    "duration": 57,
    "start_time": "2022-06-22T23:07:37.072Z"
   },
   {
    "duration": 14,
    "start_time": "2022-06-22T23:07:37.130Z"
   },
   {
    "duration": 9,
    "start_time": "2022-06-22T23:07:37.146Z"
   },
   {
    "duration": 25,
    "start_time": "2022-06-22T23:07:37.156Z"
   },
   {
    "duration": 8,
    "start_time": "2022-06-22T23:07:37.185Z"
   },
   {
    "duration": 62,
    "start_time": "2022-06-22T23:07:37.195Z"
   },
   {
    "duration": 11,
    "start_time": "2022-06-22T23:07:37.259Z"
   },
   {
    "duration": 8,
    "start_time": "2022-06-22T23:07:37.272Z"
   },
   {
    "duration": 26,
    "start_time": "2022-06-22T23:07:37.281Z"
   },
   {
    "duration": 37,
    "start_time": "2022-06-22T23:07:37.309Z"
   },
   {
    "duration": 12,
    "start_time": "2022-06-22T23:07:37.351Z"
   },
   {
    "duration": 17,
    "start_time": "2022-06-22T23:07:37.365Z"
   },
   {
    "duration": 11,
    "start_time": "2022-06-22T23:07:37.384Z"
   },
   {
    "duration": 8,
    "start_time": "2022-06-22T23:07:37.397Z"
   },
   {
    "duration": 35,
    "start_time": "2022-06-22T23:07:37.407Z"
   },
   {
    "duration": 9,
    "start_time": "2022-06-22T23:07:37.444Z"
   },
   {
    "duration": 11,
    "start_time": "2022-06-22T23:07:37.455Z"
   },
   {
    "duration": 45,
    "start_time": "2022-06-22T23:07:37.468Z"
   },
   {
    "duration": 90,
    "start_time": "2022-06-22T23:07:37.515Z"
   },
   {
    "duration": 3,
    "start_time": "2022-06-22T23:07:37.607Z"
   },
   {
    "duration": 11,
    "start_time": "2022-06-22T23:07:37.612Z"
   },
   {
    "duration": 49,
    "start_time": "2022-06-22T23:07:37.625Z"
   },
   {
    "duration": 8,
    "start_time": "2022-06-22T23:07:37.676Z"
   },
   {
    "duration": 63,
    "start_time": "2022-06-22T23:07:37.685Z"
   },
   {
    "duration": 15,
    "start_time": "2022-06-22T23:07:37.750Z"
   },
   {
    "duration": 22,
    "start_time": "2022-06-22T23:07:37.767Z"
   },
   {
    "duration": 22,
    "start_time": "2022-06-22T23:07:37.790Z"
   },
   {
    "duration": 22,
    "start_time": "2022-06-22T23:07:37.842Z"
   },
   {
    "duration": 8,
    "start_time": "2022-06-22T23:07:37.865Z"
   },
   {
    "duration": 13,
    "start_time": "2022-06-22T23:07:37.875Z"
   },
   {
    "duration": 18,
    "start_time": "2022-06-22T23:07:37.890Z"
   },
   {
    "duration": 139,
    "start_time": "2022-06-22T23:07:37.943Z"
   },
   {
    "duration": 3,
    "start_time": "2022-06-22T23:07:38.083Z"
   },
   {
    "duration": 21,
    "start_time": "2022-06-22T23:07:38.087Z"
   },
   {
    "duration": 37,
    "start_time": "2022-06-22T23:07:38.110Z"
   },
   {
    "duration": 7,
    "start_time": "2022-06-22T23:07:38.149Z"
   },
   {
    "duration": 15,
    "start_time": "2022-06-22T23:07:38.157Z"
   },
   {
    "duration": 2,
    "start_time": "2022-06-22T23:07:38.173Z"
   },
   {
    "duration": 310,
    "start_time": "2022-06-22T23:07:38.177Z"
   },
   {
    "duration": 254,
    "start_time": "2022-06-22T23:07:38.489Z"
   },
   {
    "duration": 8,
    "start_time": "2022-06-22T23:07:38.745Z"
   },
   {
    "duration": 215,
    "start_time": "2022-06-22T23:07:38.754Z"
   },
   {
    "duration": 14,
    "start_time": "2022-06-22T23:07:38.970Z"
   },
   {
    "duration": 8,
    "start_time": "2022-06-22T23:07:38.985Z"
   },
   {
    "duration": 242,
    "start_time": "2022-06-22T23:07:38.995Z"
   },
   {
    "duration": 7,
    "start_time": "2022-06-22T23:07:39.239Z"
   },
   {
    "duration": 9,
    "start_time": "2022-06-22T23:07:39.248Z"
   },
   {
    "duration": 4,
    "start_time": "2022-06-22T23:07:39.259Z"
   },
   {
    "duration": 20,
    "start_time": "2022-06-22T23:07:39.265Z"
   },
   {
    "duration": 7,
    "start_time": "2022-06-22T23:07:39.287Z"
   },
   {
    "duration": 238,
    "start_time": "2022-06-22T23:07:39.295Z"
   },
   {
    "duration": 11,
    "start_time": "2022-06-22T23:07:39.534Z"
   },
   {
    "duration": 19,
    "start_time": "2022-06-22T23:07:39.547Z"
   },
   {
    "duration": 10,
    "start_time": "2022-06-22T23:07:39.568Z"
   },
   {
    "duration": 140,
    "start_time": "2022-06-22T23:07:39.580Z"
   },
   {
    "duration": 9,
    "start_time": "2022-06-22T23:07:39.722Z"
   },
   {
    "duration": 123,
    "start_time": "2022-06-22T23:07:39.742Z"
   },
   {
    "duration": 287,
    "start_time": "2022-06-22T23:07:39.867Z"
   },
   {
    "duration": 7,
    "start_time": "2022-06-22T23:07:40.160Z"
   },
   {
    "duration": 8,
    "start_time": "2022-06-22T23:07:40.169Z"
   },
   {
    "duration": 5,
    "start_time": "2022-06-22T23:07:40.180Z"
   },
   {
    "duration": 14,
    "start_time": "2022-06-22T23:07:40.187Z"
   },
   {
    "duration": 8,
    "start_time": "2022-06-22T23:07:40.203Z"
   },
   {
    "duration": 131,
    "start_time": "2022-06-22T23:07:40.213Z"
   },
   {
    "duration": 10,
    "start_time": "2022-06-22T23:07:40.346Z"
   },
   {
    "duration": 9,
    "start_time": "2022-06-22T23:07:40.358Z"
   },
   {
    "duration": 5,
    "start_time": "2022-06-22T23:07:40.369Z"
   },
   {
    "duration": 6,
    "start_time": "2022-06-22T23:07:40.375Z"
   },
   {
    "duration": 7,
    "start_time": "2022-06-22T23:07:40.382Z"
   },
   {
    "duration": 1116,
    "start_time": "2022-06-22T23:10:53.581Z"
   },
   {
    "duration": 427,
    "start_time": "2022-06-22T23:10:54.699Z"
   },
   {
    "duration": 15,
    "start_time": "2022-06-22T23:10:55.128Z"
   },
   {
    "duration": 32,
    "start_time": "2022-06-22T23:10:55.145Z"
   },
   {
    "duration": 24,
    "start_time": "2022-06-22T23:10:55.178Z"
   },
   {
    "duration": 10,
    "start_time": "2022-06-22T23:10:55.203Z"
   },
   {
    "duration": 43,
    "start_time": "2022-06-22T23:10:55.215Z"
   },
   {
    "duration": 31,
    "start_time": "2022-06-22T23:10:55.260Z"
   },
   {
    "duration": 17,
    "start_time": "2022-06-22T23:10:55.293Z"
   },
   {
    "duration": 31,
    "start_time": "2022-06-22T23:10:55.313Z"
   },
   {
    "duration": 11,
    "start_time": "2022-06-22T23:10:55.346Z"
   },
   {
    "duration": 13,
    "start_time": "2022-06-22T23:10:55.359Z"
   },
   {
    "duration": 33,
    "start_time": "2022-06-22T23:10:55.375Z"
   },
   {
    "duration": 36,
    "start_time": "2022-06-22T23:10:55.410Z"
   },
   {
    "duration": 15,
    "start_time": "2022-06-22T23:10:55.447Z"
   },
   {
    "duration": 24,
    "start_time": "2022-06-22T23:10:55.464Z"
   },
   {
    "duration": 11,
    "start_time": "2022-06-22T23:10:55.490Z"
   },
   {
    "duration": 80,
    "start_time": "2022-06-22T23:10:55.503Z"
   },
   {
    "duration": 91,
    "start_time": "2022-06-22T23:10:55.585Z"
   },
   {
    "duration": 7,
    "start_time": "2022-06-22T23:10:55.677Z"
   },
   {
    "duration": 79,
    "start_time": "2022-06-22T23:10:55.686Z"
   },
   {
    "duration": 10,
    "start_time": "2022-06-22T23:10:55.766Z"
   },
   {
    "duration": 65,
    "start_time": "2022-06-22T23:10:55.777Z"
   },
   {
    "duration": 56,
    "start_time": "2022-06-22T23:10:55.844Z"
   },
   {
    "duration": 7,
    "start_time": "2022-06-22T23:10:55.904Z"
   },
   {
    "duration": 31,
    "start_time": "2022-06-22T23:10:55.913Z"
   },
   {
    "duration": 27,
    "start_time": "2022-06-22T23:10:55.946Z"
   },
   {
    "duration": 8,
    "start_time": "2022-06-22T23:10:55.978Z"
   },
   {
    "duration": 61,
    "start_time": "2022-06-22T23:10:55.987Z"
   },
   {
    "duration": 13,
    "start_time": "2022-06-22T23:10:56.049Z"
   },
   {
    "duration": 9,
    "start_time": "2022-06-22T23:10:56.064Z"
   },
   {
    "duration": 26,
    "start_time": "2022-06-22T23:10:56.074Z"
   },
   {
    "duration": 13,
    "start_time": "2022-06-22T23:10:56.102Z"
   },
   {
    "duration": 9,
    "start_time": "2022-06-22T23:10:56.142Z"
   },
   {
    "duration": 13,
    "start_time": "2022-06-22T23:10:56.153Z"
   },
   {
    "duration": 11,
    "start_time": "2022-06-22T23:10:56.168Z"
   },
   {
    "duration": 6,
    "start_time": "2022-06-22T23:10:56.180Z"
   },
   {
    "duration": 13,
    "start_time": "2022-06-22T23:10:56.188Z"
   },
   {
    "duration": 39,
    "start_time": "2022-06-22T23:10:56.203Z"
   },
   {
    "duration": 8,
    "start_time": "2022-06-22T23:10:56.244Z"
   },
   {
    "duration": 33,
    "start_time": "2022-06-22T23:10:56.255Z"
   },
   {
    "duration": 87,
    "start_time": "2022-06-22T23:10:56.290Z"
   },
   {
    "duration": 3,
    "start_time": "2022-06-22T23:10:56.378Z"
   },
   {
    "duration": 11,
    "start_time": "2022-06-22T23:10:56.382Z"
   },
   {
    "duration": 54,
    "start_time": "2022-06-22T23:10:56.394Z"
   },
   {
    "duration": 8,
    "start_time": "2022-06-22T23:10:56.450Z"
   },
   {
    "duration": 51,
    "start_time": "2022-06-22T23:10:56.460Z"
   },
   {
    "duration": 36,
    "start_time": "2022-06-22T23:10:56.512Z"
   },
   {
    "duration": 24,
    "start_time": "2022-06-22T23:10:56.551Z"
   },
   {
    "duration": 21,
    "start_time": "2022-06-22T23:10:56.577Z"
   },
   {
    "duration": 51,
    "start_time": "2022-06-22T23:10:56.600Z"
   },
   {
    "duration": 9,
    "start_time": "2022-06-22T23:10:56.652Z"
   },
   {
    "duration": 14,
    "start_time": "2022-06-22T23:10:56.664Z"
   },
   {
    "duration": 33,
    "start_time": "2022-06-22T23:10:56.682Z"
   },
   {
    "duration": 173,
    "start_time": "2022-06-22T23:10:56.720Z"
   },
   {
    "duration": 3,
    "start_time": "2022-06-22T23:10:56.895Z"
   },
   {
    "duration": 24,
    "start_time": "2022-06-22T23:10:56.899Z"
   },
   {
    "duration": 31,
    "start_time": "2022-06-22T23:10:56.924Z"
   },
   {
    "duration": 8,
    "start_time": "2022-06-22T23:10:56.957Z"
   },
   {
    "duration": 23,
    "start_time": "2022-06-22T23:10:56.966Z"
   },
   {
    "duration": 3,
    "start_time": "2022-06-22T23:10:56.991Z"
   },
   {
    "duration": 301,
    "start_time": "2022-06-22T23:10:56.996Z"
   },
   {
    "duration": 274,
    "start_time": "2022-06-22T23:10:57.299Z"
   },
   {
    "duration": 8,
    "start_time": "2022-06-22T23:10:57.575Z"
   },
   {
    "duration": 283,
    "start_time": "2022-06-22T23:10:57.585Z"
   },
   {
    "duration": 15,
    "start_time": "2022-06-22T23:10:57.871Z"
   },
   {
    "duration": 11,
    "start_time": "2022-06-22T23:10:57.888Z"
   },
   {
    "duration": 344,
    "start_time": "2022-06-22T23:10:57.900Z"
   },
   {
    "duration": 6,
    "start_time": "2022-06-22T23:10:58.245Z"
   },
   {
    "duration": 11,
    "start_time": "2022-06-22T23:10:58.252Z"
   },
   {
    "duration": 7,
    "start_time": "2022-06-22T23:10:58.265Z"
   },
   {
    "duration": 15,
    "start_time": "2022-06-22T23:10:58.274Z"
   },
   {
    "duration": 6,
    "start_time": "2022-06-22T23:10:58.291Z"
   },
   {
    "duration": 232,
    "start_time": "2022-06-22T23:10:58.298Z"
   },
   {
    "duration": 17,
    "start_time": "2022-06-22T23:10:58.531Z"
   },
   {
    "duration": 23,
    "start_time": "2022-06-22T23:10:58.551Z"
   },
   {
    "duration": 11,
    "start_time": "2022-06-22T23:10:58.576Z"
   },
   {
    "duration": 140,
    "start_time": "2022-06-22T23:10:58.589Z"
   },
   {
    "duration": 19,
    "start_time": "2022-06-22T23:10:58.730Z"
   },
   {
    "duration": 131,
    "start_time": "2022-06-22T23:10:58.751Z"
   },
   {
    "duration": 286,
    "start_time": "2022-06-22T23:10:58.884Z"
   },
   {
    "duration": 6,
    "start_time": "2022-06-22T23:10:59.176Z"
   },
   {
    "duration": 10,
    "start_time": "2022-06-22T23:10:59.184Z"
   },
   {
    "duration": 3,
    "start_time": "2022-06-22T23:10:59.196Z"
   },
   {
    "duration": 14,
    "start_time": "2022-06-22T23:10:59.201Z"
   },
   {
    "duration": 29,
    "start_time": "2022-06-22T23:10:59.216Z"
   },
   {
    "duration": 112,
    "start_time": "2022-06-22T23:10:59.247Z"
   },
   {
    "duration": 8,
    "start_time": "2022-06-22T23:10:59.361Z"
   },
   {
    "duration": 9,
    "start_time": "2022-06-22T23:10:59.370Z"
   },
   {
    "duration": 5,
    "start_time": "2022-06-22T23:10:59.381Z"
   },
   {
    "duration": 5,
    "start_time": "2022-06-22T23:10:59.388Z"
   },
   {
    "duration": 9,
    "start_time": "2022-06-22T23:10:59.395Z"
   },
   {
    "duration": 1116,
    "start_time": "2022-06-22T23:11:46.984Z"
   },
   {
    "duration": 433,
    "start_time": "2022-06-22T23:11:48.102Z"
   },
   {
    "duration": 19,
    "start_time": "2022-06-22T23:11:48.537Z"
   },
   {
    "duration": 34,
    "start_time": "2022-06-22T23:11:48.558Z"
   },
   {
    "duration": 48,
    "start_time": "2022-06-22T23:11:48.594Z"
   },
   {
    "duration": 9,
    "start_time": "2022-06-22T23:11:48.644Z"
   },
   {
    "duration": 25,
    "start_time": "2022-06-22T23:11:48.655Z"
   },
   {
    "duration": 65,
    "start_time": "2022-06-22T23:11:48.681Z"
   },
   {
    "duration": 18,
    "start_time": "2022-06-22T23:11:48.748Z"
   },
   {
    "duration": 8,
    "start_time": "2022-06-22T23:11:48.768Z"
   },
   {
    "duration": 13,
    "start_time": "2022-06-22T23:11:48.777Z"
   },
   {
    "duration": 13,
    "start_time": "2022-06-22T23:11:48.792Z"
   },
   {
    "duration": 35,
    "start_time": "2022-06-22T23:11:48.807Z"
   },
   {
    "duration": 10,
    "start_time": "2022-06-22T23:11:48.844Z"
   },
   {
    "duration": 14,
    "start_time": "2022-06-22T23:11:48.856Z"
   },
   {
    "duration": 16,
    "start_time": "2022-06-22T23:11:48.872Z"
   },
   {
    "duration": 9,
    "start_time": "2022-06-22T23:11:48.890Z"
   },
   {
    "duration": 52,
    "start_time": "2022-06-22T23:11:48.901Z"
   },
   {
    "duration": 90,
    "start_time": "2022-06-22T23:11:48.955Z"
   },
   {
    "duration": 9,
    "start_time": "2022-06-22T23:11:49.047Z"
   },
   {
    "duration": 69,
    "start_time": "2022-06-22T23:11:49.058Z"
   },
   {
    "duration": 14,
    "start_time": "2022-06-22T23:11:49.129Z"
   },
   {
    "duration": 51,
    "start_time": "2022-06-22T23:11:49.145Z"
   },
   {
    "duration": 149,
    "start_time": "2022-06-22T23:11:49.198Z"
   },
   {
    "duration": 10,
    "start_time": "2022-06-22T23:11:49.348Z"
   },
   {
    "duration": 10,
    "start_time": "2022-06-22T23:11:49.360Z"
   },
   {
    "duration": 84,
    "start_time": "2022-06-22T23:11:49.372Z"
   },
   {
    "duration": 8,
    "start_time": "2022-06-22T23:11:49.460Z"
   },
   {
    "duration": 89,
    "start_time": "2022-06-22T23:11:49.469Z"
   },
   {
    "duration": 12,
    "start_time": "2022-06-22T23:11:49.560Z"
   },
   {
    "duration": 7,
    "start_time": "2022-06-22T23:11:49.573Z"
   },
   {
    "duration": 77,
    "start_time": "2022-06-22T23:11:49.581Z"
   },
   {
    "duration": 11,
    "start_time": "2022-06-22T23:11:49.660Z"
   },
   {
    "duration": 8,
    "start_time": "2022-06-22T23:11:49.673Z"
   },
   {
    "duration": 66,
    "start_time": "2022-06-22T23:11:49.683Z"
   },
   {
    "duration": 8,
    "start_time": "2022-06-22T23:11:49.750Z"
   },
   {
    "duration": 6,
    "start_time": "2022-06-22T23:11:49.760Z"
   },
   {
    "duration": 13,
    "start_time": "2022-06-22T23:11:49.767Z"
   },
   {
    "duration": 8,
    "start_time": "2022-06-22T23:11:49.781Z"
   },
   {
    "duration": 7,
    "start_time": "2022-06-22T23:11:49.791Z"
   },
   {
    "duration": 28,
    "start_time": "2022-06-22T23:11:49.800Z"
   },
   {
    "duration": 134,
    "start_time": "2022-06-22T23:11:49.842Z"
   },
   {
    "duration": 3,
    "start_time": "2022-06-22T23:11:49.978Z"
   },
   {
    "duration": 63,
    "start_time": "2022-06-22T23:11:49.982Z"
   },
   {
    "duration": 103,
    "start_time": "2022-06-22T23:11:50.046Z"
   },
   {
    "duration": 12,
    "start_time": "2022-06-22T23:11:50.151Z"
   },
   {
    "duration": 106,
    "start_time": "2022-06-22T23:11:50.165Z"
   },
   {
    "duration": 71,
    "start_time": "2022-06-22T23:11:50.274Z"
   },
   {
    "duration": 24,
    "start_time": "2022-06-22T23:11:50.347Z"
   },
   {
    "duration": 81,
    "start_time": "2022-06-22T23:11:50.373Z"
   },
   {
    "duration": 23,
    "start_time": "2022-06-22T23:11:50.456Z"
   },
   {
    "duration": 66,
    "start_time": "2022-06-22T23:11:50.481Z"
   },
   {
    "duration": 16,
    "start_time": "2022-06-22T23:11:50.549Z"
   },
   {
    "duration": 19,
    "start_time": "2022-06-22T23:11:50.567Z"
   },
   {
    "duration": 171,
    "start_time": "2022-06-22T23:11:50.588Z"
   },
   {
    "duration": 2,
    "start_time": "2022-06-22T23:11:50.761Z"
   },
   {
    "duration": 23,
    "start_time": "2022-06-22T23:11:50.765Z"
   },
   {
    "duration": 23,
    "start_time": "2022-06-22T23:11:50.790Z"
   },
   {
    "duration": 30,
    "start_time": "2022-06-22T23:11:50.815Z"
   },
   {
    "duration": 14,
    "start_time": "2022-06-22T23:11:50.847Z"
   },
   {
    "duration": 3,
    "start_time": "2022-06-22T23:11:50.863Z"
   },
   {
    "duration": 279,
    "start_time": "2022-06-22T23:11:50.869Z"
   },
   {
    "duration": 250,
    "start_time": "2022-06-22T23:11:51.150Z"
   },
   {
    "duration": 10,
    "start_time": "2022-06-22T23:11:51.402Z"
   },
   {
    "duration": 228,
    "start_time": "2022-06-22T23:11:51.414Z"
   },
   {
    "duration": 15,
    "start_time": "2022-06-22T23:11:51.645Z"
   },
   {
    "duration": 9,
    "start_time": "2022-06-22T23:11:51.661Z"
   },
   {
    "duration": 235,
    "start_time": "2022-06-22T23:11:51.672Z"
   },
   {
    "duration": 6,
    "start_time": "2022-06-22T23:11:51.909Z"
   },
   {
    "duration": 24,
    "start_time": "2022-06-22T23:11:51.917Z"
   },
   {
    "duration": 3,
    "start_time": "2022-06-22T23:11:51.943Z"
   },
   {
    "duration": 16,
    "start_time": "2022-06-22T23:11:51.947Z"
   },
   {
    "duration": 6,
    "start_time": "2022-06-22T23:11:51.965Z"
   },
   {
    "duration": 243,
    "start_time": "2022-06-22T23:11:51.973Z"
   },
   {
    "duration": 10,
    "start_time": "2022-06-22T23:11:52.219Z"
   },
   {
    "duration": 13,
    "start_time": "2022-06-22T23:11:52.242Z"
   },
   {
    "duration": 8,
    "start_time": "2022-06-22T23:11:52.257Z"
   },
   {
    "duration": 140,
    "start_time": "2022-06-22T23:11:52.266Z"
   },
   {
    "duration": 8,
    "start_time": "2022-06-22T23:11:52.408Z"
   },
   {
    "duration": 142,
    "start_time": "2022-06-22T23:11:52.419Z"
   },
   {
    "duration": 294,
    "start_time": "2022-06-22T23:11:52.563Z"
   },
   {
    "duration": 9,
    "start_time": "2022-06-22T23:11:52.864Z"
   },
   {
    "duration": 8,
    "start_time": "2022-06-22T23:11:52.874Z"
   },
   {
    "duration": 5,
    "start_time": "2022-06-22T23:11:52.883Z"
   },
   {
    "duration": 14,
    "start_time": "2022-06-22T23:11:52.890Z"
   },
   {
    "duration": 8,
    "start_time": "2022-06-22T23:11:52.905Z"
   },
   {
    "duration": 132,
    "start_time": "2022-06-22T23:11:52.914Z"
   },
   {
    "duration": 9,
    "start_time": "2022-06-22T23:11:53.048Z"
   },
   {
    "duration": 10,
    "start_time": "2022-06-22T23:11:53.059Z"
   },
   {
    "duration": 4,
    "start_time": "2022-06-22T23:11:53.071Z"
   },
   {
    "duration": 5,
    "start_time": "2022-06-22T23:11:53.077Z"
   },
   {
    "duration": 7,
    "start_time": "2022-06-22T23:11:53.083Z"
   },
   {
    "duration": 4,
    "start_time": "2022-06-22T23:15:10.722Z"
   },
   {
    "duration": 4,
    "start_time": "2022-06-22T23:15:59.791Z"
   },
   {
    "duration": 4,
    "start_time": "2022-06-22T23:16:18.929Z"
   },
   {
    "duration": 4,
    "start_time": "2022-06-22T23:17:32.471Z"
   },
   {
    "duration": 4,
    "start_time": "2022-06-22T23:17:38.299Z"
   },
   {
    "duration": 1169,
    "start_time": "2022-06-22T23:18:50.017Z"
   },
   {
    "duration": 411,
    "start_time": "2022-06-22T23:18:51.188Z"
   },
   {
    "duration": 15,
    "start_time": "2022-06-22T23:18:51.601Z"
   },
   {
    "duration": 31,
    "start_time": "2022-06-22T23:18:51.619Z"
   },
   {
    "duration": 24,
    "start_time": "2022-06-22T23:18:51.652Z"
   },
   {
    "duration": 10,
    "start_time": "2022-06-22T23:18:51.678Z"
   },
   {
    "duration": 53,
    "start_time": "2022-06-22T23:18:51.689Z"
   },
   {
    "duration": 34,
    "start_time": "2022-06-22T23:18:51.744Z"
   },
   {
    "duration": 28,
    "start_time": "2022-06-22T23:18:51.780Z"
   },
   {
    "duration": 32,
    "start_time": "2022-06-22T23:18:51.812Z"
   },
   {
    "duration": 10,
    "start_time": "2022-06-22T23:18:51.846Z"
   },
   {
    "duration": 13,
    "start_time": "2022-06-22T23:18:51.857Z"
   },
   {
    "duration": 38,
    "start_time": "2022-06-22T23:18:51.872Z"
   },
   {
    "duration": 36,
    "start_time": "2022-06-22T23:18:51.912Z"
   },
   {
    "duration": 16,
    "start_time": "2022-06-22T23:18:51.951Z"
   },
   {
    "duration": 19,
    "start_time": "2022-06-22T23:18:51.969Z"
   },
   {
    "duration": 10,
    "start_time": "2022-06-22T23:18:51.990Z"
   },
   {
    "duration": 77,
    "start_time": "2022-06-22T23:18:52.002Z"
   },
   {
    "duration": 88,
    "start_time": "2022-06-22T23:18:52.081Z"
   },
   {
    "duration": 7,
    "start_time": "2022-06-22T23:18:52.170Z"
   },
   {
    "duration": 76,
    "start_time": "2022-06-22T23:18:52.179Z"
   },
   {
    "duration": 9,
    "start_time": "2022-06-22T23:18:52.257Z"
   },
   {
    "duration": 47,
    "start_time": "2022-06-22T23:18:52.268Z"
   },
   {
    "duration": 73,
    "start_time": "2022-06-22T23:18:52.317Z"
   },
   {
    "duration": 8,
    "start_time": "2022-06-22T23:18:52.392Z"
   },
   {
    "duration": 8,
    "start_time": "2022-06-22T23:18:52.402Z"
   },
   {
    "duration": 58,
    "start_time": "2022-06-22T23:18:52.412Z"
   },
   {
    "duration": 8,
    "start_time": "2022-06-22T23:18:52.474Z"
   },
   {
    "duration": 34,
    "start_time": "2022-06-22T23:18:52.484Z"
   },
   {
    "duration": 30,
    "start_time": "2022-06-22T23:18:52.520Z"
   },
   {
    "duration": 8,
    "start_time": "2022-06-22T23:18:52.553Z"
   },
   {
    "duration": 22,
    "start_time": "2022-06-22T23:18:52.563Z"
   },
   {
    "duration": 11,
    "start_time": "2022-06-22T23:18:52.587Z"
   },
   {
    "duration": 8,
    "start_time": "2022-06-22T23:18:52.599Z"
   },
   {
    "duration": 18,
    "start_time": "2022-06-22T23:18:52.643Z"
   },
   {
    "duration": 8,
    "start_time": "2022-06-22T23:18:52.663Z"
   },
   {
    "duration": 5,
    "start_time": "2022-06-22T23:18:52.673Z"
   },
   {
    "duration": 15,
    "start_time": "2022-06-22T23:18:52.680Z"
   },
   {
    "duration": 10,
    "start_time": "2022-06-22T23:18:52.698Z"
   },
   {
    "duration": 33,
    "start_time": "2022-06-22T23:18:52.710Z"
   },
   {
    "duration": 32,
    "start_time": "2022-06-22T23:18:52.744Z"
   },
   {
    "duration": 79,
    "start_time": "2022-06-22T23:18:52.778Z"
   },
   {
    "duration": 3,
    "start_time": "2022-06-22T23:18:52.859Z"
   },
   {
    "duration": 9,
    "start_time": "2022-06-22T23:18:52.864Z"
   },
   {
    "duration": 69,
    "start_time": "2022-06-22T23:18:52.874Z"
   },
   {
    "duration": 9,
    "start_time": "2022-06-22T23:18:52.945Z"
   },
   {
    "duration": 54,
    "start_time": "2022-06-22T23:18:52.957Z"
   },
   {
    "duration": 33,
    "start_time": "2022-06-22T23:18:53.013Z"
   },
   {
    "duration": 21,
    "start_time": "2022-06-22T23:18:53.048Z"
   },
   {
    "duration": 22,
    "start_time": "2022-06-22T23:18:53.071Z"
   },
   {
    "duration": 52,
    "start_time": "2022-06-22T23:18:53.095Z"
   },
   {
    "duration": 11,
    "start_time": "2022-06-22T23:18:53.149Z"
   },
   {
    "duration": 13,
    "start_time": "2022-06-22T23:18:53.161Z"
   },
   {
    "duration": 20,
    "start_time": "2022-06-22T23:18:53.176Z"
   },
   {
    "duration": 153,
    "start_time": "2022-06-22T23:18:53.198Z"
   },
   {
    "duration": 3,
    "start_time": "2022-06-22T23:18:53.353Z"
   },
   {
    "duration": 28,
    "start_time": "2022-06-22T23:18:53.358Z"
   },
   {
    "duration": 23,
    "start_time": "2022-06-22T23:18:53.388Z"
   },
   {
    "duration": 32,
    "start_time": "2022-06-22T23:18:53.412Z"
   },
   {
    "duration": 15,
    "start_time": "2022-06-22T23:18:53.446Z"
   },
   {
    "duration": 2,
    "start_time": "2022-06-22T23:18:53.463Z"
   },
   {
    "duration": 276,
    "start_time": "2022-06-22T23:18:53.467Z"
   },
   {
    "duration": 255,
    "start_time": "2022-06-22T23:18:53.745Z"
   },
   {
    "duration": 9,
    "start_time": "2022-06-22T23:18:54.002Z"
   },
   {
    "duration": 229,
    "start_time": "2022-06-22T23:18:54.013Z"
   },
   {
    "duration": 14,
    "start_time": "2022-06-22T23:18:54.244Z"
   },
   {
    "duration": 9,
    "start_time": "2022-06-22T23:18:54.259Z"
   },
   {
    "duration": 236,
    "start_time": "2022-06-22T23:18:54.269Z"
   },
   {
    "duration": 5,
    "start_time": "2022-06-22T23:18:54.507Z"
   },
   {
    "duration": 8,
    "start_time": "2022-06-22T23:18:54.513Z"
   },
   {
    "duration": 5,
    "start_time": "2022-06-22T23:18:54.522Z"
   },
   {
    "duration": 14,
    "start_time": "2022-06-22T23:18:54.542Z"
   },
   {
    "duration": 7,
    "start_time": "2022-06-22T23:18:54.557Z"
   },
   {
    "duration": 220,
    "start_time": "2022-06-22T23:18:54.565Z"
   },
   {
    "duration": 10,
    "start_time": "2022-06-22T23:18:54.787Z"
   },
   {
    "duration": 15,
    "start_time": "2022-06-22T23:18:54.799Z"
   },
   {
    "duration": 4,
    "start_time": "2022-06-22T23:18:54.815Z"
   },
   {
    "duration": 33,
    "start_time": "2022-06-22T23:18:54.820Z"
   },
   {
    "duration": 140,
    "start_time": "2022-06-22T23:18:54.855Z"
   },
   {
    "duration": 9,
    "start_time": "2022-06-22T23:18:54.997Z"
   },
   {
    "duration": 137,
    "start_time": "2022-06-22T23:18:55.012Z"
   },
   {
    "duration": 300,
    "start_time": "2022-06-22T23:18:55.156Z"
   },
   {
    "duration": 8,
    "start_time": "2022-06-22T23:18:55.458Z"
   },
   {
    "duration": 6,
    "start_time": "2022-06-22T23:18:55.468Z"
   },
   {
    "duration": 4,
    "start_time": "2022-06-22T23:18:55.476Z"
   },
   {
    "duration": 16,
    "start_time": "2022-06-22T23:18:55.482Z"
   },
   {
    "duration": 7,
    "start_time": "2022-06-22T23:18:55.500Z"
   },
   {
    "duration": 121,
    "start_time": "2022-06-22T23:18:55.509Z"
   },
   {
    "duration": 8,
    "start_time": "2022-06-22T23:18:55.642Z"
   },
   {
    "duration": 10,
    "start_time": "2022-06-22T23:18:55.652Z"
   },
   {
    "duration": 9,
    "start_time": "2022-06-22T23:18:55.664Z"
   },
   {
    "duration": 6,
    "start_time": "2022-06-22T23:18:55.674Z"
   },
   {
    "duration": 9,
    "start_time": "2022-06-22T23:18:55.681Z"
   },
   {
    "duration": 1397,
    "start_time": "2022-06-22T23:20:39.927Z"
   },
   {
    "duration": 448,
    "start_time": "2022-06-22T23:20:41.326Z"
   },
   {
    "duration": 14,
    "start_time": "2022-06-22T23:20:41.776Z"
   },
   {
    "duration": 35,
    "start_time": "2022-06-22T23:20:41.792Z"
   },
   {
    "duration": 29,
    "start_time": "2022-06-22T23:20:41.829Z"
   },
   {
    "duration": 12,
    "start_time": "2022-06-22T23:20:41.861Z"
   },
   {
    "duration": 24,
    "start_time": "2022-06-22T23:20:41.875Z"
   },
   {
    "duration": 60,
    "start_time": "2022-06-22T23:20:41.901Z"
   },
   {
    "duration": 22,
    "start_time": "2022-06-22T23:20:41.963Z"
   },
   {
    "duration": 10,
    "start_time": "2022-06-22T23:20:41.989Z"
   },
   {
    "duration": 39,
    "start_time": "2022-06-22T23:20:42.002Z"
   },
   {
    "duration": 17,
    "start_time": "2022-06-22T23:20:42.047Z"
   },
   {
    "duration": 40,
    "start_time": "2022-06-22T23:20:42.066Z"
   },
   {
    "duration": 16,
    "start_time": "2022-06-22T23:20:42.108Z"
   },
   {
    "duration": 16,
    "start_time": "2022-06-22T23:20:42.143Z"
   },
   {
    "duration": 21,
    "start_time": "2022-06-22T23:20:42.161Z"
   },
   {
    "duration": 13,
    "start_time": "2022-06-22T23:20:42.185Z"
   },
   {
    "duration": 78,
    "start_time": "2022-06-22T23:20:42.200Z"
   },
   {
    "duration": 94,
    "start_time": "2022-06-22T23:20:42.280Z"
   },
   {
    "duration": 8,
    "start_time": "2022-06-22T23:20:42.376Z"
   },
   {
    "duration": 110,
    "start_time": "2022-06-22T23:20:42.387Z"
   },
   {
    "duration": 13,
    "start_time": "2022-06-22T23:20:42.500Z"
   },
   {
    "duration": 71,
    "start_time": "2022-06-22T23:20:42.516Z"
   },
   {
    "duration": 88,
    "start_time": "2022-06-22T23:20:42.590Z"
   },
   {
    "duration": 9,
    "start_time": "2022-06-22T23:20:42.680Z"
   },
   {
    "duration": 11,
    "start_time": "2022-06-22T23:20:42.691Z"
   },
   {
    "duration": 49,
    "start_time": "2022-06-22T23:20:42.704Z"
   },
   {
    "duration": 8,
    "start_time": "2022-06-22T23:20:42.757Z"
   },
   {
    "duration": 43,
    "start_time": "2022-06-22T23:20:42.767Z"
   },
   {
    "duration": 34,
    "start_time": "2022-06-22T23:20:42.813Z"
   },
   {
    "duration": 11,
    "start_time": "2022-06-22T23:20:42.850Z"
   },
   {
    "duration": 27,
    "start_time": "2022-06-22T23:20:42.863Z"
   },
   {
    "duration": 14,
    "start_time": "2022-06-22T23:20:42.892Z"
   },
   {
    "duration": 35,
    "start_time": "2022-06-22T23:20:42.907Z"
   },
   {
    "duration": 16,
    "start_time": "2022-06-22T23:20:42.944Z"
   },
   {
    "duration": 10,
    "start_time": "2022-06-22T23:20:42.962Z"
   },
   {
    "duration": 6,
    "start_time": "2022-06-22T23:20:42.975Z"
   },
   {
    "duration": 16,
    "start_time": "2022-06-22T23:20:42.983Z"
   },
   {
    "duration": 41,
    "start_time": "2022-06-22T23:20:43.001Z"
   },
   {
    "duration": 13,
    "start_time": "2022-06-22T23:20:43.044Z"
   },
   {
    "duration": 35,
    "start_time": "2022-06-22T23:20:43.059Z"
   },
   {
    "duration": 81,
    "start_time": "2022-06-22T23:20:43.096Z"
   },
   {
    "duration": 3,
    "start_time": "2022-06-22T23:20:43.180Z"
   },
   {
    "duration": 25,
    "start_time": "2022-06-22T23:20:43.184Z"
   },
   {
    "duration": 49,
    "start_time": "2022-06-22T23:20:43.211Z"
   },
   {
    "duration": 12,
    "start_time": "2022-06-22T23:20:43.262Z"
   },
   {
    "duration": 72,
    "start_time": "2022-06-22T23:20:43.276Z"
   },
   {
    "duration": 21,
    "start_time": "2022-06-22T23:20:43.350Z"
   },
   {
    "duration": 23,
    "start_time": "2022-06-22T23:20:43.373Z"
   },
   {
    "duration": 58,
    "start_time": "2022-06-22T23:20:43.398Z"
   },
   {
    "duration": 24,
    "start_time": "2022-06-22T23:20:43.458Z"
   },
   {
    "duration": 13,
    "start_time": "2022-06-22T23:20:43.483Z"
   },
   {
    "duration": 23,
    "start_time": "2022-06-22T23:20:43.498Z"
   },
   {
    "duration": 25,
    "start_time": "2022-06-22T23:20:43.542Z"
   },
   {
    "duration": 146,
    "start_time": "2022-06-22T23:20:43.569Z"
   },
   {
    "duration": 3,
    "start_time": "2022-06-22T23:20:43.716Z"
   },
   {
    "duration": 30,
    "start_time": "2022-06-22T23:20:43.721Z"
   },
   {
    "duration": 21,
    "start_time": "2022-06-22T23:20:43.753Z"
   },
   {
    "duration": 11,
    "start_time": "2022-06-22T23:20:43.776Z"
   },
   {
    "duration": 16,
    "start_time": "2022-06-22T23:20:43.789Z"
   },
   {
    "duration": 34,
    "start_time": "2022-06-22T23:20:43.808Z"
   },
   {
    "duration": 291,
    "start_time": "2022-06-22T23:20:43.844Z"
   },
   {
    "duration": 256,
    "start_time": "2022-06-22T23:20:44.137Z"
   },
   {
    "duration": 11,
    "start_time": "2022-06-22T23:20:44.398Z"
   },
   {
    "duration": 296,
    "start_time": "2022-06-22T23:20:44.411Z"
   },
   {
    "duration": 16,
    "start_time": "2022-06-22T23:20:44.709Z"
   },
   {
    "duration": 23,
    "start_time": "2022-06-22T23:20:44.727Z"
   },
   {
    "duration": 290,
    "start_time": "2022-06-22T23:20:44.752Z"
   },
   {
    "duration": 7,
    "start_time": "2022-06-22T23:20:45.044Z"
   },
   {
    "duration": 25,
    "start_time": "2022-06-22T23:20:45.054Z"
   },
   {
    "duration": 5,
    "start_time": "2022-06-22T23:20:45.081Z"
   },
   {
    "duration": 20,
    "start_time": "2022-06-22T23:20:45.089Z"
   },
   {
    "duration": 8,
    "start_time": "2022-06-22T23:20:45.111Z"
   },
   {
    "duration": 241,
    "start_time": "2022-06-22T23:20:45.121Z"
   },
   {
    "duration": 14,
    "start_time": "2022-06-22T23:20:45.364Z"
   },
   {
    "duration": 21,
    "start_time": "2022-06-22T23:20:45.380Z"
   },
   {
    "duration": 5,
    "start_time": "2022-06-22T23:20:45.403Z"
   },
   {
    "duration": 32,
    "start_time": "2022-06-22T23:20:45.410Z"
   },
   {
    "duration": 137,
    "start_time": "2022-06-22T23:20:45.444Z"
   },
   {
    "duration": 13,
    "start_time": "2022-06-22T23:20:45.584Z"
   },
   {
    "duration": 159,
    "start_time": "2022-06-22T23:20:45.599Z"
   },
   {
    "duration": 285,
    "start_time": "2022-06-22T23:20:45.763Z"
   },
   {
    "duration": 10,
    "start_time": "2022-06-22T23:20:46.051Z"
   },
   {
    "duration": 10,
    "start_time": "2022-06-22T23:20:46.063Z"
   },
   {
    "duration": 5,
    "start_time": "2022-06-22T23:20:46.075Z"
   },
   {
    "duration": 15,
    "start_time": "2022-06-22T23:20:46.082Z"
   },
   {
    "duration": 11,
    "start_time": "2022-06-22T23:20:46.099Z"
   },
   {
    "duration": 143,
    "start_time": "2022-06-22T23:20:46.112Z"
   },
   {
    "duration": 10,
    "start_time": "2022-06-22T23:20:46.258Z"
   },
   {
    "duration": 17,
    "start_time": "2022-06-22T23:20:46.271Z"
   },
   {
    "duration": 5,
    "start_time": "2022-06-22T23:20:46.290Z"
   },
   {
    "duration": 4,
    "start_time": "2022-06-22T23:20:46.297Z"
   },
   {
    "duration": 6,
    "start_time": "2022-06-22T23:20:46.303Z"
   },
   {
    "duration": 4,
    "start_time": "2022-06-22T23:23:16.986Z"
   },
   {
    "duration": 4,
    "start_time": "2022-06-22T23:24:16.199Z"
   },
   {
    "duration": 1178,
    "start_time": "2022-06-22T23:25:19.843Z"
   },
   {
    "duration": 434,
    "start_time": "2022-06-22T23:25:21.022Z"
   },
   {
    "duration": 15,
    "start_time": "2022-06-22T23:25:21.460Z"
   },
   {
    "duration": 42,
    "start_time": "2022-06-22T23:25:21.478Z"
   },
   {
    "duration": 35,
    "start_time": "2022-06-22T23:25:21.522Z"
   },
   {
    "duration": 9,
    "start_time": "2022-06-22T23:25:21.559Z"
   },
   {
    "duration": 23,
    "start_time": "2022-06-22T23:25:21.570Z"
   },
   {
    "duration": 57,
    "start_time": "2022-06-22T23:25:21.595Z"
   },
   {
    "duration": 19,
    "start_time": "2022-06-22T23:25:21.654Z"
   },
   {
    "duration": 10,
    "start_time": "2022-06-22T23:25:21.677Z"
   },
   {
    "duration": 12,
    "start_time": "2022-06-22T23:25:21.689Z"
   },
   {
    "duration": 41,
    "start_time": "2022-06-22T23:25:21.703Z"
   },
   {
    "duration": 38,
    "start_time": "2022-06-22T23:25:21.747Z"
   },
   {
    "duration": 15,
    "start_time": "2022-06-22T23:25:21.787Z"
   },
   {
    "duration": 41,
    "start_time": "2022-06-22T23:25:21.804Z"
   },
   {
    "duration": 21,
    "start_time": "2022-06-22T23:25:21.848Z"
   },
   {
    "duration": 11,
    "start_time": "2022-06-22T23:25:21.871Z"
   },
   {
    "duration": 72,
    "start_time": "2022-06-22T23:25:21.883Z"
   },
   {
    "duration": 97,
    "start_time": "2022-06-22T23:25:21.957Z"
   },
   {
    "duration": 8,
    "start_time": "2022-06-22T23:25:22.056Z"
   },
   {
    "duration": 87,
    "start_time": "2022-06-22T23:25:22.065Z"
   },
   {
    "duration": 10,
    "start_time": "2022-06-22T23:25:22.155Z"
   },
   {
    "duration": 52,
    "start_time": "2022-06-22T23:25:22.166Z"
   },
   {
    "duration": 75,
    "start_time": "2022-06-22T23:25:22.220Z"
   },
   {
    "duration": 8,
    "start_time": "2022-06-22T23:25:22.297Z"
   },
   {
    "duration": 8,
    "start_time": "2022-06-22T23:25:22.307Z"
   },
   {
    "duration": 43,
    "start_time": "2022-06-22T23:25:22.317Z"
   },
   {
    "duration": 8,
    "start_time": "2022-06-22T23:25:22.365Z"
   },
   {
    "duration": 35,
    "start_time": "2022-06-22T23:25:22.375Z"
   },
   {
    "duration": 33,
    "start_time": "2022-06-22T23:25:22.412Z"
   },
   {
    "duration": 8,
    "start_time": "2022-06-22T23:25:22.447Z"
   },
   {
    "duration": 25,
    "start_time": "2022-06-22T23:25:22.457Z"
   },
   {
    "duration": 14,
    "start_time": "2022-06-22T23:25:22.484Z"
   },
   {
    "duration": 15,
    "start_time": "2022-06-22T23:25:22.500Z"
   },
   {
    "duration": 15,
    "start_time": "2022-06-22T23:25:22.542Z"
   },
   {
    "duration": 19,
    "start_time": "2022-06-22T23:25:22.559Z"
   },
   {
    "duration": 13,
    "start_time": "2022-06-22T23:25:22.579Z"
   },
   {
    "duration": 17,
    "start_time": "2022-06-22T23:25:22.595Z"
   },
   {
    "duration": 8,
    "start_time": "2022-06-22T23:25:22.615Z"
   },
   {
    "duration": 24,
    "start_time": "2022-06-22T23:25:22.626Z"
   },
   {
    "duration": 37,
    "start_time": "2022-06-22T23:25:22.652Z"
   },
   {
    "duration": 93,
    "start_time": "2022-06-22T23:25:22.692Z"
   },
   {
    "duration": 3,
    "start_time": "2022-06-22T23:25:22.787Z"
   },
   {
    "duration": 11,
    "start_time": "2022-06-22T23:25:22.791Z"
   },
   {
    "duration": 57,
    "start_time": "2022-06-22T23:25:22.804Z"
   },
   {
    "duration": 8,
    "start_time": "2022-06-22T23:25:22.863Z"
   },
   {
    "duration": 48,
    "start_time": "2022-06-22T23:25:22.873Z"
   },
   {
    "duration": 35,
    "start_time": "2022-06-22T23:25:22.923Z"
   },
   {
    "duration": 18,
    "start_time": "2022-06-22T23:25:22.961Z"
   },
   {
    "duration": 23,
    "start_time": "2022-06-22T23:25:22.981Z"
   },
   {
    "duration": 58,
    "start_time": "2022-06-22T23:25:23.006Z"
   },
   {
    "duration": 10,
    "start_time": "2022-06-22T23:25:23.066Z"
   },
   {
    "duration": 16,
    "start_time": "2022-06-22T23:25:23.078Z"
   },
   {
    "duration": 48,
    "start_time": "2022-06-22T23:25:23.096Z"
   },
   {
    "duration": 147,
    "start_time": "2022-06-22T23:25:23.146Z"
   },
   {
    "duration": 3,
    "start_time": "2022-06-22T23:25:23.295Z"
   },
   {
    "duration": 25,
    "start_time": "2022-06-22T23:25:23.299Z"
   },
   {
    "duration": 36,
    "start_time": "2022-06-22T23:25:23.326Z"
   },
   {
    "duration": 9,
    "start_time": "2022-06-22T23:25:23.365Z"
   },
   {
    "duration": 17,
    "start_time": "2022-06-22T23:25:23.377Z"
   },
   {
    "duration": 3,
    "start_time": "2022-06-22T23:25:23.396Z"
   },
   {
    "duration": 323,
    "start_time": "2022-06-22T23:25:23.403Z"
   },
   {
    "duration": 260,
    "start_time": "2022-06-22T23:25:23.728Z"
   },
   {
    "duration": 10,
    "start_time": "2022-06-22T23:25:23.989Z"
   },
   {
    "duration": 230,
    "start_time": "2022-06-22T23:25:24.001Z"
   },
   {
    "duration": 18,
    "start_time": "2022-06-22T23:25:24.233Z"
   },
   {
    "duration": 8,
    "start_time": "2022-06-22T23:25:24.253Z"
   },
   {
    "duration": 257,
    "start_time": "2022-06-22T23:25:24.263Z"
   },
   {
    "duration": 6,
    "start_time": "2022-06-22T23:25:24.522Z"
   },
   {
    "duration": 16,
    "start_time": "2022-06-22T23:25:24.530Z"
   },
   {
    "duration": 7,
    "start_time": "2022-06-22T23:25:24.547Z"
   },
   {
    "duration": 17,
    "start_time": "2022-06-22T23:25:24.555Z"
   },
   {
    "duration": 6,
    "start_time": "2022-06-22T23:25:24.574Z"
   },
   {
    "duration": 234,
    "start_time": "2022-06-22T23:25:24.581Z"
   },
   {
    "duration": 11,
    "start_time": "2022-06-22T23:25:24.817Z"
   },
   {
    "duration": 23,
    "start_time": "2022-06-22T23:25:24.830Z"
   },
   {
    "duration": 4,
    "start_time": "2022-06-22T23:25:24.854Z"
   },
   {
    "duration": 9,
    "start_time": "2022-06-22T23:25:24.859Z"
   },
   {
    "duration": 136,
    "start_time": "2022-06-22T23:25:24.870Z"
   },
   {
    "duration": 9,
    "start_time": "2022-06-22T23:25:25.007Z"
   },
   {
    "duration": 125,
    "start_time": "2022-06-22T23:25:25.017Z"
   },
   {
    "duration": 287,
    "start_time": "2022-06-22T23:25:25.148Z"
   },
   {
    "duration": 8,
    "start_time": "2022-06-22T23:25:25.442Z"
   },
   {
    "duration": 15,
    "start_time": "2022-06-22T23:25:25.452Z"
   },
   {
    "duration": 5,
    "start_time": "2022-06-22T23:25:25.469Z"
   },
   {
    "duration": 13,
    "start_time": "2022-06-22T23:25:25.475Z"
   },
   {
    "duration": 8,
    "start_time": "2022-06-22T23:25:25.490Z"
   },
   {
    "duration": 112,
    "start_time": "2022-06-22T23:25:25.500Z"
   },
   {
    "duration": 4,
    "start_time": "2022-06-22T23:25:25.615Z"
   },
   {
    "duration": 26,
    "start_time": "2022-06-22T23:25:25.621Z"
   },
   {
    "duration": 8,
    "start_time": "2022-06-22T23:25:25.649Z"
   },
   {
    "duration": 9,
    "start_time": "2022-06-22T23:25:25.658Z"
   },
   {
    "duration": 8,
    "start_time": "2022-06-22T23:25:25.668Z"
   },
   {
    "duration": 8,
    "start_time": "2022-06-22T23:25:25.677Z"
   },
   {
    "duration": 4,
    "start_time": "2022-06-22T23:27:57.974Z"
   },
   {
    "duration": 1148,
    "start_time": "2022-06-22T23:29:43.441Z"
   },
   {
    "duration": 418,
    "start_time": "2022-06-22T23:29:44.591Z"
   },
   {
    "duration": 15,
    "start_time": "2022-06-22T23:29:45.010Z"
   },
   {
    "duration": 45,
    "start_time": "2022-06-22T23:29:45.027Z"
   },
   {
    "duration": 23,
    "start_time": "2022-06-22T23:29:45.073Z"
   },
   {
    "duration": 9,
    "start_time": "2022-06-22T23:29:45.098Z"
   },
   {
    "duration": 45,
    "start_time": "2022-06-22T23:29:45.108Z"
   },
   {
    "duration": 32,
    "start_time": "2022-06-22T23:29:45.155Z"
   },
   {
    "duration": 18,
    "start_time": "2022-06-22T23:29:45.189Z"
   },
   {
    "duration": 9,
    "start_time": "2022-06-22T23:29:45.211Z"
   },
   {
    "duration": 10,
    "start_time": "2022-06-22T23:29:45.243Z"
   },
   {
    "duration": 13,
    "start_time": "2022-06-22T23:29:45.255Z"
   },
   {
    "duration": 31,
    "start_time": "2022-06-22T23:29:45.269Z"
   },
   {
    "duration": 11,
    "start_time": "2022-06-22T23:29:45.301Z"
   },
   {
    "duration": 11,
    "start_time": "2022-06-22T23:29:45.343Z"
   },
   {
    "duration": 16,
    "start_time": "2022-06-22T23:29:45.356Z"
   },
   {
    "duration": 12,
    "start_time": "2022-06-22T23:29:45.374Z"
   },
   {
    "duration": 73,
    "start_time": "2022-06-22T23:29:45.387Z"
   },
   {
    "duration": 88,
    "start_time": "2022-06-22T23:29:45.464Z"
   },
   {
    "duration": 7,
    "start_time": "2022-06-22T23:29:45.555Z"
   },
   {
    "duration": 78,
    "start_time": "2022-06-22T23:29:45.564Z"
   },
   {
    "duration": 9,
    "start_time": "2022-06-22T23:29:45.643Z"
   },
   {
    "duration": 47,
    "start_time": "2022-06-22T23:29:45.654Z"
   },
   {
    "duration": 78,
    "start_time": "2022-06-22T23:29:45.703Z"
   },
   {
    "duration": 7,
    "start_time": "2022-06-22T23:29:45.783Z"
   },
   {
    "duration": 9,
    "start_time": "2022-06-22T23:29:45.792Z"
   },
   {
    "duration": 43,
    "start_time": "2022-06-22T23:29:45.803Z"
   },
   {
    "duration": 7,
    "start_time": "2022-06-22T23:29:45.850Z"
   },
   {
    "duration": 33,
    "start_time": "2022-06-22T23:29:45.859Z"
   },
   {
    "duration": 11,
    "start_time": "2022-06-22T23:29:45.894Z"
   },
   {
    "duration": 6,
    "start_time": "2022-06-22T23:29:45.906Z"
   },
   {
    "duration": 22,
    "start_time": "2022-06-22T23:29:45.942Z"
   },
   {
    "duration": 10,
    "start_time": "2022-06-22T23:29:45.965Z"
   },
   {
    "duration": 9,
    "start_time": "2022-06-22T23:29:45.977Z"
   },
   {
    "duration": 13,
    "start_time": "2022-06-22T23:29:45.987Z"
   },
   {
    "duration": 11,
    "start_time": "2022-06-22T23:29:46.002Z"
   },
   {
    "duration": 31,
    "start_time": "2022-06-22T23:29:46.014Z"
   },
   {
    "duration": 20,
    "start_time": "2022-06-22T23:29:46.046Z"
   },
   {
    "duration": 12,
    "start_time": "2022-06-22T23:29:46.069Z"
   },
   {
    "duration": 9,
    "start_time": "2022-06-22T23:29:46.082Z"
   },
   {
    "duration": 48,
    "start_time": "2022-06-22T23:29:46.094Z"
   },
   {
    "duration": 65,
    "start_time": "2022-06-22T23:29:46.144Z"
   },
   {
    "duration": 2,
    "start_time": "2022-06-22T23:29:46.211Z"
   },
   {
    "duration": 27,
    "start_time": "2022-06-22T23:29:46.216Z"
   },
   {
    "duration": 42,
    "start_time": "2022-06-22T23:29:46.245Z"
   },
   {
    "duration": 7,
    "start_time": "2022-06-22T23:29:46.288Z"
   },
   {
    "duration": 62,
    "start_time": "2022-06-22T23:29:46.296Z"
   },
   {
    "duration": 14,
    "start_time": "2022-06-22T23:29:46.360Z"
   },
   {
    "duration": 15,
    "start_time": "2022-06-22T23:29:46.376Z"
   },
   {
    "duration": 19,
    "start_time": "2022-06-22T23:29:46.393Z"
   },
   {
    "duration": 48,
    "start_time": "2022-06-22T23:29:46.413Z"
   },
   {
    "duration": 8,
    "start_time": "2022-06-22T23:29:46.462Z"
   },
   {
    "duration": 13,
    "start_time": "2022-06-22T23:29:46.472Z"
   },
   {
    "duration": 18,
    "start_time": "2022-06-22T23:29:46.487Z"
   },
   {
    "duration": 155,
    "start_time": "2022-06-22T23:29:46.507Z"
   },
   {
    "duration": 3,
    "start_time": "2022-06-22T23:29:46.663Z"
   },
   {
    "duration": 29,
    "start_time": "2022-06-22T23:29:46.667Z"
   },
   {
    "duration": 44,
    "start_time": "2022-06-22T23:29:46.698Z"
   },
   {
    "duration": 10,
    "start_time": "2022-06-22T23:29:46.744Z"
   },
   {
    "duration": 23,
    "start_time": "2022-06-22T23:29:46.756Z"
   },
   {
    "duration": 3,
    "start_time": "2022-06-22T23:29:46.781Z"
   },
   {
    "duration": 282,
    "start_time": "2022-06-22T23:29:46.785Z"
   },
   {
    "duration": 234,
    "start_time": "2022-06-22T23:29:47.068Z"
   },
   {
    "duration": 9,
    "start_time": "2022-06-22T23:29:47.303Z"
   },
   {
    "duration": 222,
    "start_time": "2022-06-22T23:29:47.314Z"
   },
   {
    "duration": 14,
    "start_time": "2022-06-22T23:29:47.542Z"
   },
   {
    "duration": 10,
    "start_time": "2022-06-22T23:29:47.558Z"
   },
   {
    "duration": 232,
    "start_time": "2022-06-22T23:29:47.569Z"
   },
   {
    "duration": 5,
    "start_time": "2022-06-22T23:29:47.803Z"
   },
   {
    "duration": 8,
    "start_time": "2022-06-22T23:29:47.810Z"
   },
   {
    "duration": 8,
    "start_time": "2022-06-22T23:29:47.819Z"
   },
   {
    "duration": 26,
    "start_time": "2022-06-22T23:29:47.828Z"
   },
   {
    "duration": 6,
    "start_time": "2022-06-22T23:29:47.855Z"
   },
   {
    "duration": 210,
    "start_time": "2022-06-22T23:29:47.863Z"
   },
   {
    "duration": 10,
    "start_time": "2022-06-22T23:29:48.075Z"
   },
   {
    "duration": 13,
    "start_time": "2022-06-22T23:29:48.087Z"
   },
   {
    "duration": 3,
    "start_time": "2022-06-22T23:29:48.102Z"
   },
   {
    "duration": 10,
    "start_time": "2022-06-22T23:29:48.107Z"
   },
   {
    "duration": 120,
    "start_time": "2022-06-22T23:29:48.142Z"
   },
   {
    "duration": 9,
    "start_time": "2022-06-22T23:29:48.264Z"
   },
   {
    "duration": 127,
    "start_time": "2022-06-22T23:29:48.274Z"
   },
   {
    "duration": 264,
    "start_time": "2022-06-22T23:29:48.406Z"
   },
   {
    "duration": 7,
    "start_time": "2022-06-22T23:29:48.671Z"
   },
   {
    "duration": 6,
    "start_time": "2022-06-22T23:29:48.680Z"
   },
   {
    "duration": 4,
    "start_time": "2022-06-22T23:29:48.688Z"
   },
   {
    "duration": 14,
    "start_time": "2022-06-22T23:29:48.693Z"
   },
   {
    "duration": 6,
    "start_time": "2022-06-22T23:29:48.708Z"
   },
   {
    "duration": 112,
    "start_time": "2022-06-22T23:29:48.742Z"
   },
   {
    "duration": 3,
    "start_time": "2022-06-22T23:29:48.856Z"
   },
   {
    "duration": 13,
    "start_time": "2022-06-22T23:29:48.861Z"
   },
   {
    "duration": 8,
    "start_time": "2022-06-22T23:29:48.876Z"
   },
   {
    "duration": 5,
    "start_time": "2022-06-22T23:29:48.885Z"
   },
   {
    "duration": 6,
    "start_time": "2022-06-22T23:29:48.891Z"
   },
   {
    "duration": 11,
    "start_time": "2022-06-22T23:29:48.898Z"
   },
   {
    "duration": 6,
    "start_time": "2022-06-22T23:32:19.127Z"
   },
   {
    "duration": 3,
    "start_time": "2022-06-22T23:32:19.902Z"
   },
   {
    "duration": 6,
    "start_time": "2022-06-22T23:32:21.818Z"
   },
   {
    "duration": 1158,
    "start_time": "2022-06-22T23:32:34.340Z"
   },
   {
    "duration": 452,
    "start_time": "2022-06-22T23:32:35.500Z"
   },
   {
    "duration": 16,
    "start_time": "2022-06-22T23:32:35.954Z"
   },
   {
    "duration": 49,
    "start_time": "2022-06-22T23:32:35.973Z"
   },
   {
    "duration": 38,
    "start_time": "2022-06-22T23:32:36.024Z"
   },
   {
    "duration": 11,
    "start_time": "2022-06-22T23:32:36.063Z"
   },
   {
    "duration": 24,
    "start_time": "2022-06-22T23:32:36.076Z"
   },
   {
    "duration": 54,
    "start_time": "2022-06-22T23:32:36.102Z"
   },
   {
    "duration": 18,
    "start_time": "2022-06-22T23:32:36.158Z"
   },
   {
    "duration": 8,
    "start_time": "2022-06-22T23:32:36.179Z"
   },
   {
    "duration": 10,
    "start_time": "2022-06-22T23:32:36.188Z"
   },
   {
    "duration": 45,
    "start_time": "2022-06-22T23:32:36.199Z"
   },
   {
    "duration": 30,
    "start_time": "2022-06-22T23:32:36.245Z"
   },
   {
    "duration": 14,
    "start_time": "2022-06-22T23:32:36.276Z"
   },
   {
    "duration": 19,
    "start_time": "2022-06-22T23:32:36.292Z"
   },
   {
    "duration": 43,
    "start_time": "2022-06-22T23:32:36.314Z"
   },
   {
    "duration": 11,
    "start_time": "2022-06-22T23:32:36.359Z"
   },
   {
    "duration": 70,
    "start_time": "2022-06-22T23:32:36.372Z"
   },
   {
    "duration": 81,
    "start_time": "2022-06-22T23:32:36.443Z"
   },
   {
    "duration": 18,
    "start_time": "2022-06-22T23:32:36.525Z"
   },
   {
    "duration": 61,
    "start_time": "2022-06-22T23:32:36.544Z"
   },
   {
    "duration": 9,
    "start_time": "2022-06-22T23:32:36.607Z"
   },
   {
    "duration": 49,
    "start_time": "2022-06-22T23:32:36.642Z"
   },
   {
    "duration": 102,
    "start_time": "2022-06-22T23:32:36.693Z"
   },
   {
    "duration": 14,
    "start_time": "2022-06-22T23:32:36.798Z"
   },
   {
    "duration": 15,
    "start_time": "2022-06-22T23:32:36.814Z"
   },
   {
    "duration": 48,
    "start_time": "2022-06-22T23:32:36.831Z"
   },
   {
    "duration": 8,
    "start_time": "2022-06-22T23:32:36.884Z"
   },
   {
    "duration": 32,
    "start_time": "2022-06-22T23:32:36.894Z"
   },
   {
    "duration": 23,
    "start_time": "2022-06-22T23:32:36.928Z"
   },
   {
    "duration": 7,
    "start_time": "2022-06-22T23:32:36.953Z"
   },
   {
    "duration": 27,
    "start_time": "2022-06-22T23:32:36.964Z"
   },
   {
    "duration": 10,
    "start_time": "2022-06-22T23:32:36.992Z"
   },
   {
    "duration": 38,
    "start_time": "2022-06-22T23:32:37.004Z"
   },
   {
    "duration": 11,
    "start_time": "2022-06-22T23:32:37.044Z"
   },
   {
    "duration": 9,
    "start_time": "2022-06-22T23:32:37.056Z"
   },
   {
    "duration": 6,
    "start_time": "2022-06-22T23:32:37.067Z"
   },
   {
    "duration": 18,
    "start_time": "2022-06-22T23:32:37.075Z"
   },
   {
    "duration": 9,
    "start_time": "2022-06-22T23:32:37.095Z"
   },
   {
    "duration": 10,
    "start_time": "2022-06-22T23:32:37.142Z"
   },
   {
    "duration": 33,
    "start_time": "2022-06-22T23:32:37.153Z"
   },
   {
    "duration": 88,
    "start_time": "2022-06-22T23:32:37.187Z"
   },
   {
    "duration": 2,
    "start_time": "2022-06-22T23:32:37.277Z"
   },
   {
    "duration": 13,
    "start_time": "2022-06-22T23:32:37.281Z"
   },
   {
    "duration": 71,
    "start_time": "2022-06-22T23:32:37.296Z"
   },
   {
    "duration": 9,
    "start_time": "2022-06-22T23:32:37.369Z"
   },
   {
    "duration": 72,
    "start_time": "2022-06-22T23:32:37.380Z"
   },
   {
    "duration": 17,
    "start_time": "2022-06-22T23:32:37.454Z"
   },
   {
    "duration": 20,
    "start_time": "2022-06-22T23:32:37.474Z"
   },
   {
    "duration": 47,
    "start_time": "2022-06-22T23:32:37.496Z"
   },
   {
    "duration": 24,
    "start_time": "2022-06-22T23:32:37.545Z"
   },
   {
    "duration": 10,
    "start_time": "2022-06-22T23:32:37.571Z"
   },
   {
    "duration": 12,
    "start_time": "2022-06-22T23:32:37.583Z"
   },
   {
    "duration": 59,
    "start_time": "2022-06-22T23:32:37.598Z"
   },
   {
    "duration": 147,
    "start_time": "2022-06-22T23:32:37.660Z"
   },
   {
    "duration": 3,
    "start_time": "2022-06-22T23:32:37.809Z"
   },
   {
    "duration": 31,
    "start_time": "2022-06-22T23:32:37.813Z"
   },
   {
    "duration": 19,
    "start_time": "2022-06-22T23:32:37.846Z"
   },
   {
    "duration": 8,
    "start_time": "2022-06-22T23:32:37.866Z"
   },
   {
    "duration": 17,
    "start_time": "2022-06-22T23:32:37.875Z"
   },
   {
    "duration": 2,
    "start_time": "2022-06-22T23:32:37.894Z"
   },
   {
    "duration": 295,
    "start_time": "2022-06-22T23:32:37.898Z"
   },
   {
    "duration": 237,
    "start_time": "2022-06-22T23:32:38.195Z"
   },
   {
    "duration": 11,
    "start_time": "2022-06-22T23:32:38.434Z"
   },
   {
    "duration": 209,
    "start_time": "2022-06-22T23:32:38.447Z"
   },
   {
    "duration": 14,
    "start_time": "2022-06-22T23:32:38.658Z"
   },
   {
    "duration": 8,
    "start_time": "2022-06-22T23:32:38.674Z"
   },
   {
    "duration": 256,
    "start_time": "2022-06-22T23:32:38.684Z"
   },
   {
    "duration": 5,
    "start_time": "2022-06-22T23:32:38.942Z"
   },
   {
    "duration": 7,
    "start_time": "2022-06-22T23:32:38.949Z"
   },
   {
    "duration": 5,
    "start_time": "2022-06-22T23:32:38.958Z"
   },
   {
    "duration": 21,
    "start_time": "2022-06-22T23:32:38.965Z"
   },
   {
    "duration": 7,
    "start_time": "2022-06-22T23:32:38.987Z"
   },
   {
    "duration": 231,
    "start_time": "2022-06-22T23:32:38.995Z"
   },
   {
    "duration": 20,
    "start_time": "2022-06-22T23:32:39.228Z"
   },
   {
    "duration": 15,
    "start_time": "2022-06-22T23:32:39.250Z"
   },
   {
    "duration": 4,
    "start_time": "2022-06-22T23:32:39.267Z"
   },
   {
    "duration": 15,
    "start_time": "2022-06-22T23:32:39.272Z"
   },
   {
    "duration": 141,
    "start_time": "2022-06-22T23:32:39.288Z"
   },
   {
    "duration": 17,
    "start_time": "2022-06-22T23:32:39.431Z"
   },
   {
    "duration": 122,
    "start_time": "2022-06-22T23:32:39.450Z"
   },
   {
    "duration": 275,
    "start_time": "2022-06-22T23:32:39.577Z"
   },
   {
    "duration": 8,
    "start_time": "2022-06-22T23:32:39.854Z"
   },
   {
    "duration": 11,
    "start_time": "2022-06-22T23:32:39.864Z"
   },
   {
    "duration": 5,
    "start_time": "2022-06-22T23:32:39.877Z"
   },
   {
    "duration": 13,
    "start_time": "2022-06-22T23:32:39.884Z"
   },
   {
    "duration": 9,
    "start_time": "2022-06-22T23:32:39.899Z"
   },
   {
    "duration": 143,
    "start_time": "2022-06-22T23:32:39.910Z"
   },
   {
    "duration": 5,
    "start_time": "2022-06-22T23:32:40.055Z"
   },
   {
    "duration": 21,
    "start_time": "2022-06-22T23:32:40.063Z"
   },
   {
    "duration": 11,
    "start_time": "2022-06-22T23:32:40.086Z"
   },
   {
    "duration": 7,
    "start_time": "2022-06-22T23:32:40.099Z"
   },
   {
    "duration": 9,
    "start_time": "2022-06-22T23:32:40.108Z"
   },
   {
    "duration": 43,
    "start_time": "2022-06-22T23:32:40.119Z"
   },
   {
    "duration": 1194,
    "start_time": "2022-06-22T23:55:00.852Z"
   },
   {
    "duration": 1499,
    "start_time": "2022-06-22T23:55:02.048Z"
   },
   {
    "duration": 19,
    "start_time": "2022-06-22T23:55:03.549Z"
   },
   {
    "duration": 33,
    "start_time": "2022-06-22T23:55:03.570Z"
   },
   {
    "duration": 45,
    "start_time": "2022-06-22T23:55:03.604Z"
   },
   {
    "duration": 9,
    "start_time": "2022-06-22T23:55:03.651Z"
   },
   {
    "duration": 35,
    "start_time": "2022-06-22T23:55:03.662Z"
   },
   {
    "duration": 54,
    "start_time": "2022-06-22T23:55:03.699Z"
   },
   {
    "duration": 18,
    "start_time": "2022-06-22T23:55:03.755Z"
   },
   {
    "duration": 8,
    "start_time": "2022-06-22T23:55:03.776Z"
   },
   {
    "duration": 15,
    "start_time": "2022-06-22T23:55:03.786Z"
   },
   {
    "duration": 56,
    "start_time": "2022-06-22T23:55:03.803Z"
   },
   {
    "duration": 41,
    "start_time": "2022-06-22T23:55:03.862Z"
   },
   {
    "duration": 13,
    "start_time": "2022-06-22T23:55:03.905Z"
   },
   {
    "duration": 15,
    "start_time": "2022-06-22T23:55:03.920Z"
   },
   {
    "duration": 27,
    "start_time": "2022-06-22T23:55:03.937Z"
   },
   {
    "duration": 13,
    "start_time": "2022-06-22T23:55:03.967Z"
   },
   {
    "duration": 89,
    "start_time": "2022-06-22T23:55:03.983Z"
   },
   {
    "duration": 101,
    "start_time": "2022-06-22T23:55:04.074Z"
   },
   {
    "duration": 9,
    "start_time": "2022-06-22T23:55:04.177Z"
   },
   {
    "duration": 97,
    "start_time": "2022-06-22T23:55:04.188Z"
   },
   {
    "duration": 12,
    "start_time": "2022-06-22T23:55:04.288Z"
   },
   {
    "duration": 86,
    "start_time": "2022-06-22T23:55:04.302Z"
   },
   {
    "duration": 65,
    "start_time": "2022-06-22T23:55:04.390Z"
   },
   {
    "duration": 12,
    "start_time": "2022-06-22T23:55:04.457Z"
   },
   {
    "duration": 10,
    "start_time": "2022-06-22T23:55:04.471Z"
   },
   {
    "duration": 34,
    "start_time": "2022-06-22T23:55:04.483Z"
   },
   {
    "duration": 10,
    "start_time": "2022-06-22T23:55:04.545Z"
   },
   {
    "duration": 33,
    "start_time": "2022-06-22T23:55:04.557Z"
   },
   {
    "duration": 14,
    "start_time": "2022-06-22T23:55:04.592Z"
   },
   {
    "duration": 37,
    "start_time": "2022-06-22T23:55:04.608Z"
   },
   {
    "duration": 30,
    "start_time": "2022-06-22T23:55:04.648Z"
   },
   {
    "duration": 13,
    "start_time": "2022-06-22T23:55:04.681Z"
   },
   {
    "duration": 7,
    "start_time": "2022-06-22T23:55:04.696Z"
   },
   {
    "duration": 42,
    "start_time": "2022-06-22T23:55:04.706Z"
   },
   {
    "duration": 7,
    "start_time": "2022-06-22T23:55:04.751Z"
   },
   {
    "duration": 10,
    "start_time": "2022-06-22T23:55:04.760Z"
   },
   {
    "duration": 16,
    "start_time": "2022-06-22T23:55:04.772Z"
   },
   {
    "duration": 11,
    "start_time": "2022-06-22T23:55:04.790Z"
   },
   {
    "duration": 42,
    "start_time": "2022-06-22T23:55:04.802Z"
   },
   {
    "duration": 41,
    "start_time": "2022-06-22T23:55:04.846Z"
   },
   {
    "duration": 90,
    "start_time": "2022-06-22T23:55:04.889Z"
   },
   {
    "duration": 3,
    "start_time": "2022-06-22T23:55:04.981Z"
   },
   {
    "duration": 13,
    "start_time": "2022-06-22T23:55:04.986Z"
   },
   {
    "duration": 55,
    "start_time": "2022-06-22T23:55:05.001Z"
   },
   {
    "duration": 9,
    "start_time": "2022-06-22T23:55:05.058Z"
   },
   {
    "duration": 74,
    "start_time": "2022-06-22T23:55:05.069Z"
   },
   {
    "duration": 18,
    "start_time": "2022-06-22T23:55:05.145Z"
   },
   {
    "duration": 23,
    "start_time": "2022-06-22T23:55:05.165Z"
   },
   {
    "duration": 53,
    "start_time": "2022-06-22T23:55:05.190Z"
   },
   {
    "duration": 25,
    "start_time": "2022-06-22T23:55:05.245Z"
   },
   {
    "duration": 11,
    "start_time": "2022-06-22T23:55:05.272Z"
   },
   {
    "duration": 19,
    "start_time": "2022-06-22T23:55:05.285Z"
   },
   {
    "duration": 53,
    "start_time": "2022-06-22T23:55:05.306Z"
   },
   {
    "duration": 163,
    "start_time": "2022-06-22T23:55:05.361Z"
   },
   {
    "duration": 3,
    "start_time": "2022-06-22T23:55:05.526Z"
   },
   {
    "duration": 27,
    "start_time": "2022-06-22T23:55:05.530Z"
   },
   {
    "duration": 30,
    "start_time": "2022-06-22T23:55:05.559Z"
   },
   {
    "duration": 8,
    "start_time": "2022-06-22T23:55:05.591Z"
   },
   {
    "duration": 41,
    "start_time": "2022-06-22T23:55:05.601Z"
   },
   {
    "duration": 2,
    "start_time": "2022-06-22T23:55:05.644Z"
   },
   {
    "duration": 310,
    "start_time": "2022-06-22T23:55:05.648Z"
   },
   {
    "duration": 251,
    "start_time": "2022-06-22T23:55:05.960Z"
   },
   {
    "duration": 9,
    "start_time": "2022-06-22T23:55:06.213Z"
   },
   {
    "duration": 241,
    "start_time": "2022-06-22T23:55:06.224Z"
   },
   {
    "duration": 17,
    "start_time": "2022-06-22T23:55:06.467Z"
   },
   {
    "duration": 12,
    "start_time": "2022-06-22T23:55:06.485Z"
   },
   {
    "duration": 275,
    "start_time": "2022-06-22T23:55:06.500Z"
   },
   {
    "duration": 6,
    "start_time": "2022-06-22T23:55:06.778Z"
   },
   {
    "duration": 16,
    "start_time": "2022-06-22T23:55:06.786Z"
   },
   {
    "duration": 17,
    "start_time": "2022-06-22T23:55:06.804Z"
   },
   {
    "duration": 41,
    "start_time": "2022-06-22T23:55:06.824Z"
   },
   {
    "duration": 9,
    "start_time": "2022-06-22T23:55:06.867Z"
   },
   {
    "duration": 215,
    "start_time": "2022-06-22T23:55:06.879Z"
   },
   {
    "duration": 14,
    "start_time": "2022-06-22T23:55:07.096Z"
   },
   {
    "duration": 31,
    "start_time": "2022-06-22T23:55:07.112Z"
   },
   {
    "duration": 3,
    "start_time": "2022-06-22T23:55:07.145Z"
   },
   {
    "duration": 15,
    "start_time": "2022-06-22T23:55:07.151Z"
   },
   {
    "duration": 192,
    "start_time": "2022-06-22T23:55:07.168Z"
   },
   {
    "duration": 10,
    "start_time": "2022-06-22T23:55:07.362Z"
   },
   {
    "duration": 145,
    "start_time": "2022-06-22T23:55:07.374Z"
   },
   {
    "duration": 286,
    "start_time": "2022-06-22T23:55:07.524Z"
   },
   {
    "duration": 10,
    "start_time": "2022-06-22T23:55:07.813Z"
   },
   {
    "duration": 19,
    "start_time": "2022-06-22T23:55:07.825Z"
   },
   {
    "duration": 8,
    "start_time": "2022-06-22T23:55:07.846Z"
   },
   {
    "duration": 16,
    "start_time": "2022-06-22T23:55:07.856Z"
   },
   {
    "duration": 9,
    "start_time": "2022-06-22T23:55:07.874Z"
   },
   {
    "duration": 146,
    "start_time": "2022-06-22T23:55:07.885Z"
   },
   {
    "duration": 10,
    "start_time": "2022-06-22T23:55:08.033Z"
   },
   {
    "duration": 32,
    "start_time": "2022-06-22T23:55:08.045Z"
   },
   {
    "duration": 10,
    "start_time": "2022-06-22T23:55:08.079Z"
   },
   {
    "duration": 11,
    "start_time": "2022-06-22T23:55:08.091Z"
   },
   {
    "duration": 3,
    "start_time": "2022-06-22T23:55:08.104Z"
   },
   {
    "duration": 9,
    "start_time": "2022-06-22T23:55:08.109Z"
   },
   {
    "duration": 11,
    "start_time": "2022-06-22T23:59:01.978Z"
   },
   {
    "duration": 12,
    "start_time": "2022-06-22T23:59:08.948Z"
   },
   {
    "duration": 22,
    "start_time": "2022-06-22T23:59:31.923Z"
   },
   {
    "duration": 14,
    "start_time": "2022-06-22T23:59:48.988Z"
   },
   {
    "duration": 11,
    "start_time": "2022-06-22T23:59:59.601Z"
   },
   {
    "duration": 19,
    "start_time": "2022-06-23T00:01:35.518Z"
   },
   {
    "duration": 13,
    "start_time": "2022-06-23T00:02:09.331Z"
   },
   {
    "duration": 12,
    "start_time": "2022-06-23T00:05:27.035Z"
   },
   {
    "duration": 6,
    "start_time": "2022-06-23T00:05:37.658Z"
   },
   {
    "duration": 6,
    "start_time": "2022-06-23T00:05:40.576Z"
   },
   {
    "duration": 8,
    "start_time": "2022-06-23T00:05:46.056Z"
   },
   {
    "duration": 8,
    "start_time": "2022-06-23T00:05:48.368Z"
   },
   {
    "duration": 13,
    "start_time": "2022-06-23T00:05:58.623Z"
   },
   {
    "duration": 5,
    "start_time": "2022-06-23T00:06:04.042Z"
   },
   {
    "duration": 16,
    "start_time": "2022-06-23T00:06:10.349Z"
   },
   {
    "duration": 9,
    "start_time": "2022-06-23T00:07:54.208Z"
   },
   {
    "duration": 12,
    "start_time": "2022-06-23T00:07:58.788Z"
   },
   {
    "duration": 4,
    "start_time": "2022-06-23T00:08:23.090Z"
   },
   {
    "duration": 104,
    "start_time": "2022-06-23T00:08:28.001Z"
   },
   {
    "duration": 4,
    "start_time": "2022-06-23T00:08:32.837Z"
   },
   {
    "duration": 22,
    "start_time": "2022-06-23T00:08:40.576Z"
   },
   {
    "duration": 9,
    "start_time": "2022-06-23T00:08:45.174Z"
   },
   {
    "duration": 4,
    "start_time": "2022-06-23T00:38:04.911Z"
   },
   {
    "duration": 38,
    "start_time": "2022-06-23T00:38:08.282Z"
   },
   {
    "duration": 1167,
    "start_time": "2022-06-23T00:43:11.435Z"
   },
   {
    "duration": 414,
    "start_time": "2022-06-23T00:43:12.604Z"
   },
   {
    "duration": 13,
    "start_time": "2022-06-23T00:43:13.020Z"
   },
   {
    "duration": 31,
    "start_time": "2022-06-23T00:43:13.036Z"
   },
   {
    "duration": 21,
    "start_time": "2022-06-23T00:43:13.069Z"
   },
   {
    "duration": 8,
    "start_time": "2022-06-23T00:43:13.092Z"
   },
   {
    "duration": 22,
    "start_time": "2022-06-23T00:43:13.101Z"
   },
   {
    "duration": 30,
    "start_time": "2022-06-23T00:43:13.141Z"
   },
   {
    "duration": 16,
    "start_time": "2022-06-23T00:43:13.173Z"
   },
   {
    "duration": 8,
    "start_time": "2022-06-23T00:43:13.191Z"
   },
   {
    "duration": 14,
    "start_time": "2022-06-23T00:43:13.200Z"
   },
   {
    "duration": 31,
    "start_time": "2022-06-23T00:43:13.216Z"
   },
   {
    "duration": 30,
    "start_time": "2022-06-23T00:43:13.248Z"
   },
   {
    "duration": 10,
    "start_time": "2022-06-23T00:43:13.280Z"
   },
   {
    "duration": 13,
    "start_time": "2022-06-23T00:43:13.291Z"
   },
   {
    "duration": 39,
    "start_time": "2022-06-23T00:43:13.306Z"
   },
   {
    "duration": 9,
    "start_time": "2022-06-23T00:43:13.346Z"
   },
   {
    "duration": 53,
    "start_time": "2022-06-23T00:43:13.356Z"
   },
   {
    "duration": 92,
    "start_time": "2022-06-23T00:43:13.410Z"
   },
   {
    "duration": 7,
    "start_time": "2022-06-23T00:43:13.504Z"
   },
   {
    "duration": 74,
    "start_time": "2022-06-23T00:43:13.512Z"
   },
   {
    "duration": 8,
    "start_time": "2022-06-23T00:43:13.588Z"
   },
   {
    "duration": 56,
    "start_time": "2022-06-23T00:43:13.597Z"
   },
   {
    "duration": 62,
    "start_time": "2022-06-23T00:43:13.654Z"
   },
   {
    "duration": 7,
    "start_time": "2022-06-23T00:43:13.718Z"
   },
   {
    "duration": 21,
    "start_time": "2022-06-23T00:43:13.727Z"
   },
   {
    "duration": 23,
    "start_time": "2022-06-23T00:43:13.750Z"
   },
   {
    "duration": 7,
    "start_time": "2022-06-23T00:43:13.777Z"
   },
   {
    "duration": 56,
    "start_time": "2022-06-23T00:43:13.786Z"
   },
   {
    "duration": 12,
    "start_time": "2022-06-23T00:43:13.844Z"
   },
   {
    "duration": 6,
    "start_time": "2022-06-23T00:43:13.857Z"
   },
   {
    "duration": 22,
    "start_time": "2022-06-23T00:43:13.865Z"
   },
   {
    "duration": 10,
    "start_time": "2022-06-23T00:43:13.889Z"
   },
   {
    "duration": 7,
    "start_time": "2022-06-23T00:43:13.900Z"
   },
   {
    "duration": 40,
    "start_time": "2022-06-23T00:43:13.908Z"
   },
   {
    "duration": 7,
    "start_time": "2022-06-23T00:43:13.950Z"
   },
   {
    "duration": 6,
    "start_time": "2022-06-23T00:43:13.959Z"
   },
   {
    "duration": 12,
    "start_time": "2022-06-23T00:43:13.967Z"
   },
   {
    "duration": 7,
    "start_time": "2022-06-23T00:43:13.981Z"
   },
   {
    "duration": 7,
    "start_time": "2022-06-23T00:43:13.990Z"
   },
   {
    "duration": 58,
    "start_time": "2022-06-23T00:43:13.999Z"
   },
   {
    "duration": 64,
    "start_time": "2022-06-23T00:43:14.060Z"
   },
   {
    "duration": 2,
    "start_time": "2022-06-23T00:43:14.141Z"
   },
   {
    "duration": 7,
    "start_time": "2022-06-23T00:43:14.145Z"
   },
   {
    "duration": 12,
    "start_time": "2022-06-23T00:43:14.154Z"
   },
   {
    "duration": 8,
    "start_time": "2022-06-23T00:43:14.168Z"
   },
   {
    "duration": 39,
    "start_time": "2022-06-23T00:43:14.178Z"
   },
   {
    "duration": 24,
    "start_time": "2022-06-23T00:43:14.220Z"
   },
   {
    "duration": 47,
    "start_time": "2022-06-23T00:43:14.246Z"
   },
   {
    "duration": 14,
    "start_time": "2022-06-23T00:43:14.295Z"
   },
   {
    "duration": 36,
    "start_time": "2022-06-23T00:43:14.311Z"
   },
   {
    "duration": 19,
    "start_time": "2022-06-23T00:43:14.349Z"
   },
   {
    "duration": 21,
    "start_time": "2022-06-23T00:43:14.370Z"
   },
   {
    "duration": 7,
    "start_time": "2022-06-23T00:43:14.392Z"
   },
   {
    "duration": 14,
    "start_time": "2022-06-23T00:43:14.401Z"
   },
   {
    "duration": 18,
    "start_time": "2022-06-23T00:43:14.442Z"
   },
   {
    "duration": 134,
    "start_time": "2022-06-23T00:43:14.462Z"
   },
   {
    "duration": 3,
    "start_time": "2022-06-23T00:43:14.597Z"
   },
   {
    "duration": 24,
    "start_time": "2022-06-23T00:43:14.601Z"
   },
   {
    "duration": 26,
    "start_time": "2022-06-23T00:43:14.627Z"
   },
   {
    "duration": 7,
    "start_time": "2022-06-23T00:43:14.655Z"
   },
   {
    "duration": 19,
    "start_time": "2022-06-23T00:43:14.663Z"
   },
   {
    "duration": 3,
    "start_time": "2022-06-23T00:43:14.683Z"
   },
   {
    "duration": 277,
    "start_time": "2022-06-23T00:43:14.688Z"
   },
   {
    "duration": 231,
    "start_time": "2022-06-23T00:43:14.967Z"
   },
   {
    "duration": 8,
    "start_time": "2022-06-23T00:43:15.200Z"
   },
   {
    "duration": 198,
    "start_time": "2022-06-23T00:43:15.209Z"
   },
   {
    "duration": 12,
    "start_time": "2022-06-23T00:43:15.409Z"
   },
   {
    "duration": 19,
    "start_time": "2022-06-23T00:43:15.423Z"
   },
   {
    "duration": 210,
    "start_time": "2022-06-23T00:43:15.444Z"
   },
   {
    "duration": 5,
    "start_time": "2022-06-23T00:43:15.656Z"
   },
   {
    "duration": 9,
    "start_time": "2022-06-23T00:43:15.663Z"
   },
   {
    "duration": 5,
    "start_time": "2022-06-23T00:43:15.674Z"
   },
   {
    "duration": 17,
    "start_time": "2022-06-23T00:43:15.680Z"
   },
   {
    "duration": 6,
    "start_time": "2022-06-23T00:43:15.699Z"
   },
   {
    "duration": 219,
    "start_time": "2022-06-23T00:43:15.707Z"
   },
   {
    "duration": 15,
    "start_time": "2022-06-23T00:43:15.928Z"
   },
   {
    "duration": 13,
    "start_time": "2022-06-23T00:43:15.945Z"
   },
   {
    "duration": 4,
    "start_time": "2022-06-23T00:43:15.960Z"
   },
   {
    "duration": 10,
    "start_time": "2022-06-23T00:43:15.965Z"
   },
   {
    "duration": 130,
    "start_time": "2022-06-23T00:43:15.977Z"
   },
   {
    "duration": 8,
    "start_time": "2022-06-23T00:43:16.112Z"
   },
   {
    "duration": 122,
    "start_time": "2022-06-23T00:43:16.121Z"
   },
   {
    "duration": 247,
    "start_time": "2022-06-23T00:43:16.245Z"
   },
   {
    "duration": 6,
    "start_time": "2022-06-23T00:43:16.493Z"
   },
   {
    "duration": 8,
    "start_time": "2022-06-23T00:43:16.501Z"
   },
   {
    "duration": 6,
    "start_time": "2022-06-23T00:43:16.511Z"
   },
   {
    "duration": 27,
    "start_time": "2022-06-23T00:43:16.518Z"
   },
   {
    "duration": 7,
    "start_time": "2022-06-23T00:43:16.546Z"
   },
   {
    "duration": 103,
    "start_time": "2022-06-23T00:43:16.554Z"
   },
   {
    "duration": 3,
    "start_time": "2022-06-23T00:43:16.658Z"
   },
   {
    "duration": 11,
    "start_time": "2022-06-23T00:43:16.663Z"
   },
   {
    "duration": 13,
    "start_time": "2022-06-23T00:43:16.675Z"
   },
   {
    "duration": 7,
    "start_time": "2022-06-23T00:43:16.690Z"
   },
   {
    "duration": 15,
    "start_time": "2022-06-23T00:43:16.698Z"
   },
   {
    "duration": 29,
    "start_time": "2022-06-23T00:43:16.715Z"
   },
   {
    "duration": 1315,
    "start_time": "2023-02-03T10:26:52.831Z"
   },
   {
    "duration": 1209,
    "start_time": "2023-02-03T10:26:54.148Z"
   },
   {
    "duration": 14,
    "start_time": "2023-02-03T10:26:55.359Z"
   },
   {
    "duration": 30,
    "start_time": "2023-02-03T10:26:55.375Z"
   },
   {
    "duration": 22,
    "start_time": "2023-02-03T10:26:55.407Z"
   },
   {
    "duration": 9,
    "start_time": "2023-02-03T10:26:55.430Z"
   },
   {
    "duration": 21,
    "start_time": "2023-02-03T10:26:55.440Z"
   },
   {
    "duration": 52,
    "start_time": "2023-02-03T10:26:55.463Z"
   },
   {
    "duration": 16,
    "start_time": "2023-02-03T10:26:55.516Z"
   },
   {
    "duration": 7,
    "start_time": "2023-02-03T10:26:55.535Z"
   },
   {
    "duration": 9,
    "start_time": "2023-02-03T10:26:55.544Z"
   },
   {
    "duration": 38,
    "start_time": "2023-02-03T10:26:55.554Z"
   },
   {
    "duration": 29,
    "start_time": "2023-02-03T10:26:55.593Z"
   },
   {
    "duration": 9,
    "start_time": "2023-02-03T10:26:55.624Z"
   },
   {
    "duration": 17,
    "start_time": "2023-02-03T10:26:55.635Z"
   },
   {
    "duration": 21,
    "start_time": "2023-02-03T10:26:55.654Z"
   },
   {
    "duration": 12,
    "start_time": "2023-02-03T10:26:55.692Z"
   },
   {
    "duration": 52,
    "start_time": "2023-02-03T10:26:55.706Z"
   },
   {
    "duration": 97,
    "start_time": "2023-02-03T10:26:55.760Z"
   },
   {
    "duration": 6,
    "start_time": "2023-02-03T10:26:55.858Z"
   },
   {
    "duration": 69,
    "start_time": "2023-02-03T10:26:55.866Z"
   },
   {
    "duration": 8,
    "start_time": "2023-02-03T10:26:55.937Z"
   },
   {
    "duration": 56,
    "start_time": "2023-02-03T10:26:55.946Z"
   },
   {
    "duration": 53,
    "start_time": "2023-02-03T10:26:56.004Z"
   },
   {
    "duration": 7,
    "start_time": "2023-02-03T10:26:56.059Z"
   },
   {
    "duration": 25,
    "start_time": "2023-02-03T10:26:56.067Z"
   },
   {
    "duration": 36,
    "start_time": "2023-02-03T10:26:56.094Z"
   },
   {
    "duration": 7,
    "start_time": "2023-02-03T10:26:56.137Z"
   },
   {
    "duration": 65,
    "start_time": "2023-02-03T10:26:56.147Z"
   },
   {
    "duration": 15,
    "start_time": "2023-02-03T10:26:56.214Z"
   },
   {
    "duration": 20,
    "start_time": "2023-02-03T10:26:56.232Z"
   },
   {
    "duration": 45,
    "start_time": "2023-02-03T10:26:56.254Z"
   },
   {
    "duration": 12,
    "start_time": "2023-02-03T10:26:56.302Z"
   },
   {
    "duration": 18,
    "start_time": "2023-02-03T10:26:56.316Z"
   },
   {
    "duration": 27,
    "start_time": "2023-02-03T10:26:56.336Z"
   },
   {
    "duration": 13,
    "start_time": "2023-02-03T10:26:56.365Z"
   },
   {
    "duration": 9,
    "start_time": "2023-02-03T10:26:56.380Z"
   },
   {
    "duration": 40,
    "start_time": "2023-02-03T10:26:56.393Z"
   },
   {
    "duration": 21,
    "start_time": "2023-02-03T10:26:56.434Z"
   },
   {
    "duration": 7,
    "start_time": "2023-02-03T10:26:56.457Z"
   },
   {
    "duration": 30,
    "start_time": "2023-02-03T10:26:56.466Z"
   },
   {
    "duration": 60,
    "start_time": "2023-02-03T10:26:56.499Z"
   },
   {
    "duration": 3,
    "start_time": "2023-02-03T10:26:56.561Z"
   },
   {
    "duration": 27,
    "start_time": "2023-02-03T10:26:56.566Z"
   },
   {
    "duration": 12,
    "start_time": "2023-02-03T10:26:56.595Z"
   },
   {
    "duration": 42,
    "start_time": "2023-02-03T10:26:56.608Z"
   },
   {
    "duration": 7,
    "start_time": "2023-02-03T10:26:56.651Z"
   },
   {
    "duration": 66,
    "start_time": "2023-02-03T10:26:56.660Z"
   },
   {
    "duration": 15,
    "start_time": "2023-02-03T10:26:56.728Z"
   },
   {
    "duration": 26,
    "start_time": "2023-02-03T10:26:56.745Z"
   },
   {
    "duration": 42,
    "start_time": "2023-02-03T10:26:56.773Z"
   },
   {
    "duration": 29,
    "start_time": "2023-02-03T10:26:56.817Z"
   },
   {
    "duration": 8,
    "start_time": "2023-02-03T10:26:56.849Z"
   },
   {
    "duration": 39,
    "start_time": "2023-02-03T10:26:56.859Z"
   },
   {
    "duration": 20,
    "start_time": "2023-02-03T10:26:56.900Z"
   },
   {
    "duration": 143,
    "start_time": "2023-02-03T10:26:56.922Z"
   },
   {
    "duration": 15,
    "start_time": "2023-02-03T10:26:57.066Z"
   },
   {
    "duration": 23,
    "start_time": "2023-02-03T10:26:57.083Z"
   },
   {
    "duration": 11,
    "start_time": "2023-02-03T10:26:57.108Z"
   },
   {
    "duration": 20,
    "start_time": "2023-02-03T10:26:57.120Z"
   },
   {
    "duration": 260,
    "start_time": "2023-02-03T10:26:57.142Z"
   },
   {
    "duration": 228,
    "start_time": "2023-02-03T10:26:57.404Z"
   },
   {
    "duration": 7,
    "start_time": "2023-02-03T10:26:57.634Z"
   },
   {
    "duration": 194,
    "start_time": "2023-02-03T10:26:57.643Z"
   },
   {
    "duration": 14,
    "start_time": "2023-02-03T10:26:57.839Z"
   },
   {
    "duration": 14,
    "start_time": "2023-02-03T10:26:57.855Z"
   },
   {
    "duration": 217,
    "start_time": "2023-02-03T10:26:57.871Z"
   },
   {
    "duration": 5,
    "start_time": "2023-02-03T10:26:58.092Z"
   },
   {
    "duration": 9,
    "start_time": "2023-02-03T10:26:58.099Z"
   },
   {
    "duration": 21,
    "start_time": "2023-02-03T10:26:58.109Z"
   },
   {
    "duration": 9,
    "start_time": "2023-02-03T10:26:58.132Z"
   },
   {
    "duration": 199,
    "start_time": "2023-02-03T10:26:58.143Z"
   },
   {
    "duration": 9,
    "start_time": "2023-02-03T10:26:58.344Z"
   },
   {
    "duration": 19,
    "start_time": "2023-02-03T10:26:58.355Z"
   },
   {
    "duration": 3,
    "start_time": "2023-02-03T10:26:58.375Z"
   },
   {
    "duration": 7,
    "start_time": "2023-02-03T10:26:58.392Z"
   },
   {
    "duration": 115,
    "start_time": "2023-02-03T10:26:58.401Z"
   },
   {
    "duration": 8,
    "start_time": "2023-02-03T10:26:58.517Z"
   },
   {
    "duration": 122,
    "start_time": "2023-02-03T10:26:58.526Z"
   },
   {
    "duration": 286,
    "start_time": "2023-02-03T10:26:58.651Z"
   },
   {
    "duration": 6,
    "start_time": "2023-02-03T10:26:58.939Z"
   },
   {
    "duration": 6,
    "start_time": "2023-02-03T10:26:58.952Z"
   },
   {
    "duration": 17,
    "start_time": "2023-02-03T10:26:58.960Z"
   },
   {
    "duration": 22,
    "start_time": "2023-02-03T10:26:58.979Z"
   },
   {
    "duration": 105,
    "start_time": "2023-02-03T10:26:59.003Z"
   },
   {
    "duration": 4,
    "start_time": "2023-02-03T10:26:59.109Z"
   },
   {
    "duration": 16,
    "start_time": "2023-02-03T10:26:59.115Z"
   },
   {
    "duration": 16,
    "start_time": "2023-02-03T10:26:59.133Z"
   },
   {
    "duration": 10,
    "start_time": "2023-02-03T10:26:59.153Z"
   },
   {
    "duration": 26,
    "start_time": "2023-02-03T10:26:59.164Z"
   }
  ],
  "kernelspec": {
   "display_name": "Python 3 (ipykernel)",
   "language": "python",
   "name": "python3"
  },
  "language_info": {
   "codemirror_mode": {
    "name": "ipython",
    "version": 3
   },
   "file_extension": ".py",
   "mimetype": "text/x-python",
   "name": "python",
   "nbconvert_exporter": "python",
   "pygments_lexer": "ipython3",
   "version": "3.9.5"
  },
  "toc": {
   "base_numbering": 1,
   "nav_menu": {},
   "number_sections": true,
   "sideBar": true,
   "skip_h1_title": true,
   "title_cell": "Table of Contents",
   "title_sidebar": "Contents",
   "toc_cell": false,
   "toc_position": {
    "height": "calc(100% - 180px)",
    "left": "10px",
    "top": "150px",
    "width": "165px"
   },
   "toc_section_display": true,
   "toc_window_display": true
  }
 },
 "nbformat": 4,
 "nbformat_minor": 2
}
