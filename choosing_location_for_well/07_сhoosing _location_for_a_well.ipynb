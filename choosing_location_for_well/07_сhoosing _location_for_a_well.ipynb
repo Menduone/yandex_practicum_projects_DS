{
 "cells": [
  {
   "cell_type": "markdown",
   "metadata": {},
   "source": [
    "# Выбор локации для скважины"
   ]
  },
  {
   "cell_type": "markdown",
   "metadata": {},
   "source": [
    "# Описание проекта\n",
    "\n",
    "Допустим, мы работаем в добывающей компании «ГлавРосГосНефть». Нужно решить, где бурить новую скважину.\n",
    "\n",
    "Нам предоставлены пробы нефти в трёх регионах: в каждом 10 000 месторождений, где измерили качество нефти и объём её запасов. Нужно построить модель машинного обучения, которая поможет определить регион, где добыча принесёт наибольшую прибыль. Проанализируем возможную прибыль и риски техникой *Bootstrap.*\n",
    "\n",
    "Шаги для выбора локации:\n",
    "\n",
    "- В избранном регионе ищут месторождения, для каждого определяют значения признаков;\n",
    "- Строят модель и оценивают объём запасов;\n",
    "- Выбирают месторождения с самым высокими оценками значений. Количество месторождений зависит от бюджета компании и стоимости разработки одной скважины;\n",
    "- Прибыль равна суммарной прибыли отобранных месторождений.\n",
    "\n",
    "\n",
    "**`Также нам даны условия задачи:`**\n",
    "\n",
    "* Для обучения модели подходит только `линейная регрессия` (остальные — недостаточно предсказуемые);\n",
    "* При разведке региона исследуют `500 точек`, из которых с помощью машинного обучения `выбирают 200 лучших` для разработки;\n",
    "* `Бюджет` на разработку скважин в регионе — `10 млрд рублей`;\n",
    "* При нынешних ценах `один баррель` сырья приносит `450 рублей дохода`. `Доход с` каждой `единицы` продукта составляет `450 тыс.` рублей, поскольку объём указан в тысячах баррелей;\n",
    "* После оценки рисков нужно оставить лишь те регионы, в которых вероятность убытков `меньше 2.5%`. Среди них `выбирают` регион с `наибольшей средней прибылью`"
   ]
  },
  {
   "cell_type": "markdown",
   "metadata": {},
   "source": [
    "## Загрузка и подготовка данных"
   ]
  },
  {
   "cell_type": "code",
   "execution_count": 1,
   "metadata": {},
   "outputs": [],
   "source": [
    "import pandas as pd\n",
    "import numpy as np\n",
    "from numpy.random import RandomState\n",
    "from scipy import stats as st\n",
    "from sklearn.linear_model import LinearRegression\n",
    "from sklearn.model_selection import train_test_split\n",
    "from sklearn.metrics import mean_squared_error"
   ]
  },
  {
   "cell_type": "code",
   "execution_count": 2,
   "metadata": {},
   "outputs": [
    {
     "data": {
      "text/html": [
       "<div>\n",
       "<style scoped>\n",
       "    .dataframe tbody tr th:only-of-type {\n",
       "        vertical-align: middle;\n",
       "    }\n",
       "\n",
       "    .dataframe tbody tr th {\n",
       "        vertical-align: top;\n",
       "    }\n",
       "\n",
       "    .dataframe thead th {\n",
       "        text-align: right;\n",
       "    }\n",
       "</style>\n",
       "<table border=\"1\" class=\"dataframe\">\n",
       "  <thead>\n",
       "    <tr style=\"text-align: right;\">\n",
       "      <th></th>\n",
       "      <th>id</th>\n",
       "      <th>f0</th>\n",
       "      <th>f1</th>\n",
       "      <th>f2</th>\n",
       "      <th>product</th>\n",
       "    </tr>\n",
       "  </thead>\n",
       "  <tbody>\n",
       "    <tr>\n",
       "      <th>0</th>\n",
       "      <td>txEyH</td>\n",
       "      <td>0.705745</td>\n",
       "      <td>-0.497823</td>\n",
       "      <td>1.221170</td>\n",
       "      <td>105.280062</td>\n",
       "    </tr>\n",
       "    <tr>\n",
       "      <th>1</th>\n",
       "      <td>2acmU</td>\n",
       "      <td>1.334711</td>\n",
       "      <td>-0.340164</td>\n",
       "      <td>4.365080</td>\n",
       "      <td>73.037750</td>\n",
       "    </tr>\n",
       "    <tr>\n",
       "      <th>2</th>\n",
       "      <td>409Wp</td>\n",
       "      <td>1.022732</td>\n",
       "      <td>0.151990</td>\n",
       "      <td>1.419926</td>\n",
       "      <td>85.265647</td>\n",
       "    </tr>\n",
       "    <tr>\n",
       "      <th>3</th>\n",
       "      <td>iJLyR</td>\n",
       "      <td>-0.032172</td>\n",
       "      <td>0.139033</td>\n",
       "      <td>2.978566</td>\n",
       "      <td>168.620776</td>\n",
       "    </tr>\n",
       "    <tr>\n",
       "      <th>4</th>\n",
       "      <td>Xdl7t</td>\n",
       "      <td>1.988431</td>\n",
       "      <td>0.155413</td>\n",
       "      <td>4.751769</td>\n",
       "      <td>154.036647</td>\n",
       "    </tr>\n",
       "  </tbody>\n",
       "</table>\n",
       "</div>"
      ],
      "text/plain": [
       "      id        f0        f1        f2     product\n",
       "0  txEyH  0.705745 -0.497823  1.221170  105.280062\n",
       "1  2acmU  1.334711 -0.340164  4.365080   73.037750\n",
       "2  409Wp  1.022732  0.151990  1.419926   85.265647\n",
       "3  iJLyR -0.032172  0.139033  2.978566  168.620776\n",
       "4  Xdl7t  1.988431  0.155413  4.751769  154.036647"
      ]
     },
     "execution_count": 2,
     "metadata": {},
     "output_type": "execute_result"
    }
   ],
   "source": [
    "data1 = pd.read_csv('/datasets/geo_data_0.csv')\n",
    "data2 = pd.read_csv('/datasets/geo_data_1.csv')\n",
    "data3 = pd.read_csv('/datasets/geo_data_2.csv')\n",
    "data1.head()\n",
    "#data2.head()\n",
    "#data3.head()"
   ]
  },
  {
   "cell_type": "markdown",
   "metadata": {},
   "source": [
    "**Описание данных**\n",
    "\n",
    "* `id` — уникальный идентификатор скважины;\n",
    "* `f0, f1, f2` — три признака точек (неважно, что они означают, но сами признаки значимы);\n",
    "* `product` — объём запасов в скважине (тыс. баррелей)\n",
    "\n",
    "Так как нам даны данные трех разных регионов и их описание данных в названиях колонок схожи, будет неудобно объединять датасеты вместе\n",
    "\n",
    "* **Построим для них функцию, которая выведет информацию о всех трех регионах:**"
   ]
  },
  {
   "cell_type": "code",
   "execution_count": 3,
   "metadata": {},
   "outputs": [],
   "source": [
    "def my_info(x, y):  # аргумент x примет значение сохраненного датасета в переменной;\n",
    "                    # аргумент y примет описательный характер датасета, по которому будет описываться информация\n",
    "    print(y)\n",
    "    display(x.head())\n",
    "    print(f'Размер {y}: {x.shape}')\n",
    "    print()\n",
    "    print(f'Информация о {y}:')\n",
    "    print()\n",
    "    display(x.info())\n",
    "    display(x.describe())\n",
    "    print(f'Корреляция между признаками в {y}:')\n",
    "    display(x.corr())\n",
    "    print(f'Кол-во пропущенных значений в {y}:') \n",
    "    display(x.isna().sum())\n",
    "    print()\n",
    "    print(f'Кол-во дубликатов в {y}: {x.duplicated().sum()}')"
   ]
  },
  {
   "cell_type": "code",
   "execution_count": 4,
   "metadata": {},
   "outputs": [
    {
     "name": "stdout",
     "output_type": "stream",
     "text": [
      "data1\n"
     ]
    },
    {
     "data": {
      "text/html": [
       "<div>\n",
       "<style scoped>\n",
       "    .dataframe tbody tr th:only-of-type {\n",
       "        vertical-align: middle;\n",
       "    }\n",
       "\n",
       "    .dataframe tbody tr th {\n",
       "        vertical-align: top;\n",
       "    }\n",
       "\n",
       "    .dataframe thead th {\n",
       "        text-align: right;\n",
       "    }\n",
       "</style>\n",
       "<table border=\"1\" class=\"dataframe\">\n",
       "  <thead>\n",
       "    <tr style=\"text-align: right;\">\n",
       "      <th></th>\n",
       "      <th>id</th>\n",
       "      <th>f0</th>\n",
       "      <th>f1</th>\n",
       "      <th>f2</th>\n",
       "      <th>product</th>\n",
       "    </tr>\n",
       "  </thead>\n",
       "  <tbody>\n",
       "    <tr>\n",
       "      <th>0</th>\n",
       "      <td>txEyH</td>\n",
       "      <td>0.705745</td>\n",
       "      <td>-0.497823</td>\n",
       "      <td>1.221170</td>\n",
       "      <td>105.280062</td>\n",
       "    </tr>\n",
       "    <tr>\n",
       "      <th>1</th>\n",
       "      <td>2acmU</td>\n",
       "      <td>1.334711</td>\n",
       "      <td>-0.340164</td>\n",
       "      <td>4.365080</td>\n",
       "      <td>73.037750</td>\n",
       "    </tr>\n",
       "    <tr>\n",
       "      <th>2</th>\n",
       "      <td>409Wp</td>\n",
       "      <td>1.022732</td>\n",
       "      <td>0.151990</td>\n",
       "      <td>1.419926</td>\n",
       "      <td>85.265647</td>\n",
       "    </tr>\n",
       "    <tr>\n",
       "      <th>3</th>\n",
       "      <td>iJLyR</td>\n",
       "      <td>-0.032172</td>\n",
       "      <td>0.139033</td>\n",
       "      <td>2.978566</td>\n",
       "      <td>168.620776</td>\n",
       "    </tr>\n",
       "    <tr>\n",
       "      <th>4</th>\n",
       "      <td>Xdl7t</td>\n",
       "      <td>1.988431</td>\n",
       "      <td>0.155413</td>\n",
       "      <td>4.751769</td>\n",
       "      <td>154.036647</td>\n",
       "    </tr>\n",
       "  </tbody>\n",
       "</table>\n",
       "</div>"
      ],
      "text/plain": [
       "      id        f0        f1        f2     product\n",
       "0  txEyH  0.705745 -0.497823  1.221170  105.280062\n",
       "1  2acmU  1.334711 -0.340164  4.365080   73.037750\n",
       "2  409Wp  1.022732  0.151990  1.419926   85.265647\n",
       "3  iJLyR -0.032172  0.139033  2.978566  168.620776\n",
       "4  Xdl7t  1.988431  0.155413  4.751769  154.036647"
      ]
     },
     "metadata": {},
     "output_type": "display_data"
    },
    {
     "name": "stdout",
     "output_type": "stream",
     "text": [
      "Размер data1: (100000, 5)\n",
      "\n",
      "Информация о data1:\n",
      "\n",
      "<class 'pandas.core.frame.DataFrame'>\n",
      "RangeIndex: 100000 entries, 0 to 99999\n",
      "Data columns (total 5 columns):\n",
      " #   Column   Non-Null Count   Dtype  \n",
      "---  ------   --------------   -----  \n",
      " 0   id       100000 non-null  object \n",
      " 1   f0       100000 non-null  float64\n",
      " 2   f1       100000 non-null  float64\n",
      " 3   f2       100000 non-null  float64\n",
      " 4   product  100000 non-null  float64\n",
      "dtypes: float64(4), object(1)\n",
      "memory usage: 3.8+ MB\n"
     ]
    },
    {
     "data": {
      "text/plain": [
       "None"
      ]
     },
     "metadata": {},
     "output_type": "display_data"
    },
    {
     "data": {
      "text/html": [
       "<div>\n",
       "<style scoped>\n",
       "    .dataframe tbody tr th:only-of-type {\n",
       "        vertical-align: middle;\n",
       "    }\n",
       "\n",
       "    .dataframe tbody tr th {\n",
       "        vertical-align: top;\n",
       "    }\n",
       "\n",
       "    .dataframe thead th {\n",
       "        text-align: right;\n",
       "    }\n",
       "</style>\n",
       "<table border=\"1\" class=\"dataframe\">\n",
       "  <thead>\n",
       "    <tr style=\"text-align: right;\">\n",
       "      <th></th>\n",
       "      <th>f0</th>\n",
       "      <th>f1</th>\n",
       "      <th>f2</th>\n",
       "      <th>product</th>\n",
       "    </tr>\n",
       "  </thead>\n",
       "  <tbody>\n",
       "    <tr>\n",
       "      <th>count</th>\n",
       "      <td>100000.000000</td>\n",
       "      <td>100000.000000</td>\n",
       "      <td>100000.000000</td>\n",
       "      <td>100000.000000</td>\n",
       "    </tr>\n",
       "    <tr>\n",
       "      <th>mean</th>\n",
       "      <td>0.500419</td>\n",
       "      <td>0.250143</td>\n",
       "      <td>2.502647</td>\n",
       "      <td>92.500000</td>\n",
       "    </tr>\n",
       "    <tr>\n",
       "      <th>std</th>\n",
       "      <td>0.871832</td>\n",
       "      <td>0.504433</td>\n",
       "      <td>3.248248</td>\n",
       "      <td>44.288691</td>\n",
       "    </tr>\n",
       "    <tr>\n",
       "      <th>min</th>\n",
       "      <td>-1.408605</td>\n",
       "      <td>-0.848218</td>\n",
       "      <td>-12.088328</td>\n",
       "      <td>0.000000</td>\n",
       "    </tr>\n",
       "    <tr>\n",
       "      <th>25%</th>\n",
       "      <td>-0.072580</td>\n",
       "      <td>-0.200881</td>\n",
       "      <td>0.287748</td>\n",
       "      <td>56.497507</td>\n",
       "    </tr>\n",
       "    <tr>\n",
       "      <th>50%</th>\n",
       "      <td>0.502360</td>\n",
       "      <td>0.250252</td>\n",
       "      <td>2.515969</td>\n",
       "      <td>91.849972</td>\n",
       "    </tr>\n",
       "    <tr>\n",
       "      <th>75%</th>\n",
       "      <td>1.073581</td>\n",
       "      <td>0.700646</td>\n",
       "      <td>4.715088</td>\n",
       "      <td>128.564089</td>\n",
       "    </tr>\n",
       "    <tr>\n",
       "      <th>max</th>\n",
       "      <td>2.362331</td>\n",
       "      <td>1.343769</td>\n",
       "      <td>16.003790</td>\n",
       "      <td>185.364347</td>\n",
       "    </tr>\n",
       "  </tbody>\n",
       "</table>\n",
       "</div>"
      ],
      "text/plain": [
       "                  f0             f1             f2        product\n",
       "count  100000.000000  100000.000000  100000.000000  100000.000000\n",
       "mean        0.500419       0.250143       2.502647      92.500000\n",
       "std         0.871832       0.504433       3.248248      44.288691\n",
       "min        -1.408605      -0.848218     -12.088328       0.000000\n",
       "25%        -0.072580      -0.200881       0.287748      56.497507\n",
       "50%         0.502360       0.250252       2.515969      91.849972\n",
       "75%         1.073581       0.700646       4.715088     128.564089\n",
       "max         2.362331       1.343769      16.003790     185.364347"
      ]
     },
     "metadata": {},
     "output_type": "display_data"
    },
    {
     "name": "stdout",
     "output_type": "stream",
     "text": [
      "Корреляция между признаками в data1:\n"
     ]
    },
    {
     "data": {
      "text/html": [
       "<div>\n",
       "<style scoped>\n",
       "    .dataframe tbody tr th:only-of-type {\n",
       "        vertical-align: middle;\n",
       "    }\n",
       "\n",
       "    .dataframe tbody tr th {\n",
       "        vertical-align: top;\n",
       "    }\n",
       "\n",
       "    .dataframe thead th {\n",
       "        text-align: right;\n",
       "    }\n",
       "</style>\n",
       "<table border=\"1\" class=\"dataframe\">\n",
       "  <thead>\n",
       "    <tr style=\"text-align: right;\">\n",
       "      <th></th>\n",
       "      <th>f0</th>\n",
       "      <th>f1</th>\n",
       "      <th>f2</th>\n",
       "      <th>product</th>\n",
       "    </tr>\n",
       "  </thead>\n",
       "  <tbody>\n",
       "    <tr>\n",
       "      <th>f0</th>\n",
       "      <td>1.000000</td>\n",
       "      <td>-0.440723</td>\n",
       "      <td>-0.003153</td>\n",
       "      <td>0.143536</td>\n",
       "    </tr>\n",
       "    <tr>\n",
       "      <th>f1</th>\n",
       "      <td>-0.440723</td>\n",
       "      <td>1.000000</td>\n",
       "      <td>0.001724</td>\n",
       "      <td>-0.192356</td>\n",
       "    </tr>\n",
       "    <tr>\n",
       "      <th>f2</th>\n",
       "      <td>-0.003153</td>\n",
       "      <td>0.001724</td>\n",
       "      <td>1.000000</td>\n",
       "      <td>0.483663</td>\n",
       "    </tr>\n",
       "    <tr>\n",
       "      <th>product</th>\n",
       "      <td>0.143536</td>\n",
       "      <td>-0.192356</td>\n",
       "      <td>0.483663</td>\n",
       "      <td>1.000000</td>\n",
       "    </tr>\n",
       "  </tbody>\n",
       "</table>\n",
       "</div>"
      ],
      "text/plain": [
       "               f0        f1        f2   product\n",
       "f0       1.000000 -0.440723 -0.003153  0.143536\n",
       "f1      -0.440723  1.000000  0.001724 -0.192356\n",
       "f2      -0.003153  0.001724  1.000000  0.483663\n",
       "product  0.143536 -0.192356  0.483663  1.000000"
      ]
     },
     "metadata": {},
     "output_type": "display_data"
    },
    {
     "name": "stdout",
     "output_type": "stream",
     "text": [
      "Кол-во пропущенных значений в data1:\n"
     ]
    },
    {
     "data": {
      "text/plain": [
       "id         0\n",
       "f0         0\n",
       "f1         0\n",
       "f2         0\n",
       "product    0\n",
       "dtype: int64"
      ]
     },
     "metadata": {},
     "output_type": "display_data"
    },
    {
     "name": "stdout",
     "output_type": "stream",
     "text": [
      "\n",
      "Кол-во дубликатов в data1: 0\n"
     ]
    }
   ],
   "source": [
    "my_info(data1, 'data1')"
   ]
  },
  {
   "cell_type": "code",
   "execution_count": 5,
   "metadata": {},
   "outputs": [
    {
     "name": "stdout",
     "output_type": "stream",
     "text": [
      "data2\n"
     ]
    },
    {
     "data": {
      "text/html": [
       "<div>\n",
       "<style scoped>\n",
       "    .dataframe tbody tr th:only-of-type {\n",
       "        vertical-align: middle;\n",
       "    }\n",
       "\n",
       "    .dataframe tbody tr th {\n",
       "        vertical-align: top;\n",
       "    }\n",
       "\n",
       "    .dataframe thead th {\n",
       "        text-align: right;\n",
       "    }\n",
       "</style>\n",
       "<table border=\"1\" class=\"dataframe\">\n",
       "  <thead>\n",
       "    <tr style=\"text-align: right;\">\n",
       "      <th></th>\n",
       "      <th>id</th>\n",
       "      <th>f0</th>\n",
       "      <th>f1</th>\n",
       "      <th>f2</th>\n",
       "      <th>product</th>\n",
       "    </tr>\n",
       "  </thead>\n",
       "  <tbody>\n",
       "    <tr>\n",
       "      <th>0</th>\n",
       "      <td>kBEdx</td>\n",
       "      <td>-15.001348</td>\n",
       "      <td>-8.276000</td>\n",
       "      <td>-0.005876</td>\n",
       "      <td>3.179103</td>\n",
       "    </tr>\n",
       "    <tr>\n",
       "      <th>1</th>\n",
       "      <td>62mP7</td>\n",
       "      <td>14.272088</td>\n",
       "      <td>-3.475083</td>\n",
       "      <td>0.999183</td>\n",
       "      <td>26.953261</td>\n",
       "    </tr>\n",
       "    <tr>\n",
       "      <th>2</th>\n",
       "      <td>vyE1P</td>\n",
       "      <td>6.263187</td>\n",
       "      <td>-5.948386</td>\n",
       "      <td>5.001160</td>\n",
       "      <td>134.766305</td>\n",
       "    </tr>\n",
       "    <tr>\n",
       "      <th>3</th>\n",
       "      <td>KcrkZ</td>\n",
       "      <td>-13.081196</td>\n",
       "      <td>-11.506057</td>\n",
       "      <td>4.999415</td>\n",
       "      <td>137.945408</td>\n",
       "    </tr>\n",
       "    <tr>\n",
       "      <th>4</th>\n",
       "      <td>AHL4O</td>\n",
       "      <td>12.702195</td>\n",
       "      <td>-8.147433</td>\n",
       "      <td>5.004363</td>\n",
       "      <td>134.766305</td>\n",
       "    </tr>\n",
       "  </tbody>\n",
       "</table>\n",
       "</div>"
      ],
      "text/plain": [
       "      id         f0         f1        f2     product\n",
       "0  kBEdx -15.001348  -8.276000 -0.005876    3.179103\n",
       "1  62mP7  14.272088  -3.475083  0.999183   26.953261\n",
       "2  vyE1P   6.263187  -5.948386  5.001160  134.766305\n",
       "3  KcrkZ -13.081196 -11.506057  4.999415  137.945408\n",
       "4  AHL4O  12.702195  -8.147433  5.004363  134.766305"
      ]
     },
     "metadata": {},
     "output_type": "display_data"
    },
    {
     "name": "stdout",
     "output_type": "stream",
     "text": [
      "Размер data2: (100000, 5)\n",
      "\n",
      "Информация о data2:\n",
      "\n",
      "<class 'pandas.core.frame.DataFrame'>\n",
      "RangeIndex: 100000 entries, 0 to 99999\n",
      "Data columns (total 5 columns):\n",
      " #   Column   Non-Null Count   Dtype  \n",
      "---  ------   --------------   -----  \n",
      " 0   id       100000 non-null  object \n",
      " 1   f0       100000 non-null  float64\n",
      " 2   f1       100000 non-null  float64\n",
      " 3   f2       100000 non-null  float64\n",
      " 4   product  100000 non-null  float64\n",
      "dtypes: float64(4), object(1)\n",
      "memory usage: 3.8+ MB\n"
     ]
    },
    {
     "data": {
      "text/plain": [
       "None"
      ]
     },
     "metadata": {},
     "output_type": "display_data"
    },
    {
     "data": {
      "text/html": [
       "<div>\n",
       "<style scoped>\n",
       "    .dataframe tbody tr th:only-of-type {\n",
       "        vertical-align: middle;\n",
       "    }\n",
       "\n",
       "    .dataframe tbody tr th {\n",
       "        vertical-align: top;\n",
       "    }\n",
       "\n",
       "    .dataframe thead th {\n",
       "        text-align: right;\n",
       "    }\n",
       "</style>\n",
       "<table border=\"1\" class=\"dataframe\">\n",
       "  <thead>\n",
       "    <tr style=\"text-align: right;\">\n",
       "      <th></th>\n",
       "      <th>f0</th>\n",
       "      <th>f1</th>\n",
       "      <th>f2</th>\n",
       "      <th>product</th>\n",
       "    </tr>\n",
       "  </thead>\n",
       "  <tbody>\n",
       "    <tr>\n",
       "      <th>count</th>\n",
       "      <td>100000.000000</td>\n",
       "      <td>100000.000000</td>\n",
       "      <td>100000.000000</td>\n",
       "      <td>100000.000000</td>\n",
       "    </tr>\n",
       "    <tr>\n",
       "      <th>mean</th>\n",
       "      <td>1.141296</td>\n",
       "      <td>-4.796579</td>\n",
       "      <td>2.494541</td>\n",
       "      <td>68.825000</td>\n",
       "    </tr>\n",
       "    <tr>\n",
       "      <th>std</th>\n",
       "      <td>8.965932</td>\n",
       "      <td>5.119872</td>\n",
       "      <td>1.703572</td>\n",
       "      <td>45.944423</td>\n",
       "    </tr>\n",
       "    <tr>\n",
       "      <th>min</th>\n",
       "      <td>-31.609576</td>\n",
       "      <td>-26.358598</td>\n",
       "      <td>-0.018144</td>\n",
       "      <td>0.000000</td>\n",
       "    </tr>\n",
       "    <tr>\n",
       "      <th>25%</th>\n",
       "      <td>-6.298551</td>\n",
       "      <td>-8.267985</td>\n",
       "      <td>1.000021</td>\n",
       "      <td>26.953261</td>\n",
       "    </tr>\n",
       "    <tr>\n",
       "      <th>50%</th>\n",
       "      <td>1.153055</td>\n",
       "      <td>-4.813172</td>\n",
       "      <td>2.011479</td>\n",
       "      <td>57.085625</td>\n",
       "    </tr>\n",
       "    <tr>\n",
       "      <th>75%</th>\n",
       "      <td>8.621015</td>\n",
       "      <td>-1.332816</td>\n",
       "      <td>3.999904</td>\n",
       "      <td>107.813044</td>\n",
       "    </tr>\n",
       "    <tr>\n",
       "      <th>max</th>\n",
       "      <td>29.421755</td>\n",
       "      <td>18.734063</td>\n",
       "      <td>5.019721</td>\n",
       "      <td>137.945408</td>\n",
       "    </tr>\n",
       "  </tbody>\n",
       "</table>\n",
       "</div>"
      ],
      "text/plain": [
       "                  f0             f1             f2        product\n",
       "count  100000.000000  100000.000000  100000.000000  100000.000000\n",
       "mean        1.141296      -4.796579       2.494541      68.825000\n",
       "std         8.965932       5.119872       1.703572      45.944423\n",
       "min       -31.609576     -26.358598      -0.018144       0.000000\n",
       "25%        -6.298551      -8.267985       1.000021      26.953261\n",
       "50%         1.153055      -4.813172       2.011479      57.085625\n",
       "75%         8.621015      -1.332816       3.999904     107.813044\n",
       "max        29.421755      18.734063       5.019721     137.945408"
      ]
     },
     "metadata": {},
     "output_type": "display_data"
    },
    {
     "name": "stdout",
     "output_type": "stream",
     "text": [
      "Корреляция между признаками в data2:\n"
     ]
    },
    {
     "data": {
      "text/html": [
       "<div>\n",
       "<style scoped>\n",
       "    .dataframe tbody tr th:only-of-type {\n",
       "        vertical-align: middle;\n",
       "    }\n",
       "\n",
       "    .dataframe tbody tr th {\n",
       "        vertical-align: top;\n",
       "    }\n",
       "\n",
       "    .dataframe thead th {\n",
       "        text-align: right;\n",
       "    }\n",
       "</style>\n",
       "<table border=\"1\" class=\"dataframe\">\n",
       "  <thead>\n",
       "    <tr style=\"text-align: right;\">\n",
       "      <th></th>\n",
       "      <th>f0</th>\n",
       "      <th>f1</th>\n",
       "      <th>f2</th>\n",
       "      <th>product</th>\n",
       "    </tr>\n",
       "  </thead>\n",
       "  <tbody>\n",
       "    <tr>\n",
       "      <th>f0</th>\n",
       "      <td>1.000000</td>\n",
       "      <td>0.182287</td>\n",
       "      <td>-0.001777</td>\n",
       "      <td>-0.030491</td>\n",
       "    </tr>\n",
       "    <tr>\n",
       "      <th>f1</th>\n",
       "      <td>0.182287</td>\n",
       "      <td>1.000000</td>\n",
       "      <td>-0.002595</td>\n",
       "      <td>-0.010155</td>\n",
       "    </tr>\n",
       "    <tr>\n",
       "      <th>f2</th>\n",
       "      <td>-0.001777</td>\n",
       "      <td>-0.002595</td>\n",
       "      <td>1.000000</td>\n",
       "      <td>0.999397</td>\n",
       "    </tr>\n",
       "    <tr>\n",
       "      <th>product</th>\n",
       "      <td>-0.030491</td>\n",
       "      <td>-0.010155</td>\n",
       "      <td>0.999397</td>\n",
       "      <td>1.000000</td>\n",
       "    </tr>\n",
       "  </tbody>\n",
       "</table>\n",
       "</div>"
      ],
      "text/plain": [
       "               f0        f1        f2   product\n",
       "f0       1.000000  0.182287 -0.001777 -0.030491\n",
       "f1       0.182287  1.000000 -0.002595 -0.010155\n",
       "f2      -0.001777 -0.002595  1.000000  0.999397\n",
       "product -0.030491 -0.010155  0.999397  1.000000"
      ]
     },
     "metadata": {},
     "output_type": "display_data"
    },
    {
     "name": "stdout",
     "output_type": "stream",
     "text": [
      "Кол-во пропущенных значений в data2:\n"
     ]
    },
    {
     "data": {
      "text/plain": [
       "id         0\n",
       "f0         0\n",
       "f1         0\n",
       "f2         0\n",
       "product    0\n",
       "dtype: int64"
      ]
     },
     "metadata": {},
     "output_type": "display_data"
    },
    {
     "name": "stdout",
     "output_type": "stream",
     "text": [
      "\n",
      "Кол-во дубликатов в data2: 0\n"
     ]
    }
   ],
   "source": [
    "my_info(data2, 'data2')"
   ]
  },
  {
   "cell_type": "code",
   "execution_count": 6,
   "metadata": {},
   "outputs": [
    {
     "name": "stdout",
     "output_type": "stream",
     "text": [
      "data3\n"
     ]
    },
    {
     "data": {
      "text/html": [
       "<div>\n",
       "<style scoped>\n",
       "    .dataframe tbody tr th:only-of-type {\n",
       "        vertical-align: middle;\n",
       "    }\n",
       "\n",
       "    .dataframe tbody tr th {\n",
       "        vertical-align: top;\n",
       "    }\n",
       "\n",
       "    .dataframe thead th {\n",
       "        text-align: right;\n",
       "    }\n",
       "</style>\n",
       "<table border=\"1\" class=\"dataframe\">\n",
       "  <thead>\n",
       "    <tr style=\"text-align: right;\">\n",
       "      <th></th>\n",
       "      <th>id</th>\n",
       "      <th>f0</th>\n",
       "      <th>f1</th>\n",
       "      <th>f2</th>\n",
       "      <th>product</th>\n",
       "    </tr>\n",
       "  </thead>\n",
       "  <tbody>\n",
       "    <tr>\n",
       "      <th>0</th>\n",
       "      <td>fwXo0</td>\n",
       "      <td>-1.146987</td>\n",
       "      <td>0.963328</td>\n",
       "      <td>-0.828965</td>\n",
       "      <td>27.758673</td>\n",
       "    </tr>\n",
       "    <tr>\n",
       "      <th>1</th>\n",
       "      <td>WJtFt</td>\n",
       "      <td>0.262778</td>\n",
       "      <td>0.269839</td>\n",
       "      <td>-2.530187</td>\n",
       "      <td>56.069697</td>\n",
       "    </tr>\n",
       "    <tr>\n",
       "      <th>2</th>\n",
       "      <td>ovLUW</td>\n",
       "      <td>0.194587</td>\n",
       "      <td>0.289035</td>\n",
       "      <td>-5.586433</td>\n",
       "      <td>62.871910</td>\n",
       "    </tr>\n",
       "    <tr>\n",
       "      <th>3</th>\n",
       "      <td>q6cA6</td>\n",
       "      <td>2.236060</td>\n",
       "      <td>-0.553760</td>\n",
       "      <td>0.930038</td>\n",
       "      <td>114.572842</td>\n",
       "    </tr>\n",
       "    <tr>\n",
       "      <th>4</th>\n",
       "      <td>WPMUX</td>\n",
       "      <td>-0.515993</td>\n",
       "      <td>1.716266</td>\n",
       "      <td>5.899011</td>\n",
       "      <td>149.600746</td>\n",
       "    </tr>\n",
       "  </tbody>\n",
       "</table>\n",
       "</div>"
      ],
      "text/plain": [
       "      id        f0        f1        f2     product\n",
       "0  fwXo0 -1.146987  0.963328 -0.828965   27.758673\n",
       "1  WJtFt  0.262778  0.269839 -2.530187   56.069697\n",
       "2  ovLUW  0.194587  0.289035 -5.586433   62.871910\n",
       "3  q6cA6  2.236060 -0.553760  0.930038  114.572842\n",
       "4  WPMUX -0.515993  1.716266  5.899011  149.600746"
      ]
     },
     "metadata": {},
     "output_type": "display_data"
    },
    {
     "name": "stdout",
     "output_type": "stream",
     "text": [
      "Размер data3: (100000, 5)\n",
      "\n",
      "Информация о data3:\n",
      "\n",
      "<class 'pandas.core.frame.DataFrame'>\n",
      "RangeIndex: 100000 entries, 0 to 99999\n",
      "Data columns (total 5 columns):\n",
      " #   Column   Non-Null Count   Dtype  \n",
      "---  ------   --------------   -----  \n",
      " 0   id       100000 non-null  object \n",
      " 1   f0       100000 non-null  float64\n",
      " 2   f1       100000 non-null  float64\n",
      " 3   f2       100000 non-null  float64\n",
      " 4   product  100000 non-null  float64\n",
      "dtypes: float64(4), object(1)\n",
      "memory usage: 3.8+ MB\n"
     ]
    },
    {
     "data": {
      "text/plain": [
       "None"
      ]
     },
     "metadata": {},
     "output_type": "display_data"
    },
    {
     "data": {
      "text/html": [
       "<div>\n",
       "<style scoped>\n",
       "    .dataframe tbody tr th:only-of-type {\n",
       "        vertical-align: middle;\n",
       "    }\n",
       "\n",
       "    .dataframe tbody tr th {\n",
       "        vertical-align: top;\n",
       "    }\n",
       "\n",
       "    .dataframe thead th {\n",
       "        text-align: right;\n",
       "    }\n",
       "</style>\n",
       "<table border=\"1\" class=\"dataframe\">\n",
       "  <thead>\n",
       "    <tr style=\"text-align: right;\">\n",
       "      <th></th>\n",
       "      <th>f0</th>\n",
       "      <th>f1</th>\n",
       "      <th>f2</th>\n",
       "      <th>product</th>\n",
       "    </tr>\n",
       "  </thead>\n",
       "  <tbody>\n",
       "    <tr>\n",
       "      <th>count</th>\n",
       "      <td>100000.000000</td>\n",
       "      <td>100000.000000</td>\n",
       "      <td>100000.000000</td>\n",
       "      <td>100000.000000</td>\n",
       "    </tr>\n",
       "    <tr>\n",
       "      <th>mean</th>\n",
       "      <td>0.002023</td>\n",
       "      <td>-0.002081</td>\n",
       "      <td>2.495128</td>\n",
       "      <td>95.000000</td>\n",
       "    </tr>\n",
       "    <tr>\n",
       "      <th>std</th>\n",
       "      <td>1.732045</td>\n",
       "      <td>1.730417</td>\n",
       "      <td>3.473445</td>\n",
       "      <td>44.749921</td>\n",
       "    </tr>\n",
       "    <tr>\n",
       "      <th>min</th>\n",
       "      <td>-8.760004</td>\n",
       "      <td>-7.084020</td>\n",
       "      <td>-11.970335</td>\n",
       "      <td>0.000000</td>\n",
       "    </tr>\n",
       "    <tr>\n",
       "      <th>25%</th>\n",
       "      <td>-1.162288</td>\n",
       "      <td>-1.174820</td>\n",
       "      <td>0.130359</td>\n",
       "      <td>59.450441</td>\n",
       "    </tr>\n",
       "    <tr>\n",
       "      <th>50%</th>\n",
       "      <td>0.009424</td>\n",
       "      <td>-0.009482</td>\n",
       "      <td>2.484236</td>\n",
       "      <td>94.925613</td>\n",
       "    </tr>\n",
       "    <tr>\n",
       "      <th>75%</th>\n",
       "      <td>1.158535</td>\n",
       "      <td>1.163678</td>\n",
       "      <td>4.858794</td>\n",
       "      <td>130.595027</td>\n",
       "    </tr>\n",
       "    <tr>\n",
       "      <th>max</th>\n",
       "      <td>7.238262</td>\n",
       "      <td>7.844801</td>\n",
       "      <td>16.739402</td>\n",
       "      <td>190.029838</td>\n",
       "    </tr>\n",
       "  </tbody>\n",
       "</table>\n",
       "</div>"
      ],
      "text/plain": [
       "                  f0             f1             f2        product\n",
       "count  100000.000000  100000.000000  100000.000000  100000.000000\n",
       "mean        0.002023      -0.002081       2.495128      95.000000\n",
       "std         1.732045       1.730417       3.473445      44.749921\n",
       "min        -8.760004      -7.084020     -11.970335       0.000000\n",
       "25%        -1.162288      -1.174820       0.130359      59.450441\n",
       "50%         0.009424      -0.009482       2.484236      94.925613\n",
       "75%         1.158535       1.163678       4.858794     130.595027\n",
       "max         7.238262       7.844801      16.739402     190.029838"
      ]
     },
     "metadata": {},
     "output_type": "display_data"
    },
    {
     "name": "stdout",
     "output_type": "stream",
     "text": [
      "Корреляция между признаками в data3:\n"
     ]
    },
    {
     "data": {
      "text/html": [
       "<div>\n",
       "<style scoped>\n",
       "    .dataframe tbody tr th:only-of-type {\n",
       "        vertical-align: middle;\n",
       "    }\n",
       "\n",
       "    .dataframe tbody tr th {\n",
       "        vertical-align: top;\n",
       "    }\n",
       "\n",
       "    .dataframe thead th {\n",
       "        text-align: right;\n",
       "    }\n",
       "</style>\n",
       "<table border=\"1\" class=\"dataframe\">\n",
       "  <thead>\n",
       "    <tr style=\"text-align: right;\">\n",
       "      <th></th>\n",
       "      <th>f0</th>\n",
       "      <th>f1</th>\n",
       "      <th>f2</th>\n",
       "      <th>product</th>\n",
       "    </tr>\n",
       "  </thead>\n",
       "  <tbody>\n",
       "    <tr>\n",
       "      <th>f0</th>\n",
       "      <td>1.000000</td>\n",
       "      <td>0.000528</td>\n",
       "      <td>-0.000448</td>\n",
       "      <td>-0.001987</td>\n",
       "    </tr>\n",
       "    <tr>\n",
       "      <th>f1</th>\n",
       "      <td>0.000528</td>\n",
       "      <td>1.000000</td>\n",
       "      <td>0.000779</td>\n",
       "      <td>-0.001012</td>\n",
       "    </tr>\n",
       "    <tr>\n",
       "      <th>f2</th>\n",
       "      <td>-0.000448</td>\n",
       "      <td>0.000779</td>\n",
       "      <td>1.000000</td>\n",
       "      <td>0.445871</td>\n",
       "    </tr>\n",
       "    <tr>\n",
       "      <th>product</th>\n",
       "      <td>-0.001987</td>\n",
       "      <td>-0.001012</td>\n",
       "      <td>0.445871</td>\n",
       "      <td>1.000000</td>\n",
       "    </tr>\n",
       "  </tbody>\n",
       "</table>\n",
       "</div>"
      ],
      "text/plain": [
       "               f0        f1        f2   product\n",
       "f0       1.000000  0.000528 -0.000448 -0.001987\n",
       "f1       0.000528  1.000000  0.000779 -0.001012\n",
       "f2      -0.000448  0.000779  1.000000  0.445871\n",
       "product -0.001987 -0.001012  0.445871  1.000000"
      ]
     },
     "metadata": {},
     "output_type": "display_data"
    },
    {
     "name": "stdout",
     "output_type": "stream",
     "text": [
      "Кол-во пропущенных значений в data3:\n"
     ]
    },
    {
     "data": {
      "text/plain": [
       "id         0\n",
       "f0         0\n",
       "f1         0\n",
       "f2         0\n",
       "product    0\n",
       "dtype: int64"
      ]
     },
     "metadata": {},
     "output_type": "display_data"
    },
    {
     "name": "stdout",
     "output_type": "stream",
     "text": [
      "\n",
      "Кол-во дубликатов в data3: 0\n"
     ]
    }
   ],
   "source": [
    "my_info(data3, 'data3')"
   ]
  },
  {
   "cell_type": "markdown",
   "metadata": {},
   "source": [
    "Фиксируем, что нет пропусков и дубликатов, но проверим еще на уникальные значения в колонках"
   ]
  },
  {
   "cell_type": "code",
   "execution_count": 7,
   "metadata": {},
   "outputs": [
    {
     "data": {
      "text/html": [
       "<div>\n",
       "<style scoped>\n",
       "    .dataframe tbody tr th:only-of-type {\n",
       "        vertical-align: middle;\n",
       "    }\n",
       "\n",
       "    .dataframe tbody tr th {\n",
       "        vertical-align: top;\n",
       "    }\n",
       "\n",
       "    .dataframe thead th {\n",
       "        text-align: right;\n",
       "    }\n",
       "</style>\n",
       "<table border=\"1\" class=\"dataframe\">\n",
       "  <thead>\n",
       "    <tr style=\"text-align: right;\">\n",
       "      <th></th>\n",
       "      <th>id</th>\n",
       "    </tr>\n",
       "  </thead>\n",
       "  <tbody>\n",
       "    <tr>\n",
       "      <th>HZww2</th>\n",
       "      <td>2</td>\n",
       "    </tr>\n",
       "    <tr>\n",
       "      <th>AGS9W</th>\n",
       "      <td>2</td>\n",
       "    </tr>\n",
       "    <tr>\n",
       "      <th>A5aEY</th>\n",
       "      <td>2</td>\n",
       "    </tr>\n",
       "    <tr>\n",
       "      <th>fiKDv</th>\n",
       "      <td>2</td>\n",
       "    </tr>\n",
       "    <tr>\n",
       "      <th>bsk9y</th>\n",
       "      <td>2</td>\n",
       "    </tr>\n",
       "    <tr>\n",
       "      <th>...</th>\n",
       "      <td>...</td>\n",
       "    </tr>\n",
       "    <tr>\n",
       "      <th>9XAqq</th>\n",
       "      <td>1</td>\n",
       "    </tr>\n",
       "    <tr>\n",
       "      <th>oFIXm</th>\n",
       "      <td>1</td>\n",
       "    </tr>\n",
       "    <tr>\n",
       "      <th>fr563</th>\n",
       "      <td>1</td>\n",
       "    </tr>\n",
       "    <tr>\n",
       "      <th>crrAM</th>\n",
       "      <td>1</td>\n",
       "    </tr>\n",
       "    <tr>\n",
       "      <th>o7LX2</th>\n",
       "      <td>1</td>\n",
       "    </tr>\n",
       "  </tbody>\n",
       "</table>\n",
       "<p>99990 rows × 1 columns</p>\n",
       "</div>"
      ],
      "text/plain": [
       "       id\n",
       "HZww2   2\n",
       "AGS9W   2\n",
       "A5aEY   2\n",
       "fiKDv   2\n",
       "bsk9y   2\n",
       "...    ..\n",
       "9XAqq   1\n",
       "oFIXm   1\n",
       "fr563   1\n",
       "crrAM   1\n",
       "o7LX2   1\n",
       "\n",
       "[99990 rows x 1 columns]"
      ]
     },
     "execution_count": 7,
     "metadata": {},
     "output_type": "execute_result"
    }
   ],
   "source": [
    "data1['id'].value_counts().to_frame()\n",
    "#data1['f0'].value_counts().to_frame()\n",
    "#data1['f1'].value_counts().to_frame()\n",
    "#data1['f2'].value_counts().to_frame()"
   ]
  },
  {
   "cell_type": "code",
   "execution_count": 8,
   "metadata": {},
   "outputs": [
    {
     "data": {
      "text/html": [
       "<div>\n",
       "<style scoped>\n",
       "    .dataframe tbody tr th:only-of-type {\n",
       "        vertical-align: middle;\n",
       "    }\n",
       "\n",
       "    .dataframe tbody tr th {\n",
       "        vertical-align: top;\n",
       "    }\n",
       "\n",
       "    .dataframe thead th {\n",
       "        text-align: right;\n",
       "    }\n",
       "</style>\n",
       "<table border=\"1\" class=\"dataframe\">\n",
       "  <thead>\n",
       "    <tr style=\"text-align: right;\">\n",
       "      <th></th>\n",
       "      <th>id</th>\n",
       "      <th>f0</th>\n",
       "      <th>f1</th>\n",
       "      <th>f2</th>\n",
       "      <th>product</th>\n",
       "    </tr>\n",
       "  </thead>\n",
       "  <tbody>\n",
       "    <tr>\n",
       "      <th>3389</th>\n",
       "      <td>A5aEY</td>\n",
       "      <td>-0.039949</td>\n",
       "      <td>0.156872</td>\n",
       "      <td>0.209861</td>\n",
       "      <td>89.249364</td>\n",
       "    </tr>\n",
       "    <tr>\n",
       "      <th>51970</th>\n",
       "      <td>A5aEY</td>\n",
       "      <td>-0.180335</td>\n",
       "      <td>0.935548</td>\n",
       "      <td>-2.094773</td>\n",
       "      <td>33.020205</td>\n",
       "    </tr>\n",
       "  </tbody>\n",
       "</table>\n",
       "</div>"
      ],
      "text/plain": [
       "          id        f0        f1        f2    product\n",
       "3389   A5aEY -0.039949  0.156872  0.209861  89.249364\n",
       "51970  A5aEY -0.180335  0.935548 -2.094773  33.020205"
      ]
     },
     "execution_count": 8,
     "metadata": {},
     "output_type": "execute_result"
    }
   ],
   "source": [
    "data1[data1['id'] == 'HZww2']\n",
    "data1[data1['id'] == 'A5aEY']"
   ]
  },
  {
   "cell_type": "markdown",
   "metadata": {},
   "source": [
    "* Видим, что в столбце с `\"id\"` есть **дубликаты**, то есть скважины с одинаковыми `id`. Но так как сами `признаки отличаются`, то они могут принести **пользу** для модели. Оставляем их\n",
    "\n",
    "Проверим их доли в датасетах"
   ]
  },
  {
   "cell_type": "code",
   "execution_count": 9,
   "metadata": {},
   "outputs": [
    {
     "name": "stdout",
     "output_type": "stream",
     "text": [
      "Доля дубликатов в колонке 'id' в data1 составляет: 0.01%\n"
     ]
    }
   ],
   "source": [
    "dup1 = data1['id'].duplicated().mean()\n",
    "print(f'Доля дубликатов в колонке \\'id\\' в data1 составляет: {dup1:.2%}')"
   ]
  },
  {
   "cell_type": "code",
   "execution_count": 10,
   "metadata": {},
   "outputs": [
    {
     "name": "stdout",
     "output_type": "stream",
     "text": [
      "Доля дубликатов в колонке 'id' в data2 составляет: 0.004%\n"
     ]
    }
   ],
   "source": [
    "dup2 = data2['id'].duplicated().mean()\n",
    "print(f'Доля дубликатов в колонке \\'id\\' в data2 составляет: {dup2:.3%}')"
   ]
  },
  {
   "cell_type": "code",
   "execution_count": 11,
   "metadata": {},
   "outputs": [
    {
     "name": "stdout",
     "output_type": "stream",
     "text": [
      "Доля дубликатов в колонке 'id' в data3 составляет: 0.004%\n"
     ]
    }
   ],
   "source": [
    "dup3 = data3['id'].duplicated().mean()\n",
    "print(f'Доля дубликатов в колонке \\'id\\' в data3 составляет: {dup3:.3%}')"
   ]
  },
  {
   "cell_type": "markdown",
   "metadata": {},
   "source": [
    "Эти доли ничтожны малы во всех регионах. Как было ранее сказано, их стоит оставить, так как признаки с одинаковыми **id** разные.\n",
    "\n",
    "* Взглянем еще раз на корреляции в трех регионах: "
   ]
  },
  {
   "cell_type": "code",
   "execution_count": 12,
   "metadata": {},
   "outputs": [
    {
     "name": "stdout",
     "output_type": "stream",
     "text": [
      "Корреляция между признаками в первом регионе (data1):\n"
     ]
    },
    {
     "data": {
      "text/html": [
       "<div>\n",
       "<style scoped>\n",
       "    .dataframe tbody tr th:only-of-type {\n",
       "        vertical-align: middle;\n",
       "    }\n",
       "\n",
       "    .dataframe tbody tr th {\n",
       "        vertical-align: top;\n",
       "    }\n",
       "\n",
       "    .dataframe thead th {\n",
       "        text-align: right;\n",
       "    }\n",
       "</style>\n",
       "<table border=\"1\" class=\"dataframe\">\n",
       "  <thead>\n",
       "    <tr style=\"text-align: right;\">\n",
       "      <th></th>\n",
       "      <th>f0</th>\n",
       "      <th>f1</th>\n",
       "      <th>f2</th>\n",
       "      <th>product</th>\n",
       "    </tr>\n",
       "  </thead>\n",
       "  <tbody>\n",
       "    <tr>\n",
       "      <th>f0</th>\n",
       "      <td>1.000000</td>\n",
       "      <td>-0.440723</td>\n",
       "      <td>-0.003153</td>\n",
       "      <td>0.143536</td>\n",
       "    </tr>\n",
       "    <tr>\n",
       "      <th>f1</th>\n",
       "      <td>-0.440723</td>\n",
       "      <td>1.000000</td>\n",
       "      <td>0.001724</td>\n",
       "      <td>-0.192356</td>\n",
       "    </tr>\n",
       "    <tr>\n",
       "      <th>f2</th>\n",
       "      <td>-0.003153</td>\n",
       "      <td>0.001724</td>\n",
       "      <td>1.000000</td>\n",
       "      <td>0.483663</td>\n",
       "    </tr>\n",
       "    <tr>\n",
       "      <th>product</th>\n",
       "      <td>0.143536</td>\n",
       "      <td>-0.192356</td>\n",
       "      <td>0.483663</td>\n",
       "      <td>1.000000</td>\n",
       "    </tr>\n",
       "  </tbody>\n",
       "</table>\n",
       "</div>"
      ],
      "text/plain": [
       "               f0        f1        f2   product\n",
       "f0       1.000000 -0.440723 -0.003153  0.143536\n",
       "f1      -0.440723  1.000000  0.001724 -0.192356\n",
       "f2      -0.003153  0.001724  1.000000  0.483663\n",
       "product  0.143536 -0.192356  0.483663  1.000000"
      ]
     },
     "metadata": {},
     "output_type": "display_data"
    },
    {
     "name": "stdout",
     "output_type": "stream",
     "text": [
      "Корреляция между признаками во втором регионе (data2):\n"
     ]
    },
    {
     "data": {
      "text/html": [
       "<div>\n",
       "<style scoped>\n",
       "    .dataframe tbody tr th:only-of-type {\n",
       "        vertical-align: middle;\n",
       "    }\n",
       "\n",
       "    .dataframe tbody tr th {\n",
       "        vertical-align: top;\n",
       "    }\n",
       "\n",
       "    .dataframe thead th {\n",
       "        text-align: right;\n",
       "    }\n",
       "</style>\n",
       "<table border=\"1\" class=\"dataframe\">\n",
       "  <thead>\n",
       "    <tr style=\"text-align: right;\">\n",
       "      <th></th>\n",
       "      <th>f0</th>\n",
       "      <th>f1</th>\n",
       "      <th>f2</th>\n",
       "      <th>product</th>\n",
       "    </tr>\n",
       "  </thead>\n",
       "  <tbody>\n",
       "    <tr>\n",
       "      <th>f0</th>\n",
       "      <td>1.000000</td>\n",
       "      <td>0.182287</td>\n",
       "      <td>-0.001777</td>\n",
       "      <td>-0.030491</td>\n",
       "    </tr>\n",
       "    <tr>\n",
       "      <th>f1</th>\n",
       "      <td>0.182287</td>\n",
       "      <td>1.000000</td>\n",
       "      <td>-0.002595</td>\n",
       "      <td>-0.010155</td>\n",
       "    </tr>\n",
       "    <tr>\n",
       "      <th>f2</th>\n",
       "      <td>-0.001777</td>\n",
       "      <td>-0.002595</td>\n",
       "      <td>1.000000</td>\n",
       "      <td>0.999397</td>\n",
       "    </tr>\n",
       "    <tr>\n",
       "      <th>product</th>\n",
       "      <td>-0.030491</td>\n",
       "      <td>-0.010155</td>\n",
       "      <td>0.999397</td>\n",
       "      <td>1.000000</td>\n",
       "    </tr>\n",
       "  </tbody>\n",
       "</table>\n",
       "</div>"
      ],
      "text/plain": [
       "               f0        f1        f2   product\n",
       "f0       1.000000  0.182287 -0.001777 -0.030491\n",
       "f1       0.182287  1.000000 -0.002595 -0.010155\n",
       "f2      -0.001777 -0.002595  1.000000  0.999397\n",
       "product -0.030491 -0.010155  0.999397  1.000000"
      ]
     },
     "metadata": {},
     "output_type": "display_data"
    },
    {
     "name": "stdout",
     "output_type": "stream",
     "text": [
      "Корреляция между признаками в третьем регионе (data3):\n"
     ]
    },
    {
     "data": {
      "text/html": [
       "<div>\n",
       "<style scoped>\n",
       "    .dataframe tbody tr th:only-of-type {\n",
       "        vertical-align: middle;\n",
       "    }\n",
       "\n",
       "    .dataframe tbody tr th {\n",
       "        vertical-align: top;\n",
       "    }\n",
       "\n",
       "    .dataframe thead th {\n",
       "        text-align: right;\n",
       "    }\n",
       "</style>\n",
       "<table border=\"1\" class=\"dataframe\">\n",
       "  <thead>\n",
       "    <tr style=\"text-align: right;\">\n",
       "      <th></th>\n",
       "      <th>f0</th>\n",
       "      <th>f1</th>\n",
       "      <th>f2</th>\n",
       "      <th>product</th>\n",
       "    </tr>\n",
       "  </thead>\n",
       "  <tbody>\n",
       "    <tr>\n",
       "      <th>f0</th>\n",
       "      <td>1.000000</td>\n",
       "      <td>0.000528</td>\n",
       "      <td>-0.000448</td>\n",
       "      <td>-0.001987</td>\n",
       "    </tr>\n",
       "    <tr>\n",
       "      <th>f1</th>\n",
       "      <td>0.000528</td>\n",
       "      <td>1.000000</td>\n",
       "      <td>0.000779</td>\n",
       "      <td>-0.001012</td>\n",
       "    </tr>\n",
       "    <tr>\n",
       "      <th>f2</th>\n",
       "      <td>-0.000448</td>\n",
       "      <td>0.000779</td>\n",
       "      <td>1.000000</td>\n",
       "      <td>0.445871</td>\n",
       "    </tr>\n",
       "    <tr>\n",
       "      <th>product</th>\n",
       "      <td>-0.001987</td>\n",
       "      <td>-0.001012</td>\n",
       "      <td>0.445871</td>\n",
       "      <td>1.000000</td>\n",
       "    </tr>\n",
       "  </tbody>\n",
       "</table>\n",
       "</div>"
      ],
      "text/plain": [
       "               f0        f1        f2   product\n",
       "f0       1.000000  0.000528 -0.000448 -0.001987\n",
       "f1       0.000528  1.000000  0.000779 -0.001012\n",
       "f2      -0.000448  0.000779  1.000000  0.445871\n",
       "product -0.001987 -0.001012  0.445871  1.000000"
      ]
     },
     "metadata": {},
     "output_type": "display_data"
    }
   ],
   "source": [
    "print('Корреляция между признаками в первом регионе (data1):')\n",
    "display(data1.corr())\n",
    "\n",
    "print('Корреляция между признаками во втором регионе (data2):')\n",
    "display(data2.corr())\n",
    "\n",
    "print('Корреляция между признаками в третьем регионе (data3):')\n",
    "display(data3.corr())"
   ]
  },
  {
   "cell_type": "markdown",
   "metadata": {},
   "source": [
    "**Вывод по корреляциям в регионах:**\n",
    "\n",
    "* Замечаем во втором регионе **data2** **`сильную корреляцию`** между `f2` признаком и целевым признаком `product`. Возможно, эта сильная зависимость из-за того, что данные выдуманы - синтетические. Все остальные признаки во втором регионе `слабо` коррелируют между собой (`f2 с f0, f1 отрицательно коррелируют` друг с другом, целевой признак также отрицательную корреляцию имеет с `f0, f1`);\n",
    "\n",
    "\n",
    "* В первом и третьем регионах **(data1, data3)** немного схожи. Целевой признак **product** с **f** имеет `низкую положительную` зависимость. В третьем регионе **(data3)** очень слабые корреляции (за исключением `целевого признака и f2`)\n",
    "\n",
    "\n",
    "* В первом регионе **(data1)** тоже относительно очень слабые корреляции между собой, пожалуй, за исключением `f0, f1`. У них `слабо отрицательная` корреляция между собой\n",
    "\n",
    "### Вывод\n",
    "\n",
    "* Были загружены данные и с помощью фунции разобраны датасеты:\n",
    "  * Типы колонок корректны;\n",
    "  * Были проверены данные на дубликаты. Полных дубликатов не оказалось, но с помощью метода `value_counts()` выявили дубликаты по колонке с **'id'**, которые было решено оставить, так как могут помочь принести пользу модели;\n",
    "  * Изучили корреляции для данных по каждому региону;\n",
    "  * Данные соответсвуют описанию;\n",
    "  * Пропуски в данных отсутствуют "
   ]
  },
  {
   "cell_type": "markdown",
   "metadata": {},
   "source": [
    "## Обучение и проверка модели\n",
    "\n",
    "**`Создаем функцию для вычисления среднего запаса предсказанного сырья для каждого региона и RMSE модели`**\n",
    "\n",
    "* Функция обучает модель Линейной Регрессии, считает предсказания и ответы на валидационной выборке, и возвращает средний запас предсказанного сырья для каждого региона **`(predict_mean)`** и RMSE **`(rmse)`** модели (`также целевой признак на валидационной выборке и сами предсказания для дальнейшего выявления прибыли`)"
   ]
  },
  {
   "cell_type": "code",
   "execution_count": 13,
   "metadata": {},
   "outputs": [],
   "source": [
    "def feat_tar_model(x, data): # аргумент x берет значение выборки, аргумент несет описательный характер для каждого региона \n",
    "    features = x.drop(['product', 'id'], axis=1) # создаем признаки и целевой признак для каждой выборки отдельного региона \n",
    "    target = x['product']\n",
    "    \n",
    "    features_train, features_valid, target_train, target_valid = train_test_split(features, target, test_size=0.25, \n",
    "                                                                                  random_state=12345)\n",
    "    # разделяем на обучающую и валидационные выборки \n",
    "    \n",
    "    print(f'Train выборка {data}: {features_train.shape}, {target_train.shape}') # проверяем разделение/размер выборок\n",
    "    print(f'Valid выборка {data}: {features_valid.shape}, {target_valid.shape}')\n",
    "    print()\n",
    "    \n",
    "    model = LinearRegression()\n",
    "    model.fit(features_train, target_train)\n",
    "    predict = model.predict(features_valid)\n",
    "    \n",
    "    predict_mean = predict.mean()\n",
    "    mse = mean_squared_error(target_valid, predict)\n",
    "    rmse = np.sqrt(mse)\n",
    "    \n",
    "    print(f'Cредний запас предсказанного сырья для {data} региона: {round(predict_mean, 3)}')\n",
    "    print(f'RMSE модели {data}: {round(rmse, 3)}')\n",
    "    \n",
    "    return predict_mean, rmse, predict, target_valid"
   ]
  },
  {
   "cell_type": "markdown",
   "metadata": {},
   "source": [
    "* Сохраняем в переменных среднее сырье, RMSE модели, а также предсказания и ответы **для каждого отдельного региона**"
   ]
  },
  {
   "cell_type": "code",
   "execution_count": 14,
   "metadata": {},
   "outputs": [
    {
     "name": "stdout",
     "output_type": "stream",
     "text": [
      "Train выборка data1: (75000, 3), (75000,)\n",
      "Valid выборка data1: (25000, 3), (25000,)\n",
      "\n",
      "Cредний запас предсказанного сырья для data1 региона: 92.593\n",
      "RMSE модели data1: 37.579\n"
     ]
    }
   ],
   "source": [
    "predict_mean1, rmse1, predict1, target_valid1 = feat_tar_model(data1, 'data1') # для первого региона data1"
   ]
  },
  {
   "cell_type": "code",
   "execution_count": 15,
   "metadata": {},
   "outputs": [
    {
     "name": "stdout",
     "output_type": "stream",
     "text": [
      "Train выборка data2: (75000, 3), (75000,)\n",
      "Valid выборка data2: (25000, 3), (25000,)\n",
      "\n",
      "Cредний запас предсказанного сырья для data2 региона: 68.729\n",
      "RMSE модели data2: 0.893\n"
     ]
    }
   ],
   "source": [
    "predict_mean2, rmse2, predict2, target_valid2 = feat_tar_model(data2, 'data2') # для второго региона data2"
   ]
  },
  {
   "cell_type": "code",
   "execution_count": 16,
   "metadata": {},
   "outputs": [
    {
     "name": "stdout",
     "output_type": "stream",
     "text": [
      "Train выборка data3: (75000, 3), (75000,)\n",
      "Valid выборка data3: (25000, 3), (25000,)\n",
      "\n",
      "Cредний запас предсказанного сырья для data3 региона: 94.965\n",
      "RMSE модели data3: 40.03\n"
     ]
    }
   ],
   "source": [
    "predict_mean3, rmse3, predict3, target_valid3 = feat_tar_model(data3, 'data3') # для третьего региона data2"
   ]
  },
  {
   "cell_type": "markdown",
   "metadata": {},
   "source": [
    "### Вывод\n",
    "\n",
    "* Для региона 1 и 3 показатели схожи что в **среднем запасе** сырья (`92.593 и 94.965` соответственно), что в средней квадратичной ошибки корня **(rmse)** (`37.579` и `40.03` соответственно). Большие показатели **RMSE** в этих регионах свидельсвтуют о неточности модели, как сильно правильный ответ отличается от предсказаний\n",
    "* Для второго региона **(data2)** модель показывает обратное **RMSE** `0.893`, самое низкое среди других регионах. Это говорит о точности предсказаний, совпадении с правильными ответами и качество модели. `НО!` Это происходит за счет того, что корреляция с целевым признаком **product** и признаком **f2** очень сильная, прямая"
   ]
  },
  {
   "cell_type": "markdown",
   "metadata": {},
   "source": [
    "## Подготовка к расчёту прибыли\n",
    "\n",
    "Обращаясь к условиям задачи, а именно:\n",
    "\n",
    "* При разведке региона исследуют `500 точек`, из которых с помощью машинного обучения `выбирают 200 лучших` для разработки;\n",
    "* `Бюджет` на разработку скважин в регионе — `10 млрд рублей`;\n",
    "* При нынешних ценах `один баррель` сырья приносит `450 рублей дохода`. `Доход с` каждой `единицы` продукта составляет `450 тыс.` рублей, поскольку объём указан в тысячах баррелей\n",
    "\n",
    "Cоздадим соответсвтенные переменные для расчета прибыли"
   ]
  },
  {
   "cell_type": "code",
   "execution_count": 17,
   "metadata": {},
   "outputs": [
    {
     "name": "stdout",
     "output_type": "stream",
     "text": [
      "Бюджет на одну скважину: 50000000.0\n",
      "Достаточный объем сырья для безубыточной разработки новой скважины составляет: 111.11\n"
     ]
    }
   ],
   "source": [
    "BEST_OF_WELLS = 200 # лучшик точки для разработки \n",
    "BUDGET = 10**10 # в десятой степени обозначаем 10 млрд\n",
    "REVENUE_PER_BARREL = 450000 # доход с каждой единицы\n",
    "\n",
    "FOR_ONE_WELL = BUDGET / BEST_OF_WELLS\n",
    "print(f'Бюджет на одну скважину: {FOR_ONE_WELL}')\n",
    "\n",
    "BREAK_EVEN_WELL = FOR_ONE_WELL / REVENUE_PER_BARREL # объем на одну скважину\n",
    "print(f'Достаточный объем сырья для безубыточной разработки новой скважины составляет: {round(BREAK_EVEN_WELL, 2)}')"
   ]
  },
  {
   "cell_type": "markdown",
   "metadata": {},
   "source": [
    "Напомним наши средние показатели в каждом из регионов"
   ]
  },
  {
   "cell_type": "code",
   "execution_count": 18,
   "metadata": {},
   "outputs": [
    {
     "name": "stdout",
     "output_type": "stream",
     "text": [
      "Прогнозируется убыток, так как добыча сырья составляет 92.59 по региону\n",
      "Прогнозируется убыток, так как добыча сырья составляет 68.73 по региону\n",
      "Прогнозируется убыток, так как добыча сырья составляет 94.97 по региону\n",
      "\n",
      "Средний запас сырья в 1-ом регионе: 92.59\n",
      "Средний запас сырья в 2-ом регионе: 68.73\n",
      "Средний запас сырья в 3-ем регионе: 94.97\n"
     ]
    }
   ],
   "source": [
    "region_predict = [predict_mean1, predict_mean2, predict_mean3]\n",
    "\n",
    "for i in region_predict:\n",
    "    if i >= BREAK_EVEN_WELL: \n",
    "        print('Здесь достаточно для безубыточной разработки новой скважины')\n",
    "    else:\n",
    "        print(f'Прогнозируется убыток, так как добыча сырья составляет {round(i, 2)} по региону')\n",
    "            \n",
    "print()\n",
    "print(f'Средний запас сырья в 1-ом регионе: {round(predict_mean1, 2)}')\n",
    "print(f'Средний запас сырья в 2-ом регионе: {round(predict_mean2, 2)}')\n",
    "print(f'Средний запас сырья в 3-ем регионе: {round(predict_mean3, 2)}')"
   ]
  },
  {
   "cell_type": "markdown",
   "metadata": {},
   "source": [
    "### Вывод\n",
    "\n",
    "* Рассчитали **объем сырья**, который требуется на разработку новой скважины **без убытка**. Она составила **111.11**\n",
    "* Что касается по среднему запасу сырья в трех регионах, все они `являются убыточными` для этого расчета (**92.59, 68.73 и 94.97** соответственно)"
   ]
  },
  {
   "cell_type": "markdown",
   "metadata": {},
   "source": [
    "## Расчёт прибыли и рисков\n",
    "\n",
    "* Создадим функцию, которая будет возвращать расчёт прибыли по выбранным скважинам и предсказаниям модели"
   ]
  },
  {
   "cell_type": "code",
   "execution_count": 19,
   "metadata": {},
   "outputs": [],
   "source": [
    "def profit(target_valid, predict): # в качестве аргументов функция берет целевой признак на валидационной выборке и предсказания\n",
    "    target_valid = pd.Series(target_valid).reset_index(drop=True) # создаем целевые значения с индексами, \n",
    "                                                                  # чтобы их перебирать в дальнейшем\n",
    "        \n",
    "    predict = pd.Series(predict).reset_index(drop=True) #создаем предсказания по индексам,чтобы можно также было отсортировать  \n",
    "    \n",
    "    predict_sort = predict.sort_values(ascending=False) # фиксируем в порядке убывания предсказания, то есть от макс. к мини\n",
    "    result = target_valid[predict_sort.index][:200] # выбираем целевое значение соотвествующее индексам предсказаний объема сырья\n",
    "                                                    # в 200 лучших точках (т.к. было ранее отсортировано)\n",
    "    summ = result.sum() # суммируем его\n",
    "    \n",
    "    return REVENUE_PER_BARREL * summ - BUDGET # возвращаем прибыль для полученного сырья"
   ]
  },
  {
   "cell_type": "code",
   "execution_count": 20,
   "metadata": {},
   "outputs": [
    {
     "name": "stdout",
     "output_type": "stream",
     "text": [
      "Прибыль для полученного объема сырья в 200 лучших точках основанная на предсказанном результате для 1-го региона: 3320826043.1398506\n"
     ]
    }
   ],
   "source": [
    "profit1 = profit(target_valid1, predict1)\n",
    "print(f'Прибыль для полученного объема сырья в 200 лучших точках основанная на предсказанном результате для 1-го региона: {profit1}')"
   ]
  },
  {
   "cell_type": "code",
   "execution_count": 21,
   "metadata": {},
   "outputs": [
    {
     "name": "stdout",
     "output_type": "stream",
     "text": [
      "Прибыль для полученного объема сырья в 200 лучших точках основанная на предсказанном результате для 2-го региона: 2415086696.681511\n"
     ]
    }
   ],
   "source": [
    "profit2 = profit(target_valid2, predict2)\n",
    "print(f'Прибыль для полученного объема сырья в 200 лучших точках основанная на предсказанном результате для 2-го региона: {profit2}')"
   ]
  },
  {
   "cell_type": "code",
   "execution_count": 22,
   "metadata": {},
   "outputs": [
    {
     "name": "stdout",
     "output_type": "stream",
     "text": [
      "Прибыль для полученного объема сырья в 200 лучших точках основанная на предсказанном результате для 3-го региона: 2710349963.5998325\n"
     ]
    }
   ],
   "source": [
    "profit3 = profit(target_valid3, predict3)\n",
    "print(f'Прибыль для полученного объема сырья в 200 лучших точках основанная на предсказанном результате для 3-го региона: {profit3}')"
   ]
  },
  {
   "cell_type": "markdown",
   "metadata": {},
   "source": [
    "### Вывод\n",
    "\n",
    "* По прибыли лидирует 1-ый регион **(data1)**, хотя у него было чуть меньше предсказанного сырья, чем у 3-го региона (data3). У него **(data1)**  **`3 млрд 320 млн 826043 тыс`**;\n",
    "* Затем следует 3-ий регион **(data3)**. У него примерно **2 млрд 710 млн 349963 тыс**;\n",
    "* И на последнем месте по прибыли идет 2-ой регион. У него примерно **2 млрд 415 млн 86697 тыс**\n",
    "\n",
    "### Риски убытков, средняя прибыль и доверительный интервал"
   ]
  },
  {
   "cell_type": "code",
   "execution_count": 23,
   "metadata": {},
   "outputs": [],
   "source": [
    "state = np.random.RandomState(12345) # задаем переменную, чтобы каждый раз менялся на случайность \n",
    "\n",
    "def bootstrap(target_valid, predict, data): # функция принимает ответы, предсказания и описатлеьны характер отдельного региона\n",
    "    values = [] # в пустой список будем помещать значение функции на подвыборках\n",
    "    \n",
    "    for i in range(1000): \n",
    "        target_subsample = pd.Series(target_valid).reset_index(drop=True).sample(n=500, replace=True, #n-число скважин\n",
    "                                                                                 random_state=state) \n",
    "        predict = pd.Series(predict).reset_index(drop=True)\n",
    "        predict_subsample = predict[target_subsample.index]\n",
    "        \n",
    "        values.append(profit(target_subsample, predict_subsample))\n",
    "        \n",
    "    values = pd.Series(values) # прибыль на бустрепе в 1000 диапазоне\n",
    "    lower = values.quantile(0.025) # вычисляем 97.5% значений, которые будут принимать не меньше этого значения\n",
    "    values_mean = values.mean() # считаем среднюю прибыль \n",
    "        \n",
    "    #confidence_interval = st.t.interval(0.95, len(values)-1, values.mean(), values.sem())\n",
    "    \n",
    "    print(f'Средняя выручка {data} региона: {round(values_mean, 3)}')\n",
    "    print(f'95% доверительный интервал {data} региона: от {round(values.quantile(0.025),2)} до {round(values.quantile(0.975),2)}')\n",
    "    print(f'2.5%-квантиль: {lower}')\n",
    "    print(f'Риски убытков: {round((values < 0).mean() * 100, 2)}%')# вычисляем процент убытка (Убыток — \n",
    "                                                                 # это отрицательная прибыль)"
   ]
  },
  {
   "cell_type": "code",
   "execution_count": 24,
   "metadata": {},
   "outputs": [
    {
     "name": "stdout",
     "output_type": "stream",
     "text": [
      "Средняя выручка data1 региона: 396164984.802\n",
      "95% доверительный интервал data1 региона: от -111215545.89 до 909766941.55\n",
      "2.5%-квантиль: -111215545.89049526\n",
      "Риски убытков: 6.9%\n"
     ]
    }
   ],
   "source": [
    "bootstrap(target_valid1, predict1, 'data1')"
   ]
  },
  {
   "cell_type": "code",
   "execution_count": 25,
   "metadata": {},
   "outputs": [
    {
     "name": "stdout",
     "output_type": "stream",
     "text": [
      "Средняя выручка data2 региона: 461155817.277\n",
      "95% доверительный интервал data2 региона: от 78050810.75 до 862952060.26\n",
      "2.5%-квантиль: 78050810.7517417\n",
      "Риски убытков: 0.7%\n"
     ]
    }
   ],
   "source": [
    "bootstrap(target_valid2, predict2, 'data2')"
   ]
  },
  {
   "cell_type": "code",
   "execution_count": 26,
   "metadata": {},
   "outputs": [
    {
     "name": "stdout",
     "output_type": "stream",
     "text": [
      "Средняя выручка data3 региона: 392950475.171\n",
      "95% доверительный интервал data3 региона: от -112227625.38 до 934562914.55\n",
      "2.5%-квантиль: -112227625.37857565\n",
      "Риски убытков: 6.5%\n"
     ]
    }
   ],
   "source": [
    "bootstrap(target_valid3, predict3, 'data3')"
   ]
  },
  {
   "cell_type": "markdown",
   "metadata": {},
   "source": [
    "### Вывод\n",
    "\n",
    "* Рассчитали среднюю прибыль для каждого региона и другие необходимые параметры для выявления регионов, где риски будут составлять не менее 2.5%:\n",
    "\n",
    "\n",
    "* В **первом** регионе **data1**:\n",
    "  * **риски убытков** оказались наибольшими - **`6.9%`**;\n",
    "  * **средняя выручка** на втором месте среди регионов - **396 млн 164985 тыс**;\n",
    "  * **95% значений находятся** `от -111215545.89 до 909766941.55`\n",
    "* Во **втором** регионе **data2**:\n",
    "  * **риски убытков** самые малые среди других регионов - **`0.7%`**;\n",
    "  * **средняя выручка** самая большая - **461 млн 155817 тыс**;\n",
    "  * **95% значений находятся** `от 78050810.75 до 862952060.26 тыс`\n",
    "* В **третьем** регионе **data3**:\n",
    "  * **риски убытков** чуть меньше, чем в первом регионе - **`6.5%`**;\n",
    "  * **средняя выручка** наименьшая среди региново - **392 млн 950475 тыс**;\n",
    "  * **95% значений находятся** `от -112227625.38 до 934562914.55`\n",
    "  \n",
    "## Вывод\n",
    "\n",
    "* Данные были загружены и разобраны;\n",
    "* Были выявлены некоторые дубликаты, которая были оставлены, так как они были полезны для модели;\n",
    "* Рассмотрели корреляцию в регионах;\n",
    "* Была создана функция, которая помогла разделить на выборки, обучить модель, посчитать средний объем сырья в каждом регионе и показать **RMSE** модели, которая показывает качество модели;\n",
    "* Необходимый объем для безубыточной разработки новой скважины оказалось значение в **111.11 тыс. баррелей**;\n",
    "* Во всех трех регионах **`объем предсказанного сырья`** оказался **меньше** - **92.59, 68.73 и 94.97** соответственно;\n",
    "* Посчитали среднюю прибыль по выбранным скважинам (200 луших) и предсказаниям модели;\n",
    "* Техников **Bootstrap** были выбраны случайно 500 точек, из которых 200 лучших из них выявлены для подсчета средней прибыли, выявления 95%-го доверительного интервала и подсчета риска убытков \n",
    "\n",
    "Среди трех регионов, исходя из расчетов, **`был предложен регион под номером 2 (data2) для разработки скважин`**:\n",
    "  * Здесь оказались `риски убытков меньше 2.5%` - а именно 0.7%;\n",
    "  * **средняя выручка** самая большая - **461 млн 155817 тыс;**\n",
    "  * **95% значений находятся** `от 78050810.75 до 862952060.26 тыс`\n",
    "  * также **97.5% значений** составляет дохода **не меньше, чем 78 млн 050810.7 тыс**"
   ]
  }
 ],
 "metadata": {
  "ExecuteTimeLog": [
   {
    "duration": 1212,
    "start_time": "2022-08-15T14:03:51.630Z"
   },
   {
    "duration": 459,
    "start_time": "2022-08-15T14:03:52.845Z"
   },
   {
    "duration": 5,
    "start_time": "2022-08-15T14:03:53.306Z"
   },
   {
    "duration": 170,
    "start_time": "2022-08-15T14:03:53.313Z"
   },
   {
    "duration": 160,
    "start_time": "2022-08-15T14:03:53.486Z"
   },
   {
    "duration": 175,
    "start_time": "2022-08-15T14:03:53.648Z"
   },
   {
    "duration": 80,
    "start_time": "2022-08-15T14:03:53.825Z"
   },
   {
    "duration": 22,
    "start_time": "2022-08-15T14:03:53.907Z"
   },
   {
    "duration": 38,
    "start_time": "2022-08-15T14:03:53.931Z"
   },
   {
    "duration": 20,
    "start_time": "2022-08-15T14:03:53.971Z"
   },
   {
    "duration": 21,
    "start_time": "2022-08-15T14:03:53.993Z"
   },
   {
    "duration": 77,
    "start_time": "2022-08-15T14:03:54.016Z"
   },
   {
    "duration": 5,
    "start_time": "2022-08-15T14:03:54.095Z"
   },
   {
    "duration": 71,
    "start_time": "2022-08-15T14:03:54.103Z"
   },
   {
    "duration": 113,
    "start_time": "2022-08-15T14:03:54.176Z"
   },
   {
    "duration": 192,
    "start_time": "2022-08-15T14:03:54.293Z"
   },
   {
    "duration": 84,
    "start_time": "2022-08-15T14:03:54.487Z"
   },
   {
    "duration": 109,
    "start_time": "2022-08-15T14:03:54.574Z"
   },
   {
    "duration": 6,
    "start_time": "2022-08-15T14:03:54.686Z"
   },
   {
    "duration": 18,
    "start_time": "2022-08-15T14:03:54.694Z"
   },
   {
    "duration": 11,
    "start_time": "2022-08-15T14:03:54.714Z"
   },
   {
    "duration": 10,
    "start_time": "2022-08-15T14:03:54.727Z"
   },
   {
    "duration": 29,
    "start_time": "2022-08-15T14:03:54.739Z"
   },
   {
    "duration": 1628,
    "start_time": "2022-08-15T14:03:54.770Z"
   },
   {
    "duration": 1734,
    "start_time": "2022-08-15T14:03:56.399Z"
   },
   {
    "duration": 1733,
    "start_time": "2022-08-15T14:03:58.135Z"
   },
   {
    "duration": 1210,
    "start_time": "2022-08-16T07:45:41.232Z"
   },
   {
    "duration": 1768,
    "start_time": "2022-08-16T07:45:42.444Z"
   },
   {
    "duration": 4,
    "start_time": "2022-08-16T07:45:44.214Z"
   },
   {
    "duration": 146,
    "start_time": "2022-08-16T07:45:44.220Z"
   },
   {
    "duration": 147,
    "start_time": "2022-08-16T07:45:44.367Z"
   },
   {
    "duration": 134,
    "start_time": "2022-08-16T07:45:44.516Z"
   },
   {
    "duration": 84,
    "start_time": "2022-08-16T07:45:44.652Z"
   },
   {
    "duration": 20,
    "start_time": "2022-08-16T07:45:44.738Z"
   },
   {
    "duration": 39,
    "start_time": "2022-08-16T07:45:44.760Z"
   },
   {
    "duration": 20,
    "start_time": "2022-08-16T07:45:44.802Z"
   },
   {
    "duration": 28,
    "start_time": "2022-08-16T07:45:44.824Z"
   },
   {
    "duration": 60,
    "start_time": "2022-08-16T07:45:44.854Z"
   },
   {
    "duration": 5,
    "start_time": "2022-08-16T07:45:44.916Z"
   },
   {
    "duration": 77,
    "start_time": "2022-08-16T07:45:44.922Z"
   },
   {
    "duration": 110,
    "start_time": "2022-08-16T07:45:45.001Z"
   },
   {
    "duration": 202,
    "start_time": "2022-08-16T07:45:45.114Z"
   },
   {
    "duration": 96,
    "start_time": "2022-08-16T07:45:45.398Z"
   },
   {
    "duration": 22,
    "start_time": "2022-08-16T07:45:45.495Z"
   },
   {
    "duration": 23,
    "start_time": "2022-08-16T07:45:45.518Z"
   },
   {
    "duration": 20,
    "start_time": "2022-08-16T07:45:45.542Z"
   },
   {
    "duration": 16,
    "start_time": "2022-08-16T07:45:45.563Z"
   },
   {
    "duration": 14,
    "start_time": "2022-08-16T07:45:45.580Z"
   },
   {
    "duration": 9,
    "start_time": "2022-08-16T07:45:45.595Z"
   },
   {
    "duration": 1534,
    "start_time": "2022-08-16T07:45:45.606Z"
   },
   {
    "duration": 1437,
    "start_time": "2022-08-16T07:45:47.142Z"
   },
   {
    "duration": 1465,
    "start_time": "2022-08-16T07:45:48.580Z"
   },
   {
    "duration": 6,
    "start_time": "2022-08-16T07:46:38.738Z"
   },
   {
    "duration": 1457,
    "start_time": "2022-08-16T07:46:40.000Z"
   },
   {
    "duration": 1508,
    "start_time": "2022-08-16T07:46:41.460Z"
   },
   {
    "duration": 1453,
    "start_time": "2022-08-16T07:46:42.969Z"
   },
   {
    "duration": 1087,
    "start_time": "2022-08-16T07:53:21.147Z"
   },
   {
    "duration": 411,
    "start_time": "2022-08-16T07:53:22.236Z"
   },
   {
    "duration": 4,
    "start_time": "2022-08-16T07:53:22.649Z"
   },
   {
    "duration": 150,
    "start_time": "2022-08-16T07:53:22.655Z"
   },
   {
    "duration": 139,
    "start_time": "2022-08-16T07:53:22.807Z"
   },
   {
    "duration": 157,
    "start_time": "2022-08-16T07:53:22.948Z"
   },
   {
    "duration": 61,
    "start_time": "2022-08-16T07:53:23.108Z"
   },
   {
    "duration": 37,
    "start_time": "2022-08-16T07:53:23.171Z"
   },
   {
    "duration": 21,
    "start_time": "2022-08-16T07:53:23.209Z"
   },
   {
    "duration": 24,
    "start_time": "2022-08-16T07:53:23.233Z"
   },
   {
    "duration": 47,
    "start_time": "2022-08-16T07:53:23.258Z"
   },
   {
    "duration": 53,
    "start_time": "2022-08-16T07:53:23.307Z"
   },
   {
    "duration": 6,
    "start_time": "2022-08-16T07:53:23.362Z"
   },
   {
    "duration": 47,
    "start_time": "2022-08-16T07:53:23.370Z"
   },
   {
    "duration": 189,
    "start_time": "2022-08-16T07:53:23.420Z"
   },
   {
    "duration": 215,
    "start_time": "2022-08-16T07:53:23.611Z"
   },
   {
    "duration": 67,
    "start_time": "2022-08-16T07:53:23.831Z"
   },
   {
    "duration": 100,
    "start_time": "2022-08-16T07:53:23.900Z"
   },
   {
    "duration": 5,
    "start_time": "2022-08-16T07:53:24.007Z"
   },
   {
    "duration": 15,
    "start_time": "2022-08-16T07:53:24.014Z"
   },
   {
    "duration": 9,
    "start_time": "2022-08-16T07:53:24.030Z"
   },
   {
    "duration": 9,
    "start_time": "2022-08-16T07:53:24.040Z"
   },
   {
    "duration": 6,
    "start_time": "2022-08-16T07:53:24.051Z"
   },
   {
    "duration": 1591,
    "start_time": "2022-08-16T07:53:24.058Z"
   },
   {
    "duration": 1575,
    "start_time": "2022-08-16T07:53:25.651Z"
   },
   {
    "duration": 1474,
    "start_time": "2022-08-16T07:53:27.227Z"
   },
   {
    "duration": 1120,
    "start_time": "2022-08-16T08:00:49.284Z"
   },
   {
    "duration": 394,
    "start_time": "2022-08-16T08:00:50.406Z"
   },
   {
    "duration": 5,
    "start_time": "2022-08-16T08:00:50.801Z"
   },
   {
    "duration": 137,
    "start_time": "2022-08-16T08:00:50.808Z"
   },
   {
    "duration": 151,
    "start_time": "2022-08-16T08:00:50.946Z"
   },
   {
    "duration": 137,
    "start_time": "2022-08-16T08:00:51.099Z"
   },
   {
    "duration": 81,
    "start_time": "2022-08-16T08:00:51.237Z"
   },
   {
    "duration": 22,
    "start_time": "2022-08-16T08:00:51.319Z"
   },
   {
    "duration": 18,
    "start_time": "2022-08-16T08:00:51.342Z"
   },
   {
    "duration": 39,
    "start_time": "2022-08-16T08:00:51.364Z"
   },
   {
    "duration": 23,
    "start_time": "2022-08-16T08:00:51.404Z"
   },
   {
    "duration": 64,
    "start_time": "2022-08-16T08:00:51.429Z"
   },
   {
    "duration": 6,
    "start_time": "2022-08-16T08:00:51.494Z"
   },
   {
    "duration": 91,
    "start_time": "2022-08-16T08:00:51.502Z"
   },
   {
    "duration": 116,
    "start_time": "2022-08-16T08:00:51.596Z"
   },
   {
    "duration": 276,
    "start_time": "2022-08-16T08:00:51.715Z"
   },
   {
    "duration": 98,
    "start_time": "2022-08-16T08:00:51.997Z"
   },
   {
    "duration": 23,
    "start_time": "2022-08-16T08:00:52.097Z"
   },
   {
    "duration": 11,
    "start_time": "2022-08-16T08:00:52.122Z"
   },
   {
    "duration": 17,
    "start_time": "2022-08-16T08:00:52.135Z"
   },
   {
    "duration": 10,
    "start_time": "2022-08-16T08:00:52.154Z"
   },
   {
    "duration": 11,
    "start_time": "2022-08-16T08:00:52.166Z"
   },
   {
    "duration": 7,
    "start_time": "2022-08-16T08:00:52.191Z"
   },
   {
    "duration": 1558,
    "start_time": "2022-08-16T08:00:52.200Z"
   },
   {
    "duration": 1547,
    "start_time": "2022-08-16T08:00:53.760Z"
   },
   {
    "duration": 1513,
    "start_time": "2022-08-16T08:00:55.309Z"
   }
  ],
  "kernelspec": {
   "display_name": "Python 3 (ipykernel)",
   "language": "python",
   "name": "python3"
  },
  "language_info": {
   "codemirror_mode": {
    "name": "ipython",
    "version": 3
   },
   "file_extension": ".py",
   "mimetype": "text/x-python",
   "name": "python",
   "nbconvert_exporter": "python",
   "pygments_lexer": "ipython3",
   "version": "3.9.5"
  },
  "toc": {
   "base_numbering": 1,
   "nav_menu": {},
   "number_sections": true,
   "sideBar": true,
   "skip_h1_title": true,
   "title_cell": "Table of Contents",
   "title_sidebar": "Contents",
   "toc_cell": false,
   "toc_position": {
    "height": "calc(100% - 180px)",
    "left": "10px",
    "top": "150px",
    "width": "165px"
   },
   "toc_section_display": true,
   "toc_window_display": true
  }
 },
 "nbformat": 4,
 "nbformat_minor": 2
}
